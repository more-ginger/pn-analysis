{
 "cells": [
  {
   "cell_type": "code",
   "execution_count": null,
   "metadata": {},
   "outputs": [],
   "source": [
    "import pandas as pd\n",
    "import plotly.express as px"
   ]
  },
  {
   "cell_type": "code",
   "execution_count": 4,
   "metadata": {},
   "outputs": [],
   "source": [
    "country_coverage = pd.read_csv(\"../../data/places/coverage_by_country.csv\")"
   ]
  },
  {
   "cell_type": "code",
   "execution_count": 5,
   "metadata": {},
   "outputs": [
    {
     "data": {
      "application/vnd.microsoft.datawrangler.viewer.v0+json": {
       "columns": [
        {
         "name": "index",
         "rawType": "int64",
         "type": "integer"
        },
        {
         "name": "country",
         "rawType": "object",
         "type": "string"
        },
        {
         "name": "iso_alpha3",
         "rawType": "object",
         "type": "string"
        },
        {
         "name": "Latitude",
         "rawType": "float64",
         "type": "float"
        },
        {
         "name": "Longitude",
         "rawType": "float64",
         "type": "float"
        },
        {
         "name": "count_of_articles_nyt",
         "rawType": "float64",
         "type": "float"
        },
        {
         "name": "count_of_articles_zeit",
         "rawType": "float64",
         "type": "float"
        },
        {
         "name": "ids_of_articles_nyt",
         "rawType": "object",
         "type": "string"
        },
        {
         "name": "ids_of_articles_zeit",
         "rawType": "object",
         "type": "string"
        }
       ],
       "conversionMethod": "pd.DataFrame",
       "ref": "fb55963d-5c15-464a-9cbc-6b4d2bd07bf4",
       "rows": [
        [
         "0",
         "Adriatic Sea",
         "No code",
         "43.7021514",
         "14.6679465",
         "1.0",
         "0.0",
         "['nyt://article/6c5919fe-452a-532d-8234-f698a33bc15c']",
         "[]"
        ],
        [
         "1",
         "Aegean Sea",
         "No code",
         "38.06222755",
         "25.720588707973135",
         "2.0",
         "0.0",
         "['nyt://interactive/6addaf57-b7fa-5d0f-af24-ec0c3e131acd', 'nyt://article/a0eec7f0-3d63-5711-9700-9bce1b389aa9']",
         "[]"
        ],
        [
         "2",
         "Afghanistan",
         "AFG",
         "33.7680065",
         "66.2385139",
         "89.0",
         "168.0",
         "['nyt://article/bf24d7e3-26df-577e-8327-5ad156769f42', 'nyt://article/f115bed1-d4ec-51a9-86c5-4d32f76e9350', 'nyt://article/46cb81ae-222b-5033-b03f-cb208d91cb72', 'nyt://article/f341cceb-41b8-5e13-b4c3-7affb67add4a', 'nyt://article/d0c139cf-6af8-54b2-896b-afebb7e42e31', 'nyt://article/3ba1a707-be08-5a83-8d18-5d5341bf3b7a', 'nyt://article/d14635d5-9d12-58c0-91a5-36a9eddb8fad', 'nyt://article/f9386ae2-3ae0-5baf-8064-919dfdbc9e8c', 'nyt://article/1f63edd0-84c8-5a7c-abf9-85d53a74592d', 'nyt://article/32d37cf0-7c12-5d3b-ae4a-f031d0ca961a', 'nyt://article/4ba0b180-46bd-5519-b2f2-d2c0f20f756b', 'nyt://article/fa3698f7-b0e6-55dc-8503-bbcc04e488c1', 'nyt://article/0bbcc209-db15-5ed7-afa0-c8de30a1b0d8', 'nyt://article/05f83232-eb7e-5e3e-a764-54fe54003048', 'nyt://article/786b0740-8ed5-5bea-a353-056203015bf2', 'nyt://article/22c77345-c8fc-54b8-8044-881e946adaf0', 'nyt://article/eb2e5966-5909-5229-aeb5-e1c1adf0ce4c', 'nyt://video/29e82c59-3302-5369-903b-4a3cb55720ce', 'nyt://article/17ea0afa-d3ea-55a2-85a8-8799db99297f', 'nyt://article/6d8cd85e-52d7-5ea6-975d-431a232b0dd3', 'nyt://article/68d4167f-e5e5-5cb2-aaad-08de77f1e02a', 'nyt://article/296fab0b-6def-55d1-931b-e61f385d40bc', 'nyt://article/f36ce919-1ecd-5f6d-8748-40037f0c6a8f', 'nyt://article/692aefda-1ac4-5507-9b37-9aeaf74f9bcc', 'nyt://article/9f42643f-3a1e-58b0-8b05-471e25cc5fea', 'nyt://article/2f67e84d-d1c4-5419-b780-b0108851a334', 'nyt://article/f03fae5a-e626-5e9d-b0e2-4b339c9b0bed', 'nyt://article/224d3b62-d489-5a2f-91c0-6a46346661ee', 'nyt://article/0854fc1c-6794-5407-a410-c4e54329fd73', 'nyt://article/f3ffe4d3-01d7-5464-a725-6f402e4384a8', 'nyt://article/85b88725-7f8f-5058-98da-25161dabd136', 'nyt://article/c93658c8-63ea-562e-896b-a5a3fd1b9ffd', 'nyt://article/44a10f67-d02c-56d0-9f9e-7da36dbd93ba', 'nyt://article/18ed351f-33f4-5712-aea6-1b69cf8b71ca', 'nyt://article/77d3ba07-71fd-55e9-8260-077d40e7e7b0', 'nyt://article/19f90532-f2bd-5a00-9df4-72159380cc93', 'nyt://article/c626e64c-ed66-5d21-ac87-486bc0da2be8', 'nyt://article/fa4f938c-3999-5899-9b9a-87dade1e9109', 'nyt://article/743db14f-34bc-5234-8e83-636c558578cc', 'nyt://article/b1179855-fe4a-503b-9086-32a9d44ba791', 'nyt://article/6228d681-5c79-53b9-b6f5-e585b587346b', 'nyt://article/7f712518-1080-590c-818e-3f183d5ab9e2', 'nyt://article/7d2a7a01-0235-5e55-9393-79ed5a8837a3', 'nyt://article/d628ac24-8c04-5861-afff-3f2bb873742b', 'nyt://article/32b2f331-8909-5df2-b55c-c0b2e563860d', 'nyt://article/8481a933-d337-5c0e-8855-731556cffe07', 'nyt://article/c47b9632-5b0a-510d-8386-74c70370438b', 'nyt://article/f6178677-9c32-5afa-b988-01d15ea68899', 'nyt://article/c9a7aa82-bfba-57ce-8345-2fe996c2f588', 'nyt://article/76935c0c-a9ed-5495-aa1e-938494ed1a7a', 'nyt://article/fd15543c-174a-5c4d-9628-522e0e9a6768', 'nyt://article/a0c9f4df-26d4-57b3-917f-4b7c7febe0f5', 'nyt://article/508aec2b-c1c4-573b-b295-91f4d8364552', 'nyt://article/620575aa-9d01-5858-abff-b88aa5a78c27', 'nyt://article/0537b6b9-571a-539b-af8c-fc72f2873096', 'nyt://article/c534fef0-8bda-59a7-b7fe-14ee196e4e71', 'nyt://article/5838cab0-6078-5c8d-8c25-78f9b152d105', 'nyt://article/c7e16118-94fc-55a9-90f6-91271aa69c8e', 'nyt://article/4487764e-f7d2-5a32-aa38-fbd96d8e4dd6', 'nyt://article/e5652440-552d-5b51-abd0-643d43eac6c8', 'nyt://article/40316d75-4573-5cb4-97b5-d6c4968d4fce', 'nyt://article/f44d83b1-2253-5fc9-b71e-b66295c7cc8e', 'nyt://article/67761cbe-2ec6-5e32-b6f6-6e6a5a4eabee', 'nyt://article/6ec05f2b-a2b3-5190-b9e4-3bed75594a0f', 'nyt://article/aef01dcc-7440-5174-8f8b-dd5b813e2d43', 'nyt://article/b76ea1ba-2191-5f8d-8758-f125e627cda8', 'nyt://article/c5a3a331-6d04-585c-b237-505d9fb9f508', 'nyt://interactive/fda805b2-2b2a-51c0-b44b-0a6a357a30a4', 'nyt://article/818a8358-54bf-59af-b02b-ab789f7753b5', 'nyt://article/1ea25afb-f7f5-5873-8da1-5fbdba9ca782', 'nyt://article/027c7bf8-68aa-515e-95a6-f5eea8048f65', 'nyt://article/afe74c10-e930-55fc-9186-2163146355b1', 'nyt://article/f0883555-c784-56cd-8272-ba1113b1920c', 'nyt://article/d3fd6ae0-dee3-53bc-89cf-20ec83c40234', 'nyt://article/c20000bf-0d4e-5023-9e9f-8e65e3d98cef', 'nyt://article/c2eb44e1-4e49-5cb3-ba8c-1953156a9752', 'nyt://article/78d591a3-fb7a-5b66-9a94-77e03dacb73d', 'nyt://article/518634fb-02c7-5186-94e2-c9a6b42e410f', 'nyt://article/7d382142-6b6f-551d-8484-6e35963ad993', 'nyt://article/5fe584a4-4686-5efa-8baf-67778ace59e7', 'nyt://article/e618787b-82dd-5aad-995f-2d34b7bac54f', 'nyt://article/f7b22ddb-7134-5785-8c9f-92462d75dd58', 'nyt://article/fbfdc8b5-31b3-5dd8-a1ae-fe3f871b745f', 'nyt://article/c96f4245-1467-5b45-b131-fa10275af954', 'nyt://article/78b8c3a3-7029-557d-a8a0-1e2567a4e993', 'nyt://article/7b8fbf6e-0c80-52bd-977b-e38aa98ca567', 'nyt://article/6f7e716e-6df6-598f-a673-d389d1642f8c', 'nyt://article/1eddbd46-8c2d-5754-8440-bb35e43e39d0', 'nyt://article/b35fed90-4f6c-5090-a650-c9b3416cfdb6']",
         "['8298581376', '8184489802', '8478156165', '8150114982', '8081278930', '8097776014', '8099047804', '8292508921', '8462578158', '8164945995', '8161233209', '7986108244', '8360351797', '8457005988', '8174239720', '8472648132', '8016437106', '8298794038', '8268111549', '8455606833', '8293688623', '8231440062', '8313553692', '8275731023', '8180396507', '8161269188', '8375634938', '7981009609', '8417130934', '7953794620', '8275053323', '7961220788', '8310599013', '8254033875', '8276181518', '8176130532', '8432919614', '8210594843', '8117904339', '8294338236', '8313407266', '7917064049', '8296853152', '8095277774', '8294861501', '8133803533', '2024-08-467357317', '8299185435', '8286938242', '8427677856', '8043613454', '8274572681', '8432490067', '8297254060', '8234728623', '8163642147', '8299256646', '8295863500', '8253584021', '8283878066', '8135363884', '8072821993', '8377983069', '8168514078', '8259625760', '8299130407', '8185525210', '8148907505', '8180459372', '8286834070', '8288233756', '8431459289', '8283658236', '8318448566', '2024-08-452974696', '8275538340', '8387649451', '8349684238', '8162651098', '8299212539', '8444733358', '8247062835', '8292589355', '8164347495', '8160209083', '7972700474', '8404072150', '8265360654', '8121419602', '8299419200', '8122315789', '8351394851', '8180096441', '8046019803', '8364751866', '2024-12-567099616', '7994851079', '8298852890', '8301095711', '8428897934', '7916145827', '8300641537', '8336619812', '7919288839', '8298959921', '8055988629', '8120734902', '8296509473', '8412654936', '8209030346', '8164165578', '7986147588', '8399169027', '8299051332', '7989415005', '8212057597', '8299347963', '8299069620', '8298803697', '8243307848', '8300484288', '7923271163', '7979713876', '8160248394', '8433653719', '8292934206', '8199557279', '8163733860', '8318779643', '8123466285', '8196693941', '8174423944', '8081861867', '2024-11-535659915', '2024-09-478123706', '8442923943', '8298852892', '8166283208', '8335933152', '8317842539', '8277631139', '8292417248', '8185065565', '8384891254', '8037483645', '8361318537', '8471093226', '8133903831', '8209981250', '8165680687', '8291484227', '8028221984', '8420781936', '7959184276', '8282587194', '8128549924', '8293953653', '8444269862', '8186226247', '2024-09-478036591', '8208530882', '7961400067', '2024-09-473899727', '8166722711', '8176125898', '7935831789', '8113928360', '8299714359']"
        ],
        [
         "3",
         "Africa",
         "ZAF",
         "11.5024338",
         "17.7578122",
         "199.0",
         "0.0",
         "['nyt://article/e4d46fbb-0e78-5c0f-8bbe-9caa617950e5', 'nyt://article/261dc75b-e9ba-583b-89ab-2976430167a7', 'nyt://article/3730b3b0-c048-55cb-812c-11e45922ec8f', 'nyt://article/03a99a6e-03a0-5090-9b15-24da536dba2a', 'nyt://article/3d011bc2-3b5e-5ead-a2a5-58cc33e701ad', 'nyt://article/255c6277-c3eb-5432-a2db-ae1e035a7180', 'nyt://article/ee54cef2-ec4d-54e2-a413-0a534473d33f', 'nyt://article/1a458b6c-557d-5d53-be61-14baa3c0e148', 'nyt://article/aba101ee-b370-5aa5-bc83-d9e347daa2de', 'nyt://article/1a870742-7dc9-5dff-be4d-eb18e5fe5256', 'nyt://article/7b8d5bef-f808-53f3-bd94-d305faae069f', 'nyt://article/22ae90a5-47fd-571d-8389-0df2021b253f', 'nyt://article/a3fd08c1-e5b5-5902-8aef-7c9b324858ec', 'nyt://article/a9962952-192e-5563-9f98-23b0762e03c4', 'nyt://article/1d72cbca-622b-5cd7-8153-d8e27af1c606', 'nyt://article/e653d41b-9b52-56cb-8ec5-9b32895e1e53', 'nyt://article/02f25d77-89a1-5425-b9e1-4327fa80ce37', 'nyt://article/1718e52c-6ac5-5b5b-91e9-9e7d26b2de6c', 'nyt://article/1daf3f01-1282-5ee1-b15f-33d4d2ed1c6a', 'nyt://article/415aea4c-2180-5418-ba50-e6bad35343b2', 'nyt://article/a01b65da-3778-5be2-9fed-01d6b83456dc', 'nyt://article/5fa2ec03-ba22-5aef-a8dc-c6c9696687d2', 'nyt://article/08943ce5-2595-55a9-9fbc-f621a23621f2', 'nyt://article/bd0dd243-f788-55e5-a3f3-2b77b4708d68', 'nyt://article/2b997912-aa85-5027-b47d-75a03dff5e20', 'nyt://article/581452e5-8317-5dfd-b49d-328fabea1e95', 'nyt://interactive/60f082b7-0030-571e-a0a8-9cb88f5ba109', 'nyt://article/12bb04ae-3579-5e7f-9990-4a2be9ec311b', 'nyt://article/09ffb689-5efd-5c3a-b678-7c37180810c0', 'nyt://article/0fde90a2-3555-509f-9f1f-26892977d8ac', 'nyt://article/a1c6563a-fb87-592b-bbf0-fe2ebc9e88b1', 'nyt://article/6115348c-8c09-5693-9c59-f38ec9b2ac35', 'nyt://article/6a7701e1-8497-56c5-941a-b60f7bb87839', 'nyt://article/6e1fb917-1bf0-5d91-accd-97d7cca64cc2', 'nyt://article/a21ec7b3-a1e6-5aae-9498-dcf0f6736877', 'nyt://article/92330159-766f-5471-a44e-5183bf9c0b20', 'nyt://article/09ee7f81-a9b9-5fe4-a78b-da4d4e7b495d', 'nyt://article/e00ebadf-3c04-5e16-9dc4-36303c378e41', 'nyt://article/db9bd694-eeef-5b7c-90d2-339096f5e59d', 'nyt://article/60598b3b-946a-5b6d-b1b3-6aeab4162e18', 'nyt://article/c7b2361f-9a49-55cf-9549-031b1ac2722b', 'nyt://article/00280f0b-a8cd-54cf-9d70-adcf0209c281', 'nyt://article/8d866937-2318-51bf-869a-456be1f2a7b2', 'nyt://article/244cb9fb-1377-51ff-8221-63c988ea0b66', 'nyt://article/63d78256-7141-57e3-a68b-d505a4f59337', 'nyt://article/bcf985cd-fd32-5790-a806-14aec17c69b7', 'nyt://article/16464684-4c6b-5a60-9440-dac0874f2285', 'nyt://article/21c8f051-1de8-59cf-9c04-b3a1ac116289', 'nyt://article/af22806c-5e25-566e-988b-541a5ef200e4', 'nyt://article/23b21af2-b2fa-5763-8f73-eba2f4d72e55', 'nyt://article/af799cee-5530-508a-9151-4ea8953969ad', 'nyt://article/79916a15-0c96-5eb3-88e5-9c174d2bb4a3', 'nyt://article/68ed5ab0-0f9d-55a4-a800-71b89bbcb28f', 'nyt://article/0f142927-e1b8-5e2a-bdef-16baf1605898', 'nyt://article/54cf6fad-d579-5d34-ae9b-da8391ac37b0', 'nyt://article/56d1f933-062c-54c1-9f34-017323358de6', 'nyt://article/4b02bd92-7924-5305-89a2-7ba769c9768f', 'nyt://article/3541e1b8-3fd1-59a3-ac81-b7bb4300efe8', 'nyt://article/10d0ab4c-99ab-5790-a1ae-ba8e256bc8d2', 'nyt://article/f8353b01-d88f-5013-9b1b-1ced66fc5f42', 'nyt://article/dba9aa49-b2da-56de-84b9-c5e884dcfdb2', 'nyt://article/047e6843-2d41-5ac8-beba-3d6043aabe0d', 'nyt://article/1eb31c50-94d2-587d-b384-984b391b3735', 'nyt://article/d2bd66b9-b44d-5d97-98c7-b558637439ad', 'nyt://article/da198874-4d46-5562-9764-177b80cd0b7b', 'nyt://article/e31e3a66-279f-5a10-8f7b-5292aaeafc62', 'nyt://article/d41f915b-24b5-50ab-8516-e339cc8cc3ed', 'nyt://article/b8004aeb-98a5-5078-9924-844a259dd9e8', 'nyt://article/22edf542-d819-5470-874b-7bd9e3ebff83', 'nyt://article/42a46de1-94a2-586b-92d6-08326bd66f87', 'nyt://article/2124da13-72c9-5ec9-a39f-cf25256822d9', 'nyt://article/db8b488a-2f94-5303-8491-9f263f4a14fa', 'nyt://article/52534b46-8ecc-5522-8a19-2c3dee24ec73', 'nyt://article/cae1375e-ed0c-5637-8ea3-dbbd109743e6', 'nyt://article/29bd529f-432a-5717-ad45-fe2ff4789bfe', 'nyt://article/53f22f58-2801-575f-8668-56a052078ce4', 'nyt://article/12745a73-8eee-537a-b1c2-d7c566ad0d44', 'nyt://article/349ee346-09b0-5114-938b-6c471d0a9aa1', 'nyt://article/e4c8f782-713d-524d-839c-27ac65c932c9', 'nyt://article/1e6e59ac-8865-5109-931d-6c231cdeef2d', 'nyt://article/d187d86e-a1f5-52ae-ac10-a27d8ad0dcb0', 'nyt://article/e7fe4a3e-ef01-5c90-b572-7c22a4e7784a', 'nyt://article/bf77cc3c-2d4c-54d9-8ae9-e8dfce0fb9f9', 'nyt://article/f99ea5a2-b950-53f2-99f7-5ee1473fed0f', 'nyt://article/319ca53c-7212-54d1-8c16-e1bef283a28a', 'nyt://article/2450e037-f76d-51dc-8e60-9977062a7e0d', 'nyt://article/f52501cd-277a-5275-865e-0a59491c2f06', 'nyt://article/0bfc1f4d-f3b6-58b6-b8fd-392a0beb93cf', 'nyt://article/bb0312c2-aa59-50e1-ad3b-86d924cdc54e', 'nyt://article/c5fbdca0-e1f8-53a4-a6c7-33fddc6ea359', 'nyt://article/1dfe1dd1-4683-5496-b7d8-ac104d563057', 'nyt://article/7da9840c-fd51-5ca4-992c-2aaaa5d16b3e', 'nyt://video/de9700e0-96c6-55de-8b39-64a5831607cf', 'nyt://video/bc445114-120a-5b39-aa31-8b201851882a', 'nyt://article/287d15e9-b5bd-5eb3-9d19-a4369c8f705b', 'nyt://article/0318503d-be6a-5840-896b-c4fe42835c5a', 'nyt://article/f32ede2b-e191-5498-b2a2-ddce162b78e5', 'nyt://article/f814e44d-c0ea-5658-b338-9952f1f123a1', 'nyt://article/83613aa0-1347-515b-afdc-1e458d87b7c1', 'nyt://article/761bb072-168b-5772-b035-29445430eafb', 'nyt://article/631951aa-c4f8-5e68-bacb-4c46250dc329', 'nyt://article/9b1d1ec5-5ac4-5f93-8013-335e04ec9de7', 'nyt://article/3d0a2434-05b7-5d96-a800-e28b6bc6b071', 'nyt://article/34e514ce-6ebc-58f1-bf4b-d750eadc447e', 'nyt://article/7c00adaf-e22c-58c2-b366-ba96cf84ce87', 'nyt://article/559d67aa-d4d3-5fe5-8b6d-31a2d87cb016', 'nyt://article/897a0e53-6076-5a98-bb28-4d7d3df155a4', 'nyt://article/c60b81b2-f8c1-55c8-a87c-e8b51264fb10', 'nyt://article/e88d421a-f191-582a-83d1-7cf8493b6987', 'nyt://article/8e9c68f9-7b15-536d-a7c7-9b34671ab74b', 'nyt://article/d4736f76-795c-5ae1-b47d-6498bf208eb1', 'nyt://article/278615cf-39bc-5967-965d-9db5c5ea3315', 'nyt://article/2902de89-7c5b-55ba-83fd-b7bc854f632d', 'nyt://article/a7da46b8-0edc-5f32-be69-cb07fd5bbf4c', 'nyt://article/8efa8276-dbb0-55a7-a656-c56a4e4d328d', 'nyt://article/36e8adce-7862-5060-a20d-0bde50e726e5', 'nyt://article/6aefe6c3-ed07-5f7f-bd9e-b019f33fe902', 'nyt://article/f0140bc7-842a-55f6-a0b0-2993e7c1dd6f', 'nyt://article/8212b465-b268-54a3-8280-7d1d8d2071f7', 'nyt://article/ac5369ab-9399-5d35-8562-20935e7d7e1c', 'nyt://article/887c59f5-0b74-52a8-9883-c449ff88fe64', 'nyt://article/9550ed3b-d19a-5dfb-81b8-fa5b6be9c404', 'nyt://article/de5d2cfa-6811-510c-aded-0a3c48c11659', 'nyt://article/67c33467-d217-58ea-957f-08a6fac7a4a8', 'nyt://article/69a3d453-aed3-50b2-a7d2-4651a47fafdf', 'nyt://article/eb3c83f5-72af-5bb5-89d5-e228241da67b', 'nyt://article/95dc143b-84d6-5407-af03-84d244885af5', 'nyt://article/c86bcf7b-7170-56f9-8404-65c13a813a79', 'nyt://article/96a554d7-a595-551a-a136-e693588841a0', 'nyt://article/2028ab73-b945-5eaa-85ae-58945f6df85f', 'nyt://article/aecbcefc-2e93-54a4-8b76-dd6122d4345f', 'nyt://article/30ac1edb-2b1f-5a38-a14f-39273ba9cb81', 'nyt://article/37b141f4-57e3-5d4a-bf4c-56347d70a5ad', 'nyt://article/b76ea1ba-2191-5f8d-8758-f125e627cda8', 'nyt://article/1af67bb5-b8a4-5149-9e04-1f7ae4d2ffe6', 'nyt://article/4632f1ee-5849-5296-baf0-6d59c6082827', 'nyt://article/cd56dd44-42f6-5c0f-9d2d-6ae931e2d97f', 'nyt://article/0f246c7f-0651-584f-8f4e-7c4d7a26675e', 'nyt://article/03b24e44-d933-5256-ace6-7bedcf5f8c28', 'nyt://article/3bfab5b4-7b6b-5991-84ee-bfff92f65861', 'nyt://article/d2c6f481-0408-57f2-a871-e32dcc120554', 'nyt://article/7c222beb-de75-5309-a5d1-e06d0a1d4693', 'nyt://article/2cead087-fe59-5f15-98cc-49949e08256d', 'nyt://article/1f6e5718-307d-500c-adff-ec3e3d61bb12', 'nyt://article/605d7f5c-bbec-5059-86a6-7d647a8ce7a5', 'nyt://interactive/ae33a77a-7002-542b-af09-9fb0ece51b01', 'nyt://article/2277a789-ee94-54d6-b682-171604883d76', 'nyt://article/acd20332-7d58-52b0-af07-1e411c87bd05', 'nyt://article/f53c045c-2311-55c4-9658-01bb0ae3311e', 'nyt://article/70884c44-d53c-546f-9127-a06965a947f1', 'nyt://article/99085047-2746-5ccf-b239-fd601fb6ac0c', 'nyt://article/d12e3ef2-0583-585c-88a6-e57e084f643f', 'nyt://article/1b8fe781-3948-59f8-98df-602b7a9b43d8', 'nyt://article/f6923802-fb06-5bf1-8ead-a4e239606616', 'nyt://article/a988d12e-2d3e-5812-8e59-4296e40b202f', 'nyt://article/c2ae5cf2-31fc-5962-98b0-53d4cd17d520', 'nyt://article/a1e579fc-27a3-546d-b5cd-47ca1b5e9483', 'nyt://article/9e14102e-6776-51b5-8bcd-807957c63b32', 'nyt://article/a574a94c-5c5c-5358-9a91-cd7d6eca9dbe', 'nyt://article/780eb804-a9fc-510d-a8cb-d756c7c2e770', 'nyt://article/6f98bca6-f886-5b1e-bc0e-60f149f992cf', 'nyt://article/61d3e7cc-f050-53e0-b15d-a323d82f05fe', 'nyt://article/c5ff5497-b897-51d8-ac73-b2801f7f720e', 'nyt://article/115ae2a3-1305-5cf4-bacf-a292dd0026fb', 'nyt://article/ebd9cd3a-f412-5583-a3d5-7c4058d8f7b7', 'nyt://article/2f41cb12-b6ad-5c03-92a7-33c7b348521c', 'nyt://article/238e3548-c965-53ec-b927-435801b96289', 'nyt://article/780455ce-e608-55c8-a6ec-ab70ae063ffa', 'nyt://article/bd55f4ba-65f2-543d-9b82-cdd90befdbbd', 'nyt://article/7564d810-e528-5cd2-b6c9-39811c950316', 'nyt://video/65648182-015d-5cb4-91d6-7c9b9de8ac19', 'nyt://article/741341eb-23bf-5c3a-8fe9-d081f93d4b49', 'nyt://article/f2d8fdc5-e573-553b-90d7-89dac4afd5ee', 'nyt://article/a7aeec8f-6abb-595d-bceb-08e77159f3c0', 'nyt://article/d01dffe3-9c74-551b-bbbf-eac1e1c17319', 'nyt://article/53118789-4397-5531-89b9-9058ba300f0c', 'nyt://article/c9795436-ab8b-527f-ab17-6181c26b44cf', 'nyt://article/baf2cdba-f056-5544-91a2-ef5dc37bad1d', 'nyt://article/4ff0123d-daed-5869-94a7-48c73ddf6491', 'nyt://article/95dff9e4-43b7-5011-92b4-a66c8aff11f3', 'nyt://article/6fadd6f6-536f-538b-8c4e-08f001b3a2ce', 'nyt://article/e0c56701-55d1-56f4-a1aa-ef9972d01ccc', 'nyt://article/b31bf7b8-fd6a-5c88-b518-a92505671024', 'nyt://article/5df94182-64b8-5f64-9cec-1bc3edc769c0', 'nyt://article/9153fa00-7519-5e57-bc09-1147b87c073a', 'nyt://article/b472a426-1803-590b-ab5d-a81aea32a425', 'nyt://article/f42b7506-616d-545f-b15c-6fa62717700c', 'nyt://article/b82f9259-712b-5f24-ad19-c7c4641782b8', 'nyt://article/86adb88f-b177-55d5-b0bf-6f9391303ea7', 'nyt://article/c272af05-a534-5fed-8c81-b5f193e467a9', 'nyt://article/74d484af-79a5-5b2c-8f07-5b8f014a4bf2', 'nyt://article/4cef5b08-76f9-5e21-97b5-f827281cf318', 'nyt://article/b1d10a0b-0958-5a2d-932a-575ab2449d7a', 'nyt://article/2be5703b-af16-5aff-83f5-bea3e04e187b', 'nyt://article/722a8687-4a4a-53d1-8356-d706c5104b93', 'nyt://article/6af3ed7b-6a79-55ac-bd4c-0cb3b0c33c40', 'nyt://article/469a02da-7113-5a0e-a18f-d2f522a4c2af', 'nyt://article/b792e806-eb4a-5489-b55e-3d9ed9f2301a', 'nyt://article/1833a84a-13c9-5d3e-ac8d-e7d75a7c0288']",
         "[]"
        ],
        [
         "4",
         "Albania",
         "ALB",
         "5.7587654",
         "-73.9151617",
         "20.0",
         "61.0",
         "['nyt://article/c81db80b-5820-56a0-b426-1466f04cc2a4', 'nyt://article/59eb4293-7d0a-558f-9c26-d85c3fb5741f', 'nyt://article/5f3da01e-323c-5b51-a9b4-1e366ca4387d', 'nyt://article/44fa3867-f97c-51a3-ab48-0e8d7efdbb1e', 'nyt://article/68d601c6-5e2e-5646-8c14-c73d2ef5085c', 'nyt://article/15f3afe3-9972-586e-aa7c-0175ec333618', 'nyt://article/13c9d470-bca8-59f9-925b-072292e2352b', 'nyt://article/92b0cac1-e2be-5a3e-ae7c-551df5ec6b11', 'nyt://article/be52e475-dfa4-5634-bdd5-fdf4d2b69be0', 'nyt://article/136bb0d6-4b71-5206-9689-0e34310b709c', 'nyt://article/17de74c5-18b4-586e-bdb3-82a369a8a50a', 'nyt://article/fd3c8744-b72a-56d0-b29c-ef4f292d731c', 'nyt://article/2c538877-45d0-5a80-872a-728972f0c999', 'nyt://article/ad206b8a-4281-589f-91ba-f9849978c204', 'nyt://article/bcf2baf9-10e4-5340-a5b4-bb14266e6a27', 'nyt://article/10fad6f0-3d46-58ea-993f-e72f0a7b493b', 'nyt://article/f49db6ce-476b-51b0-99a7-76006cd4a49f', 'nyt://article/ad09c31e-d0a6-5487-83f3-eb9972ed073c', 'nyt://article/380a2ab1-a034-554f-946a-b25fa746ae03', 'nyt://interactive/d5d460ca-b437-599b-a886-ec5fc49a6fb0']",
         "['8374221914', '8406497605', '8406583117', '8365733297', '8315286558', '8050469439', '7947845006', '8002055398', '8242964775', '2024-02-264760947', '2024-06-401393631', '8169094584', '8089335377', '8180215495', '8179723756', '8433021264', '8410022601', '7990982035', '8005315340', '8367802193', '8005868930', '8225665343', '8203909890', '8186295713', '8248493478', '7938624092', '8369704408', '8145324281', '8193538106', '8196430649', '8434938101', '8021601185', '8388050744', '8349624540', '8163190458', '8354010590', '8191624300', '8364439087', '8468377355', '8362307830', '8363644781', '7931853466', '8090564553', '8167569926', '8180058246', '8411747332', '8371392679', '8163010434', '8425182347', '8425222503', '8328138814', '8193819695', '8185541205', '8128033262', '7989943383', '2024-06-395877363', '8384144335', '8364148705', '8182666932', '8367494937', '8458717654']"
        ],
        [
         "5",
         "Algeria",
         "DZA",
         "28.0000272",
         "2.9999825",
         "12.0",
         "20.0",
         "['nyt://article/10d2b94d-28ba-56d0-8d03-525b1906293b', 'nyt://article/b9c4ebce-a56a-58f3-bdb9-62179c7029b4', 'nyt://article/c69238f9-653e-5c4b-ba49-d9b2e3d8b2bd', 'nyt://article/fed7e561-15dc-5cb7-870e-895125df9acf', 'nyt://article/fd855963-a0f8-5535-9255-1ca4576d60a6', 'nyt://article/ee4e0fa8-7f1e-52e0-823a-a95c4ecc15fe', 'nyt://article/8b749158-551b-5a43-8209-e683c4490bae', 'nyt://article/5abcdb10-f0ea-54bc-90e1-78d0a2b33ecf', 'nyt://article/7d1db0bd-0a23-5438-b13f-4766a97fb06b', 'nyt://article/1cd65247-4ab7-5565-bb58-74689c599ac7', 'nyt://article/28152675-18ca-5058-9e7a-0051f44f9b50', 'nyt://article/2f548189-1651-568e-9dd7-e7f9a68731b3']",
         "['8257833741', '8223378425', '8150923868', '7953564604', '2024-09-478272199', '8395208814', '2024-08-442472570', '8312364949', '8360932152', '8312497327', '8267695180', '8266623319', '8431399588', '8417130934', '8187236825', '8260191710', '8144845675', '8251458400', '8372977962', '8022460745']"
        ],
        [
         "6",
         "Angola",
         "AGO",
         "-11.8775768",
         "17.5691241",
         "11.0",
         "8.0",
         "['nyt://article/03b24e44-d933-5256-ace6-7bedcf5f8c28', 'nyt://article/f6923802-fb06-5bf1-8ead-a4e239606616', 'nyt://article/74d484af-79a5-5b2c-8f07-5b8f014a4bf2', 'nyt://article/b31bf7b8-fd6a-5c88-b518-a92505671024', 'nyt://article/4b02bd92-7924-5305-89a2-7ba769c9768f', 'nyt://article/d96e87c8-50e5-5a24-b29b-272a018d723b', 'nyt://article/37b141f4-57e3-5d4a-bf4c-56347d70a5ad', 'nyt://article/559d67aa-d4d3-5fe5-8b6d-31a2d87cb016', 'nyt://article/2277a789-ee94-54d6-b682-171604883d76', 'nyt://article/2e185f07-5b16-56ff-995b-212c0018e589', 'nyt://article/ac5369ab-9399-5d35-8562-20935e7d7e1c']",
         "['8103094764', '7927847804', '8097005428', '8252156683', '7977591188', '8355577589', '8355299812', '8443900057']"
        ],
        [
         "7",
         "Anguilla",
         "AIA",
         "18.1954947",
         "-63.0750234",
         "2.0",
         "1.0",
         "['nyt://article/f6c99838-b3b5-5508-a14a-357cb7c42d92', 'nyt://article/001ebcf5-8b57-57d7-afe3-26bb3a2e4f1a']",
         "['8067913106']"
        ],
        [
         "8",
         "Antarctica",
         "ATA",
         "-72.8438691",
         "0.0",
         "0.0",
         "15.0",
         "[]",
         "['8407599807', '8175645308', '8050591641', '8091262969', '8176161098', '8461867724', '8434747526', '8380392922', '8097811126', '7974478524', '7987365749', '8461033440', '7935735187', '8153523389', '8435213781']"
        ],
        [
         "9",
         "Antigua and Barbuda",
         "ATG",
         "17.2234721",
         "-61.9554608",
         "1.0",
         "0.0",
         "['nyt://article/3cf30e2e-4bf3-5f1f-af6f-aa9773efe580']",
         "[]"
        ],
        [
         "10",
         "Argentina",
         "ARG",
         "-34.9964963",
         "-64.9672817",
         "44.0",
         "105.0",
         "['nyt://article/1d2d3229-b186-5df5-b756-7e500c6668d8', 'nyt://article/a99dfc90-8ec9-5ef3-9dbe-bc857998e1e2', 'nyt://article/74baa352-8b59-5dcc-8860-e32fec0b62bc', 'nyt://article/cfc01a13-3a0f-5cbe-b7fb-8a0a75aa2e7b', 'nyt://article/e4134b26-a1be-5f8b-9d47-eae4a67a23ef', 'nyt://article/3818d5f4-005b-5616-afe6-9b8db158f09f', 'nyt://article/1ea6bcf2-2f27-5f75-aa3b-fd4046b44675', 'nyt://article/5d1a570a-0696-5b4f-be60-f69d52a1d879', 'nyt://article/3d67c170-96cb-54cc-8b42-7845902fdfcb', 'nyt://article/475ea9ff-e236-58bd-bfdc-49dfaae0d831', 'nyt://article/b9a303f3-30f8-54a2-b832-08208d450b40', 'nyt://article/4df073f4-1596-5562-aa78-07ec712dc7be', 'nyt://article/9946f1a9-a0cc-51e0-bdd0-b8f9f8cb3d06', 'nyt://article/3aaeb7b3-1a33-5168-97b1-1ca24cf1f118', 'nyt://article/e483708c-0316-5b43-9b92-30a2a91e8fef', 'nyt://article/90e7e151-69bb-5749-a07f-d18f9ccbe36c', 'nyt://article/221939ef-96f8-51ee-9c87-65d2d5981c3c', 'nyt://article/5a9a074c-cc81-50ec-9f0b-1db2d8fb80f3', 'nyt://article/5b50499e-5f14-5ecd-a041-f84fcdea3f60', 'nyt://article/2b710b52-6468-50b0-ac03-c9fcb13b5372', 'nyt://article/f0b09808-e907-54bd-a1c2-bac77b4251fd', 'nyt://article/f13f2793-c067-551c-bf53-9cdeac32662c', 'nyt://article/34782eaa-d21b-5d6b-a93a-89c01bb9eeb7', 'nyt://article/267c0ec5-75a2-57fb-89df-4fd23864c464', 'nyt://article/aad53d3e-9be5-535d-bf3a-2bf6928ebb12', 'nyt://article/8cfb8494-98c5-5571-8e6c-bcbbe1ebcc16', 'nyt://article/00e0f356-2373-5e9b-bb2b-81a6336637c9', 'nyt://article/7986a013-d6b2-5c7e-99e8-df71a6c61543', 'nyt://article/d27e0023-27e9-5a8c-8587-801d82bcb130', 'nyt://video/305af542-d1ec-591e-a15d-efe50ac80e9c', 'nyt://article/4c6f979d-2a8f-59ad-9b08-36dca4221207', 'nyt://article/a02da02c-b650-558c-bbf3-8df0b92a66a0', 'nyt://article/c5f16ceb-bd2b-5cec-9bf3-0ed54688258b', 'nyt://article/6dfa8a78-2369-5d1a-b7e4-d43a8dea481f', 'nyt://article/75a864c5-04f2-59ce-95ff-4615065d9c00', 'nyt://article/a68be4e5-8037-5573-a0c1-5190126401d1', 'nyt://article/2ee149a0-7bcf-5125-9d4d-8832a20740ae', 'nyt://article/287d15e9-b5bd-5eb3-9d19-a4369c8f705b', 'nyt://article/31999821-d491-5371-beda-da668f7f26ac', 'nyt://article/4fef2cc5-0b94-5b17-8883-79246953c5f9', 'nyt://article/7e9536c8-c196-579e-89b4-17bb11f1a6b9', 'nyt://article/4c187095-1104-5fdf-bbc3-a910372322ad', 'nyt://article/f7937c5e-ddc5-5654-b164-b46dd6cdd82a', 'nyt://article/b422f862-8d0f-5eca-908e-8d7d08b1ec07']",
         "['8464593072', '8215999185', '7988251623', '8288657154', '8388866296', '8080961924', '7994080988', '8305821322', '8064445570', '8113470276', '2024-12-575686334', '8175115550', '8065740477', '8445685932', '8337419821', '8318542745', '8401194392', '8442292773', '8444679450', '8474580289', '8412434061', '8075426096', '8025583742', '8341299272', '8193208826', '7992011421', '7962373318', '2024-11-544349826', '8018111970', '8017817006', '8119416360', '8007613368', '8129192754', '8127719285', '2024-07-415679551', '7967983036', '2024-11-545663829', '8053322840', '8193488644', '8079149619', '7966164992', '7988257965', '8191565041', '8367389843', '8205251828', '8112856658', '8112771630', '8410346229', '7976255359', '8441542667', '8017835273', '8152008740', '8480458288', '8200904586', '8221454107', '7987110584', '7916841041', '8081581463', '8177099096', '7949575959', '8190941241', '8135950118', '8229166493', '2024-12-577287880', '7961076871', '8107650123', '8113469563', '8213431999', '8189817805', '8031820846', '8370814444', '8367016104', '8093737961', '8257846965', '8189864683', '7935011556', '8444188984', '7948123304', '7955866320', '8457216732', '8462824268', '8129100304', '7980744224', '8076967693', '8136615486', '8190639242', '8219717590', '8026783836', '8319603570', '8114055431', '7985480077', '8062325863', '8061405061', '8264080242', '8086756689', '7957243652', '8388978797', '7992667698', '8035542258', '8146389529', '7960796962', '8403754136', '8190481481', '8048541120', '8217926924']"
        ],
        [
         "11",
         "Armenia",
         "ARM",
         "4.491976149999999",
         "-75.74135085294314",
         "0.0",
         "23.0",
         "[]",
         "['8280589979', '7977354095', '8118404699', '2024-08-454211013', '7958856100', '8144892346', '8119784422', '8338997463', '8003040691', '7947901294', '8410633049', '8124920336', '8025067684', '7989415005', '7954043219', '8228461267', '8443072277', '8153438269', '7967473451', '8002060906', '7970507011', '8031664601', '8147988695']"
        ],
        [
         "12",
         "Asia",
         "No code",
         "51.2086975",
         "89.2343748",
         "0.0",
         "2.0",
         "[]",
         "['8135566313', '8271305211']"
        ],
        [
         "13",
         "Atlantic Ocean",
         "No code",
         "13.581921",
         "-38.320312",
         "25.0",
         "0.0",
         "['nyt://interactive/eaf9bafe-7188-5b9b-975f-2985d7da6e59', 'nyt://article/ca141b33-4621-541c-a59e-3860e5487db2', 'nyt://article/263d8349-38f5-584c-b13b-935d0c778739', 'nyt://article/4f888723-08c3-5ea1-bff0-f75243b8498e', 'nyt://interactive/7db7a662-415a-5f69-818a-b54b2c71472a', 'nyt://article/3fe933dc-e648-5e5a-8a53-5efaecec3d72', 'nyt://article/770e4237-53f9-5491-860d-80a977088d50', 'nyt://article/272f90dd-396c-5fb6-aff6-5df1dfdff513', 'nyt://article/cae1375e-ed0c-5637-8ea3-dbbd109743e6', 'nyt://article/97b4dda5-70c8-5b3f-9742-d4822f210754', 'nyt://article/09ffb689-5efd-5c3a-b678-7c37180810c0', 'nyt://article/3f1e157d-c5c6-5b73-a440-21b65b99e965', 'nyt://article/5b4cdeca-c115-510c-8498-c0d6735aa41c', 'nyt://article/13ff14d8-10c8-54df-87a3-f4d094382aac', 'nyt://article/225bee71-36c6-5d17-95dd-3cc8e6b2f58c', 'nyt://article/c11ec4a5-7b2b-5667-aa68-10804f13ae49', 'nyt://interactive/891cc563-5104-528b-a459-d82b3b7822be', 'nyt://article/dcad3d9b-255f-521a-8294-b44b93009dcd', 'nyt://article/6dd8802d-fd2d-5e65-bb10-88359f8fe1de', 'nyt://article/caf98741-73b7-5dc0-bfc0-9314490fb22e', 'nyt://interactive/96205d10-5673-56ef-8222-d191e2d73b12', 'nyt://article/a2d72927-aee9-54dd-a735-542ea8cab7f8', 'nyt://article/ad3e787a-754c-51ca-b606-132d5b1f3f3b', 'nyt://article/c0f3bb31-eef6-502b-99e3-ab60aad7cae7', 'nyt://article/cc5697ec-c716-5058-a6c0-2562d2723803']",
         "[]"
        ],
        [
         "14",
         "Australia",
         "AUS",
         "-24.7761086",
         "134.755",
         "192.0",
         "195.0",
         "['nyt://article/34f1b048-9437-54b5-9f62-e4f4174902c7', 'nyt://article/d7a1f468-2b98-5872-a037-714ecdfa250c', 'nyt://article/600d6b67-e4e8-5d60-846f-78bb05d7ee00', 'nyt://article/ff510b89-d57a-5536-ab06-f5e79d4d2947', 'nyt://interactive/67ced5f2-a79a-5c20-8325-f7b481a10ba7', 'nyt://article/757c9212-5370-50b3-a96e-068457f8ab50', 'nyt://article/0aeeff1c-c7e8-5bd8-ae39-49e9db19afd7', 'nyt://article/0e878c95-5a0c-5039-bfe9-c330dc353a6f', 'nyt://article/8e005a41-73c4-5e0f-a9f9-a130c967b0b2', 'nyt://article/0479c98b-f429-5c45-9482-ba056384e378', 'nyt://article/79acc66a-86db-508b-9fbf-de644e361acc', 'nyt://article/1b0e35dd-eef5-53a9-bc04-a22d6b53ca16', 'nyt://article/ec7203a9-eb10-5753-98e6-a06cda8285f8', 'nyt://article/f057859d-d256-5a5b-914f-5d1a85ae785a', 'nyt://article/d398c491-8159-59db-9acf-c6e0e56452ca', 'nyt://video/621c2d01-fcd9-5a73-8670-4fa5700b863a', 'nyt://article/722bf5dc-b37e-5c0b-bd0d-d7d281dd6e89', 'nyt://article/a24352c5-2916-5877-9c38-7b4b58d1909f', 'nyt://article/50c9275b-d670-50aa-a23e-c8f698cd1597', 'nyt://article/42f9e59f-4cae-568a-8c53-f7af86c5a0e8', 'nyt://article/ffa79e3b-c55b-5fde-82fb-4ff03950be92', 'nyt://article/7740d88e-2bbb-5b60-8ad4-d83e942ceae9', 'nyt://article/4b594950-5710-5481-8a9f-97a3c8379add', 'nyt://article/f1cc5d47-1a43-597b-8788-b258d4a04869', 'nyt://article/632501bd-6d53-5f97-8a76-dcb1cba83eab', 'nyt://article/c0feb0c9-7c34-5a17-8051-486f89a9dc9d', 'nyt://article/b9c20559-ae99-57a6-bf69-c6be68c332f3', 'nyt://article/3d580611-6876-523b-96b6-bbe7ce334fae', 'nyt://article/2a67f414-d79f-575d-b6d6-864778e9b09b', 'nyt://article/6a251768-d7cd-5d42-b3b9-fd6314f11f82', 'nyt://article/70494559-23ff-537f-bab1-6eb7268c62a5', 'nyt://article/3c790392-f090-58f4-8709-d792f161cbed', 'nyt://article/06ab9076-03ce-549c-b6f3-a8207a8f0c78', 'nyt://article/0e578382-17ca-55b5-ab06-f61b9142aa97', 'nyt://article/17ea0afa-d3ea-55a2-85a8-8799db99297f', 'nyt://article/023e6842-0a67-50c5-a9fb-d6c6daa49b56', 'nyt://article/de451b9e-0cd1-5ddd-949b-8faf862f7c83', 'nyt://article/4b23e9ea-ab29-5b03-9af6-1252267da1fb', 'nyt://article/8cee40e9-c89a-5d5f-bacf-cfaaad424501', 'nyt://article/af22806c-5e25-566e-988b-541a5ef200e4', 'nyt://article/e93c3de8-cfaf-59fa-b17f-6fbf2c9ef94b', 'nyt://article/9f3c17ce-c610-508a-bc43-920f5d3848ea', 'nyt://article/8ceeb74c-0110-5697-af59-7e47b2a6ba75', 'nyt://article/5fc83e76-d158-5d8d-9669-87b0a57464fb', 'nyt://article/b7006bda-96bf-5b9a-a9fc-4bb7a8e250f9', 'nyt://article/2bb0b4f7-43a5-58be-a7dc-12423583607f', 'nyt://article/06dd8692-c554-54b9-9617-79dc1b0c2294', 'nyt://article/2d0acbc4-907a-5c30-ae8b-46f4f91b8eee', 'nyt://article/27b936e3-5dac-5eb1-86c0-1bacbd6560be', 'nyt://article/f9e370bb-d78c-5b2a-9f7f-dcc693309e3c', 'nyt://article/c46de21f-3a35-58d1-afff-a67502db7d8c', 'nyt://article/5e419777-a56f-5cb1-bee0-f14b8f83c13f', 'nyt://article/88840da1-c29d-56af-b5f6-62d8ec78b420', 'nyt://article/610ef9c7-708b-59f0-b8a4-80f335639f93', 'nyt://article/10b68136-7d20-5392-bac8-0a29cbb85c8d', 'nyt://video/0bf76319-49f1-54f7-ab54-edf417244e89', 'nyt://article/9bf280d7-f0d6-5430-b828-cec0513e8c0c', 'nyt://article/73fdc6d9-9676-5b9c-88ae-9e8e3d0f980a', 'nyt://article/3cfa128b-7fea-5e24-b805-0a30bc411c6a', 'nyt://article/4329a608-2816-5cc2-847c-f5c7aa77154e', 'nyt://article/3f49b19e-4f33-5e73-b680-102580073eaf', 'nyt://article/27d79a98-34d2-5ad6-b3e1-4bc2831e105d', 'nyt://article/6131c266-5e13-5673-b41d-4b084ea9e239', 'nyt://article/505e16c1-d8f9-56df-b76e-9cd68a7ab33d', 'nyt://article/4336fc5e-b8e2-5566-977b-a86ef2fab052', 'nyt://article/c85916ae-496f-5a54-8f09-f151d3bd342f', 'nyt://article/e18f7c69-da2f-5161-9415-bd1c183151b8', 'nyt://article/f4fc51c5-eec5-5b89-bba6-278ca712452e', 'nyt://article/398f03de-dc59-5101-bce0-04b2275b68cc', 'nyt://article/099e95b8-18fb-5cb6-9786-5648012b3e9f', 'nyt://article/1ddbad3b-de6a-528d-9112-b5b2f5e7455e', 'nyt://article/dfb763d9-6c6a-56b7-884d-c11c0ae498f5', 'nyt://article/e430b01c-f32e-5382-bf19-e0df4e7ee669', 'nyt://article/3563f56a-3056-5a0c-b474-d2d5a4247922', 'nyt://article/db4ae869-5d7e-5f72-9ae5-03bd436f15ec', 'nyt://article/32d145d4-6e55-5944-9838-2d316ca98d7e', 'nyt://article/3f66c66d-cd58-5515-a4ae-e80817e63c9a', 'nyt://article/00603561-a0a0-5bab-a43c-3f17d2192e27', 'nyt://article/2f13368a-d180-5465-877f-375210a7aae7', 'nyt://article/428a36ff-3d0c-5b52-b36b-8b1579756c9c', 'nyt://article/9688220d-01bc-50fc-8f86-407d713579cf', 'nyt://article/fba05eb4-ff6c-52e8-96d2-439904f55e2d', 'nyt://article/010ebe23-59ec-5c1b-8311-d3e7a8f0edae', 'nyt://article/62994281-1aa8-5d24-83a9-64f8f6678030', 'nyt://article/2b44b26f-8d1b-5505-a9bf-69222111d126', 'nyt://article/1d5a61ce-b39d-54e7-90e2-561418801840', 'nyt://article/64e1bc90-d77b-5989-9f80-f2377a5a087e', 'nyt://article/e257186c-6649-59f3-9319-1bd906db80c5', 'nyt://article/425a7f86-da47-573f-ae63-0850cee54ec5', 'nyt://article/bce3ca60-af67-52bd-a7ef-48827ff604db', 'nyt://slideshow/872ec2c4-5af1-5ebb-8730-361eeb7b65c7', 'nyt://article/706d7ff9-3245-5bfb-88b3-7182f1e33f24', 'nyt://article/b2083fb9-94b4-58ad-916c-cf7cdcf18bf9', 'nyt://article/ffb67ff8-6919-565f-934d-5ffb8e6ae707', 'nyt://article/3b02ec18-8ca4-5b25-8665-bbec9c4cb01f', 'nyt://article/1b7eee19-0e72-573a-a482-860d6d3939d8', 'nyt://article/0855a4d1-fe51-5619-83a2-266910bd6b66', 'nyt://article/b81ba4da-95ac-54c7-b0ac-0a0e335ae613', 'nyt://article/006014ee-ae56-57f6-9fa6-d9b8bc7b6a39', 'nyt://article/6251e76b-f6d7-5165-be3a-a5cff3d96a92', 'nyt://article/61efa0ef-43d3-54ae-8387-66d17e19b8bd', 'nyt://article/e18a5035-2b83-50d3-8a1a-671732d7a622', 'nyt://article/538158af-eb06-5ac9-ad44-252e3d8c8c70', 'nyt://article/9abf3e81-2ab2-57e7-bcbb-8c620efc57db', 'nyt://article/a77b5684-71b4-5d71-acb0-b19bfb9730b5', 'nyt://article/c53c9271-b07d-565c-9223-5ae808535c9d', 'nyt://article/51c78c89-cca5-59e5-9a68-b827e81046c8', 'nyt://article/67f32b08-b2ab-5a8d-adf9-e7bcc43d60d5', 'nyt://article/fb47e6aa-08ac-577c-8a01-12492887fb64', 'nyt://article/d8dcf526-b866-51eb-954c-95fdd3249d69', 'nyt://article/fc948308-79e0-54f2-b519-7a586596cfc8', 'nyt://article/2b3e0c2c-ccc8-5390-baa2-1c2256bd7504', 'nyt://article/8bbcb1f4-fae9-5bc1-906f-9c1824c3e4b3', 'nyt://article/a96c6023-96cf-5717-8d45-e5cc280e6d2f', 'nyt://article/676a190a-3d84-55e6-a811-46830fd713ca', 'nyt://video/d8b508c0-4274-5602-9f7a-0eef478cd90d', 'nyt://article/ec9f5472-3ebd-50bb-a58b-57b0d0aff90a', 'nyt://article/943d5f12-ce5f-5d0b-a103-684e46194abb', 'nyt://article/0160c299-c582-5ed6-b89d-36b1ceff4ff1', 'nyt://article/678f8f21-ed20-5995-8e0f-bd42ab081e42', 'nyt://article/cf9cc005-019f-5295-94f3-3434428a34e4', 'nyt://article/4db37107-02cc-5d89-9169-551ff6381b89', 'nyt://article/b3dda245-86f2-5cbc-973a-45e4288c99f3', 'nyt://article/5b45e5c1-31bc-5efe-8c6a-5e88a1746d88', 'nyt://article/aedf4e44-a24e-5a35-b52d-f985c3586596', 'nyt://article/152c7c01-7cff-5893-92ce-cf064e1c25ce', 'nyt://article/652b98b4-01b8-5cb5-bc03-1a8da6738669', 'nyt://article/98dfd0f6-afd3-565a-938a-4c8b0208c5c7', 'nyt://article/7a1e4c1f-de78-5c8e-b751-862dca5b9f21', 'nyt://article/36ee0edb-21e9-56c9-bb84-09c4415a4516', 'nyt://article/8318e157-1ecc-55cf-936b-7a456604575b', 'nyt://article/0fb1b3dc-964b-55fa-9cd3-35f21c444086', 'nyt://article/1865a38d-8738-5bb8-b5b1-b24382bf562a', 'nyt://article/04a9fb29-fd17-5b9f-ab7c-4f34e7aad7db', 'nyt://article/eecc4f8b-8945-5550-b10c-5d399b52881b', 'nyt://article/09de54fc-729a-5128-a867-1e8f4f5c16aa', 'nyt://article/4fef2cc5-0b94-5b17-8883-79246953c5f9', 'nyt://article/847128d5-f95b-5981-ab0d-2f7df9a345db', 'nyt://interactive/d5d460ca-b437-599b-a886-ec5fc49a6fb0', 'nyt://article/7ba22bd7-f3b7-5cda-989e-9229fc9e995d', 'nyt://article/b3127485-6e94-5ec5-8e22-8f22497d131b', 'nyt://article/0cd7fcd9-8dc1-503a-a47b-fc7218af6fc5', 'nyt://article/7f9ad818-d7c8-5a56-9971-7a06b75dbfef', 'nyt://article/e25a8c18-8d67-53fd-8d47-997270bf04c4', 'nyt://article/e26c4181-09e4-5d1c-a561-231cc8093242', 'nyt://article/774ebdf6-f169-52e6-88a9-900e7a14d394', 'nyt://article/7d8a58d8-3012-5f27-b5c0-ea3ae97e575c', 'nyt://article/dd20d078-bad0-5148-889d-06ad5fdc979b', 'nyt://article/6c12a257-a682-59b1-9b23-24f0e7c044e9', 'nyt://article/9c329db9-419d-5af9-bc96-027b8934094f', 'nyt://article/284a8ee5-ed24-58d6-9ba1-6f1c66fae9f3', 'nyt://article/061eb34d-2e8a-5ad1-9454-9231d1d6b2d4', 'nyt://article/3ff5d1bc-c26d-565d-94dd-bc6bfe1d7008', 'nyt://video/359ed06d-e7da-5737-a242-9d6ce247f411', 'nyt://article/2dd8464a-9b63-50ff-afaf-9795b1a91694', 'nyt://article/49a28e7d-8629-5fad-90ee-402b4c3cab8c', 'nyt://article/5948bf75-d080-593d-81a2-139d05ff4c88', 'nyt://article/b51b7af6-a131-5f00-ad12-ed465377374c', 'nyt://article/2215bf79-c1d4-5a56-b215-e2716de6d6c8', 'nyt://article/b2b37b59-ed75-53c5-92cb-6577f841e0f6', 'nyt://article/1157b69e-7313-5ec9-bae3-ddda52e6d3ed', 'nyt://article/8a91af8a-f287-51dd-be98-33ea7e295bb5', 'nyt://article/e0284004-ca69-5ffd-ba0c-06dc4d532f73', 'nyt://article/01df8223-4f04-525e-b8a3-78436d1fc483', 'nyt://article/3f6e758e-6689-5c6a-99fc-5ae62daadea0', 'nyt://article/493c5943-03b7-5b66-b5b3-ac40b21a4fa5', 'nyt://article/29739de7-13fe-50d6-a0fd-2f23bc2e17e7', 'nyt://article/9a728ca5-b4bb-5b60-be45-053646dcdb10', 'nyt://interactive/592ac49c-845b-5dac-b58f-1188544ba8ef', 'nyt://article/e7116934-5e86-5988-b768-679684affdec', 'nyt://article/e82db1e6-3dbb-5127-bfb2-58b786a0cfde', 'nyt://article/5eff5519-d30c-57db-a177-f905e3254336', 'nyt://article/bbbe8d7b-b00d-5365-b841-c8a8389654e0', 'nyt://article/ff00a9cd-949f-5e73-bbcb-d3841aedf347', 'nyt://article/51f500b8-a1cf-54eb-8475-f0e432a25fee', 'nyt://article/397f8102-b5be-5879-8a6f-b112557e1738', 'nyt://article/9f91c450-328a-59be-be41-570acf122f54', 'nyt://article/5dd8d0c4-deca-59d3-a5e5-0b8ad861ac41', 'nyt://article/2e05dd10-7579-5ceb-8bcc-45e7e7094db9', 'nyt://article/b5f5cc46-54cd-5d00-852f-84232961c7b7', 'nyt://article/8aa849f9-2f21-5e4e-9bb0-cfa4383c6cc9', 'nyt://article/8a3f7f3b-d31e-52d7-9fda-ec0650944448', 'nyt://article/cad8a90e-a713-50c0-a3c4-8075e01a3b82', 'nyt://article/73164e37-e7d4-543a-84fd-b12ebcc98aa3', 'nyt://article/c6be1920-767e-52bf-a64a-b58093e0ddee', 'nyt://article/3217200c-c746-5c3d-ba58-e37ed88100ad', 'nyt://article/eb0f1578-0dd7-5251-b08e-54ae3e7f1665', 'nyt://article/7589117b-71de-553b-b661-9d73f08ae91d', 'nyt://article/06c9f0f8-3aaf-5548-a738-28948eca6167', 'nyt://article/cd336da9-85f4-50b1-b089-347fdcd4ce91', 'nyt://article/cff5a46a-595c-577e-bd69-553d6c3c9b68', 'nyt://article/e006afd4-6c29-5f00-b2d4-0ab900d70971']",
         "['8055839867', '7988496394', '7947055615', '7997386859', '7952005125', '8017756693', '7923046012', '8387884360', '8038746576', '7917260441', '8195416078', '7939723700', '8373395006', '8336874086', '8284435709', '8475539322', '2024-07-424502853', '7940262235', '7935539205', '7943933970', '7919557703', '8433727783', '8067204880', '7950968801', '8216352552', '7953813395', '7938156171', '8263192420', '7948783492', '8209366924', '8123394321', '8259119939', '7965942173', '8261330418', '8081217054', '8067194056', '7986443378', '8259966994', '8259495065', '8276616772', '8380392922', '8399780217', '2024-02-245231699', '8112452260', '8195501951', '8383818701', '8342259767', '8331513907', '8000979717', '8109173507', '7922724397', '8105087858', '8194939973', '8195722847', '8468709943', '8434754401', '2024-03-301040023', '8053308278', '7947784143', '8106028358', '8196501854', '8194106220', '8429070033', '8196187999', '8323047492', '8385471360', '8368324292', '7928026255', '8088872716', '7990238511', '7969069175', '8196543473', '8399001093', '8246473142', '2024-07-433670471', '8320932984', '8165075760', '7942783247', '8334837688', '8332121938', '8380791784', '8005868931', '7992204726', '7945336224', '7936700397', '7950347982', '7952120516', '8186331766', '8029645800', '8222321397', '8077411875', '8453005500', '8092599010', '7942508046', '7973233561', '8138173099', '8051662238', '8445374188', '7950276894', '8039191021', '8399802276', '2024-04-333831593', '7941785442', '7987110584', '7960147722', '8287961005', '8479102550', '8374574784', '8287883089', '8106031894', '8431983125', '8026041346', '8291558773', '8286078798', '8462525019', '8291963080', '8078304855', '7934980527', '7953148360', '8107235679', '8434881945', '8005961291', '8278950137', '8193671227', '8311274372', '7976675374', '8244504649', '8371950689', '8263792298', '7930255626', '8251026782', '8365861854', '7988379714', '8378164815', '7959992260', '8166403537', '8096114757', '2024-12-589822590', '8000411728', '7952108677', '7947752819', '8442134290', '7959300943', '8385083804', '8068821285', '8462824268', '8193115421', '8004218289', '8317842539', '8146410536', '7930287781', '2024-06-394846307', '7934213842', '8258135444', '8145000061', '8387629811', '8280321843', '8217926928', '8022671711', '8373087831', '8367682155', '8303590781', '8065783778', '8194194105', '8043274798', '8295271376', '7955704772', '7949604543', '7997461658', '8195633023', '7945626864', '8145474935', '8269667674', '8214613504', '7941341598', '8136029214', '8287870273', '8435043986', '7992551708', '8218166648', '7948991173', '8162936813', '7932299815', '7914964608', '7994406357', '8197937587', '7936762586', '8430642677', '7988379709', '7943939155', '8081672780', '8060333486', '7953402014', '7932370900', '8401553705']"
        ],
        [
         "15",
         "Austria",
         "AUT",
         "47.59397",
         "14.12456",
         "49.0",
         "638.0",
         "['nyt://article/aba1d461-5309-58ad-95e8-26ffccb2fbdb', 'nyt://video/ba0d555f-09e9-547c-bfec-3cebce70cf3a', 'nyt://article/edc7fb55-4d27-5863-9ccd-0403d16b0651', 'nyt://article/7c902ee6-e04f-5302-8340-097035a8ca57', 'nyt://article/c20000bf-0d4e-5023-9e9f-8e65e3d98cef', 'nyt://article/7dd19b59-156c-5583-bd77-764448662a9c', 'nyt://article/a9945d58-6d62-5889-b609-c487bfd5069c', 'nyt://article/cfaaf4af-7c06-59a5-aa79-4d65484f6018', 'nyt://article/612c3665-1ac8-5314-b669-40c06b40e7c6', 'nyt://article/6569ee78-27af-5059-beac-731d96175409', 'nyt://article/4062fb42-d47c-5de1-a685-f0ff645c28b8', 'nyt://article/a0b57494-0710-50f3-9c8a-dec7c3c19938', 'nyt://interactive/0770ec0d-4b73-5fe3-9f9d-e453a724e45d', 'nyt://article/4336fc5e-b8e2-5566-977b-a86ef2fab052', 'nyt://article/b6a4d362-fd4b-550e-a10c-3fdaff9393eb', 'nyt://article/1e7d04dc-c6e6-5da1-a83b-3074b0a4f9da', 'nyt://article/45fc1283-ccb4-5b3d-8498-664d6424d7ca', 'nyt://article/d9d748ee-8391-5b7b-866e-77903b2762e8', 'nyt://article/9f7588ca-4f94-5a9f-9c31-ffc7bff7bd74', 'nyt://interactive/81213565-7304-5188-bd4c-be87a1d2b554', 'nyt://article/2982e829-2cc6-5d1a-89aa-0dc4f495bd0b', 'nyt://article/4651a01e-c9e5-5f1e-964d-f713f267a818', 'nyt://article/a1b8116b-9c46-5fc4-b02f-bacc9a44d874', 'nyt://article/2d49cc50-dce5-5506-8cd6-c10810138ffa', 'nyt://article/489d15d6-0318-5528-a1e8-2dd8cdb2f5d2', 'nyt://article/0e7d216d-10ed-574b-8e9f-726fec2d6ebf', 'nyt://article/670a186b-c06b-58f0-a238-c411d99059f6', 'nyt://article/bbbe8d7b-b00d-5365-b841-c8a8389654e0', 'nyt://article/38ce97ea-cd09-5520-9753-e23f6a4fb62e', 'nyt://article/7cd71d56-85ac-5c66-8eef-fe868b35211d', 'nyt://article/5c93f3d5-8d8f-580b-951e-bc354a275aaf', 'nyt://article/9119b453-c943-54ab-8cb1-157add50b82b', 'nyt://article/dc09b00f-21c3-5644-8ff2-1a9ae57ca65e', 'nyt://article/de545c26-765c-50f1-9ee4-cdbb26c758c1', 'nyt://article/3f434785-de8e-5103-bfd0-3aa326b95b3a', 'nyt://video/64329d3e-7457-522b-b616-7a45df9583e3', 'nyt://article/da49e385-de04-547e-a135-b96456b2f2ee', 'nyt://article/bbfae0d6-4d3e-5b9b-b914-041d2cbbf485', 'nyt://article/6a5bbb3e-eac4-51fd-8ff7-cf9c18c99aaa', 'nyt://article/82e888a7-65f9-56bf-8b75-93affdd15a27', 'nyt://article/07f9b643-eef6-550f-b25a-4312a5c2f68d', 'nyt://article/bbfe3f9f-71b5-5866-ae83-ff98e3eb8ed8', 'nyt://article/6eae42d5-f0cb-5dff-83ed-b762bab8194f', 'nyt://article/f5f06545-8890-5a08-8b68-6013f50287fe', 'nyt://article/8acc1cb4-2f72-5677-868e-7b9c54732e02', 'nyt://article/26c94960-8919-568f-9a3b-d2c350a819bb', 'nyt://interactive/d5d460ca-b437-599b-a886-ec5fc49a6fb0', 'nyt://article/f346f96a-8d34-53c4-88b4-f2e41179af65', 'nyt://article/d0d0c232-0ae1-5d3e-b897-ae648a271c17']",
         "['8375477581', '7995353906', '8283676440', '2024-12-565890300', '8456333509', '7968887493', '8032028896', '8432980458', '8273722114', '8338336944', '8320057242', '8229594142', '8226673146', '8390972748', '8104454260', '7959918610', '8471422469', '8235983188', '8270679238', '7972373483', '8187180439', '7964084103', '7958325709', '8231954273', '8179624201', '8341585707', '7983337663', '8107664335', '8127172737', '8470688847', '8129038403', '8328556914', '8003114574', '8095978848', '8297796937', '8305221179', '8303325063', '8094848773', '8325245140', '7987866384', '8229653497', '8339630805', '8464013458', '8470688852', '8253966932', '8400577682', '7983411386', '8018178229', '8243160198', '8027565277', '8275261692', '8207499369', '8177684142', '8066295279', '8082559671', '8326205367', '7948899853', '8207060710', '8201695937', '8401959289', '7937609395', '2024-08-466466479', '8247760688', '8005218642', '8021321355', '7937485893', '8367306087', '7962914747', '7934411284', '8426868507', '8021748430', '8366529741', '8079338151', '8321516808', '7927204015', '7953564604', '7931968042', '8324833765', '8240869645', '8208092433', '8261465562', '8222039691', '8224923417', '8324284216', '8015399772', '8048352568', '8339330123', '7935752395', '8196693784', '8072866632', '8052138486', '7974747319', '8063027587', '8401746766', '8208045041', '8115801875', '8342930506', '2024-08-465285873', '8417031971', '8317783018', '7939985518', '8252689007', '7948135161', '8390960712', '8340773274', '8440389223', '8140482412', '8003877856', '7952790008', '8033491609', '8463589327', '8028822824', '2024-08-454211002', '8397555417', '8263821566', '8309861618', '8454036832', '8048288883', '7919673473', '8395063736', '8342588367', '7915877940', '8120629615', '8013606423', '8040677096', '7946565517', '7945154040', '8315105600', '8342445427', '8378156033', '8321983666', '8313678138', '8197963347', '8278653841', '8156532310', '8323311969', '7970774282', '2024-09-499981117', '7941805061', '8230083830', '8341627724', '7995009909', '8270689541', '8125151322', '7979726996', '7927106186', '8111397365', '8322178360', '8166263971', '7926971880', '8432042052', '8242002458', '8185248798', '8140139783', '7917995419', '8057941079', '7912704608', '7931674339', '8421788243', '8446914374', '7932812783', '8468953022', '8159500544', '8284776709', '8319841422', '7967323014', '8347925161', '8424032292', '7995221577', '8229620170', '8163133679', '8375100177', '8107514439', '8055711316', '8078524903', '8308456591', '8144202229', '8223403615', '8059222841', '8442399912', '8357786610', '8169381046', '8338473920', '8146330249', '8022460745', '8413164957', '8393466976', '8305821324', '8019911693', '8244453323', '8194484165', '8151810337', '8349592820', '8336730405', '7951628212', '8012990007', '2024-08-460762374', '8151411910', '8423537887', '8454399269', '8326562720', '8373513287', '8233252787', '8380071765', '8265800670', '8163231757', '8358058849', '8033376129', '2024-09-478115659', '8364945855', '8381837483', '8159367610', '8409201883', '8472105753', '8285837597', '8209773181', '8223677751', '8339555469', '8265548902', '8130431457', '8036934529', '8453106821', '7994320772', '7952336411', '8326975986', '8455652007', '8263746920', '8189946576', '8322475114', '7989598654', '8356698104', '8056957526', '8260167668', '8308541989', '8265332105', '8196727918', '8163249435', '8277379116', '8153547719', '7916251332', '7923284454', '8228877184', '8310118566', '8340184460', '8054908371', '8358112662', '8246749778', '8247212286', '8189382357', '8341949993', '8165697904', '7967033151', '7934980527', '8092905914', '8147941469', '8397163072', '7915931450', '8034343961', '8014178100', '7996307566', '8290780230', '8308250853', '7940528163', '7979711870', '8296020871', '8295865606', '8142361990', '8206594098', '8026996157', '8413534267', '8411000200', '8129207442', '8211224389', '7922095821', '8136494483', '8042450512', '8196101335', '8012088991', '7970999096', '8366568145', '8184338204', '8044429810', '8342834221', '8265081637', '8396146261', '8079651257', '8066260830', '8309886359', '8239616506', '8461720321', '8323435823', '8206686902', '8052064625', '8337643201', '8476493024', '8234680161', '8440115363', '8315223910', '8264857186', '7985683945', '8468672672', '8025399830', '8309853440', '8325686761', '8397268836', '8398536153', '7913930472', '8195614863', '8242964775', '8038548196', '8255596416', '8412084231', '8095140573', '8366216035', '8319707611', '8422102397', '8186468508', '8377138472', '8231286206', '8322231485', '8386070591', '8271287573', '8342458136', '8244872215', '2024-08-466046145', '8475102368', '8000929893', '8072633599', '8370969682', '8362034918', '8130932916', '7944754638', '8267576434', '8223816577', '8421863991', '2024-09-478136847', '8129038407', '8400648312', '8450053265', '8326579624', '8423955449', '7914759693', '8106407489', '8080321087', '8236029560', '8308591786', '8409829860', '8339868574', '8371038495', '8387782501', '8033162652', '8356213573', '8182532453', '8117542741', '7953207654', '8354769292', '7986165055', '8027798559', '8413687294', '8000212900', '8474690246', '7978047457', '8094882146', '2024-01-229831657', '8336579223', '7969948591', '8308636398', '8212210381', '8213668331', '8194773071', '8003284338', '8309890494', '8279016615', '8249170450', '8003114569', '8230206971', '7959686283', '8268112399', '8194322812', '7991240516', '7968157961', '8326903444', '8239582592', '8324833762', '8115604554', '8380649308', '8149050618', '8140722731', '8301370076', '8044926620', '7999443027', '7946015386', '8212953738', '8342308699', '7947913575', '8109637211', '8318050170', '8413365422', '8189213519', '7972336922', '8205690411', '8032142889', '8174260068', '8062406419', '8426769842', '8119600395', '8343469009', '8061405068', '8026798089', '8059222832', '8316772610', '8183427055', '8014918032', '8467050716', '8206860175', '8039944174', '8181580515', '8261489089', '8355389684', '8349607819', '7949435974', '7916192619', '7979713883', '8241475096', '8264172501', '8436154055', '7912884851', '8220420225', '8322709640', '8395103370', '8341883985', '8258782340', '8095137678', '8103407214', '8039660836', '8322315451', '8409785587', '7931258680', '8341211568', '8074554559', '8440092536', '8072556207', '8146595366', '8184106523', '8077044702', '7994320770', '8048315863', '8115803735', '2024-10-524846017', '8209783936', '8209723292', '8319535306', '8188668690', '8038927236', '8072752349', '8074398166', '8188486652', '8202424440', '8182245253', '8143847060', '8371443871', '8342735294', '7987059980', '8080357707', '8453156382', '8061288688', '8095488848', '8246046155', '8276117630', '8319895979', '8407914060', '8293822455', '8356425299', '8443213130', '7974571203', '8409440487', '8326676040', '8045194292', '8062847571', '8259755523', '8174504424', '8206210556', '8306964029', '8325290276', '8366802740', '8371241377', '8398982688', '8112163969', '8140641510', '8044456569', '7967163903', '8324342848', '8117729697', '8463076524', '7914599702', '8129173943', '8264793593', '8457413393', '8232264822', '8127716539', '8317522558', '8431743079', '8054891791', '8317999409', '8199614567', '8017906021', '8212474459', '8321806664', '8174498277', '8228775445', '2024-03-301040023', '8321218840', '8053308278', '7945943678', '8316863508', '8193482860', '8430429239', '8005227478', '8188668691', '8181563232', '8166899581', '8136770840', '8354220319', '8442292772', '7926795543', '8334587207', '8401067714', '8280199739', '8254347557', '8276168192', '8463842289', '8356586895', '7951522589', '2024-06-402449694', '8399966607', '8142361989', '7998862436', '7994038060', '7991633542', '8140609855', '8333399222', '8321830760', '8387652322', '8431937681', '8373609870', '8355612782', '8283191093', '8155392465', '8162129754', '8097134533', '8182854297', '8414098133', '8419117929', '8436287989', '8208021184', '8266853316', '8187138379', '8423663455', '2024-11-537311425', '2024-09-476269279', '8138653453', '8319987278', '8111397364', '8319649864', '8372107022', '8366434394', '8107497459', '8107496598', '7973760158', '8209263596', '8127093474', '8311616314', '8329753487', '8227425597', '7963811038', '8362971521', '8442670376', '7957492023', '7993451399', '8218777490', '8185433217', '8266683505', '8260184486', '8384596371', '7958456766', '8282931838', '8266917464', '8169230869', '8336997664', '8454660835', '8181568000', '8206803877', '8207980505', '8416785578', '8063122087', '8437624183', '8163885829', '8046602352', '8361214816', '8226839602', '8062646300', '8259746491', '8471090724', '8156603522', '8107475263', '8406029682', '8023244579', '8263940638', '7953302789', '8420781940', '8361800399', '8434399332', '8263842730', '2024-07-424869013', '8151369447', '8252131749', '8343561023', '8080590049', '8084207736', '8069605000', '8196532689', '2024-08-466253411', '8212386078', '8141865244', '8236014492', '8320662582', '7950882057', '8094722948', '8229155982', '7931660895', '8082478872', '8350708586', '8365946488', '8250209627', '8217105839', '8342286803', '8333015580', '8396388975']"
        ],
        [
         "16",
         "Azerbaijan",
         "AZE",
         "40.3936294",
         "47.7872508",
         "48.0",
         "96.0",
         "['nyt://article/0d118bb0-9370-5c0f-9c92-1e0588cb955d', 'nyt://article/b2c28cce-ffdf-551c-a4e7-27d9bf22684e', 'nyt://article/2ae1c323-fd56-5a8f-9436-c490aab9e213', 'nyt://article/7104a8cf-de19-5482-9efa-d93c012227d2', 'nyt://article/39af62ad-0e32-5ba2-8d59-b545735c0d7b', 'nyt://article/2c3b6715-4f1e-5613-b5a7-cdede0a6995c', 'nyt://article/a008167d-fddd-5f78-a94f-a5c20c40e7e5', 'nyt://article/aa53562a-37eb-5ead-8519-ca910628a9e2', 'nyt://article/3c00ea5b-79a6-5dc1-bf9b-0736efe212a7', 'nyt://article/385388d5-2e5f-5321-b23b-4e0afb0c4940', 'nyt://article/6f1c8fab-c5ed-5aaa-9191-a0552e7cd2a9', 'nyt://article/b523611f-4c09-52bf-a76b-e31fe00e1ec2', 'nyt://article/afe2b61b-f390-5aa9-819d-7aa2c1b64bc9', 'nyt://article/cdd5b359-8961-52ac-86d2-4d9c675b224d', 'nyt://interactive/4d85e505-f0a7-57c8-b4a4-7d2018223598', 'nyt://article/a20b75ce-1caf-5292-9f23-2c0179843348', 'nyt://article/1ac32ed3-b543-5290-a03a-385cff024025', 'nyt://article/58fe85be-4962-51bd-8f47-46c1ccbf8f5a', 'nyt://article/3b3d552e-a57f-53c5-8ff0-31113b14c493', 'nyt://article/7a9cbc11-d086-5980-855e-e8abbab5ee40', 'nyt://article/15b999e8-4ec7-5c3a-b383-38d4882eb462', 'nyt://article/2bd94bf5-a815-5d9c-a58b-7dcedaa97026', 'nyt://article/75a6b57d-c8f0-5902-bc26-bdc47ffe65de', 'nyt://article/f9386ae2-3ae0-5baf-8064-919dfdbc9e8c', 'nyt://article/1fac1725-38bf-566d-8337-65c0706ad4a4', 'nyt://article/250d49a7-b629-548d-a99a-a2aaf0e3a728', 'nyt://article/cea90935-2c07-55f1-81af-32de2c80925c', 'nyt://interactive/63331587-3ed3-55c1-8475-7612b1f63f8a', 'nyt://article/d7ea26e8-b61f-5975-bd0e-ff455733ac5b', 'nyt://article/bdfdc886-d7a1-568f-af0b-5b0dc316b89f', 'nyt://article/dfe287c5-254d-55dd-8245-66c18bc92edd', 'nyt://article/9d488c1f-3d6f-5fbe-8307-2a18cefc53f9', 'nyt://article/79fe9ff5-ef5e-589d-913c-8be4b5e4bcc2', 'nyt://article/9cdc7f20-65d5-5c7b-8264-99b07744af9c', 'nyt://article/6d2cecfc-ce5c-52c4-af05-39822d596bf6', 'nyt://article/d7b0de2b-9d50-5a2d-88b2-5390b5b7de3b', 'nyt://article/44ff88f7-5c8e-575e-b710-983fac884ec0', 'nyt://article/d97b0f8a-fed7-5478-933a-fa3964997570', 'nyt://article/181e8c57-77f4-5633-8052-035dd125bd36', 'nyt://article/5f2ef024-54ee-5815-8fe6-ad8f68e23f5b', 'nyt://article/76cb16e1-2f99-5cfc-a4d6-b07ec62585c6', 'nyt://article/2c4fcfe0-4152-5915-8da9-ff3f6df3f13d', 'nyt://article/5f9b06a3-91f8-5f84-bfe0-f0afdd7a0471', 'nyt://article/ff0ee5d0-91c1-5420-a030-64e56a472c13', 'nyt://article/042bea25-8021-5b9e-96ee-924311ca9f59', 'nyt://article/bea61699-24f2-5265-a22f-9076f851ca5a', 'nyt://article/4c1ef574-dc8a-5c14-83e4-746375e43e14', 'nyt://article/36c648dd-92ae-5811-b8d7-e174adbac1b2']",
         "['8425432971', '8472840637', '8018631661', '8420781935', '8320947869', '8426656945', '8375302889', '8003040691', '8135670273', '8135566313', '8407616772', '2024-03-289611789', '7954043219', '8477978260', '8378935892', '8421761395', '8454100498', '7967473451', '8002060906', '8403879646', '2024-11-538933378', '8425556347', '8476015270', '2024-11-545663829', '8212057631', '7966541075', '7954632493', '8177166391', '8305176460', '8416971521', '8303462953', '8405479671', '8425337952', '8423889889', '8422488256', '8418921569', '8442108120', '8423838419', '8153438269', '8281105809', '8405413584', '2024-11-553939506', '7970507011', '8404072150', '7969321900', '8136314112', '8014072105', '8261899384', '8280589979', '8017313686', '8012180574', '8136223729', '8426030372', '8418439478', '8387257606', '2024-08-454211013', '8322178367', '8119784422', '8421999449', '8338997463', '8475176768', '8476379624', '8124920336', '8135335829', '8417125026', '8017070811', '7954860509', '8422373670', '8403709792', '8407695058', '8402897344', '7977354095', '8421746299', '8431122995', '8420507983', '8412180756', '8475551837', '8144892346', '8425037377', '8405352883', '8412128061', '8365886890', '8472806673', '8016783843', '8119184963', '8474524515', '8397453269', '8405733897', '8475470172', '8283686402', '8159273695', '8421528378', '8147988695', '7996476973', '8014455357', '8473977571']"
        ],
        [
         "17",
         "Bahamas",
         "BHS",
         "24.7736546",
         "-78.0000547",
         "11.0",
         "13.0",
         "['nyt://article/72ff5af3-f710-5967-a74b-1cd1105d4110', 'nyt://article/4c432d3b-5d3c-513d-985c-5d2e2a3d06cc', 'nyt://interactive/0a438c12-d60f-52a4-be3d-ca4aaf493aad', 'nyt://article/3a456fac-0fdb-5d08-a280-a3fb1bb27b7a', 'nyt://article/3c489b15-4e6a-5b33-a153-2eed5cd30deb', 'nyt://article/8602c46e-c9fe-5f65-8093-98ae915f305d', 'nyt://article/f1519d82-68e7-5d66-97af-c349b91bf217', 'nyt://article/f55d75df-7984-5796-871e-e9808f9a7b95', 'nyt://article/605556aa-111e-5eed-99b4-5ab87c8e327b', 'nyt://article/7218d0b7-3509-5552-8ab2-6370dc25b31f', 'nyt://article/ab667a0d-a2e8-59ae-ac3c-ef6a611c2ba3']",
         "['7938526941', '8049798379', '8392042281', '8312076671', '8346093229', '8107882532', '8440194368', '8125538837', '8306568578', '8121140507', '8266324482', '8451282051', '8310675052']"
        ],
        [
         "18",
         "Bahrain",
         "BHR",
         "26.030093",
         "50.55333678912323",
         "5.0",
         "10.0",
         "['nyt://article/1d9ef740-33a3-5f79-9671-63948d194758', 'nyt://article/22aed36f-0957-5caa-a97f-4c186c5e6183', 'nyt://article/6cc38047-747f-51f9-8f85-f98e36b2b992', 'nyt://article/1104a490-62b7-507a-9fab-1783f67a7d95', 'nyt://article/4db02671-1c0e-5b3e-9c95-645b54d2f8f7']",
         "['8084043208', '7957773688', '8006652631', '7988763145', '7940956432', '8020418620', '8035994365', '8002673399', '2024-02-273177815', '8000591302']"
        ],
        [
         "19",
         "Baltic Sea",
         "No code",
         "56.0",
         "18.0",
         "13.0",
         "0.0",
         "['nyt://article/eed086a1-2e48-5e76-841d-458201aa1440', 'nyt://article/62d1bb37-54d6-53c6-9d6d-5e43431f3335', 'nyt://article/2f502b81-e9f8-54e1-b1b9-814c7b61cf70', 'nyt://article/e8dd346d-fb45-5698-afc2-8d1aca18cab5', 'nyt://article/70a2d5c7-eb7c-5a47-841a-cf93e986f761', 'nyt://article/790b937e-adb8-5d21-be33-0b610871e626', 'nyt://article/c747a563-86b6-5583-8528-5d5d82c573c5', 'nyt://article/3f82b219-3267-5601-9fdf-c806ee1f9f16', 'nyt://article/3bb65254-fb8b-5779-801d-5f533b78bce2', 'nyt://article/3680adb7-fe2f-5377-8a70-d6fa4f9ee2d3', 'nyt://article/bf938858-5d5d-5907-8726-929112ccc441', 'nyt://article/a8ccca0e-2049-54ea-9056-9437fbc4baaf', 'nyt://article/59773ef3-f9a2-5811-b338-a3f62ae4eaa2']",
         "[]"
        ],
        [
         "20",
         "Bangladesh",
         "BGD",
         "24.4769288",
         "90.2934413",
         "60.0",
         "15.0",
         "['nyt://article/882f97fd-35c3-5747-8a4b-072fef7badf9', 'nyt://article/34403061-db05-5d35-b892-3d3ada556995', 'nyt://article/d1995898-4e16-5f85-b9fc-83a1dc0f5c31', 'nyt://article/b6110ea9-290d-5132-b3da-597f41bebd4e', 'nyt://article/02a53ef9-fac1-5f49-b279-2c3d742d37d0', 'nyt://article/f5c39b45-ce9a-5bda-a008-c98c0684c491', 'nyt://article/936b5914-211d-5657-83a4-a9b74a4a6cf9', 'nyt://article/43e54411-fec3-5aaa-a572-7a1b476a42cf', 'nyt://article/255b5563-597e-5283-8031-70f235aedc71', 'nyt://article/da8e3167-7608-5e86-b657-f9dd213b4cc0', 'nyt://article/d4835673-3e5b-5cb9-a68b-4b895d740999', 'nyt://article/5f3da01e-323c-5b51-a9b4-1e366ca4387d', 'nyt://article/4c300a25-56e0-564a-80bb-33da64428e8c', 'nyt://article/89c8e9e3-fe76-5a94-92cb-414d811ee293', 'nyt://article/5774741e-8fea-5f49-ac70-ce4168a37b07', 'nyt://article/cafa3f9a-8004-526b-9927-c06cd85f915d', 'nyt://article/80dc1747-cf04-5beb-a934-619f952d75e1', 'nyt://article/1029ca29-7478-58bf-bf53-2137bb57ca7f', 'nyt://article/9feba6e2-823a-5fbd-954f-5040e45639ba', 'nyt://article/ed532bcc-2029-5854-9ceb-338278f3128f', 'nyt://article/8fb3e25e-d5ac-51ab-b4ee-52cd2e06e9e1', 'nyt://article/cb0045e8-0494-5f4e-b589-de52b5ea985e', 'nyt://article/3cc92856-efcd-5e80-bf10-797afacb4f84', 'nyt://article/ebd1ec32-ad41-578b-bdf4-274284a3badc', 'nyt://article/498ca601-204e-525e-bf4e-97640d9a70e9', 'nyt://video/eb3b13e6-599c-5c12-9fbf-c4db7a880801', 'nyt://article/69423ad4-3547-5863-8dfa-a7c04e0bf88c', 'nyt://article/d702ced9-53d7-5cb7-aea6-5e37a2c55cd1', 'nyt://article/ce264815-dbf0-5257-bc1c-05ae1755050d', 'nyt://article/7084ef60-da5c-537c-b158-f1e78e69f10f', 'nyt://article/f56cb90c-333e-5189-b598-09245a7ecced', 'nyt://video/d7eed2c7-86dd-5334-9768-b58516f4f125', 'nyt://video/ef3d4115-649f-5efb-99f7-c1ef9c7270c6', 'nyt://article/1674bd72-13ee-5d08-bb54-0c3ce48fe673', 'nyt://article/85c2a939-d4e6-5597-bacd-db25e92110dd', 'nyt://article/bcee377e-2c3a-563b-bc2e-32be6a28cee3', 'nyt://article/9f113fc3-0ffd-504a-9283-93ee1bbd9f00', 'nyt://article/9b6b0318-db8f-58be-bb65-5d0217d80de8', 'nyt://article/dbdf3b95-c4ac-5cd5-8644-8e866582656f', 'nyt://article/ad68b015-ad74-54e5-b873-9d29dcf2b2f0', 'nyt://article/e71deb6c-14ca-5446-acb0-557595a1c768', 'nyt://interactive/ae557018-3933-5e57-8b30-2f195b161811', 'nyt://article/88c85774-df15-53fa-b7f1-482980bfcb43', 'nyt://article/10453968-c7cb-50d8-ae37-8bc7d4bdeeaf', 'nyt://article/bf77cc3c-2d4c-54d9-8ae9-e8dfce0fb9f9', 'nyt://video/5b91da10-fc8e-580a-b37b-cc4fdb11b1a7', 'nyt://article/396deb75-4e1f-5856-a8eb-1e3e580d5450', 'nyt://article/75b05547-d2b0-52e1-8113-4184eddf76d7', 'nyt://article/823b3d55-b82d-503c-8a18-68d6933d4625', 'nyt://article/a0f463e5-dbf2-5a92-81a9-d066f36509f0', 'nyt://article/6406f914-ccce-5054-a329-b9b8414c9c95', 'nyt://article/f59ad265-6b02-5b47-87ab-40491a7192f4', 'nyt://article/ac3aba66-b791-52e7-9ad5-cbb0db0d13b5', 'nyt://video/cc737b7c-ab5a-59a8-95e1-816ad4887397', 'nyt://article/d42d09c3-aee3-57bb-b508-b2495fa0508d', 'nyt://article/6814c044-6791-5f6d-9ca2-231a0b94d4cc', 'nyt://video/d9b4cbbf-d8dd-5348-bc51-4c250f866d67', 'nyt://article/dae2657b-9ab4-512b-b6cb-8690b92d0434', 'nyt://video/29ce1b31-51f1-501d-8719-085b440cd7ea', 'nyt://article/acd20332-7d58-52b0-af07-1e411c87bd05']",
         "['8260327891', '8005586849', '8136287784', '7923362628', '8295782596', '7989341819', '8021748430', '8232223149', '8258897931', '7913793958', '8174679557', '8231954272', '7972539023', '8234005470', '8237325240']"
        ],
        [
         "21",
         "Barbados",
         "BRB",
         "13.1500331",
         "-59.5250305",
         "6.0",
         "4.0",
         "['nyt://article/dbca2c1e-0c60-5e8a-a032-6e29e8425c40', 'nyt://article/3a456fac-0fdb-5d08-a280-a3fb1bb27b7a', 'nyt://article/360f1b02-6470-52a5-afab-5753344f121b', 'nyt://article/13242a65-a494-505a-b504-49c06a9d9166', 'nyt://article/120e4e0d-239e-5b52-83bd-462598928a5c', 'nyt://article/2794161a-68fa-50f9-af4b-781cf317f424']",
         "['8367323965', '8356475108', '8202129393', '2024-06-406245927']"
        ],
        [
         "22",
         "Bay of Bengal",
         "No code",
         "14.2202702",
         "86.74284543238046",
         "1.0",
         "0.0",
         "['nyt://article/f69229c4-0c2b-59ad-bcff-d25886896e17']",
         "[]"
        ],
        [
         "23",
         "Bay of Campeche",
         "No code",
         "20.0",
         "-92.5",
         "1.0",
         "0.0",
         "['nyt://article/2ba65ccb-6e52-557b-9191-21cafcc864f0']",
         "[]"
        ],
        [
         "24",
         "Beaufort Sea",
         "No code",
         "72.98862825",
         "-135.23716821203882",
         "1.0",
         "0.0",
         "['nyt://article/d8f420c1-7968-5d63-9742-4dc0932cc2ce']",
         "[]"
        ],
        [
         "25",
         "Belarus",
         "BLR",
         "53.4250605",
         "27.6971358",
         "20.0",
         "92.0",
         "['nyt://article/eed086a1-2e48-5e76-841d-458201aa1440', 'nyt://article/d6dced00-920f-547e-a08c-84d6ec08567c', 'nyt://article/833eaa47-ce45-5c0c-a984-81c8d7533a04', 'nyt://article/e25457bd-ce33-5a31-a905-ac652a50bcf8', 'nyt://article/66554e8d-9278-5135-85e9-0bb9bc3cdca4', 'nyt://article/c05d1802-fb11-54c6-b6c6-79ea93385490', 'nyt://article/53220df1-5f7e-5866-9ce5-9b645a1d69a4', 'nyt://article/7775bef0-4a61-5d97-9d2c-b93de2ca319a', 'nyt://article/841e8ea4-81c0-55a5-90e2-9f854b631bf6', 'nyt://article/31b54b5a-8670-5d46-9f53-da3a7df41f8b', 'nyt://article/bf938858-5d5d-5907-8726-929112ccc441', 'nyt://article/2c4fcfe0-4152-5915-8da9-ff3f6df3f13d', 'nyt://article/50eb219d-459e-511b-a4eb-c6feb9f15fe7', 'nyt://article/ef47a80e-94bc-5c36-8d44-8d4224ce92b2', 'nyt://article/081caf13-8311-55ba-b659-845d5f7491d1', 'nyt://interactive/4ef0fac9-68ae-537f-ac7b-e165411fcc5c', 'nyt://article/2c1190c3-b15c-55aa-abec-e46649feb480', 'nyt://article/40bad37f-8934-5ae1-9915-a5627f4ed3f4', 'nyt://article/21cad100-f82d-59f1-ae41-1d37516395e4', 'nyt://article/f346f96a-8d34-53c4-88b4-f2e41179af65']",
         "['8254542100', '8140749981', '8293352416', '8032780580', '8288265787', '8235064820', '8118404699', '8251648303', '8465012928', '8046787293', '7981523405', '7918847547', '8139091878', '8255647145', '8037068317', '7997543488', '8255242016', '7950600445', '8299430207', '8306527227', '8058556118', '8243705187', '8297782499', '7954980176', '8230191702', '8108242081', '8453530099', '8251065765', '8467520394', '8256603386', '8198772349', '8368644629', '8291762595', '2024-08-442472571', '8257170837', '8250873370', '8285246341', '8380845599', '8103607541', '8311432009', '7952120516', '8280256076', '8244793200', '8005638063', '8235056458', '8069001545', '8326386051', '8018338170', '7997931724', '8466368301', '8466797644', '7994851079', '8255105317', '8414232430', '8048578604', '8455161297', '8254512660', '8144815864', '8180452614', '8408562824', '8235696120', '7970074744', '8107801548', '8178244469', '7927101693', '8313198196', '8070357745', '7965946307', '8274816358', '8255013434', '8416785578', '8400757486', '8250877942', '8171055527', '8349492507', '2024-08-440955040', '8042301335', '8254934708', '8151539347', '8233789603', '8449483270', '8291523571', '8212964489', '8244008342', '8291275542', '8347447079', '8081813786', '8367352281', '8256346120', '8199419056', '8054159853', '8355228292']"
        ],
        [
         "26",
         "Belgium",
         "BEL",
         "50.6402809",
         "4.6667145",
         "46.0",
         "99.0",
         "['nyt://article/6d0fd4d4-108f-53a0-92eb-ae6cde85c32a', 'nyt://article/ce07da87-93d8-5c3c-a0a4-ee6993131d2a', 'nyt://article/d515fd4b-c1c6-52f0-a959-bf21336531c3', 'nyt://article/81b10a25-11bf-5532-9cdd-23dea78d7872', 'nyt://article/631951aa-c4f8-5e68-bacb-4c46250dc329', 'nyt://article/3a4cfc4f-ab5d-57f5-a17f-ecc9ac8ad9af', 'nyt://article/1e40ff20-3a4b-58e9-9719-ebd96162a35f', 'nyt://article/1fe7f248-a1d0-56d6-bf3f-df0c4f0c39a5', 'nyt://article/61591a2d-84cb-5029-bc58-89d42c207ceb', 'nyt://article/39c9545b-8b8d-5251-8a87-a7e7ccce3f86', 'nyt://article/84939ce5-ddc5-5a6f-a06c-37ce914d4df0', 'nyt://article/70a0c124-049d-5118-9fe2-d39b2f30a0a6', 'nyt://video/bc415c6c-6ecb-5e48-a5ad-e5f5e2ab55b0', 'nyt://interactive/6200b426-fecd-5edd-9754-15753cae9c59', 'nyt://article/fcc2bb23-b4d8-5546-b18f-aff16ef38218', 'nyt://article/58da3e6b-b8b3-54dc-a564-c2e795ec9fec', 'nyt://article/0615e70f-5fdc-58ab-86c5-4fed006d8fe6', 'nyt://article/4336fc5e-b8e2-5566-977b-a86ef2fab052', 'nyt://article/278615cf-39bc-5967-965d-9db5c5ea3315', 'nyt://article/5eb73031-9a20-5e09-99f5-f93358a430e8', 'nyt://article/458f4489-9efe-5a9d-9e5e-b893deb668fe', 'nyt://article/89dd8747-9903-5e0c-89c3-a261470296b8', 'nyt://article/1ad42471-f803-5b9a-a19e-a429e4c4e91d', 'nyt://article/351a7081-1a05-5166-916a-f9f2045ea836', 'nyt://article/cc1e2e6b-2b38-5dac-8102-76cd1131d826', 'nyt://article/ca824b3e-85ea-506d-b6bf-f9b94c025737', 'nyt://article/b1cf93b2-5518-531c-8372-09985fb8a68a', 'nyt://article/4cd9a420-ddf9-5041-a52e-c8e4d9678bff', 'nyt://article/d6b19031-3e5d-51df-a313-6c540e5ce024', 'nyt://article/851b69ae-20b6-56b8-840a-2359f31050c2', 'nyt://article/3165019a-b0d0-5655-a2d6-49e3badc9296', 'nyt://article/87fc2fa9-b820-5a08-b8ba-7e6db0dee3c1', 'nyt://article/86c38138-69ac-52e3-b5bd-49c0fb33a79f', 'nyt://article/ffb9c4af-44c5-5ede-8cf5-c0193ad81907', 'nyt://article/6a9b613b-3619-5b68-a3e9-1852f29d773c', 'nyt://article/1cd28e8a-743f-5418-9e6d-332af33c1ebd', 'nyt://article/3f5f04be-e156-5f39-b845-8145daacfc2f', 'nyt://article/8e786d8a-125f-5b11-b7ec-4745a1425b8b', 'nyt://article/efa2c95b-0478-5ff8-a93b-5efde1352060', 'nyt://article/4076d5fe-4d52-5ac1-bc13-27887a7ad6cf', 'nyt://article/f2d2bf65-5b70-5073-82f6-34a2fb1b274e', 'nyt://article/5410630d-98fd-58ab-8966-5dcfd390941b', 'nyt://article/c3a3fb76-50db-54cb-8861-5d4f2f594973', 'nyt://article/daee73fc-eb79-5d80-a1f0-a4f688b766ba', 'nyt://video/3cac0e2e-7f4d-54c5-b35d-fb056724bcf9', 'nyt://article/fb011342-8413-5b74-868c-e1220ddd100e']",
         "['8417206782', '7943986493', '8116762860', '8296990629', '8371865439', '8196461358', '8287215247', '8042106609', '7951492381', '8317720198', '8193056840', '8040464156', '8204349636', '8228020514', '8323602916', '8455399153', '8218546280', '8204989690', '8222437563', '8412922747', '8242950019', '8366272670', '8105087858', '8378831036', '8185059744', '8154393048', '8248996948', '8040059621', '8070969383', '8138108729', '8076007317', '8170199428', '8323073466', '8211387457', '8242685181', '7958777812', '8283017397', '7967269263', '8293502966', '8080690593', '8046222672', '8092874435', '8170514838', '8133738203', '8141902879', '7995045295', '8128654751', '8190659872', '8182352444', '7958590101', '8037824471', '8384623510', '8228125374', '8341667355', '7996416646', '8024783938', '8150175811', '8234755593', '8113311339', '8305260097', '8386784992', '8188988622', '8097231194', '8169699972', '8443598962', '7979503540', '8442209942', '7944481694', '8257846965', '8244496201', '7961817764', '8296792873', '7954784492', '8322709640', '8019906540', '8424818037', '8185200523', '7951959277', '8185142756', '8145000061', '8428926647', '8197142799', '8449230810', '8267597096', '8149902649', '8261897403', '7936132748', '8093473984', '8455338007', '8106544211', '8429553908', '8067275484', '8464524349', '7943464782', '8323418453', '8259096584', '7996476973', '8002666349', '8196969139']"
        ],
        [
         "27",
         "Belize",
         "BLZ",
         "17.1204943",
         "-88.6859028",
         "7.0",
         "0.0",
         "['nyt://article/c2845922-ce3a-5bc6-b50b-2a894c8f2721', 'nyt://article/51c78c89-cca5-59e5-9a68-b827e81046c8', 'nyt://article/cc61428c-3ba1-5e63-b984-33e225b3d127', 'nyt://article/083a53a9-40d7-54eb-9fef-e4dc3c12049b', 'nyt://interactive/aed06f4d-8a51-5356-9d3a-d2a838fb17e3', 'nyt://article/ae32c3b2-9d57-5f9a-99f6-e9f4174795ae', 'nyt://article/39615756-7f7d-56e9-98a6-d928befd65b8']",
         "[]"
        ],
        [
         "28",
         "Benin",
         "BEN",
         "9.5293472",
         "2.2584408",
         "5.0",
         "6.0",
         "['nyt://article/80609bfa-1307-50a2-9a4a-936fa24d8235', 'nyt://article/00de4d63-40da-5112-a954-f9f6c78aa0b8', 'nyt://article/cefbee7b-1a64-555e-aa99-205c8c00965a', 'nyt://article/70884c44-d53c-546f-9127-a06965a947f1', 'nyt://article/cadd214a-9939-500f-a2f3-7aebf7a20faa']",
         "['8036723521', '8017817007', '8380440746', '7920440422', '8210951265', '7949272009']"
        ],
        [
         "29",
         "Bering Sea",
         "No code",
         "60.0000001",
         "-175.0",
         "2.0",
         "0.0",
         "['nyt://article/3dffadff-81f9-562e-bcaf-7f551af771c5', 'nyt://article/bf6a397b-55d9-51ba-85e9-5ced31ffff39']",
         "[]"
        ],
        [
         "30",
         "Bhutan",
         "BTN",
         "27.549511",
         "90.5119273",
         "4.0",
         "1.0",
         "['nyt://article/89c8e9e3-fe76-5a94-92cb-414d811ee293', 'nyt://article/8684e408-fa1f-5d86-b3bb-43fa8a2bf8e7', 'nyt://article/95929c9f-42fb-5d83-892b-6b2c3f5adb1b', 'nyt://interactive/caa7a64e-05f1-5a71-a588-1e8f311db878']",
         "['8370628510']"
        ],
        [
         "31",
         "Black Sea",
         "No code",
         "43.87282395",
         "33.99380770501095",
         "8.0",
         "0.0",
         "['nyt://article/1a69d72d-7e98-5c18-9ad9-0d196edd636b', 'nyt://article/e6b8866b-4bff-57e7-9c0d-824d3d2e425c', 'nyt://article/91aa07cd-6cd0-5e04-b58d-e9de6392ce55', 'nyt://article/eb1ac312-cb4a-559b-8002-f04ab5e3f1d6', 'nyt://article/86d3dad9-815a-501b-b06b-77260a47a38c', 'nyt://article/d2f8d9c2-05b8-56cf-a4a1-0a5d15a4fbc8', 'nyt://article/c4d75cba-2e28-54f6-8c17-1758b63ddf5c', 'nyt://article/85dc3162-5ce9-5a7b-8cfa-9b1b0507f646']",
         "[]"
        ],
        [
         "32",
         "Bolivia",
         "BOL",
         "-17.0568696",
         "-64.9912286",
         "9.0",
         "16.0",
         "['nyt://article/74422eb2-f3c6-5056-b6c3-c881fda6882d', 'nyt://article/fb261414-c74f-599f-908a-ad71c9751da4', 'nyt://article/766aa0d0-a57d-5a60-8a6c-6d6d8d2150ad', 'nyt://article/da794e2a-74d5-5277-82ec-d3a9064111ed', 'nyt://article/4fef2cc5-0b94-5b17-8883-79246953c5f9', 'nyt://article/f8a47009-5be4-5e3b-ab47-3945e3ab0111', 'nyt://article/a9f3362e-bfc4-5dc4-b95a-d10e18d34ae4', 'nyt://interactive/d5d460ca-b437-599b-a886-ec5fc49a6fb0', 'nyt://article/944dd5c5-5751-54ff-8676-4abb71d7fcaf']",
         "['8198846625', '7979711868', '8198538994', '8200912902', '7914942173', '8460958220', '8205251828', '8393214113', '8403510906', '8198439588', '8197361075', '2024-07-420372974', '8199435059', '8311474682', '8391873862', '8442292773']"
        ],
        [
         "33",
         "Bosnia and Herzegovina",
         "BIH",
         "44.3053476",
         "17.5961467",
         "14.0",
         "14.0",
         "['nyt://article/c6f66a40-992f-514d-8952-2ba0a6244782', 'nyt://article/f2fac82c-7bc0-580c-a039-713404f46e9c', 'nyt://article/d26facaa-7cb1-5708-be3d-b7f22d093d17', 'nyt://article/f0b6b2af-a7a0-5832-abed-8ba935ba66fa', 'nyt://article/6af869f4-b829-581d-86b0-e1fd2f3a0c46', 'nyt://article/cb6b4b88-0ae4-5c1e-bd55-d87dec1a5017', 'nyt://article/5962a870-e60a-5dca-86db-8d73b0e321e0', 'nyt://article/2b73876f-b727-57ed-a6d9-ae05c747c94b', 'nyt://article/2ea40895-14a8-5915-ae30-f6b189a67ce2', 'nyt://slideshow/428e6feb-2ad0-57a1-9c06-95e2866a6973', 'nyt://video/45ef2d15-673e-5695-9fe3-d7844dfc2a5f', 'nyt://article/05c076a5-bfbc-58e2-8b98-220f33766bcd', 'nyt://article/15f3afe3-9972-586e-aa7c-0175ec333618', 'nyt://article/cd09f73d-6b9e-566c-ae88-923092ce703f']",
         "['8358722336', '8358768964', '7967296692', '7968921463', '8360201286', '8347901173', '8359991188', '7968554178', '8384199339', '8354003676', '8012120011', '8369591299', '8349754304', '8202639540']"
        ],
        [
         "34",
         "Botswana",
         "BWA",
         "-23.1681782",
         "24.5928742",
         "7.0",
         "6.0",
         "['nyt://article/4492a8e4-7712-5345-b63c-bc0041706227', 'nyt://article/5b46ce58-9195-5636-ade0-378a2373f8ec', 'nyt://article/b792e806-eb4a-5489-b55e-3d9ed9f2301a', 'nyt://article/3ec2692e-3c94-53b0-86a8-4efba10445ee', 'nyt://article/4243bc16-737a-5a1a-996a-c1bd08ce953a', 'nyt://article/4add754c-68d5-540e-8584-633283e26b97', 'nyt://article/43e74e8b-c18e-5d67-9133-b8fc8ab6aaa7']",
         "['8286764886', '8448688563', '8062462775', '8095816715', '8390779070', '8061548683']"
        ],
        [
         "35",
         "Brazil",
         "BRA",
         "-10.3333333",
         "-53.2",
         "212.0",
         "188.0",
         "['nyt://article/c4aec98e-ca64-527d-a788-2ef5dc2c5e8c', 'nyt://video/859a0051-602e-5f72-b1b1-16e2aa53faac', 'nyt://article/0bc6eea9-bd66-588b-aeff-80bb1fca7417', 'nyt://article/1a369c33-2629-51ce-be71-80a78e4e23df', 'nyt://article/dbd195d0-acb5-51f3-94c0-c91cfa8d9a2d', 'nyt://article/364f4413-aa9e-52d9-8350-1a82d222cc04', 'nyt://article/c4631b95-48ed-55ef-9da1-5538e8381018', 'nyt://article/b7d830e3-54ed-52c7-bfaa-ae422b55ad8f', 'nyt://article/aba101ee-b370-5aa5-bc83-d9e347daa2de', 'nyt://article/d289696e-a671-55b9-841c-56130ce782d6', 'nyt://article/60e286bf-90a3-5999-abd8-0d47db8080a3', 'nyt://article/b462fdbe-b2e0-5a7b-8df6-f3c403e23f5d', 'nyt://article/603971a4-c18e-5c5b-8207-ac872b44fd64', 'nyt://article/9276b34c-3b40-57d2-bd85-9bf252de076a', 'nyt://article/3d727b31-652a-5f79-83a1-e92fc8aa56e0', 'nyt://article/6073f3a5-36c5-5f75-833f-28e5864c9f99', 'nyt://article/6b95b343-7a6d-5016-a47a-eee46a988bc7', 'nyt://article/3b3d552e-a57f-53c5-8ff0-31113b14c493', 'nyt://article/506d22d6-0066-50f3-8500-6e72356aba4a', 'nyt://article/27218239-bc11-5e15-80e2-b663b0fcef23', 'nyt://article/f9056355-2867-5957-be5b-5fae84e64cf4', 'nyt://article/031be2ac-5f2f-5e57-92ca-ebe7b6711508', 'nyt://article/1aa43b32-166f-5b5b-86d7-0de058a1e151', 'nyt://article/62ffe15e-d6b0-5ebf-83d3-a34fc44964bb', 'nyt://article/d52c8238-0112-5c63-b46c-805caca1c0e6', 'nyt://video/7dcc0f71-14f5-5735-abd7-66342b2376b7', 'nyt://interactive/6f9dfc81-04c3-506a-9b14-985065235d43', 'nyt://article/0c590090-ca6f-54c4-ba2b-7c7617059c11', 'nyt://article/a788c6c0-5cfc-590c-ac7f-4dff08add350', 'nyt://article/ec210860-0da4-51d2-97e8-904cabab7c84', 'nyt://article/01c04716-3a06-504e-961c-5ac92b022ea4', 'nyt://article/b7bd714f-70fb-5d22-af95-f26a8c107f02', 'nyt://article/91cdae3c-3269-5cdd-832c-82baeeda3296', 'nyt://article/7f482b56-f2d2-5106-b5c2-263b495b3d81', 'nyt://article/352e1341-bdb7-5bd2-8672-face1c4984c4', 'nyt://article/09acb071-28d6-594e-b3fe-4799a7bac8f7', 'nyt://article/06ab9076-03ce-549c-b6f3-a8207a8f0c78', 'nyt://article/44eb3eff-659b-565a-a1ec-cec54e0f4c77', 'nyt://article/370a9aed-358f-5a39-8f19-71f3aa93e9e2', 'nyt://article/8260b62b-2405-52e7-97de-51b26a46c2cb', 'nyt://article/e29bbbf0-cb8d-534b-9faa-2e389edc251b', 'nyt://article/7c6c5ad7-0244-5a88-8fa2-b0829e45aebb', 'nyt://article/af22806c-5e25-566e-988b-541a5ef200e4', 'nyt://article/6045611f-3f32-544c-9255-a5efa1b01cf1', 'nyt://article/e6eff96b-c865-54b1-856a-18e01a02c1b9', 'nyt://article/8ceeb74c-0110-5697-af59-7e47b2a6ba75', 'nyt://article/bda4c607-5ae4-5e88-8427-fd20fb629b21', 'nyt://article/31d215b3-6054-54cc-8297-198cc7081556', 'nyt://article/e51d7144-a3ad-58a7-b2ab-f72fbf339d4f', 'nyt://article/7da9dd57-ed51-5e70-8241-1bf7040e909e', 'nyt://article/dbd833a8-db59-54f2-81b9-02d85db7ed65', 'nyt://article/3c769e3f-a01d-565e-8352-792513d2b955', 'nyt://article/1a6a729a-b5d9-5783-8235-2a017c3797ea', 'nyt://article/4bbbcba8-047f-58b7-a463-bf0ac97eb607', 'nyt://article/680aee49-f5ad-5e41-9d62-97acb290b87d', 'nyt://article/e9c89d4d-4ee8-541c-a781-9d97668283c9', 'nyt://article/6b9bf558-1c17-5d85-9cb9-96957302965a', 'nyt://article/f4a1d113-1213-568a-9fb0-1214773765ec', 'nyt://article/e3829944-3631-5618-a43e-a6b7f3894bbd', 'nyt://video/325cd8d2-137a-5a6e-8ff8-490eac566125', 'nyt://article/84939ce5-ddc5-5a6f-a06c-37ce914d4df0', 'nyt://article/4e56c826-238c-59fd-8398-d946b54cafaf', 'nyt://article/d7a79c9a-a6d7-5b49-b66b-ea7b6c697da3', 'nyt://article/77b8aeb7-7ec5-52fa-a1ed-fbd711770b92', 'nyt://article/2eda1a77-2b58-54e1-aef2-f6480d753d9d', 'nyt://article/d35a2be4-8651-5b52-8cfe-d2f3296e0eb6', 'nyt://article/597fc5fd-c7b1-5211-956e-f842d3aa9cb9', 'nyt://article/0175e8a5-5910-51ad-a601-5277c3efddf1', 'nyt://article/fd53c2b7-0038-5810-bffc-82c26b78d593', 'nyt://article/13153a15-f62e-5ba5-8f9d-b3e03221a10b', 'nyt://article/22edf542-d819-5470-874b-7bd9e3ebff83', 'nyt://article/39294cef-5f68-5a08-a6b7-9c6fcf66fb06', 'nyt://article/bd0a7f12-0be0-5e7e-a360-519eb3902cbb', 'nyt://article/752b1886-c322-5f2e-bd4a-48cc30463897', 'nyt://article/9b68cad7-5db2-5b65-9b43-cdba75854545', 'nyt://article/32338471-a889-5e8f-893c-9de650970d17', 'nyt://article/02a8698b-e746-575d-b37e-7b04c79eacd5', 'nyt://article/506af149-2b90-501c-b50a-3fb4d9d28ad6', 'nyt://article/3cf5e168-0189-59d6-b2fe-4b771aa842a8', 'nyt://article/ac748229-fb1d-5fae-a0b7-319fb0e6e157', 'nyt://article/c8df73a2-bcb7-52e1-a56a-8318086d725a', 'nyt://article/5325bea7-8294-5880-9271-d86f80ee7a44', 'nyt://article/208c2f6a-924d-5d1e-a03f-996695ffc330', 'nyt://article/51a3d293-71dd-59f8-a322-ec977af34a3b', 'nyt://article/944dd5c5-5751-54ff-8676-4abb71d7fcaf', 'nyt://article/17579916-ca0b-5b2e-a84e-ef3a520f4b39', 'nyt://article/94a329f2-7dd2-582c-a694-a756a5f5852d', 'nyt://article/28494256-b138-5e5b-a944-e660352a3dde', 'nyt://article/1f5ef007-4c09-5a60-8f55-744934372bcc', 'nyt://article/0a8e3d79-e89a-5ed4-8981-e4b9c1d50354', 'nyt://article/e55efa03-d492-594c-9640-6f699f962a45', 'nyt://article/23a6bcb1-85a4-51d0-b972-847fd8758b21', 'nyt://article/d68dfe03-176f-5bef-ac8f-8356b37ebe8b', 'nyt://article/287d15e9-b5bd-5eb3-9d19-a4369c8f705b', 'nyt://article/8dc879df-0bfc-5666-90fc-588dee2a3638', 'nyt://article/5054688e-a54f-574a-9e7b-7ffb6cfaec05', 'nyt://article/472858cd-93e2-545a-9bca-ad6b2061b836', 'nyt://article/da358e0c-227f-5d24-9cad-8aa1e1a29c53', 'nyt://article/5777d841-50a1-578f-9a11-f36168c24726', 'nyt://article/9f1ef7b4-dbe9-51b5-b495-a4f0bf1451f2', 'nyt://article/ae862df1-83da-5c3c-8588-4f513328f315', 'nyt://article/1144da25-6dd7-5369-8457-6c700b537ae0', 'nyt://article/577e90c9-a37a-53db-a173-7c44b6ae0b6e', 'nyt://article/ff8e91fc-f14b-5308-859f-737756f5a21f', 'nyt://article/3fd16c5a-3909-57a3-b4fa-13452ebfdbd8', 'nyt://article/dba88884-4d7d-5750-bbac-289cd1cf4cf2', 'nyt://article/0e91b0cf-6abf-5723-a3cb-e8633c2d2164', 'nyt://article/906b4e9b-f6c8-56c5-a829-d8a8f44f37c4', 'nyt://article/7a74f8f9-1c0c-52df-a259-403bb410d95f', 'nyt://article/8cd8346d-694e-5d55-990c-74317f6ee960', 'nyt://article/482228c8-15a4-5b2e-a76c-97227c49dbc1', 'nyt://article/a8387394-60fc-5413-8e55-9bb118209e59', 'nyt://article/72750308-710a-520d-8077-0128b76dbc62', 'nyt://article/ee314670-308c-5285-945f-84bc53fe90a5', 'nyt://article/a580ad1a-1693-541e-8b44-143d56083844', 'nyt://article/2243d03f-acd2-5628-a14c-ceac812c7f56', 'nyt://interactive/b9f9c273-99d2-5614-acdd-ff520e893d62', 'nyt://interactive/4e9328a3-5f4e-5238-9b6d-8a1924da3489', 'nyt://article/42d47da6-2661-5822-82e5-6ec86f1a388f', 'nyt://article/c074859b-f07e-59ae-ac5a-3b2b450c7b2b', 'nyt://article/90e7e151-69bb-5749-a07f-d18f9ccbe36c', 'nyt://article/ab94bcdc-20da-50ea-b5d0-f23fcf4afed7', 'nyt://article/5ac52914-6905-5c1e-aa6b-89d425bf7abd', 'nyt://article/4a6b157e-95fa-5cf0-a473-8b4fd100c503', 'nyt://article/4c898390-82a3-5d21-9e63-bee012af32ca', 'nyt://article/f6b1d71d-9b89-5163-af4e-2c25687afb9f', 'nyt://article/3acfab73-83ff-50d3-8430-0cb4e2349be2', 'nyt://article/df20dbaf-d7c1-5a58-b6eb-e8387e796a51', 'nyt://article/7a4951d4-496c-503f-a1e7-044469e67725', 'nyt://article/c05d1802-fb11-54c6-b6c6-79ea93385490', 'nyt://article/c1df7566-51e6-5183-9349-aa26aa47a9a8', 'nyt://article/d59f86fd-bc6a-511d-9d57-614801f1b784', 'nyt://article/cadd214a-9939-500f-a2f3-7aebf7a20faa', 'nyt://article/99edfa44-e5a1-50af-b7b6-39d68c2e560f', 'nyt://article/10abe48f-4fe7-5008-af07-dbdc658259ee', 'nyt://article/71f10b28-0ac8-5c74-8101-a781d8b88dd4', 'nyt://article/3b927a80-7aa6-5ffe-ba57-557ff839deb9', 'nyt://article/2028ab73-b945-5eaa-85ae-58945f6df85f', 'nyt://article/ace6a6bf-79d9-5d66-9ce2-23277b0d9cbd', 'nyt://article/aad53d3e-9be5-535d-bf3a-2bf6928ebb12', 'nyt://article/c5fb2795-a67c-5aad-b7ce-bad8adb856bd', 'nyt://article/9d3dc1ee-dadd-52cc-a013-9f882c14ea8a', 'nyt://article/b7b1dd48-bfc8-51ef-a8fa-21879c1e19c2', 'nyt://article/b5bafaae-6eac-56a1-bd81-152687034bb7', 'nyt://article/fc549e76-b494-5fb4-8ba1-d5549c3ee577', 'nyt://article/4548fe2e-6560-5406-af88-afb9185bc574', 'nyt://article/18e5ff79-5054-5b3a-adcf-af96e67d5d62', 'nyt://article/82c3ab0f-fe3b-5d86-998a-16c15c23f51a', 'nyt://article/dbdcdf3d-f029-5dff-a4a3-8d5fb5bd202a', 'nyt://article/92641805-06ec-5b59-be99-3e39512c583f', 'nyt://article/7f461088-36ef-5e9a-9af5-fa296509b52f', 'nyt://article/df186b1c-f7e9-5da8-b486-8cbc45bd6703', 'nyt://article/385607e0-0da2-55bc-a6f1-4ebec5ea0f8a', 'nyt://article/cb7ef204-4197-5a10-b8ab-d79876d02710', 'nyt://article/e49b94a1-a8d0-5233-918c-33ea799c943d', 'nyt://article/e24b2ffa-2f0b-548a-8d37-7a1939b55e29', 'nyt://article/4fef2cc5-0b94-5b17-8883-79246953c5f9', 'nyt://article/5c6c8048-7220-53f1-9d4e-216b9b4d57dd', 'nyt://article/569993d1-fb5d-57aa-8940-c51ce3633fde', 'nyt://article/716875f5-acd4-5d2b-a64c-4a5b5741a1a7', 'nyt://article/a69c7170-68aa-5b95-b7f0-6c534ddd82fe', 'nyt://article/d1823118-7bb5-51e6-9444-d382f3868087', 'nyt://article/3def920f-2532-513e-919c-2ca26a78931f', 'nyt://interactive/d5d460ca-b437-599b-a886-ec5fc49a6fb0', 'nyt://article/3d887152-073b-572d-a0b0-3ab58fc02f33', 'nyt://article/a88f2c07-14b8-5878-8ef5-3bb2a810ca14', 'nyt://article/a988d12e-2d3e-5812-8e59-4296e40b202f', 'nyt://article/0a0d5fff-e858-51c8-a397-b9878dd5d1a0', 'nyt://article/019cc577-cf26-51e6-aba9-14c984f884cc', 'nyt://article/256a79ee-1780-58c5-9f61-8fb9341c1f8f', 'nyt://article/a008167d-fddd-5f78-a94f-a5c20c40e7e5', 'nyt://article/c96b3b9a-6c5c-57ec-bbed-d450937bf68c', 'nyt://article/799a22bf-04cd-52da-8621-923983c6b79b', 'nyt://article/b44ba9e5-ea89-5dfc-bd2b-228e09383129', 'nyt://article/2dbe967f-70b1-575a-9134-233cf7dfcb33', 'nyt://article/ee219c3b-c31d-5dee-97f6-1a8cb87a5fbc', 'nyt://article/22741380-5dd6-5380-84f5-ed5ea29c71db', 'nyt://article/a3b53364-d66d-5b49-bbff-c691b660ccac', 'nyt://interactive/2e8dd042-42da-5b56-aa1f-96c3c4d7b6ff', 'nyt://article/f40b9e43-17f9-55e8-9370-cabc6c2a2d13', 'nyt://article/32539e60-583d-5704-88a1-15e73653af53', 'nyt://article/76dbecbe-4d0c-5f48-855d-6dff04a6991e', 'nyt://article/517bbf85-0e20-5f12-88f4-75aa934749fb', 'nyt://article/848be629-562a-526d-b240-cd096aae3482', 'nyt://interactive/7db7a662-415a-5f69-818a-b54b2c71472a', 'nyt://article/97f24409-e7f0-5bad-822c-acf480eb76ca', 'nyt://article/74f685c1-dbee-5fdb-a27e-4dab4b2af226', 'nyt://article/dc937207-f6e1-5c9b-bcca-cdfe60718ef7', 'nyt://article/2832a632-5b22-5aa7-96df-983255497b61', 'nyt://article/1dfbd1b3-3829-5ed0-b37b-8af8539d98e7', 'nyt://article/3fba21b2-f951-5098-97f1-9bd61e433a7a', 'nyt://article/00b440e3-2d15-5466-a0de-e24e25c9ee8f', 'nyt://article/bf56ce35-304f-54cb-8560-ccdef084ed22', 'nyt://article/4ff0123d-daed-5869-94a7-48c73ddf6491', 'nyt://article/1608e08f-2ef7-512c-8526-2ad7f6c3c88e', 'nyt://article/83bca7c7-7596-5e2c-9eea-6d62859db832', 'nyt://article/cda9c78f-a2c5-51f2-bb6c-f1ebdee30802', 'nyt://article/7dabb456-eae4-5659-ba12-2099c2e7a1fc', 'nyt://article/92c398bc-c844-5259-98fe-57dbfab2eb19', 'nyt://article/207a8efd-a20e-5d9e-a702-950fe0de80ee', 'nyt://article/993e63f4-9549-5085-b6cc-addbfff3691c', 'nyt://article/72205a30-3e6c-556c-96f9-f7aa42fa4bb9', 'nyt://video/68ea45f0-a15a-5b9b-9d23-47583defe934', 'nyt://article/476f76a1-91dd-5dae-87f3-db5da79f0854', 'nyt://interactive/0fb6e473-4239-5706-98fc-9a22dc60a61e', 'nyt://article/73fd6413-092a-5d34-a70c-8f00cde3312c', 'nyt://article/04b201fb-5a15-585f-963e-2fb2faaba0ea', 'nyt://article/1f941312-2902-5da4-963f-ae6f5cd86439', 'nyt://article/2ebc8a6a-05f0-54c4-86a6-ea4a2fe3d45a', 'nyt://article/4b9addb0-ece4-5275-a497-a5742b169c82', 'nyt://article/b465200d-6d3e-50b5-8d80-75081085dd5c', 'nyt://video/5d66abcc-b231-52c3-b659-20f1d80f18c9']",
         "['8310246138', '7976061638', '7979252223', '8103166242', '8215999185', '8267512610', '8251182191', '8116762860', '8390371030', '7974240873', '8250907485', '8356475109', '8387207986', '8278295259', '8445685932', '7953937604', '8337419821', '8443577930', '7947791075', '8216512820', '8442292773', '7998433974', '8423013730', '8400123748', '7921156934', '8379200659', '8415148259', '8430633172', '8242276898', '7991576640', '8039362988', '8350996198', '7992126339', '2024-12-575893358', '8259495065', '8431612511', '8006440546', '8330491026', '8415141720', '8433323827', '8445719710', '8214403841', '8009506589', '8036776512', '8184545522', '7998343136', '8003072918', '7976104918', '8416411414', '8241609812', '8130043644', '8105087858', '8110908631', '7980619154', '8354175432', '8000148221', '8222520064', '8112829071', '8316734310', '8286949368', '8018158064', '2024-03-301040023', '7966164992', '8221785829', '8013524909', '8410410223', '8120065598', '8350255443', '8146301241', '8187931126', '8210343439', '8071891816', '7937373509', '8370628510', '8417423693', '8005578550', '7998289285', '8164245703', '7920682941', '8299788260', '8110135004', '8230191705', '8405413584', '8350236240', '8264763201', '8467949217', '7990201906', '8329476062', '7973233561', '7993962826', '7991463192', '8113620071', '8415529234', '8320689832', '8111018143', '8263708983', '8462960264', '8096509938', '8117983114', '8355428630', '8381789699', '8268001182', '7972639377', '8205443872', '8340762778', '8479444477', '8415978247', '8476323590', '8369962672', '8195205193', '8310276877', '8394870152', '8304890381', '8474988097', '8314097507', '8378177806', '7930022869', '8276278686', '8244095912', '2024-10-531585484', '8126951822', '7999878839', '8214161202', '2024-02-243604121', '7987581717', '8311564087', '8004037452', '8261992137', '8247519807', '8008411042', '8273813083', '8379745177', '8274195451', '8080730800', '8319674525', '8291259771', '8195779584', '7935011556', '8310231679', '8305144622', '8046032400', '8416411416', '8112201097', '8416116934', '8251382201', '8001862511', '7992067358', '8079149621', '8417981652', '8030974899', '7950293605', '8264926175', '8224748400', '8421319380', '8302483608', '8120539154', '8139131762', '8338885272', '8275444336', '8191608978', '8466050972', '8123318190', '8120158333', '8458122204', '8046636266', '8303556284', '2024-09-478323189', '8131866627', '8291490003', '8155383268', '8002673399', '8268952860', '8330899691', '8306907634', '8046364169', '8388978797', '2024-04-324583345', '7955229940', '8272064274', '7918797637', '8239175588', '8038011951', '8046147305', '8052701426', '8007798849', '8184674614', '8266923118', '8068454206']"
        ],
        [
         "36",
         "British Indian Ocean Territory",
         "IOT",
         "-5.3497093499999995",
         "71.86064227010121",
         "1.0",
         "0.0",
         "['nyt://article/7412a0b8-5798-512f-92b9-94089426bec0']",
         "[]"
        ],
        [
         "37",
         "Brunei",
         "BRN",
         "4.4137155",
         "114.5653908",
         "0.0",
         "1.0",
         "[]",
         "['8104113984']"
        ],
        [
         "38",
         "Bulgaria",
         "BGR",
         "42.6073975",
         "25.4856617",
         "7.0",
         "60.0",
         "['nyt://article/6a5bbb3e-eac4-51fd-8ff7-cf9c18c99aaa', 'nyt://article/961fe384-720d-5789-b310-105e7d3c0b9f', 'nyt://article/7b8fbf6e-0c80-52bd-977b-e38aa98ca567', 'nyt://article/411711d8-0299-5691-a375-9bf010543175', 'nyt://article/e6b8866b-4bff-57e7-9c0d-824d3d2e425c', 'nyt://article/dc9c142a-e59a-504f-ba02-4f8789cd0be4', 'nyt://article/c6e1d0a5-e168-5ed5-8b84-908060e78042']",
         "['8296896030', '8304146914', '8316451065', '7930158479', '8329242153', '8306675574', '8252449590', '7958713482', '8454103174', '8080711093', '8072458219', '8118267555', '8216820008', '8063504309', '8314927181', '8295570885', '2024-08-466305990', '8358103804', '8356803296', '8317545739', '8113416959', '8463554249', '8061466982', '8056183015', '8420555712', '8293839821', '8196693790', '8451092043', '8434938101', '8170031863', '8291484227', '8424032292', '8264047284', '8232287272', '8212619923', '8172449632', '7997829986', '8291344627', '7935398685', '8055711316', '7993974175', '8354922090', '8274565577', '7998529752', '8447781616', '8278679882', '8450053265', '8051469132', '8190250699', '8306650481', '8409853589', '8357786610', '2024-02-261824258', '8295458756', '8345150480', '8454384232', '8383771627', '8056975524', '8356230053', '8386115118']"
        ],
        [
         "39",
         "Burkina Faso",
         "BFA",
         "12.0753083",
         "-1.6880314",
         "10.0",
         "12.0",
         "['nyt://article/f53c045c-2311-55c4-9658-01bb0ae3311e', 'nyt://article/1b8fe781-3948-59f8-98df-602b7a9b43d8', 'nyt://article/8e9c68f9-7b15-536d-a7c7-9b34671ab74b', 'nyt://article/244cb9fb-1377-51ff-8221-63c988ea0b66', 'nyt://article/180f7ee3-173c-5685-a2e5-5f573f4117fa', 'nyt://article/ecc5bfc7-5513-5e1b-a118-6e290e1ca70f', 'nyt://article/e7245a15-f2db-5f9d-9585-a92b309a28fc', 'nyt://article/6aefe6c3-ed07-5f7f-bd9e-b019f33fe902', 'nyt://article/f99ea5a2-b950-53f2-99f7-5ee1473fed0f', 'nyt://article/f0140bc7-842a-55f6-a0b0-2993e7c1dd6f']",
         "['8141544071', '8017817007', '7953531413', '8291608772', '8214322916', '8267056681', '7961490047', '8446113019', '8184662210', '8459233812', '7992284061', '8146005903']"
        ],
        [
         "40",
         "Burundi",
         "BDI",
         "-3.426449",
         "29.9324519",
         "2.0",
         "3.0",
         "['nyt://article/de5d2cfa-6811-510c-aded-0a3c48c11659', 'nyt://article/ec31d0fe-c8a9-5858-9171-7f2a5eccc64c']",
         "['8013463803', '7927847804', '8267185186']"
        ],
        [
         "41",
         "Cambodia",
         "KHM",
         "12.5433216",
         "104.8144914",
         "17.0",
         "3.0",
         "['nyt://article/c440d31b-563c-55e1-8b79-503e757d6c5f', 'nyt://article/a7aa22f4-ab25-5b9a-8423-0fb76b3d474b', 'nyt://article/8c726b97-3972-5467-9881-43a327c3c29e', 'nyt://article/c1cf263f-fdf5-5dc5-b140-943d67e28a2d', 'nyt://article/ce205cfa-1338-5dcc-9137-05d62e27ec4b', 'nyt://interactive/7c53d0e8-f08c-5155-b878-6ae27aa87510', 'nyt://article/f77eea6e-9e4d-5910-9f66-49f09fd9b59f', 'nyt://article/adcc7bec-5cc2-5d65-b4fa-e4c3a5b20ba8', 'nyt://article/b59182d4-693a-524b-88c8-e750fb96a74e', 'nyt://article/0a45f15f-fa47-5f6a-a317-522b0410018b', 'nyt://article/559bd399-1e4c-55e9-9331-7a547161956f', 'nyt://article/8ecee37b-633f-597d-b9b6-1300b012ae96', 'nyt://article/726871b4-d714-58fe-a340-8c80abe3cc54', 'nyt://article/763f15f9-c0cf-5333-80b7-690312b01ac8', 'nyt://article/1e9f9ee1-1d31-5c6f-8f3f-e332449f871e', 'nyt://interactive/d5d460ca-b437-599b-a886-ec5fc49a6fb0', 'nyt://article/c6aa1a0f-0410-590c-ac89-523e3b855dd6']",
         "['8072821993', '8084207730', '8122680343']"
        ],
        [
         "42",
         "Cameroon",
         "CMR",
         "4.6125522",
         "13.1535811",
         "7.0",
         "12.0",
         "['nyt://article/50da83b5-69c8-52fc-a1b7-e174d4f3f07d', 'nyt://article/a988d12e-2d3e-5812-8e59-4296e40b202f', 'nyt://article/fcaf05cb-0e4b-5063-a3f8-ef729ede2429', 'nyt://article/c5fbdca0-e1f8-53a4-a6c7-33fddc6ea359', 'nyt://article/1dfe1dd1-4683-5496-b7d8-ac104d563057', 'nyt://article/d4e8d43c-b797-5d94-8de8-bd4b668e4abe', 'nyt://article/1a870742-7dc9-5dff-be4d-eb18e5fe5256']",
         "['8386493922', '8098787791', '8445157434', '8244532289', '7933476955', '8231099655', '8369080992', '8329807290', '8282846926', '8329926193', '8212012746', '8236985476']"
        ],
        [
         "43",
         "Canada",
         "CAN",
         "61.0666922",
         "-107.991707",
         "347.0",
         "124.0",
         "['nyt://article/9634d336-8811-51b6-b13d-86c9d2b65752', 'nyt://article/34471c90-472f-54ec-b703-39c79e23dea9', 'nyt://article/7c0a5bbd-3610-593a-8c7f-8dc6d6dfc46c', 'nyt://article/484b0ec0-e05f-5f03-a5f7-a468f713665d', 'nyt://article/99469c8b-8b0d-5040-bf08-3d280123988a', 'nyt://article/6c55a2e4-c1aa-5e03-92f2-fd058f9f97e1', 'nyt://article/cabe133e-dec6-5f79-9aca-52bf0b37d91a', 'nyt://article/608e8353-e88a-55b0-a631-2eb964b06fc4', 'nyt://article/da88c5e3-7910-5b12-8e64-02084e6db26e', 'nyt://interactive/ae557018-3933-5e57-8b30-2f195b161811', 'nyt://article/c2a0e691-a44d-5aec-ab16-1f5a434efa98', 'nyt://video/3b261cc5-c5e5-5481-9bf0-0b6e0aa298a6', 'nyt://article/ed165c11-21e0-5162-9a4c-f2aac944750f', 'nyt://article/2ce12f2c-06da-56ec-838b-e4fd5d4a51f5', 'nyt://article/2ccbcc75-d9f4-5938-afaa-d34c877a8b5b', 'nyt://article/f700f5b3-cdf7-5131-a7ae-0e208552229e', 'nyt://article/dc90d96f-c76d-5ba0-ab15-19a64cc1cead', 'nyt://article/d3846a6b-e2ff-5ba3-ba3b-aed06545bfb8', 'nyt://article/4336fc5e-b8e2-5566-977b-a86ef2fab052', 'nyt://article/fa4dc20a-629a-5837-8675-7342a7095464', 'nyt://article/4e76384d-764d-55e5-bd22-9009d4148189', 'nyt://article/272f90dd-396c-5fb6-aff6-5df1dfdff513', 'nyt://article/0c6b924b-246a-51cd-9237-8e2b6b630098', 'nyt://article/713fa2cf-9ed7-5564-9b62-6fa7f4accc97', 'nyt://article/937d629e-5c21-5863-9358-9b93767b194d', 'nyt://article/95494e94-7f8e-55c8-88b2-1a0a63c35d34', 'nyt://article/232d4e99-3371-59e7-a1f3-c0995febfc66', 'nyt://article/009c2573-dcbd-5414-8880-c295b0cd1a7f', 'nyt://article/caf2171e-6951-5bc5-9262-ce9e1494d974', 'nyt://article/fca9d08b-77d3-5839-a9ff-9497c4e92fca', 'nyt://article/7b3fc537-a568-5d3e-b1fb-07e3166ec112', 'nyt://article/907a6bde-bbf2-5eb1-bd7c-84d3019d5291', 'nyt://article/7ab4cc33-7f0c-51dd-b093-f649f6238326', 'nyt://article/472858cd-93e2-545a-9bca-ad6b2061b836', 'nyt://article/b5f1df69-24bd-50b2-b3c3-287a8d233753', 'nyt://article/bbd016ba-d860-576d-99e1-0f251f01af53', 'nyt://article/53fc122f-2cba-5278-a048-212c3eefc721', 'nyt://article/b3e395bd-8d3a-5ca2-abb4-fd1712abb304', 'nyt://article/290b3664-6ae1-5700-91b8-bb79f06c4a06', 'nyt://article/345ee78c-1013-5ed5-a0c8-c8c6f25db6e2', 'nyt://article/23ad3619-a76b-5125-b61c-5a0779e3e2e2', 'nyt://article/07fcf2e8-4cef-5d89-8514-c795ef74ad24', 'nyt://article/417aeb7a-24fd-522e-9ae9-64b0c8be1ab1', 'nyt://article/7618564f-74cc-57e2-ba2a-968ef833000f', 'nyt://article/5862b2c1-da5b-59e8-9f75-11e86d6dad0d', 'nyt://article/81d4cd49-71db-5b39-8631-8baf6987baa2', 'nyt://article/7a828e86-6353-5787-953a-335a2d7c456b', 'nyt://article/81ec3052-805f-55df-8839-d68b7a459688', 'nyt://article/cdecb5f3-3958-5c6c-b0e3-b9c792ceb944', 'nyt://article/2293e392-8bbd-5550-872c-92cea5e7ef35', 'nyt://article/e09d5df9-e70d-546f-9d55-9f4ddec8c103', 'nyt://article/be8e1ec9-d1ae-533a-999f-4b2361f5d223', 'nyt://article/6dd8802d-fd2d-5e65-bb10-88359f8fe1de', 'nyt://article/d1bdbb82-20cb-5273-96df-965e0453d00e', 'nyt://article/14441454-ee6b-5dc0-85f0-cc8d0cc98c1a', 'nyt://article/e681d593-73c2-52b0-a073-ff840504dca9', 'nyt://article/4095f212-1db5-53ca-acc8-61b6b0405e6d', 'nyt://article/ad665815-e98d-550c-947d-fe1b6b6c868f', 'nyt://article/8bf2376e-59ed-5c9c-ac2f-1d7e18c30e82', 'nyt://article/b60263a2-9068-59e9-a217-de93a57bad73', 'nyt://article/2e173a82-6f5d-56ff-9a14-c1698f798c43', 'nyt://article/d2111079-e7de-52a5-80be-54fb6fdd08aa', 'nyt://article/7d406b18-def2-55b9-9989-3655459a43cf', 'nyt://article/986daf17-18d5-5f34-898b-0bd6a0d3da59', 'nyt://article/e64bd29f-c602-5e6d-9ff8-6da1edce98dd', 'nyt://article/b9b572ee-7a43-5dde-9ca7-abccb1d7c64c', 'nyt://article/2990b8aa-41d0-51bc-9a84-edb0c51ddd29', 'nyt://article/1c2f0425-7b78-5a8b-b17e-41ade1223192', 'nyt://article/8e2f78a5-8a57-5bee-b02a-4e001d3c7037', 'nyt://article/23c710dd-c274-5a41-98dd-94637960045d', 'nyt://article/8aaa5ccf-c6ec-5954-950e-dd8609b840bb', 'nyt://interactive/f153fa1b-4a3c-5f0b-b399-a6293e30212f', 'nyt://article/2f3ed7ac-6d90-5aed-9e1e-79e8fdbdfd0c', 'nyt://article/8a790596-1e51-52d1-bbd8-a23a6bdbbe38', 'nyt://article/91f7abe3-2818-5df4-9629-6c18bc2d2e1a', 'nyt://article/fd46fee6-68ee-5041-a3f0-816d4834889f', 'nyt://article/74e12c53-c6c2-5e3d-ad6d-6a96fa680993', 'nyt://article/a72590e8-dcc2-5c4b-9522-e5fb52746cac', 'nyt://article/07d6c3b0-2249-5964-981f-8a2f76357a27', 'nyt://article/ba5abaa5-22e1-535c-99f2-b894651ce10f', 'nyt://article/45d17653-b188-5f7b-80c7-f9bf3251ad89', 'nyt://article/d895a8ad-71a7-5e55-a5a6-8de1d6729c7e', 'nyt://article/256daea0-f119-52cf-a824-1fac2f70e684', 'nyt://article/6ff19930-da65-5e50-b4de-9916219e5784', 'nyt://interactive/b7174af5-7083-52fc-8f94-14dfeae60af3', 'nyt://article/d871b448-f472-5896-b02f-bde4b1582557', 'nyt://article/c19d67d4-b550-5e54-8552-064ab7e2be40', 'nyt://article/47f384aa-d01f-57c5-9c4e-69dee7e00635', 'nyt://article/5a7ae7d9-b4d8-5695-8b2f-22c36068f9f6', 'nyt://article/b36195c0-6cd1-5efd-aaf9-398b1ec19d68', 'nyt://article/0150f781-adde-5b51-a27b-5ee1a516ad11', 'nyt://article/8ceeb74c-0110-5697-af59-7e47b2a6ba75', 'nyt://article/f51c31c6-4ffd-5b98-98a7-f7c68dd97d64', 'nyt://article/2db3a27a-1dd9-5cd5-a564-f78d3c0f9576', 'nyt://article/3ba6fd38-d24b-5c13-a510-fb20761cda12', 'nyt://article/1f4e11c0-5395-5ac7-a538-839f74e1c545', 'nyt://article/10b68136-7d20-5392-bac8-0a29cbb85c8d', 'nyt://article/99c41f37-9ce1-5683-8d49-1a5e8d953912', 'nyt://article/44b602ef-452c-5974-a507-1ff7b378e6af', 'nyt://article/0af8fc57-fbd4-5b61-8384-5a7d126db5ca', 'nyt://article/c0f976ba-1357-5979-acac-cc02984d1fa4', 'nyt://article/b6ef76c1-45d7-51d2-80ea-17d4b907a6fd', 'nyt://article/e20b659f-6e86-5ad7-ad26-ed1003769082', 'nyt://article/6a1afc0d-23b3-5a5c-9e32-c1df928a7590', 'nyt://article/c0a0f857-ecb6-52d0-962d-b9803e401ca2', 'nyt://article/863d7ce7-229f-50f2-abff-2ed220500715', 'nyt://article/5ea115c2-6b85-584e-9188-8f0e84251856', 'nyt://article/6da5038a-d598-5572-b54e-14e32267ddd4', 'nyt://article/398e854e-4820-5aad-b0b2-b0daea8e6cd3', 'nyt://article/c6eedcd7-d9c1-579f-9664-616908b2dc25', 'nyt://article/546a73f3-cbf8-5f41-aaab-23ff75fe0b58', 'nyt://article/a38a7b5f-f638-5f16-bd08-ece1782e3a7a', 'nyt://article/dc0c6e06-eeee-52f8-bd73-014d854f0fb5', 'nyt://article/c53c9271-b07d-565c-9223-5ae808535c9d', 'nyt://article/a5903af6-130c-59e5-a908-e26f9938ea55', 'nyt://article/3b7883c9-8aa2-58ea-b78c-bfc99a59dc17', 'nyt://article/43faa9f1-d702-5735-bfe8-15372a05ab98', 'nyt://article/ccd6bc59-1026-5572-800b-4e683f862969', 'nyt://article/26217966-86fb-5795-aced-96dc4bac340a', 'nyt://article/252ae56a-1dc7-506a-9f36-0210728aad0d', 'nyt://article/2cd98abf-e3c0-5fc4-a332-c28f4d05bd9b', 'nyt://article/81012c29-8632-5056-97f6-60b9727c6848', 'nyt://article/0eac39a2-99da-55bd-aca6-e98959d6c840', 'nyt://article/9d2fb890-56a3-5af1-9bd8-abeaf02358e5', 'nyt://article/8fe504d4-2e5d-5cb7-bcf0-b8f47125dc9c', 'nyt://article/cfc43048-bf97-5e05-a2a2-49fc6757584f', 'nyt://article/c72b539f-3fcf-52e3-92cc-ad6be4ebf9e6', 'nyt://article/55105b16-71c2-5e71-af6d-5fb2f3714351', 'nyt://article/21c013bb-159c-5fe3-ad39-00456a9dcc80', 'nyt://article/34755866-baa4-5af8-8f83-4ae4a24c97a0', 'nyt://article/658e2488-2276-536b-aaf3-dac7d9959ff6', 'nyt://article/5e5c3c09-42fe-5702-a897-ac99ed0da598', 'nyt://article/bb262d5f-a165-51e4-bafb-8443e7fca3c6', 'nyt://article/dc890902-a23c-56ba-bca8-5f8f0071a60b', 'nyt://article/55a5b7fa-8f9e-5e06-b607-346177007093', 'nyt://article/296e6d59-7af3-5196-9696-249b9066ceb4', 'nyt://article/852d9c82-87f9-5e10-a6c3-7d37159a6ef4', 'nyt://article/1e1089d5-7e64-5582-b2e7-cf0f2ae4f193', 'nyt://article/969e5ae1-c413-50f8-a98b-62b53213c3c4', 'nyt://article/a97097b9-4806-5c14-b978-f217ff768843', 'nyt://article/da910635-c6eb-5bbf-b0ea-346796620104', 'nyt://article/b0d12d7a-c8e7-5c36-bd3c-669590c80d57', 'nyt://article/7fde1996-d185-5781-bd34-1f8dffe80752', 'nyt://article/061b1d80-5b7d-5a73-a5f4-bcd2f5574ad5', 'nyt://article/c272af05-a534-5fed-8c81-b5f193e467a9', 'nyt://article/d039c247-225b-5b43-8430-0724abc3c7df', 'nyt://article/722a8687-4a4a-53d1-8356-d706c5104b93', 'nyt://article/0f4aeaed-decf-5bc9-9efc-c7d5d82bd9f7', 'nyt://article/11e064ab-9132-5c67-8000-71515cf921fb', 'nyt://article/209519e8-7368-57a4-b8fb-53c598b9570e', 'nyt://article/d42cf4dd-379a-5c9e-a024-c3520d605c27', 'nyt://article/38b2fe37-2e36-5369-80a6-2a8c691bdb44', 'nyt://article/5d4f7dc5-a1d5-59b7-a8d3-aabcd1972aa0', 'nyt://article/bf3b713d-876b-5511-ac2a-43b805f771ed', 'nyt://article/04a21d9a-ecc3-577d-906f-754d2457224c', 'nyt://article/9f5e3842-82d1-5e66-915f-ab93d564c7ca', 'nyt://article/350a9c04-fd7a-5b60-b4a2-1792b74e399d', 'nyt://article/c920f705-6331-5c1b-a96f-77e4ab4c497e', 'nyt://article/935764cf-a716-59dd-9734-9631cf445acc', 'nyt://article/0a996aca-0daa-5d56-8591-56f6e889fa1d', 'nyt://article/4442ce9d-c553-5fd5-98e9-fec26eb78212', 'nyt://video/019e96bd-15c3-59c2-9819-520bc4b63d3e', 'nyt://article/f8f13337-8f29-513a-89f6-6163fbab4175', 'nyt://article/dda12879-6477-515f-b996-b72659942e35', 'nyt://article/a3e00b18-c078-5cfb-b6b4-1b99607225f4', 'nyt://article/518298d3-b05b-559e-8814-34430ede99c3', 'nyt://article/e953fdba-1714-5be3-807e-590dfb4d0e9f', 'nyt://article/975b5c99-9580-579d-b972-7ddbd29a38bd', 'nyt://article/5c379f18-956c-57f6-b04d-3835f6df6c54', 'nyt://article/e7b0e0b5-e75f-509d-a9f1-e57c15e1493e', 'nyt://article/17ea0afa-d3ea-55a2-85a8-8799db99297f', 'nyt://article/9d3a4a42-d615-5e9d-8db8-9779bfc63ebd', 'nyt://article/93bf167c-51d0-5e3e-a5d6-cb6847993410', 'nyt://article/1e8c8760-213a-58a7-9a67-cd2d9376189b', 'nyt://article/7ff497cc-fa85-5233-bc64-6ca50804ebae', 'nyt://article/908dbcc2-0d7d-5836-bc16-d5e7fbd518c8', 'nyt://article/60be5c22-d9af-5545-85a5-3eaf22871b5e', 'nyt://article/4d123274-8627-5fd2-a13e-4e5d6c012faa', 'nyt://article/2bcafe1e-3903-5768-8543-91185204a7db', 'nyt://article/d8e3d127-cc0a-5be6-ad00-8ea85f6ba91d', 'nyt://article/cbc02da0-d400-51bb-ab64-241b316a71b3', 'nyt://article/7a93dfe5-8cbb-5f59-a6a3-b1146ff25563', 'nyt://article/a7c52daf-964d-5119-bbb0-d7d0c14ff969', 'nyt://interactive/56b1c6b8-0f82-5193-8f11-c16f8d6646ed', 'nyt://article/e1beb64f-9804-5516-bc1b-d8d30e1b21c0', 'nyt://article/e4c02236-1695-5480-b0db-f8f7b209c81b', 'nyt://article/d819fc3d-a4ec-5008-8efc-aad28ea558ac', 'nyt://article/8a191ef6-c2a1-5ca7-b0c4-e67ce76b3829', 'nyt://article/2ab0ac1e-3e6d-5a9a-a458-5ab4561880dd', 'nyt://article/008688da-8a3f-597e-9dc5-73c497a61f53', 'nyt://article/b305f553-8799-5dd3-9bae-9e56174a7a58', 'nyt://article/6b81166c-1678-51f4-aef8-5f4e34aab8e8', 'nyt://article/e0fd0271-0db1-595b-908b-af8e53d6666a', 'nyt://article/42d5e670-3c16-5d51-82a0-7fbf55be1a26', 'nyt://article/1660ce49-08dc-5886-af6f-a77a3e9d2b90', 'nyt://article/813ef19d-fb48-5653-9bf8-e2359697dd57', 'nyt://article/36ade660-addc-5816-bf71-0d7463917f33', 'nyt://article/1d5a61ce-b39d-54e7-90e2-561418801840', 'nyt://article/ca3d0753-e32f-5c77-af3b-d37297d21652', 'nyt://article/abc471df-b1fb-5d38-8f2e-9d23d54eeb9b', 'nyt://article/31a6ba0f-5e79-535a-ae28-fc4ebc34120c', 'nyt://slideshow/f37e4394-fb7c-5d0f-9158-50dea898324c', 'nyt://video/6086acbc-4064-58b1-83fd-817893a5132b', 'nyt://article/61efa0ef-43d3-54ae-8387-66d17e19b8bd', 'nyt://article/3e85dac6-d0f5-5748-9fee-5adfd79df0db', 'nyt://article/7b1f933f-c9aa-51e6-8a67-5e0ccbe59d3b', 'nyt://article/e05100fb-2910-58d1-9c6f-89e6227e3c07', 'nyt://article/56fc027b-a20a-5088-9c32-f035411328f3', 'nyt://article/cf2ac03d-83b6-52a3-a2ef-d1546430be86', 'nyt://article/ba0c52f6-68b7-595c-a908-69b8a2cd35f6', 'nyt://article/c21f8c8c-8d3a-56e2-a481-cce52ca4a436', 'nyt://article/41832675-8516-5f37-afb3-87f8aa6e7176', 'nyt://article/e95678c6-90d4-5cd8-a51d-8a8bcfc66be1', 'nyt://article/7c0f7e77-e60a-5ae8-9318-5de175e29bae', 'nyt://article/519614b0-7920-52df-b42c-dea6ce94cefe', 'nyt://article/1cba8676-b0e8-55c3-842a-5ec1968dec86', 'nyt://article/979a5b2d-d677-5f6e-b5a3-885959bcfd48', 'nyt://article/ad7d3e3b-ec87-528c-8a38-24001b1f1bee', 'nyt://article/1686addc-6284-5ce9-a262-b35c4c891068', 'nyt://article/ca3e2cf4-0813-5ddb-9077-2af5dc8d00cc', 'nyt://article/68064019-5d69-5026-9fc5-47a2ff716440', 'nyt://article/e1da3cb5-18d8-5817-a684-aa932a20c9b1', 'nyt://article/e075daf6-6fe1-556c-8a83-25d6ce03833a', 'nyt://article/9195049c-81a8-56f9-821d-c3e82543e1b0', 'nyt://interactive/d5d460ca-b437-599b-a886-ec5fc49a6fb0', 'nyt://article/fcaf05cb-0e4b-5063-a3f8-ef729ede2429', 'nyt://article/c204a5ca-c330-5ea7-9a1e-1d39712abafa', 'nyt://interactive/db2d684d-ccf8-53f9-9fd1-080cd3338b66', 'nyt://article/d68c8a6a-f275-52ab-8d81-8c04f2538bed', 'nyt://article/1bafe307-fc92-5784-9db5-c72a17133cd2', 'nyt://article/5cc804aa-3191-59fa-a7d5-e68747cd5c06', 'nyt://article/6a1bfc97-d551-550d-9565-04a4dad326c2', 'nyt://article/4dd03502-10a1-55a5-bd8a-9b95dec7aa1a', 'nyt://article/83288174-3224-5d3d-a996-fc8833c11ba2', 'nyt://article/d227abdc-a0a4-57ed-b16b-1b6da530c9e4', 'nyt://article/0a4fb646-8bb5-5b60-9f20-e794e150531d', 'nyt://article/eac1f119-03f2-5f59-b64a-b7dcadf86b55', 'nyt://article/6c78b3d6-64f5-5008-8ead-2d72a298cf9a', 'nyt://article/c55ef6a6-e06b-5c36-a763-57c2ca0f7831', 'nyt://article/954e28a7-846d-53d4-9dc7-8c5ce1865d3b', 'nyt://article/8a8966af-b5d7-59d1-b01a-c7155b69118b', 'nyt://article/95cdfd7e-7224-5a7c-ae61-010d17ae31df', 'nyt://article/675cf4e4-3ac9-5f4a-85ff-8ee7d9461441', 'nyt://article/674900c5-0982-5b6a-8fa6-379c66b4cc78', 'nyt://article/0a9ab5ac-a54b-52e1-82de-f29562d2781c', 'nyt://article/6b97fff2-83e1-5623-ab10-bd22f4b3d11b', 'nyt://article/6d3c79e1-2de3-582a-b403-65a26d2f0a87', 'nyt://video/6d5c158c-e373-560c-af87-d69baff3c33a', 'nyt://article/798e48f9-1b82-5b72-8ef5-e4daa2a9b03c', 'nyt://article/6094fa8d-1e99-5f52-b122-115bfb5ac97c', 'nyt://article/b7c1033a-4d83-536e-be8b-dc9549d65155', 'nyt://article/68172406-c15a-541d-8918-96f15c31dd2b', 'nyt://article/31f6c345-c8bc-5d0d-8c49-445b0f8a201d', 'nyt://article/47f39377-6da5-51c6-8b76-990e2ee77c8c', 'nyt://article/954bc947-a7ee-5d8c-844c-c73c3c57ad79', 'nyt://article/99a4d448-069e-50d0-94cb-2de4742e8485', 'nyt://article/871fc07a-da6d-535d-8c88-a472d013b2e6', 'nyt://article/ac2b3086-8ded-5bc3-8f22-98c648a257a5', 'nyt://article/ecb890a4-1df1-5725-9f19-6d14bd1e7d4b', 'nyt://article/23f70cdc-83f0-565a-9092-1917199ad802', 'nyt://article/b9191b7a-bbd4-546c-a623-adae3b48f271', 'nyt://interactive/ec72d4ed-d437-57b7-a17d-4ac919653258', 'nyt://interactive/f619bc9a-8b2a-5041-8aa3-779e5cd977bd', 'nyt://article/69e5aa07-b267-5af2-a35f-ef0897cfcd48', 'nyt://article/7e228b1b-dcc4-573a-9f36-b831cd5201b9', 'nyt://article/2a428923-535b-507f-a686-3910768777ea', 'nyt://article/14a42fb9-1ed7-52c4-a28f-6ec7b66ba7df', 'nyt://article/21e7ccb6-0f94-5a60-b40d-19a3eca0782d', 'nyt://article/792e1284-29fd-5573-9519-05e63be23de6', 'nyt://article/74527575-c0ff-5c3d-a43c-b4a2c21b6d68', 'nyt://video/052807cc-caa6-5a9a-986c-296570e7e177', 'nyt://video/c773b819-3c19-5511-a5b9-98cdd78c2272', 'nyt://article/b716cacb-3505-579c-b15d-90b4b2e04e47', 'nyt://article/3083e8da-e87a-52ba-be9b-259a2d04e149', 'nyt://article/95f6009d-70fc-5b30-b7db-b11a9f607edd', 'nyt://interactive/8e1b2a6d-ea16-585b-a525-582d3f0db9ef', 'nyt://article/b7e9864c-a04e-5c9b-aabb-a5a3ad3781b6', 'nyt://article/2ed420ee-0ce2-5663-8a0f-c7291e3515b0', 'nyt://article/e47215b4-6edf-5e3b-89a5-b62676df6375', 'nyt://article/4fb535ba-fcd0-5385-87c6-9a0656246517', 'nyt://article/1068ca27-eb20-5ba0-9cdb-502851a3b948', 'nyt://article/2401f549-7990-56aa-9e65-8c7095b3b506', 'nyt://article/a2a28e01-b98e-5813-8400-fd7fb0ce2997', 'nyt://article/301898cf-7af0-5bbf-8f8c-2ba5f98310d4', 'nyt://article/120e4e0d-239e-5b52-83bd-462598928a5c', 'nyt://article/22219913-69fd-5794-a50f-28d243789dc9', 'nyt://video/e34e2b43-436b-5290-be3a-2e816ba74015', 'nyt://article/e1d6f178-488e-501c-86f9-5bff6504c963', 'nyt://article/eb30b779-fc18-5189-b22a-4affc0669ad9', 'nyt://article/52e2babc-dabb-5839-8f21-d22b32ece44d', 'nyt://article/9d38f20f-68c6-5db6-8f39-5c82bf84dd28', 'nyt://article/bf4a99ec-4a92-51f8-89c9-d903edfee7c0', 'nyt://article/67763624-8493-5a37-9ebc-cd39e4a4940f', 'nyt://article/89501e4b-0d0b-5b65-b331-2c5454c2be0f', 'nyt://article/064aa37c-27a7-537e-8444-fe677768c406', 'nyt://article/4e5b93b6-0a0b-5c89-aa4b-628cbc80ce74', 'nyt://article/057efa19-09d5-5377-a996-48e669c07379', 'nyt://article/d34c1c71-e982-5637-9078-b594c9e60a46', 'nyt://article/96129e6e-c9bc-5090-a168-53362e2e1a3a', 'nyt://article/af921fc9-3b42-54d9-b938-60a66b1f40b3', 'nyt://article/78f5c0d9-7b42-5102-ab19-6a0bc2f52567', 'nyt://article/57bdcc9f-e6f4-58db-8cf3-1eb6c407b297', 'nyt://article/3279fd40-3989-57c4-9a61-4cb597ef60de', 'nyt://article/2596d0dc-9519-5b19-9bbf-5fb75a64a4ab', 'nyt://article/96b7b51e-f5df-5c06-9d22-2fb974b59a8d', 'nyt://article/48c730c0-9250-5a29-befb-8c3782b23c2c', 'nyt://article/d5a012ad-9a99-5520-9ea1-14235f8ada6e', 'nyt://video/f4a65528-9414-57fc-a24a-4b0a0a3198f9', 'nyt://article/652b24b9-44a0-5e82-a815-f9b8b7c77212', 'nyt://article/8ee4da27-6c10-51d9-bbc8-933fa36906ff', 'nyt://article/1527e54c-a5d5-5937-81f2-75ee40b3d54e', 'nyt://article/e70e0fe5-a246-5c44-a0f5-ad9094b22fc6', 'nyt://article/f43cba88-b5fe-524c-a6f5-effb3ce6f828', 'nyt://article/439ae825-a418-5d41-9547-95fc49e01ec8', 'nyt://article/0dea6b4a-892c-5bbf-a139-a4480c115b7d', 'nyt://article/320f4170-3e38-5b8c-8a9c-904bddeb09d8', 'nyt://article/c313714c-bcdb-5c53-ae42-32e740f5c6a3', 'nyt://article/b2619d8c-5db5-5958-a877-8b8ceb8c961a', 'nyt://article/f6c8fd3c-4e89-5985-bfe5-27761ed92f77', 'nyt://article/521078c0-7fd0-52a0-a11e-921b33c8f360', 'nyt://article/b5de8306-7219-5826-82e9-916fc64e4b99', 'nyt://article/27e17fac-e79d-55d0-b308-36dc4dd7adf4', 'nyt://article/a008167d-fddd-5f78-a94f-a5c20c40e7e5', 'nyt://article/5c2a1cbc-5147-5eb6-bdc2-b082aeb8e67b', 'nyt://article/8af83f89-4013-50c1-8b76-7e066e63bf24', 'nyt://interactive/8377ca81-4dd6-5734-855e-69516f60001a', 'nyt://article/cb7d84e0-149a-5798-b619-9188593f11ca', 'nyt://article/cb2e6c80-2100-58e1-b619-b30f3ff38c8a', 'nyt://article/f1f642a2-039e-5a5b-8d1c-44f8e77867f1', 'nyt://article/00a686dc-94e1-5c92-a1a2-dfa3a9f29016', 'nyt://article/30ecf60c-5411-5907-af4d-6e4f0cb8534c', 'nyt://article/94be81c3-c9ae-5796-b7ae-abdce8b7fe60', 'nyt://article/f1921814-71c6-5e9b-8324-43714c23b3ed', 'nyt://article/8ea22a88-940c-59eb-b869-aa8ccf5a50b9', 'nyt://article/c952cbc9-331f-5cf9-8227-8838df2f16bd', 'nyt://article/3ec017c1-6595-554a-a88b-1c7ec498fcf1', 'nyt://article/96a55f9e-756e-5ddd-928b-789d304b5002', 'nyt://article/cde83fff-6b10-5e1f-ae26-4f7fda1d44e0', 'nyt://article/3656a3e7-ebdb-5f43-bffd-fbd36db95f6a', 'nyt://article/2ee9f592-a9b8-5ff2-bbb3-17d2696742a3', 'nyt://article/2bff4b72-9a09-5f4e-b306-8086ccc84af1', 'nyt://article/fe61a35a-1ece-56fd-83a4-b23792270153', 'nyt://article/07886ca9-148f-5924-8791-cd02f6271af7', 'nyt://article/9e9979c9-f148-54e3-9d27-92feae97eb5e', 'nyt://article/4ebba792-4e26-5b48-8d5c-ac526b6cc732', 'nyt://article/3cc220c2-20d0-5bae-a734-f43830448d6e', 'nyt://article/d762fe94-dfea-551f-a0d3-a7ef8369df16']",
         "['8067604114', '8320993173', '8402977743', '8042220312', '8204792836', '8441794012', '7995066584', '8038746576', '8146928133', '8218479704', '8185986474', '8025096181', '8334757147', '8146777227', '7915514950', '8072326632', '8150130133', '7998433974', '8245907875', '7952216004', '8263192420', '8155422095', '7989324072', '8448999243', '8337232594', '8412667725', '8363447046', '8292369766', '8134827791', '7931837980', '8068671381', '8198231955', '8462602135', '8451353513', '8127716539', '8094583956', '8055669083', '8241468097', '8421903177', '8173824036', '8146198551', '8015938722', '8322777620', '8257829123', '8422064313', '8183458839', '7953066956', '8224214599', '8361196469', '7946203540', '8061177663', '8246568373', '8467374282', '7913342229', '2024-07-435924585', '8091496439', '8176161098', '8218744671', '8255736685', '8387733385', '8252521294', '8327645232', '8188372685', '8128419228', '8312704508', '8307564572', '8061405070', '2024-04-333831593', '2024-03-299854050', '8319987278', '7927020335', '8195662064', '8143589486', '8125538837', '8023236161', '7923656355', '8258140230', '8284901372', '8401714743', '8175962666', '8042591282', '8239911547', '8121956785', '8356475121', '8076000221', '8110519494', '8002737290', '8088533234', '8042862894', '7986153774', '8214525400', '8041554018', '8024777294', '8430774944', '8435613028', '8102488222', '8282994060', '2024-09-483350749', '8064170369', '8080610703', '8071838833', '8035122204', '8244127727', '7978098660', '7986895879', '8090985654', '8169667718', '8363664786', '8310685803', '8015114071', '7926524824', '8452445717', '2024-11-556745465', '8026813784', '8296802046', '7928286810', '2024-01-236394715', '8038011951', '8036575015', '8066006020', '8233976398', '8083743994', '8116525646', '8217926924']"
        ],
        [
         "44",
         "Cape Verde",
         "No code",
         "16.0000552",
         "-24.0083947",
         "4.0",
         "0.0",
         "['nyt://article/349ee346-09b0-5114-938b-6c471d0a9aa1', 'nyt://article/b31bf7b8-fd6a-5c88-b518-a92505671024', 'nyt://article/2277a789-ee94-54d6-b682-171604883d76', 'nyt://article/fa8a5ac3-3090-5d30-a759-712ffa76c376']",
         "[]"
        ],
        [
         "45",
         "Caspian Sea",
         "No code",
         "41.7789772",
         "50.560757905794325",
         "1.0",
         "0.0",
         "['nyt://article/d7ea26e8-b61f-5975-bd0e-ff455733ac5b']",
         "[]"
        ],
        [
         "46",
         "Cayman Islands",
         "CYM",
         "19.70318225",
         "-79.9174627243246",
         "5.0",
         "0.0",
         "['nyt://article/0539543b-5dd8-5dcc-a0b4-9893e0fa3ade', 'nyt://article/4d6970ca-53c0-51d8-8c98-f0ea58b16e2c', 'nyt://article/caf98741-73b7-5dc0-bfc0-9314490fb22e', 'nyt://article/be74adb5-7a7f-5ee8-a978-63e5c8744895', 'nyt://article/a456784d-b5fd-5a1a-b0b1-49f1a8739c04']",
         "[]"
        ],
        [
         "47",
         "Central African Republic",
         "CAF",
         "7.0323598",
         "19.9981227",
         "1.0",
         "3.0",
         "['nyt://article/8e9c68f9-7b15-536d-a7c7-9b34671ab74b']",
         "['7976842231', '7992284061', '8445157434']"
        ],
        [
         "48",
         "Chad",
         "TCD",
         "15.6134137",
         "19.0156172",
         "21.0",
         "12.0",
         "['nyt://article/2ecf5073-590a-5fcc-b7aa-5ca1d3743dd3', 'nyt://article/ed2d23a0-5c77-5be2-ae6f-0ca58fcdd1b2', 'nyt://article/d24390b1-03b7-51b0-80ca-f005216014d1', 'nyt://article/018d4a58-caea-5a5a-8f20-e6c06873b688', 'nyt://article/34e514ce-6ebc-58f1-bf4b-d750eadc447e', 'nyt://article/0f131aca-c945-564d-8c22-d273f6fcbbdf', 'nyt://article/8a51bb2b-1b25-5a46-8f35-05b9c5a8c6aa', 'nyt://article/897a0e53-6076-5a98-bb28-4d7d3df155a4', 'nyt://article/22ae90a5-47fd-571d-8389-0df2021b253f', 'nyt://article/0c0118d9-61e0-5b5d-a953-28ef0e662114', 'nyt://video/d650de63-1cf4-5371-ab0b-aa50a14aab59', 'nyt://article/890d3351-1a2a-52a4-867a-fefffe6adb12', 'nyt://article/46b5f660-7592-5a91-b0b8-69ddc2a73c4a', 'nyt://article/53118789-4397-5531-89b9-9058ba300f0c', 'nyt://article/78237980-8280-5d83-8cc9-b408853106fe', 'nyt://article/b472a426-1803-590b-ab5d-a81aea32a425', 'nyt://article/a9921911-82c3-5820-8f1d-ae6c7cba37d0', 'nyt://article/2dbb5dbf-deb3-51b3-bf62-ae0ddca16e93', 'nyt://article/7bc0f53e-3bab-5923-80a3-0d46cc92bdad', 'nyt://article/428f1222-5c16-5449-988a-db38277c2e61', 'nyt://article/d8309b41-b5df-51e9-9078-b09483edf1b4']",
         "['8288663583', '8278212632', '8217259046', '8357485366', '8008193002', '7968748800', '8433944271', '8113966634', '8119913330', '8382929404', '8022265359', '8331630552']"
        ],
        [
         "49",
         "Chile",
         "CHL",
         "-31.7613365",
         "-71.3187697",
         "26.0",
         "22.0",
         "['nyt://video/689fff4f-b08b-58c0-a4bd-e65290681dc8', 'nyt://article/5d4e2aa8-c10f-5c90-a32b-31b9fb04872e', 'nyt://article/795e6730-0b33-58ad-9d63-8d7e664ea475', 'nyt://article/58db3f34-365f-5475-bf60-ce0e7cf32e4a', 'nyt://article/719954bd-932b-5bbe-9b2a-eec08ef4868d', 'nyt://article/9f0cd124-6870-5f99-96e2-83e9a661caa5', 'nyt://article/90e7e151-69bb-5749-a07f-d18f9ccbe36c', 'nyt://article/5cbdc28e-0139-57e6-90e4-a4cde6630360', 'nyt://video/a1d000f6-8b7d-550f-8334-588db5398ece', 'nyt://article/f77e9f54-e9c1-5c3b-bf11-ea1796acff04', 'nyt://article/ab5ee955-9d3c-549a-bc1c-42066ba59a05', 'nyt://video/ce4ab493-f162-54fd-9fb6-cb660a40f882', 'nyt://article/85a05d78-f423-55ff-a0d7-d0cdccd2edff', 'nyt://article/34399e0d-af56-5a07-80fc-04f64a7c0ff8', 'nyt://article/0ddd057f-d7ec-58ed-81ad-af5021a7fd5a', 'nyt://article/bab2aeb5-2d56-5a5e-bb8f-6e95dbaadfcd', 'nyt://article/66060ec2-b65c-52ad-b92c-a511a4d8594a', 'nyt://article/63fb2a5f-f421-5a40-9770-b4c3b32b140c', 'nyt://article/73dc9de1-a40e-5414-9f7d-8e2c20a79e45', 'nyt://article/b68a2290-9b5e-5c72-b087-d61078994aa5', 'nyt://article/88935e7a-5b02-5df1-8ff8-7aa4c432c948', 'nyt://article/60ab25a2-31c3-50a9-a84f-9e9c424da10d', 'nyt://article/6045611f-3f32-544c-9255-a5efa1b01cf1', 'nyt://article/4fef2cc5-0b94-5b17-8883-79246953c5f9', 'nyt://interactive/66ceff15-1a83-5deb-a558-5a51d705efcb', 'nyt://interactive/d5d460ca-b437-599b-a886-ec5fc49a6fb0']",
         "['8116595917', '8005280765', '7987110584', '8288657154', '8438786148', '8220575944', '8456333509', '8177099096', '7966164992', '8278295259', '8062678894', '7952956373', '7967736138', '7964467881', '8110584572', '8359575516', '7967864364', '8269439851', '8128895944', '8164245703', '7963378821', '2024-12-565890301']"
        ]
       ],
       "shape": {
        "columns": 8,
        "rows": 242
       }
      },
      "text/html": [
       "<div>\n",
       "<style scoped>\n",
       "    .dataframe tbody tr th:only-of-type {\n",
       "        vertical-align: middle;\n",
       "    }\n",
       "\n",
       "    .dataframe tbody tr th {\n",
       "        vertical-align: top;\n",
       "    }\n",
       "\n",
       "    .dataframe thead th {\n",
       "        text-align: right;\n",
       "    }\n",
       "</style>\n",
       "<table border=\"1\" class=\"dataframe\">\n",
       "  <thead>\n",
       "    <tr style=\"text-align: right;\">\n",
       "      <th></th>\n",
       "      <th>country</th>\n",
       "      <th>iso_alpha3</th>\n",
       "      <th>Latitude</th>\n",
       "      <th>Longitude</th>\n",
       "      <th>count_of_articles_nyt</th>\n",
       "      <th>count_of_articles_zeit</th>\n",
       "      <th>ids_of_articles_nyt</th>\n",
       "      <th>ids_of_articles_zeit</th>\n",
       "    </tr>\n",
       "  </thead>\n",
       "  <tbody>\n",
       "    <tr>\n",
       "      <th>0</th>\n",
       "      <td>Adriatic Sea</td>\n",
       "      <td>No code</td>\n",
       "      <td>43.702151</td>\n",
       "      <td>14.667946</td>\n",
       "      <td>1.0</td>\n",
       "      <td>0.0</td>\n",
       "      <td>['nyt://article/6c5919fe-452a-532d-8234-f698a3...</td>\n",
       "      <td>[]</td>\n",
       "    </tr>\n",
       "    <tr>\n",
       "      <th>1</th>\n",
       "      <td>Aegean Sea</td>\n",
       "      <td>No code</td>\n",
       "      <td>38.062228</td>\n",
       "      <td>25.720589</td>\n",
       "      <td>2.0</td>\n",
       "      <td>0.0</td>\n",
       "      <td>['nyt://interactive/6addaf57-b7fa-5d0f-af24-ec...</td>\n",
       "      <td>[]</td>\n",
       "    </tr>\n",
       "    <tr>\n",
       "      <th>2</th>\n",
       "      <td>Afghanistan</td>\n",
       "      <td>AFG</td>\n",
       "      <td>33.768006</td>\n",
       "      <td>66.238514</td>\n",
       "      <td>89.0</td>\n",
       "      <td>168.0</td>\n",
       "      <td>['nyt://article/bf24d7e3-26df-577e-8327-5ad156...</td>\n",
       "      <td>['8298581376', '8184489802', '8478156165', '81...</td>\n",
       "    </tr>\n",
       "    <tr>\n",
       "      <th>3</th>\n",
       "      <td>Africa</td>\n",
       "      <td>ZAF</td>\n",
       "      <td>11.502434</td>\n",
       "      <td>17.757812</td>\n",
       "      <td>199.0</td>\n",
       "      <td>0.0</td>\n",
       "      <td>['nyt://article/e4d46fbb-0e78-5c0f-8bbe-9caa61...</td>\n",
       "      <td>[]</td>\n",
       "    </tr>\n",
       "    <tr>\n",
       "      <th>4</th>\n",
       "      <td>Albania</td>\n",
       "      <td>ALB</td>\n",
       "      <td>5.758765</td>\n",
       "      <td>-73.915162</td>\n",
       "      <td>20.0</td>\n",
       "      <td>61.0</td>\n",
       "      <td>['nyt://article/c81db80b-5820-56a0-b426-1466f0...</td>\n",
       "      <td>['8374221914', '8406497605', '8406583117', '83...</td>\n",
       "    </tr>\n",
       "    <tr>\n",
       "      <th>...</th>\n",
       "      <td>...</td>\n",
       "      <td>...</td>\n",
       "      <td>...</td>\n",
       "      <td>...</td>\n",
       "      <td>...</td>\n",
       "      <td>...</td>\n",
       "      <td>...</td>\n",
       "      <td>...</td>\n",
       "    </tr>\n",
       "    <tr>\n",
       "      <th>237</th>\n",
       "      <td>Vietnam</td>\n",
       "      <td>VNM</td>\n",
       "      <td>15.926666</td>\n",
       "      <td>107.965086</td>\n",
       "      <td>51.0</td>\n",
       "      <td>35.0</td>\n",
       "      <td>['nyt://article/182fbcdd-cf29-534a-900d-c2d66f...</td>\n",
       "      <td>['8316584811', '8107267090', '8336739402', '83...</td>\n",
       "    </tr>\n",
       "    <tr>\n",
       "      <th>238</th>\n",
       "      <td>Yellow Sea</td>\n",
       "      <td>No code</td>\n",
       "      <td>36.000000</td>\n",
       "      <td>124.000000</td>\n",
       "      <td>1.0</td>\n",
       "      <td>0.0</td>\n",
       "      <td>['nyt://article/593fcdd3-0e07-58b1-9a5d-eec8cd...</td>\n",
       "      <td>[]</td>\n",
       "    </tr>\n",
       "    <tr>\n",
       "      <th>239</th>\n",
       "      <td>Yemen</td>\n",
       "      <td>YEM</td>\n",
       "      <td>16.347124</td>\n",
       "      <td>47.891527</td>\n",
       "      <td>90.0</td>\n",
       "      <td>99.0</td>\n",
       "      <td>['nyt://article/df39f071-31c5-5992-aaef-19f15a...</td>\n",
       "      <td>['7937609389', '8367515653', '8316863505', '81...</td>\n",
       "    </tr>\n",
       "    <tr>\n",
       "      <th>240</th>\n",
       "      <td>Zambia</td>\n",
       "      <td>ZMB</td>\n",
       "      <td>-14.518912</td>\n",
       "      <td>27.558988</td>\n",
       "      <td>11.0</td>\n",
       "      <td>5.0</td>\n",
       "      <td>['nyt://article/bc01f508-b5f4-5c61-a671-45a715...</td>\n",
       "      <td>['8362705221', '7927847804', '8253025150', '84...</td>\n",
       "    </tr>\n",
       "    <tr>\n",
       "      <th>241</th>\n",
       "      <td>Zimbabwe</td>\n",
       "      <td>ZWE</td>\n",
       "      <td>-18.455496</td>\n",
       "      <td>29.746841</td>\n",
       "      <td>3.0</td>\n",
       "      <td>6.0</td>\n",
       "      <td>['nyt://article/415aea4c-2180-5418-ba50-e6bad3...</td>\n",
       "      <td>['7927847804', '8061318921', '7957960454', '79...</td>\n",
       "    </tr>\n",
       "  </tbody>\n",
       "</table>\n",
       "<p>242 rows × 8 columns</p>\n",
       "</div>"
      ],
      "text/plain": [
       "          country iso_alpha3   Latitude   Longitude  count_of_articles_nyt  \\\n",
       "0    Adriatic Sea    No code  43.702151   14.667946                    1.0   \n",
       "1      Aegean Sea    No code  38.062228   25.720589                    2.0   \n",
       "2     Afghanistan        AFG  33.768006   66.238514                   89.0   \n",
       "3          Africa        ZAF  11.502434   17.757812                  199.0   \n",
       "4         Albania        ALB   5.758765  -73.915162                   20.0   \n",
       "..            ...        ...        ...         ...                    ...   \n",
       "237       Vietnam        VNM  15.926666  107.965086                   51.0   \n",
       "238    Yellow Sea    No code  36.000000  124.000000                    1.0   \n",
       "239         Yemen        YEM  16.347124   47.891527                   90.0   \n",
       "240        Zambia        ZMB -14.518912   27.558988                   11.0   \n",
       "241      Zimbabwe        ZWE -18.455496   29.746841                    3.0   \n",
       "\n",
       "     count_of_articles_zeit  \\\n",
       "0                       0.0   \n",
       "1                       0.0   \n",
       "2                     168.0   \n",
       "3                       0.0   \n",
       "4                      61.0   \n",
       "..                      ...   \n",
       "237                    35.0   \n",
       "238                     0.0   \n",
       "239                    99.0   \n",
       "240                     5.0   \n",
       "241                     6.0   \n",
       "\n",
       "                                   ids_of_articles_nyt  \\\n",
       "0    ['nyt://article/6c5919fe-452a-532d-8234-f698a3...   \n",
       "1    ['nyt://interactive/6addaf57-b7fa-5d0f-af24-ec...   \n",
       "2    ['nyt://article/bf24d7e3-26df-577e-8327-5ad156...   \n",
       "3    ['nyt://article/e4d46fbb-0e78-5c0f-8bbe-9caa61...   \n",
       "4    ['nyt://article/c81db80b-5820-56a0-b426-1466f0...   \n",
       "..                                                 ...   \n",
       "237  ['nyt://article/182fbcdd-cf29-534a-900d-c2d66f...   \n",
       "238  ['nyt://article/593fcdd3-0e07-58b1-9a5d-eec8cd...   \n",
       "239  ['nyt://article/df39f071-31c5-5992-aaef-19f15a...   \n",
       "240  ['nyt://article/bc01f508-b5f4-5c61-a671-45a715...   \n",
       "241  ['nyt://article/415aea4c-2180-5418-ba50-e6bad3...   \n",
       "\n",
       "                                  ids_of_articles_zeit  \n",
       "0                                                   []  \n",
       "1                                                   []  \n",
       "2    ['8298581376', '8184489802', '8478156165', '81...  \n",
       "3                                                   []  \n",
       "4    ['8374221914', '8406497605', '8406583117', '83...  \n",
       "..                                                 ...  \n",
       "237  ['8316584811', '8107267090', '8336739402', '83...  \n",
       "238                                                 []  \n",
       "239  ['7937609389', '8367515653', '8316863505', '81...  \n",
       "240  ['8362705221', '7927847804', '8253025150', '84...  \n",
       "241  ['7927847804', '8061318921', '7957960454', '79...  \n",
       "\n",
       "[242 rows x 8 columns]"
      ]
     },
     "execution_count": 5,
     "metadata": {},
     "output_type": "execute_result"
    }
   ],
   "source": [
    "country_coverage"
   ]
  },
  {
   "cell_type": "code",
   "execution_count": 6,
   "metadata": {},
   "outputs": [],
   "source": [
    "nyt = country_coverage[(country_coverage[\"country\"] != \"United States\")]"
   ]
  },
  {
   "cell_type": "code",
   "execution_count": null,
   "metadata": {},
   "outputs": [
    {
     "data": {
      "application/vnd.plotly.v1+json": {
       "config": {
        "plotlyServerURL": "https://plot.ly"
       },
       "data": [
        {
         "coloraxis": "coloraxis",
         "geo": "geo",
         "hovertemplate": "iso_alpha3=%{location}<br>count_of_articles_nyt=%{z}<extra></extra>",
         "locationmode": "ISO-3",
         "locations": [
          "No code",
          "No code",
          "AFG",
          "ZAF",
          "ALB",
          "DZA",
          "AGO",
          "AIA",
          "ATA",
          "ATG",
          "ARG",
          "ARM",
          "No code",
          "No code",
          "AUS",
          "AUT",
          "AZE",
          "BHS",
          "BHR",
          "No code",
          "BGD",
          "BRB",
          "No code",
          "No code",
          "No code",
          "BLR",
          "BEL",
          "BLZ",
          "BEN",
          "No code",
          "BTN",
          "No code",
          "BOL",
          "BIH",
          "BWA",
          "BRA",
          "IOT",
          "BRN",
          "BGR",
          "BFA",
          "BDI",
          "KHM",
          "CMR",
          "CAN",
          "No code",
          "No code",
          "CYM",
          "CAF",
          "TCD",
          "CHL",
          "CHN",
          "COL",
          "COM",
          "No code",
          "COK",
          "No code",
          "CRI",
          "HRV",
          "CUB",
          "CYP",
          "CZE",
          "CIV",
          "COD",
          "DNK",
          "DJI",
          "DOM",
          "No code",
          "No code",
          "ECU",
          "EGY",
          "SLV",
          "No code",
          "GNQ",
          "ERI",
          "EST",
          "SWZ",
          "ETH",
          "No code",
          "FLK",
          "FRO",
          "FSM",
          "FJI",
          "FIN",
          "FRA",
          "GAB",
          "No code",
          "GEO",
          "DEU",
          "GHA",
          "GIB",
          "GRC",
          "GRL",
          "GRD",
          "GTM",
          "GGY",
          "GIN",
          "GNB",
          "No code",
          "No code",
          "No code",
          "No code",
          "No code",
          "GUY",
          "HTI",
          "HND",
          "HUN",
          "ISL",
          "IND",
          "IOT",
          "IDN",
          "IRN",
          "IRQ",
          "IRL",
          "No code",
          "ISR",
          "ITA",
          "JAM",
          "JPN",
          "JEY",
          "JOR",
          "ISL",
          "KAZ",
          "KEN",
          "KIR",
          "SRB",
          "KWT",
          "KGZ",
          "LAO",
          "LVA",
          "LBN",
          "LBR",
          "LBY",
          "LIE",
          "LTU",
          "LUX",
          "MDG",
          "MWI",
          "MYS",
          "MDV",
          "MLI",
          "MLT",
          "MHL",
          "MRT",
          "MUS",
          "No code",
          "MEX",
          "MDA",
          "MCO",
          "MNG",
          "MNE",
          "MAR",
          "MOZ",
          "MMR",
          "NAM",
          "NRU",
          "NPL",
          "NLD",
          "No code",
          "NZL",
          "NIC",
          "NER",
          "NGA",
          "NIU",
          "No code",
          "PRK",
          "MKD",
          "No code",
          "NOR",
          "OMN",
          "No code",
          "PAK",
          "PLW",
          "PSE",
          "PAN",
          "PNG",
          "PRY",
          "No code",
          "PER",
          "PHL",
          "POL",
          "PRT",
          "QAT",
          "SDN",
          "ROU",
          "RUS",
          "RWA",
          "LCA",
          "VCT",
          "WSM",
          "SMR",
          "SAU",
          "SEN",
          "SRB",
          "SLE",
          "SGP",
          "SVK",
          "SVN",
          "SOM",
          "ZAF",
          "No code",
          "No code",
          "SGS",
          "KOR",
          "No code",
          "SSD",
          "ESP",
          "LKA",
          "SDN",
          "SUR",
          "SWE",
          "CHE",
          "SYR",
          "TWN",
          "No code",
          "TJK",
          "TZA",
          "THA",
          "GMB",
          "TGO",
          "TON",
          "TTO",
          "TUN",
          "TUR",
          "TKM",
          "TCA",
          "TUV",
          "UGA",
          "UKR",
          "No code",
          "ARE",
          "GBR",
          "USA",
          "URY",
          "UZB",
          "VUT",
          "VAT",
          "VEN",
          "VNM",
          "No code",
          "YEM",
          "ZMB",
          "ZWE"
         ],
         "name": "",
         "type": "choropleth",
         "z": {
          "bdata": "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",
          "dtype": "f8"
         }
        }
       ],
       "layout": {
        "coloraxis": {
         "cmax": 1000,
         "cmin": 0,
         "colorbar": {
          "title": {
           "text": "count_of_articles_nyt"
          }
         },
         "colorscale": [
          [
           0,
           "rgb(255,245,240)"
          ],
          [
           0.125,
           "rgb(254,224,210)"
          ],
          [
           0.25,
           "rgb(252,187,161)"
          ],
          [
           0.375,
           "rgb(252,146,114)"
          ],
          [
           0.5,
           "rgb(251,106,74)"
          ],
          [
           0.625,
           "rgb(239,59,44)"
          ],
          [
           0.75,
           "rgb(203,24,29)"
          ],
          [
           0.875,
           "rgb(165,15,21)"
          ],
          [
           1,
           "rgb(103,0,13)"
          ]
         ]
        },
        "geo": {
         "center": {},
         "domain": {
          "x": [
           0,
           1
          ],
          "y": [
           0,
           1
          ]
         }
        },
        "legend": {
         "tracegroupgap": 0
        },
        "margin": {
         "b": 0,
         "l": 0,
         "r": 0,
         "t": 0
        },
        "template": {
         "data": {
          "bar": [
           {
            "error_x": {
             "color": "#2a3f5f"
            },
            "error_y": {
             "color": "#2a3f5f"
            },
            "marker": {
             "line": {
              "color": "#E5ECF6",
              "width": 0.5
             },
             "pattern": {
              "fillmode": "overlay",
              "size": 10,
              "solidity": 0.2
             }
            },
            "type": "bar"
           }
          ],
          "barpolar": [
           {
            "marker": {
             "line": {
              "color": "#E5ECF6",
              "width": 0.5
             },
             "pattern": {
              "fillmode": "overlay",
              "size": 10,
              "solidity": 0.2
             }
            },
            "type": "barpolar"
           }
          ],
          "carpet": [
           {
            "aaxis": {
             "endlinecolor": "#2a3f5f",
             "gridcolor": "white",
             "linecolor": "white",
             "minorgridcolor": "white",
             "startlinecolor": "#2a3f5f"
            },
            "baxis": {
             "endlinecolor": "#2a3f5f",
             "gridcolor": "white",
             "linecolor": "white",
             "minorgridcolor": "white",
             "startlinecolor": "#2a3f5f"
            },
            "type": "carpet"
           }
          ],
          "choropleth": [
           {
            "colorbar": {
             "outlinewidth": 0,
             "ticks": ""
            },
            "type": "choropleth"
           }
          ],
          "contour": [
           {
            "colorbar": {
             "outlinewidth": 0,
             "ticks": ""
            },
            "colorscale": [
             [
              0,
              "#0d0887"
             ],
             [
              0.1111111111111111,
              "#46039f"
             ],
             [
              0.2222222222222222,
              "#7201a8"
             ],
             [
              0.3333333333333333,
              "#9c179e"
             ],
             [
              0.4444444444444444,
              "#bd3786"
             ],
             [
              0.5555555555555556,
              "#d8576b"
             ],
             [
              0.6666666666666666,
              "#ed7953"
             ],
             [
              0.7777777777777778,
              "#fb9f3a"
             ],
             [
              0.8888888888888888,
              "#fdca26"
             ],
             [
              1,
              "#f0f921"
             ]
            ],
            "type": "contour"
           }
          ],
          "contourcarpet": [
           {
            "colorbar": {
             "outlinewidth": 0,
             "ticks": ""
            },
            "type": "contourcarpet"
           }
          ],
          "heatmap": [
           {
            "colorbar": {
             "outlinewidth": 0,
             "ticks": ""
            },
            "colorscale": [
             [
              0,
              "#0d0887"
             ],
             [
              0.1111111111111111,
              "#46039f"
             ],
             [
              0.2222222222222222,
              "#7201a8"
             ],
             [
              0.3333333333333333,
              "#9c179e"
             ],
             [
              0.4444444444444444,
              "#bd3786"
             ],
             [
              0.5555555555555556,
              "#d8576b"
             ],
             [
              0.6666666666666666,
              "#ed7953"
             ],
             [
              0.7777777777777778,
              "#fb9f3a"
             ],
             [
              0.8888888888888888,
              "#fdca26"
             ],
             [
              1,
              "#f0f921"
             ]
            ],
            "type": "heatmap"
           }
          ],
          "histogram": [
           {
            "marker": {
             "pattern": {
              "fillmode": "overlay",
              "size": 10,
              "solidity": 0.2
             }
            },
            "type": "histogram"
           }
          ],
          "histogram2d": [
           {
            "colorbar": {
             "outlinewidth": 0,
             "ticks": ""
            },
            "colorscale": [
             [
              0,
              "#0d0887"
             ],
             [
              0.1111111111111111,
              "#46039f"
             ],
             [
              0.2222222222222222,
              "#7201a8"
             ],
             [
              0.3333333333333333,
              "#9c179e"
             ],
             [
              0.4444444444444444,
              "#bd3786"
             ],
             [
              0.5555555555555556,
              "#d8576b"
             ],
             [
              0.6666666666666666,
              "#ed7953"
             ],
             [
              0.7777777777777778,
              "#fb9f3a"
             ],
             [
              0.8888888888888888,
              "#fdca26"
             ],
             [
              1,
              "#f0f921"
             ]
            ],
            "type": "histogram2d"
           }
          ],
          "histogram2dcontour": [
           {
            "colorbar": {
             "outlinewidth": 0,
             "ticks": ""
            },
            "colorscale": [
             [
              0,
              "#0d0887"
             ],
             [
              0.1111111111111111,
              "#46039f"
             ],
             [
              0.2222222222222222,
              "#7201a8"
             ],
             [
              0.3333333333333333,
              "#9c179e"
             ],
             [
              0.4444444444444444,
              "#bd3786"
             ],
             [
              0.5555555555555556,
              "#d8576b"
             ],
             [
              0.6666666666666666,
              "#ed7953"
             ],
             [
              0.7777777777777778,
              "#fb9f3a"
             ],
             [
              0.8888888888888888,
              "#fdca26"
             ],
             [
              1,
              "#f0f921"
             ]
            ],
            "type": "histogram2dcontour"
           }
          ],
          "mesh3d": [
           {
            "colorbar": {
             "outlinewidth": 0,
             "ticks": ""
            },
            "type": "mesh3d"
           }
          ],
          "parcoords": [
           {
            "line": {
             "colorbar": {
              "outlinewidth": 0,
              "ticks": ""
             }
            },
            "type": "parcoords"
           }
          ],
          "pie": [
           {
            "automargin": true,
            "type": "pie"
           }
          ],
          "scatter": [
           {
            "fillpattern": {
             "fillmode": "overlay",
             "size": 10,
             "solidity": 0.2
            },
            "type": "scatter"
           }
          ],
          "scatter3d": [
           {
            "line": {
             "colorbar": {
              "outlinewidth": 0,
              "ticks": ""
             }
            },
            "marker": {
             "colorbar": {
              "outlinewidth": 0,
              "ticks": ""
             }
            },
            "type": "scatter3d"
           }
          ],
          "scattercarpet": [
           {
            "marker": {
             "colorbar": {
              "outlinewidth": 0,
              "ticks": ""
             }
            },
            "type": "scattercarpet"
           }
          ],
          "scattergeo": [
           {
            "marker": {
             "colorbar": {
              "outlinewidth": 0,
              "ticks": ""
             }
            },
            "type": "scattergeo"
           }
          ],
          "scattergl": [
           {
            "marker": {
             "colorbar": {
              "outlinewidth": 0,
              "ticks": ""
             }
            },
            "type": "scattergl"
           }
          ],
          "scattermap": [
           {
            "marker": {
             "colorbar": {
              "outlinewidth": 0,
              "ticks": ""
             }
            },
            "type": "scattermap"
           }
          ],
          "scattermapbox": [
           {
            "marker": {
             "colorbar": {
              "outlinewidth": 0,
              "ticks": ""
             }
            },
            "type": "scattermapbox"
           }
          ],
          "scatterpolar": [
           {
            "marker": {
             "colorbar": {
              "outlinewidth": 0,
              "ticks": ""
             }
            },
            "type": "scatterpolar"
           }
          ],
          "scatterpolargl": [
           {
            "marker": {
             "colorbar": {
              "outlinewidth": 0,
              "ticks": ""
             }
            },
            "type": "scatterpolargl"
           }
          ],
          "scatterternary": [
           {
            "marker": {
             "colorbar": {
              "outlinewidth": 0,
              "ticks": ""
             }
            },
            "type": "scatterternary"
           }
          ],
          "surface": [
           {
            "colorbar": {
             "outlinewidth": 0,
             "ticks": ""
            },
            "colorscale": [
             [
              0,
              "#0d0887"
             ],
             [
              0.1111111111111111,
              "#46039f"
             ],
             [
              0.2222222222222222,
              "#7201a8"
             ],
             [
              0.3333333333333333,
              "#9c179e"
             ],
             [
              0.4444444444444444,
              "#bd3786"
             ],
             [
              0.5555555555555556,
              "#d8576b"
             ],
             [
              0.6666666666666666,
              "#ed7953"
             ],
             [
              0.7777777777777778,
              "#fb9f3a"
             ],
             [
              0.8888888888888888,
              "#fdca26"
             ],
             [
              1,
              "#f0f921"
             ]
            ],
            "type": "surface"
           }
          ],
          "table": [
           {
            "cells": {
             "fill": {
              "color": "#EBF0F8"
             },
             "line": {
              "color": "white"
             }
            },
            "header": {
             "fill": {
              "color": "#C8D4E3"
             },
             "line": {
              "color": "white"
             }
            },
            "type": "table"
           }
          ]
         },
         "layout": {
          "annotationdefaults": {
           "arrowcolor": "#2a3f5f",
           "arrowhead": 0,
           "arrowwidth": 1
          },
          "autotypenumbers": "strict",
          "coloraxis": {
           "colorbar": {
            "outlinewidth": 0,
            "ticks": ""
           }
          },
          "colorscale": {
           "diverging": [
            [
             0,
             "#8e0152"
            ],
            [
             0.1,
             "#c51b7d"
            ],
            [
             0.2,
             "#de77ae"
            ],
            [
             0.3,
             "#f1b6da"
            ],
            [
             0.4,
             "#fde0ef"
            ],
            [
             0.5,
             "#f7f7f7"
            ],
            [
             0.6,
             "#e6f5d0"
            ],
            [
             0.7,
             "#b8e186"
            ],
            [
             0.8,
             "#7fbc41"
            ],
            [
             0.9,
             "#4d9221"
            ],
            [
             1,
             "#276419"
            ]
           ],
           "sequential": [
            [
             0,
             "#0d0887"
            ],
            [
             0.1111111111111111,
             "#46039f"
            ],
            [
             0.2222222222222222,
             "#7201a8"
            ],
            [
             0.3333333333333333,
             "#9c179e"
            ],
            [
             0.4444444444444444,
             "#bd3786"
            ],
            [
             0.5555555555555556,
             "#d8576b"
            ],
            [
             0.6666666666666666,
             "#ed7953"
            ],
            [
             0.7777777777777778,
             "#fb9f3a"
            ],
            [
             0.8888888888888888,
             "#fdca26"
            ],
            [
             1,
             "#f0f921"
            ]
           ],
           "sequentialminus": [
            [
             0,
             "#0d0887"
            ],
            [
             0.1111111111111111,
             "#46039f"
            ],
            [
             0.2222222222222222,
             "#7201a8"
            ],
            [
             0.3333333333333333,
             "#9c179e"
            ],
            [
             0.4444444444444444,
             "#bd3786"
            ],
            [
             0.5555555555555556,
             "#d8576b"
            ],
            [
             0.6666666666666666,
             "#ed7953"
            ],
            [
             0.7777777777777778,
             "#fb9f3a"
            ],
            [
             0.8888888888888888,
             "#fdca26"
            ],
            [
             1,
             "#f0f921"
            ]
           ]
          },
          "colorway": [
           "#636efa",
           "#EF553B",
           "#00cc96",
           "#ab63fa",
           "#FFA15A",
           "#19d3f3",
           "#FF6692",
           "#B6E880",
           "#FF97FF",
           "#FECB52"
          ],
          "font": {
           "color": "#2a3f5f"
          },
          "geo": {
           "bgcolor": "white",
           "lakecolor": "white",
           "landcolor": "#E5ECF6",
           "showlakes": true,
           "showland": true,
           "subunitcolor": "white"
          },
          "hoverlabel": {
           "align": "left"
          },
          "hovermode": "closest",
          "mapbox": {
           "style": "light"
          },
          "paper_bgcolor": "white",
          "plot_bgcolor": "#E5ECF6",
          "polar": {
           "angularaxis": {
            "gridcolor": "white",
            "linecolor": "white",
            "ticks": ""
           },
           "bgcolor": "#E5ECF6",
           "radialaxis": {
            "gridcolor": "white",
            "linecolor": "white",
            "ticks": ""
           }
          },
          "scene": {
           "xaxis": {
            "backgroundcolor": "#E5ECF6",
            "gridcolor": "white",
            "gridwidth": 2,
            "linecolor": "white",
            "showbackground": true,
            "ticks": "",
            "zerolinecolor": "white"
           },
           "yaxis": {
            "backgroundcolor": "#E5ECF6",
            "gridcolor": "white",
            "gridwidth": 2,
            "linecolor": "white",
            "showbackground": true,
            "ticks": "",
            "zerolinecolor": "white"
           },
           "zaxis": {
            "backgroundcolor": "#E5ECF6",
            "gridcolor": "white",
            "gridwidth": 2,
            "linecolor": "white",
            "showbackground": true,
            "ticks": "",
            "zerolinecolor": "white"
           }
          },
          "shapedefaults": {
           "line": {
            "color": "#2a3f5f"
           }
          },
          "ternary": {
           "aaxis": {
            "gridcolor": "white",
            "linecolor": "white",
            "ticks": ""
           },
           "baxis": {
            "gridcolor": "white",
            "linecolor": "white",
            "ticks": ""
           },
           "bgcolor": "#E5ECF6",
           "caxis": {
            "gridcolor": "white",
            "linecolor": "white",
            "ticks": ""
           }
          },
          "title": {
           "x": 0.05
          },
          "xaxis": {
           "automargin": true,
           "gridcolor": "white",
           "linecolor": "white",
           "ticks": "",
           "title": {
            "standoff": 15
           },
           "zerolinecolor": "white",
           "zerolinewidth": 2
          },
          "yaxis": {
           "automargin": true,
           "gridcolor": "white",
           "linecolor": "white",
           "ticks": "",
           "title": {
            "standoff": 15
           },
           "zerolinecolor": "white",
           "zerolinewidth": 2
          }
         }
        }
       }
      }
     },
     "metadata": {},
     "output_type": "display_data"
    }
   ],
   "source": [
    "fig = px.choropleth(country_coverage, \n",
    "    locations='iso_alpha3', \n",
    "    color='count_of_articles_nyt',\n",
    "    color_continuous_scale=\"Reds\",\n",
    "    range_color=(0, 1000),\n",
    "    locationmode=\"ISO-3\"\n",
    ")\n",
    "fig.update_layout(margin={\"r\":0,\"t\":0,\"l\":0,\"b\":0})\n",
    "\n",
    "\n",
    "fig.show()"
   ]
  },
  {
   "cell_type": "code",
   "execution_count": 84,
   "metadata": {},
   "outputs": [],
   "source": [
    "zeit = country_coverage[(country_coverage[\"country\"] != \"Germany\")]"
   ]
  },
  {
   "cell_type": "code",
   "execution_count": null,
   "metadata": {},
   "outputs": [
    {
     "data": {
      "application/vnd.plotly.v1+json": {
       "config": {
        "plotlyServerURL": "https://plot.ly"
       },
       "data": [
        {
         "coloraxis": "coloraxis",
         "geo": "geo",
         "hovertemplate": "iso_alpha3=%{location}<br>count_of_articles_zeit=%{z}<extra></extra>",
         "locationmode": "ISO-3",
         "locations": [
          "No code",
          "No code",
          "AFG",
          "ZAF",
          "ALB",
          "DZA",
          "AGO",
          "AIA",
          "ATA",
          "ATG",
          "ARG",
          "ARM",
          "No code",
          "No code",
          "AUS",
          "AUT",
          "AZE",
          "BHS",
          "BHR",
          "No code",
          "BGD",
          "BRB",
          "No code",
          "No code",
          "No code",
          "BLR",
          "BEL",
          "BLZ",
          "BEN",
          "No code",
          "BTN",
          "No code",
          "BOL",
          "BIH",
          "BWA",
          "BRA",
          "IOT",
          "BRN",
          "BGR",
          "BFA",
          "BDI",
          "KHM",
          "CMR",
          "CAN",
          "No code",
          "No code",
          "CYM",
          "CAF",
          "TCD",
          "CHL",
          "CHN",
          "COL",
          "COM",
          "No code",
          "COK",
          "No code",
          "CRI",
          "HRV",
          "CUB",
          "CYP",
          "CZE",
          "CIV",
          "COD",
          "DNK",
          "DJI",
          "DOM",
          "No code",
          "No code",
          "ECU",
          "EGY",
          "SLV",
          "No code",
          "GNQ",
          "ERI",
          "EST",
          "SWZ",
          "ETH",
          "No code",
          "FLK",
          "FRO",
          "FSM",
          "FJI",
          "FIN",
          "FRA",
          "GAB",
          "No code",
          "GEO",
          "DEU",
          "GHA",
          "GIB",
          "GRC",
          "GRL",
          "GRD",
          "GTM",
          "GGY",
          "GIN",
          "GNB",
          "No code",
          "No code",
          "No code",
          "No code",
          "No code",
          "GUY",
          "HTI",
          "HND",
          "HUN",
          "ISL",
          "IND",
          "IOT",
          "IDN",
          "IRN",
          "IRQ",
          "IRL",
          "No code",
          "ISR",
          "ITA",
          "JAM",
          "JPN",
          "JEY",
          "JOR",
          "ISL",
          "KAZ",
          "KEN",
          "KIR",
          "SRB",
          "KWT",
          "KGZ",
          "LAO",
          "LVA",
          "LBN",
          "LBR",
          "LBY",
          "LIE",
          "LTU",
          "LUX",
          "MDG",
          "MWI",
          "MYS",
          "MDV",
          "MLI",
          "MLT",
          "MHL",
          "MRT",
          "MUS",
          "No code",
          "MEX",
          "MDA",
          "MCO",
          "MNG",
          "MNE",
          "MAR",
          "MOZ",
          "MMR",
          "NAM",
          "NRU",
          "NPL",
          "NLD",
          "No code",
          "NZL",
          "NIC",
          "NER",
          "NGA",
          "NIU",
          "No code",
          "PRK",
          "MKD",
          "No code",
          "NOR",
          "OMN",
          "No code",
          "PAK",
          "PLW",
          "PSE",
          "PAN",
          "PNG",
          "PRY",
          "No code",
          "PER",
          "PHL",
          "POL",
          "PRT",
          "QAT",
          "SDN",
          "ROU",
          "RUS",
          "RWA",
          "LCA",
          "VCT",
          "WSM",
          "SMR",
          "SAU",
          "SEN",
          "SRB",
          "SLE",
          "SGP",
          "SVK",
          "SVN",
          "SOM",
          "ZAF",
          "No code",
          "No code",
          "SGS",
          "KOR",
          "No code",
          "SSD",
          "ESP",
          "LKA",
          "SDN",
          "SUR",
          "SWE",
          "CHE",
          "SYR",
          "TWN",
          "No code",
          "TJK",
          "TZA",
          "THA",
          "GMB",
          "TGO",
          "TON",
          "TTO",
          "TUN",
          "TUR",
          "TKM",
          "TCA",
          "TUV",
          "UGA",
          "UKR",
          "No code",
          "ARE",
          "GBR",
          "USA",
          "URY",
          "UZB",
          "VUT",
          "VAT",
          "VEN",
          "VNM",
          "No code",
          "YEM",
          "ZMB",
          "ZWE"
         ],
         "name": "",
         "type": "choropleth",
         "z": {
          "bdata": "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",
          "dtype": "f8"
         }
        }
       ],
       "layout": {
        "coloraxis": {
         "cmax": 1000,
         "cmin": 1,
         "colorbar": {
          "title": {
           "text": "count_of_articles_zeit"
          }
         },
         "colorscale": [
          [
           0,
           "rgb(255,245,240)"
          ],
          [
           0.125,
           "rgb(254,224,210)"
          ],
          [
           0.25,
           "rgb(252,187,161)"
          ],
          [
           0.375,
           "rgb(252,146,114)"
          ],
          [
           0.5,
           "rgb(251,106,74)"
          ],
          [
           0.625,
           "rgb(239,59,44)"
          ],
          [
           0.75,
           "rgb(203,24,29)"
          ],
          [
           0.875,
           "rgb(165,15,21)"
          ],
          [
           1,
           "rgb(103,0,13)"
          ]
         ]
        },
        "geo": {
         "center": {},
         "domain": {
          "x": [
           0,
           1
          ],
          "y": [
           0,
           1
          ]
         }
        },
        "legend": {
         "tracegroupgap": 0
        },
        "margin": {
         "b": 0,
         "l": 0,
         "r": 0,
         "t": 0
        },
        "template": {
         "data": {
          "bar": [
           {
            "error_x": {
             "color": "#2a3f5f"
            },
            "error_y": {
             "color": "#2a3f5f"
            },
            "marker": {
             "line": {
              "color": "#E5ECF6",
              "width": 0.5
             },
             "pattern": {
              "fillmode": "overlay",
              "size": 10,
              "solidity": 0.2
             }
            },
            "type": "bar"
           }
          ],
          "barpolar": [
           {
            "marker": {
             "line": {
              "color": "#E5ECF6",
              "width": 0.5
             },
             "pattern": {
              "fillmode": "overlay",
              "size": 10,
              "solidity": 0.2
             }
            },
            "type": "barpolar"
           }
          ],
          "carpet": [
           {
            "aaxis": {
             "endlinecolor": "#2a3f5f",
             "gridcolor": "white",
             "linecolor": "white",
             "minorgridcolor": "white",
             "startlinecolor": "#2a3f5f"
            },
            "baxis": {
             "endlinecolor": "#2a3f5f",
             "gridcolor": "white",
             "linecolor": "white",
             "minorgridcolor": "white",
             "startlinecolor": "#2a3f5f"
            },
            "type": "carpet"
           }
          ],
          "choropleth": [
           {
            "colorbar": {
             "outlinewidth": 0,
             "ticks": ""
            },
            "type": "choropleth"
           }
          ],
          "contour": [
           {
            "colorbar": {
             "outlinewidth": 0,
             "ticks": ""
            },
            "colorscale": [
             [
              0,
              "#0d0887"
             ],
             [
              0.1111111111111111,
              "#46039f"
             ],
             [
              0.2222222222222222,
              "#7201a8"
             ],
             [
              0.3333333333333333,
              "#9c179e"
             ],
             [
              0.4444444444444444,
              "#bd3786"
             ],
             [
              0.5555555555555556,
              "#d8576b"
             ],
             [
              0.6666666666666666,
              "#ed7953"
             ],
             [
              0.7777777777777778,
              "#fb9f3a"
             ],
             [
              0.8888888888888888,
              "#fdca26"
             ],
             [
              1,
              "#f0f921"
             ]
            ],
            "type": "contour"
           }
          ],
          "contourcarpet": [
           {
            "colorbar": {
             "outlinewidth": 0,
             "ticks": ""
            },
            "type": "contourcarpet"
           }
          ],
          "heatmap": [
           {
            "colorbar": {
             "outlinewidth": 0,
             "ticks": ""
            },
            "colorscale": [
             [
              0,
              "#0d0887"
             ],
             [
              0.1111111111111111,
              "#46039f"
             ],
             [
              0.2222222222222222,
              "#7201a8"
             ],
             [
              0.3333333333333333,
              "#9c179e"
             ],
             [
              0.4444444444444444,
              "#bd3786"
             ],
             [
              0.5555555555555556,
              "#d8576b"
             ],
             [
              0.6666666666666666,
              "#ed7953"
             ],
             [
              0.7777777777777778,
              "#fb9f3a"
             ],
             [
              0.8888888888888888,
              "#fdca26"
             ],
             [
              1,
              "#f0f921"
             ]
            ],
            "type": "heatmap"
           }
          ],
          "histogram": [
           {
            "marker": {
             "pattern": {
              "fillmode": "overlay",
              "size": 10,
              "solidity": 0.2
             }
            },
            "type": "histogram"
           }
          ],
          "histogram2d": [
           {
            "colorbar": {
             "outlinewidth": 0,
             "ticks": ""
            },
            "colorscale": [
             [
              0,
              "#0d0887"
             ],
             [
              0.1111111111111111,
              "#46039f"
             ],
             [
              0.2222222222222222,
              "#7201a8"
             ],
             [
              0.3333333333333333,
              "#9c179e"
             ],
             [
              0.4444444444444444,
              "#bd3786"
             ],
             [
              0.5555555555555556,
              "#d8576b"
             ],
             [
              0.6666666666666666,
              "#ed7953"
             ],
             [
              0.7777777777777778,
              "#fb9f3a"
             ],
             [
              0.8888888888888888,
              "#fdca26"
             ],
             [
              1,
              "#f0f921"
             ]
            ],
            "type": "histogram2d"
           }
          ],
          "histogram2dcontour": [
           {
            "colorbar": {
             "outlinewidth": 0,
             "ticks": ""
            },
            "colorscale": [
             [
              0,
              "#0d0887"
             ],
             [
              0.1111111111111111,
              "#46039f"
             ],
             [
              0.2222222222222222,
              "#7201a8"
             ],
             [
              0.3333333333333333,
              "#9c179e"
             ],
             [
              0.4444444444444444,
              "#bd3786"
             ],
             [
              0.5555555555555556,
              "#d8576b"
             ],
             [
              0.6666666666666666,
              "#ed7953"
             ],
             [
              0.7777777777777778,
              "#fb9f3a"
             ],
             [
              0.8888888888888888,
              "#fdca26"
             ],
             [
              1,
              "#f0f921"
             ]
            ],
            "type": "histogram2dcontour"
           }
          ],
          "mesh3d": [
           {
            "colorbar": {
             "outlinewidth": 0,
             "ticks": ""
            },
            "type": "mesh3d"
           }
          ],
          "parcoords": [
           {
            "line": {
             "colorbar": {
              "outlinewidth": 0,
              "ticks": ""
             }
            },
            "type": "parcoords"
           }
          ],
          "pie": [
           {
            "automargin": true,
            "type": "pie"
           }
          ],
          "scatter": [
           {
            "fillpattern": {
             "fillmode": "overlay",
             "size": 10,
             "solidity": 0.2
            },
            "type": "scatter"
           }
          ],
          "scatter3d": [
           {
            "line": {
             "colorbar": {
              "outlinewidth": 0,
              "ticks": ""
             }
            },
            "marker": {
             "colorbar": {
              "outlinewidth": 0,
              "ticks": ""
             }
            },
            "type": "scatter3d"
           }
          ],
          "scattercarpet": [
           {
            "marker": {
             "colorbar": {
              "outlinewidth": 0,
              "ticks": ""
             }
            },
            "type": "scattercarpet"
           }
          ],
          "scattergeo": [
           {
            "marker": {
             "colorbar": {
              "outlinewidth": 0,
              "ticks": ""
             }
            },
            "type": "scattergeo"
           }
          ],
          "scattergl": [
           {
            "marker": {
             "colorbar": {
              "outlinewidth": 0,
              "ticks": ""
             }
            },
            "type": "scattergl"
           }
          ],
          "scattermap": [
           {
            "marker": {
             "colorbar": {
              "outlinewidth": 0,
              "ticks": ""
             }
            },
            "type": "scattermap"
           }
          ],
          "scattermapbox": [
           {
            "marker": {
             "colorbar": {
              "outlinewidth": 0,
              "ticks": ""
             }
            },
            "type": "scattermapbox"
           }
          ],
          "scatterpolar": [
           {
            "marker": {
             "colorbar": {
              "outlinewidth": 0,
              "ticks": ""
             }
            },
            "type": "scatterpolar"
           }
          ],
          "scatterpolargl": [
           {
            "marker": {
             "colorbar": {
              "outlinewidth": 0,
              "ticks": ""
             }
            },
            "type": "scatterpolargl"
           }
          ],
          "scatterternary": [
           {
            "marker": {
             "colorbar": {
              "outlinewidth": 0,
              "ticks": ""
             }
            },
            "type": "scatterternary"
           }
          ],
          "surface": [
           {
            "colorbar": {
             "outlinewidth": 0,
             "ticks": ""
            },
            "colorscale": [
             [
              0,
              "#0d0887"
             ],
             [
              0.1111111111111111,
              "#46039f"
             ],
             [
              0.2222222222222222,
              "#7201a8"
             ],
             [
              0.3333333333333333,
              "#9c179e"
             ],
             [
              0.4444444444444444,
              "#bd3786"
             ],
             [
              0.5555555555555556,
              "#d8576b"
             ],
             [
              0.6666666666666666,
              "#ed7953"
             ],
             [
              0.7777777777777778,
              "#fb9f3a"
             ],
             [
              0.8888888888888888,
              "#fdca26"
             ],
             [
              1,
              "#f0f921"
             ]
            ],
            "type": "surface"
           }
          ],
          "table": [
           {
            "cells": {
             "fill": {
              "color": "#EBF0F8"
             },
             "line": {
              "color": "white"
             }
            },
            "header": {
             "fill": {
              "color": "#C8D4E3"
             },
             "line": {
              "color": "white"
             }
            },
            "type": "table"
           }
          ]
         },
         "layout": {
          "annotationdefaults": {
           "arrowcolor": "#2a3f5f",
           "arrowhead": 0,
           "arrowwidth": 1
          },
          "autotypenumbers": "strict",
          "coloraxis": {
           "colorbar": {
            "outlinewidth": 0,
            "ticks": ""
           }
          },
          "colorscale": {
           "diverging": [
            [
             0,
             "#8e0152"
            ],
            [
             0.1,
             "#c51b7d"
            ],
            [
             0.2,
             "#de77ae"
            ],
            [
             0.3,
             "#f1b6da"
            ],
            [
             0.4,
             "#fde0ef"
            ],
            [
             0.5,
             "#f7f7f7"
            ],
            [
             0.6,
             "#e6f5d0"
            ],
            [
             0.7,
             "#b8e186"
            ],
            [
             0.8,
             "#7fbc41"
            ],
            [
             0.9,
             "#4d9221"
            ],
            [
             1,
             "#276419"
            ]
           ],
           "sequential": [
            [
             0,
             "#0d0887"
            ],
            [
             0.1111111111111111,
             "#46039f"
            ],
            [
             0.2222222222222222,
             "#7201a8"
            ],
            [
             0.3333333333333333,
             "#9c179e"
            ],
            [
             0.4444444444444444,
             "#bd3786"
            ],
            [
             0.5555555555555556,
             "#d8576b"
            ],
            [
             0.6666666666666666,
             "#ed7953"
            ],
            [
             0.7777777777777778,
             "#fb9f3a"
            ],
            [
             0.8888888888888888,
             "#fdca26"
            ],
            [
             1,
             "#f0f921"
            ]
           ],
           "sequentialminus": [
            [
             0,
             "#0d0887"
            ],
            [
             0.1111111111111111,
             "#46039f"
            ],
            [
             0.2222222222222222,
             "#7201a8"
            ],
            [
             0.3333333333333333,
             "#9c179e"
            ],
            [
             0.4444444444444444,
             "#bd3786"
            ],
            [
             0.5555555555555556,
             "#d8576b"
            ],
            [
             0.6666666666666666,
             "#ed7953"
            ],
            [
             0.7777777777777778,
             "#fb9f3a"
            ],
            [
             0.8888888888888888,
             "#fdca26"
            ],
            [
             1,
             "#f0f921"
            ]
           ]
          },
          "colorway": [
           "#636efa",
           "#EF553B",
           "#00cc96",
           "#ab63fa",
           "#FFA15A",
           "#19d3f3",
           "#FF6692",
           "#B6E880",
           "#FF97FF",
           "#FECB52"
          ],
          "font": {
           "color": "#2a3f5f"
          },
          "geo": {
           "bgcolor": "white",
           "lakecolor": "white",
           "landcolor": "#E5ECF6",
           "showlakes": true,
           "showland": true,
           "subunitcolor": "white"
          },
          "hoverlabel": {
           "align": "left"
          },
          "hovermode": "closest",
          "mapbox": {
           "style": "light"
          },
          "paper_bgcolor": "white",
          "plot_bgcolor": "#E5ECF6",
          "polar": {
           "angularaxis": {
            "gridcolor": "white",
            "linecolor": "white",
            "ticks": ""
           },
           "bgcolor": "#E5ECF6",
           "radialaxis": {
            "gridcolor": "white",
            "linecolor": "white",
            "ticks": ""
           }
          },
          "scene": {
           "xaxis": {
            "backgroundcolor": "#E5ECF6",
            "gridcolor": "white",
            "gridwidth": 2,
            "linecolor": "white",
            "showbackground": true,
            "ticks": "",
            "zerolinecolor": "white"
           },
           "yaxis": {
            "backgroundcolor": "#E5ECF6",
            "gridcolor": "white",
            "gridwidth": 2,
            "linecolor": "white",
            "showbackground": true,
            "ticks": "",
            "zerolinecolor": "white"
           },
           "zaxis": {
            "backgroundcolor": "#E5ECF6",
            "gridcolor": "white",
            "gridwidth": 2,
            "linecolor": "white",
            "showbackground": true,
            "ticks": "",
            "zerolinecolor": "white"
           }
          },
          "shapedefaults": {
           "line": {
            "color": "#2a3f5f"
           }
          },
          "ternary": {
           "aaxis": {
            "gridcolor": "white",
            "linecolor": "white",
            "ticks": ""
           },
           "baxis": {
            "gridcolor": "white",
            "linecolor": "white",
            "ticks": ""
           },
           "bgcolor": "#E5ECF6",
           "caxis": {
            "gridcolor": "white",
            "linecolor": "white",
            "ticks": ""
           }
          },
          "title": {
           "x": 0.05
          },
          "xaxis": {
           "automargin": true,
           "gridcolor": "white",
           "linecolor": "white",
           "ticks": "",
           "title": {
            "standoff": 15
           },
           "zerolinecolor": "white",
           "zerolinewidth": 2
          },
          "yaxis": {
           "automargin": true,
           "gridcolor": "white",
           "linecolor": "white",
           "ticks": "",
           "title": {
            "standoff": 15
           },
           "zerolinecolor": "white",
           "zerolinewidth": 2
          }
         }
        }
       }
      }
     },
     "metadata": {},
     "output_type": "display_data"
    }
   ],
   "source": [
    "fig = px.choropleth(country_coverage, \n",
    "    locations='iso_alpha3', \n",
    "    color='count_of_articles_zeit',\n",
    "    color_continuous_scale=\"Reds\",\n",
    "    range_color=(1, 1000),\n",
    "    locationmode=\"ISO-3\"\n",
    ")\n",
    "\n",
    "fig.update_layout(margin={\"r\":0,\"t\":0,\"l\":0,\"b\":0})\n",
    "fig.show()"
   ]
  },
  {
   "cell_type": "markdown",
   "metadata": {},
   "source": [
    "## Calc percentage and middle point to show delta"
   ]
  },
  {
   "cell_type": "code",
   "execution_count": 11,
   "metadata": {},
   "outputs": [],
   "source": [
    "country_coverage[\"perc_of_coverage_nyt\"] =  country_coverage[\"count_of_articles_nyt\"].apply(lambda x: x / country_coverage[\"count_of_articles_nyt\"].sum())"
   ]
  },
  {
   "cell_type": "code",
   "execution_count": 12,
   "metadata": {},
   "outputs": [],
   "source": [
    "country_coverage[\"perc_of_coverage_zeit\"] =  country_coverage[\"count_of_articles_zeit\"].apply(lambda x: x / country_coverage[\"count_of_articles_zeit\"].sum())"
   ]
  },
  {
   "cell_type": "code",
   "execution_count": 13,
   "metadata": {},
   "outputs": [],
   "source": [
    "country_coverage[\"middle_point\"] = country_coverage[\"perc_of_coverage_nyt\"] - country_coverage[\"perc_of_coverage_zeit\"]"
   ]
  },
  {
   "cell_type": "code",
   "execution_count": 15,
   "metadata": {},
   "outputs": [
    {
     "data": {
      "application/vnd.plotly.v1+json": {
       "config": {
        "plotlyServerURL": "https://plot.ly"
       },
       "data": [
        {
         "coloraxis": "coloraxis",
         "geo": "geo",
         "hovertemplate": "iso_alpha3=%{location}<br>middle_point=%{z}<extra></extra>",
         "locationmode": "ISO-3",
         "locations": [
          "No code",
          "No code",
          "AFG",
          "ZAF",
          "ALB",
          "DZA",
          "AGO",
          "AIA",
          "ATA",
          "ATG",
          "ARG",
          "ARM",
          "No code",
          "No code",
          "AUS",
          "AUT",
          "AZE",
          "BHS",
          "BHR",
          "No code",
          "BGD",
          "BRB",
          "No code",
          "No code",
          "No code",
          "BLR",
          "BEL",
          "BLZ",
          "BEN",
          "No code",
          "BTN",
          "No code",
          "BOL",
          "BIH",
          "BWA",
          "BRA",
          "IOT",
          "BRN",
          "BGR",
          "BFA",
          "BDI",
          "KHM",
          "CMR",
          "CAN",
          "No code",
          "No code",
          "CYM",
          "CAF",
          "TCD",
          "CHL",
          "CHN",
          "COL",
          "COM",
          "No code",
          "COK",
          "No code",
          "CRI",
          "HRV",
          "CUB",
          "CYP",
          "CZE",
          "CIV",
          "COD",
          "DNK",
          "DJI",
          "DOM",
          "No code",
          "No code",
          "ECU",
          "EGY",
          "SLV",
          "No code",
          "GNQ",
          "ERI",
          "EST",
          "SWZ",
          "ETH",
          "No code",
          "FLK",
          "FRO",
          "FSM",
          "FJI",
          "FIN",
          "FRA",
          "GAB",
          "No code",
          "GEO",
          "DEU",
          "GHA",
          "GIB",
          "GRC",
          "GRL",
          "GRD",
          "GTM",
          "GGY",
          "GIN",
          "GNB",
          "No code",
          "No code",
          "No code",
          "No code",
          "No code",
          "GUY",
          "HTI",
          "HND",
          "HUN",
          "ISL",
          "IND",
          "IOT",
          "IDN",
          "IRN",
          "IRQ",
          "IRL",
          "No code",
          "ISR",
          "ITA",
          "JAM",
          "JPN",
          "JEY",
          "JOR",
          "ISL",
          "KAZ",
          "KEN",
          "KIR",
          "SRB",
          "KWT",
          "KGZ",
          "LAO",
          "LVA",
          "LBN",
          "LBR",
          "LBY",
          "LIE",
          "LTU",
          "LUX",
          "MDG",
          "MWI",
          "MYS",
          "MDV",
          "MLI",
          "MLT",
          "MHL",
          "MRT",
          "MUS",
          "No code",
          "MEX",
          "MDA",
          "MCO",
          "MNG",
          "MNE",
          "MAR",
          "MOZ",
          "MMR",
          "NAM",
          "NRU",
          "NPL",
          "NLD",
          "No code",
          "NZL",
          "NIC",
          "NER",
          "NGA",
          "NIU",
          "No code",
          "PRK",
          "MKD",
          "No code",
          "NOR",
          "OMN",
          "No code",
          "PAK",
          "PLW",
          "PSE",
          "PAN",
          "PNG",
          "PRY",
          "No code",
          "PER",
          "PHL",
          "POL",
          "PRT",
          "QAT",
          "SDN",
          "ROU",
          "RUS",
          "RWA",
          "LCA",
          "VCT",
          "WSM",
          "SMR",
          "SAU",
          "SEN",
          "SRB",
          "SLE",
          "SGP",
          "SVK",
          "SVN",
          "SOM",
          "ZAF",
          "No code",
          "No code",
          "SGS",
          "KOR",
          "No code",
          "SSD",
          "ESP",
          "LKA",
          "SDN",
          "SUR",
          "SWE",
          "CHE",
          "SYR",
          "TWN",
          "No code",
          "TJK",
          "TZA",
          "THA",
          "GMB",
          "TGO",
          "TON",
          "TTO",
          "TUN",
          "TUR",
          "TKM",
          "TCA",
          "TUV",
          "UGA",
          "UKR",
          "No code",
          "ARE",
          "GBR",
          "USA",
          "URY",
          "UZB",
          "VUT",
          "VAT",
          "VEN",
          "VNM",
          "No code",
          "YEM",
          "ZMB",
          "ZWE"
         ],
         "name": "",
         "type": "choropleth",
         "z": {
          "bdata": "x7GN4PJ8AD/HsY3g8nwQP5RKY3ZwwEu/ZEocmUGieT/Tl69yhsRGv4jj6VzWsg2/zTzE0i+WJj+Crbq1L5kFP1VVVVVVVTW/x7GN4PJ8AD/IASXBDlNNv7AFW7AFW0C/F2zBFmzBBr/HZd1+O8NJP1jV/O1bmF0/qeZfMxszib/uLpuia81Cv4CyFomYuhA/jKMCD15WD7/kQOasCss6PwFYtA/ylFk/P6nnimy1Gj/HsY3g8nwAP8exjeDyfAA/x7GN4PJ8AD9EfF2U82dWv0wHzyAs/0a/Hff3CKnaLD9AaQA99Fj8PsexjeDyfBA/iAhru4pJGz/HsY3g8nwwP1wQiGhr0xC/EnEd6tTiIT8YzM3vL5MXPyJGacbNMWU/x7GN4PJ8AD8XbMEWbMH2vnFWNjQAulG/QGkAPfRYDD9A6WsQxoPCvoTV6Ng/xT4/FKyoZOQdBb/MN90IhdaAP8exjeDyfCA/x7GN4PJ8AD85HrGYL5wkP1twlEEvpQG/meFifOw2Oj8pjYK6IEw2P1UR9eabO5A/lMYjkBLnTT8LNkM+uCEuP8exjeDyfAA/x7GN4PJ8ID/HsY3g8nwAP84kgdy+YTY/0+u3nQ+7VL9hsEULT+xnP/rk+60hLi6/pddvOx92Wb8ScR3q1OIRP8BxbCO4PP8+Dki/d4dmX79o5g3/bKn+Pvp0jnPHaD8/x7GN4PJ8ED+28NgVAsQhP9/p4YsYuUA/rMBclOuRUj/IydDWY7EwPwBonzyRjDI/7u6zVPNw5D6qKsh3qOkXvxGZhqfgjEW/x7GN4PJ8AD9wTBLEArInP5bOxp+H24o/F2zBFmzBFr8XbMEWbMH2vkDpztjkEem+W3CUQS+lEb8wENcXgyQ6v/CimX+CJo+/QOnO2OQR6b7HsY3g8nwAP5qSMW9mxno/kBLjcjgw379sRhrYMHsfPxdswRZswRa/UkQfl8wCg79yHIzXIEknPws2Qz64IT4/zZhfYYZHRj+Crbq1L5kFP2hm3JpdYvu+x7GN4PJ8AD8AaJ88kYwyP8exjeDyfAA/x2XdfjvDST+ritRQbLsYP8exjeDyfAA/rOrgKTCNCT+81n9d+6ZgPzleIrKw/D0/SWCuabh7Z79gJpKExncGvy6Ak4Pqb3U/AGifPJGMMj+8YEtm//FiP5Y+zlGS3ns/zigtwScAUj9PQm4yTUJQP8exjeDyfAA/gMXdU1Faoj+YfDVqu8FYvxzHcRzHcSy/Bo63nQvQdj/HsY3g8nwQPzAw/KLOmTw/F2zBFmzB9r5EaMaC69FBv6wVy5IK7mE/x7GN4PJ8AD9bcJRBL6Uxvws2Qz64IS4/ZoYBJqnXHT/0Gd5tbLgpPwDY0dzv00a/WBSewI0CfT8/qeeKbLUKP2SLXfkR+Rg/ERERERERIb9nJvVM5QVNvxDBtMrwuE6/P6nnimy1Gj9A6WsQxoPSvrBV8pAhMS2/AGifPJGMMj9A0hGQTuvXvszct/lrxCW/x7GN4PJ8ID9bcJRBL6UBv6oqyHeo6Qe/x7GN4PJ8QD+hgtE4CW2APyMqeuvzXjk/qlpOZIpSKL86TjeFEQUVP2cm9UzlBR2/OgoahycGQD+3IF8C5CwiP94LDliLd1A/RER/3j/CHr/6pBRgqdEPP0Re3azpR1I/3r5tVzVUZb/0Gd5tbLgpP0xXtTJVWzQ/IIeKzk4VHj/lMPt/a9MxPy7MQ+WhKVA/x7GN4PJ8AD/kjJYOwoRRP2AICZyvIDU/4N2hGKnF277HsY3g8nwQP1zkcsb2ilG/yOETzdTlID/kjJYOwoRBP8egd3q5nWA/q4rUUGy7GD9cfKDFPR2qP9OXdNiKRjw/XLhdJIJCQj9oZtyaXWL7vquK1FBsuyg/LlYP7qV0Uj8HA8FbbZ1RP/1QZydrzHK/VE39i4MYTr8W7KNJboJZP8eeIQiFzmI/n8TDshLhTr8gIo4q00xqvyKa5yVOJDi/OR6xmC+cJD85HrGYL5wkP2cm9UzlBQ2/EREREREREb9FjmOZy7BSPzpmenuCOTU/Zsat2SW2Ub/HsY3g8nwgP4DSrscvXeG+QOkxoQOgDz8udI/Vr5RGv8DdPlCKN+W+DYyh23XnWT9V+bnG/qNFP+RA5qwKy0o/x7GN4PJ8ED8X4GQBOClsP8exjeDyfAA/OR6xmC+cJD+PLZN9ZiN7v3LsBes+4DY/OMaGVEYLNj+Crbq1L5kFP3Lq6hIGj1O/Qfhzij0Xg79AFKvriW01P6A6vQ8TGGI/OR6xmC+cND/vpupxoNMzPzyuQ17V1hU/qtKdM79YST8/qeeKbLUaPxdswRZswfa+QOnO2OQR6b5mhgEmqdcdPxgs2sjzZAg/Th38VAdLcr9A6c7Y5BHpvhdswRZswfa+gq26tS+ZBT9swdvRxZghP3iFwhZ4gnS/EREREREREb9o1iLSzbE1PzyZgRMzWXo/fp+mxcAt1j+EDceO82oWPygtduFcejW/IgJMyOMyID8AgOIyAsEiPwzGEJ5Z2lk/cxjg8reqSz/HsY3g8nwAP5ihtshvWEY/VsVMW7geLz/uLpuia80Cvw==",
          "dtype": "f8"
         }
        }
       ],
       "layout": {
        "coloraxis": {
         "cmax": 0.01,
         "cmin": -0.01,
         "colorbar": {
          "title": {
           "text": "middle_point"
          }
         },
         "colorscale": [
          [
           0,
           "rgb(142,1,82)"
          ],
          [
           0.1,
           "rgb(197,27,125)"
          ],
          [
           0.2,
           "rgb(222,119,174)"
          ],
          [
           0.3,
           "rgb(241,182,218)"
          ],
          [
           0.4,
           "rgb(253,224,239)"
          ],
          [
           0.5,
           "rgb(247,247,247)"
          ],
          [
           0.6,
           "rgb(230,245,208)"
          ],
          [
           0.7,
           "rgb(184,225,134)"
          ],
          [
           0.8,
           "rgb(127,188,65)"
          ],
          [
           0.9,
           "rgb(77,146,33)"
          ],
          [
           1,
           "rgb(39,100,25)"
          ]
         ]
        },
        "geo": {
         "center": {},
         "domain": {
          "x": [
           0,
           1
          ],
          "y": [
           0,
           1
          ]
         }
        },
        "legend": {
         "tracegroupgap": 0
        },
        "margin": {
         "b": 0,
         "l": 0,
         "r": 0,
         "t": 0
        },
        "template": {
         "data": {
          "bar": [
           {
            "error_x": {
             "color": "#2a3f5f"
            },
            "error_y": {
             "color": "#2a3f5f"
            },
            "marker": {
             "line": {
              "color": "#E5ECF6",
              "width": 0.5
             },
             "pattern": {
              "fillmode": "overlay",
              "size": 10,
              "solidity": 0.2
             }
            },
            "type": "bar"
           }
          ],
          "barpolar": [
           {
            "marker": {
             "line": {
              "color": "#E5ECF6",
              "width": 0.5
             },
             "pattern": {
              "fillmode": "overlay",
              "size": 10,
              "solidity": 0.2
             }
            },
            "type": "barpolar"
           }
          ],
          "carpet": [
           {
            "aaxis": {
             "endlinecolor": "#2a3f5f",
             "gridcolor": "white",
             "linecolor": "white",
             "minorgridcolor": "white",
             "startlinecolor": "#2a3f5f"
            },
            "baxis": {
             "endlinecolor": "#2a3f5f",
             "gridcolor": "white",
             "linecolor": "white",
             "minorgridcolor": "white",
             "startlinecolor": "#2a3f5f"
            },
            "type": "carpet"
           }
          ],
          "choropleth": [
           {
            "colorbar": {
             "outlinewidth": 0,
             "ticks": ""
            },
            "type": "choropleth"
           }
          ],
          "contour": [
           {
            "colorbar": {
             "outlinewidth": 0,
             "ticks": ""
            },
            "colorscale": [
             [
              0,
              "#0d0887"
             ],
             [
              0.1111111111111111,
              "#46039f"
             ],
             [
              0.2222222222222222,
              "#7201a8"
             ],
             [
              0.3333333333333333,
              "#9c179e"
             ],
             [
              0.4444444444444444,
              "#bd3786"
             ],
             [
              0.5555555555555556,
              "#d8576b"
             ],
             [
              0.6666666666666666,
              "#ed7953"
             ],
             [
              0.7777777777777778,
              "#fb9f3a"
             ],
             [
              0.8888888888888888,
              "#fdca26"
             ],
             [
              1,
              "#f0f921"
             ]
            ],
            "type": "contour"
           }
          ],
          "contourcarpet": [
           {
            "colorbar": {
             "outlinewidth": 0,
             "ticks": ""
            },
            "type": "contourcarpet"
           }
          ],
          "heatmap": [
           {
            "colorbar": {
             "outlinewidth": 0,
             "ticks": ""
            },
            "colorscale": [
             [
              0,
              "#0d0887"
             ],
             [
              0.1111111111111111,
              "#46039f"
             ],
             [
              0.2222222222222222,
              "#7201a8"
             ],
             [
              0.3333333333333333,
              "#9c179e"
             ],
             [
              0.4444444444444444,
              "#bd3786"
             ],
             [
              0.5555555555555556,
              "#d8576b"
             ],
             [
              0.6666666666666666,
              "#ed7953"
             ],
             [
              0.7777777777777778,
              "#fb9f3a"
             ],
             [
              0.8888888888888888,
              "#fdca26"
             ],
             [
              1,
              "#f0f921"
             ]
            ],
            "type": "heatmap"
           }
          ],
          "histogram": [
           {
            "marker": {
             "pattern": {
              "fillmode": "overlay",
              "size": 10,
              "solidity": 0.2
             }
            },
            "type": "histogram"
           }
          ],
          "histogram2d": [
           {
            "colorbar": {
             "outlinewidth": 0,
             "ticks": ""
            },
            "colorscale": [
             [
              0,
              "#0d0887"
             ],
             [
              0.1111111111111111,
              "#46039f"
             ],
             [
              0.2222222222222222,
              "#7201a8"
             ],
             [
              0.3333333333333333,
              "#9c179e"
             ],
             [
              0.4444444444444444,
              "#bd3786"
             ],
             [
              0.5555555555555556,
              "#d8576b"
             ],
             [
              0.6666666666666666,
              "#ed7953"
             ],
             [
              0.7777777777777778,
              "#fb9f3a"
             ],
             [
              0.8888888888888888,
              "#fdca26"
             ],
             [
              1,
              "#f0f921"
             ]
            ],
            "type": "histogram2d"
           }
          ],
          "histogram2dcontour": [
           {
            "colorbar": {
             "outlinewidth": 0,
             "ticks": ""
            },
            "colorscale": [
             [
              0,
              "#0d0887"
             ],
             [
              0.1111111111111111,
              "#46039f"
             ],
             [
              0.2222222222222222,
              "#7201a8"
             ],
             [
              0.3333333333333333,
              "#9c179e"
             ],
             [
              0.4444444444444444,
              "#bd3786"
             ],
             [
              0.5555555555555556,
              "#d8576b"
             ],
             [
              0.6666666666666666,
              "#ed7953"
             ],
             [
              0.7777777777777778,
              "#fb9f3a"
             ],
             [
              0.8888888888888888,
              "#fdca26"
             ],
             [
              1,
              "#f0f921"
             ]
            ],
            "type": "histogram2dcontour"
           }
          ],
          "mesh3d": [
           {
            "colorbar": {
             "outlinewidth": 0,
             "ticks": ""
            },
            "type": "mesh3d"
           }
          ],
          "parcoords": [
           {
            "line": {
             "colorbar": {
              "outlinewidth": 0,
              "ticks": ""
             }
            },
            "type": "parcoords"
           }
          ],
          "pie": [
           {
            "automargin": true,
            "type": "pie"
           }
          ],
          "scatter": [
           {
            "fillpattern": {
             "fillmode": "overlay",
             "size": 10,
             "solidity": 0.2
            },
            "type": "scatter"
           }
          ],
          "scatter3d": [
           {
            "line": {
             "colorbar": {
              "outlinewidth": 0,
              "ticks": ""
             }
            },
            "marker": {
             "colorbar": {
              "outlinewidth": 0,
              "ticks": ""
             }
            },
            "type": "scatter3d"
           }
          ],
          "scattercarpet": [
           {
            "marker": {
             "colorbar": {
              "outlinewidth": 0,
              "ticks": ""
             }
            },
            "type": "scattercarpet"
           }
          ],
          "scattergeo": [
           {
            "marker": {
             "colorbar": {
              "outlinewidth": 0,
              "ticks": ""
             }
            },
            "type": "scattergeo"
           }
          ],
          "scattergl": [
           {
            "marker": {
             "colorbar": {
              "outlinewidth": 0,
              "ticks": ""
             }
            },
            "type": "scattergl"
           }
          ],
          "scattermap": [
           {
            "marker": {
             "colorbar": {
              "outlinewidth": 0,
              "ticks": ""
             }
            },
            "type": "scattermap"
           }
          ],
          "scattermapbox": [
           {
            "marker": {
             "colorbar": {
              "outlinewidth": 0,
              "ticks": ""
             }
            },
            "type": "scattermapbox"
           }
          ],
          "scatterpolar": [
           {
            "marker": {
             "colorbar": {
              "outlinewidth": 0,
              "ticks": ""
             }
            },
            "type": "scatterpolar"
           }
          ],
          "scatterpolargl": [
           {
            "marker": {
             "colorbar": {
              "outlinewidth": 0,
              "ticks": ""
             }
            },
            "type": "scatterpolargl"
           }
          ],
          "scatterternary": [
           {
            "marker": {
             "colorbar": {
              "outlinewidth": 0,
              "ticks": ""
             }
            },
            "type": "scatterternary"
           }
          ],
          "surface": [
           {
            "colorbar": {
             "outlinewidth": 0,
             "ticks": ""
            },
            "colorscale": [
             [
              0,
              "#0d0887"
             ],
             [
              0.1111111111111111,
              "#46039f"
             ],
             [
              0.2222222222222222,
              "#7201a8"
             ],
             [
              0.3333333333333333,
              "#9c179e"
             ],
             [
              0.4444444444444444,
              "#bd3786"
             ],
             [
              0.5555555555555556,
              "#d8576b"
             ],
             [
              0.6666666666666666,
              "#ed7953"
             ],
             [
              0.7777777777777778,
              "#fb9f3a"
             ],
             [
              0.8888888888888888,
              "#fdca26"
             ],
             [
              1,
              "#f0f921"
             ]
            ],
            "type": "surface"
           }
          ],
          "table": [
           {
            "cells": {
             "fill": {
              "color": "#EBF0F8"
             },
             "line": {
              "color": "white"
             }
            },
            "header": {
             "fill": {
              "color": "#C8D4E3"
             },
             "line": {
              "color": "white"
             }
            },
            "type": "table"
           }
          ]
         },
         "layout": {
          "annotationdefaults": {
           "arrowcolor": "#2a3f5f",
           "arrowhead": 0,
           "arrowwidth": 1
          },
          "autotypenumbers": "strict",
          "coloraxis": {
           "colorbar": {
            "outlinewidth": 0,
            "ticks": ""
           }
          },
          "colorscale": {
           "diverging": [
            [
             0,
             "#8e0152"
            ],
            [
             0.1,
             "#c51b7d"
            ],
            [
             0.2,
             "#de77ae"
            ],
            [
             0.3,
             "#f1b6da"
            ],
            [
             0.4,
             "#fde0ef"
            ],
            [
             0.5,
             "#f7f7f7"
            ],
            [
             0.6,
             "#e6f5d0"
            ],
            [
             0.7,
             "#b8e186"
            ],
            [
             0.8,
             "#7fbc41"
            ],
            [
             0.9,
             "#4d9221"
            ],
            [
             1,
             "#276419"
            ]
           ],
           "sequential": [
            [
             0,
             "#0d0887"
            ],
            [
             0.1111111111111111,
             "#46039f"
            ],
            [
             0.2222222222222222,
             "#7201a8"
            ],
            [
             0.3333333333333333,
             "#9c179e"
            ],
            [
             0.4444444444444444,
             "#bd3786"
            ],
            [
             0.5555555555555556,
             "#d8576b"
            ],
            [
             0.6666666666666666,
             "#ed7953"
            ],
            [
             0.7777777777777778,
             "#fb9f3a"
            ],
            [
             0.8888888888888888,
             "#fdca26"
            ],
            [
             1,
             "#f0f921"
            ]
           ],
           "sequentialminus": [
            [
             0,
             "#0d0887"
            ],
            [
             0.1111111111111111,
             "#46039f"
            ],
            [
             0.2222222222222222,
             "#7201a8"
            ],
            [
             0.3333333333333333,
             "#9c179e"
            ],
            [
             0.4444444444444444,
             "#bd3786"
            ],
            [
             0.5555555555555556,
             "#d8576b"
            ],
            [
             0.6666666666666666,
             "#ed7953"
            ],
            [
             0.7777777777777778,
             "#fb9f3a"
            ],
            [
             0.8888888888888888,
             "#fdca26"
            ],
            [
             1,
             "#f0f921"
            ]
           ]
          },
          "colorway": [
           "#636efa",
           "#EF553B",
           "#00cc96",
           "#ab63fa",
           "#FFA15A",
           "#19d3f3",
           "#FF6692",
           "#B6E880",
           "#FF97FF",
           "#FECB52"
          ],
          "font": {
           "color": "#2a3f5f"
          },
          "geo": {
           "bgcolor": "white",
           "lakecolor": "white",
           "landcolor": "#E5ECF6",
           "showlakes": true,
           "showland": true,
           "subunitcolor": "white"
          },
          "hoverlabel": {
           "align": "left"
          },
          "hovermode": "closest",
          "mapbox": {
           "style": "light"
          },
          "paper_bgcolor": "white",
          "plot_bgcolor": "#E5ECF6",
          "polar": {
           "angularaxis": {
            "gridcolor": "white",
            "linecolor": "white",
            "ticks": ""
           },
           "bgcolor": "#E5ECF6",
           "radialaxis": {
            "gridcolor": "white",
            "linecolor": "white",
            "ticks": ""
           }
          },
          "scene": {
           "xaxis": {
            "backgroundcolor": "#E5ECF6",
            "gridcolor": "white",
            "gridwidth": 2,
            "linecolor": "white",
            "showbackground": true,
            "ticks": "",
            "zerolinecolor": "white"
           },
           "yaxis": {
            "backgroundcolor": "#E5ECF6",
            "gridcolor": "white",
            "gridwidth": 2,
            "linecolor": "white",
            "showbackground": true,
            "ticks": "",
            "zerolinecolor": "white"
           },
           "zaxis": {
            "backgroundcolor": "#E5ECF6",
            "gridcolor": "white",
            "gridwidth": 2,
            "linecolor": "white",
            "showbackground": true,
            "ticks": "",
            "zerolinecolor": "white"
           }
          },
          "shapedefaults": {
           "line": {
            "color": "#2a3f5f"
           }
          },
          "ternary": {
           "aaxis": {
            "gridcolor": "white",
            "linecolor": "white",
            "ticks": ""
           },
           "baxis": {
            "gridcolor": "white",
            "linecolor": "white",
            "ticks": ""
           },
           "bgcolor": "#E5ECF6",
           "caxis": {
            "gridcolor": "white",
            "linecolor": "white",
            "ticks": ""
           }
          },
          "title": {
           "x": 0.05
          },
          "xaxis": {
           "automargin": true,
           "gridcolor": "white",
           "linecolor": "white",
           "ticks": "",
           "title": {
            "standoff": 15
           },
           "zerolinecolor": "white",
           "zerolinewidth": 2
          },
          "yaxis": {
           "automargin": true,
           "gridcolor": "white",
           "linecolor": "white",
           "ticks": "",
           "title": {
            "standoff": 15
           },
           "zerolinecolor": "white",
           "zerolinewidth": 2
          }
         }
        }
       }
      }
     },
     "metadata": {},
     "output_type": "display_data"
    }
   ],
   "source": [
    "fig = px.choropleth(country_coverage, \n",
    "    locations='iso_alpha3', \n",
    "    color='middle_point',\n",
    "    color_continuous_scale=\"PiYG\",\n",
    "    range_color=(-0.01, 0.01),\n",
    "    locationmode=\"ISO-3\"\n",
    ")\n",
    "\n",
    "fig.update_layout(margin={\"r\":0,\"t\":0,\"l\":0,\"b\":0})\n",
    "\n",
    "fig.show()"
   ]
  },
  {
   "cell_type": "code",
   "execution_count": 16,
   "metadata": {},
   "outputs": [],
   "source": [
    "country_coverage.to_csv(\"../../data/places/coverage_by_country.csv\", index=False)"
   ]
  },
  {
   "cell_type": "code",
   "execution_count": null,
   "metadata": {},
   "outputs": [],
   "source": []
  }
 ],
 "metadata": {
  "kernelspec": {
   "display_name": ".venv",
   "language": "python",
   "name": "python3"
  },
  "language_info": {
   "codemirror_mode": {
    "name": "ipython",
    "version": 3
   },
   "file_extension": ".py",
   "mimetype": "text/x-python",
   "name": "python",
   "nbconvert_exporter": "python",
   "pygments_lexer": "ipython3",
   "version": "3.9.6"
  }
 },
 "nbformat": 4,
 "nbformat_minor": 2
}
