{
 "cells": [
  {
   "cell_type": "code",
   "execution_count": null,
   "metadata": {},
   "outputs": [],
   "source": [
    "import pandas as pd\n",
    "import plotly.express as px\n",
    "import ast"
   ]
  },
  {
   "cell_type": "code",
   "execution_count": null,
   "metadata": {},
   "outputs": [],
   "source": [
    "country_coverage = pd.read_csv(\"../../data/places/coverage_by_country.csv\")"
   ]
  },
  {
   "cell_type": "code",
   "execution_count": null,
   "metadata": {},
   "outputs": [],
   "source": [
    "country_coverage"
   ]
  },
  {
   "cell_type": "code",
   "execution_count": null,
   "metadata": {},
   "outputs": [],
   "source": [
    "# Drop \"Unavailable\" with no articles\n",
    "country_coverage.drop(index=228, inplace=True)"
   ]
  },
  {
   "cell_type": "markdown",
   "metadata": {},
   "source": [
    "## Standardization of names"
   ]
  },
  {
   "cell_type": "code",
   "execution_count": null,
   "metadata": {},
   "outputs": [],
   "source": [
    "country_coverage.loc[country_coverage[\"country\"] == \"Congo-Brazzaville\", \"country\"] = \"Republic of the Congo\""
   ]
  },
  {
   "cell_type": "code",
   "execution_count": null,
   "metadata": {},
   "outputs": [],
   "source": [
    "country_coverage.loc[country_coverage[\"country\"] == \"Palestine, State of\", \"country\"] = \"Palestine\""
   ]
  },
  {
   "cell_type": "code",
   "execution_count": null,
   "metadata": {},
   "outputs": [],
   "source": [
    "country_coverage.loc[country_coverage[\"country\"] == \"Côte d'Ivoire\", \"country\"] = \"Ivory Coast\""
   ]
  },
  {
   "cell_type": "code",
   "execution_count": null,
   "metadata": {},
   "outputs": [],
   "source": [
    "country_coverage.loc[country_coverage[\"country\"] == \"The Gambia\", \"country\"] = \"Gambia\""
   ]
  },
  {
   "cell_type": "code",
   "execution_count": null,
   "metadata": {},
   "outputs": [],
   "source": [
    "country_coverage.loc[country_coverage[\"country\"] == \"Czechia\", \"country\"] = \"Czech Republic\""
   ]
  },
  {
   "cell_type": "code",
   "execution_count": null,
   "metadata": {},
   "outputs": [],
   "source": [
    "country_coverage.loc[country_coverage[\"country\"] == \"Republic of the Congo\", \"iso_alpha3\"] = \"COG\""
   ]
  },
  {
   "cell_type": "code",
   "execution_count": null,
   "metadata": {},
   "outputs": [],
   "source": [
    "country_coverage.loc[country_coverage[\"country\"] == \"Congo, The Democratic Republic of the\", \"country\"] = \"The Democratic Republic of the Congo\""
   ]
  },
  {
   "cell_type": "code",
   "execution_count": null,
   "metadata": {},
   "outputs": [],
   "source": [
    "country_coverage.loc[country_coverage[\"country\"] == \"Türkiye\", \"country\"] = \"Turkey\""
   ]
  },
  {
   "cell_type": "code",
   "execution_count": null,
   "metadata": {},
   "outputs": [],
   "source": [
    "nyt = country_coverage[(country_coverage[\"country\"] != \"United States\")]"
   ]
  },
  {
   "cell_type": "code",
   "execution_count": null,
   "metadata": {},
   "outputs": [],
   "source": [
    "fig = px.choropleth(nyt, \n",
    "    locations='iso_alpha3', \n",
    "    color='count_of_articles_nyt',\n",
    "    color_continuous_scale=\"Reds\",\n",
    "    range_color=(0, 1000),\n",
    "    locationmode=\"ISO-3\"\n",
    ")\n",
    "fig.update_layout(margin={\"r\":0,\"t\":0,\"l\":0,\"b\":0})\n",
    "\n",
    "\n",
    "fig.show()"
   ]
  },
  {
   "cell_type": "code",
   "execution_count": null,
   "metadata": {},
   "outputs": [],
   "source": [
    "zeit = country_coverage[(country_coverage[\"country\"] != \"Germany\")]"
   ]
  },
  {
   "cell_type": "code",
   "execution_count": null,
   "metadata": {},
   "outputs": [],
   "source": [
    "fig = px.choropleth(zeit, \n",
    "    locations='iso_alpha3', \n",
    "    color='count_of_articles_zeit',\n",
    "    color_continuous_scale=\"Reds\",\n",
    "    range_color=(1, 1000),\n",
    "    locationmode=\"ISO-3\"\n",
    ")\n",
    "\n",
    "fig.update_layout(margin={\"r\":0,\"t\":0,\"l\":0,\"b\":0})\n",
    "fig.show()"
   ]
  },
  {
   "cell_type": "markdown",
   "metadata": {},
   "source": [
    "## Calc percentage and middle point to show delta"
   ]
  },
  {
   "cell_type": "code",
   "execution_count": null,
   "metadata": {},
   "outputs": [],
   "source": [
    "country_coverage.loc[country_coverage[\"country\"] == \"Germany\", \"count_of_articles_zeit\"] = 0"
   ]
  },
  {
   "cell_type": "code",
   "execution_count": null,
   "metadata": {},
   "outputs": [],
   "source": [
    "country_coverage.loc[country_coverage[\"country\"] == \"United States\", \"count_of_articles_nyt\"] = 0"
   ]
  },
  {
   "cell_type": "code",
   "execution_count": null,
   "metadata": {},
   "outputs": [],
   "source": [
    "country_coverage"
   ]
  },
  {
   "cell_type": "code",
   "execution_count": null,
   "metadata": {},
   "outputs": [],
   "source": [
    "country_coverage[\"perc_of_coverage_nyt\"] =  country_coverage[\"count_of_articles_nyt\"].apply(lambda x: x / country_coverage[\"count_of_articles_nyt\"].sum() * 100)"
   ]
  },
  {
   "cell_type": "code",
   "execution_count": null,
   "metadata": {},
   "outputs": [],
   "source": [
    "country_coverage[\"perc_of_coverage_zeit\"] =  country_coverage[\"count_of_articles_zeit\"].apply(lambda x: x / country_coverage[\"count_of_articles_zeit\"].sum() * 100)"
   ]
  },
  {
   "cell_type": "code",
   "execution_count": null,
   "metadata": {},
   "outputs": [],
   "source": [
    "country_coverage[\"middle_point\"] = country_coverage[\"perc_of_coverage_nyt\"] - country_coverage[\"perc_of_coverage_zeit\"]"
   ]
  },
  {
   "cell_type": "markdown",
   "metadata": {},
   "source": [
    "Negative values are Zeit, Positive values are the NYT"
   ]
  },
  {
   "cell_type": "code",
   "execution_count": null,
   "metadata": {},
   "outputs": [],
   "source": [
    "country_coverage"
   ]
  },
  {
   "cell_type": "markdown",
   "metadata": {},
   "source": [
    "## Assign countries to one or the other outlet"
   ]
  },
  {
   "cell_type": "code",
   "execution_count": null,
   "metadata": {},
   "outputs": [],
   "source": [
    "covered_by_zeit = country_coverage[country_coverage[\"middle_point\"] < 0]"
   ]
  },
  {
   "cell_type": "code",
   "execution_count": null,
   "metadata": {},
   "outputs": [],
   "source": [
    "covered_by_zeit = covered_by_zeit[[\"country\", \"iso_alpha3\", \"middle_point\", \"count_of_articles_zeit\", \"count_of_articles_nyt\"]]"
   ]
  },
  {
   "cell_type": "code",
   "execution_count": null,
   "metadata": {},
   "outputs": [],
   "source": [
    "covered_by_zeit"
   ]
  },
  {
   "cell_type": "code",
   "execution_count": null,
   "metadata": {},
   "outputs": [],
   "source": [
    "covered_by_nyt = country_coverage[country_coverage[\"middle_point\"] > 0]"
   ]
  },
  {
   "cell_type": "code",
   "execution_count": null,
   "metadata": {},
   "outputs": [],
   "source": [
    "covered_by_nyt = covered_by_nyt[[\"country\", \"iso_alpha3\", \"middle_point\", \"count_of_articles_nyt\", \"count_of_articles_zeit\"]]"
   ]
  },
  {
   "cell_type": "markdown",
   "metadata": {},
   "source": [
    "### Load continental outline to identify regions"
   ]
  },
  {
   "cell_type": "code",
   "execution_count": null,
   "metadata": {},
   "outputs": [],
   "source": [
    "european_entities = pd.read_csv('../../input-data/utilities/europe.txt', names=['Country'])\n",
    "asia_entities = pd.read_csv('../../input-data/utilities/asia.txt', names=['Country'])\n",
    "africa_entities = pd.read_csv('../../input-data/utilities/africa.txt', names=['Country'])\n",
    "n_america_entities = pd.read_csv('../../input-data/utilities/north-america.txt', names=['Country'])\n",
    "s_america_entities = pd.read_csv('../../input-data/utilities/south-america.txt', names=['Country'])\n",
    "oceania_entities = pd.read_csv('../../input-data/utilities/oceania.txt', names=['Country'])\n",
    "ant_entities = pd.read_csv('../../input-data/utilities/antarctica.txt', names=['Country'])\n",
    "other_entities = pd.read_csv('../../input-data/utilities/other.txt', names=['Country'])\n"
   ]
  },
  {
   "cell_type": "code",
   "execution_count": null,
   "metadata": {},
   "outputs": [],
   "source": [
    "european_entities[\"Region\"] = \"Europe\"\n",
    "asia_entities[\"Region\"] = \"Asia\"\n",
    "africa_entities[\"Region\"] = \"Africa\"\n",
    "n_america_entities[\"Region\"] = \"North America\"\n",
    "s_america_entities[\"Region\"] = \"South America\"\n",
    "oceania_entities[\"Region\"] = \"Oceania\"\n",
    "ant_entities[\"Region\"] = \"Antarctica\"\n",
    "other_entities[\"Region\"] = \"Other\""
   ]
  },
  {
   "cell_type": "code",
   "execution_count": null,
   "metadata": {},
   "outputs": [],
   "source": [
    "regions_and_countries = pd.concat([european_entities, asia_entities, africa_entities, n_america_entities, s_america_entities, oceania_entities, other_entities,ant_entities])"
   ]
  },
  {
   "cell_type": "code",
   "execution_count": null,
   "metadata": {},
   "outputs": [],
   "source": [
    "regions_and_countries = regions_and_countries.rename(columns={\"Country\": \"country\"})"
   ]
  },
  {
   "cell_type": "code",
   "execution_count": null,
   "metadata": {},
   "outputs": [],
   "source": [
    "regions_and_countries = regions_and_countries.map(lambda x: x.strip() if isinstance(x, str) else x)"
   ]
  },
  {
   "cell_type": "code",
   "execution_count": null,
   "metadata": {},
   "outputs": [],
   "source": [
    "regions_and_countries"
   ]
  },
  {
   "cell_type": "code",
   "execution_count": null,
   "metadata": {},
   "outputs": [],
   "source": [
    "regions_zeit = covered_by_zeit.merge(regions_and_countries, how=\"left\", left_on=\"country\", right_on=\"country\")"
   ]
  },
  {
   "cell_type": "code",
   "execution_count": null,
   "metadata": {},
   "outputs": [],
   "source": [
    "regions_zeit.drop(index=83, inplace=True)"
   ]
  },
  {
   "cell_type": "code",
   "execution_count": null,
   "metadata": {},
   "outputs": [],
   "source": [
    "regions_zeit.drop(index=40, inplace=True)"
   ]
  },
  {
   "cell_type": "code",
   "execution_count": null,
   "metadata": {},
   "outputs": [],
   "source": [
    "regions_zeit[\"outlet\"] = \"Zeit\""
   ]
  },
  {
   "cell_type": "code",
   "execution_count": null,
   "metadata": {},
   "outputs": [],
   "source": [
    "regions_nyt = covered_by_nyt.merge(regions_and_countries, how=\"left\", left_on=\"country\", right_on=\"country\")"
   ]
  },
  {
   "cell_type": "code",
   "execution_count": null,
   "metadata": {},
   "outputs": [],
   "source": [
    "regions_nyt[\"outlet\"] = \"NYT\""
   ]
  },
  {
   "cell_type": "code",
   "execution_count": null,
   "metadata": {},
   "outputs": [],
   "source": [
    "regions_nyt = regions_nyt[['country', 'iso_alpha3', 'middle_point', 'count_of_articles_zeit', 'count_of_articles_nyt', 'Region', 'outlet']]"
   ]
  },
  {
   "cell_type": "code",
   "execution_count": null,
   "metadata": {},
   "outputs": [],
   "source": [
    "regions_nyt.columns"
   ]
  },
  {
   "cell_type": "code",
   "execution_count": null,
   "metadata": {},
   "outputs": [],
   "source": [
    "regions_zeit.columns"
   ]
  },
  {
   "cell_type": "code",
   "execution_count": null,
   "metadata": {},
   "outputs": [],
   "source": [
    "coverage_by_outlet_and_region = pd.concat([regions_zeit, regions_nyt])"
   ]
  },
  {
   "cell_type": "markdown",
   "metadata": {},
   "source": [
    "### Create a nested JSON for Voronoi"
   ]
  },
  {
   "cell_type": "code",
   "execution_count": null,
   "metadata": {},
   "outputs": [],
   "source": [
    "out = coverage_by_outlet_and_region.groupby([\"outlet\",\"Region\"])[['country', 'iso_alpha3', 'middle_point', 'count_of_articles_zeit', 'count_of_articles_nyt']].apply(lambda x: x.to_dict('records')).reset_index(name='countries')"
   ]
  },
  {
   "cell_type": "code",
   "execution_count": null,
   "metadata": {},
   "outputs": [],
   "source": [
    "out = out.groupby([\"outlet\"])[['Region', 'countries']].apply(lambda x: x.to_dict('records')).reset_index(name='regions')"
   ]
  },
  {
   "cell_type": "code",
   "execution_count": null,
   "metadata": {},
   "outputs": [],
   "source": [
    "out"
   ]
  },
  {
   "cell_type": "code",
   "execution_count": null,
   "metadata": {},
   "outputs": [],
   "source": [
    "out.to_json(\"../../data/places/coverage_by_region.json\", orient=\"records\")"
   ]
  },
  {
   "cell_type": "code",
   "execution_count": null,
   "metadata": {},
   "outputs": [],
   "source": [
    "fig = px.choropleth(country_coverage, \n",
    "    locations='iso_alpha3', \n",
    "    color='middle_point',\n",
    "    color_continuous_scale=\"PiYG\",\n",
    "    range_color=(-0.01, 0.01),\n",
    "    locationmode=\"ISO-3\"\n",
    ")\n",
    "\n",
    "fig.update_layout(margin={\"r\":0,\"t\":0,\"l\":0,\"b\":0})\n",
    "\n",
    "fig.show()"
   ]
  },
  {
   "cell_type": "code",
   "execution_count": null,
   "metadata": {},
   "outputs": [],
   "source": [
    "country_coverage.to_csv(\"../../data/places/coverage_by_country.csv\", index=False)"
   ]
  },
  {
   "cell_type": "markdown",
   "metadata": {},
   "source": [
    "## Retrieve related categories for each location"
   ]
  },
  {
   "cell_type": "markdown",
   "metadata": {},
   "source": [
    "### NYT"
   ]
  },
  {
   "cell_type": "code",
   "execution_count": null,
   "metadata": {},
   "outputs": [],
   "source": [
    "full_year = pd.read_csv(\"../../input-data/temp-data.csv\")"
   ]
  },
  {
   "cell_type": "code",
   "execution_count": null,
   "metadata": {},
   "outputs": [],
   "source": [
    "country_coverage"
   ]
  },
  {
   "cell_type": "code",
   "execution_count": null,
   "metadata": {},
   "outputs": [],
   "source": [
    "zeit_full_year = pd.read_csv(\"../../input-data/zeit-temp-data.csv\")"
   ]
  },
  {
   "cell_type": "code",
   "execution_count": null,
   "metadata": {},
   "outputs": [],
   "source": [
    "zeit_full_year"
   ]
  },
  {
   "cell_type": "code",
   "execution_count": null,
   "metadata": {},
   "outputs": [],
   "source": [
    "full_year['keywords'] = full_year['keywords'].apply(ast.literal_eval)"
   ]
  },
  {
   "cell_type": "code",
   "execution_count": null,
   "metadata": {},
   "outputs": [],
   "source": [
    "zeit_full_year = zeit_full_year[zeit_full_year['keywords'].notna()]"
   ]
  },
  {
   "cell_type": "code",
   "execution_count": null,
   "metadata": {},
   "outputs": [],
   "source": [
    "zeit_full_year['keywords'] = zeit_full_year['keywords'].apply(ast.literal_eval)"
   ]
  },
  {
   "cell_type": "code",
   "execution_count": null,
   "metadata": {},
   "outputs": [],
   "source": [
    "zeit_full_year_exploded = zeit_full_year.explode(\"keywords\")"
   ]
  },
  {
   "cell_type": "code",
   "execution_count": null,
   "metadata": {},
   "outputs": [],
   "source": [
    "zeit_full_year_exploded = zeit_full_year_exploded.rename(columns={\"uri\": \"_id\"})"
   ]
  },
  {
   "cell_type": "code",
   "execution_count": null,
   "metadata": {},
   "outputs": [],
   "source": [
    "zeit_full_year_exploded"
   ]
  },
  {
   "cell_type": "code",
   "execution_count": null,
   "metadata": {},
   "outputs": [],
   "source": [
    "zeit_full_year_exploded = zeit_full_year_exploded[[\"_id\", \"date\", \"url\", \"keywords\"]]"
   ]
  },
  {
   "cell_type": "code",
   "execution_count": null,
   "metadata": {},
   "outputs": [],
   "source": [
    "zeit_full_year_exploded.rename(columns={\"uri\": \"_id\"}, inplace=True)"
   ]
  },
  {
   "cell_type": "code",
   "execution_count": null,
   "metadata": {},
   "outputs": [],
   "source": [
    "zeit_full_year_exploded"
   ]
  },
  {
   "cell_type": "code",
   "execution_count": null,
   "metadata": {},
   "outputs": [],
   "source": [
    "full_year_exploded = full_year.explode(\"keywords\")"
   ]
  },
  {
   "cell_type": "code",
   "execution_count": null,
   "metadata": {},
   "outputs": [],
   "source": [
    "country_coverage[\"ids_of_articles_nyt\"] = country_coverage[\"ids_of_articles_nyt\"].apply(ast.literal_eval)"
   ]
  },
  {
   "cell_type": "code",
   "execution_count": null,
   "metadata": {},
   "outputs": [],
   "source": [
    "country_coverage[\"ids_of_articles_zeit\"] = country_coverage[\"ids_of_articles_zeit\"].apply(ast.literal_eval)"
   ]
  },
  {
   "cell_type": "code",
   "execution_count": null,
   "metadata": {},
   "outputs": [],
   "source": [
    "countries = country_coverage[\"country\"].unique()"
   ]
  },
  {
   "cell_type": "code",
   "execution_count": null,
   "metadata": {},
   "outputs": [],
   "source": [
    "list_of_keywords_dicts = []\n",
    "for country in countries:\n",
    "    country_selection = country_coverage[country_coverage[\"country\"] == country]\n",
    "    nyt_ids = country_selection[\"ids_of_articles_nyt\"].values\n",
    "    nyt_ids = nyt_ids[0]\n",
    "    keywords_per_country = []\n",
    "    \n",
    "    for id in nyt_ids:\n",
    "        article = full_year_exploded[full_year_exploded[\"_id\"] == id]\n",
    "        keywords_list = article[\"keywords\"]\n",
    "        list_of_keywords_per_article = list(keywords_list.apply(lambda x: x.get(\"value\")))\n",
    "        keywords_per_country.extend(list_of_keywords_per_article)\n",
    "\n",
    "    my_dict = {i:{keywords_per_country.count(i)} for i in keywords_per_country}\n",
    "    list_of_keywords_dicts.append(my_dict)\n",
    "    print(len(list_of_keywords_dicts))"
   ]
  },
  {
   "cell_type": "code",
   "execution_count": null,
   "metadata": {},
   "outputs": [],
   "source": [
    "country_coverage[\"keywords_nyt\"] = list_of_keywords_dicts"
   ]
  },
  {
   "cell_type": "code",
   "execution_count": null,
   "metadata": {},
   "outputs": [],
   "source": [
    "country_coverage"
   ]
  },
  {
   "cell_type": "code",
   "execution_count": null,
   "metadata": {},
   "outputs": [],
   "source": [
    "country_coverage"
   ]
  },
  {
   "cell_type": "code",
   "execution_count": null,
   "metadata": {},
   "outputs": [],
   "source": [
    "zeit_full_year_exploded"
   ]
  },
  {
   "cell_type": "code",
   "execution_count": null,
   "metadata": {},
   "outputs": [],
   "source": [
    "list_of_zeit_keywords_dicts = []\n",
    "for country in countries:\n",
    "    print(country)\n",
    "    country_selection = country_coverage[country_coverage[\"country\"] == country]\n",
    "    ids = country_selection[\"ids_of_articles_zeit\"].values\n",
    "    print(country_selection[\"ids_of_articles_zeit\"].values)\n",
    "    ids = ids[0]  # Assuming ids[0] is already a list\n",
    "    zeit_keywords_per_country = []\n",
    "    for id in ids:  # No need for eval() here\n",
    "        article = zeit_full_year_exploded[zeit_full_year_exploded[\"_id\"] == id]\n",
    "        keyword = article[\"keywords\"].values\n",
    "        zeit_keywords_per_country.extend(keyword)\n",
    "    \n",
    "    my_dict = {i: zeit_keywords_per_country.count(i) for i in zeit_keywords_per_country}\n",
    "    print(\"length of current dict\", len(my_dict.keys()))\n",
    "    list_of_zeit_keywords_dicts.append(my_dict)\n",
    "    print(\"all dicts\", len(list_of_zeit_keywords_dicts))"
   ]
  },
  {
   "cell_type": "code",
   "execution_count": null,
   "metadata": {},
   "outputs": [],
   "source": [
    "country_coverage[\"keywords_zeit\"] = list_of_zeit_keywords_dicts\n",
    "country_coverage"
   ]
  },
  {
   "cell_type": "code",
   "execution_count": null,
   "metadata": {},
   "outputs": [],
   "source": [
    "country_coverage[\"keywords_zeit\"] = country_coverage[\"keywords_zeit\"].apply(lambda x:{key: value for key, value in sorted(x.items(), key=lambda item: item[1], reverse=True)})"
   ]
  },
  {
   "cell_type": "code",
   "execution_count": null,
   "metadata": {},
   "outputs": [],
   "source": [
    "country_coverage[\"keywords_nyt\"] = country_coverage[\"keywords_nyt\"].apply(lambda x:{key: value for key, value in sorted(x.items(), key=lambda item: item[1], reverse=True)})"
   ]
  },
  {
   "cell_type": "code",
   "execution_count": null,
   "metadata": {},
   "outputs": [],
   "source": [
    "country_coverage.to_csv(\"../../data/places/coverage_by_country.csv\", index=False)"
   ]
  },
  {
   "cell_type": "code",
   "execution_count": null,
   "metadata": {},
   "outputs": [],
   "source": []
  }
 ],
 "metadata": {
  "kernelspec": {
   "display_name": ".venv",
   "language": "python",
   "name": "python3"
  },
  "language_info": {
   "codemirror_mode": {
    "name": "ipython",
    "version": 3
   },
   "file_extension": ".py",
   "mimetype": "text/x-python",
   "name": "python",
   "nbconvert_exporter": "python",
   "pygments_lexer": "ipython3",
   "version": "3.9.6"
  }
 },
 "nbformat": 4,
 "nbformat_minor": 2
}
