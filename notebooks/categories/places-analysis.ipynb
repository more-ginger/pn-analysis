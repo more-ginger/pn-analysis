{
 "cells": [
  {
   "cell_type": "code",
   "execution_count": 411,
   "metadata": {},
   "outputs": [],
   "source": [
    "import pandas as pd\n",
    "import plotly.express as px\n",
    "import ast"
   ]
  },
  {
   "cell_type": "code",
   "execution_count": null,
   "metadata": {},
   "outputs": [],
   "source": [
    "country_coverage = pd.read_csv(\"../../data/places/coverage_by_country.csv\")"
   ]
  },
  {
   "cell_type": "code",
   "execution_count": 412,
   "metadata": {},
   "outputs": [],
   "source": [
    "nyt_country_coverage = pd.read_csv(\"./local/voronoi/nyt_24_25_coverage_by_country.csv\")"
   ]
  },
  {
   "cell_type": "code",
   "execution_count": null,
   "metadata": {},
   "outputs": [],
   "source": [
    "country_coverage"
   ]
  },
  {
   "cell_type": "code",
   "execution_count": 413,
   "metadata": {},
   "outputs": [
    {
     "data": {
      "application/vnd.microsoft.datawrangler.viewer.v0+json": {
       "columns": [
        {
         "name": "index",
         "rawType": "int64",
         "type": "integer"
        },
        {
         "name": "country",
         "rawType": "object",
         "type": "string"
        },
        {
         "name": "ids_of_articles",
         "rawType": "object",
         "type": "string"
        },
        {
         "name": "count_of_articles",
         "rawType": "int64",
         "type": "integer"
        }
       ],
       "conversionMethod": "pd.DataFrame",
       "ref": "5819f479-dbd6-42dc-882c-b5f8bba634f0",
       "rows": [
        [
         "0",
         "Adriatic Sea",
         "['nyt://article/6c5919fe-452a-532d-8234-f698a33bc15c']",
         "1"
        ],
        [
         "1",
         "Aegean Sea",
         "['nyt://interactive/6addaf57-b7fa-5d0f-af24-ec0c3e131acd', 'nyt://article/08c91948-7b43-5eb7-b306-8036302faecf', 'nyt://article/a0eec7f0-3d63-5711-9700-9bce1b389aa9']",
         "3"
        ],
        [
         "2",
         "Afghanistan",
         "['nyt://article/1bf3d7c8-419e-52d7-a720-c4e054fcb656', 'nyt://article/e40483f8-2139-54d1-bb6f-000020baebb5', 'nyt://article/be0ef722-a501-55fc-99e1-bbe8f3bdfa9d', 'nyt://article/fa4f938c-3999-5899-9b9a-87dade1e9109', 'nyt://article/c7e16118-94fc-55a9-90f6-91271aa69c8e', 'nyt://article/f0883555-c784-56cd-8272-ba1113b1920c', 'nyt://article/d3fd6ae0-dee3-53bc-89cf-20ec83c40234', 'nyt://article/f341cceb-41b8-5e13-b4c3-7affb67add4a', 'nyt://article/1542dab7-ca41-5e91-b479-425ed2115e69', 'nyt://article/b1179855-fe4a-503b-9086-32a9d44ba791', 'nyt://article/3b386dd8-364d-5300-8de1-1b81ad091936', 'nyt://article/e618787b-82dd-5aad-995f-2d34b7bac54f', 'nyt://article/77d3ba07-71fd-55e9-8260-077d40e7e7b0', 'nyt://article/22c77345-c8fc-54b8-8044-881e946adaf0', 'nyt://article/f5aa9de2-8b06-5891-8642-0b2db046dc0d', 'nyt://article/15c91982-0ecf-5e95-b7a5-a49f7e3c1868', 'nyt://article/bf24d7e3-26df-577e-8327-5ad156769f42', 'nyt://article/027c7bf8-68aa-515e-95a6-f5eea8048f65', 'nyt://article/d14635d5-9d12-58c0-91a5-36a9eddb8fad', 'nyt://interactive/fda805b2-2b2a-51c0-b44b-0a6a357a30a4', 'nyt://article/64dfac18-7dcb-5bcb-9807-6334f3b4907f', 'nyt://article/fbfdc8b5-31b3-5dd8-a1ae-fe3f871b745f', 'nyt://article/9b8e417f-ac93-5684-9339-3a9fb94cfb0a', 'nyt://article/3ba1a707-be08-5a83-8d18-5d5341bf3b7a', 'nyt://article/e5652440-552d-5b51-abd0-643d43eac6c8', 'nyt://article/44a10f67-d02c-56d0-9f9e-7da36dbd93ba', 'nyt://article/2f67e84d-d1c4-5419-b780-b0108851a334', 'nyt://article/a7df001a-fb67-5ee9-9b6c-ed3de464fcf7', 'nyt://article/224d3b62-d489-5a2f-91c0-6a46346661ee', 'nyt://article/1229602b-96e3-5dd7-a8dc-69d050f74e95', 'nyt://article/a55d2835-d41d-5093-a961-6a5a86cac66b', 'nyt://article/1f63edd0-84c8-5a7c-abf9-85d53a74592d', 'nyt://article/6ec05f2b-a2b3-5190-b9e4-3bed75594a0f', 'nyt://article/f36ce919-1ecd-5f6d-8748-40037f0c6a8f', 'nyt://article/a17db111-555c-5973-ac02-1426c21c454d', 'nyt://article/786b0740-8ed5-5bea-a353-056203015bf2', 'nyt://video/29e82c59-3302-5369-903b-4a3cb55720ce', 'nyt://article/818a8358-54bf-59af-b02b-ab789f7753b5', 'nyt://article/1ea25afb-f7f5-5873-8da1-5fbdba9ca782', 'nyt://article/18dbf70c-7693-5259-8379-a8499d5d3aef', 'nyt://article/c9a7aa82-bfba-57ce-8345-2fe996c2f588', 'nyt://article/fd15543c-174a-5c4d-9628-522e0e9a6768', 'nyt://article/c47b9632-5b0a-510d-8386-74c70370438b', 'nyt://article/ac05d632-9342-549a-92e4-00c14f593755', 'nyt://article/67761cbe-2ec6-5e32-b6f6-6e6a5a4eabee', 'nyt://article/7f712518-1080-590c-818e-3f183d5ab9e2', 'nyt://article/55e8851f-292f-5cfc-960d-04b3366ca701', 'nyt://article/692aefda-1ac4-5507-9b37-9aeaf74f9bcc', 'nyt://article/023708ea-b7e6-5f2b-b10f-399d3f52297d', 'nyt://article/19f90532-f2bd-5a00-9df4-72159380cc93', 'nyt://article/32d37cf0-7c12-5d3b-ae4a-f031d0ca961a', 'nyt://article/620575aa-9d01-5858-abff-b88aa5a78c27', 'nyt://article/055293d4-ba66-5f76-b4a5-b48ebfde3858', 'nyt://article/7d382142-6b6f-551d-8484-6e35963ad993', 'nyt://article/f6178677-9c32-5afa-b988-01d15ea68899', 'nyt://article/c9c4fe16-c986-59f8-844a-a3339d75f29e', 'nyt://article/508aec2b-c1c4-573b-b295-91f4d8364552', 'nyt://article/b203e080-2381-55c4-b8c4-e13ad368926b', 'nyt://article/76935c0c-a9ed-5495-aa1e-938494ed1a7a', 'nyt://article/17ea0afa-d3ea-55a2-85a8-8799db99297f', 'nyt://article/296fab0b-6def-55d1-931b-e61f385d40bc', 'nyt://article/0bbcc209-db15-5ed7-afa0-c8de30a1b0d8', 'nyt://article/9ee34700-032a-522a-aa23-9c17538e9c4b', 'nyt://article/f5b7d409-37e8-562e-8a07-9ac69a394a0a', 'nyt://article/f03fae5a-e626-5e9d-b0e2-4b339c9b0bed', 'nyt://article/0854fc1c-6794-5407-a410-c4e54329fd73', 'nyt://article/1eddbd46-8c2d-5754-8440-bb35e43e39d0', 'nyt://article/68a8cded-9ea6-5dce-be58-9148037275d1', 'nyt://article/b999f3cf-9c20-5cdd-a1df-81ad4f691d74', 'nyt://article/9f42643f-3a1e-58b0-8b05-471e25cc5fea', 'nyt://article/34584909-1ce1-5e0b-ae3f-8442725d44b5', 'nyt://article/85b88725-7f8f-5058-98da-25161dabd136', 'nyt://article/a0c9f4df-26d4-57b3-917f-4b7c7febe0f5', 'nyt://article/32b2f331-8909-5df2-b55c-c0b2e563860d', 'nyt://article/eb2e5966-5909-5229-aeb5-e1c1adf0ce4c', 'nyt://article/518634fb-02c7-5186-94e2-c9a6b42e410f', 'nyt://article/afe74c10-e930-55fc-9186-2163146355b1', 'nyt://article/f9386ae2-3ae0-5baf-8064-919dfdbc9e8c', 'nyt://article/0537b6b9-571a-539b-af8c-fc72f2873096', 'nyt://article/d720f2be-e650-5de7-8bfd-c29ba80f95a1', 'nyt://article/d9ad583e-3923-5bfa-bd41-16c10bb50389', 'nyt://article/40316d75-4573-5cb4-97b5-d6c4968d4fce', 'nyt://article/7d2a7a01-0235-5e55-9393-79ed5a8837a3', 'nyt://article/b3f731f4-35e9-5de2-9ae0-f4856b37045a', 'nyt://article/6d8cd85e-52d7-5ea6-975d-431a232b0dd3', 'nyt://article/81ffb8e3-648a-5fce-8630-4adac4158bc4', 'nyt://article/c2eb44e1-4e49-5cb3-ba8c-1953156a9752', 'nyt://article/4487764e-f7d2-5a32-aa38-fbd96d8e4dd6', 'nyt://article/b35fed90-4f6c-5090-a650-c9b3416cfdb6', 'nyt://article/c96f4245-1467-5b45-b131-fa10275af954', 'nyt://article/c20000bf-0d4e-5023-9e9f-8e65e3d98cef', 'nyt://article/f115bed1-d4ec-51a9-86c5-4d32f76e9350', 'nyt://article/8481a933-d337-5c0e-8855-731556cffe07', 'nyt://article/d0c139cf-6af8-54b2-896b-afebb7e42e31', 'nyt://article/5e20df3c-7e2f-5cf6-9a02-6fa25e9bec2d', 'nyt://article/187f196f-0a88-5ca4-bac0-0d91317117f4', 'nyt://article/743db14f-34bc-5234-8e83-636c558578cc', 'nyt://article/f3ffe4d3-01d7-5464-a725-6f402e4384a8', 'nyt://article/ddb75aa2-e63b-5b37-8701-68701fffb7bb', 'nyt://article/0b235f4a-cd70-5c00-a683-d75f4e99a11c', 'nyt://article/6228d681-5c79-53b9-b6f5-e585b587346b', 'nyt://article/23c63bd2-229f-56a2-afab-5ae8b4c1a152', 'nyt://article/8a8af2da-cb84-5ce8-a9ab-8e395265fea2', 'nyt://article/c2107256-a97e-59ac-b0c6-d58cdc2eb6c8', 'nyt://article/c5a3a331-6d04-585c-b237-505d9fb9f508', 'nyt://article/c93658c8-63ea-562e-896b-a5a3fd1b9ffd', 'nyt://article/78b8c3a3-7029-557d-a8a0-1e2567a4e993', 'nyt://article/7b8fbf6e-0c80-52bd-977b-e38aa98ca567', 'nyt://article/f44d83b1-2253-5fc9-b71e-b66295c7cc8e', 'nyt://article/50938998-f3d4-5d7c-abc6-cc77364aabe0', 'nyt://article/aef01dcc-7440-5174-8f8b-dd5b813e2d43', 'nyt://article/823afdc1-8ade-5e3f-ae80-cb0b929b2c1e']",
         "112"
        ],
        [
         "3",
         "Africa",
         "['nyt://article/34e514ce-6ebc-58f1-bf4b-d750eadc447e', 'nyt://video/c28cda1a-5bbc-5b9e-95d3-436104e991e1', 'nyt://article/2099ddef-460b-546e-8cbe-e79f576a45ad', 'nyt://article/9b1d1ec5-5ac4-5f93-8013-335e04ec9de7', 'nyt://article/761bb072-168b-5772-b035-29445430eafb', 'nyt://video/c5aa885c-d3cd-5db8-805c-4b8bdf8fe9b2', 'nyt://article/0edc9a54-8f1d-5153-acdc-c8ae9598b854', 'nyt://article/6e1fb917-1bf0-5d91-accd-97d7cca64cc2', 'nyt://article/03b24e44-d933-5256-ace6-7bedcf5f8c28', 'nyt://article/7564d810-e528-5cd2-b6c9-39811c950316', 'nyt://article/2124da13-72c9-5ec9-a39f-cf25256822d9', 'nyt://article/acd20332-7d58-52b0-af07-1e411c87bd05', 'nyt://article/1d72cbca-622b-5cd7-8153-d8e27af1c606', 'nyt://article/a7aeec8f-6abb-595d-bceb-08e77159f3c0', 'nyt://article/29bd529f-432a-5717-ad45-fe2ff4789bfe', 'nyt://article/96a554d7-a595-551a-a136-e693588841a0', 'nyt://article/f52501cd-277a-5275-865e-0a59491c2f06', 'nyt://article/ac5369ab-9399-5d35-8562-20935e7d7e1c', 'nyt://article/79916a15-0c96-5eb3-88e5-9c174d2bb4a3', 'nyt://article/30ac1edb-2b1f-5a38-a14f-39273ba9cb81', 'nyt://article/1daf3f01-1282-5ee1-b15f-33d4d2ed1c6a', 'nyt://article/86b4c1a2-577f-5d75-af50-c43c385e0d8c', 'nyt://article/b31bf7b8-fd6a-5c88-b518-a92505671024', 'nyt://article/0a1d20a0-9467-5bfd-9919-57ad4aec8fce', 'nyt://article/be7429e1-3754-5ddd-bd35-31bca524e8d0', 'nyt://article/12745a73-8eee-537a-b1c2-d7c566ad0d44', 'nyt://article/a3fd08c1-e5b5-5902-8aef-7c9b324858ec', 'nyt://article/54cf6fad-d579-5d34-ae9b-da8391ac37b0', 'nyt://article/f21af068-082d-5e2c-b775-5a501472a6c2', 'nyt://article/af22806c-5e25-566e-988b-541a5ef200e4', 'nyt://article/08b87991-c3e6-5e54-89eb-f6036de9552e', 'nyt://article/7e380e92-3751-58e9-b5e7-e48a7644fe79', 'nyt://article/e88d421a-f191-582a-83d1-7cf8493b6987', 'nyt://article/bd0dd243-f788-55e5-a3f3-2b77b4708d68', 'nyt://article/4ff0123d-daed-5869-94a7-48c73ddf6491', 'nyt://article/16464684-4c6b-5a60-9440-dac0874f2285', 'nyt://article/c2ae5cf2-31fc-5962-98b0-53d4cd17d520', 'nyt://article/4cef5b08-76f9-5e21-97b5-f827281cf318', 'nyt://article/c09463c7-1e10-51a5-a5a1-a77fb9b369e3', 'nyt://article/2be5703b-af16-5aff-83f5-bea3e04e187b', 'nyt://article/2028ab73-b945-5eaa-85ae-58945f6df85f', 'nyt://article/e0c56701-55d1-56f4-a1aa-ef9972d01ccc', 'nyt://article/af1141d2-d99b-5ede-b14a-1fe44e739a0c', 'nyt://article/b4a2d019-e4a8-5e4d-99a7-17e6db59a176', 'nyt://article/a9962952-192e-5563-9f98-23b0762e03c4', 'nyt://article/3ef47e77-1858-5726-9c78-47609db7c11d', 'nyt://article/36e8adce-7862-5060-a20d-0bde50e726e5', 'nyt://article/a21ec7b3-a1e6-5aae-9498-dcf0f6736877', 'nyt://article/b472a426-1803-590b-ab5d-a81aea32a425', 'nyt://article/3730b3b0-c048-55cb-812c-11e45922ec8f', 'nyt://article/bf77cc3c-2d4c-54d9-8ae9-e8dfce0fb9f9', 'nyt://article/d2477a92-2261-5442-9646-2d8a2f39c689', 'nyt://article/115ae2a3-1305-5cf4-bacf-a292dd0026fb', 'nyt://article/a1e579fc-27a3-546d-b5cd-47ca1b5e9483', 'nyt://article/851273bc-b2f8-5304-a70c-147db8193ca4', 'nyt://article/c5fbdca0-e1f8-53a4-a6c7-33fddc6ea359', 'nyt://article/bcf985cd-fd32-5790-a806-14aec17c69b7', 'nyt://article/f2d8fdc5-e573-553b-90d7-89dac4afd5ee', 'nyt://article/e31e3a66-279f-5a10-8f7b-5292aaeafc62', 'nyt://article/6a7701e1-8497-56c5-941a-b60f7bb87839', 'nyt://article/7da9840c-fd51-5ca4-992c-2aaaa5d16b3e', 'nyt://article/0a00b404-64b6-52fb-af34-c10ec4e5c24d', 'nyt://article/12bb04ae-3579-5e7f-9990-4a2be9ec311b', 'nyt://article/9550ed3b-d19a-5dfb-81b8-fa5b6be9c404', 'nyt://article/a1d911c9-b9f7-58a5-a852-d680b932e0d8', 'nyt://article/61d3e7cc-f050-53e0-b15d-a323d82f05fe', 'nyt://article/0fde90a2-3555-509f-9f1f-26892977d8ac', 'nyt://article/cb4f4363-5bca-5ee4-8681-dd960f371192', 'nyt://article/09ffb689-5efd-5c3a-b678-7c37180810c0', 'nyt://article/baf2cdba-f056-5544-91a2-ef5dc37bad1d', 'nyt://article/4632f1ee-5849-5296-baf0-6d59c6082827', 'nyt://article/963be96d-f29e-5128-8c9d-e66018a92dfe', 'nyt://article/92330159-766f-5471-a44e-5183bf9c0b20', 'nyt://article/bd55f4ba-65f2-543d-9b82-cdd90befdbbd', 'nyt://article/d2c6f481-0408-57f2-a871-e32dcc120554', 'nyt://article/2450e037-f76d-51dc-8e60-9977062a7e0d', 'nyt://video/65648182-015d-5cb4-91d6-7c9b9de8ac19', 'nyt://article/7c00adaf-e22c-58c2-b366-ba96cf84ce87', 'nyt://video/e1613f8c-bf05-5634-b07d-118ebdcb9fc3', 'nyt://article/d41f915b-24b5-50ab-8516-e339cc8cc3ed', 'nyt://article/1ed96e54-e9b0-55a3-9c49-8c8008c7ac5e', 'nyt://article/01fc1fd3-9375-5510-a346-814a67ea5e85', 'nyt://article/1a458b6c-557d-5d53-be61-14baa3c0e148', 'nyt://article/ce946de8-b1a7-58a9-9235-321a9ba0a38d', 'nyt://article/37b141f4-57e3-5d4a-bf4c-56347d70a5ad', 'nyt://article/10d0ab4c-99ab-5790-a1ae-ba8e256bc8d2', 'nyt://article/261dc75b-e9ba-583b-89ab-2976430167a7', 'nyt://article/ebd9cd3a-f412-5583-a3d5-7c4058d8f7b7', 'nyt://article/6450537f-65e2-5229-8553-680e012d7765', 'nyt://article/da198874-4d46-5562-9764-177b80cd0b7b', 'nyt://article/6fadd6f6-536f-538b-8c4e-08f001b3a2ce', 'nyt://article/a574a94c-5c5c-5358-9a91-cd7d6eca9dbe', 'nyt://article/b1e22c6f-12a8-5222-b4a3-97d9684222d3', 'nyt://article/48dcc74b-ff58-5028-8586-713f2bb22b66', 'nyt://article/de5d2cfa-6811-510c-aded-0a3c48c11659', 'nyt://article/b8982717-d348-5f63-a79b-a49d019f3fc7', 'nyt://article/5df94182-64b8-5f64-9cec-1bc3edc769c0', 'nyt://article/2277a789-ee94-54d6-b682-171604883d76', 'nyt://article/0f246c7f-0651-584f-8f4e-7c4d7a26675e', 'nyt://article/d4736f76-795c-5ae1-b47d-6498bf208eb1', 'nyt://interactive/d92bbe07-178e-5c57-a082-9bd9f142344f', 'nyt://article/00280f0b-a8cd-54cf-9d70-adcf0209c281', 'nyt://article/244cb9fb-1377-51ff-8221-63c988ea0b66', 'nyt://article/278615cf-39bc-5967-965d-9db5c5ea3315', 'nyt://article/e7fe4a3e-ef01-5c90-b572-7c22a4e7784a', 'nyt://article/21c8f051-1de8-59cf-9c04-b3a1ac116289', 'nyt://article/8e9c68f9-7b15-536d-a7c7-9b34671ab74b', 'nyt://article/b297deb5-dd36-57e4-b31a-9924d731cf19', 'nyt://article/2b1ac63a-2100-5018-9a89-fd2a7f75a9be', 'nyt://article/99085047-2746-5ccf-b239-fd601fb6ac0c', 'nyt://article/287d15e9-b5bd-5eb3-9d19-a4369c8f705b', 'nyt://article/53f22f58-2801-575f-8668-56a052078ce4', 'nyt://article/b8004aeb-98a5-5078-9924-844a259dd9e8', 'nyt://article/3a4f0a34-3478-5ba1-931f-cc763237ab24', 'nyt://article/741341eb-23bf-5c3a-8fe9-d081f93d4b49', 'nyt://article/f814e44d-c0ea-5658-b338-9952f1f123a1', 'nyt://video/de9700e0-96c6-55de-8b39-64a5831607cf', 'nyt://article/722a8687-4a4a-53d1-8356-d706c5104b93', 'nyt://article/6f98bca6-f886-5b1e-bc0e-60f149f992cf', 'nyt://article/d557840f-e21f-5cd4-92e7-6bb1bcec17e1', 'nyt://article/1af67bb5-b8a4-5149-9e04-1f7ae4d2ffe6', 'nyt://article/869724e4-009f-540e-98ec-5f569c6ad43c', 'nyt://article/a988d12e-2d3e-5812-8e59-4296e40b202f', 'nyt://article/c7b2361f-9a49-55cf-9549-031b1ac2722b', 'nyt://article/f53c045c-2311-55c4-9658-01bb0ae3311e', 'nyt://article/22ae90a5-47fd-571d-8389-0df2021b253f', 'nyt://article/0f142927-e1b8-5e2a-bdef-16baf1605898', 'nyt://article/205db861-2593-5714-beb7-d860aca7a251', 'nyt://article/887c59f5-0b74-52a8-9883-c449ff88fe64', 'nyt://article/cae1375e-ed0c-5637-8ea3-dbbd109743e6', 'nyt://article/4b02bd92-7924-5305-89a2-7ba769c9768f', 'nyt://article/7b8d5bef-f808-53f3-bd94-d305faae069f', 'nyt://article/5fa2ec03-ba22-5aef-a8dc-c6c9696687d2', 'nyt://article/0318503d-be6a-5840-896b-c4fe42835c5a', 'nyt://article/2f41cb12-b6ad-5c03-92a7-33c7b348521c', 'nyt://video/bc445114-120a-5b39-aa31-8b201851882a', 'nyt://article/f0140bc7-842a-55f6-a0b0-2993e7c1dd6f', 'nyt://article/83613aa0-1347-515b-afdc-1e458d87b7c1', 'nyt://interactive/60f082b7-0030-571e-a0a8-9cb88f5ba109', 'nyt://article/68ed5ab0-0f9d-55a4-a800-71b89bbcb28f', 'nyt://article/2b997912-aa85-5027-b47d-75a03dff5e20', 'nyt://article/60598b3b-946a-5b6d-b1b3-6aeab4162e18', 'nyt://article/fca3495d-d370-500f-a63e-170c087a8d4b', 'nyt://article/d8dea8f0-238d-5e4e-9fa0-7849861424c4', 'nyt://article/69a3d453-aed3-50b2-a7d2-4651a47fafdf', 'nyt://article/0508b8ab-69b4-5819-8f48-ceee0d830c89', 'nyt://article/1dfe1dd1-4683-5496-b7d8-ac104d563057', 'nyt://article/e4c8f782-713d-524d-839c-27ac65c932c9', 'nyt://article/c9795436-ab8b-527f-ab17-6181c26b44cf', 'nyt://article/86adb88f-b177-55d5-b0bf-6f9391303ea7', 'nyt://article/95dc143b-84d6-5407-af03-84d244885af5', 'nyt://article/9153fa00-7519-5e57-bc09-1147b87c073a', 'nyt://article/dba9aa49-b2da-56de-84b9-c5e884dcfdb2', 'nyt://article/7c222beb-de75-5309-a5d1-e06d0a1d4693', 'nyt://article/9cb26b2a-a5d9-5020-a0bb-f976031bac22', 'nyt://article/8efa8276-dbb0-55a7-a656-c56a4e4d328d', 'nyt://article/97f96cea-e681-5270-a581-70fe64d84d82', 'nyt://article/047e6843-2d41-5ac8-beba-3d6043aabe0d', 'nyt://article/897a0e53-6076-5a98-bb28-4d7d3df155a4', 'nyt://article/b792e806-eb4a-5489-b55e-3d9ed9f2301a', 'nyt://article/53118789-4397-5531-89b9-9058ba300f0c', 'nyt://article/52534b46-8ecc-5522-8a19-2c3dee24ec73', 'nyt://article/bb0312c2-aa59-50e1-ad3b-86d924cdc54e', 'nyt://article/3bfab5b4-7b6b-5991-84ee-bfff92f65861', 'nyt://article/b1d10a0b-0958-5a2d-932a-575ab2449d7a', 'nyt://article/aba101ee-b370-5aa5-bc83-d9e347daa2de', 'nyt://article/23b21af2-b2fa-5763-8f73-eba2f4d72e55', 'nyt://interactive/f166cb4a-1e58-59f2-b490-63e9242301c5', 'nyt://article/d2bd66b9-b44d-5d97-98c7-b558637439ad', 'nyt://article/ac39261b-cbf2-56bb-8dde-83215f2628b5', 'nyt://article/3d0a2434-05b7-5d96-a800-e28b6bc6b071', 'nyt://article/8212b465-b268-54a3-8280-7d1d8d2071f7', 'nyt://article/5e6ed581-4b25-5b4c-9e8f-c77188dabbd4', 'nyt://article/c86bcf7b-7170-56f9-8404-65c13a813a79', 'nyt://article/22edf542-d819-5470-874b-7bd9e3ebff83', 'nyt://article/605d7f5c-bbec-5059-86a6-7d647a8ce7a5', 'nyt://article/50ccd933-cf6c-5058-a234-33bad9fb138e', 'nyt://article/6af3ed7b-6a79-55ac-bd4c-0cb3b0c33c40', 'nyt://article/6115348c-8c09-5693-9c59-f38ec9b2ac35', 'nyt://article/e00ebadf-3c04-5e16-9dc4-36303c378e41', 'nyt://article/1e6e59ac-8865-5109-931d-6c231cdeef2d', 'nyt://article/e4d46fbb-0e78-5c0f-8bbe-9caa617950e5', 'nyt://article/0012a0ad-54eb-5667-a3c8-15d6b3d9d048', 'nyt://article/1a2b2967-0b41-54eb-b992-75f88cf15b6f', 'nyt://article/63d78256-7141-57e3-a68b-d505a4f59337', 'nyt://article/255c6277-c3eb-5432-a2db-ae1e035a7180', 'nyt://article/b82f9259-712b-5f24-ad19-c7c4641782b8', 'nyt://article/eb3c83f5-72af-5bb5-89d5-e228241da67b', 'nyt://article/b7a2673a-4349-5eb8-b045-68b9d7620453', 'nyt://article/c5ff5497-b897-51d8-ac73-b2801f7f720e', 'nyt://article/822ce6d1-8d2b-51cd-82ca-0ae32407ebfc', 'nyt://article/74d484af-79a5-5b2c-8f07-5b8f014a4bf2', 'nyt://article/d6ece1a0-2740-5d9c-9d59-3971403b7d59', 'nyt://article/1833a84a-13c9-5d3e-ac8d-e7d75a7c0288', 'nyt://article/95dff9e4-43b7-5011-92b4-a66c8aff11f3', 'nyt://article/db8b488a-2f94-5303-8491-9f263f4a14fa', 'nyt://interactive/ae33a77a-7002-542b-af09-9fb0ece51b01', 'nyt://article/9a33ea27-7e9d-5388-a129-da9eaf830392', 'nyt://article/8d866937-2318-51bf-869a-456be1f2a7b2', 'nyt://article/db9bd694-eeef-5b7c-90d2-339096f5e59d', 'nyt://article/67c33467-d217-58ea-957f-08a6fac7a4a8']",
         "201"
        ],
        [
         "4",
         "Albania",
         "['nyt://article/59eb4293-7d0a-558f-9c26-d85c3fb5741f', 'nyt://article/ad09c31e-d0a6-5487-83f3-eb9972ed073c', 'nyt://article/10fad6f0-3d46-58ea-993f-e72f0a7b493b', 'nyt://article/bcf2baf9-10e4-5340-a5b4-bb14266e6a27', 'nyt://article/92b0cac1-e2be-5a3e-ae7c-551df5ec6b11', 'nyt://article/44fa3867-f97c-51a3-ab48-0e8d7efdbb1e', 'nyt://article/0e2bda09-65d0-5c76-905a-160755803905', 'nyt://article/380a2ab1-a034-554f-946a-b25fa746ae03', 'nyt://article/15f3afe3-9972-586e-aa7c-0175ec333618', 'nyt://article/be52e475-dfa4-5634-bdd5-fdf4d2b69be0', 'nyt://article/136bb0d6-4b71-5206-9689-0e34310b709c', 'nyt://article/17de74c5-18b4-586e-bdb3-82a369a8a50a', 'nyt://article/62ed20dd-1ca5-5814-9953-fc0d5c3827dd', 'nyt://article/13c9d470-bca8-59f9-925b-072292e2352b', 'nyt://article/ad206b8a-4281-589f-91ba-f9849978c204', 'nyt://article/322fa31f-8102-5b87-bdc3-3aa680267f56', 'nyt://article/c4a5807c-1cd3-513f-9ef4-22ca540137a3', 'nyt://article/5f3da01e-323c-5b51-a9b4-1e366ca4387d', 'nyt://article/b7e0a501-2edf-5023-80fc-142759f72de0', 'nyt://article/e1e3b6ef-92cf-5a74-81db-c0110676dfd4', 'nyt://article/2c538877-45d0-5a80-872a-728972f0c999', 'nyt://article/fd3c8744-b72a-56d0-b29c-ef4f292d731c', 'nyt://article/68d601c6-5e2e-5646-8c14-c73d2ef5085c']",
         "23"
        ],
        [
         "5",
         "Algeria",
         "['nyt://article/c3adb564-f24a-5f00-b6dc-8d8160eb644c', 'nyt://article/2f548189-1651-568e-9dd7-e7f9a68731b3', 'nyt://article/1cd65247-4ab7-5565-bb58-74689c599ac7', 'nyt://article/8b749158-551b-5a43-8209-e683c4490bae', 'nyt://article/864ec09c-19e1-5bd8-ad8e-8757a337cda9', 'nyt://article/fed7e561-15dc-5cb7-870e-895125df9acf', 'nyt://article/10d2b94d-28ba-56d0-8d03-525b1906293b', 'nyt://article/0703cf95-a591-5dad-83cb-51d9aa7f3e49', 'nyt://article/28152675-18ca-5058-9e7a-0051f44f9b50', 'nyt://article/b9c4ebce-a56a-58f3-bdb9-62179c7029b4', 'nyt://article/7d1db0bd-0a23-5438-b13f-4766a97fb06b', 'nyt://article/ee4e0fa8-7f1e-52e0-823a-a95c4ecc15fe']",
         "12"
        ],
        [
         "6",
         "Andorra",
         "['nyt://article/104610fd-aef6-5226-b256-3201d6648881']",
         "1"
        ],
        [
         "7",
         "Angola",
         "['nyt://article/2277a789-ee94-54d6-b682-171604883d76', 'nyt://article/37b141f4-57e3-5d4a-bf4c-56347d70a5ad', 'nyt://article/4b02bd92-7924-5305-89a2-7ba769c9768f', 'nyt://article/2e185f07-5b16-56ff-995b-212c0018e589', 'nyt://article/74d484af-79a5-5b2c-8f07-5b8f014a4bf2', 'nyt://article/ac5369ab-9399-5d35-8562-20935e7d7e1c', 'nyt://article/d96e87c8-50e5-5a24-b29b-272a018d723b', 'nyt://interactive/6567bdfd-4b48-571d-b37c-5369d5680e89', 'nyt://article/b31bf7b8-fd6a-5c88-b518-a92505671024', 'nyt://article/03b24e44-d933-5256-ace6-7bedcf5f8c28']",
         "10"
        ],
        [
         "8",
         "Anguilla",
         "['nyt://article/f6c99838-b3b5-5508-a14a-357cb7c42d92']",
         "1"
        ],
        [
         "9",
         "Antarctica",
         "['nyt://article/02075533-208f-52c4-8fac-8b4a3b09a237']",
         "1"
        ],
        [
         "10",
         "Antigua and Barbuda",
         "['nyt://article/6a5b8a2f-2334-5ece-b7c9-4aba23462f23', 'nyt://article/3cf30e2e-4bf3-5f1f-af6f-aa9773efe580', 'nyt://article/1bcbc81c-4440-5851-b8aa-b7d319dc6a54']",
         "3"
        ],
        [
         "11",
         "Argentina",
         "['nyt://article/ee8af267-4b52-5681-b399-3266c2644d96', 'nyt://article/a99dfc90-8ec9-5ef3-9dbe-bc857998e1e2', 'nyt://article/cfc01a13-3a0f-5cbe-b7fb-8a0a75aa2e7b', 'nyt://article/6dfa8a78-2369-5d1a-b7e4-d43a8dea481f', 'nyt://article/3818d5f4-005b-5616-afe6-9b8db158f09f', 'nyt://article/4c187095-1104-5fdf-bbc3-a910372322ad', 'nyt://article/90e7e151-69bb-5749-a07f-d18f9ccbe36c', 'nyt://article/2b710b52-6468-50b0-ac03-c9fcb13b5372', 'nyt://article/69514fbf-ab92-55f8-97f2-31ef290b1d76', 'nyt://article/221939ef-96f8-51ee-9c87-65d2d5981c3c', 'nyt://article/96b9d1b8-d204-54e7-aa48-0ec82ac35904', 'nyt://article/00e0f356-2373-5e9b-bb2b-81a6336637c9', 'nyt://article/a68be4e5-8037-5573-a0c1-5190126401d1', 'nyt://article/475ea9ff-e236-58bd-bfdc-49dfaae0d831', 'nyt://video/305af542-d1ec-591e-a15d-efe50ac80e9c', 'nyt://article/f13f2793-c067-551c-bf53-9cdeac32662c', 'nyt://article/4df073f4-1596-5562-aa78-07ec712dc7be', 'nyt://article/34782eaa-d21b-5d6b-a93a-89c01bb9eeb7', 'nyt://article/5a9a074c-cc81-50ec-9f0b-1db2d8fb80f3', 'nyt://article/e4134b26-a1be-5f8b-9d47-eae4a67a23ef', 'nyt://article/287d15e9-b5bd-5eb3-9d19-a4369c8f705b', 'nyt://article/5d1a570a-0696-5b4f-be60-f69d52a1d879', 'nyt://article/f0b09808-e907-54bd-a1c2-bac77b4251fd', 'nyt://article/7e9536c8-c196-579e-89b4-17bb11f1a6b9', 'nyt://article/aad53d3e-9be5-535d-bf3a-2bf6928ebb12', 'nyt://article/3aaeb7b3-1a33-5168-97b1-1ca24cf1f118', 'nyt://article/1d2d3229-b186-5df5-b756-7e500c6668d8', 'nyt://article/1ea6bcf2-2f27-5f75-aa3b-fd4046b44675', 'nyt://article/dcdfc485-364a-5a09-bb3d-79f645a6f129', 'nyt://article/69e295b2-d237-51ba-b0a1-58b4daa6d998', 'nyt://article/3d67c170-96cb-54cc-8b42-7845902fdfcb', 'nyt://article/267c0ec5-75a2-57fb-89df-4fd23864c464', 'nyt://article/c5f16ceb-bd2b-5cec-9bf3-0ed54688258b', 'nyt://article/f7937c5e-ddc5-5654-b164-b46dd6cdd82a', 'nyt://article/19ee29b3-921a-5d83-9361-2fc4962d1519', 'nyt://article/75a864c5-04f2-59ce-95ff-4615065d9c00', 'nyt://article/31999821-d491-5371-beda-da668f7f26ac', 'nyt://article/8664a8ae-73f3-5801-b213-67cd8c9cb20d', 'nyt://article/4c6f979d-2a8f-59ad-9b08-36dca4221207', 'nyt://article/2ee149a0-7bcf-5125-9d4d-8832a20740ae']",
         "40"
        ],
        [
         "12",
         "Armenia",
         "['nyt://article/75a6b57d-c8f0-5902-bc26-bdc47ffe65de', 'nyt://article/f9386ae2-3ae0-5baf-8064-919dfdbc9e8c', 'nyt://article/aa53562a-37eb-5ead-8519-ca910628a9e2', 'nyt://article/cea90935-2c07-55f1-81af-32de2c80925c', 'nyt://article/2c4fcfe0-4152-5915-8da9-ff3f6df3f13d', 'nyt://article/cdd5b359-8961-52ac-86d2-4d9c675b224d', 'nyt://article/6d2cecfc-ce5c-52c4-af05-39822d596bf6']",
         "7"
        ],
        [
         "13",
         "Atlantic Ocean",
         "['nyt://article/a5136a92-6afb-5432-9f93-625e9256e94e', 'nyt://article/60a7823f-7d4d-530e-99de-67654a4af404', 'nyt://article/97b4dda5-70c8-5b3f-9742-d4822f210754', 'nyt://interactive/eaf9bafe-7188-5b9b-975f-2985d7da6e59', 'nyt://article/5b4cdeca-c115-510c-8498-c0d6735aa41c', 'nyt://interactive/7db7a662-415a-5f69-818a-b54b2c71472a', 'nyt://article/09ffb689-5efd-5c3a-b678-7c37180810c0', 'nyt://article/b07cf9ea-5a9d-5caf-bc0d-b9a99918595b', 'nyt://article/c0f3bb31-eef6-502b-99e3-ab60aad7cae7', 'nyt://article/caf98741-73b7-5dc0-bfc0-9314490fb22e', 'nyt://article/c11ec4a5-7b2b-5667-aa68-10804f13ae49', 'nyt://article/225bee71-36c6-5d17-95dd-3cc8e6b2f58c', 'nyt://article/ad3e787a-754c-51ca-b606-132d5b1f3f3b', 'nyt://article/770e4237-53f9-5491-860d-80a977088d50', 'nyt://article/4f888723-08c3-5ea1-bff0-f75243b8498e', 'nyt://article/dcad3d9b-255f-521a-8294-b44b93009dcd', 'nyt://article/3f1e157d-c5c6-5b73-a440-21b65b99e965', 'nyt://article/a2d72927-aee9-54dd-a735-542ea8cab7f8', 'nyt://article/cc5697ec-c716-5058-a6c0-2562d2723803', 'nyt://interactive/96205d10-5673-56ef-8222-d191e2d73b12', 'nyt://article/cae1375e-ed0c-5637-8ea3-dbbd109743e6', 'nyt://article/3fe933dc-e648-5e5a-8a53-5efaecec3d72', 'nyt://article/eb2a66c2-06ae-5eb6-a95e-5d0fc7512407', 'nyt://article/4ec54862-bb61-5eb6-ad1e-6087ad8084ed', 'nyt://article/263d8349-38f5-584c-b13b-935d0c778739']",
         "25"
        ],
        [
         "14",
         "Australia",
         "['nyt://article/3563f56a-3056-5a0c-b474-d2d5a4247922', 'nyt://article/fe23ea72-9efd-524e-b770-f46c19d981d6', 'nyt://article/b76d0575-7b3d-5155-9c41-c65d6cdafab8', 'nyt://article/c6089f4b-2fe1-5cbd-97af-e2c324678c24', 'nyt://article/b2083fb9-94b4-58ad-916c-cf7cdcf18bf9', 'nyt://article/652b98b4-01b8-5cb5-bc03-1a8da6738669', 'nyt://article/3f66c66d-cd58-5515-a4ae-e80817e63c9a', 'nyt://article/425a7f86-da47-573f-ae63-0850cee54ec5', 'nyt://article/dd20d078-bad0-5148-889d-06ad5fdc979b', 'nyt://article/061eb34d-2e8a-5ad1-9454-9231d1d6b2d4', 'nyt://article/98dfd0f6-afd3-565a-938a-4c8b0208c5c7', 'nyt://article/47bc3e9f-e57d-560e-995e-893893097634', 'nyt://article/2e05dd10-7579-5ceb-8bcc-45e7e7094db9', 'nyt://article/71b11108-74c6-5e72-b470-64ff9076e574', 'nyt://article/d8dcf526-b866-51eb-954c-95fdd3249d69', 'nyt://article/cad8a90e-a713-50c0-a3c4-8075e01a3b82', 'nyt://interactive/67ced5f2-a79a-5c20-8325-f7b481a10ba7', 'nyt://article/554d6170-13ae-5f28-9875-43dcc5dd7845', 'nyt://article/b91b1dce-323e-5224-811f-d2dd834e15ed', 'nyt://article/8ceeb74c-0110-5697-af59-7e47b2a6ba75', 'nyt://article/7bcbb47d-31ac-590d-ad28-b819e0b0008f', 'nyt://article/67f32b08-b2ab-5a8d-adf9-e7bcc43d60d5', 'nyt://article/af22806c-5e25-566e-988b-541a5ef200e4', 'nyt://article/3217200c-c746-5c3d-ba58-e37ed88100ad', 'nyt://article/c46de21f-3a35-58d1-afff-a67502db7d8c', 'nyt://article/32d145d4-6e55-5944-9838-2d316ca98d7e', 'nyt://article/3ff5d1bc-c26d-565d-94dd-bc6bfe1d7008', 'nyt://article/06c9f0f8-3aaf-5548-a738-28948eca6167', 'nyt://article/9f3c17ce-c610-508a-bc43-920f5d3848ea', 'nyt://article/00603561-a0a0-5bab-a43c-3f17d2192e27', 'nyt://article/06e7db61-c677-576d-8135-71e878ae3a5d', 'nyt://article/0bd12f62-b720-54c1-af64-9117ac29ccc3', 'nyt://article/6251e76b-f6d7-5165-be3a-a5cff3d96a92', 'nyt://article/16c2aa96-8e3c-5d2b-881c-deb8234d7c97', 'nyt://article/2215bf79-c1d4-5a56-b215-e2716de6d6c8', 'nyt://article/b9c20559-ae99-57a6-bf69-c6be68c332f3', 'nyt://article/36ee0edb-21e9-56c9-bb84-09c4415a4516', 'nyt://article/cef0e70b-c58e-5305-ad95-b70eef7d5bb0', 'nyt://article/e26c4181-09e4-5d1c-a561-231cc8093242', 'nyt://article/dfb763d9-6c6a-56b7-884d-c11c0ae498f5', 'nyt://article/9688220d-01bc-50fc-8f86-407d713579cf', 'nyt://interactive/6567bdfd-4b48-571d-b37c-5369d5680e89', 'nyt://article/676a190a-3d84-55e6-a811-46830fd713ca', 'nyt://article/49132651-85b6-5964-bb47-4c9885b4946c', 'nyt://article/720399f2-c1ec-5608-9963-cfaa03abd183', 'nyt://article/a2204e08-ca5f-56a6-8ea0-00ca67b4119e', 'nyt://article/0855a4d1-fe51-5619-83a2-266910bd6b66', 'nyt://article/eb0f1578-0dd7-5251-b08e-54ae3e7f1665', 'nyt://article/cff5a46a-595c-577e-bd69-553d6c3c9b68', 'nyt://article/b5f5cc46-54cd-5d00-852f-84232961c7b7', 'nyt://article/4351b3ff-a09e-533a-8e8a-20bf9313fad4', 'nyt://article/706d7ff9-3245-5bfb-88b3-7182f1e33f24', 'nyt://article/6c12a257-a682-59b1-9b23-24f0e7c044e9', 'nyt://article/2bb0b4f7-43a5-58be-a7dc-12423583607f', 'nyt://article/4329a608-2816-5cc2-847c-f5c7aa77154e', 'nyt://article/e5471980-ba2f-5f95-82e7-937c6df7600e', 'nyt://video/621c2d01-fcd9-5a73-8670-4fa5700b863a', 'nyt://interactive/592ac49c-845b-5dac-b58f-1188544ba8ef', 'nyt://article/5b45e5c1-31bc-5efe-8c6a-5e88a1746d88', 'nyt://article/bc4f3742-1a90-5f2d-97b8-82bf0a12aa73', 'nyt://article/9f91c450-328a-59be-be41-570acf122f54', 'nyt://article/eecc4f8b-8945-5550-b10c-5d399b52881b', 'nyt://article/2d0acbc4-907a-5c30-ae8b-46f4f91b8eee', 'nyt://article/2b44b26f-8d1b-5505-a9bf-69222111d126', 'nyt://article/e006afd4-6c29-5f00-b2d4-0ab900d70971', 'nyt://article/d398c491-8159-59db-9acf-c6e0e56452ca', 'nyt://article/42f9e59f-4cae-568a-8c53-f7af86c5a0e8', 'nyt://article/51f500b8-a1cf-54eb-8475-f0e432a25fee', 'nyt://article/cf9cc005-019f-5295-94f3-3434428a34e4', 'nyt://article/099e95b8-18fb-5cb6-9786-5648012b3e9f', 'nyt://article/7f9ad818-d7c8-5a56-9971-7a06b75dbfef', 'nyt://article/10b68136-7d20-5392-bac8-0a29cbb85c8d', 'nyt://article/a96c6023-96cf-5717-8d45-e5cc280e6d2f', 'nyt://article/5948bf75-d080-593d-81a2-139d05ff4c88', 'nyt://article/49a28e7d-8629-5fad-90ee-402b4c3cab8c', 'nyt://article/8a91af8a-f287-51dd-be98-33ea7e295bb5', 'nyt://article/debe2484-03f5-5cbf-a1ac-6056e50e5948', 'nyt://article/3d580611-6876-523b-96b6-bbe7ce334fae', 'nyt://article/88840da1-c29d-56af-b5f6-62d8ec78b420', 'nyt://article/ffa79e3b-c55b-5fde-82fb-4ff03950be92', 'nyt://video/bdaac810-5220-5ee4-81d8-8026e77fed50', 'nyt://article/118d7f4e-fe02-529b-9b92-f5dcb79ffd8d', 'nyt://article/b3127485-6e94-5ec5-8e22-8f22497d131b', 'nyt://article/1157b69e-7313-5ec9-bae3-ddda52e6d3ed', 'nyt://article/3f49b19e-4f33-5e73-b680-102580073eaf', 'nyt://article/0cd7fcd9-8dc1-503a-a47b-fc7218af6fc5', 'nyt://article/6dbdb063-b109-519d-b8c3-1e3eb738b2c2', 'nyt://article/1d5a61ce-b39d-54e7-90e2-561418801840', 'nyt://article/8e005a41-73c4-5e0f-a9f9-a130c967b0b2', 'nyt://article/d6f8bd48-893f-5a5b-afa6-d034baa3c4ef', 'nyt://article/6a251768-d7cd-5d42-b3b9-fd6314f11f82', 'nyt://article/7ba22bd7-f3b7-5cda-989e-9229fc9e995d', 'nyt://article/bce3ca60-af67-52bd-a7ef-48827ff604db', 'nyt://article/fc948308-79e0-54f2-b519-7a586596cfc8', 'nyt://article/607b251e-2a94-5a47-b201-4775af12519d', 'nyt://article/e5b3ead7-33f0-52b2-aae7-44ae0d9f51f3', 'nyt://article/47c01780-bf2c-58bf-878b-5dbf02c70664', 'nyt://article/b5ae1e7d-b013-5938-9f49-dd53b2e0f5aa', 'nyt://article/608ddbb7-37de-56a4-9d69-f040a32319f9', 'nyt://article/17ea0afa-d3ea-55a2-85a8-8799db99297f', 'nyt://article/474be2fe-a5d4-5308-bbbf-c34cfc596252', 'nyt://article/2a67f414-d79f-575d-b6d6-864778e9b09b', 'nyt://article/73af21ea-3c4b-58b3-9ebc-a4b0ee887f41', 'nyt://article/60d90eec-2fbe-59a2-b893-decc14f2a739', 'nyt://article/c6be1920-767e-52bf-a64a-b58093e0ddee', 'nyt://article/0e578382-17ca-55b5-ab06-f61b9142aa97', 'nyt://article/0160c299-c582-5ed6-b89d-36b1ceff4ff1', 'nyt://article/68a8cded-9ea6-5dce-be58-9148037275d1', 'nyt://article/a77b5684-71b4-5d71-acb0-b19bfb9730b5', 'nyt://article/39db45b5-6f87-5dee-9d1c-817323abd158', 'nyt://article/e430b01c-f32e-5382-bf19-e0df4e7ee669', 'nyt://article/ec9f5472-3ebd-50bb-a58b-57b0d0aff90a', 'nyt://video/359ed06d-e7da-5737-a242-9d6ce247f411', 'nyt://article/d7a1f468-2b98-5872-a037-714ecdfa250c', 'nyt://article/2f13368a-d180-5465-877f-375210a7aae7', 'nyt://article/b7006bda-96bf-5b9a-a9fc-4bb7a8e250f9', 'nyt://article/538158af-eb06-5ac9-ad44-252e3d8c8c70', 'nyt://article/9a728ca5-b4bb-5b60-be45-053646dcdb10', 'nyt://article/ffb67ff8-6919-565f-934d-5ffb8e6ae707', 'nyt://article/428a36ff-3d0c-5b52-b36b-8b1579756c9c', 'nyt://article/493c5943-03b7-5b66-b5b3-ac40b21a4fa5', 'nyt://article/d5c231d7-9185-5351-b6ec-9b70dd39a9a1', 'nyt://article/e82db1e6-3dbb-5127-bfb2-58b786a0cfde', 'nyt://article/27d79a98-34d2-5ad6-b3e1-4bc2831e105d', 'nyt://article/8cee40e9-c89a-5d5f-bacf-cfaaad424501', 'nyt://article/16bce510-5444-5bc3-81a8-0ffc2da4b735', 'nyt://article/2b3e0c2c-ccc8-5390-baa2-1c2256bd7504', 'nyt://article/8953986f-8715-5bc9-916f-21ff2bf12b78', 'nyt://article/006014ee-ae56-57f6-9fa6-d9b8bc7b6a39', 'nyt://article/4336fc5e-b8e2-5566-977b-a86ef2fab052', 'nyt://article/bbbe8d7b-b00d-5365-b841-c8a8389654e0', 'nyt://article/9abf3e81-2ab2-57e7-bcbb-8c620efc57db', 'nyt://article/0aeeff1c-c7e8-5bd8-ae39-49e9db19afd7', 'nyt://article/8318e157-1ecc-55cf-936b-7a456604575b', 'nyt://article/8a3f7f3b-d31e-52d7-9fda-ec0650944448', 'nyt://article/fb47e6aa-08ac-577c-8a01-12492887fb64', 'nyt://article/b51b7af6-a131-5f00-ad12-ed465377374c', 'nyt://article/dfc344db-f96b-5342-96c0-18afc3f8af86', 'nyt://article/250a7f52-542f-59f3-9b19-fcadf011716c', 'nyt://article/023e6842-0a67-50c5-a9fb-d6c6daa49b56', 'nyt://article/1b0e35dd-eef5-53a9-bc04-a22d6b53ca16', 'nyt://article/c53c9271-b07d-565c-9223-5ae808535c9d', 'nyt://article/722bf5dc-b37e-5c0b-bd0d-d7d281dd6e89', 'nyt://article/c85916ae-496f-5a54-8f09-f151d3bd342f', 'nyt://article/a9ac8ef0-cf48-5585-a00b-8bbf7fa4e708', 'nyt://article/e7116934-5e86-5988-b768-679684affdec', 'nyt://article/e5425a94-61df-57c0-9196-277af1de1d3e', 'nyt://article/c483068a-3157-54eb-acb0-366f23bb78d7', 'nyt://article/687b6d9d-5528-5fb7-ada8-9ab44ef6be68', 'nyt://article/1b7eee19-0e72-573a-a482-860d6d3939d8', 'nyt://article/58bbfd2e-c709-5151-b0cf-0c4c5a2d7bd2', 'nyt://article/600d6b67-e4e8-5d60-846f-78bb05d7ee00', 'nyt://article/1ddbad3b-de6a-528d-9112-b5b2f5e7455e', 'nyt://article/7589117b-71de-553b-b661-9d73f08ae91d', 'nyt://article/61efa0ef-43d3-54ae-8387-66d17e19b8bd', 'nyt://article/0479c98b-f429-5c45-9482-ba056384e378', 'nyt://article/cbf64f15-de9a-5064-bd0b-b6144147c426', 'nyt://article/01df8223-4f04-525e-b8a3-78436d1fc483', 'nyt://article/e7fb592a-8bd3-5616-a186-51a4c61cdcd8', 'nyt://article/63f1260c-5fbf-5289-80e5-5044d958abf5', 'nyt://article/f9e370bb-d78c-5b2a-9f7f-dcc693309e3c', 'nyt://article/5dd8d0c4-deca-59d3-a5e5-0b8ad861ac41', 'nyt://video/d8b508c0-4274-5602-9f7a-0eef478cd90d', 'nyt://article/06dd8692-c554-54b9-9617-79dc1b0c2294', 'nyt://article/34f1b048-9437-54b5-9f62-e4f4174902c7', 'nyt://article/a24352c5-2916-5877-9c38-7b4b58d1909f', 'nyt://article/943d5f12-ce5f-5d0b-a103-684e46194abb', 'nyt://article/5e419777-a56f-5cb1-bee0-f14b8f83c13f', 'nyt://article/b86436f2-910e-5322-91fe-dda663ec7632', 'nyt://article/7740d88e-2bbb-5b60-8ad4-d83e942ceae9', 'nyt://article/c0feb0c9-7c34-5a17-8051-486f89a9dc9d', 'nyt://article/f4fc51c5-eec5-5b89-bba6-278ca712452e', 'nyt://article/b3dda245-86f2-5cbc-973a-45e4288c99f3', 'nyt://article/aedf4e44-a24e-5a35-b52d-f985c3586596', 'nyt://article/2dd8464a-9b63-50ff-afaf-9795b1a91694', 'nyt://article/e18f7c69-da2f-5161-9415-bd1c183151b8', 'nyt://article/351acaec-0e7b-5362-b7e4-c1fdeabc7014', 'nyt://article/5fc83e76-d158-5d8d-9669-87b0a57464fb', 'nyt://article/610ef9c7-708b-59f0-b8a4-80f335639f93', 'nyt://article/604079b3-73ea-5c91-b1e7-2209015a286f', 'nyt://article/4b594950-5710-5481-8a9f-97a3c8379add', 'nyt://article/505e16c1-d8f9-56df-b76e-9cd68a7ab33d', 'nyt://article/0e878c95-5a0c-5039-bfe9-c330dc353a6f', 'nyt://article/774ebdf6-f169-52e6-88a9-900e7a14d394', 'nyt://article/017d6bcd-8331-53b6-8e9a-3a8b8dd00270', 'nyt://article/b2b37b59-ed75-53c5-92cb-6577f841e0f6', 'nyt://article/7d8a58d8-3012-5f27-b5c0-ea3ae97e575c', 'nyt://article/e0284004-ca69-5ffd-ba0c-06dc4d532f73', 'nyt://article/010ebe23-59ec-5c1b-8311-d3e7a8f0edae', 'nyt://article/3c790392-f090-58f4-8709-d792f161cbed', 'nyt://article/3cfa128b-7fea-5e24-b805-0a30bc411c6a', 'nyt://article/398f03de-dc59-5101-bce0-04b2275b68cc', 'nyt://article/843117b3-f38a-5831-a8e3-7b86d7733b6d']",
         "193"
        ],
        [
         "15",
         "Austria",
         "['nyt://article/670a186b-c06b-58f0-a238-c411d99059f6', 'nyt://article/a9945d58-6d62-5889-b609-c487bfd5069c', 'nyt://article/6a5bbb3e-eac4-51fd-8ff7-cf9c18c99aaa', 'nyt://article/0659b583-2941-5ea5-a00b-b6121b5c83f1', 'nyt://article/c20000bf-0d4e-5023-9e9f-8e65e3d98cef', 'nyt://article/ce1cddcf-3d19-59c7-acc8-a522d1fdc119', 'nyt://article/07f9b643-eef6-550f-b25a-4312a5c2f68d', 'nyt://article/4062fb42-d47c-5de1-a685-f0ff645c28b8', 'nyt://video/ba0d555f-09e9-547c-bfec-3cebce70cf3a', 'nyt://article/9338e337-f8bd-57fd-9f99-a4b5d3e00490', 'nyt://video/64329d3e-7457-522b-b616-7a45df9583e3', 'nyt://article/f346f96a-8d34-53c4-88b4-f2e41179af65', 'nyt://article/535cae89-dd25-5958-8c27-9d3940128215', 'nyt://article/da49e385-de04-547e-a135-b96456b2f2ee', 'nyt://article/9119b453-c943-54ab-8cb1-157add50b82b', 'nyt://article/82e888a7-65f9-56bf-8b75-93affdd15a27', 'nyt://article/de545c26-765c-50f1-9ee4-cdbb26c758c1', 'nyt://article/3f434785-de8e-5103-bfd0-3aa326b95b3a', 'nyt://article/b6a4d362-fd4b-550e-a10c-3fdaff9393eb', 'nyt://article/9f7588ca-4f94-5a9f-9c31-ffc7bff7bd74', 'nyt://article/109a7c51-3991-5a42-bfb3-753b12683cbe', 'nyt://interactive/81213565-7304-5188-bd4c-be87a1d2b554', 'nyt://article/7dd19b59-156c-5583-bd77-764448662a9c', 'nyt://article/edc7fb55-4d27-5863-9ccd-0403d16b0651', 'nyt://article/80fb2c87-6c72-5bbc-b050-89225dfcb929', 'nyt://article/2982e829-2cc6-5d1a-89aa-0dc4f495bd0b', 'nyt://article/a0b57494-0710-50f3-9c8a-dec7c3c19938', 'nyt://article/45fc1283-ccb4-5b3d-8498-664d6424d7ca', 'nyt://article/4336fc5e-b8e2-5566-977b-a86ef2fab052', 'nyt://article/bbbe8d7b-b00d-5365-b841-c8a8389654e0', 'nyt://article/7c902ee6-e04f-5302-8340-097035a8ca57', 'nyt://article/38ce97ea-cd09-5520-9753-e23f6a4fb62e', 'nyt://article/6eae42d5-f0cb-5dff-83ed-b762bab8194f', 'nyt://article/3d1badc3-b35a-5d07-a6d5-8a12d1704463', 'nyt://article/6569ee78-27af-5059-beac-731d96175409', 'nyt://article/2d49cc50-dce5-5506-8cd6-c10810138ffa', 'nyt://article/769e4249-b283-5fb3-a493-7341db70f0cc', 'nyt://article/bbfae0d6-4d3e-5b9b-b914-041d2cbbf485', 'nyt://article/f5f06545-8890-5a08-8b68-6013f50287fe', 'nyt://article/bbfe3f9f-71b5-5866-ae83-ff98e3eb8ed8', 'nyt://article/612c3665-1ac8-5314-b669-40c06b40e7c6', 'nyt://article/739f8cc6-dc23-572c-8891-33dc65a9a6c0', 'nyt://article/d9d748ee-8391-5b7b-866e-77903b2762e8', 'nyt://article/4651a01e-c9e5-5f1e-964d-f713f267a818', 'nyt://article/489d15d6-0318-5528-a1e8-2dd8cdb2f5d2', 'nyt://article/6825921e-2366-5d36-8888-7039f99c7a5a', 'nyt://interactive/0770ec0d-4b73-5fe3-9f9d-e453a724e45d', 'nyt://article/9214308c-0dc9-530d-b672-42164d3e05c7', 'nyt://article/1e7d04dc-c6e6-5da1-a83b-3074b0a4f9da', 'nyt://article/5c93f3d5-8d8f-580b-951e-bc354a275aaf', 'nyt://article/d0d0c232-0ae1-5d3e-b897-ae648a271c17']",
         "51"
        ],
        [
         "16",
         "Azerbaijan",
         "['nyt://article/1fac1725-38bf-566d-8337-65c0706ad4a4', 'nyt://article/75a6b57d-c8f0-5902-bc26-bdc47ffe65de', 'nyt://article/bea61699-24f2-5265-a22f-9076f851ca5a', 'nyt://article/02a1c5f2-d20c-5376-a04b-46ba64bc0b52', 'nyt://article/2ae1c323-fd56-5a8f-9436-c490aab9e213', 'nyt://article/79fe9ff5-ef5e-589d-913c-8be4b5e4bcc2', 'nyt://article/a20b75ce-1caf-5292-9f23-2c0179843348', 'nyt://article/d97b0f8a-fed7-5478-933a-fa3964997570', 'nyt://article/15b999e8-4ec7-5c3a-b383-38d4882eb462', 'nyt://article/39af62ad-0e32-5ba2-8d59-b545735c0d7b', 'nyt://interactive/63331587-3ed3-55c1-8475-7612b1f63f8a', 'nyt://article/2bd94bf5-a815-5d9c-a58b-7dcedaa97026', 'nyt://article/2c4fcfe0-4152-5915-8da9-ff3f6df3f13d', 'nyt://article/9d488c1f-3d6f-5fbe-8307-2a18cefc53f9', 'nyt://article/2c3b6715-4f1e-5613-b5a7-cdede0a6995c', 'nyt://article/5f9b06a3-91f8-5f84-bfe0-f0afdd7a0471', 'nyt://article/36c648dd-92ae-5811-b8d7-e174adbac1b2', 'nyt://article/7c990f69-0455-5658-8374-07565c77ca27', 'nyt://article/4c1ef574-dc8a-5c14-83e4-746375e43e14', 'nyt://article/bdfdc886-d7a1-568f-af0b-5b0dc316b89f', 'nyt://article/aa53562a-37eb-5ead-8519-ca910628a9e2', 'nyt://article/0d118bb0-9370-5c0f-9c92-1e0588cb955d', 'nyt://article/181e8c57-77f4-5633-8052-035dd125bd36', 'nyt://article/6d2cecfc-ce5c-52c4-af05-39822d596bf6', 'nyt://article/6f1c8fab-c5ed-5aaa-9191-a0552e7cd2a9', 'nyt://article/a008167d-fddd-5f78-a94f-a5c20c40e7e5', 'nyt://article/f9386ae2-3ae0-5baf-8064-919dfdbc9e8c', 'nyt://article/385388d5-2e5f-5321-b23b-4e0afb0c4940', 'nyt://article/d7b0de2b-9d50-5a2d-88b2-5390b5b7de3b', 'nyt://article/d7ea26e8-b61f-5975-bd0e-ff455733ac5b', 'nyt://article/250d49a7-b629-548d-a99a-a2aaf0e3a728', 'nyt://article/7104a8cf-de19-5482-9efa-d93c012227d2', 'nyt://article/7a9cbc11-d086-5980-855e-e8abbab5ee40', 'nyt://article/58fe85be-4962-51bd-8f47-46c1ccbf8f5a', 'nyt://article/cdd5b359-8961-52ac-86d2-4d9c675b224d', 'nyt://article/3b3d552e-a57f-53c5-8ff0-31113b14c493', 'nyt://interactive/4d85e505-f0a7-57c8-b4a4-7d2018223598', 'nyt://article/dfe287c5-254d-55dd-8245-66c18bc92edd', 'nyt://article/5f2ef024-54ee-5815-8fe6-ad8f68e23f5b', 'nyt://article/b523611f-4c09-52bf-a76b-e31fe00e1ec2', 'nyt://article/cea90935-2c07-55f1-81af-32de2c80925c', 'nyt://article/ea2f8cef-794a-52e7-8891-8656b2891bab', 'nyt://article/1ac32ed3-b543-5290-a03a-385cff024025', 'nyt://article/b2c28cce-ffdf-551c-a4e7-27d9bf22684e', 'nyt://article/ff0ee5d0-91c1-5420-a030-64e56a472c13', 'nyt://article/44ff88f7-5c8e-575e-b710-983fac884ec0', 'nyt://article/9cdc7f20-65d5-5c7b-8264-99b07744af9c']",
         "47"
        ],
        [
         "17",
         "Bahamas",
         "['nyt://article/f55d75df-7984-5796-871e-e9808f9a7b95', 'nyt://article/3a456fac-0fdb-5d08-a280-a3fb1bb27b7a', 'nyt://interactive/0a438c12-d60f-52a4-be3d-ca4aaf493aad', 'nyt://article/8a064346-c360-53bd-a6bb-93ef461de02f', 'nyt://article/4c432d3b-5d3c-513d-985c-5d2e2a3d06cc', 'nyt://article/72ff5af3-f710-5967-a74b-1cd1105d4110', 'nyt://article/3c489b15-4e6a-5b33-a153-2eed5cd30deb', 'nyt://article/7218d0b7-3509-5552-8ab2-6370dc25b31f', 'nyt://article/5205dd9f-385d-55f3-9e25-316e4a05cd82', 'nyt://article/ab667a0d-a2e8-59ae-ac3c-ef6a611c2ba3', 'nyt://article/605556aa-111e-5eed-99b4-5ab87c8e327b']",
         "11"
        ],
        [
         "18",
         "Bahrain",
         "['nyt://article/6cc38047-747f-51f9-8f85-f98e36b2b992', 'nyt://article/1104a490-62b7-507a-9fab-1783f67a7d95', 'nyt://article/4db02671-1c0e-5b3e-9c95-645b54d2f8f7']",
         "3"
        ],
        [
         "19",
         "Baltic Sea",
         "['nyt://article/9cbcf0d0-527c-5022-9bd8-b399f459f42d', 'nyt://article/3680adb7-fe2f-5377-8a70-d6fa4f9ee2d3', 'nyt://article/7ad346da-06c6-5aa4-9f44-13e3dabfdcf8', 'nyt://article/62d1bb37-54d6-53c6-9d6d-5e43431f3335', 'nyt://article/c747a563-86b6-5583-8528-5d5d82c573c5', 'nyt://article/59773ef3-f9a2-5811-b338-a3f62ae4eaa2', 'nyt://article/bf938858-5d5d-5907-8726-929112ccc441', 'nyt://article/3f82b219-3267-5601-9fdf-c806ee1f9f16', 'nyt://article/2f502b81-e9f8-54e1-b1b9-814c7b61cf70', 'nyt://article/e8dd346d-fb45-5698-afc2-8d1aca18cab5', 'nyt://article/3bb65254-fb8b-5779-801d-5f533b78bce2', 'nyt://article/70a2d5c7-eb7c-5a47-841a-cf93e986f761', 'nyt://article/e0535641-550c-5375-aa88-d76d316835c7', 'nyt://article/b2d50f5b-6b2f-535f-bc99-b1fdbbc677ee', 'nyt://article/3d3af5c5-012f-5512-a7ef-4373b2cfd830']",
         "15"
        ],
        [
         "20",
         "Bangladesh",
         "['nyt://video/d7eed2c7-86dd-5334-9768-b58516f4f125', 'nyt://article/8fb3e25e-d5ac-51ab-b4ee-52cd2e06e9e1', 'nyt://article/1029ca29-7478-58bf-bf53-2137bb57ca7f', 'nyt://article/d1995898-4e16-5f85-b9fc-83a1dc0f5c31', 'nyt://article/f59ad265-6b02-5b47-87ab-40491a7192f4', 'nyt://article/84267c45-d863-5b57-810f-589d61c16a27', 'nyt://article/e71deb6c-14ca-5446-acb0-557595a1c768', 'nyt://video/5b91da10-fc8e-580a-b37b-cc4fdb11b1a7', 'nyt://article/5774741e-8fea-5f49-ac70-ce4168a37b07', 'nyt://article/255b5563-597e-5283-8031-70f235aedc71', 'nyt://article/ebd1ec32-ad41-578b-bdf4-274284a3badc', 'nyt://article/da8e3167-7608-5e86-b657-f9dd213b4cc0', 'nyt://article/acd20332-7d58-52b0-af07-1e411c87bd05', 'nyt://article/396deb75-4e1f-5856-a8eb-1e3e580d5450', 'nyt://article/9b6b0318-db8f-58be-bb65-5d0217d80de8', 'nyt://article/1674bd72-13ee-5d08-bb54-0c3ce48fe673', 'nyt://video/eb3b13e6-599c-5c12-9fbf-c4db7a880801', 'nyt://article/498ca601-204e-525e-bf4e-97640d9a70e9', 'nyt://article/38e0530b-d424-5ba8-9c4f-277eee69f102', 'nyt://article/936b5914-211d-5657-83a4-a9b74a4a6cf9', 'nyt://video/d9b4cbbf-d8dd-5348-bc51-4c250f866d67', 'nyt://article/f5c39b45-ce9a-5bda-a008-c98c0684c491', 'nyt://video/cc737b7c-ab5a-59a8-95e1-816ad4887397', 'nyt://article/a0f463e5-dbf2-5a92-81a9-d066f36509f0', 'nyt://article/cb0045e8-0494-5f4e-b589-de52b5ea985e', 'nyt://article/80dc1747-cf04-5beb-a934-619f952d75e1', 'nyt://article/ac3aba66-b791-52e7-9ad5-cbb0db0d13b5', 'nyt://article/d4835673-3e5b-5cb9-a68b-4b895d740999', 'nyt://article/6406f914-ccce-5054-a329-b9b8414c9c95', 'nyt://article/823b3d55-b82d-503c-8a18-68d6933d4625', 'nyt://article/a05942c6-58f1-599c-8fc0-2d3224b02cc8', 'nyt://article/3cc92856-efcd-5e80-bf10-797afacb4f84', 'nyt://article/cafa3f9a-8004-526b-9927-c06cd85f915d', 'nyt://article/9236f415-552c-5965-b113-e3b12c7acefb', 'nyt://article/88c85774-df15-53fa-b7f1-482980bfcb43', 'nyt://article/89c8e9e3-fe76-5a94-92cb-414d811ee293', 'nyt://video/ef3d4115-649f-5efb-99f7-c1ef9c7270c6', 'nyt://article/dbdf3b95-c4ac-5cd5-8644-8e866582656f', 'nyt://article/7084ef60-da5c-537c-b158-f1e78e69f10f', 'nyt://article/d702ced9-53d7-5cb7-aea6-5e37a2c55cd1', 'nyt://article/9feba6e2-823a-5fbd-954f-5040e45639ba', 'nyt://article/f56cb90c-333e-5189-b598-09245a7ecced', 'nyt://article/43e54411-fec3-5aaa-a572-7a1b476a42cf', 'nyt://article/c24ac261-a0e7-556b-9343-f6e2c17e7a5c', 'nyt://article/bcee377e-2c3a-563b-bc2e-32be6a28cee3', 'nyt://article/5f3da01e-323c-5b51-a9b4-1e366ca4387d', 'nyt://article/e943d08b-7be0-52f9-b32a-9ad77935c102', 'nyt://article/1ea4fb4a-0878-5451-a43f-4ffdc4da6144', 'nyt://article/34403061-db05-5d35-b892-3d3ada556995', 'nyt://article/dae2657b-9ab4-512b-b6cb-8690b92d0434', 'nyt://article/d42d09c3-aee3-57bb-b508-b2495fa0508d', 'nyt://article/69423ad4-3547-5863-8dfa-a7c04e0bf88c', 'nyt://article/75b05547-d2b0-52e1-8113-4184eddf76d7', 'nyt://article/85c2a939-d4e6-5597-bacd-db25e92110dd', 'nyt://article/4c300a25-56e0-564a-80bb-33da64428e8c', 'nyt://article/02a53ef9-fac1-5f49-b279-2c3d742d37d0', 'nyt://article/f8811dee-1ac1-5761-b4fe-42e35a6ef538', 'nyt://article/10453968-c7cb-50d8-ae37-8bc7d4bdeeaf', 'nyt://article/ed532bcc-2029-5854-9ceb-338278f3128f', 'nyt://article/6814c044-6791-5f6d-9ca2-231a0b94d4cc', 'nyt://article/bf77cc3c-2d4c-54d9-8ae9-e8dfce0fb9f9', 'nyt://article/ad68b015-ad74-54e5-b873-9d29dcf2b2f0']",
         "62"
        ],
        [
         "21",
         "Barbados",
         "['nyt://article/dbca2c1e-0c60-5e8a-a032-6e29e8425c40', 'nyt://article/3a456fac-0fdb-5d08-a280-a3fb1bb27b7a', 'nyt://article/120e4e0d-239e-5b52-83bd-462598928a5c', 'nyt://article/13242a65-a494-505a-b504-49c06a9d9166', 'nyt://article/360f1b02-6470-52a5-afab-5753344f121b', 'nyt://interactive/3d72386b-bd2d-58a7-9b04-9a7b9d258943', 'nyt://article/2794161a-68fa-50f9-af4b-781cf317f424']",
         "7"
        ],
        [
         "22",
         "Bay of Bengal",
         "['nyt://article/f69229c4-0c2b-59ad-bcff-d25886896e17']",
         "1"
        ],
        [
         "23",
         "Bay of Campeche",
         "['nyt://article/2ba65ccb-6e52-557b-9191-21cafcc864f0']",
         "1"
        ],
        [
         "24",
         "Belarus",
         "['nyt://article/6fd49dd1-7d28-561f-913e-050e34afabbf', 'nyt://article/2c4fcfe0-4152-5915-8da9-ff3f6df3f13d', 'nyt://article/7775bef0-4a61-5d97-9d2c-b93de2ca319a', 'nyt://interactive/4ef0fac9-68ae-537f-ac7b-e165411fcc5c', 'nyt://article/21cad100-f82d-59f1-ae41-1d37516395e4', 'nyt://article/53220df1-5f7e-5866-9ce5-9b645a1d69a4', 'nyt://article/2aca6428-0b32-5356-a256-a286a4b16347', 'nyt://article/f346f96a-8d34-53c4-88b4-f2e41179af65', 'nyt://article/50eb219d-459e-511b-a4eb-c6feb9f15fe7', 'nyt://article/08eedfbb-983d-553c-95ad-9e660802e15a', 'nyt://article/2c1190c3-b15c-55aa-abec-e46649feb480', 'nyt://article/ef47a80e-94bc-5c36-8d44-8d4224ce92b2', 'nyt://article/833eaa47-ce45-5c0c-a984-81c8d7533a04', 'nyt://article/66554e8d-9278-5135-85e9-0bb9bc3cdca4', 'nyt://article/1cc2cfd7-f7c4-58db-87d2-5a85ddea3257', 'nyt://article/d3587697-6a2d-5b83-87a8-c7e8ae03e248', 'nyt://article/3c734eba-d374-5d03-ae3d-df46861ec2ad', 'nyt://article/e25457bd-ce33-5a31-a905-ac652a50bcf8', 'nyt://article/081caf13-8311-55ba-b659-845d5f7491d1', 'nyt://article/bf938858-5d5d-5907-8726-929112ccc441', 'nyt://article/841e8ea4-81c0-55a5-90e2-9f854b631bf6', 'nyt://article/40bad37f-8934-5ae1-9915-a5627f4ed3f4']",
         "22"
        ],
        [
         "25",
         "Belgium",
         "['nyt://article/d515fd4b-c1c6-52f0-a959-bf21336531c3', 'nyt://article/87fc2fa9-b820-5a08-b8ba-7e6db0dee3c1', 'nyt://article/1cd28e8a-743f-5418-9e6d-332af33c1ebd', 'nyt://article/4076d5fe-4d52-5ac1-bc13-27887a7ad6cf', 'nyt://article/6d0fd4d4-108f-53a0-92eb-ae6cde85c32a', 'nyt://article/15a126ec-72f6-57fb-ade6-d48ae7eac43a', 'nyt://article/458f4489-9efe-5a9d-9e5e-b893deb668fe', 'nyt://article/84939ce5-ddc5-5a6f-a06c-37ce914d4df0', 'nyt://article/d6b19031-3e5d-51df-a313-6c540e5ce024', 'nyt://article/3f5f04be-e156-5f39-b845-8145daacfc2f', 'nyt://article/d88e199b-3dcb-531f-823f-989e49d7db10', 'nyt://article/f2d2bf65-5b70-5073-82f6-34a2fb1b274e', 'nyt://article/cd435d91-a60d-596f-ae07-c4c251d4392e', 'nyt://article/b0ae26e0-fd39-57ed-9153-f8e9337c6b42', 'nyt://article/cc1e2e6b-2b38-5dac-8102-76cd1131d826', 'nyt://article/6a9b613b-3619-5b68-a3e9-1852f29d773c', 'nyt://article/278615cf-39bc-5967-965d-9db5c5ea3315', 'nyt://article/2aca6428-0b32-5356-a256-a286a4b16347', 'nyt://article/b8926a2b-a016-5493-85f8-b9583b56bbaa', 'nyt://article/b967a24f-e8c9-5af5-b74e-91994f870869', 'nyt://article/ce07da87-93d8-5c3c-a0a4-ee6993131d2a', 'nyt://article/daee73fc-eb79-5d80-a1f0-a4f688b766ba', 'nyt://article/ffb9c4af-44c5-5ede-8cf5-c0193ad81907', 'nyt://article/851b69ae-20b6-56b8-840a-2359f31050c2', 'nyt://article/1ad42471-f803-5b9a-a19e-a429e4c4e91d', 'nyt://article/89dd8747-9903-5e0c-89c3-a261470296b8', 'nyt://article/5410630d-98fd-58ab-8966-5dcfd390941b', 'nyt://article/1fe7f248-a1d0-56d6-bf3f-df0c4f0c39a5', 'nyt://article/fcc2bb23-b4d8-5546-b18f-aff16ef38218', 'nyt://interactive/6200b426-fecd-5edd-9754-15753cae9c59', 'nyt://article/ca824b3e-85ea-506d-b6bf-f9b94c025737', 'nyt://article/351a7081-1a05-5166-916a-f9f2045ea836', 'nyt://article/fb011342-8413-5b74-868c-e1220ddd100e', 'nyt://article/58da3e6b-b8b3-54dc-a564-c2e795ec9fec', 'nyt://article/4336fc5e-b8e2-5566-977b-a86ef2fab052', 'nyt://article/1e40ff20-3a4b-58e9-9719-ebd96162a35f', 'nyt://article/737a295e-2823-5677-8179-6362bb19d267', 'nyt://article/0f652f8f-85bd-5513-8b86-c969aef66b9f', 'nyt://article/ca2cbda6-ba8f-5c14-8fae-993ad3293920', 'nyt://article/0615e70f-5fdc-58ab-86c5-4fed006d8fe6', 'nyt://article/be0c441e-b389-5096-aeb7-b040d49b16f8', 'nyt://article/32181804-e00c-5f5d-97f2-955503943dee', 'nyt://article/39c9545b-8b8d-5251-8a87-a7e7ccce3f86', 'nyt://article/4cd9a420-ddf9-5041-a52e-c8e4d9678bff', 'nyt://interactive/bba8496f-c94d-5818-a05e-510217fe60ea', 'nyt://video/3cac0e2e-7f4d-54c5-b35d-fb056724bcf9', 'nyt://article/b1cf93b2-5518-531c-8372-09985fb8a68a', 'nyt://article/70a0c124-049d-5118-9fe2-d39b2f30a0a6', 'nyt://article/c3a3fb76-50db-54cb-8861-5d4f2f594973', 'nyt://article/efa2c95b-0478-5ff8-a93b-5efde1352060']",
         "50"
        ],
        [
         "26",
         "Belize",
         "['nyt://article/cc61428c-3ba1-5e63-b984-33e225b3d127', 'nyt://article/b81daaea-4e12-5217-bcf0-24277af7a145', 'nyt://interactive/aed06f4d-8a51-5356-9d3a-d2a838fb17e3', 'nyt://article/39615756-7f7d-56e9-98a6-d928befd65b8', 'nyt://article/083a53a9-40d7-54eb-9fef-e4dc3c12049b']",
         "5"
        ],
        [
         "27",
         "Benin",
         "['nyt://article/cefbee7b-1a64-555e-aa99-205c8c00965a', 'nyt://article/80609bfa-1307-50a2-9a4a-936fa24d8235', 'nyt://article/cadd214a-9939-500f-a2f3-7aebf7a20faa']",
         "3"
        ],
        [
         "28",
         "Bering Sea",
         "['nyt://article/b9d646bc-51a9-5124-b495-e33ae5072f51', 'nyt://article/bf6a397b-55d9-51ba-85e9-5ced31ffff39', 'nyt://article/3dffadff-81f9-562e-bcaf-7f551af771c5']",
         "3"
        ],
        [
         "29",
         "Bermuda",
         "['nyt://article/f82c4681-876c-5823-8a55-ec2b1d1f9d90']",
         "1"
        ],
        [
         "30",
         "Bhutan",
         "['nyt://article/8684e408-fa1f-5d86-b3bb-43fa8a2bf8e7', 'nyt://article/89c8e9e3-fe76-5a94-92cb-414d811ee293', 'nyt://article/3c350a95-b7e6-578a-9dd6-f16dd3ea9391', 'nyt://interactive/caa7a64e-05f1-5a71-a588-1e8f311db878', 'nyt://article/95929c9f-42fb-5d83-892b-6b2c3f5adb1b']",
         "5"
        ],
        [
         "31",
         "Black Sea",
         "['nyt://article/67ee4544-4986-57d7-a340-56b141868f4d', 'nyt://article/e6b8866b-4bff-57e7-9c0d-824d3d2e425c', 'nyt://article/7f7082e0-01cf-5136-875a-cc3bd44c7057', 'nyt://article/52df775b-6d84-584e-9e6d-da727ddabbeb', 'nyt://article/f8a102cb-e861-553b-89d6-cfc54a10d10a', 'nyt://article/d2f8d9c2-05b8-56cf-a4a1-0a5d15a4fbc8', 'nyt://article/3dfb2f26-425f-5cef-9b47-be2a7d1b3845', 'nyt://article/86d3dad9-815a-501b-b06b-77260a47a38c', 'nyt://article/85dc3162-5ce9-5a7b-8cfa-9b1b0507f646', 'nyt://article/1a69d72d-7e98-5c18-9ad9-0d196edd636b']",
         "10"
        ],
        [
         "32",
         "Bolivia",
         "['nyt://article/944dd5c5-5751-54ff-8676-4abb71d7fcaf', 'nyt://article/766aa0d0-a57d-5a60-8a6c-6d6d8d2150ad', 'nyt://article/da794e2a-74d5-5277-82ec-d3a9064111ed', 'nyt://article/0218698e-099d-5eb5-b06f-d7f4364c9f29', 'nyt://article/f8a47009-5be4-5e3b-ab47-3945e3ab0111', 'nyt://article/a9f3362e-bfc4-5dc4-b95a-d10e18d34ae4', 'nyt://article/fb261414-c74f-599f-908a-ad71c9751da4']",
         "7"
        ],
        [
         "33",
         "Bosnia and Herzegovina",
         "['nyt://article/15f3afe3-9972-586e-aa7c-0175ec333618', 'nyt://article/c6f66a40-992f-514d-8952-2ba0a6244782', 'nyt://article/05c076a5-bfbc-58e2-8b98-220f33766bcd', 'nyt://article/58508e50-c37c-556e-87ee-ccaf440fd80c', 'nyt://video/45ef2d15-673e-5695-9fe3-d7844dfc2a5f', 'nyt://article/cd09f73d-6b9e-566c-ae88-923092ce703f', 'nyt://article/5962a870-e60a-5dca-86db-8d73b0e321e0', 'nyt://article/d26facaa-7cb1-5708-be3d-b7f22d093d17', 'nyt://article/2ea40895-14a8-5915-ae30-f6b189a67ce2']",
         "9"
        ],
        [
         "34",
         "Botswana",
         "['nyt://article/3ec2692e-3c94-53b0-86a8-4efba10445ee', 'nyt://article/43e74e8b-c18e-5d67-9133-b8fc8ab6aaa7', 'nyt://article/5b46ce58-9195-5636-ade0-378a2373f8ec', 'nyt://article/b792e806-eb4a-5489-b55e-3d9ed9f2301a', 'nyt://article/b1e22c6f-12a8-5222-b4a3-97d9684222d3', 'nyt://article/4243bc16-737a-5a1a-996a-c1bd08ce953a']",
         "6"
        ],
        [
         "35",
         "Brazil",
         "['nyt://article/b5bafaae-6eac-56a1-bd81-152687034bb7', 'nyt://article/ae862df1-83da-5c3c-8588-4f513328f315', 'nyt://article/031be2ac-5f2f-5e57-92ca-ebe7b6711508', 'nyt://article/161d960e-bc50-58be-8486-44f1b02e7a7b', 'nyt://article/bda4c607-5ae4-5e88-8427-fd20fb629b21', 'nyt://article/df20dbaf-d7c1-5a58-b6eb-e8387e796a51', 'nyt://article/84939ce5-ddc5-5a6f-a06c-37ce914d4df0', 'nyt://article/9276b34c-3b40-57d2-bd85-9bf252de076a', 'nyt://article/7a74f8f9-1c0c-52df-a259-403bb410d95f', 'nyt://article/cb7ef204-4197-5a10-b8ab-d79876d02710', 'nyt://article/0bc6eea9-bd66-588b-aeff-80bb1fca7417', 'nyt://article/09acb071-28d6-594e-b3fe-4799a7bac8f7', 'nyt://article/b462fdbe-b2e0-5a7b-8df6-f3c403e23f5d', 'nyt://article/1144da25-6dd7-5369-8457-6c700b537ae0', 'nyt://article/3c769e3f-a01d-565e-8352-792513d2b955', 'nyt://article/019cc577-cf26-51e6-aba9-14c984f884cc', 'nyt://article/5c6c8048-7220-53f1-9d4e-216b9b4d57dd', 'nyt://article/140d47a4-ae85-51ff-8c9d-7a66f47523d6', 'nyt://article/5054688e-a54f-574a-9e7b-7ffb6cfaec05', 'nyt://article/755b3a3c-0b30-581a-95b7-e40c0378c9ea', 'nyt://article/2832a632-5b22-5aa7-96df-983255497b61', 'nyt://article/b15ce464-f541-577a-8a24-df9874d9b2b8', 'nyt://article/72750308-710a-520d-8077-0128b76dbc62', 'nyt://article/8ceeb74c-0110-5697-af59-7e47b2a6ba75', 'nyt://article/799a22bf-04cd-52da-8621-923983c6b79b', 'nyt://article/2ebc8a6a-05f0-54c4-86a6-ea4a2fe3d45a', 'nyt://article/aad53d3e-9be5-535d-bf3a-2bf6928ebb12', 'nyt://article/11d1d712-8de2-59c5-838d-e087f09dddfd', 'nyt://article/2dbe967f-70b1-575a-9134-233cf7dfcb33', 'nyt://article/af22806c-5e25-566e-988b-541a5ef200e4', 'nyt://article/482228c8-15a4-5b2e-a76c-97227c49dbc1', 'nyt://article/3d887152-073b-572d-a0b0-3ab58fc02f33', 'nyt://article/ac748229-fb1d-5fae-a0b7-319fb0e6e157', 'nyt://article/472858cd-93e2-545a-9bca-ad6b2061b836', 'nyt://article/4ff0123d-daed-5869-94a7-48c73ddf6491', 'nyt://article/d7a79c9a-a6d7-5b49-b66b-ea7b6c697da3', 'nyt://article/da9eed42-437d-5aec-86c3-472bfa44824b', 'nyt://article/4c898390-82a3-5d21-9e63-bee012af32ca', 'nyt://article/2028ab73-b945-5eaa-85ae-58945f6df85f', 'nyt://interactive/2e8dd042-42da-5b56-aa1f-96c3c4d7b6ff', 'nyt://article/44eb3eff-659b-565a-a1ec-cec54e0f4c77', 'nyt://article/ee5eb31d-a1a5-5a09-8b26-dc053325846e', 'nyt://article/92c398bc-c844-5259-98fe-57dbfab2eb19', 'nyt://article/3f22844e-2bf7-52d2-989f-4b11d886f360', 'nyt://article/752b1886-c322-5f2e-bd4a-48cc30463897', 'nyt://article/0c590090-ca6f-54c4-ba2b-7c7617059c11', 'nyt://article/3dad367b-7abb-5c46-a377-3bc8630d57c7', 'nyt://article/506af149-2b90-501c-b50a-3fb4d9d28ad6', 'nyt://video/325cd8d2-137a-5a6e-8ff8-490eac566125', 'nyt://article/c074859b-f07e-59ae-ac5a-3b2b450c7b2b', 'nyt://article/39294cef-5f68-5a08-a6b7-9c6fcf66fb06', 'nyt://article/ecaa8424-7cbb-5b77-9d1f-d11919256cae', 'nyt://article/694722e5-9bec-5dca-b426-5e1d73bc31c5', 'nyt://article/1f5ef007-4c09-5a60-8f55-744934372bcc', 'nyt://article/f6b1d71d-9b89-5163-af4e-2c25687afb9f', 'nyt://interactive/7db7a662-415a-5f69-818a-b54b2c71472a', 'nyt://article/b465200d-6d3e-50b5-8d80-75081085dd5c', 'nyt://article/1dfbd1b3-3829-5ed0-b37b-8af8539d98e7', 'nyt://article/a3b53364-d66d-5b49-bbff-c691b660ccac', 'nyt://article/4e2d1f73-476d-599b-9b95-11fdb4394c5f', 'nyt://article/680aee49-f5ad-5e41-9d62-97acb290b87d', 'nyt://article/dbd833a8-db59-54f2-81b9-02d85db7ed65', 'nyt://article/32338471-a889-5e8f-893c-9de650970d17', 'nyt://video/7dcc0f71-14f5-5735-abd7-66342b2376b7', 'nyt://article/7f482b56-f2d2-5106-b5c2-263b495b3d81', 'nyt://article/7c6c5ad7-0244-5a88-8fa2-b0829e45aebb', 'nyt://article/bd0a7f12-0be0-5e7e-a360-519eb3902cbb', 'nyt://article/716875f5-acd4-5d2b-a64c-4a5b5741a1a7', 'nyt://article/e51d7144-a3ad-58a7-b2ab-f72fbf339d4f', 'nyt://article/71f10b28-0ac8-5c74-8101-a781d8b88dd4', 'nyt://article/a008167d-fddd-5f78-a94f-a5c20c40e7e5', 'nyt://article/6045611f-3f32-544c-9255-a5efa1b01cf1', 'nyt://article/ec210860-0da4-51d2-97e8-904cabab7c84', 'nyt://article/992a0b2c-ebf5-5c91-bb77-035d282d848d', 'nyt://video/7f069c5a-57c8-5cda-84ca-a40702b802c5', 'nyt://interactive/6f9dfc81-04c3-506a-9b14-985065235d43', 'nyt://article/94a329f2-7dd2-582c-a694-a756a5f5852d', 'nyt://article/9f1ef7b4-dbe9-51b5-b495-a4f0bf1451f2', 'nyt://article/7da9dd57-ed51-5e70-8241-1bf7040e909e', 'nyt://article/569993d1-fb5d-57aa-8940-c51ce3633fde', 'nyt://article/256a79ee-1780-58c5-9f61-8fb9341c1f8f', 'nyt://article/c2d9a088-2652-5f93-a3a0-9e9cd2c1b31b', 'nyt://article/5325bea7-8294-5880-9271-d86f80ee7a44', 'nyt://video/5d66abcc-b231-52c3-b659-20f1d80f18c9', 'nyt://article/5bb0cd46-4e50-5f85-a416-2b3fbbd28244', 'nyt://article/76dbecbe-4d0c-5f48-855d-6dff04a6991e', 'nyt://article/1a6a729a-b5d9-5783-8235-2a017c3797ea', 'nyt://article/cda9c78f-a2c5-51f2-bb6c-f1ebdee30802', 'nyt://article/a788c6c0-5cfc-590c-ac7f-4dff08add350', 'nyt://article/0a0d5fff-e858-51c8-a397-b9878dd5d1a0', 'nyt://article/4bbbcba8-047f-58b7-a463-bf0ac97eb607', 'nyt://article/7f461088-36ef-5e9a-9af5-fa296509b52f', 'nyt://article/f55e94af-a707-5e47-97b4-a52f92bef87e', 'nyt://article/4548fe2e-6560-5406-af88-afb9185bc574', 'nyt://article/99edfa44-e5a1-50af-b7b6-39d68c2e560f', 'nyt://article/c1df7566-51e6-5183-9349-aa26aa47a9a8', 'nyt://article/d35a2be4-8651-5b52-8cfe-d2f3296e0eb6', 'nyt://article/0a8e3d79-e89a-5ed4-8981-e4b9c1d50354', 'nyt://article/c4aec98e-ca64-527d-a788-2ef5dc2c5e8c', 'nyt://article/c6beaca9-6134-5acd-b6c5-616596f1719d', 'nyt://article/1f941312-2902-5da4-963f-ae6f5cd86439', 'nyt://article/c96b3b9a-6c5c-57ec-bbed-d450937bf68c', 'nyt://article/a580ad1a-1693-541e-8b44-143d56083844', 'nyt://article/ee314670-308c-5285-945f-84bc53fe90a5', 'nyt://article/10abe48f-4fe7-5008-af07-dbdc658259ee', 'nyt://article/9b68cad7-5db2-5b65-9b43-cdba75854545', 'nyt://article/603971a4-c18e-5c5b-8207-ac872b44fd64', 'nyt://video/68ea45f0-a15a-5b9b-9d23-47583defe934', 'nyt://article/97f24409-e7f0-5bad-822c-acf480eb76ca', 'nyt://article/3717da2c-fc56-584c-84a8-79c2c03d93cd', 'nyt://article/17579916-ca0b-5b2e-a84e-ef3a520f4b39', 'nyt://article/199675f9-310c-5104-a103-322d7d04d4a9', 'nyt://article/d52c8238-0112-5c63-b46c-805caca1c0e6', 'nyt://article/287d15e9-b5bd-5eb3-9d19-a4369c8f705b', 'nyt://article/a9d2e2a1-2db1-5704-9cfd-ade66d693a6b', 'nyt://article/62ffe15e-d6b0-5ebf-83d3-a34fc44964bb', 'nyt://article/34a704e7-0331-5975-bb4a-9cbfedd12885', 'nyt://article/352e1341-bdb7-5bd2-8672-face1c4984c4', 'nyt://article/23a6bcb1-85a4-51d0-b972-847fd8758b21', 'nyt://video/4c8e683c-1233-523d-ba40-4ff573c744e8', 'nyt://article/3def920f-2532-513e-919c-2ca26a78931f', 'nyt://article/4b9addb0-ece4-5275-a497-a5742b169c82', 'nyt://article/6fabf1eb-e0d8-53da-9f74-3e7e7e4326d4', 'nyt://article/506d22d6-0066-50f3-8500-6e72356aba4a', 'nyt://article/82c3ab0f-fe3b-5d86-998a-16c15c23f51a', 'nyt://article/e29bbbf0-cb8d-534b-9faa-2e389edc251b', 'nyt://article/b7b1dd48-bfc8-51ef-a8fa-21879c1e19c2', 'nyt://article/22741380-5dd6-5380-84f5-ed5ea29c71db', 'nyt://article/a988d12e-2d3e-5812-8e59-4296e40b202f', 'nyt://article/fd53c2b7-0038-5810-bffc-82c26b78d593', 'nyt://article/dba88884-4d7d-5750-bbac-289cd1cf4cf2', 'nyt://article/3b3d552e-a57f-53c5-8ff0-31113b14c493', 'nyt://article/f40b9e43-17f9-55e8-9370-cabc6c2a2d13', 'nyt://article/c5fb2795-a67c-5aad-b7ce-bad8adb856bd', 'nyt://article/3acfab73-83ff-50d3-8430-0cb4e2349be2', 'nyt://article/32539e60-583d-5704-88a1-15e73653af53', 'nyt://article/b6ce7edb-a375-5b2c-ba83-d322d815361d', 'nyt://article/92641805-06ec-5b59-be99-3e39512c583f', 'nyt://article/e9c89d4d-4ee8-541c-a781-9d97668283c9', 'nyt://article/3fba21b2-f951-5098-97f1-9bd61e433a7a', 'nyt://article/31d215b3-6054-54cc-8297-198cc7081556', 'nyt://article/476f76a1-91dd-5dae-87f3-db5da79f0854', 'nyt://article/e49b94a1-a8d0-5233-918c-33ea799c943d', 'nyt://article/74f685c1-dbee-5fdb-a27e-4dab4b2af226', 'nyt://article/02a8698b-e746-575d-b37e-7b04c79eacd5', 'nyt://article/73fd6413-092a-5d34-a70c-8f00cde3312c', 'nyt://article/e6eff96b-c865-54b1-856a-18e01a02c1b9', 'nyt://article/42d47da6-2661-5822-82e5-6ec86f1a388f', 'nyt://article/dbd195d0-acb5-51f3-94c0-c91cfa8d9a2d', 'nyt://article/c8df73a2-bcb7-52e1-a56a-8318086d725a', 'nyt://article/536e7878-561a-50e8-99ba-ef4b1ac5ee7e', 'nyt://article/4e56c826-238c-59fd-8398-d946b54cafaf', 'nyt://interactive/b9f9c273-99d2-5614-acdd-ff520e893d62', 'nyt://article/60e286bf-90a3-5999-abd8-0d47db8080a3', 'nyt://article/dbdcdf3d-f029-5dff-a4a3-8d5fb5bd202a', 'nyt://article/e3829944-3631-5618-a43e-a6b7f3894bbd', 'nyt://article/2243d03f-acd2-5628-a14c-ceac812c7f56', 'nyt://article/01c04716-3a06-504e-961c-5ac92b022ea4', 'nyt://article/e55efa03-d492-594c-9640-6f699f962a45', 'nyt://article/90e7e151-69bb-5749-a07f-d18f9ccbe36c', 'nyt://article/d68dfe03-176f-5bef-ac8f-8356b37ebe8b', 'nyt://article/27218239-bc11-5e15-80e2-b663b0fcef23', 'nyt://article/3cf5e168-0189-59d6-b2fe-4b771aa842a8', 'nyt://article/7dabb456-eae4-5659-ba12-2099c2e7a1fc', 'nyt://article/86b8d35d-4e41-5c8b-82e7-2a09da95db5d', 'nyt://article/f7ac5606-38b2-5896-a301-194b4a883586', 'nyt://article/ee219c3b-c31d-5dee-97f6-1a8cb87a5fbc', 'nyt://article/944dd5c5-5751-54ff-8676-4abb71d7fcaf', 'nyt://article/8dc879df-0bfc-5666-90fc-588dee2a3638', 'nyt://article/a69c7170-68aa-5b95-b7f0-6c534ddd82fe', 'nyt://article/f9056355-2867-5957-be5b-5fae84e64cf4', 'nyt://article/18e5ff79-5054-5b3a-adcf-af96e67d5d62', 'nyt://article/964fa42e-2def-5178-ab7f-6f3eaa3840e9', 'nyt://article/aba101ee-b370-5aa5-bc83-d9e347daa2de', 'nyt://article/f4a1d113-1213-568a-9fb0-1214773765ec', 'nyt://article/d1823118-7bb5-51e6-9444-d382f3868087', 'nyt://article/1aa43b32-166f-5b5b-86d7-0de058a1e151', 'nyt://article/fc549e76-b494-5fb4-8ba1-d5549c3ee577', 'nyt://article/48b52263-dc03-5776-b117-ee3225e2e423', 'nyt://article/906b4e9b-f6c8-56c5-a829-d8a8f44f37c4', 'nyt://article/8260b62b-2405-52e7-97de-51b26a46c2cb', 'nyt://article/22edf542-d819-5470-874b-7bd9e3ebff83', 'nyt://article/c8c53a7f-958c-5da9-b99f-28b91bfd1cc3', 'nyt://article/a88f2c07-14b8-5878-8ef5-3bb2a810ca14', 'nyt://article/0e91b0cf-6abf-5723-a3cb-e8633c2d2164', 'nyt://article/208c2f6a-924d-5d1e-a03f-996695ffc330', 'nyt://article/9d3dc1ee-dadd-52cc-a013-9f882c14ea8a', 'nyt://article/023bd541-1b26-59f9-a52f-42beb0487cbc', 'nyt://article/9314ecb5-5eb0-569a-88b8-e1a3ffcf77ae', 'nyt://article/83bca7c7-7596-5e2c-9eea-6d62859db832', 'nyt://article/6760b419-6b05-51d0-8ce5-154f382dbcf8', 'nyt://article/04b201fb-5a15-585f-963e-2fb2faaba0ea', 'nyt://article/0012a0ad-54eb-5667-a3c8-15d6b3d9d048', 'nyt://article/f8c13c61-d0d0-5fdd-b27b-2897b63529f1', 'nyt://article/0175e8a5-5910-51ad-a601-5277c3efddf1', 'nyt://article/cadd214a-9939-500f-a2f3-7aebf7a20faa', 'nyt://article/d59f86fd-bc6a-511d-9d57-614801f1b784', 'nyt://article/a6e42e41-e04d-5f2b-9c29-04586dbfd0c6', 'nyt://article/c7b1eee9-0bd6-5868-a9fa-750892ebe240', 'nyt://article/bf56ce35-304f-54cb-8560-ccdef084ed22', 'nyt://article/e83b9a4c-8134-530e-a6c4-51aa86838236', 'nyt://article/b7bd714f-70fb-5d22-af95-f26a8c107f02', 'nyt://article/d289696e-a671-55b9-841c-56130ce782d6', 'nyt://article/6b9bf558-1c17-5d85-9cb9-96957302965a', 'nyt://article/3b927a80-7aa6-5ffe-ba57-557ff839deb9']",
         "205"
        ],
        [
         "36",
         "British Indian Ocean Territory",
         "['nyt://article/3c040100-234b-5470-b2ab-0eee905524ef', 'nyt://article/7412a0b8-5798-512f-92b9-94089426bec0', 'nyt://article/e5314031-2e3d-5d39-83d9-210e3f501e95']",
         "3"
        ],
        [
         "37",
         "Bulgaria",
         "['nyt://article/e6b8866b-4bff-57e7-9c0d-824d3d2e425c', 'nyt://article/6a5bbb3e-eac4-51fd-8ff7-cf9c18c99aaa', 'nyt://article/411711d8-0299-5691-a375-9bf010543175', 'nyt://article/15a126ec-72f6-57fb-ade6-d48ae7eac43a', 'nyt://article/dc9c142a-e59a-504f-ba02-4f8789cd0be4', 'nyt://interactive/6567bdfd-4b48-571d-b37c-5369d5680e89', 'nyt://article/16dc485d-e114-591b-ada1-d45ee32a0431', 'nyt://article/7b8fbf6e-0c80-52bd-977b-e38aa98ca567', 'nyt://article/c6e1d0a5-e168-5ed5-8b84-908060e78042', 'nyt://article/6bdc54e5-e389-55a3-b461-fa1ef4cdf464', 'nyt://article/f9c5d4ce-85da-59a1-aae2-b9af2a666432', 'nyt://article/c3dabb96-3bd0-5f3f-b463-8dcb812d0fc6', 'nyt://article/961fe384-720d-5789-b310-105e7d3c0b9f']",
         "13"
        ],
        [
         "38",
         "Burkina Faso",
         "['nyt://article/8e9c68f9-7b15-536d-a7c7-9b34671ab74b', 'nyt://article/e7245a15-f2db-5f9d-9585-a92b309a28fc', 'nyt://article/f0140bc7-842a-55f6-a0b0-2993e7c1dd6f', 'nyt://article/180f7ee3-173c-5685-a2e5-5f573f4117fa', 'nyt://article/09ea409c-da04-5dda-9001-7cfcdea737eb', 'nyt://article/244cb9fb-1377-51ff-8221-63c988ea0b66', 'nyt://article/f53c045c-2311-55c4-9658-01bb0ae3311e', 'nyt://article/ecc5bfc7-5513-5e1b-a118-6e290e1ca70f']",
         "8"
        ],
        [
         "39",
         "Burundi",
         "['nyt://article/ec31d0fe-c8a9-5858-9171-7f2a5eccc64c', 'nyt://article/de5d2cfa-6811-510c-aded-0a3c48c11659']",
         "2"
        ],
        [
         "40",
         "Cambodia",
         "['nyt://article/0a45f15f-fa47-5f6a-a317-522b0410018b', 'nyt://article/fd4bb076-a665-5337-87ad-1cc6f7a34ab3', 'nyt://article/a7aa22f4-ab25-5b9a-8423-0fb76b3d474b', 'nyt://article/c440d31b-563c-55e1-8b79-503e757d6c5f', 'nyt://article/726871b4-d714-58fe-a340-8c80abe3cc54', 'nyt://article/1c0655c9-5209-59e2-b228-4fb6cbf6a297', 'nyt://article/8c726b97-3972-5467-9881-43a327c3c29e', 'nyt://article/c9e9340a-5c68-5755-8117-4b723356d58f', 'nyt://interactive/7c53d0e8-f08c-5155-b878-6ae27aa87510', 'nyt://article/abc6f2a5-94cf-5f32-b736-8bf0048916e1', 'nyt://article/ce205cfa-1338-5dcc-9137-05d62e27ec4b', 'nyt://article/3a4f0a34-3478-5ba1-931f-cc763237ab24', 'nyt://article/adcc7bec-5cc2-5d65-b4fa-e4c3a5b20ba8', 'nyt://article/b59182d4-693a-524b-88c8-e750fb96a74e', 'nyt://article/fc96dc6a-d4bf-5a8a-a149-9fac58844067', 'nyt://article/6ff00f2a-405a-5b74-99e6-f98f9a409884', 'nyt://article/bc243082-36e5-5cb2-be1a-956d02c28f39', 'nyt://article/b705a9ec-9b3f-5fb4-9775-a9d7bb301f5e', 'nyt://article/8ecee37b-633f-597d-b9b6-1300b012ae96', 'nyt://article/763f15f9-c0cf-5333-80b7-690312b01ac8', 'nyt://article/c6aa1a0f-0410-590c-ac89-523e3b855dd6', 'nyt://article/b7bd63d6-900b-5ca0-84c8-c3bde7b89cf4', 'nyt://article/f77eea6e-9e4d-5910-9f66-49f09fd9b59f', 'nyt://article/1e9f9ee1-1d31-5c6f-8f3f-e332449f871e']",
         "24"
        ],
        [
         "41",
         "Cameroon",
         "['nyt://article/fcaf05cb-0e4b-5063-a3f8-ef729ede2429', 'nyt://article/c5fbdca0-e1f8-53a4-a6c7-33fddc6ea359', 'nyt://article/1dfe1dd1-4683-5496-b7d8-ac104d563057', 'nyt://article/50da83b5-69c8-52fc-a1b7-e174d4f3f07d', 'nyt://article/a988d12e-2d3e-5812-8e59-4296e40b202f', 'nyt://article/d4e8d43c-b797-5d94-8de8-bd4b668e4abe']",
         "6"
        ],
        [
         "42",
         "Canada",
         "['nyt://article/e4c02236-1695-5480-b0db-f8f7b209c81b', 'nyt://article/9d0c2b26-3afb-5f53-a4ec-f0c2d300fad3', 'nyt://article/120e4e0d-239e-5b52-83bd-462598928a5c', 'nyt://article/f832574f-de40-5dce-91a4-89e32cf28a22', 'nyt://article/99c41f37-9ce1-5683-8d49-1a5e8d953912', 'nyt://article/fb39f5d9-f7d1-5770-9546-9cf69c881730', 'nyt://article/ea81caec-bd89-527b-962f-ec30cb1338d7', 'nyt://article/21b66d2f-6518-5f89-95c5-ff6e82c16aaf', 'nyt://slideshow/f37e4394-fb7c-5d0f-9158-50dea898324c', 'nyt://article/9195049c-81a8-56f9-821d-c3e82543e1b0', 'nyt://article/1485ed75-1ac4-563f-a0d5-41912f621902', 'nyt://article/91f7abe3-2818-5df4-9629-6c18bc2d2e1a', 'nyt://article/935764cf-a716-59dd-9734-9631cf445acc', 'nyt://article/8aaa5ccf-c6ec-5954-950e-dd8609b840bb', 'nyt://article/290b3664-6ae1-5700-91b8-bb79f06c4a06', 'nyt://article/c85a30c4-1ac4-5087-9304-766767ca3c6d', 'nyt://article/a6341227-7665-520e-befd-db6d3178dac5', 'nyt://article/1f4e37c0-7498-5cf9-8dd5-8c9f61ab2a1c', 'nyt://article/3cc220c2-20d0-5bae-a734-f43830448d6e', 'nyt://article/f58a0237-b841-5b97-9136-9a3276a382f2', 'nyt://article/05b7d2e0-7b61-572c-870a-67b39a46eb40', 'nyt://article/2ed420ee-0ce2-5663-8a0f-c7291e3515b0', 'nyt://article/0545574b-8d69-5150-a0bc-6109c9655243', 'nyt://article/74e12c53-c6c2-5e3d-ad6d-6a96fa680993', 'nyt://interactive/b7174af5-7083-52fc-8f94-14dfeae60af3', 'nyt://article/bb5ec966-98ae-501f-8518-792edcebb3f1', 'nyt://article/20d2c87e-6b0e-5e35-87af-572140d3771d', 'nyt://article/c75b899c-0971-5059-8c8a-40e7c7d423d3', 'nyt://article/f5361eb9-ce20-5c3b-a7cd-c8ca7d4eb96c', 'nyt://article/f2d84094-2a35-519d-97aa-eb51bfa8e2af', 'nyt://article/2bff4b72-9a09-5f4e-b306-8086ccc84af1', 'nyt://article/9186ee46-25be-5f12-bb19-a46dfc51e06c', 'nyt://article/05fb3aaa-6adf-5ce7-ba15-4d874e0eac98', 'nyt://article/8140c979-c1c6-5893-985f-12d647719870', 'nyt://article/10687ff9-3640-559e-b5e4-053cd97d4576', 'nyt://article/e1d6f178-488e-501c-86f9-5bff6504c963', 'nyt://article/c391aea8-2566-5436-9615-5b9eb158bef0', 'nyt://article/798e48f9-1b82-5b72-8ef5-e4daa2a9b03c', 'nyt://article/67c26a6f-e493-5a6b-af85-7bcb57ce8763', 'nyt://article/26217966-86fb-5795-aced-96dc4bac340a', 'nyt://article/71d72921-2bcf-5a61-b712-2f98f27bab83', 'nyt://article/9f5e3842-82d1-5e66-915f-ab93d564c7ca', 'nyt://article/653117da-ff41-5985-9217-2e107ae21e40', 'nyt://article/3793cd21-b7af-572f-8bed-7bd86dfe6870', 'nyt://article/0c212d57-0a2b-5539-9629-703a2571e33b', 'nyt://article/596cf5b2-02a4-5626-8d65-0a28f3dc57e2', 'nyt://article/6ff19930-da65-5e50-b4de-9916219e5784', 'nyt://article/d035a97c-2815-506a-8be3-4c712c286f67', 'nyt://article/e0c857ae-bf90-56ac-a0d3-a7d3e757b91d', 'nyt://article/fde72b8b-b1f9-52bc-884c-9c22151cb587', 'nyt://article/8a191ef6-c2a1-5ca7-b0c4-e67ce76b3829', 'nyt://article/8b200636-8df5-5caa-8daa-308efea287b0', 'nyt://article/52785eec-b875-54e7-bda0-32416517e391', 'nyt://article/7b7169c6-99cf-525f-84e1-0ce179f9a081', 'nyt://article/6d00d161-7f85-5c4f-b3da-005045a05de5', 'nyt://article/6272e4c4-70af-578e-b71c-ed858ed48f31', 'nyt://article/ba0c52f6-68b7-595c-a908-69b8a2cd35f6', 'nyt://article/4111e042-66dc-5cdf-84b9-611e9b6a8187', 'nyt://video/adf1f29f-2817-59f3-9b46-99c69eaab1fe', 'nyt://article/5c379f18-956c-57f6-b04d-3835f6df6c54', 'nyt://article/9ab314f4-f64e-5d52-a509-899134f4c036', 'nyt://article/c2a0e691-a44d-5aec-ab16-1f5a434efa98', 'nyt://article/cf1c881d-de6b-534b-86a2-925221dc63f2', 'nyt://article/a008167d-fddd-5f78-a94f-a5c20c40e7e5', 'nyt://article/6b81166c-1678-51f4-aef8-5f4e34aab8e8', 'nyt://article/7b1f933f-c9aa-51e6-8a67-5e0ccbe59d3b', 'nyt://article/dda12879-6477-515f-b996-b72659942e35', 'nyt://article/8ea22a88-940c-59eb-b869-aa8ccf5a50b9', 'nyt://article/546a73f3-cbf8-5f41-aaab-23ff75fe0b58', 'nyt://article/5fac99ab-8221-576d-bfc1-c84dcd8a8408', 'nyt://article/9f65bfdf-21b0-583e-8f42-252eee77cca9', 'nyt://article/4442ce9d-c553-5fd5-98e9-fec26eb78212', 'nyt://article/2f3ed7ac-6d90-5aed-9e1e-79e8fdbdfd0c', 'nyt://article/ed5ba83d-fed3-5746-863f-3b16b71e3864', 'nyt://article/c204a5ca-c330-5ea7-9a1e-1d39712abafa', 'nyt://article/59c84b6e-748c-51d8-b628-2a8db7fac7f1', 'nyt://article/cdecb5f3-3958-5c6c-b0e3-b9c792ceb944', 'nyt://article/40aa91de-4319-515f-9abe-b2b438da6e43', 'nyt://article/a7c548a4-c67d-5ceb-a6c4-165f694fa3c7', 'nyt://article/296e6d59-7af3-5196-9696-249b9066ceb4', 'nyt://article/015c74b4-2f1a-5b9c-a2da-a209284ae6fb', 'nyt://article/8e2f78a5-8a57-5bee-b02a-4e001d3c7037', 'nyt://article/2401f549-7990-56aa-9e65-8c7095b3b506', 'nyt://article/8c8f3d31-ab16-59d7-899c-5a9ce7133ef9', 'nyt://article/7f782322-27f2-533e-a2bb-8ced50389457', 'nyt://article/bd1ce263-21e4-5fe6-a457-98687b849a07', 'nyt://article/f3e16e69-97bf-592e-b447-43cd7899718e', 'nyt://article/34471c90-472f-54ec-b703-39c79e23dea9', 'nyt://article/a1d11dbf-095a-51aa-9296-b03ba7442f96', 'nyt://video/e34e2b43-436b-5290-be3a-2e816ba74015', 'nyt://article/bb262d5f-a165-51e4-bafb-8443e7fca3c6', 'nyt://article/adab900a-3ca2-5afe-b1d4-477fc6bb909e', 'nyt://video/04b4be98-44e3-5a0a-8b82-e3697a74ed90', 'nyt://article/45d17653-b188-5f7b-80c7-f9bf3251ad89', 'nyt://article/40d8aacb-e25d-5905-a704-5678ef2be3a8', 'nyt://article/417aeb7a-24fd-522e-9ae9-64b0c8be1ab1', 'nyt://article/95494e94-7f8e-55c8-88b2-1a0a63c35d34', 'nyt://article/a76b0fc5-af21-5473-b5d2-3d61d5a497c4', 'nyt://article/b9191b7a-bbd4-546c-a623-adae3b48f271', 'nyt://article/f51c31c6-4ffd-5b98-98a7-f7c68dd97d64', 'nyt://article/d039c247-225b-5b43-8430-0724abc3c7df', 'nyt://article/2e173a82-6f5d-56ff-9a14-c1698f798c43', 'nyt://article/722a8687-4a4a-53d1-8356-d706c5104b93', 'nyt://article/04a21d9a-ecc3-577d-906f-754d2457224c', 'nyt://video/f4a65528-9414-57fc-a24a-4b0a0a3198f9', 'nyt://article/48813ce6-5e79-5686-919f-942f25d0b875', 'nyt://video/174ceec4-d49d-560b-bf62-f986be3ea01c', 'nyt://article/061b1d80-5b7d-5a73-a5f4-bcd2f5574ad5', 'nyt://article/de2f7f85-e8e4-5abf-8d67-4439a0c62eb5', 'nyt://article/f700f5b3-cdf7-5131-a7ae-0e208552229e', 'nyt://article/da88c5e3-7910-5b12-8e64-02084e6db26e', 'nyt://article/25197be3-2e84-57f9-9af0-8bc5d36c3998', 'nyt://article/c53c9271-b07d-565c-9223-5ae808535c9d', 'nyt://article/252ae56a-1dc7-506a-9f36-0210728aad0d', 'nyt://article/a38a7b5f-f638-5f16-bd08-ece1782e3a7a', 'nyt://article/8af83f89-4013-50c1-8b76-7e066e63bf24', 'nyt://article/92bcd3ed-f203-558b-b684-4ff4dce47cbc', 'nyt://article/484b0ec0-e05f-5f03-a5f7-a468f713665d', 'nyt://article/99313863-09a4-5557-a493-7d37d7464c23', 'nyt://article/18712011-c20f-5f86-b983-88447d3df3af', 'nyt://article/55a5b7fa-8f9e-5e06-b607-346177007093', 'nyt://article/54b605b9-85da-59be-91a2-d9703f3e34d7', 'nyt://article/3d60c6a3-8140-559d-a7d5-0ff60ea9fe07', 'nyt://article/7355e44f-b003-5eef-a1dd-49686f6d4f0d', 'nyt://article/41832675-8516-5f37-afb3-87f8aa6e7176', 'nyt://article/4e5b93b6-0a0b-5c89-aa4b-628cbc80ce74', 'nyt://article/ddb75aa2-e63b-5b37-8701-68701fffb7bb', 'nyt://article/48aeaf1e-9514-5a90-8b9c-53450c839d58', 'nyt://article/9e9979c9-f148-54e3-9d27-92feae97eb5e', 'nyt://article/64ceed06-f6b6-518a-8218-5a6b5d390475', 'nyt://article/cfc43048-bf97-5e05-a2a2-49fc6757584f', 'nyt://article/8779589b-361f-5a33-a0fa-8d40d293fd07', 'nyt://article/158efe9b-5473-5284-8355-a5fd177f363e', 'nyt://article/d285f7ab-c815-5f53-a22a-058e8b114184', 'nyt://article/caf2171e-6951-5bc5-9262-ce9e1494d974', 'nyt://article/1bafe307-fc92-5784-9db5-c72a17133cd2', 'nyt://interactive/0866fb7b-603c-5d5c-b30f-5417e0828352', 'nyt://article/6c78b3d6-64f5-5008-8ead-2d72a298cf9a', 'nyt://article/ecb890a4-1df1-5725-9f19-6d14bd1e7d4b', 'nyt://article/1e8c8760-213a-58a7-9a67-cd2d9376189b', 'nyt://article/f82939d2-bbb9-5370-b09b-67ab5a62096f', 'nyt://article/24ae1999-aa1f-5b4b-ba19-e7925866dfbe', 'nyt://article/0a9e1699-6657-5929-9c99-a663ed7df77b', 'nyt://article/954e28a7-846d-53d4-9dc7-8c5ce1865d3b', 'nyt://article/f15acd13-69e2-5ffc-9cff-2ec9f6645489', 'nyt://article/81d4cd49-71db-5b39-8631-8baf6987baa2', 'nyt://article/ccd6bc59-1026-5572-800b-4e683f862969', 'nyt://article/cbf4dfcd-f1b3-51b7-9718-cc4f097421e1', 'nyt://article/3dec1bb8-81be-50ba-b1c8-e2c971667d72', 'nyt://interactive/3d8eb06e-58e1-5faf-b0c0-266feb0ea3a8', 'nyt://article/6fd967b4-fbdb-5e93-b8df-97b4dd422f03', 'nyt://interactive/adcd4a0d-2481-52db-a838-5c746ff09a2f', 'nyt://article/bf3b713d-876b-5511-ac2a-43b805f771ed', 'nyt://article/9ebc0041-6d71-54c1-a962-16c7c5216526', 'nyt://article/135046eb-1684-51eb-a3df-c8a7e19190e3', 'nyt://article/74527575-c0ff-5c3d-a43c-b4a2c21b6d68', 'nyt://article/30705640-6c2a-5b75-b077-22925695c487', 'nyt://article/0a996aca-0daa-5d56-8591-56f6e889fa1d', 'nyt://article/a7c52daf-964d-5119-bbb0-d7d0c14ff969', 'nyt://article/beb18333-d51a-58d9-ab70-b3eec1426678', 'nyt://article/e149ad57-21c3-5fbb-a7c4-984d27338441', 'nyt://article/0c6b924b-246a-51cd-9237-8e2b6b630098', 'nyt://article/f43cba88-b5fe-524c-a6f5-effb3ce6f828', 'nyt://article/3becb3ca-09b0-5a00-a686-14f1054564b3', 'nyt://article/7c0a5bbd-3610-593a-8c7f-8dc6d6dfc46c', 'nyt://article/7034f641-b9de-592f-9441-8d1bd0e3c5bf', 'nyt://article/d42cf4dd-379a-5c9e-a024-c3520d605c27', 'nyt://article/e5cea9e0-72f1-5ffa-b671-74b4f448bf51', 'nyt://article/763c6167-c219-5303-82e3-56f37197a246', 'nyt://article/a72590e8-dcc2-5c4b-9522-e5fb52746cac', 'nyt://article/9e7f969c-0cac-5506-bf87-4af5c58df8ac', 'nyt://article/472858cd-93e2-545a-9bca-ad6b2061b836', 'nyt://article/b3bba0fc-9256-58ea-bc86-13885d1fc4eb', 'nyt://article/abc471df-b1fb-5d38-8f2e-9d23d54eeb9b', 'nyt://article/d5a012ad-9a99-5520-9ea1-14235f8ada6e', 'nyt://article/1255b67d-6f0f-5f68-a4f0-614c71684b01', 'nyt://interactive/ec72d4ed-d437-57b7-a17d-4ac919653258', 'nyt://article/da910635-c6eb-5bbf-b0ea-346796620104', 'nyt://article/0650ee41-0fa3-555c-8687-d66fdbfa5b86', 'nyt://article/4f6c4a22-3f73-584a-ad1f-b3ff235990b8', 'nyt://article/b72538c5-5c5a-54a8-a842-e0fb0abc6f76', 'nyt://article/7eacf093-fe63-57db-8d68-415218c2c644', 'nyt://article/cb2e6c80-2100-58e1-b619-b30f3ff38c8a', 'nyt://article/852d9c82-87f9-5e10-a6c3-7d37159a6ef4', 'nyt://article/8782e8e7-7fd3-5994-b6b0-da81a7656e7a', 'nyt://interactive/6567bdfd-4b48-571d-b37c-5369d5680e89', 'nyt://article/3ec017c1-6595-554a-a88b-1c7ec498fcf1', 'nyt://article/a3af89d5-659f-5c0c-ba5b-c88257825aad', 'nyt://article/48c730c0-9250-5a29-befb-8c3782b23c2c', 'nyt://article/2ce12f2c-06da-56ec-838b-e4fd5d4a51f5', 'nyt://article/79a1ac68-62bd-5ac6-99f3-79850ba5c64c', 'nyt://article/6d3c79e1-2de3-582a-b403-65a26d2f0a87', 'nyt://article/a5903af6-130c-59e5-a908-e26f9938ea55', 'nyt://article/379663b2-15ff-58c4-bf87-8f48428f8888', 'nyt://article/c9fe15fe-b0c4-549d-8d9b-9da720feca4d', 'nyt://article/c5bc4a5f-edd7-589e-abb8-d056a8eeb1b5', 'nyt://article/c3753e8f-090d-5bb8-a6f4-57c0e9c4749b', 'nyt://article/cbc02da0-d400-51bb-ab64-241b316a71b3', 'nyt://article/8a8966af-b5d7-59d1-b01a-c7155b69118b', 'nyt://article/2f59c68c-ac80-5793-a00b-fcbf162c30a4', 'nyt://article/dd203755-521f-5417-92d4-35af7c435005', 'nyt://article/3826423b-7078-5f7b-9d1b-dd602d53c5f0', 'nyt://article/10b68136-7d20-5392-bac8-0a29cbb85c8d', 'nyt://article/d8e3d127-cc0a-5be6-ad00-8ea85f6ba91d', 'nyt://article/dc1428c3-250b-584a-9419-666e69b2efbf', 'nyt://article/d1131961-9ed5-554a-91c3-84908bb112b0', 'nyt://article/598db2ad-134c-5f93-b294-20b40cdb422d', 'nyt://article/4dd03502-10a1-55a5-bd8a-9b95dec7aa1a', 'nyt://article/eb20bc8e-a4c7-54c1-9546-0fc830eda916', 'nyt://video/3b261cc5-c5e5-5481-9bf0-0b6e0aa298a6', 'nyt://article/d68c8a6a-f275-52ab-8d81-8c04f2538bed', 'nyt://article/ad665815-e98d-550c-947d-fe1b6b6c868f', 'nyt://article/fe1a7c93-0a1a-5d69-9592-73c1b4faa68b', 'nyt://article/1d5a61ce-b39d-54e7-90e2-561418801840', 'nyt://article/96b7b51e-f5df-5c06-9d22-2fb974b59a8d', 'nyt://article/954bc947-a7ee-5d8c-844c-c73c3c57ad79', 'nyt://article/e84c35f5-afcf-5d53-8a0f-764f23064278', 'nyt://article/96129e6e-c9bc-5090-a168-53362e2e1a3a', 'nyt://article/209519e8-7368-57a4-b8fb-53c598b9570e', 'nyt://article/eb30b779-fc18-5189-b22a-4affc0669ad9', 'nyt://article/d8ebc529-a63d-5374-94fb-50f8f4ae8346', 'nyt://article/937d629e-5c21-5863-9358-9b93767b194d', 'nyt://article/fd622ca4-65ce-5c63-bc18-f4397b3c9ec0', 'nyt://article/f55e94af-a707-5e47-97b4-a52f92bef87e', 'nyt://article/de9a146a-eeb9-5c0e-ba3c-08d5639de38f', 'nyt://article/2cd98abf-e3c0-5fc4-a332-c28f4d05bd9b', 'nyt://article/69e5aa07-b267-5af2-a35f-ef0897cfcd48', 'nyt://article/7b3fc537-a568-5d3e-b1fb-07e3166ec112', 'nyt://article/11e064ab-9132-5c67-8000-71515cf921fb', 'nyt://article/23f70cdc-83f0-565a-9092-1917199ad802', 'nyt://article/25ad4023-7d3c-50ef-93c6-e1542bf5b6ef', 'nyt://article/4ffa1602-d6da-511b-bfa5-9300c75b336a', 'nyt://article/ed363834-9e24-521a-b577-208e45c30e58', 'nyt://article/d13fadd1-27e4-5ba1-afc9-e29ea1b21756', 'nyt://article/07d6c3b0-2249-5964-981f-8a2f76357a27', 'nyt://article/51cea108-db92-54d6-9e13-b130ab2776f7', 'nyt://article/6851662b-ff70-5fce-941f-1cde598ee74e', 'nyt://article/83288174-3224-5d3d-a996-fc8833c11ba2', 'nyt://article/6b97fff2-83e1-5623-ab10-bd22f4b3d11b', 'nyt://article/39cf42c8-ec2a-5420-b524-0023012a23e9', 'nyt://article/bdc7c17a-fcf5-5b18-b9ee-237a06318d48', 'nyt://article/286278eb-4383-5af2-a8fd-1918bf98d6ae', 'nyt://article/6b3e5f76-e8cc-5a2a-b766-ece0ae95a82b', 'nyt://video/6086acbc-4064-58b1-83fd-817893a5132b', 'nyt://article/51b5729f-b195-538f-87fb-1b236248aa0e', 'nyt://article/b60263a2-9068-59e9-a217-de93a57bad73', 'nyt://article/0150f781-adde-5b51-a27b-5ee1a516ad11', 'nyt://article/1660ce49-08dc-5886-af6f-a77a3e9d2b90', 'nyt://article/5e5c3c09-42fe-5702-a897-ac99ed0da598', 'nyt://article/8171ed8f-1182-57f6-85f1-cd46924c8ccb', 'nyt://article/6fa39e37-a1a7-59f9-98b2-e701274b76d7', 'nyt://article/b305f553-8799-5dd3-9bae-9e56174a7a58', 'nyt://article/c66d01de-f1ad-555e-8b1b-8ef2081a8a2e', 'nyt://article/1e1089d5-7e64-5582-b2e7-cf0f2ae4f193', 'nyt://article/608e8353-e88a-55b0-a631-2eb964b06fc4', 'nyt://article/2bce4802-102d-5a1d-8447-582c8b445480', 'nyt://article/6c55a2e4-c1aa-5e03-92f2-fd058f9f97e1', 'nyt://article/5ea115c2-6b85-584e-9188-8f0e84251856', 'nyt://article/358c6fb4-cef5-5a68-95e9-d781ab2c0a7e', 'nyt://article/f39a5a5b-4613-5ba0-8934-46ed72a662e9', 'nyt://article/ff5238aa-7d0c-5c8f-aef9-88f6198b328d', 'nyt://article/fca9d08b-77d3-5839-a9ff-9497c4e92fca', 'nyt://article/ca3d0753-e32f-5c77-af3b-d37297d21652', 'nyt://article/be8e1ec9-d1ae-533a-999f-4b2361f5d223', 'nyt://article/94be81c3-c9ae-5796-b7ae-abdce8b7fe60', 'nyt://article/3828bc1c-aefe-5e8b-8af9-2785d4a3bd0b', 'nyt://article/af921fc9-3b42-54d9-b938-60a66b1f40b3', 'nyt://article/cb07d2df-9e20-5924-b241-6d950682c000', 'nyt://article/34755866-baa4-5af8-8f83-4ae4a24c97a0', 'nyt://article/b83b0460-2f2a-5fb3-9e39-87be25e8fba9', 'nyt://article/398e854e-4820-5aad-b0b2-b0daea8e6cd3', 'nyt://article/76e11970-4d69-5716-9b80-2820201d9f22', 'nyt://article/b1af719a-8776-5639-9313-d6d58829c681', 'nyt://article/827a3de4-4e4c-5bd7-9717-65d1772cd03a', 'nyt://article/b698781b-8a73-56fe-908c-a0e8d494755e', 'nyt://article/523ecdca-1216-518f-8661-a60972a5169e', 'nyt://article/05503b24-9042-52de-b3e5-a04464155a1a', 'nyt://article/cc61eec9-65fe-5f4c-a69c-0e0ab05f1223', 'nyt://article/4c959589-21ac-5016-8c6a-19e236bd4f4a', 'nyt://article/81012c29-8632-5056-97f6-60b9727c6848', 'nyt://article/871fc07a-da6d-535d-8c88-a472d013b2e6', 'nyt://article/b3e395bd-8d3a-5ca2-abb4-fd1712abb304', 'nyt://interactive/8377ca81-4dd6-5734-855e-69516f60001a', 'nyt://article/1d2f513f-a5c7-5272-924d-4f1abebc51d3', 'nyt://article/bca1acb4-6859-5c77-9504-2830f69f9fc5', 'nyt://article/792e1284-29fd-5573-9519-05e63be23de6', 'nyt://article/6da5038a-d598-5572-b54e-14e32267ddd4', 'nyt://article/23fbbff0-e90e-5f44-8372-7b9d902c284b', 'nyt://article/95cdfd7e-7224-5a7c-ae61-010d17ae31df', 'nyt://article/c6eedcd7-d9c1-579f-9664-616908b2dc25', 'nyt://article/dd42d45a-633e-50d2-af77-05359bbde678', 'nyt://article/0af8fc57-fbd4-5b61-8384-5a7d126db5ca', 'nyt://article/3b7883c9-8aa2-58ea-b78c-bfc99a59dc17', 'nyt://article/b7c1033a-4d83-536e-be8b-dc9549d65155', 'nyt://article/83a2be3d-8844-545f-9600-68a274a3ae67', 'nyt://article/c480d0c2-d171-5768-82ff-528b10888ca6', 'nyt://article/23ad3619-a76b-5125-b61c-5a0779e3e2e2', 'nyt://article/cabe133e-dec6-5f79-9aca-52bf0b37d91a', 'nyt://article/30ecf60c-5411-5907-af4d-6e4f0cb8534c', 'nyt://article/8863b5b1-53ff-51df-b691-fade8fd498d3', 'nyt://article/e64bd29f-c602-5e6d-9ff8-6da1edce98dd', 'nyt://article/7d9566d8-efa1-508b-b871-c96f5c5e1950', 'nyt://article/56fc027b-a20a-5088-9c32-f035411328f3', 'nyt://article/53418761-50d9-5358-b126-e45d191d4b8a', 'nyt://article/69b916dc-b719-5c6b-bc41-2775387dc309', 'nyt://article/0e6cfefb-5716-5224-a236-06e6c01c3211', 'nyt://article/1068ca27-eb20-5ba0-9cdb-502851a3b948', 'nyt://article/dc890902-a23c-56ba-bca8-5f8f0071a60b', 'nyt://article/fcd21d4d-a1d1-51b7-a008-8b594f0b96e2', 'nyt://article/99a4d448-069e-50d0-94cb-2de4742e8485', 'nyt://article/7a828e86-6353-5787-953a-335a2d7c456b', 'nyt://article/97b7a906-53ec-56a9-87c0-83a47c512b49', 'nyt://article/350a9c04-fd7a-5b60-b4a2-1792b74e399d', 'nyt://article/a2a28e01-b98e-5813-8400-fd7fb0ce2997', 'nyt://article/e95678c6-90d4-5cd8-a51d-8a8bcfc66be1', 'nyt://article/d34c1c71-e982-5637-9078-b594c9e60a46', 'nyt://article/ed165c11-21e0-5162-9a4c-f2aac944750f', 'nyt://article/df0e8e33-3a0d-52c3-8c88-23b8fec6706e', 'nyt://article/9e5bcce2-3cca-5ad8-8989-65a1f9bfe291', 'nyt://article/d5cb5578-519e-56ce-9f76-21ed88cdf444', 'nyt://video/6ad495ba-0cbb-51b1-9c15-d3ed0653e135', 'nyt://article/52706e7e-12c0-5c66-871a-95cfc0afc334', 'nyt://article/d28780ac-bc16-5a6b-bf75-1cd1c789d32c', 'nyt://article/2ab0ac1e-3e6d-5a9a-a458-5ab4561880dd', 'nyt://article/6b3a749e-396a-5e5b-8bc3-8f45849b2535', 'nyt://article/00c9e71a-7f0a-5304-a823-597495985f6f', 'nyt://interactive/f153fa1b-4a3c-5f0b-b399-a6293e30212f', 'nyt://article/e1beb64f-9804-5516-bc1b-d8d30e1b21c0', 'nyt://article/eac1f119-03f2-5f59-b64a-b7dcadf86b55', 'nyt://article/2b152871-d329-53e7-b3c1-f986d18c3ae2', 'nyt://article/b7e9864c-a04e-5c9b-aabb-a5a3ad3781b6', 'nyt://article/c9c4fe16-c986-59f8-844a-a3339d75f29e', 'nyt://article/f1921814-71c6-5e9b-8324-43714c23b3ed', 'nyt://article/e7e9526b-85b1-52e2-891a-26fa65711895', 'nyt://article/7a30ecf0-b551-5994-a5e5-2cfd30f0d66c', 'nyt://article/31f6c345-c8bc-5d0d-8c49-445b0f8a201d', 'nyt://article/682f16eb-d66d-5232-a79c-631ee22d3468', 'nyt://article/e953fdba-1714-5be3-807e-590dfb4d0e9f', 'nyt://article/f34a22d3-705a-51d6-a32c-44e1d0713054', 'nyt://article/39db45b5-6f87-5dee-9d1c-817323abd158', 'nyt://article/5862b2c1-da5b-59e8-9f75-11e86d6dad0d', 'nyt://article/d21daae3-37f4-5682-ae81-be3f39e59781', 'nyt://article/50d4147f-ef1c-5f95-942e-fc05b2d12157', 'nyt://article/f8f13337-8f29-513a-89f6-6163fbab4175', 'nyt://article/60be5c22-d9af-5545-85a5-3eaf22871b5e', 'nyt://article/9d2fb890-56a3-5af1-9bd8-abeaf02358e5', 'nyt://article/32c59c1c-a39c-5538-97bd-45cf57e19305', 'nyt://article/c72b539f-3fcf-52e3-92cc-ad6be4ebf9e6', 'nyt://article/7123c113-f19c-5983-986e-d9fed0a10332', 'nyt://article/7fde1996-d185-5781-bd34-1f8dffe80752', 'nyt://video/c13cf3f4-7024-5f07-a8ce-8d54d88dc8a1', 'nyt://article/0f4aeaed-decf-5bc9-9efc-c7d5d82bd9f7', 'nyt://article/4bed8f00-1978-51f6-80a7-73c78eb18b4c', 'nyt://article/d2111079-e7de-52a5-80be-54fb6fdd08aa', 'nyt://article/cd07671b-939e-52fc-8454-cadf23363900', 'nyt://article/5874b4b5-326d-59e0-8826-bd9507886414', 'nyt://interactive/8e1b2a6d-ea16-585b-a525-582d3f0db9ef', 'nyt://article/60d2c6b4-d097-5271-9c32-0277afdbe39b', 'nyt://article/52e2babc-dabb-5839-8f21-d22b32ece44d', 'nyt://article/301898cf-7af0-5bbf-8f8c-2ba5f98310d4', 'nyt://article/f1f642a2-039e-5a5b-8d1c-44f8e77867f1', 'nyt://article/7a93dfe5-8cbb-5f59-a6a3-b1146ff25563', 'nyt://article/7e228b1b-dcc4-573a-9f36-b831cd5201b9', 'nyt://article/73926ab4-2594-5938-ab0c-381e1123e5be', 'nyt://article/832c9cf6-ba50-5558-8557-7602513429c0', 'nyt://article/ed99f6eb-d805-56a3-b908-3ec1e2802ce4', 'nyt://article/96a55f9e-756e-5ddd-928b-789d304b5002', 'nyt://article/68172406-c15a-541d-8918-96f15c31dd2b', 'nyt://article/064aa37c-27a7-537e-8444-fe677768c406', 'nyt://article/4c80be0e-1575-539f-9670-0324837c347a', 'nyt://article/781e1cae-a5ee-59c9-90f3-44700abee119', 'nyt://article/40c7a261-fd3d-5fbb-bdcf-e98d8419d6cc', 'nyt://article/9d38f20f-68c6-5db6-8f39-5c82bf84dd28', 'nyt://article/6a1afc0d-23b3-5a5c-9e32-c1df928a7590', 'nyt://interactive/ae557018-3933-5e57-8b30-2f195b161811', 'nyt://article/b6ef76c1-45d7-51d2-80ea-17d4b907a6fd', 'nyt://article/4fb535ba-fcd0-5385-87c6-9a0656246517', 'nyt://article/61efa0ef-43d3-54ae-8387-66d17e19b8bd', 'nyt://article/e1c88ac9-9b3e-5475-943c-001a379b918f', 'nyt://article/6094fa8d-1e99-5f52-b122-115bfb5ac97c', 'nyt://article/5cc804aa-3191-59fa-a7d5-e68747cd5c06', 'nyt://interactive/532d12c6-7200-5f40-8e5b-4ec96686269b', 'nyt://article/e09d5df9-e70d-546f-9d55-9f4ddec8c103', 'nyt://article/c19d67d4-b550-5e54-8552-064ab7e2be40', 'nyt://article/84a5c425-42dd-51fc-86fa-c3cc7ea7600b', 'nyt://article/13143803-8bf8-5a7c-92b6-4a08bd6027d1', 'nyt://article/545460bf-f0c4-5055-97cb-9ac5f9c48880', 'nyt://article/652b24b9-44a0-5e82-a815-f9b8b7c77212', 'nyt://article/61d79dbb-b8e1-51f6-97ef-43b7726e9595', 'nyt://article/1f4e11c0-5395-5ac7-a538-839f74e1c545', 'nyt://article/7016e37c-af00-5b3e-86f1-bf15b2b71f59', 'nyt://article/f1ea4895-4345-59b6-81ea-0b9e08e322b6', 'nyt://article/11ab2989-3889-5a5e-9968-2ed9802718db', 'nyt://article/74f569e9-6ee1-502f-833d-eedb790bad0e', 'nyt://article/56660a8e-77b4-5242-80b7-322337cd5888', 'nyt://article/232d4e99-3371-59e7-a1f3-c0995febfc66', 'nyt://article/815861f4-349b-5eb6-9c9f-0253d9dcc352', 'nyt://article/8a790596-1e51-52d1-bbd8-a23a6bdbbe38', 'nyt://article/44ffe1e6-a153-507c-a295-5bc1bdb850bc', 'nyt://article/c0a0f857-ecb6-52d0-962d-b9803e401ca2', 'nyt://article/27e17fac-e79d-55d0-b308-36dc4dd7adf4', 'nyt://article/b9ce3296-964c-5e75-8f49-5ed457b6c4c5', 'nyt://article/96d8a0a3-c3cb-5d0c-aa0c-8e795b1414f6', 'nyt://article/3656a3e7-ebdb-5f43-bffd-fbd36db95f6a', 'nyt://video/b530af12-a8b5-5708-a305-6d045fe49f8a', 'nyt://article/f0ae8450-173a-5151-adb3-d0b5f4749bde', 'nyt://article/ff0464cd-482c-53c6-bb7e-00ae86228e86', 'nyt://article/e0fd0271-0db1-595b-908b-af8e53d6666a', 'nyt://video/6d5c158c-e373-560c-af87-d69baff3c33a', 'nyt://article/26cf0bb8-5b54-57f4-b61f-6717430a04c1', 'nyt://article/1736bba5-0842-5231-9f42-bbf512673416', 'nyt://article/8fe504d4-2e5d-5cb7-bcf0-b8f47125dc9c', 'nyt://article/5b529c9b-5b8f-561e-816d-92354390c19e', 'nyt://article/07886ca9-148f-5924-8791-cd02f6271af7', 'nyt://article/74445b4a-5b7a-5995-8470-ec771ec6469a', 'nyt://article/cde83fff-6b10-5e1f-ae26-4f7fda1d44e0', 'nyt://article/68d65e58-a57f-53ab-a86c-a8c5f50dc2f1', 'nyt://article/8ceeb74c-0110-5697-af59-7e47b2a6ba75', 'nyt://article/1c462645-d944-5401-b2df-0441a069b352', 'nyt://article/c56ce7c9-f343-5602-835f-e39ce9c2213f', 'nyt://article/6a1bfc97-d551-550d-9565-04a4dad326c2', 'nyt://article/969e5ae1-c413-50f8-a98b-62b53213c3c4', 'nyt://article/7ef2269e-de82-5754-84f6-3b685acc82d6', 'nyt://article/057efa19-09d5-5377-a996-48e669c07379', 'nyt://article/975b5c99-9580-579d-b972-7ddbd29a38bd', 'nyt://article/55431065-129a-5d0e-9380-c8bd4ee80114', 'nyt://article/9634d336-8811-51b6-b13d-86c9d2b65752', 'nyt://article/c313714c-bcdb-5c53-ae42-32e740f5c6a3', 'nyt://article/222db215-088f-5608-8a6a-8966b40a24fe', 'nyt://article/008688da-8a3f-597e-9dc5-73c497a61f53', 'nyt://article/e075daf6-6fe1-556c-8a83-25d6ce03833a', 'nyt://article/44ed7547-9d77-5b8f-8368-4ba4579ea493', 'nyt://article/b5f1df69-24bd-50b2-b3c3-287a8d233753', 'nyt://article/e05100fb-2910-58d1-9c6f-89e6227e3c07', 'nyt://video/019e96bd-15c3-59c2-9819-520bc4b63d3e', 'nyt://article/aca0388e-f8e9-5a13-98ba-ce129c4ddd0c', 'nyt://article/a1b2802e-014a-57ed-b380-5a16048b9414', 'nyt://article/a3e00b18-c078-5cfb-b6b4-1b99607225f4', 'nyt://article/675cf4e4-3ac9-5f4a-85ff-8ee7d9461441', 'nyt://article/0b1c6c10-3ff3-549f-90ff-3e42fb1aab96', 'nyt://article/e1da3cb5-18d8-5817-a684-aa932a20c9b1', 'nyt://article/22ead0fc-51a1-5a51-8927-333af05fe4be', 'nyt://article/c0f976ba-1357-5979-acac-cc02984d1fa4', 'nyt://article/67763624-8493-5a37-9ebc-cd39e4a4940f', 'nyt://article/2ccbcc75-d9f4-5938-afaa-d34c877a8b5b', 'nyt://article/ebb4948b-b390-5138-b10b-ff0e344fb613', 'nyt://article/863d7ce7-229f-50f2-abff-2ed220500715', 'nyt://article/c21f8c8c-8d3a-56e2-a481-cce52ca4a436', 'nyt://article/bf4a99ec-4a92-51f8-89c9-d903edfee7c0', 'nyt://article/3083e8da-e87a-52ba-be9b-259a2d04e149', 'nyt://article/e5471980-ba2f-5f95-82e7-937c6df7600e', 'nyt://article/ec3c6a50-29bc-5052-9288-d3629a3694ea', 'nyt://article/1686addc-6284-5ce9-a262-b35c4c891068', 'nyt://article/c8d05def-008e-546c-a98b-e8d99f080a27', 'nyt://article/dc0c6e06-eeee-52f8-bd73-014d854f0fb5', 'nyt://article/519614b0-7920-52df-b42c-dea6ce94cefe', 'nyt://article/366c9db9-b7e8-57af-9425-415e6572a64d', 'nyt://article/b716cacb-3505-579c-b15d-90b4b2e04e47', 'nyt://article/e7b0e0b5-e75f-509d-a9f1-e57c15e1493e', 'nyt://article/8f468b36-ad60-552b-8063-f7d3c415416e', 'nyt://article/2293e392-8bbd-5550-872c-92cea5e7ef35', 'nyt://article/713fa2cf-9ed7-5564-9b62-6fa7f4accc97', 'nyt://article/ac3f34e3-7bb5-5c3e-846a-d8e731e44970', 'nyt://article/0c14d559-6991-5e0b-87bc-4b214f2a51ac', 'nyt://article/14a42fb9-1ed7-52c4-a28f-6ec7b66ba7df', 'nyt://article/0ba00d33-cdbc-57fb-bd9e-9e6cdf32eea4', 'nyt://article/658e2488-2276-536b-aaf3-dac7d9959ff6', 'nyt://article/c441947b-2c83-511c-918c-51c1e92385ae', 'nyt://article/2534fda3-514b-51dc-a525-328b039a2e43', 'nyt://article/22219913-69fd-5794-a50f-28d243789dc9', 'nyt://article/b0caebd2-ef5b-5588-ad67-9b49c3b06420', 'nyt://article/4142adf2-ea1c-5d1e-9693-d76309c6dde6', 'nyt://article/14441454-ee6b-5dc0-85f0-cc8d0cc98c1a', 'nyt://article/9f67059d-b082-50d8-b809-ebd97db0155f', 'nyt://article/4c89690c-2d88-5666-b3a4-9cccd6ff4cfd', 'nyt://article/345ee78c-1013-5ed5-a0c8-c8c6f25db6e2', 'nyt://article/0c3058cb-61ca-5904-be77-178cdb5b7a46', 'nyt://article/4d123274-8627-5fd2-a13e-4e5d6c012faa', 'nyt://interactive/db2d684d-ccf8-53f9-9fd1-080cd3338b66', 'nyt://article/17ea0afa-d3ea-55a2-85a8-8799db99297f', 'nyt://article/865d1988-05de-5ad2-bc19-0aca7ba716a0', 'nyt://article/fd46fee6-68ee-5041-a3f0-816d4834889f', 'nyt://article/fcaf05cb-0e4b-5063-a3f8-ef729ede2429', 'nyt://article/0a4fb646-8bb5-5b60-9f20-e794e150531d', 'nyt://article/bbd016ba-d860-576d-99e1-0f251f01af53', 'nyt://article/bab3b504-c10e-51c3-b99c-dfc1a7173d3a', 'nyt://article/ba5abaa5-22e1-535c-99f2-b894651ce10f', 'nyt://article/55105b16-71c2-5e71-af6d-5fb2f3714351', 'nyt://article/fa4dc20a-629a-5837-8675-7342a7095464', 'nyt://article/0a9ab5ac-a54b-52e1-82de-f29562d2781c', 'nyt://article/4e76384d-764d-55e5-bd22-9009d4148189', 'nyt://video/052807cc-caa6-5a9a-986c-296570e7e177', 'nyt://article/475cda3c-4fa2-5f70-a185-ffe806cdefe6', 'nyt://article/81ec3052-805f-55df-8839-d68b7a459688', 'nyt://article/4336fc5e-b8e2-5566-977b-a86ef2fab052', 'nyt://article/0e335aca-12fd-510c-86c8-a5fde981ba37', 'nyt://article/c952cbc9-331f-5cf9-8227-8838df2f16bd', 'nyt://article/c0b9a73f-66ef-5b5a-a3d8-ee84f899d726', 'nyt://article/75122518-6cd0-5a5a-86d6-5dcb44147430', 'nyt://article/3e85dac6-d0f5-5748-9fee-5adfd79df0db', 'nyt://article/c24514eb-d6de-5791-9fe1-4914957f37cb', 'nyt://article/9d3a4a42-d615-5e9d-8db8-9779bfc63ebd', 'nyt://article/a97097b9-4806-5c14-b978-f217ff768843', 'nyt://article/01f28ad8-81c4-5ca4-90e4-892f9e50a336', 'nyt://article/8f179d88-c817-52b7-a3f4-4ce65e50c506', 'nyt://article/1c2f0425-7b78-5a8b-b17e-41ade1223192', 'nyt://article/3b6fbc1b-5d55-53fb-940b-b76fb9fea7ad', 'nyt://article/f2a3d085-b885-53a0-87db-1feb79c7f66d', 'nyt://article/d0e4ea07-9a28-5889-8870-7d9be3840876', 'nyt://article/c2180845-6df9-59c1-9d2b-8e9b26e23746', 'nyt://article/b0d12d7a-c8e7-5c36-bd3c-669590c80d57', 'nyt://article/34e910b4-d332-5692-8f7e-2a14bf4d7a2a', 'nyt://article/21c013bb-159c-5fe3-ad39-00456a9dcc80', 'nyt://article/7d406b18-def2-55b9-9989-3655459a43cf', 'nyt://article/e47215b4-6edf-5e3b-89a5-b62676df6375', 'nyt://video/dddad6d6-bffc-5a22-983b-35cfe597a14b', 'nyt://article/aef9a593-c9bd-5786-830a-e3fdae918eac', 'nyt://article/40ec6d4d-4dcc-506d-8075-d7d5019aac8a', 'nyt://article/4e775395-1936-5af4-90e8-12d9c6c7eed7', 'nyt://article/5c2a1cbc-5147-5eb6-bdc2-b082aeb8e67b', 'nyt://article/c36771af-a6d7-5c6d-9947-772def83cf6a', 'nyt://article/53fc122f-2cba-5278-a048-212c3eefc721', 'nyt://article/cb7d84e0-149a-5798-b619-9188593f11ca', 'nyt://article/8f540855-3f51-5e31-ba80-c6edb7146b1e', 'nyt://article/256daea0-f119-52cf-a824-1fac2f70e684', 'nyt://article/6785aee5-4103-5308-9279-33835b13793b', 'nyt://article/320f4170-3e38-5b8c-8a9c-904bddeb09d8', 'nyt://article/95f6009d-70fc-5b30-b7db-b11a9f607edd', 'nyt://article/93fa297d-4d56-547f-b37e-4b3fdb9987dd', 'nyt://article/c55ef6a6-e06b-5c36-a763-57c2ca0f7831']",
         "530"
        ],
        [
         "43",
         "Cape Verde",
         "['nyt://article/2277a789-ee94-54d6-b682-171604883d76', 'nyt://article/b31bf7b8-fd6a-5c88-b518-a92505671024']",
         "2"
        ],
        [
         "44",
         "Caspian Sea",
         "['nyt://article/ea2f8cef-794a-52e7-8891-8656b2891bab', 'nyt://article/d7ea26e8-b61f-5975-bd0e-ff455733ac5b']",
         "2"
        ],
        [
         "45",
         "Cayman Islands",
         "['nyt://article/07d7bc2c-4677-5ca4-aa52-b31e96846bdd', 'nyt://article/a456784d-b5fd-5a1a-b0b1-49f1a8739c04', 'nyt://article/caf98741-73b7-5dc0-bfc0-9314490fb22e', 'nyt://article/4d6970ca-53c0-51d8-8c98-f0ea58b16e2c', 'nyt://article/0539543b-5dd8-5dcc-a0b4-9893e0fa3ade', 'nyt://article/be74adb5-7a7f-5ee8-a978-63e5c8744895']",
         "6"
        ],
        [
         "46",
         "Central African Republic",
         "['nyt://article/8e9c68f9-7b15-536d-a7c7-9b34671ab74b']",
         "1"
        ],
        [
         "47",
         "Chad",
         "['nyt://article/34e514ce-6ebc-58f1-bf4b-d750eadc447e', 'nyt://article/2ecf5073-590a-5fcc-b7aa-5ca1d3743dd3', 'nyt://article/5a69ade6-b6a2-5b93-8d88-48c8d65c36a9', 'nyt://video/d650de63-1cf4-5371-ab0b-aa50a14aab59', 'nyt://video/c28cda1a-5bbc-5b9e-95d3-436104e991e1', 'nyt://article/0f131aca-c945-564d-8c22-d273f6fcbbdf', 'nyt://article/ed2d23a0-5c77-5be2-ae6f-0ca58fcdd1b2', 'nyt://article/82beab25-c048-5423-bded-f026e34edf06', 'nyt://article/d8309b41-b5df-51e9-9078-b09483edf1b4', 'nyt://article/897a0e53-6076-5a98-bb28-4d7d3df155a4', 'nyt://article/53118789-4397-5531-89b9-9058ba300f0c', 'nyt://article/a4b99254-7fbd-5804-9967-32ed3e43172a', 'nyt://article/018d4a58-caea-5a5a-8f20-e6c06873b688', 'nyt://article/7bc0f53e-3bab-5923-80a3-0d46cc92bdad', 'nyt://article/a9921911-82c3-5820-8f1d-ae6c7cba37d0', 'nyt://article/78237980-8280-5d83-8cc9-b408853106fe', 'nyt://article/428f1222-5c16-5449-988a-db38277c2e61', 'nyt://article/22ae90a5-47fd-571d-8389-0df2021b253f', 'nyt://article/8a51bb2b-1b25-5a46-8f35-05b9c5a8c6aa', 'nyt://article/2dbb5dbf-deb3-51b3-bf62-ae0ddca16e93', 'nyt://article/890d3351-1a2a-52a4-867a-fefffe6adb12', 'nyt://article/d24390b1-03b7-51b0-80ca-f005216014d1', 'nyt://article/b472a426-1803-590b-ab5d-a81aea32a425']",
         "23"
        ],
        [
         "48",
         "Chile",
         "['nyt://article/b68a2290-9b5e-5c72-b087-d61078994aa5', 'nyt://article/34399e0d-af56-5a07-80fc-04f64a7c0ff8', 'nyt://video/a90d2d24-3aa7-5ead-9734-4c843d1ccdd3', 'nyt://article/90e7e151-69bb-5749-a07f-d18f9ccbe36c', 'nyt://article/7bc80009-1432-523b-acce-5323e444a015', 'nyt://article/a337d30d-3b38-52cd-a29a-840133f075ba', 'nyt://article/3fa03e6a-e484-5eb4-aab6-02fe01b547b3', 'nyt://article/73dc9de1-a40e-5414-9f7d-8e2c20a79e45', 'nyt://article/4bfecea0-f385-5ad3-87f3-5170cb7e5b48', 'nyt://article/6045611f-3f32-544c-9255-a5efa1b01cf1', 'nyt://article/5cbdc28e-0139-57e6-90e4-a4cde6630360', 'nyt://article/fb0436be-af6a-50ec-8472-15c5151ff6c5', 'nyt://article/60ab25a2-31c3-50a9-a84f-9e9c424da10d', 'nyt://article/ab5ee955-9d3c-549a-bc1c-42066ba59a05', 'nyt://interactive/66ceff15-1a83-5deb-a558-5a51d705efcb', 'nyt://article/f0218d79-105f-595f-a25f-ac1976d9f4da', 'nyt://article/795e6730-0b33-58ad-9d63-8d7e664ea475', 'nyt://article/b1fe6db8-89ea-57f6-8539-f274d3da3b57', 'nyt://video/bcc72e90-73b2-5001-8106-da12ec781054', 'nyt://article/92bdf0eb-26b8-569a-9f52-f8c905270336', 'nyt://article/1dcc1506-e30f-50c7-a6a2-ad6b257d2d60']",
         "21"
        ],
        [
         "49",
         "China",
         "['nyt://article/5c62b3e9-4046-5b0b-8f06-017a74778128', 'nyt://article/b4aecf32-925f-571b-896a-f19904af186f', 'nyt://article/9e43debe-8e36-5732-81f4-297d92a907fd', 'nyt://article/c765e159-1f45-5245-9381-5aaed2efc2e9', 'nyt://article/27946192-266f-5685-abc7-ba294c123ff9', 'nyt://article/2761a831-1581-5d33-8905-651a1c0e7298', 'nyt://article/412b1dc1-8be8-5074-b1ff-fdfff463a71a', 'nyt://article/e4c5cb2d-e03e-56aa-83b0-76e1ff83190c', 'nyt://article/9b22e92c-8a09-5164-b279-e68d6bfbbddb', 'nyt://article/1b751eae-2c08-587c-991f-98a8b52360f1', 'nyt://article/190a4e7d-e267-5a83-8cfb-d283632b27d2', 'nyt://article/cc017fac-c1a9-5f86-a2a1-f03740d1533d', 'nyt://article/0f29ae96-41a4-5a52-a3f5-8db906441d97', 'nyt://article/93d95e62-482a-549a-9d94-b412d3999ff2', 'nyt://article/8562434f-34ef-50c8-a7a5-ea25f166dc5a', 'nyt://article/74c34058-2c1e-59ee-bcfb-1b1203781c65', 'nyt://article/e5724808-fc69-537b-beb2-7de60657e5f3', 'nyt://article/b2caad66-84d1-5bad-8e8f-bd8c6c33c5f3', 'nyt://article/03de21df-0dc1-57d5-9671-e52899848473', 'nyt://article/89e7078c-a881-5cbd-a0e1-28f310302b9f', 'nyt://article/9a38c9ce-b67a-515d-a364-88e8cedcf15f', 'nyt://article/f58a0237-b841-5b97-9136-9a3276a382f2', 'nyt://article/1443480e-78e2-5eae-b59c-330586617433', 'nyt://article/7774c1ab-cd09-5a0f-a730-21b99ab7e60c', 'nyt://article/814e5a9e-1ca6-5534-bb11-2fa16a2613c3', 'nyt://article/2ed420ee-0ce2-5663-8a0f-c7291e3515b0', 'nyt://article/d29b75bb-6852-5a01-bce6-89d749695cd6', 'nyt://article/07b544fc-01eb-5ea7-829e-fcf9fd22f67e', 'nyt://article/dc964c71-c1ca-56f8-a591-4769a736eca3', 'nyt://article/abaae27f-a5cf-54e0-a015-28e1deb3166a', 'nyt://article/29290a06-7f93-5b41-9c04-a32e658cbcb6', 'nyt://article/0545574b-8d69-5150-a0bc-6109c9655243', 'nyt://article/183850ec-7eec-5ab7-9588-871dbf89b4f9', 'nyt://article/9d200f8a-0df6-50dd-b40e-43fef63790cd', 'nyt://article/5b8ff491-2c0e-5a14-acbd-0d6f98b8956e', 'nyt://article/3db8ba01-1b32-56af-8bd7-371782a2c926', 'nyt://article/73e13e92-bb89-5463-ad90-f185fa39f493', 'nyt://article/ea0f6c11-f80a-5e5e-b94b-848e0d9900c8', 'nyt://interactive/6de81ae0-641a-5ac1-8f03-bab7c1058f8b', 'nyt://article/67b5d228-b2cc-5c4a-a261-045cc5e1f9f4', 'nyt://article/a6d1d059-8668-57ff-adac-bbd57cc0630c', 'nyt://article/20d2c87e-6b0e-5e35-87af-572140d3771d', 'nyt://article/9d2e7422-f485-5bd1-88bc-7c670da0acb7', 'nyt://article/c75b899c-0971-5059-8c8a-40e7c7d423d3', 'nyt://article/e5d1336f-ab0d-5b57-987d-0bf0ec80cb41', 'nyt://interactive/ba63261a-ad9a-566a-b91f-a9e7cd903aea', 'nyt://article/05fde8b3-8744-58bd-bc47-3adc11aee8d7', 'nyt://article/a10a6747-72b3-537c-b0e1-5d6121b26bd9', 'nyt://article/269985a5-bb10-5c8b-bcad-d47caca00d48', 'nyt://article/a9cec457-f827-5d15-a71c-64eb7a091a0b', 'nyt://article/014af8ce-ee57-533b-bed8-e41255b8bcdc', 'nyt://article/3c6ee5ba-7426-5cbe-ba38-a9a10ef8a635', 'nyt://interactive/5b3fcdd9-138f-5c70-b397-89d1cdb6959b', 'nyt://article/44870a54-effc-5faf-882f-84f72e18e928', 'nyt://article/cde0724e-3749-5739-b008-b3def17d6e19', 'nyt://article/35aaeb2e-5abf-50a6-8d35-1597d4fe3f9c', 'nyt://article/ed9ea558-d649-5c78-9318-ca9302a54d04', 'nyt://article/e2457a8d-8b1e-5e07-948a-e1c8e414cc60', 'nyt://article/12bb5c6c-4130-524d-a304-b2e306dbc16e', 'nyt://article/0a6dd91e-df3e-5814-bdc7-dab388230e7e', 'nyt://article/21f2a41d-ebd1-5762-8c77-9dc9cc92104c', 'nyt://article/30c3acc6-3e6e-537f-8fe5-dfaeaa7c96bb', 'nyt://article/ca566f32-0a14-5766-8203-7db11aed1182', 'nyt://article/c747beb7-1fd7-5287-a412-65b4bb849076', 'nyt://article/4fe1520d-0d7d-5344-a26d-0058015841ce', 'nyt://article/335b37b4-ab4d-590f-bed1-379cf16c7d9c', 'nyt://article/67c26a6f-e493-5a6b-af85-7bcb57ce8763', 'nyt://article/90add3f9-d8d7-58d9-a332-751ffa8ee240', 'nyt://article/54de3d4e-470e-5d26-8c5c-0ee695260a12', 'nyt://article/d3f5ede1-2b6b-533f-9994-ffbc02437341', 'nyt://article/2c32ba50-8c3d-5853-87a7-67518cdba998', 'nyt://article/e8acd6e7-54bf-50ed-b6c4-bc05734f00ca', 'nyt://article/70305dd1-9b28-5156-b9ca-21d7e2288fff', 'nyt://article/84b37e16-2e5a-54f9-82d5-8a0cc23253a9', 'nyt://article/311e1fac-12e5-5d1e-9730-6259d2ba7157', 'nyt://article/b38be870-e63a-5ce9-bd42-7c2856c8cf13', 'nyt://article/c9461fce-864b-5877-942e-cbca8ca01bb5', 'nyt://article/596cf5b2-02a4-5626-8d65-0a28f3dc57e2', 'nyt://article/3d5f6b28-8ab7-5039-a076-d866c6c895cf', 'nyt://article/0a3bb0b4-e877-5ca0-beac-53b91e5d339c', 'nyt://article/d035a97c-2815-506a-8be3-4c712c286f67', 'nyt://article/0cfd2b95-9850-50fa-9b5f-ed8076599965', 'nyt://article/890aac88-51ae-5558-92ff-60c230cd5e77', 'nyt://article/f8ce5a73-358d-5653-88f9-d7c37b8506a5', 'nyt://article/67a7856d-9202-5bab-8552-5a68e90d284d', 'nyt://article/67a1bc85-c88b-5265-ab2d-b758499f60e8', 'nyt://article/e5fb4668-b7fc-5cc4-80cf-bdf82b939694', 'nyt://article/2b26e11e-08da-552a-8e26-98d30818c431', 'nyt://article/4e4e41a2-f217-5c70-812e-d1e9ad3c526b', 'nyt://article/def15912-fd17-54c0-a753-0d2e68e0c7d4', 'nyt://article/f84c41f5-b0f6-54ff-9074-036c27cccb5e', 'nyt://article/1b64d90b-a458-593b-b411-dcc4d93a9f29', 'nyt://article/6272e4c4-70af-578e-b71c-ed858ed48f31', 'nyt://article/05156d9f-b3bb-5a65-9abe-60677c11440f', 'nyt://article/70b7b6bd-d669-550d-a33c-800048f481c3', 'nyt://article/e610dff3-38fb-5877-bd6d-34bc40b74115', 'nyt://article/00424f5c-1e4f-5868-ba29-a319e4071214', 'nyt://article/de0a2e56-fd1d-5423-8e82-d1a202abab2d', 'nyt://article/31e0a04f-f0ab-59c7-97b2-72a2e5cd82be', 'nyt://article/719032e3-1e4e-5422-a882-f155bf788a64', 'nyt://article/ab7574cf-243d-55c2-b9b4-f55fce203f32', 'nyt://video/2c2003e4-2fde-5b08-a93c-47c4437df9ed', 'nyt://article/7dd19b59-156c-5583-bd77-764448662a9c', 'nyt://article/90640272-f5b8-5021-bc55-249d649867cf', 'nyt://article/58eb7885-b6d3-576b-83e7-b5aa721a720f', 'nyt://article/2516893b-d689-5e3e-80fa-4172fca7b868', 'nyt://article/519b472c-97b2-5fa9-953c-22fcf833cff2', 'nyt://article/b7295aa6-9b4f-57b4-9953-6ea61e65a86d', 'nyt://article/546a73f3-cbf8-5f41-aaab-23ff75fe0b58', 'nyt://article/75940dee-5a0c-5c80-a1a7-0c0cf77cbb9b', 'nyt://article/c2d9a088-2652-5f93-a3a0-9e9cd2c1b31b', 'nyt://article/2c325e31-d5d9-560e-99d3-5dd90bd1ea17', 'nyt://article/e1c0e4ed-bd98-5a44-871b-a7c99674b3a9', 'nyt://article/fd81b173-a92d-5cfa-88d1-2e8dc06276c8', 'nyt://article/d9c05b51-74f8-556a-a5c1-28e809f66777', 'nyt://article/60fe78e9-5618-5202-8340-81e48d22cfd4', 'nyt://article/de730107-7362-56bc-99a2-9e4ab9141086', 'nyt://article/2563f9c3-e8fd-5ced-93cc-00c12b55e1c9', 'nyt://article/a5d435da-a58e-5951-ac5c-ae8955d52e89', 'nyt://article/c9daf0c1-5108-5dfc-9d61-34715efbe7ca', 'nyt://article/d05f9884-1860-5318-806e-37bacee1ec24', 'nyt://article/350794c8-f04e-5b6d-b8e1-b1d9a8d3f2f9', 'nyt://article/99682d37-a93d-52cd-986f-4b97c8115e42', 'nyt://article/db7ea6c7-3ef8-5fc0-9686-987e3c26a8e4', 'nyt://article/1eca91ba-61f1-577f-9608-55b60ca9f849', 'nyt://article/0e779eb5-38b9-5d8d-9690-564ed59d1dfb', 'nyt://article/1b8461bd-7b20-5622-953f-bc1eac22cbc5', 'nyt://article/62c3fbb5-c09d-5697-92ed-ae4f97044caf', 'nyt://article/875bedfd-99d9-598b-bd92-6445807f4397', 'nyt://article/4fb34a85-3b5b-5e12-bd7c-c40551c319b3', 'nyt://article/dc465414-bfbe-52c5-bfd7-d3d66c63e61c', 'nyt://article/a9f848a9-fc57-517e-ac34-993e9d52ddc0', 'nyt://article/ead52541-972c-5ab9-981e-5dae4131b315', 'nyt://article/d55c0888-893a-545a-9369-a3ee1564fdc7', 'nyt://article/04ac23df-0cf3-5900-be5a-f95bea170c4f', 'nyt://article/5d82d52a-40c0-550c-9f63-22cfbc2197ec', 'nyt://article/8e18ad2e-f48e-5154-858e-40a2ec8f10d3', 'nyt://article/390dfde8-1c25-56d3-ada6-76d6cab4dafd', 'nyt://article/3839ecd4-61d5-5af7-889e-b313210bbb39', 'nyt://article/ffd11c4e-c450-5ff4-9e42-528b03fafb11', 'nyt://article/86b5531b-3f5f-53bb-bda7-90ef3e36d7bd', 'nyt://article/f581031e-96ca-52c4-a1ea-1bc49abaf1bf', 'nyt://article/e6ce4d7e-813d-55bc-90e8-5a2da4061d77', 'nyt://article/33b51dd9-90a5-5457-937b-6ee1223e3fca', 'nyt://article/429f80a9-11fd-5b72-afe2-89ede1052ad8', 'nyt://article/dd4dd473-71a9-5a25-ad39-84d4d3c15eef', 'nyt://article/1aaac142-b69a-5d76-91fd-798c7324d18e', 'nyt://article/f7ab669e-8358-579d-a724-88f1e62f9e31', 'nyt://article/37be3852-7f5e-58a4-8ff2-9d07c5a945dd', 'nyt://article/e7647e21-ee5b-5bae-be87-b16d8a4b092d', 'nyt://article/24490768-f3a5-5976-a669-1b3e1294294d', 'nyt://article/34471c90-472f-54ec-b703-39c79e23dea9', 'nyt://article/dfcc353e-6376-5bec-83ae-d0fff6353551', 'nyt://article/a16ecda6-d8ba-53e2-8f54-2a8c7b3bb68e', 'nyt://article/603971a4-c18e-5c5b-8207-ac872b44fd64', 'nyt://article/9ba14a92-80a5-5da8-a719-97b82dafadf9', 'nyt://article/5446e55f-2bbb-5b04-89c2-998c6d1c7546', 'nyt://article/2dc53e56-189e-5f3b-b1f1-0206d3644d02', 'nyt://article/1b10293a-5061-5bf7-8a21-05531197da00', 'nyt://article/cc7ac1f8-3c96-5ce6-8e33-200dbbe00896', 'nyt://article/1bef1d63-0d6e-5b14-850d-7545d60c5f7d', 'nyt://article/6f97c734-e4a1-5de7-a066-ea389f0c80e8', 'nyt://article/e95afc05-fae6-5783-9662-63c45aa59d8d', 'nyt://article/515a4b08-b738-5b1f-8eeb-835ab2faceff', 'nyt://article/7ab6a151-51cf-5845-a9b9-55717947bd57', 'nyt://article/4f7d6362-3d2d-55c8-88c1-b19f1658ad64', 'nyt://article/95494e94-7f8e-55c8-88b2-1a0a63c35d34', 'nyt://article/9574c6da-0316-5221-b3f3-646dc203df0c', 'nyt://article/3288b7a6-a0ec-5b7d-9c33-b35d01db0694', 'nyt://article/b6e352aa-e7a0-5948-b4d5-335d37b10a6f', 'nyt://article/f5cbe30a-cc21-5704-9fd8-5e18c6211bf1', 'nyt://article/684f512e-a313-59ca-a6a2-7a074188d57a', 'nyt://article/0495e3ea-131e-5617-b860-0e39b30d0b8b', 'nyt://article/e9406e37-a944-5554-bcde-07b102370652', 'nyt://article/aff08789-3b64-5698-9ad7-6ad6a0d35bc4', 'nyt://article/89c8e9e3-fe76-5a94-92cb-414d811ee293', 'nyt://article/438729c5-1ab3-5cd7-9464-e2310b5da8c4', 'nyt://article/439ae825-a418-5d41-9547-95fc49e01ec8', 'nyt://article/48813ce6-5e79-5686-919f-942f25d0b875', 'nyt://article/cdd7cb36-3220-5ddc-8c2d-a24331d757bb', 'nyt://article/de2f7f85-e8e4-5abf-8d67-4439a0c62eb5', 'nyt://article/0ea83104-45f4-58a0-95bd-bba01db6ccaa', 'nyt://article/21cc9771-e4ed-5b75-8d25-68978053e072', 'nyt://article/ed54e45f-c14d-5bbe-922a-16e74e87c1f7', 'nyt://article/b0cc4393-81fe-59a1-bf48-3bba7bc5ab9b', 'nyt://article/792861f4-5b0a-57d0-8bce-64bad0d741e6', 'nyt://article/e3590563-5daf-524d-8697-cae25d698d44', 'nyt://article/0060233a-47a6-5f1f-8fc1-7462370154a9', 'nyt://article/3c603187-a5c4-50f3-a6ac-21bdd110861a', 'nyt://article/26eb46bf-4833-5c94-93f8-27ce852810d1', 'nyt://article/72e242b9-701a-5a82-a7e6-14078ac0a518', 'nyt://article/0ca8e598-18df-501b-a153-6ae15e6b62a9', 'nyt://article/ea35e105-380a-5050-b9e8-ee8cdc930b99', 'nyt://article/a558d0f7-86e7-5408-9bf1-d52c11ac9188', 'nyt://article/5274831d-6642-5b69-a4a7-5b779304f879', 'nyt://article/52c17472-eb7b-5acc-bc49-e6069fab73de', 'nyt://article/17e1638f-82e3-56e0-b263-eab882fb67f0', 'nyt://article/37631b15-f685-5ad9-bc8a-3482bdc1e0fd', 'nyt://article/6babd70e-058e-565b-b1a4-d007248e26ae', 'nyt://article/80a6c325-8460-55f4-8845-2dc0752804d2', 'nyt://article/484b0ec0-e05f-5f03-a5f7-a468f713665d', 'nyt://article/a2767e4e-840a-56c0-a70e-09cb828f1b10', 'nyt://video/098824e6-6f8c-58c7-8b81-eb1f0200fd75', 'nyt://article/ddedadaa-393e-5601-8ba3-7b968c818462', 'nyt://article/54b605b9-85da-59be-91a2-d9703f3e34d7', 'nyt://article/ee8bbe78-ff10-5fb7-bbae-0264deb64669', 'nyt://article/f7b7e471-4442-58f4-870c-91d1fd47ce46', 'nyt://article/151ac49f-d2c1-5ec8-87ff-3d486b84111f', 'nyt://article/aef87719-85ae-519a-b22d-240d8dad7fa2', 'nyt://article/7c222beb-de75-5309-a5d1-e06d0a1d4693', 'nyt://article/f8ea6292-0079-514a-96eb-7fffcc73ef3c', 'nyt://article/dcafa3a8-a6e9-5f1c-8395-537d992e624c', 'nyt://article/4e5b93b6-0a0b-5c89-aa4b-628cbc80ce74', 'nyt://article/690d001b-df5b-57e0-aaaa-e7446b577567', 'nyt://article/e816b831-630f-5662-b420-150dfb12aa1c', 'nyt://article/93600cae-6e9a-5361-b92f-3d8fbf218059', 'nyt://article/c41ee40f-7202-54f5-a5ac-16ae7b7e3abe', 'nyt://article/a3859a69-b73e-5465-8b6b-0581fd6ac0d1', 'nyt://article/32a7e1c5-5d09-5f1c-a5d7-9461c740c750', 'nyt://article/d7894a9a-8a7d-5db5-8ea7-f4c136d45aac', 'nyt://article/77da2d77-dcb4-5413-bffd-18d39be07412', 'nyt://article/38039c19-dd1a-5fe0-b851-9d72118b23b2', 'nyt://article/14bdb8e2-be5c-51f8-9f58-ab7b55fc490e', 'nyt://article/8779589b-361f-5a33-a0fa-8d40d293fd07', 'nyt://article/a4e49d70-993e-5dd9-b64e-5205047426bb', 'nyt://article/598207c2-a4ea-5f39-a0e5-0fd9d8e1ba3d', 'nyt://article/70a9eecc-3fd3-5587-a56a-15a006f8682e', 'nyt://article/0e4d2b1d-348a-50bc-a120-d8646a69b69c', 'nyt://article/49c379e1-8bce-5ade-acdf-1ab4dd818bf0', 'nyt://article/9b1c6bac-5951-5b30-b91b-61364ba90df5', 'nyt://article/d285f7ab-c815-5f53-a22a-058e8b114184', 'nyt://article/1dfb507b-b5ad-56b0-92e5-e75c2925a554', 'nyt://video/37ee3732-793f-5feb-b51b-888e04613c90', 'nyt://article/38c53eff-2302-53bb-9af8-0b8df1c5586f', 'nyt://article/1c1fdd9a-ea00-5741-bd83-384b1781f3a2', 'nyt://article/7e82ef39-944f-53c5-aa08-de76fb19ebb1', 'nyt://article/9232584f-34ef-5220-bfa5-9fe20ca889d9', 'nyt://article/04c78a01-a13e-5b39-b4a8-8d89de09d429', 'nyt://article/6f480fbe-f347-59f5-bf99-dbd86e64b720', 'nyt://article/68c292ea-4b1e-5c57-a1d8-6756c87611aa', 'nyt://article/f29faea0-41be-5368-b162-a4449beecb1b', 'nyt://interactive/0866fb7b-603c-5d5c-b30f-5417e0828352', 'nyt://article/992f17a7-97b0-5a40-a3e6-8b1736f848db', 'nyt://article/efbcf0b5-9769-5b16-a02a-62f38e84c0b1', 'nyt://article/e86671ea-3edb-5b5a-a301-91b177374f28', 'nyt://article/6c78b3d6-64f5-5008-8ead-2d72a298cf9a', 'nyt://article/76ea0e14-9309-5bbb-9c7b-1a3f269b6e96', 'nyt://article/7e9746bb-e618-5eeb-900c-f0c8aaaba195', 'nyt://article/69bf2fae-ea33-5e84-87f5-b3e59f68b186', 'nyt://article/f78de78e-c05f-5451-8bc9-881c2c1005fa', 'nyt://article/7175d55c-ec9e-5e64-a172-c8ef078afc08', 'nyt://article/6a2cd799-7099-5c3e-a62c-dd19d3e189be', 'nyt://article/1979f271-ea8c-575f-81a3-55dd00bfdb4e', 'nyt://article/f42a5efc-f848-5d14-9bac-b90533f3ca1c', 'nyt://article/69d8b568-c087-5740-a22f-df11248723ac', 'nyt://article/2310a1e1-ea10-5266-913a-594aa1da4323', 'nyt://article/bd25e5cd-4a19-5160-853a-83c7cede5753', 'nyt://video/22301706-0b41-5db6-84a1-52b2a870c0bc', 'nyt://article/5fc26956-3b1b-5f39-8901-a48631794bee', 'nyt://article/9611d8ec-a3cc-5b96-b905-425d40b464aa', 'nyt://article/0a9e1699-6657-5929-9c99-a663ed7df77b', 'nyt://article/1103ac1a-15d5-5a13-a7f6-3a436c762309', 'nyt://article/abb55571-8aac-5782-afc6-6bb652fb7611', 'nyt://article/49ecbf04-9dda-5d16-a047-c646750fa803', 'nyt://article/0624b359-b175-566b-b4ca-5a2cbcadb2f7', 'nyt://article/1733c798-2dbe-5809-bc62-8bbfd85a5644', 'nyt://article/974e6b8a-8429-55fb-bc7c-448abc08075d', 'nyt://article/04e7c02f-1241-5c49-abbd-df8cec4ef408', 'nyt://article/a22bfc5c-126a-55dc-884d-d2aaf13eea84', 'nyt://article/62908fd2-d5fc-5b8f-86a7-5e00dfea5a4e', 'nyt://article/5d23b24e-2946-5d3a-b5a6-e1a5cb6104c8', 'nyt://article/fe23ea72-9efd-524e-b770-f46c19d981d6', 'nyt://article/c148b78a-a77a-55bf-aa8c-a14d8fdd1605', 'nyt://article/f03a360e-0f2c-5e03-987c-a84f8e5480f4', 'nyt://article/9bdbec37-a12b-5e8c-82be-26bfa137b5b9', 'nyt://article/ba657134-7a09-5b66-b7bb-ec46bafb29a5', 'nyt://article/6968c9c3-e2f6-573d-b3b8-7ce861dc64c6', 'nyt://article/2a4b37f6-1665-535c-91aa-b2cb98ebfb6e', 'nyt://article/9276b34c-3b40-57d2-bd85-9bf252de076a', 'nyt://article/601c07f0-11b6-50d7-bfe5-f3eee23c5efd', 'nyt://article/cd8ea57b-5e5e-5f4d-9462-f2de05fcf6a3', 'nyt://article/5bd2d377-1bf4-504c-8d32-23486749e91f', 'nyt://article/9ebc0041-6d71-54c1-a962-16c7c5216526', 'nyt://article/6a24c2bd-d6cc-5dec-adad-3ae1fb76052f', 'nyt://article/95f44a74-1b0d-5e54-b555-c00904517609', 'nyt://article/1b1483c8-836e-509a-9ca7-7157228f6968', 'nyt://article/b10a6520-8976-5d53-a8c0-64aa5d4d9444', 'nyt://article/a4280389-f3ec-5cf0-a7bc-992333c046b1', 'nyt://article/a7ca49b0-cf5e-5ba4-bd95-b007c0f7a395', 'nyt://article/135046eb-1684-51eb-a3df-c8a7e19190e3', 'nyt://article/9aeae167-7e27-5e8c-bba5-18352a4ca368', 'nyt://article/9ec1a104-92c7-57a0-a9de-c84908fad441', 'nyt://article/ad98b6d8-b27f-5bc0-b44b-46022b396918', 'nyt://video/ec1361f6-3467-588e-b2bb-97b9e23fec03', 'nyt://article/54dea93a-deec-59a8-a740-2f9a9287ced1', 'nyt://article/a764056e-1a69-5eb5-857f-f59af730118c', 'nyt://article/38e0530b-d424-5ba8-9c4f-277eee69f102', 'nyt://article/7034f641-b9de-592f-9441-8d1bd0e3c5bf', 'nyt://article/b31bf7b8-fd6a-5c88-b518-a92505671024', 'nyt://article/1046ac6a-5f03-5d95-a7b9-37c47e153c5b', 'nyt://article/83c5a58a-29e8-5f6a-a339-b34e5dd4b5d6', 'nyt://article/429963b5-8f21-5ae0-b45d-1d47d114deb9', 'nyt://article/83c220e7-db35-57ef-bf5d-5248b0156efd', 'nyt://article/61dc1975-a346-585f-b8ce-5b034d78c404', 'nyt://article/f1c7786d-19d1-5936-8979-93b780ab4541', 'nyt://article/48aa1098-effd-59dd-8f17-4f95e425eaf1', 'nyt://article/c085dfe7-ca56-5e70-ac7a-316fdc3e99a2', 'nyt://article/a06dec7a-5ed1-5cc3-876c-eaea906be86e', 'nyt://article/c96d86ad-a2c9-5622-8050-12628e9c9f55', 'nyt://video/882f966c-07f4-5402-a5ee-0c210bff5039', 'nyt://article/037bed0a-43d8-561e-a9f9-3f0afb29dada', 'nyt://article/763c6167-c219-5303-82e3-56f37197a246', 'nyt://article/bc1bbc94-bf99-5a45-aa69-2b51c288addb', 'nyt://article/71159998-ae68-543c-9377-a8f1d15d84e9', 'nyt://article/830bbf9a-cd4b-5f14-a963-40484ed7412e', 'nyt://article/f6dcca34-9861-509e-b225-c379dbed9ce9', 'nyt://article/9b34d22d-850d-5a0e-802f-d6b578c7da1e', 'nyt://article/e636a5a3-984f-52c9-8bf1-c6034433ac2b', 'nyt://article/65ecef3a-ad16-5d61-8d18-cf5fd93e63c2', 'nyt://article/b3bba0fc-9256-58ea-bc86-13885d1fc4eb', 'nyt://article/fb0cd1df-30e0-5774-8ab3-762e52d62d60', 'nyt://article/599d6d4f-f168-502d-95af-c9ca068d0cfc', 'nyt://interactive/68d00c9c-ff81-5b67-a7dd-2d5858c48a0c', 'nyt://article/d7f99d0f-49a4-51b7-953f-864da0cc5307', 'nyt://article/eab69f8f-43c8-5591-835b-2b4fae4669b1', 'nyt://article/5a2fde77-225e-5139-ae86-3b6c3e18a06e', 'nyt://article/25d0cd6e-1c04-5783-96d3-ddb72a3a813c', 'nyt://article/d5d8a4e7-92b7-57b4-adea-85b05ebeadf1', 'nyt://article/75bece23-64eb-58ce-b782-12fb47e656d1', 'nyt://article/11550bf4-e319-5872-b412-ea3a77083ad1', 'nyt://article/7042f8bf-2246-5dd6-8a34-4000a97be12b', 'nyt://interactive/29197e5c-4acc-5862-b896-e77ec4d36801', 'nyt://article/6555627d-5d2c-51d8-8f6c-426a717ca3c9', 'nyt://article/cfbfd14b-3009-528a-8bea-7c1f89141abb', 'nyt://article/f047f8c0-1263-5092-a5ae-d74ed5b7f208', 'nyt://article/cfb225ac-c2b0-53f3-9ad9-adc9226b6ca6', 'nyt://article/c0ccb1f6-20d8-5b9c-b323-805a5ce24793', 'nyt://article/44eb3eff-659b-565a-a1ec-cec54e0f4c77', 'nyt://article/8782e8e7-7fd3-5994-b6b0-da81a7656e7a', 'nyt://interactive/c5e32373-86dd-5420-ab85-99dd1564218f', 'nyt://article/c5a17a15-d5ca-532c-bf1e-e41950a1de1f', 'nyt://interactive/cdf3858a-2174-579a-8e2e-ac5857256a9b', 'nyt://article/a95edbe7-0f69-5cb4-a502-87db75dd7f8d', 'nyt://article/10453968-c7cb-50d8-ae37-8bc7d4bdeeaf', 'nyt://article/96563a98-5753-5722-82e7-7138d0257241', 'nyt://interactive/6567bdfd-4b48-571d-b37c-5369d5680e89', 'nyt://article/a3af89d5-659f-5c0c-ba5b-c88257825aad', 'nyt://article/0778bdd2-6d4f-526b-ad90-de7f74e23be3', 'nyt://article/5aef13d0-ba20-5ebf-b494-fd8b579750e0', 'nyt://article/bf77cc3c-2d4c-54d9-8ae9-e8dfce0fb9f9', 'nyt://article/d108fcbb-670e-589b-a95f-e421fb619157', 'nyt://article/6d3c79e1-2de3-582a-b403-65a26d2f0a87', 'nyt://article/b5d9bc50-56b9-5e4a-a501-aac38ddf50f7', 'nyt://article/07c328bb-ac31-5c0d-8438-d67518a9e80e', 'nyt://article/1fd0de4c-535e-59f9-bd09-e467dd06d91e', 'nyt://article/1190a41d-1986-5d8c-bbbe-7d214ee2b086', 'nyt://article/0bca8ab9-eebe-5cd6-a83c-ae65d5c406aa', 'nyt://article/7cebfe72-e934-5091-bb18-ca45c9dc14a4', 'nyt://article/2bbfd9a0-b962-5c59-b066-9b58e70a8269', 'nyt://article/1713e3f0-ba33-569c-973b-995da182e35f', 'nyt://article/40b910bc-3963-5226-836c-1af82035ba2b', 'nyt://article/e511b90a-b97b-507f-9a16-09e08f472166', 'nyt://interactive/eeaaaf83-dc38-5d4e-af56-adc327f7e192', 'nyt://article/9467621d-2f57-58c6-9a42-e9165c9daf1c', 'nyt://interactive/cc642ee4-fe2b-5644-8d06-20aa39e0bd83', 'nyt://article/c2615964-e9f5-566e-af0a-26545c1cc7dc', 'nyt://article/5edd7cc3-890e-5458-9f14-da9f61a277dc', 'nyt://article/6a0e395a-ec78-59cc-a1ce-120d53450e27', 'nyt://article/7e5b0dfb-602d-550e-b844-4f3b6342cdc5', 'nyt://article/bfc64ed9-8d62-5ad6-a37c-d447168e5783', 'nyt://article/92837fa7-e68c-50ff-a770-a57587560f34', 'nyt://article/9a18fa14-da18-58ec-b2a8-f615cf6974c5', 'nyt://article/748944e6-275f-5b87-931e-2ec094501051', 'nyt://article/cadaa480-6a52-57df-a52e-54a6a7c48453', 'nyt://article/7668a311-ff74-5167-9981-3498eb8355b7', 'nyt://article/c5cdc8cc-8958-5867-a859-16357a829650', 'nyt://article/5d18e1be-6a82-594e-b6c3-f37631bc5116', 'nyt://article/5c1d792f-aa2b-599d-8a34-bee688718ee8', 'nyt://article/3d313dde-d1fb-5206-b3e7-28a83be2a7ec', 'nyt://article/fed91a4d-0068-5b81-99a8-9786652de14e', 'nyt://article/eece1f44-6bfa-5f67-a196-08e6861d8e01', 'nyt://article/ce637822-d755-5ad9-8c05-72163042cf4b', 'nyt://article/18591054-bcba-5747-9842-66c643be9e65', 'nyt://article/abc6f2a5-94cf-5f32-b736-8bf0048916e1', 'nyt://article/dc1428c3-250b-584a-9419-666e69b2efbf', 'nyt://article/6933bb77-6eba-590d-a0d7-991f13507154', 'nyt://article/153cb511-3944-5089-8585-04292633b44f', 'nyt://article/14937c35-e2f8-542c-b004-5cae10dbbe7b', 'nyt://article/5523bf18-4be5-5507-9556-5d9b1939becd', 'nyt://article/ec210860-0da4-51d2-97e8-904cabab7c84', 'nyt://article/60d9d172-a078-590d-9142-bf820e8211b2', 'nyt://article/4a071668-510c-56cb-8a41-43339bdaf547', 'nyt://article/3666b550-c8a4-5393-b66b-d5ce06d79195', 'nyt://article/1290aaf1-c9cd-5c24-a794-380c335c1712', 'nyt://interactive/6256e38a-277f-5fb8-acf9-2adecfbfb3b6', 'nyt://interactive/151d61d1-6b2f-5ae0-82bc-dbb31484870d', 'nyt://article/72e05ef1-0273-5eb9-95e6-c40b965534af', 'nyt://article/eb20bc8e-a4c7-54c1-9546-0fc830eda916', 'nyt://article/ef68d660-c9c0-55b5-9946-caa70853c278', 'nyt://article/d6b3f129-9795-538b-b778-4043d18fb11b', 'nyt://article/60af2779-bfaf-5556-8d5b-385ef2ed7a8a', 'nyt://article/fe1a7c93-0a1a-5d69-9592-73c1b4faa68b', 'nyt://article/66dc70bc-ebcb-5777-971f-379541bf9dcc', 'nyt://article/3754be38-0c7f-578c-b2b0-28ed5e6e97af', 'nyt://article/cfd56cce-ff96-5054-a43a-cae19b1ebc7a', 'nyt://article/37b141f4-57e3-5d4a-bf4c-56347d70a5ad', 'nyt://article/c08c18e5-545c-54be-815b-5313f2e77100', 'nyt://article/7accbee7-9ff2-5c30-931f-61ddf7e3ecce', 'nyt://video/10eb749f-b2f3-5723-9888-5adb0f3e3862', 'nyt://article/25988a8c-9bc3-5d34-b4de-7eb019ac487d', 'nyt://article/6ee035c1-b517-5cdb-a644-532d54ff2ffb', 'nyt://article/911b3f87-a49c-552f-be3f-f84d6733be94', 'nyt://article/0580f03b-d2f9-5073-bd21-1d36ca64489f', 'nyt://article/42573488-505a-5f4d-ab2a-6f9e75a2c82e', 'nyt://article/4c19e8fd-74b2-5c2d-92f2-d926b693d082', 'nyt://article/6bcf25a5-be33-5cc4-9a5b-449b552241ce', 'nyt://article/d818ea73-b8f1-5b62-998a-debacbb9d20b', 'nyt://article/23fbc47d-7f7e-5645-8fcc-ca91d1e35243', 'nyt://article/3be1dec8-b137-58a3-819d-23ea823f41d5', 'nyt://article/c7fe2227-d990-5dec-9045-ed5307cd3587', 'nyt://article/937d629e-5c21-5863-9358-9b93767b194d', 'nyt://article/84f2702a-60f6-5c5b-989d-df856824c61d', 'nyt://article/25ac6f0e-835c-5062-8d7a-e7a8c0039c56', 'nyt://article/e724c152-725b-5f10-86d2-2d618b2158c4', 'nyt://article/fa9b3fd0-ab65-5952-9ace-54c2a0f9a86b', 'nyt://article/b997d269-a9a7-533a-9323-f84fbee38f18', 'nyt://article/63154839-63b4-5377-b4df-5abb87a97965', 'nyt://article/876dfabe-b5f6-5983-a12d-48ddd1de4c07', 'nyt://article/d35a2be4-8651-5b52-8cfe-d2f3296e0eb6', 'nyt://article/215fb7a3-aa07-54f6-97c9-ddc9ceb0274f', 'nyt://interactive/60b60b06-9482-5e5c-b376-364e7e0a37bd', 'nyt://article/0a161ae3-a347-526c-bc62-be2aca6a9262', 'nyt://article/c440d31b-563c-55e1-8b79-503e757d6c5f', 'nyt://article/aa4ce25e-163a-5912-80a8-07eeec3096d9', 'nyt://article/b411f0c4-9606-54d2-8db5-8cdfbd9a70f7', 'nyt://article/c27479b9-76ba-5def-9f07-ef8a9433283f', 'nyt://interactive/9c89d763-5676-570c-9670-b057987bc4d3', 'nyt://article/45cc2232-3205-5fce-a879-ec104b6a6145', 'nyt://article/80042c19-3ebf-5256-bc3a-8ba2110ec9a7', 'nyt://article/3cdaeeb1-7efb-5f70-9bc8-79a1100145ad', 'nyt://article/a17bfb30-6cdd-59dc-bfdf-1aef62f24352', 'nyt://article/f7d4de47-da38-5a93-9e52-ac603c9ee0a8', 'nyt://article/c67b1f5a-40a4-5bb5-aa10-0861d752cae0', 'nyt://article/1830f51b-761b-5ec4-afd4-aed999956d45', 'nyt://article/b169bd9d-1f3a-5a01-87b6-1898d546c08d', 'nyt://article/c6d592b8-cbb8-570f-a0b1-f4e365cd70eb', 'nyt://article/e7e5aaea-ed02-53d1-a66f-f70b664333c9', 'nyt://article/b44bbcdd-0f4c-572f-84f0-de1f935ddfff', 'nyt://article/061d354d-f484-5235-abf3-39d944b62601', 'nyt://article/ebbab030-31a5-528c-9cc8-44bf18ef8bc0', 'nyt://interactive/7c53d0e8-f08c-5155-b878-6ae27aa87510', 'nyt://article/287d15e9-b5bd-5eb3-9d19-a4369c8f705b', 'nyt://video/5e5f74a9-62e5-5a6b-81fa-7f5f976ea897', 'nyt://article/5027cff6-729c-5310-8118-7d0b70a739b4', 'nyt://article/3d623c08-8540-5051-8f51-5a7a76cdd4d2', 'nyt://article/55591bcc-42c9-53b5-bc0b-7567e8c20648', 'nyt://article/6c840cae-bf12-5fdd-8858-f4a45e5852f4', 'nyt://article/39cf42c8-ec2a-5420-b524-0023012a23e9', 'nyt://article/e7c26bcf-413d-5fdb-9e04-7593e5e69b3e', 'nyt://article/47188e80-9daf-5b81-b2a6-664c22d95da9', 'nyt://article/6b3e5f76-e8cc-5a2a-b766-ece0ae95a82b', 'nyt://article/b43c66ae-b8ef-52b6-ab7c-5b2b851af6ae', 'nyt://article/b7863bae-d8d0-56c7-adf1-3c4f41f9458d', 'nyt://article/3b3d552e-a57f-53c5-8ff0-31113b14c493', 'nyt://article/acd54e1c-7123-56f2-9541-73fb3877ed1b', 'nyt://article/51b5729f-b195-538f-87fb-1b236248aa0e', 'nyt://article/0605322e-8d5e-5ae4-9fb1-4698e09f52e8', 'nyt://article/c7a62098-e81e-5e87-9c21-85efbecd2023', 'nyt://article/38985b65-b862-5d12-984c-cfbd65e5d6af', 'nyt://article/515fa6fe-3970-5426-b0c3-086a007287fc', 'nyt://video/bd367dde-1bb7-59f9-a4e1-bf918d8a3e5f', 'nyt://article/bf3ddf77-78ce-575b-b3d5-136a12076be9', 'nyt://article/8171ed8f-1182-57f6-85f1-cd46924c8ccb', 'nyt://article/2ca29f15-c347-5daa-969b-77d9e3bbd393', 'nyt://video/686d69c2-99fc-5c03-80ab-37e6abcff49a', 'nyt://article/c66d01de-f1ad-555e-8b1b-8ef2081a8a2e', 'nyt://article/2f41cb12-b6ad-5c03-92a7-33c7b348521c', 'nyt://article/25a0f000-436c-5b05-b0f2-54bd20edf8df', 'nyt://article/b65ccd84-5303-5c0f-a3c9-48040e8ca218', 'nyt://article/b3937493-67e9-55fb-8aca-601b53f72e12', 'nyt://article/5f5712bd-13d3-5fff-aea0-be76f6ba6f0a', 'nyt://interactive/caa7a64e-05f1-5a71-a588-1e8f311db878', 'nyt://article/6769664b-86f1-506e-9a17-7ef09d18f8a4', 'nyt://article/e4d9255d-1190-59a1-8839-0d6a3c11fcf2', 'nyt://article/ec63f385-f7c1-5c15-b37a-dbec7208416b', 'nyt://article/69592dc4-03b4-51e3-80e3-d0575c755ba6', 'nyt://article/67d0a2b2-686e-558f-918a-4fd99ad66d89', 'nyt://article/f0dd9f20-0b45-518c-9bff-f03098d3ff15', 'nyt://article/fc0f0c0a-e25a-5aa9-9fed-b5c828ad1c2a', 'nyt://article/1434668e-a521-58c0-90b2-43b3220dd2da', 'nyt://article/ca3d0753-e32f-5c77-af3b-d37297d21652', 'nyt://article/3881b227-fb0c-5ccc-85e4-d4d6919c4ebf', 'nyt://article/8ffbe477-af2d-5230-b91c-17ec5bca29d3', 'nyt://article/22cc5dfa-bf10-5e99-8035-c692b9674e25', 'nyt://article/687b6d9d-5528-5fb7-ada8-9ab44ef6be68', 'nyt://article/925d6933-4001-5e82-8b13-1e23960807ef', 'nyt://article/d3c70d07-a70a-552b-856b-3644c2046d4c', 'nyt://article/65fbe2bf-c7e7-5eb4-81cd-075e4890c28c', 'nyt://article/9f25d00d-8355-5c22-98b2-dd12df3a6e1b', 'nyt://interactive/02eddc3a-9f3f-5bcf-be6e-4544b9394e12', 'nyt://article/17c3b15d-ee39-5478-b399-9e58c76621c0', 'nyt://article/5e20df3c-7e2f-5cf6-9a02-6fa25e9bec2d', 'nyt://article/2d46fda4-9df8-590b-928c-17f27350362e', 'nyt://article/ef7decf6-5c4e-5a6a-a78f-0dbf5ca945ec', 'nyt://article/7505249c-eeb9-590b-a3f3-e1db973facc1', 'nyt://article/0f66c62c-8e71-5937-9496-ad1bac657a61', 'nyt://article/62ce1b69-2871-5b80-a221-c3bacba6ab2c', 'nyt://article/4759e0cb-1b1e-56fe-bad7-106430b58d9b', 'nyt://article/5ee2a08f-fa7a-5ef2-866a-ecd6de1c59e2', 'nyt://article/ec5a09da-3ef7-50cd-b725-df2efad9f602', 'nyt://article/1d9f0c64-541b-54c4-87e6-6b964e71ea7f', 'nyt://article/7aa1fa4d-0315-588d-ab55-2a7c0bf82d25', 'nyt://article/fb05462c-0237-562f-80a8-eb606ffff292', 'nyt://article/ba781550-c30e-5805-ba67-d16608c0e732', 'nyt://article/b50c6da4-91b8-57b9-b57e-4a59f2612717', 'nyt://article/c34fd9a0-9374-528c-ae46-44b06f510a80', 'nyt://article/c49919e9-d1b8-5fc4-8239-0a8a1afaecef', 'nyt://article/76e11970-4d69-5716-9b80-2820201d9f22', 'nyt://article/e318fa65-f5b3-583b-a913-dc2e52dd6814', 'nyt://article/827a3de4-4e4c-5bd7-9717-65d1772cd03a', 'nyt://article/bafc0e79-263e-58bc-8c91-65f8c382f0ff', 'nyt://article/e611cfd0-31aa-510a-9f3f-767cecc677a7', 'nyt://article/3b59fcae-0d27-5cd3-881e-d834120bac28', 'nyt://article/b698781b-8a73-56fe-908c-a0e8d494755e', 'nyt://article/16cf5ce6-d83e-5fa5-9e33-3056a384844d', 'nyt://article/60cb0f35-a2e6-521a-9685-a7e8584776c1', 'nyt://article/49f16ac1-5da1-58e7-bcaa-df249a3199ae', 'nyt://article/124754bd-bfcb-52da-98b7-39cc84ebffb9', 'nyt://article/285e7f74-21a6-5399-8f70-ab3931020b4d', 'nyt://article/45033268-3489-5b0d-b52c-bd2b6751c14e', 'nyt://article/3f413a24-ffb5-5038-bdd5-c48942bab114', 'nyt://article/1cd3398f-4dd3-5611-af21-2cf4cfc8d1e0', 'nyt://article/6b160c22-8daf-52ce-bcc4-8097dfbf4109', 'nyt://article/37956e93-4d05-55bf-b155-97f94fa82df6', 'nyt://article/49be0271-0857-5c6b-a079-26f60f87ebdd', 'nyt://article/50806cdd-e3f5-50dd-a76c-1175c289572e', 'nyt://article/22a2c57e-4d7e-5dd7-bffb-4be433111e7c', 'nyt://article/e306323c-29cb-5b7a-b9bf-a44dc0231216', 'nyt://article/56b0d2a0-68b5-52de-a5d0-582a4ad8baaa', 'nyt://article/6bad65a3-c3a2-512d-a3b0-0557b1061f39', 'nyt://article/18455046-449d-5e25-bd9c-fdea7b7a9347', 'nyt://article/8505443a-8984-51cd-a607-54403e1bc819', 'nyt://interactive/307ff3d5-b9fb-502e-abc3-d680ff48cc51', 'nyt://article/eb73d642-987d-577d-8d81-1964d538d599', 'nyt://article/b84d0c73-959b-5346-acbe-faf26ff2f44d', 'nyt://article/8e362760-e983-578f-955c-9ea0aa70470d', 'nyt://article/3a2441ed-5653-56a7-b1af-89c0d31b31e1', 'nyt://article/6460d6ca-4569-57d2-85f2-9c8c81a87f54', 'nyt://article/1d2f513f-a5c7-5272-924d-4f1abebc51d3', 'nyt://article/0dd8dd68-d5f4-516c-9d3b-a60ad31786c7', 'nyt://article/2027a9a6-3637-58e8-9fbe-5fd17cea48b5', 'nyt://article/ec3233d6-6a42-5b22-a2c6-b774ba1f8d88', 'nyt://article/65c53b19-5ad5-59a8-b8fc-a81b450a3031', 'nyt://article/cfa3e933-000e-5df4-aeb4-82b905d67dd4', 'nyt://article/21af1b80-e37a-535a-be7e-c29af7275e55', 'nyt://article/c17c6baf-eb11-5e9a-8171-30a020962fdb', 'nyt://article/acb6c3eb-bf05-53ca-8375-007074871efe', 'nyt://article/357c61c9-66d4-57a7-ad6d-b10a36cada8c', 'nyt://article/f8f4c957-8ade-58b5-be49-79748481453e', 'nyt://article/ce9338a5-4eb2-58e3-82aa-9f55f0a1a1c9', 'nyt://article/40e94bbc-f33c-5610-b8ad-2bf807d1cba6', 'nyt://article/34e514ce-6ebc-58f1-bf4b-d750eadc447e', 'nyt://article/4165dde4-ae7d-5514-a23a-a0947d089afe', 'nyt://article/55b1b377-a35a-5b92-a16b-45439a697987', 'nyt://article/d4514844-759f-5769-991b-4ab27ce38c61', 'nyt://article/714dff21-9479-55d1-b5f8-012ec2ed30e8', 'nyt://article/6347890f-f1ff-52f4-8747-0297775968af', 'nyt://article/dd42d45a-633e-50d2-af77-05359bbde678', 'nyt://video/6f10e62b-e43b-500e-a00a-edc9a2ed2808', 'nyt://article/b84aa9c9-141a-50ad-8dfe-4b757debea72', 'nyt://article/9a56134c-ef36-5639-b56c-fd4a3e0263b4', 'nyt://article/f69d1488-0401-5527-b496-da5ae5ae7736', 'nyt://article/d839b076-45b7-5bed-9a48-43f4b9c45210', 'nyt://article/1d9c337a-da71-54ec-97dc-9d443356d07e', 'nyt://article/8765ba83-00c5-526e-bda3-6af0882299c6', 'nyt://article/d67b00a3-dca0-53fb-811f-3f3ee634d3d9', 'nyt://article/8a60778c-ba48-5819-b325-d4d90ee1e6ef', 'nyt://article/6549964e-97af-5ebd-9606-b2e6f4581a9d', 'nyt://article/5bc311b4-0346-5b70-a416-ac07c7791783', 'nyt://article/96d749ce-34b6-53ed-b173-8292c7d9b4e8', 'nyt://article/55ddaf66-e52a-575f-8a09-6a4ab618cf87', 'nyt://article/0a006687-d51d-57fd-a133-c5f861513794', 'nyt://article/131fb317-cb9c-590f-8130-8fbe5e15d7d0', 'nyt://article/05a076d6-9f2c-57f2-8d3f-5bd92502308d', 'nyt://article/a9df19f2-c8ac-5590-85f4-66943b5bf0fe', 'nyt://article/1547f037-31fc-50ca-b816-2b8d4097c800', 'nyt://article/ca0cee50-27dc-5c28-94a1-7b10938f2920', 'nyt://article/ac5369ab-9399-5d35-8562-20935e7d7e1c', 'nyt://video/797ab570-80f8-59b4-9db5-af5217e9ef92', 'nyt://article/ae7ab7b1-156b-56eb-b109-e0cc054f64ea', 'nyt://article/140e69b5-14bb-5b77-a494-4424cc7f8463', 'nyt://article/12588821-d19a-53d9-8123-43b4d74c7795', 'nyt://article/72bb025c-6d33-57fb-9ab8-89040ac56704', 'nyt://article/018476d5-b187-5516-9815-dec40a2a0089', 'nyt://article/c6ab78e5-03fd-5484-bb1c-5db3b7b01c1c', 'nyt://article/84261a49-b3fa-5ea6-acfa-2bc23f46add1', 'nyt://article/b16516fa-e361-5a8d-8142-274c80077fcc', 'nyt://article/18eb4aa5-6f84-548f-874c-e28d0b2589d2', 'nyt://article/307aeda0-c5fe-5603-a2db-095d90326e64', 'nyt://article/2679cc4b-64a0-5a3a-b74a-1ebd723a2606', 'nyt://article/53b2c41a-06df-55e5-b0db-e339d91eb096', 'nyt://article/dfff6493-0b18-55fd-b938-59741c41e860', 'nyt://article/fc8175d4-0559-5637-9f15-67fa859cb344', 'nyt://article/7d9566d8-efa1-508b-b871-c96f5c5e1950', 'nyt://article/a41f2449-36fc-5e0c-8dde-fd8e9ba11be7', 'nyt://article/da9cfbba-ee5f-5252-b37a-bd2a15aedc40', 'nyt://article/50a334dd-6852-5571-af1a-1da508e41a93', 'nyt://article/3e4ec31e-2a71-5157-af87-2af0b38affa5', 'nyt://article/90e2fb80-c710-5fba-9216-6c8948a3892c', 'nyt://article/8ba5ea33-5293-53bb-be7c-b50a4cc5e4ab', 'nyt://article/4ff0123d-daed-5869-94a7-48c73ddf6491', 'nyt://article/b61909c5-6883-5178-add9-2dc08320bf8c', 'nyt://article/3b5738b1-a4dc-55a1-9675-b4e7de0f8b62', 'nyt://article/9d2da093-8626-5c30-abb3-76423cfaaf7a', 'nyt://article/3bc2c225-5a64-529b-93e0-6328760c155b', 'nyt://article/69b916dc-b719-5c6b-bc41-2775387dc309', 'nyt://article/448d991c-37ba-52e7-9eb4-173aab4ef116', 'nyt://article/891dd14e-1df5-5eb5-a2c8-fb92c590631f', 'nyt://article/0cdb94f3-7586-50bb-ac76-25f54e4b16e7', 'nyt://article/80b9a3b5-fdc5-5e4d-b657-b297c724e8a9', 'nyt://article/4900c263-2f0b-5c8b-97b4-6dff0171d687', 'nyt://article/7ac2e9ce-c99f-5e65-be74-b121e82c8fb5', 'nyt://article/b8494f06-0f30-516a-bfb0-b01f6a5c0f35', 'nyt://article/9ca7c0d4-78c5-5304-af1e-8d3e6d51fa24', 'nyt://article/3116c2bf-9943-5968-bed0-21607cc10fc7', 'nyt://article/8aca840f-bded-5f3c-8e2b-5c0b377eea19', 'nyt://article/1fa88f47-d188-5fe5-b99e-4f099123d92e', 'nyt://article/3730b3b0-c048-55cb-812c-11e45922ec8f', 'nyt://article/4678b0c9-00f5-51dc-9b7b-0062afad799b', 'nyt://article/90628694-744c-514e-81e6-b5160c4496f2', 'nyt://article/78f5f4e5-4077-59bb-a61d-59e14eea99c7', 'nyt://article/d34c1c71-e982-5637-9078-b594c9e60a46', 'nyt://article/97087121-d74e-54ec-9d36-28f598ec5b09', 'nyt://article/cdeb7545-04f4-5622-b8a5-d42f1aebb47f', 'nyt://article/d29f3c17-614e-57a4-8c0f-19e016570c98', 'nyt://article/3e378519-5301-513b-9ff1-baaf73c2afe1', 'nyt://article/5784b334-7e3e-50d3-9e5f-29c72128f3d8', 'nyt://article/05d68392-6a45-5b25-89af-ec76b64ed558', 'nyt://article/1c0566f5-31f5-5aa9-aa99-1589e36b4847', 'nyt://article/2c4fcfe0-4152-5915-8da9-ff3f6df3f13d', 'nyt://article/e8bae8b5-6574-5aec-b492-88d3cbe13539', 'nyt://article/640afc5a-2377-5ecf-a8b0-028a5a47363a', 'nyt://article/400de6c0-f1ba-527a-bb93-43993c0dd380', 'nyt://article/fb2cfb26-43ad-5da6-a912-e8435b628c1c', 'nyt://video/2ab09350-9bf2-5ee3-b9d8-26624d30ef54', 'nyt://article/3950818b-305e-5b99-a4b9-66c609997ff2', 'nyt://article/3dbb9429-da87-52fe-a25d-e03d5aefcd62', 'nyt://article/d1edf1d8-d4d8-51f5-842e-68d9e24a86c8', 'nyt://article/19fc41f6-42a8-5cc4-88fc-6c0afa434410', 'nyt://article/dfaea0a5-fa0b-5142-a2d0-e85fe6a551cd', 'nyt://article/eef74041-b339-5b03-8b33-1dbfa3e28ca6', 'nyt://video/31cb5fce-5d9e-5879-b55d-b25f690bd70d', 'nyt://article/d5cb5578-519e-56ce-9f76-21ed88cdf444', 'nyt://article/02126b70-e97e-5267-992a-6f27fbe3f189', 'nyt://article/edc9913e-875d-579b-89af-5cd672a9d936', 'nyt://article/23f27482-7084-5b36-b49f-ea5c6cf903ae', 'nyt://article/7b236f5e-110b-57ca-aa74-fd61f516ef4d', 'nyt://article/38197ad8-247f-5f0b-9c39-9b6d3c5ad53b', 'nyt://article/f03944ab-a6af-57ec-b045-6f44300edaad', 'nyt://article/358cc48f-251d-527c-83ec-48a004d37557', 'nyt://article/ce5e26da-b167-5659-a2c7-e284e2046ddd', 'nyt://article/b3ac6919-689a-57f6-a689-6bbe1506a9e3', 'nyt://article/00c9e71a-7f0a-5304-a823-597495985f6f', 'nyt://interactive/cb19939f-e307-549a-9e77-0305a6e288a8', 'nyt://article/296339e3-f88e-551b-9154-33ab3a6ccd66', 'nyt://article/4b013fe9-3325-581a-ae1f-a4230b63f40a', 'nyt://article/12bbd9ff-9a5d-5ae2-8ae5-cb7f4753b536', 'nyt://article/67937f01-4df3-5d51-b655-a39c3e62c725', 'nyt://article/e1beb64f-9804-5516-bc1b-d8d30e1b21c0', 'nyt://article/ccf111b2-e846-564d-8e30-5079852bc1a1', 'nyt://article/18ff1ed8-29d5-5744-bf1b-55b476d31e95', 'nyt://article/946cde5b-2624-5c75-b6fa-5dbeb7eb955e', 'nyt://article/bcb90321-cb0e-53f4-875b-b9f6c9b43d2f', 'nyt://article/8fdc042d-b03e-5ee8-bcc5-4a671d329a9e', 'nyt://article/b6c9af92-650b-561f-a56b-c18ae2e41a84', 'nyt://article/4db5cec2-6809-52f5-aaad-d33c43108051', 'nyt://article/b2958c74-e4d3-5ae1-95c4-ac0af25f46f4', 'nyt://article/b40337c1-5381-5eca-a8a2-158fa9c08770', 'nyt://article/2cc2ae70-ef9d-5795-8e6c-a5e41d51e34f', 'nyt://article/7f0381f6-791f-5431-b63b-e566a37815ee', 'nyt://article/ab5ef75e-172f-5240-9f83-64245831a6e1', 'nyt://article/32c2c004-129d-5455-8271-e976e02329a1', 'nyt://article/61f62670-10dc-5394-9383-d704739a1522', 'nyt://article/c5e51fbc-7460-5d62-9b70-a19dbcd651ae', 'nyt://article/1440de33-3dc0-5009-bf2c-6396b30f92c1', 'nyt://article/191d9390-796d-5aca-8e8c-1e17de61e5bd', 'nyt://article/2c6805fc-a182-581d-8f54-9a8b00abb70b', 'nyt://article/06e77c62-d581-5173-99e0-24f05c7cf839', 'nyt://video/10e305cb-cea1-5643-9fb3-fb960f305711', 'nyt://article/d0660362-9f7f-5688-8542-e2e55ee075e3', 'nyt://article/d22b7dfe-b7c6-5fbc-bd41-d3be58124c1c', 'nyt://article/563d50e8-75b6-5315-be3c-7504aa507c84', 'nyt://interactive/13cc2119-9626-5520-8ca8-a5027ee94d0b', 'nyt://article/d9606ec0-863a-570a-be26-6c5ee1de1503', 'nyt://article/88f6826b-f58d-586d-9c31-2fc019d9371b', 'nyt://article/84093b59-54a2-55a0-b8e4-bb75c4316940', 'nyt://article/40b8fecc-6361-53ce-be57-ed3add783d6a', 'nyt://article/af73ab52-c86b-5f70-9c43-8ac4946bdba1', 'nyt://article/fb2b94cb-9ab5-51c9-b052-5cb795d9ba2d', 'nyt://article/019c3d2b-2a6e-5800-a1e6-8812b9f90db9', 'nyt://interactive/e16aa100-d3c2-5bd5-8fbb-a14f0321a4c1', 'nyt://article/b10c2f31-c5e5-5140-80d7-670dca918b89', 'nyt://article/c68a694e-931e-53d2-8080-405927ee1a0d', 'nyt://article/55456924-7ff1-585c-b62c-d530637bb1f3', 'nyt://article/c6c56cb0-607f-5b2b-9eef-7371adc4156e', 'nyt://article/682f16eb-d66d-5232-a79c-631ee22d3468', 'nyt://article/f9847c11-0fe5-5d48-ad36-72c1f3c8bcf5', 'nyt://article/a52bfb01-a76f-5982-a5fa-bf85dd1d5840', 'nyt://article/66fad98d-dbcc-566e-8950-f822051bb9db', 'nyt://article/91a850c2-be27-5ecd-a5f0-da44a06437aa', 'nyt://article/39db45b5-6f87-5dee-9d1c-817323abd158', 'nyt://video/c0071bd8-2e20-521f-85a0-35140c094d50', 'nyt://article/4333f945-3ab6-5936-a3d8-137ffe851cb2', 'nyt://article/75bf3def-1489-5343-b8a2-8188c4805b5b', 'nyt://article/d21daae3-37f4-5682-ae81-be3f39e59781', 'nyt://article/6296fd9c-3e99-5de4-ad0f-f017a1451220', 'nyt://article/9a0f375e-e06b-5480-9c25-5b668d00df51', 'nyt://article/ab3117c5-2380-5493-b5a2-9a275ffd38e5', 'nyt://article/8f0ea652-6d9b-5c6c-9522-3db174fc9be5', 'nyt://article/04d2ab3b-b1fd-5b38-9f71-58b7edc76244', 'nyt://article/97838863-147e-5077-ae02-40fe93b0db02', 'nyt://article/3b757342-81f4-5c95-a76a-001c1c07ca7a', 'nyt://article/a006f43b-a8cf-53d6-a1dd-3f2fbea7d76d', 'nyt://article/1851f3df-23ef-5c44-8481-bf65daecc582', 'nyt://article/a71c45ee-ea7e-58be-9ddc-21eba0d6e954', 'nyt://article/42739bc6-791c-59bc-803b-93aadb1e52fd', 'nyt://article/d3e0512f-8e27-5d7e-8ff7-a9e38c7d0c11', 'nyt://article/e01a84eb-11c2-51cf-98e9-2ad6f3f1be9d', 'nyt://article/f6bf1f69-340f-5b4d-b568-c7575e99e133', 'nyt://article/9c2e3cef-2d8b-5ccd-b716-a1a9d1b79504', 'nyt://article/cc76088b-2ac3-51fc-8e07-de0545512735', 'nyt://article/e04359f8-2c82-51c1-bd15-327fc1e5c37b', 'nyt://article/a507a2d2-cf1e-54ee-b85a-e7b809e88ba3', 'nyt://article/b03fe540-659b-5a61-80a0-b07305c10b2f', 'nyt://article/c793748e-0157-5dae-9cbb-661b13c2a073', 'nyt://article/6f392570-1cd5-5f5d-85a8-9f97030cbc89', 'nyt://article/e0adf144-deaa-5a56-bcbd-4ac998892e9d', 'nyt://article/135b6598-af3f-5582-8f5c-9cd3407cbdd1', 'nyt://article/a8d862e7-db1e-53d7-8473-bbfc5bfc7c7a', 'nyt://article/28720d7e-accc-5208-9518-b8478a22e249', 'nyt://article/d467af29-9716-518d-bdd5-7f4f1ba31d6f', 'nyt://article/61065cf6-5464-5735-a3f2-f082b23d2ec1', 'nyt://article/c4a1c8f6-0951-537a-9917-ab3ec6448950', 'nyt://article/286ac049-c772-5c54-9ecb-d5bf8da34703', 'nyt://article/f2025426-2f70-5796-ac0b-3e7bc1bc2cb8', 'nyt://article/f1ac3af4-8280-5143-8ccb-dd74a0c97493', 'nyt://article/e9c89d4d-4ee8-541c-a781-9d97668283c9', 'nyt://article/219fe934-cbd5-5249-bb25-2d659bac18c9', 'nyt://article/99cc9f88-7d17-54a5-a77e-4acb0991455f', 'nyt://article/a2d7cbaf-5a67-5756-8291-c3351b2b044b', 'nyt://article/1b1ee0cc-54c3-5570-847f-a960f1d4ff29', 'nyt://article/284af71e-d8ed-5a55-8e58-5116422d90e7', 'nyt://article/b78944e4-7ac2-5bcf-906e-47f522de61a6', 'nyt://article/ac93ad2e-f66a-59ec-b1eb-92f0cd024397', 'nyt://article/716c4323-89cf-504e-ba72-c7c4f0494a8b', 'nyt://article/ed497825-6a09-5373-bcd3-fa291ff33a8a', 'nyt://article/629fa053-f2f2-5fad-ab9d-0115a744ac20', 'nyt://article/6ced898c-dd57-5eaf-972c-346f16102ab9', 'nyt://article/a27600da-45e0-5ebb-9df6-4b4079ae3b74', 'nyt://article/02fec2b2-f742-5ee7-b8cd-928cc00a8441', 'nyt://article/8cb4421b-75db-5343-900d-0c7c8709fc91', 'nyt://article/73926ab4-2594-5938-ab0c-381e1123e5be', 'nyt://article/3fbd8d74-061a-55cd-a675-2d31c5053ec4', 'nyt://article/ed99f6eb-d805-56a3-b908-3ec1e2802ce4', 'nyt://article/b4b9a91a-8feb-5ee0-811a-f009c2e4cccf', 'nyt://article/548487b8-e210-5808-a63c-07f3242248a5', 'nyt://article/a586f56f-385c-525d-be9f-8b6bf1a32acf', 'nyt://article/ac5cffc6-f0b1-5b35-9b3b-dda4e153288b', 'nyt://article/287f1e06-5da5-5061-a820-cb6524fa5ac7', 'nyt://article/4c80be0e-1575-539f-9670-0324837c347a', 'nyt://article/6c0355e2-365b-58cf-bb84-6f729de59580', 'nyt://article/a54e0db5-2443-5446-9575-f90cdcedb89f', 'nyt://article/a48cdc1e-e435-5834-b34e-6222341dff07', 'nyt://article/6471be7e-b829-5ca3-9e49-f4c06e447961', 'nyt://article/f00d3886-887a-59e9-bbe3-69bc1de6f3f8', 'nyt://article/58bbfd2e-c709-5151-b0cf-0c4c5a2d7bd2', 'nyt://article/be7e12d6-c747-5ea5-8fca-14d181da7855', 'nyt://article/8769b51a-4ee0-5613-94d2-e7e6f0026aef', 'nyt://article/b4ef6232-42e9-5415-820f-46fadaca2b5e', 'nyt://article/3e88b788-ddef-55a7-b647-af10ff351d20', 'nyt://article/b6f9d02f-cc0b-577c-86e9-e68abb981d12', 'nyt://article/0faa487c-bae7-5325-a119-69b183b3dc6b', 'nyt://article/adfa7287-da1f-524e-8ddb-db491b1ff2ad', 'nyt://article/7dabb456-eae4-5659-ba12-2099c2e7a1fc', 'nyt://article/a06bd571-fc22-5a3e-8ce8-fb6dbc4c470e', 'nyt://article/61efa0ef-43d3-54ae-8387-66d17e19b8bd', 'nyt://article/fd7ccc7f-d1cd-5948-ab7d-05cd3b9bf7a7', 'nyt://article/7fe988d5-4d0c-56ad-8434-8724b59ef9b7', 'nyt://article/7be6bc52-3ef5-58da-bb70-4699e28fc3d0', 'nyt://article/8ccc4107-d405-580a-ac0b-64752da69da7', 'nyt://article/75d22fcd-bc5f-56db-bf10-ac10f497dbcb', 'nyt://article/0838f786-8fc5-5111-8e03-e33acef83fd8', 'nyt://article/c42b8e1c-437f-55d1-bcd5-431b9b5b0627', 'nyt://article/8dc879df-0bfc-5666-90fc-588dee2a3638', 'nyt://article/3199f725-007b-5cbc-a94f-2197d155c38a', 'nyt://video/1536e7ac-7e55-5e88-8ec6-5c8a9ad763a6', 'nyt://article/6e416859-ff38-56d7-ad2f-ef5c75bebbab', 'nyt://article/4bc286fc-9736-56e1-858a-b8bef8b0ee9d', 'nyt://article/d54bfd74-5e52-5df0-b8a6-f984c9d544f0', 'nyt://article/345a492a-c9b7-5b7a-9270-f002cf42fed2', 'nyt://article/e2d196aa-2350-580a-b8cc-c9396f87248e', 'nyt://article/5153cc0f-6b0d-5c37-b91f-dbce920a3b61', 'nyt://article/0e59c7ca-a406-5631-ba98-7d340bd347b2', 'nyt://article/cbc86042-78c8-5f4e-812c-1c0302b16384', 'nyt://article/d0e6f666-0209-563d-b1b3-f0840b546542', 'nyt://article/e1c88ac9-9b3e-5475-943c-001a379b918f', 'nyt://article/258a4308-8c3d-59d7-85ba-83641279a8a4', 'nyt://article/cfbddb5d-336b-5f30-aa2a-441b127ed632', 'nyt://article/73019f31-df83-5d23-b256-aacac46ceacd', 'nyt://interactive/8f9435ef-f69a-56cc-a4fa-f04640f7a805', 'nyt://article/851e4050-3f81-544d-88b6-e2dffb1ba2ce', 'nyt://article/af94b815-1733-5a51-b019-ff278bb418b4', 'nyt://article/4d6a2d07-d2d1-5b33-95c3-e7aa3da3b8ed', 'nyt://article/7add267a-9f61-5a44-8b1e-2916f9a234e2', 'nyt://article/d90af9eb-6f81-5e73-b782-c67281c5a1a5', 'nyt://article/2bfd58c9-959f-52ab-b12b-351a4f17883a', 'nyt://article/8d0a9878-f71e-520a-b7aa-64441ae0250c', 'nyt://article/877060cb-44c9-553c-999c-2e696d3e53c9', 'nyt://article/351acaec-0e7b-5362-b7e4-c1fdeabc7014', 'nyt://article/6cb22b8a-8896-5c89-a88f-6e53e53dc5de', 'nyt://article/8296a347-f8d2-5f4d-af9e-2963fedef6ec', 'nyt://article/32d643b1-f06d-57b7-80be-0c9738ad33fe', 'nyt://article/873bac51-b0da-57a1-a059-7260762ce205', 'nyt://article/97011b88-4777-5582-91f1-a469adae38f7', 'nyt://article/dd5f537c-27a5-57e6-9ade-481704816c6f', 'nyt://article/3c802324-49de-5028-92d2-0ca1af0932a2', 'nyt://article/60094959-3125-5928-86f6-d031c73e2ccf', 'nyt://article/b49bb0ad-9159-5952-b4b2-072b7cb4a4f1', 'nyt://article/c747a563-86b6-5583-8528-5d5d82c573c5', 'nyt://article/61fff3bd-8fb6-5f9b-8ba4-b6daf3299170', 'nyt://article/84171343-3eb0-589e-ac85-138dd51ca8ba', 'nyt://article/a228b36b-796c-592b-9ab7-4ed1cea5826b', 'nyt://article/7a3d0af7-46a7-5092-820b-8a957b8cec43', 'nyt://article/c5f384df-85d8-5b67-8f92-c7ae8ef0c004', 'nyt://article/e6ecb66a-f025-5221-a090-ea11dea98786', 'nyt://article/c9d04cdb-31e3-5948-bafc-467aa953a74a', 'nyt://article/7016e37c-af00-5b3e-86f1-bf15b2b71f59', 'nyt://article/34e79f21-bf7d-5d33-a62a-877833509ab4', 'nyt://article/0c258820-a70b-52f8-8ba0-f02670346053', 'nyt://article/56660a8e-77b4-5242-80b7-322337cd5888', 'nyt://article/232d4e99-3371-59e7-a1f3-c0995febfc66', 'nyt://interactive/61a8cd1a-d8dc-5483-9ebb-e29b618c2cae', 'nyt://video/a234b14e-eaba-5035-a986-5bebc27953a7', 'nyt://article/545d1b66-37e3-5c49-9d1a-0f9abca8cde3', 'nyt://article/ffdd5d87-4174-5727-ab49-839f53f2d90a', 'nyt://article/183a09a1-0e92-56b4-bb05-695f43089969', 'nyt://article/1020c97b-d1de-5dd0-b714-53d8c7590c31', 'nyt://article/b111efa7-47a6-55d9-95c0-1a8c9cd54442', 'nyt://article/6a9b613b-3619-5b68-a3e9-1852f29d773c', 'nyt://article/4d7af277-d66d-56c7-a70f-0150baf966af', 'nyt://article/02241405-a46e-5af3-b08a-666b2b263aa7', 'nyt://article/7d514c77-18ef-597b-a20f-d20e194df850', 'nyt://article/343c9e95-c0e7-5b0c-8dba-2b51ca5f32bf', 'nyt://article/d90b249d-7098-55b7-ab5b-dd13aed8f76e', 'nyt://article/f452d453-35cc-565d-8ecc-297071189f55', 'nyt://article/ab847e3b-ed41-5663-beb0-210f56cf64f1', 'nyt://article/00753439-a043-526f-9bb6-b39668fd06fb', 'nyt://article/4dbe3302-29ed-5a3a-af15-31b41f3d76ac', 'nyt://article/15b7db31-98e2-5a43-b64a-9fc0186b7c0f', 'nyt://article/c2ec4092-a5b8-5345-9501-36110e8fef6c', 'nyt://article/596327ea-7ac5-59b5-b5be-0c38c62584da', 'nyt://article/4bb7adc3-2ee8-5fef-a9b1-2a2ee9538139', 'nyt://article/86401c64-d2ba-5747-92c8-7c0175d87821', 'nyt://video/7188f5ad-88c2-589b-9e11-d88eb8c11bb3', 'nyt://article/74445b4a-5b7a-5995-8470-ec771ec6469a', 'nyt://article/83fe608f-c719-5ef9-a4f9-23e14d3eb535', 'nyt://article/b1179855-fe4a-503b-9086-32a9d44ba791', 'nyt://article/517a43df-1f77-5a35-ba21-8736571f3ea6', 'nyt://article/8085d672-bff5-5985-b080-2f67ab8ecd50', 'nyt://article/95929c9f-42fb-5d83-892b-6b2c3f5adb1b', 'nyt://article/248d82e0-1cf7-5973-ad27-748d9b4432c3', 'nyt://article/31751e17-e3c6-5a89-aeab-e1a53728a548', 'nyt://article/1c462645-d944-5401-b2df-0441a069b352', 'nyt://article/da758a3f-e4e0-56ee-b855-1f3775a3279c', 'nyt://article/f9d3145b-be4f-5914-b2a0-ceaf06381344', 'nyt://article/de0681c8-2d03-5792-b1f0-2f515eb2040b', 'nyt://article/8be38be7-0d33-5959-94af-8310540cc830', 'nyt://article/969e5ae1-c413-50f8-a98b-62b53213c3c4', 'nyt://article/9fabc97e-f551-5d60-8132-63367b3423b9', 'nyt://article/8c244345-f2f0-5787-aefe-3a3ccf87d6de', 'nyt://article/e3d0958d-c749-5f08-b471-85752d797722', 'nyt://article/2ad7fae2-d535-515d-bdbe-ded9576ce5b0', 'nyt://article/55431065-129a-5d0e-9380-c8bd4ee80114', 'nyt://article/6aec8f9a-25a1-5fd4-ad66-677b08e01547', 'nyt://article/f4f99b54-1dd2-5796-a2e7-0d425327cd5c', 'nyt://article/f305a10a-954c-53c8-af37-1dfd79a417a7', 'nyt://article/894d222a-9f27-511d-8cb1-f4f6bec5a622', 'nyt://article/50ec6138-586d-59ce-b06d-f4f24426d6ae', 'nyt://article/daae620d-7c90-501e-89e8-732f96ae2aa7', 'nyt://article/c65dd3d3-af35-55eb-9ea6-f9965d27749c', 'nyt://article/a5502c91-6bcb-5095-abe5-bcd01dfa65cd', 'nyt://article/e705c3af-0528-5cb2-ac1d-5bd297a38746', 'nyt://article/0da62a81-5bee-53c6-b8db-b1ee5b784f45', 'nyt://article/36ee0edb-21e9-56c9-bb84-09c4415a4516', 'nyt://article/eff54abb-409a-569b-ab20-09c6f8cd09e4', 'nyt://article/2bfa7708-32a5-5b25-ab2c-b2f574b540fe', 'nyt://article/10a922ab-71ab-56ec-be2e-59daf4dfddd2', 'nyt://article/ba97150e-7836-5a51-9bbf-97df6e7e32a9', 'nyt://article/a659b89c-1f89-5794-9801-75559adb658c', 'nyt://article/42597be9-aeec-5324-be97-73a16e728ab3', 'nyt://article/d38ec16d-320c-58a1-b30f-e8888edc00d7', 'nyt://article/a3e00b18-c078-5cfb-b6b4-1b99607225f4', 'nyt://article/75b05547-d2b0-52e1-8113-4184eddf76d7', 'nyt://article/869ee428-006b-5150-8d44-870dd5ad0af1', 'nyt://article/fc82f213-e485-53c0-8afb-f708fa8056b2', 'nyt://article/ee5eb31d-a1a5-5a09-8b26-dc053325846e', 'nyt://article/734ff29b-9a76-5f97-a72f-deb05493d9fd', 'nyt://article/0c590090-ca6f-54c4-ba2b-7c7617059c11', 'nyt://article/5e886c71-fda7-5a85-8850-14deb6d5b4a7', 'nyt://article/720399f2-c1ec-5608-9963-cfaa03abd183', 'nyt://article/605acd7b-fe44-5f1c-a4a8-4b4ef4ef3823', 'nyt://article/a7a59baf-e727-568f-9025-15460e249e9c', 'nyt://article/1be7e761-70fa-5788-b9e1-a48be42af1d9', 'nyt://article/863d7ce7-229f-50f2-abff-2ed220500715', 'nyt://article/d9f90380-e666-5416-98c2-fe4804c72326', 'nyt://article/8abf0099-2722-5517-ad62-48d7498db946', 'nyt://article/0b6f8c3c-f9f8-54d8-8dcf-2eb5c9a6ae1e', 'nyt://article/bf064b84-075b-5cb4-88a7-8b548e0cbafe', 'nyt://article/3224ac0e-0a5e-5f58-b541-e2823968023d', 'nyt://article/cfc94469-30eb-5d0c-b17d-7a96d691ad8b', 'nyt://article/7203a102-2050-5d84-8e01-96f8556bea85', 'nyt://article/7f87ecae-b2e1-543b-b984-18fd9c6d6048', 'nyt://article/51ffd18e-f357-54c1-8510-bc8adb7cd987', 'nyt://article/823c8f74-1337-5413-b6f7-044df212955c', 'nyt://article/6b7c779b-9934-5937-ba83-b6e270087252', 'nyt://article/c6a6f2fb-9ab6-515d-af2f-ff7331d87ea7', 'nyt://article/16ef6b83-2750-52e9-87f0-8a1c548218d6', 'nyt://article/a75b282f-5644-51bf-9d83-492ff67117fe', 'nyt://interactive/1afb7d6c-4f42-5f6c-ab1c-53b5ac9b7270', 'nyt://article/8f468b36-ad60-552b-8063-f7d3c415416e', 'nyt://article/8d7b34a3-3907-57bb-a005-4dd312a2234e', 'nyt://article/ea6220b3-1d93-5c8d-893b-a0da77cc994f', 'nyt://article/826f4ca2-18d7-5820-8fe5-a3ba38a4876a', 'nyt://article/e997b3e9-840b-583f-9aa4-d8b26ed97699', 'nyt://article/5840621c-27d0-5a43-96ef-49036b06c0dd', 'nyt://article/e5f1a5af-9b31-5fcd-9dde-ceff057bfe3c', 'nyt://article/518165b7-13fa-504c-84e5-86b1886bd55c', 'nyt://article/646f1cd5-7b14-5a8e-a9d4-37e72b3f5b62', 'nyt://video/737a072e-de43-5212-be87-dd18fee16933', 'nyt://article/b1dd011c-b326-5120-bef8-6c355f369dbc', 'nyt://article/be0d4c85-b675-58d5-8341-382f7e1b13f1', 'nyt://article/0c14d559-6991-5e0b-87bc-4b214f2a51ac', 'nyt://article/d7c78353-6450-5260-9cc9-845ae9bd8689', 'nyt://article/ccf7b012-7794-53c7-a589-3d5e11cbf2f3', 'nyt://article/476eda79-f327-5c65-ac8e-73f4da4c784d', 'nyt://article/beea6485-21e6-5882-81ea-11bf7161ea31', 'nyt://article/fc6284f7-c327-5d98-9c23-0ec3baee185c', 'nyt://article/f047195f-8d52-5d7d-abcd-ff6058827977', 'nyt://article/8d03418e-917c-50de-a56b-7bea298d8304', 'nyt://article/5fdf5f34-1501-5b45-80f6-14e12305ce83', 'nyt://article/a28e31fd-5931-5ee9-bcfe-35597b84111d', 'nyt://article/b90269f3-1d22-523d-ac51-5d7cc45b6915', 'nyt://article/7843c099-5f7a-5948-bfbe-c2ef4ed1b124', 'nyt://article/b5a25414-f743-597f-920f-7048a72ac073', 'nyt://article/c61740ac-e9e2-5588-8a22-cbab17e8eff2', 'nyt://article/4b92455e-9095-53b7-a64c-0a57daed598a', 'nyt://article/ef5b278e-3bfb-5ced-8749-ca7f6782c354', 'nyt://article/d8eb29b9-e06f-5bba-801e-4404a0ff6acf', 'nyt://article/7e65f179-dcfa-566f-b109-22420ab3c4cd', 'nyt://article/1b6f603e-eeed-551e-be89-6957849e54ba', 'nyt://article/9f67059d-b082-50d8-b809-ebd97db0155f', 'nyt://article/2405c02f-d703-571e-b820-e2ec6c263131', 'nyt://article/c8187867-d8f8-525c-8515-1fdf3f04ed97', 'nyt://article/b40fdf96-6f00-50c2-afd4-806612997188', 'nyt://article/4c89690c-2d88-5666-b3a4-9cccd6ff4cfd', 'nyt://article/5f4c66ff-b081-5604-a318-aa39cacc5dea', 'nyt://article/345ee78c-1013-5ed5-a0c8-c8c6f25db6e2', 'nyt://article/c08f07fa-f86e-5933-8ec8-9753a3235fea', 'nyt://article/a073ef4c-ffa7-5f85-aea5-343aab924774', 'nyt://article/f2ad43ba-f0fb-55b5-9347-b943690f9fed', 'nyt://video/dfe1f9c5-c85d-5d0f-ab61-11f9b085dd26', 'nyt://article/3d786352-fd50-5452-aecd-051b50cbc4df', 'nyt://article/dc5df80e-a064-5216-93ad-27bdd8af366c', 'nyt://article/79584bcd-0b47-5bed-b2b9-eb25c623455b', 'nyt://article/275ed32b-45a7-558b-b062-2f7a88f065a6', 'nyt://article/a07d25af-8a3c-5f41-a307-2d5f27b619a8', 'nyt://article/acd59772-a73c-58e5-8d14-cafc9ab6b797', 'nyt://article/98ad4e94-eacf-5484-a152-aae486fe80bb', 'nyt://article/1fac11e1-c4a3-5ec6-8251-473c2b5bb37b', 'nyt://article/5851579c-f145-59ba-80a5-261a56e5b30e', 'nyt://article/200d1140-6261-57a5-81f8-27518b7b8db2', 'nyt://article/9e5bf3e7-7b8c-53b6-8f95-9b6c42a40bed', 'nyt://article/182bda75-2e80-5263-9b67-1fa1fd1e6006', 'nyt://article/dfbc4919-d236-5316-8cfb-5aabc5ee9230', 'nyt://article/aff52961-1420-59c3-9d68-ae0ca6ed4b35', 'nyt://article/97f19b85-28ff-5a22-bfda-ba0f2ef315e6', 'nyt://article/5d33e287-9470-5b87-8521-e219ea4db49e', 'nyt://article/d31375d3-ba30-5b83-9012-fb988e971431', 'nyt://article/984d6485-1d7c-5329-bbfe-724dcd588d3e', 'nyt://article/104de6fc-7b9c-5768-812a-528967b0758b', 'nyt://article/e8dd346d-fb45-5698-afc2-8d1aca18cab5', 'nyt://article/6b8a033c-bd65-5340-bdca-999521c946f2', 'nyt://article/d2ed2b42-b4fe-5a9d-8778-1c44613d1b48', 'nyt://article/d6e370ea-e210-517e-8794-cf573ea48875', 'nyt://article/471eeced-b2a8-5fbd-905e-9080e21eaa52', 'nyt://article/51bfbabd-96a2-5b97-91dd-0bcceb046e7c', 'nyt://article/17964ebd-aba4-528b-9e7b-fbdef3c374de', 'nyt://article/55105b16-71c2-5e71-af6d-5fb2f3714351', 'nyt://article/25b52c57-7954-516d-8223-aa92964350e9', 'nyt://article/a7bc462c-8c40-51f0-a662-acab3982f339', 'nyt://article/3c5ce7dc-377e-5aad-83c0-ab4a743cb2c4', 'nyt://article/63925b14-71bd-5bd0-961f-1dcab9193f30', 'nyt://article/85018576-13d2-59e3-a528-009d61e9a6c4', 'nyt://article/a91e5a26-c9bb-5e01-9dbc-f490fc526377', 'nyt://article/83ed6c3e-b9d1-5445-9f67-fa03f51b1f10', 'nyt://article/9cc43891-0caa-540c-8112-e27105587d64', 'nyt://article/1f7f508f-894e-572c-b24d-51dc2b5747a7', 'nyt://article/75ca1604-3a00-568f-9227-48637db93063', 'nyt://article/8746372b-beb9-5dd8-a4b3-7db7583c3297', 'nyt://interactive/f5852d85-975f-54af-9422-2db447002184', 'nyt://article/90f3d6fe-145c-5b8e-9d98-c5e1d31f3dc7', 'nyt://article/2faa2e32-34d5-59ce-b2a1-061c40d4033d', 'nyt://article/f3252c4d-6b07-5f53-b948-574d1aeb4a86', 'nyt://article/23a6bcb1-85a4-51d0-b972-847fd8758b21', 'nyt://article/ef47a80e-94bc-5c36-8d44-8d4224ce92b2', 'nyt://article/2ee0365b-7aa9-53ce-91f9-9cdc061bf0cc', 'nyt://article/743e718a-3860-54b6-a40b-a316fc63676c', 'nyt://article/af6f333f-6d43-5d87-9548-a63cd0aa8ddd', 'nyt://article/1e1b6bcf-91f9-5c42-90f9-f6bb4ba55f41', 'nyt://article/32f2edb5-db2c-56f9-b805-7f5ceb1f8be9', 'nyt://article/6f0b4899-5496-5ea7-998c-3e774ec0be9a', 'nyt://article/0e335aca-12fd-510c-86c8-a5fde981ba37', 'nyt://article/b7b3956f-677c-5faa-8b5e-9ea8cfc29b18', 'nyt://article/74351aa3-48dc-5660-a635-a15c038c6bef', 'nyt://article/a1699658-9baa-5853-9904-c2ded7ca15c7', 'nyt://article/1584dffb-c4ad-5dd8-9f5d-d31f54e174db', 'nyt://article/b3f731f4-35e9-5de2-9ae0-f4856b37045a', 'nyt://article/43ec198a-0583-5da7-b5fd-7b4718dd56c7', 'nyt://article/78f02290-831e-54c0-a29c-218dc218387e', 'nyt://article/1a2e93cf-893b-578d-81af-1c53b92ff663', 'nyt://article/56dd1f22-4dc6-5c18-bccc-53d2b1c35c74', 'nyt://article/9ea127d2-33a7-58e0-8dee-aeafaf566305', 'nyt://article/47667e04-e3a8-5c2e-856f-2b29dfa087e9', 'nyt://interactive/91d165d6-83c8-523e-b48a-f3cea04659a3', 'nyt://article/4b02bd92-7924-5305-89a2-7ba769c9768f', 'nyt://article/f0b7b0ae-927a-580b-b7a1-624ce65a4cca', 'nyt://article/9e3c1108-a8f0-5278-b5d3-404b4219a201', 'nyt://article/5c741421-8ab2-564c-81d3-4034f264ceb0', 'nyt://article/03c76cb3-912d-5961-80e8-b2d2f78e5eee', 'nyt://article/15588b82-5746-5947-8018-265237015ce2', 'nyt://video/5feaee04-e1c3-5ba4-82e7-97ad2972b5db', 'nyt://article/2de79d0a-09ed-58b9-a408-8ccc82b036ed', 'nyt://article/0dc017e5-7fcd-5d0e-b903-3f35f851b824', 'nyt://article/eed4f410-a012-51ea-84c2-eb7a11a7c0c2', 'nyt://article/a2e2ca95-427b-5926-bc80-e0f9229bb5c8', 'nyt://article/19d29e66-47c6-549d-bff7-86f8cdec1be0', 'nyt://article/f77eea6e-9e4d-5910-9f66-49f09fd9b59f', 'nyt://article/1fe3833c-de0c-5dd0-9127-e5d8bb3363fe', 'nyt://article/7fe6bc61-6970-523f-941c-f294a9a6734f', 'nyt://article/231e9767-b4bc-52ca-b8f8-6f5cc42fcf05', 'nyt://article/7470440f-b4a1-5893-8bf6-539f33510d73', 'nyt://article/e4ac1574-8f5b-50e0-b417-180c2c0b43a3', 'nyt://article/3b6fbc1b-5d55-53fb-940b-b76fb9fea7ad', 'nyt://article/2597c27a-2e10-588e-a67b-6741f4140791', 'nyt://article/0dc56333-04dc-52d9-ba59-1311364542b9', 'nyt://article/e7ea5190-31db-577a-8d87-f5cf716d65b9', 'nyt://article/3b20ab95-080e-5d5e-bfad-038b57acc45b', 'nyt://article/a5eb8fcd-7f76-52f4-89bd-afc1378b4025', 'nyt://article/08c8698c-7aac-5829-a833-29f02213113b', 'nyt://article/b2ee80db-ffae-5c07-8246-52c8cad1f2eb', 'nyt://article/da1c72c3-243d-5250-8ed1-cd76540dc263', 'nyt://article/6107f746-7842-581a-8aeb-ce108deb679d', 'nyt://article/bc85dd55-af86-5b73-9c20-4290c2871fd1', 'nyt://interactive/63331587-3ed3-55c1-8475-7612b1f63f8a', 'nyt://article/c02952cb-609d-5001-837f-c04cc476b681', 'nyt://article/33f4151f-8309-534a-b98a-aed4da16b569', 'nyt://article/96087abf-6837-5cd3-b669-8c7d1b4f3e68', 'nyt://article/df9ad2bf-2239-507a-96e1-cd96edfa75c3', 'nyt://article/5dac2435-067c-56f2-86a9-5a60a210d9ac', 'nyt://article/3927f4ba-d03d-5fea-88b8-02384a9612a8', 'nyt://article/e7104707-45cc-54d8-b02c-5d378afe5c11', 'nyt://article/1c2be249-dc47-5a7d-9053-4e62b4c4d3b4', 'nyt://article/f0ac8084-e4c6-5000-958d-c0b5acf4728d', 'nyt://article/e9bff2b1-2037-5400-91f3-e8ccd0526d8f', 'nyt://article/11e1a810-c0ec-5e0d-9c7c-9e22c8f37863', 'nyt://article/6f990b5d-0d79-5ac3-b12c-067acb727925', 'nyt://article/b2e70bec-e0f1-579c-a0ca-e0eda5f1c2d2', 'nyt://article/e8f5fe70-0f90-5996-99c1-007da14144a4', 'nyt://article/f553c956-8e2e-545d-a485-4c05ea33c20b', 'nyt://article/aba101ee-b370-5aa5-bc83-d9e347daa2de', 'nyt://article/1b69b757-0a9e-5d26-bf2d-34b2b09dca5e', 'nyt://article/ff9d875c-9078-5afb-9bf2-4cfaf70b8797', 'nyt://article/7b780c20-ca56-50aa-9bed-1a382f0788c7', 'nyt://article/5bf6230d-699f-5170-b038-242935c70728', 'nyt://video/1ffec11b-4b73-5805-a4fc-5ccf4bdf8337', 'nyt://article/7fb786fc-8a5f-5b43-851a-003e1c0ec6f6', 'nyt://article/56885f0e-d310-5ad3-bc76-c2af312dc432', 'nyt://article/c36771af-a6d7-5c6d-9947-772def83cf6a', 'nyt://article/b0968d46-24a2-5ec1-a33c-8abc9281d1fb', 'nyt://article/6d71b2af-2a79-51bb-8179-3d4b6fd19877', 'nyt://article/2831de7d-e312-5c50-9bd5-ae3f29ded103', 'nyt://article/366e533e-c140-5293-bffc-2e4f8b992b6e', 'nyt://article/cd227921-bb0a-57d3-b2c2-071df629ccad', 'nyt://article/8f540855-3f51-5e31-ba80-c6edb7146b1e', 'nyt://article/192b0400-169d-5224-bc25-57028ace21d3', 'nyt://article/61b81a48-2c7b-5994-b647-7591cc262b6f', 'nyt://article/63d78256-7141-57e3-a68b-d505a4f59337', 'nyt://article/f21e09e2-0008-5367-bf66-65f921e584e8', 'nyt://article/dc9a72e3-4f1c-5e2c-adb2-835e246642ac', 'nyt://article/47b987ad-b236-5750-bfd4-1fa2878c2c64', 'nyt://article/2e805465-894e-5582-8154-802be39d1693', 'nyt://article/3a4db45c-4ad9-54ce-9010-47b76558260f', 'nyt://article/c3e65f2e-f23e-53fb-92ef-e02dfc5003f2', 'nyt://article/f831eb7b-3d2e-554b-ac3c-42087bc8b7a8', 'nyt://article/2de071a5-f7ac-5d75-8428-6222ef66f3da', 'nyt://article/a2e50cd3-24a5-50a5-a9e2-d7514ed8e174', 'nyt://article/0b89ab40-3c09-5187-8bd9-51420f4bb67b', 'nyt://article/b7c8882a-aca7-5417-9b51-11fbd6ea6c8f', 'nyt://article/eed8f880-891a-5ed0-b46b-1387f9deae63', 'nyt://article/2ab5b8b0-2320-5641-8c91-bde845aa4a68', 'nyt://article/db9bd694-eeef-5b7c-90d2-339096f5e59d']",
         "1111"
        ]
       ],
       "shape": {
        "columns": 3,
        "rows": 236
       }
      },
      "text/html": [
       "<div>\n",
       "<style scoped>\n",
       "    .dataframe tbody tr th:only-of-type {\n",
       "        vertical-align: middle;\n",
       "    }\n",
       "\n",
       "    .dataframe tbody tr th {\n",
       "        vertical-align: top;\n",
       "    }\n",
       "\n",
       "    .dataframe thead th {\n",
       "        text-align: right;\n",
       "    }\n",
       "</style>\n",
       "<table border=\"1\" class=\"dataframe\">\n",
       "  <thead>\n",
       "    <tr style=\"text-align: right;\">\n",
       "      <th></th>\n",
       "      <th>country</th>\n",
       "      <th>ids_of_articles</th>\n",
       "      <th>count_of_articles</th>\n",
       "    </tr>\n",
       "  </thead>\n",
       "  <tbody>\n",
       "    <tr>\n",
       "      <th>0</th>\n",
       "      <td>Adriatic Sea</td>\n",
       "      <td>['nyt://article/6c5919fe-452a-532d-8234-f698a3...</td>\n",
       "      <td>1</td>\n",
       "    </tr>\n",
       "    <tr>\n",
       "      <th>1</th>\n",
       "      <td>Aegean Sea</td>\n",
       "      <td>['nyt://interactive/6addaf57-b7fa-5d0f-af24-ec...</td>\n",
       "      <td>3</td>\n",
       "    </tr>\n",
       "    <tr>\n",
       "      <th>2</th>\n",
       "      <td>Afghanistan</td>\n",
       "      <td>['nyt://article/1bf3d7c8-419e-52d7-a720-c4e054...</td>\n",
       "      <td>112</td>\n",
       "    </tr>\n",
       "    <tr>\n",
       "      <th>3</th>\n",
       "      <td>Africa</td>\n",
       "      <td>['nyt://article/34e514ce-6ebc-58f1-bf4b-d750ea...</td>\n",
       "      <td>201</td>\n",
       "    </tr>\n",
       "    <tr>\n",
       "      <th>4</th>\n",
       "      <td>Albania</td>\n",
       "      <td>['nyt://article/59eb4293-7d0a-558f-9c26-d85c3f...</td>\n",
       "      <td>23</td>\n",
       "    </tr>\n",
       "    <tr>\n",
       "      <th>...</th>\n",
       "      <td>...</td>\n",
       "      <td>...</td>\n",
       "      <td>...</td>\n",
       "    </tr>\n",
       "    <tr>\n",
       "      <th>231</th>\n",
       "      <td>Vietnam</td>\n",
       "      <td>['nyt://article/670e1dfd-7217-5337-a5b8-0b7a7d...</td>\n",
       "      <td>52</td>\n",
       "    </tr>\n",
       "    <tr>\n",
       "      <th>232</th>\n",
       "      <td>Yellow Sea</td>\n",
       "      <td>['nyt://article/593fcdd3-0e07-58b1-9a5d-eec8cd...</td>\n",
       "      <td>1</td>\n",
       "    </tr>\n",
       "    <tr>\n",
       "      <th>233</th>\n",
       "      <td>Yemen</td>\n",
       "      <td>['nyt://article/083f2303-65dd-5db5-b970-cf1755...</td>\n",
       "      <td>73</td>\n",
       "    </tr>\n",
       "    <tr>\n",
       "      <th>234</th>\n",
       "      <td>Zambia</td>\n",
       "      <td>['nyt://article/ce946de8-b1a7-58a9-9235-321a9b...</td>\n",
       "      <td>13</td>\n",
       "    </tr>\n",
       "    <tr>\n",
       "      <th>235</th>\n",
       "      <td>Zimbabwe</td>\n",
       "      <td>['nyt://article/a4cb0e12-50fd-5a76-9971-741961...</td>\n",
       "      <td>3</td>\n",
       "    </tr>\n",
       "  </tbody>\n",
       "</table>\n",
       "<p>236 rows × 3 columns</p>\n",
       "</div>"
      ],
      "text/plain": [
       "          country                                    ids_of_articles  \\\n",
       "0    Adriatic Sea  ['nyt://article/6c5919fe-452a-532d-8234-f698a3...   \n",
       "1      Aegean Sea  ['nyt://interactive/6addaf57-b7fa-5d0f-af24-ec...   \n",
       "2     Afghanistan  ['nyt://article/1bf3d7c8-419e-52d7-a720-c4e054...   \n",
       "3          Africa  ['nyt://article/34e514ce-6ebc-58f1-bf4b-d750ea...   \n",
       "4         Albania  ['nyt://article/59eb4293-7d0a-558f-9c26-d85c3f...   \n",
       "..            ...                                                ...   \n",
       "231       Vietnam  ['nyt://article/670e1dfd-7217-5337-a5b8-0b7a7d...   \n",
       "232    Yellow Sea  ['nyt://article/593fcdd3-0e07-58b1-9a5d-eec8cd...   \n",
       "233         Yemen  ['nyt://article/083f2303-65dd-5db5-b970-cf1755...   \n",
       "234        Zambia  ['nyt://article/ce946de8-b1a7-58a9-9235-321a9b...   \n",
       "235      Zimbabwe  ['nyt://article/a4cb0e12-50fd-5a76-9971-741961...   \n",
       "\n",
       "     count_of_articles  \n",
       "0                    1  \n",
       "1                    3  \n",
       "2                  112  \n",
       "3                  201  \n",
       "4                   23  \n",
       "..                 ...  \n",
       "231                 52  \n",
       "232                  1  \n",
       "233                 73  \n",
       "234                 13  \n",
       "235                  3  \n",
       "\n",
       "[236 rows x 3 columns]"
      ]
     },
     "execution_count": 413,
     "metadata": {},
     "output_type": "execute_result"
    }
   ],
   "source": [
    "nyt_country_coverage"
   ]
  },
  {
   "cell_type": "code",
   "execution_count": null,
   "metadata": {},
   "outputs": [],
   "source": [
    "# Drop \"Unavailable\" with no articles\n",
    "country_coverage.drop(index=228, inplace=True)"
   ]
  },
  {
   "cell_type": "markdown",
   "metadata": {},
   "source": [
    "## Standardization of names"
   ]
  },
  {
   "cell_type": "code",
   "execution_count": 415,
   "metadata": {},
   "outputs": [],
   "source": [
    "nyt_country_coverage.loc[nyt_country_coverage[\"country\"] == \"Congo-Brazzaville\", \"country\"] = \"Republic of the Congo\""
   ]
  },
  {
   "cell_type": "code",
   "execution_count": 417,
   "metadata": {},
   "outputs": [],
   "source": [
    "nyt_country_coverage.loc[nyt_country_coverage[\"country\"] == \"Palestinian Territory\", \"country\"] = \"Palestine\""
   ]
  },
  {
   "cell_type": "code",
   "execution_count": 418,
   "metadata": {},
   "outputs": [],
   "source": [
    "nyt_country_coverage.loc[nyt_country_coverage[\"country\"] == \"Côte d'Ivoire\", \"country\"] = \"Ivory Coast\""
   ]
  },
  {
   "cell_type": "code",
   "execution_count": 419,
   "metadata": {},
   "outputs": [],
   "source": [
    "nyt_country_coverage.loc[nyt_country_coverage[\"country\"] == \"The Gambia\", \"country\"] = \"Gambia\""
   ]
  },
  {
   "cell_type": "code",
   "execution_count": 420,
   "metadata": {},
   "outputs": [],
   "source": [
    "nyt_country_coverage.loc[nyt_country_coverage[\"country\"] == \"Czechia\", \"country\"] = \"Czech Republic\""
   ]
  },
  {
   "cell_type": "code",
   "execution_count": 421,
   "metadata": {},
   "outputs": [],
   "source": [
    "nyt_country_coverage.loc[nyt_country_coverage[\"country\"] == \"Republic of the Congo\", \"iso_alpha3\"] = \"COG\""
   ]
  },
  {
   "cell_type": "code",
   "execution_count": 422,
   "metadata": {},
   "outputs": [],
   "source": [
    "nyt_country_coverage.loc[nyt_country_coverage[\"country\"] == \"Congo, The Democratic Republic of the\", \"country\"] = \"The Democratic Republic of the Congo\""
   ]
  },
  {
   "cell_type": "code",
   "execution_count": 424,
   "metadata": {},
   "outputs": [],
   "source": [
    "nyt_country_coverage.loc[nyt_country_coverage[\"country\"] == \"Türkiye\", \"country\"] = \"Turkey\""
   ]
  },
  {
   "cell_type": "code",
   "execution_count": 425,
   "metadata": {},
   "outputs": [],
   "source": [
    "nyt = nyt_country_coverage[(nyt_country_coverage[\"country\"] != \"United States\")]"
   ]
  },
  {
   "cell_type": "code",
   "execution_count": null,
   "metadata": {},
   "outputs": [],
   "source": [
    "fig = px.choropleth(nyt, \n",
    "    locations='iso_alpha3', \n",
    "    color='count_of_articles_nyt',\n",
    "    color_continuous_scale=\"Reds\",\n",
    "    range_color=(0, 1000),\n",
    "    locationmode=\"ISO-3\"\n",
    ")\n",
    "fig.update_layout(margin={\"r\":0,\"t\":0,\"l\":0,\"b\":0})\n",
    "\n",
    "\n",
    "fig.show()"
   ]
  },
  {
   "cell_type": "code",
   "execution_count": null,
   "metadata": {},
   "outputs": [],
   "source": [
    "zeit = country_coverage[(country_coverage[\"country\"] != \"Germany\")]"
   ]
  },
  {
   "cell_type": "code",
   "execution_count": null,
   "metadata": {},
   "outputs": [],
   "source": [
    "fig = px.choropleth(zeit, \n",
    "    locations='iso_alpha3', \n",
    "    color='count_of_articles_zeit',\n",
    "    color_continuous_scale=\"Reds\",\n",
    "    range_color=(1, 1000),\n",
    "    locationmode=\"ISO-3\"\n",
    ")\n",
    "\n",
    "fig.update_layout(margin={\"r\":0,\"t\":0,\"l\":0,\"b\":0})\n",
    "fig.show()"
   ]
  },
  {
   "cell_type": "markdown",
   "metadata": {},
   "source": [
    "## Calc percentage and middle point to show delta"
   ]
  },
  {
   "cell_type": "code",
   "execution_count": null,
   "metadata": {},
   "outputs": [],
   "source": [
    "country_coverage.loc[country_coverage[\"country\"] == \"Germany\", \"count_of_articles_zeit\"] = 0"
   ]
  },
  {
   "cell_type": "code",
   "execution_count": 426,
   "metadata": {},
   "outputs": [],
   "source": [
    "nyt_country_coverage.loc[nyt_country_coverage[\"country\"] == \"United States\", \"count_of_articles\"] = 0"
   ]
  },
  {
   "cell_type": "code",
   "execution_count": 427,
   "metadata": {},
   "outputs": [
    {
     "data": {
      "application/vnd.microsoft.datawrangler.viewer.v0+json": {
       "columns": [
        {
         "name": "index",
         "rawType": "int64",
         "type": "integer"
        },
        {
         "name": "country",
         "rawType": "object",
         "type": "string"
        },
        {
         "name": "ids_of_articles",
         "rawType": "object",
         "type": "string"
        },
        {
         "name": "count_of_articles",
         "rawType": "int64",
         "type": "integer"
        },
        {
         "name": "iso_alpha3",
         "rawType": "object",
         "type": "unknown"
        }
       ],
       "conversionMethod": "pd.DataFrame",
       "ref": "a2e588c2-feb2-4779-9530-8950f3ae663e",
       "rows": [
        [
         "0",
         "Adriatic Sea",
         "['nyt://article/6c5919fe-452a-532d-8234-f698a33bc15c']",
         "1",
         null
        ],
        [
         "1",
         "Aegean Sea",
         "['nyt://interactive/6addaf57-b7fa-5d0f-af24-ec0c3e131acd', 'nyt://article/08c91948-7b43-5eb7-b306-8036302faecf', 'nyt://article/a0eec7f0-3d63-5711-9700-9bce1b389aa9']",
         "3",
         null
        ],
        [
         "2",
         "Afghanistan",
         "['nyt://article/1bf3d7c8-419e-52d7-a720-c4e054fcb656', 'nyt://article/e40483f8-2139-54d1-bb6f-000020baebb5', 'nyt://article/be0ef722-a501-55fc-99e1-bbe8f3bdfa9d', 'nyt://article/fa4f938c-3999-5899-9b9a-87dade1e9109', 'nyt://article/c7e16118-94fc-55a9-90f6-91271aa69c8e', 'nyt://article/f0883555-c784-56cd-8272-ba1113b1920c', 'nyt://article/d3fd6ae0-dee3-53bc-89cf-20ec83c40234', 'nyt://article/f341cceb-41b8-5e13-b4c3-7affb67add4a', 'nyt://article/1542dab7-ca41-5e91-b479-425ed2115e69', 'nyt://article/b1179855-fe4a-503b-9086-32a9d44ba791', 'nyt://article/3b386dd8-364d-5300-8de1-1b81ad091936', 'nyt://article/e618787b-82dd-5aad-995f-2d34b7bac54f', 'nyt://article/77d3ba07-71fd-55e9-8260-077d40e7e7b0', 'nyt://article/22c77345-c8fc-54b8-8044-881e946adaf0', 'nyt://article/f5aa9de2-8b06-5891-8642-0b2db046dc0d', 'nyt://article/15c91982-0ecf-5e95-b7a5-a49f7e3c1868', 'nyt://article/bf24d7e3-26df-577e-8327-5ad156769f42', 'nyt://article/027c7bf8-68aa-515e-95a6-f5eea8048f65', 'nyt://article/d14635d5-9d12-58c0-91a5-36a9eddb8fad', 'nyt://interactive/fda805b2-2b2a-51c0-b44b-0a6a357a30a4', 'nyt://article/64dfac18-7dcb-5bcb-9807-6334f3b4907f', 'nyt://article/fbfdc8b5-31b3-5dd8-a1ae-fe3f871b745f', 'nyt://article/9b8e417f-ac93-5684-9339-3a9fb94cfb0a', 'nyt://article/3ba1a707-be08-5a83-8d18-5d5341bf3b7a', 'nyt://article/e5652440-552d-5b51-abd0-643d43eac6c8', 'nyt://article/44a10f67-d02c-56d0-9f9e-7da36dbd93ba', 'nyt://article/2f67e84d-d1c4-5419-b780-b0108851a334', 'nyt://article/a7df001a-fb67-5ee9-9b6c-ed3de464fcf7', 'nyt://article/224d3b62-d489-5a2f-91c0-6a46346661ee', 'nyt://article/1229602b-96e3-5dd7-a8dc-69d050f74e95', 'nyt://article/a55d2835-d41d-5093-a961-6a5a86cac66b', 'nyt://article/1f63edd0-84c8-5a7c-abf9-85d53a74592d', 'nyt://article/6ec05f2b-a2b3-5190-b9e4-3bed75594a0f', 'nyt://article/f36ce919-1ecd-5f6d-8748-40037f0c6a8f', 'nyt://article/a17db111-555c-5973-ac02-1426c21c454d', 'nyt://article/786b0740-8ed5-5bea-a353-056203015bf2', 'nyt://video/29e82c59-3302-5369-903b-4a3cb55720ce', 'nyt://article/818a8358-54bf-59af-b02b-ab789f7753b5', 'nyt://article/1ea25afb-f7f5-5873-8da1-5fbdba9ca782', 'nyt://article/18dbf70c-7693-5259-8379-a8499d5d3aef', 'nyt://article/c9a7aa82-bfba-57ce-8345-2fe996c2f588', 'nyt://article/fd15543c-174a-5c4d-9628-522e0e9a6768', 'nyt://article/c47b9632-5b0a-510d-8386-74c70370438b', 'nyt://article/ac05d632-9342-549a-92e4-00c14f593755', 'nyt://article/67761cbe-2ec6-5e32-b6f6-6e6a5a4eabee', 'nyt://article/7f712518-1080-590c-818e-3f183d5ab9e2', 'nyt://article/55e8851f-292f-5cfc-960d-04b3366ca701', 'nyt://article/692aefda-1ac4-5507-9b37-9aeaf74f9bcc', 'nyt://article/023708ea-b7e6-5f2b-b10f-399d3f52297d', 'nyt://article/19f90532-f2bd-5a00-9df4-72159380cc93', 'nyt://article/32d37cf0-7c12-5d3b-ae4a-f031d0ca961a', 'nyt://article/620575aa-9d01-5858-abff-b88aa5a78c27', 'nyt://article/055293d4-ba66-5f76-b4a5-b48ebfde3858', 'nyt://article/7d382142-6b6f-551d-8484-6e35963ad993', 'nyt://article/f6178677-9c32-5afa-b988-01d15ea68899', 'nyt://article/c9c4fe16-c986-59f8-844a-a3339d75f29e', 'nyt://article/508aec2b-c1c4-573b-b295-91f4d8364552', 'nyt://article/b203e080-2381-55c4-b8c4-e13ad368926b', 'nyt://article/76935c0c-a9ed-5495-aa1e-938494ed1a7a', 'nyt://article/17ea0afa-d3ea-55a2-85a8-8799db99297f', 'nyt://article/296fab0b-6def-55d1-931b-e61f385d40bc', 'nyt://article/0bbcc209-db15-5ed7-afa0-c8de30a1b0d8', 'nyt://article/9ee34700-032a-522a-aa23-9c17538e9c4b', 'nyt://article/f5b7d409-37e8-562e-8a07-9ac69a394a0a', 'nyt://article/f03fae5a-e626-5e9d-b0e2-4b339c9b0bed', 'nyt://article/0854fc1c-6794-5407-a410-c4e54329fd73', 'nyt://article/1eddbd46-8c2d-5754-8440-bb35e43e39d0', 'nyt://article/68a8cded-9ea6-5dce-be58-9148037275d1', 'nyt://article/b999f3cf-9c20-5cdd-a1df-81ad4f691d74', 'nyt://article/9f42643f-3a1e-58b0-8b05-471e25cc5fea', 'nyt://article/34584909-1ce1-5e0b-ae3f-8442725d44b5', 'nyt://article/85b88725-7f8f-5058-98da-25161dabd136', 'nyt://article/a0c9f4df-26d4-57b3-917f-4b7c7febe0f5', 'nyt://article/32b2f331-8909-5df2-b55c-c0b2e563860d', 'nyt://article/eb2e5966-5909-5229-aeb5-e1c1adf0ce4c', 'nyt://article/518634fb-02c7-5186-94e2-c9a6b42e410f', 'nyt://article/afe74c10-e930-55fc-9186-2163146355b1', 'nyt://article/f9386ae2-3ae0-5baf-8064-919dfdbc9e8c', 'nyt://article/0537b6b9-571a-539b-af8c-fc72f2873096', 'nyt://article/d720f2be-e650-5de7-8bfd-c29ba80f95a1', 'nyt://article/d9ad583e-3923-5bfa-bd41-16c10bb50389', 'nyt://article/40316d75-4573-5cb4-97b5-d6c4968d4fce', 'nyt://article/7d2a7a01-0235-5e55-9393-79ed5a8837a3', 'nyt://article/b3f731f4-35e9-5de2-9ae0-f4856b37045a', 'nyt://article/6d8cd85e-52d7-5ea6-975d-431a232b0dd3', 'nyt://article/81ffb8e3-648a-5fce-8630-4adac4158bc4', 'nyt://article/c2eb44e1-4e49-5cb3-ba8c-1953156a9752', 'nyt://article/4487764e-f7d2-5a32-aa38-fbd96d8e4dd6', 'nyt://article/b35fed90-4f6c-5090-a650-c9b3416cfdb6', 'nyt://article/c96f4245-1467-5b45-b131-fa10275af954', 'nyt://article/c20000bf-0d4e-5023-9e9f-8e65e3d98cef', 'nyt://article/f115bed1-d4ec-51a9-86c5-4d32f76e9350', 'nyt://article/8481a933-d337-5c0e-8855-731556cffe07', 'nyt://article/d0c139cf-6af8-54b2-896b-afebb7e42e31', 'nyt://article/5e20df3c-7e2f-5cf6-9a02-6fa25e9bec2d', 'nyt://article/187f196f-0a88-5ca4-bac0-0d91317117f4', 'nyt://article/743db14f-34bc-5234-8e83-636c558578cc', 'nyt://article/f3ffe4d3-01d7-5464-a725-6f402e4384a8', 'nyt://article/ddb75aa2-e63b-5b37-8701-68701fffb7bb', 'nyt://article/0b235f4a-cd70-5c00-a683-d75f4e99a11c', 'nyt://article/6228d681-5c79-53b9-b6f5-e585b587346b', 'nyt://article/23c63bd2-229f-56a2-afab-5ae8b4c1a152', 'nyt://article/8a8af2da-cb84-5ce8-a9ab-8e395265fea2', 'nyt://article/c2107256-a97e-59ac-b0c6-d58cdc2eb6c8', 'nyt://article/c5a3a331-6d04-585c-b237-505d9fb9f508', 'nyt://article/c93658c8-63ea-562e-896b-a5a3fd1b9ffd', 'nyt://article/78b8c3a3-7029-557d-a8a0-1e2567a4e993', 'nyt://article/7b8fbf6e-0c80-52bd-977b-e38aa98ca567', 'nyt://article/f44d83b1-2253-5fc9-b71e-b66295c7cc8e', 'nyt://article/50938998-f3d4-5d7c-abc6-cc77364aabe0', 'nyt://article/aef01dcc-7440-5174-8f8b-dd5b813e2d43', 'nyt://article/823afdc1-8ade-5e3f-ae80-cb0b929b2c1e']",
         "112",
         null
        ],
        [
         "3",
         "Africa",
         "['nyt://article/34e514ce-6ebc-58f1-bf4b-d750eadc447e', 'nyt://video/c28cda1a-5bbc-5b9e-95d3-436104e991e1', 'nyt://article/2099ddef-460b-546e-8cbe-e79f576a45ad', 'nyt://article/9b1d1ec5-5ac4-5f93-8013-335e04ec9de7', 'nyt://article/761bb072-168b-5772-b035-29445430eafb', 'nyt://video/c5aa885c-d3cd-5db8-805c-4b8bdf8fe9b2', 'nyt://article/0edc9a54-8f1d-5153-acdc-c8ae9598b854', 'nyt://article/6e1fb917-1bf0-5d91-accd-97d7cca64cc2', 'nyt://article/03b24e44-d933-5256-ace6-7bedcf5f8c28', 'nyt://article/7564d810-e528-5cd2-b6c9-39811c950316', 'nyt://article/2124da13-72c9-5ec9-a39f-cf25256822d9', 'nyt://article/acd20332-7d58-52b0-af07-1e411c87bd05', 'nyt://article/1d72cbca-622b-5cd7-8153-d8e27af1c606', 'nyt://article/a7aeec8f-6abb-595d-bceb-08e77159f3c0', 'nyt://article/29bd529f-432a-5717-ad45-fe2ff4789bfe', 'nyt://article/96a554d7-a595-551a-a136-e693588841a0', 'nyt://article/f52501cd-277a-5275-865e-0a59491c2f06', 'nyt://article/ac5369ab-9399-5d35-8562-20935e7d7e1c', 'nyt://article/79916a15-0c96-5eb3-88e5-9c174d2bb4a3', 'nyt://article/30ac1edb-2b1f-5a38-a14f-39273ba9cb81', 'nyt://article/1daf3f01-1282-5ee1-b15f-33d4d2ed1c6a', 'nyt://article/86b4c1a2-577f-5d75-af50-c43c385e0d8c', 'nyt://article/b31bf7b8-fd6a-5c88-b518-a92505671024', 'nyt://article/0a1d20a0-9467-5bfd-9919-57ad4aec8fce', 'nyt://article/be7429e1-3754-5ddd-bd35-31bca524e8d0', 'nyt://article/12745a73-8eee-537a-b1c2-d7c566ad0d44', 'nyt://article/a3fd08c1-e5b5-5902-8aef-7c9b324858ec', 'nyt://article/54cf6fad-d579-5d34-ae9b-da8391ac37b0', 'nyt://article/f21af068-082d-5e2c-b775-5a501472a6c2', 'nyt://article/af22806c-5e25-566e-988b-541a5ef200e4', 'nyt://article/08b87991-c3e6-5e54-89eb-f6036de9552e', 'nyt://article/7e380e92-3751-58e9-b5e7-e48a7644fe79', 'nyt://article/e88d421a-f191-582a-83d1-7cf8493b6987', 'nyt://article/bd0dd243-f788-55e5-a3f3-2b77b4708d68', 'nyt://article/4ff0123d-daed-5869-94a7-48c73ddf6491', 'nyt://article/16464684-4c6b-5a60-9440-dac0874f2285', 'nyt://article/c2ae5cf2-31fc-5962-98b0-53d4cd17d520', 'nyt://article/4cef5b08-76f9-5e21-97b5-f827281cf318', 'nyt://article/c09463c7-1e10-51a5-a5a1-a77fb9b369e3', 'nyt://article/2be5703b-af16-5aff-83f5-bea3e04e187b', 'nyt://article/2028ab73-b945-5eaa-85ae-58945f6df85f', 'nyt://article/e0c56701-55d1-56f4-a1aa-ef9972d01ccc', 'nyt://article/af1141d2-d99b-5ede-b14a-1fe44e739a0c', 'nyt://article/b4a2d019-e4a8-5e4d-99a7-17e6db59a176', 'nyt://article/a9962952-192e-5563-9f98-23b0762e03c4', 'nyt://article/3ef47e77-1858-5726-9c78-47609db7c11d', 'nyt://article/36e8adce-7862-5060-a20d-0bde50e726e5', 'nyt://article/a21ec7b3-a1e6-5aae-9498-dcf0f6736877', 'nyt://article/b472a426-1803-590b-ab5d-a81aea32a425', 'nyt://article/3730b3b0-c048-55cb-812c-11e45922ec8f', 'nyt://article/bf77cc3c-2d4c-54d9-8ae9-e8dfce0fb9f9', 'nyt://article/d2477a92-2261-5442-9646-2d8a2f39c689', 'nyt://article/115ae2a3-1305-5cf4-bacf-a292dd0026fb', 'nyt://article/a1e579fc-27a3-546d-b5cd-47ca1b5e9483', 'nyt://article/851273bc-b2f8-5304-a70c-147db8193ca4', 'nyt://article/c5fbdca0-e1f8-53a4-a6c7-33fddc6ea359', 'nyt://article/bcf985cd-fd32-5790-a806-14aec17c69b7', 'nyt://article/f2d8fdc5-e573-553b-90d7-89dac4afd5ee', 'nyt://article/e31e3a66-279f-5a10-8f7b-5292aaeafc62', 'nyt://article/6a7701e1-8497-56c5-941a-b60f7bb87839', 'nyt://article/7da9840c-fd51-5ca4-992c-2aaaa5d16b3e', 'nyt://article/0a00b404-64b6-52fb-af34-c10ec4e5c24d', 'nyt://article/12bb04ae-3579-5e7f-9990-4a2be9ec311b', 'nyt://article/9550ed3b-d19a-5dfb-81b8-fa5b6be9c404', 'nyt://article/a1d911c9-b9f7-58a5-a852-d680b932e0d8', 'nyt://article/61d3e7cc-f050-53e0-b15d-a323d82f05fe', 'nyt://article/0fde90a2-3555-509f-9f1f-26892977d8ac', 'nyt://article/cb4f4363-5bca-5ee4-8681-dd960f371192', 'nyt://article/09ffb689-5efd-5c3a-b678-7c37180810c0', 'nyt://article/baf2cdba-f056-5544-91a2-ef5dc37bad1d', 'nyt://article/4632f1ee-5849-5296-baf0-6d59c6082827', 'nyt://article/963be96d-f29e-5128-8c9d-e66018a92dfe', 'nyt://article/92330159-766f-5471-a44e-5183bf9c0b20', 'nyt://article/bd55f4ba-65f2-543d-9b82-cdd90befdbbd', 'nyt://article/d2c6f481-0408-57f2-a871-e32dcc120554', 'nyt://article/2450e037-f76d-51dc-8e60-9977062a7e0d', 'nyt://video/65648182-015d-5cb4-91d6-7c9b9de8ac19', 'nyt://article/7c00adaf-e22c-58c2-b366-ba96cf84ce87', 'nyt://video/e1613f8c-bf05-5634-b07d-118ebdcb9fc3', 'nyt://article/d41f915b-24b5-50ab-8516-e339cc8cc3ed', 'nyt://article/1ed96e54-e9b0-55a3-9c49-8c8008c7ac5e', 'nyt://article/01fc1fd3-9375-5510-a346-814a67ea5e85', 'nyt://article/1a458b6c-557d-5d53-be61-14baa3c0e148', 'nyt://article/ce946de8-b1a7-58a9-9235-321a9ba0a38d', 'nyt://article/37b141f4-57e3-5d4a-bf4c-56347d70a5ad', 'nyt://article/10d0ab4c-99ab-5790-a1ae-ba8e256bc8d2', 'nyt://article/261dc75b-e9ba-583b-89ab-2976430167a7', 'nyt://article/ebd9cd3a-f412-5583-a3d5-7c4058d8f7b7', 'nyt://article/6450537f-65e2-5229-8553-680e012d7765', 'nyt://article/da198874-4d46-5562-9764-177b80cd0b7b', 'nyt://article/6fadd6f6-536f-538b-8c4e-08f001b3a2ce', 'nyt://article/a574a94c-5c5c-5358-9a91-cd7d6eca9dbe', 'nyt://article/b1e22c6f-12a8-5222-b4a3-97d9684222d3', 'nyt://article/48dcc74b-ff58-5028-8586-713f2bb22b66', 'nyt://article/de5d2cfa-6811-510c-aded-0a3c48c11659', 'nyt://article/b8982717-d348-5f63-a79b-a49d019f3fc7', 'nyt://article/5df94182-64b8-5f64-9cec-1bc3edc769c0', 'nyt://article/2277a789-ee94-54d6-b682-171604883d76', 'nyt://article/0f246c7f-0651-584f-8f4e-7c4d7a26675e', 'nyt://article/d4736f76-795c-5ae1-b47d-6498bf208eb1', 'nyt://interactive/d92bbe07-178e-5c57-a082-9bd9f142344f', 'nyt://article/00280f0b-a8cd-54cf-9d70-adcf0209c281', 'nyt://article/244cb9fb-1377-51ff-8221-63c988ea0b66', 'nyt://article/278615cf-39bc-5967-965d-9db5c5ea3315', 'nyt://article/e7fe4a3e-ef01-5c90-b572-7c22a4e7784a', 'nyt://article/21c8f051-1de8-59cf-9c04-b3a1ac116289', 'nyt://article/8e9c68f9-7b15-536d-a7c7-9b34671ab74b', 'nyt://article/b297deb5-dd36-57e4-b31a-9924d731cf19', 'nyt://article/2b1ac63a-2100-5018-9a89-fd2a7f75a9be', 'nyt://article/99085047-2746-5ccf-b239-fd601fb6ac0c', 'nyt://article/287d15e9-b5bd-5eb3-9d19-a4369c8f705b', 'nyt://article/53f22f58-2801-575f-8668-56a052078ce4', 'nyt://article/b8004aeb-98a5-5078-9924-844a259dd9e8', 'nyt://article/3a4f0a34-3478-5ba1-931f-cc763237ab24', 'nyt://article/741341eb-23bf-5c3a-8fe9-d081f93d4b49', 'nyt://article/f814e44d-c0ea-5658-b338-9952f1f123a1', 'nyt://video/de9700e0-96c6-55de-8b39-64a5831607cf', 'nyt://article/722a8687-4a4a-53d1-8356-d706c5104b93', 'nyt://article/6f98bca6-f886-5b1e-bc0e-60f149f992cf', 'nyt://article/d557840f-e21f-5cd4-92e7-6bb1bcec17e1', 'nyt://article/1af67bb5-b8a4-5149-9e04-1f7ae4d2ffe6', 'nyt://article/869724e4-009f-540e-98ec-5f569c6ad43c', 'nyt://article/a988d12e-2d3e-5812-8e59-4296e40b202f', 'nyt://article/c7b2361f-9a49-55cf-9549-031b1ac2722b', 'nyt://article/f53c045c-2311-55c4-9658-01bb0ae3311e', 'nyt://article/22ae90a5-47fd-571d-8389-0df2021b253f', 'nyt://article/0f142927-e1b8-5e2a-bdef-16baf1605898', 'nyt://article/205db861-2593-5714-beb7-d860aca7a251', 'nyt://article/887c59f5-0b74-52a8-9883-c449ff88fe64', 'nyt://article/cae1375e-ed0c-5637-8ea3-dbbd109743e6', 'nyt://article/4b02bd92-7924-5305-89a2-7ba769c9768f', 'nyt://article/7b8d5bef-f808-53f3-bd94-d305faae069f', 'nyt://article/5fa2ec03-ba22-5aef-a8dc-c6c9696687d2', 'nyt://article/0318503d-be6a-5840-896b-c4fe42835c5a', 'nyt://article/2f41cb12-b6ad-5c03-92a7-33c7b348521c', 'nyt://video/bc445114-120a-5b39-aa31-8b201851882a', 'nyt://article/f0140bc7-842a-55f6-a0b0-2993e7c1dd6f', 'nyt://article/83613aa0-1347-515b-afdc-1e458d87b7c1', 'nyt://interactive/60f082b7-0030-571e-a0a8-9cb88f5ba109', 'nyt://article/68ed5ab0-0f9d-55a4-a800-71b89bbcb28f', 'nyt://article/2b997912-aa85-5027-b47d-75a03dff5e20', 'nyt://article/60598b3b-946a-5b6d-b1b3-6aeab4162e18', 'nyt://article/fca3495d-d370-500f-a63e-170c087a8d4b', 'nyt://article/d8dea8f0-238d-5e4e-9fa0-7849861424c4', 'nyt://article/69a3d453-aed3-50b2-a7d2-4651a47fafdf', 'nyt://article/0508b8ab-69b4-5819-8f48-ceee0d830c89', 'nyt://article/1dfe1dd1-4683-5496-b7d8-ac104d563057', 'nyt://article/e4c8f782-713d-524d-839c-27ac65c932c9', 'nyt://article/c9795436-ab8b-527f-ab17-6181c26b44cf', 'nyt://article/86adb88f-b177-55d5-b0bf-6f9391303ea7', 'nyt://article/95dc143b-84d6-5407-af03-84d244885af5', 'nyt://article/9153fa00-7519-5e57-bc09-1147b87c073a', 'nyt://article/dba9aa49-b2da-56de-84b9-c5e884dcfdb2', 'nyt://article/7c222beb-de75-5309-a5d1-e06d0a1d4693', 'nyt://article/9cb26b2a-a5d9-5020-a0bb-f976031bac22', 'nyt://article/8efa8276-dbb0-55a7-a656-c56a4e4d328d', 'nyt://article/97f96cea-e681-5270-a581-70fe64d84d82', 'nyt://article/047e6843-2d41-5ac8-beba-3d6043aabe0d', 'nyt://article/897a0e53-6076-5a98-bb28-4d7d3df155a4', 'nyt://article/b792e806-eb4a-5489-b55e-3d9ed9f2301a', 'nyt://article/53118789-4397-5531-89b9-9058ba300f0c', 'nyt://article/52534b46-8ecc-5522-8a19-2c3dee24ec73', 'nyt://article/bb0312c2-aa59-50e1-ad3b-86d924cdc54e', 'nyt://article/3bfab5b4-7b6b-5991-84ee-bfff92f65861', 'nyt://article/b1d10a0b-0958-5a2d-932a-575ab2449d7a', 'nyt://article/aba101ee-b370-5aa5-bc83-d9e347daa2de', 'nyt://article/23b21af2-b2fa-5763-8f73-eba2f4d72e55', 'nyt://interactive/f166cb4a-1e58-59f2-b490-63e9242301c5', 'nyt://article/d2bd66b9-b44d-5d97-98c7-b558637439ad', 'nyt://article/ac39261b-cbf2-56bb-8dde-83215f2628b5', 'nyt://article/3d0a2434-05b7-5d96-a800-e28b6bc6b071', 'nyt://article/8212b465-b268-54a3-8280-7d1d8d2071f7', 'nyt://article/5e6ed581-4b25-5b4c-9e8f-c77188dabbd4', 'nyt://article/c86bcf7b-7170-56f9-8404-65c13a813a79', 'nyt://article/22edf542-d819-5470-874b-7bd9e3ebff83', 'nyt://article/605d7f5c-bbec-5059-86a6-7d647a8ce7a5', 'nyt://article/50ccd933-cf6c-5058-a234-33bad9fb138e', 'nyt://article/6af3ed7b-6a79-55ac-bd4c-0cb3b0c33c40', 'nyt://article/6115348c-8c09-5693-9c59-f38ec9b2ac35', 'nyt://article/e00ebadf-3c04-5e16-9dc4-36303c378e41', 'nyt://article/1e6e59ac-8865-5109-931d-6c231cdeef2d', 'nyt://article/e4d46fbb-0e78-5c0f-8bbe-9caa617950e5', 'nyt://article/0012a0ad-54eb-5667-a3c8-15d6b3d9d048', 'nyt://article/1a2b2967-0b41-54eb-b992-75f88cf15b6f', 'nyt://article/63d78256-7141-57e3-a68b-d505a4f59337', 'nyt://article/255c6277-c3eb-5432-a2db-ae1e035a7180', 'nyt://article/b82f9259-712b-5f24-ad19-c7c4641782b8', 'nyt://article/eb3c83f5-72af-5bb5-89d5-e228241da67b', 'nyt://article/b7a2673a-4349-5eb8-b045-68b9d7620453', 'nyt://article/c5ff5497-b897-51d8-ac73-b2801f7f720e', 'nyt://article/822ce6d1-8d2b-51cd-82ca-0ae32407ebfc', 'nyt://article/74d484af-79a5-5b2c-8f07-5b8f014a4bf2', 'nyt://article/d6ece1a0-2740-5d9c-9d59-3971403b7d59', 'nyt://article/1833a84a-13c9-5d3e-ac8d-e7d75a7c0288', 'nyt://article/95dff9e4-43b7-5011-92b4-a66c8aff11f3', 'nyt://article/db8b488a-2f94-5303-8491-9f263f4a14fa', 'nyt://interactive/ae33a77a-7002-542b-af09-9fb0ece51b01', 'nyt://article/9a33ea27-7e9d-5388-a129-da9eaf830392', 'nyt://article/8d866937-2318-51bf-869a-456be1f2a7b2', 'nyt://article/db9bd694-eeef-5b7c-90d2-339096f5e59d', 'nyt://article/67c33467-d217-58ea-957f-08a6fac7a4a8']",
         "201",
         null
        ],
        [
         "4",
         "Albania",
         "['nyt://article/59eb4293-7d0a-558f-9c26-d85c3fb5741f', 'nyt://article/ad09c31e-d0a6-5487-83f3-eb9972ed073c', 'nyt://article/10fad6f0-3d46-58ea-993f-e72f0a7b493b', 'nyt://article/bcf2baf9-10e4-5340-a5b4-bb14266e6a27', 'nyt://article/92b0cac1-e2be-5a3e-ae7c-551df5ec6b11', 'nyt://article/44fa3867-f97c-51a3-ab48-0e8d7efdbb1e', 'nyt://article/0e2bda09-65d0-5c76-905a-160755803905', 'nyt://article/380a2ab1-a034-554f-946a-b25fa746ae03', 'nyt://article/15f3afe3-9972-586e-aa7c-0175ec333618', 'nyt://article/be52e475-dfa4-5634-bdd5-fdf4d2b69be0', 'nyt://article/136bb0d6-4b71-5206-9689-0e34310b709c', 'nyt://article/17de74c5-18b4-586e-bdb3-82a369a8a50a', 'nyt://article/62ed20dd-1ca5-5814-9953-fc0d5c3827dd', 'nyt://article/13c9d470-bca8-59f9-925b-072292e2352b', 'nyt://article/ad206b8a-4281-589f-91ba-f9849978c204', 'nyt://article/322fa31f-8102-5b87-bdc3-3aa680267f56', 'nyt://article/c4a5807c-1cd3-513f-9ef4-22ca540137a3', 'nyt://article/5f3da01e-323c-5b51-a9b4-1e366ca4387d', 'nyt://article/b7e0a501-2edf-5023-80fc-142759f72de0', 'nyt://article/e1e3b6ef-92cf-5a74-81db-c0110676dfd4', 'nyt://article/2c538877-45d0-5a80-872a-728972f0c999', 'nyt://article/fd3c8744-b72a-56d0-b29c-ef4f292d731c', 'nyt://article/68d601c6-5e2e-5646-8c14-c73d2ef5085c']",
         "23",
         null
        ],
        [
         "5",
         "Algeria",
         "['nyt://article/c3adb564-f24a-5f00-b6dc-8d8160eb644c', 'nyt://article/2f548189-1651-568e-9dd7-e7f9a68731b3', 'nyt://article/1cd65247-4ab7-5565-bb58-74689c599ac7', 'nyt://article/8b749158-551b-5a43-8209-e683c4490bae', 'nyt://article/864ec09c-19e1-5bd8-ad8e-8757a337cda9', 'nyt://article/fed7e561-15dc-5cb7-870e-895125df9acf', 'nyt://article/10d2b94d-28ba-56d0-8d03-525b1906293b', 'nyt://article/0703cf95-a591-5dad-83cb-51d9aa7f3e49', 'nyt://article/28152675-18ca-5058-9e7a-0051f44f9b50', 'nyt://article/b9c4ebce-a56a-58f3-bdb9-62179c7029b4', 'nyt://article/7d1db0bd-0a23-5438-b13f-4766a97fb06b', 'nyt://article/ee4e0fa8-7f1e-52e0-823a-a95c4ecc15fe']",
         "12",
         null
        ],
        [
         "6",
         "Andorra",
         "['nyt://article/104610fd-aef6-5226-b256-3201d6648881']",
         "1",
         null
        ],
        [
         "7",
         "Angola",
         "['nyt://article/2277a789-ee94-54d6-b682-171604883d76', 'nyt://article/37b141f4-57e3-5d4a-bf4c-56347d70a5ad', 'nyt://article/4b02bd92-7924-5305-89a2-7ba769c9768f', 'nyt://article/2e185f07-5b16-56ff-995b-212c0018e589', 'nyt://article/74d484af-79a5-5b2c-8f07-5b8f014a4bf2', 'nyt://article/ac5369ab-9399-5d35-8562-20935e7d7e1c', 'nyt://article/d96e87c8-50e5-5a24-b29b-272a018d723b', 'nyt://interactive/6567bdfd-4b48-571d-b37c-5369d5680e89', 'nyt://article/b31bf7b8-fd6a-5c88-b518-a92505671024', 'nyt://article/03b24e44-d933-5256-ace6-7bedcf5f8c28']",
         "10",
         null
        ],
        [
         "8",
         "Anguilla",
         "['nyt://article/f6c99838-b3b5-5508-a14a-357cb7c42d92']",
         "1",
         null
        ],
        [
         "9",
         "Antarctica",
         "['nyt://article/02075533-208f-52c4-8fac-8b4a3b09a237']",
         "1",
         null
        ],
        [
         "10",
         "Antigua and Barbuda",
         "['nyt://article/6a5b8a2f-2334-5ece-b7c9-4aba23462f23', 'nyt://article/3cf30e2e-4bf3-5f1f-af6f-aa9773efe580', 'nyt://article/1bcbc81c-4440-5851-b8aa-b7d319dc6a54']",
         "3",
         null
        ],
        [
         "11",
         "Argentina",
         "['nyt://article/ee8af267-4b52-5681-b399-3266c2644d96', 'nyt://article/a99dfc90-8ec9-5ef3-9dbe-bc857998e1e2', 'nyt://article/cfc01a13-3a0f-5cbe-b7fb-8a0a75aa2e7b', 'nyt://article/6dfa8a78-2369-5d1a-b7e4-d43a8dea481f', 'nyt://article/3818d5f4-005b-5616-afe6-9b8db158f09f', 'nyt://article/4c187095-1104-5fdf-bbc3-a910372322ad', 'nyt://article/90e7e151-69bb-5749-a07f-d18f9ccbe36c', 'nyt://article/2b710b52-6468-50b0-ac03-c9fcb13b5372', 'nyt://article/69514fbf-ab92-55f8-97f2-31ef290b1d76', 'nyt://article/221939ef-96f8-51ee-9c87-65d2d5981c3c', 'nyt://article/96b9d1b8-d204-54e7-aa48-0ec82ac35904', 'nyt://article/00e0f356-2373-5e9b-bb2b-81a6336637c9', 'nyt://article/a68be4e5-8037-5573-a0c1-5190126401d1', 'nyt://article/475ea9ff-e236-58bd-bfdc-49dfaae0d831', 'nyt://video/305af542-d1ec-591e-a15d-efe50ac80e9c', 'nyt://article/f13f2793-c067-551c-bf53-9cdeac32662c', 'nyt://article/4df073f4-1596-5562-aa78-07ec712dc7be', 'nyt://article/34782eaa-d21b-5d6b-a93a-89c01bb9eeb7', 'nyt://article/5a9a074c-cc81-50ec-9f0b-1db2d8fb80f3', 'nyt://article/e4134b26-a1be-5f8b-9d47-eae4a67a23ef', 'nyt://article/287d15e9-b5bd-5eb3-9d19-a4369c8f705b', 'nyt://article/5d1a570a-0696-5b4f-be60-f69d52a1d879', 'nyt://article/f0b09808-e907-54bd-a1c2-bac77b4251fd', 'nyt://article/7e9536c8-c196-579e-89b4-17bb11f1a6b9', 'nyt://article/aad53d3e-9be5-535d-bf3a-2bf6928ebb12', 'nyt://article/3aaeb7b3-1a33-5168-97b1-1ca24cf1f118', 'nyt://article/1d2d3229-b186-5df5-b756-7e500c6668d8', 'nyt://article/1ea6bcf2-2f27-5f75-aa3b-fd4046b44675', 'nyt://article/dcdfc485-364a-5a09-bb3d-79f645a6f129', 'nyt://article/69e295b2-d237-51ba-b0a1-58b4daa6d998', 'nyt://article/3d67c170-96cb-54cc-8b42-7845902fdfcb', 'nyt://article/267c0ec5-75a2-57fb-89df-4fd23864c464', 'nyt://article/c5f16ceb-bd2b-5cec-9bf3-0ed54688258b', 'nyt://article/f7937c5e-ddc5-5654-b164-b46dd6cdd82a', 'nyt://article/19ee29b3-921a-5d83-9361-2fc4962d1519', 'nyt://article/75a864c5-04f2-59ce-95ff-4615065d9c00', 'nyt://article/31999821-d491-5371-beda-da668f7f26ac', 'nyt://article/8664a8ae-73f3-5801-b213-67cd8c9cb20d', 'nyt://article/4c6f979d-2a8f-59ad-9b08-36dca4221207', 'nyt://article/2ee149a0-7bcf-5125-9d4d-8832a20740ae']",
         "40",
         null
        ],
        [
         "12",
         "Armenia",
         "['nyt://article/75a6b57d-c8f0-5902-bc26-bdc47ffe65de', 'nyt://article/f9386ae2-3ae0-5baf-8064-919dfdbc9e8c', 'nyt://article/aa53562a-37eb-5ead-8519-ca910628a9e2', 'nyt://article/cea90935-2c07-55f1-81af-32de2c80925c', 'nyt://article/2c4fcfe0-4152-5915-8da9-ff3f6df3f13d', 'nyt://article/cdd5b359-8961-52ac-86d2-4d9c675b224d', 'nyt://article/6d2cecfc-ce5c-52c4-af05-39822d596bf6']",
         "7",
         null
        ],
        [
         "13",
         "Atlantic Ocean",
         "['nyt://article/a5136a92-6afb-5432-9f93-625e9256e94e', 'nyt://article/60a7823f-7d4d-530e-99de-67654a4af404', 'nyt://article/97b4dda5-70c8-5b3f-9742-d4822f210754', 'nyt://interactive/eaf9bafe-7188-5b9b-975f-2985d7da6e59', 'nyt://article/5b4cdeca-c115-510c-8498-c0d6735aa41c', 'nyt://interactive/7db7a662-415a-5f69-818a-b54b2c71472a', 'nyt://article/09ffb689-5efd-5c3a-b678-7c37180810c0', 'nyt://article/b07cf9ea-5a9d-5caf-bc0d-b9a99918595b', 'nyt://article/c0f3bb31-eef6-502b-99e3-ab60aad7cae7', 'nyt://article/caf98741-73b7-5dc0-bfc0-9314490fb22e', 'nyt://article/c11ec4a5-7b2b-5667-aa68-10804f13ae49', 'nyt://article/225bee71-36c6-5d17-95dd-3cc8e6b2f58c', 'nyt://article/ad3e787a-754c-51ca-b606-132d5b1f3f3b', 'nyt://article/770e4237-53f9-5491-860d-80a977088d50', 'nyt://article/4f888723-08c3-5ea1-bff0-f75243b8498e', 'nyt://article/dcad3d9b-255f-521a-8294-b44b93009dcd', 'nyt://article/3f1e157d-c5c6-5b73-a440-21b65b99e965', 'nyt://article/a2d72927-aee9-54dd-a735-542ea8cab7f8', 'nyt://article/cc5697ec-c716-5058-a6c0-2562d2723803', 'nyt://interactive/96205d10-5673-56ef-8222-d191e2d73b12', 'nyt://article/cae1375e-ed0c-5637-8ea3-dbbd109743e6', 'nyt://article/3fe933dc-e648-5e5a-8a53-5efaecec3d72', 'nyt://article/eb2a66c2-06ae-5eb6-a95e-5d0fc7512407', 'nyt://article/4ec54862-bb61-5eb6-ad1e-6087ad8084ed', 'nyt://article/263d8349-38f5-584c-b13b-935d0c778739']",
         "25",
         null
        ],
        [
         "14",
         "Australia",
         "['nyt://article/3563f56a-3056-5a0c-b474-d2d5a4247922', 'nyt://article/fe23ea72-9efd-524e-b770-f46c19d981d6', 'nyt://article/b76d0575-7b3d-5155-9c41-c65d6cdafab8', 'nyt://article/c6089f4b-2fe1-5cbd-97af-e2c324678c24', 'nyt://article/b2083fb9-94b4-58ad-916c-cf7cdcf18bf9', 'nyt://article/652b98b4-01b8-5cb5-bc03-1a8da6738669', 'nyt://article/3f66c66d-cd58-5515-a4ae-e80817e63c9a', 'nyt://article/425a7f86-da47-573f-ae63-0850cee54ec5', 'nyt://article/dd20d078-bad0-5148-889d-06ad5fdc979b', 'nyt://article/061eb34d-2e8a-5ad1-9454-9231d1d6b2d4', 'nyt://article/98dfd0f6-afd3-565a-938a-4c8b0208c5c7', 'nyt://article/47bc3e9f-e57d-560e-995e-893893097634', 'nyt://article/2e05dd10-7579-5ceb-8bcc-45e7e7094db9', 'nyt://article/71b11108-74c6-5e72-b470-64ff9076e574', 'nyt://article/d8dcf526-b866-51eb-954c-95fdd3249d69', 'nyt://article/cad8a90e-a713-50c0-a3c4-8075e01a3b82', 'nyt://interactive/67ced5f2-a79a-5c20-8325-f7b481a10ba7', 'nyt://article/554d6170-13ae-5f28-9875-43dcc5dd7845', 'nyt://article/b91b1dce-323e-5224-811f-d2dd834e15ed', 'nyt://article/8ceeb74c-0110-5697-af59-7e47b2a6ba75', 'nyt://article/7bcbb47d-31ac-590d-ad28-b819e0b0008f', 'nyt://article/67f32b08-b2ab-5a8d-adf9-e7bcc43d60d5', 'nyt://article/af22806c-5e25-566e-988b-541a5ef200e4', 'nyt://article/3217200c-c746-5c3d-ba58-e37ed88100ad', 'nyt://article/c46de21f-3a35-58d1-afff-a67502db7d8c', 'nyt://article/32d145d4-6e55-5944-9838-2d316ca98d7e', 'nyt://article/3ff5d1bc-c26d-565d-94dd-bc6bfe1d7008', 'nyt://article/06c9f0f8-3aaf-5548-a738-28948eca6167', 'nyt://article/9f3c17ce-c610-508a-bc43-920f5d3848ea', 'nyt://article/00603561-a0a0-5bab-a43c-3f17d2192e27', 'nyt://article/06e7db61-c677-576d-8135-71e878ae3a5d', 'nyt://article/0bd12f62-b720-54c1-af64-9117ac29ccc3', 'nyt://article/6251e76b-f6d7-5165-be3a-a5cff3d96a92', 'nyt://article/16c2aa96-8e3c-5d2b-881c-deb8234d7c97', 'nyt://article/2215bf79-c1d4-5a56-b215-e2716de6d6c8', 'nyt://article/b9c20559-ae99-57a6-bf69-c6be68c332f3', 'nyt://article/36ee0edb-21e9-56c9-bb84-09c4415a4516', 'nyt://article/cef0e70b-c58e-5305-ad95-b70eef7d5bb0', 'nyt://article/e26c4181-09e4-5d1c-a561-231cc8093242', 'nyt://article/dfb763d9-6c6a-56b7-884d-c11c0ae498f5', 'nyt://article/9688220d-01bc-50fc-8f86-407d713579cf', 'nyt://interactive/6567bdfd-4b48-571d-b37c-5369d5680e89', 'nyt://article/676a190a-3d84-55e6-a811-46830fd713ca', 'nyt://article/49132651-85b6-5964-bb47-4c9885b4946c', 'nyt://article/720399f2-c1ec-5608-9963-cfaa03abd183', 'nyt://article/a2204e08-ca5f-56a6-8ea0-00ca67b4119e', 'nyt://article/0855a4d1-fe51-5619-83a2-266910bd6b66', 'nyt://article/eb0f1578-0dd7-5251-b08e-54ae3e7f1665', 'nyt://article/cff5a46a-595c-577e-bd69-553d6c3c9b68', 'nyt://article/b5f5cc46-54cd-5d00-852f-84232961c7b7', 'nyt://article/4351b3ff-a09e-533a-8e8a-20bf9313fad4', 'nyt://article/706d7ff9-3245-5bfb-88b3-7182f1e33f24', 'nyt://article/6c12a257-a682-59b1-9b23-24f0e7c044e9', 'nyt://article/2bb0b4f7-43a5-58be-a7dc-12423583607f', 'nyt://article/4329a608-2816-5cc2-847c-f5c7aa77154e', 'nyt://article/e5471980-ba2f-5f95-82e7-937c6df7600e', 'nyt://video/621c2d01-fcd9-5a73-8670-4fa5700b863a', 'nyt://interactive/592ac49c-845b-5dac-b58f-1188544ba8ef', 'nyt://article/5b45e5c1-31bc-5efe-8c6a-5e88a1746d88', 'nyt://article/bc4f3742-1a90-5f2d-97b8-82bf0a12aa73', 'nyt://article/9f91c450-328a-59be-be41-570acf122f54', 'nyt://article/eecc4f8b-8945-5550-b10c-5d399b52881b', 'nyt://article/2d0acbc4-907a-5c30-ae8b-46f4f91b8eee', 'nyt://article/2b44b26f-8d1b-5505-a9bf-69222111d126', 'nyt://article/e006afd4-6c29-5f00-b2d4-0ab900d70971', 'nyt://article/d398c491-8159-59db-9acf-c6e0e56452ca', 'nyt://article/42f9e59f-4cae-568a-8c53-f7af86c5a0e8', 'nyt://article/51f500b8-a1cf-54eb-8475-f0e432a25fee', 'nyt://article/cf9cc005-019f-5295-94f3-3434428a34e4', 'nyt://article/099e95b8-18fb-5cb6-9786-5648012b3e9f', 'nyt://article/7f9ad818-d7c8-5a56-9971-7a06b75dbfef', 'nyt://article/10b68136-7d20-5392-bac8-0a29cbb85c8d', 'nyt://article/a96c6023-96cf-5717-8d45-e5cc280e6d2f', 'nyt://article/5948bf75-d080-593d-81a2-139d05ff4c88', 'nyt://article/49a28e7d-8629-5fad-90ee-402b4c3cab8c', 'nyt://article/8a91af8a-f287-51dd-be98-33ea7e295bb5', 'nyt://article/debe2484-03f5-5cbf-a1ac-6056e50e5948', 'nyt://article/3d580611-6876-523b-96b6-bbe7ce334fae', 'nyt://article/88840da1-c29d-56af-b5f6-62d8ec78b420', 'nyt://article/ffa79e3b-c55b-5fde-82fb-4ff03950be92', 'nyt://video/bdaac810-5220-5ee4-81d8-8026e77fed50', 'nyt://article/118d7f4e-fe02-529b-9b92-f5dcb79ffd8d', 'nyt://article/b3127485-6e94-5ec5-8e22-8f22497d131b', 'nyt://article/1157b69e-7313-5ec9-bae3-ddda52e6d3ed', 'nyt://article/3f49b19e-4f33-5e73-b680-102580073eaf', 'nyt://article/0cd7fcd9-8dc1-503a-a47b-fc7218af6fc5', 'nyt://article/6dbdb063-b109-519d-b8c3-1e3eb738b2c2', 'nyt://article/1d5a61ce-b39d-54e7-90e2-561418801840', 'nyt://article/8e005a41-73c4-5e0f-a9f9-a130c967b0b2', 'nyt://article/d6f8bd48-893f-5a5b-afa6-d034baa3c4ef', 'nyt://article/6a251768-d7cd-5d42-b3b9-fd6314f11f82', 'nyt://article/7ba22bd7-f3b7-5cda-989e-9229fc9e995d', 'nyt://article/bce3ca60-af67-52bd-a7ef-48827ff604db', 'nyt://article/fc948308-79e0-54f2-b519-7a586596cfc8', 'nyt://article/607b251e-2a94-5a47-b201-4775af12519d', 'nyt://article/e5b3ead7-33f0-52b2-aae7-44ae0d9f51f3', 'nyt://article/47c01780-bf2c-58bf-878b-5dbf02c70664', 'nyt://article/b5ae1e7d-b013-5938-9f49-dd53b2e0f5aa', 'nyt://article/608ddbb7-37de-56a4-9d69-f040a32319f9', 'nyt://article/17ea0afa-d3ea-55a2-85a8-8799db99297f', 'nyt://article/474be2fe-a5d4-5308-bbbf-c34cfc596252', 'nyt://article/2a67f414-d79f-575d-b6d6-864778e9b09b', 'nyt://article/73af21ea-3c4b-58b3-9ebc-a4b0ee887f41', 'nyt://article/60d90eec-2fbe-59a2-b893-decc14f2a739', 'nyt://article/c6be1920-767e-52bf-a64a-b58093e0ddee', 'nyt://article/0e578382-17ca-55b5-ab06-f61b9142aa97', 'nyt://article/0160c299-c582-5ed6-b89d-36b1ceff4ff1', 'nyt://article/68a8cded-9ea6-5dce-be58-9148037275d1', 'nyt://article/a77b5684-71b4-5d71-acb0-b19bfb9730b5', 'nyt://article/39db45b5-6f87-5dee-9d1c-817323abd158', 'nyt://article/e430b01c-f32e-5382-bf19-e0df4e7ee669', 'nyt://article/ec9f5472-3ebd-50bb-a58b-57b0d0aff90a', 'nyt://video/359ed06d-e7da-5737-a242-9d6ce247f411', 'nyt://article/d7a1f468-2b98-5872-a037-714ecdfa250c', 'nyt://article/2f13368a-d180-5465-877f-375210a7aae7', 'nyt://article/b7006bda-96bf-5b9a-a9fc-4bb7a8e250f9', 'nyt://article/538158af-eb06-5ac9-ad44-252e3d8c8c70', 'nyt://article/9a728ca5-b4bb-5b60-be45-053646dcdb10', 'nyt://article/ffb67ff8-6919-565f-934d-5ffb8e6ae707', 'nyt://article/428a36ff-3d0c-5b52-b36b-8b1579756c9c', 'nyt://article/493c5943-03b7-5b66-b5b3-ac40b21a4fa5', 'nyt://article/d5c231d7-9185-5351-b6ec-9b70dd39a9a1', 'nyt://article/e82db1e6-3dbb-5127-bfb2-58b786a0cfde', 'nyt://article/27d79a98-34d2-5ad6-b3e1-4bc2831e105d', 'nyt://article/8cee40e9-c89a-5d5f-bacf-cfaaad424501', 'nyt://article/16bce510-5444-5bc3-81a8-0ffc2da4b735', 'nyt://article/2b3e0c2c-ccc8-5390-baa2-1c2256bd7504', 'nyt://article/8953986f-8715-5bc9-916f-21ff2bf12b78', 'nyt://article/006014ee-ae56-57f6-9fa6-d9b8bc7b6a39', 'nyt://article/4336fc5e-b8e2-5566-977b-a86ef2fab052', 'nyt://article/bbbe8d7b-b00d-5365-b841-c8a8389654e0', 'nyt://article/9abf3e81-2ab2-57e7-bcbb-8c620efc57db', 'nyt://article/0aeeff1c-c7e8-5bd8-ae39-49e9db19afd7', 'nyt://article/8318e157-1ecc-55cf-936b-7a456604575b', 'nyt://article/8a3f7f3b-d31e-52d7-9fda-ec0650944448', 'nyt://article/fb47e6aa-08ac-577c-8a01-12492887fb64', 'nyt://article/b51b7af6-a131-5f00-ad12-ed465377374c', 'nyt://article/dfc344db-f96b-5342-96c0-18afc3f8af86', 'nyt://article/250a7f52-542f-59f3-9b19-fcadf011716c', 'nyt://article/023e6842-0a67-50c5-a9fb-d6c6daa49b56', 'nyt://article/1b0e35dd-eef5-53a9-bc04-a22d6b53ca16', 'nyt://article/c53c9271-b07d-565c-9223-5ae808535c9d', 'nyt://article/722bf5dc-b37e-5c0b-bd0d-d7d281dd6e89', 'nyt://article/c85916ae-496f-5a54-8f09-f151d3bd342f', 'nyt://article/a9ac8ef0-cf48-5585-a00b-8bbf7fa4e708', 'nyt://article/e7116934-5e86-5988-b768-679684affdec', 'nyt://article/e5425a94-61df-57c0-9196-277af1de1d3e', 'nyt://article/c483068a-3157-54eb-acb0-366f23bb78d7', 'nyt://article/687b6d9d-5528-5fb7-ada8-9ab44ef6be68', 'nyt://article/1b7eee19-0e72-573a-a482-860d6d3939d8', 'nyt://article/58bbfd2e-c709-5151-b0cf-0c4c5a2d7bd2', 'nyt://article/600d6b67-e4e8-5d60-846f-78bb05d7ee00', 'nyt://article/1ddbad3b-de6a-528d-9112-b5b2f5e7455e', 'nyt://article/7589117b-71de-553b-b661-9d73f08ae91d', 'nyt://article/61efa0ef-43d3-54ae-8387-66d17e19b8bd', 'nyt://article/0479c98b-f429-5c45-9482-ba056384e378', 'nyt://article/cbf64f15-de9a-5064-bd0b-b6144147c426', 'nyt://article/01df8223-4f04-525e-b8a3-78436d1fc483', 'nyt://article/e7fb592a-8bd3-5616-a186-51a4c61cdcd8', 'nyt://article/63f1260c-5fbf-5289-80e5-5044d958abf5', 'nyt://article/f9e370bb-d78c-5b2a-9f7f-dcc693309e3c', 'nyt://article/5dd8d0c4-deca-59d3-a5e5-0b8ad861ac41', 'nyt://video/d8b508c0-4274-5602-9f7a-0eef478cd90d', 'nyt://article/06dd8692-c554-54b9-9617-79dc1b0c2294', 'nyt://article/34f1b048-9437-54b5-9f62-e4f4174902c7', 'nyt://article/a24352c5-2916-5877-9c38-7b4b58d1909f', 'nyt://article/943d5f12-ce5f-5d0b-a103-684e46194abb', 'nyt://article/5e419777-a56f-5cb1-bee0-f14b8f83c13f', 'nyt://article/b86436f2-910e-5322-91fe-dda663ec7632', 'nyt://article/7740d88e-2bbb-5b60-8ad4-d83e942ceae9', 'nyt://article/c0feb0c9-7c34-5a17-8051-486f89a9dc9d', 'nyt://article/f4fc51c5-eec5-5b89-bba6-278ca712452e', 'nyt://article/b3dda245-86f2-5cbc-973a-45e4288c99f3', 'nyt://article/aedf4e44-a24e-5a35-b52d-f985c3586596', 'nyt://article/2dd8464a-9b63-50ff-afaf-9795b1a91694', 'nyt://article/e18f7c69-da2f-5161-9415-bd1c183151b8', 'nyt://article/351acaec-0e7b-5362-b7e4-c1fdeabc7014', 'nyt://article/5fc83e76-d158-5d8d-9669-87b0a57464fb', 'nyt://article/610ef9c7-708b-59f0-b8a4-80f335639f93', 'nyt://article/604079b3-73ea-5c91-b1e7-2209015a286f', 'nyt://article/4b594950-5710-5481-8a9f-97a3c8379add', 'nyt://article/505e16c1-d8f9-56df-b76e-9cd68a7ab33d', 'nyt://article/0e878c95-5a0c-5039-bfe9-c330dc353a6f', 'nyt://article/774ebdf6-f169-52e6-88a9-900e7a14d394', 'nyt://article/017d6bcd-8331-53b6-8e9a-3a8b8dd00270', 'nyt://article/b2b37b59-ed75-53c5-92cb-6577f841e0f6', 'nyt://article/7d8a58d8-3012-5f27-b5c0-ea3ae97e575c', 'nyt://article/e0284004-ca69-5ffd-ba0c-06dc4d532f73', 'nyt://article/010ebe23-59ec-5c1b-8311-d3e7a8f0edae', 'nyt://article/3c790392-f090-58f4-8709-d792f161cbed', 'nyt://article/3cfa128b-7fea-5e24-b805-0a30bc411c6a', 'nyt://article/398f03de-dc59-5101-bce0-04b2275b68cc', 'nyt://article/843117b3-f38a-5831-a8e3-7b86d7733b6d']",
         "193",
         null
        ],
        [
         "15",
         "Austria",
         "['nyt://article/670a186b-c06b-58f0-a238-c411d99059f6', 'nyt://article/a9945d58-6d62-5889-b609-c487bfd5069c', 'nyt://article/6a5bbb3e-eac4-51fd-8ff7-cf9c18c99aaa', 'nyt://article/0659b583-2941-5ea5-a00b-b6121b5c83f1', 'nyt://article/c20000bf-0d4e-5023-9e9f-8e65e3d98cef', 'nyt://article/ce1cddcf-3d19-59c7-acc8-a522d1fdc119', 'nyt://article/07f9b643-eef6-550f-b25a-4312a5c2f68d', 'nyt://article/4062fb42-d47c-5de1-a685-f0ff645c28b8', 'nyt://video/ba0d555f-09e9-547c-bfec-3cebce70cf3a', 'nyt://article/9338e337-f8bd-57fd-9f99-a4b5d3e00490', 'nyt://video/64329d3e-7457-522b-b616-7a45df9583e3', 'nyt://article/f346f96a-8d34-53c4-88b4-f2e41179af65', 'nyt://article/535cae89-dd25-5958-8c27-9d3940128215', 'nyt://article/da49e385-de04-547e-a135-b96456b2f2ee', 'nyt://article/9119b453-c943-54ab-8cb1-157add50b82b', 'nyt://article/82e888a7-65f9-56bf-8b75-93affdd15a27', 'nyt://article/de545c26-765c-50f1-9ee4-cdbb26c758c1', 'nyt://article/3f434785-de8e-5103-bfd0-3aa326b95b3a', 'nyt://article/b6a4d362-fd4b-550e-a10c-3fdaff9393eb', 'nyt://article/9f7588ca-4f94-5a9f-9c31-ffc7bff7bd74', 'nyt://article/109a7c51-3991-5a42-bfb3-753b12683cbe', 'nyt://interactive/81213565-7304-5188-bd4c-be87a1d2b554', 'nyt://article/7dd19b59-156c-5583-bd77-764448662a9c', 'nyt://article/edc7fb55-4d27-5863-9ccd-0403d16b0651', 'nyt://article/80fb2c87-6c72-5bbc-b050-89225dfcb929', 'nyt://article/2982e829-2cc6-5d1a-89aa-0dc4f495bd0b', 'nyt://article/a0b57494-0710-50f3-9c8a-dec7c3c19938', 'nyt://article/45fc1283-ccb4-5b3d-8498-664d6424d7ca', 'nyt://article/4336fc5e-b8e2-5566-977b-a86ef2fab052', 'nyt://article/bbbe8d7b-b00d-5365-b841-c8a8389654e0', 'nyt://article/7c902ee6-e04f-5302-8340-097035a8ca57', 'nyt://article/38ce97ea-cd09-5520-9753-e23f6a4fb62e', 'nyt://article/6eae42d5-f0cb-5dff-83ed-b762bab8194f', 'nyt://article/3d1badc3-b35a-5d07-a6d5-8a12d1704463', 'nyt://article/6569ee78-27af-5059-beac-731d96175409', 'nyt://article/2d49cc50-dce5-5506-8cd6-c10810138ffa', 'nyt://article/769e4249-b283-5fb3-a493-7341db70f0cc', 'nyt://article/bbfae0d6-4d3e-5b9b-b914-041d2cbbf485', 'nyt://article/f5f06545-8890-5a08-8b68-6013f50287fe', 'nyt://article/bbfe3f9f-71b5-5866-ae83-ff98e3eb8ed8', 'nyt://article/612c3665-1ac8-5314-b669-40c06b40e7c6', 'nyt://article/739f8cc6-dc23-572c-8891-33dc65a9a6c0', 'nyt://article/d9d748ee-8391-5b7b-866e-77903b2762e8', 'nyt://article/4651a01e-c9e5-5f1e-964d-f713f267a818', 'nyt://article/489d15d6-0318-5528-a1e8-2dd8cdb2f5d2', 'nyt://article/6825921e-2366-5d36-8888-7039f99c7a5a', 'nyt://interactive/0770ec0d-4b73-5fe3-9f9d-e453a724e45d', 'nyt://article/9214308c-0dc9-530d-b672-42164d3e05c7', 'nyt://article/1e7d04dc-c6e6-5da1-a83b-3074b0a4f9da', 'nyt://article/5c93f3d5-8d8f-580b-951e-bc354a275aaf', 'nyt://article/d0d0c232-0ae1-5d3e-b897-ae648a271c17']",
         "51",
         null
        ],
        [
         "16",
         "Azerbaijan",
         "['nyt://article/1fac1725-38bf-566d-8337-65c0706ad4a4', 'nyt://article/75a6b57d-c8f0-5902-bc26-bdc47ffe65de', 'nyt://article/bea61699-24f2-5265-a22f-9076f851ca5a', 'nyt://article/02a1c5f2-d20c-5376-a04b-46ba64bc0b52', 'nyt://article/2ae1c323-fd56-5a8f-9436-c490aab9e213', 'nyt://article/79fe9ff5-ef5e-589d-913c-8be4b5e4bcc2', 'nyt://article/a20b75ce-1caf-5292-9f23-2c0179843348', 'nyt://article/d97b0f8a-fed7-5478-933a-fa3964997570', 'nyt://article/15b999e8-4ec7-5c3a-b383-38d4882eb462', 'nyt://article/39af62ad-0e32-5ba2-8d59-b545735c0d7b', 'nyt://interactive/63331587-3ed3-55c1-8475-7612b1f63f8a', 'nyt://article/2bd94bf5-a815-5d9c-a58b-7dcedaa97026', 'nyt://article/2c4fcfe0-4152-5915-8da9-ff3f6df3f13d', 'nyt://article/9d488c1f-3d6f-5fbe-8307-2a18cefc53f9', 'nyt://article/2c3b6715-4f1e-5613-b5a7-cdede0a6995c', 'nyt://article/5f9b06a3-91f8-5f84-bfe0-f0afdd7a0471', 'nyt://article/36c648dd-92ae-5811-b8d7-e174adbac1b2', 'nyt://article/7c990f69-0455-5658-8374-07565c77ca27', 'nyt://article/4c1ef574-dc8a-5c14-83e4-746375e43e14', 'nyt://article/bdfdc886-d7a1-568f-af0b-5b0dc316b89f', 'nyt://article/aa53562a-37eb-5ead-8519-ca910628a9e2', 'nyt://article/0d118bb0-9370-5c0f-9c92-1e0588cb955d', 'nyt://article/181e8c57-77f4-5633-8052-035dd125bd36', 'nyt://article/6d2cecfc-ce5c-52c4-af05-39822d596bf6', 'nyt://article/6f1c8fab-c5ed-5aaa-9191-a0552e7cd2a9', 'nyt://article/a008167d-fddd-5f78-a94f-a5c20c40e7e5', 'nyt://article/f9386ae2-3ae0-5baf-8064-919dfdbc9e8c', 'nyt://article/385388d5-2e5f-5321-b23b-4e0afb0c4940', 'nyt://article/d7b0de2b-9d50-5a2d-88b2-5390b5b7de3b', 'nyt://article/d7ea26e8-b61f-5975-bd0e-ff455733ac5b', 'nyt://article/250d49a7-b629-548d-a99a-a2aaf0e3a728', 'nyt://article/7104a8cf-de19-5482-9efa-d93c012227d2', 'nyt://article/7a9cbc11-d086-5980-855e-e8abbab5ee40', 'nyt://article/58fe85be-4962-51bd-8f47-46c1ccbf8f5a', 'nyt://article/cdd5b359-8961-52ac-86d2-4d9c675b224d', 'nyt://article/3b3d552e-a57f-53c5-8ff0-31113b14c493', 'nyt://interactive/4d85e505-f0a7-57c8-b4a4-7d2018223598', 'nyt://article/dfe287c5-254d-55dd-8245-66c18bc92edd', 'nyt://article/5f2ef024-54ee-5815-8fe6-ad8f68e23f5b', 'nyt://article/b523611f-4c09-52bf-a76b-e31fe00e1ec2', 'nyt://article/cea90935-2c07-55f1-81af-32de2c80925c', 'nyt://article/ea2f8cef-794a-52e7-8891-8656b2891bab', 'nyt://article/1ac32ed3-b543-5290-a03a-385cff024025', 'nyt://article/b2c28cce-ffdf-551c-a4e7-27d9bf22684e', 'nyt://article/ff0ee5d0-91c1-5420-a030-64e56a472c13', 'nyt://article/44ff88f7-5c8e-575e-b710-983fac884ec0', 'nyt://article/9cdc7f20-65d5-5c7b-8264-99b07744af9c']",
         "47",
         null
        ],
        [
         "17",
         "Bahamas",
         "['nyt://article/f55d75df-7984-5796-871e-e9808f9a7b95', 'nyt://article/3a456fac-0fdb-5d08-a280-a3fb1bb27b7a', 'nyt://interactive/0a438c12-d60f-52a4-be3d-ca4aaf493aad', 'nyt://article/8a064346-c360-53bd-a6bb-93ef461de02f', 'nyt://article/4c432d3b-5d3c-513d-985c-5d2e2a3d06cc', 'nyt://article/72ff5af3-f710-5967-a74b-1cd1105d4110', 'nyt://article/3c489b15-4e6a-5b33-a153-2eed5cd30deb', 'nyt://article/7218d0b7-3509-5552-8ab2-6370dc25b31f', 'nyt://article/5205dd9f-385d-55f3-9e25-316e4a05cd82', 'nyt://article/ab667a0d-a2e8-59ae-ac3c-ef6a611c2ba3', 'nyt://article/605556aa-111e-5eed-99b4-5ab87c8e327b']",
         "11",
         null
        ],
        [
         "18",
         "Bahrain",
         "['nyt://article/6cc38047-747f-51f9-8f85-f98e36b2b992', 'nyt://article/1104a490-62b7-507a-9fab-1783f67a7d95', 'nyt://article/4db02671-1c0e-5b3e-9c95-645b54d2f8f7']",
         "3",
         null
        ],
        [
         "19",
         "Baltic Sea",
         "['nyt://article/9cbcf0d0-527c-5022-9bd8-b399f459f42d', 'nyt://article/3680adb7-fe2f-5377-8a70-d6fa4f9ee2d3', 'nyt://article/7ad346da-06c6-5aa4-9f44-13e3dabfdcf8', 'nyt://article/62d1bb37-54d6-53c6-9d6d-5e43431f3335', 'nyt://article/c747a563-86b6-5583-8528-5d5d82c573c5', 'nyt://article/59773ef3-f9a2-5811-b338-a3f62ae4eaa2', 'nyt://article/bf938858-5d5d-5907-8726-929112ccc441', 'nyt://article/3f82b219-3267-5601-9fdf-c806ee1f9f16', 'nyt://article/2f502b81-e9f8-54e1-b1b9-814c7b61cf70', 'nyt://article/e8dd346d-fb45-5698-afc2-8d1aca18cab5', 'nyt://article/3bb65254-fb8b-5779-801d-5f533b78bce2', 'nyt://article/70a2d5c7-eb7c-5a47-841a-cf93e986f761', 'nyt://article/e0535641-550c-5375-aa88-d76d316835c7', 'nyt://article/b2d50f5b-6b2f-535f-bc99-b1fdbbc677ee', 'nyt://article/3d3af5c5-012f-5512-a7ef-4373b2cfd830']",
         "15",
         null
        ],
        [
         "20",
         "Bangladesh",
         "['nyt://video/d7eed2c7-86dd-5334-9768-b58516f4f125', 'nyt://article/8fb3e25e-d5ac-51ab-b4ee-52cd2e06e9e1', 'nyt://article/1029ca29-7478-58bf-bf53-2137bb57ca7f', 'nyt://article/d1995898-4e16-5f85-b9fc-83a1dc0f5c31', 'nyt://article/f59ad265-6b02-5b47-87ab-40491a7192f4', 'nyt://article/84267c45-d863-5b57-810f-589d61c16a27', 'nyt://article/e71deb6c-14ca-5446-acb0-557595a1c768', 'nyt://video/5b91da10-fc8e-580a-b37b-cc4fdb11b1a7', 'nyt://article/5774741e-8fea-5f49-ac70-ce4168a37b07', 'nyt://article/255b5563-597e-5283-8031-70f235aedc71', 'nyt://article/ebd1ec32-ad41-578b-bdf4-274284a3badc', 'nyt://article/da8e3167-7608-5e86-b657-f9dd213b4cc0', 'nyt://article/acd20332-7d58-52b0-af07-1e411c87bd05', 'nyt://article/396deb75-4e1f-5856-a8eb-1e3e580d5450', 'nyt://article/9b6b0318-db8f-58be-bb65-5d0217d80de8', 'nyt://article/1674bd72-13ee-5d08-bb54-0c3ce48fe673', 'nyt://video/eb3b13e6-599c-5c12-9fbf-c4db7a880801', 'nyt://article/498ca601-204e-525e-bf4e-97640d9a70e9', 'nyt://article/38e0530b-d424-5ba8-9c4f-277eee69f102', 'nyt://article/936b5914-211d-5657-83a4-a9b74a4a6cf9', 'nyt://video/d9b4cbbf-d8dd-5348-bc51-4c250f866d67', 'nyt://article/f5c39b45-ce9a-5bda-a008-c98c0684c491', 'nyt://video/cc737b7c-ab5a-59a8-95e1-816ad4887397', 'nyt://article/a0f463e5-dbf2-5a92-81a9-d066f36509f0', 'nyt://article/cb0045e8-0494-5f4e-b589-de52b5ea985e', 'nyt://article/80dc1747-cf04-5beb-a934-619f952d75e1', 'nyt://article/ac3aba66-b791-52e7-9ad5-cbb0db0d13b5', 'nyt://article/d4835673-3e5b-5cb9-a68b-4b895d740999', 'nyt://article/6406f914-ccce-5054-a329-b9b8414c9c95', 'nyt://article/823b3d55-b82d-503c-8a18-68d6933d4625', 'nyt://article/a05942c6-58f1-599c-8fc0-2d3224b02cc8', 'nyt://article/3cc92856-efcd-5e80-bf10-797afacb4f84', 'nyt://article/cafa3f9a-8004-526b-9927-c06cd85f915d', 'nyt://article/9236f415-552c-5965-b113-e3b12c7acefb', 'nyt://article/88c85774-df15-53fa-b7f1-482980bfcb43', 'nyt://article/89c8e9e3-fe76-5a94-92cb-414d811ee293', 'nyt://video/ef3d4115-649f-5efb-99f7-c1ef9c7270c6', 'nyt://article/dbdf3b95-c4ac-5cd5-8644-8e866582656f', 'nyt://article/7084ef60-da5c-537c-b158-f1e78e69f10f', 'nyt://article/d702ced9-53d7-5cb7-aea6-5e37a2c55cd1', 'nyt://article/9feba6e2-823a-5fbd-954f-5040e45639ba', 'nyt://article/f56cb90c-333e-5189-b598-09245a7ecced', 'nyt://article/43e54411-fec3-5aaa-a572-7a1b476a42cf', 'nyt://article/c24ac261-a0e7-556b-9343-f6e2c17e7a5c', 'nyt://article/bcee377e-2c3a-563b-bc2e-32be6a28cee3', 'nyt://article/5f3da01e-323c-5b51-a9b4-1e366ca4387d', 'nyt://article/e943d08b-7be0-52f9-b32a-9ad77935c102', 'nyt://article/1ea4fb4a-0878-5451-a43f-4ffdc4da6144', 'nyt://article/34403061-db05-5d35-b892-3d3ada556995', 'nyt://article/dae2657b-9ab4-512b-b6cb-8690b92d0434', 'nyt://article/d42d09c3-aee3-57bb-b508-b2495fa0508d', 'nyt://article/69423ad4-3547-5863-8dfa-a7c04e0bf88c', 'nyt://article/75b05547-d2b0-52e1-8113-4184eddf76d7', 'nyt://article/85c2a939-d4e6-5597-bacd-db25e92110dd', 'nyt://article/4c300a25-56e0-564a-80bb-33da64428e8c', 'nyt://article/02a53ef9-fac1-5f49-b279-2c3d742d37d0', 'nyt://article/f8811dee-1ac1-5761-b4fe-42e35a6ef538', 'nyt://article/10453968-c7cb-50d8-ae37-8bc7d4bdeeaf', 'nyt://article/ed532bcc-2029-5854-9ceb-338278f3128f', 'nyt://article/6814c044-6791-5f6d-9ca2-231a0b94d4cc', 'nyt://article/bf77cc3c-2d4c-54d9-8ae9-e8dfce0fb9f9', 'nyt://article/ad68b015-ad74-54e5-b873-9d29dcf2b2f0']",
         "62",
         null
        ],
        [
         "21",
         "Barbados",
         "['nyt://article/dbca2c1e-0c60-5e8a-a032-6e29e8425c40', 'nyt://article/3a456fac-0fdb-5d08-a280-a3fb1bb27b7a', 'nyt://article/120e4e0d-239e-5b52-83bd-462598928a5c', 'nyt://article/13242a65-a494-505a-b504-49c06a9d9166', 'nyt://article/360f1b02-6470-52a5-afab-5753344f121b', 'nyt://interactive/3d72386b-bd2d-58a7-9b04-9a7b9d258943', 'nyt://article/2794161a-68fa-50f9-af4b-781cf317f424']",
         "7",
         null
        ],
        [
         "22",
         "Bay of Bengal",
         "['nyt://article/f69229c4-0c2b-59ad-bcff-d25886896e17']",
         "1",
         null
        ],
        [
         "23",
         "Bay of Campeche",
         "['nyt://article/2ba65ccb-6e52-557b-9191-21cafcc864f0']",
         "1",
         null
        ],
        [
         "24",
         "Belarus",
         "['nyt://article/6fd49dd1-7d28-561f-913e-050e34afabbf', 'nyt://article/2c4fcfe0-4152-5915-8da9-ff3f6df3f13d', 'nyt://article/7775bef0-4a61-5d97-9d2c-b93de2ca319a', 'nyt://interactive/4ef0fac9-68ae-537f-ac7b-e165411fcc5c', 'nyt://article/21cad100-f82d-59f1-ae41-1d37516395e4', 'nyt://article/53220df1-5f7e-5866-9ce5-9b645a1d69a4', 'nyt://article/2aca6428-0b32-5356-a256-a286a4b16347', 'nyt://article/f346f96a-8d34-53c4-88b4-f2e41179af65', 'nyt://article/50eb219d-459e-511b-a4eb-c6feb9f15fe7', 'nyt://article/08eedfbb-983d-553c-95ad-9e660802e15a', 'nyt://article/2c1190c3-b15c-55aa-abec-e46649feb480', 'nyt://article/ef47a80e-94bc-5c36-8d44-8d4224ce92b2', 'nyt://article/833eaa47-ce45-5c0c-a984-81c8d7533a04', 'nyt://article/66554e8d-9278-5135-85e9-0bb9bc3cdca4', 'nyt://article/1cc2cfd7-f7c4-58db-87d2-5a85ddea3257', 'nyt://article/d3587697-6a2d-5b83-87a8-c7e8ae03e248', 'nyt://article/3c734eba-d374-5d03-ae3d-df46861ec2ad', 'nyt://article/e25457bd-ce33-5a31-a905-ac652a50bcf8', 'nyt://article/081caf13-8311-55ba-b659-845d5f7491d1', 'nyt://article/bf938858-5d5d-5907-8726-929112ccc441', 'nyt://article/841e8ea4-81c0-55a5-90e2-9f854b631bf6', 'nyt://article/40bad37f-8934-5ae1-9915-a5627f4ed3f4']",
         "22",
         null
        ],
        [
         "25",
         "Belgium",
         "['nyt://article/d515fd4b-c1c6-52f0-a959-bf21336531c3', 'nyt://article/87fc2fa9-b820-5a08-b8ba-7e6db0dee3c1', 'nyt://article/1cd28e8a-743f-5418-9e6d-332af33c1ebd', 'nyt://article/4076d5fe-4d52-5ac1-bc13-27887a7ad6cf', 'nyt://article/6d0fd4d4-108f-53a0-92eb-ae6cde85c32a', 'nyt://article/15a126ec-72f6-57fb-ade6-d48ae7eac43a', 'nyt://article/458f4489-9efe-5a9d-9e5e-b893deb668fe', 'nyt://article/84939ce5-ddc5-5a6f-a06c-37ce914d4df0', 'nyt://article/d6b19031-3e5d-51df-a313-6c540e5ce024', 'nyt://article/3f5f04be-e156-5f39-b845-8145daacfc2f', 'nyt://article/d88e199b-3dcb-531f-823f-989e49d7db10', 'nyt://article/f2d2bf65-5b70-5073-82f6-34a2fb1b274e', 'nyt://article/cd435d91-a60d-596f-ae07-c4c251d4392e', 'nyt://article/b0ae26e0-fd39-57ed-9153-f8e9337c6b42', 'nyt://article/cc1e2e6b-2b38-5dac-8102-76cd1131d826', 'nyt://article/6a9b613b-3619-5b68-a3e9-1852f29d773c', 'nyt://article/278615cf-39bc-5967-965d-9db5c5ea3315', 'nyt://article/2aca6428-0b32-5356-a256-a286a4b16347', 'nyt://article/b8926a2b-a016-5493-85f8-b9583b56bbaa', 'nyt://article/b967a24f-e8c9-5af5-b74e-91994f870869', 'nyt://article/ce07da87-93d8-5c3c-a0a4-ee6993131d2a', 'nyt://article/daee73fc-eb79-5d80-a1f0-a4f688b766ba', 'nyt://article/ffb9c4af-44c5-5ede-8cf5-c0193ad81907', 'nyt://article/851b69ae-20b6-56b8-840a-2359f31050c2', 'nyt://article/1ad42471-f803-5b9a-a19e-a429e4c4e91d', 'nyt://article/89dd8747-9903-5e0c-89c3-a261470296b8', 'nyt://article/5410630d-98fd-58ab-8966-5dcfd390941b', 'nyt://article/1fe7f248-a1d0-56d6-bf3f-df0c4f0c39a5', 'nyt://article/fcc2bb23-b4d8-5546-b18f-aff16ef38218', 'nyt://interactive/6200b426-fecd-5edd-9754-15753cae9c59', 'nyt://article/ca824b3e-85ea-506d-b6bf-f9b94c025737', 'nyt://article/351a7081-1a05-5166-916a-f9f2045ea836', 'nyt://article/fb011342-8413-5b74-868c-e1220ddd100e', 'nyt://article/58da3e6b-b8b3-54dc-a564-c2e795ec9fec', 'nyt://article/4336fc5e-b8e2-5566-977b-a86ef2fab052', 'nyt://article/1e40ff20-3a4b-58e9-9719-ebd96162a35f', 'nyt://article/737a295e-2823-5677-8179-6362bb19d267', 'nyt://article/0f652f8f-85bd-5513-8b86-c969aef66b9f', 'nyt://article/ca2cbda6-ba8f-5c14-8fae-993ad3293920', 'nyt://article/0615e70f-5fdc-58ab-86c5-4fed006d8fe6', 'nyt://article/be0c441e-b389-5096-aeb7-b040d49b16f8', 'nyt://article/32181804-e00c-5f5d-97f2-955503943dee', 'nyt://article/39c9545b-8b8d-5251-8a87-a7e7ccce3f86', 'nyt://article/4cd9a420-ddf9-5041-a52e-c8e4d9678bff', 'nyt://interactive/bba8496f-c94d-5818-a05e-510217fe60ea', 'nyt://video/3cac0e2e-7f4d-54c5-b35d-fb056724bcf9', 'nyt://article/b1cf93b2-5518-531c-8372-09985fb8a68a', 'nyt://article/70a0c124-049d-5118-9fe2-d39b2f30a0a6', 'nyt://article/c3a3fb76-50db-54cb-8861-5d4f2f594973', 'nyt://article/efa2c95b-0478-5ff8-a93b-5efde1352060']",
         "50",
         null
        ],
        [
         "26",
         "Belize",
         "['nyt://article/cc61428c-3ba1-5e63-b984-33e225b3d127', 'nyt://article/b81daaea-4e12-5217-bcf0-24277af7a145', 'nyt://interactive/aed06f4d-8a51-5356-9d3a-d2a838fb17e3', 'nyt://article/39615756-7f7d-56e9-98a6-d928befd65b8', 'nyt://article/083a53a9-40d7-54eb-9fef-e4dc3c12049b']",
         "5",
         null
        ],
        [
         "27",
         "Benin",
         "['nyt://article/cefbee7b-1a64-555e-aa99-205c8c00965a', 'nyt://article/80609bfa-1307-50a2-9a4a-936fa24d8235', 'nyt://article/cadd214a-9939-500f-a2f3-7aebf7a20faa']",
         "3",
         null
        ],
        [
         "28",
         "Bering Sea",
         "['nyt://article/b9d646bc-51a9-5124-b495-e33ae5072f51', 'nyt://article/bf6a397b-55d9-51ba-85e9-5ced31ffff39', 'nyt://article/3dffadff-81f9-562e-bcaf-7f551af771c5']",
         "3",
         null
        ],
        [
         "29",
         "Bermuda",
         "['nyt://article/f82c4681-876c-5823-8a55-ec2b1d1f9d90']",
         "1",
         null
        ],
        [
         "30",
         "Bhutan",
         "['nyt://article/8684e408-fa1f-5d86-b3bb-43fa8a2bf8e7', 'nyt://article/89c8e9e3-fe76-5a94-92cb-414d811ee293', 'nyt://article/3c350a95-b7e6-578a-9dd6-f16dd3ea9391', 'nyt://interactive/caa7a64e-05f1-5a71-a588-1e8f311db878', 'nyt://article/95929c9f-42fb-5d83-892b-6b2c3f5adb1b']",
         "5",
         null
        ],
        [
         "31",
         "Black Sea",
         "['nyt://article/67ee4544-4986-57d7-a340-56b141868f4d', 'nyt://article/e6b8866b-4bff-57e7-9c0d-824d3d2e425c', 'nyt://article/7f7082e0-01cf-5136-875a-cc3bd44c7057', 'nyt://article/52df775b-6d84-584e-9e6d-da727ddabbeb', 'nyt://article/f8a102cb-e861-553b-89d6-cfc54a10d10a', 'nyt://article/d2f8d9c2-05b8-56cf-a4a1-0a5d15a4fbc8', 'nyt://article/3dfb2f26-425f-5cef-9b47-be2a7d1b3845', 'nyt://article/86d3dad9-815a-501b-b06b-77260a47a38c', 'nyt://article/85dc3162-5ce9-5a7b-8cfa-9b1b0507f646', 'nyt://article/1a69d72d-7e98-5c18-9ad9-0d196edd636b']",
         "10",
         null
        ],
        [
         "32",
         "Bolivia",
         "['nyt://article/944dd5c5-5751-54ff-8676-4abb71d7fcaf', 'nyt://article/766aa0d0-a57d-5a60-8a6c-6d6d8d2150ad', 'nyt://article/da794e2a-74d5-5277-82ec-d3a9064111ed', 'nyt://article/0218698e-099d-5eb5-b06f-d7f4364c9f29', 'nyt://article/f8a47009-5be4-5e3b-ab47-3945e3ab0111', 'nyt://article/a9f3362e-bfc4-5dc4-b95a-d10e18d34ae4', 'nyt://article/fb261414-c74f-599f-908a-ad71c9751da4']",
         "7",
         null
        ],
        [
         "33",
         "Bosnia and Herzegovina",
         "['nyt://article/15f3afe3-9972-586e-aa7c-0175ec333618', 'nyt://article/c6f66a40-992f-514d-8952-2ba0a6244782', 'nyt://article/05c076a5-bfbc-58e2-8b98-220f33766bcd', 'nyt://article/58508e50-c37c-556e-87ee-ccaf440fd80c', 'nyt://video/45ef2d15-673e-5695-9fe3-d7844dfc2a5f', 'nyt://article/cd09f73d-6b9e-566c-ae88-923092ce703f', 'nyt://article/5962a870-e60a-5dca-86db-8d73b0e321e0', 'nyt://article/d26facaa-7cb1-5708-be3d-b7f22d093d17', 'nyt://article/2ea40895-14a8-5915-ae30-f6b189a67ce2']",
         "9",
         null
        ],
        [
         "34",
         "Botswana",
         "['nyt://article/3ec2692e-3c94-53b0-86a8-4efba10445ee', 'nyt://article/43e74e8b-c18e-5d67-9133-b8fc8ab6aaa7', 'nyt://article/5b46ce58-9195-5636-ade0-378a2373f8ec', 'nyt://article/b792e806-eb4a-5489-b55e-3d9ed9f2301a', 'nyt://article/b1e22c6f-12a8-5222-b4a3-97d9684222d3', 'nyt://article/4243bc16-737a-5a1a-996a-c1bd08ce953a']",
         "6",
         null
        ],
        [
         "35",
         "Brazil",
         "['nyt://article/b5bafaae-6eac-56a1-bd81-152687034bb7', 'nyt://article/ae862df1-83da-5c3c-8588-4f513328f315', 'nyt://article/031be2ac-5f2f-5e57-92ca-ebe7b6711508', 'nyt://article/161d960e-bc50-58be-8486-44f1b02e7a7b', 'nyt://article/bda4c607-5ae4-5e88-8427-fd20fb629b21', 'nyt://article/df20dbaf-d7c1-5a58-b6eb-e8387e796a51', 'nyt://article/84939ce5-ddc5-5a6f-a06c-37ce914d4df0', 'nyt://article/9276b34c-3b40-57d2-bd85-9bf252de076a', 'nyt://article/7a74f8f9-1c0c-52df-a259-403bb410d95f', 'nyt://article/cb7ef204-4197-5a10-b8ab-d79876d02710', 'nyt://article/0bc6eea9-bd66-588b-aeff-80bb1fca7417', 'nyt://article/09acb071-28d6-594e-b3fe-4799a7bac8f7', 'nyt://article/b462fdbe-b2e0-5a7b-8df6-f3c403e23f5d', 'nyt://article/1144da25-6dd7-5369-8457-6c700b537ae0', 'nyt://article/3c769e3f-a01d-565e-8352-792513d2b955', 'nyt://article/019cc577-cf26-51e6-aba9-14c984f884cc', 'nyt://article/5c6c8048-7220-53f1-9d4e-216b9b4d57dd', 'nyt://article/140d47a4-ae85-51ff-8c9d-7a66f47523d6', 'nyt://article/5054688e-a54f-574a-9e7b-7ffb6cfaec05', 'nyt://article/755b3a3c-0b30-581a-95b7-e40c0378c9ea', 'nyt://article/2832a632-5b22-5aa7-96df-983255497b61', 'nyt://article/b15ce464-f541-577a-8a24-df9874d9b2b8', 'nyt://article/72750308-710a-520d-8077-0128b76dbc62', 'nyt://article/8ceeb74c-0110-5697-af59-7e47b2a6ba75', 'nyt://article/799a22bf-04cd-52da-8621-923983c6b79b', 'nyt://article/2ebc8a6a-05f0-54c4-86a6-ea4a2fe3d45a', 'nyt://article/aad53d3e-9be5-535d-bf3a-2bf6928ebb12', 'nyt://article/11d1d712-8de2-59c5-838d-e087f09dddfd', 'nyt://article/2dbe967f-70b1-575a-9134-233cf7dfcb33', 'nyt://article/af22806c-5e25-566e-988b-541a5ef200e4', 'nyt://article/482228c8-15a4-5b2e-a76c-97227c49dbc1', 'nyt://article/3d887152-073b-572d-a0b0-3ab58fc02f33', 'nyt://article/ac748229-fb1d-5fae-a0b7-319fb0e6e157', 'nyt://article/472858cd-93e2-545a-9bca-ad6b2061b836', 'nyt://article/4ff0123d-daed-5869-94a7-48c73ddf6491', 'nyt://article/d7a79c9a-a6d7-5b49-b66b-ea7b6c697da3', 'nyt://article/da9eed42-437d-5aec-86c3-472bfa44824b', 'nyt://article/4c898390-82a3-5d21-9e63-bee012af32ca', 'nyt://article/2028ab73-b945-5eaa-85ae-58945f6df85f', 'nyt://interactive/2e8dd042-42da-5b56-aa1f-96c3c4d7b6ff', 'nyt://article/44eb3eff-659b-565a-a1ec-cec54e0f4c77', 'nyt://article/ee5eb31d-a1a5-5a09-8b26-dc053325846e', 'nyt://article/92c398bc-c844-5259-98fe-57dbfab2eb19', 'nyt://article/3f22844e-2bf7-52d2-989f-4b11d886f360', 'nyt://article/752b1886-c322-5f2e-bd4a-48cc30463897', 'nyt://article/0c590090-ca6f-54c4-ba2b-7c7617059c11', 'nyt://article/3dad367b-7abb-5c46-a377-3bc8630d57c7', 'nyt://article/506af149-2b90-501c-b50a-3fb4d9d28ad6', 'nyt://video/325cd8d2-137a-5a6e-8ff8-490eac566125', 'nyt://article/c074859b-f07e-59ae-ac5a-3b2b450c7b2b', 'nyt://article/39294cef-5f68-5a08-a6b7-9c6fcf66fb06', 'nyt://article/ecaa8424-7cbb-5b77-9d1f-d11919256cae', 'nyt://article/694722e5-9bec-5dca-b426-5e1d73bc31c5', 'nyt://article/1f5ef007-4c09-5a60-8f55-744934372bcc', 'nyt://article/f6b1d71d-9b89-5163-af4e-2c25687afb9f', 'nyt://interactive/7db7a662-415a-5f69-818a-b54b2c71472a', 'nyt://article/b465200d-6d3e-50b5-8d80-75081085dd5c', 'nyt://article/1dfbd1b3-3829-5ed0-b37b-8af8539d98e7', 'nyt://article/a3b53364-d66d-5b49-bbff-c691b660ccac', 'nyt://article/4e2d1f73-476d-599b-9b95-11fdb4394c5f', 'nyt://article/680aee49-f5ad-5e41-9d62-97acb290b87d', 'nyt://article/dbd833a8-db59-54f2-81b9-02d85db7ed65', 'nyt://article/32338471-a889-5e8f-893c-9de650970d17', 'nyt://video/7dcc0f71-14f5-5735-abd7-66342b2376b7', 'nyt://article/7f482b56-f2d2-5106-b5c2-263b495b3d81', 'nyt://article/7c6c5ad7-0244-5a88-8fa2-b0829e45aebb', 'nyt://article/bd0a7f12-0be0-5e7e-a360-519eb3902cbb', 'nyt://article/716875f5-acd4-5d2b-a64c-4a5b5741a1a7', 'nyt://article/e51d7144-a3ad-58a7-b2ab-f72fbf339d4f', 'nyt://article/71f10b28-0ac8-5c74-8101-a781d8b88dd4', 'nyt://article/a008167d-fddd-5f78-a94f-a5c20c40e7e5', 'nyt://article/6045611f-3f32-544c-9255-a5efa1b01cf1', 'nyt://article/ec210860-0da4-51d2-97e8-904cabab7c84', 'nyt://article/992a0b2c-ebf5-5c91-bb77-035d282d848d', 'nyt://video/7f069c5a-57c8-5cda-84ca-a40702b802c5', 'nyt://interactive/6f9dfc81-04c3-506a-9b14-985065235d43', 'nyt://article/94a329f2-7dd2-582c-a694-a756a5f5852d', 'nyt://article/9f1ef7b4-dbe9-51b5-b495-a4f0bf1451f2', 'nyt://article/7da9dd57-ed51-5e70-8241-1bf7040e909e', 'nyt://article/569993d1-fb5d-57aa-8940-c51ce3633fde', 'nyt://article/256a79ee-1780-58c5-9f61-8fb9341c1f8f', 'nyt://article/c2d9a088-2652-5f93-a3a0-9e9cd2c1b31b', 'nyt://article/5325bea7-8294-5880-9271-d86f80ee7a44', 'nyt://video/5d66abcc-b231-52c3-b659-20f1d80f18c9', 'nyt://article/5bb0cd46-4e50-5f85-a416-2b3fbbd28244', 'nyt://article/76dbecbe-4d0c-5f48-855d-6dff04a6991e', 'nyt://article/1a6a729a-b5d9-5783-8235-2a017c3797ea', 'nyt://article/cda9c78f-a2c5-51f2-bb6c-f1ebdee30802', 'nyt://article/a788c6c0-5cfc-590c-ac7f-4dff08add350', 'nyt://article/0a0d5fff-e858-51c8-a397-b9878dd5d1a0', 'nyt://article/4bbbcba8-047f-58b7-a463-bf0ac97eb607', 'nyt://article/7f461088-36ef-5e9a-9af5-fa296509b52f', 'nyt://article/f55e94af-a707-5e47-97b4-a52f92bef87e', 'nyt://article/4548fe2e-6560-5406-af88-afb9185bc574', 'nyt://article/99edfa44-e5a1-50af-b7b6-39d68c2e560f', 'nyt://article/c1df7566-51e6-5183-9349-aa26aa47a9a8', 'nyt://article/d35a2be4-8651-5b52-8cfe-d2f3296e0eb6', 'nyt://article/0a8e3d79-e89a-5ed4-8981-e4b9c1d50354', 'nyt://article/c4aec98e-ca64-527d-a788-2ef5dc2c5e8c', 'nyt://article/c6beaca9-6134-5acd-b6c5-616596f1719d', 'nyt://article/1f941312-2902-5da4-963f-ae6f5cd86439', 'nyt://article/c96b3b9a-6c5c-57ec-bbed-d450937bf68c', 'nyt://article/a580ad1a-1693-541e-8b44-143d56083844', 'nyt://article/ee314670-308c-5285-945f-84bc53fe90a5', 'nyt://article/10abe48f-4fe7-5008-af07-dbdc658259ee', 'nyt://article/9b68cad7-5db2-5b65-9b43-cdba75854545', 'nyt://article/603971a4-c18e-5c5b-8207-ac872b44fd64', 'nyt://video/68ea45f0-a15a-5b9b-9d23-47583defe934', 'nyt://article/97f24409-e7f0-5bad-822c-acf480eb76ca', 'nyt://article/3717da2c-fc56-584c-84a8-79c2c03d93cd', 'nyt://article/17579916-ca0b-5b2e-a84e-ef3a520f4b39', 'nyt://article/199675f9-310c-5104-a103-322d7d04d4a9', 'nyt://article/d52c8238-0112-5c63-b46c-805caca1c0e6', 'nyt://article/287d15e9-b5bd-5eb3-9d19-a4369c8f705b', 'nyt://article/a9d2e2a1-2db1-5704-9cfd-ade66d693a6b', 'nyt://article/62ffe15e-d6b0-5ebf-83d3-a34fc44964bb', 'nyt://article/34a704e7-0331-5975-bb4a-9cbfedd12885', 'nyt://article/352e1341-bdb7-5bd2-8672-face1c4984c4', 'nyt://article/23a6bcb1-85a4-51d0-b972-847fd8758b21', 'nyt://video/4c8e683c-1233-523d-ba40-4ff573c744e8', 'nyt://article/3def920f-2532-513e-919c-2ca26a78931f', 'nyt://article/4b9addb0-ece4-5275-a497-a5742b169c82', 'nyt://article/6fabf1eb-e0d8-53da-9f74-3e7e7e4326d4', 'nyt://article/506d22d6-0066-50f3-8500-6e72356aba4a', 'nyt://article/82c3ab0f-fe3b-5d86-998a-16c15c23f51a', 'nyt://article/e29bbbf0-cb8d-534b-9faa-2e389edc251b', 'nyt://article/b7b1dd48-bfc8-51ef-a8fa-21879c1e19c2', 'nyt://article/22741380-5dd6-5380-84f5-ed5ea29c71db', 'nyt://article/a988d12e-2d3e-5812-8e59-4296e40b202f', 'nyt://article/fd53c2b7-0038-5810-bffc-82c26b78d593', 'nyt://article/dba88884-4d7d-5750-bbac-289cd1cf4cf2', 'nyt://article/3b3d552e-a57f-53c5-8ff0-31113b14c493', 'nyt://article/f40b9e43-17f9-55e8-9370-cabc6c2a2d13', 'nyt://article/c5fb2795-a67c-5aad-b7ce-bad8adb856bd', 'nyt://article/3acfab73-83ff-50d3-8430-0cb4e2349be2', 'nyt://article/32539e60-583d-5704-88a1-15e73653af53', 'nyt://article/b6ce7edb-a375-5b2c-ba83-d322d815361d', 'nyt://article/92641805-06ec-5b59-be99-3e39512c583f', 'nyt://article/e9c89d4d-4ee8-541c-a781-9d97668283c9', 'nyt://article/3fba21b2-f951-5098-97f1-9bd61e433a7a', 'nyt://article/31d215b3-6054-54cc-8297-198cc7081556', 'nyt://article/476f76a1-91dd-5dae-87f3-db5da79f0854', 'nyt://article/e49b94a1-a8d0-5233-918c-33ea799c943d', 'nyt://article/74f685c1-dbee-5fdb-a27e-4dab4b2af226', 'nyt://article/02a8698b-e746-575d-b37e-7b04c79eacd5', 'nyt://article/73fd6413-092a-5d34-a70c-8f00cde3312c', 'nyt://article/e6eff96b-c865-54b1-856a-18e01a02c1b9', 'nyt://article/42d47da6-2661-5822-82e5-6ec86f1a388f', 'nyt://article/dbd195d0-acb5-51f3-94c0-c91cfa8d9a2d', 'nyt://article/c8df73a2-bcb7-52e1-a56a-8318086d725a', 'nyt://article/536e7878-561a-50e8-99ba-ef4b1ac5ee7e', 'nyt://article/4e56c826-238c-59fd-8398-d946b54cafaf', 'nyt://interactive/b9f9c273-99d2-5614-acdd-ff520e893d62', 'nyt://article/60e286bf-90a3-5999-abd8-0d47db8080a3', 'nyt://article/dbdcdf3d-f029-5dff-a4a3-8d5fb5bd202a', 'nyt://article/e3829944-3631-5618-a43e-a6b7f3894bbd', 'nyt://article/2243d03f-acd2-5628-a14c-ceac812c7f56', 'nyt://article/01c04716-3a06-504e-961c-5ac92b022ea4', 'nyt://article/e55efa03-d492-594c-9640-6f699f962a45', 'nyt://article/90e7e151-69bb-5749-a07f-d18f9ccbe36c', 'nyt://article/d68dfe03-176f-5bef-ac8f-8356b37ebe8b', 'nyt://article/27218239-bc11-5e15-80e2-b663b0fcef23', 'nyt://article/3cf5e168-0189-59d6-b2fe-4b771aa842a8', 'nyt://article/7dabb456-eae4-5659-ba12-2099c2e7a1fc', 'nyt://article/86b8d35d-4e41-5c8b-82e7-2a09da95db5d', 'nyt://article/f7ac5606-38b2-5896-a301-194b4a883586', 'nyt://article/ee219c3b-c31d-5dee-97f6-1a8cb87a5fbc', 'nyt://article/944dd5c5-5751-54ff-8676-4abb71d7fcaf', 'nyt://article/8dc879df-0bfc-5666-90fc-588dee2a3638', 'nyt://article/a69c7170-68aa-5b95-b7f0-6c534ddd82fe', 'nyt://article/f9056355-2867-5957-be5b-5fae84e64cf4', 'nyt://article/18e5ff79-5054-5b3a-adcf-af96e67d5d62', 'nyt://article/964fa42e-2def-5178-ab7f-6f3eaa3840e9', 'nyt://article/aba101ee-b370-5aa5-bc83-d9e347daa2de', 'nyt://article/f4a1d113-1213-568a-9fb0-1214773765ec', 'nyt://article/d1823118-7bb5-51e6-9444-d382f3868087', 'nyt://article/1aa43b32-166f-5b5b-86d7-0de058a1e151', 'nyt://article/fc549e76-b494-5fb4-8ba1-d5549c3ee577', 'nyt://article/48b52263-dc03-5776-b117-ee3225e2e423', 'nyt://article/906b4e9b-f6c8-56c5-a829-d8a8f44f37c4', 'nyt://article/8260b62b-2405-52e7-97de-51b26a46c2cb', 'nyt://article/22edf542-d819-5470-874b-7bd9e3ebff83', 'nyt://article/c8c53a7f-958c-5da9-b99f-28b91bfd1cc3', 'nyt://article/a88f2c07-14b8-5878-8ef5-3bb2a810ca14', 'nyt://article/0e91b0cf-6abf-5723-a3cb-e8633c2d2164', 'nyt://article/208c2f6a-924d-5d1e-a03f-996695ffc330', 'nyt://article/9d3dc1ee-dadd-52cc-a013-9f882c14ea8a', 'nyt://article/023bd541-1b26-59f9-a52f-42beb0487cbc', 'nyt://article/9314ecb5-5eb0-569a-88b8-e1a3ffcf77ae', 'nyt://article/83bca7c7-7596-5e2c-9eea-6d62859db832', 'nyt://article/6760b419-6b05-51d0-8ce5-154f382dbcf8', 'nyt://article/04b201fb-5a15-585f-963e-2fb2faaba0ea', 'nyt://article/0012a0ad-54eb-5667-a3c8-15d6b3d9d048', 'nyt://article/f8c13c61-d0d0-5fdd-b27b-2897b63529f1', 'nyt://article/0175e8a5-5910-51ad-a601-5277c3efddf1', 'nyt://article/cadd214a-9939-500f-a2f3-7aebf7a20faa', 'nyt://article/d59f86fd-bc6a-511d-9d57-614801f1b784', 'nyt://article/a6e42e41-e04d-5f2b-9c29-04586dbfd0c6', 'nyt://article/c7b1eee9-0bd6-5868-a9fa-750892ebe240', 'nyt://article/bf56ce35-304f-54cb-8560-ccdef084ed22', 'nyt://article/e83b9a4c-8134-530e-a6c4-51aa86838236', 'nyt://article/b7bd714f-70fb-5d22-af95-f26a8c107f02', 'nyt://article/d289696e-a671-55b9-841c-56130ce782d6', 'nyt://article/6b9bf558-1c17-5d85-9cb9-96957302965a', 'nyt://article/3b927a80-7aa6-5ffe-ba57-557ff839deb9']",
         "205",
         null
        ],
        [
         "36",
         "British Indian Ocean Territory",
         "['nyt://article/3c040100-234b-5470-b2ab-0eee905524ef', 'nyt://article/7412a0b8-5798-512f-92b9-94089426bec0', 'nyt://article/e5314031-2e3d-5d39-83d9-210e3f501e95']",
         "3",
         null
        ],
        [
         "37",
         "Bulgaria",
         "['nyt://article/e6b8866b-4bff-57e7-9c0d-824d3d2e425c', 'nyt://article/6a5bbb3e-eac4-51fd-8ff7-cf9c18c99aaa', 'nyt://article/411711d8-0299-5691-a375-9bf010543175', 'nyt://article/15a126ec-72f6-57fb-ade6-d48ae7eac43a', 'nyt://article/dc9c142a-e59a-504f-ba02-4f8789cd0be4', 'nyt://interactive/6567bdfd-4b48-571d-b37c-5369d5680e89', 'nyt://article/16dc485d-e114-591b-ada1-d45ee32a0431', 'nyt://article/7b8fbf6e-0c80-52bd-977b-e38aa98ca567', 'nyt://article/c6e1d0a5-e168-5ed5-8b84-908060e78042', 'nyt://article/6bdc54e5-e389-55a3-b461-fa1ef4cdf464', 'nyt://article/f9c5d4ce-85da-59a1-aae2-b9af2a666432', 'nyt://article/c3dabb96-3bd0-5f3f-b463-8dcb812d0fc6', 'nyt://article/961fe384-720d-5789-b310-105e7d3c0b9f']",
         "13",
         null
        ],
        [
         "38",
         "Burkina Faso",
         "['nyt://article/8e9c68f9-7b15-536d-a7c7-9b34671ab74b', 'nyt://article/e7245a15-f2db-5f9d-9585-a92b309a28fc', 'nyt://article/f0140bc7-842a-55f6-a0b0-2993e7c1dd6f', 'nyt://article/180f7ee3-173c-5685-a2e5-5f573f4117fa', 'nyt://article/09ea409c-da04-5dda-9001-7cfcdea737eb', 'nyt://article/244cb9fb-1377-51ff-8221-63c988ea0b66', 'nyt://article/f53c045c-2311-55c4-9658-01bb0ae3311e', 'nyt://article/ecc5bfc7-5513-5e1b-a118-6e290e1ca70f']",
         "8",
         null
        ],
        [
         "39",
         "Burundi",
         "['nyt://article/ec31d0fe-c8a9-5858-9171-7f2a5eccc64c', 'nyt://article/de5d2cfa-6811-510c-aded-0a3c48c11659']",
         "2",
         null
        ],
        [
         "40",
         "Cambodia",
         "['nyt://article/0a45f15f-fa47-5f6a-a317-522b0410018b', 'nyt://article/fd4bb076-a665-5337-87ad-1cc6f7a34ab3', 'nyt://article/a7aa22f4-ab25-5b9a-8423-0fb76b3d474b', 'nyt://article/c440d31b-563c-55e1-8b79-503e757d6c5f', 'nyt://article/726871b4-d714-58fe-a340-8c80abe3cc54', 'nyt://article/1c0655c9-5209-59e2-b228-4fb6cbf6a297', 'nyt://article/8c726b97-3972-5467-9881-43a327c3c29e', 'nyt://article/c9e9340a-5c68-5755-8117-4b723356d58f', 'nyt://interactive/7c53d0e8-f08c-5155-b878-6ae27aa87510', 'nyt://article/abc6f2a5-94cf-5f32-b736-8bf0048916e1', 'nyt://article/ce205cfa-1338-5dcc-9137-05d62e27ec4b', 'nyt://article/3a4f0a34-3478-5ba1-931f-cc763237ab24', 'nyt://article/adcc7bec-5cc2-5d65-b4fa-e4c3a5b20ba8', 'nyt://article/b59182d4-693a-524b-88c8-e750fb96a74e', 'nyt://article/fc96dc6a-d4bf-5a8a-a149-9fac58844067', 'nyt://article/6ff00f2a-405a-5b74-99e6-f98f9a409884', 'nyt://article/bc243082-36e5-5cb2-be1a-956d02c28f39', 'nyt://article/b705a9ec-9b3f-5fb4-9775-a9d7bb301f5e', 'nyt://article/8ecee37b-633f-597d-b9b6-1300b012ae96', 'nyt://article/763f15f9-c0cf-5333-80b7-690312b01ac8', 'nyt://article/c6aa1a0f-0410-590c-ac89-523e3b855dd6', 'nyt://article/b7bd63d6-900b-5ca0-84c8-c3bde7b89cf4', 'nyt://article/f77eea6e-9e4d-5910-9f66-49f09fd9b59f', 'nyt://article/1e9f9ee1-1d31-5c6f-8f3f-e332449f871e']",
         "24",
         null
        ],
        [
         "41",
         "Cameroon",
         "['nyt://article/fcaf05cb-0e4b-5063-a3f8-ef729ede2429', 'nyt://article/c5fbdca0-e1f8-53a4-a6c7-33fddc6ea359', 'nyt://article/1dfe1dd1-4683-5496-b7d8-ac104d563057', 'nyt://article/50da83b5-69c8-52fc-a1b7-e174d4f3f07d', 'nyt://article/a988d12e-2d3e-5812-8e59-4296e40b202f', 'nyt://article/d4e8d43c-b797-5d94-8de8-bd4b668e4abe']",
         "6",
         null
        ],
        [
         "42",
         "Canada",
         "['nyt://article/e4c02236-1695-5480-b0db-f8f7b209c81b', 'nyt://article/9d0c2b26-3afb-5f53-a4ec-f0c2d300fad3', 'nyt://article/120e4e0d-239e-5b52-83bd-462598928a5c', 'nyt://article/f832574f-de40-5dce-91a4-89e32cf28a22', 'nyt://article/99c41f37-9ce1-5683-8d49-1a5e8d953912', 'nyt://article/fb39f5d9-f7d1-5770-9546-9cf69c881730', 'nyt://article/ea81caec-bd89-527b-962f-ec30cb1338d7', 'nyt://article/21b66d2f-6518-5f89-95c5-ff6e82c16aaf', 'nyt://slideshow/f37e4394-fb7c-5d0f-9158-50dea898324c', 'nyt://article/9195049c-81a8-56f9-821d-c3e82543e1b0', 'nyt://article/1485ed75-1ac4-563f-a0d5-41912f621902', 'nyt://article/91f7abe3-2818-5df4-9629-6c18bc2d2e1a', 'nyt://article/935764cf-a716-59dd-9734-9631cf445acc', 'nyt://article/8aaa5ccf-c6ec-5954-950e-dd8609b840bb', 'nyt://article/290b3664-6ae1-5700-91b8-bb79f06c4a06', 'nyt://article/c85a30c4-1ac4-5087-9304-766767ca3c6d', 'nyt://article/a6341227-7665-520e-befd-db6d3178dac5', 'nyt://article/1f4e37c0-7498-5cf9-8dd5-8c9f61ab2a1c', 'nyt://article/3cc220c2-20d0-5bae-a734-f43830448d6e', 'nyt://article/f58a0237-b841-5b97-9136-9a3276a382f2', 'nyt://article/05b7d2e0-7b61-572c-870a-67b39a46eb40', 'nyt://article/2ed420ee-0ce2-5663-8a0f-c7291e3515b0', 'nyt://article/0545574b-8d69-5150-a0bc-6109c9655243', 'nyt://article/74e12c53-c6c2-5e3d-ad6d-6a96fa680993', 'nyt://interactive/b7174af5-7083-52fc-8f94-14dfeae60af3', 'nyt://article/bb5ec966-98ae-501f-8518-792edcebb3f1', 'nyt://article/20d2c87e-6b0e-5e35-87af-572140d3771d', 'nyt://article/c75b899c-0971-5059-8c8a-40e7c7d423d3', 'nyt://article/f5361eb9-ce20-5c3b-a7cd-c8ca7d4eb96c', 'nyt://article/f2d84094-2a35-519d-97aa-eb51bfa8e2af', 'nyt://article/2bff4b72-9a09-5f4e-b306-8086ccc84af1', 'nyt://article/9186ee46-25be-5f12-bb19-a46dfc51e06c', 'nyt://article/05fb3aaa-6adf-5ce7-ba15-4d874e0eac98', 'nyt://article/8140c979-c1c6-5893-985f-12d647719870', 'nyt://article/10687ff9-3640-559e-b5e4-053cd97d4576', 'nyt://article/e1d6f178-488e-501c-86f9-5bff6504c963', 'nyt://article/c391aea8-2566-5436-9615-5b9eb158bef0', 'nyt://article/798e48f9-1b82-5b72-8ef5-e4daa2a9b03c', 'nyt://article/67c26a6f-e493-5a6b-af85-7bcb57ce8763', 'nyt://article/26217966-86fb-5795-aced-96dc4bac340a', 'nyt://article/71d72921-2bcf-5a61-b712-2f98f27bab83', 'nyt://article/9f5e3842-82d1-5e66-915f-ab93d564c7ca', 'nyt://article/653117da-ff41-5985-9217-2e107ae21e40', 'nyt://article/3793cd21-b7af-572f-8bed-7bd86dfe6870', 'nyt://article/0c212d57-0a2b-5539-9629-703a2571e33b', 'nyt://article/596cf5b2-02a4-5626-8d65-0a28f3dc57e2', 'nyt://article/6ff19930-da65-5e50-b4de-9916219e5784', 'nyt://article/d035a97c-2815-506a-8be3-4c712c286f67', 'nyt://article/e0c857ae-bf90-56ac-a0d3-a7d3e757b91d', 'nyt://article/fde72b8b-b1f9-52bc-884c-9c22151cb587', 'nyt://article/8a191ef6-c2a1-5ca7-b0c4-e67ce76b3829', 'nyt://article/8b200636-8df5-5caa-8daa-308efea287b0', 'nyt://article/52785eec-b875-54e7-bda0-32416517e391', 'nyt://article/7b7169c6-99cf-525f-84e1-0ce179f9a081', 'nyt://article/6d00d161-7f85-5c4f-b3da-005045a05de5', 'nyt://article/6272e4c4-70af-578e-b71c-ed858ed48f31', 'nyt://article/ba0c52f6-68b7-595c-a908-69b8a2cd35f6', 'nyt://article/4111e042-66dc-5cdf-84b9-611e9b6a8187', 'nyt://video/adf1f29f-2817-59f3-9b46-99c69eaab1fe', 'nyt://article/5c379f18-956c-57f6-b04d-3835f6df6c54', 'nyt://article/9ab314f4-f64e-5d52-a509-899134f4c036', 'nyt://article/c2a0e691-a44d-5aec-ab16-1f5a434efa98', 'nyt://article/cf1c881d-de6b-534b-86a2-925221dc63f2', 'nyt://article/a008167d-fddd-5f78-a94f-a5c20c40e7e5', 'nyt://article/6b81166c-1678-51f4-aef8-5f4e34aab8e8', 'nyt://article/7b1f933f-c9aa-51e6-8a67-5e0ccbe59d3b', 'nyt://article/dda12879-6477-515f-b996-b72659942e35', 'nyt://article/8ea22a88-940c-59eb-b869-aa8ccf5a50b9', 'nyt://article/546a73f3-cbf8-5f41-aaab-23ff75fe0b58', 'nyt://article/5fac99ab-8221-576d-bfc1-c84dcd8a8408', 'nyt://article/9f65bfdf-21b0-583e-8f42-252eee77cca9', 'nyt://article/4442ce9d-c553-5fd5-98e9-fec26eb78212', 'nyt://article/2f3ed7ac-6d90-5aed-9e1e-79e8fdbdfd0c', 'nyt://article/ed5ba83d-fed3-5746-863f-3b16b71e3864', 'nyt://article/c204a5ca-c330-5ea7-9a1e-1d39712abafa', 'nyt://article/59c84b6e-748c-51d8-b628-2a8db7fac7f1', 'nyt://article/cdecb5f3-3958-5c6c-b0e3-b9c792ceb944', 'nyt://article/40aa91de-4319-515f-9abe-b2b438da6e43', 'nyt://article/a7c548a4-c67d-5ceb-a6c4-165f694fa3c7', 'nyt://article/296e6d59-7af3-5196-9696-249b9066ceb4', 'nyt://article/015c74b4-2f1a-5b9c-a2da-a209284ae6fb', 'nyt://article/8e2f78a5-8a57-5bee-b02a-4e001d3c7037', 'nyt://article/2401f549-7990-56aa-9e65-8c7095b3b506', 'nyt://article/8c8f3d31-ab16-59d7-899c-5a9ce7133ef9', 'nyt://article/7f782322-27f2-533e-a2bb-8ced50389457', 'nyt://article/bd1ce263-21e4-5fe6-a457-98687b849a07', 'nyt://article/f3e16e69-97bf-592e-b447-43cd7899718e', 'nyt://article/34471c90-472f-54ec-b703-39c79e23dea9', 'nyt://article/a1d11dbf-095a-51aa-9296-b03ba7442f96', 'nyt://video/e34e2b43-436b-5290-be3a-2e816ba74015', 'nyt://article/bb262d5f-a165-51e4-bafb-8443e7fca3c6', 'nyt://article/adab900a-3ca2-5afe-b1d4-477fc6bb909e', 'nyt://video/04b4be98-44e3-5a0a-8b82-e3697a74ed90', 'nyt://article/45d17653-b188-5f7b-80c7-f9bf3251ad89', 'nyt://article/40d8aacb-e25d-5905-a704-5678ef2be3a8', 'nyt://article/417aeb7a-24fd-522e-9ae9-64b0c8be1ab1', 'nyt://article/95494e94-7f8e-55c8-88b2-1a0a63c35d34', 'nyt://article/a76b0fc5-af21-5473-b5d2-3d61d5a497c4', 'nyt://article/b9191b7a-bbd4-546c-a623-adae3b48f271', 'nyt://article/f51c31c6-4ffd-5b98-98a7-f7c68dd97d64', 'nyt://article/d039c247-225b-5b43-8430-0724abc3c7df', 'nyt://article/2e173a82-6f5d-56ff-9a14-c1698f798c43', 'nyt://article/722a8687-4a4a-53d1-8356-d706c5104b93', 'nyt://article/04a21d9a-ecc3-577d-906f-754d2457224c', 'nyt://video/f4a65528-9414-57fc-a24a-4b0a0a3198f9', 'nyt://article/48813ce6-5e79-5686-919f-942f25d0b875', 'nyt://video/174ceec4-d49d-560b-bf62-f986be3ea01c', 'nyt://article/061b1d80-5b7d-5a73-a5f4-bcd2f5574ad5', 'nyt://article/de2f7f85-e8e4-5abf-8d67-4439a0c62eb5', 'nyt://article/f700f5b3-cdf7-5131-a7ae-0e208552229e', 'nyt://article/da88c5e3-7910-5b12-8e64-02084e6db26e', 'nyt://article/25197be3-2e84-57f9-9af0-8bc5d36c3998', 'nyt://article/c53c9271-b07d-565c-9223-5ae808535c9d', 'nyt://article/252ae56a-1dc7-506a-9f36-0210728aad0d', 'nyt://article/a38a7b5f-f638-5f16-bd08-ece1782e3a7a', 'nyt://article/8af83f89-4013-50c1-8b76-7e066e63bf24', 'nyt://article/92bcd3ed-f203-558b-b684-4ff4dce47cbc', 'nyt://article/484b0ec0-e05f-5f03-a5f7-a468f713665d', 'nyt://article/99313863-09a4-5557-a493-7d37d7464c23', 'nyt://article/18712011-c20f-5f86-b983-88447d3df3af', 'nyt://article/55a5b7fa-8f9e-5e06-b607-346177007093', 'nyt://article/54b605b9-85da-59be-91a2-d9703f3e34d7', 'nyt://article/3d60c6a3-8140-559d-a7d5-0ff60ea9fe07', 'nyt://article/7355e44f-b003-5eef-a1dd-49686f6d4f0d', 'nyt://article/41832675-8516-5f37-afb3-87f8aa6e7176', 'nyt://article/4e5b93b6-0a0b-5c89-aa4b-628cbc80ce74', 'nyt://article/ddb75aa2-e63b-5b37-8701-68701fffb7bb', 'nyt://article/48aeaf1e-9514-5a90-8b9c-53450c839d58', 'nyt://article/9e9979c9-f148-54e3-9d27-92feae97eb5e', 'nyt://article/64ceed06-f6b6-518a-8218-5a6b5d390475', 'nyt://article/cfc43048-bf97-5e05-a2a2-49fc6757584f', 'nyt://article/8779589b-361f-5a33-a0fa-8d40d293fd07', 'nyt://article/158efe9b-5473-5284-8355-a5fd177f363e', 'nyt://article/d285f7ab-c815-5f53-a22a-058e8b114184', 'nyt://article/caf2171e-6951-5bc5-9262-ce9e1494d974', 'nyt://article/1bafe307-fc92-5784-9db5-c72a17133cd2', 'nyt://interactive/0866fb7b-603c-5d5c-b30f-5417e0828352', 'nyt://article/6c78b3d6-64f5-5008-8ead-2d72a298cf9a', 'nyt://article/ecb890a4-1df1-5725-9f19-6d14bd1e7d4b', 'nyt://article/1e8c8760-213a-58a7-9a67-cd2d9376189b', 'nyt://article/f82939d2-bbb9-5370-b09b-67ab5a62096f', 'nyt://article/24ae1999-aa1f-5b4b-ba19-e7925866dfbe', 'nyt://article/0a9e1699-6657-5929-9c99-a663ed7df77b', 'nyt://article/954e28a7-846d-53d4-9dc7-8c5ce1865d3b', 'nyt://article/f15acd13-69e2-5ffc-9cff-2ec9f6645489', 'nyt://article/81d4cd49-71db-5b39-8631-8baf6987baa2', 'nyt://article/ccd6bc59-1026-5572-800b-4e683f862969', 'nyt://article/cbf4dfcd-f1b3-51b7-9718-cc4f097421e1', 'nyt://article/3dec1bb8-81be-50ba-b1c8-e2c971667d72', 'nyt://interactive/3d8eb06e-58e1-5faf-b0c0-266feb0ea3a8', 'nyt://article/6fd967b4-fbdb-5e93-b8df-97b4dd422f03', 'nyt://interactive/adcd4a0d-2481-52db-a838-5c746ff09a2f', 'nyt://article/bf3b713d-876b-5511-ac2a-43b805f771ed', 'nyt://article/9ebc0041-6d71-54c1-a962-16c7c5216526', 'nyt://article/135046eb-1684-51eb-a3df-c8a7e19190e3', 'nyt://article/74527575-c0ff-5c3d-a43c-b4a2c21b6d68', 'nyt://article/30705640-6c2a-5b75-b077-22925695c487', 'nyt://article/0a996aca-0daa-5d56-8591-56f6e889fa1d', 'nyt://article/a7c52daf-964d-5119-bbb0-d7d0c14ff969', 'nyt://article/beb18333-d51a-58d9-ab70-b3eec1426678', 'nyt://article/e149ad57-21c3-5fbb-a7c4-984d27338441', 'nyt://article/0c6b924b-246a-51cd-9237-8e2b6b630098', 'nyt://article/f43cba88-b5fe-524c-a6f5-effb3ce6f828', 'nyt://article/3becb3ca-09b0-5a00-a686-14f1054564b3', 'nyt://article/7c0a5bbd-3610-593a-8c7f-8dc6d6dfc46c', 'nyt://article/7034f641-b9de-592f-9441-8d1bd0e3c5bf', 'nyt://article/d42cf4dd-379a-5c9e-a024-c3520d605c27', 'nyt://article/e5cea9e0-72f1-5ffa-b671-74b4f448bf51', 'nyt://article/763c6167-c219-5303-82e3-56f37197a246', 'nyt://article/a72590e8-dcc2-5c4b-9522-e5fb52746cac', 'nyt://article/9e7f969c-0cac-5506-bf87-4af5c58df8ac', 'nyt://article/472858cd-93e2-545a-9bca-ad6b2061b836', 'nyt://article/b3bba0fc-9256-58ea-bc86-13885d1fc4eb', 'nyt://article/abc471df-b1fb-5d38-8f2e-9d23d54eeb9b', 'nyt://article/d5a012ad-9a99-5520-9ea1-14235f8ada6e', 'nyt://article/1255b67d-6f0f-5f68-a4f0-614c71684b01', 'nyt://interactive/ec72d4ed-d437-57b7-a17d-4ac919653258', 'nyt://article/da910635-c6eb-5bbf-b0ea-346796620104', 'nyt://article/0650ee41-0fa3-555c-8687-d66fdbfa5b86', 'nyt://article/4f6c4a22-3f73-584a-ad1f-b3ff235990b8', 'nyt://article/b72538c5-5c5a-54a8-a842-e0fb0abc6f76', 'nyt://article/7eacf093-fe63-57db-8d68-415218c2c644', 'nyt://article/cb2e6c80-2100-58e1-b619-b30f3ff38c8a', 'nyt://article/852d9c82-87f9-5e10-a6c3-7d37159a6ef4', 'nyt://article/8782e8e7-7fd3-5994-b6b0-da81a7656e7a', 'nyt://interactive/6567bdfd-4b48-571d-b37c-5369d5680e89', 'nyt://article/3ec017c1-6595-554a-a88b-1c7ec498fcf1', 'nyt://article/a3af89d5-659f-5c0c-ba5b-c88257825aad', 'nyt://article/48c730c0-9250-5a29-befb-8c3782b23c2c', 'nyt://article/2ce12f2c-06da-56ec-838b-e4fd5d4a51f5', 'nyt://article/79a1ac68-62bd-5ac6-99f3-79850ba5c64c', 'nyt://article/6d3c79e1-2de3-582a-b403-65a26d2f0a87', 'nyt://article/a5903af6-130c-59e5-a908-e26f9938ea55', 'nyt://article/379663b2-15ff-58c4-bf87-8f48428f8888', 'nyt://article/c9fe15fe-b0c4-549d-8d9b-9da720feca4d', 'nyt://article/c5bc4a5f-edd7-589e-abb8-d056a8eeb1b5', 'nyt://article/c3753e8f-090d-5bb8-a6f4-57c0e9c4749b', 'nyt://article/cbc02da0-d400-51bb-ab64-241b316a71b3', 'nyt://article/8a8966af-b5d7-59d1-b01a-c7155b69118b', 'nyt://article/2f59c68c-ac80-5793-a00b-fcbf162c30a4', 'nyt://article/dd203755-521f-5417-92d4-35af7c435005', 'nyt://article/3826423b-7078-5f7b-9d1b-dd602d53c5f0', 'nyt://article/10b68136-7d20-5392-bac8-0a29cbb85c8d', 'nyt://article/d8e3d127-cc0a-5be6-ad00-8ea85f6ba91d', 'nyt://article/dc1428c3-250b-584a-9419-666e69b2efbf', 'nyt://article/d1131961-9ed5-554a-91c3-84908bb112b0', 'nyt://article/598db2ad-134c-5f93-b294-20b40cdb422d', 'nyt://article/4dd03502-10a1-55a5-bd8a-9b95dec7aa1a', 'nyt://article/eb20bc8e-a4c7-54c1-9546-0fc830eda916', 'nyt://video/3b261cc5-c5e5-5481-9bf0-0b6e0aa298a6', 'nyt://article/d68c8a6a-f275-52ab-8d81-8c04f2538bed', 'nyt://article/ad665815-e98d-550c-947d-fe1b6b6c868f', 'nyt://article/fe1a7c93-0a1a-5d69-9592-73c1b4faa68b', 'nyt://article/1d5a61ce-b39d-54e7-90e2-561418801840', 'nyt://article/96b7b51e-f5df-5c06-9d22-2fb974b59a8d', 'nyt://article/954bc947-a7ee-5d8c-844c-c73c3c57ad79', 'nyt://article/e84c35f5-afcf-5d53-8a0f-764f23064278', 'nyt://article/96129e6e-c9bc-5090-a168-53362e2e1a3a', 'nyt://article/209519e8-7368-57a4-b8fb-53c598b9570e', 'nyt://article/eb30b779-fc18-5189-b22a-4affc0669ad9', 'nyt://article/d8ebc529-a63d-5374-94fb-50f8f4ae8346', 'nyt://article/937d629e-5c21-5863-9358-9b93767b194d', 'nyt://article/fd622ca4-65ce-5c63-bc18-f4397b3c9ec0', 'nyt://article/f55e94af-a707-5e47-97b4-a52f92bef87e', 'nyt://article/de9a146a-eeb9-5c0e-ba3c-08d5639de38f', 'nyt://article/2cd98abf-e3c0-5fc4-a332-c28f4d05bd9b', 'nyt://article/69e5aa07-b267-5af2-a35f-ef0897cfcd48', 'nyt://article/7b3fc537-a568-5d3e-b1fb-07e3166ec112', 'nyt://article/11e064ab-9132-5c67-8000-71515cf921fb', 'nyt://article/23f70cdc-83f0-565a-9092-1917199ad802', 'nyt://article/25ad4023-7d3c-50ef-93c6-e1542bf5b6ef', 'nyt://article/4ffa1602-d6da-511b-bfa5-9300c75b336a', 'nyt://article/ed363834-9e24-521a-b577-208e45c30e58', 'nyt://article/d13fadd1-27e4-5ba1-afc9-e29ea1b21756', 'nyt://article/07d6c3b0-2249-5964-981f-8a2f76357a27', 'nyt://article/51cea108-db92-54d6-9e13-b130ab2776f7', 'nyt://article/6851662b-ff70-5fce-941f-1cde598ee74e', 'nyt://article/83288174-3224-5d3d-a996-fc8833c11ba2', 'nyt://article/6b97fff2-83e1-5623-ab10-bd22f4b3d11b', 'nyt://article/39cf42c8-ec2a-5420-b524-0023012a23e9', 'nyt://article/bdc7c17a-fcf5-5b18-b9ee-237a06318d48', 'nyt://article/286278eb-4383-5af2-a8fd-1918bf98d6ae', 'nyt://article/6b3e5f76-e8cc-5a2a-b766-ece0ae95a82b', 'nyt://video/6086acbc-4064-58b1-83fd-817893a5132b', 'nyt://article/51b5729f-b195-538f-87fb-1b236248aa0e', 'nyt://article/b60263a2-9068-59e9-a217-de93a57bad73', 'nyt://article/0150f781-adde-5b51-a27b-5ee1a516ad11', 'nyt://article/1660ce49-08dc-5886-af6f-a77a3e9d2b90', 'nyt://article/5e5c3c09-42fe-5702-a897-ac99ed0da598', 'nyt://article/8171ed8f-1182-57f6-85f1-cd46924c8ccb', 'nyt://article/6fa39e37-a1a7-59f9-98b2-e701274b76d7', 'nyt://article/b305f553-8799-5dd3-9bae-9e56174a7a58', 'nyt://article/c66d01de-f1ad-555e-8b1b-8ef2081a8a2e', 'nyt://article/1e1089d5-7e64-5582-b2e7-cf0f2ae4f193', 'nyt://article/608e8353-e88a-55b0-a631-2eb964b06fc4', 'nyt://article/2bce4802-102d-5a1d-8447-582c8b445480', 'nyt://article/6c55a2e4-c1aa-5e03-92f2-fd058f9f97e1', 'nyt://article/5ea115c2-6b85-584e-9188-8f0e84251856', 'nyt://article/358c6fb4-cef5-5a68-95e9-d781ab2c0a7e', 'nyt://article/f39a5a5b-4613-5ba0-8934-46ed72a662e9', 'nyt://article/ff5238aa-7d0c-5c8f-aef9-88f6198b328d', 'nyt://article/fca9d08b-77d3-5839-a9ff-9497c4e92fca', 'nyt://article/ca3d0753-e32f-5c77-af3b-d37297d21652', 'nyt://article/be8e1ec9-d1ae-533a-999f-4b2361f5d223', 'nyt://article/94be81c3-c9ae-5796-b7ae-abdce8b7fe60', 'nyt://article/3828bc1c-aefe-5e8b-8af9-2785d4a3bd0b', 'nyt://article/af921fc9-3b42-54d9-b938-60a66b1f40b3', 'nyt://article/cb07d2df-9e20-5924-b241-6d950682c000', 'nyt://article/34755866-baa4-5af8-8f83-4ae4a24c97a0', 'nyt://article/b83b0460-2f2a-5fb3-9e39-87be25e8fba9', 'nyt://article/398e854e-4820-5aad-b0b2-b0daea8e6cd3', 'nyt://article/76e11970-4d69-5716-9b80-2820201d9f22', 'nyt://article/b1af719a-8776-5639-9313-d6d58829c681', 'nyt://article/827a3de4-4e4c-5bd7-9717-65d1772cd03a', 'nyt://article/b698781b-8a73-56fe-908c-a0e8d494755e', 'nyt://article/523ecdca-1216-518f-8661-a60972a5169e', 'nyt://article/05503b24-9042-52de-b3e5-a04464155a1a', 'nyt://article/cc61eec9-65fe-5f4c-a69c-0e0ab05f1223', 'nyt://article/4c959589-21ac-5016-8c6a-19e236bd4f4a', 'nyt://article/81012c29-8632-5056-97f6-60b9727c6848', 'nyt://article/871fc07a-da6d-535d-8c88-a472d013b2e6', 'nyt://article/b3e395bd-8d3a-5ca2-abb4-fd1712abb304', 'nyt://interactive/8377ca81-4dd6-5734-855e-69516f60001a', 'nyt://article/1d2f513f-a5c7-5272-924d-4f1abebc51d3', 'nyt://article/bca1acb4-6859-5c77-9504-2830f69f9fc5', 'nyt://article/792e1284-29fd-5573-9519-05e63be23de6', 'nyt://article/6da5038a-d598-5572-b54e-14e32267ddd4', 'nyt://article/23fbbff0-e90e-5f44-8372-7b9d902c284b', 'nyt://article/95cdfd7e-7224-5a7c-ae61-010d17ae31df', 'nyt://article/c6eedcd7-d9c1-579f-9664-616908b2dc25', 'nyt://article/dd42d45a-633e-50d2-af77-05359bbde678', 'nyt://article/0af8fc57-fbd4-5b61-8384-5a7d126db5ca', 'nyt://article/3b7883c9-8aa2-58ea-b78c-bfc99a59dc17', 'nyt://article/b7c1033a-4d83-536e-be8b-dc9549d65155', 'nyt://article/83a2be3d-8844-545f-9600-68a274a3ae67', 'nyt://article/c480d0c2-d171-5768-82ff-528b10888ca6', 'nyt://article/23ad3619-a76b-5125-b61c-5a0779e3e2e2', 'nyt://article/cabe133e-dec6-5f79-9aca-52bf0b37d91a', 'nyt://article/30ecf60c-5411-5907-af4d-6e4f0cb8534c', 'nyt://article/8863b5b1-53ff-51df-b691-fade8fd498d3', 'nyt://article/e64bd29f-c602-5e6d-9ff8-6da1edce98dd', 'nyt://article/7d9566d8-efa1-508b-b871-c96f5c5e1950', 'nyt://article/56fc027b-a20a-5088-9c32-f035411328f3', 'nyt://article/53418761-50d9-5358-b126-e45d191d4b8a', 'nyt://article/69b916dc-b719-5c6b-bc41-2775387dc309', 'nyt://article/0e6cfefb-5716-5224-a236-06e6c01c3211', 'nyt://article/1068ca27-eb20-5ba0-9cdb-502851a3b948', 'nyt://article/dc890902-a23c-56ba-bca8-5f8f0071a60b', 'nyt://article/fcd21d4d-a1d1-51b7-a008-8b594f0b96e2', 'nyt://article/99a4d448-069e-50d0-94cb-2de4742e8485', 'nyt://article/7a828e86-6353-5787-953a-335a2d7c456b', 'nyt://article/97b7a906-53ec-56a9-87c0-83a47c512b49', 'nyt://article/350a9c04-fd7a-5b60-b4a2-1792b74e399d', 'nyt://article/a2a28e01-b98e-5813-8400-fd7fb0ce2997', 'nyt://article/e95678c6-90d4-5cd8-a51d-8a8bcfc66be1', 'nyt://article/d34c1c71-e982-5637-9078-b594c9e60a46', 'nyt://article/ed165c11-21e0-5162-9a4c-f2aac944750f', 'nyt://article/df0e8e33-3a0d-52c3-8c88-23b8fec6706e', 'nyt://article/9e5bcce2-3cca-5ad8-8989-65a1f9bfe291', 'nyt://article/d5cb5578-519e-56ce-9f76-21ed88cdf444', 'nyt://video/6ad495ba-0cbb-51b1-9c15-d3ed0653e135', 'nyt://article/52706e7e-12c0-5c66-871a-95cfc0afc334', 'nyt://article/d28780ac-bc16-5a6b-bf75-1cd1c789d32c', 'nyt://article/2ab0ac1e-3e6d-5a9a-a458-5ab4561880dd', 'nyt://article/6b3a749e-396a-5e5b-8bc3-8f45849b2535', 'nyt://article/00c9e71a-7f0a-5304-a823-597495985f6f', 'nyt://interactive/f153fa1b-4a3c-5f0b-b399-a6293e30212f', 'nyt://article/e1beb64f-9804-5516-bc1b-d8d30e1b21c0', 'nyt://article/eac1f119-03f2-5f59-b64a-b7dcadf86b55', 'nyt://article/2b152871-d329-53e7-b3c1-f986d18c3ae2', 'nyt://article/b7e9864c-a04e-5c9b-aabb-a5a3ad3781b6', 'nyt://article/c9c4fe16-c986-59f8-844a-a3339d75f29e', 'nyt://article/f1921814-71c6-5e9b-8324-43714c23b3ed', 'nyt://article/e7e9526b-85b1-52e2-891a-26fa65711895', 'nyt://article/7a30ecf0-b551-5994-a5e5-2cfd30f0d66c', 'nyt://article/31f6c345-c8bc-5d0d-8c49-445b0f8a201d', 'nyt://article/682f16eb-d66d-5232-a79c-631ee22d3468', 'nyt://article/e953fdba-1714-5be3-807e-590dfb4d0e9f', 'nyt://article/f34a22d3-705a-51d6-a32c-44e1d0713054', 'nyt://article/39db45b5-6f87-5dee-9d1c-817323abd158', 'nyt://article/5862b2c1-da5b-59e8-9f75-11e86d6dad0d', 'nyt://article/d21daae3-37f4-5682-ae81-be3f39e59781', 'nyt://article/50d4147f-ef1c-5f95-942e-fc05b2d12157', 'nyt://article/f8f13337-8f29-513a-89f6-6163fbab4175', 'nyt://article/60be5c22-d9af-5545-85a5-3eaf22871b5e', 'nyt://article/9d2fb890-56a3-5af1-9bd8-abeaf02358e5', 'nyt://article/32c59c1c-a39c-5538-97bd-45cf57e19305', 'nyt://article/c72b539f-3fcf-52e3-92cc-ad6be4ebf9e6', 'nyt://article/7123c113-f19c-5983-986e-d9fed0a10332', 'nyt://article/7fde1996-d185-5781-bd34-1f8dffe80752', 'nyt://video/c13cf3f4-7024-5f07-a8ce-8d54d88dc8a1', 'nyt://article/0f4aeaed-decf-5bc9-9efc-c7d5d82bd9f7', 'nyt://article/4bed8f00-1978-51f6-80a7-73c78eb18b4c', 'nyt://article/d2111079-e7de-52a5-80be-54fb6fdd08aa', 'nyt://article/cd07671b-939e-52fc-8454-cadf23363900', 'nyt://article/5874b4b5-326d-59e0-8826-bd9507886414', 'nyt://interactive/8e1b2a6d-ea16-585b-a525-582d3f0db9ef', 'nyt://article/60d2c6b4-d097-5271-9c32-0277afdbe39b', 'nyt://article/52e2babc-dabb-5839-8f21-d22b32ece44d', 'nyt://article/301898cf-7af0-5bbf-8f8c-2ba5f98310d4', 'nyt://article/f1f642a2-039e-5a5b-8d1c-44f8e77867f1', 'nyt://article/7a93dfe5-8cbb-5f59-a6a3-b1146ff25563', 'nyt://article/7e228b1b-dcc4-573a-9f36-b831cd5201b9', 'nyt://article/73926ab4-2594-5938-ab0c-381e1123e5be', 'nyt://article/832c9cf6-ba50-5558-8557-7602513429c0', 'nyt://article/ed99f6eb-d805-56a3-b908-3ec1e2802ce4', 'nyt://article/96a55f9e-756e-5ddd-928b-789d304b5002', 'nyt://article/68172406-c15a-541d-8918-96f15c31dd2b', 'nyt://article/064aa37c-27a7-537e-8444-fe677768c406', 'nyt://article/4c80be0e-1575-539f-9670-0324837c347a', 'nyt://article/781e1cae-a5ee-59c9-90f3-44700abee119', 'nyt://article/40c7a261-fd3d-5fbb-bdcf-e98d8419d6cc', 'nyt://article/9d38f20f-68c6-5db6-8f39-5c82bf84dd28', 'nyt://article/6a1afc0d-23b3-5a5c-9e32-c1df928a7590', 'nyt://interactive/ae557018-3933-5e57-8b30-2f195b161811', 'nyt://article/b6ef76c1-45d7-51d2-80ea-17d4b907a6fd', 'nyt://article/4fb535ba-fcd0-5385-87c6-9a0656246517', 'nyt://article/61efa0ef-43d3-54ae-8387-66d17e19b8bd', 'nyt://article/e1c88ac9-9b3e-5475-943c-001a379b918f', 'nyt://article/6094fa8d-1e99-5f52-b122-115bfb5ac97c', 'nyt://article/5cc804aa-3191-59fa-a7d5-e68747cd5c06', 'nyt://interactive/532d12c6-7200-5f40-8e5b-4ec96686269b', 'nyt://article/e09d5df9-e70d-546f-9d55-9f4ddec8c103', 'nyt://article/c19d67d4-b550-5e54-8552-064ab7e2be40', 'nyt://article/84a5c425-42dd-51fc-86fa-c3cc7ea7600b', 'nyt://article/13143803-8bf8-5a7c-92b6-4a08bd6027d1', 'nyt://article/545460bf-f0c4-5055-97cb-9ac5f9c48880', 'nyt://article/652b24b9-44a0-5e82-a815-f9b8b7c77212', 'nyt://article/61d79dbb-b8e1-51f6-97ef-43b7726e9595', 'nyt://article/1f4e11c0-5395-5ac7-a538-839f74e1c545', 'nyt://article/7016e37c-af00-5b3e-86f1-bf15b2b71f59', 'nyt://article/f1ea4895-4345-59b6-81ea-0b9e08e322b6', 'nyt://article/11ab2989-3889-5a5e-9968-2ed9802718db', 'nyt://article/74f569e9-6ee1-502f-833d-eedb790bad0e', 'nyt://article/56660a8e-77b4-5242-80b7-322337cd5888', 'nyt://article/232d4e99-3371-59e7-a1f3-c0995febfc66', 'nyt://article/815861f4-349b-5eb6-9c9f-0253d9dcc352', 'nyt://article/8a790596-1e51-52d1-bbd8-a23a6bdbbe38', 'nyt://article/44ffe1e6-a153-507c-a295-5bc1bdb850bc', 'nyt://article/c0a0f857-ecb6-52d0-962d-b9803e401ca2', 'nyt://article/27e17fac-e79d-55d0-b308-36dc4dd7adf4', 'nyt://article/b9ce3296-964c-5e75-8f49-5ed457b6c4c5', 'nyt://article/96d8a0a3-c3cb-5d0c-aa0c-8e795b1414f6', 'nyt://article/3656a3e7-ebdb-5f43-bffd-fbd36db95f6a', 'nyt://video/b530af12-a8b5-5708-a305-6d045fe49f8a', 'nyt://article/f0ae8450-173a-5151-adb3-d0b5f4749bde', 'nyt://article/ff0464cd-482c-53c6-bb7e-00ae86228e86', 'nyt://article/e0fd0271-0db1-595b-908b-af8e53d6666a', 'nyt://video/6d5c158c-e373-560c-af87-d69baff3c33a', 'nyt://article/26cf0bb8-5b54-57f4-b61f-6717430a04c1', 'nyt://article/1736bba5-0842-5231-9f42-bbf512673416', 'nyt://article/8fe504d4-2e5d-5cb7-bcf0-b8f47125dc9c', 'nyt://article/5b529c9b-5b8f-561e-816d-92354390c19e', 'nyt://article/07886ca9-148f-5924-8791-cd02f6271af7', 'nyt://article/74445b4a-5b7a-5995-8470-ec771ec6469a', 'nyt://article/cde83fff-6b10-5e1f-ae26-4f7fda1d44e0', 'nyt://article/68d65e58-a57f-53ab-a86c-a8c5f50dc2f1', 'nyt://article/8ceeb74c-0110-5697-af59-7e47b2a6ba75', 'nyt://article/1c462645-d944-5401-b2df-0441a069b352', 'nyt://article/c56ce7c9-f343-5602-835f-e39ce9c2213f', 'nyt://article/6a1bfc97-d551-550d-9565-04a4dad326c2', 'nyt://article/969e5ae1-c413-50f8-a98b-62b53213c3c4', 'nyt://article/7ef2269e-de82-5754-84f6-3b685acc82d6', 'nyt://article/057efa19-09d5-5377-a996-48e669c07379', 'nyt://article/975b5c99-9580-579d-b972-7ddbd29a38bd', 'nyt://article/55431065-129a-5d0e-9380-c8bd4ee80114', 'nyt://article/9634d336-8811-51b6-b13d-86c9d2b65752', 'nyt://article/c313714c-bcdb-5c53-ae42-32e740f5c6a3', 'nyt://article/222db215-088f-5608-8a6a-8966b40a24fe', 'nyt://article/008688da-8a3f-597e-9dc5-73c497a61f53', 'nyt://article/e075daf6-6fe1-556c-8a83-25d6ce03833a', 'nyt://article/44ed7547-9d77-5b8f-8368-4ba4579ea493', 'nyt://article/b5f1df69-24bd-50b2-b3c3-287a8d233753', 'nyt://article/e05100fb-2910-58d1-9c6f-89e6227e3c07', 'nyt://video/019e96bd-15c3-59c2-9819-520bc4b63d3e', 'nyt://article/aca0388e-f8e9-5a13-98ba-ce129c4ddd0c', 'nyt://article/a1b2802e-014a-57ed-b380-5a16048b9414', 'nyt://article/a3e00b18-c078-5cfb-b6b4-1b99607225f4', 'nyt://article/675cf4e4-3ac9-5f4a-85ff-8ee7d9461441', 'nyt://article/0b1c6c10-3ff3-549f-90ff-3e42fb1aab96', 'nyt://article/e1da3cb5-18d8-5817-a684-aa932a20c9b1', 'nyt://article/22ead0fc-51a1-5a51-8927-333af05fe4be', 'nyt://article/c0f976ba-1357-5979-acac-cc02984d1fa4', 'nyt://article/67763624-8493-5a37-9ebc-cd39e4a4940f', 'nyt://article/2ccbcc75-d9f4-5938-afaa-d34c877a8b5b', 'nyt://article/ebb4948b-b390-5138-b10b-ff0e344fb613', 'nyt://article/863d7ce7-229f-50f2-abff-2ed220500715', 'nyt://article/c21f8c8c-8d3a-56e2-a481-cce52ca4a436', 'nyt://article/bf4a99ec-4a92-51f8-89c9-d903edfee7c0', 'nyt://article/3083e8da-e87a-52ba-be9b-259a2d04e149', 'nyt://article/e5471980-ba2f-5f95-82e7-937c6df7600e', 'nyt://article/ec3c6a50-29bc-5052-9288-d3629a3694ea', 'nyt://article/1686addc-6284-5ce9-a262-b35c4c891068', 'nyt://article/c8d05def-008e-546c-a98b-e8d99f080a27', 'nyt://article/dc0c6e06-eeee-52f8-bd73-014d854f0fb5', 'nyt://article/519614b0-7920-52df-b42c-dea6ce94cefe', 'nyt://article/366c9db9-b7e8-57af-9425-415e6572a64d', 'nyt://article/b716cacb-3505-579c-b15d-90b4b2e04e47', 'nyt://article/e7b0e0b5-e75f-509d-a9f1-e57c15e1493e', 'nyt://article/8f468b36-ad60-552b-8063-f7d3c415416e', 'nyt://article/2293e392-8bbd-5550-872c-92cea5e7ef35', 'nyt://article/713fa2cf-9ed7-5564-9b62-6fa7f4accc97', 'nyt://article/ac3f34e3-7bb5-5c3e-846a-d8e731e44970', 'nyt://article/0c14d559-6991-5e0b-87bc-4b214f2a51ac', 'nyt://article/14a42fb9-1ed7-52c4-a28f-6ec7b66ba7df', 'nyt://article/0ba00d33-cdbc-57fb-bd9e-9e6cdf32eea4', 'nyt://article/658e2488-2276-536b-aaf3-dac7d9959ff6', 'nyt://article/c441947b-2c83-511c-918c-51c1e92385ae', 'nyt://article/2534fda3-514b-51dc-a525-328b039a2e43', 'nyt://article/22219913-69fd-5794-a50f-28d243789dc9', 'nyt://article/b0caebd2-ef5b-5588-ad67-9b49c3b06420', 'nyt://article/4142adf2-ea1c-5d1e-9693-d76309c6dde6', 'nyt://article/14441454-ee6b-5dc0-85f0-cc8d0cc98c1a', 'nyt://article/9f67059d-b082-50d8-b809-ebd97db0155f', 'nyt://article/4c89690c-2d88-5666-b3a4-9cccd6ff4cfd', 'nyt://article/345ee78c-1013-5ed5-a0c8-c8c6f25db6e2', 'nyt://article/0c3058cb-61ca-5904-be77-178cdb5b7a46', 'nyt://article/4d123274-8627-5fd2-a13e-4e5d6c012faa', 'nyt://interactive/db2d684d-ccf8-53f9-9fd1-080cd3338b66', 'nyt://article/17ea0afa-d3ea-55a2-85a8-8799db99297f', 'nyt://article/865d1988-05de-5ad2-bc19-0aca7ba716a0', 'nyt://article/fd46fee6-68ee-5041-a3f0-816d4834889f', 'nyt://article/fcaf05cb-0e4b-5063-a3f8-ef729ede2429', 'nyt://article/0a4fb646-8bb5-5b60-9f20-e794e150531d', 'nyt://article/bbd016ba-d860-576d-99e1-0f251f01af53', 'nyt://article/bab3b504-c10e-51c3-b99c-dfc1a7173d3a', 'nyt://article/ba5abaa5-22e1-535c-99f2-b894651ce10f', 'nyt://article/55105b16-71c2-5e71-af6d-5fb2f3714351', 'nyt://article/fa4dc20a-629a-5837-8675-7342a7095464', 'nyt://article/0a9ab5ac-a54b-52e1-82de-f29562d2781c', 'nyt://article/4e76384d-764d-55e5-bd22-9009d4148189', 'nyt://video/052807cc-caa6-5a9a-986c-296570e7e177', 'nyt://article/475cda3c-4fa2-5f70-a185-ffe806cdefe6', 'nyt://article/81ec3052-805f-55df-8839-d68b7a459688', 'nyt://article/4336fc5e-b8e2-5566-977b-a86ef2fab052', 'nyt://article/0e335aca-12fd-510c-86c8-a5fde981ba37', 'nyt://article/c952cbc9-331f-5cf9-8227-8838df2f16bd', 'nyt://article/c0b9a73f-66ef-5b5a-a3d8-ee84f899d726', 'nyt://article/75122518-6cd0-5a5a-86d6-5dcb44147430', 'nyt://article/3e85dac6-d0f5-5748-9fee-5adfd79df0db', 'nyt://article/c24514eb-d6de-5791-9fe1-4914957f37cb', 'nyt://article/9d3a4a42-d615-5e9d-8db8-9779bfc63ebd', 'nyt://article/a97097b9-4806-5c14-b978-f217ff768843', 'nyt://article/01f28ad8-81c4-5ca4-90e4-892f9e50a336', 'nyt://article/8f179d88-c817-52b7-a3f4-4ce65e50c506', 'nyt://article/1c2f0425-7b78-5a8b-b17e-41ade1223192', 'nyt://article/3b6fbc1b-5d55-53fb-940b-b76fb9fea7ad', 'nyt://article/f2a3d085-b885-53a0-87db-1feb79c7f66d', 'nyt://article/d0e4ea07-9a28-5889-8870-7d9be3840876', 'nyt://article/c2180845-6df9-59c1-9d2b-8e9b26e23746', 'nyt://article/b0d12d7a-c8e7-5c36-bd3c-669590c80d57', 'nyt://article/34e910b4-d332-5692-8f7e-2a14bf4d7a2a', 'nyt://article/21c013bb-159c-5fe3-ad39-00456a9dcc80', 'nyt://article/7d406b18-def2-55b9-9989-3655459a43cf', 'nyt://article/e47215b4-6edf-5e3b-89a5-b62676df6375', 'nyt://video/dddad6d6-bffc-5a22-983b-35cfe597a14b', 'nyt://article/aef9a593-c9bd-5786-830a-e3fdae918eac', 'nyt://article/40ec6d4d-4dcc-506d-8075-d7d5019aac8a', 'nyt://article/4e775395-1936-5af4-90e8-12d9c6c7eed7', 'nyt://article/5c2a1cbc-5147-5eb6-bdc2-b082aeb8e67b', 'nyt://article/c36771af-a6d7-5c6d-9947-772def83cf6a', 'nyt://article/53fc122f-2cba-5278-a048-212c3eefc721', 'nyt://article/cb7d84e0-149a-5798-b619-9188593f11ca', 'nyt://article/8f540855-3f51-5e31-ba80-c6edb7146b1e', 'nyt://article/256daea0-f119-52cf-a824-1fac2f70e684', 'nyt://article/6785aee5-4103-5308-9279-33835b13793b', 'nyt://article/320f4170-3e38-5b8c-8a9c-904bddeb09d8', 'nyt://article/95f6009d-70fc-5b30-b7db-b11a9f607edd', 'nyt://article/93fa297d-4d56-547f-b37e-4b3fdb9987dd', 'nyt://article/c55ef6a6-e06b-5c36-a763-57c2ca0f7831']",
         "530",
         null
        ],
        [
         "43",
         "Cape Verde",
         "['nyt://article/2277a789-ee94-54d6-b682-171604883d76', 'nyt://article/b31bf7b8-fd6a-5c88-b518-a92505671024']",
         "2",
         null
        ],
        [
         "44",
         "Caspian Sea",
         "['nyt://article/ea2f8cef-794a-52e7-8891-8656b2891bab', 'nyt://article/d7ea26e8-b61f-5975-bd0e-ff455733ac5b']",
         "2",
         null
        ],
        [
         "45",
         "Cayman Islands",
         "['nyt://article/07d7bc2c-4677-5ca4-aa52-b31e96846bdd', 'nyt://article/a456784d-b5fd-5a1a-b0b1-49f1a8739c04', 'nyt://article/caf98741-73b7-5dc0-bfc0-9314490fb22e', 'nyt://article/4d6970ca-53c0-51d8-8c98-f0ea58b16e2c', 'nyt://article/0539543b-5dd8-5dcc-a0b4-9893e0fa3ade', 'nyt://article/be74adb5-7a7f-5ee8-a978-63e5c8744895']",
         "6",
         null
        ],
        [
         "46",
         "Central African Republic",
         "['nyt://article/8e9c68f9-7b15-536d-a7c7-9b34671ab74b']",
         "1",
         null
        ],
        [
         "47",
         "Chad",
         "['nyt://article/34e514ce-6ebc-58f1-bf4b-d750eadc447e', 'nyt://article/2ecf5073-590a-5fcc-b7aa-5ca1d3743dd3', 'nyt://article/5a69ade6-b6a2-5b93-8d88-48c8d65c36a9', 'nyt://video/d650de63-1cf4-5371-ab0b-aa50a14aab59', 'nyt://video/c28cda1a-5bbc-5b9e-95d3-436104e991e1', 'nyt://article/0f131aca-c945-564d-8c22-d273f6fcbbdf', 'nyt://article/ed2d23a0-5c77-5be2-ae6f-0ca58fcdd1b2', 'nyt://article/82beab25-c048-5423-bded-f026e34edf06', 'nyt://article/d8309b41-b5df-51e9-9078-b09483edf1b4', 'nyt://article/897a0e53-6076-5a98-bb28-4d7d3df155a4', 'nyt://article/53118789-4397-5531-89b9-9058ba300f0c', 'nyt://article/a4b99254-7fbd-5804-9967-32ed3e43172a', 'nyt://article/018d4a58-caea-5a5a-8f20-e6c06873b688', 'nyt://article/7bc0f53e-3bab-5923-80a3-0d46cc92bdad', 'nyt://article/a9921911-82c3-5820-8f1d-ae6c7cba37d0', 'nyt://article/78237980-8280-5d83-8cc9-b408853106fe', 'nyt://article/428f1222-5c16-5449-988a-db38277c2e61', 'nyt://article/22ae90a5-47fd-571d-8389-0df2021b253f', 'nyt://article/8a51bb2b-1b25-5a46-8f35-05b9c5a8c6aa', 'nyt://article/2dbb5dbf-deb3-51b3-bf62-ae0ddca16e93', 'nyt://article/890d3351-1a2a-52a4-867a-fefffe6adb12', 'nyt://article/d24390b1-03b7-51b0-80ca-f005216014d1', 'nyt://article/b472a426-1803-590b-ab5d-a81aea32a425']",
         "23",
         null
        ],
        [
         "48",
         "Chile",
         "['nyt://article/b68a2290-9b5e-5c72-b087-d61078994aa5', 'nyt://article/34399e0d-af56-5a07-80fc-04f64a7c0ff8', 'nyt://video/a90d2d24-3aa7-5ead-9734-4c843d1ccdd3', 'nyt://article/90e7e151-69bb-5749-a07f-d18f9ccbe36c', 'nyt://article/7bc80009-1432-523b-acce-5323e444a015', 'nyt://article/a337d30d-3b38-52cd-a29a-840133f075ba', 'nyt://article/3fa03e6a-e484-5eb4-aab6-02fe01b547b3', 'nyt://article/73dc9de1-a40e-5414-9f7d-8e2c20a79e45', 'nyt://article/4bfecea0-f385-5ad3-87f3-5170cb7e5b48', 'nyt://article/6045611f-3f32-544c-9255-a5efa1b01cf1', 'nyt://article/5cbdc28e-0139-57e6-90e4-a4cde6630360', 'nyt://article/fb0436be-af6a-50ec-8472-15c5151ff6c5', 'nyt://article/60ab25a2-31c3-50a9-a84f-9e9c424da10d', 'nyt://article/ab5ee955-9d3c-549a-bc1c-42066ba59a05', 'nyt://interactive/66ceff15-1a83-5deb-a558-5a51d705efcb', 'nyt://article/f0218d79-105f-595f-a25f-ac1976d9f4da', 'nyt://article/795e6730-0b33-58ad-9d63-8d7e664ea475', 'nyt://article/b1fe6db8-89ea-57f6-8539-f274d3da3b57', 'nyt://video/bcc72e90-73b2-5001-8106-da12ec781054', 'nyt://article/92bdf0eb-26b8-569a-9f52-f8c905270336', 'nyt://article/1dcc1506-e30f-50c7-a6a2-ad6b257d2d60']",
         "21",
         null
        ],
        [
         "49",
         "China",
         "['nyt://article/5c62b3e9-4046-5b0b-8f06-017a74778128', 'nyt://article/b4aecf32-925f-571b-896a-f19904af186f', 'nyt://article/9e43debe-8e36-5732-81f4-297d92a907fd', 'nyt://article/c765e159-1f45-5245-9381-5aaed2efc2e9', 'nyt://article/27946192-266f-5685-abc7-ba294c123ff9', 'nyt://article/2761a831-1581-5d33-8905-651a1c0e7298', 'nyt://article/412b1dc1-8be8-5074-b1ff-fdfff463a71a', 'nyt://article/e4c5cb2d-e03e-56aa-83b0-76e1ff83190c', 'nyt://article/9b22e92c-8a09-5164-b279-e68d6bfbbddb', 'nyt://article/1b751eae-2c08-587c-991f-98a8b52360f1', 'nyt://article/190a4e7d-e267-5a83-8cfb-d283632b27d2', 'nyt://article/cc017fac-c1a9-5f86-a2a1-f03740d1533d', 'nyt://article/0f29ae96-41a4-5a52-a3f5-8db906441d97', 'nyt://article/93d95e62-482a-549a-9d94-b412d3999ff2', 'nyt://article/8562434f-34ef-50c8-a7a5-ea25f166dc5a', 'nyt://article/74c34058-2c1e-59ee-bcfb-1b1203781c65', 'nyt://article/e5724808-fc69-537b-beb2-7de60657e5f3', 'nyt://article/b2caad66-84d1-5bad-8e8f-bd8c6c33c5f3', 'nyt://article/03de21df-0dc1-57d5-9671-e52899848473', 'nyt://article/89e7078c-a881-5cbd-a0e1-28f310302b9f', 'nyt://article/9a38c9ce-b67a-515d-a364-88e8cedcf15f', 'nyt://article/f58a0237-b841-5b97-9136-9a3276a382f2', 'nyt://article/1443480e-78e2-5eae-b59c-330586617433', 'nyt://article/7774c1ab-cd09-5a0f-a730-21b99ab7e60c', 'nyt://article/814e5a9e-1ca6-5534-bb11-2fa16a2613c3', 'nyt://article/2ed420ee-0ce2-5663-8a0f-c7291e3515b0', 'nyt://article/d29b75bb-6852-5a01-bce6-89d749695cd6', 'nyt://article/07b544fc-01eb-5ea7-829e-fcf9fd22f67e', 'nyt://article/dc964c71-c1ca-56f8-a591-4769a736eca3', 'nyt://article/abaae27f-a5cf-54e0-a015-28e1deb3166a', 'nyt://article/29290a06-7f93-5b41-9c04-a32e658cbcb6', 'nyt://article/0545574b-8d69-5150-a0bc-6109c9655243', 'nyt://article/183850ec-7eec-5ab7-9588-871dbf89b4f9', 'nyt://article/9d200f8a-0df6-50dd-b40e-43fef63790cd', 'nyt://article/5b8ff491-2c0e-5a14-acbd-0d6f98b8956e', 'nyt://article/3db8ba01-1b32-56af-8bd7-371782a2c926', 'nyt://article/73e13e92-bb89-5463-ad90-f185fa39f493', 'nyt://article/ea0f6c11-f80a-5e5e-b94b-848e0d9900c8', 'nyt://interactive/6de81ae0-641a-5ac1-8f03-bab7c1058f8b', 'nyt://article/67b5d228-b2cc-5c4a-a261-045cc5e1f9f4', 'nyt://article/a6d1d059-8668-57ff-adac-bbd57cc0630c', 'nyt://article/20d2c87e-6b0e-5e35-87af-572140d3771d', 'nyt://article/9d2e7422-f485-5bd1-88bc-7c670da0acb7', 'nyt://article/c75b899c-0971-5059-8c8a-40e7c7d423d3', 'nyt://article/e5d1336f-ab0d-5b57-987d-0bf0ec80cb41', 'nyt://interactive/ba63261a-ad9a-566a-b91f-a9e7cd903aea', 'nyt://article/05fde8b3-8744-58bd-bc47-3adc11aee8d7', 'nyt://article/a10a6747-72b3-537c-b0e1-5d6121b26bd9', 'nyt://article/269985a5-bb10-5c8b-bcad-d47caca00d48', 'nyt://article/a9cec457-f827-5d15-a71c-64eb7a091a0b', 'nyt://article/014af8ce-ee57-533b-bed8-e41255b8bcdc', 'nyt://article/3c6ee5ba-7426-5cbe-ba38-a9a10ef8a635', 'nyt://interactive/5b3fcdd9-138f-5c70-b397-89d1cdb6959b', 'nyt://article/44870a54-effc-5faf-882f-84f72e18e928', 'nyt://article/cde0724e-3749-5739-b008-b3def17d6e19', 'nyt://article/35aaeb2e-5abf-50a6-8d35-1597d4fe3f9c', 'nyt://article/ed9ea558-d649-5c78-9318-ca9302a54d04', 'nyt://article/e2457a8d-8b1e-5e07-948a-e1c8e414cc60', 'nyt://article/12bb5c6c-4130-524d-a304-b2e306dbc16e', 'nyt://article/0a6dd91e-df3e-5814-bdc7-dab388230e7e', 'nyt://article/21f2a41d-ebd1-5762-8c77-9dc9cc92104c', 'nyt://article/30c3acc6-3e6e-537f-8fe5-dfaeaa7c96bb', 'nyt://article/ca566f32-0a14-5766-8203-7db11aed1182', 'nyt://article/c747beb7-1fd7-5287-a412-65b4bb849076', 'nyt://article/4fe1520d-0d7d-5344-a26d-0058015841ce', 'nyt://article/335b37b4-ab4d-590f-bed1-379cf16c7d9c', 'nyt://article/67c26a6f-e493-5a6b-af85-7bcb57ce8763', 'nyt://article/90add3f9-d8d7-58d9-a332-751ffa8ee240', 'nyt://article/54de3d4e-470e-5d26-8c5c-0ee695260a12', 'nyt://article/d3f5ede1-2b6b-533f-9994-ffbc02437341', 'nyt://article/2c32ba50-8c3d-5853-87a7-67518cdba998', 'nyt://article/e8acd6e7-54bf-50ed-b6c4-bc05734f00ca', 'nyt://article/70305dd1-9b28-5156-b9ca-21d7e2288fff', 'nyt://article/84b37e16-2e5a-54f9-82d5-8a0cc23253a9', 'nyt://article/311e1fac-12e5-5d1e-9730-6259d2ba7157', 'nyt://article/b38be870-e63a-5ce9-bd42-7c2856c8cf13', 'nyt://article/c9461fce-864b-5877-942e-cbca8ca01bb5', 'nyt://article/596cf5b2-02a4-5626-8d65-0a28f3dc57e2', 'nyt://article/3d5f6b28-8ab7-5039-a076-d866c6c895cf', 'nyt://article/0a3bb0b4-e877-5ca0-beac-53b91e5d339c', 'nyt://article/d035a97c-2815-506a-8be3-4c712c286f67', 'nyt://article/0cfd2b95-9850-50fa-9b5f-ed8076599965', 'nyt://article/890aac88-51ae-5558-92ff-60c230cd5e77', 'nyt://article/f8ce5a73-358d-5653-88f9-d7c37b8506a5', 'nyt://article/67a7856d-9202-5bab-8552-5a68e90d284d', 'nyt://article/67a1bc85-c88b-5265-ab2d-b758499f60e8', 'nyt://article/e5fb4668-b7fc-5cc4-80cf-bdf82b939694', 'nyt://article/2b26e11e-08da-552a-8e26-98d30818c431', 'nyt://article/4e4e41a2-f217-5c70-812e-d1e9ad3c526b', 'nyt://article/def15912-fd17-54c0-a753-0d2e68e0c7d4', 'nyt://article/f84c41f5-b0f6-54ff-9074-036c27cccb5e', 'nyt://article/1b64d90b-a458-593b-b411-dcc4d93a9f29', 'nyt://article/6272e4c4-70af-578e-b71c-ed858ed48f31', 'nyt://article/05156d9f-b3bb-5a65-9abe-60677c11440f', 'nyt://article/70b7b6bd-d669-550d-a33c-800048f481c3', 'nyt://article/e610dff3-38fb-5877-bd6d-34bc40b74115', 'nyt://article/00424f5c-1e4f-5868-ba29-a319e4071214', 'nyt://article/de0a2e56-fd1d-5423-8e82-d1a202abab2d', 'nyt://article/31e0a04f-f0ab-59c7-97b2-72a2e5cd82be', 'nyt://article/719032e3-1e4e-5422-a882-f155bf788a64', 'nyt://article/ab7574cf-243d-55c2-b9b4-f55fce203f32', 'nyt://video/2c2003e4-2fde-5b08-a93c-47c4437df9ed', 'nyt://article/7dd19b59-156c-5583-bd77-764448662a9c', 'nyt://article/90640272-f5b8-5021-bc55-249d649867cf', 'nyt://article/58eb7885-b6d3-576b-83e7-b5aa721a720f', 'nyt://article/2516893b-d689-5e3e-80fa-4172fca7b868', 'nyt://article/519b472c-97b2-5fa9-953c-22fcf833cff2', 'nyt://article/b7295aa6-9b4f-57b4-9953-6ea61e65a86d', 'nyt://article/546a73f3-cbf8-5f41-aaab-23ff75fe0b58', 'nyt://article/75940dee-5a0c-5c80-a1a7-0c0cf77cbb9b', 'nyt://article/c2d9a088-2652-5f93-a3a0-9e9cd2c1b31b', 'nyt://article/2c325e31-d5d9-560e-99d3-5dd90bd1ea17', 'nyt://article/e1c0e4ed-bd98-5a44-871b-a7c99674b3a9', 'nyt://article/fd81b173-a92d-5cfa-88d1-2e8dc06276c8', 'nyt://article/d9c05b51-74f8-556a-a5c1-28e809f66777', 'nyt://article/60fe78e9-5618-5202-8340-81e48d22cfd4', 'nyt://article/de730107-7362-56bc-99a2-9e4ab9141086', 'nyt://article/2563f9c3-e8fd-5ced-93cc-00c12b55e1c9', 'nyt://article/a5d435da-a58e-5951-ac5c-ae8955d52e89', 'nyt://article/c9daf0c1-5108-5dfc-9d61-34715efbe7ca', 'nyt://article/d05f9884-1860-5318-806e-37bacee1ec24', 'nyt://article/350794c8-f04e-5b6d-b8e1-b1d9a8d3f2f9', 'nyt://article/99682d37-a93d-52cd-986f-4b97c8115e42', 'nyt://article/db7ea6c7-3ef8-5fc0-9686-987e3c26a8e4', 'nyt://article/1eca91ba-61f1-577f-9608-55b60ca9f849', 'nyt://article/0e779eb5-38b9-5d8d-9690-564ed59d1dfb', 'nyt://article/1b8461bd-7b20-5622-953f-bc1eac22cbc5', 'nyt://article/62c3fbb5-c09d-5697-92ed-ae4f97044caf', 'nyt://article/875bedfd-99d9-598b-bd92-6445807f4397', 'nyt://article/4fb34a85-3b5b-5e12-bd7c-c40551c319b3', 'nyt://article/dc465414-bfbe-52c5-bfd7-d3d66c63e61c', 'nyt://article/a9f848a9-fc57-517e-ac34-993e9d52ddc0', 'nyt://article/ead52541-972c-5ab9-981e-5dae4131b315', 'nyt://article/d55c0888-893a-545a-9369-a3ee1564fdc7', 'nyt://article/04ac23df-0cf3-5900-be5a-f95bea170c4f', 'nyt://article/5d82d52a-40c0-550c-9f63-22cfbc2197ec', 'nyt://article/8e18ad2e-f48e-5154-858e-40a2ec8f10d3', 'nyt://article/390dfde8-1c25-56d3-ada6-76d6cab4dafd', 'nyt://article/3839ecd4-61d5-5af7-889e-b313210bbb39', 'nyt://article/ffd11c4e-c450-5ff4-9e42-528b03fafb11', 'nyt://article/86b5531b-3f5f-53bb-bda7-90ef3e36d7bd', 'nyt://article/f581031e-96ca-52c4-a1ea-1bc49abaf1bf', 'nyt://article/e6ce4d7e-813d-55bc-90e8-5a2da4061d77', 'nyt://article/33b51dd9-90a5-5457-937b-6ee1223e3fca', 'nyt://article/429f80a9-11fd-5b72-afe2-89ede1052ad8', 'nyt://article/dd4dd473-71a9-5a25-ad39-84d4d3c15eef', 'nyt://article/1aaac142-b69a-5d76-91fd-798c7324d18e', 'nyt://article/f7ab669e-8358-579d-a724-88f1e62f9e31', 'nyt://article/37be3852-7f5e-58a4-8ff2-9d07c5a945dd', 'nyt://article/e7647e21-ee5b-5bae-be87-b16d8a4b092d', 'nyt://article/24490768-f3a5-5976-a669-1b3e1294294d', 'nyt://article/34471c90-472f-54ec-b703-39c79e23dea9', 'nyt://article/dfcc353e-6376-5bec-83ae-d0fff6353551', 'nyt://article/a16ecda6-d8ba-53e2-8f54-2a8c7b3bb68e', 'nyt://article/603971a4-c18e-5c5b-8207-ac872b44fd64', 'nyt://article/9ba14a92-80a5-5da8-a719-97b82dafadf9', 'nyt://article/5446e55f-2bbb-5b04-89c2-998c6d1c7546', 'nyt://article/2dc53e56-189e-5f3b-b1f1-0206d3644d02', 'nyt://article/1b10293a-5061-5bf7-8a21-05531197da00', 'nyt://article/cc7ac1f8-3c96-5ce6-8e33-200dbbe00896', 'nyt://article/1bef1d63-0d6e-5b14-850d-7545d60c5f7d', 'nyt://article/6f97c734-e4a1-5de7-a066-ea389f0c80e8', 'nyt://article/e95afc05-fae6-5783-9662-63c45aa59d8d', 'nyt://article/515a4b08-b738-5b1f-8eeb-835ab2faceff', 'nyt://article/7ab6a151-51cf-5845-a9b9-55717947bd57', 'nyt://article/4f7d6362-3d2d-55c8-88c1-b19f1658ad64', 'nyt://article/95494e94-7f8e-55c8-88b2-1a0a63c35d34', 'nyt://article/9574c6da-0316-5221-b3f3-646dc203df0c', 'nyt://article/3288b7a6-a0ec-5b7d-9c33-b35d01db0694', 'nyt://article/b6e352aa-e7a0-5948-b4d5-335d37b10a6f', 'nyt://article/f5cbe30a-cc21-5704-9fd8-5e18c6211bf1', 'nyt://article/684f512e-a313-59ca-a6a2-7a074188d57a', 'nyt://article/0495e3ea-131e-5617-b860-0e39b30d0b8b', 'nyt://article/e9406e37-a944-5554-bcde-07b102370652', 'nyt://article/aff08789-3b64-5698-9ad7-6ad6a0d35bc4', 'nyt://article/89c8e9e3-fe76-5a94-92cb-414d811ee293', 'nyt://article/438729c5-1ab3-5cd7-9464-e2310b5da8c4', 'nyt://article/439ae825-a418-5d41-9547-95fc49e01ec8', 'nyt://article/48813ce6-5e79-5686-919f-942f25d0b875', 'nyt://article/cdd7cb36-3220-5ddc-8c2d-a24331d757bb', 'nyt://article/de2f7f85-e8e4-5abf-8d67-4439a0c62eb5', 'nyt://article/0ea83104-45f4-58a0-95bd-bba01db6ccaa', 'nyt://article/21cc9771-e4ed-5b75-8d25-68978053e072', 'nyt://article/ed54e45f-c14d-5bbe-922a-16e74e87c1f7', 'nyt://article/b0cc4393-81fe-59a1-bf48-3bba7bc5ab9b', 'nyt://article/792861f4-5b0a-57d0-8bce-64bad0d741e6', 'nyt://article/e3590563-5daf-524d-8697-cae25d698d44', 'nyt://article/0060233a-47a6-5f1f-8fc1-7462370154a9', 'nyt://article/3c603187-a5c4-50f3-a6ac-21bdd110861a', 'nyt://article/26eb46bf-4833-5c94-93f8-27ce852810d1', 'nyt://article/72e242b9-701a-5a82-a7e6-14078ac0a518', 'nyt://article/0ca8e598-18df-501b-a153-6ae15e6b62a9', 'nyt://article/ea35e105-380a-5050-b9e8-ee8cdc930b99', 'nyt://article/a558d0f7-86e7-5408-9bf1-d52c11ac9188', 'nyt://article/5274831d-6642-5b69-a4a7-5b779304f879', 'nyt://article/52c17472-eb7b-5acc-bc49-e6069fab73de', 'nyt://article/17e1638f-82e3-56e0-b263-eab882fb67f0', 'nyt://article/37631b15-f685-5ad9-bc8a-3482bdc1e0fd', 'nyt://article/6babd70e-058e-565b-b1a4-d007248e26ae', 'nyt://article/80a6c325-8460-55f4-8845-2dc0752804d2', 'nyt://article/484b0ec0-e05f-5f03-a5f7-a468f713665d', 'nyt://article/a2767e4e-840a-56c0-a70e-09cb828f1b10', 'nyt://video/098824e6-6f8c-58c7-8b81-eb1f0200fd75', 'nyt://article/ddedadaa-393e-5601-8ba3-7b968c818462', 'nyt://article/54b605b9-85da-59be-91a2-d9703f3e34d7', 'nyt://article/ee8bbe78-ff10-5fb7-bbae-0264deb64669', 'nyt://article/f7b7e471-4442-58f4-870c-91d1fd47ce46', 'nyt://article/151ac49f-d2c1-5ec8-87ff-3d486b84111f', 'nyt://article/aef87719-85ae-519a-b22d-240d8dad7fa2', 'nyt://article/7c222beb-de75-5309-a5d1-e06d0a1d4693', 'nyt://article/f8ea6292-0079-514a-96eb-7fffcc73ef3c', 'nyt://article/dcafa3a8-a6e9-5f1c-8395-537d992e624c', 'nyt://article/4e5b93b6-0a0b-5c89-aa4b-628cbc80ce74', 'nyt://article/690d001b-df5b-57e0-aaaa-e7446b577567', 'nyt://article/e816b831-630f-5662-b420-150dfb12aa1c', 'nyt://article/93600cae-6e9a-5361-b92f-3d8fbf218059', 'nyt://article/c41ee40f-7202-54f5-a5ac-16ae7b7e3abe', 'nyt://article/a3859a69-b73e-5465-8b6b-0581fd6ac0d1', 'nyt://article/32a7e1c5-5d09-5f1c-a5d7-9461c740c750', 'nyt://article/d7894a9a-8a7d-5db5-8ea7-f4c136d45aac', 'nyt://article/77da2d77-dcb4-5413-bffd-18d39be07412', 'nyt://article/38039c19-dd1a-5fe0-b851-9d72118b23b2', 'nyt://article/14bdb8e2-be5c-51f8-9f58-ab7b55fc490e', 'nyt://article/8779589b-361f-5a33-a0fa-8d40d293fd07', 'nyt://article/a4e49d70-993e-5dd9-b64e-5205047426bb', 'nyt://article/598207c2-a4ea-5f39-a0e5-0fd9d8e1ba3d', 'nyt://article/70a9eecc-3fd3-5587-a56a-15a006f8682e', 'nyt://article/0e4d2b1d-348a-50bc-a120-d8646a69b69c', 'nyt://article/49c379e1-8bce-5ade-acdf-1ab4dd818bf0', 'nyt://article/9b1c6bac-5951-5b30-b91b-61364ba90df5', 'nyt://article/d285f7ab-c815-5f53-a22a-058e8b114184', 'nyt://article/1dfb507b-b5ad-56b0-92e5-e75c2925a554', 'nyt://video/37ee3732-793f-5feb-b51b-888e04613c90', 'nyt://article/38c53eff-2302-53bb-9af8-0b8df1c5586f', 'nyt://article/1c1fdd9a-ea00-5741-bd83-384b1781f3a2', 'nyt://article/7e82ef39-944f-53c5-aa08-de76fb19ebb1', 'nyt://article/9232584f-34ef-5220-bfa5-9fe20ca889d9', 'nyt://article/04c78a01-a13e-5b39-b4a8-8d89de09d429', 'nyt://article/6f480fbe-f347-59f5-bf99-dbd86e64b720', 'nyt://article/68c292ea-4b1e-5c57-a1d8-6756c87611aa', 'nyt://article/f29faea0-41be-5368-b162-a4449beecb1b', 'nyt://interactive/0866fb7b-603c-5d5c-b30f-5417e0828352', 'nyt://article/992f17a7-97b0-5a40-a3e6-8b1736f848db', 'nyt://article/efbcf0b5-9769-5b16-a02a-62f38e84c0b1', 'nyt://article/e86671ea-3edb-5b5a-a301-91b177374f28', 'nyt://article/6c78b3d6-64f5-5008-8ead-2d72a298cf9a', 'nyt://article/76ea0e14-9309-5bbb-9c7b-1a3f269b6e96', 'nyt://article/7e9746bb-e618-5eeb-900c-f0c8aaaba195', 'nyt://article/69bf2fae-ea33-5e84-87f5-b3e59f68b186', 'nyt://article/f78de78e-c05f-5451-8bc9-881c2c1005fa', 'nyt://article/7175d55c-ec9e-5e64-a172-c8ef078afc08', 'nyt://article/6a2cd799-7099-5c3e-a62c-dd19d3e189be', 'nyt://article/1979f271-ea8c-575f-81a3-55dd00bfdb4e', 'nyt://article/f42a5efc-f848-5d14-9bac-b90533f3ca1c', 'nyt://article/69d8b568-c087-5740-a22f-df11248723ac', 'nyt://article/2310a1e1-ea10-5266-913a-594aa1da4323', 'nyt://article/bd25e5cd-4a19-5160-853a-83c7cede5753', 'nyt://video/22301706-0b41-5db6-84a1-52b2a870c0bc', 'nyt://article/5fc26956-3b1b-5f39-8901-a48631794bee', 'nyt://article/9611d8ec-a3cc-5b96-b905-425d40b464aa', 'nyt://article/0a9e1699-6657-5929-9c99-a663ed7df77b', 'nyt://article/1103ac1a-15d5-5a13-a7f6-3a436c762309', 'nyt://article/abb55571-8aac-5782-afc6-6bb652fb7611', 'nyt://article/49ecbf04-9dda-5d16-a047-c646750fa803', 'nyt://article/0624b359-b175-566b-b4ca-5a2cbcadb2f7', 'nyt://article/1733c798-2dbe-5809-bc62-8bbfd85a5644', 'nyt://article/974e6b8a-8429-55fb-bc7c-448abc08075d', 'nyt://article/04e7c02f-1241-5c49-abbd-df8cec4ef408', 'nyt://article/a22bfc5c-126a-55dc-884d-d2aaf13eea84', 'nyt://article/62908fd2-d5fc-5b8f-86a7-5e00dfea5a4e', 'nyt://article/5d23b24e-2946-5d3a-b5a6-e1a5cb6104c8', 'nyt://article/fe23ea72-9efd-524e-b770-f46c19d981d6', 'nyt://article/c148b78a-a77a-55bf-aa8c-a14d8fdd1605', 'nyt://article/f03a360e-0f2c-5e03-987c-a84f8e5480f4', 'nyt://article/9bdbec37-a12b-5e8c-82be-26bfa137b5b9', 'nyt://article/ba657134-7a09-5b66-b7bb-ec46bafb29a5', 'nyt://article/6968c9c3-e2f6-573d-b3b8-7ce861dc64c6', 'nyt://article/2a4b37f6-1665-535c-91aa-b2cb98ebfb6e', 'nyt://article/9276b34c-3b40-57d2-bd85-9bf252de076a', 'nyt://article/601c07f0-11b6-50d7-bfe5-f3eee23c5efd', 'nyt://article/cd8ea57b-5e5e-5f4d-9462-f2de05fcf6a3', 'nyt://article/5bd2d377-1bf4-504c-8d32-23486749e91f', 'nyt://article/9ebc0041-6d71-54c1-a962-16c7c5216526', 'nyt://article/6a24c2bd-d6cc-5dec-adad-3ae1fb76052f', 'nyt://article/95f44a74-1b0d-5e54-b555-c00904517609', 'nyt://article/1b1483c8-836e-509a-9ca7-7157228f6968', 'nyt://article/b10a6520-8976-5d53-a8c0-64aa5d4d9444', 'nyt://article/a4280389-f3ec-5cf0-a7bc-992333c046b1', 'nyt://article/a7ca49b0-cf5e-5ba4-bd95-b007c0f7a395', 'nyt://article/135046eb-1684-51eb-a3df-c8a7e19190e3', 'nyt://article/9aeae167-7e27-5e8c-bba5-18352a4ca368', 'nyt://article/9ec1a104-92c7-57a0-a9de-c84908fad441', 'nyt://article/ad98b6d8-b27f-5bc0-b44b-46022b396918', 'nyt://video/ec1361f6-3467-588e-b2bb-97b9e23fec03', 'nyt://article/54dea93a-deec-59a8-a740-2f9a9287ced1', 'nyt://article/a764056e-1a69-5eb5-857f-f59af730118c', 'nyt://article/38e0530b-d424-5ba8-9c4f-277eee69f102', 'nyt://article/7034f641-b9de-592f-9441-8d1bd0e3c5bf', 'nyt://article/b31bf7b8-fd6a-5c88-b518-a92505671024', 'nyt://article/1046ac6a-5f03-5d95-a7b9-37c47e153c5b', 'nyt://article/83c5a58a-29e8-5f6a-a339-b34e5dd4b5d6', 'nyt://article/429963b5-8f21-5ae0-b45d-1d47d114deb9', 'nyt://article/83c220e7-db35-57ef-bf5d-5248b0156efd', 'nyt://article/61dc1975-a346-585f-b8ce-5b034d78c404', 'nyt://article/f1c7786d-19d1-5936-8979-93b780ab4541', 'nyt://article/48aa1098-effd-59dd-8f17-4f95e425eaf1', 'nyt://article/c085dfe7-ca56-5e70-ac7a-316fdc3e99a2', 'nyt://article/a06dec7a-5ed1-5cc3-876c-eaea906be86e', 'nyt://article/c96d86ad-a2c9-5622-8050-12628e9c9f55', 'nyt://video/882f966c-07f4-5402-a5ee-0c210bff5039', 'nyt://article/037bed0a-43d8-561e-a9f9-3f0afb29dada', 'nyt://article/763c6167-c219-5303-82e3-56f37197a246', 'nyt://article/bc1bbc94-bf99-5a45-aa69-2b51c288addb', 'nyt://article/71159998-ae68-543c-9377-a8f1d15d84e9', 'nyt://article/830bbf9a-cd4b-5f14-a963-40484ed7412e', 'nyt://article/f6dcca34-9861-509e-b225-c379dbed9ce9', 'nyt://article/9b34d22d-850d-5a0e-802f-d6b578c7da1e', 'nyt://article/e636a5a3-984f-52c9-8bf1-c6034433ac2b', 'nyt://article/65ecef3a-ad16-5d61-8d18-cf5fd93e63c2', 'nyt://article/b3bba0fc-9256-58ea-bc86-13885d1fc4eb', 'nyt://article/fb0cd1df-30e0-5774-8ab3-762e52d62d60', 'nyt://article/599d6d4f-f168-502d-95af-c9ca068d0cfc', 'nyt://interactive/68d00c9c-ff81-5b67-a7dd-2d5858c48a0c', 'nyt://article/d7f99d0f-49a4-51b7-953f-864da0cc5307', 'nyt://article/eab69f8f-43c8-5591-835b-2b4fae4669b1', 'nyt://article/5a2fde77-225e-5139-ae86-3b6c3e18a06e', 'nyt://article/25d0cd6e-1c04-5783-96d3-ddb72a3a813c', 'nyt://article/d5d8a4e7-92b7-57b4-adea-85b05ebeadf1', 'nyt://article/75bece23-64eb-58ce-b782-12fb47e656d1', 'nyt://article/11550bf4-e319-5872-b412-ea3a77083ad1', 'nyt://article/7042f8bf-2246-5dd6-8a34-4000a97be12b', 'nyt://interactive/29197e5c-4acc-5862-b896-e77ec4d36801', 'nyt://article/6555627d-5d2c-51d8-8f6c-426a717ca3c9', 'nyt://article/cfbfd14b-3009-528a-8bea-7c1f89141abb', 'nyt://article/f047f8c0-1263-5092-a5ae-d74ed5b7f208', 'nyt://article/cfb225ac-c2b0-53f3-9ad9-adc9226b6ca6', 'nyt://article/c0ccb1f6-20d8-5b9c-b323-805a5ce24793', 'nyt://article/44eb3eff-659b-565a-a1ec-cec54e0f4c77', 'nyt://article/8782e8e7-7fd3-5994-b6b0-da81a7656e7a', 'nyt://interactive/c5e32373-86dd-5420-ab85-99dd1564218f', 'nyt://article/c5a17a15-d5ca-532c-bf1e-e41950a1de1f', 'nyt://interactive/cdf3858a-2174-579a-8e2e-ac5857256a9b', 'nyt://article/a95edbe7-0f69-5cb4-a502-87db75dd7f8d', 'nyt://article/10453968-c7cb-50d8-ae37-8bc7d4bdeeaf', 'nyt://article/96563a98-5753-5722-82e7-7138d0257241', 'nyt://interactive/6567bdfd-4b48-571d-b37c-5369d5680e89', 'nyt://article/a3af89d5-659f-5c0c-ba5b-c88257825aad', 'nyt://article/0778bdd2-6d4f-526b-ad90-de7f74e23be3', 'nyt://article/5aef13d0-ba20-5ebf-b494-fd8b579750e0', 'nyt://article/bf77cc3c-2d4c-54d9-8ae9-e8dfce0fb9f9', 'nyt://article/d108fcbb-670e-589b-a95f-e421fb619157', 'nyt://article/6d3c79e1-2de3-582a-b403-65a26d2f0a87', 'nyt://article/b5d9bc50-56b9-5e4a-a501-aac38ddf50f7', 'nyt://article/07c328bb-ac31-5c0d-8438-d67518a9e80e', 'nyt://article/1fd0de4c-535e-59f9-bd09-e467dd06d91e', 'nyt://article/1190a41d-1986-5d8c-bbbe-7d214ee2b086', 'nyt://article/0bca8ab9-eebe-5cd6-a83c-ae65d5c406aa', 'nyt://article/7cebfe72-e934-5091-bb18-ca45c9dc14a4', 'nyt://article/2bbfd9a0-b962-5c59-b066-9b58e70a8269', 'nyt://article/1713e3f0-ba33-569c-973b-995da182e35f', 'nyt://article/40b910bc-3963-5226-836c-1af82035ba2b', 'nyt://article/e511b90a-b97b-507f-9a16-09e08f472166', 'nyt://interactive/eeaaaf83-dc38-5d4e-af56-adc327f7e192', 'nyt://article/9467621d-2f57-58c6-9a42-e9165c9daf1c', 'nyt://interactive/cc642ee4-fe2b-5644-8d06-20aa39e0bd83', 'nyt://article/c2615964-e9f5-566e-af0a-26545c1cc7dc', 'nyt://article/5edd7cc3-890e-5458-9f14-da9f61a277dc', 'nyt://article/6a0e395a-ec78-59cc-a1ce-120d53450e27', 'nyt://article/7e5b0dfb-602d-550e-b844-4f3b6342cdc5', 'nyt://article/bfc64ed9-8d62-5ad6-a37c-d447168e5783', 'nyt://article/92837fa7-e68c-50ff-a770-a57587560f34', 'nyt://article/9a18fa14-da18-58ec-b2a8-f615cf6974c5', 'nyt://article/748944e6-275f-5b87-931e-2ec094501051', 'nyt://article/cadaa480-6a52-57df-a52e-54a6a7c48453', 'nyt://article/7668a311-ff74-5167-9981-3498eb8355b7', 'nyt://article/c5cdc8cc-8958-5867-a859-16357a829650', 'nyt://article/5d18e1be-6a82-594e-b6c3-f37631bc5116', 'nyt://article/5c1d792f-aa2b-599d-8a34-bee688718ee8', 'nyt://article/3d313dde-d1fb-5206-b3e7-28a83be2a7ec', 'nyt://article/fed91a4d-0068-5b81-99a8-9786652de14e', 'nyt://article/eece1f44-6bfa-5f67-a196-08e6861d8e01', 'nyt://article/ce637822-d755-5ad9-8c05-72163042cf4b', 'nyt://article/18591054-bcba-5747-9842-66c643be9e65', 'nyt://article/abc6f2a5-94cf-5f32-b736-8bf0048916e1', 'nyt://article/dc1428c3-250b-584a-9419-666e69b2efbf', 'nyt://article/6933bb77-6eba-590d-a0d7-991f13507154', 'nyt://article/153cb511-3944-5089-8585-04292633b44f', 'nyt://article/14937c35-e2f8-542c-b004-5cae10dbbe7b', 'nyt://article/5523bf18-4be5-5507-9556-5d9b1939becd', 'nyt://article/ec210860-0da4-51d2-97e8-904cabab7c84', 'nyt://article/60d9d172-a078-590d-9142-bf820e8211b2', 'nyt://article/4a071668-510c-56cb-8a41-43339bdaf547', 'nyt://article/3666b550-c8a4-5393-b66b-d5ce06d79195', 'nyt://article/1290aaf1-c9cd-5c24-a794-380c335c1712', 'nyt://interactive/6256e38a-277f-5fb8-acf9-2adecfbfb3b6', 'nyt://interactive/151d61d1-6b2f-5ae0-82bc-dbb31484870d', 'nyt://article/72e05ef1-0273-5eb9-95e6-c40b965534af', 'nyt://article/eb20bc8e-a4c7-54c1-9546-0fc830eda916', 'nyt://article/ef68d660-c9c0-55b5-9946-caa70853c278', 'nyt://article/d6b3f129-9795-538b-b778-4043d18fb11b', 'nyt://article/60af2779-bfaf-5556-8d5b-385ef2ed7a8a', 'nyt://article/fe1a7c93-0a1a-5d69-9592-73c1b4faa68b', 'nyt://article/66dc70bc-ebcb-5777-971f-379541bf9dcc', 'nyt://article/3754be38-0c7f-578c-b2b0-28ed5e6e97af', 'nyt://article/cfd56cce-ff96-5054-a43a-cae19b1ebc7a', 'nyt://article/37b141f4-57e3-5d4a-bf4c-56347d70a5ad', 'nyt://article/c08c18e5-545c-54be-815b-5313f2e77100', 'nyt://article/7accbee7-9ff2-5c30-931f-61ddf7e3ecce', 'nyt://video/10eb749f-b2f3-5723-9888-5adb0f3e3862', 'nyt://article/25988a8c-9bc3-5d34-b4de-7eb019ac487d', 'nyt://article/6ee035c1-b517-5cdb-a644-532d54ff2ffb', 'nyt://article/911b3f87-a49c-552f-be3f-f84d6733be94', 'nyt://article/0580f03b-d2f9-5073-bd21-1d36ca64489f', 'nyt://article/42573488-505a-5f4d-ab2a-6f9e75a2c82e', 'nyt://article/4c19e8fd-74b2-5c2d-92f2-d926b693d082', 'nyt://article/6bcf25a5-be33-5cc4-9a5b-449b552241ce', 'nyt://article/d818ea73-b8f1-5b62-998a-debacbb9d20b', 'nyt://article/23fbc47d-7f7e-5645-8fcc-ca91d1e35243', 'nyt://article/3be1dec8-b137-58a3-819d-23ea823f41d5', 'nyt://article/c7fe2227-d990-5dec-9045-ed5307cd3587', 'nyt://article/937d629e-5c21-5863-9358-9b93767b194d', 'nyt://article/84f2702a-60f6-5c5b-989d-df856824c61d', 'nyt://article/25ac6f0e-835c-5062-8d7a-e7a8c0039c56', 'nyt://article/e724c152-725b-5f10-86d2-2d618b2158c4', 'nyt://article/fa9b3fd0-ab65-5952-9ace-54c2a0f9a86b', 'nyt://article/b997d269-a9a7-533a-9323-f84fbee38f18', 'nyt://article/63154839-63b4-5377-b4df-5abb87a97965', 'nyt://article/876dfabe-b5f6-5983-a12d-48ddd1de4c07', 'nyt://article/d35a2be4-8651-5b52-8cfe-d2f3296e0eb6', 'nyt://article/215fb7a3-aa07-54f6-97c9-ddc9ceb0274f', 'nyt://interactive/60b60b06-9482-5e5c-b376-364e7e0a37bd', 'nyt://article/0a161ae3-a347-526c-bc62-be2aca6a9262', 'nyt://article/c440d31b-563c-55e1-8b79-503e757d6c5f', 'nyt://article/aa4ce25e-163a-5912-80a8-07eeec3096d9', 'nyt://article/b411f0c4-9606-54d2-8db5-8cdfbd9a70f7', 'nyt://article/c27479b9-76ba-5def-9f07-ef8a9433283f', 'nyt://interactive/9c89d763-5676-570c-9670-b057987bc4d3', 'nyt://article/45cc2232-3205-5fce-a879-ec104b6a6145', 'nyt://article/80042c19-3ebf-5256-bc3a-8ba2110ec9a7', 'nyt://article/3cdaeeb1-7efb-5f70-9bc8-79a1100145ad', 'nyt://article/a17bfb30-6cdd-59dc-bfdf-1aef62f24352', 'nyt://article/f7d4de47-da38-5a93-9e52-ac603c9ee0a8', 'nyt://article/c67b1f5a-40a4-5bb5-aa10-0861d752cae0', 'nyt://article/1830f51b-761b-5ec4-afd4-aed999956d45', 'nyt://article/b169bd9d-1f3a-5a01-87b6-1898d546c08d', 'nyt://article/c6d592b8-cbb8-570f-a0b1-f4e365cd70eb', 'nyt://article/e7e5aaea-ed02-53d1-a66f-f70b664333c9', 'nyt://article/b44bbcdd-0f4c-572f-84f0-de1f935ddfff', 'nyt://article/061d354d-f484-5235-abf3-39d944b62601', 'nyt://article/ebbab030-31a5-528c-9cc8-44bf18ef8bc0', 'nyt://interactive/7c53d0e8-f08c-5155-b878-6ae27aa87510', 'nyt://article/287d15e9-b5bd-5eb3-9d19-a4369c8f705b', 'nyt://video/5e5f74a9-62e5-5a6b-81fa-7f5f976ea897', 'nyt://article/5027cff6-729c-5310-8118-7d0b70a739b4', 'nyt://article/3d623c08-8540-5051-8f51-5a7a76cdd4d2', 'nyt://article/55591bcc-42c9-53b5-bc0b-7567e8c20648', 'nyt://article/6c840cae-bf12-5fdd-8858-f4a45e5852f4', 'nyt://article/39cf42c8-ec2a-5420-b524-0023012a23e9', 'nyt://article/e7c26bcf-413d-5fdb-9e04-7593e5e69b3e', 'nyt://article/47188e80-9daf-5b81-b2a6-664c22d95da9', 'nyt://article/6b3e5f76-e8cc-5a2a-b766-ece0ae95a82b', 'nyt://article/b43c66ae-b8ef-52b6-ab7c-5b2b851af6ae', 'nyt://article/b7863bae-d8d0-56c7-adf1-3c4f41f9458d', 'nyt://article/3b3d552e-a57f-53c5-8ff0-31113b14c493', 'nyt://article/acd54e1c-7123-56f2-9541-73fb3877ed1b', 'nyt://article/51b5729f-b195-538f-87fb-1b236248aa0e', 'nyt://article/0605322e-8d5e-5ae4-9fb1-4698e09f52e8', 'nyt://article/c7a62098-e81e-5e87-9c21-85efbecd2023', 'nyt://article/38985b65-b862-5d12-984c-cfbd65e5d6af', 'nyt://article/515fa6fe-3970-5426-b0c3-086a007287fc', 'nyt://video/bd367dde-1bb7-59f9-a4e1-bf918d8a3e5f', 'nyt://article/bf3ddf77-78ce-575b-b3d5-136a12076be9', 'nyt://article/8171ed8f-1182-57f6-85f1-cd46924c8ccb', 'nyt://article/2ca29f15-c347-5daa-969b-77d9e3bbd393', 'nyt://video/686d69c2-99fc-5c03-80ab-37e6abcff49a', 'nyt://article/c66d01de-f1ad-555e-8b1b-8ef2081a8a2e', 'nyt://article/2f41cb12-b6ad-5c03-92a7-33c7b348521c', 'nyt://article/25a0f000-436c-5b05-b0f2-54bd20edf8df', 'nyt://article/b65ccd84-5303-5c0f-a3c9-48040e8ca218', 'nyt://article/b3937493-67e9-55fb-8aca-601b53f72e12', 'nyt://article/5f5712bd-13d3-5fff-aea0-be76f6ba6f0a', 'nyt://interactive/caa7a64e-05f1-5a71-a588-1e8f311db878', 'nyt://article/6769664b-86f1-506e-9a17-7ef09d18f8a4', 'nyt://article/e4d9255d-1190-59a1-8839-0d6a3c11fcf2', 'nyt://article/ec63f385-f7c1-5c15-b37a-dbec7208416b', 'nyt://article/69592dc4-03b4-51e3-80e3-d0575c755ba6', 'nyt://article/67d0a2b2-686e-558f-918a-4fd99ad66d89', 'nyt://article/f0dd9f20-0b45-518c-9bff-f03098d3ff15', 'nyt://article/fc0f0c0a-e25a-5aa9-9fed-b5c828ad1c2a', 'nyt://article/1434668e-a521-58c0-90b2-43b3220dd2da', 'nyt://article/ca3d0753-e32f-5c77-af3b-d37297d21652', 'nyt://article/3881b227-fb0c-5ccc-85e4-d4d6919c4ebf', 'nyt://article/8ffbe477-af2d-5230-b91c-17ec5bca29d3', 'nyt://article/22cc5dfa-bf10-5e99-8035-c692b9674e25', 'nyt://article/687b6d9d-5528-5fb7-ada8-9ab44ef6be68', 'nyt://article/925d6933-4001-5e82-8b13-1e23960807ef', 'nyt://article/d3c70d07-a70a-552b-856b-3644c2046d4c', 'nyt://article/65fbe2bf-c7e7-5eb4-81cd-075e4890c28c', 'nyt://article/9f25d00d-8355-5c22-98b2-dd12df3a6e1b', 'nyt://interactive/02eddc3a-9f3f-5bcf-be6e-4544b9394e12', 'nyt://article/17c3b15d-ee39-5478-b399-9e58c76621c0', 'nyt://article/5e20df3c-7e2f-5cf6-9a02-6fa25e9bec2d', 'nyt://article/2d46fda4-9df8-590b-928c-17f27350362e', 'nyt://article/ef7decf6-5c4e-5a6a-a78f-0dbf5ca945ec', 'nyt://article/7505249c-eeb9-590b-a3f3-e1db973facc1', 'nyt://article/0f66c62c-8e71-5937-9496-ad1bac657a61', 'nyt://article/62ce1b69-2871-5b80-a221-c3bacba6ab2c', 'nyt://article/4759e0cb-1b1e-56fe-bad7-106430b58d9b', 'nyt://article/5ee2a08f-fa7a-5ef2-866a-ecd6de1c59e2', 'nyt://article/ec5a09da-3ef7-50cd-b725-df2efad9f602', 'nyt://article/1d9f0c64-541b-54c4-87e6-6b964e71ea7f', 'nyt://article/7aa1fa4d-0315-588d-ab55-2a7c0bf82d25', 'nyt://article/fb05462c-0237-562f-80a8-eb606ffff292', 'nyt://article/ba781550-c30e-5805-ba67-d16608c0e732', 'nyt://article/b50c6da4-91b8-57b9-b57e-4a59f2612717', 'nyt://article/c34fd9a0-9374-528c-ae46-44b06f510a80', 'nyt://article/c49919e9-d1b8-5fc4-8239-0a8a1afaecef', 'nyt://article/76e11970-4d69-5716-9b80-2820201d9f22', 'nyt://article/e318fa65-f5b3-583b-a913-dc2e52dd6814', 'nyt://article/827a3de4-4e4c-5bd7-9717-65d1772cd03a', 'nyt://article/bafc0e79-263e-58bc-8c91-65f8c382f0ff', 'nyt://article/e611cfd0-31aa-510a-9f3f-767cecc677a7', 'nyt://article/3b59fcae-0d27-5cd3-881e-d834120bac28', 'nyt://article/b698781b-8a73-56fe-908c-a0e8d494755e', 'nyt://article/16cf5ce6-d83e-5fa5-9e33-3056a384844d', 'nyt://article/60cb0f35-a2e6-521a-9685-a7e8584776c1', 'nyt://article/49f16ac1-5da1-58e7-bcaa-df249a3199ae', 'nyt://article/124754bd-bfcb-52da-98b7-39cc84ebffb9', 'nyt://article/285e7f74-21a6-5399-8f70-ab3931020b4d', 'nyt://article/45033268-3489-5b0d-b52c-bd2b6751c14e', 'nyt://article/3f413a24-ffb5-5038-bdd5-c48942bab114', 'nyt://article/1cd3398f-4dd3-5611-af21-2cf4cfc8d1e0', 'nyt://article/6b160c22-8daf-52ce-bcc4-8097dfbf4109', 'nyt://article/37956e93-4d05-55bf-b155-97f94fa82df6', 'nyt://article/49be0271-0857-5c6b-a079-26f60f87ebdd', 'nyt://article/50806cdd-e3f5-50dd-a76c-1175c289572e', 'nyt://article/22a2c57e-4d7e-5dd7-bffb-4be433111e7c', 'nyt://article/e306323c-29cb-5b7a-b9bf-a44dc0231216', 'nyt://article/56b0d2a0-68b5-52de-a5d0-582a4ad8baaa', 'nyt://article/6bad65a3-c3a2-512d-a3b0-0557b1061f39', 'nyt://article/18455046-449d-5e25-bd9c-fdea7b7a9347', 'nyt://article/8505443a-8984-51cd-a607-54403e1bc819', 'nyt://interactive/307ff3d5-b9fb-502e-abc3-d680ff48cc51', 'nyt://article/eb73d642-987d-577d-8d81-1964d538d599', 'nyt://article/b84d0c73-959b-5346-acbe-faf26ff2f44d', 'nyt://article/8e362760-e983-578f-955c-9ea0aa70470d', 'nyt://article/3a2441ed-5653-56a7-b1af-89c0d31b31e1', 'nyt://article/6460d6ca-4569-57d2-85f2-9c8c81a87f54', 'nyt://article/1d2f513f-a5c7-5272-924d-4f1abebc51d3', 'nyt://article/0dd8dd68-d5f4-516c-9d3b-a60ad31786c7', 'nyt://article/2027a9a6-3637-58e8-9fbe-5fd17cea48b5', 'nyt://article/ec3233d6-6a42-5b22-a2c6-b774ba1f8d88', 'nyt://article/65c53b19-5ad5-59a8-b8fc-a81b450a3031', 'nyt://article/cfa3e933-000e-5df4-aeb4-82b905d67dd4', 'nyt://article/21af1b80-e37a-535a-be7e-c29af7275e55', 'nyt://article/c17c6baf-eb11-5e9a-8171-30a020962fdb', 'nyt://article/acb6c3eb-bf05-53ca-8375-007074871efe', 'nyt://article/357c61c9-66d4-57a7-ad6d-b10a36cada8c', 'nyt://article/f8f4c957-8ade-58b5-be49-79748481453e', 'nyt://article/ce9338a5-4eb2-58e3-82aa-9f55f0a1a1c9', 'nyt://article/40e94bbc-f33c-5610-b8ad-2bf807d1cba6', 'nyt://article/34e514ce-6ebc-58f1-bf4b-d750eadc447e', 'nyt://article/4165dde4-ae7d-5514-a23a-a0947d089afe', 'nyt://article/55b1b377-a35a-5b92-a16b-45439a697987', 'nyt://article/d4514844-759f-5769-991b-4ab27ce38c61', 'nyt://article/714dff21-9479-55d1-b5f8-012ec2ed30e8', 'nyt://article/6347890f-f1ff-52f4-8747-0297775968af', 'nyt://article/dd42d45a-633e-50d2-af77-05359bbde678', 'nyt://video/6f10e62b-e43b-500e-a00a-edc9a2ed2808', 'nyt://article/b84aa9c9-141a-50ad-8dfe-4b757debea72', 'nyt://article/9a56134c-ef36-5639-b56c-fd4a3e0263b4', 'nyt://article/f69d1488-0401-5527-b496-da5ae5ae7736', 'nyt://article/d839b076-45b7-5bed-9a48-43f4b9c45210', 'nyt://article/1d9c337a-da71-54ec-97dc-9d443356d07e', 'nyt://article/8765ba83-00c5-526e-bda3-6af0882299c6', 'nyt://article/d67b00a3-dca0-53fb-811f-3f3ee634d3d9', 'nyt://article/8a60778c-ba48-5819-b325-d4d90ee1e6ef', 'nyt://article/6549964e-97af-5ebd-9606-b2e6f4581a9d', 'nyt://article/5bc311b4-0346-5b70-a416-ac07c7791783', 'nyt://article/96d749ce-34b6-53ed-b173-8292c7d9b4e8', 'nyt://article/55ddaf66-e52a-575f-8a09-6a4ab618cf87', 'nyt://article/0a006687-d51d-57fd-a133-c5f861513794', 'nyt://article/131fb317-cb9c-590f-8130-8fbe5e15d7d0', 'nyt://article/05a076d6-9f2c-57f2-8d3f-5bd92502308d', 'nyt://article/a9df19f2-c8ac-5590-85f4-66943b5bf0fe', 'nyt://article/1547f037-31fc-50ca-b816-2b8d4097c800', 'nyt://article/ca0cee50-27dc-5c28-94a1-7b10938f2920', 'nyt://article/ac5369ab-9399-5d35-8562-20935e7d7e1c', 'nyt://video/797ab570-80f8-59b4-9db5-af5217e9ef92', 'nyt://article/ae7ab7b1-156b-56eb-b109-e0cc054f64ea', 'nyt://article/140e69b5-14bb-5b77-a494-4424cc7f8463', 'nyt://article/12588821-d19a-53d9-8123-43b4d74c7795', 'nyt://article/72bb025c-6d33-57fb-9ab8-89040ac56704', 'nyt://article/018476d5-b187-5516-9815-dec40a2a0089', 'nyt://article/c6ab78e5-03fd-5484-bb1c-5db3b7b01c1c', 'nyt://article/84261a49-b3fa-5ea6-acfa-2bc23f46add1', 'nyt://article/b16516fa-e361-5a8d-8142-274c80077fcc', 'nyt://article/18eb4aa5-6f84-548f-874c-e28d0b2589d2', 'nyt://article/307aeda0-c5fe-5603-a2db-095d90326e64', 'nyt://article/2679cc4b-64a0-5a3a-b74a-1ebd723a2606', 'nyt://article/53b2c41a-06df-55e5-b0db-e339d91eb096', 'nyt://article/dfff6493-0b18-55fd-b938-59741c41e860', 'nyt://article/fc8175d4-0559-5637-9f15-67fa859cb344', 'nyt://article/7d9566d8-efa1-508b-b871-c96f5c5e1950', 'nyt://article/a41f2449-36fc-5e0c-8dde-fd8e9ba11be7', 'nyt://article/da9cfbba-ee5f-5252-b37a-bd2a15aedc40', 'nyt://article/50a334dd-6852-5571-af1a-1da508e41a93', 'nyt://article/3e4ec31e-2a71-5157-af87-2af0b38affa5', 'nyt://article/90e2fb80-c710-5fba-9216-6c8948a3892c', 'nyt://article/8ba5ea33-5293-53bb-be7c-b50a4cc5e4ab', 'nyt://article/4ff0123d-daed-5869-94a7-48c73ddf6491', 'nyt://article/b61909c5-6883-5178-add9-2dc08320bf8c', 'nyt://article/3b5738b1-a4dc-55a1-9675-b4e7de0f8b62', 'nyt://article/9d2da093-8626-5c30-abb3-76423cfaaf7a', 'nyt://article/3bc2c225-5a64-529b-93e0-6328760c155b', 'nyt://article/69b916dc-b719-5c6b-bc41-2775387dc309', 'nyt://article/448d991c-37ba-52e7-9eb4-173aab4ef116', 'nyt://article/891dd14e-1df5-5eb5-a2c8-fb92c590631f', 'nyt://article/0cdb94f3-7586-50bb-ac76-25f54e4b16e7', 'nyt://article/80b9a3b5-fdc5-5e4d-b657-b297c724e8a9', 'nyt://article/4900c263-2f0b-5c8b-97b4-6dff0171d687', 'nyt://article/7ac2e9ce-c99f-5e65-be74-b121e82c8fb5', 'nyt://article/b8494f06-0f30-516a-bfb0-b01f6a5c0f35', 'nyt://article/9ca7c0d4-78c5-5304-af1e-8d3e6d51fa24', 'nyt://article/3116c2bf-9943-5968-bed0-21607cc10fc7', 'nyt://article/8aca840f-bded-5f3c-8e2b-5c0b377eea19', 'nyt://article/1fa88f47-d188-5fe5-b99e-4f099123d92e', 'nyt://article/3730b3b0-c048-55cb-812c-11e45922ec8f', 'nyt://article/4678b0c9-00f5-51dc-9b7b-0062afad799b', 'nyt://article/90628694-744c-514e-81e6-b5160c4496f2', 'nyt://article/78f5f4e5-4077-59bb-a61d-59e14eea99c7', 'nyt://article/d34c1c71-e982-5637-9078-b594c9e60a46', 'nyt://article/97087121-d74e-54ec-9d36-28f598ec5b09', 'nyt://article/cdeb7545-04f4-5622-b8a5-d42f1aebb47f', 'nyt://article/d29f3c17-614e-57a4-8c0f-19e016570c98', 'nyt://article/3e378519-5301-513b-9ff1-baaf73c2afe1', 'nyt://article/5784b334-7e3e-50d3-9e5f-29c72128f3d8', 'nyt://article/05d68392-6a45-5b25-89af-ec76b64ed558', 'nyt://article/1c0566f5-31f5-5aa9-aa99-1589e36b4847', 'nyt://article/2c4fcfe0-4152-5915-8da9-ff3f6df3f13d', 'nyt://article/e8bae8b5-6574-5aec-b492-88d3cbe13539', 'nyt://article/640afc5a-2377-5ecf-a8b0-028a5a47363a', 'nyt://article/400de6c0-f1ba-527a-bb93-43993c0dd380', 'nyt://article/fb2cfb26-43ad-5da6-a912-e8435b628c1c', 'nyt://video/2ab09350-9bf2-5ee3-b9d8-26624d30ef54', 'nyt://article/3950818b-305e-5b99-a4b9-66c609997ff2', 'nyt://article/3dbb9429-da87-52fe-a25d-e03d5aefcd62', 'nyt://article/d1edf1d8-d4d8-51f5-842e-68d9e24a86c8', 'nyt://article/19fc41f6-42a8-5cc4-88fc-6c0afa434410', 'nyt://article/dfaea0a5-fa0b-5142-a2d0-e85fe6a551cd', 'nyt://article/eef74041-b339-5b03-8b33-1dbfa3e28ca6', 'nyt://video/31cb5fce-5d9e-5879-b55d-b25f690bd70d', 'nyt://article/d5cb5578-519e-56ce-9f76-21ed88cdf444', 'nyt://article/02126b70-e97e-5267-992a-6f27fbe3f189', 'nyt://article/edc9913e-875d-579b-89af-5cd672a9d936', 'nyt://article/23f27482-7084-5b36-b49f-ea5c6cf903ae', 'nyt://article/7b236f5e-110b-57ca-aa74-fd61f516ef4d', 'nyt://article/38197ad8-247f-5f0b-9c39-9b6d3c5ad53b', 'nyt://article/f03944ab-a6af-57ec-b045-6f44300edaad', 'nyt://article/358cc48f-251d-527c-83ec-48a004d37557', 'nyt://article/ce5e26da-b167-5659-a2c7-e284e2046ddd', 'nyt://article/b3ac6919-689a-57f6-a689-6bbe1506a9e3', 'nyt://article/00c9e71a-7f0a-5304-a823-597495985f6f', 'nyt://interactive/cb19939f-e307-549a-9e77-0305a6e288a8', 'nyt://article/296339e3-f88e-551b-9154-33ab3a6ccd66', 'nyt://article/4b013fe9-3325-581a-ae1f-a4230b63f40a', 'nyt://article/12bbd9ff-9a5d-5ae2-8ae5-cb7f4753b536', 'nyt://article/67937f01-4df3-5d51-b655-a39c3e62c725', 'nyt://article/e1beb64f-9804-5516-bc1b-d8d30e1b21c0', 'nyt://article/ccf111b2-e846-564d-8e30-5079852bc1a1', 'nyt://article/18ff1ed8-29d5-5744-bf1b-55b476d31e95', 'nyt://article/946cde5b-2624-5c75-b6fa-5dbeb7eb955e', 'nyt://article/bcb90321-cb0e-53f4-875b-b9f6c9b43d2f', 'nyt://article/8fdc042d-b03e-5ee8-bcc5-4a671d329a9e', 'nyt://article/b6c9af92-650b-561f-a56b-c18ae2e41a84', 'nyt://article/4db5cec2-6809-52f5-aaad-d33c43108051', 'nyt://article/b2958c74-e4d3-5ae1-95c4-ac0af25f46f4', 'nyt://article/b40337c1-5381-5eca-a8a2-158fa9c08770', 'nyt://article/2cc2ae70-ef9d-5795-8e6c-a5e41d51e34f', 'nyt://article/7f0381f6-791f-5431-b63b-e566a37815ee', 'nyt://article/ab5ef75e-172f-5240-9f83-64245831a6e1', 'nyt://article/32c2c004-129d-5455-8271-e976e02329a1', 'nyt://article/61f62670-10dc-5394-9383-d704739a1522', 'nyt://article/c5e51fbc-7460-5d62-9b70-a19dbcd651ae', 'nyt://article/1440de33-3dc0-5009-bf2c-6396b30f92c1', 'nyt://article/191d9390-796d-5aca-8e8c-1e17de61e5bd', 'nyt://article/2c6805fc-a182-581d-8f54-9a8b00abb70b', 'nyt://article/06e77c62-d581-5173-99e0-24f05c7cf839', 'nyt://video/10e305cb-cea1-5643-9fb3-fb960f305711', 'nyt://article/d0660362-9f7f-5688-8542-e2e55ee075e3', 'nyt://article/d22b7dfe-b7c6-5fbc-bd41-d3be58124c1c', 'nyt://article/563d50e8-75b6-5315-be3c-7504aa507c84', 'nyt://interactive/13cc2119-9626-5520-8ca8-a5027ee94d0b', 'nyt://article/d9606ec0-863a-570a-be26-6c5ee1de1503', 'nyt://article/88f6826b-f58d-586d-9c31-2fc019d9371b', 'nyt://article/84093b59-54a2-55a0-b8e4-bb75c4316940', 'nyt://article/40b8fecc-6361-53ce-be57-ed3add783d6a', 'nyt://article/af73ab52-c86b-5f70-9c43-8ac4946bdba1', 'nyt://article/fb2b94cb-9ab5-51c9-b052-5cb795d9ba2d', 'nyt://article/019c3d2b-2a6e-5800-a1e6-8812b9f90db9', 'nyt://interactive/e16aa100-d3c2-5bd5-8fbb-a14f0321a4c1', 'nyt://article/b10c2f31-c5e5-5140-80d7-670dca918b89', 'nyt://article/c68a694e-931e-53d2-8080-405927ee1a0d', 'nyt://article/55456924-7ff1-585c-b62c-d530637bb1f3', 'nyt://article/c6c56cb0-607f-5b2b-9eef-7371adc4156e', 'nyt://article/682f16eb-d66d-5232-a79c-631ee22d3468', 'nyt://article/f9847c11-0fe5-5d48-ad36-72c1f3c8bcf5', 'nyt://article/a52bfb01-a76f-5982-a5fa-bf85dd1d5840', 'nyt://article/66fad98d-dbcc-566e-8950-f822051bb9db', 'nyt://article/91a850c2-be27-5ecd-a5f0-da44a06437aa', 'nyt://article/39db45b5-6f87-5dee-9d1c-817323abd158', 'nyt://video/c0071bd8-2e20-521f-85a0-35140c094d50', 'nyt://article/4333f945-3ab6-5936-a3d8-137ffe851cb2', 'nyt://article/75bf3def-1489-5343-b8a2-8188c4805b5b', 'nyt://article/d21daae3-37f4-5682-ae81-be3f39e59781', 'nyt://article/6296fd9c-3e99-5de4-ad0f-f017a1451220', 'nyt://article/9a0f375e-e06b-5480-9c25-5b668d00df51', 'nyt://article/ab3117c5-2380-5493-b5a2-9a275ffd38e5', 'nyt://article/8f0ea652-6d9b-5c6c-9522-3db174fc9be5', 'nyt://article/04d2ab3b-b1fd-5b38-9f71-58b7edc76244', 'nyt://article/97838863-147e-5077-ae02-40fe93b0db02', 'nyt://article/3b757342-81f4-5c95-a76a-001c1c07ca7a', 'nyt://article/a006f43b-a8cf-53d6-a1dd-3f2fbea7d76d', 'nyt://article/1851f3df-23ef-5c44-8481-bf65daecc582', 'nyt://article/a71c45ee-ea7e-58be-9ddc-21eba0d6e954', 'nyt://article/42739bc6-791c-59bc-803b-93aadb1e52fd', 'nyt://article/d3e0512f-8e27-5d7e-8ff7-a9e38c7d0c11', 'nyt://article/e01a84eb-11c2-51cf-98e9-2ad6f3f1be9d', 'nyt://article/f6bf1f69-340f-5b4d-b568-c7575e99e133', 'nyt://article/9c2e3cef-2d8b-5ccd-b716-a1a9d1b79504', 'nyt://article/cc76088b-2ac3-51fc-8e07-de0545512735', 'nyt://article/e04359f8-2c82-51c1-bd15-327fc1e5c37b', 'nyt://article/a507a2d2-cf1e-54ee-b85a-e7b809e88ba3', 'nyt://article/b03fe540-659b-5a61-80a0-b07305c10b2f', 'nyt://article/c793748e-0157-5dae-9cbb-661b13c2a073', 'nyt://article/6f392570-1cd5-5f5d-85a8-9f97030cbc89', 'nyt://article/e0adf144-deaa-5a56-bcbd-4ac998892e9d', 'nyt://article/135b6598-af3f-5582-8f5c-9cd3407cbdd1', 'nyt://article/a8d862e7-db1e-53d7-8473-bbfc5bfc7c7a', 'nyt://article/28720d7e-accc-5208-9518-b8478a22e249', 'nyt://article/d467af29-9716-518d-bdd5-7f4f1ba31d6f', 'nyt://article/61065cf6-5464-5735-a3f2-f082b23d2ec1', 'nyt://article/c4a1c8f6-0951-537a-9917-ab3ec6448950', 'nyt://article/286ac049-c772-5c54-9ecb-d5bf8da34703', 'nyt://article/f2025426-2f70-5796-ac0b-3e7bc1bc2cb8', 'nyt://article/f1ac3af4-8280-5143-8ccb-dd74a0c97493', 'nyt://article/e9c89d4d-4ee8-541c-a781-9d97668283c9', 'nyt://article/219fe934-cbd5-5249-bb25-2d659bac18c9', 'nyt://article/99cc9f88-7d17-54a5-a77e-4acb0991455f', 'nyt://article/a2d7cbaf-5a67-5756-8291-c3351b2b044b', 'nyt://article/1b1ee0cc-54c3-5570-847f-a960f1d4ff29', 'nyt://article/284af71e-d8ed-5a55-8e58-5116422d90e7', 'nyt://article/b78944e4-7ac2-5bcf-906e-47f522de61a6', 'nyt://article/ac93ad2e-f66a-59ec-b1eb-92f0cd024397', 'nyt://article/716c4323-89cf-504e-ba72-c7c4f0494a8b', 'nyt://article/ed497825-6a09-5373-bcd3-fa291ff33a8a', 'nyt://article/629fa053-f2f2-5fad-ab9d-0115a744ac20', 'nyt://article/6ced898c-dd57-5eaf-972c-346f16102ab9', 'nyt://article/a27600da-45e0-5ebb-9df6-4b4079ae3b74', 'nyt://article/02fec2b2-f742-5ee7-b8cd-928cc00a8441', 'nyt://article/8cb4421b-75db-5343-900d-0c7c8709fc91', 'nyt://article/73926ab4-2594-5938-ab0c-381e1123e5be', 'nyt://article/3fbd8d74-061a-55cd-a675-2d31c5053ec4', 'nyt://article/ed99f6eb-d805-56a3-b908-3ec1e2802ce4', 'nyt://article/b4b9a91a-8feb-5ee0-811a-f009c2e4cccf', 'nyt://article/548487b8-e210-5808-a63c-07f3242248a5', 'nyt://article/a586f56f-385c-525d-be9f-8b6bf1a32acf', 'nyt://article/ac5cffc6-f0b1-5b35-9b3b-dda4e153288b', 'nyt://article/287f1e06-5da5-5061-a820-cb6524fa5ac7', 'nyt://article/4c80be0e-1575-539f-9670-0324837c347a', 'nyt://article/6c0355e2-365b-58cf-bb84-6f729de59580', 'nyt://article/a54e0db5-2443-5446-9575-f90cdcedb89f', 'nyt://article/a48cdc1e-e435-5834-b34e-6222341dff07', 'nyt://article/6471be7e-b829-5ca3-9e49-f4c06e447961', 'nyt://article/f00d3886-887a-59e9-bbe3-69bc1de6f3f8', 'nyt://article/58bbfd2e-c709-5151-b0cf-0c4c5a2d7bd2', 'nyt://article/be7e12d6-c747-5ea5-8fca-14d181da7855', 'nyt://article/8769b51a-4ee0-5613-94d2-e7e6f0026aef', 'nyt://article/b4ef6232-42e9-5415-820f-46fadaca2b5e', 'nyt://article/3e88b788-ddef-55a7-b647-af10ff351d20', 'nyt://article/b6f9d02f-cc0b-577c-86e9-e68abb981d12', 'nyt://article/0faa487c-bae7-5325-a119-69b183b3dc6b', 'nyt://article/adfa7287-da1f-524e-8ddb-db491b1ff2ad', 'nyt://article/7dabb456-eae4-5659-ba12-2099c2e7a1fc', 'nyt://article/a06bd571-fc22-5a3e-8ce8-fb6dbc4c470e', 'nyt://article/61efa0ef-43d3-54ae-8387-66d17e19b8bd', 'nyt://article/fd7ccc7f-d1cd-5948-ab7d-05cd3b9bf7a7', 'nyt://article/7fe988d5-4d0c-56ad-8434-8724b59ef9b7', 'nyt://article/7be6bc52-3ef5-58da-bb70-4699e28fc3d0', 'nyt://article/8ccc4107-d405-580a-ac0b-64752da69da7', 'nyt://article/75d22fcd-bc5f-56db-bf10-ac10f497dbcb', 'nyt://article/0838f786-8fc5-5111-8e03-e33acef83fd8', 'nyt://article/c42b8e1c-437f-55d1-bcd5-431b9b5b0627', 'nyt://article/8dc879df-0bfc-5666-90fc-588dee2a3638', 'nyt://article/3199f725-007b-5cbc-a94f-2197d155c38a', 'nyt://video/1536e7ac-7e55-5e88-8ec6-5c8a9ad763a6', 'nyt://article/6e416859-ff38-56d7-ad2f-ef5c75bebbab', 'nyt://article/4bc286fc-9736-56e1-858a-b8bef8b0ee9d', 'nyt://article/d54bfd74-5e52-5df0-b8a6-f984c9d544f0', 'nyt://article/345a492a-c9b7-5b7a-9270-f002cf42fed2', 'nyt://article/e2d196aa-2350-580a-b8cc-c9396f87248e', 'nyt://article/5153cc0f-6b0d-5c37-b91f-dbce920a3b61', 'nyt://article/0e59c7ca-a406-5631-ba98-7d340bd347b2', 'nyt://article/cbc86042-78c8-5f4e-812c-1c0302b16384', 'nyt://article/d0e6f666-0209-563d-b1b3-f0840b546542', 'nyt://article/e1c88ac9-9b3e-5475-943c-001a379b918f', 'nyt://article/258a4308-8c3d-59d7-85ba-83641279a8a4', 'nyt://article/cfbddb5d-336b-5f30-aa2a-441b127ed632', 'nyt://article/73019f31-df83-5d23-b256-aacac46ceacd', 'nyt://interactive/8f9435ef-f69a-56cc-a4fa-f04640f7a805', 'nyt://article/851e4050-3f81-544d-88b6-e2dffb1ba2ce', 'nyt://article/af94b815-1733-5a51-b019-ff278bb418b4', 'nyt://article/4d6a2d07-d2d1-5b33-95c3-e7aa3da3b8ed', 'nyt://article/7add267a-9f61-5a44-8b1e-2916f9a234e2', 'nyt://article/d90af9eb-6f81-5e73-b782-c67281c5a1a5', 'nyt://article/2bfd58c9-959f-52ab-b12b-351a4f17883a', 'nyt://article/8d0a9878-f71e-520a-b7aa-64441ae0250c', 'nyt://article/877060cb-44c9-553c-999c-2e696d3e53c9', 'nyt://article/351acaec-0e7b-5362-b7e4-c1fdeabc7014', 'nyt://article/6cb22b8a-8896-5c89-a88f-6e53e53dc5de', 'nyt://article/8296a347-f8d2-5f4d-af9e-2963fedef6ec', 'nyt://article/32d643b1-f06d-57b7-80be-0c9738ad33fe', 'nyt://article/873bac51-b0da-57a1-a059-7260762ce205', 'nyt://article/97011b88-4777-5582-91f1-a469adae38f7', 'nyt://article/dd5f537c-27a5-57e6-9ade-481704816c6f', 'nyt://article/3c802324-49de-5028-92d2-0ca1af0932a2', 'nyt://article/60094959-3125-5928-86f6-d031c73e2ccf', 'nyt://article/b49bb0ad-9159-5952-b4b2-072b7cb4a4f1', 'nyt://article/c747a563-86b6-5583-8528-5d5d82c573c5', 'nyt://article/61fff3bd-8fb6-5f9b-8ba4-b6daf3299170', 'nyt://article/84171343-3eb0-589e-ac85-138dd51ca8ba', 'nyt://article/a228b36b-796c-592b-9ab7-4ed1cea5826b', 'nyt://article/7a3d0af7-46a7-5092-820b-8a957b8cec43', 'nyt://article/c5f384df-85d8-5b67-8f92-c7ae8ef0c004', 'nyt://article/e6ecb66a-f025-5221-a090-ea11dea98786', 'nyt://article/c9d04cdb-31e3-5948-bafc-467aa953a74a', 'nyt://article/7016e37c-af00-5b3e-86f1-bf15b2b71f59', 'nyt://article/34e79f21-bf7d-5d33-a62a-877833509ab4', 'nyt://article/0c258820-a70b-52f8-8ba0-f02670346053', 'nyt://article/56660a8e-77b4-5242-80b7-322337cd5888', 'nyt://article/232d4e99-3371-59e7-a1f3-c0995febfc66', 'nyt://interactive/61a8cd1a-d8dc-5483-9ebb-e29b618c2cae', 'nyt://video/a234b14e-eaba-5035-a986-5bebc27953a7', 'nyt://article/545d1b66-37e3-5c49-9d1a-0f9abca8cde3', 'nyt://article/ffdd5d87-4174-5727-ab49-839f53f2d90a', 'nyt://article/183a09a1-0e92-56b4-bb05-695f43089969', 'nyt://article/1020c97b-d1de-5dd0-b714-53d8c7590c31', 'nyt://article/b111efa7-47a6-55d9-95c0-1a8c9cd54442', 'nyt://article/6a9b613b-3619-5b68-a3e9-1852f29d773c', 'nyt://article/4d7af277-d66d-56c7-a70f-0150baf966af', 'nyt://article/02241405-a46e-5af3-b08a-666b2b263aa7', 'nyt://article/7d514c77-18ef-597b-a20f-d20e194df850', 'nyt://article/343c9e95-c0e7-5b0c-8dba-2b51ca5f32bf', 'nyt://article/d90b249d-7098-55b7-ab5b-dd13aed8f76e', 'nyt://article/f452d453-35cc-565d-8ecc-297071189f55', 'nyt://article/ab847e3b-ed41-5663-beb0-210f56cf64f1', 'nyt://article/00753439-a043-526f-9bb6-b39668fd06fb', 'nyt://article/4dbe3302-29ed-5a3a-af15-31b41f3d76ac', 'nyt://article/15b7db31-98e2-5a43-b64a-9fc0186b7c0f', 'nyt://article/c2ec4092-a5b8-5345-9501-36110e8fef6c', 'nyt://article/596327ea-7ac5-59b5-b5be-0c38c62584da', 'nyt://article/4bb7adc3-2ee8-5fef-a9b1-2a2ee9538139', 'nyt://article/86401c64-d2ba-5747-92c8-7c0175d87821', 'nyt://video/7188f5ad-88c2-589b-9e11-d88eb8c11bb3', 'nyt://article/74445b4a-5b7a-5995-8470-ec771ec6469a', 'nyt://article/83fe608f-c719-5ef9-a4f9-23e14d3eb535', 'nyt://article/b1179855-fe4a-503b-9086-32a9d44ba791', 'nyt://article/517a43df-1f77-5a35-ba21-8736571f3ea6', 'nyt://article/8085d672-bff5-5985-b080-2f67ab8ecd50', 'nyt://article/95929c9f-42fb-5d83-892b-6b2c3f5adb1b', 'nyt://article/248d82e0-1cf7-5973-ad27-748d9b4432c3', 'nyt://article/31751e17-e3c6-5a89-aeab-e1a53728a548', 'nyt://article/1c462645-d944-5401-b2df-0441a069b352', 'nyt://article/da758a3f-e4e0-56ee-b855-1f3775a3279c', 'nyt://article/f9d3145b-be4f-5914-b2a0-ceaf06381344', 'nyt://article/de0681c8-2d03-5792-b1f0-2f515eb2040b', 'nyt://article/8be38be7-0d33-5959-94af-8310540cc830', 'nyt://article/969e5ae1-c413-50f8-a98b-62b53213c3c4', 'nyt://article/9fabc97e-f551-5d60-8132-63367b3423b9', 'nyt://article/8c244345-f2f0-5787-aefe-3a3ccf87d6de', 'nyt://article/e3d0958d-c749-5f08-b471-85752d797722', 'nyt://article/2ad7fae2-d535-515d-bdbe-ded9576ce5b0', 'nyt://article/55431065-129a-5d0e-9380-c8bd4ee80114', 'nyt://article/6aec8f9a-25a1-5fd4-ad66-677b08e01547', 'nyt://article/f4f99b54-1dd2-5796-a2e7-0d425327cd5c', 'nyt://article/f305a10a-954c-53c8-af37-1dfd79a417a7', 'nyt://article/894d222a-9f27-511d-8cb1-f4f6bec5a622', 'nyt://article/50ec6138-586d-59ce-b06d-f4f24426d6ae', 'nyt://article/daae620d-7c90-501e-89e8-732f96ae2aa7', 'nyt://article/c65dd3d3-af35-55eb-9ea6-f9965d27749c', 'nyt://article/a5502c91-6bcb-5095-abe5-bcd01dfa65cd', 'nyt://article/e705c3af-0528-5cb2-ac1d-5bd297a38746', 'nyt://article/0da62a81-5bee-53c6-b8db-b1ee5b784f45', 'nyt://article/36ee0edb-21e9-56c9-bb84-09c4415a4516', 'nyt://article/eff54abb-409a-569b-ab20-09c6f8cd09e4', 'nyt://article/2bfa7708-32a5-5b25-ab2c-b2f574b540fe', 'nyt://article/10a922ab-71ab-56ec-be2e-59daf4dfddd2', 'nyt://article/ba97150e-7836-5a51-9bbf-97df6e7e32a9', 'nyt://article/a659b89c-1f89-5794-9801-75559adb658c', 'nyt://article/42597be9-aeec-5324-be97-73a16e728ab3', 'nyt://article/d38ec16d-320c-58a1-b30f-e8888edc00d7', 'nyt://article/a3e00b18-c078-5cfb-b6b4-1b99607225f4', 'nyt://article/75b05547-d2b0-52e1-8113-4184eddf76d7', 'nyt://article/869ee428-006b-5150-8d44-870dd5ad0af1', 'nyt://article/fc82f213-e485-53c0-8afb-f708fa8056b2', 'nyt://article/ee5eb31d-a1a5-5a09-8b26-dc053325846e', 'nyt://article/734ff29b-9a76-5f97-a72f-deb05493d9fd', 'nyt://article/0c590090-ca6f-54c4-ba2b-7c7617059c11', 'nyt://article/5e886c71-fda7-5a85-8850-14deb6d5b4a7', 'nyt://article/720399f2-c1ec-5608-9963-cfaa03abd183', 'nyt://article/605acd7b-fe44-5f1c-a4a8-4b4ef4ef3823', 'nyt://article/a7a59baf-e727-568f-9025-15460e249e9c', 'nyt://article/1be7e761-70fa-5788-b9e1-a48be42af1d9', 'nyt://article/863d7ce7-229f-50f2-abff-2ed220500715', 'nyt://article/d9f90380-e666-5416-98c2-fe4804c72326', 'nyt://article/8abf0099-2722-5517-ad62-48d7498db946', 'nyt://article/0b6f8c3c-f9f8-54d8-8dcf-2eb5c9a6ae1e', 'nyt://article/bf064b84-075b-5cb4-88a7-8b548e0cbafe', 'nyt://article/3224ac0e-0a5e-5f58-b541-e2823968023d', 'nyt://article/cfc94469-30eb-5d0c-b17d-7a96d691ad8b', 'nyt://article/7203a102-2050-5d84-8e01-96f8556bea85', 'nyt://article/7f87ecae-b2e1-543b-b984-18fd9c6d6048', 'nyt://article/51ffd18e-f357-54c1-8510-bc8adb7cd987', 'nyt://article/823c8f74-1337-5413-b6f7-044df212955c', 'nyt://article/6b7c779b-9934-5937-ba83-b6e270087252', 'nyt://article/c6a6f2fb-9ab6-515d-af2f-ff7331d87ea7', 'nyt://article/16ef6b83-2750-52e9-87f0-8a1c548218d6', 'nyt://article/a75b282f-5644-51bf-9d83-492ff67117fe', 'nyt://interactive/1afb7d6c-4f42-5f6c-ab1c-53b5ac9b7270', 'nyt://article/8f468b36-ad60-552b-8063-f7d3c415416e', 'nyt://article/8d7b34a3-3907-57bb-a005-4dd312a2234e', 'nyt://article/ea6220b3-1d93-5c8d-893b-a0da77cc994f', 'nyt://article/826f4ca2-18d7-5820-8fe5-a3ba38a4876a', 'nyt://article/e997b3e9-840b-583f-9aa4-d8b26ed97699', 'nyt://article/5840621c-27d0-5a43-96ef-49036b06c0dd', 'nyt://article/e5f1a5af-9b31-5fcd-9dde-ceff057bfe3c', 'nyt://article/518165b7-13fa-504c-84e5-86b1886bd55c', 'nyt://article/646f1cd5-7b14-5a8e-a9d4-37e72b3f5b62', 'nyt://video/737a072e-de43-5212-be87-dd18fee16933', 'nyt://article/b1dd011c-b326-5120-bef8-6c355f369dbc', 'nyt://article/be0d4c85-b675-58d5-8341-382f7e1b13f1', 'nyt://article/0c14d559-6991-5e0b-87bc-4b214f2a51ac', 'nyt://article/d7c78353-6450-5260-9cc9-845ae9bd8689', 'nyt://article/ccf7b012-7794-53c7-a589-3d5e11cbf2f3', 'nyt://article/476eda79-f327-5c65-ac8e-73f4da4c784d', 'nyt://article/beea6485-21e6-5882-81ea-11bf7161ea31', 'nyt://article/fc6284f7-c327-5d98-9c23-0ec3baee185c', 'nyt://article/f047195f-8d52-5d7d-abcd-ff6058827977', 'nyt://article/8d03418e-917c-50de-a56b-7bea298d8304', 'nyt://article/5fdf5f34-1501-5b45-80f6-14e12305ce83', 'nyt://article/a28e31fd-5931-5ee9-bcfe-35597b84111d', 'nyt://article/b90269f3-1d22-523d-ac51-5d7cc45b6915', 'nyt://article/7843c099-5f7a-5948-bfbe-c2ef4ed1b124', 'nyt://article/b5a25414-f743-597f-920f-7048a72ac073', 'nyt://article/c61740ac-e9e2-5588-8a22-cbab17e8eff2', 'nyt://article/4b92455e-9095-53b7-a64c-0a57daed598a', 'nyt://article/ef5b278e-3bfb-5ced-8749-ca7f6782c354', 'nyt://article/d8eb29b9-e06f-5bba-801e-4404a0ff6acf', 'nyt://article/7e65f179-dcfa-566f-b109-22420ab3c4cd', 'nyt://article/1b6f603e-eeed-551e-be89-6957849e54ba', 'nyt://article/9f67059d-b082-50d8-b809-ebd97db0155f', 'nyt://article/2405c02f-d703-571e-b820-e2ec6c263131', 'nyt://article/c8187867-d8f8-525c-8515-1fdf3f04ed97', 'nyt://article/b40fdf96-6f00-50c2-afd4-806612997188', 'nyt://article/4c89690c-2d88-5666-b3a4-9cccd6ff4cfd', 'nyt://article/5f4c66ff-b081-5604-a318-aa39cacc5dea', 'nyt://article/345ee78c-1013-5ed5-a0c8-c8c6f25db6e2', 'nyt://article/c08f07fa-f86e-5933-8ec8-9753a3235fea', 'nyt://article/a073ef4c-ffa7-5f85-aea5-343aab924774', 'nyt://article/f2ad43ba-f0fb-55b5-9347-b943690f9fed', 'nyt://video/dfe1f9c5-c85d-5d0f-ab61-11f9b085dd26', 'nyt://article/3d786352-fd50-5452-aecd-051b50cbc4df', 'nyt://article/dc5df80e-a064-5216-93ad-27bdd8af366c', 'nyt://article/79584bcd-0b47-5bed-b2b9-eb25c623455b', 'nyt://article/275ed32b-45a7-558b-b062-2f7a88f065a6', 'nyt://article/a07d25af-8a3c-5f41-a307-2d5f27b619a8', 'nyt://article/acd59772-a73c-58e5-8d14-cafc9ab6b797', 'nyt://article/98ad4e94-eacf-5484-a152-aae486fe80bb', 'nyt://article/1fac11e1-c4a3-5ec6-8251-473c2b5bb37b', 'nyt://article/5851579c-f145-59ba-80a5-261a56e5b30e', 'nyt://article/200d1140-6261-57a5-81f8-27518b7b8db2', 'nyt://article/9e5bf3e7-7b8c-53b6-8f95-9b6c42a40bed', 'nyt://article/182bda75-2e80-5263-9b67-1fa1fd1e6006', 'nyt://article/dfbc4919-d236-5316-8cfb-5aabc5ee9230', 'nyt://article/aff52961-1420-59c3-9d68-ae0ca6ed4b35', 'nyt://article/97f19b85-28ff-5a22-bfda-ba0f2ef315e6', 'nyt://article/5d33e287-9470-5b87-8521-e219ea4db49e', 'nyt://article/d31375d3-ba30-5b83-9012-fb988e971431', 'nyt://article/984d6485-1d7c-5329-bbfe-724dcd588d3e', 'nyt://article/104de6fc-7b9c-5768-812a-528967b0758b', 'nyt://article/e8dd346d-fb45-5698-afc2-8d1aca18cab5', 'nyt://article/6b8a033c-bd65-5340-bdca-999521c946f2', 'nyt://article/d2ed2b42-b4fe-5a9d-8778-1c44613d1b48', 'nyt://article/d6e370ea-e210-517e-8794-cf573ea48875', 'nyt://article/471eeced-b2a8-5fbd-905e-9080e21eaa52', 'nyt://article/51bfbabd-96a2-5b97-91dd-0bcceb046e7c', 'nyt://article/17964ebd-aba4-528b-9e7b-fbdef3c374de', 'nyt://article/55105b16-71c2-5e71-af6d-5fb2f3714351', 'nyt://article/25b52c57-7954-516d-8223-aa92964350e9', 'nyt://article/a7bc462c-8c40-51f0-a662-acab3982f339', 'nyt://article/3c5ce7dc-377e-5aad-83c0-ab4a743cb2c4', 'nyt://article/63925b14-71bd-5bd0-961f-1dcab9193f30', 'nyt://article/85018576-13d2-59e3-a528-009d61e9a6c4', 'nyt://article/a91e5a26-c9bb-5e01-9dbc-f490fc526377', 'nyt://article/83ed6c3e-b9d1-5445-9f67-fa03f51b1f10', 'nyt://article/9cc43891-0caa-540c-8112-e27105587d64', 'nyt://article/1f7f508f-894e-572c-b24d-51dc2b5747a7', 'nyt://article/75ca1604-3a00-568f-9227-48637db93063', 'nyt://article/8746372b-beb9-5dd8-a4b3-7db7583c3297', 'nyt://interactive/f5852d85-975f-54af-9422-2db447002184', 'nyt://article/90f3d6fe-145c-5b8e-9d98-c5e1d31f3dc7', 'nyt://article/2faa2e32-34d5-59ce-b2a1-061c40d4033d', 'nyt://article/f3252c4d-6b07-5f53-b948-574d1aeb4a86', 'nyt://article/23a6bcb1-85a4-51d0-b972-847fd8758b21', 'nyt://article/ef47a80e-94bc-5c36-8d44-8d4224ce92b2', 'nyt://article/2ee0365b-7aa9-53ce-91f9-9cdc061bf0cc', 'nyt://article/743e718a-3860-54b6-a40b-a316fc63676c', 'nyt://article/af6f333f-6d43-5d87-9548-a63cd0aa8ddd', 'nyt://article/1e1b6bcf-91f9-5c42-90f9-f6bb4ba55f41', 'nyt://article/32f2edb5-db2c-56f9-b805-7f5ceb1f8be9', 'nyt://article/6f0b4899-5496-5ea7-998c-3e774ec0be9a', 'nyt://article/0e335aca-12fd-510c-86c8-a5fde981ba37', 'nyt://article/b7b3956f-677c-5faa-8b5e-9ea8cfc29b18', 'nyt://article/74351aa3-48dc-5660-a635-a15c038c6bef', 'nyt://article/a1699658-9baa-5853-9904-c2ded7ca15c7', 'nyt://article/1584dffb-c4ad-5dd8-9f5d-d31f54e174db', 'nyt://article/b3f731f4-35e9-5de2-9ae0-f4856b37045a', 'nyt://article/43ec198a-0583-5da7-b5fd-7b4718dd56c7', 'nyt://article/78f02290-831e-54c0-a29c-218dc218387e', 'nyt://article/1a2e93cf-893b-578d-81af-1c53b92ff663', 'nyt://article/56dd1f22-4dc6-5c18-bccc-53d2b1c35c74', 'nyt://article/9ea127d2-33a7-58e0-8dee-aeafaf566305', 'nyt://article/47667e04-e3a8-5c2e-856f-2b29dfa087e9', 'nyt://interactive/91d165d6-83c8-523e-b48a-f3cea04659a3', 'nyt://article/4b02bd92-7924-5305-89a2-7ba769c9768f', 'nyt://article/f0b7b0ae-927a-580b-b7a1-624ce65a4cca', 'nyt://article/9e3c1108-a8f0-5278-b5d3-404b4219a201', 'nyt://article/5c741421-8ab2-564c-81d3-4034f264ceb0', 'nyt://article/03c76cb3-912d-5961-80e8-b2d2f78e5eee', 'nyt://article/15588b82-5746-5947-8018-265237015ce2', 'nyt://video/5feaee04-e1c3-5ba4-82e7-97ad2972b5db', 'nyt://article/2de79d0a-09ed-58b9-a408-8ccc82b036ed', 'nyt://article/0dc017e5-7fcd-5d0e-b903-3f35f851b824', 'nyt://article/eed4f410-a012-51ea-84c2-eb7a11a7c0c2', 'nyt://article/a2e2ca95-427b-5926-bc80-e0f9229bb5c8', 'nyt://article/19d29e66-47c6-549d-bff7-86f8cdec1be0', 'nyt://article/f77eea6e-9e4d-5910-9f66-49f09fd9b59f', 'nyt://article/1fe3833c-de0c-5dd0-9127-e5d8bb3363fe', 'nyt://article/7fe6bc61-6970-523f-941c-f294a9a6734f', 'nyt://article/231e9767-b4bc-52ca-b8f8-6f5cc42fcf05', 'nyt://article/7470440f-b4a1-5893-8bf6-539f33510d73', 'nyt://article/e4ac1574-8f5b-50e0-b417-180c2c0b43a3', 'nyt://article/3b6fbc1b-5d55-53fb-940b-b76fb9fea7ad', 'nyt://article/2597c27a-2e10-588e-a67b-6741f4140791', 'nyt://article/0dc56333-04dc-52d9-ba59-1311364542b9', 'nyt://article/e7ea5190-31db-577a-8d87-f5cf716d65b9', 'nyt://article/3b20ab95-080e-5d5e-bfad-038b57acc45b', 'nyt://article/a5eb8fcd-7f76-52f4-89bd-afc1378b4025', 'nyt://article/08c8698c-7aac-5829-a833-29f02213113b', 'nyt://article/b2ee80db-ffae-5c07-8246-52c8cad1f2eb', 'nyt://article/da1c72c3-243d-5250-8ed1-cd76540dc263', 'nyt://article/6107f746-7842-581a-8aeb-ce108deb679d', 'nyt://article/bc85dd55-af86-5b73-9c20-4290c2871fd1', 'nyt://interactive/63331587-3ed3-55c1-8475-7612b1f63f8a', 'nyt://article/c02952cb-609d-5001-837f-c04cc476b681', 'nyt://article/33f4151f-8309-534a-b98a-aed4da16b569', 'nyt://article/96087abf-6837-5cd3-b669-8c7d1b4f3e68', 'nyt://article/df9ad2bf-2239-507a-96e1-cd96edfa75c3', 'nyt://article/5dac2435-067c-56f2-86a9-5a60a210d9ac', 'nyt://article/3927f4ba-d03d-5fea-88b8-02384a9612a8', 'nyt://article/e7104707-45cc-54d8-b02c-5d378afe5c11', 'nyt://article/1c2be249-dc47-5a7d-9053-4e62b4c4d3b4', 'nyt://article/f0ac8084-e4c6-5000-958d-c0b5acf4728d', 'nyt://article/e9bff2b1-2037-5400-91f3-e8ccd0526d8f', 'nyt://article/11e1a810-c0ec-5e0d-9c7c-9e22c8f37863', 'nyt://article/6f990b5d-0d79-5ac3-b12c-067acb727925', 'nyt://article/b2e70bec-e0f1-579c-a0ca-e0eda5f1c2d2', 'nyt://article/e8f5fe70-0f90-5996-99c1-007da14144a4', 'nyt://article/f553c956-8e2e-545d-a485-4c05ea33c20b', 'nyt://article/aba101ee-b370-5aa5-bc83-d9e347daa2de', 'nyt://article/1b69b757-0a9e-5d26-bf2d-34b2b09dca5e', 'nyt://article/ff9d875c-9078-5afb-9bf2-4cfaf70b8797', 'nyt://article/7b780c20-ca56-50aa-9bed-1a382f0788c7', 'nyt://article/5bf6230d-699f-5170-b038-242935c70728', 'nyt://video/1ffec11b-4b73-5805-a4fc-5ccf4bdf8337', 'nyt://article/7fb786fc-8a5f-5b43-851a-003e1c0ec6f6', 'nyt://article/56885f0e-d310-5ad3-bc76-c2af312dc432', 'nyt://article/c36771af-a6d7-5c6d-9947-772def83cf6a', 'nyt://article/b0968d46-24a2-5ec1-a33c-8abc9281d1fb', 'nyt://article/6d71b2af-2a79-51bb-8179-3d4b6fd19877', 'nyt://article/2831de7d-e312-5c50-9bd5-ae3f29ded103', 'nyt://article/366e533e-c140-5293-bffc-2e4f8b992b6e', 'nyt://article/cd227921-bb0a-57d3-b2c2-071df629ccad', 'nyt://article/8f540855-3f51-5e31-ba80-c6edb7146b1e', 'nyt://article/192b0400-169d-5224-bc25-57028ace21d3', 'nyt://article/61b81a48-2c7b-5994-b647-7591cc262b6f', 'nyt://article/63d78256-7141-57e3-a68b-d505a4f59337', 'nyt://article/f21e09e2-0008-5367-bf66-65f921e584e8', 'nyt://article/dc9a72e3-4f1c-5e2c-adb2-835e246642ac', 'nyt://article/47b987ad-b236-5750-bfd4-1fa2878c2c64', 'nyt://article/2e805465-894e-5582-8154-802be39d1693', 'nyt://article/3a4db45c-4ad9-54ce-9010-47b76558260f', 'nyt://article/c3e65f2e-f23e-53fb-92ef-e02dfc5003f2', 'nyt://article/f831eb7b-3d2e-554b-ac3c-42087bc8b7a8', 'nyt://article/2de071a5-f7ac-5d75-8428-6222ef66f3da', 'nyt://article/a2e50cd3-24a5-50a5-a9e2-d7514ed8e174', 'nyt://article/0b89ab40-3c09-5187-8bd9-51420f4bb67b', 'nyt://article/b7c8882a-aca7-5417-9b51-11fbd6ea6c8f', 'nyt://article/eed8f880-891a-5ed0-b46b-1387f9deae63', 'nyt://article/2ab5b8b0-2320-5641-8c91-bde845aa4a68', 'nyt://article/db9bd694-eeef-5b7c-90d2-339096f5e59d']",
         "1111",
         null
        ]
       ],
       "shape": {
        "columns": 4,
        "rows": 236
       }
      },
      "text/html": [
       "<div>\n",
       "<style scoped>\n",
       "    .dataframe tbody tr th:only-of-type {\n",
       "        vertical-align: middle;\n",
       "    }\n",
       "\n",
       "    .dataframe tbody tr th {\n",
       "        vertical-align: top;\n",
       "    }\n",
       "\n",
       "    .dataframe thead th {\n",
       "        text-align: right;\n",
       "    }\n",
       "</style>\n",
       "<table border=\"1\" class=\"dataframe\">\n",
       "  <thead>\n",
       "    <tr style=\"text-align: right;\">\n",
       "      <th></th>\n",
       "      <th>country</th>\n",
       "      <th>ids_of_articles</th>\n",
       "      <th>count_of_articles</th>\n",
       "      <th>iso_alpha3</th>\n",
       "    </tr>\n",
       "  </thead>\n",
       "  <tbody>\n",
       "    <tr>\n",
       "      <th>0</th>\n",
       "      <td>Adriatic Sea</td>\n",
       "      <td>['nyt://article/6c5919fe-452a-532d-8234-f698a3...</td>\n",
       "      <td>1</td>\n",
       "      <td>NaN</td>\n",
       "    </tr>\n",
       "    <tr>\n",
       "      <th>1</th>\n",
       "      <td>Aegean Sea</td>\n",
       "      <td>['nyt://interactive/6addaf57-b7fa-5d0f-af24-ec...</td>\n",
       "      <td>3</td>\n",
       "      <td>NaN</td>\n",
       "    </tr>\n",
       "    <tr>\n",
       "      <th>2</th>\n",
       "      <td>Afghanistan</td>\n",
       "      <td>['nyt://article/1bf3d7c8-419e-52d7-a720-c4e054...</td>\n",
       "      <td>112</td>\n",
       "      <td>NaN</td>\n",
       "    </tr>\n",
       "    <tr>\n",
       "      <th>3</th>\n",
       "      <td>Africa</td>\n",
       "      <td>['nyt://article/34e514ce-6ebc-58f1-bf4b-d750ea...</td>\n",
       "      <td>201</td>\n",
       "      <td>NaN</td>\n",
       "    </tr>\n",
       "    <tr>\n",
       "      <th>4</th>\n",
       "      <td>Albania</td>\n",
       "      <td>['nyt://article/59eb4293-7d0a-558f-9c26-d85c3f...</td>\n",
       "      <td>23</td>\n",
       "      <td>NaN</td>\n",
       "    </tr>\n",
       "    <tr>\n",
       "      <th>...</th>\n",
       "      <td>...</td>\n",
       "      <td>...</td>\n",
       "      <td>...</td>\n",
       "      <td>...</td>\n",
       "    </tr>\n",
       "    <tr>\n",
       "      <th>231</th>\n",
       "      <td>Vietnam</td>\n",
       "      <td>['nyt://article/670e1dfd-7217-5337-a5b8-0b7a7d...</td>\n",
       "      <td>52</td>\n",
       "      <td>NaN</td>\n",
       "    </tr>\n",
       "    <tr>\n",
       "      <th>232</th>\n",
       "      <td>Yellow Sea</td>\n",
       "      <td>['nyt://article/593fcdd3-0e07-58b1-9a5d-eec8cd...</td>\n",
       "      <td>1</td>\n",
       "      <td>NaN</td>\n",
       "    </tr>\n",
       "    <tr>\n",
       "      <th>233</th>\n",
       "      <td>Yemen</td>\n",
       "      <td>['nyt://article/083f2303-65dd-5db5-b970-cf1755...</td>\n",
       "      <td>73</td>\n",
       "      <td>NaN</td>\n",
       "    </tr>\n",
       "    <tr>\n",
       "      <th>234</th>\n",
       "      <td>Zambia</td>\n",
       "      <td>['nyt://article/ce946de8-b1a7-58a9-9235-321a9b...</td>\n",
       "      <td>13</td>\n",
       "      <td>NaN</td>\n",
       "    </tr>\n",
       "    <tr>\n",
       "      <th>235</th>\n",
       "      <td>Zimbabwe</td>\n",
       "      <td>['nyt://article/a4cb0e12-50fd-5a76-9971-741961...</td>\n",
       "      <td>3</td>\n",
       "      <td>NaN</td>\n",
       "    </tr>\n",
       "  </tbody>\n",
       "</table>\n",
       "<p>236 rows × 4 columns</p>\n",
       "</div>"
      ],
      "text/plain": [
       "          country                                    ids_of_articles  \\\n",
       "0    Adriatic Sea  ['nyt://article/6c5919fe-452a-532d-8234-f698a3...   \n",
       "1      Aegean Sea  ['nyt://interactive/6addaf57-b7fa-5d0f-af24-ec...   \n",
       "2     Afghanistan  ['nyt://article/1bf3d7c8-419e-52d7-a720-c4e054...   \n",
       "3          Africa  ['nyt://article/34e514ce-6ebc-58f1-bf4b-d750ea...   \n",
       "4         Albania  ['nyt://article/59eb4293-7d0a-558f-9c26-d85c3f...   \n",
       "..            ...                                                ...   \n",
       "231       Vietnam  ['nyt://article/670e1dfd-7217-5337-a5b8-0b7a7d...   \n",
       "232    Yellow Sea  ['nyt://article/593fcdd3-0e07-58b1-9a5d-eec8cd...   \n",
       "233         Yemen  ['nyt://article/083f2303-65dd-5db5-b970-cf1755...   \n",
       "234        Zambia  ['nyt://article/ce946de8-b1a7-58a9-9235-321a9b...   \n",
       "235      Zimbabwe  ['nyt://article/a4cb0e12-50fd-5a76-9971-741961...   \n",
       "\n",
       "     count_of_articles iso_alpha3  \n",
       "0                    1        NaN  \n",
       "1                    3        NaN  \n",
       "2                  112        NaN  \n",
       "3                  201        NaN  \n",
       "4                   23        NaN  \n",
       "..                 ...        ...  \n",
       "231                 52        NaN  \n",
       "232                  1        NaN  \n",
       "233                 73        NaN  \n",
       "234                 13        NaN  \n",
       "235                  3        NaN  \n",
       "\n",
       "[236 rows x 4 columns]"
      ]
     },
     "execution_count": 427,
     "metadata": {},
     "output_type": "execute_result"
    }
   ],
   "source": [
    "nyt_country_coverage"
   ]
  },
  {
   "cell_type": "code",
   "execution_count": 428,
   "metadata": {},
   "outputs": [],
   "source": [
    "nyt_country_coverage[\"perc_of_coverage\"] =  nyt_country_coverage[\"count_of_articles\"].apply(lambda x: x / nyt_country_coverage[\"count_of_articles\"].sum() * 100)"
   ]
  },
  {
   "cell_type": "code",
   "execution_count": null,
   "metadata": {},
   "outputs": [],
   "source": [
    "country_coverage[\"perc_of_coverage_zeit\"] =  country_coverage[\"count_of_articles_zeit\"].apply(lambda x: x / country_coverage[\"count_of_articles_zeit\"].sum() * 100)"
   ]
  },
  {
   "cell_type": "code",
   "execution_count": null,
   "metadata": {},
   "outputs": [],
   "source": [
    "country_coverage[\"middle_point\"] = country_coverage[\"perc_of_coverage_nyt\"] - country_coverage[\"perc_of_coverage_zeit\"]"
   ]
  },
  {
   "cell_type": "markdown",
   "metadata": {},
   "source": [
    "Negative values are Zeit, Positive values are the NYT"
   ]
  },
  {
   "cell_type": "code",
   "execution_count": null,
   "metadata": {},
   "outputs": [],
   "source": [
    "country_coverage"
   ]
  },
  {
   "cell_type": "markdown",
   "metadata": {},
   "source": [
    "## Assign countries to one or the other outlet"
   ]
  },
  {
   "cell_type": "code",
   "execution_count": null,
   "metadata": {},
   "outputs": [],
   "source": [
    "covered_by_zeit = country_coverage[country_coverage[\"middle_point\"] < 0]"
   ]
  },
  {
   "cell_type": "code",
   "execution_count": null,
   "metadata": {},
   "outputs": [],
   "source": [
    "covered_by_zeit = covered_by_zeit[[\"country\", \"iso_alpha3\", \"middle_point\", \"count_of_articles_zeit\", \"count_of_articles_nyt\"]]"
   ]
  },
  {
   "cell_type": "code",
   "execution_count": null,
   "metadata": {},
   "outputs": [],
   "source": [
    "covered_by_zeit"
   ]
  },
  {
   "cell_type": "code",
   "execution_count": null,
   "metadata": {},
   "outputs": [],
   "source": [
    "covered_by_nyt = country_coverage[country_coverage[\"middle_point\"] > 0]"
   ]
  },
  {
   "cell_type": "code",
   "execution_count": null,
   "metadata": {},
   "outputs": [],
   "source": [
    "covered_by_nyt = covered_by_nyt[[\"country\", \"iso_alpha3\", \"middle_point\", \"count_of_articles_nyt\", \"count_of_articles_zeit\"]]"
   ]
  },
  {
   "cell_type": "markdown",
   "metadata": {},
   "source": [
    "### Load continental outline to identify regions"
   ]
  },
  {
   "cell_type": "code",
   "execution_count": 429,
   "metadata": {},
   "outputs": [],
   "source": [
    "european_entities = pd.read_csv('../../input-data/utilities/europe.txt', names=['Country'])\n",
    "asia_entities = pd.read_csv('../../input-data/utilities/asia.txt', names=['Country'])\n",
    "africa_entities = pd.read_csv('../../input-data/utilities/africa.txt', names=['Country'])\n",
    "n_america_entities = pd.read_csv('../../input-data/utilities/north-america.txt', names=['Country'])\n",
    "s_america_entities = pd.read_csv('../../input-data/utilities/south-america.txt', names=['Country'])\n",
    "oceania_entities = pd.read_csv('../../input-data/utilities/oceania.txt', names=['Country'])\n",
    "ant_entities = pd.read_csv('../../input-data/utilities/antarctica.txt', names=['Country'])\n",
    "other_entities = pd.read_csv('../../input-data/utilities/other.txt', names=['Country'])\n"
   ]
  },
  {
   "cell_type": "code",
   "execution_count": 430,
   "metadata": {},
   "outputs": [],
   "source": [
    "european_entities[\"Region\"] = \"Europe\"\n",
    "asia_entities[\"Region\"] = \"Asia\"\n",
    "africa_entities[\"Region\"] = \"Africa\"\n",
    "n_america_entities[\"Region\"] = \"North America\"\n",
    "s_america_entities[\"Region\"] = \"South America\"\n",
    "oceania_entities[\"Region\"] = \"Oceania\"\n",
    "ant_entities[\"Region\"] = \"Antarctica\"\n",
    "other_entities[\"Region\"] = \"Other\""
   ]
  },
  {
   "cell_type": "code",
   "execution_count": 431,
   "metadata": {},
   "outputs": [],
   "source": [
    "regions_and_countries = pd.concat([european_entities, asia_entities, africa_entities, n_america_entities, s_america_entities, oceania_entities, other_entities,ant_entities])"
   ]
  },
  {
   "cell_type": "code",
   "execution_count": 432,
   "metadata": {},
   "outputs": [],
   "source": [
    "regions_and_countries = regions_and_countries.rename(columns={\"Country\": \"country\"})"
   ]
  },
  {
   "cell_type": "code",
   "execution_count": 433,
   "metadata": {},
   "outputs": [],
   "source": [
    "regions_and_countries = regions_and_countries.map(lambda x: x.strip() if isinstance(x, str) else x)"
   ]
  },
  {
   "cell_type": "code",
   "execution_count": 434,
   "metadata": {},
   "outputs": [
    {
     "data": {
      "application/vnd.microsoft.datawrangler.viewer.v0+json": {
       "columns": [
        {
         "name": "index",
         "rawType": "int64",
         "type": "integer"
        },
        {
         "name": "country",
         "rawType": "object",
         "type": "string"
        },
        {
         "name": "Region",
         "rawType": "object",
         "type": "string"
        }
       ],
       "conversionMethod": "pd.DataFrame",
       "ref": "36dc426d-e08e-48c0-8418-3e66b57f175a",
       "rows": [
        [
         "0",
         "Albania",
         "Europe"
        ],
        [
         "1",
         "Andorra",
         "Europe"
        ],
        [
         "2",
         "Austria",
         "Europe"
        ],
        [
         "3",
         "Belarus",
         "Europe"
        ],
        [
         "4",
         "Belgium",
         "Europe"
        ],
        [
         "5",
         "Bosnia and Herzegovina",
         "Europe"
        ],
        [
         "6",
         "Bulgaria",
         "Europe"
        ],
        [
         "7",
         "Croatia",
         "Europe"
        ],
        [
         "8",
         "Cyprus",
         "Europe"
        ],
        [
         "9",
         "Czech Republic",
         "Europe"
        ],
        [
         "10",
         "Denmark",
         "Europe"
        ],
        [
         "11",
         "Estonia",
         "Europe"
        ],
        [
         "12",
         "Guernsey",
         "Europe"
        ],
        [
         "13",
         "Finland",
         "Europe"
        ],
        [
         "14",
         "France",
         "Europe"
        ],
        [
         "15",
         "Germany",
         "Europe"
        ],
        [
         "16",
         "Greece",
         "Europe"
        ],
        [
         "17",
         "Hungary",
         "Europe"
        ],
        [
         "18",
         "Iceland",
         "Europe"
        ],
        [
         "19",
         "Ireland",
         "Europe"
        ],
        [
         "20",
         "Kosovo",
         "Europe"
        ],
        [
         "21",
         "Italy",
         "Europe"
        ],
        [
         "22",
         "Latvia",
         "Europe"
        ],
        [
         "23",
         "Liechtenstein",
         "Europe"
        ],
        [
         "24",
         "Lithuania",
         "Europe"
        ],
        [
         "25",
         "Luxembourg",
         "Europe"
        ],
        [
         "26",
         "Malta",
         "Europe"
        ],
        [
         "27",
         "Moldova",
         "Europe"
        ],
        [
         "28",
         "Monaco",
         "Europe"
        ],
        [
         "29",
         "Montenegro",
         "Europe"
        ],
        [
         "30",
         "Netherlands",
         "Europe"
        ],
        [
         "31",
         "Republic of Macedonia",
         "Europe"
        ],
        [
         "32",
         "Norway",
         "Europe"
        ],
        [
         "33",
         "Poland",
         "Europe"
        ],
        [
         "34",
         "Portugal",
         "Europe"
        ],
        [
         "35",
         "Romania",
         "Europe"
        ],
        [
         "36",
         "Russia",
         "Europe"
        ],
        [
         "37",
         "San Marino",
         "Europe"
        ],
        [
         "38",
         "Serbia",
         "Europe"
        ],
        [
         "39",
         "Slovakia",
         "Europe"
        ],
        [
         "40",
         "Slovenia",
         "Europe"
        ],
        [
         "41",
         "Spain",
         "Europe"
        ],
        [
         "42",
         "Sweden",
         "Europe"
        ],
        [
         "43",
         "Switzerland",
         "Europe"
        ],
        [
         "44",
         "Turkey",
         "Europe"
        ],
        [
         "45",
         "Ukraine",
         "Europe"
        ],
        [
         "46",
         "United Kingdom",
         "Europe"
        ],
        [
         "47",
         "Vatican City",
         "Europe"
        ],
        [
         "48",
         "Adriatic Sea",
         "Europe"
        ],
        [
         "49",
         "Aegean Sea",
         "Europe"
        ]
       ],
       "shape": {
        "columns": 2,
        "rows": 289
       }
      },
      "text/html": [
       "<div>\n",
       "<style scoped>\n",
       "    .dataframe tbody tr th:only-of-type {\n",
       "        vertical-align: middle;\n",
       "    }\n",
       "\n",
       "    .dataframe tbody tr th {\n",
       "        vertical-align: top;\n",
       "    }\n",
       "\n",
       "    .dataframe thead th {\n",
       "        text-align: right;\n",
       "    }\n",
       "</style>\n",
       "<table border=\"1\" class=\"dataframe\">\n",
       "  <thead>\n",
       "    <tr style=\"text-align: right;\">\n",
       "      <th></th>\n",
       "      <th>country</th>\n",
       "      <th>Region</th>\n",
       "    </tr>\n",
       "  </thead>\n",
       "  <tbody>\n",
       "    <tr>\n",
       "      <th>0</th>\n",
       "      <td>Albania</td>\n",
       "      <td>Europe</td>\n",
       "    </tr>\n",
       "    <tr>\n",
       "      <th>1</th>\n",
       "      <td>Andorra</td>\n",
       "      <td>Europe</td>\n",
       "    </tr>\n",
       "    <tr>\n",
       "      <th>2</th>\n",
       "      <td>Austria</td>\n",
       "      <td>Europe</td>\n",
       "    </tr>\n",
       "    <tr>\n",
       "      <th>3</th>\n",
       "      <td>Belarus</td>\n",
       "      <td>Europe</td>\n",
       "    </tr>\n",
       "    <tr>\n",
       "      <th>4</th>\n",
       "      <td>Belgium</td>\n",
       "      <td>Europe</td>\n",
       "    </tr>\n",
       "    <tr>\n",
       "      <th>...</th>\n",
       "      <td>...</td>\n",
       "      <td>...</td>\n",
       "    </tr>\n",
       "    <tr>\n",
       "      <th>4</th>\n",
       "      <td>Caspian Sea</td>\n",
       "      <td>Other</td>\n",
       "    </tr>\n",
       "    <tr>\n",
       "      <th>5</th>\n",
       "      <td>Pacific Ocean</td>\n",
       "      <td>Other</td>\n",
       "    </tr>\n",
       "    <tr>\n",
       "      <th>6</th>\n",
       "      <td>Red Sea</td>\n",
       "      <td>Other</td>\n",
       "    </tr>\n",
       "    <tr>\n",
       "      <th>0</th>\n",
       "      <td>Antarctica</td>\n",
       "      <td>Antarctica</td>\n",
       "    </tr>\n",
       "    <tr>\n",
       "      <th>1</th>\n",
       "      <td>South Georgia and the South Sandwich Islands</td>\n",
       "      <td>Antarctica</td>\n",
       "    </tr>\n",
       "  </tbody>\n",
       "</table>\n",
       "<p>289 rows × 2 columns</p>\n",
       "</div>"
      ],
      "text/plain": [
       "                                         country      Region\n",
       "0                                        Albania      Europe\n",
       "1                                        Andorra      Europe\n",
       "2                                        Austria      Europe\n",
       "3                                        Belarus      Europe\n",
       "4                                        Belgium      Europe\n",
       "..                                           ...         ...\n",
       "4                                    Caspian Sea       Other\n",
       "5                                  Pacific Ocean       Other\n",
       "6                                        Red Sea       Other\n",
       "0                                     Antarctica  Antarctica\n",
       "1   South Georgia and the South Sandwich Islands  Antarctica\n",
       "\n",
       "[289 rows x 2 columns]"
      ]
     },
     "execution_count": 434,
     "metadata": {},
     "output_type": "execute_result"
    }
   ],
   "source": [
    "regions_and_countries"
   ]
  },
  {
   "cell_type": "code",
   "execution_count": null,
   "metadata": {},
   "outputs": [],
   "source": [
    "regions_zeit = covered_by_zeit.merge(regions_and_countries, how=\"left\", left_on=\"country\", right_on=\"country\")"
   ]
  },
  {
   "cell_type": "code",
   "execution_count": null,
   "metadata": {},
   "outputs": [],
   "source": [
    "regions_zeit.drop(index=83, inplace=True)"
   ]
  },
  {
   "cell_type": "code",
   "execution_count": null,
   "metadata": {},
   "outputs": [],
   "source": [
    "regions_zeit.drop(index=40, inplace=True)"
   ]
  },
  {
   "cell_type": "code",
   "execution_count": null,
   "metadata": {},
   "outputs": [],
   "source": [
    "regions_zeit[\"outlet\"] = \"Zeit\""
   ]
  },
  {
   "cell_type": "code",
   "execution_count": null,
   "metadata": {},
   "outputs": [],
   "source": [
    "regions_zeit[\"count\"] = regions_zeit[\"count_of_articles_zeit\"]"
   ]
  },
  {
   "cell_type": "code",
   "execution_count": null,
   "metadata": {},
   "outputs": [],
   "source": [
    "regions_zeit = regions_zeit[['country', 'iso_alpha3', 'middle_point', \"count\", 'count_of_articles_zeit', 'count_of_articles_nyt', 'Region', 'outlet']]"
   ]
  },
  {
   "cell_type": "code",
   "execution_count": 459,
   "metadata": {},
   "outputs": [],
   "source": [
    "regions_nyt = nyt_country_coverage.merge(regions_and_countries, how=\"left\", left_on=\"country\", right_on=\"country\")"
   ]
  },
  {
   "cell_type": "code",
   "execution_count": 460,
   "metadata": {},
   "outputs": [],
   "source": [
    "regions_nyt[\"outlet\"] = \"NYT\""
   ]
  },
  {
   "cell_type": "code",
   "execution_count": 461,
   "metadata": {},
   "outputs": [],
   "source": [
    "regions_nyt[\"count\"] = regions_nyt[\"count_of_articles\"]"
   ]
  },
  {
   "cell_type": "code",
   "execution_count": 462,
   "metadata": {},
   "outputs": [
    {
     "data": {
      "application/vnd.microsoft.datawrangler.viewer.v0+json": {
       "columns": [
        {
         "name": "index",
         "rawType": "int64",
         "type": "integer"
        },
        {
         "name": "country",
         "rawType": "object",
         "type": "string"
        },
        {
         "name": "ids_of_articles",
         "rawType": "object",
         "type": "string"
        },
        {
         "name": "count_of_articles",
         "rawType": "int64",
         "type": "integer"
        },
        {
         "name": "iso_alpha3",
         "rawType": "object",
         "type": "unknown"
        },
        {
         "name": "perc_of_coverage",
         "rawType": "float64",
         "type": "float"
        },
        {
         "name": "Region",
         "rawType": "object",
         "type": "unknown"
        },
        {
         "name": "outlet",
         "rawType": "object",
         "type": "string"
        },
        {
         "name": "count",
         "rawType": "int64",
         "type": "integer"
        }
       ],
       "conversionMethod": "pd.DataFrame",
       "ref": "7eed63c2-ad5d-4a61-b8b7-77614d4ad5f3",
       "rows": [
        [
         "0",
         "Adriatic Sea",
         "['nyt://article/6c5919fe-452a-532d-8234-f698a33bc15c']",
         "1",
         null,
         "0.005380683346785042",
         "Europe",
         "NYT",
         "1"
        ],
        [
         "1",
         "Aegean Sea",
         "['nyt://interactive/6addaf57-b7fa-5d0f-af24-ec0c3e131acd', 'nyt://article/08c91948-7b43-5eb7-b306-8036302faecf', 'nyt://article/a0eec7f0-3d63-5711-9700-9bce1b389aa9']",
         "3",
         null,
         "0.016142050040355127",
         "Europe",
         "NYT",
         "3"
        ],
        [
         "2",
         "Afghanistan",
         "['nyt://article/1bf3d7c8-419e-52d7-a720-c4e054fcb656', 'nyt://article/e40483f8-2139-54d1-bb6f-000020baebb5', 'nyt://article/be0ef722-a501-55fc-99e1-bbe8f3bdfa9d', 'nyt://article/fa4f938c-3999-5899-9b9a-87dade1e9109', 'nyt://article/c7e16118-94fc-55a9-90f6-91271aa69c8e', 'nyt://article/f0883555-c784-56cd-8272-ba1113b1920c', 'nyt://article/d3fd6ae0-dee3-53bc-89cf-20ec83c40234', 'nyt://article/f341cceb-41b8-5e13-b4c3-7affb67add4a', 'nyt://article/1542dab7-ca41-5e91-b479-425ed2115e69', 'nyt://article/b1179855-fe4a-503b-9086-32a9d44ba791', 'nyt://article/3b386dd8-364d-5300-8de1-1b81ad091936', 'nyt://article/e618787b-82dd-5aad-995f-2d34b7bac54f', 'nyt://article/77d3ba07-71fd-55e9-8260-077d40e7e7b0', 'nyt://article/22c77345-c8fc-54b8-8044-881e946adaf0', 'nyt://article/f5aa9de2-8b06-5891-8642-0b2db046dc0d', 'nyt://article/15c91982-0ecf-5e95-b7a5-a49f7e3c1868', 'nyt://article/bf24d7e3-26df-577e-8327-5ad156769f42', 'nyt://article/027c7bf8-68aa-515e-95a6-f5eea8048f65', 'nyt://article/d14635d5-9d12-58c0-91a5-36a9eddb8fad', 'nyt://interactive/fda805b2-2b2a-51c0-b44b-0a6a357a30a4', 'nyt://article/64dfac18-7dcb-5bcb-9807-6334f3b4907f', 'nyt://article/fbfdc8b5-31b3-5dd8-a1ae-fe3f871b745f', 'nyt://article/9b8e417f-ac93-5684-9339-3a9fb94cfb0a', 'nyt://article/3ba1a707-be08-5a83-8d18-5d5341bf3b7a', 'nyt://article/e5652440-552d-5b51-abd0-643d43eac6c8', 'nyt://article/44a10f67-d02c-56d0-9f9e-7da36dbd93ba', 'nyt://article/2f67e84d-d1c4-5419-b780-b0108851a334', 'nyt://article/a7df001a-fb67-5ee9-9b6c-ed3de464fcf7', 'nyt://article/224d3b62-d489-5a2f-91c0-6a46346661ee', 'nyt://article/1229602b-96e3-5dd7-a8dc-69d050f74e95', 'nyt://article/a55d2835-d41d-5093-a961-6a5a86cac66b', 'nyt://article/1f63edd0-84c8-5a7c-abf9-85d53a74592d', 'nyt://article/6ec05f2b-a2b3-5190-b9e4-3bed75594a0f', 'nyt://article/f36ce919-1ecd-5f6d-8748-40037f0c6a8f', 'nyt://article/a17db111-555c-5973-ac02-1426c21c454d', 'nyt://article/786b0740-8ed5-5bea-a353-056203015bf2', 'nyt://video/29e82c59-3302-5369-903b-4a3cb55720ce', 'nyt://article/818a8358-54bf-59af-b02b-ab789f7753b5', 'nyt://article/1ea25afb-f7f5-5873-8da1-5fbdba9ca782', 'nyt://article/18dbf70c-7693-5259-8379-a8499d5d3aef', 'nyt://article/c9a7aa82-bfba-57ce-8345-2fe996c2f588', 'nyt://article/fd15543c-174a-5c4d-9628-522e0e9a6768', 'nyt://article/c47b9632-5b0a-510d-8386-74c70370438b', 'nyt://article/ac05d632-9342-549a-92e4-00c14f593755', 'nyt://article/67761cbe-2ec6-5e32-b6f6-6e6a5a4eabee', 'nyt://article/7f712518-1080-590c-818e-3f183d5ab9e2', 'nyt://article/55e8851f-292f-5cfc-960d-04b3366ca701', 'nyt://article/692aefda-1ac4-5507-9b37-9aeaf74f9bcc', 'nyt://article/023708ea-b7e6-5f2b-b10f-399d3f52297d', 'nyt://article/19f90532-f2bd-5a00-9df4-72159380cc93', 'nyt://article/32d37cf0-7c12-5d3b-ae4a-f031d0ca961a', 'nyt://article/620575aa-9d01-5858-abff-b88aa5a78c27', 'nyt://article/055293d4-ba66-5f76-b4a5-b48ebfde3858', 'nyt://article/7d382142-6b6f-551d-8484-6e35963ad993', 'nyt://article/f6178677-9c32-5afa-b988-01d15ea68899', 'nyt://article/c9c4fe16-c986-59f8-844a-a3339d75f29e', 'nyt://article/508aec2b-c1c4-573b-b295-91f4d8364552', 'nyt://article/b203e080-2381-55c4-b8c4-e13ad368926b', 'nyt://article/76935c0c-a9ed-5495-aa1e-938494ed1a7a', 'nyt://article/17ea0afa-d3ea-55a2-85a8-8799db99297f', 'nyt://article/296fab0b-6def-55d1-931b-e61f385d40bc', 'nyt://article/0bbcc209-db15-5ed7-afa0-c8de30a1b0d8', 'nyt://article/9ee34700-032a-522a-aa23-9c17538e9c4b', 'nyt://article/f5b7d409-37e8-562e-8a07-9ac69a394a0a', 'nyt://article/f03fae5a-e626-5e9d-b0e2-4b339c9b0bed', 'nyt://article/0854fc1c-6794-5407-a410-c4e54329fd73', 'nyt://article/1eddbd46-8c2d-5754-8440-bb35e43e39d0', 'nyt://article/68a8cded-9ea6-5dce-be58-9148037275d1', 'nyt://article/b999f3cf-9c20-5cdd-a1df-81ad4f691d74', 'nyt://article/9f42643f-3a1e-58b0-8b05-471e25cc5fea', 'nyt://article/34584909-1ce1-5e0b-ae3f-8442725d44b5', 'nyt://article/85b88725-7f8f-5058-98da-25161dabd136', 'nyt://article/a0c9f4df-26d4-57b3-917f-4b7c7febe0f5', 'nyt://article/32b2f331-8909-5df2-b55c-c0b2e563860d', 'nyt://article/eb2e5966-5909-5229-aeb5-e1c1adf0ce4c', 'nyt://article/518634fb-02c7-5186-94e2-c9a6b42e410f', 'nyt://article/afe74c10-e930-55fc-9186-2163146355b1', 'nyt://article/f9386ae2-3ae0-5baf-8064-919dfdbc9e8c', 'nyt://article/0537b6b9-571a-539b-af8c-fc72f2873096', 'nyt://article/d720f2be-e650-5de7-8bfd-c29ba80f95a1', 'nyt://article/d9ad583e-3923-5bfa-bd41-16c10bb50389', 'nyt://article/40316d75-4573-5cb4-97b5-d6c4968d4fce', 'nyt://article/7d2a7a01-0235-5e55-9393-79ed5a8837a3', 'nyt://article/b3f731f4-35e9-5de2-9ae0-f4856b37045a', 'nyt://article/6d8cd85e-52d7-5ea6-975d-431a232b0dd3', 'nyt://article/81ffb8e3-648a-5fce-8630-4adac4158bc4', 'nyt://article/c2eb44e1-4e49-5cb3-ba8c-1953156a9752', 'nyt://article/4487764e-f7d2-5a32-aa38-fbd96d8e4dd6', 'nyt://article/b35fed90-4f6c-5090-a650-c9b3416cfdb6', 'nyt://article/c96f4245-1467-5b45-b131-fa10275af954', 'nyt://article/c20000bf-0d4e-5023-9e9f-8e65e3d98cef', 'nyt://article/f115bed1-d4ec-51a9-86c5-4d32f76e9350', 'nyt://article/8481a933-d337-5c0e-8855-731556cffe07', 'nyt://article/d0c139cf-6af8-54b2-896b-afebb7e42e31', 'nyt://article/5e20df3c-7e2f-5cf6-9a02-6fa25e9bec2d', 'nyt://article/187f196f-0a88-5ca4-bac0-0d91317117f4', 'nyt://article/743db14f-34bc-5234-8e83-636c558578cc', 'nyt://article/f3ffe4d3-01d7-5464-a725-6f402e4384a8', 'nyt://article/ddb75aa2-e63b-5b37-8701-68701fffb7bb', 'nyt://article/0b235f4a-cd70-5c00-a683-d75f4e99a11c', 'nyt://article/6228d681-5c79-53b9-b6f5-e585b587346b', 'nyt://article/23c63bd2-229f-56a2-afab-5ae8b4c1a152', 'nyt://article/8a8af2da-cb84-5ce8-a9ab-8e395265fea2', 'nyt://article/c2107256-a97e-59ac-b0c6-d58cdc2eb6c8', 'nyt://article/c5a3a331-6d04-585c-b237-505d9fb9f508', 'nyt://article/c93658c8-63ea-562e-896b-a5a3fd1b9ffd', 'nyt://article/78b8c3a3-7029-557d-a8a0-1e2567a4e993', 'nyt://article/7b8fbf6e-0c80-52bd-977b-e38aa98ca567', 'nyt://article/f44d83b1-2253-5fc9-b71e-b66295c7cc8e', 'nyt://article/50938998-f3d4-5d7c-abc6-cc77364aabe0', 'nyt://article/aef01dcc-7440-5174-8f8b-dd5b813e2d43', 'nyt://article/823afdc1-8ade-5e3f-ae80-cb0b929b2c1e']",
         "112",
         null,
         "0.6026365348399246",
         "Asia",
         "NYT",
         "112"
        ],
        [
         "3",
         "Africa",
         "['nyt://article/34e514ce-6ebc-58f1-bf4b-d750eadc447e', 'nyt://video/c28cda1a-5bbc-5b9e-95d3-436104e991e1', 'nyt://article/2099ddef-460b-546e-8cbe-e79f576a45ad', 'nyt://article/9b1d1ec5-5ac4-5f93-8013-335e04ec9de7', 'nyt://article/761bb072-168b-5772-b035-29445430eafb', 'nyt://video/c5aa885c-d3cd-5db8-805c-4b8bdf8fe9b2', 'nyt://article/0edc9a54-8f1d-5153-acdc-c8ae9598b854', 'nyt://article/6e1fb917-1bf0-5d91-accd-97d7cca64cc2', 'nyt://article/03b24e44-d933-5256-ace6-7bedcf5f8c28', 'nyt://article/7564d810-e528-5cd2-b6c9-39811c950316', 'nyt://article/2124da13-72c9-5ec9-a39f-cf25256822d9', 'nyt://article/acd20332-7d58-52b0-af07-1e411c87bd05', 'nyt://article/1d72cbca-622b-5cd7-8153-d8e27af1c606', 'nyt://article/a7aeec8f-6abb-595d-bceb-08e77159f3c0', 'nyt://article/29bd529f-432a-5717-ad45-fe2ff4789bfe', 'nyt://article/96a554d7-a595-551a-a136-e693588841a0', 'nyt://article/f52501cd-277a-5275-865e-0a59491c2f06', 'nyt://article/ac5369ab-9399-5d35-8562-20935e7d7e1c', 'nyt://article/79916a15-0c96-5eb3-88e5-9c174d2bb4a3', 'nyt://article/30ac1edb-2b1f-5a38-a14f-39273ba9cb81', 'nyt://article/1daf3f01-1282-5ee1-b15f-33d4d2ed1c6a', 'nyt://article/86b4c1a2-577f-5d75-af50-c43c385e0d8c', 'nyt://article/b31bf7b8-fd6a-5c88-b518-a92505671024', 'nyt://article/0a1d20a0-9467-5bfd-9919-57ad4aec8fce', 'nyt://article/be7429e1-3754-5ddd-bd35-31bca524e8d0', 'nyt://article/12745a73-8eee-537a-b1c2-d7c566ad0d44', 'nyt://article/a3fd08c1-e5b5-5902-8aef-7c9b324858ec', 'nyt://article/54cf6fad-d579-5d34-ae9b-da8391ac37b0', 'nyt://article/f21af068-082d-5e2c-b775-5a501472a6c2', 'nyt://article/af22806c-5e25-566e-988b-541a5ef200e4', 'nyt://article/08b87991-c3e6-5e54-89eb-f6036de9552e', 'nyt://article/7e380e92-3751-58e9-b5e7-e48a7644fe79', 'nyt://article/e88d421a-f191-582a-83d1-7cf8493b6987', 'nyt://article/bd0dd243-f788-55e5-a3f3-2b77b4708d68', 'nyt://article/4ff0123d-daed-5869-94a7-48c73ddf6491', 'nyt://article/16464684-4c6b-5a60-9440-dac0874f2285', 'nyt://article/c2ae5cf2-31fc-5962-98b0-53d4cd17d520', 'nyt://article/4cef5b08-76f9-5e21-97b5-f827281cf318', 'nyt://article/c09463c7-1e10-51a5-a5a1-a77fb9b369e3', 'nyt://article/2be5703b-af16-5aff-83f5-bea3e04e187b', 'nyt://article/2028ab73-b945-5eaa-85ae-58945f6df85f', 'nyt://article/e0c56701-55d1-56f4-a1aa-ef9972d01ccc', 'nyt://article/af1141d2-d99b-5ede-b14a-1fe44e739a0c', 'nyt://article/b4a2d019-e4a8-5e4d-99a7-17e6db59a176', 'nyt://article/a9962952-192e-5563-9f98-23b0762e03c4', 'nyt://article/3ef47e77-1858-5726-9c78-47609db7c11d', 'nyt://article/36e8adce-7862-5060-a20d-0bde50e726e5', 'nyt://article/a21ec7b3-a1e6-5aae-9498-dcf0f6736877', 'nyt://article/b472a426-1803-590b-ab5d-a81aea32a425', 'nyt://article/3730b3b0-c048-55cb-812c-11e45922ec8f', 'nyt://article/bf77cc3c-2d4c-54d9-8ae9-e8dfce0fb9f9', 'nyt://article/d2477a92-2261-5442-9646-2d8a2f39c689', 'nyt://article/115ae2a3-1305-5cf4-bacf-a292dd0026fb', 'nyt://article/a1e579fc-27a3-546d-b5cd-47ca1b5e9483', 'nyt://article/851273bc-b2f8-5304-a70c-147db8193ca4', 'nyt://article/c5fbdca0-e1f8-53a4-a6c7-33fddc6ea359', 'nyt://article/bcf985cd-fd32-5790-a806-14aec17c69b7', 'nyt://article/f2d8fdc5-e573-553b-90d7-89dac4afd5ee', 'nyt://article/e31e3a66-279f-5a10-8f7b-5292aaeafc62', 'nyt://article/6a7701e1-8497-56c5-941a-b60f7bb87839', 'nyt://article/7da9840c-fd51-5ca4-992c-2aaaa5d16b3e', 'nyt://article/0a00b404-64b6-52fb-af34-c10ec4e5c24d', 'nyt://article/12bb04ae-3579-5e7f-9990-4a2be9ec311b', 'nyt://article/9550ed3b-d19a-5dfb-81b8-fa5b6be9c404', 'nyt://article/a1d911c9-b9f7-58a5-a852-d680b932e0d8', 'nyt://article/61d3e7cc-f050-53e0-b15d-a323d82f05fe', 'nyt://article/0fde90a2-3555-509f-9f1f-26892977d8ac', 'nyt://article/cb4f4363-5bca-5ee4-8681-dd960f371192', 'nyt://article/09ffb689-5efd-5c3a-b678-7c37180810c0', 'nyt://article/baf2cdba-f056-5544-91a2-ef5dc37bad1d', 'nyt://article/4632f1ee-5849-5296-baf0-6d59c6082827', 'nyt://article/963be96d-f29e-5128-8c9d-e66018a92dfe', 'nyt://article/92330159-766f-5471-a44e-5183bf9c0b20', 'nyt://article/bd55f4ba-65f2-543d-9b82-cdd90befdbbd', 'nyt://article/d2c6f481-0408-57f2-a871-e32dcc120554', 'nyt://article/2450e037-f76d-51dc-8e60-9977062a7e0d', 'nyt://video/65648182-015d-5cb4-91d6-7c9b9de8ac19', 'nyt://article/7c00adaf-e22c-58c2-b366-ba96cf84ce87', 'nyt://video/e1613f8c-bf05-5634-b07d-118ebdcb9fc3', 'nyt://article/d41f915b-24b5-50ab-8516-e339cc8cc3ed', 'nyt://article/1ed96e54-e9b0-55a3-9c49-8c8008c7ac5e', 'nyt://article/01fc1fd3-9375-5510-a346-814a67ea5e85', 'nyt://article/1a458b6c-557d-5d53-be61-14baa3c0e148', 'nyt://article/ce946de8-b1a7-58a9-9235-321a9ba0a38d', 'nyt://article/37b141f4-57e3-5d4a-bf4c-56347d70a5ad', 'nyt://article/10d0ab4c-99ab-5790-a1ae-ba8e256bc8d2', 'nyt://article/261dc75b-e9ba-583b-89ab-2976430167a7', 'nyt://article/ebd9cd3a-f412-5583-a3d5-7c4058d8f7b7', 'nyt://article/6450537f-65e2-5229-8553-680e012d7765', 'nyt://article/da198874-4d46-5562-9764-177b80cd0b7b', 'nyt://article/6fadd6f6-536f-538b-8c4e-08f001b3a2ce', 'nyt://article/a574a94c-5c5c-5358-9a91-cd7d6eca9dbe', 'nyt://article/b1e22c6f-12a8-5222-b4a3-97d9684222d3', 'nyt://article/48dcc74b-ff58-5028-8586-713f2bb22b66', 'nyt://article/de5d2cfa-6811-510c-aded-0a3c48c11659', 'nyt://article/b8982717-d348-5f63-a79b-a49d019f3fc7', 'nyt://article/5df94182-64b8-5f64-9cec-1bc3edc769c0', 'nyt://article/2277a789-ee94-54d6-b682-171604883d76', 'nyt://article/0f246c7f-0651-584f-8f4e-7c4d7a26675e', 'nyt://article/d4736f76-795c-5ae1-b47d-6498bf208eb1', 'nyt://interactive/d92bbe07-178e-5c57-a082-9bd9f142344f', 'nyt://article/00280f0b-a8cd-54cf-9d70-adcf0209c281', 'nyt://article/244cb9fb-1377-51ff-8221-63c988ea0b66', 'nyt://article/278615cf-39bc-5967-965d-9db5c5ea3315', 'nyt://article/e7fe4a3e-ef01-5c90-b572-7c22a4e7784a', 'nyt://article/21c8f051-1de8-59cf-9c04-b3a1ac116289', 'nyt://article/8e9c68f9-7b15-536d-a7c7-9b34671ab74b', 'nyt://article/b297deb5-dd36-57e4-b31a-9924d731cf19', 'nyt://article/2b1ac63a-2100-5018-9a89-fd2a7f75a9be', 'nyt://article/99085047-2746-5ccf-b239-fd601fb6ac0c', 'nyt://article/287d15e9-b5bd-5eb3-9d19-a4369c8f705b', 'nyt://article/53f22f58-2801-575f-8668-56a052078ce4', 'nyt://article/b8004aeb-98a5-5078-9924-844a259dd9e8', 'nyt://article/3a4f0a34-3478-5ba1-931f-cc763237ab24', 'nyt://article/741341eb-23bf-5c3a-8fe9-d081f93d4b49', 'nyt://article/f814e44d-c0ea-5658-b338-9952f1f123a1', 'nyt://video/de9700e0-96c6-55de-8b39-64a5831607cf', 'nyt://article/722a8687-4a4a-53d1-8356-d706c5104b93', 'nyt://article/6f98bca6-f886-5b1e-bc0e-60f149f992cf', 'nyt://article/d557840f-e21f-5cd4-92e7-6bb1bcec17e1', 'nyt://article/1af67bb5-b8a4-5149-9e04-1f7ae4d2ffe6', 'nyt://article/869724e4-009f-540e-98ec-5f569c6ad43c', 'nyt://article/a988d12e-2d3e-5812-8e59-4296e40b202f', 'nyt://article/c7b2361f-9a49-55cf-9549-031b1ac2722b', 'nyt://article/f53c045c-2311-55c4-9658-01bb0ae3311e', 'nyt://article/22ae90a5-47fd-571d-8389-0df2021b253f', 'nyt://article/0f142927-e1b8-5e2a-bdef-16baf1605898', 'nyt://article/205db861-2593-5714-beb7-d860aca7a251', 'nyt://article/887c59f5-0b74-52a8-9883-c449ff88fe64', 'nyt://article/cae1375e-ed0c-5637-8ea3-dbbd109743e6', 'nyt://article/4b02bd92-7924-5305-89a2-7ba769c9768f', 'nyt://article/7b8d5bef-f808-53f3-bd94-d305faae069f', 'nyt://article/5fa2ec03-ba22-5aef-a8dc-c6c9696687d2', 'nyt://article/0318503d-be6a-5840-896b-c4fe42835c5a', 'nyt://article/2f41cb12-b6ad-5c03-92a7-33c7b348521c', 'nyt://video/bc445114-120a-5b39-aa31-8b201851882a', 'nyt://article/f0140bc7-842a-55f6-a0b0-2993e7c1dd6f', 'nyt://article/83613aa0-1347-515b-afdc-1e458d87b7c1', 'nyt://interactive/60f082b7-0030-571e-a0a8-9cb88f5ba109', 'nyt://article/68ed5ab0-0f9d-55a4-a800-71b89bbcb28f', 'nyt://article/2b997912-aa85-5027-b47d-75a03dff5e20', 'nyt://article/60598b3b-946a-5b6d-b1b3-6aeab4162e18', 'nyt://article/fca3495d-d370-500f-a63e-170c087a8d4b', 'nyt://article/d8dea8f0-238d-5e4e-9fa0-7849861424c4', 'nyt://article/69a3d453-aed3-50b2-a7d2-4651a47fafdf', 'nyt://article/0508b8ab-69b4-5819-8f48-ceee0d830c89', 'nyt://article/1dfe1dd1-4683-5496-b7d8-ac104d563057', 'nyt://article/e4c8f782-713d-524d-839c-27ac65c932c9', 'nyt://article/c9795436-ab8b-527f-ab17-6181c26b44cf', 'nyt://article/86adb88f-b177-55d5-b0bf-6f9391303ea7', 'nyt://article/95dc143b-84d6-5407-af03-84d244885af5', 'nyt://article/9153fa00-7519-5e57-bc09-1147b87c073a', 'nyt://article/dba9aa49-b2da-56de-84b9-c5e884dcfdb2', 'nyt://article/7c222beb-de75-5309-a5d1-e06d0a1d4693', 'nyt://article/9cb26b2a-a5d9-5020-a0bb-f976031bac22', 'nyt://article/8efa8276-dbb0-55a7-a656-c56a4e4d328d', 'nyt://article/97f96cea-e681-5270-a581-70fe64d84d82', 'nyt://article/047e6843-2d41-5ac8-beba-3d6043aabe0d', 'nyt://article/897a0e53-6076-5a98-bb28-4d7d3df155a4', 'nyt://article/b792e806-eb4a-5489-b55e-3d9ed9f2301a', 'nyt://article/53118789-4397-5531-89b9-9058ba300f0c', 'nyt://article/52534b46-8ecc-5522-8a19-2c3dee24ec73', 'nyt://article/bb0312c2-aa59-50e1-ad3b-86d924cdc54e', 'nyt://article/3bfab5b4-7b6b-5991-84ee-bfff92f65861', 'nyt://article/b1d10a0b-0958-5a2d-932a-575ab2449d7a', 'nyt://article/aba101ee-b370-5aa5-bc83-d9e347daa2de', 'nyt://article/23b21af2-b2fa-5763-8f73-eba2f4d72e55', 'nyt://interactive/f166cb4a-1e58-59f2-b490-63e9242301c5', 'nyt://article/d2bd66b9-b44d-5d97-98c7-b558637439ad', 'nyt://article/ac39261b-cbf2-56bb-8dde-83215f2628b5', 'nyt://article/3d0a2434-05b7-5d96-a800-e28b6bc6b071', 'nyt://article/8212b465-b268-54a3-8280-7d1d8d2071f7', 'nyt://article/5e6ed581-4b25-5b4c-9e8f-c77188dabbd4', 'nyt://article/c86bcf7b-7170-56f9-8404-65c13a813a79', 'nyt://article/22edf542-d819-5470-874b-7bd9e3ebff83', 'nyt://article/605d7f5c-bbec-5059-86a6-7d647a8ce7a5', 'nyt://article/50ccd933-cf6c-5058-a234-33bad9fb138e', 'nyt://article/6af3ed7b-6a79-55ac-bd4c-0cb3b0c33c40', 'nyt://article/6115348c-8c09-5693-9c59-f38ec9b2ac35', 'nyt://article/e00ebadf-3c04-5e16-9dc4-36303c378e41', 'nyt://article/1e6e59ac-8865-5109-931d-6c231cdeef2d', 'nyt://article/e4d46fbb-0e78-5c0f-8bbe-9caa617950e5', 'nyt://article/0012a0ad-54eb-5667-a3c8-15d6b3d9d048', 'nyt://article/1a2b2967-0b41-54eb-b992-75f88cf15b6f', 'nyt://article/63d78256-7141-57e3-a68b-d505a4f59337', 'nyt://article/255c6277-c3eb-5432-a2db-ae1e035a7180', 'nyt://article/b82f9259-712b-5f24-ad19-c7c4641782b8', 'nyt://article/eb3c83f5-72af-5bb5-89d5-e228241da67b', 'nyt://article/b7a2673a-4349-5eb8-b045-68b9d7620453', 'nyt://article/c5ff5497-b897-51d8-ac73-b2801f7f720e', 'nyt://article/822ce6d1-8d2b-51cd-82ca-0ae32407ebfc', 'nyt://article/74d484af-79a5-5b2c-8f07-5b8f014a4bf2', 'nyt://article/d6ece1a0-2740-5d9c-9d59-3971403b7d59', 'nyt://article/1833a84a-13c9-5d3e-ac8d-e7d75a7c0288', 'nyt://article/95dff9e4-43b7-5011-92b4-a66c8aff11f3', 'nyt://article/db8b488a-2f94-5303-8491-9f263f4a14fa', 'nyt://interactive/ae33a77a-7002-542b-af09-9fb0ece51b01', 'nyt://article/9a33ea27-7e9d-5388-a129-da9eaf830392', 'nyt://article/8d866937-2318-51bf-869a-456be1f2a7b2', 'nyt://article/db9bd694-eeef-5b7c-90d2-339096f5e59d', 'nyt://article/67c33467-d217-58ea-957f-08a6fac7a4a8']",
         "201",
         null,
         "1.0815173527037933",
         "Africa",
         "NYT",
         "201"
        ],
        [
         "4",
         "Albania",
         "['nyt://article/59eb4293-7d0a-558f-9c26-d85c3fb5741f', 'nyt://article/ad09c31e-d0a6-5487-83f3-eb9972ed073c', 'nyt://article/10fad6f0-3d46-58ea-993f-e72f0a7b493b', 'nyt://article/bcf2baf9-10e4-5340-a5b4-bb14266e6a27', 'nyt://article/92b0cac1-e2be-5a3e-ae7c-551df5ec6b11', 'nyt://article/44fa3867-f97c-51a3-ab48-0e8d7efdbb1e', 'nyt://article/0e2bda09-65d0-5c76-905a-160755803905', 'nyt://article/380a2ab1-a034-554f-946a-b25fa746ae03', 'nyt://article/15f3afe3-9972-586e-aa7c-0175ec333618', 'nyt://article/be52e475-dfa4-5634-bdd5-fdf4d2b69be0', 'nyt://article/136bb0d6-4b71-5206-9689-0e34310b709c', 'nyt://article/17de74c5-18b4-586e-bdb3-82a369a8a50a', 'nyt://article/62ed20dd-1ca5-5814-9953-fc0d5c3827dd', 'nyt://article/13c9d470-bca8-59f9-925b-072292e2352b', 'nyt://article/ad206b8a-4281-589f-91ba-f9849978c204', 'nyt://article/322fa31f-8102-5b87-bdc3-3aa680267f56', 'nyt://article/c4a5807c-1cd3-513f-9ef4-22ca540137a3', 'nyt://article/5f3da01e-323c-5b51-a9b4-1e366ca4387d', 'nyt://article/b7e0a501-2edf-5023-80fc-142759f72de0', 'nyt://article/e1e3b6ef-92cf-5a74-81db-c0110676dfd4', 'nyt://article/2c538877-45d0-5a80-872a-728972f0c999', 'nyt://article/fd3c8744-b72a-56d0-b29c-ef4f292d731c', 'nyt://article/68d601c6-5e2e-5646-8c14-c73d2ef5085c']",
         "23",
         null,
         "0.12375571697605596",
         "Europe",
         "NYT",
         "23"
        ],
        [
         "5",
         "Algeria",
         "['nyt://article/c3adb564-f24a-5f00-b6dc-8d8160eb644c', 'nyt://article/2f548189-1651-568e-9dd7-e7f9a68731b3', 'nyt://article/1cd65247-4ab7-5565-bb58-74689c599ac7', 'nyt://article/8b749158-551b-5a43-8209-e683c4490bae', 'nyt://article/864ec09c-19e1-5bd8-ad8e-8757a337cda9', 'nyt://article/fed7e561-15dc-5cb7-870e-895125df9acf', 'nyt://article/10d2b94d-28ba-56d0-8d03-525b1906293b', 'nyt://article/0703cf95-a591-5dad-83cb-51d9aa7f3e49', 'nyt://article/28152675-18ca-5058-9e7a-0051f44f9b50', 'nyt://article/b9c4ebce-a56a-58f3-bdb9-62179c7029b4', 'nyt://article/7d1db0bd-0a23-5438-b13f-4766a97fb06b', 'nyt://article/ee4e0fa8-7f1e-52e0-823a-a95c4ecc15fe']",
         "12",
         null,
         "0.06456820016142051",
         "Africa",
         "NYT",
         "12"
        ],
        [
         "6",
         "Andorra",
         "['nyt://article/104610fd-aef6-5226-b256-3201d6648881']",
         "1",
         null,
         "0.005380683346785042",
         "Europe",
         "NYT",
         "1"
        ],
        [
         "7",
         "Angola",
         "['nyt://article/2277a789-ee94-54d6-b682-171604883d76', 'nyt://article/37b141f4-57e3-5d4a-bf4c-56347d70a5ad', 'nyt://article/4b02bd92-7924-5305-89a2-7ba769c9768f', 'nyt://article/2e185f07-5b16-56ff-995b-212c0018e589', 'nyt://article/74d484af-79a5-5b2c-8f07-5b8f014a4bf2', 'nyt://article/ac5369ab-9399-5d35-8562-20935e7d7e1c', 'nyt://article/d96e87c8-50e5-5a24-b29b-272a018d723b', 'nyt://interactive/6567bdfd-4b48-571d-b37c-5369d5680e89', 'nyt://article/b31bf7b8-fd6a-5c88-b518-a92505671024', 'nyt://article/03b24e44-d933-5256-ace6-7bedcf5f8c28']",
         "10",
         null,
         "0.053806833467850416",
         "Africa",
         "NYT",
         "10"
        ],
        [
         "8",
         "Anguilla",
         "['nyt://article/f6c99838-b3b5-5508-a14a-357cb7c42d92']",
         "1",
         null,
         "0.005380683346785042",
         "North America",
         "NYT",
         "1"
        ],
        [
         "9",
         "Antarctica",
         "['nyt://article/02075533-208f-52c4-8fac-8b4a3b09a237']",
         "1",
         null,
         "0.005380683346785042",
         "Antarctica",
         "NYT",
         "1"
        ],
        [
         "10",
         "Antigua and Barbuda",
         "['nyt://article/6a5b8a2f-2334-5ece-b7c9-4aba23462f23', 'nyt://article/3cf30e2e-4bf3-5f1f-af6f-aa9773efe580', 'nyt://article/1bcbc81c-4440-5851-b8aa-b7d319dc6a54']",
         "3",
         null,
         "0.016142050040355127",
         "North America",
         "NYT",
         "3"
        ],
        [
         "11",
         "Argentina",
         "['nyt://article/ee8af267-4b52-5681-b399-3266c2644d96', 'nyt://article/a99dfc90-8ec9-5ef3-9dbe-bc857998e1e2', 'nyt://article/cfc01a13-3a0f-5cbe-b7fb-8a0a75aa2e7b', 'nyt://article/6dfa8a78-2369-5d1a-b7e4-d43a8dea481f', 'nyt://article/3818d5f4-005b-5616-afe6-9b8db158f09f', 'nyt://article/4c187095-1104-5fdf-bbc3-a910372322ad', 'nyt://article/90e7e151-69bb-5749-a07f-d18f9ccbe36c', 'nyt://article/2b710b52-6468-50b0-ac03-c9fcb13b5372', 'nyt://article/69514fbf-ab92-55f8-97f2-31ef290b1d76', 'nyt://article/221939ef-96f8-51ee-9c87-65d2d5981c3c', 'nyt://article/96b9d1b8-d204-54e7-aa48-0ec82ac35904', 'nyt://article/00e0f356-2373-5e9b-bb2b-81a6336637c9', 'nyt://article/a68be4e5-8037-5573-a0c1-5190126401d1', 'nyt://article/475ea9ff-e236-58bd-bfdc-49dfaae0d831', 'nyt://video/305af542-d1ec-591e-a15d-efe50ac80e9c', 'nyt://article/f13f2793-c067-551c-bf53-9cdeac32662c', 'nyt://article/4df073f4-1596-5562-aa78-07ec712dc7be', 'nyt://article/34782eaa-d21b-5d6b-a93a-89c01bb9eeb7', 'nyt://article/5a9a074c-cc81-50ec-9f0b-1db2d8fb80f3', 'nyt://article/e4134b26-a1be-5f8b-9d47-eae4a67a23ef', 'nyt://article/287d15e9-b5bd-5eb3-9d19-a4369c8f705b', 'nyt://article/5d1a570a-0696-5b4f-be60-f69d52a1d879', 'nyt://article/f0b09808-e907-54bd-a1c2-bac77b4251fd', 'nyt://article/7e9536c8-c196-579e-89b4-17bb11f1a6b9', 'nyt://article/aad53d3e-9be5-535d-bf3a-2bf6928ebb12', 'nyt://article/3aaeb7b3-1a33-5168-97b1-1ca24cf1f118', 'nyt://article/1d2d3229-b186-5df5-b756-7e500c6668d8', 'nyt://article/1ea6bcf2-2f27-5f75-aa3b-fd4046b44675', 'nyt://article/dcdfc485-364a-5a09-bb3d-79f645a6f129', 'nyt://article/69e295b2-d237-51ba-b0a1-58b4daa6d998', 'nyt://article/3d67c170-96cb-54cc-8b42-7845902fdfcb', 'nyt://article/267c0ec5-75a2-57fb-89df-4fd23864c464', 'nyt://article/c5f16ceb-bd2b-5cec-9bf3-0ed54688258b', 'nyt://article/f7937c5e-ddc5-5654-b164-b46dd6cdd82a', 'nyt://article/19ee29b3-921a-5d83-9361-2fc4962d1519', 'nyt://article/75a864c5-04f2-59ce-95ff-4615065d9c00', 'nyt://article/31999821-d491-5371-beda-da668f7f26ac', 'nyt://article/8664a8ae-73f3-5801-b213-67cd8c9cb20d', 'nyt://article/4c6f979d-2a8f-59ad-9b08-36dca4221207', 'nyt://article/2ee149a0-7bcf-5125-9d4d-8832a20740ae']",
         "40",
         null,
         "0.21522733387140167",
         "South America",
         "NYT",
         "40"
        ],
        [
         "12",
         "Armenia",
         "['nyt://article/75a6b57d-c8f0-5902-bc26-bdc47ffe65de', 'nyt://article/f9386ae2-3ae0-5baf-8064-919dfdbc9e8c', 'nyt://article/aa53562a-37eb-5ead-8519-ca910628a9e2', 'nyt://article/cea90935-2c07-55f1-81af-32de2c80925c', 'nyt://article/2c4fcfe0-4152-5915-8da9-ff3f6df3f13d', 'nyt://article/cdd5b359-8961-52ac-86d2-4d9c675b224d', 'nyt://article/6d2cecfc-ce5c-52c4-af05-39822d596bf6']",
         "7",
         null,
         "0.03766478342749529",
         "Asia",
         "NYT",
         "7"
        ],
        [
         "13",
         "Atlantic Ocean",
         "['nyt://article/a5136a92-6afb-5432-9f93-625e9256e94e', 'nyt://article/60a7823f-7d4d-530e-99de-67654a4af404', 'nyt://article/97b4dda5-70c8-5b3f-9742-d4822f210754', 'nyt://interactive/eaf9bafe-7188-5b9b-975f-2985d7da6e59', 'nyt://article/5b4cdeca-c115-510c-8498-c0d6735aa41c', 'nyt://interactive/7db7a662-415a-5f69-818a-b54b2c71472a', 'nyt://article/09ffb689-5efd-5c3a-b678-7c37180810c0', 'nyt://article/b07cf9ea-5a9d-5caf-bc0d-b9a99918595b', 'nyt://article/c0f3bb31-eef6-502b-99e3-ab60aad7cae7', 'nyt://article/caf98741-73b7-5dc0-bfc0-9314490fb22e', 'nyt://article/c11ec4a5-7b2b-5667-aa68-10804f13ae49', 'nyt://article/225bee71-36c6-5d17-95dd-3cc8e6b2f58c', 'nyt://article/ad3e787a-754c-51ca-b606-132d5b1f3f3b', 'nyt://article/770e4237-53f9-5491-860d-80a977088d50', 'nyt://article/4f888723-08c3-5ea1-bff0-f75243b8498e', 'nyt://article/dcad3d9b-255f-521a-8294-b44b93009dcd', 'nyt://article/3f1e157d-c5c6-5b73-a440-21b65b99e965', 'nyt://article/a2d72927-aee9-54dd-a735-542ea8cab7f8', 'nyt://article/cc5697ec-c716-5058-a6c0-2562d2723803', 'nyt://interactive/96205d10-5673-56ef-8222-d191e2d73b12', 'nyt://article/cae1375e-ed0c-5637-8ea3-dbbd109743e6', 'nyt://article/3fe933dc-e648-5e5a-8a53-5efaecec3d72', 'nyt://article/eb2a66c2-06ae-5eb6-a95e-5d0fc7512407', 'nyt://article/4ec54862-bb61-5eb6-ad1e-6087ad8084ed', 'nyt://article/263d8349-38f5-584c-b13b-935d0c778739']",
         "25",
         null,
         "0.13451708366962603",
         "Other",
         "NYT",
         "25"
        ],
        [
         "14",
         "Australia",
         "['nyt://article/3563f56a-3056-5a0c-b474-d2d5a4247922', 'nyt://article/fe23ea72-9efd-524e-b770-f46c19d981d6', 'nyt://article/b76d0575-7b3d-5155-9c41-c65d6cdafab8', 'nyt://article/c6089f4b-2fe1-5cbd-97af-e2c324678c24', 'nyt://article/b2083fb9-94b4-58ad-916c-cf7cdcf18bf9', 'nyt://article/652b98b4-01b8-5cb5-bc03-1a8da6738669', 'nyt://article/3f66c66d-cd58-5515-a4ae-e80817e63c9a', 'nyt://article/425a7f86-da47-573f-ae63-0850cee54ec5', 'nyt://article/dd20d078-bad0-5148-889d-06ad5fdc979b', 'nyt://article/061eb34d-2e8a-5ad1-9454-9231d1d6b2d4', 'nyt://article/98dfd0f6-afd3-565a-938a-4c8b0208c5c7', 'nyt://article/47bc3e9f-e57d-560e-995e-893893097634', 'nyt://article/2e05dd10-7579-5ceb-8bcc-45e7e7094db9', 'nyt://article/71b11108-74c6-5e72-b470-64ff9076e574', 'nyt://article/d8dcf526-b866-51eb-954c-95fdd3249d69', 'nyt://article/cad8a90e-a713-50c0-a3c4-8075e01a3b82', 'nyt://interactive/67ced5f2-a79a-5c20-8325-f7b481a10ba7', 'nyt://article/554d6170-13ae-5f28-9875-43dcc5dd7845', 'nyt://article/b91b1dce-323e-5224-811f-d2dd834e15ed', 'nyt://article/8ceeb74c-0110-5697-af59-7e47b2a6ba75', 'nyt://article/7bcbb47d-31ac-590d-ad28-b819e0b0008f', 'nyt://article/67f32b08-b2ab-5a8d-adf9-e7bcc43d60d5', 'nyt://article/af22806c-5e25-566e-988b-541a5ef200e4', 'nyt://article/3217200c-c746-5c3d-ba58-e37ed88100ad', 'nyt://article/c46de21f-3a35-58d1-afff-a67502db7d8c', 'nyt://article/32d145d4-6e55-5944-9838-2d316ca98d7e', 'nyt://article/3ff5d1bc-c26d-565d-94dd-bc6bfe1d7008', 'nyt://article/06c9f0f8-3aaf-5548-a738-28948eca6167', 'nyt://article/9f3c17ce-c610-508a-bc43-920f5d3848ea', 'nyt://article/00603561-a0a0-5bab-a43c-3f17d2192e27', 'nyt://article/06e7db61-c677-576d-8135-71e878ae3a5d', 'nyt://article/0bd12f62-b720-54c1-af64-9117ac29ccc3', 'nyt://article/6251e76b-f6d7-5165-be3a-a5cff3d96a92', 'nyt://article/16c2aa96-8e3c-5d2b-881c-deb8234d7c97', 'nyt://article/2215bf79-c1d4-5a56-b215-e2716de6d6c8', 'nyt://article/b9c20559-ae99-57a6-bf69-c6be68c332f3', 'nyt://article/36ee0edb-21e9-56c9-bb84-09c4415a4516', 'nyt://article/cef0e70b-c58e-5305-ad95-b70eef7d5bb0', 'nyt://article/e26c4181-09e4-5d1c-a561-231cc8093242', 'nyt://article/dfb763d9-6c6a-56b7-884d-c11c0ae498f5', 'nyt://article/9688220d-01bc-50fc-8f86-407d713579cf', 'nyt://interactive/6567bdfd-4b48-571d-b37c-5369d5680e89', 'nyt://article/676a190a-3d84-55e6-a811-46830fd713ca', 'nyt://article/49132651-85b6-5964-bb47-4c9885b4946c', 'nyt://article/720399f2-c1ec-5608-9963-cfaa03abd183', 'nyt://article/a2204e08-ca5f-56a6-8ea0-00ca67b4119e', 'nyt://article/0855a4d1-fe51-5619-83a2-266910bd6b66', 'nyt://article/eb0f1578-0dd7-5251-b08e-54ae3e7f1665', 'nyt://article/cff5a46a-595c-577e-bd69-553d6c3c9b68', 'nyt://article/b5f5cc46-54cd-5d00-852f-84232961c7b7', 'nyt://article/4351b3ff-a09e-533a-8e8a-20bf9313fad4', 'nyt://article/706d7ff9-3245-5bfb-88b3-7182f1e33f24', 'nyt://article/6c12a257-a682-59b1-9b23-24f0e7c044e9', 'nyt://article/2bb0b4f7-43a5-58be-a7dc-12423583607f', 'nyt://article/4329a608-2816-5cc2-847c-f5c7aa77154e', 'nyt://article/e5471980-ba2f-5f95-82e7-937c6df7600e', 'nyt://video/621c2d01-fcd9-5a73-8670-4fa5700b863a', 'nyt://interactive/592ac49c-845b-5dac-b58f-1188544ba8ef', 'nyt://article/5b45e5c1-31bc-5efe-8c6a-5e88a1746d88', 'nyt://article/bc4f3742-1a90-5f2d-97b8-82bf0a12aa73', 'nyt://article/9f91c450-328a-59be-be41-570acf122f54', 'nyt://article/eecc4f8b-8945-5550-b10c-5d399b52881b', 'nyt://article/2d0acbc4-907a-5c30-ae8b-46f4f91b8eee', 'nyt://article/2b44b26f-8d1b-5505-a9bf-69222111d126', 'nyt://article/e006afd4-6c29-5f00-b2d4-0ab900d70971', 'nyt://article/d398c491-8159-59db-9acf-c6e0e56452ca', 'nyt://article/42f9e59f-4cae-568a-8c53-f7af86c5a0e8', 'nyt://article/51f500b8-a1cf-54eb-8475-f0e432a25fee', 'nyt://article/cf9cc005-019f-5295-94f3-3434428a34e4', 'nyt://article/099e95b8-18fb-5cb6-9786-5648012b3e9f', 'nyt://article/7f9ad818-d7c8-5a56-9971-7a06b75dbfef', 'nyt://article/10b68136-7d20-5392-bac8-0a29cbb85c8d', 'nyt://article/a96c6023-96cf-5717-8d45-e5cc280e6d2f', 'nyt://article/5948bf75-d080-593d-81a2-139d05ff4c88', 'nyt://article/49a28e7d-8629-5fad-90ee-402b4c3cab8c', 'nyt://article/8a91af8a-f287-51dd-be98-33ea7e295bb5', 'nyt://article/debe2484-03f5-5cbf-a1ac-6056e50e5948', 'nyt://article/3d580611-6876-523b-96b6-bbe7ce334fae', 'nyt://article/88840da1-c29d-56af-b5f6-62d8ec78b420', 'nyt://article/ffa79e3b-c55b-5fde-82fb-4ff03950be92', 'nyt://video/bdaac810-5220-5ee4-81d8-8026e77fed50', 'nyt://article/118d7f4e-fe02-529b-9b92-f5dcb79ffd8d', 'nyt://article/b3127485-6e94-5ec5-8e22-8f22497d131b', 'nyt://article/1157b69e-7313-5ec9-bae3-ddda52e6d3ed', 'nyt://article/3f49b19e-4f33-5e73-b680-102580073eaf', 'nyt://article/0cd7fcd9-8dc1-503a-a47b-fc7218af6fc5', 'nyt://article/6dbdb063-b109-519d-b8c3-1e3eb738b2c2', 'nyt://article/1d5a61ce-b39d-54e7-90e2-561418801840', 'nyt://article/8e005a41-73c4-5e0f-a9f9-a130c967b0b2', 'nyt://article/d6f8bd48-893f-5a5b-afa6-d034baa3c4ef', 'nyt://article/6a251768-d7cd-5d42-b3b9-fd6314f11f82', 'nyt://article/7ba22bd7-f3b7-5cda-989e-9229fc9e995d', 'nyt://article/bce3ca60-af67-52bd-a7ef-48827ff604db', 'nyt://article/fc948308-79e0-54f2-b519-7a586596cfc8', 'nyt://article/607b251e-2a94-5a47-b201-4775af12519d', 'nyt://article/e5b3ead7-33f0-52b2-aae7-44ae0d9f51f3', 'nyt://article/47c01780-bf2c-58bf-878b-5dbf02c70664', 'nyt://article/b5ae1e7d-b013-5938-9f49-dd53b2e0f5aa', 'nyt://article/608ddbb7-37de-56a4-9d69-f040a32319f9', 'nyt://article/17ea0afa-d3ea-55a2-85a8-8799db99297f', 'nyt://article/474be2fe-a5d4-5308-bbbf-c34cfc596252', 'nyt://article/2a67f414-d79f-575d-b6d6-864778e9b09b', 'nyt://article/73af21ea-3c4b-58b3-9ebc-a4b0ee887f41', 'nyt://article/60d90eec-2fbe-59a2-b893-decc14f2a739', 'nyt://article/c6be1920-767e-52bf-a64a-b58093e0ddee', 'nyt://article/0e578382-17ca-55b5-ab06-f61b9142aa97', 'nyt://article/0160c299-c582-5ed6-b89d-36b1ceff4ff1', 'nyt://article/68a8cded-9ea6-5dce-be58-9148037275d1', 'nyt://article/a77b5684-71b4-5d71-acb0-b19bfb9730b5', 'nyt://article/39db45b5-6f87-5dee-9d1c-817323abd158', 'nyt://article/e430b01c-f32e-5382-bf19-e0df4e7ee669', 'nyt://article/ec9f5472-3ebd-50bb-a58b-57b0d0aff90a', 'nyt://video/359ed06d-e7da-5737-a242-9d6ce247f411', 'nyt://article/d7a1f468-2b98-5872-a037-714ecdfa250c', 'nyt://article/2f13368a-d180-5465-877f-375210a7aae7', 'nyt://article/b7006bda-96bf-5b9a-a9fc-4bb7a8e250f9', 'nyt://article/538158af-eb06-5ac9-ad44-252e3d8c8c70', 'nyt://article/9a728ca5-b4bb-5b60-be45-053646dcdb10', 'nyt://article/ffb67ff8-6919-565f-934d-5ffb8e6ae707', 'nyt://article/428a36ff-3d0c-5b52-b36b-8b1579756c9c', 'nyt://article/493c5943-03b7-5b66-b5b3-ac40b21a4fa5', 'nyt://article/d5c231d7-9185-5351-b6ec-9b70dd39a9a1', 'nyt://article/e82db1e6-3dbb-5127-bfb2-58b786a0cfde', 'nyt://article/27d79a98-34d2-5ad6-b3e1-4bc2831e105d', 'nyt://article/8cee40e9-c89a-5d5f-bacf-cfaaad424501', 'nyt://article/16bce510-5444-5bc3-81a8-0ffc2da4b735', 'nyt://article/2b3e0c2c-ccc8-5390-baa2-1c2256bd7504', 'nyt://article/8953986f-8715-5bc9-916f-21ff2bf12b78', 'nyt://article/006014ee-ae56-57f6-9fa6-d9b8bc7b6a39', 'nyt://article/4336fc5e-b8e2-5566-977b-a86ef2fab052', 'nyt://article/bbbe8d7b-b00d-5365-b841-c8a8389654e0', 'nyt://article/9abf3e81-2ab2-57e7-bcbb-8c620efc57db', 'nyt://article/0aeeff1c-c7e8-5bd8-ae39-49e9db19afd7', 'nyt://article/8318e157-1ecc-55cf-936b-7a456604575b', 'nyt://article/8a3f7f3b-d31e-52d7-9fda-ec0650944448', 'nyt://article/fb47e6aa-08ac-577c-8a01-12492887fb64', 'nyt://article/b51b7af6-a131-5f00-ad12-ed465377374c', 'nyt://article/dfc344db-f96b-5342-96c0-18afc3f8af86', 'nyt://article/250a7f52-542f-59f3-9b19-fcadf011716c', 'nyt://article/023e6842-0a67-50c5-a9fb-d6c6daa49b56', 'nyt://article/1b0e35dd-eef5-53a9-bc04-a22d6b53ca16', 'nyt://article/c53c9271-b07d-565c-9223-5ae808535c9d', 'nyt://article/722bf5dc-b37e-5c0b-bd0d-d7d281dd6e89', 'nyt://article/c85916ae-496f-5a54-8f09-f151d3bd342f', 'nyt://article/a9ac8ef0-cf48-5585-a00b-8bbf7fa4e708', 'nyt://article/e7116934-5e86-5988-b768-679684affdec', 'nyt://article/e5425a94-61df-57c0-9196-277af1de1d3e', 'nyt://article/c483068a-3157-54eb-acb0-366f23bb78d7', 'nyt://article/687b6d9d-5528-5fb7-ada8-9ab44ef6be68', 'nyt://article/1b7eee19-0e72-573a-a482-860d6d3939d8', 'nyt://article/58bbfd2e-c709-5151-b0cf-0c4c5a2d7bd2', 'nyt://article/600d6b67-e4e8-5d60-846f-78bb05d7ee00', 'nyt://article/1ddbad3b-de6a-528d-9112-b5b2f5e7455e', 'nyt://article/7589117b-71de-553b-b661-9d73f08ae91d', 'nyt://article/61efa0ef-43d3-54ae-8387-66d17e19b8bd', 'nyt://article/0479c98b-f429-5c45-9482-ba056384e378', 'nyt://article/cbf64f15-de9a-5064-bd0b-b6144147c426', 'nyt://article/01df8223-4f04-525e-b8a3-78436d1fc483', 'nyt://article/e7fb592a-8bd3-5616-a186-51a4c61cdcd8', 'nyt://article/63f1260c-5fbf-5289-80e5-5044d958abf5', 'nyt://article/f9e370bb-d78c-5b2a-9f7f-dcc693309e3c', 'nyt://article/5dd8d0c4-deca-59d3-a5e5-0b8ad861ac41', 'nyt://video/d8b508c0-4274-5602-9f7a-0eef478cd90d', 'nyt://article/06dd8692-c554-54b9-9617-79dc1b0c2294', 'nyt://article/34f1b048-9437-54b5-9f62-e4f4174902c7', 'nyt://article/a24352c5-2916-5877-9c38-7b4b58d1909f', 'nyt://article/943d5f12-ce5f-5d0b-a103-684e46194abb', 'nyt://article/5e419777-a56f-5cb1-bee0-f14b8f83c13f', 'nyt://article/b86436f2-910e-5322-91fe-dda663ec7632', 'nyt://article/7740d88e-2bbb-5b60-8ad4-d83e942ceae9', 'nyt://article/c0feb0c9-7c34-5a17-8051-486f89a9dc9d', 'nyt://article/f4fc51c5-eec5-5b89-bba6-278ca712452e', 'nyt://article/b3dda245-86f2-5cbc-973a-45e4288c99f3', 'nyt://article/aedf4e44-a24e-5a35-b52d-f985c3586596', 'nyt://article/2dd8464a-9b63-50ff-afaf-9795b1a91694', 'nyt://article/e18f7c69-da2f-5161-9415-bd1c183151b8', 'nyt://article/351acaec-0e7b-5362-b7e4-c1fdeabc7014', 'nyt://article/5fc83e76-d158-5d8d-9669-87b0a57464fb', 'nyt://article/610ef9c7-708b-59f0-b8a4-80f335639f93', 'nyt://article/604079b3-73ea-5c91-b1e7-2209015a286f', 'nyt://article/4b594950-5710-5481-8a9f-97a3c8379add', 'nyt://article/505e16c1-d8f9-56df-b76e-9cd68a7ab33d', 'nyt://article/0e878c95-5a0c-5039-bfe9-c330dc353a6f', 'nyt://article/774ebdf6-f169-52e6-88a9-900e7a14d394', 'nyt://article/017d6bcd-8331-53b6-8e9a-3a8b8dd00270', 'nyt://article/b2b37b59-ed75-53c5-92cb-6577f841e0f6', 'nyt://article/7d8a58d8-3012-5f27-b5c0-ea3ae97e575c', 'nyt://article/e0284004-ca69-5ffd-ba0c-06dc4d532f73', 'nyt://article/010ebe23-59ec-5c1b-8311-d3e7a8f0edae', 'nyt://article/3c790392-f090-58f4-8709-d792f161cbed', 'nyt://article/3cfa128b-7fea-5e24-b805-0a30bc411c6a', 'nyt://article/398f03de-dc59-5101-bce0-04b2275b68cc', 'nyt://article/843117b3-f38a-5831-a8e3-7b86d7733b6d']",
         "193",
         null,
         "1.038471885929513",
         "Oceania",
         "NYT",
         "193"
        ],
        [
         "15",
         "Austria",
         "['nyt://article/670a186b-c06b-58f0-a238-c411d99059f6', 'nyt://article/a9945d58-6d62-5889-b609-c487bfd5069c', 'nyt://article/6a5bbb3e-eac4-51fd-8ff7-cf9c18c99aaa', 'nyt://article/0659b583-2941-5ea5-a00b-b6121b5c83f1', 'nyt://article/c20000bf-0d4e-5023-9e9f-8e65e3d98cef', 'nyt://article/ce1cddcf-3d19-59c7-acc8-a522d1fdc119', 'nyt://article/07f9b643-eef6-550f-b25a-4312a5c2f68d', 'nyt://article/4062fb42-d47c-5de1-a685-f0ff645c28b8', 'nyt://video/ba0d555f-09e9-547c-bfec-3cebce70cf3a', 'nyt://article/9338e337-f8bd-57fd-9f99-a4b5d3e00490', 'nyt://video/64329d3e-7457-522b-b616-7a45df9583e3', 'nyt://article/f346f96a-8d34-53c4-88b4-f2e41179af65', 'nyt://article/535cae89-dd25-5958-8c27-9d3940128215', 'nyt://article/da49e385-de04-547e-a135-b96456b2f2ee', 'nyt://article/9119b453-c943-54ab-8cb1-157add50b82b', 'nyt://article/82e888a7-65f9-56bf-8b75-93affdd15a27', 'nyt://article/de545c26-765c-50f1-9ee4-cdbb26c758c1', 'nyt://article/3f434785-de8e-5103-bfd0-3aa326b95b3a', 'nyt://article/b6a4d362-fd4b-550e-a10c-3fdaff9393eb', 'nyt://article/9f7588ca-4f94-5a9f-9c31-ffc7bff7bd74', 'nyt://article/109a7c51-3991-5a42-bfb3-753b12683cbe', 'nyt://interactive/81213565-7304-5188-bd4c-be87a1d2b554', 'nyt://article/7dd19b59-156c-5583-bd77-764448662a9c', 'nyt://article/edc7fb55-4d27-5863-9ccd-0403d16b0651', 'nyt://article/80fb2c87-6c72-5bbc-b050-89225dfcb929', 'nyt://article/2982e829-2cc6-5d1a-89aa-0dc4f495bd0b', 'nyt://article/a0b57494-0710-50f3-9c8a-dec7c3c19938', 'nyt://article/45fc1283-ccb4-5b3d-8498-664d6424d7ca', 'nyt://article/4336fc5e-b8e2-5566-977b-a86ef2fab052', 'nyt://article/bbbe8d7b-b00d-5365-b841-c8a8389654e0', 'nyt://article/7c902ee6-e04f-5302-8340-097035a8ca57', 'nyt://article/38ce97ea-cd09-5520-9753-e23f6a4fb62e', 'nyt://article/6eae42d5-f0cb-5dff-83ed-b762bab8194f', 'nyt://article/3d1badc3-b35a-5d07-a6d5-8a12d1704463', 'nyt://article/6569ee78-27af-5059-beac-731d96175409', 'nyt://article/2d49cc50-dce5-5506-8cd6-c10810138ffa', 'nyt://article/769e4249-b283-5fb3-a493-7341db70f0cc', 'nyt://article/bbfae0d6-4d3e-5b9b-b914-041d2cbbf485', 'nyt://article/f5f06545-8890-5a08-8b68-6013f50287fe', 'nyt://article/bbfe3f9f-71b5-5866-ae83-ff98e3eb8ed8', 'nyt://article/612c3665-1ac8-5314-b669-40c06b40e7c6', 'nyt://article/739f8cc6-dc23-572c-8891-33dc65a9a6c0', 'nyt://article/d9d748ee-8391-5b7b-866e-77903b2762e8', 'nyt://article/4651a01e-c9e5-5f1e-964d-f713f267a818', 'nyt://article/489d15d6-0318-5528-a1e8-2dd8cdb2f5d2', 'nyt://article/6825921e-2366-5d36-8888-7039f99c7a5a', 'nyt://interactive/0770ec0d-4b73-5fe3-9f9d-e453a724e45d', 'nyt://article/9214308c-0dc9-530d-b672-42164d3e05c7', 'nyt://article/1e7d04dc-c6e6-5da1-a83b-3074b0a4f9da', 'nyt://article/5c93f3d5-8d8f-580b-951e-bc354a275aaf', 'nyt://article/d0d0c232-0ae1-5d3e-b897-ae648a271c17']",
         "51",
         null,
         "0.27441485068603716",
         "Europe",
         "NYT",
         "51"
        ],
        [
         "16",
         "Azerbaijan",
         "['nyt://article/1fac1725-38bf-566d-8337-65c0706ad4a4', 'nyt://article/75a6b57d-c8f0-5902-bc26-bdc47ffe65de', 'nyt://article/bea61699-24f2-5265-a22f-9076f851ca5a', 'nyt://article/02a1c5f2-d20c-5376-a04b-46ba64bc0b52', 'nyt://article/2ae1c323-fd56-5a8f-9436-c490aab9e213', 'nyt://article/79fe9ff5-ef5e-589d-913c-8be4b5e4bcc2', 'nyt://article/a20b75ce-1caf-5292-9f23-2c0179843348', 'nyt://article/d97b0f8a-fed7-5478-933a-fa3964997570', 'nyt://article/15b999e8-4ec7-5c3a-b383-38d4882eb462', 'nyt://article/39af62ad-0e32-5ba2-8d59-b545735c0d7b', 'nyt://interactive/63331587-3ed3-55c1-8475-7612b1f63f8a', 'nyt://article/2bd94bf5-a815-5d9c-a58b-7dcedaa97026', 'nyt://article/2c4fcfe0-4152-5915-8da9-ff3f6df3f13d', 'nyt://article/9d488c1f-3d6f-5fbe-8307-2a18cefc53f9', 'nyt://article/2c3b6715-4f1e-5613-b5a7-cdede0a6995c', 'nyt://article/5f9b06a3-91f8-5f84-bfe0-f0afdd7a0471', 'nyt://article/36c648dd-92ae-5811-b8d7-e174adbac1b2', 'nyt://article/7c990f69-0455-5658-8374-07565c77ca27', 'nyt://article/4c1ef574-dc8a-5c14-83e4-746375e43e14', 'nyt://article/bdfdc886-d7a1-568f-af0b-5b0dc316b89f', 'nyt://article/aa53562a-37eb-5ead-8519-ca910628a9e2', 'nyt://article/0d118bb0-9370-5c0f-9c92-1e0588cb955d', 'nyt://article/181e8c57-77f4-5633-8052-035dd125bd36', 'nyt://article/6d2cecfc-ce5c-52c4-af05-39822d596bf6', 'nyt://article/6f1c8fab-c5ed-5aaa-9191-a0552e7cd2a9', 'nyt://article/a008167d-fddd-5f78-a94f-a5c20c40e7e5', 'nyt://article/f9386ae2-3ae0-5baf-8064-919dfdbc9e8c', 'nyt://article/385388d5-2e5f-5321-b23b-4e0afb0c4940', 'nyt://article/d7b0de2b-9d50-5a2d-88b2-5390b5b7de3b', 'nyt://article/d7ea26e8-b61f-5975-bd0e-ff455733ac5b', 'nyt://article/250d49a7-b629-548d-a99a-a2aaf0e3a728', 'nyt://article/7104a8cf-de19-5482-9efa-d93c012227d2', 'nyt://article/7a9cbc11-d086-5980-855e-e8abbab5ee40', 'nyt://article/58fe85be-4962-51bd-8f47-46c1ccbf8f5a', 'nyt://article/cdd5b359-8961-52ac-86d2-4d9c675b224d', 'nyt://article/3b3d552e-a57f-53c5-8ff0-31113b14c493', 'nyt://interactive/4d85e505-f0a7-57c8-b4a4-7d2018223598', 'nyt://article/dfe287c5-254d-55dd-8245-66c18bc92edd', 'nyt://article/5f2ef024-54ee-5815-8fe6-ad8f68e23f5b', 'nyt://article/b523611f-4c09-52bf-a76b-e31fe00e1ec2', 'nyt://article/cea90935-2c07-55f1-81af-32de2c80925c', 'nyt://article/ea2f8cef-794a-52e7-8891-8656b2891bab', 'nyt://article/1ac32ed3-b543-5290-a03a-385cff024025', 'nyt://article/b2c28cce-ffdf-551c-a4e7-27d9bf22684e', 'nyt://article/ff0ee5d0-91c1-5420-a030-64e56a472c13', 'nyt://article/44ff88f7-5c8e-575e-b710-983fac884ec0', 'nyt://article/9cdc7f20-65d5-5c7b-8264-99b07744af9c']",
         "47",
         null,
         "0.25289211729889693",
         "Asia",
         "NYT",
         "47"
        ],
        [
         "17",
         "Bahamas",
         "['nyt://article/f55d75df-7984-5796-871e-e9808f9a7b95', 'nyt://article/3a456fac-0fdb-5d08-a280-a3fb1bb27b7a', 'nyt://interactive/0a438c12-d60f-52a4-be3d-ca4aaf493aad', 'nyt://article/8a064346-c360-53bd-a6bb-93ef461de02f', 'nyt://article/4c432d3b-5d3c-513d-985c-5d2e2a3d06cc', 'nyt://article/72ff5af3-f710-5967-a74b-1cd1105d4110', 'nyt://article/3c489b15-4e6a-5b33-a153-2eed5cd30deb', 'nyt://article/7218d0b7-3509-5552-8ab2-6370dc25b31f', 'nyt://article/5205dd9f-385d-55f3-9e25-316e4a05cd82', 'nyt://article/ab667a0d-a2e8-59ae-ac3c-ef6a611c2ba3', 'nyt://article/605556aa-111e-5eed-99b4-5ab87c8e327b']",
         "11",
         null,
         "0.05918751681463545",
         "North America",
         "NYT",
         "11"
        ],
        [
         "18",
         "Bahrain",
         "['nyt://article/6cc38047-747f-51f9-8f85-f98e36b2b992', 'nyt://article/1104a490-62b7-507a-9fab-1783f67a7d95', 'nyt://article/4db02671-1c0e-5b3e-9c95-645b54d2f8f7']",
         "3",
         null,
         "0.016142050040355127",
         "Asia",
         "NYT",
         "3"
        ],
        [
         "19",
         "Baltic Sea",
         "['nyt://article/9cbcf0d0-527c-5022-9bd8-b399f459f42d', 'nyt://article/3680adb7-fe2f-5377-8a70-d6fa4f9ee2d3', 'nyt://article/7ad346da-06c6-5aa4-9f44-13e3dabfdcf8', 'nyt://article/62d1bb37-54d6-53c6-9d6d-5e43431f3335', 'nyt://article/c747a563-86b6-5583-8528-5d5d82c573c5', 'nyt://article/59773ef3-f9a2-5811-b338-a3f62ae4eaa2', 'nyt://article/bf938858-5d5d-5907-8726-929112ccc441', 'nyt://article/3f82b219-3267-5601-9fdf-c806ee1f9f16', 'nyt://article/2f502b81-e9f8-54e1-b1b9-814c7b61cf70', 'nyt://article/e8dd346d-fb45-5698-afc2-8d1aca18cab5', 'nyt://article/3bb65254-fb8b-5779-801d-5f533b78bce2', 'nyt://article/70a2d5c7-eb7c-5a47-841a-cf93e986f761', 'nyt://article/e0535641-550c-5375-aa88-d76d316835c7', 'nyt://article/b2d50f5b-6b2f-535f-bc99-b1fdbbc677ee', 'nyt://article/3d3af5c5-012f-5512-a7ef-4373b2cfd830']",
         "15",
         null,
         "0.08071025020177562",
         "Europe",
         "NYT",
         "15"
        ],
        [
         "20",
         "Bangladesh",
         "['nyt://video/d7eed2c7-86dd-5334-9768-b58516f4f125', 'nyt://article/8fb3e25e-d5ac-51ab-b4ee-52cd2e06e9e1', 'nyt://article/1029ca29-7478-58bf-bf53-2137bb57ca7f', 'nyt://article/d1995898-4e16-5f85-b9fc-83a1dc0f5c31', 'nyt://article/f59ad265-6b02-5b47-87ab-40491a7192f4', 'nyt://article/84267c45-d863-5b57-810f-589d61c16a27', 'nyt://article/e71deb6c-14ca-5446-acb0-557595a1c768', 'nyt://video/5b91da10-fc8e-580a-b37b-cc4fdb11b1a7', 'nyt://article/5774741e-8fea-5f49-ac70-ce4168a37b07', 'nyt://article/255b5563-597e-5283-8031-70f235aedc71', 'nyt://article/ebd1ec32-ad41-578b-bdf4-274284a3badc', 'nyt://article/da8e3167-7608-5e86-b657-f9dd213b4cc0', 'nyt://article/acd20332-7d58-52b0-af07-1e411c87bd05', 'nyt://article/396deb75-4e1f-5856-a8eb-1e3e580d5450', 'nyt://article/9b6b0318-db8f-58be-bb65-5d0217d80de8', 'nyt://article/1674bd72-13ee-5d08-bb54-0c3ce48fe673', 'nyt://video/eb3b13e6-599c-5c12-9fbf-c4db7a880801', 'nyt://article/498ca601-204e-525e-bf4e-97640d9a70e9', 'nyt://article/38e0530b-d424-5ba8-9c4f-277eee69f102', 'nyt://article/936b5914-211d-5657-83a4-a9b74a4a6cf9', 'nyt://video/d9b4cbbf-d8dd-5348-bc51-4c250f866d67', 'nyt://article/f5c39b45-ce9a-5bda-a008-c98c0684c491', 'nyt://video/cc737b7c-ab5a-59a8-95e1-816ad4887397', 'nyt://article/a0f463e5-dbf2-5a92-81a9-d066f36509f0', 'nyt://article/cb0045e8-0494-5f4e-b589-de52b5ea985e', 'nyt://article/80dc1747-cf04-5beb-a934-619f952d75e1', 'nyt://article/ac3aba66-b791-52e7-9ad5-cbb0db0d13b5', 'nyt://article/d4835673-3e5b-5cb9-a68b-4b895d740999', 'nyt://article/6406f914-ccce-5054-a329-b9b8414c9c95', 'nyt://article/823b3d55-b82d-503c-8a18-68d6933d4625', 'nyt://article/a05942c6-58f1-599c-8fc0-2d3224b02cc8', 'nyt://article/3cc92856-efcd-5e80-bf10-797afacb4f84', 'nyt://article/cafa3f9a-8004-526b-9927-c06cd85f915d', 'nyt://article/9236f415-552c-5965-b113-e3b12c7acefb', 'nyt://article/88c85774-df15-53fa-b7f1-482980bfcb43', 'nyt://article/89c8e9e3-fe76-5a94-92cb-414d811ee293', 'nyt://video/ef3d4115-649f-5efb-99f7-c1ef9c7270c6', 'nyt://article/dbdf3b95-c4ac-5cd5-8644-8e866582656f', 'nyt://article/7084ef60-da5c-537c-b158-f1e78e69f10f', 'nyt://article/d702ced9-53d7-5cb7-aea6-5e37a2c55cd1', 'nyt://article/9feba6e2-823a-5fbd-954f-5040e45639ba', 'nyt://article/f56cb90c-333e-5189-b598-09245a7ecced', 'nyt://article/43e54411-fec3-5aaa-a572-7a1b476a42cf', 'nyt://article/c24ac261-a0e7-556b-9343-f6e2c17e7a5c', 'nyt://article/bcee377e-2c3a-563b-bc2e-32be6a28cee3', 'nyt://article/5f3da01e-323c-5b51-a9b4-1e366ca4387d', 'nyt://article/e943d08b-7be0-52f9-b32a-9ad77935c102', 'nyt://article/1ea4fb4a-0878-5451-a43f-4ffdc4da6144', 'nyt://article/34403061-db05-5d35-b892-3d3ada556995', 'nyt://article/dae2657b-9ab4-512b-b6cb-8690b92d0434', 'nyt://article/d42d09c3-aee3-57bb-b508-b2495fa0508d', 'nyt://article/69423ad4-3547-5863-8dfa-a7c04e0bf88c', 'nyt://article/75b05547-d2b0-52e1-8113-4184eddf76d7', 'nyt://article/85c2a939-d4e6-5597-bacd-db25e92110dd', 'nyt://article/4c300a25-56e0-564a-80bb-33da64428e8c', 'nyt://article/02a53ef9-fac1-5f49-b279-2c3d742d37d0', 'nyt://article/f8811dee-1ac1-5761-b4fe-42e35a6ef538', 'nyt://article/10453968-c7cb-50d8-ae37-8bc7d4bdeeaf', 'nyt://article/ed532bcc-2029-5854-9ceb-338278f3128f', 'nyt://article/6814c044-6791-5f6d-9ca2-231a0b94d4cc', 'nyt://article/bf77cc3c-2d4c-54d9-8ae9-e8dfce0fb9f9', 'nyt://article/ad68b015-ad74-54e5-b873-9d29dcf2b2f0']",
         "62",
         null,
         "0.33360236750067257",
         "Asia",
         "NYT",
         "62"
        ],
        [
         "21",
         "Barbados",
         "['nyt://article/dbca2c1e-0c60-5e8a-a032-6e29e8425c40', 'nyt://article/3a456fac-0fdb-5d08-a280-a3fb1bb27b7a', 'nyt://article/120e4e0d-239e-5b52-83bd-462598928a5c', 'nyt://article/13242a65-a494-505a-b504-49c06a9d9166', 'nyt://article/360f1b02-6470-52a5-afab-5753344f121b', 'nyt://interactive/3d72386b-bd2d-58a7-9b04-9a7b9d258943', 'nyt://article/2794161a-68fa-50f9-af4b-781cf317f424']",
         "7",
         null,
         "0.03766478342749529",
         "North America",
         "NYT",
         "7"
        ],
        [
         "22",
         "Bay of Bengal",
         "['nyt://article/f69229c4-0c2b-59ad-bcff-d25886896e17']",
         "1",
         null,
         "0.005380683346785042",
         "Asia",
         "NYT",
         "1"
        ],
        [
         "23",
         "Bay of Campeche",
         "['nyt://article/2ba65ccb-6e52-557b-9191-21cafcc864f0']",
         "1",
         null,
         "0.005380683346785042",
         "North America",
         "NYT",
         "1"
        ],
        [
         "24",
         "Belarus",
         "['nyt://article/6fd49dd1-7d28-561f-913e-050e34afabbf', 'nyt://article/2c4fcfe0-4152-5915-8da9-ff3f6df3f13d', 'nyt://article/7775bef0-4a61-5d97-9d2c-b93de2ca319a', 'nyt://interactive/4ef0fac9-68ae-537f-ac7b-e165411fcc5c', 'nyt://article/21cad100-f82d-59f1-ae41-1d37516395e4', 'nyt://article/53220df1-5f7e-5866-9ce5-9b645a1d69a4', 'nyt://article/2aca6428-0b32-5356-a256-a286a4b16347', 'nyt://article/f346f96a-8d34-53c4-88b4-f2e41179af65', 'nyt://article/50eb219d-459e-511b-a4eb-c6feb9f15fe7', 'nyt://article/08eedfbb-983d-553c-95ad-9e660802e15a', 'nyt://article/2c1190c3-b15c-55aa-abec-e46649feb480', 'nyt://article/ef47a80e-94bc-5c36-8d44-8d4224ce92b2', 'nyt://article/833eaa47-ce45-5c0c-a984-81c8d7533a04', 'nyt://article/66554e8d-9278-5135-85e9-0bb9bc3cdca4', 'nyt://article/1cc2cfd7-f7c4-58db-87d2-5a85ddea3257', 'nyt://article/d3587697-6a2d-5b83-87a8-c7e8ae03e248', 'nyt://article/3c734eba-d374-5d03-ae3d-df46861ec2ad', 'nyt://article/e25457bd-ce33-5a31-a905-ac652a50bcf8', 'nyt://article/081caf13-8311-55ba-b659-845d5f7491d1', 'nyt://article/bf938858-5d5d-5907-8726-929112ccc441', 'nyt://article/841e8ea4-81c0-55a5-90e2-9f854b631bf6', 'nyt://article/40bad37f-8934-5ae1-9915-a5627f4ed3f4']",
         "22",
         null,
         "0.1183750336292709",
         "Europe",
         "NYT",
         "22"
        ],
        [
         "25",
         "Belgium",
         "['nyt://article/d515fd4b-c1c6-52f0-a959-bf21336531c3', 'nyt://article/87fc2fa9-b820-5a08-b8ba-7e6db0dee3c1', 'nyt://article/1cd28e8a-743f-5418-9e6d-332af33c1ebd', 'nyt://article/4076d5fe-4d52-5ac1-bc13-27887a7ad6cf', 'nyt://article/6d0fd4d4-108f-53a0-92eb-ae6cde85c32a', 'nyt://article/15a126ec-72f6-57fb-ade6-d48ae7eac43a', 'nyt://article/458f4489-9efe-5a9d-9e5e-b893deb668fe', 'nyt://article/84939ce5-ddc5-5a6f-a06c-37ce914d4df0', 'nyt://article/d6b19031-3e5d-51df-a313-6c540e5ce024', 'nyt://article/3f5f04be-e156-5f39-b845-8145daacfc2f', 'nyt://article/d88e199b-3dcb-531f-823f-989e49d7db10', 'nyt://article/f2d2bf65-5b70-5073-82f6-34a2fb1b274e', 'nyt://article/cd435d91-a60d-596f-ae07-c4c251d4392e', 'nyt://article/b0ae26e0-fd39-57ed-9153-f8e9337c6b42', 'nyt://article/cc1e2e6b-2b38-5dac-8102-76cd1131d826', 'nyt://article/6a9b613b-3619-5b68-a3e9-1852f29d773c', 'nyt://article/278615cf-39bc-5967-965d-9db5c5ea3315', 'nyt://article/2aca6428-0b32-5356-a256-a286a4b16347', 'nyt://article/b8926a2b-a016-5493-85f8-b9583b56bbaa', 'nyt://article/b967a24f-e8c9-5af5-b74e-91994f870869', 'nyt://article/ce07da87-93d8-5c3c-a0a4-ee6993131d2a', 'nyt://article/daee73fc-eb79-5d80-a1f0-a4f688b766ba', 'nyt://article/ffb9c4af-44c5-5ede-8cf5-c0193ad81907', 'nyt://article/851b69ae-20b6-56b8-840a-2359f31050c2', 'nyt://article/1ad42471-f803-5b9a-a19e-a429e4c4e91d', 'nyt://article/89dd8747-9903-5e0c-89c3-a261470296b8', 'nyt://article/5410630d-98fd-58ab-8966-5dcfd390941b', 'nyt://article/1fe7f248-a1d0-56d6-bf3f-df0c4f0c39a5', 'nyt://article/fcc2bb23-b4d8-5546-b18f-aff16ef38218', 'nyt://interactive/6200b426-fecd-5edd-9754-15753cae9c59', 'nyt://article/ca824b3e-85ea-506d-b6bf-f9b94c025737', 'nyt://article/351a7081-1a05-5166-916a-f9f2045ea836', 'nyt://article/fb011342-8413-5b74-868c-e1220ddd100e', 'nyt://article/58da3e6b-b8b3-54dc-a564-c2e795ec9fec', 'nyt://article/4336fc5e-b8e2-5566-977b-a86ef2fab052', 'nyt://article/1e40ff20-3a4b-58e9-9719-ebd96162a35f', 'nyt://article/737a295e-2823-5677-8179-6362bb19d267', 'nyt://article/0f652f8f-85bd-5513-8b86-c969aef66b9f', 'nyt://article/ca2cbda6-ba8f-5c14-8fae-993ad3293920', 'nyt://article/0615e70f-5fdc-58ab-86c5-4fed006d8fe6', 'nyt://article/be0c441e-b389-5096-aeb7-b040d49b16f8', 'nyt://article/32181804-e00c-5f5d-97f2-955503943dee', 'nyt://article/39c9545b-8b8d-5251-8a87-a7e7ccce3f86', 'nyt://article/4cd9a420-ddf9-5041-a52e-c8e4d9678bff', 'nyt://interactive/bba8496f-c94d-5818-a05e-510217fe60ea', 'nyt://video/3cac0e2e-7f4d-54c5-b35d-fb056724bcf9', 'nyt://article/b1cf93b2-5518-531c-8372-09985fb8a68a', 'nyt://article/70a0c124-049d-5118-9fe2-d39b2f30a0a6', 'nyt://article/c3a3fb76-50db-54cb-8861-5d4f2f594973', 'nyt://article/efa2c95b-0478-5ff8-a93b-5efde1352060']",
         "50",
         null,
         "0.26903416733925206",
         "Europe",
         "NYT",
         "50"
        ],
        [
         "26",
         "Belize",
         "['nyt://article/cc61428c-3ba1-5e63-b984-33e225b3d127', 'nyt://article/b81daaea-4e12-5217-bcf0-24277af7a145', 'nyt://interactive/aed06f4d-8a51-5356-9d3a-d2a838fb17e3', 'nyt://article/39615756-7f7d-56e9-98a6-d928befd65b8', 'nyt://article/083a53a9-40d7-54eb-9fef-e4dc3c12049b']",
         "5",
         null,
         "0.026903416733925208",
         "North America",
         "NYT",
         "5"
        ],
        [
         "27",
         "Belize",
         "['nyt://article/cc61428c-3ba1-5e63-b984-33e225b3d127', 'nyt://article/b81daaea-4e12-5217-bcf0-24277af7a145', 'nyt://interactive/aed06f4d-8a51-5356-9d3a-d2a838fb17e3', 'nyt://article/39615756-7f7d-56e9-98a6-d928befd65b8', 'nyt://article/083a53a9-40d7-54eb-9fef-e4dc3c12049b']",
         "5",
         null,
         "0.026903416733925208",
         "North America",
         "NYT",
         "5"
        ],
        [
         "28",
         "Benin",
         "['nyt://article/cefbee7b-1a64-555e-aa99-205c8c00965a', 'nyt://article/80609bfa-1307-50a2-9a4a-936fa24d8235', 'nyt://article/cadd214a-9939-500f-a2f3-7aebf7a20faa']",
         "3",
         null,
         "0.016142050040355127",
         "Africa",
         "NYT",
         "3"
        ],
        [
         "29",
         "Bering Sea",
         "['nyt://article/b9d646bc-51a9-5124-b495-e33ae5072f51', 'nyt://article/bf6a397b-55d9-51ba-85e9-5ced31ffff39', 'nyt://article/3dffadff-81f9-562e-bcaf-7f551af771c5']",
         "3",
         null,
         "0.016142050040355127",
         "Other",
         "NYT",
         "3"
        ],
        [
         "30",
         "Bermuda",
         "['nyt://article/f82c4681-876c-5823-8a55-ec2b1d1f9d90']",
         "1",
         null,
         "0.005380683346785042",
         "North America",
         "NYT",
         "1"
        ],
        [
         "31",
         "Bhutan",
         "['nyt://article/8684e408-fa1f-5d86-b3bb-43fa8a2bf8e7', 'nyt://article/89c8e9e3-fe76-5a94-92cb-414d811ee293', 'nyt://article/3c350a95-b7e6-578a-9dd6-f16dd3ea9391', 'nyt://interactive/caa7a64e-05f1-5a71-a588-1e8f311db878', 'nyt://article/95929c9f-42fb-5d83-892b-6b2c3f5adb1b']",
         "5",
         null,
         "0.026903416733925208",
         "Asia",
         "NYT",
         "5"
        ],
        [
         "32",
         "Black Sea",
         "['nyt://article/67ee4544-4986-57d7-a340-56b141868f4d', 'nyt://article/e6b8866b-4bff-57e7-9c0d-824d3d2e425c', 'nyt://article/7f7082e0-01cf-5136-875a-cc3bd44c7057', 'nyt://article/52df775b-6d84-584e-9e6d-da727ddabbeb', 'nyt://article/f8a102cb-e861-553b-89d6-cfc54a10d10a', 'nyt://article/d2f8d9c2-05b8-56cf-a4a1-0a5d15a4fbc8', 'nyt://article/3dfb2f26-425f-5cef-9b47-be2a7d1b3845', 'nyt://article/86d3dad9-815a-501b-b06b-77260a47a38c', 'nyt://article/85dc3162-5ce9-5a7b-8cfa-9b1b0507f646', 'nyt://article/1a69d72d-7e98-5c18-9ad9-0d196edd636b']",
         "10",
         null,
         "0.053806833467850416",
         "Other",
         "NYT",
         "10"
        ],
        [
         "33",
         "Bolivia",
         "['nyt://article/944dd5c5-5751-54ff-8676-4abb71d7fcaf', 'nyt://article/766aa0d0-a57d-5a60-8a6c-6d6d8d2150ad', 'nyt://article/da794e2a-74d5-5277-82ec-d3a9064111ed', 'nyt://article/0218698e-099d-5eb5-b06f-d7f4364c9f29', 'nyt://article/f8a47009-5be4-5e3b-ab47-3945e3ab0111', 'nyt://article/a9f3362e-bfc4-5dc4-b95a-d10e18d34ae4', 'nyt://article/fb261414-c74f-599f-908a-ad71c9751da4']",
         "7",
         null,
         "0.03766478342749529",
         "South America",
         "NYT",
         "7"
        ],
        [
         "34",
         "Bosnia and Herzegovina",
         "['nyt://article/15f3afe3-9972-586e-aa7c-0175ec333618', 'nyt://article/c6f66a40-992f-514d-8952-2ba0a6244782', 'nyt://article/05c076a5-bfbc-58e2-8b98-220f33766bcd', 'nyt://article/58508e50-c37c-556e-87ee-ccaf440fd80c', 'nyt://video/45ef2d15-673e-5695-9fe3-d7844dfc2a5f', 'nyt://article/cd09f73d-6b9e-566c-ae88-923092ce703f', 'nyt://article/5962a870-e60a-5dca-86db-8d73b0e321e0', 'nyt://article/d26facaa-7cb1-5708-be3d-b7f22d093d17', 'nyt://article/2ea40895-14a8-5915-ae30-f6b189a67ce2']",
         "9",
         null,
         "0.048426150121065374",
         "Europe",
         "NYT",
         "9"
        ],
        [
         "35",
         "Botswana",
         "['nyt://article/3ec2692e-3c94-53b0-86a8-4efba10445ee', 'nyt://article/43e74e8b-c18e-5d67-9133-b8fc8ab6aaa7', 'nyt://article/5b46ce58-9195-5636-ade0-378a2373f8ec', 'nyt://article/b792e806-eb4a-5489-b55e-3d9ed9f2301a', 'nyt://article/b1e22c6f-12a8-5222-b4a3-97d9684222d3', 'nyt://article/4243bc16-737a-5a1a-996a-c1bd08ce953a']",
         "6",
         null,
         "0.032284100080710254",
         "Africa",
         "NYT",
         "6"
        ],
        [
         "36",
         "Brazil",
         "['nyt://article/b5bafaae-6eac-56a1-bd81-152687034bb7', 'nyt://article/ae862df1-83da-5c3c-8588-4f513328f315', 'nyt://article/031be2ac-5f2f-5e57-92ca-ebe7b6711508', 'nyt://article/161d960e-bc50-58be-8486-44f1b02e7a7b', 'nyt://article/bda4c607-5ae4-5e88-8427-fd20fb629b21', 'nyt://article/df20dbaf-d7c1-5a58-b6eb-e8387e796a51', 'nyt://article/84939ce5-ddc5-5a6f-a06c-37ce914d4df0', 'nyt://article/9276b34c-3b40-57d2-bd85-9bf252de076a', 'nyt://article/7a74f8f9-1c0c-52df-a259-403bb410d95f', 'nyt://article/cb7ef204-4197-5a10-b8ab-d79876d02710', 'nyt://article/0bc6eea9-bd66-588b-aeff-80bb1fca7417', 'nyt://article/09acb071-28d6-594e-b3fe-4799a7bac8f7', 'nyt://article/b462fdbe-b2e0-5a7b-8df6-f3c403e23f5d', 'nyt://article/1144da25-6dd7-5369-8457-6c700b537ae0', 'nyt://article/3c769e3f-a01d-565e-8352-792513d2b955', 'nyt://article/019cc577-cf26-51e6-aba9-14c984f884cc', 'nyt://article/5c6c8048-7220-53f1-9d4e-216b9b4d57dd', 'nyt://article/140d47a4-ae85-51ff-8c9d-7a66f47523d6', 'nyt://article/5054688e-a54f-574a-9e7b-7ffb6cfaec05', 'nyt://article/755b3a3c-0b30-581a-95b7-e40c0378c9ea', 'nyt://article/2832a632-5b22-5aa7-96df-983255497b61', 'nyt://article/b15ce464-f541-577a-8a24-df9874d9b2b8', 'nyt://article/72750308-710a-520d-8077-0128b76dbc62', 'nyt://article/8ceeb74c-0110-5697-af59-7e47b2a6ba75', 'nyt://article/799a22bf-04cd-52da-8621-923983c6b79b', 'nyt://article/2ebc8a6a-05f0-54c4-86a6-ea4a2fe3d45a', 'nyt://article/aad53d3e-9be5-535d-bf3a-2bf6928ebb12', 'nyt://article/11d1d712-8de2-59c5-838d-e087f09dddfd', 'nyt://article/2dbe967f-70b1-575a-9134-233cf7dfcb33', 'nyt://article/af22806c-5e25-566e-988b-541a5ef200e4', 'nyt://article/482228c8-15a4-5b2e-a76c-97227c49dbc1', 'nyt://article/3d887152-073b-572d-a0b0-3ab58fc02f33', 'nyt://article/ac748229-fb1d-5fae-a0b7-319fb0e6e157', 'nyt://article/472858cd-93e2-545a-9bca-ad6b2061b836', 'nyt://article/4ff0123d-daed-5869-94a7-48c73ddf6491', 'nyt://article/d7a79c9a-a6d7-5b49-b66b-ea7b6c697da3', 'nyt://article/da9eed42-437d-5aec-86c3-472bfa44824b', 'nyt://article/4c898390-82a3-5d21-9e63-bee012af32ca', 'nyt://article/2028ab73-b945-5eaa-85ae-58945f6df85f', 'nyt://interactive/2e8dd042-42da-5b56-aa1f-96c3c4d7b6ff', 'nyt://article/44eb3eff-659b-565a-a1ec-cec54e0f4c77', 'nyt://article/ee5eb31d-a1a5-5a09-8b26-dc053325846e', 'nyt://article/92c398bc-c844-5259-98fe-57dbfab2eb19', 'nyt://article/3f22844e-2bf7-52d2-989f-4b11d886f360', 'nyt://article/752b1886-c322-5f2e-bd4a-48cc30463897', 'nyt://article/0c590090-ca6f-54c4-ba2b-7c7617059c11', 'nyt://article/3dad367b-7abb-5c46-a377-3bc8630d57c7', 'nyt://article/506af149-2b90-501c-b50a-3fb4d9d28ad6', 'nyt://video/325cd8d2-137a-5a6e-8ff8-490eac566125', 'nyt://article/c074859b-f07e-59ae-ac5a-3b2b450c7b2b', 'nyt://article/39294cef-5f68-5a08-a6b7-9c6fcf66fb06', 'nyt://article/ecaa8424-7cbb-5b77-9d1f-d11919256cae', 'nyt://article/694722e5-9bec-5dca-b426-5e1d73bc31c5', 'nyt://article/1f5ef007-4c09-5a60-8f55-744934372bcc', 'nyt://article/f6b1d71d-9b89-5163-af4e-2c25687afb9f', 'nyt://interactive/7db7a662-415a-5f69-818a-b54b2c71472a', 'nyt://article/b465200d-6d3e-50b5-8d80-75081085dd5c', 'nyt://article/1dfbd1b3-3829-5ed0-b37b-8af8539d98e7', 'nyt://article/a3b53364-d66d-5b49-bbff-c691b660ccac', 'nyt://article/4e2d1f73-476d-599b-9b95-11fdb4394c5f', 'nyt://article/680aee49-f5ad-5e41-9d62-97acb290b87d', 'nyt://article/dbd833a8-db59-54f2-81b9-02d85db7ed65', 'nyt://article/32338471-a889-5e8f-893c-9de650970d17', 'nyt://video/7dcc0f71-14f5-5735-abd7-66342b2376b7', 'nyt://article/7f482b56-f2d2-5106-b5c2-263b495b3d81', 'nyt://article/7c6c5ad7-0244-5a88-8fa2-b0829e45aebb', 'nyt://article/bd0a7f12-0be0-5e7e-a360-519eb3902cbb', 'nyt://article/716875f5-acd4-5d2b-a64c-4a5b5741a1a7', 'nyt://article/e51d7144-a3ad-58a7-b2ab-f72fbf339d4f', 'nyt://article/71f10b28-0ac8-5c74-8101-a781d8b88dd4', 'nyt://article/a008167d-fddd-5f78-a94f-a5c20c40e7e5', 'nyt://article/6045611f-3f32-544c-9255-a5efa1b01cf1', 'nyt://article/ec210860-0da4-51d2-97e8-904cabab7c84', 'nyt://article/992a0b2c-ebf5-5c91-bb77-035d282d848d', 'nyt://video/7f069c5a-57c8-5cda-84ca-a40702b802c5', 'nyt://interactive/6f9dfc81-04c3-506a-9b14-985065235d43', 'nyt://article/94a329f2-7dd2-582c-a694-a756a5f5852d', 'nyt://article/9f1ef7b4-dbe9-51b5-b495-a4f0bf1451f2', 'nyt://article/7da9dd57-ed51-5e70-8241-1bf7040e909e', 'nyt://article/569993d1-fb5d-57aa-8940-c51ce3633fde', 'nyt://article/256a79ee-1780-58c5-9f61-8fb9341c1f8f', 'nyt://article/c2d9a088-2652-5f93-a3a0-9e9cd2c1b31b', 'nyt://article/5325bea7-8294-5880-9271-d86f80ee7a44', 'nyt://video/5d66abcc-b231-52c3-b659-20f1d80f18c9', 'nyt://article/5bb0cd46-4e50-5f85-a416-2b3fbbd28244', 'nyt://article/76dbecbe-4d0c-5f48-855d-6dff04a6991e', 'nyt://article/1a6a729a-b5d9-5783-8235-2a017c3797ea', 'nyt://article/cda9c78f-a2c5-51f2-bb6c-f1ebdee30802', 'nyt://article/a788c6c0-5cfc-590c-ac7f-4dff08add350', 'nyt://article/0a0d5fff-e858-51c8-a397-b9878dd5d1a0', 'nyt://article/4bbbcba8-047f-58b7-a463-bf0ac97eb607', 'nyt://article/7f461088-36ef-5e9a-9af5-fa296509b52f', 'nyt://article/f55e94af-a707-5e47-97b4-a52f92bef87e', 'nyt://article/4548fe2e-6560-5406-af88-afb9185bc574', 'nyt://article/99edfa44-e5a1-50af-b7b6-39d68c2e560f', 'nyt://article/c1df7566-51e6-5183-9349-aa26aa47a9a8', 'nyt://article/d35a2be4-8651-5b52-8cfe-d2f3296e0eb6', 'nyt://article/0a8e3d79-e89a-5ed4-8981-e4b9c1d50354', 'nyt://article/c4aec98e-ca64-527d-a788-2ef5dc2c5e8c', 'nyt://article/c6beaca9-6134-5acd-b6c5-616596f1719d', 'nyt://article/1f941312-2902-5da4-963f-ae6f5cd86439', 'nyt://article/c96b3b9a-6c5c-57ec-bbed-d450937bf68c', 'nyt://article/a580ad1a-1693-541e-8b44-143d56083844', 'nyt://article/ee314670-308c-5285-945f-84bc53fe90a5', 'nyt://article/10abe48f-4fe7-5008-af07-dbdc658259ee', 'nyt://article/9b68cad7-5db2-5b65-9b43-cdba75854545', 'nyt://article/603971a4-c18e-5c5b-8207-ac872b44fd64', 'nyt://video/68ea45f0-a15a-5b9b-9d23-47583defe934', 'nyt://article/97f24409-e7f0-5bad-822c-acf480eb76ca', 'nyt://article/3717da2c-fc56-584c-84a8-79c2c03d93cd', 'nyt://article/17579916-ca0b-5b2e-a84e-ef3a520f4b39', 'nyt://article/199675f9-310c-5104-a103-322d7d04d4a9', 'nyt://article/d52c8238-0112-5c63-b46c-805caca1c0e6', 'nyt://article/287d15e9-b5bd-5eb3-9d19-a4369c8f705b', 'nyt://article/a9d2e2a1-2db1-5704-9cfd-ade66d693a6b', 'nyt://article/62ffe15e-d6b0-5ebf-83d3-a34fc44964bb', 'nyt://article/34a704e7-0331-5975-bb4a-9cbfedd12885', 'nyt://article/352e1341-bdb7-5bd2-8672-face1c4984c4', 'nyt://article/23a6bcb1-85a4-51d0-b972-847fd8758b21', 'nyt://video/4c8e683c-1233-523d-ba40-4ff573c744e8', 'nyt://article/3def920f-2532-513e-919c-2ca26a78931f', 'nyt://article/4b9addb0-ece4-5275-a497-a5742b169c82', 'nyt://article/6fabf1eb-e0d8-53da-9f74-3e7e7e4326d4', 'nyt://article/506d22d6-0066-50f3-8500-6e72356aba4a', 'nyt://article/82c3ab0f-fe3b-5d86-998a-16c15c23f51a', 'nyt://article/e29bbbf0-cb8d-534b-9faa-2e389edc251b', 'nyt://article/b7b1dd48-bfc8-51ef-a8fa-21879c1e19c2', 'nyt://article/22741380-5dd6-5380-84f5-ed5ea29c71db', 'nyt://article/a988d12e-2d3e-5812-8e59-4296e40b202f', 'nyt://article/fd53c2b7-0038-5810-bffc-82c26b78d593', 'nyt://article/dba88884-4d7d-5750-bbac-289cd1cf4cf2', 'nyt://article/3b3d552e-a57f-53c5-8ff0-31113b14c493', 'nyt://article/f40b9e43-17f9-55e8-9370-cabc6c2a2d13', 'nyt://article/c5fb2795-a67c-5aad-b7ce-bad8adb856bd', 'nyt://article/3acfab73-83ff-50d3-8430-0cb4e2349be2', 'nyt://article/32539e60-583d-5704-88a1-15e73653af53', 'nyt://article/b6ce7edb-a375-5b2c-ba83-d322d815361d', 'nyt://article/92641805-06ec-5b59-be99-3e39512c583f', 'nyt://article/e9c89d4d-4ee8-541c-a781-9d97668283c9', 'nyt://article/3fba21b2-f951-5098-97f1-9bd61e433a7a', 'nyt://article/31d215b3-6054-54cc-8297-198cc7081556', 'nyt://article/476f76a1-91dd-5dae-87f3-db5da79f0854', 'nyt://article/e49b94a1-a8d0-5233-918c-33ea799c943d', 'nyt://article/74f685c1-dbee-5fdb-a27e-4dab4b2af226', 'nyt://article/02a8698b-e746-575d-b37e-7b04c79eacd5', 'nyt://article/73fd6413-092a-5d34-a70c-8f00cde3312c', 'nyt://article/e6eff96b-c865-54b1-856a-18e01a02c1b9', 'nyt://article/42d47da6-2661-5822-82e5-6ec86f1a388f', 'nyt://article/dbd195d0-acb5-51f3-94c0-c91cfa8d9a2d', 'nyt://article/c8df73a2-bcb7-52e1-a56a-8318086d725a', 'nyt://article/536e7878-561a-50e8-99ba-ef4b1ac5ee7e', 'nyt://article/4e56c826-238c-59fd-8398-d946b54cafaf', 'nyt://interactive/b9f9c273-99d2-5614-acdd-ff520e893d62', 'nyt://article/60e286bf-90a3-5999-abd8-0d47db8080a3', 'nyt://article/dbdcdf3d-f029-5dff-a4a3-8d5fb5bd202a', 'nyt://article/e3829944-3631-5618-a43e-a6b7f3894bbd', 'nyt://article/2243d03f-acd2-5628-a14c-ceac812c7f56', 'nyt://article/01c04716-3a06-504e-961c-5ac92b022ea4', 'nyt://article/e55efa03-d492-594c-9640-6f699f962a45', 'nyt://article/90e7e151-69bb-5749-a07f-d18f9ccbe36c', 'nyt://article/d68dfe03-176f-5bef-ac8f-8356b37ebe8b', 'nyt://article/27218239-bc11-5e15-80e2-b663b0fcef23', 'nyt://article/3cf5e168-0189-59d6-b2fe-4b771aa842a8', 'nyt://article/7dabb456-eae4-5659-ba12-2099c2e7a1fc', 'nyt://article/86b8d35d-4e41-5c8b-82e7-2a09da95db5d', 'nyt://article/f7ac5606-38b2-5896-a301-194b4a883586', 'nyt://article/ee219c3b-c31d-5dee-97f6-1a8cb87a5fbc', 'nyt://article/944dd5c5-5751-54ff-8676-4abb71d7fcaf', 'nyt://article/8dc879df-0bfc-5666-90fc-588dee2a3638', 'nyt://article/a69c7170-68aa-5b95-b7f0-6c534ddd82fe', 'nyt://article/f9056355-2867-5957-be5b-5fae84e64cf4', 'nyt://article/18e5ff79-5054-5b3a-adcf-af96e67d5d62', 'nyt://article/964fa42e-2def-5178-ab7f-6f3eaa3840e9', 'nyt://article/aba101ee-b370-5aa5-bc83-d9e347daa2de', 'nyt://article/f4a1d113-1213-568a-9fb0-1214773765ec', 'nyt://article/d1823118-7bb5-51e6-9444-d382f3868087', 'nyt://article/1aa43b32-166f-5b5b-86d7-0de058a1e151', 'nyt://article/fc549e76-b494-5fb4-8ba1-d5549c3ee577', 'nyt://article/48b52263-dc03-5776-b117-ee3225e2e423', 'nyt://article/906b4e9b-f6c8-56c5-a829-d8a8f44f37c4', 'nyt://article/8260b62b-2405-52e7-97de-51b26a46c2cb', 'nyt://article/22edf542-d819-5470-874b-7bd9e3ebff83', 'nyt://article/c8c53a7f-958c-5da9-b99f-28b91bfd1cc3', 'nyt://article/a88f2c07-14b8-5878-8ef5-3bb2a810ca14', 'nyt://article/0e91b0cf-6abf-5723-a3cb-e8633c2d2164', 'nyt://article/208c2f6a-924d-5d1e-a03f-996695ffc330', 'nyt://article/9d3dc1ee-dadd-52cc-a013-9f882c14ea8a', 'nyt://article/023bd541-1b26-59f9-a52f-42beb0487cbc', 'nyt://article/9314ecb5-5eb0-569a-88b8-e1a3ffcf77ae', 'nyt://article/83bca7c7-7596-5e2c-9eea-6d62859db832', 'nyt://article/6760b419-6b05-51d0-8ce5-154f382dbcf8', 'nyt://article/04b201fb-5a15-585f-963e-2fb2faaba0ea', 'nyt://article/0012a0ad-54eb-5667-a3c8-15d6b3d9d048', 'nyt://article/f8c13c61-d0d0-5fdd-b27b-2897b63529f1', 'nyt://article/0175e8a5-5910-51ad-a601-5277c3efddf1', 'nyt://article/cadd214a-9939-500f-a2f3-7aebf7a20faa', 'nyt://article/d59f86fd-bc6a-511d-9d57-614801f1b784', 'nyt://article/a6e42e41-e04d-5f2b-9c29-04586dbfd0c6', 'nyt://article/c7b1eee9-0bd6-5868-a9fa-750892ebe240', 'nyt://article/bf56ce35-304f-54cb-8560-ccdef084ed22', 'nyt://article/e83b9a4c-8134-530e-a6c4-51aa86838236', 'nyt://article/b7bd714f-70fb-5d22-af95-f26a8c107f02', 'nyt://article/d289696e-a671-55b9-841c-56130ce782d6', 'nyt://article/6b9bf558-1c17-5d85-9cb9-96957302965a', 'nyt://article/3b927a80-7aa6-5ffe-ba57-557ff839deb9']",
         "205",
         null,
         "1.1030400860909335",
         "South America",
         "NYT",
         "205"
        ],
        [
         "37",
         "British Indian Ocean Territory",
         "['nyt://article/3c040100-234b-5470-b2ab-0eee905524ef', 'nyt://article/7412a0b8-5798-512f-92b9-94089426bec0', 'nyt://article/e5314031-2e3d-5d39-83d9-210e3f501e95']",
         "3",
         null,
         "0.016142050040355127",
         "Asia",
         "NYT",
         "3"
        ],
        [
         "38",
         "Bulgaria",
         "['nyt://article/e6b8866b-4bff-57e7-9c0d-824d3d2e425c', 'nyt://article/6a5bbb3e-eac4-51fd-8ff7-cf9c18c99aaa', 'nyt://article/411711d8-0299-5691-a375-9bf010543175', 'nyt://article/15a126ec-72f6-57fb-ade6-d48ae7eac43a', 'nyt://article/dc9c142a-e59a-504f-ba02-4f8789cd0be4', 'nyt://interactive/6567bdfd-4b48-571d-b37c-5369d5680e89', 'nyt://article/16dc485d-e114-591b-ada1-d45ee32a0431', 'nyt://article/7b8fbf6e-0c80-52bd-977b-e38aa98ca567', 'nyt://article/c6e1d0a5-e168-5ed5-8b84-908060e78042', 'nyt://article/6bdc54e5-e389-55a3-b461-fa1ef4cdf464', 'nyt://article/f9c5d4ce-85da-59a1-aae2-b9af2a666432', 'nyt://article/c3dabb96-3bd0-5f3f-b463-8dcb812d0fc6', 'nyt://article/961fe384-720d-5789-b310-105e7d3c0b9f']",
         "13",
         null,
         "0.06994888350820555",
         "Europe",
         "NYT",
         "13"
        ],
        [
         "39",
         "Burkina Faso",
         "['nyt://article/8e9c68f9-7b15-536d-a7c7-9b34671ab74b', 'nyt://article/e7245a15-f2db-5f9d-9585-a92b309a28fc', 'nyt://article/f0140bc7-842a-55f6-a0b0-2993e7c1dd6f', 'nyt://article/180f7ee3-173c-5685-a2e5-5f573f4117fa', 'nyt://article/09ea409c-da04-5dda-9001-7cfcdea737eb', 'nyt://article/244cb9fb-1377-51ff-8221-63c988ea0b66', 'nyt://article/f53c045c-2311-55c4-9658-01bb0ae3311e', 'nyt://article/ecc5bfc7-5513-5e1b-a118-6e290e1ca70f']",
         "8",
         null,
         "0.04304546677428034",
         "Africa",
         "NYT",
         "8"
        ],
        [
         "40",
         "Burundi",
         "['nyt://article/ec31d0fe-c8a9-5858-9171-7f2a5eccc64c', 'nyt://article/de5d2cfa-6811-510c-aded-0a3c48c11659']",
         "2",
         null,
         "0.010761366693570085",
         "Africa",
         "NYT",
         "2"
        ],
        [
         "41",
         "Cambodia",
         "['nyt://article/0a45f15f-fa47-5f6a-a317-522b0410018b', 'nyt://article/fd4bb076-a665-5337-87ad-1cc6f7a34ab3', 'nyt://article/a7aa22f4-ab25-5b9a-8423-0fb76b3d474b', 'nyt://article/c440d31b-563c-55e1-8b79-503e757d6c5f', 'nyt://article/726871b4-d714-58fe-a340-8c80abe3cc54', 'nyt://article/1c0655c9-5209-59e2-b228-4fb6cbf6a297', 'nyt://article/8c726b97-3972-5467-9881-43a327c3c29e', 'nyt://article/c9e9340a-5c68-5755-8117-4b723356d58f', 'nyt://interactive/7c53d0e8-f08c-5155-b878-6ae27aa87510', 'nyt://article/abc6f2a5-94cf-5f32-b736-8bf0048916e1', 'nyt://article/ce205cfa-1338-5dcc-9137-05d62e27ec4b', 'nyt://article/3a4f0a34-3478-5ba1-931f-cc763237ab24', 'nyt://article/adcc7bec-5cc2-5d65-b4fa-e4c3a5b20ba8', 'nyt://article/b59182d4-693a-524b-88c8-e750fb96a74e', 'nyt://article/fc96dc6a-d4bf-5a8a-a149-9fac58844067', 'nyt://article/6ff00f2a-405a-5b74-99e6-f98f9a409884', 'nyt://article/bc243082-36e5-5cb2-be1a-956d02c28f39', 'nyt://article/b705a9ec-9b3f-5fb4-9775-a9d7bb301f5e', 'nyt://article/8ecee37b-633f-597d-b9b6-1300b012ae96', 'nyt://article/763f15f9-c0cf-5333-80b7-690312b01ac8', 'nyt://article/c6aa1a0f-0410-590c-ac89-523e3b855dd6', 'nyt://article/b7bd63d6-900b-5ca0-84c8-c3bde7b89cf4', 'nyt://article/f77eea6e-9e4d-5910-9f66-49f09fd9b59f', 'nyt://article/1e9f9ee1-1d31-5c6f-8f3f-e332449f871e']",
         "24",
         null,
         "0.12913640032284102",
         "Asia",
         "NYT",
         "24"
        ],
        [
         "42",
         "Cameroon",
         "['nyt://article/fcaf05cb-0e4b-5063-a3f8-ef729ede2429', 'nyt://article/c5fbdca0-e1f8-53a4-a6c7-33fddc6ea359', 'nyt://article/1dfe1dd1-4683-5496-b7d8-ac104d563057', 'nyt://article/50da83b5-69c8-52fc-a1b7-e174d4f3f07d', 'nyt://article/a988d12e-2d3e-5812-8e59-4296e40b202f', 'nyt://article/d4e8d43c-b797-5d94-8de8-bd4b668e4abe']",
         "6",
         null,
         "0.032284100080710254",
         "Africa",
         "NYT",
         "6"
        ],
        [
         "43",
         "Canada",
         "['nyt://article/e4c02236-1695-5480-b0db-f8f7b209c81b', 'nyt://article/9d0c2b26-3afb-5f53-a4ec-f0c2d300fad3', 'nyt://article/120e4e0d-239e-5b52-83bd-462598928a5c', 'nyt://article/f832574f-de40-5dce-91a4-89e32cf28a22', 'nyt://article/99c41f37-9ce1-5683-8d49-1a5e8d953912', 'nyt://article/fb39f5d9-f7d1-5770-9546-9cf69c881730', 'nyt://article/ea81caec-bd89-527b-962f-ec30cb1338d7', 'nyt://article/21b66d2f-6518-5f89-95c5-ff6e82c16aaf', 'nyt://slideshow/f37e4394-fb7c-5d0f-9158-50dea898324c', 'nyt://article/9195049c-81a8-56f9-821d-c3e82543e1b0', 'nyt://article/1485ed75-1ac4-563f-a0d5-41912f621902', 'nyt://article/91f7abe3-2818-5df4-9629-6c18bc2d2e1a', 'nyt://article/935764cf-a716-59dd-9734-9631cf445acc', 'nyt://article/8aaa5ccf-c6ec-5954-950e-dd8609b840bb', 'nyt://article/290b3664-6ae1-5700-91b8-bb79f06c4a06', 'nyt://article/c85a30c4-1ac4-5087-9304-766767ca3c6d', 'nyt://article/a6341227-7665-520e-befd-db6d3178dac5', 'nyt://article/1f4e37c0-7498-5cf9-8dd5-8c9f61ab2a1c', 'nyt://article/3cc220c2-20d0-5bae-a734-f43830448d6e', 'nyt://article/f58a0237-b841-5b97-9136-9a3276a382f2', 'nyt://article/05b7d2e0-7b61-572c-870a-67b39a46eb40', 'nyt://article/2ed420ee-0ce2-5663-8a0f-c7291e3515b0', 'nyt://article/0545574b-8d69-5150-a0bc-6109c9655243', 'nyt://article/74e12c53-c6c2-5e3d-ad6d-6a96fa680993', 'nyt://interactive/b7174af5-7083-52fc-8f94-14dfeae60af3', 'nyt://article/bb5ec966-98ae-501f-8518-792edcebb3f1', 'nyt://article/20d2c87e-6b0e-5e35-87af-572140d3771d', 'nyt://article/c75b899c-0971-5059-8c8a-40e7c7d423d3', 'nyt://article/f5361eb9-ce20-5c3b-a7cd-c8ca7d4eb96c', 'nyt://article/f2d84094-2a35-519d-97aa-eb51bfa8e2af', 'nyt://article/2bff4b72-9a09-5f4e-b306-8086ccc84af1', 'nyt://article/9186ee46-25be-5f12-bb19-a46dfc51e06c', 'nyt://article/05fb3aaa-6adf-5ce7-ba15-4d874e0eac98', 'nyt://article/8140c979-c1c6-5893-985f-12d647719870', 'nyt://article/10687ff9-3640-559e-b5e4-053cd97d4576', 'nyt://article/e1d6f178-488e-501c-86f9-5bff6504c963', 'nyt://article/c391aea8-2566-5436-9615-5b9eb158bef0', 'nyt://article/798e48f9-1b82-5b72-8ef5-e4daa2a9b03c', 'nyt://article/67c26a6f-e493-5a6b-af85-7bcb57ce8763', 'nyt://article/26217966-86fb-5795-aced-96dc4bac340a', 'nyt://article/71d72921-2bcf-5a61-b712-2f98f27bab83', 'nyt://article/9f5e3842-82d1-5e66-915f-ab93d564c7ca', 'nyt://article/653117da-ff41-5985-9217-2e107ae21e40', 'nyt://article/3793cd21-b7af-572f-8bed-7bd86dfe6870', 'nyt://article/0c212d57-0a2b-5539-9629-703a2571e33b', 'nyt://article/596cf5b2-02a4-5626-8d65-0a28f3dc57e2', 'nyt://article/6ff19930-da65-5e50-b4de-9916219e5784', 'nyt://article/d035a97c-2815-506a-8be3-4c712c286f67', 'nyt://article/e0c857ae-bf90-56ac-a0d3-a7d3e757b91d', 'nyt://article/fde72b8b-b1f9-52bc-884c-9c22151cb587', 'nyt://article/8a191ef6-c2a1-5ca7-b0c4-e67ce76b3829', 'nyt://article/8b200636-8df5-5caa-8daa-308efea287b0', 'nyt://article/52785eec-b875-54e7-bda0-32416517e391', 'nyt://article/7b7169c6-99cf-525f-84e1-0ce179f9a081', 'nyt://article/6d00d161-7f85-5c4f-b3da-005045a05de5', 'nyt://article/6272e4c4-70af-578e-b71c-ed858ed48f31', 'nyt://article/ba0c52f6-68b7-595c-a908-69b8a2cd35f6', 'nyt://article/4111e042-66dc-5cdf-84b9-611e9b6a8187', 'nyt://video/adf1f29f-2817-59f3-9b46-99c69eaab1fe', 'nyt://article/5c379f18-956c-57f6-b04d-3835f6df6c54', 'nyt://article/9ab314f4-f64e-5d52-a509-899134f4c036', 'nyt://article/c2a0e691-a44d-5aec-ab16-1f5a434efa98', 'nyt://article/cf1c881d-de6b-534b-86a2-925221dc63f2', 'nyt://article/a008167d-fddd-5f78-a94f-a5c20c40e7e5', 'nyt://article/6b81166c-1678-51f4-aef8-5f4e34aab8e8', 'nyt://article/7b1f933f-c9aa-51e6-8a67-5e0ccbe59d3b', 'nyt://article/dda12879-6477-515f-b996-b72659942e35', 'nyt://article/8ea22a88-940c-59eb-b869-aa8ccf5a50b9', 'nyt://article/546a73f3-cbf8-5f41-aaab-23ff75fe0b58', 'nyt://article/5fac99ab-8221-576d-bfc1-c84dcd8a8408', 'nyt://article/9f65bfdf-21b0-583e-8f42-252eee77cca9', 'nyt://article/4442ce9d-c553-5fd5-98e9-fec26eb78212', 'nyt://article/2f3ed7ac-6d90-5aed-9e1e-79e8fdbdfd0c', 'nyt://article/ed5ba83d-fed3-5746-863f-3b16b71e3864', 'nyt://article/c204a5ca-c330-5ea7-9a1e-1d39712abafa', 'nyt://article/59c84b6e-748c-51d8-b628-2a8db7fac7f1', 'nyt://article/cdecb5f3-3958-5c6c-b0e3-b9c792ceb944', 'nyt://article/40aa91de-4319-515f-9abe-b2b438da6e43', 'nyt://article/a7c548a4-c67d-5ceb-a6c4-165f694fa3c7', 'nyt://article/296e6d59-7af3-5196-9696-249b9066ceb4', 'nyt://article/015c74b4-2f1a-5b9c-a2da-a209284ae6fb', 'nyt://article/8e2f78a5-8a57-5bee-b02a-4e001d3c7037', 'nyt://article/2401f549-7990-56aa-9e65-8c7095b3b506', 'nyt://article/8c8f3d31-ab16-59d7-899c-5a9ce7133ef9', 'nyt://article/7f782322-27f2-533e-a2bb-8ced50389457', 'nyt://article/bd1ce263-21e4-5fe6-a457-98687b849a07', 'nyt://article/f3e16e69-97bf-592e-b447-43cd7899718e', 'nyt://article/34471c90-472f-54ec-b703-39c79e23dea9', 'nyt://article/a1d11dbf-095a-51aa-9296-b03ba7442f96', 'nyt://video/e34e2b43-436b-5290-be3a-2e816ba74015', 'nyt://article/bb262d5f-a165-51e4-bafb-8443e7fca3c6', 'nyt://article/adab900a-3ca2-5afe-b1d4-477fc6bb909e', 'nyt://video/04b4be98-44e3-5a0a-8b82-e3697a74ed90', 'nyt://article/45d17653-b188-5f7b-80c7-f9bf3251ad89', 'nyt://article/40d8aacb-e25d-5905-a704-5678ef2be3a8', 'nyt://article/417aeb7a-24fd-522e-9ae9-64b0c8be1ab1', 'nyt://article/95494e94-7f8e-55c8-88b2-1a0a63c35d34', 'nyt://article/a76b0fc5-af21-5473-b5d2-3d61d5a497c4', 'nyt://article/b9191b7a-bbd4-546c-a623-adae3b48f271', 'nyt://article/f51c31c6-4ffd-5b98-98a7-f7c68dd97d64', 'nyt://article/d039c247-225b-5b43-8430-0724abc3c7df', 'nyt://article/2e173a82-6f5d-56ff-9a14-c1698f798c43', 'nyt://article/722a8687-4a4a-53d1-8356-d706c5104b93', 'nyt://article/04a21d9a-ecc3-577d-906f-754d2457224c', 'nyt://video/f4a65528-9414-57fc-a24a-4b0a0a3198f9', 'nyt://article/48813ce6-5e79-5686-919f-942f25d0b875', 'nyt://video/174ceec4-d49d-560b-bf62-f986be3ea01c', 'nyt://article/061b1d80-5b7d-5a73-a5f4-bcd2f5574ad5', 'nyt://article/de2f7f85-e8e4-5abf-8d67-4439a0c62eb5', 'nyt://article/f700f5b3-cdf7-5131-a7ae-0e208552229e', 'nyt://article/da88c5e3-7910-5b12-8e64-02084e6db26e', 'nyt://article/25197be3-2e84-57f9-9af0-8bc5d36c3998', 'nyt://article/c53c9271-b07d-565c-9223-5ae808535c9d', 'nyt://article/252ae56a-1dc7-506a-9f36-0210728aad0d', 'nyt://article/a38a7b5f-f638-5f16-bd08-ece1782e3a7a', 'nyt://article/8af83f89-4013-50c1-8b76-7e066e63bf24', 'nyt://article/92bcd3ed-f203-558b-b684-4ff4dce47cbc', 'nyt://article/484b0ec0-e05f-5f03-a5f7-a468f713665d', 'nyt://article/99313863-09a4-5557-a493-7d37d7464c23', 'nyt://article/18712011-c20f-5f86-b983-88447d3df3af', 'nyt://article/55a5b7fa-8f9e-5e06-b607-346177007093', 'nyt://article/54b605b9-85da-59be-91a2-d9703f3e34d7', 'nyt://article/3d60c6a3-8140-559d-a7d5-0ff60ea9fe07', 'nyt://article/7355e44f-b003-5eef-a1dd-49686f6d4f0d', 'nyt://article/41832675-8516-5f37-afb3-87f8aa6e7176', 'nyt://article/4e5b93b6-0a0b-5c89-aa4b-628cbc80ce74', 'nyt://article/ddb75aa2-e63b-5b37-8701-68701fffb7bb', 'nyt://article/48aeaf1e-9514-5a90-8b9c-53450c839d58', 'nyt://article/9e9979c9-f148-54e3-9d27-92feae97eb5e', 'nyt://article/64ceed06-f6b6-518a-8218-5a6b5d390475', 'nyt://article/cfc43048-bf97-5e05-a2a2-49fc6757584f', 'nyt://article/8779589b-361f-5a33-a0fa-8d40d293fd07', 'nyt://article/158efe9b-5473-5284-8355-a5fd177f363e', 'nyt://article/d285f7ab-c815-5f53-a22a-058e8b114184', 'nyt://article/caf2171e-6951-5bc5-9262-ce9e1494d974', 'nyt://article/1bafe307-fc92-5784-9db5-c72a17133cd2', 'nyt://interactive/0866fb7b-603c-5d5c-b30f-5417e0828352', 'nyt://article/6c78b3d6-64f5-5008-8ead-2d72a298cf9a', 'nyt://article/ecb890a4-1df1-5725-9f19-6d14bd1e7d4b', 'nyt://article/1e8c8760-213a-58a7-9a67-cd2d9376189b', 'nyt://article/f82939d2-bbb9-5370-b09b-67ab5a62096f', 'nyt://article/24ae1999-aa1f-5b4b-ba19-e7925866dfbe', 'nyt://article/0a9e1699-6657-5929-9c99-a663ed7df77b', 'nyt://article/954e28a7-846d-53d4-9dc7-8c5ce1865d3b', 'nyt://article/f15acd13-69e2-5ffc-9cff-2ec9f6645489', 'nyt://article/81d4cd49-71db-5b39-8631-8baf6987baa2', 'nyt://article/ccd6bc59-1026-5572-800b-4e683f862969', 'nyt://article/cbf4dfcd-f1b3-51b7-9718-cc4f097421e1', 'nyt://article/3dec1bb8-81be-50ba-b1c8-e2c971667d72', 'nyt://interactive/3d8eb06e-58e1-5faf-b0c0-266feb0ea3a8', 'nyt://article/6fd967b4-fbdb-5e93-b8df-97b4dd422f03', 'nyt://interactive/adcd4a0d-2481-52db-a838-5c746ff09a2f', 'nyt://article/bf3b713d-876b-5511-ac2a-43b805f771ed', 'nyt://article/9ebc0041-6d71-54c1-a962-16c7c5216526', 'nyt://article/135046eb-1684-51eb-a3df-c8a7e19190e3', 'nyt://article/74527575-c0ff-5c3d-a43c-b4a2c21b6d68', 'nyt://article/30705640-6c2a-5b75-b077-22925695c487', 'nyt://article/0a996aca-0daa-5d56-8591-56f6e889fa1d', 'nyt://article/a7c52daf-964d-5119-bbb0-d7d0c14ff969', 'nyt://article/beb18333-d51a-58d9-ab70-b3eec1426678', 'nyt://article/e149ad57-21c3-5fbb-a7c4-984d27338441', 'nyt://article/0c6b924b-246a-51cd-9237-8e2b6b630098', 'nyt://article/f43cba88-b5fe-524c-a6f5-effb3ce6f828', 'nyt://article/3becb3ca-09b0-5a00-a686-14f1054564b3', 'nyt://article/7c0a5bbd-3610-593a-8c7f-8dc6d6dfc46c', 'nyt://article/7034f641-b9de-592f-9441-8d1bd0e3c5bf', 'nyt://article/d42cf4dd-379a-5c9e-a024-c3520d605c27', 'nyt://article/e5cea9e0-72f1-5ffa-b671-74b4f448bf51', 'nyt://article/763c6167-c219-5303-82e3-56f37197a246', 'nyt://article/a72590e8-dcc2-5c4b-9522-e5fb52746cac', 'nyt://article/9e7f969c-0cac-5506-bf87-4af5c58df8ac', 'nyt://article/472858cd-93e2-545a-9bca-ad6b2061b836', 'nyt://article/b3bba0fc-9256-58ea-bc86-13885d1fc4eb', 'nyt://article/abc471df-b1fb-5d38-8f2e-9d23d54eeb9b', 'nyt://article/d5a012ad-9a99-5520-9ea1-14235f8ada6e', 'nyt://article/1255b67d-6f0f-5f68-a4f0-614c71684b01', 'nyt://interactive/ec72d4ed-d437-57b7-a17d-4ac919653258', 'nyt://article/da910635-c6eb-5bbf-b0ea-346796620104', 'nyt://article/0650ee41-0fa3-555c-8687-d66fdbfa5b86', 'nyt://article/4f6c4a22-3f73-584a-ad1f-b3ff235990b8', 'nyt://article/b72538c5-5c5a-54a8-a842-e0fb0abc6f76', 'nyt://article/7eacf093-fe63-57db-8d68-415218c2c644', 'nyt://article/cb2e6c80-2100-58e1-b619-b30f3ff38c8a', 'nyt://article/852d9c82-87f9-5e10-a6c3-7d37159a6ef4', 'nyt://article/8782e8e7-7fd3-5994-b6b0-da81a7656e7a', 'nyt://interactive/6567bdfd-4b48-571d-b37c-5369d5680e89', 'nyt://article/3ec017c1-6595-554a-a88b-1c7ec498fcf1', 'nyt://article/a3af89d5-659f-5c0c-ba5b-c88257825aad', 'nyt://article/48c730c0-9250-5a29-befb-8c3782b23c2c', 'nyt://article/2ce12f2c-06da-56ec-838b-e4fd5d4a51f5', 'nyt://article/79a1ac68-62bd-5ac6-99f3-79850ba5c64c', 'nyt://article/6d3c79e1-2de3-582a-b403-65a26d2f0a87', 'nyt://article/a5903af6-130c-59e5-a908-e26f9938ea55', 'nyt://article/379663b2-15ff-58c4-bf87-8f48428f8888', 'nyt://article/c9fe15fe-b0c4-549d-8d9b-9da720feca4d', 'nyt://article/c5bc4a5f-edd7-589e-abb8-d056a8eeb1b5', 'nyt://article/c3753e8f-090d-5bb8-a6f4-57c0e9c4749b', 'nyt://article/cbc02da0-d400-51bb-ab64-241b316a71b3', 'nyt://article/8a8966af-b5d7-59d1-b01a-c7155b69118b', 'nyt://article/2f59c68c-ac80-5793-a00b-fcbf162c30a4', 'nyt://article/dd203755-521f-5417-92d4-35af7c435005', 'nyt://article/3826423b-7078-5f7b-9d1b-dd602d53c5f0', 'nyt://article/10b68136-7d20-5392-bac8-0a29cbb85c8d', 'nyt://article/d8e3d127-cc0a-5be6-ad00-8ea85f6ba91d', 'nyt://article/dc1428c3-250b-584a-9419-666e69b2efbf', 'nyt://article/d1131961-9ed5-554a-91c3-84908bb112b0', 'nyt://article/598db2ad-134c-5f93-b294-20b40cdb422d', 'nyt://article/4dd03502-10a1-55a5-bd8a-9b95dec7aa1a', 'nyt://article/eb20bc8e-a4c7-54c1-9546-0fc830eda916', 'nyt://video/3b261cc5-c5e5-5481-9bf0-0b6e0aa298a6', 'nyt://article/d68c8a6a-f275-52ab-8d81-8c04f2538bed', 'nyt://article/ad665815-e98d-550c-947d-fe1b6b6c868f', 'nyt://article/fe1a7c93-0a1a-5d69-9592-73c1b4faa68b', 'nyt://article/1d5a61ce-b39d-54e7-90e2-561418801840', 'nyt://article/96b7b51e-f5df-5c06-9d22-2fb974b59a8d', 'nyt://article/954bc947-a7ee-5d8c-844c-c73c3c57ad79', 'nyt://article/e84c35f5-afcf-5d53-8a0f-764f23064278', 'nyt://article/96129e6e-c9bc-5090-a168-53362e2e1a3a', 'nyt://article/209519e8-7368-57a4-b8fb-53c598b9570e', 'nyt://article/eb30b779-fc18-5189-b22a-4affc0669ad9', 'nyt://article/d8ebc529-a63d-5374-94fb-50f8f4ae8346', 'nyt://article/937d629e-5c21-5863-9358-9b93767b194d', 'nyt://article/fd622ca4-65ce-5c63-bc18-f4397b3c9ec0', 'nyt://article/f55e94af-a707-5e47-97b4-a52f92bef87e', 'nyt://article/de9a146a-eeb9-5c0e-ba3c-08d5639de38f', 'nyt://article/2cd98abf-e3c0-5fc4-a332-c28f4d05bd9b', 'nyt://article/69e5aa07-b267-5af2-a35f-ef0897cfcd48', 'nyt://article/7b3fc537-a568-5d3e-b1fb-07e3166ec112', 'nyt://article/11e064ab-9132-5c67-8000-71515cf921fb', 'nyt://article/23f70cdc-83f0-565a-9092-1917199ad802', 'nyt://article/25ad4023-7d3c-50ef-93c6-e1542bf5b6ef', 'nyt://article/4ffa1602-d6da-511b-bfa5-9300c75b336a', 'nyt://article/ed363834-9e24-521a-b577-208e45c30e58', 'nyt://article/d13fadd1-27e4-5ba1-afc9-e29ea1b21756', 'nyt://article/07d6c3b0-2249-5964-981f-8a2f76357a27', 'nyt://article/51cea108-db92-54d6-9e13-b130ab2776f7', 'nyt://article/6851662b-ff70-5fce-941f-1cde598ee74e', 'nyt://article/83288174-3224-5d3d-a996-fc8833c11ba2', 'nyt://article/6b97fff2-83e1-5623-ab10-bd22f4b3d11b', 'nyt://article/39cf42c8-ec2a-5420-b524-0023012a23e9', 'nyt://article/bdc7c17a-fcf5-5b18-b9ee-237a06318d48', 'nyt://article/286278eb-4383-5af2-a8fd-1918bf98d6ae', 'nyt://article/6b3e5f76-e8cc-5a2a-b766-ece0ae95a82b', 'nyt://video/6086acbc-4064-58b1-83fd-817893a5132b', 'nyt://article/51b5729f-b195-538f-87fb-1b236248aa0e', 'nyt://article/b60263a2-9068-59e9-a217-de93a57bad73', 'nyt://article/0150f781-adde-5b51-a27b-5ee1a516ad11', 'nyt://article/1660ce49-08dc-5886-af6f-a77a3e9d2b90', 'nyt://article/5e5c3c09-42fe-5702-a897-ac99ed0da598', 'nyt://article/8171ed8f-1182-57f6-85f1-cd46924c8ccb', 'nyt://article/6fa39e37-a1a7-59f9-98b2-e701274b76d7', 'nyt://article/b305f553-8799-5dd3-9bae-9e56174a7a58', 'nyt://article/c66d01de-f1ad-555e-8b1b-8ef2081a8a2e', 'nyt://article/1e1089d5-7e64-5582-b2e7-cf0f2ae4f193', 'nyt://article/608e8353-e88a-55b0-a631-2eb964b06fc4', 'nyt://article/2bce4802-102d-5a1d-8447-582c8b445480', 'nyt://article/6c55a2e4-c1aa-5e03-92f2-fd058f9f97e1', 'nyt://article/5ea115c2-6b85-584e-9188-8f0e84251856', 'nyt://article/358c6fb4-cef5-5a68-95e9-d781ab2c0a7e', 'nyt://article/f39a5a5b-4613-5ba0-8934-46ed72a662e9', 'nyt://article/ff5238aa-7d0c-5c8f-aef9-88f6198b328d', 'nyt://article/fca9d08b-77d3-5839-a9ff-9497c4e92fca', 'nyt://article/ca3d0753-e32f-5c77-af3b-d37297d21652', 'nyt://article/be8e1ec9-d1ae-533a-999f-4b2361f5d223', 'nyt://article/94be81c3-c9ae-5796-b7ae-abdce8b7fe60', 'nyt://article/3828bc1c-aefe-5e8b-8af9-2785d4a3bd0b', 'nyt://article/af921fc9-3b42-54d9-b938-60a66b1f40b3', 'nyt://article/cb07d2df-9e20-5924-b241-6d950682c000', 'nyt://article/34755866-baa4-5af8-8f83-4ae4a24c97a0', 'nyt://article/b83b0460-2f2a-5fb3-9e39-87be25e8fba9', 'nyt://article/398e854e-4820-5aad-b0b2-b0daea8e6cd3', 'nyt://article/76e11970-4d69-5716-9b80-2820201d9f22', 'nyt://article/b1af719a-8776-5639-9313-d6d58829c681', 'nyt://article/827a3de4-4e4c-5bd7-9717-65d1772cd03a', 'nyt://article/b698781b-8a73-56fe-908c-a0e8d494755e', 'nyt://article/523ecdca-1216-518f-8661-a60972a5169e', 'nyt://article/05503b24-9042-52de-b3e5-a04464155a1a', 'nyt://article/cc61eec9-65fe-5f4c-a69c-0e0ab05f1223', 'nyt://article/4c959589-21ac-5016-8c6a-19e236bd4f4a', 'nyt://article/81012c29-8632-5056-97f6-60b9727c6848', 'nyt://article/871fc07a-da6d-535d-8c88-a472d013b2e6', 'nyt://article/b3e395bd-8d3a-5ca2-abb4-fd1712abb304', 'nyt://interactive/8377ca81-4dd6-5734-855e-69516f60001a', 'nyt://article/1d2f513f-a5c7-5272-924d-4f1abebc51d3', 'nyt://article/bca1acb4-6859-5c77-9504-2830f69f9fc5', 'nyt://article/792e1284-29fd-5573-9519-05e63be23de6', 'nyt://article/6da5038a-d598-5572-b54e-14e32267ddd4', 'nyt://article/23fbbff0-e90e-5f44-8372-7b9d902c284b', 'nyt://article/95cdfd7e-7224-5a7c-ae61-010d17ae31df', 'nyt://article/c6eedcd7-d9c1-579f-9664-616908b2dc25', 'nyt://article/dd42d45a-633e-50d2-af77-05359bbde678', 'nyt://article/0af8fc57-fbd4-5b61-8384-5a7d126db5ca', 'nyt://article/3b7883c9-8aa2-58ea-b78c-bfc99a59dc17', 'nyt://article/b7c1033a-4d83-536e-be8b-dc9549d65155', 'nyt://article/83a2be3d-8844-545f-9600-68a274a3ae67', 'nyt://article/c480d0c2-d171-5768-82ff-528b10888ca6', 'nyt://article/23ad3619-a76b-5125-b61c-5a0779e3e2e2', 'nyt://article/cabe133e-dec6-5f79-9aca-52bf0b37d91a', 'nyt://article/30ecf60c-5411-5907-af4d-6e4f0cb8534c', 'nyt://article/8863b5b1-53ff-51df-b691-fade8fd498d3', 'nyt://article/e64bd29f-c602-5e6d-9ff8-6da1edce98dd', 'nyt://article/7d9566d8-efa1-508b-b871-c96f5c5e1950', 'nyt://article/56fc027b-a20a-5088-9c32-f035411328f3', 'nyt://article/53418761-50d9-5358-b126-e45d191d4b8a', 'nyt://article/69b916dc-b719-5c6b-bc41-2775387dc309', 'nyt://article/0e6cfefb-5716-5224-a236-06e6c01c3211', 'nyt://article/1068ca27-eb20-5ba0-9cdb-502851a3b948', 'nyt://article/dc890902-a23c-56ba-bca8-5f8f0071a60b', 'nyt://article/fcd21d4d-a1d1-51b7-a008-8b594f0b96e2', 'nyt://article/99a4d448-069e-50d0-94cb-2de4742e8485', 'nyt://article/7a828e86-6353-5787-953a-335a2d7c456b', 'nyt://article/97b7a906-53ec-56a9-87c0-83a47c512b49', 'nyt://article/350a9c04-fd7a-5b60-b4a2-1792b74e399d', 'nyt://article/a2a28e01-b98e-5813-8400-fd7fb0ce2997', 'nyt://article/e95678c6-90d4-5cd8-a51d-8a8bcfc66be1', 'nyt://article/d34c1c71-e982-5637-9078-b594c9e60a46', 'nyt://article/ed165c11-21e0-5162-9a4c-f2aac944750f', 'nyt://article/df0e8e33-3a0d-52c3-8c88-23b8fec6706e', 'nyt://article/9e5bcce2-3cca-5ad8-8989-65a1f9bfe291', 'nyt://article/d5cb5578-519e-56ce-9f76-21ed88cdf444', 'nyt://video/6ad495ba-0cbb-51b1-9c15-d3ed0653e135', 'nyt://article/52706e7e-12c0-5c66-871a-95cfc0afc334', 'nyt://article/d28780ac-bc16-5a6b-bf75-1cd1c789d32c', 'nyt://article/2ab0ac1e-3e6d-5a9a-a458-5ab4561880dd', 'nyt://article/6b3a749e-396a-5e5b-8bc3-8f45849b2535', 'nyt://article/00c9e71a-7f0a-5304-a823-597495985f6f', 'nyt://interactive/f153fa1b-4a3c-5f0b-b399-a6293e30212f', 'nyt://article/e1beb64f-9804-5516-bc1b-d8d30e1b21c0', 'nyt://article/eac1f119-03f2-5f59-b64a-b7dcadf86b55', 'nyt://article/2b152871-d329-53e7-b3c1-f986d18c3ae2', 'nyt://article/b7e9864c-a04e-5c9b-aabb-a5a3ad3781b6', 'nyt://article/c9c4fe16-c986-59f8-844a-a3339d75f29e', 'nyt://article/f1921814-71c6-5e9b-8324-43714c23b3ed', 'nyt://article/e7e9526b-85b1-52e2-891a-26fa65711895', 'nyt://article/7a30ecf0-b551-5994-a5e5-2cfd30f0d66c', 'nyt://article/31f6c345-c8bc-5d0d-8c49-445b0f8a201d', 'nyt://article/682f16eb-d66d-5232-a79c-631ee22d3468', 'nyt://article/e953fdba-1714-5be3-807e-590dfb4d0e9f', 'nyt://article/f34a22d3-705a-51d6-a32c-44e1d0713054', 'nyt://article/39db45b5-6f87-5dee-9d1c-817323abd158', 'nyt://article/5862b2c1-da5b-59e8-9f75-11e86d6dad0d', 'nyt://article/d21daae3-37f4-5682-ae81-be3f39e59781', 'nyt://article/50d4147f-ef1c-5f95-942e-fc05b2d12157', 'nyt://article/f8f13337-8f29-513a-89f6-6163fbab4175', 'nyt://article/60be5c22-d9af-5545-85a5-3eaf22871b5e', 'nyt://article/9d2fb890-56a3-5af1-9bd8-abeaf02358e5', 'nyt://article/32c59c1c-a39c-5538-97bd-45cf57e19305', 'nyt://article/c72b539f-3fcf-52e3-92cc-ad6be4ebf9e6', 'nyt://article/7123c113-f19c-5983-986e-d9fed0a10332', 'nyt://article/7fde1996-d185-5781-bd34-1f8dffe80752', 'nyt://video/c13cf3f4-7024-5f07-a8ce-8d54d88dc8a1', 'nyt://article/0f4aeaed-decf-5bc9-9efc-c7d5d82bd9f7', 'nyt://article/4bed8f00-1978-51f6-80a7-73c78eb18b4c', 'nyt://article/d2111079-e7de-52a5-80be-54fb6fdd08aa', 'nyt://article/cd07671b-939e-52fc-8454-cadf23363900', 'nyt://article/5874b4b5-326d-59e0-8826-bd9507886414', 'nyt://interactive/8e1b2a6d-ea16-585b-a525-582d3f0db9ef', 'nyt://article/60d2c6b4-d097-5271-9c32-0277afdbe39b', 'nyt://article/52e2babc-dabb-5839-8f21-d22b32ece44d', 'nyt://article/301898cf-7af0-5bbf-8f8c-2ba5f98310d4', 'nyt://article/f1f642a2-039e-5a5b-8d1c-44f8e77867f1', 'nyt://article/7a93dfe5-8cbb-5f59-a6a3-b1146ff25563', 'nyt://article/7e228b1b-dcc4-573a-9f36-b831cd5201b9', 'nyt://article/73926ab4-2594-5938-ab0c-381e1123e5be', 'nyt://article/832c9cf6-ba50-5558-8557-7602513429c0', 'nyt://article/ed99f6eb-d805-56a3-b908-3ec1e2802ce4', 'nyt://article/96a55f9e-756e-5ddd-928b-789d304b5002', 'nyt://article/68172406-c15a-541d-8918-96f15c31dd2b', 'nyt://article/064aa37c-27a7-537e-8444-fe677768c406', 'nyt://article/4c80be0e-1575-539f-9670-0324837c347a', 'nyt://article/781e1cae-a5ee-59c9-90f3-44700abee119', 'nyt://article/40c7a261-fd3d-5fbb-bdcf-e98d8419d6cc', 'nyt://article/9d38f20f-68c6-5db6-8f39-5c82bf84dd28', 'nyt://article/6a1afc0d-23b3-5a5c-9e32-c1df928a7590', 'nyt://interactive/ae557018-3933-5e57-8b30-2f195b161811', 'nyt://article/b6ef76c1-45d7-51d2-80ea-17d4b907a6fd', 'nyt://article/4fb535ba-fcd0-5385-87c6-9a0656246517', 'nyt://article/61efa0ef-43d3-54ae-8387-66d17e19b8bd', 'nyt://article/e1c88ac9-9b3e-5475-943c-001a379b918f', 'nyt://article/6094fa8d-1e99-5f52-b122-115bfb5ac97c', 'nyt://article/5cc804aa-3191-59fa-a7d5-e68747cd5c06', 'nyt://interactive/532d12c6-7200-5f40-8e5b-4ec96686269b', 'nyt://article/e09d5df9-e70d-546f-9d55-9f4ddec8c103', 'nyt://article/c19d67d4-b550-5e54-8552-064ab7e2be40', 'nyt://article/84a5c425-42dd-51fc-86fa-c3cc7ea7600b', 'nyt://article/13143803-8bf8-5a7c-92b6-4a08bd6027d1', 'nyt://article/545460bf-f0c4-5055-97cb-9ac5f9c48880', 'nyt://article/652b24b9-44a0-5e82-a815-f9b8b7c77212', 'nyt://article/61d79dbb-b8e1-51f6-97ef-43b7726e9595', 'nyt://article/1f4e11c0-5395-5ac7-a538-839f74e1c545', 'nyt://article/7016e37c-af00-5b3e-86f1-bf15b2b71f59', 'nyt://article/f1ea4895-4345-59b6-81ea-0b9e08e322b6', 'nyt://article/11ab2989-3889-5a5e-9968-2ed9802718db', 'nyt://article/74f569e9-6ee1-502f-833d-eedb790bad0e', 'nyt://article/56660a8e-77b4-5242-80b7-322337cd5888', 'nyt://article/232d4e99-3371-59e7-a1f3-c0995febfc66', 'nyt://article/815861f4-349b-5eb6-9c9f-0253d9dcc352', 'nyt://article/8a790596-1e51-52d1-bbd8-a23a6bdbbe38', 'nyt://article/44ffe1e6-a153-507c-a295-5bc1bdb850bc', 'nyt://article/c0a0f857-ecb6-52d0-962d-b9803e401ca2', 'nyt://article/27e17fac-e79d-55d0-b308-36dc4dd7adf4', 'nyt://article/b9ce3296-964c-5e75-8f49-5ed457b6c4c5', 'nyt://article/96d8a0a3-c3cb-5d0c-aa0c-8e795b1414f6', 'nyt://article/3656a3e7-ebdb-5f43-bffd-fbd36db95f6a', 'nyt://video/b530af12-a8b5-5708-a305-6d045fe49f8a', 'nyt://article/f0ae8450-173a-5151-adb3-d0b5f4749bde', 'nyt://article/ff0464cd-482c-53c6-bb7e-00ae86228e86', 'nyt://article/e0fd0271-0db1-595b-908b-af8e53d6666a', 'nyt://video/6d5c158c-e373-560c-af87-d69baff3c33a', 'nyt://article/26cf0bb8-5b54-57f4-b61f-6717430a04c1', 'nyt://article/1736bba5-0842-5231-9f42-bbf512673416', 'nyt://article/8fe504d4-2e5d-5cb7-bcf0-b8f47125dc9c', 'nyt://article/5b529c9b-5b8f-561e-816d-92354390c19e', 'nyt://article/07886ca9-148f-5924-8791-cd02f6271af7', 'nyt://article/74445b4a-5b7a-5995-8470-ec771ec6469a', 'nyt://article/cde83fff-6b10-5e1f-ae26-4f7fda1d44e0', 'nyt://article/68d65e58-a57f-53ab-a86c-a8c5f50dc2f1', 'nyt://article/8ceeb74c-0110-5697-af59-7e47b2a6ba75', 'nyt://article/1c462645-d944-5401-b2df-0441a069b352', 'nyt://article/c56ce7c9-f343-5602-835f-e39ce9c2213f', 'nyt://article/6a1bfc97-d551-550d-9565-04a4dad326c2', 'nyt://article/969e5ae1-c413-50f8-a98b-62b53213c3c4', 'nyt://article/7ef2269e-de82-5754-84f6-3b685acc82d6', 'nyt://article/057efa19-09d5-5377-a996-48e669c07379', 'nyt://article/975b5c99-9580-579d-b972-7ddbd29a38bd', 'nyt://article/55431065-129a-5d0e-9380-c8bd4ee80114', 'nyt://article/9634d336-8811-51b6-b13d-86c9d2b65752', 'nyt://article/c313714c-bcdb-5c53-ae42-32e740f5c6a3', 'nyt://article/222db215-088f-5608-8a6a-8966b40a24fe', 'nyt://article/008688da-8a3f-597e-9dc5-73c497a61f53', 'nyt://article/e075daf6-6fe1-556c-8a83-25d6ce03833a', 'nyt://article/44ed7547-9d77-5b8f-8368-4ba4579ea493', 'nyt://article/b5f1df69-24bd-50b2-b3c3-287a8d233753', 'nyt://article/e05100fb-2910-58d1-9c6f-89e6227e3c07', 'nyt://video/019e96bd-15c3-59c2-9819-520bc4b63d3e', 'nyt://article/aca0388e-f8e9-5a13-98ba-ce129c4ddd0c', 'nyt://article/a1b2802e-014a-57ed-b380-5a16048b9414', 'nyt://article/a3e00b18-c078-5cfb-b6b4-1b99607225f4', 'nyt://article/675cf4e4-3ac9-5f4a-85ff-8ee7d9461441', 'nyt://article/0b1c6c10-3ff3-549f-90ff-3e42fb1aab96', 'nyt://article/e1da3cb5-18d8-5817-a684-aa932a20c9b1', 'nyt://article/22ead0fc-51a1-5a51-8927-333af05fe4be', 'nyt://article/c0f976ba-1357-5979-acac-cc02984d1fa4', 'nyt://article/67763624-8493-5a37-9ebc-cd39e4a4940f', 'nyt://article/2ccbcc75-d9f4-5938-afaa-d34c877a8b5b', 'nyt://article/ebb4948b-b390-5138-b10b-ff0e344fb613', 'nyt://article/863d7ce7-229f-50f2-abff-2ed220500715', 'nyt://article/c21f8c8c-8d3a-56e2-a481-cce52ca4a436', 'nyt://article/bf4a99ec-4a92-51f8-89c9-d903edfee7c0', 'nyt://article/3083e8da-e87a-52ba-be9b-259a2d04e149', 'nyt://article/e5471980-ba2f-5f95-82e7-937c6df7600e', 'nyt://article/ec3c6a50-29bc-5052-9288-d3629a3694ea', 'nyt://article/1686addc-6284-5ce9-a262-b35c4c891068', 'nyt://article/c8d05def-008e-546c-a98b-e8d99f080a27', 'nyt://article/dc0c6e06-eeee-52f8-bd73-014d854f0fb5', 'nyt://article/519614b0-7920-52df-b42c-dea6ce94cefe', 'nyt://article/366c9db9-b7e8-57af-9425-415e6572a64d', 'nyt://article/b716cacb-3505-579c-b15d-90b4b2e04e47', 'nyt://article/e7b0e0b5-e75f-509d-a9f1-e57c15e1493e', 'nyt://article/8f468b36-ad60-552b-8063-f7d3c415416e', 'nyt://article/2293e392-8bbd-5550-872c-92cea5e7ef35', 'nyt://article/713fa2cf-9ed7-5564-9b62-6fa7f4accc97', 'nyt://article/ac3f34e3-7bb5-5c3e-846a-d8e731e44970', 'nyt://article/0c14d559-6991-5e0b-87bc-4b214f2a51ac', 'nyt://article/14a42fb9-1ed7-52c4-a28f-6ec7b66ba7df', 'nyt://article/0ba00d33-cdbc-57fb-bd9e-9e6cdf32eea4', 'nyt://article/658e2488-2276-536b-aaf3-dac7d9959ff6', 'nyt://article/c441947b-2c83-511c-918c-51c1e92385ae', 'nyt://article/2534fda3-514b-51dc-a525-328b039a2e43', 'nyt://article/22219913-69fd-5794-a50f-28d243789dc9', 'nyt://article/b0caebd2-ef5b-5588-ad67-9b49c3b06420', 'nyt://article/4142adf2-ea1c-5d1e-9693-d76309c6dde6', 'nyt://article/14441454-ee6b-5dc0-85f0-cc8d0cc98c1a', 'nyt://article/9f67059d-b082-50d8-b809-ebd97db0155f', 'nyt://article/4c89690c-2d88-5666-b3a4-9cccd6ff4cfd', 'nyt://article/345ee78c-1013-5ed5-a0c8-c8c6f25db6e2', 'nyt://article/0c3058cb-61ca-5904-be77-178cdb5b7a46', 'nyt://article/4d123274-8627-5fd2-a13e-4e5d6c012faa', 'nyt://interactive/db2d684d-ccf8-53f9-9fd1-080cd3338b66', 'nyt://article/17ea0afa-d3ea-55a2-85a8-8799db99297f', 'nyt://article/865d1988-05de-5ad2-bc19-0aca7ba716a0', 'nyt://article/fd46fee6-68ee-5041-a3f0-816d4834889f', 'nyt://article/fcaf05cb-0e4b-5063-a3f8-ef729ede2429', 'nyt://article/0a4fb646-8bb5-5b60-9f20-e794e150531d', 'nyt://article/bbd016ba-d860-576d-99e1-0f251f01af53', 'nyt://article/bab3b504-c10e-51c3-b99c-dfc1a7173d3a', 'nyt://article/ba5abaa5-22e1-535c-99f2-b894651ce10f', 'nyt://article/55105b16-71c2-5e71-af6d-5fb2f3714351', 'nyt://article/fa4dc20a-629a-5837-8675-7342a7095464', 'nyt://article/0a9ab5ac-a54b-52e1-82de-f29562d2781c', 'nyt://article/4e76384d-764d-55e5-bd22-9009d4148189', 'nyt://video/052807cc-caa6-5a9a-986c-296570e7e177', 'nyt://article/475cda3c-4fa2-5f70-a185-ffe806cdefe6', 'nyt://article/81ec3052-805f-55df-8839-d68b7a459688', 'nyt://article/4336fc5e-b8e2-5566-977b-a86ef2fab052', 'nyt://article/0e335aca-12fd-510c-86c8-a5fde981ba37', 'nyt://article/c952cbc9-331f-5cf9-8227-8838df2f16bd', 'nyt://article/c0b9a73f-66ef-5b5a-a3d8-ee84f899d726', 'nyt://article/75122518-6cd0-5a5a-86d6-5dcb44147430', 'nyt://article/3e85dac6-d0f5-5748-9fee-5adfd79df0db', 'nyt://article/c24514eb-d6de-5791-9fe1-4914957f37cb', 'nyt://article/9d3a4a42-d615-5e9d-8db8-9779bfc63ebd', 'nyt://article/a97097b9-4806-5c14-b978-f217ff768843', 'nyt://article/01f28ad8-81c4-5ca4-90e4-892f9e50a336', 'nyt://article/8f179d88-c817-52b7-a3f4-4ce65e50c506', 'nyt://article/1c2f0425-7b78-5a8b-b17e-41ade1223192', 'nyt://article/3b6fbc1b-5d55-53fb-940b-b76fb9fea7ad', 'nyt://article/f2a3d085-b885-53a0-87db-1feb79c7f66d', 'nyt://article/d0e4ea07-9a28-5889-8870-7d9be3840876', 'nyt://article/c2180845-6df9-59c1-9d2b-8e9b26e23746', 'nyt://article/b0d12d7a-c8e7-5c36-bd3c-669590c80d57', 'nyt://article/34e910b4-d332-5692-8f7e-2a14bf4d7a2a', 'nyt://article/21c013bb-159c-5fe3-ad39-00456a9dcc80', 'nyt://article/7d406b18-def2-55b9-9989-3655459a43cf', 'nyt://article/e47215b4-6edf-5e3b-89a5-b62676df6375', 'nyt://video/dddad6d6-bffc-5a22-983b-35cfe597a14b', 'nyt://article/aef9a593-c9bd-5786-830a-e3fdae918eac', 'nyt://article/40ec6d4d-4dcc-506d-8075-d7d5019aac8a', 'nyt://article/4e775395-1936-5af4-90e8-12d9c6c7eed7', 'nyt://article/5c2a1cbc-5147-5eb6-bdc2-b082aeb8e67b', 'nyt://article/c36771af-a6d7-5c6d-9947-772def83cf6a', 'nyt://article/53fc122f-2cba-5278-a048-212c3eefc721', 'nyt://article/cb7d84e0-149a-5798-b619-9188593f11ca', 'nyt://article/8f540855-3f51-5e31-ba80-c6edb7146b1e', 'nyt://article/256daea0-f119-52cf-a824-1fac2f70e684', 'nyt://article/6785aee5-4103-5308-9279-33835b13793b', 'nyt://article/320f4170-3e38-5b8c-8a9c-904bddeb09d8', 'nyt://article/95f6009d-70fc-5b30-b7db-b11a9f607edd', 'nyt://article/93fa297d-4d56-547f-b37e-4b3fdb9987dd', 'nyt://article/c55ef6a6-e06b-5c36-a763-57c2ca0f7831']",
         "530",
         null,
         "2.851762173796072",
         "North America",
         "NYT",
         "530"
        ],
        [
         "44",
         "Cape Verde",
         "['nyt://article/2277a789-ee94-54d6-b682-171604883d76', 'nyt://article/b31bf7b8-fd6a-5c88-b518-a92505671024']",
         "2",
         null,
         "0.010761366693570085",
         "Africa",
         "NYT",
         "2"
        ],
        [
         "45",
         "Caspian Sea",
         "['nyt://article/ea2f8cef-794a-52e7-8891-8656b2891bab', 'nyt://article/d7ea26e8-b61f-5975-bd0e-ff455733ac5b']",
         "2",
         null,
         "0.010761366693570085",
         "Other",
         "NYT",
         "2"
        ],
        [
         "46",
         "Cayman Islands",
         "['nyt://article/07d7bc2c-4677-5ca4-aa52-b31e96846bdd', 'nyt://article/a456784d-b5fd-5a1a-b0b1-49f1a8739c04', 'nyt://article/caf98741-73b7-5dc0-bfc0-9314490fb22e', 'nyt://article/4d6970ca-53c0-51d8-8c98-f0ea58b16e2c', 'nyt://article/0539543b-5dd8-5dcc-a0b4-9893e0fa3ade', 'nyt://article/be74adb5-7a7f-5ee8-a978-63e5c8744895']",
         "6",
         null,
         "0.032284100080710254",
         "North America",
         "NYT",
         "6"
        ],
        [
         "47",
         "Central African Republic",
         "['nyt://article/8e9c68f9-7b15-536d-a7c7-9b34671ab74b']",
         "1",
         null,
         "0.005380683346785042",
         "Africa",
         "NYT",
         "1"
        ],
        [
         "48",
         "Chad",
         "['nyt://article/34e514ce-6ebc-58f1-bf4b-d750eadc447e', 'nyt://article/2ecf5073-590a-5fcc-b7aa-5ca1d3743dd3', 'nyt://article/5a69ade6-b6a2-5b93-8d88-48c8d65c36a9', 'nyt://video/d650de63-1cf4-5371-ab0b-aa50a14aab59', 'nyt://video/c28cda1a-5bbc-5b9e-95d3-436104e991e1', 'nyt://article/0f131aca-c945-564d-8c22-d273f6fcbbdf', 'nyt://article/ed2d23a0-5c77-5be2-ae6f-0ca58fcdd1b2', 'nyt://article/82beab25-c048-5423-bded-f026e34edf06', 'nyt://article/d8309b41-b5df-51e9-9078-b09483edf1b4', 'nyt://article/897a0e53-6076-5a98-bb28-4d7d3df155a4', 'nyt://article/53118789-4397-5531-89b9-9058ba300f0c', 'nyt://article/a4b99254-7fbd-5804-9967-32ed3e43172a', 'nyt://article/018d4a58-caea-5a5a-8f20-e6c06873b688', 'nyt://article/7bc0f53e-3bab-5923-80a3-0d46cc92bdad', 'nyt://article/a9921911-82c3-5820-8f1d-ae6c7cba37d0', 'nyt://article/78237980-8280-5d83-8cc9-b408853106fe', 'nyt://article/428f1222-5c16-5449-988a-db38277c2e61', 'nyt://article/22ae90a5-47fd-571d-8389-0df2021b253f', 'nyt://article/8a51bb2b-1b25-5a46-8f35-05b9c5a8c6aa', 'nyt://article/2dbb5dbf-deb3-51b3-bf62-ae0ddca16e93', 'nyt://article/890d3351-1a2a-52a4-867a-fefffe6adb12', 'nyt://article/d24390b1-03b7-51b0-80ca-f005216014d1', 'nyt://article/b472a426-1803-590b-ab5d-a81aea32a425']",
         "23",
         null,
         "0.12375571697605596",
         "Africa",
         "NYT",
         "23"
        ],
        [
         "49",
         "Chile",
         "['nyt://article/b68a2290-9b5e-5c72-b087-d61078994aa5', 'nyt://article/34399e0d-af56-5a07-80fc-04f64a7c0ff8', 'nyt://video/a90d2d24-3aa7-5ead-9734-4c843d1ccdd3', 'nyt://article/90e7e151-69bb-5749-a07f-d18f9ccbe36c', 'nyt://article/7bc80009-1432-523b-acce-5323e444a015', 'nyt://article/a337d30d-3b38-52cd-a29a-840133f075ba', 'nyt://article/3fa03e6a-e484-5eb4-aab6-02fe01b547b3', 'nyt://article/73dc9de1-a40e-5414-9f7d-8e2c20a79e45', 'nyt://article/4bfecea0-f385-5ad3-87f3-5170cb7e5b48', 'nyt://article/6045611f-3f32-544c-9255-a5efa1b01cf1', 'nyt://article/5cbdc28e-0139-57e6-90e4-a4cde6630360', 'nyt://article/fb0436be-af6a-50ec-8472-15c5151ff6c5', 'nyt://article/60ab25a2-31c3-50a9-a84f-9e9c424da10d', 'nyt://article/ab5ee955-9d3c-549a-bc1c-42066ba59a05', 'nyt://interactive/66ceff15-1a83-5deb-a558-5a51d705efcb', 'nyt://article/f0218d79-105f-595f-a25f-ac1976d9f4da', 'nyt://article/795e6730-0b33-58ad-9d63-8d7e664ea475', 'nyt://article/b1fe6db8-89ea-57f6-8539-f274d3da3b57', 'nyt://video/bcc72e90-73b2-5001-8106-da12ec781054', 'nyt://article/92bdf0eb-26b8-569a-9f52-f8c905270336', 'nyt://article/1dcc1506-e30f-50c7-a6a2-ad6b257d2d60']",
         "21",
         null,
         "0.11299435028248588",
         "South America",
         "NYT",
         "21"
        ]
       ],
       "shape": {
        "columns": 8,
        "rows": 245
       }
      },
      "text/html": [
       "<div>\n",
       "<style scoped>\n",
       "    .dataframe tbody tr th:only-of-type {\n",
       "        vertical-align: middle;\n",
       "    }\n",
       "\n",
       "    .dataframe tbody tr th {\n",
       "        vertical-align: top;\n",
       "    }\n",
       "\n",
       "    .dataframe thead th {\n",
       "        text-align: right;\n",
       "    }\n",
       "</style>\n",
       "<table border=\"1\" class=\"dataframe\">\n",
       "  <thead>\n",
       "    <tr style=\"text-align: right;\">\n",
       "      <th></th>\n",
       "      <th>country</th>\n",
       "      <th>ids_of_articles</th>\n",
       "      <th>count_of_articles</th>\n",
       "      <th>iso_alpha3</th>\n",
       "      <th>perc_of_coverage</th>\n",
       "      <th>Region</th>\n",
       "      <th>outlet</th>\n",
       "      <th>count</th>\n",
       "    </tr>\n",
       "  </thead>\n",
       "  <tbody>\n",
       "    <tr>\n",
       "      <th>0</th>\n",
       "      <td>Adriatic Sea</td>\n",
       "      <td>['nyt://article/6c5919fe-452a-532d-8234-f698a3...</td>\n",
       "      <td>1</td>\n",
       "      <td>NaN</td>\n",
       "      <td>0.005381</td>\n",
       "      <td>Europe</td>\n",
       "      <td>NYT</td>\n",
       "      <td>1</td>\n",
       "    </tr>\n",
       "    <tr>\n",
       "      <th>1</th>\n",
       "      <td>Aegean Sea</td>\n",
       "      <td>['nyt://interactive/6addaf57-b7fa-5d0f-af24-ec...</td>\n",
       "      <td>3</td>\n",
       "      <td>NaN</td>\n",
       "      <td>0.016142</td>\n",
       "      <td>Europe</td>\n",
       "      <td>NYT</td>\n",
       "      <td>3</td>\n",
       "    </tr>\n",
       "    <tr>\n",
       "      <th>2</th>\n",
       "      <td>Afghanistan</td>\n",
       "      <td>['nyt://article/1bf3d7c8-419e-52d7-a720-c4e054...</td>\n",
       "      <td>112</td>\n",
       "      <td>NaN</td>\n",
       "      <td>0.602637</td>\n",
       "      <td>Asia</td>\n",
       "      <td>NYT</td>\n",
       "      <td>112</td>\n",
       "    </tr>\n",
       "    <tr>\n",
       "      <th>3</th>\n",
       "      <td>Africa</td>\n",
       "      <td>['nyt://article/34e514ce-6ebc-58f1-bf4b-d750ea...</td>\n",
       "      <td>201</td>\n",
       "      <td>NaN</td>\n",
       "      <td>1.081517</td>\n",
       "      <td>Africa</td>\n",
       "      <td>NYT</td>\n",
       "      <td>201</td>\n",
       "    </tr>\n",
       "    <tr>\n",
       "      <th>4</th>\n",
       "      <td>Albania</td>\n",
       "      <td>['nyt://article/59eb4293-7d0a-558f-9c26-d85c3f...</td>\n",
       "      <td>23</td>\n",
       "      <td>NaN</td>\n",
       "      <td>0.123756</td>\n",
       "      <td>Europe</td>\n",
       "      <td>NYT</td>\n",
       "      <td>23</td>\n",
       "    </tr>\n",
       "    <tr>\n",
       "      <th>...</th>\n",
       "      <td>...</td>\n",
       "      <td>...</td>\n",
       "      <td>...</td>\n",
       "      <td>...</td>\n",
       "      <td>...</td>\n",
       "      <td>...</td>\n",
       "      <td>...</td>\n",
       "      <td>...</td>\n",
       "    </tr>\n",
       "    <tr>\n",
       "      <th>240</th>\n",
       "      <td>Vietnam</td>\n",
       "      <td>['nyt://article/670e1dfd-7217-5337-a5b8-0b7a7d...</td>\n",
       "      <td>52</td>\n",
       "      <td>NaN</td>\n",
       "      <td>0.279796</td>\n",
       "      <td>Asia</td>\n",
       "      <td>NYT</td>\n",
       "      <td>52</td>\n",
       "    </tr>\n",
       "    <tr>\n",
       "      <th>241</th>\n",
       "      <td>Yellow Sea</td>\n",
       "      <td>['nyt://article/593fcdd3-0e07-58b1-9a5d-eec8cd...</td>\n",
       "      <td>1</td>\n",
       "      <td>NaN</td>\n",
       "      <td>0.005381</td>\n",
       "      <td>Asia</td>\n",
       "      <td>NYT</td>\n",
       "      <td>1</td>\n",
       "    </tr>\n",
       "    <tr>\n",
       "      <th>242</th>\n",
       "      <td>Yemen</td>\n",
       "      <td>['nyt://article/083f2303-65dd-5db5-b970-cf1755...</td>\n",
       "      <td>73</td>\n",
       "      <td>NaN</td>\n",
       "      <td>0.392790</td>\n",
       "      <td>Asia</td>\n",
       "      <td>NYT</td>\n",
       "      <td>73</td>\n",
       "    </tr>\n",
       "    <tr>\n",
       "      <th>243</th>\n",
       "      <td>Zambia</td>\n",
       "      <td>['nyt://article/ce946de8-b1a7-58a9-9235-321a9b...</td>\n",
       "      <td>13</td>\n",
       "      <td>NaN</td>\n",
       "      <td>0.069949</td>\n",
       "      <td>Africa</td>\n",
       "      <td>NYT</td>\n",
       "      <td>13</td>\n",
       "    </tr>\n",
       "    <tr>\n",
       "      <th>244</th>\n",
       "      <td>Zimbabwe</td>\n",
       "      <td>['nyt://article/a4cb0e12-50fd-5a76-9971-741961...</td>\n",
       "      <td>3</td>\n",
       "      <td>NaN</td>\n",
       "      <td>0.016142</td>\n",
       "      <td>Africa</td>\n",
       "      <td>NYT</td>\n",
       "      <td>3</td>\n",
       "    </tr>\n",
       "  </tbody>\n",
       "</table>\n",
       "<p>245 rows × 8 columns</p>\n",
       "</div>"
      ],
      "text/plain": [
       "          country                                    ids_of_articles  \\\n",
       "0    Adriatic Sea  ['nyt://article/6c5919fe-452a-532d-8234-f698a3...   \n",
       "1      Aegean Sea  ['nyt://interactive/6addaf57-b7fa-5d0f-af24-ec...   \n",
       "2     Afghanistan  ['nyt://article/1bf3d7c8-419e-52d7-a720-c4e054...   \n",
       "3          Africa  ['nyt://article/34e514ce-6ebc-58f1-bf4b-d750ea...   \n",
       "4         Albania  ['nyt://article/59eb4293-7d0a-558f-9c26-d85c3f...   \n",
       "..            ...                                                ...   \n",
       "240       Vietnam  ['nyt://article/670e1dfd-7217-5337-a5b8-0b7a7d...   \n",
       "241    Yellow Sea  ['nyt://article/593fcdd3-0e07-58b1-9a5d-eec8cd...   \n",
       "242         Yemen  ['nyt://article/083f2303-65dd-5db5-b970-cf1755...   \n",
       "243        Zambia  ['nyt://article/ce946de8-b1a7-58a9-9235-321a9b...   \n",
       "244      Zimbabwe  ['nyt://article/a4cb0e12-50fd-5a76-9971-741961...   \n",
       "\n",
       "     count_of_articles iso_alpha3  perc_of_coverage  Region outlet  count  \n",
       "0                    1        NaN          0.005381  Europe    NYT      1  \n",
       "1                    3        NaN          0.016142  Europe    NYT      3  \n",
       "2                  112        NaN          0.602637    Asia    NYT    112  \n",
       "3                  201        NaN          1.081517  Africa    NYT    201  \n",
       "4                   23        NaN          0.123756  Europe    NYT     23  \n",
       "..                 ...        ...               ...     ...    ...    ...  \n",
       "240                 52        NaN          0.279796    Asia    NYT     52  \n",
       "241                  1        NaN          0.005381    Asia    NYT      1  \n",
       "242                 73        NaN          0.392790    Asia    NYT     73  \n",
       "243                 13        NaN          0.069949  Africa    NYT     13  \n",
       "244                  3        NaN          0.016142  Africa    NYT      3  \n",
       "\n",
       "[245 rows x 8 columns]"
      ]
     },
     "execution_count": 462,
     "metadata": {},
     "output_type": "execute_result"
    }
   ],
   "source": [
    "regions_nyt"
   ]
  },
  {
   "cell_type": "code",
   "execution_count": 463,
   "metadata": {},
   "outputs": [],
   "source": [
    "regions_nyt = regions_nyt.drop_duplicates(subset=[\"country\"])"
   ]
  },
  {
   "cell_type": "code",
   "execution_count": 464,
   "metadata": {},
   "outputs": [
    {
     "data": {
      "application/vnd.microsoft.datawrangler.viewer.v0+json": {
       "columns": [
        {
         "name": "index",
         "rawType": "int64",
         "type": "integer"
        },
        {
         "name": "country",
         "rawType": "object",
         "type": "string"
        },
        {
         "name": "ids_of_articles",
         "rawType": "object",
         "type": "string"
        },
        {
         "name": "count_of_articles",
         "rawType": "int64",
         "type": "integer"
        },
        {
         "name": "iso_alpha3",
         "rawType": "object",
         "type": "unknown"
        },
        {
         "name": "perc_of_coverage",
         "rawType": "float64",
         "type": "float"
        },
        {
         "name": "Region",
         "rawType": "object",
         "type": "unknown"
        },
        {
         "name": "outlet",
         "rawType": "object",
         "type": "string"
        },
        {
         "name": "count",
         "rawType": "int64",
         "type": "integer"
        }
       ],
       "conversionMethod": "pd.DataFrame",
       "ref": "3d378936-6e11-48d2-a68e-92dfc10cd508",
       "rows": [
        [
         "0",
         "Adriatic Sea",
         "['nyt://article/6c5919fe-452a-532d-8234-f698a33bc15c']",
         "1",
         null,
         "0.005380683346785042",
         "Europe",
         "NYT",
         "1"
        ],
        [
         "1",
         "Aegean Sea",
         "['nyt://interactive/6addaf57-b7fa-5d0f-af24-ec0c3e131acd', 'nyt://article/08c91948-7b43-5eb7-b306-8036302faecf', 'nyt://article/a0eec7f0-3d63-5711-9700-9bce1b389aa9']",
         "3",
         null,
         "0.016142050040355127",
         "Europe",
         "NYT",
         "3"
        ],
        [
         "2",
         "Afghanistan",
         "['nyt://article/1bf3d7c8-419e-52d7-a720-c4e054fcb656', 'nyt://article/e40483f8-2139-54d1-bb6f-000020baebb5', 'nyt://article/be0ef722-a501-55fc-99e1-bbe8f3bdfa9d', 'nyt://article/fa4f938c-3999-5899-9b9a-87dade1e9109', 'nyt://article/c7e16118-94fc-55a9-90f6-91271aa69c8e', 'nyt://article/f0883555-c784-56cd-8272-ba1113b1920c', 'nyt://article/d3fd6ae0-dee3-53bc-89cf-20ec83c40234', 'nyt://article/f341cceb-41b8-5e13-b4c3-7affb67add4a', 'nyt://article/1542dab7-ca41-5e91-b479-425ed2115e69', 'nyt://article/b1179855-fe4a-503b-9086-32a9d44ba791', 'nyt://article/3b386dd8-364d-5300-8de1-1b81ad091936', 'nyt://article/e618787b-82dd-5aad-995f-2d34b7bac54f', 'nyt://article/77d3ba07-71fd-55e9-8260-077d40e7e7b0', 'nyt://article/22c77345-c8fc-54b8-8044-881e946adaf0', 'nyt://article/f5aa9de2-8b06-5891-8642-0b2db046dc0d', 'nyt://article/15c91982-0ecf-5e95-b7a5-a49f7e3c1868', 'nyt://article/bf24d7e3-26df-577e-8327-5ad156769f42', 'nyt://article/027c7bf8-68aa-515e-95a6-f5eea8048f65', 'nyt://article/d14635d5-9d12-58c0-91a5-36a9eddb8fad', 'nyt://interactive/fda805b2-2b2a-51c0-b44b-0a6a357a30a4', 'nyt://article/64dfac18-7dcb-5bcb-9807-6334f3b4907f', 'nyt://article/fbfdc8b5-31b3-5dd8-a1ae-fe3f871b745f', 'nyt://article/9b8e417f-ac93-5684-9339-3a9fb94cfb0a', 'nyt://article/3ba1a707-be08-5a83-8d18-5d5341bf3b7a', 'nyt://article/e5652440-552d-5b51-abd0-643d43eac6c8', 'nyt://article/44a10f67-d02c-56d0-9f9e-7da36dbd93ba', 'nyt://article/2f67e84d-d1c4-5419-b780-b0108851a334', 'nyt://article/a7df001a-fb67-5ee9-9b6c-ed3de464fcf7', 'nyt://article/224d3b62-d489-5a2f-91c0-6a46346661ee', 'nyt://article/1229602b-96e3-5dd7-a8dc-69d050f74e95', 'nyt://article/a55d2835-d41d-5093-a961-6a5a86cac66b', 'nyt://article/1f63edd0-84c8-5a7c-abf9-85d53a74592d', 'nyt://article/6ec05f2b-a2b3-5190-b9e4-3bed75594a0f', 'nyt://article/f36ce919-1ecd-5f6d-8748-40037f0c6a8f', 'nyt://article/a17db111-555c-5973-ac02-1426c21c454d', 'nyt://article/786b0740-8ed5-5bea-a353-056203015bf2', 'nyt://video/29e82c59-3302-5369-903b-4a3cb55720ce', 'nyt://article/818a8358-54bf-59af-b02b-ab789f7753b5', 'nyt://article/1ea25afb-f7f5-5873-8da1-5fbdba9ca782', 'nyt://article/18dbf70c-7693-5259-8379-a8499d5d3aef', 'nyt://article/c9a7aa82-bfba-57ce-8345-2fe996c2f588', 'nyt://article/fd15543c-174a-5c4d-9628-522e0e9a6768', 'nyt://article/c47b9632-5b0a-510d-8386-74c70370438b', 'nyt://article/ac05d632-9342-549a-92e4-00c14f593755', 'nyt://article/67761cbe-2ec6-5e32-b6f6-6e6a5a4eabee', 'nyt://article/7f712518-1080-590c-818e-3f183d5ab9e2', 'nyt://article/55e8851f-292f-5cfc-960d-04b3366ca701', 'nyt://article/692aefda-1ac4-5507-9b37-9aeaf74f9bcc', 'nyt://article/023708ea-b7e6-5f2b-b10f-399d3f52297d', 'nyt://article/19f90532-f2bd-5a00-9df4-72159380cc93', 'nyt://article/32d37cf0-7c12-5d3b-ae4a-f031d0ca961a', 'nyt://article/620575aa-9d01-5858-abff-b88aa5a78c27', 'nyt://article/055293d4-ba66-5f76-b4a5-b48ebfde3858', 'nyt://article/7d382142-6b6f-551d-8484-6e35963ad993', 'nyt://article/f6178677-9c32-5afa-b988-01d15ea68899', 'nyt://article/c9c4fe16-c986-59f8-844a-a3339d75f29e', 'nyt://article/508aec2b-c1c4-573b-b295-91f4d8364552', 'nyt://article/b203e080-2381-55c4-b8c4-e13ad368926b', 'nyt://article/76935c0c-a9ed-5495-aa1e-938494ed1a7a', 'nyt://article/17ea0afa-d3ea-55a2-85a8-8799db99297f', 'nyt://article/296fab0b-6def-55d1-931b-e61f385d40bc', 'nyt://article/0bbcc209-db15-5ed7-afa0-c8de30a1b0d8', 'nyt://article/9ee34700-032a-522a-aa23-9c17538e9c4b', 'nyt://article/f5b7d409-37e8-562e-8a07-9ac69a394a0a', 'nyt://article/f03fae5a-e626-5e9d-b0e2-4b339c9b0bed', 'nyt://article/0854fc1c-6794-5407-a410-c4e54329fd73', 'nyt://article/1eddbd46-8c2d-5754-8440-bb35e43e39d0', 'nyt://article/68a8cded-9ea6-5dce-be58-9148037275d1', 'nyt://article/b999f3cf-9c20-5cdd-a1df-81ad4f691d74', 'nyt://article/9f42643f-3a1e-58b0-8b05-471e25cc5fea', 'nyt://article/34584909-1ce1-5e0b-ae3f-8442725d44b5', 'nyt://article/85b88725-7f8f-5058-98da-25161dabd136', 'nyt://article/a0c9f4df-26d4-57b3-917f-4b7c7febe0f5', 'nyt://article/32b2f331-8909-5df2-b55c-c0b2e563860d', 'nyt://article/eb2e5966-5909-5229-aeb5-e1c1adf0ce4c', 'nyt://article/518634fb-02c7-5186-94e2-c9a6b42e410f', 'nyt://article/afe74c10-e930-55fc-9186-2163146355b1', 'nyt://article/f9386ae2-3ae0-5baf-8064-919dfdbc9e8c', 'nyt://article/0537b6b9-571a-539b-af8c-fc72f2873096', 'nyt://article/d720f2be-e650-5de7-8bfd-c29ba80f95a1', 'nyt://article/d9ad583e-3923-5bfa-bd41-16c10bb50389', 'nyt://article/40316d75-4573-5cb4-97b5-d6c4968d4fce', 'nyt://article/7d2a7a01-0235-5e55-9393-79ed5a8837a3', 'nyt://article/b3f731f4-35e9-5de2-9ae0-f4856b37045a', 'nyt://article/6d8cd85e-52d7-5ea6-975d-431a232b0dd3', 'nyt://article/81ffb8e3-648a-5fce-8630-4adac4158bc4', 'nyt://article/c2eb44e1-4e49-5cb3-ba8c-1953156a9752', 'nyt://article/4487764e-f7d2-5a32-aa38-fbd96d8e4dd6', 'nyt://article/b35fed90-4f6c-5090-a650-c9b3416cfdb6', 'nyt://article/c96f4245-1467-5b45-b131-fa10275af954', 'nyt://article/c20000bf-0d4e-5023-9e9f-8e65e3d98cef', 'nyt://article/f115bed1-d4ec-51a9-86c5-4d32f76e9350', 'nyt://article/8481a933-d337-5c0e-8855-731556cffe07', 'nyt://article/d0c139cf-6af8-54b2-896b-afebb7e42e31', 'nyt://article/5e20df3c-7e2f-5cf6-9a02-6fa25e9bec2d', 'nyt://article/187f196f-0a88-5ca4-bac0-0d91317117f4', 'nyt://article/743db14f-34bc-5234-8e83-636c558578cc', 'nyt://article/f3ffe4d3-01d7-5464-a725-6f402e4384a8', 'nyt://article/ddb75aa2-e63b-5b37-8701-68701fffb7bb', 'nyt://article/0b235f4a-cd70-5c00-a683-d75f4e99a11c', 'nyt://article/6228d681-5c79-53b9-b6f5-e585b587346b', 'nyt://article/23c63bd2-229f-56a2-afab-5ae8b4c1a152', 'nyt://article/8a8af2da-cb84-5ce8-a9ab-8e395265fea2', 'nyt://article/c2107256-a97e-59ac-b0c6-d58cdc2eb6c8', 'nyt://article/c5a3a331-6d04-585c-b237-505d9fb9f508', 'nyt://article/c93658c8-63ea-562e-896b-a5a3fd1b9ffd', 'nyt://article/78b8c3a3-7029-557d-a8a0-1e2567a4e993', 'nyt://article/7b8fbf6e-0c80-52bd-977b-e38aa98ca567', 'nyt://article/f44d83b1-2253-5fc9-b71e-b66295c7cc8e', 'nyt://article/50938998-f3d4-5d7c-abc6-cc77364aabe0', 'nyt://article/aef01dcc-7440-5174-8f8b-dd5b813e2d43', 'nyt://article/823afdc1-8ade-5e3f-ae80-cb0b929b2c1e']",
         "112",
         null,
         "0.6026365348399246",
         "Asia",
         "NYT",
         "112"
        ],
        [
         "3",
         "Africa",
         "['nyt://article/34e514ce-6ebc-58f1-bf4b-d750eadc447e', 'nyt://video/c28cda1a-5bbc-5b9e-95d3-436104e991e1', 'nyt://article/2099ddef-460b-546e-8cbe-e79f576a45ad', 'nyt://article/9b1d1ec5-5ac4-5f93-8013-335e04ec9de7', 'nyt://article/761bb072-168b-5772-b035-29445430eafb', 'nyt://video/c5aa885c-d3cd-5db8-805c-4b8bdf8fe9b2', 'nyt://article/0edc9a54-8f1d-5153-acdc-c8ae9598b854', 'nyt://article/6e1fb917-1bf0-5d91-accd-97d7cca64cc2', 'nyt://article/03b24e44-d933-5256-ace6-7bedcf5f8c28', 'nyt://article/7564d810-e528-5cd2-b6c9-39811c950316', 'nyt://article/2124da13-72c9-5ec9-a39f-cf25256822d9', 'nyt://article/acd20332-7d58-52b0-af07-1e411c87bd05', 'nyt://article/1d72cbca-622b-5cd7-8153-d8e27af1c606', 'nyt://article/a7aeec8f-6abb-595d-bceb-08e77159f3c0', 'nyt://article/29bd529f-432a-5717-ad45-fe2ff4789bfe', 'nyt://article/96a554d7-a595-551a-a136-e693588841a0', 'nyt://article/f52501cd-277a-5275-865e-0a59491c2f06', 'nyt://article/ac5369ab-9399-5d35-8562-20935e7d7e1c', 'nyt://article/79916a15-0c96-5eb3-88e5-9c174d2bb4a3', 'nyt://article/30ac1edb-2b1f-5a38-a14f-39273ba9cb81', 'nyt://article/1daf3f01-1282-5ee1-b15f-33d4d2ed1c6a', 'nyt://article/86b4c1a2-577f-5d75-af50-c43c385e0d8c', 'nyt://article/b31bf7b8-fd6a-5c88-b518-a92505671024', 'nyt://article/0a1d20a0-9467-5bfd-9919-57ad4aec8fce', 'nyt://article/be7429e1-3754-5ddd-bd35-31bca524e8d0', 'nyt://article/12745a73-8eee-537a-b1c2-d7c566ad0d44', 'nyt://article/a3fd08c1-e5b5-5902-8aef-7c9b324858ec', 'nyt://article/54cf6fad-d579-5d34-ae9b-da8391ac37b0', 'nyt://article/f21af068-082d-5e2c-b775-5a501472a6c2', 'nyt://article/af22806c-5e25-566e-988b-541a5ef200e4', 'nyt://article/08b87991-c3e6-5e54-89eb-f6036de9552e', 'nyt://article/7e380e92-3751-58e9-b5e7-e48a7644fe79', 'nyt://article/e88d421a-f191-582a-83d1-7cf8493b6987', 'nyt://article/bd0dd243-f788-55e5-a3f3-2b77b4708d68', 'nyt://article/4ff0123d-daed-5869-94a7-48c73ddf6491', 'nyt://article/16464684-4c6b-5a60-9440-dac0874f2285', 'nyt://article/c2ae5cf2-31fc-5962-98b0-53d4cd17d520', 'nyt://article/4cef5b08-76f9-5e21-97b5-f827281cf318', 'nyt://article/c09463c7-1e10-51a5-a5a1-a77fb9b369e3', 'nyt://article/2be5703b-af16-5aff-83f5-bea3e04e187b', 'nyt://article/2028ab73-b945-5eaa-85ae-58945f6df85f', 'nyt://article/e0c56701-55d1-56f4-a1aa-ef9972d01ccc', 'nyt://article/af1141d2-d99b-5ede-b14a-1fe44e739a0c', 'nyt://article/b4a2d019-e4a8-5e4d-99a7-17e6db59a176', 'nyt://article/a9962952-192e-5563-9f98-23b0762e03c4', 'nyt://article/3ef47e77-1858-5726-9c78-47609db7c11d', 'nyt://article/36e8adce-7862-5060-a20d-0bde50e726e5', 'nyt://article/a21ec7b3-a1e6-5aae-9498-dcf0f6736877', 'nyt://article/b472a426-1803-590b-ab5d-a81aea32a425', 'nyt://article/3730b3b0-c048-55cb-812c-11e45922ec8f', 'nyt://article/bf77cc3c-2d4c-54d9-8ae9-e8dfce0fb9f9', 'nyt://article/d2477a92-2261-5442-9646-2d8a2f39c689', 'nyt://article/115ae2a3-1305-5cf4-bacf-a292dd0026fb', 'nyt://article/a1e579fc-27a3-546d-b5cd-47ca1b5e9483', 'nyt://article/851273bc-b2f8-5304-a70c-147db8193ca4', 'nyt://article/c5fbdca0-e1f8-53a4-a6c7-33fddc6ea359', 'nyt://article/bcf985cd-fd32-5790-a806-14aec17c69b7', 'nyt://article/f2d8fdc5-e573-553b-90d7-89dac4afd5ee', 'nyt://article/e31e3a66-279f-5a10-8f7b-5292aaeafc62', 'nyt://article/6a7701e1-8497-56c5-941a-b60f7bb87839', 'nyt://article/7da9840c-fd51-5ca4-992c-2aaaa5d16b3e', 'nyt://article/0a00b404-64b6-52fb-af34-c10ec4e5c24d', 'nyt://article/12bb04ae-3579-5e7f-9990-4a2be9ec311b', 'nyt://article/9550ed3b-d19a-5dfb-81b8-fa5b6be9c404', 'nyt://article/a1d911c9-b9f7-58a5-a852-d680b932e0d8', 'nyt://article/61d3e7cc-f050-53e0-b15d-a323d82f05fe', 'nyt://article/0fde90a2-3555-509f-9f1f-26892977d8ac', 'nyt://article/cb4f4363-5bca-5ee4-8681-dd960f371192', 'nyt://article/09ffb689-5efd-5c3a-b678-7c37180810c0', 'nyt://article/baf2cdba-f056-5544-91a2-ef5dc37bad1d', 'nyt://article/4632f1ee-5849-5296-baf0-6d59c6082827', 'nyt://article/963be96d-f29e-5128-8c9d-e66018a92dfe', 'nyt://article/92330159-766f-5471-a44e-5183bf9c0b20', 'nyt://article/bd55f4ba-65f2-543d-9b82-cdd90befdbbd', 'nyt://article/d2c6f481-0408-57f2-a871-e32dcc120554', 'nyt://article/2450e037-f76d-51dc-8e60-9977062a7e0d', 'nyt://video/65648182-015d-5cb4-91d6-7c9b9de8ac19', 'nyt://article/7c00adaf-e22c-58c2-b366-ba96cf84ce87', 'nyt://video/e1613f8c-bf05-5634-b07d-118ebdcb9fc3', 'nyt://article/d41f915b-24b5-50ab-8516-e339cc8cc3ed', 'nyt://article/1ed96e54-e9b0-55a3-9c49-8c8008c7ac5e', 'nyt://article/01fc1fd3-9375-5510-a346-814a67ea5e85', 'nyt://article/1a458b6c-557d-5d53-be61-14baa3c0e148', 'nyt://article/ce946de8-b1a7-58a9-9235-321a9ba0a38d', 'nyt://article/37b141f4-57e3-5d4a-bf4c-56347d70a5ad', 'nyt://article/10d0ab4c-99ab-5790-a1ae-ba8e256bc8d2', 'nyt://article/261dc75b-e9ba-583b-89ab-2976430167a7', 'nyt://article/ebd9cd3a-f412-5583-a3d5-7c4058d8f7b7', 'nyt://article/6450537f-65e2-5229-8553-680e012d7765', 'nyt://article/da198874-4d46-5562-9764-177b80cd0b7b', 'nyt://article/6fadd6f6-536f-538b-8c4e-08f001b3a2ce', 'nyt://article/a574a94c-5c5c-5358-9a91-cd7d6eca9dbe', 'nyt://article/b1e22c6f-12a8-5222-b4a3-97d9684222d3', 'nyt://article/48dcc74b-ff58-5028-8586-713f2bb22b66', 'nyt://article/de5d2cfa-6811-510c-aded-0a3c48c11659', 'nyt://article/b8982717-d348-5f63-a79b-a49d019f3fc7', 'nyt://article/5df94182-64b8-5f64-9cec-1bc3edc769c0', 'nyt://article/2277a789-ee94-54d6-b682-171604883d76', 'nyt://article/0f246c7f-0651-584f-8f4e-7c4d7a26675e', 'nyt://article/d4736f76-795c-5ae1-b47d-6498bf208eb1', 'nyt://interactive/d92bbe07-178e-5c57-a082-9bd9f142344f', 'nyt://article/00280f0b-a8cd-54cf-9d70-adcf0209c281', 'nyt://article/244cb9fb-1377-51ff-8221-63c988ea0b66', 'nyt://article/278615cf-39bc-5967-965d-9db5c5ea3315', 'nyt://article/e7fe4a3e-ef01-5c90-b572-7c22a4e7784a', 'nyt://article/21c8f051-1de8-59cf-9c04-b3a1ac116289', 'nyt://article/8e9c68f9-7b15-536d-a7c7-9b34671ab74b', 'nyt://article/b297deb5-dd36-57e4-b31a-9924d731cf19', 'nyt://article/2b1ac63a-2100-5018-9a89-fd2a7f75a9be', 'nyt://article/99085047-2746-5ccf-b239-fd601fb6ac0c', 'nyt://article/287d15e9-b5bd-5eb3-9d19-a4369c8f705b', 'nyt://article/53f22f58-2801-575f-8668-56a052078ce4', 'nyt://article/b8004aeb-98a5-5078-9924-844a259dd9e8', 'nyt://article/3a4f0a34-3478-5ba1-931f-cc763237ab24', 'nyt://article/741341eb-23bf-5c3a-8fe9-d081f93d4b49', 'nyt://article/f814e44d-c0ea-5658-b338-9952f1f123a1', 'nyt://video/de9700e0-96c6-55de-8b39-64a5831607cf', 'nyt://article/722a8687-4a4a-53d1-8356-d706c5104b93', 'nyt://article/6f98bca6-f886-5b1e-bc0e-60f149f992cf', 'nyt://article/d557840f-e21f-5cd4-92e7-6bb1bcec17e1', 'nyt://article/1af67bb5-b8a4-5149-9e04-1f7ae4d2ffe6', 'nyt://article/869724e4-009f-540e-98ec-5f569c6ad43c', 'nyt://article/a988d12e-2d3e-5812-8e59-4296e40b202f', 'nyt://article/c7b2361f-9a49-55cf-9549-031b1ac2722b', 'nyt://article/f53c045c-2311-55c4-9658-01bb0ae3311e', 'nyt://article/22ae90a5-47fd-571d-8389-0df2021b253f', 'nyt://article/0f142927-e1b8-5e2a-bdef-16baf1605898', 'nyt://article/205db861-2593-5714-beb7-d860aca7a251', 'nyt://article/887c59f5-0b74-52a8-9883-c449ff88fe64', 'nyt://article/cae1375e-ed0c-5637-8ea3-dbbd109743e6', 'nyt://article/4b02bd92-7924-5305-89a2-7ba769c9768f', 'nyt://article/7b8d5bef-f808-53f3-bd94-d305faae069f', 'nyt://article/5fa2ec03-ba22-5aef-a8dc-c6c9696687d2', 'nyt://article/0318503d-be6a-5840-896b-c4fe42835c5a', 'nyt://article/2f41cb12-b6ad-5c03-92a7-33c7b348521c', 'nyt://video/bc445114-120a-5b39-aa31-8b201851882a', 'nyt://article/f0140bc7-842a-55f6-a0b0-2993e7c1dd6f', 'nyt://article/83613aa0-1347-515b-afdc-1e458d87b7c1', 'nyt://interactive/60f082b7-0030-571e-a0a8-9cb88f5ba109', 'nyt://article/68ed5ab0-0f9d-55a4-a800-71b89bbcb28f', 'nyt://article/2b997912-aa85-5027-b47d-75a03dff5e20', 'nyt://article/60598b3b-946a-5b6d-b1b3-6aeab4162e18', 'nyt://article/fca3495d-d370-500f-a63e-170c087a8d4b', 'nyt://article/d8dea8f0-238d-5e4e-9fa0-7849861424c4', 'nyt://article/69a3d453-aed3-50b2-a7d2-4651a47fafdf', 'nyt://article/0508b8ab-69b4-5819-8f48-ceee0d830c89', 'nyt://article/1dfe1dd1-4683-5496-b7d8-ac104d563057', 'nyt://article/e4c8f782-713d-524d-839c-27ac65c932c9', 'nyt://article/c9795436-ab8b-527f-ab17-6181c26b44cf', 'nyt://article/86adb88f-b177-55d5-b0bf-6f9391303ea7', 'nyt://article/95dc143b-84d6-5407-af03-84d244885af5', 'nyt://article/9153fa00-7519-5e57-bc09-1147b87c073a', 'nyt://article/dba9aa49-b2da-56de-84b9-c5e884dcfdb2', 'nyt://article/7c222beb-de75-5309-a5d1-e06d0a1d4693', 'nyt://article/9cb26b2a-a5d9-5020-a0bb-f976031bac22', 'nyt://article/8efa8276-dbb0-55a7-a656-c56a4e4d328d', 'nyt://article/97f96cea-e681-5270-a581-70fe64d84d82', 'nyt://article/047e6843-2d41-5ac8-beba-3d6043aabe0d', 'nyt://article/897a0e53-6076-5a98-bb28-4d7d3df155a4', 'nyt://article/b792e806-eb4a-5489-b55e-3d9ed9f2301a', 'nyt://article/53118789-4397-5531-89b9-9058ba300f0c', 'nyt://article/52534b46-8ecc-5522-8a19-2c3dee24ec73', 'nyt://article/bb0312c2-aa59-50e1-ad3b-86d924cdc54e', 'nyt://article/3bfab5b4-7b6b-5991-84ee-bfff92f65861', 'nyt://article/b1d10a0b-0958-5a2d-932a-575ab2449d7a', 'nyt://article/aba101ee-b370-5aa5-bc83-d9e347daa2de', 'nyt://article/23b21af2-b2fa-5763-8f73-eba2f4d72e55', 'nyt://interactive/f166cb4a-1e58-59f2-b490-63e9242301c5', 'nyt://article/d2bd66b9-b44d-5d97-98c7-b558637439ad', 'nyt://article/ac39261b-cbf2-56bb-8dde-83215f2628b5', 'nyt://article/3d0a2434-05b7-5d96-a800-e28b6bc6b071', 'nyt://article/8212b465-b268-54a3-8280-7d1d8d2071f7', 'nyt://article/5e6ed581-4b25-5b4c-9e8f-c77188dabbd4', 'nyt://article/c86bcf7b-7170-56f9-8404-65c13a813a79', 'nyt://article/22edf542-d819-5470-874b-7bd9e3ebff83', 'nyt://article/605d7f5c-bbec-5059-86a6-7d647a8ce7a5', 'nyt://article/50ccd933-cf6c-5058-a234-33bad9fb138e', 'nyt://article/6af3ed7b-6a79-55ac-bd4c-0cb3b0c33c40', 'nyt://article/6115348c-8c09-5693-9c59-f38ec9b2ac35', 'nyt://article/e00ebadf-3c04-5e16-9dc4-36303c378e41', 'nyt://article/1e6e59ac-8865-5109-931d-6c231cdeef2d', 'nyt://article/e4d46fbb-0e78-5c0f-8bbe-9caa617950e5', 'nyt://article/0012a0ad-54eb-5667-a3c8-15d6b3d9d048', 'nyt://article/1a2b2967-0b41-54eb-b992-75f88cf15b6f', 'nyt://article/63d78256-7141-57e3-a68b-d505a4f59337', 'nyt://article/255c6277-c3eb-5432-a2db-ae1e035a7180', 'nyt://article/b82f9259-712b-5f24-ad19-c7c4641782b8', 'nyt://article/eb3c83f5-72af-5bb5-89d5-e228241da67b', 'nyt://article/b7a2673a-4349-5eb8-b045-68b9d7620453', 'nyt://article/c5ff5497-b897-51d8-ac73-b2801f7f720e', 'nyt://article/822ce6d1-8d2b-51cd-82ca-0ae32407ebfc', 'nyt://article/74d484af-79a5-5b2c-8f07-5b8f014a4bf2', 'nyt://article/d6ece1a0-2740-5d9c-9d59-3971403b7d59', 'nyt://article/1833a84a-13c9-5d3e-ac8d-e7d75a7c0288', 'nyt://article/95dff9e4-43b7-5011-92b4-a66c8aff11f3', 'nyt://article/db8b488a-2f94-5303-8491-9f263f4a14fa', 'nyt://interactive/ae33a77a-7002-542b-af09-9fb0ece51b01', 'nyt://article/9a33ea27-7e9d-5388-a129-da9eaf830392', 'nyt://article/8d866937-2318-51bf-869a-456be1f2a7b2', 'nyt://article/db9bd694-eeef-5b7c-90d2-339096f5e59d', 'nyt://article/67c33467-d217-58ea-957f-08a6fac7a4a8']",
         "201",
         null,
         "1.0815173527037933",
         "Africa",
         "NYT",
         "201"
        ],
        [
         "4",
         "Albania",
         "['nyt://article/59eb4293-7d0a-558f-9c26-d85c3fb5741f', 'nyt://article/ad09c31e-d0a6-5487-83f3-eb9972ed073c', 'nyt://article/10fad6f0-3d46-58ea-993f-e72f0a7b493b', 'nyt://article/bcf2baf9-10e4-5340-a5b4-bb14266e6a27', 'nyt://article/92b0cac1-e2be-5a3e-ae7c-551df5ec6b11', 'nyt://article/44fa3867-f97c-51a3-ab48-0e8d7efdbb1e', 'nyt://article/0e2bda09-65d0-5c76-905a-160755803905', 'nyt://article/380a2ab1-a034-554f-946a-b25fa746ae03', 'nyt://article/15f3afe3-9972-586e-aa7c-0175ec333618', 'nyt://article/be52e475-dfa4-5634-bdd5-fdf4d2b69be0', 'nyt://article/136bb0d6-4b71-5206-9689-0e34310b709c', 'nyt://article/17de74c5-18b4-586e-bdb3-82a369a8a50a', 'nyt://article/62ed20dd-1ca5-5814-9953-fc0d5c3827dd', 'nyt://article/13c9d470-bca8-59f9-925b-072292e2352b', 'nyt://article/ad206b8a-4281-589f-91ba-f9849978c204', 'nyt://article/322fa31f-8102-5b87-bdc3-3aa680267f56', 'nyt://article/c4a5807c-1cd3-513f-9ef4-22ca540137a3', 'nyt://article/5f3da01e-323c-5b51-a9b4-1e366ca4387d', 'nyt://article/b7e0a501-2edf-5023-80fc-142759f72de0', 'nyt://article/e1e3b6ef-92cf-5a74-81db-c0110676dfd4', 'nyt://article/2c538877-45d0-5a80-872a-728972f0c999', 'nyt://article/fd3c8744-b72a-56d0-b29c-ef4f292d731c', 'nyt://article/68d601c6-5e2e-5646-8c14-c73d2ef5085c']",
         "23",
         null,
         "0.12375571697605596",
         "Europe",
         "NYT",
         "23"
        ],
        [
         "5",
         "Algeria",
         "['nyt://article/c3adb564-f24a-5f00-b6dc-8d8160eb644c', 'nyt://article/2f548189-1651-568e-9dd7-e7f9a68731b3', 'nyt://article/1cd65247-4ab7-5565-bb58-74689c599ac7', 'nyt://article/8b749158-551b-5a43-8209-e683c4490bae', 'nyt://article/864ec09c-19e1-5bd8-ad8e-8757a337cda9', 'nyt://article/fed7e561-15dc-5cb7-870e-895125df9acf', 'nyt://article/10d2b94d-28ba-56d0-8d03-525b1906293b', 'nyt://article/0703cf95-a591-5dad-83cb-51d9aa7f3e49', 'nyt://article/28152675-18ca-5058-9e7a-0051f44f9b50', 'nyt://article/b9c4ebce-a56a-58f3-bdb9-62179c7029b4', 'nyt://article/7d1db0bd-0a23-5438-b13f-4766a97fb06b', 'nyt://article/ee4e0fa8-7f1e-52e0-823a-a95c4ecc15fe']",
         "12",
         null,
         "0.06456820016142051",
         "Africa",
         "NYT",
         "12"
        ],
        [
         "6",
         "Andorra",
         "['nyt://article/104610fd-aef6-5226-b256-3201d6648881']",
         "1",
         null,
         "0.005380683346785042",
         "Europe",
         "NYT",
         "1"
        ],
        [
         "7",
         "Angola",
         "['nyt://article/2277a789-ee94-54d6-b682-171604883d76', 'nyt://article/37b141f4-57e3-5d4a-bf4c-56347d70a5ad', 'nyt://article/4b02bd92-7924-5305-89a2-7ba769c9768f', 'nyt://article/2e185f07-5b16-56ff-995b-212c0018e589', 'nyt://article/74d484af-79a5-5b2c-8f07-5b8f014a4bf2', 'nyt://article/ac5369ab-9399-5d35-8562-20935e7d7e1c', 'nyt://article/d96e87c8-50e5-5a24-b29b-272a018d723b', 'nyt://interactive/6567bdfd-4b48-571d-b37c-5369d5680e89', 'nyt://article/b31bf7b8-fd6a-5c88-b518-a92505671024', 'nyt://article/03b24e44-d933-5256-ace6-7bedcf5f8c28']",
         "10",
         null,
         "0.053806833467850416",
         "Africa",
         "NYT",
         "10"
        ],
        [
         "8",
         "Anguilla",
         "['nyt://article/f6c99838-b3b5-5508-a14a-357cb7c42d92']",
         "1",
         null,
         "0.005380683346785042",
         "North America",
         "NYT",
         "1"
        ],
        [
         "9",
         "Antarctica",
         "['nyt://article/02075533-208f-52c4-8fac-8b4a3b09a237']",
         "1",
         null,
         "0.005380683346785042",
         "Antarctica",
         "NYT",
         "1"
        ],
        [
         "10",
         "Antigua and Barbuda",
         "['nyt://article/6a5b8a2f-2334-5ece-b7c9-4aba23462f23', 'nyt://article/3cf30e2e-4bf3-5f1f-af6f-aa9773efe580', 'nyt://article/1bcbc81c-4440-5851-b8aa-b7d319dc6a54']",
         "3",
         null,
         "0.016142050040355127",
         "North America",
         "NYT",
         "3"
        ],
        [
         "11",
         "Argentina",
         "['nyt://article/ee8af267-4b52-5681-b399-3266c2644d96', 'nyt://article/a99dfc90-8ec9-5ef3-9dbe-bc857998e1e2', 'nyt://article/cfc01a13-3a0f-5cbe-b7fb-8a0a75aa2e7b', 'nyt://article/6dfa8a78-2369-5d1a-b7e4-d43a8dea481f', 'nyt://article/3818d5f4-005b-5616-afe6-9b8db158f09f', 'nyt://article/4c187095-1104-5fdf-bbc3-a910372322ad', 'nyt://article/90e7e151-69bb-5749-a07f-d18f9ccbe36c', 'nyt://article/2b710b52-6468-50b0-ac03-c9fcb13b5372', 'nyt://article/69514fbf-ab92-55f8-97f2-31ef290b1d76', 'nyt://article/221939ef-96f8-51ee-9c87-65d2d5981c3c', 'nyt://article/96b9d1b8-d204-54e7-aa48-0ec82ac35904', 'nyt://article/00e0f356-2373-5e9b-bb2b-81a6336637c9', 'nyt://article/a68be4e5-8037-5573-a0c1-5190126401d1', 'nyt://article/475ea9ff-e236-58bd-bfdc-49dfaae0d831', 'nyt://video/305af542-d1ec-591e-a15d-efe50ac80e9c', 'nyt://article/f13f2793-c067-551c-bf53-9cdeac32662c', 'nyt://article/4df073f4-1596-5562-aa78-07ec712dc7be', 'nyt://article/34782eaa-d21b-5d6b-a93a-89c01bb9eeb7', 'nyt://article/5a9a074c-cc81-50ec-9f0b-1db2d8fb80f3', 'nyt://article/e4134b26-a1be-5f8b-9d47-eae4a67a23ef', 'nyt://article/287d15e9-b5bd-5eb3-9d19-a4369c8f705b', 'nyt://article/5d1a570a-0696-5b4f-be60-f69d52a1d879', 'nyt://article/f0b09808-e907-54bd-a1c2-bac77b4251fd', 'nyt://article/7e9536c8-c196-579e-89b4-17bb11f1a6b9', 'nyt://article/aad53d3e-9be5-535d-bf3a-2bf6928ebb12', 'nyt://article/3aaeb7b3-1a33-5168-97b1-1ca24cf1f118', 'nyt://article/1d2d3229-b186-5df5-b756-7e500c6668d8', 'nyt://article/1ea6bcf2-2f27-5f75-aa3b-fd4046b44675', 'nyt://article/dcdfc485-364a-5a09-bb3d-79f645a6f129', 'nyt://article/69e295b2-d237-51ba-b0a1-58b4daa6d998', 'nyt://article/3d67c170-96cb-54cc-8b42-7845902fdfcb', 'nyt://article/267c0ec5-75a2-57fb-89df-4fd23864c464', 'nyt://article/c5f16ceb-bd2b-5cec-9bf3-0ed54688258b', 'nyt://article/f7937c5e-ddc5-5654-b164-b46dd6cdd82a', 'nyt://article/19ee29b3-921a-5d83-9361-2fc4962d1519', 'nyt://article/75a864c5-04f2-59ce-95ff-4615065d9c00', 'nyt://article/31999821-d491-5371-beda-da668f7f26ac', 'nyt://article/8664a8ae-73f3-5801-b213-67cd8c9cb20d', 'nyt://article/4c6f979d-2a8f-59ad-9b08-36dca4221207', 'nyt://article/2ee149a0-7bcf-5125-9d4d-8832a20740ae']",
         "40",
         null,
         "0.21522733387140167",
         "South America",
         "NYT",
         "40"
        ],
        [
         "12",
         "Armenia",
         "['nyt://article/75a6b57d-c8f0-5902-bc26-bdc47ffe65de', 'nyt://article/f9386ae2-3ae0-5baf-8064-919dfdbc9e8c', 'nyt://article/aa53562a-37eb-5ead-8519-ca910628a9e2', 'nyt://article/cea90935-2c07-55f1-81af-32de2c80925c', 'nyt://article/2c4fcfe0-4152-5915-8da9-ff3f6df3f13d', 'nyt://article/cdd5b359-8961-52ac-86d2-4d9c675b224d', 'nyt://article/6d2cecfc-ce5c-52c4-af05-39822d596bf6']",
         "7",
         null,
         "0.03766478342749529",
         "Asia",
         "NYT",
         "7"
        ],
        [
         "13",
         "Atlantic Ocean",
         "['nyt://article/a5136a92-6afb-5432-9f93-625e9256e94e', 'nyt://article/60a7823f-7d4d-530e-99de-67654a4af404', 'nyt://article/97b4dda5-70c8-5b3f-9742-d4822f210754', 'nyt://interactive/eaf9bafe-7188-5b9b-975f-2985d7da6e59', 'nyt://article/5b4cdeca-c115-510c-8498-c0d6735aa41c', 'nyt://interactive/7db7a662-415a-5f69-818a-b54b2c71472a', 'nyt://article/09ffb689-5efd-5c3a-b678-7c37180810c0', 'nyt://article/b07cf9ea-5a9d-5caf-bc0d-b9a99918595b', 'nyt://article/c0f3bb31-eef6-502b-99e3-ab60aad7cae7', 'nyt://article/caf98741-73b7-5dc0-bfc0-9314490fb22e', 'nyt://article/c11ec4a5-7b2b-5667-aa68-10804f13ae49', 'nyt://article/225bee71-36c6-5d17-95dd-3cc8e6b2f58c', 'nyt://article/ad3e787a-754c-51ca-b606-132d5b1f3f3b', 'nyt://article/770e4237-53f9-5491-860d-80a977088d50', 'nyt://article/4f888723-08c3-5ea1-bff0-f75243b8498e', 'nyt://article/dcad3d9b-255f-521a-8294-b44b93009dcd', 'nyt://article/3f1e157d-c5c6-5b73-a440-21b65b99e965', 'nyt://article/a2d72927-aee9-54dd-a735-542ea8cab7f8', 'nyt://article/cc5697ec-c716-5058-a6c0-2562d2723803', 'nyt://interactive/96205d10-5673-56ef-8222-d191e2d73b12', 'nyt://article/cae1375e-ed0c-5637-8ea3-dbbd109743e6', 'nyt://article/3fe933dc-e648-5e5a-8a53-5efaecec3d72', 'nyt://article/eb2a66c2-06ae-5eb6-a95e-5d0fc7512407', 'nyt://article/4ec54862-bb61-5eb6-ad1e-6087ad8084ed', 'nyt://article/263d8349-38f5-584c-b13b-935d0c778739']",
         "25",
         null,
         "0.13451708366962603",
         "Other",
         "NYT",
         "25"
        ],
        [
         "14",
         "Australia",
         "['nyt://article/3563f56a-3056-5a0c-b474-d2d5a4247922', 'nyt://article/fe23ea72-9efd-524e-b770-f46c19d981d6', 'nyt://article/b76d0575-7b3d-5155-9c41-c65d6cdafab8', 'nyt://article/c6089f4b-2fe1-5cbd-97af-e2c324678c24', 'nyt://article/b2083fb9-94b4-58ad-916c-cf7cdcf18bf9', 'nyt://article/652b98b4-01b8-5cb5-bc03-1a8da6738669', 'nyt://article/3f66c66d-cd58-5515-a4ae-e80817e63c9a', 'nyt://article/425a7f86-da47-573f-ae63-0850cee54ec5', 'nyt://article/dd20d078-bad0-5148-889d-06ad5fdc979b', 'nyt://article/061eb34d-2e8a-5ad1-9454-9231d1d6b2d4', 'nyt://article/98dfd0f6-afd3-565a-938a-4c8b0208c5c7', 'nyt://article/47bc3e9f-e57d-560e-995e-893893097634', 'nyt://article/2e05dd10-7579-5ceb-8bcc-45e7e7094db9', 'nyt://article/71b11108-74c6-5e72-b470-64ff9076e574', 'nyt://article/d8dcf526-b866-51eb-954c-95fdd3249d69', 'nyt://article/cad8a90e-a713-50c0-a3c4-8075e01a3b82', 'nyt://interactive/67ced5f2-a79a-5c20-8325-f7b481a10ba7', 'nyt://article/554d6170-13ae-5f28-9875-43dcc5dd7845', 'nyt://article/b91b1dce-323e-5224-811f-d2dd834e15ed', 'nyt://article/8ceeb74c-0110-5697-af59-7e47b2a6ba75', 'nyt://article/7bcbb47d-31ac-590d-ad28-b819e0b0008f', 'nyt://article/67f32b08-b2ab-5a8d-adf9-e7bcc43d60d5', 'nyt://article/af22806c-5e25-566e-988b-541a5ef200e4', 'nyt://article/3217200c-c746-5c3d-ba58-e37ed88100ad', 'nyt://article/c46de21f-3a35-58d1-afff-a67502db7d8c', 'nyt://article/32d145d4-6e55-5944-9838-2d316ca98d7e', 'nyt://article/3ff5d1bc-c26d-565d-94dd-bc6bfe1d7008', 'nyt://article/06c9f0f8-3aaf-5548-a738-28948eca6167', 'nyt://article/9f3c17ce-c610-508a-bc43-920f5d3848ea', 'nyt://article/00603561-a0a0-5bab-a43c-3f17d2192e27', 'nyt://article/06e7db61-c677-576d-8135-71e878ae3a5d', 'nyt://article/0bd12f62-b720-54c1-af64-9117ac29ccc3', 'nyt://article/6251e76b-f6d7-5165-be3a-a5cff3d96a92', 'nyt://article/16c2aa96-8e3c-5d2b-881c-deb8234d7c97', 'nyt://article/2215bf79-c1d4-5a56-b215-e2716de6d6c8', 'nyt://article/b9c20559-ae99-57a6-bf69-c6be68c332f3', 'nyt://article/36ee0edb-21e9-56c9-bb84-09c4415a4516', 'nyt://article/cef0e70b-c58e-5305-ad95-b70eef7d5bb0', 'nyt://article/e26c4181-09e4-5d1c-a561-231cc8093242', 'nyt://article/dfb763d9-6c6a-56b7-884d-c11c0ae498f5', 'nyt://article/9688220d-01bc-50fc-8f86-407d713579cf', 'nyt://interactive/6567bdfd-4b48-571d-b37c-5369d5680e89', 'nyt://article/676a190a-3d84-55e6-a811-46830fd713ca', 'nyt://article/49132651-85b6-5964-bb47-4c9885b4946c', 'nyt://article/720399f2-c1ec-5608-9963-cfaa03abd183', 'nyt://article/a2204e08-ca5f-56a6-8ea0-00ca67b4119e', 'nyt://article/0855a4d1-fe51-5619-83a2-266910bd6b66', 'nyt://article/eb0f1578-0dd7-5251-b08e-54ae3e7f1665', 'nyt://article/cff5a46a-595c-577e-bd69-553d6c3c9b68', 'nyt://article/b5f5cc46-54cd-5d00-852f-84232961c7b7', 'nyt://article/4351b3ff-a09e-533a-8e8a-20bf9313fad4', 'nyt://article/706d7ff9-3245-5bfb-88b3-7182f1e33f24', 'nyt://article/6c12a257-a682-59b1-9b23-24f0e7c044e9', 'nyt://article/2bb0b4f7-43a5-58be-a7dc-12423583607f', 'nyt://article/4329a608-2816-5cc2-847c-f5c7aa77154e', 'nyt://article/e5471980-ba2f-5f95-82e7-937c6df7600e', 'nyt://video/621c2d01-fcd9-5a73-8670-4fa5700b863a', 'nyt://interactive/592ac49c-845b-5dac-b58f-1188544ba8ef', 'nyt://article/5b45e5c1-31bc-5efe-8c6a-5e88a1746d88', 'nyt://article/bc4f3742-1a90-5f2d-97b8-82bf0a12aa73', 'nyt://article/9f91c450-328a-59be-be41-570acf122f54', 'nyt://article/eecc4f8b-8945-5550-b10c-5d399b52881b', 'nyt://article/2d0acbc4-907a-5c30-ae8b-46f4f91b8eee', 'nyt://article/2b44b26f-8d1b-5505-a9bf-69222111d126', 'nyt://article/e006afd4-6c29-5f00-b2d4-0ab900d70971', 'nyt://article/d398c491-8159-59db-9acf-c6e0e56452ca', 'nyt://article/42f9e59f-4cae-568a-8c53-f7af86c5a0e8', 'nyt://article/51f500b8-a1cf-54eb-8475-f0e432a25fee', 'nyt://article/cf9cc005-019f-5295-94f3-3434428a34e4', 'nyt://article/099e95b8-18fb-5cb6-9786-5648012b3e9f', 'nyt://article/7f9ad818-d7c8-5a56-9971-7a06b75dbfef', 'nyt://article/10b68136-7d20-5392-bac8-0a29cbb85c8d', 'nyt://article/a96c6023-96cf-5717-8d45-e5cc280e6d2f', 'nyt://article/5948bf75-d080-593d-81a2-139d05ff4c88', 'nyt://article/49a28e7d-8629-5fad-90ee-402b4c3cab8c', 'nyt://article/8a91af8a-f287-51dd-be98-33ea7e295bb5', 'nyt://article/debe2484-03f5-5cbf-a1ac-6056e50e5948', 'nyt://article/3d580611-6876-523b-96b6-bbe7ce334fae', 'nyt://article/88840da1-c29d-56af-b5f6-62d8ec78b420', 'nyt://article/ffa79e3b-c55b-5fde-82fb-4ff03950be92', 'nyt://video/bdaac810-5220-5ee4-81d8-8026e77fed50', 'nyt://article/118d7f4e-fe02-529b-9b92-f5dcb79ffd8d', 'nyt://article/b3127485-6e94-5ec5-8e22-8f22497d131b', 'nyt://article/1157b69e-7313-5ec9-bae3-ddda52e6d3ed', 'nyt://article/3f49b19e-4f33-5e73-b680-102580073eaf', 'nyt://article/0cd7fcd9-8dc1-503a-a47b-fc7218af6fc5', 'nyt://article/6dbdb063-b109-519d-b8c3-1e3eb738b2c2', 'nyt://article/1d5a61ce-b39d-54e7-90e2-561418801840', 'nyt://article/8e005a41-73c4-5e0f-a9f9-a130c967b0b2', 'nyt://article/d6f8bd48-893f-5a5b-afa6-d034baa3c4ef', 'nyt://article/6a251768-d7cd-5d42-b3b9-fd6314f11f82', 'nyt://article/7ba22bd7-f3b7-5cda-989e-9229fc9e995d', 'nyt://article/bce3ca60-af67-52bd-a7ef-48827ff604db', 'nyt://article/fc948308-79e0-54f2-b519-7a586596cfc8', 'nyt://article/607b251e-2a94-5a47-b201-4775af12519d', 'nyt://article/e5b3ead7-33f0-52b2-aae7-44ae0d9f51f3', 'nyt://article/47c01780-bf2c-58bf-878b-5dbf02c70664', 'nyt://article/b5ae1e7d-b013-5938-9f49-dd53b2e0f5aa', 'nyt://article/608ddbb7-37de-56a4-9d69-f040a32319f9', 'nyt://article/17ea0afa-d3ea-55a2-85a8-8799db99297f', 'nyt://article/474be2fe-a5d4-5308-bbbf-c34cfc596252', 'nyt://article/2a67f414-d79f-575d-b6d6-864778e9b09b', 'nyt://article/73af21ea-3c4b-58b3-9ebc-a4b0ee887f41', 'nyt://article/60d90eec-2fbe-59a2-b893-decc14f2a739', 'nyt://article/c6be1920-767e-52bf-a64a-b58093e0ddee', 'nyt://article/0e578382-17ca-55b5-ab06-f61b9142aa97', 'nyt://article/0160c299-c582-5ed6-b89d-36b1ceff4ff1', 'nyt://article/68a8cded-9ea6-5dce-be58-9148037275d1', 'nyt://article/a77b5684-71b4-5d71-acb0-b19bfb9730b5', 'nyt://article/39db45b5-6f87-5dee-9d1c-817323abd158', 'nyt://article/e430b01c-f32e-5382-bf19-e0df4e7ee669', 'nyt://article/ec9f5472-3ebd-50bb-a58b-57b0d0aff90a', 'nyt://video/359ed06d-e7da-5737-a242-9d6ce247f411', 'nyt://article/d7a1f468-2b98-5872-a037-714ecdfa250c', 'nyt://article/2f13368a-d180-5465-877f-375210a7aae7', 'nyt://article/b7006bda-96bf-5b9a-a9fc-4bb7a8e250f9', 'nyt://article/538158af-eb06-5ac9-ad44-252e3d8c8c70', 'nyt://article/9a728ca5-b4bb-5b60-be45-053646dcdb10', 'nyt://article/ffb67ff8-6919-565f-934d-5ffb8e6ae707', 'nyt://article/428a36ff-3d0c-5b52-b36b-8b1579756c9c', 'nyt://article/493c5943-03b7-5b66-b5b3-ac40b21a4fa5', 'nyt://article/d5c231d7-9185-5351-b6ec-9b70dd39a9a1', 'nyt://article/e82db1e6-3dbb-5127-bfb2-58b786a0cfde', 'nyt://article/27d79a98-34d2-5ad6-b3e1-4bc2831e105d', 'nyt://article/8cee40e9-c89a-5d5f-bacf-cfaaad424501', 'nyt://article/16bce510-5444-5bc3-81a8-0ffc2da4b735', 'nyt://article/2b3e0c2c-ccc8-5390-baa2-1c2256bd7504', 'nyt://article/8953986f-8715-5bc9-916f-21ff2bf12b78', 'nyt://article/006014ee-ae56-57f6-9fa6-d9b8bc7b6a39', 'nyt://article/4336fc5e-b8e2-5566-977b-a86ef2fab052', 'nyt://article/bbbe8d7b-b00d-5365-b841-c8a8389654e0', 'nyt://article/9abf3e81-2ab2-57e7-bcbb-8c620efc57db', 'nyt://article/0aeeff1c-c7e8-5bd8-ae39-49e9db19afd7', 'nyt://article/8318e157-1ecc-55cf-936b-7a456604575b', 'nyt://article/8a3f7f3b-d31e-52d7-9fda-ec0650944448', 'nyt://article/fb47e6aa-08ac-577c-8a01-12492887fb64', 'nyt://article/b51b7af6-a131-5f00-ad12-ed465377374c', 'nyt://article/dfc344db-f96b-5342-96c0-18afc3f8af86', 'nyt://article/250a7f52-542f-59f3-9b19-fcadf011716c', 'nyt://article/023e6842-0a67-50c5-a9fb-d6c6daa49b56', 'nyt://article/1b0e35dd-eef5-53a9-bc04-a22d6b53ca16', 'nyt://article/c53c9271-b07d-565c-9223-5ae808535c9d', 'nyt://article/722bf5dc-b37e-5c0b-bd0d-d7d281dd6e89', 'nyt://article/c85916ae-496f-5a54-8f09-f151d3bd342f', 'nyt://article/a9ac8ef0-cf48-5585-a00b-8bbf7fa4e708', 'nyt://article/e7116934-5e86-5988-b768-679684affdec', 'nyt://article/e5425a94-61df-57c0-9196-277af1de1d3e', 'nyt://article/c483068a-3157-54eb-acb0-366f23bb78d7', 'nyt://article/687b6d9d-5528-5fb7-ada8-9ab44ef6be68', 'nyt://article/1b7eee19-0e72-573a-a482-860d6d3939d8', 'nyt://article/58bbfd2e-c709-5151-b0cf-0c4c5a2d7bd2', 'nyt://article/600d6b67-e4e8-5d60-846f-78bb05d7ee00', 'nyt://article/1ddbad3b-de6a-528d-9112-b5b2f5e7455e', 'nyt://article/7589117b-71de-553b-b661-9d73f08ae91d', 'nyt://article/61efa0ef-43d3-54ae-8387-66d17e19b8bd', 'nyt://article/0479c98b-f429-5c45-9482-ba056384e378', 'nyt://article/cbf64f15-de9a-5064-bd0b-b6144147c426', 'nyt://article/01df8223-4f04-525e-b8a3-78436d1fc483', 'nyt://article/e7fb592a-8bd3-5616-a186-51a4c61cdcd8', 'nyt://article/63f1260c-5fbf-5289-80e5-5044d958abf5', 'nyt://article/f9e370bb-d78c-5b2a-9f7f-dcc693309e3c', 'nyt://article/5dd8d0c4-deca-59d3-a5e5-0b8ad861ac41', 'nyt://video/d8b508c0-4274-5602-9f7a-0eef478cd90d', 'nyt://article/06dd8692-c554-54b9-9617-79dc1b0c2294', 'nyt://article/34f1b048-9437-54b5-9f62-e4f4174902c7', 'nyt://article/a24352c5-2916-5877-9c38-7b4b58d1909f', 'nyt://article/943d5f12-ce5f-5d0b-a103-684e46194abb', 'nyt://article/5e419777-a56f-5cb1-bee0-f14b8f83c13f', 'nyt://article/b86436f2-910e-5322-91fe-dda663ec7632', 'nyt://article/7740d88e-2bbb-5b60-8ad4-d83e942ceae9', 'nyt://article/c0feb0c9-7c34-5a17-8051-486f89a9dc9d', 'nyt://article/f4fc51c5-eec5-5b89-bba6-278ca712452e', 'nyt://article/b3dda245-86f2-5cbc-973a-45e4288c99f3', 'nyt://article/aedf4e44-a24e-5a35-b52d-f985c3586596', 'nyt://article/2dd8464a-9b63-50ff-afaf-9795b1a91694', 'nyt://article/e18f7c69-da2f-5161-9415-bd1c183151b8', 'nyt://article/351acaec-0e7b-5362-b7e4-c1fdeabc7014', 'nyt://article/5fc83e76-d158-5d8d-9669-87b0a57464fb', 'nyt://article/610ef9c7-708b-59f0-b8a4-80f335639f93', 'nyt://article/604079b3-73ea-5c91-b1e7-2209015a286f', 'nyt://article/4b594950-5710-5481-8a9f-97a3c8379add', 'nyt://article/505e16c1-d8f9-56df-b76e-9cd68a7ab33d', 'nyt://article/0e878c95-5a0c-5039-bfe9-c330dc353a6f', 'nyt://article/774ebdf6-f169-52e6-88a9-900e7a14d394', 'nyt://article/017d6bcd-8331-53b6-8e9a-3a8b8dd00270', 'nyt://article/b2b37b59-ed75-53c5-92cb-6577f841e0f6', 'nyt://article/7d8a58d8-3012-5f27-b5c0-ea3ae97e575c', 'nyt://article/e0284004-ca69-5ffd-ba0c-06dc4d532f73', 'nyt://article/010ebe23-59ec-5c1b-8311-d3e7a8f0edae', 'nyt://article/3c790392-f090-58f4-8709-d792f161cbed', 'nyt://article/3cfa128b-7fea-5e24-b805-0a30bc411c6a', 'nyt://article/398f03de-dc59-5101-bce0-04b2275b68cc', 'nyt://article/843117b3-f38a-5831-a8e3-7b86d7733b6d']",
         "193",
         null,
         "1.038471885929513",
         "Oceania",
         "NYT",
         "193"
        ],
        [
         "15",
         "Austria",
         "['nyt://article/670a186b-c06b-58f0-a238-c411d99059f6', 'nyt://article/a9945d58-6d62-5889-b609-c487bfd5069c', 'nyt://article/6a5bbb3e-eac4-51fd-8ff7-cf9c18c99aaa', 'nyt://article/0659b583-2941-5ea5-a00b-b6121b5c83f1', 'nyt://article/c20000bf-0d4e-5023-9e9f-8e65e3d98cef', 'nyt://article/ce1cddcf-3d19-59c7-acc8-a522d1fdc119', 'nyt://article/07f9b643-eef6-550f-b25a-4312a5c2f68d', 'nyt://article/4062fb42-d47c-5de1-a685-f0ff645c28b8', 'nyt://video/ba0d555f-09e9-547c-bfec-3cebce70cf3a', 'nyt://article/9338e337-f8bd-57fd-9f99-a4b5d3e00490', 'nyt://video/64329d3e-7457-522b-b616-7a45df9583e3', 'nyt://article/f346f96a-8d34-53c4-88b4-f2e41179af65', 'nyt://article/535cae89-dd25-5958-8c27-9d3940128215', 'nyt://article/da49e385-de04-547e-a135-b96456b2f2ee', 'nyt://article/9119b453-c943-54ab-8cb1-157add50b82b', 'nyt://article/82e888a7-65f9-56bf-8b75-93affdd15a27', 'nyt://article/de545c26-765c-50f1-9ee4-cdbb26c758c1', 'nyt://article/3f434785-de8e-5103-bfd0-3aa326b95b3a', 'nyt://article/b6a4d362-fd4b-550e-a10c-3fdaff9393eb', 'nyt://article/9f7588ca-4f94-5a9f-9c31-ffc7bff7bd74', 'nyt://article/109a7c51-3991-5a42-bfb3-753b12683cbe', 'nyt://interactive/81213565-7304-5188-bd4c-be87a1d2b554', 'nyt://article/7dd19b59-156c-5583-bd77-764448662a9c', 'nyt://article/edc7fb55-4d27-5863-9ccd-0403d16b0651', 'nyt://article/80fb2c87-6c72-5bbc-b050-89225dfcb929', 'nyt://article/2982e829-2cc6-5d1a-89aa-0dc4f495bd0b', 'nyt://article/a0b57494-0710-50f3-9c8a-dec7c3c19938', 'nyt://article/45fc1283-ccb4-5b3d-8498-664d6424d7ca', 'nyt://article/4336fc5e-b8e2-5566-977b-a86ef2fab052', 'nyt://article/bbbe8d7b-b00d-5365-b841-c8a8389654e0', 'nyt://article/7c902ee6-e04f-5302-8340-097035a8ca57', 'nyt://article/38ce97ea-cd09-5520-9753-e23f6a4fb62e', 'nyt://article/6eae42d5-f0cb-5dff-83ed-b762bab8194f', 'nyt://article/3d1badc3-b35a-5d07-a6d5-8a12d1704463', 'nyt://article/6569ee78-27af-5059-beac-731d96175409', 'nyt://article/2d49cc50-dce5-5506-8cd6-c10810138ffa', 'nyt://article/769e4249-b283-5fb3-a493-7341db70f0cc', 'nyt://article/bbfae0d6-4d3e-5b9b-b914-041d2cbbf485', 'nyt://article/f5f06545-8890-5a08-8b68-6013f50287fe', 'nyt://article/bbfe3f9f-71b5-5866-ae83-ff98e3eb8ed8', 'nyt://article/612c3665-1ac8-5314-b669-40c06b40e7c6', 'nyt://article/739f8cc6-dc23-572c-8891-33dc65a9a6c0', 'nyt://article/d9d748ee-8391-5b7b-866e-77903b2762e8', 'nyt://article/4651a01e-c9e5-5f1e-964d-f713f267a818', 'nyt://article/489d15d6-0318-5528-a1e8-2dd8cdb2f5d2', 'nyt://article/6825921e-2366-5d36-8888-7039f99c7a5a', 'nyt://interactive/0770ec0d-4b73-5fe3-9f9d-e453a724e45d', 'nyt://article/9214308c-0dc9-530d-b672-42164d3e05c7', 'nyt://article/1e7d04dc-c6e6-5da1-a83b-3074b0a4f9da', 'nyt://article/5c93f3d5-8d8f-580b-951e-bc354a275aaf', 'nyt://article/d0d0c232-0ae1-5d3e-b897-ae648a271c17']",
         "51",
         null,
         "0.27441485068603716",
         "Europe",
         "NYT",
         "51"
        ],
        [
         "16",
         "Azerbaijan",
         "['nyt://article/1fac1725-38bf-566d-8337-65c0706ad4a4', 'nyt://article/75a6b57d-c8f0-5902-bc26-bdc47ffe65de', 'nyt://article/bea61699-24f2-5265-a22f-9076f851ca5a', 'nyt://article/02a1c5f2-d20c-5376-a04b-46ba64bc0b52', 'nyt://article/2ae1c323-fd56-5a8f-9436-c490aab9e213', 'nyt://article/79fe9ff5-ef5e-589d-913c-8be4b5e4bcc2', 'nyt://article/a20b75ce-1caf-5292-9f23-2c0179843348', 'nyt://article/d97b0f8a-fed7-5478-933a-fa3964997570', 'nyt://article/15b999e8-4ec7-5c3a-b383-38d4882eb462', 'nyt://article/39af62ad-0e32-5ba2-8d59-b545735c0d7b', 'nyt://interactive/63331587-3ed3-55c1-8475-7612b1f63f8a', 'nyt://article/2bd94bf5-a815-5d9c-a58b-7dcedaa97026', 'nyt://article/2c4fcfe0-4152-5915-8da9-ff3f6df3f13d', 'nyt://article/9d488c1f-3d6f-5fbe-8307-2a18cefc53f9', 'nyt://article/2c3b6715-4f1e-5613-b5a7-cdede0a6995c', 'nyt://article/5f9b06a3-91f8-5f84-bfe0-f0afdd7a0471', 'nyt://article/36c648dd-92ae-5811-b8d7-e174adbac1b2', 'nyt://article/7c990f69-0455-5658-8374-07565c77ca27', 'nyt://article/4c1ef574-dc8a-5c14-83e4-746375e43e14', 'nyt://article/bdfdc886-d7a1-568f-af0b-5b0dc316b89f', 'nyt://article/aa53562a-37eb-5ead-8519-ca910628a9e2', 'nyt://article/0d118bb0-9370-5c0f-9c92-1e0588cb955d', 'nyt://article/181e8c57-77f4-5633-8052-035dd125bd36', 'nyt://article/6d2cecfc-ce5c-52c4-af05-39822d596bf6', 'nyt://article/6f1c8fab-c5ed-5aaa-9191-a0552e7cd2a9', 'nyt://article/a008167d-fddd-5f78-a94f-a5c20c40e7e5', 'nyt://article/f9386ae2-3ae0-5baf-8064-919dfdbc9e8c', 'nyt://article/385388d5-2e5f-5321-b23b-4e0afb0c4940', 'nyt://article/d7b0de2b-9d50-5a2d-88b2-5390b5b7de3b', 'nyt://article/d7ea26e8-b61f-5975-bd0e-ff455733ac5b', 'nyt://article/250d49a7-b629-548d-a99a-a2aaf0e3a728', 'nyt://article/7104a8cf-de19-5482-9efa-d93c012227d2', 'nyt://article/7a9cbc11-d086-5980-855e-e8abbab5ee40', 'nyt://article/58fe85be-4962-51bd-8f47-46c1ccbf8f5a', 'nyt://article/cdd5b359-8961-52ac-86d2-4d9c675b224d', 'nyt://article/3b3d552e-a57f-53c5-8ff0-31113b14c493', 'nyt://interactive/4d85e505-f0a7-57c8-b4a4-7d2018223598', 'nyt://article/dfe287c5-254d-55dd-8245-66c18bc92edd', 'nyt://article/5f2ef024-54ee-5815-8fe6-ad8f68e23f5b', 'nyt://article/b523611f-4c09-52bf-a76b-e31fe00e1ec2', 'nyt://article/cea90935-2c07-55f1-81af-32de2c80925c', 'nyt://article/ea2f8cef-794a-52e7-8891-8656b2891bab', 'nyt://article/1ac32ed3-b543-5290-a03a-385cff024025', 'nyt://article/b2c28cce-ffdf-551c-a4e7-27d9bf22684e', 'nyt://article/ff0ee5d0-91c1-5420-a030-64e56a472c13', 'nyt://article/44ff88f7-5c8e-575e-b710-983fac884ec0', 'nyt://article/9cdc7f20-65d5-5c7b-8264-99b07744af9c']",
         "47",
         null,
         "0.25289211729889693",
         "Asia",
         "NYT",
         "47"
        ],
        [
         "17",
         "Bahamas",
         "['nyt://article/f55d75df-7984-5796-871e-e9808f9a7b95', 'nyt://article/3a456fac-0fdb-5d08-a280-a3fb1bb27b7a', 'nyt://interactive/0a438c12-d60f-52a4-be3d-ca4aaf493aad', 'nyt://article/8a064346-c360-53bd-a6bb-93ef461de02f', 'nyt://article/4c432d3b-5d3c-513d-985c-5d2e2a3d06cc', 'nyt://article/72ff5af3-f710-5967-a74b-1cd1105d4110', 'nyt://article/3c489b15-4e6a-5b33-a153-2eed5cd30deb', 'nyt://article/7218d0b7-3509-5552-8ab2-6370dc25b31f', 'nyt://article/5205dd9f-385d-55f3-9e25-316e4a05cd82', 'nyt://article/ab667a0d-a2e8-59ae-ac3c-ef6a611c2ba3', 'nyt://article/605556aa-111e-5eed-99b4-5ab87c8e327b']",
         "11",
         null,
         "0.05918751681463545",
         "North America",
         "NYT",
         "11"
        ],
        [
         "18",
         "Bahrain",
         "['nyt://article/6cc38047-747f-51f9-8f85-f98e36b2b992', 'nyt://article/1104a490-62b7-507a-9fab-1783f67a7d95', 'nyt://article/4db02671-1c0e-5b3e-9c95-645b54d2f8f7']",
         "3",
         null,
         "0.016142050040355127",
         "Asia",
         "NYT",
         "3"
        ],
        [
         "19",
         "Baltic Sea",
         "['nyt://article/9cbcf0d0-527c-5022-9bd8-b399f459f42d', 'nyt://article/3680adb7-fe2f-5377-8a70-d6fa4f9ee2d3', 'nyt://article/7ad346da-06c6-5aa4-9f44-13e3dabfdcf8', 'nyt://article/62d1bb37-54d6-53c6-9d6d-5e43431f3335', 'nyt://article/c747a563-86b6-5583-8528-5d5d82c573c5', 'nyt://article/59773ef3-f9a2-5811-b338-a3f62ae4eaa2', 'nyt://article/bf938858-5d5d-5907-8726-929112ccc441', 'nyt://article/3f82b219-3267-5601-9fdf-c806ee1f9f16', 'nyt://article/2f502b81-e9f8-54e1-b1b9-814c7b61cf70', 'nyt://article/e8dd346d-fb45-5698-afc2-8d1aca18cab5', 'nyt://article/3bb65254-fb8b-5779-801d-5f533b78bce2', 'nyt://article/70a2d5c7-eb7c-5a47-841a-cf93e986f761', 'nyt://article/e0535641-550c-5375-aa88-d76d316835c7', 'nyt://article/b2d50f5b-6b2f-535f-bc99-b1fdbbc677ee', 'nyt://article/3d3af5c5-012f-5512-a7ef-4373b2cfd830']",
         "15",
         null,
         "0.08071025020177562",
         "Europe",
         "NYT",
         "15"
        ],
        [
         "20",
         "Bangladesh",
         "['nyt://video/d7eed2c7-86dd-5334-9768-b58516f4f125', 'nyt://article/8fb3e25e-d5ac-51ab-b4ee-52cd2e06e9e1', 'nyt://article/1029ca29-7478-58bf-bf53-2137bb57ca7f', 'nyt://article/d1995898-4e16-5f85-b9fc-83a1dc0f5c31', 'nyt://article/f59ad265-6b02-5b47-87ab-40491a7192f4', 'nyt://article/84267c45-d863-5b57-810f-589d61c16a27', 'nyt://article/e71deb6c-14ca-5446-acb0-557595a1c768', 'nyt://video/5b91da10-fc8e-580a-b37b-cc4fdb11b1a7', 'nyt://article/5774741e-8fea-5f49-ac70-ce4168a37b07', 'nyt://article/255b5563-597e-5283-8031-70f235aedc71', 'nyt://article/ebd1ec32-ad41-578b-bdf4-274284a3badc', 'nyt://article/da8e3167-7608-5e86-b657-f9dd213b4cc0', 'nyt://article/acd20332-7d58-52b0-af07-1e411c87bd05', 'nyt://article/396deb75-4e1f-5856-a8eb-1e3e580d5450', 'nyt://article/9b6b0318-db8f-58be-bb65-5d0217d80de8', 'nyt://article/1674bd72-13ee-5d08-bb54-0c3ce48fe673', 'nyt://video/eb3b13e6-599c-5c12-9fbf-c4db7a880801', 'nyt://article/498ca601-204e-525e-bf4e-97640d9a70e9', 'nyt://article/38e0530b-d424-5ba8-9c4f-277eee69f102', 'nyt://article/936b5914-211d-5657-83a4-a9b74a4a6cf9', 'nyt://video/d9b4cbbf-d8dd-5348-bc51-4c250f866d67', 'nyt://article/f5c39b45-ce9a-5bda-a008-c98c0684c491', 'nyt://video/cc737b7c-ab5a-59a8-95e1-816ad4887397', 'nyt://article/a0f463e5-dbf2-5a92-81a9-d066f36509f0', 'nyt://article/cb0045e8-0494-5f4e-b589-de52b5ea985e', 'nyt://article/80dc1747-cf04-5beb-a934-619f952d75e1', 'nyt://article/ac3aba66-b791-52e7-9ad5-cbb0db0d13b5', 'nyt://article/d4835673-3e5b-5cb9-a68b-4b895d740999', 'nyt://article/6406f914-ccce-5054-a329-b9b8414c9c95', 'nyt://article/823b3d55-b82d-503c-8a18-68d6933d4625', 'nyt://article/a05942c6-58f1-599c-8fc0-2d3224b02cc8', 'nyt://article/3cc92856-efcd-5e80-bf10-797afacb4f84', 'nyt://article/cafa3f9a-8004-526b-9927-c06cd85f915d', 'nyt://article/9236f415-552c-5965-b113-e3b12c7acefb', 'nyt://article/88c85774-df15-53fa-b7f1-482980bfcb43', 'nyt://article/89c8e9e3-fe76-5a94-92cb-414d811ee293', 'nyt://video/ef3d4115-649f-5efb-99f7-c1ef9c7270c6', 'nyt://article/dbdf3b95-c4ac-5cd5-8644-8e866582656f', 'nyt://article/7084ef60-da5c-537c-b158-f1e78e69f10f', 'nyt://article/d702ced9-53d7-5cb7-aea6-5e37a2c55cd1', 'nyt://article/9feba6e2-823a-5fbd-954f-5040e45639ba', 'nyt://article/f56cb90c-333e-5189-b598-09245a7ecced', 'nyt://article/43e54411-fec3-5aaa-a572-7a1b476a42cf', 'nyt://article/c24ac261-a0e7-556b-9343-f6e2c17e7a5c', 'nyt://article/bcee377e-2c3a-563b-bc2e-32be6a28cee3', 'nyt://article/5f3da01e-323c-5b51-a9b4-1e366ca4387d', 'nyt://article/e943d08b-7be0-52f9-b32a-9ad77935c102', 'nyt://article/1ea4fb4a-0878-5451-a43f-4ffdc4da6144', 'nyt://article/34403061-db05-5d35-b892-3d3ada556995', 'nyt://article/dae2657b-9ab4-512b-b6cb-8690b92d0434', 'nyt://article/d42d09c3-aee3-57bb-b508-b2495fa0508d', 'nyt://article/69423ad4-3547-5863-8dfa-a7c04e0bf88c', 'nyt://article/75b05547-d2b0-52e1-8113-4184eddf76d7', 'nyt://article/85c2a939-d4e6-5597-bacd-db25e92110dd', 'nyt://article/4c300a25-56e0-564a-80bb-33da64428e8c', 'nyt://article/02a53ef9-fac1-5f49-b279-2c3d742d37d0', 'nyt://article/f8811dee-1ac1-5761-b4fe-42e35a6ef538', 'nyt://article/10453968-c7cb-50d8-ae37-8bc7d4bdeeaf', 'nyt://article/ed532bcc-2029-5854-9ceb-338278f3128f', 'nyt://article/6814c044-6791-5f6d-9ca2-231a0b94d4cc', 'nyt://article/bf77cc3c-2d4c-54d9-8ae9-e8dfce0fb9f9', 'nyt://article/ad68b015-ad74-54e5-b873-9d29dcf2b2f0']",
         "62",
         null,
         "0.33360236750067257",
         "Asia",
         "NYT",
         "62"
        ],
        [
         "21",
         "Barbados",
         "['nyt://article/dbca2c1e-0c60-5e8a-a032-6e29e8425c40', 'nyt://article/3a456fac-0fdb-5d08-a280-a3fb1bb27b7a', 'nyt://article/120e4e0d-239e-5b52-83bd-462598928a5c', 'nyt://article/13242a65-a494-505a-b504-49c06a9d9166', 'nyt://article/360f1b02-6470-52a5-afab-5753344f121b', 'nyt://interactive/3d72386b-bd2d-58a7-9b04-9a7b9d258943', 'nyt://article/2794161a-68fa-50f9-af4b-781cf317f424']",
         "7",
         null,
         "0.03766478342749529",
         "North America",
         "NYT",
         "7"
        ],
        [
         "22",
         "Bay of Bengal",
         "['nyt://article/f69229c4-0c2b-59ad-bcff-d25886896e17']",
         "1",
         null,
         "0.005380683346785042",
         "Asia",
         "NYT",
         "1"
        ],
        [
         "23",
         "Bay of Campeche",
         "['nyt://article/2ba65ccb-6e52-557b-9191-21cafcc864f0']",
         "1",
         null,
         "0.005380683346785042",
         "North America",
         "NYT",
         "1"
        ],
        [
         "24",
         "Belarus",
         "['nyt://article/6fd49dd1-7d28-561f-913e-050e34afabbf', 'nyt://article/2c4fcfe0-4152-5915-8da9-ff3f6df3f13d', 'nyt://article/7775bef0-4a61-5d97-9d2c-b93de2ca319a', 'nyt://interactive/4ef0fac9-68ae-537f-ac7b-e165411fcc5c', 'nyt://article/21cad100-f82d-59f1-ae41-1d37516395e4', 'nyt://article/53220df1-5f7e-5866-9ce5-9b645a1d69a4', 'nyt://article/2aca6428-0b32-5356-a256-a286a4b16347', 'nyt://article/f346f96a-8d34-53c4-88b4-f2e41179af65', 'nyt://article/50eb219d-459e-511b-a4eb-c6feb9f15fe7', 'nyt://article/08eedfbb-983d-553c-95ad-9e660802e15a', 'nyt://article/2c1190c3-b15c-55aa-abec-e46649feb480', 'nyt://article/ef47a80e-94bc-5c36-8d44-8d4224ce92b2', 'nyt://article/833eaa47-ce45-5c0c-a984-81c8d7533a04', 'nyt://article/66554e8d-9278-5135-85e9-0bb9bc3cdca4', 'nyt://article/1cc2cfd7-f7c4-58db-87d2-5a85ddea3257', 'nyt://article/d3587697-6a2d-5b83-87a8-c7e8ae03e248', 'nyt://article/3c734eba-d374-5d03-ae3d-df46861ec2ad', 'nyt://article/e25457bd-ce33-5a31-a905-ac652a50bcf8', 'nyt://article/081caf13-8311-55ba-b659-845d5f7491d1', 'nyt://article/bf938858-5d5d-5907-8726-929112ccc441', 'nyt://article/841e8ea4-81c0-55a5-90e2-9f854b631bf6', 'nyt://article/40bad37f-8934-5ae1-9915-a5627f4ed3f4']",
         "22",
         null,
         "0.1183750336292709",
         "Europe",
         "NYT",
         "22"
        ],
        [
         "25",
         "Belgium",
         "['nyt://article/d515fd4b-c1c6-52f0-a959-bf21336531c3', 'nyt://article/87fc2fa9-b820-5a08-b8ba-7e6db0dee3c1', 'nyt://article/1cd28e8a-743f-5418-9e6d-332af33c1ebd', 'nyt://article/4076d5fe-4d52-5ac1-bc13-27887a7ad6cf', 'nyt://article/6d0fd4d4-108f-53a0-92eb-ae6cde85c32a', 'nyt://article/15a126ec-72f6-57fb-ade6-d48ae7eac43a', 'nyt://article/458f4489-9efe-5a9d-9e5e-b893deb668fe', 'nyt://article/84939ce5-ddc5-5a6f-a06c-37ce914d4df0', 'nyt://article/d6b19031-3e5d-51df-a313-6c540e5ce024', 'nyt://article/3f5f04be-e156-5f39-b845-8145daacfc2f', 'nyt://article/d88e199b-3dcb-531f-823f-989e49d7db10', 'nyt://article/f2d2bf65-5b70-5073-82f6-34a2fb1b274e', 'nyt://article/cd435d91-a60d-596f-ae07-c4c251d4392e', 'nyt://article/b0ae26e0-fd39-57ed-9153-f8e9337c6b42', 'nyt://article/cc1e2e6b-2b38-5dac-8102-76cd1131d826', 'nyt://article/6a9b613b-3619-5b68-a3e9-1852f29d773c', 'nyt://article/278615cf-39bc-5967-965d-9db5c5ea3315', 'nyt://article/2aca6428-0b32-5356-a256-a286a4b16347', 'nyt://article/b8926a2b-a016-5493-85f8-b9583b56bbaa', 'nyt://article/b967a24f-e8c9-5af5-b74e-91994f870869', 'nyt://article/ce07da87-93d8-5c3c-a0a4-ee6993131d2a', 'nyt://article/daee73fc-eb79-5d80-a1f0-a4f688b766ba', 'nyt://article/ffb9c4af-44c5-5ede-8cf5-c0193ad81907', 'nyt://article/851b69ae-20b6-56b8-840a-2359f31050c2', 'nyt://article/1ad42471-f803-5b9a-a19e-a429e4c4e91d', 'nyt://article/89dd8747-9903-5e0c-89c3-a261470296b8', 'nyt://article/5410630d-98fd-58ab-8966-5dcfd390941b', 'nyt://article/1fe7f248-a1d0-56d6-bf3f-df0c4f0c39a5', 'nyt://article/fcc2bb23-b4d8-5546-b18f-aff16ef38218', 'nyt://interactive/6200b426-fecd-5edd-9754-15753cae9c59', 'nyt://article/ca824b3e-85ea-506d-b6bf-f9b94c025737', 'nyt://article/351a7081-1a05-5166-916a-f9f2045ea836', 'nyt://article/fb011342-8413-5b74-868c-e1220ddd100e', 'nyt://article/58da3e6b-b8b3-54dc-a564-c2e795ec9fec', 'nyt://article/4336fc5e-b8e2-5566-977b-a86ef2fab052', 'nyt://article/1e40ff20-3a4b-58e9-9719-ebd96162a35f', 'nyt://article/737a295e-2823-5677-8179-6362bb19d267', 'nyt://article/0f652f8f-85bd-5513-8b86-c969aef66b9f', 'nyt://article/ca2cbda6-ba8f-5c14-8fae-993ad3293920', 'nyt://article/0615e70f-5fdc-58ab-86c5-4fed006d8fe6', 'nyt://article/be0c441e-b389-5096-aeb7-b040d49b16f8', 'nyt://article/32181804-e00c-5f5d-97f2-955503943dee', 'nyt://article/39c9545b-8b8d-5251-8a87-a7e7ccce3f86', 'nyt://article/4cd9a420-ddf9-5041-a52e-c8e4d9678bff', 'nyt://interactive/bba8496f-c94d-5818-a05e-510217fe60ea', 'nyt://video/3cac0e2e-7f4d-54c5-b35d-fb056724bcf9', 'nyt://article/b1cf93b2-5518-531c-8372-09985fb8a68a', 'nyt://article/70a0c124-049d-5118-9fe2-d39b2f30a0a6', 'nyt://article/c3a3fb76-50db-54cb-8861-5d4f2f594973', 'nyt://article/efa2c95b-0478-5ff8-a93b-5efde1352060']",
         "50",
         null,
         "0.26903416733925206",
         "Europe",
         "NYT",
         "50"
        ],
        [
         "26",
         "Belize",
         "['nyt://article/cc61428c-3ba1-5e63-b984-33e225b3d127', 'nyt://article/b81daaea-4e12-5217-bcf0-24277af7a145', 'nyt://interactive/aed06f4d-8a51-5356-9d3a-d2a838fb17e3', 'nyt://article/39615756-7f7d-56e9-98a6-d928befd65b8', 'nyt://article/083a53a9-40d7-54eb-9fef-e4dc3c12049b']",
         "5",
         null,
         "0.026903416733925208",
         "North America",
         "NYT",
         "5"
        ],
        [
         "28",
         "Benin",
         "['nyt://article/cefbee7b-1a64-555e-aa99-205c8c00965a', 'nyt://article/80609bfa-1307-50a2-9a4a-936fa24d8235', 'nyt://article/cadd214a-9939-500f-a2f3-7aebf7a20faa']",
         "3",
         null,
         "0.016142050040355127",
         "Africa",
         "NYT",
         "3"
        ],
        [
         "29",
         "Bering Sea",
         "['nyt://article/b9d646bc-51a9-5124-b495-e33ae5072f51', 'nyt://article/bf6a397b-55d9-51ba-85e9-5ced31ffff39', 'nyt://article/3dffadff-81f9-562e-bcaf-7f551af771c5']",
         "3",
         null,
         "0.016142050040355127",
         "Other",
         "NYT",
         "3"
        ],
        [
         "30",
         "Bermuda",
         "['nyt://article/f82c4681-876c-5823-8a55-ec2b1d1f9d90']",
         "1",
         null,
         "0.005380683346785042",
         "North America",
         "NYT",
         "1"
        ],
        [
         "31",
         "Bhutan",
         "['nyt://article/8684e408-fa1f-5d86-b3bb-43fa8a2bf8e7', 'nyt://article/89c8e9e3-fe76-5a94-92cb-414d811ee293', 'nyt://article/3c350a95-b7e6-578a-9dd6-f16dd3ea9391', 'nyt://interactive/caa7a64e-05f1-5a71-a588-1e8f311db878', 'nyt://article/95929c9f-42fb-5d83-892b-6b2c3f5adb1b']",
         "5",
         null,
         "0.026903416733925208",
         "Asia",
         "NYT",
         "5"
        ],
        [
         "32",
         "Black Sea",
         "['nyt://article/67ee4544-4986-57d7-a340-56b141868f4d', 'nyt://article/e6b8866b-4bff-57e7-9c0d-824d3d2e425c', 'nyt://article/7f7082e0-01cf-5136-875a-cc3bd44c7057', 'nyt://article/52df775b-6d84-584e-9e6d-da727ddabbeb', 'nyt://article/f8a102cb-e861-553b-89d6-cfc54a10d10a', 'nyt://article/d2f8d9c2-05b8-56cf-a4a1-0a5d15a4fbc8', 'nyt://article/3dfb2f26-425f-5cef-9b47-be2a7d1b3845', 'nyt://article/86d3dad9-815a-501b-b06b-77260a47a38c', 'nyt://article/85dc3162-5ce9-5a7b-8cfa-9b1b0507f646', 'nyt://article/1a69d72d-7e98-5c18-9ad9-0d196edd636b']",
         "10",
         null,
         "0.053806833467850416",
         "Other",
         "NYT",
         "10"
        ],
        [
         "33",
         "Bolivia",
         "['nyt://article/944dd5c5-5751-54ff-8676-4abb71d7fcaf', 'nyt://article/766aa0d0-a57d-5a60-8a6c-6d6d8d2150ad', 'nyt://article/da794e2a-74d5-5277-82ec-d3a9064111ed', 'nyt://article/0218698e-099d-5eb5-b06f-d7f4364c9f29', 'nyt://article/f8a47009-5be4-5e3b-ab47-3945e3ab0111', 'nyt://article/a9f3362e-bfc4-5dc4-b95a-d10e18d34ae4', 'nyt://article/fb261414-c74f-599f-908a-ad71c9751da4']",
         "7",
         null,
         "0.03766478342749529",
         "South America",
         "NYT",
         "7"
        ],
        [
         "34",
         "Bosnia and Herzegovina",
         "['nyt://article/15f3afe3-9972-586e-aa7c-0175ec333618', 'nyt://article/c6f66a40-992f-514d-8952-2ba0a6244782', 'nyt://article/05c076a5-bfbc-58e2-8b98-220f33766bcd', 'nyt://article/58508e50-c37c-556e-87ee-ccaf440fd80c', 'nyt://video/45ef2d15-673e-5695-9fe3-d7844dfc2a5f', 'nyt://article/cd09f73d-6b9e-566c-ae88-923092ce703f', 'nyt://article/5962a870-e60a-5dca-86db-8d73b0e321e0', 'nyt://article/d26facaa-7cb1-5708-be3d-b7f22d093d17', 'nyt://article/2ea40895-14a8-5915-ae30-f6b189a67ce2']",
         "9",
         null,
         "0.048426150121065374",
         "Europe",
         "NYT",
         "9"
        ],
        [
         "35",
         "Botswana",
         "['nyt://article/3ec2692e-3c94-53b0-86a8-4efba10445ee', 'nyt://article/43e74e8b-c18e-5d67-9133-b8fc8ab6aaa7', 'nyt://article/5b46ce58-9195-5636-ade0-378a2373f8ec', 'nyt://article/b792e806-eb4a-5489-b55e-3d9ed9f2301a', 'nyt://article/b1e22c6f-12a8-5222-b4a3-97d9684222d3', 'nyt://article/4243bc16-737a-5a1a-996a-c1bd08ce953a']",
         "6",
         null,
         "0.032284100080710254",
         "Africa",
         "NYT",
         "6"
        ],
        [
         "36",
         "Brazil",
         "['nyt://article/b5bafaae-6eac-56a1-bd81-152687034bb7', 'nyt://article/ae862df1-83da-5c3c-8588-4f513328f315', 'nyt://article/031be2ac-5f2f-5e57-92ca-ebe7b6711508', 'nyt://article/161d960e-bc50-58be-8486-44f1b02e7a7b', 'nyt://article/bda4c607-5ae4-5e88-8427-fd20fb629b21', 'nyt://article/df20dbaf-d7c1-5a58-b6eb-e8387e796a51', 'nyt://article/84939ce5-ddc5-5a6f-a06c-37ce914d4df0', 'nyt://article/9276b34c-3b40-57d2-bd85-9bf252de076a', 'nyt://article/7a74f8f9-1c0c-52df-a259-403bb410d95f', 'nyt://article/cb7ef204-4197-5a10-b8ab-d79876d02710', 'nyt://article/0bc6eea9-bd66-588b-aeff-80bb1fca7417', 'nyt://article/09acb071-28d6-594e-b3fe-4799a7bac8f7', 'nyt://article/b462fdbe-b2e0-5a7b-8df6-f3c403e23f5d', 'nyt://article/1144da25-6dd7-5369-8457-6c700b537ae0', 'nyt://article/3c769e3f-a01d-565e-8352-792513d2b955', 'nyt://article/019cc577-cf26-51e6-aba9-14c984f884cc', 'nyt://article/5c6c8048-7220-53f1-9d4e-216b9b4d57dd', 'nyt://article/140d47a4-ae85-51ff-8c9d-7a66f47523d6', 'nyt://article/5054688e-a54f-574a-9e7b-7ffb6cfaec05', 'nyt://article/755b3a3c-0b30-581a-95b7-e40c0378c9ea', 'nyt://article/2832a632-5b22-5aa7-96df-983255497b61', 'nyt://article/b15ce464-f541-577a-8a24-df9874d9b2b8', 'nyt://article/72750308-710a-520d-8077-0128b76dbc62', 'nyt://article/8ceeb74c-0110-5697-af59-7e47b2a6ba75', 'nyt://article/799a22bf-04cd-52da-8621-923983c6b79b', 'nyt://article/2ebc8a6a-05f0-54c4-86a6-ea4a2fe3d45a', 'nyt://article/aad53d3e-9be5-535d-bf3a-2bf6928ebb12', 'nyt://article/11d1d712-8de2-59c5-838d-e087f09dddfd', 'nyt://article/2dbe967f-70b1-575a-9134-233cf7dfcb33', 'nyt://article/af22806c-5e25-566e-988b-541a5ef200e4', 'nyt://article/482228c8-15a4-5b2e-a76c-97227c49dbc1', 'nyt://article/3d887152-073b-572d-a0b0-3ab58fc02f33', 'nyt://article/ac748229-fb1d-5fae-a0b7-319fb0e6e157', 'nyt://article/472858cd-93e2-545a-9bca-ad6b2061b836', 'nyt://article/4ff0123d-daed-5869-94a7-48c73ddf6491', 'nyt://article/d7a79c9a-a6d7-5b49-b66b-ea7b6c697da3', 'nyt://article/da9eed42-437d-5aec-86c3-472bfa44824b', 'nyt://article/4c898390-82a3-5d21-9e63-bee012af32ca', 'nyt://article/2028ab73-b945-5eaa-85ae-58945f6df85f', 'nyt://interactive/2e8dd042-42da-5b56-aa1f-96c3c4d7b6ff', 'nyt://article/44eb3eff-659b-565a-a1ec-cec54e0f4c77', 'nyt://article/ee5eb31d-a1a5-5a09-8b26-dc053325846e', 'nyt://article/92c398bc-c844-5259-98fe-57dbfab2eb19', 'nyt://article/3f22844e-2bf7-52d2-989f-4b11d886f360', 'nyt://article/752b1886-c322-5f2e-bd4a-48cc30463897', 'nyt://article/0c590090-ca6f-54c4-ba2b-7c7617059c11', 'nyt://article/3dad367b-7abb-5c46-a377-3bc8630d57c7', 'nyt://article/506af149-2b90-501c-b50a-3fb4d9d28ad6', 'nyt://video/325cd8d2-137a-5a6e-8ff8-490eac566125', 'nyt://article/c074859b-f07e-59ae-ac5a-3b2b450c7b2b', 'nyt://article/39294cef-5f68-5a08-a6b7-9c6fcf66fb06', 'nyt://article/ecaa8424-7cbb-5b77-9d1f-d11919256cae', 'nyt://article/694722e5-9bec-5dca-b426-5e1d73bc31c5', 'nyt://article/1f5ef007-4c09-5a60-8f55-744934372bcc', 'nyt://article/f6b1d71d-9b89-5163-af4e-2c25687afb9f', 'nyt://interactive/7db7a662-415a-5f69-818a-b54b2c71472a', 'nyt://article/b465200d-6d3e-50b5-8d80-75081085dd5c', 'nyt://article/1dfbd1b3-3829-5ed0-b37b-8af8539d98e7', 'nyt://article/a3b53364-d66d-5b49-bbff-c691b660ccac', 'nyt://article/4e2d1f73-476d-599b-9b95-11fdb4394c5f', 'nyt://article/680aee49-f5ad-5e41-9d62-97acb290b87d', 'nyt://article/dbd833a8-db59-54f2-81b9-02d85db7ed65', 'nyt://article/32338471-a889-5e8f-893c-9de650970d17', 'nyt://video/7dcc0f71-14f5-5735-abd7-66342b2376b7', 'nyt://article/7f482b56-f2d2-5106-b5c2-263b495b3d81', 'nyt://article/7c6c5ad7-0244-5a88-8fa2-b0829e45aebb', 'nyt://article/bd0a7f12-0be0-5e7e-a360-519eb3902cbb', 'nyt://article/716875f5-acd4-5d2b-a64c-4a5b5741a1a7', 'nyt://article/e51d7144-a3ad-58a7-b2ab-f72fbf339d4f', 'nyt://article/71f10b28-0ac8-5c74-8101-a781d8b88dd4', 'nyt://article/a008167d-fddd-5f78-a94f-a5c20c40e7e5', 'nyt://article/6045611f-3f32-544c-9255-a5efa1b01cf1', 'nyt://article/ec210860-0da4-51d2-97e8-904cabab7c84', 'nyt://article/992a0b2c-ebf5-5c91-bb77-035d282d848d', 'nyt://video/7f069c5a-57c8-5cda-84ca-a40702b802c5', 'nyt://interactive/6f9dfc81-04c3-506a-9b14-985065235d43', 'nyt://article/94a329f2-7dd2-582c-a694-a756a5f5852d', 'nyt://article/9f1ef7b4-dbe9-51b5-b495-a4f0bf1451f2', 'nyt://article/7da9dd57-ed51-5e70-8241-1bf7040e909e', 'nyt://article/569993d1-fb5d-57aa-8940-c51ce3633fde', 'nyt://article/256a79ee-1780-58c5-9f61-8fb9341c1f8f', 'nyt://article/c2d9a088-2652-5f93-a3a0-9e9cd2c1b31b', 'nyt://article/5325bea7-8294-5880-9271-d86f80ee7a44', 'nyt://video/5d66abcc-b231-52c3-b659-20f1d80f18c9', 'nyt://article/5bb0cd46-4e50-5f85-a416-2b3fbbd28244', 'nyt://article/76dbecbe-4d0c-5f48-855d-6dff04a6991e', 'nyt://article/1a6a729a-b5d9-5783-8235-2a017c3797ea', 'nyt://article/cda9c78f-a2c5-51f2-bb6c-f1ebdee30802', 'nyt://article/a788c6c0-5cfc-590c-ac7f-4dff08add350', 'nyt://article/0a0d5fff-e858-51c8-a397-b9878dd5d1a0', 'nyt://article/4bbbcba8-047f-58b7-a463-bf0ac97eb607', 'nyt://article/7f461088-36ef-5e9a-9af5-fa296509b52f', 'nyt://article/f55e94af-a707-5e47-97b4-a52f92bef87e', 'nyt://article/4548fe2e-6560-5406-af88-afb9185bc574', 'nyt://article/99edfa44-e5a1-50af-b7b6-39d68c2e560f', 'nyt://article/c1df7566-51e6-5183-9349-aa26aa47a9a8', 'nyt://article/d35a2be4-8651-5b52-8cfe-d2f3296e0eb6', 'nyt://article/0a8e3d79-e89a-5ed4-8981-e4b9c1d50354', 'nyt://article/c4aec98e-ca64-527d-a788-2ef5dc2c5e8c', 'nyt://article/c6beaca9-6134-5acd-b6c5-616596f1719d', 'nyt://article/1f941312-2902-5da4-963f-ae6f5cd86439', 'nyt://article/c96b3b9a-6c5c-57ec-bbed-d450937bf68c', 'nyt://article/a580ad1a-1693-541e-8b44-143d56083844', 'nyt://article/ee314670-308c-5285-945f-84bc53fe90a5', 'nyt://article/10abe48f-4fe7-5008-af07-dbdc658259ee', 'nyt://article/9b68cad7-5db2-5b65-9b43-cdba75854545', 'nyt://article/603971a4-c18e-5c5b-8207-ac872b44fd64', 'nyt://video/68ea45f0-a15a-5b9b-9d23-47583defe934', 'nyt://article/97f24409-e7f0-5bad-822c-acf480eb76ca', 'nyt://article/3717da2c-fc56-584c-84a8-79c2c03d93cd', 'nyt://article/17579916-ca0b-5b2e-a84e-ef3a520f4b39', 'nyt://article/199675f9-310c-5104-a103-322d7d04d4a9', 'nyt://article/d52c8238-0112-5c63-b46c-805caca1c0e6', 'nyt://article/287d15e9-b5bd-5eb3-9d19-a4369c8f705b', 'nyt://article/a9d2e2a1-2db1-5704-9cfd-ade66d693a6b', 'nyt://article/62ffe15e-d6b0-5ebf-83d3-a34fc44964bb', 'nyt://article/34a704e7-0331-5975-bb4a-9cbfedd12885', 'nyt://article/352e1341-bdb7-5bd2-8672-face1c4984c4', 'nyt://article/23a6bcb1-85a4-51d0-b972-847fd8758b21', 'nyt://video/4c8e683c-1233-523d-ba40-4ff573c744e8', 'nyt://article/3def920f-2532-513e-919c-2ca26a78931f', 'nyt://article/4b9addb0-ece4-5275-a497-a5742b169c82', 'nyt://article/6fabf1eb-e0d8-53da-9f74-3e7e7e4326d4', 'nyt://article/506d22d6-0066-50f3-8500-6e72356aba4a', 'nyt://article/82c3ab0f-fe3b-5d86-998a-16c15c23f51a', 'nyt://article/e29bbbf0-cb8d-534b-9faa-2e389edc251b', 'nyt://article/b7b1dd48-bfc8-51ef-a8fa-21879c1e19c2', 'nyt://article/22741380-5dd6-5380-84f5-ed5ea29c71db', 'nyt://article/a988d12e-2d3e-5812-8e59-4296e40b202f', 'nyt://article/fd53c2b7-0038-5810-bffc-82c26b78d593', 'nyt://article/dba88884-4d7d-5750-bbac-289cd1cf4cf2', 'nyt://article/3b3d552e-a57f-53c5-8ff0-31113b14c493', 'nyt://article/f40b9e43-17f9-55e8-9370-cabc6c2a2d13', 'nyt://article/c5fb2795-a67c-5aad-b7ce-bad8adb856bd', 'nyt://article/3acfab73-83ff-50d3-8430-0cb4e2349be2', 'nyt://article/32539e60-583d-5704-88a1-15e73653af53', 'nyt://article/b6ce7edb-a375-5b2c-ba83-d322d815361d', 'nyt://article/92641805-06ec-5b59-be99-3e39512c583f', 'nyt://article/e9c89d4d-4ee8-541c-a781-9d97668283c9', 'nyt://article/3fba21b2-f951-5098-97f1-9bd61e433a7a', 'nyt://article/31d215b3-6054-54cc-8297-198cc7081556', 'nyt://article/476f76a1-91dd-5dae-87f3-db5da79f0854', 'nyt://article/e49b94a1-a8d0-5233-918c-33ea799c943d', 'nyt://article/74f685c1-dbee-5fdb-a27e-4dab4b2af226', 'nyt://article/02a8698b-e746-575d-b37e-7b04c79eacd5', 'nyt://article/73fd6413-092a-5d34-a70c-8f00cde3312c', 'nyt://article/e6eff96b-c865-54b1-856a-18e01a02c1b9', 'nyt://article/42d47da6-2661-5822-82e5-6ec86f1a388f', 'nyt://article/dbd195d0-acb5-51f3-94c0-c91cfa8d9a2d', 'nyt://article/c8df73a2-bcb7-52e1-a56a-8318086d725a', 'nyt://article/536e7878-561a-50e8-99ba-ef4b1ac5ee7e', 'nyt://article/4e56c826-238c-59fd-8398-d946b54cafaf', 'nyt://interactive/b9f9c273-99d2-5614-acdd-ff520e893d62', 'nyt://article/60e286bf-90a3-5999-abd8-0d47db8080a3', 'nyt://article/dbdcdf3d-f029-5dff-a4a3-8d5fb5bd202a', 'nyt://article/e3829944-3631-5618-a43e-a6b7f3894bbd', 'nyt://article/2243d03f-acd2-5628-a14c-ceac812c7f56', 'nyt://article/01c04716-3a06-504e-961c-5ac92b022ea4', 'nyt://article/e55efa03-d492-594c-9640-6f699f962a45', 'nyt://article/90e7e151-69bb-5749-a07f-d18f9ccbe36c', 'nyt://article/d68dfe03-176f-5bef-ac8f-8356b37ebe8b', 'nyt://article/27218239-bc11-5e15-80e2-b663b0fcef23', 'nyt://article/3cf5e168-0189-59d6-b2fe-4b771aa842a8', 'nyt://article/7dabb456-eae4-5659-ba12-2099c2e7a1fc', 'nyt://article/86b8d35d-4e41-5c8b-82e7-2a09da95db5d', 'nyt://article/f7ac5606-38b2-5896-a301-194b4a883586', 'nyt://article/ee219c3b-c31d-5dee-97f6-1a8cb87a5fbc', 'nyt://article/944dd5c5-5751-54ff-8676-4abb71d7fcaf', 'nyt://article/8dc879df-0bfc-5666-90fc-588dee2a3638', 'nyt://article/a69c7170-68aa-5b95-b7f0-6c534ddd82fe', 'nyt://article/f9056355-2867-5957-be5b-5fae84e64cf4', 'nyt://article/18e5ff79-5054-5b3a-adcf-af96e67d5d62', 'nyt://article/964fa42e-2def-5178-ab7f-6f3eaa3840e9', 'nyt://article/aba101ee-b370-5aa5-bc83-d9e347daa2de', 'nyt://article/f4a1d113-1213-568a-9fb0-1214773765ec', 'nyt://article/d1823118-7bb5-51e6-9444-d382f3868087', 'nyt://article/1aa43b32-166f-5b5b-86d7-0de058a1e151', 'nyt://article/fc549e76-b494-5fb4-8ba1-d5549c3ee577', 'nyt://article/48b52263-dc03-5776-b117-ee3225e2e423', 'nyt://article/906b4e9b-f6c8-56c5-a829-d8a8f44f37c4', 'nyt://article/8260b62b-2405-52e7-97de-51b26a46c2cb', 'nyt://article/22edf542-d819-5470-874b-7bd9e3ebff83', 'nyt://article/c8c53a7f-958c-5da9-b99f-28b91bfd1cc3', 'nyt://article/a88f2c07-14b8-5878-8ef5-3bb2a810ca14', 'nyt://article/0e91b0cf-6abf-5723-a3cb-e8633c2d2164', 'nyt://article/208c2f6a-924d-5d1e-a03f-996695ffc330', 'nyt://article/9d3dc1ee-dadd-52cc-a013-9f882c14ea8a', 'nyt://article/023bd541-1b26-59f9-a52f-42beb0487cbc', 'nyt://article/9314ecb5-5eb0-569a-88b8-e1a3ffcf77ae', 'nyt://article/83bca7c7-7596-5e2c-9eea-6d62859db832', 'nyt://article/6760b419-6b05-51d0-8ce5-154f382dbcf8', 'nyt://article/04b201fb-5a15-585f-963e-2fb2faaba0ea', 'nyt://article/0012a0ad-54eb-5667-a3c8-15d6b3d9d048', 'nyt://article/f8c13c61-d0d0-5fdd-b27b-2897b63529f1', 'nyt://article/0175e8a5-5910-51ad-a601-5277c3efddf1', 'nyt://article/cadd214a-9939-500f-a2f3-7aebf7a20faa', 'nyt://article/d59f86fd-bc6a-511d-9d57-614801f1b784', 'nyt://article/a6e42e41-e04d-5f2b-9c29-04586dbfd0c6', 'nyt://article/c7b1eee9-0bd6-5868-a9fa-750892ebe240', 'nyt://article/bf56ce35-304f-54cb-8560-ccdef084ed22', 'nyt://article/e83b9a4c-8134-530e-a6c4-51aa86838236', 'nyt://article/b7bd714f-70fb-5d22-af95-f26a8c107f02', 'nyt://article/d289696e-a671-55b9-841c-56130ce782d6', 'nyt://article/6b9bf558-1c17-5d85-9cb9-96957302965a', 'nyt://article/3b927a80-7aa6-5ffe-ba57-557ff839deb9']",
         "205",
         null,
         "1.1030400860909335",
         "South America",
         "NYT",
         "205"
        ],
        [
         "37",
         "British Indian Ocean Territory",
         "['nyt://article/3c040100-234b-5470-b2ab-0eee905524ef', 'nyt://article/7412a0b8-5798-512f-92b9-94089426bec0', 'nyt://article/e5314031-2e3d-5d39-83d9-210e3f501e95']",
         "3",
         null,
         "0.016142050040355127",
         "Asia",
         "NYT",
         "3"
        ],
        [
         "38",
         "Bulgaria",
         "['nyt://article/e6b8866b-4bff-57e7-9c0d-824d3d2e425c', 'nyt://article/6a5bbb3e-eac4-51fd-8ff7-cf9c18c99aaa', 'nyt://article/411711d8-0299-5691-a375-9bf010543175', 'nyt://article/15a126ec-72f6-57fb-ade6-d48ae7eac43a', 'nyt://article/dc9c142a-e59a-504f-ba02-4f8789cd0be4', 'nyt://interactive/6567bdfd-4b48-571d-b37c-5369d5680e89', 'nyt://article/16dc485d-e114-591b-ada1-d45ee32a0431', 'nyt://article/7b8fbf6e-0c80-52bd-977b-e38aa98ca567', 'nyt://article/c6e1d0a5-e168-5ed5-8b84-908060e78042', 'nyt://article/6bdc54e5-e389-55a3-b461-fa1ef4cdf464', 'nyt://article/f9c5d4ce-85da-59a1-aae2-b9af2a666432', 'nyt://article/c3dabb96-3bd0-5f3f-b463-8dcb812d0fc6', 'nyt://article/961fe384-720d-5789-b310-105e7d3c0b9f']",
         "13",
         null,
         "0.06994888350820555",
         "Europe",
         "NYT",
         "13"
        ],
        [
         "39",
         "Burkina Faso",
         "['nyt://article/8e9c68f9-7b15-536d-a7c7-9b34671ab74b', 'nyt://article/e7245a15-f2db-5f9d-9585-a92b309a28fc', 'nyt://article/f0140bc7-842a-55f6-a0b0-2993e7c1dd6f', 'nyt://article/180f7ee3-173c-5685-a2e5-5f573f4117fa', 'nyt://article/09ea409c-da04-5dda-9001-7cfcdea737eb', 'nyt://article/244cb9fb-1377-51ff-8221-63c988ea0b66', 'nyt://article/f53c045c-2311-55c4-9658-01bb0ae3311e', 'nyt://article/ecc5bfc7-5513-5e1b-a118-6e290e1ca70f']",
         "8",
         null,
         "0.04304546677428034",
         "Africa",
         "NYT",
         "8"
        ],
        [
         "40",
         "Burundi",
         "['nyt://article/ec31d0fe-c8a9-5858-9171-7f2a5eccc64c', 'nyt://article/de5d2cfa-6811-510c-aded-0a3c48c11659']",
         "2",
         null,
         "0.010761366693570085",
         "Africa",
         "NYT",
         "2"
        ],
        [
         "41",
         "Cambodia",
         "['nyt://article/0a45f15f-fa47-5f6a-a317-522b0410018b', 'nyt://article/fd4bb076-a665-5337-87ad-1cc6f7a34ab3', 'nyt://article/a7aa22f4-ab25-5b9a-8423-0fb76b3d474b', 'nyt://article/c440d31b-563c-55e1-8b79-503e757d6c5f', 'nyt://article/726871b4-d714-58fe-a340-8c80abe3cc54', 'nyt://article/1c0655c9-5209-59e2-b228-4fb6cbf6a297', 'nyt://article/8c726b97-3972-5467-9881-43a327c3c29e', 'nyt://article/c9e9340a-5c68-5755-8117-4b723356d58f', 'nyt://interactive/7c53d0e8-f08c-5155-b878-6ae27aa87510', 'nyt://article/abc6f2a5-94cf-5f32-b736-8bf0048916e1', 'nyt://article/ce205cfa-1338-5dcc-9137-05d62e27ec4b', 'nyt://article/3a4f0a34-3478-5ba1-931f-cc763237ab24', 'nyt://article/adcc7bec-5cc2-5d65-b4fa-e4c3a5b20ba8', 'nyt://article/b59182d4-693a-524b-88c8-e750fb96a74e', 'nyt://article/fc96dc6a-d4bf-5a8a-a149-9fac58844067', 'nyt://article/6ff00f2a-405a-5b74-99e6-f98f9a409884', 'nyt://article/bc243082-36e5-5cb2-be1a-956d02c28f39', 'nyt://article/b705a9ec-9b3f-5fb4-9775-a9d7bb301f5e', 'nyt://article/8ecee37b-633f-597d-b9b6-1300b012ae96', 'nyt://article/763f15f9-c0cf-5333-80b7-690312b01ac8', 'nyt://article/c6aa1a0f-0410-590c-ac89-523e3b855dd6', 'nyt://article/b7bd63d6-900b-5ca0-84c8-c3bde7b89cf4', 'nyt://article/f77eea6e-9e4d-5910-9f66-49f09fd9b59f', 'nyt://article/1e9f9ee1-1d31-5c6f-8f3f-e332449f871e']",
         "24",
         null,
         "0.12913640032284102",
         "Asia",
         "NYT",
         "24"
        ],
        [
         "42",
         "Cameroon",
         "['nyt://article/fcaf05cb-0e4b-5063-a3f8-ef729ede2429', 'nyt://article/c5fbdca0-e1f8-53a4-a6c7-33fddc6ea359', 'nyt://article/1dfe1dd1-4683-5496-b7d8-ac104d563057', 'nyt://article/50da83b5-69c8-52fc-a1b7-e174d4f3f07d', 'nyt://article/a988d12e-2d3e-5812-8e59-4296e40b202f', 'nyt://article/d4e8d43c-b797-5d94-8de8-bd4b668e4abe']",
         "6",
         null,
         "0.032284100080710254",
         "Africa",
         "NYT",
         "6"
        ],
        [
         "43",
         "Canada",
         "['nyt://article/e4c02236-1695-5480-b0db-f8f7b209c81b', 'nyt://article/9d0c2b26-3afb-5f53-a4ec-f0c2d300fad3', 'nyt://article/120e4e0d-239e-5b52-83bd-462598928a5c', 'nyt://article/f832574f-de40-5dce-91a4-89e32cf28a22', 'nyt://article/99c41f37-9ce1-5683-8d49-1a5e8d953912', 'nyt://article/fb39f5d9-f7d1-5770-9546-9cf69c881730', 'nyt://article/ea81caec-bd89-527b-962f-ec30cb1338d7', 'nyt://article/21b66d2f-6518-5f89-95c5-ff6e82c16aaf', 'nyt://slideshow/f37e4394-fb7c-5d0f-9158-50dea898324c', 'nyt://article/9195049c-81a8-56f9-821d-c3e82543e1b0', 'nyt://article/1485ed75-1ac4-563f-a0d5-41912f621902', 'nyt://article/91f7abe3-2818-5df4-9629-6c18bc2d2e1a', 'nyt://article/935764cf-a716-59dd-9734-9631cf445acc', 'nyt://article/8aaa5ccf-c6ec-5954-950e-dd8609b840bb', 'nyt://article/290b3664-6ae1-5700-91b8-bb79f06c4a06', 'nyt://article/c85a30c4-1ac4-5087-9304-766767ca3c6d', 'nyt://article/a6341227-7665-520e-befd-db6d3178dac5', 'nyt://article/1f4e37c0-7498-5cf9-8dd5-8c9f61ab2a1c', 'nyt://article/3cc220c2-20d0-5bae-a734-f43830448d6e', 'nyt://article/f58a0237-b841-5b97-9136-9a3276a382f2', 'nyt://article/05b7d2e0-7b61-572c-870a-67b39a46eb40', 'nyt://article/2ed420ee-0ce2-5663-8a0f-c7291e3515b0', 'nyt://article/0545574b-8d69-5150-a0bc-6109c9655243', 'nyt://article/74e12c53-c6c2-5e3d-ad6d-6a96fa680993', 'nyt://interactive/b7174af5-7083-52fc-8f94-14dfeae60af3', 'nyt://article/bb5ec966-98ae-501f-8518-792edcebb3f1', 'nyt://article/20d2c87e-6b0e-5e35-87af-572140d3771d', 'nyt://article/c75b899c-0971-5059-8c8a-40e7c7d423d3', 'nyt://article/f5361eb9-ce20-5c3b-a7cd-c8ca7d4eb96c', 'nyt://article/f2d84094-2a35-519d-97aa-eb51bfa8e2af', 'nyt://article/2bff4b72-9a09-5f4e-b306-8086ccc84af1', 'nyt://article/9186ee46-25be-5f12-bb19-a46dfc51e06c', 'nyt://article/05fb3aaa-6adf-5ce7-ba15-4d874e0eac98', 'nyt://article/8140c979-c1c6-5893-985f-12d647719870', 'nyt://article/10687ff9-3640-559e-b5e4-053cd97d4576', 'nyt://article/e1d6f178-488e-501c-86f9-5bff6504c963', 'nyt://article/c391aea8-2566-5436-9615-5b9eb158bef0', 'nyt://article/798e48f9-1b82-5b72-8ef5-e4daa2a9b03c', 'nyt://article/67c26a6f-e493-5a6b-af85-7bcb57ce8763', 'nyt://article/26217966-86fb-5795-aced-96dc4bac340a', 'nyt://article/71d72921-2bcf-5a61-b712-2f98f27bab83', 'nyt://article/9f5e3842-82d1-5e66-915f-ab93d564c7ca', 'nyt://article/653117da-ff41-5985-9217-2e107ae21e40', 'nyt://article/3793cd21-b7af-572f-8bed-7bd86dfe6870', 'nyt://article/0c212d57-0a2b-5539-9629-703a2571e33b', 'nyt://article/596cf5b2-02a4-5626-8d65-0a28f3dc57e2', 'nyt://article/6ff19930-da65-5e50-b4de-9916219e5784', 'nyt://article/d035a97c-2815-506a-8be3-4c712c286f67', 'nyt://article/e0c857ae-bf90-56ac-a0d3-a7d3e757b91d', 'nyt://article/fde72b8b-b1f9-52bc-884c-9c22151cb587', 'nyt://article/8a191ef6-c2a1-5ca7-b0c4-e67ce76b3829', 'nyt://article/8b200636-8df5-5caa-8daa-308efea287b0', 'nyt://article/52785eec-b875-54e7-bda0-32416517e391', 'nyt://article/7b7169c6-99cf-525f-84e1-0ce179f9a081', 'nyt://article/6d00d161-7f85-5c4f-b3da-005045a05de5', 'nyt://article/6272e4c4-70af-578e-b71c-ed858ed48f31', 'nyt://article/ba0c52f6-68b7-595c-a908-69b8a2cd35f6', 'nyt://article/4111e042-66dc-5cdf-84b9-611e9b6a8187', 'nyt://video/adf1f29f-2817-59f3-9b46-99c69eaab1fe', 'nyt://article/5c379f18-956c-57f6-b04d-3835f6df6c54', 'nyt://article/9ab314f4-f64e-5d52-a509-899134f4c036', 'nyt://article/c2a0e691-a44d-5aec-ab16-1f5a434efa98', 'nyt://article/cf1c881d-de6b-534b-86a2-925221dc63f2', 'nyt://article/a008167d-fddd-5f78-a94f-a5c20c40e7e5', 'nyt://article/6b81166c-1678-51f4-aef8-5f4e34aab8e8', 'nyt://article/7b1f933f-c9aa-51e6-8a67-5e0ccbe59d3b', 'nyt://article/dda12879-6477-515f-b996-b72659942e35', 'nyt://article/8ea22a88-940c-59eb-b869-aa8ccf5a50b9', 'nyt://article/546a73f3-cbf8-5f41-aaab-23ff75fe0b58', 'nyt://article/5fac99ab-8221-576d-bfc1-c84dcd8a8408', 'nyt://article/9f65bfdf-21b0-583e-8f42-252eee77cca9', 'nyt://article/4442ce9d-c553-5fd5-98e9-fec26eb78212', 'nyt://article/2f3ed7ac-6d90-5aed-9e1e-79e8fdbdfd0c', 'nyt://article/ed5ba83d-fed3-5746-863f-3b16b71e3864', 'nyt://article/c204a5ca-c330-5ea7-9a1e-1d39712abafa', 'nyt://article/59c84b6e-748c-51d8-b628-2a8db7fac7f1', 'nyt://article/cdecb5f3-3958-5c6c-b0e3-b9c792ceb944', 'nyt://article/40aa91de-4319-515f-9abe-b2b438da6e43', 'nyt://article/a7c548a4-c67d-5ceb-a6c4-165f694fa3c7', 'nyt://article/296e6d59-7af3-5196-9696-249b9066ceb4', 'nyt://article/015c74b4-2f1a-5b9c-a2da-a209284ae6fb', 'nyt://article/8e2f78a5-8a57-5bee-b02a-4e001d3c7037', 'nyt://article/2401f549-7990-56aa-9e65-8c7095b3b506', 'nyt://article/8c8f3d31-ab16-59d7-899c-5a9ce7133ef9', 'nyt://article/7f782322-27f2-533e-a2bb-8ced50389457', 'nyt://article/bd1ce263-21e4-5fe6-a457-98687b849a07', 'nyt://article/f3e16e69-97bf-592e-b447-43cd7899718e', 'nyt://article/34471c90-472f-54ec-b703-39c79e23dea9', 'nyt://article/a1d11dbf-095a-51aa-9296-b03ba7442f96', 'nyt://video/e34e2b43-436b-5290-be3a-2e816ba74015', 'nyt://article/bb262d5f-a165-51e4-bafb-8443e7fca3c6', 'nyt://article/adab900a-3ca2-5afe-b1d4-477fc6bb909e', 'nyt://video/04b4be98-44e3-5a0a-8b82-e3697a74ed90', 'nyt://article/45d17653-b188-5f7b-80c7-f9bf3251ad89', 'nyt://article/40d8aacb-e25d-5905-a704-5678ef2be3a8', 'nyt://article/417aeb7a-24fd-522e-9ae9-64b0c8be1ab1', 'nyt://article/95494e94-7f8e-55c8-88b2-1a0a63c35d34', 'nyt://article/a76b0fc5-af21-5473-b5d2-3d61d5a497c4', 'nyt://article/b9191b7a-bbd4-546c-a623-adae3b48f271', 'nyt://article/f51c31c6-4ffd-5b98-98a7-f7c68dd97d64', 'nyt://article/d039c247-225b-5b43-8430-0724abc3c7df', 'nyt://article/2e173a82-6f5d-56ff-9a14-c1698f798c43', 'nyt://article/722a8687-4a4a-53d1-8356-d706c5104b93', 'nyt://article/04a21d9a-ecc3-577d-906f-754d2457224c', 'nyt://video/f4a65528-9414-57fc-a24a-4b0a0a3198f9', 'nyt://article/48813ce6-5e79-5686-919f-942f25d0b875', 'nyt://video/174ceec4-d49d-560b-bf62-f986be3ea01c', 'nyt://article/061b1d80-5b7d-5a73-a5f4-bcd2f5574ad5', 'nyt://article/de2f7f85-e8e4-5abf-8d67-4439a0c62eb5', 'nyt://article/f700f5b3-cdf7-5131-a7ae-0e208552229e', 'nyt://article/da88c5e3-7910-5b12-8e64-02084e6db26e', 'nyt://article/25197be3-2e84-57f9-9af0-8bc5d36c3998', 'nyt://article/c53c9271-b07d-565c-9223-5ae808535c9d', 'nyt://article/252ae56a-1dc7-506a-9f36-0210728aad0d', 'nyt://article/a38a7b5f-f638-5f16-bd08-ece1782e3a7a', 'nyt://article/8af83f89-4013-50c1-8b76-7e066e63bf24', 'nyt://article/92bcd3ed-f203-558b-b684-4ff4dce47cbc', 'nyt://article/484b0ec0-e05f-5f03-a5f7-a468f713665d', 'nyt://article/99313863-09a4-5557-a493-7d37d7464c23', 'nyt://article/18712011-c20f-5f86-b983-88447d3df3af', 'nyt://article/55a5b7fa-8f9e-5e06-b607-346177007093', 'nyt://article/54b605b9-85da-59be-91a2-d9703f3e34d7', 'nyt://article/3d60c6a3-8140-559d-a7d5-0ff60ea9fe07', 'nyt://article/7355e44f-b003-5eef-a1dd-49686f6d4f0d', 'nyt://article/41832675-8516-5f37-afb3-87f8aa6e7176', 'nyt://article/4e5b93b6-0a0b-5c89-aa4b-628cbc80ce74', 'nyt://article/ddb75aa2-e63b-5b37-8701-68701fffb7bb', 'nyt://article/48aeaf1e-9514-5a90-8b9c-53450c839d58', 'nyt://article/9e9979c9-f148-54e3-9d27-92feae97eb5e', 'nyt://article/64ceed06-f6b6-518a-8218-5a6b5d390475', 'nyt://article/cfc43048-bf97-5e05-a2a2-49fc6757584f', 'nyt://article/8779589b-361f-5a33-a0fa-8d40d293fd07', 'nyt://article/158efe9b-5473-5284-8355-a5fd177f363e', 'nyt://article/d285f7ab-c815-5f53-a22a-058e8b114184', 'nyt://article/caf2171e-6951-5bc5-9262-ce9e1494d974', 'nyt://article/1bafe307-fc92-5784-9db5-c72a17133cd2', 'nyt://interactive/0866fb7b-603c-5d5c-b30f-5417e0828352', 'nyt://article/6c78b3d6-64f5-5008-8ead-2d72a298cf9a', 'nyt://article/ecb890a4-1df1-5725-9f19-6d14bd1e7d4b', 'nyt://article/1e8c8760-213a-58a7-9a67-cd2d9376189b', 'nyt://article/f82939d2-bbb9-5370-b09b-67ab5a62096f', 'nyt://article/24ae1999-aa1f-5b4b-ba19-e7925866dfbe', 'nyt://article/0a9e1699-6657-5929-9c99-a663ed7df77b', 'nyt://article/954e28a7-846d-53d4-9dc7-8c5ce1865d3b', 'nyt://article/f15acd13-69e2-5ffc-9cff-2ec9f6645489', 'nyt://article/81d4cd49-71db-5b39-8631-8baf6987baa2', 'nyt://article/ccd6bc59-1026-5572-800b-4e683f862969', 'nyt://article/cbf4dfcd-f1b3-51b7-9718-cc4f097421e1', 'nyt://article/3dec1bb8-81be-50ba-b1c8-e2c971667d72', 'nyt://interactive/3d8eb06e-58e1-5faf-b0c0-266feb0ea3a8', 'nyt://article/6fd967b4-fbdb-5e93-b8df-97b4dd422f03', 'nyt://interactive/adcd4a0d-2481-52db-a838-5c746ff09a2f', 'nyt://article/bf3b713d-876b-5511-ac2a-43b805f771ed', 'nyt://article/9ebc0041-6d71-54c1-a962-16c7c5216526', 'nyt://article/135046eb-1684-51eb-a3df-c8a7e19190e3', 'nyt://article/74527575-c0ff-5c3d-a43c-b4a2c21b6d68', 'nyt://article/30705640-6c2a-5b75-b077-22925695c487', 'nyt://article/0a996aca-0daa-5d56-8591-56f6e889fa1d', 'nyt://article/a7c52daf-964d-5119-bbb0-d7d0c14ff969', 'nyt://article/beb18333-d51a-58d9-ab70-b3eec1426678', 'nyt://article/e149ad57-21c3-5fbb-a7c4-984d27338441', 'nyt://article/0c6b924b-246a-51cd-9237-8e2b6b630098', 'nyt://article/f43cba88-b5fe-524c-a6f5-effb3ce6f828', 'nyt://article/3becb3ca-09b0-5a00-a686-14f1054564b3', 'nyt://article/7c0a5bbd-3610-593a-8c7f-8dc6d6dfc46c', 'nyt://article/7034f641-b9de-592f-9441-8d1bd0e3c5bf', 'nyt://article/d42cf4dd-379a-5c9e-a024-c3520d605c27', 'nyt://article/e5cea9e0-72f1-5ffa-b671-74b4f448bf51', 'nyt://article/763c6167-c219-5303-82e3-56f37197a246', 'nyt://article/a72590e8-dcc2-5c4b-9522-e5fb52746cac', 'nyt://article/9e7f969c-0cac-5506-bf87-4af5c58df8ac', 'nyt://article/472858cd-93e2-545a-9bca-ad6b2061b836', 'nyt://article/b3bba0fc-9256-58ea-bc86-13885d1fc4eb', 'nyt://article/abc471df-b1fb-5d38-8f2e-9d23d54eeb9b', 'nyt://article/d5a012ad-9a99-5520-9ea1-14235f8ada6e', 'nyt://article/1255b67d-6f0f-5f68-a4f0-614c71684b01', 'nyt://interactive/ec72d4ed-d437-57b7-a17d-4ac919653258', 'nyt://article/da910635-c6eb-5bbf-b0ea-346796620104', 'nyt://article/0650ee41-0fa3-555c-8687-d66fdbfa5b86', 'nyt://article/4f6c4a22-3f73-584a-ad1f-b3ff235990b8', 'nyt://article/b72538c5-5c5a-54a8-a842-e0fb0abc6f76', 'nyt://article/7eacf093-fe63-57db-8d68-415218c2c644', 'nyt://article/cb2e6c80-2100-58e1-b619-b30f3ff38c8a', 'nyt://article/852d9c82-87f9-5e10-a6c3-7d37159a6ef4', 'nyt://article/8782e8e7-7fd3-5994-b6b0-da81a7656e7a', 'nyt://interactive/6567bdfd-4b48-571d-b37c-5369d5680e89', 'nyt://article/3ec017c1-6595-554a-a88b-1c7ec498fcf1', 'nyt://article/a3af89d5-659f-5c0c-ba5b-c88257825aad', 'nyt://article/48c730c0-9250-5a29-befb-8c3782b23c2c', 'nyt://article/2ce12f2c-06da-56ec-838b-e4fd5d4a51f5', 'nyt://article/79a1ac68-62bd-5ac6-99f3-79850ba5c64c', 'nyt://article/6d3c79e1-2de3-582a-b403-65a26d2f0a87', 'nyt://article/a5903af6-130c-59e5-a908-e26f9938ea55', 'nyt://article/379663b2-15ff-58c4-bf87-8f48428f8888', 'nyt://article/c9fe15fe-b0c4-549d-8d9b-9da720feca4d', 'nyt://article/c5bc4a5f-edd7-589e-abb8-d056a8eeb1b5', 'nyt://article/c3753e8f-090d-5bb8-a6f4-57c0e9c4749b', 'nyt://article/cbc02da0-d400-51bb-ab64-241b316a71b3', 'nyt://article/8a8966af-b5d7-59d1-b01a-c7155b69118b', 'nyt://article/2f59c68c-ac80-5793-a00b-fcbf162c30a4', 'nyt://article/dd203755-521f-5417-92d4-35af7c435005', 'nyt://article/3826423b-7078-5f7b-9d1b-dd602d53c5f0', 'nyt://article/10b68136-7d20-5392-bac8-0a29cbb85c8d', 'nyt://article/d8e3d127-cc0a-5be6-ad00-8ea85f6ba91d', 'nyt://article/dc1428c3-250b-584a-9419-666e69b2efbf', 'nyt://article/d1131961-9ed5-554a-91c3-84908bb112b0', 'nyt://article/598db2ad-134c-5f93-b294-20b40cdb422d', 'nyt://article/4dd03502-10a1-55a5-bd8a-9b95dec7aa1a', 'nyt://article/eb20bc8e-a4c7-54c1-9546-0fc830eda916', 'nyt://video/3b261cc5-c5e5-5481-9bf0-0b6e0aa298a6', 'nyt://article/d68c8a6a-f275-52ab-8d81-8c04f2538bed', 'nyt://article/ad665815-e98d-550c-947d-fe1b6b6c868f', 'nyt://article/fe1a7c93-0a1a-5d69-9592-73c1b4faa68b', 'nyt://article/1d5a61ce-b39d-54e7-90e2-561418801840', 'nyt://article/96b7b51e-f5df-5c06-9d22-2fb974b59a8d', 'nyt://article/954bc947-a7ee-5d8c-844c-c73c3c57ad79', 'nyt://article/e84c35f5-afcf-5d53-8a0f-764f23064278', 'nyt://article/96129e6e-c9bc-5090-a168-53362e2e1a3a', 'nyt://article/209519e8-7368-57a4-b8fb-53c598b9570e', 'nyt://article/eb30b779-fc18-5189-b22a-4affc0669ad9', 'nyt://article/d8ebc529-a63d-5374-94fb-50f8f4ae8346', 'nyt://article/937d629e-5c21-5863-9358-9b93767b194d', 'nyt://article/fd622ca4-65ce-5c63-bc18-f4397b3c9ec0', 'nyt://article/f55e94af-a707-5e47-97b4-a52f92bef87e', 'nyt://article/de9a146a-eeb9-5c0e-ba3c-08d5639de38f', 'nyt://article/2cd98abf-e3c0-5fc4-a332-c28f4d05bd9b', 'nyt://article/69e5aa07-b267-5af2-a35f-ef0897cfcd48', 'nyt://article/7b3fc537-a568-5d3e-b1fb-07e3166ec112', 'nyt://article/11e064ab-9132-5c67-8000-71515cf921fb', 'nyt://article/23f70cdc-83f0-565a-9092-1917199ad802', 'nyt://article/25ad4023-7d3c-50ef-93c6-e1542bf5b6ef', 'nyt://article/4ffa1602-d6da-511b-bfa5-9300c75b336a', 'nyt://article/ed363834-9e24-521a-b577-208e45c30e58', 'nyt://article/d13fadd1-27e4-5ba1-afc9-e29ea1b21756', 'nyt://article/07d6c3b0-2249-5964-981f-8a2f76357a27', 'nyt://article/51cea108-db92-54d6-9e13-b130ab2776f7', 'nyt://article/6851662b-ff70-5fce-941f-1cde598ee74e', 'nyt://article/83288174-3224-5d3d-a996-fc8833c11ba2', 'nyt://article/6b97fff2-83e1-5623-ab10-bd22f4b3d11b', 'nyt://article/39cf42c8-ec2a-5420-b524-0023012a23e9', 'nyt://article/bdc7c17a-fcf5-5b18-b9ee-237a06318d48', 'nyt://article/286278eb-4383-5af2-a8fd-1918bf98d6ae', 'nyt://article/6b3e5f76-e8cc-5a2a-b766-ece0ae95a82b', 'nyt://video/6086acbc-4064-58b1-83fd-817893a5132b', 'nyt://article/51b5729f-b195-538f-87fb-1b236248aa0e', 'nyt://article/b60263a2-9068-59e9-a217-de93a57bad73', 'nyt://article/0150f781-adde-5b51-a27b-5ee1a516ad11', 'nyt://article/1660ce49-08dc-5886-af6f-a77a3e9d2b90', 'nyt://article/5e5c3c09-42fe-5702-a897-ac99ed0da598', 'nyt://article/8171ed8f-1182-57f6-85f1-cd46924c8ccb', 'nyt://article/6fa39e37-a1a7-59f9-98b2-e701274b76d7', 'nyt://article/b305f553-8799-5dd3-9bae-9e56174a7a58', 'nyt://article/c66d01de-f1ad-555e-8b1b-8ef2081a8a2e', 'nyt://article/1e1089d5-7e64-5582-b2e7-cf0f2ae4f193', 'nyt://article/608e8353-e88a-55b0-a631-2eb964b06fc4', 'nyt://article/2bce4802-102d-5a1d-8447-582c8b445480', 'nyt://article/6c55a2e4-c1aa-5e03-92f2-fd058f9f97e1', 'nyt://article/5ea115c2-6b85-584e-9188-8f0e84251856', 'nyt://article/358c6fb4-cef5-5a68-95e9-d781ab2c0a7e', 'nyt://article/f39a5a5b-4613-5ba0-8934-46ed72a662e9', 'nyt://article/ff5238aa-7d0c-5c8f-aef9-88f6198b328d', 'nyt://article/fca9d08b-77d3-5839-a9ff-9497c4e92fca', 'nyt://article/ca3d0753-e32f-5c77-af3b-d37297d21652', 'nyt://article/be8e1ec9-d1ae-533a-999f-4b2361f5d223', 'nyt://article/94be81c3-c9ae-5796-b7ae-abdce8b7fe60', 'nyt://article/3828bc1c-aefe-5e8b-8af9-2785d4a3bd0b', 'nyt://article/af921fc9-3b42-54d9-b938-60a66b1f40b3', 'nyt://article/cb07d2df-9e20-5924-b241-6d950682c000', 'nyt://article/34755866-baa4-5af8-8f83-4ae4a24c97a0', 'nyt://article/b83b0460-2f2a-5fb3-9e39-87be25e8fba9', 'nyt://article/398e854e-4820-5aad-b0b2-b0daea8e6cd3', 'nyt://article/76e11970-4d69-5716-9b80-2820201d9f22', 'nyt://article/b1af719a-8776-5639-9313-d6d58829c681', 'nyt://article/827a3de4-4e4c-5bd7-9717-65d1772cd03a', 'nyt://article/b698781b-8a73-56fe-908c-a0e8d494755e', 'nyt://article/523ecdca-1216-518f-8661-a60972a5169e', 'nyt://article/05503b24-9042-52de-b3e5-a04464155a1a', 'nyt://article/cc61eec9-65fe-5f4c-a69c-0e0ab05f1223', 'nyt://article/4c959589-21ac-5016-8c6a-19e236bd4f4a', 'nyt://article/81012c29-8632-5056-97f6-60b9727c6848', 'nyt://article/871fc07a-da6d-535d-8c88-a472d013b2e6', 'nyt://article/b3e395bd-8d3a-5ca2-abb4-fd1712abb304', 'nyt://interactive/8377ca81-4dd6-5734-855e-69516f60001a', 'nyt://article/1d2f513f-a5c7-5272-924d-4f1abebc51d3', 'nyt://article/bca1acb4-6859-5c77-9504-2830f69f9fc5', 'nyt://article/792e1284-29fd-5573-9519-05e63be23de6', 'nyt://article/6da5038a-d598-5572-b54e-14e32267ddd4', 'nyt://article/23fbbff0-e90e-5f44-8372-7b9d902c284b', 'nyt://article/95cdfd7e-7224-5a7c-ae61-010d17ae31df', 'nyt://article/c6eedcd7-d9c1-579f-9664-616908b2dc25', 'nyt://article/dd42d45a-633e-50d2-af77-05359bbde678', 'nyt://article/0af8fc57-fbd4-5b61-8384-5a7d126db5ca', 'nyt://article/3b7883c9-8aa2-58ea-b78c-bfc99a59dc17', 'nyt://article/b7c1033a-4d83-536e-be8b-dc9549d65155', 'nyt://article/83a2be3d-8844-545f-9600-68a274a3ae67', 'nyt://article/c480d0c2-d171-5768-82ff-528b10888ca6', 'nyt://article/23ad3619-a76b-5125-b61c-5a0779e3e2e2', 'nyt://article/cabe133e-dec6-5f79-9aca-52bf0b37d91a', 'nyt://article/30ecf60c-5411-5907-af4d-6e4f0cb8534c', 'nyt://article/8863b5b1-53ff-51df-b691-fade8fd498d3', 'nyt://article/e64bd29f-c602-5e6d-9ff8-6da1edce98dd', 'nyt://article/7d9566d8-efa1-508b-b871-c96f5c5e1950', 'nyt://article/56fc027b-a20a-5088-9c32-f035411328f3', 'nyt://article/53418761-50d9-5358-b126-e45d191d4b8a', 'nyt://article/69b916dc-b719-5c6b-bc41-2775387dc309', 'nyt://article/0e6cfefb-5716-5224-a236-06e6c01c3211', 'nyt://article/1068ca27-eb20-5ba0-9cdb-502851a3b948', 'nyt://article/dc890902-a23c-56ba-bca8-5f8f0071a60b', 'nyt://article/fcd21d4d-a1d1-51b7-a008-8b594f0b96e2', 'nyt://article/99a4d448-069e-50d0-94cb-2de4742e8485', 'nyt://article/7a828e86-6353-5787-953a-335a2d7c456b', 'nyt://article/97b7a906-53ec-56a9-87c0-83a47c512b49', 'nyt://article/350a9c04-fd7a-5b60-b4a2-1792b74e399d', 'nyt://article/a2a28e01-b98e-5813-8400-fd7fb0ce2997', 'nyt://article/e95678c6-90d4-5cd8-a51d-8a8bcfc66be1', 'nyt://article/d34c1c71-e982-5637-9078-b594c9e60a46', 'nyt://article/ed165c11-21e0-5162-9a4c-f2aac944750f', 'nyt://article/df0e8e33-3a0d-52c3-8c88-23b8fec6706e', 'nyt://article/9e5bcce2-3cca-5ad8-8989-65a1f9bfe291', 'nyt://article/d5cb5578-519e-56ce-9f76-21ed88cdf444', 'nyt://video/6ad495ba-0cbb-51b1-9c15-d3ed0653e135', 'nyt://article/52706e7e-12c0-5c66-871a-95cfc0afc334', 'nyt://article/d28780ac-bc16-5a6b-bf75-1cd1c789d32c', 'nyt://article/2ab0ac1e-3e6d-5a9a-a458-5ab4561880dd', 'nyt://article/6b3a749e-396a-5e5b-8bc3-8f45849b2535', 'nyt://article/00c9e71a-7f0a-5304-a823-597495985f6f', 'nyt://interactive/f153fa1b-4a3c-5f0b-b399-a6293e30212f', 'nyt://article/e1beb64f-9804-5516-bc1b-d8d30e1b21c0', 'nyt://article/eac1f119-03f2-5f59-b64a-b7dcadf86b55', 'nyt://article/2b152871-d329-53e7-b3c1-f986d18c3ae2', 'nyt://article/b7e9864c-a04e-5c9b-aabb-a5a3ad3781b6', 'nyt://article/c9c4fe16-c986-59f8-844a-a3339d75f29e', 'nyt://article/f1921814-71c6-5e9b-8324-43714c23b3ed', 'nyt://article/e7e9526b-85b1-52e2-891a-26fa65711895', 'nyt://article/7a30ecf0-b551-5994-a5e5-2cfd30f0d66c', 'nyt://article/31f6c345-c8bc-5d0d-8c49-445b0f8a201d', 'nyt://article/682f16eb-d66d-5232-a79c-631ee22d3468', 'nyt://article/e953fdba-1714-5be3-807e-590dfb4d0e9f', 'nyt://article/f34a22d3-705a-51d6-a32c-44e1d0713054', 'nyt://article/39db45b5-6f87-5dee-9d1c-817323abd158', 'nyt://article/5862b2c1-da5b-59e8-9f75-11e86d6dad0d', 'nyt://article/d21daae3-37f4-5682-ae81-be3f39e59781', 'nyt://article/50d4147f-ef1c-5f95-942e-fc05b2d12157', 'nyt://article/f8f13337-8f29-513a-89f6-6163fbab4175', 'nyt://article/60be5c22-d9af-5545-85a5-3eaf22871b5e', 'nyt://article/9d2fb890-56a3-5af1-9bd8-abeaf02358e5', 'nyt://article/32c59c1c-a39c-5538-97bd-45cf57e19305', 'nyt://article/c72b539f-3fcf-52e3-92cc-ad6be4ebf9e6', 'nyt://article/7123c113-f19c-5983-986e-d9fed0a10332', 'nyt://article/7fde1996-d185-5781-bd34-1f8dffe80752', 'nyt://video/c13cf3f4-7024-5f07-a8ce-8d54d88dc8a1', 'nyt://article/0f4aeaed-decf-5bc9-9efc-c7d5d82bd9f7', 'nyt://article/4bed8f00-1978-51f6-80a7-73c78eb18b4c', 'nyt://article/d2111079-e7de-52a5-80be-54fb6fdd08aa', 'nyt://article/cd07671b-939e-52fc-8454-cadf23363900', 'nyt://article/5874b4b5-326d-59e0-8826-bd9507886414', 'nyt://interactive/8e1b2a6d-ea16-585b-a525-582d3f0db9ef', 'nyt://article/60d2c6b4-d097-5271-9c32-0277afdbe39b', 'nyt://article/52e2babc-dabb-5839-8f21-d22b32ece44d', 'nyt://article/301898cf-7af0-5bbf-8f8c-2ba5f98310d4', 'nyt://article/f1f642a2-039e-5a5b-8d1c-44f8e77867f1', 'nyt://article/7a93dfe5-8cbb-5f59-a6a3-b1146ff25563', 'nyt://article/7e228b1b-dcc4-573a-9f36-b831cd5201b9', 'nyt://article/73926ab4-2594-5938-ab0c-381e1123e5be', 'nyt://article/832c9cf6-ba50-5558-8557-7602513429c0', 'nyt://article/ed99f6eb-d805-56a3-b908-3ec1e2802ce4', 'nyt://article/96a55f9e-756e-5ddd-928b-789d304b5002', 'nyt://article/68172406-c15a-541d-8918-96f15c31dd2b', 'nyt://article/064aa37c-27a7-537e-8444-fe677768c406', 'nyt://article/4c80be0e-1575-539f-9670-0324837c347a', 'nyt://article/781e1cae-a5ee-59c9-90f3-44700abee119', 'nyt://article/40c7a261-fd3d-5fbb-bdcf-e98d8419d6cc', 'nyt://article/9d38f20f-68c6-5db6-8f39-5c82bf84dd28', 'nyt://article/6a1afc0d-23b3-5a5c-9e32-c1df928a7590', 'nyt://interactive/ae557018-3933-5e57-8b30-2f195b161811', 'nyt://article/b6ef76c1-45d7-51d2-80ea-17d4b907a6fd', 'nyt://article/4fb535ba-fcd0-5385-87c6-9a0656246517', 'nyt://article/61efa0ef-43d3-54ae-8387-66d17e19b8bd', 'nyt://article/e1c88ac9-9b3e-5475-943c-001a379b918f', 'nyt://article/6094fa8d-1e99-5f52-b122-115bfb5ac97c', 'nyt://article/5cc804aa-3191-59fa-a7d5-e68747cd5c06', 'nyt://interactive/532d12c6-7200-5f40-8e5b-4ec96686269b', 'nyt://article/e09d5df9-e70d-546f-9d55-9f4ddec8c103', 'nyt://article/c19d67d4-b550-5e54-8552-064ab7e2be40', 'nyt://article/84a5c425-42dd-51fc-86fa-c3cc7ea7600b', 'nyt://article/13143803-8bf8-5a7c-92b6-4a08bd6027d1', 'nyt://article/545460bf-f0c4-5055-97cb-9ac5f9c48880', 'nyt://article/652b24b9-44a0-5e82-a815-f9b8b7c77212', 'nyt://article/61d79dbb-b8e1-51f6-97ef-43b7726e9595', 'nyt://article/1f4e11c0-5395-5ac7-a538-839f74e1c545', 'nyt://article/7016e37c-af00-5b3e-86f1-bf15b2b71f59', 'nyt://article/f1ea4895-4345-59b6-81ea-0b9e08e322b6', 'nyt://article/11ab2989-3889-5a5e-9968-2ed9802718db', 'nyt://article/74f569e9-6ee1-502f-833d-eedb790bad0e', 'nyt://article/56660a8e-77b4-5242-80b7-322337cd5888', 'nyt://article/232d4e99-3371-59e7-a1f3-c0995febfc66', 'nyt://article/815861f4-349b-5eb6-9c9f-0253d9dcc352', 'nyt://article/8a790596-1e51-52d1-bbd8-a23a6bdbbe38', 'nyt://article/44ffe1e6-a153-507c-a295-5bc1bdb850bc', 'nyt://article/c0a0f857-ecb6-52d0-962d-b9803e401ca2', 'nyt://article/27e17fac-e79d-55d0-b308-36dc4dd7adf4', 'nyt://article/b9ce3296-964c-5e75-8f49-5ed457b6c4c5', 'nyt://article/96d8a0a3-c3cb-5d0c-aa0c-8e795b1414f6', 'nyt://article/3656a3e7-ebdb-5f43-bffd-fbd36db95f6a', 'nyt://video/b530af12-a8b5-5708-a305-6d045fe49f8a', 'nyt://article/f0ae8450-173a-5151-adb3-d0b5f4749bde', 'nyt://article/ff0464cd-482c-53c6-bb7e-00ae86228e86', 'nyt://article/e0fd0271-0db1-595b-908b-af8e53d6666a', 'nyt://video/6d5c158c-e373-560c-af87-d69baff3c33a', 'nyt://article/26cf0bb8-5b54-57f4-b61f-6717430a04c1', 'nyt://article/1736bba5-0842-5231-9f42-bbf512673416', 'nyt://article/8fe504d4-2e5d-5cb7-bcf0-b8f47125dc9c', 'nyt://article/5b529c9b-5b8f-561e-816d-92354390c19e', 'nyt://article/07886ca9-148f-5924-8791-cd02f6271af7', 'nyt://article/74445b4a-5b7a-5995-8470-ec771ec6469a', 'nyt://article/cde83fff-6b10-5e1f-ae26-4f7fda1d44e0', 'nyt://article/68d65e58-a57f-53ab-a86c-a8c5f50dc2f1', 'nyt://article/8ceeb74c-0110-5697-af59-7e47b2a6ba75', 'nyt://article/1c462645-d944-5401-b2df-0441a069b352', 'nyt://article/c56ce7c9-f343-5602-835f-e39ce9c2213f', 'nyt://article/6a1bfc97-d551-550d-9565-04a4dad326c2', 'nyt://article/969e5ae1-c413-50f8-a98b-62b53213c3c4', 'nyt://article/7ef2269e-de82-5754-84f6-3b685acc82d6', 'nyt://article/057efa19-09d5-5377-a996-48e669c07379', 'nyt://article/975b5c99-9580-579d-b972-7ddbd29a38bd', 'nyt://article/55431065-129a-5d0e-9380-c8bd4ee80114', 'nyt://article/9634d336-8811-51b6-b13d-86c9d2b65752', 'nyt://article/c313714c-bcdb-5c53-ae42-32e740f5c6a3', 'nyt://article/222db215-088f-5608-8a6a-8966b40a24fe', 'nyt://article/008688da-8a3f-597e-9dc5-73c497a61f53', 'nyt://article/e075daf6-6fe1-556c-8a83-25d6ce03833a', 'nyt://article/44ed7547-9d77-5b8f-8368-4ba4579ea493', 'nyt://article/b5f1df69-24bd-50b2-b3c3-287a8d233753', 'nyt://article/e05100fb-2910-58d1-9c6f-89e6227e3c07', 'nyt://video/019e96bd-15c3-59c2-9819-520bc4b63d3e', 'nyt://article/aca0388e-f8e9-5a13-98ba-ce129c4ddd0c', 'nyt://article/a1b2802e-014a-57ed-b380-5a16048b9414', 'nyt://article/a3e00b18-c078-5cfb-b6b4-1b99607225f4', 'nyt://article/675cf4e4-3ac9-5f4a-85ff-8ee7d9461441', 'nyt://article/0b1c6c10-3ff3-549f-90ff-3e42fb1aab96', 'nyt://article/e1da3cb5-18d8-5817-a684-aa932a20c9b1', 'nyt://article/22ead0fc-51a1-5a51-8927-333af05fe4be', 'nyt://article/c0f976ba-1357-5979-acac-cc02984d1fa4', 'nyt://article/67763624-8493-5a37-9ebc-cd39e4a4940f', 'nyt://article/2ccbcc75-d9f4-5938-afaa-d34c877a8b5b', 'nyt://article/ebb4948b-b390-5138-b10b-ff0e344fb613', 'nyt://article/863d7ce7-229f-50f2-abff-2ed220500715', 'nyt://article/c21f8c8c-8d3a-56e2-a481-cce52ca4a436', 'nyt://article/bf4a99ec-4a92-51f8-89c9-d903edfee7c0', 'nyt://article/3083e8da-e87a-52ba-be9b-259a2d04e149', 'nyt://article/e5471980-ba2f-5f95-82e7-937c6df7600e', 'nyt://article/ec3c6a50-29bc-5052-9288-d3629a3694ea', 'nyt://article/1686addc-6284-5ce9-a262-b35c4c891068', 'nyt://article/c8d05def-008e-546c-a98b-e8d99f080a27', 'nyt://article/dc0c6e06-eeee-52f8-bd73-014d854f0fb5', 'nyt://article/519614b0-7920-52df-b42c-dea6ce94cefe', 'nyt://article/366c9db9-b7e8-57af-9425-415e6572a64d', 'nyt://article/b716cacb-3505-579c-b15d-90b4b2e04e47', 'nyt://article/e7b0e0b5-e75f-509d-a9f1-e57c15e1493e', 'nyt://article/8f468b36-ad60-552b-8063-f7d3c415416e', 'nyt://article/2293e392-8bbd-5550-872c-92cea5e7ef35', 'nyt://article/713fa2cf-9ed7-5564-9b62-6fa7f4accc97', 'nyt://article/ac3f34e3-7bb5-5c3e-846a-d8e731e44970', 'nyt://article/0c14d559-6991-5e0b-87bc-4b214f2a51ac', 'nyt://article/14a42fb9-1ed7-52c4-a28f-6ec7b66ba7df', 'nyt://article/0ba00d33-cdbc-57fb-bd9e-9e6cdf32eea4', 'nyt://article/658e2488-2276-536b-aaf3-dac7d9959ff6', 'nyt://article/c441947b-2c83-511c-918c-51c1e92385ae', 'nyt://article/2534fda3-514b-51dc-a525-328b039a2e43', 'nyt://article/22219913-69fd-5794-a50f-28d243789dc9', 'nyt://article/b0caebd2-ef5b-5588-ad67-9b49c3b06420', 'nyt://article/4142adf2-ea1c-5d1e-9693-d76309c6dde6', 'nyt://article/14441454-ee6b-5dc0-85f0-cc8d0cc98c1a', 'nyt://article/9f67059d-b082-50d8-b809-ebd97db0155f', 'nyt://article/4c89690c-2d88-5666-b3a4-9cccd6ff4cfd', 'nyt://article/345ee78c-1013-5ed5-a0c8-c8c6f25db6e2', 'nyt://article/0c3058cb-61ca-5904-be77-178cdb5b7a46', 'nyt://article/4d123274-8627-5fd2-a13e-4e5d6c012faa', 'nyt://interactive/db2d684d-ccf8-53f9-9fd1-080cd3338b66', 'nyt://article/17ea0afa-d3ea-55a2-85a8-8799db99297f', 'nyt://article/865d1988-05de-5ad2-bc19-0aca7ba716a0', 'nyt://article/fd46fee6-68ee-5041-a3f0-816d4834889f', 'nyt://article/fcaf05cb-0e4b-5063-a3f8-ef729ede2429', 'nyt://article/0a4fb646-8bb5-5b60-9f20-e794e150531d', 'nyt://article/bbd016ba-d860-576d-99e1-0f251f01af53', 'nyt://article/bab3b504-c10e-51c3-b99c-dfc1a7173d3a', 'nyt://article/ba5abaa5-22e1-535c-99f2-b894651ce10f', 'nyt://article/55105b16-71c2-5e71-af6d-5fb2f3714351', 'nyt://article/fa4dc20a-629a-5837-8675-7342a7095464', 'nyt://article/0a9ab5ac-a54b-52e1-82de-f29562d2781c', 'nyt://article/4e76384d-764d-55e5-bd22-9009d4148189', 'nyt://video/052807cc-caa6-5a9a-986c-296570e7e177', 'nyt://article/475cda3c-4fa2-5f70-a185-ffe806cdefe6', 'nyt://article/81ec3052-805f-55df-8839-d68b7a459688', 'nyt://article/4336fc5e-b8e2-5566-977b-a86ef2fab052', 'nyt://article/0e335aca-12fd-510c-86c8-a5fde981ba37', 'nyt://article/c952cbc9-331f-5cf9-8227-8838df2f16bd', 'nyt://article/c0b9a73f-66ef-5b5a-a3d8-ee84f899d726', 'nyt://article/75122518-6cd0-5a5a-86d6-5dcb44147430', 'nyt://article/3e85dac6-d0f5-5748-9fee-5adfd79df0db', 'nyt://article/c24514eb-d6de-5791-9fe1-4914957f37cb', 'nyt://article/9d3a4a42-d615-5e9d-8db8-9779bfc63ebd', 'nyt://article/a97097b9-4806-5c14-b978-f217ff768843', 'nyt://article/01f28ad8-81c4-5ca4-90e4-892f9e50a336', 'nyt://article/8f179d88-c817-52b7-a3f4-4ce65e50c506', 'nyt://article/1c2f0425-7b78-5a8b-b17e-41ade1223192', 'nyt://article/3b6fbc1b-5d55-53fb-940b-b76fb9fea7ad', 'nyt://article/f2a3d085-b885-53a0-87db-1feb79c7f66d', 'nyt://article/d0e4ea07-9a28-5889-8870-7d9be3840876', 'nyt://article/c2180845-6df9-59c1-9d2b-8e9b26e23746', 'nyt://article/b0d12d7a-c8e7-5c36-bd3c-669590c80d57', 'nyt://article/34e910b4-d332-5692-8f7e-2a14bf4d7a2a', 'nyt://article/21c013bb-159c-5fe3-ad39-00456a9dcc80', 'nyt://article/7d406b18-def2-55b9-9989-3655459a43cf', 'nyt://article/e47215b4-6edf-5e3b-89a5-b62676df6375', 'nyt://video/dddad6d6-bffc-5a22-983b-35cfe597a14b', 'nyt://article/aef9a593-c9bd-5786-830a-e3fdae918eac', 'nyt://article/40ec6d4d-4dcc-506d-8075-d7d5019aac8a', 'nyt://article/4e775395-1936-5af4-90e8-12d9c6c7eed7', 'nyt://article/5c2a1cbc-5147-5eb6-bdc2-b082aeb8e67b', 'nyt://article/c36771af-a6d7-5c6d-9947-772def83cf6a', 'nyt://article/53fc122f-2cba-5278-a048-212c3eefc721', 'nyt://article/cb7d84e0-149a-5798-b619-9188593f11ca', 'nyt://article/8f540855-3f51-5e31-ba80-c6edb7146b1e', 'nyt://article/256daea0-f119-52cf-a824-1fac2f70e684', 'nyt://article/6785aee5-4103-5308-9279-33835b13793b', 'nyt://article/320f4170-3e38-5b8c-8a9c-904bddeb09d8', 'nyt://article/95f6009d-70fc-5b30-b7db-b11a9f607edd', 'nyt://article/93fa297d-4d56-547f-b37e-4b3fdb9987dd', 'nyt://article/c55ef6a6-e06b-5c36-a763-57c2ca0f7831']",
         "530",
         null,
         "2.851762173796072",
         "North America",
         "NYT",
         "530"
        ],
        [
         "44",
         "Cape Verde",
         "['nyt://article/2277a789-ee94-54d6-b682-171604883d76', 'nyt://article/b31bf7b8-fd6a-5c88-b518-a92505671024']",
         "2",
         null,
         "0.010761366693570085",
         "Africa",
         "NYT",
         "2"
        ],
        [
         "45",
         "Caspian Sea",
         "['nyt://article/ea2f8cef-794a-52e7-8891-8656b2891bab', 'nyt://article/d7ea26e8-b61f-5975-bd0e-ff455733ac5b']",
         "2",
         null,
         "0.010761366693570085",
         "Other",
         "NYT",
         "2"
        ],
        [
         "46",
         "Cayman Islands",
         "['nyt://article/07d7bc2c-4677-5ca4-aa52-b31e96846bdd', 'nyt://article/a456784d-b5fd-5a1a-b0b1-49f1a8739c04', 'nyt://article/caf98741-73b7-5dc0-bfc0-9314490fb22e', 'nyt://article/4d6970ca-53c0-51d8-8c98-f0ea58b16e2c', 'nyt://article/0539543b-5dd8-5dcc-a0b4-9893e0fa3ade', 'nyt://article/be74adb5-7a7f-5ee8-a978-63e5c8744895']",
         "6",
         null,
         "0.032284100080710254",
         "North America",
         "NYT",
         "6"
        ],
        [
         "47",
         "Central African Republic",
         "['nyt://article/8e9c68f9-7b15-536d-a7c7-9b34671ab74b']",
         "1",
         null,
         "0.005380683346785042",
         "Africa",
         "NYT",
         "1"
        ],
        [
         "48",
         "Chad",
         "['nyt://article/34e514ce-6ebc-58f1-bf4b-d750eadc447e', 'nyt://article/2ecf5073-590a-5fcc-b7aa-5ca1d3743dd3', 'nyt://article/5a69ade6-b6a2-5b93-8d88-48c8d65c36a9', 'nyt://video/d650de63-1cf4-5371-ab0b-aa50a14aab59', 'nyt://video/c28cda1a-5bbc-5b9e-95d3-436104e991e1', 'nyt://article/0f131aca-c945-564d-8c22-d273f6fcbbdf', 'nyt://article/ed2d23a0-5c77-5be2-ae6f-0ca58fcdd1b2', 'nyt://article/82beab25-c048-5423-bded-f026e34edf06', 'nyt://article/d8309b41-b5df-51e9-9078-b09483edf1b4', 'nyt://article/897a0e53-6076-5a98-bb28-4d7d3df155a4', 'nyt://article/53118789-4397-5531-89b9-9058ba300f0c', 'nyt://article/a4b99254-7fbd-5804-9967-32ed3e43172a', 'nyt://article/018d4a58-caea-5a5a-8f20-e6c06873b688', 'nyt://article/7bc0f53e-3bab-5923-80a3-0d46cc92bdad', 'nyt://article/a9921911-82c3-5820-8f1d-ae6c7cba37d0', 'nyt://article/78237980-8280-5d83-8cc9-b408853106fe', 'nyt://article/428f1222-5c16-5449-988a-db38277c2e61', 'nyt://article/22ae90a5-47fd-571d-8389-0df2021b253f', 'nyt://article/8a51bb2b-1b25-5a46-8f35-05b9c5a8c6aa', 'nyt://article/2dbb5dbf-deb3-51b3-bf62-ae0ddca16e93', 'nyt://article/890d3351-1a2a-52a4-867a-fefffe6adb12', 'nyt://article/d24390b1-03b7-51b0-80ca-f005216014d1', 'nyt://article/b472a426-1803-590b-ab5d-a81aea32a425']",
         "23",
         null,
         "0.12375571697605596",
         "Africa",
         "NYT",
         "23"
        ],
        [
         "49",
         "Chile",
         "['nyt://article/b68a2290-9b5e-5c72-b087-d61078994aa5', 'nyt://article/34399e0d-af56-5a07-80fc-04f64a7c0ff8', 'nyt://video/a90d2d24-3aa7-5ead-9734-4c843d1ccdd3', 'nyt://article/90e7e151-69bb-5749-a07f-d18f9ccbe36c', 'nyt://article/7bc80009-1432-523b-acce-5323e444a015', 'nyt://article/a337d30d-3b38-52cd-a29a-840133f075ba', 'nyt://article/3fa03e6a-e484-5eb4-aab6-02fe01b547b3', 'nyt://article/73dc9de1-a40e-5414-9f7d-8e2c20a79e45', 'nyt://article/4bfecea0-f385-5ad3-87f3-5170cb7e5b48', 'nyt://article/6045611f-3f32-544c-9255-a5efa1b01cf1', 'nyt://article/5cbdc28e-0139-57e6-90e4-a4cde6630360', 'nyt://article/fb0436be-af6a-50ec-8472-15c5151ff6c5', 'nyt://article/60ab25a2-31c3-50a9-a84f-9e9c424da10d', 'nyt://article/ab5ee955-9d3c-549a-bc1c-42066ba59a05', 'nyt://interactive/66ceff15-1a83-5deb-a558-5a51d705efcb', 'nyt://article/f0218d79-105f-595f-a25f-ac1976d9f4da', 'nyt://article/795e6730-0b33-58ad-9d63-8d7e664ea475', 'nyt://article/b1fe6db8-89ea-57f6-8539-f274d3da3b57', 'nyt://video/bcc72e90-73b2-5001-8106-da12ec781054', 'nyt://article/92bdf0eb-26b8-569a-9f52-f8c905270336', 'nyt://article/1dcc1506-e30f-50c7-a6a2-ad6b257d2d60']",
         "21",
         null,
         "0.11299435028248588",
         "South America",
         "NYT",
         "21"
        ],
        [
         "50",
         "China",
         "['nyt://article/5c62b3e9-4046-5b0b-8f06-017a74778128', 'nyt://article/b4aecf32-925f-571b-896a-f19904af186f', 'nyt://article/9e43debe-8e36-5732-81f4-297d92a907fd', 'nyt://article/c765e159-1f45-5245-9381-5aaed2efc2e9', 'nyt://article/27946192-266f-5685-abc7-ba294c123ff9', 'nyt://article/2761a831-1581-5d33-8905-651a1c0e7298', 'nyt://article/412b1dc1-8be8-5074-b1ff-fdfff463a71a', 'nyt://article/e4c5cb2d-e03e-56aa-83b0-76e1ff83190c', 'nyt://article/9b22e92c-8a09-5164-b279-e68d6bfbbddb', 'nyt://article/1b751eae-2c08-587c-991f-98a8b52360f1', 'nyt://article/190a4e7d-e267-5a83-8cfb-d283632b27d2', 'nyt://article/cc017fac-c1a9-5f86-a2a1-f03740d1533d', 'nyt://article/0f29ae96-41a4-5a52-a3f5-8db906441d97', 'nyt://article/93d95e62-482a-549a-9d94-b412d3999ff2', 'nyt://article/8562434f-34ef-50c8-a7a5-ea25f166dc5a', 'nyt://article/74c34058-2c1e-59ee-bcfb-1b1203781c65', 'nyt://article/e5724808-fc69-537b-beb2-7de60657e5f3', 'nyt://article/b2caad66-84d1-5bad-8e8f-bd8c6c33c5f3', 'nyt://article/03de21df-0dc1-57d5-9671-e52899848473', 'nyt://article/89e7078c-a881-5cbd-a0e1-28f310302b9f', 'nyt://article/9a38c9ce-b67a-515d-a364-88e8cedcf15f', 'nyt://article/f58a0237-b841-5b97-9136-9a3276a382f2', 'nyt://article/1443480e-78e2-5eae-b59c-330586617433', 'nyt://article/7774c1ab-cd09-5a0f-a730-21b99ab7e60c', 'nyt://article/814e5a9e-1ca6-5534-bb11-2fa16a2613c3', 'nyt://article/2ed420ee-0ce2-5663-8a0f-c7291e3515b0', 'nyt://article/d29b75bb-6852-5a01-bce6-89d749695cd6', 'nyt://article/07b544fc-01eb-5ea7-829e-fcf9fd22f67e', 'nyt://article/dc964c71-c1ca-56f8-a591-4769a736eca3', 'nyt://article/abaae27f-a5cf-54e0-a015-28e1deb3166a', 'nyt://article/29290a06-7f93-5b41-9c04-a32e658cbcb6', 'nyt://article/0545574b-8d69-5150-a0bc-6109c9655243', 'nyt://article/183850ec-7eec-5ab7-9588-871dbf89b4f9', 'nyt://article/9d200f8a-0df6-50dd-b40e-43fef63790cd', 'nyt://article/5b8ff491-2c0e-5a14-acbd-0d6f98b8956e', 'nyt://article/3db8ba01-1b32-56af-8bd7-371782a2c926', 'nyt://article/73e13e92-bb89-5463-ad90-f185fa39f493', 'nyt://article/ea0f6c11-f80a-5e5e-b94b-848e0d9900c8', 'nyt://interactive/6de81ae0-641a-5ac1-8f03-bab7c1058f8b', 'nyt://article/67b5d228-b2cc-5c4a-a261-045cc5e1f9f4', 'nyt://article/a6d1d059-8668-57ff-adac-bbd57cc0630c', 'nyt://article/20d2c87e-6b0e-5e35-87af-572140d3771d', 'nyt://article/9d2e7422-f485-5bd1-88bc-7c670da0acb7', 'nyt://article/c75b899c-0971-5059-8c8a-40e7c7d423d3', 'nyt://article/e5d1336f-ab0d-5b57-987d-0bf0ec80cb41', 'nyt://interactive/ba63261a-ad9a-566a-b91f-a9e7cd903aea', 'nyt://article/05fde8b3-8744-58bd-bc47-3adc11aee8d7', 'nyt://article/a10a6747-72b3-537c-b0e1-5d6121b26bd9', 'nyt://article/269985a5-bb10-5c8b-bcad-d47caca00d48', 'nyt://article/a9cec457-f827-5d15-a71c-64eb7a091a0b', 'nyt://article/014af8ce-ee57-533b-bed8-e41255b8bcdc', 'nyt://article/3c6ee5ba-7426-5cbe-ba38-a9a10ef8a635', 'nyt://interactive/5b3fcdd9-138f-5c70-b397-89d1cdb6959b', 'nyt://article/44870a54-effc-5faf-882f-84f72e18e928', 'nyt://article/cde0724e-3749-5739-b008-b3def17d6e19', 'nyt://article/35aaeb2e-5abf-50a6-8d35-1597d4fe3f9c', 'nyt://article/ed9ea558-d649-5c78-9318-ca9302a54d04', 'nyt://article/e2457a8d-8b1e-5e07-948a-e1c8e414cc60', 'nyt://article/12bb5c6c-4130-524d-a304-b2e306dbc16e', 'nyt://article/0a6dd91e-df3e-5814-bdc7-dab388230e7e', 'nyt://article/21f2a41d-ebd1-5762-8c77-9dc9cc92104c', 'nyt://article/30c3acc6-3e6e-537f-8fe5-dfaeaa7c96bb', 'nyt://article/ca566f32-0a14-5766-8203-7db11aed1182', 'nyt://article/c747beb7-1fd7-5287-a412-65b4bb849076', 'nyt://article/4fe1520d-0d7d-5344-a26d-0058015841ce', 'nyt://article/335b37b4-ab4d-590f-bed1-379cf16c7d9c', 'nyt://article/67c26a6f-e493-5a6b-af85-7bcb57ce8763', 'nyt://article/90add3f9-d8d7-58d9-a332-751ffa8ee240', 'nyt://article/54de3d4e-470e-5d26-8c5c-0ee695260a12', 'nyt://article/d3f5ede1-2b6b-533f-9994-ffbc02437341', 'nyt://article/2c32ba50-8c3d-5853-87a7-67518cdba998', 'nyt://article/e8acd6e7-54bf-50ed-b6c4-bc05734f00ca', 'nyt://article/70305dd1-9b28-5156-b9ca-21d7e2288fff', 'nyt://article/84b37e16-2e5a-54f9-82d5-8a0cc23253a9', 'nyt://article/311e1fac-12e5-5d1e-9730-6259d2ba7157', 'nyt://article/b38be870-e63a-5ce9-bd42-7c2856c8cf13', 'nyt://article/c9461fce-864b-5877-942e-cbca8ca01bb5', 'nyt://article/596cf5b2-02a4-5626-8d65-0a28f3dc57e2', 'nyt://article/3d5f6b28-8ab7-5039-a076-d866c6c895cf', 'nyt://article/0a3bb0b4-e877-5ca0-beac-53b91e5d339c', 'nyt://article/d035a97c-2815-506a-8be3-4c712c286f67', 'nyt://article/0cfd2b95-9850-50fa-9b5f-ed8076599965', 'nyt://article/890aac88-51ae-5558-92ff-60c230cd5e77', 'nyt://article/f8ce5a73-358d-5653-88f9-d7c37b8506a5', 'nyt://article/67a7856d-9202-5bab-8552-5a68e90d284d', 'nyt://article/67a1bc85-c88b-5265-ab2d-b758499f60e8', 'nyt://article/e5fb4668-b7fc-5cc4-80cf-bdf82b939694', 'nyt://article/2b26e11e-08da-552a-8e26-98d30818c431', 'nyt://article/4e4e41a2-f217-5c70-812e-d1e9ad3c526b', 'nyt://article/def15912-fd17-54c0-a753-0d2e68e0c7d4', 'nyt://article/f84c41f5-b0f6-54ff-9074-036c27cccb5e', 'nyt://article/1b64d90b-a458-593b-b411-dcc4d93a9f29', 'nyt://article/6272e4c4-70af-578e-b71c-ed858ed48f31', 'nyt://article/05156d9f-b3bb-5a65-9abe-60677c11440f', 'nyt://article/70b7b6bd-d669-550d-a33c-800048f481c3', 'nyt://article/e610dff3-38fb-5877-bd6d-34bc40b74115', 'nyt://article/00424f5c-1e4f-5868-ba29-a319e4071214', 'nyt://article/de0a2e56-fd1d-5423-8e82-d1a202abab2d', 'nyt://article/31e0a04f-f0ab-59c7-97b2-72a2e5cd82be', 'nyt://article/719032e3-1e4e-5422-a882-f155bf788a64', 'nyt://article/ab7574cf-243d-55c2-b9b4-f55fce203f32', 'nyt://video/2c2003e4-2fde-5b08-a93c-47c4437df9ed', 'nyt://article/7dd19b59-156c-5583-bd77-764448662a9c', 'nyt://article/90640272-f5b8-5021-bc55-249d649867cf', 'nyt://article/58eb7885-b6d3-576b-83e7-b5aa721a720f', 'nyt://article/2516893b-d689-5e3e-80fa-4172fca7b868', 'nyt://article/519b472c-97b2-5fa9-953c-22fcf833cff2', 'nyt://article/b7295aa6-9b4f-57b4-9953-6ea61e65a86d', 'nyt://article/546a73f3-cbf8-5f41-aaab-23ff75fe0b58', 'nyt://article/75940dee-5a0c-5c80-a1a7-0c0cf77cbb9b', 'nyt://article/c2d9a088-2652-5f93-a3a0-9e9cd2c1b31b', 'nyt://article/2c325e31-d5d9-560e-99d3-5dd90bd1ea17', 'nyt://article/e1c0e4ed-bd98-5a44-871b-a7c99674b3a9', 'nyt://article/fd81b173-a92d-5cfa-88d1-2e8dc06276c8', 'nyt://article/d9c05b51-74f8-556a-a5c1-28e809f66777', 'nyt://article/60fe78e9-5618-5202-8340-81e48d22cfd4', 'nyt://article/de730107-7362-56bc-99a2-9e4ab9141086', 'nyt://article/2563f9c3-e8fd-5ced-93cc-00c12b55e1c9', 'nyt://article/a5d435da-a58e-5951-ac5c-ae8955d52e89', 'nyt://article/c9daf0c1-5108-5dfc-9d61-34715efbe7ca', 'nyt://article/d05f9884-1860-5318-806e-37bacee1ec24', 'nyt://article/350794c8-f04e-5b6d-b8e1-b1d9a8d3f2f9', 'nyt://article/99682d37-a93d-52cd-986f-4b97c8115e42', 'nyt://article/db7ea6c7-3ef8-5fc0-9686-987e3c26a8e4', 'nyt://article/1eca91ba-61f1-577f-9608-55b60ca9f849', 'nyt://article/0e779eb5-38b9-5d8d-9690-564ed59d1dfb', 'nyt://article/1b8461bd-7b20-5622-953f-bc1eac22cbc5', 'nyt://article/62c3fbb5-c09d-5697-92ed-ae4f97044caf', 'nyt://article/875bedfd-99d9-598b-bd92-6445807f4397', 'nyt://article/4fb34a85-3b5b-5e12-bd7c-c40551c319b3', 'nyt://article/dc465414-bfbe-52c5-bfd7-d3d66c63e61c', 'nyt://article/a9f848a9-fc57-517e-ac34-993e9d52ddc0', 'nyt://article/ead52541-972c-5ab9-981e-5dae4131b315', 'nyt://article/d55c0888-893a-545a-9369-a3ee1564fdc7', 'nyt://article/04ac23df-0cf3-5900-be5a-f95bea170c4f', 'nyt://article/5d82d52a-40c0-550c-9f63-22cfbc2197ec', 'nyt://article/8e18ad2e-f48e-5154-858e-40a2ec8f10d3', 'nyt://article/390dfde8-1c25-56d3-ada6-76d6cab4dafd', 'nyt://article/3839ecd4-61d5-5af7-889e-b313210bbb39', 'nyt://article/ffd11c4e-c450-5ff4-9e42-528b03fafb11', 'nyt://article/86b5531b-3f5f-53bb-bda7-90ef3e36d7bd', 'nyt://article/f581031e-96ca-52c4-a1ea-1bc49abaf1bf', 'nyt://article/e6ce4d7e-813d-55bc-90e8-5a2da4061d77', 'nyt://article/33b51dd9-90a5-5457-937b-6ee1223e3fca', 'nyt://article/429f80a9-11fd-5b72-afe2-89ede1052ad8', 'nyt://article/dd4dd473-71a9-5a25-ad39-84d4d3c15eef', 'nyt://article/1aaac142-b69a-5d76-91fd-798c7324d18e', 'nyt://article/f7ab669e-8358-579d-a724-88f1e62f9e31', 'nyt://article/37be3852-7f5e-58a4-8ff2-9d07c5a945dd', 'nyt://article/e7647e21-ee5b-5bae-be87-b16d8a4b092d', 'nyt://article/24490768-f3a5-5976-a669-1b3e1294294d', 'nyt://article/34471c90-472f-54ec-b703-39c79e23dea9', 'nyt://article/dfcc353e-6376-5bec-83ae-d0fff6353551', 'nyt://article/a16ecda6-d8ba-53e2-8f54-2a8c7b3bb68e', 'nyt://article/603971a4-c18e-5c5b-8207-ac872b44fd64', 'nyt://article/9ba14a92-80a5-5da8-a719-97b82dafadf9', 'nyt://article/5446e55f-2bbb-5b04-89c2-998c6d1c7546', 'nyt://article/2dc53e56-189e-5f3b-b1f1-0206d3644d02', 'nyt://article/1b10293a-5061-5bf7-8a21-05531197da00', 'nyt://article/cc7ac1f8-3c96-5ce6-8e33-200dbbe00896', 'nyt://article/1bef1d63-0d6e-5b14-850d-7545d60c5f7d', 'nyt://article/6f97c734-e4a1-5de7-a066-ea389f0c80e8', 'nyt://article/e95afc05-fae6-5783-9662-63c45aa59d8d', 'nyt://article/515a4b08-b738-5b1f-8eeb-835ab2faceff', 'nyt://article/7ab6a151-51cf-5845-a9b9-55717947bd57', 'nyt://article/4f7d6362-3d2d-55c8-88c1-b19f1658ad64', 'nyt://article/95494e94-7f8e-55c8-88b2-1a0a63c35d34', 'nyt://article/9574c6da-0316-5221-b3f3-646dc203df0c', 'nyt://article/3288b7a6-a0ec-5b7d-9c33-b35d01db0694', 'nyt://article/b6e352aa-e7a0-5948-b4d5-335d37b10a6f', 'nyt://article/f5cbe30a-cc21-5704-9fd8-5e18c6211bf1', 'nyt://article/684f512e-a313-59ca-a6a2-7a074188d57a', 'nyt://article/0495e3ea-131e-5617-b860-0e39b30d0b8b', 'nyt://article/e9406e37-a944-5554-bcde-07b102370652', 'nyt://article/aff08789-3b64-5698-9ad7-6ad6a0d35bc4', 'nyt://article/89c8e9e3-fe76-5a94-92cb-414d811ee293', 'nyt://article/438729c5-1ab3-5cd7-9464-e2310b5da8c4', 'nyt://article/439ae825-a418-5d41-9547-95fc49e01ec8', 'nyt://article/48813ce6-5e79-5686-919f-942f25d0b875', 'nyt://article/cdd7cb36-3220-5ddc-8c2d-a24331d757bb', 'nyt://article/de2f7f85-e8e4-5abf-8d67-4439a0c62eb5', 'nyt://article/0ea83104-45f4-58a0-95bd-bba01db6ccaa', 'nyt://article/21cc9771-e4ed-5b75-8d25-68978053e072', 'nyt://article/ed54e45f-c14d-5bbe-922a-16e74e87c1f7', 'nyt://article/b0cc4393-81fe-59a1-bf48-3bba7bc5ab9b', 'nyt://article/792861f4-5b0a-57d0-8bce-64bad0d741e6', 'nyt://article/e3590563-5daf-524d-8697-cae25d698d44', 'nyt://article/0060233a-47a6-5f1f-8fc1-7462370154a9', 'nyt://article/3c603187-a5c4-50f3-a6ac-21bdd110861a', 'nyt://article/26eb46bf-4833-5c94-93f8-27ce852810d1', 'nyt://article/72e242b9-701a-5a82-a7e6-14078ac0a518', 'nyt://article/0ca8e598-18df-501b-a153-6ae15e6b62a9', 'nyt://article/ea35e105-380a-5050-b9e8-ee8cdc930b99', 'nyt://article/a558d0f7-86e7-5408-9bf1-d52c11ac9188', 'nyt://article/5274831d-6642-5b69-a4a7-5b779304f879', 'nyt://article/52c17472-eb7b-5acc-bc49-e6069fab73de', 'nyt://article/17e1638f-82e3-56e0-b263-eab882fb67f0', 'nyt://article/37631b15-f685-5ad9-bc8a-3482bdc1e0fd', 'nyt://article/6babd70e-058e-565b-b1a4-d007248e26ae', 'nyt://article/80a6c325-8460-55f4-8845-2dc0752804d2', 'nyt://article/484b0ec0-e05f-5f03-a5f7-a468f713665d', 'nyt://article/a2767e4e-840a-56c0-a70e-09cb828f1b10', 'nyt://video/098824e6-6f8c-58c7-8b81-eb1f0200fd75', 'nyt://article/ddedadaa-393e-5601-8ba3-7b968c818462', 'nyt://article/54b605b9-85da-59be-91a2-d9703f3e34d7', 'nyt://article/ee8bbe78-ff10-5fb7-bbae-0264deb64669', 'nyt://article/f7b7e471-4442-58f4-870c-91d1fd47ce46', 'nyt://article/151ac49f-d2c1-5ec8-87ff-3d486b84111f', 'nyt://article/aef87719-85ae-519a-b22d-240d8dad7fa2', 'nyt://article/7c222beb-de75-5309-a5d1-e06d0a1d4693', 'nyt://article/f8ea6292-0079-514a-96eb-7fffcc73ef3c', 'nyt://article/dcafa3a8-a6e9-5f1c-8395-537d992e624c', 'nyt://article/4e5b93b6-0a0b-5c89-aa4b-628cbc80ce74', 'nyt://article/690d001b-df5b-57e0-aaaa-e7446b577567', 'nyt://article/e816b831-630f-5662-b420-150dfb12aa1c', 'nyt://article/93600cae-6e9a-5361-b92f-3d8fbf218059', 'nyt://article/c41ee40f-7202-54f5-a5ac-16ae7b7e3abe', 'nyt://article/a3859a69-b73e-5465-8b6b-0581fd6ac0d1', 'nyt://article/32a7e1c5-5d09-5f1c-a5d7-9461c740c750', 'nyt://article/d7894a9a-8a7d-5db5-8ea7-f4c136d45aac', 'nyt://article/77da2d77-dcb4-5413-bffd-18d39be07412', 'nyt://article/38039c19-dd1a-5fe0-b851-9d72118b23b2', 'nyt://article/14bdb8e2-be5c-51f8-9f58-ab7b55fc490e', 'nyt://article/8779589b-361f-5a33-a0fa-8d40d293fd07', 'nyt://article/a4e49d70-993e-5dd9-b64e-5205047426bb', 'nyt://article/598207c2-a4ea-5f39-a0e5-0fd9d8e1ba3d', 'nyt://article/70a9eecc-3fd3-5587-a56a-15a006f8682e', 'nyt://article/0e4d2b1d-348a-50bc-a120-d8646a69b69c', 'nyt://article/49c379e1-8bce-5ade-acdf-1ab4dd818bf0', 'nyt://article/9b1c6bac-5951-5b30-b91b-61364ba90df5', 'nyt://article/d285f7ab-c815-5f53-a22a-058e8b114184', 'nyt://article/1dfb507b-b5ad-56b0-92e5-e75c2925a554', 'nyt://video/37ee3732-793f-5feb-b51b-888e04613c90', 'nyt://article/38c53eff-2302-53bb-9af8-0b8df1c5586f', 'nyt://article/1c1fdd9a-ea00-5741-bd83-384b1781f3a2', 'nyt://article/7e82ef39-944f-53c5-aa08-de76fb19ebb1', 'nyt://article/9232584f-34ef-5220-bfa5-9fe20ca889d9', 'nyt://article/04c78a01-a13e-5b39-b4a8-8d89de09d429', 'nyt://article/6f480fbe-f347-59f5-bf99-dbd86e64b720', 'nyt://article/68c292ea-4b1e-5c57-a1d8-6756c87611aa', 'nyt://article/f29faea0-41be-5368-b162-a4449beecb1b', 'nyt://interactive/0866fb7b-603c-5d5c-b30f-5417e0828352', 'nyt://article/992f17a7-97b0-5a40-a3e6-8b1736f848db', 'nyt://article/efbcf0b5-9769-5b16-a02a-62f38e84c0b1', 'nyt://article/e86671ea-3edb-5b5a-a301-91b177374f28', 'nyt://article/6c78b3d6-64f5-5008-8ead-2d72a298cf9a', 'nyt://article/76ea0e14-9309-5bbb-9c7b-1a3f269b6e96', 'nyt://article/7e9746bb-e618-5eeb-900c-f0c8aaaba195', 'nyt://article/69bf2fae-ea33-5e84-87f5-b3e59f68b186', 'nyt://article/f78de78e-c05f-5451-8bc9-881c2c1005fa', 'nyt://article/7175d55c-ec9e-5e64-a172-c8ef078afc08', 'nyt://article/6a2cd799-7099-5c3e-a62c-dd19d3e189be', 'nyt://article/1979f271-ea8c-575f-81a3-55dd00bfdb4e', 'nyt://article/f42a5efc-f848-5d14-9bac-b90533f3ca1c', 'nyt://article/69d8b568-c087-5740-a22f-df11248723ac', 'nyt://article/2310a1e1-ea10-5266-913a-594aa1da4323', 'nyt://article/bd25e5cd-4a19-5160-853a-83c7cede5753', 'nyt://video/22301706-0b41-5db6-84a1-52b2a870c0bc', 'nyt://article/5fc26956-3b1b-5f39-8901-a48631794bee', 'nyt://article/9611d8ec-a3cc-5b96-b905-425d40b464aa', 'nyt://article/0a9e1699-6657-5929-9c99-a663ed7df77b', 'nyt://article/1103ac1a-15d5-5a13-a7f6-3a436c762309', 'nyt://article/abb55571-8aac-5782-afc6-6bb652fb7611', 'nyt://article/49ecbf04-9dda-5d16-a047-c646750fa803', 'nyt://article/0624b359-b175-566b-b4ca-5a2cbcadb2f7', 'nyt://article/1733c798-2dbe-5809-bc62-8bbfd85a5644', 'nyt://article/974e6b8a-8429-55fb-bc7c-448abc08075d', 'nyt://article/04e7c02f-1241-5c49-abbd-df8cec4ef408', 'nyt://article/a22bfc5c-126a-55dc-884d-d2aaf13eea84', 'nyt://article/62908fd2-d5fc-5b8f-86a7-5e00dfea5a4e', 'nyt://article/5d23b24e-2946-5d3a-b5a6-e1a5cb6104c8', 'nyt://article/fe23ea72-9efd-524e-b770-f46c19d981d6', 'nyt://article/c148b78a-a77a-55bf-aa8c-a14d8fdd1605', 'nyt://article/f03a360e-0f2c-5e03-987c-a84f8e5480f4', 'nyt://article/9bdbec37-a12b-5e8c-82be-26bfa137b5b9', 'nyt://article/ba657134-7a09-5b66-b7bb-ec46bafb29a5', 'nyt://article/6968c9c3-e2f6-573d-b3b8-7ce861dc64c6', 'nyt://article/2a4b37f6-1665-535c-91aa-b2cb98ebfb6e', 'nyt://article/9276b34c-3b40-57d2-bd85-9bf252de076a', 'nyt://article/601c07f0-11b6-50d7-bfe5-f3eee23c5efd', 'nyt://article/cd8ea57b-5e5e-5f4d-9462-f2de05fcf6a3', 'nyt://article/5bd2d377-1bf4-504c-8d32-23486749e91f', 'nyt://article/9ebc0041-6d71-54c1-a962-16c7c5216526', 'nyt://article/6a24c2bd-d6cc-5dec-adad-3ae1fb76052f', 'nyt://article/95f44a74-1b0d-5e54-b555-c00904517609', 'nyt://article/1b1483c8-836e-509a-9ca7-7157228f6968', 'nyt://article/b10a6520-8976-5d53-a8c0-64aa5d4d9444', 'nyt://article/a4280389-f3ec-5cf0-a7bc-992333c046b1', 'nyt://article/a7ca49b0-cf5e-5ba4-bd95-b007c0f7a395', 'nyt://article/135046eb-1684-51eb-a3df-c8a7e19190e3', 'nyt://article/9aeae167-7e27-5e8c-bba5-18352a4ca368', 'nyt://article/9ec1a104-92c7-57a0-a9de-c84908fad441', 'nyt://article/ad98b6d8-b27f-5bc0-b44b-46022b396918', 'nyt://video/ec1361f6-3467-588e-b2bb-97b9e23fec03', 'nyt://article/54dea93a-deec-59a8-a740-2f9a9287ced1', 'nyt://article/a764056e-1a69-5eb5-857f-f59af730118c', 'nyt://article/38e0530b-d424-5ba8-9c4f-277eee69f102', 'nyt://article/7034f641-b9de-592f-9441-8d1bd0e3c5bf', 'nyt://article/b31bf7b8-fd6a-5c88-b518-a92505671024', 'nyt://article/1046ac6a-5f03-5d95-a7b9-37c47e153c5b', 'nyt://article/83c5a58a-29e8-5f6a-a339-b34e5dd4b5d6', 'nyt://article/429963b5-8f21-5ae0-b45d-1d47d114deb9', 'nyt://article/83c220e7-db35-57ef-bf5d-5248b0156efd', 'nyt://article/61dc1975-a346-585f-b8ce-5b034d78c404', 'nyt://article/f1c7786d-19d1-5936-8979-93b780ab4541', 'nyt://article/48aa1098-effd-59dd-8f17-4f95e425eaf1', 'nyt://article/c085dfe7-ca56-5e70-ac7a-316fdc3e99a2', 'nyt://article/a06dec7a-5ed1-5cc3-876c-eaea906be86e', 'nyt://article/c96d86ad-a2c9-5622-8050-12628e9c9f55', 'nyt://video/882f966c-07f4-5402-a5ee-0c210bff5039', 'nyt://article/037bed0a-43d8-561e-a9f9-3f0afb29dada', 'nyt://article/763c6167-c219-5303-82e3-56f37197a246', 'nyt://article/bc1bbc94-bf99-5a45-aa69-2b51c288addb', 'nyt://article/71159998-ae68-543c-9377-a8f1d15d84e9', 'nyt://article/830bbf9a-cd4b-5f14-a963-40484ed7412e', 'nyt://article/f6dcca34-9861-509e-b225-c379dbed9ce9', 'nyt://article/9b34d22d-850d-5a0e-802f-d6b578c7da1e', 'nyt://article/e636a5a3-984f-52c9-8bf1-c6034433ac2b', 'nyt://article/65ecef3a-ad16-5d61-8d18-cf5fd93e63c2', 'nyt://article/b3bba0fc-9256-58ea-bc86-13885d1fc4eb', 'nyt://article/fb0cd1df-30e0-5774-8ab3-762e52d62d60', 'nyt://article/599d6d4f-f168-502d-95af-c9ca068d0cfc', 'nyt://interactive/68d00c9c-ff81-5b67-a7dd-2d5858c48a0c', 'nyt://article/d7f99d0f-49a4-51b7-953f-864da0cc5307', 'nyt://article/eab69f8f-43c8-5591-835b-2b4fae4669b1', 'nyt://article/5a2fde77-225e-5139-ae86-3b6c3e18a06e', 'nyt://article/25d0cd6e-1c04-5783-96d3-ddb72a3a813c', 'nyt://article/d5d8a4e7-92b7-57b4-adea-85b05ebeadf1', 'nyt://article/75bece23-64eb-58ce-b782-12fb47e656d1', 'nyt://article/11550bf4-e319-5872-b412-ea3a77083ad1', 'nyt://article/7042f8bf-2246-5dd6-8a34-4000a97be12b', 'nyt://interactive/29197e5c-4acc-5862-b896-e77ec4d36801', 'nyt://article/6555627d-5d2c-51d8-8f6c-426a717ca3c9', 'nyt://article/cfbfd14b-3009-528a-8bea-7c1f89141abb', 'nyt://article/f047f8c0-1263-5092-a5ae-d74ed5b7f208', 'nyt://article/cfb225ac-c2b0-53f3-9ad9-adc9226b6ca6', 'nyt://article/c0ccb1f6-20d8-5b9c-b323-805a5ce24793', 'nyt://article/44eb3eff-659b-565a-a1ec-cec54e0f4c77', 'nyt://article/8782e8e7-7fd3-5994-b6b0-da81a7656e7a', 'nyt://interactive/c5e32373-86dd-5420-ab85-99dd1564218f', 'nyt://article/c5a17a15-d5ca-532c-bf1e-e41950a1de1f', 'nyt://interactive/cdf3858a-2174-579a-8e2e-ac5857256a9b', 'nyt://article/a95edbe7-0f69-5cb4-a502-87db75dd7f8d', 'nyt://article/10453968-c7cb-50d8-ae37-8bc7d4bdeeaf', 'nyt://article/96563a98-5753-5722-82e7-7138d0257241', 'nyt://interactive/6567bdfd-4b48-571d-b37c-5369d5680e89', 'nyt://article/a3af89d5-659f-5c0c-ba5b-c88257825aad', 'nyt://article/0778bdd2-6d4f-526b-ad90-de7f74e23be3', 'nyt://article/5aef13d0-ba20-5ebf-b494-fd8b579750e0', 'nyt://article/bf77cc3c-2d4c-54d9-8ae9-e8dfce0fb9f9', 'nyt://article/d108fcbb-670e-589b-a95f-e421fb619157', 'nyt://article/6d3c79e1-2de3-582a-b403-65a26d2f0a87', 'nyt://article/b5d9bc50-56b9-5e4a-a501-aac38ddf50f7', 'nyt://article/07c328bb-ac31-5c0d-8438-d67518a9e80e', 'nyt://article/1fd0de4c-535e-59f9-bd09-e467dd06d91e', 'nyt://article/1190a41d-1986-5d8c-bbbe-7d214ee2b086', 'nyt://article/0bca8ab9-eebe-5cd6-a83c-ae65d5c406aa', 'nyt://article/7cebfe72-e934-5091-bb18-ca45c9dc14a4', 'nyt://article/2bbfd9a0-b962-5c59-b066-9b58e70a8269', 'nyt://article/1713e3f0-ba33-569c-973b-995da182e35f', 'nyt://article/40b910bc-3963-5226-836c-1af82035ba2b', 'nyt://article/e511b90a-b97b-507f-9a16-09e08f472166', 'nyt://interactive/eeaaaf83-dc38-5d4e-af56-adc327f7e192', 'nyt://article/9467621d-2f57-58c6-9a42-e9165c9daf1c', 'nyt://interactive/cc642ee4-fe2b-5644-8d06-20aa39e0bd83', 'nyt://article/c2615964-e9f5-566e-af0a-26545c1cc7dc', 'nyt://article/5edd7cc3-890e-5458-9f14-da9f61a277dc', 'nyt://article/6a0e395a-ec78-59cc-a1ce-120d53450e27', 'nyt://article/7e5b0dfb-602d-550e-b844-4f3b6342cdc5', 'nyt://article/bfc64ed9-8d62-5ad6-a37c-d447168e5783', 'nyt://article/92837fa7-e68c-50ff-a770-a57587560f34', 'nyt://article/9a18fa14-da18-58ec-b2a8-f615cf6974c5', 'nyt://article/748944e6-275f-5b87-931e-2ec094501051', 'nyt://article/cadaa480-6a52-57df-a52e-54a6a7c48453', 'nyt://article/7668a311-ff74-5167-9981-3498eb8355b7', 'nyt://article/c5cdc8cc-8958-5867-a859-16357a829650', 'nyt://article/5d18e1be-6a82-594e-b6c3-f37631bc5116', 'nyt://article/5c1d792f-aa2b-599d-8a34-bee688718ee8', 'nyt://article/3d313dde-d1fb-5206-b3e7-28a83be2a7ec', 'nyt://article/fed91a4d-0068-5b81-99a8-9786652de14e', 'nyt://article/eece1f44-6bfa-5f67-a196-08e6861d8e01', 'nyt://article/ce637822-d755-5ad9-8c05-72163042cf4b', 'nyt://article/18591054-bcba-5747-9842-66c643be9e65', 'nyt://article/abc6f2a5-94cf-5f32-b736-8bf0048916e1', 'nyt://article/dc1428c3-250b-584a-9419-666e69b2efbf', 'nyt://article/6933bb77-6eba-590d-a0d7-991f13507154', 'nyt://article/153cb511-3944-5089-8585-04292633b44f', 'nyt://article/14937c35-e2f8-542c-b004-5cae10dbbe7b', 'nyt://article/5523bf18-4be5-5507-9556-5d9b1939becd', 'nyt://article/ec210860-0da4-51d2-97e8-904cabab7c84', 'nyt://article/60d9d172-a078-590d-9142-bf820e8211b2', 'nyt://article/4a071668-510c-56cb-8a41-43339bdaf547', 'nyt://article/3666b550-c8a4-5393-b66b-d5ce06d79195', 'nyt://article/1290aaf1-c9cd-5c24-a794-380c335c1712', 'nyt://interactive/6256e38a-277f-5fb8-acf9-2adecfbfb3b6', 'nyt://interactive/151d61d1-6b2f-5ae0-82bc-dbb31484870d', 'nyt://article/72e05ef1-0273-5eb9-95e6-c40b965534af', 'nyt://article/eb20bc8e-a4c7-54c1-9546-0fc830eda916', 'nyt://article/ef68d660-c9c0-55b5-9946-caa70853c278', 'nyt://article/d6b3f129-9795-538b-b778-4043d18fb11b', 'nyt://article/60af2779-bfaf-5556-8d5b-385ef2ed7a8a', 'nyt://article/fe1a7c93-0a1a-5d69-9592-73c1b4faa68b', 'nyt://article/66dc70bc-ebcb-5777-971f-379541bf9dcc', 'nyt://article/3754be38-0c7f-578c-b2b0-28ed5e6e97af', 'nyt://article/cfd56cce-ff96-5054-a43a-cae19b1ebc7a', 'nyt://article/37b141f4-57e3-5d4a-bf4c-56347d70a5ad', 'nyt://article/c08c18e5-545c-54be-815b-5313f2e77100', 'nyt://article/7accbee7-9ff2-5c30-931f-61ddf7e3ecce', 'nyt://video/10eb749f-b2f3-5723-9888-5adb0f3e3862', 'nyt://article/25988a8c-9bc3-5d34-b4de-7eb019ac487d', 'nyt://article/6ee035c1-b517-5cdb-a644-532d54ff2ffb', 'nyt://article/911b3f87-a49c-552f-be3f-f84d6733be94', 'nyt://article/0580f03b-d2f9-5073-bd21-1d36ca64489f', 'nyt://article/42573488-505a-5f4d-ab2a-6f9e75a2c82e', 'nyt://article/4c19e8fd-74b2-5c2d-92f2-d926b693d082', 'nyt://article/6bcf25a5-be33-5cc4-9a5b-449b552241ce', 'nyt://article/d818ea73-b8f1-5b62-998a-debacbb9d20b', 'nyt://article/23fbc47d-7f7e-5645-8fcc-ca91d1e35243', 'nyt://article/3be1dec8-b137-58a3-819d-23ea823f41d5', 'nyt://article/c7fe2227-d990-5dec-9045-ed5307cd3587', 'nyt://article/937d629e-5c21-5863-9358-9b93767b194d', 'nyt://article/84f2702a-60f6-5c5b-989d-df856824c61d', 'nyt://article/25ac6f0e-835c-5062-8d7a-e7a8c0039c56', 'nyt://article/e724c152-725b-5f10-86d2-2d618b2158c4', 'nyt://article/fa9b3fd0-ab65-5952-9ace-54c2a0f9a86b', 'nyt://article/b997d269-a9a7-533a-9323-f84fbee38f18', 'nyt://article/63154839-63b4-5377-b4df-5abb87a97965', 'nyt://article/876dfabe-b5f6-5983-a12d-48ddd1de4c07', 'nyt://article/d35a2be4-8651-5b52-8cfe-d2f3296e0eb6', 'nyt://article/215fb7a3-aa07-54f6-97c9-ddc9ceb0274f', 'nyt://interactive/60b60b06-9482-5e5c-b376-364e7e0a37bd', 'nyt://article/0a161ae3-a347-526c-bc62-be2aca6a9262', 'nyt://article/c440d31b-563c-55e1-8b79-503e757d6c5f', 'nyt://article/aa4ce25e-163a-5912-80a8-07eeec3096d9', 'nyt://article/b411f0c4-9606-54d2-8db5-8cdfbd9a70f7', 'nyt://article/c27479b9-76ba-5def-9f07-ef8a9433283f', 'nyt://interactive/9c89d763-5676-570c-9670-b057987bc4d3', 'nyt://article/45cc2232-3205-5fce-a879-ec104b6a6145', 'nyt://article/80042c19-3ebf-5256-bc3a-8ba2110ec9a7', 'nyt://article/3cdaeeb1-7efb-5f70-9bc8-79a1100145ad', 'nyt://article/a17bfb30-6cdd-59dc-bfdf-1aef62f24352', 'nyt://article/f7d4de47-da38-5a93-9e52-ac603c9ee0a8', 'nyt://article/c67b1f5a-40a4-5bb5-aa10-0861d752cae0', 'nyt://article/1830f51b-761b-5ec4-afd4-aed999956d45', 'nyt://article/b169bd9d-1f3a-5a01-87b6-1898d546c08d', 'nyt://article/c6d592b8-cbb8-570f-a0b1-f4e365cd70eb', 'nyt://article/e7e5aaea-ed02-53d1-a66f-f70b664333c9', 'nyt://article/b44bbcdd-0f4c-572f-84f0-de1f935ddfff', 'nyt://article/061d354d-f484-5235-abf3-39d944b62601', 'nyt://article/ebbab030-31a5-528c-9cc8-44bf18ef8bc0', 'nyt://interactive/7c53d0e8-f08c-5155-b878-6ae27aa87510', 'nyt://article/287d15e9-b5bd-5eb3-9d19-a4369c8f705b', 'nyt://video/5e5f74a9-62e5-5a6b-81fa-7f5f976ea897', 'nyt://article/5027cff6-729c-5310-8118-7d0b70a739b4', 'nyt://article/3d623c08-8540-5051-8f51-5a7a76cdd4d2', 'nyt://article/55591bcc-42c9-53b5-bc0b-7567e8c20648', 'nyt://article/6c840cae-bf12-5fdd-8858-f4a45e5852f4', 'nyt://article/39cf42c8-ec2a-5420-b524-0023012a23e9', 'nyt://article/e7c26bcf-413d-5fdb-9e04-7593e5e69b3e', 'nyt://article/47188e80-9daf-5b81-b2a6-664c22d95da9', 'nyt://article/6b3e5f76-e8cc-5a2a-b766-ece0ae95a82b', 'nyt://article/b43c66ae-b8ef-52b6-ab7c-5b2b851af6ae', 'nyt://article/b7863bae-d8d0-56c7-adf1-3c4f41f9458d', 'nyt://article/3b3d552e-a57f-53c5-8ff0-31113b14c493', 'nyt://article/acd54e1c-7123-56f2-9541-73fb3877ed1b', 'nyt://article/51b5729f-b195-538f-87fb-1b236248aa0e', 'nyt://article/0605322e-8d5e-5ae4-9fb1-4698e09f52e8', 'nyt://article/c7a62098-e81e-5e87-9c21-85efbecd2023', 'nyt://article/38985b65-b862-5d12-984c-cfbd65e5d6af', 'nyt://article/515fa6fe-3970-5426-b0c3-086a007287fc', 'nyt://video/bd367dde-1bb7-59f9-a4e1-bf918d8a3e5f', 'nyt://article/bf3ddf77-78ce-575b-b3d5-136a12076be9', 'nyt://article/8171ed8f-1182-57f6-85f1-cd46924c8ccb', 'nyt://article/2ca29f15-c347-5daa-969b-77d9e3bbd393', 'nyt://video/686d69c2-99fc-5c03-80ab-37e6abcff49a', 'nyt://article/c66d01de-f1ad-555e-8b1b-8ef2081a8a2e', 'nyt://article/2f41cb12-b6ad-5c03-92a7-33c7b348521c', 'nyt://article/25a0f000-436c-5b05-b0f2-54bd20edf8df', 'nyt://article/b65ccd84-5303-5c0f-a3c9-48040e8ca218', 'nyt://article/b3937493-67e9-55fb-8aca-601b53f72e12', 'nyt://article/5f5712bd-13d3-5fff-aea0-be76f6ba6f0a', 'nyt://interactive/caa7a64e-05f1-5a71-a588-1e8f311db878', 'nyt://article/6769664b-86f1-506e-9a17-7ef09d18f8a4', 'nyt://article/e4d9255d-1190-59a1-8839-0d6a3c11fcf2', 'nyt://article/ec63f385-f7c1-5c15-b37a-dbec7208416b', 'nyt://article/69592dc4-03b4-51e3-80e3-d0575c755ba6', 'nyt://article/67d0a2b2-686e-558f-918a-4fd99ad66d89', 'nyt://article/f0dd9f20-0b45-518c-9bff-f03098d3ff15', 'nyt://article/fc0f0c0a-e25a-5aa9-9fed-b5c828ad1c2a', 'nyt://article/1434668e-a521-58c0-90b2-43b3220dd2da', 'nyt://article/ca3d0753-e32f-5c77-af3b-d37297d21652', 'nyt://article/3881b227-fb0c-5ccc-85e4-d4d6919c4ebf', 'nyt://article/8ffbe477-af2d-5230-b91c-17ec5bca29d3', 'nyt://article/22cc5dfa-bf10-5e99-8035-c692b9674e25', 'nyt://article/687b6d9d-5528-5fb7-ada8-9ab44ef6be68', 'nyt://article/925d6933-4001-5e82-8b13-1e23960807ef', 'nyt://article/d3c70d07-a70a-552b-856b-3644c2046d4c', 'nyt://article/65fbe2bf-c7e7-5eb4-81cd-075e4890c28c', 'nyt://article/9f25d00d-8355-5c22-98b2-dd12df3a6e1b', 'nyt://interactive/02eddc3a-9f3f-5bcf-be6e-4544b9394e12', 'nyt://article/17c3b15d-ee39-5478-b399-9e58c76621c0', 'nyt://article/5e20df3c-7e2f-5cf6-9a02-6fa25e9bec2d', 'nyt://article/2d46fda4-9df8-590b-928c-17f27350362e', 'nyt://article/ef7decf6-5c4e-5a6a-a78f-0dbf5ca945ec', 'nyt://article/7505249c-eeb9-590b-a3f3-e1db973facc1', 'nyt://article/0f66c62c-8e71-5937-9496-ad1bac657a61', 'nyt://article/62ce1b69-2871-5b80-a221-c3bacba6ab2c', 'nyt://article/4759e0cb-1b1e-56fe-bad7-106430b58d9b', 'nyt://article/5ee2a08f-fa7a-5ef2-866a-ecd6de1c59e2', 'nyt://article/ec5a09da-3ef7-50cd-b725-df2efad9f602', 'nyt://article/1d9f0c64-541b-54c4-87e6-6b964e71ea7f', 'nyt://article/7aa1fa4d-0315-588d-ab55-2a7c0bf82d25', 'nyt://article/fb05462c-0237-562f-80a8-eb606ffff292', 'nyt://article/ba781550-c30e-5805-ba67-d16608c0e732', 'nyt://article/b50c6da4-91b8-57b9-b57e-4a59f2612717', 'nyt://article/c34fd9a0-9374-528c-ae46-44b06f510a80', 'nyt://article/c49919e9-d1b8-5fc4-8239-0a8a1afaecef', 'nyt://article/76e11970-4d69-5716-9b80-2820201d9f22', 'nyt://article/e318fa65-f5b3-583b-a913-dc2e52dd6814', 'nyt://article/827a3de4-4e4c-5bd7-9717-65d1772cd03a', 'nyt://article/bafc0e79-263e-58bc-8c91-65f8c382f0ff', 'nyt://article/e611cfd0-31aa-510a-9f3f-767cecc677a7', 'nyt://article/3b59fcae-0d27-5cd3-881e-d834120bac28', 'nyt://article/b698781b-8a73-56fe-908c-a0e8d494755e', 'nyt://article/16cf5ce6-d83e-5fa5-9e33-3056a384844d', 'nyt://article/60cb0f35-a2e6-521a-9685-a7e8584776c1', 'nyt://article/49f16ac1-5da1-58e7-bcaa-df249a3199ae', 'nyt://article/124754bd-bfcb-52da-98b7-39cc84ebffb9', 'nyt://article/285e7f74-21a6-5399-8f70-ab3931020b4d', 'nyt://article/45033268-3489-5b0d-b52c-bd2b6751c14e', 'nyt://article/3f413a24-ffb5-5038-bdd5-c48942bab114', 'nyt://article/1cd3398f-4dd3-5611-af21-2cf4cfc8d1e0', 'nyt://article/6b160c22-8daf-52ce-bcc4-8097dfbf4109', 'nyt://article/37956e93-4d05-55bf-b155-97f94fa82df6', 'nyt://article/49be0271-0857-5c6b-a079-26f60f87ebdd', 'nyt://article/50806cdd-e3f5-50dd-a76c-1175c289572e', 'nyt://article/22a2c57e-4d7e-5dd7-bffb-4be433111e7c', 'nyt://article/e306323c-29cb-5b7a-b9bf-a44dc0231216', 'nyt://article/56b0d2a0-68b5-52de-a5d0-582a4ad8baaa', 'nyt://article/6bad65a3-c3a2-512d-a3b0-0557b1061f39', 'nyt://article/18455046-449d-5e25-bd9c-fdea7b7a9347', 'nyt://article/8505443a-8984-51cd-a607-54403e1bc819', 'nyt://interactive/307ff3d5-b9fb-502e-abc3-d680ff48cc51', 'nyt://article/eb73d642-987d-577d-8d81-1964d538d599', 'nyt://article/b84d0c73-959b-5346-acbe-faf26ff2f44d', 'nyt://article/8e362760-e983-578f-955c-9ea0aa70470d', 'nyt://article/3a2441ed-5653-56a7-b1af-89c0d31b31e1', 'nyt://article/6460d6ca-4569-57d2-85f2-9c8c81a87f54', 'nyt://article/1d2f513f-a5c7-5272-924d-4f1abebc51d3', 'nyt://article/0dd8dd68-d5f4-516c-9d3b-a60ad31786c7', 'nyt://article/2027a9a6-3637-58e8-9fbe-5fd17cea48b5', 'nyt://article/ec3233d6-6a42-5b22-a2c6-b774ba1f8d88', 'nyt://article/65c53b19-5ad5-59a8-b8fc-a81b450a3031', 'nyt://article/cfa3e933-000e-5df4-aeb4-82b905d67dd4', 'nyt://article/21af1b80-e37a-535a-be7e-c29af7275e55', 'nyt://article/c17c6baf-eb11-5e9a-8171-30a020962fdb', 'nyt://article/acb6c3eb-bf05-53ca-8375-007074871efe', 'nyt://article/357c61c9-66d4-57a7-ad6d-b10a36cada8c', 'nyt://article/f8f4c957-8ade-58b5-be49-79748481453e', 'nyt://article/ce9338a5-4eb2-58e3-82aa-9f55f0a1a1c9', 'nyt://article/40e94bbc-f33c-5610-b8ad-2bf807d1cba6', 'nyt://article/34e514ce-6ebc-58f1-bf4b-d750eadc447e', 'nyt://article/4165dde4-ae7d-5514-a23a-a0947d089afe', 'nyt://article/55b1b377-a35a-5b92-a16b-45439a697987', 'nyt://article/d4514844-759f-5769-991b-4ab27ce38c61', 'nyt://article/714dff21-9479-55d1-b5f8-012ec2ed30e8', 'nyt://article/6347890f-f1ff-52f4-8747-0297775968af', 'nyt://article/dd42d45a-633e-50d2-af77-05359bbde678', 'nyt://video/6f10e62b-e43b-500e-a00a-edc9a2ed2808', 'nyt://article/b84aa9c9-141a-50ad-8dfe-4b757debea72', 'nyt://article/9a56134c-ef36-5639-b56c-fd4a3e0263b4', 'nyt://article/f69d1488-0401-5527-b496-da5ae5ae7736', 'nyt://article/d839b076-45b7-5bed-9a48-43f4b9c45210', 'nyt://article/1d9c337a-da71-54ec-97dc-9d443356d07e', 'nyt://article/8765ba83-00c5-526e-bda3-6af0882299c6', 'nyt://article/d67b00a3-dca0-53fb-811f-3f3ee634d3d9', 'nyt://article/8a60778c-ba48-5819-b325-d4d90ee1e6ef', 'nyt://article/6549964e-97af-5ebd-9606-b2e6f4581a9d', 'nyt://article/5bc311b4-0346-5b70-a416-ac07c7791783', 'nyt://article/96d749ce-34b6-53ed-b173-8292c7d9b4e8', 'nyt://article/55ddaf66-e52a-575f-8a09-6a4ab618cf87', 'nyt://article/0a006687-d51d-57fd-a133-c5f861513794', 'nyt://article/131fb317-cb9c-590f-8130-8fbe5e15d7d0', 'nyt://article/05a076d6-9f2c-57f2-8d3f-5bd92502308d', 'nyt://article/a9df19f2-c8ac-5590-85f4-66943b5bf0fe', 'nyt://article/1547f037-31fc-50ca-b816-2b8d4097c800', 'nyt://article/ca0cee50-27dc-5c28-94a1-7b10938f2920', 'nyt://article/ac5369ab-9399-5d35-8562-20935e7d7e1c', 'nyt://video/797ab570-80f8-59b4-9db5-af5217e9ef92', 'nyt://article/ae7ab7b1-156b-56eb-b109-e0cc054f64ea', 'nyt://article/140e69b5-14bb-5b77-a494-4424cc7f8463', 'nyt://article/12588821-d19a-53d9-8123-43b4d74c7795', 'nyt://article/72bb025c-6d33-57fb-9ab8-89040ac56704', 'nyt://article/018476d5-b187-5516-9815-dec40a2a0089', 'nyt://article/c6ab78e5-03fd-5484-bb1c-5db3b7b01c1c', 'nyt://article/84261a49-b3fa-5ea6-acfa-2bc23f46add1', 'nyt://article/b16516fa-e361-5a8d-8142-274c80077fcc', 'nyt://article/18eb4aa5-6f84-548f-874c-e28d0b2589d2', 'nyt://article/307aeda0-c5fe-5603-a2db-095d90326e64', 'nyt://article/2679cc4b-64a0-5a3a-b74a-1ebd723a2606', 'nyt://article/53b2c41a-06df-55e5-b0db-e339d91eb096', 'nyt://article/dfff6493-0b18-55fd-b938-59741c41e860', 'nyt://article/fc8175d4-0559-5637-9f15-67fa859cb344', 'nyt://article/7d9566d8-efa1-508b-b871-c96f5c5e1950', 'nyt://article/a41f2449-36fc-5e0c-8dde-fd8e9ba11be7', 'nyt://article/da9cfbba-ee5f-5252-b37a-bd2a15aedc40', 'nyt://article/50a334dd-6852-5571-af1a-1da508e41a93', 'nyt://article/3e4ec31e-2a71-5157-af87-2af0b38affa5', 'nyt://article/90e2fb80-c710-5fba-9216-6c8948a3892c', 'nyt://article/8ba5ea33-5293-53bb-be7c-b50a4cc5e4ab', 'nyt://article/4ff0123d-daed-5869-94a7-48c73ddf6491', 'nyt://article/b61909c5-6883-5178-add9-2dc08320bf8c', 'nyt://article/3b5738b1-a4dc-55a1-9675-b4e7de0f8b62', 'nyt://article/9d2da093-8626-5c30-abb3-76423cfaaf7a', 'nyt://article/3bc2c225-5a64-529b-93e0-6328760c155b', 'nyt://article/69b916dc-b719-5c6b-bc41-2775387dc309', 'nyt://article/448d991c-37ba-52e7-9eb4-173aab4ef116', 'nyt://article/891dd14e-1df5-5eb5-a2c8-fb92c590631f', 'nyt://article/0cdb94f3-7586-50bb-ac76-25f54e4b16e7', 'nyt://article/80b9a3b5-fdc5-5e4d-b657-b297c724e8a9', 'nyt://article/4900c263-2f0b-5c8b-97b4-6dff0171d687', 'nyt://article/7ac2e9ce-c99f-5e65-be74-b121e82c8fb5', 'nyt://article/b8494f06-0f30-516a-bfb0-b01f6a5c0f35', 'nyt://article/9ca7c0d4-78c5-5304-af1e-8d3e6d51fa24', 'nyt://article/3116c2bf-9943-5968-bed0-21607cc10fc7', 'nyt://article/8aca840f-bded-5f3c-8e2b-5c0b377eea19', 'nyt://article/1fa88f47-d188-5fe5-b99e-4f099123d92e', 'nyt://article/3730b3b0-c048-55cb-812c-11e45922ec8f', 'nyt://article/4678b0c9-00f5-51dc-9b7b-0062afad799b', 'nyt://article/90628694-744c-514e-81e6-b5160c4496f2', 'nyt://article/78f5f4e5-4077-59bb-a61d-59e14eea99c7', 'nyt://article/d34c1c71-e982-5637-9078-b594c9e60a46', 'nyt://article/97087121-d74e-54ec-9d36-28f598ec5b09', 'nyt://article/cdeb7545-04f4-5622-b8a5-d42f1aebb47f', 'nyt://article/d29f3c17-614e-57a4-8c0f-19e016570c98', 'nyt://article/3e378519-5301-513b-9ff1-baaf73c2afe1', 'nyt://article/5784b334-7e3e-50d3-9e5f-29c72128f3d8', 'nyt://article/05d68392-6a45-5b25-89af-ec76b64ed558', 'nyt://article/1c0566f5-31f5-5aa9-aa99-1589e36b4847', 'nyt://article/2c4fcfe0-4152-5915-8da9-ff3f6df3f13d', 'nyt://article/e8bae8b5-6574-5aec-b492-88d3cbe13539', 'nyt://article/640afc5a-2377-5ecf-a8b0-028a5a47363a', 'nyt://article/400de6c0-f1ba-527a-bb93-43993c0dd380', 'nyt://article/fb2cfb26-43ad-5da6-a912-e8435b628c1c', 'nyt://video/2ab09350-9bf2-5ee3-b9d8-26624d30ef54', 'nyt://article/3950818b-305e-5b99-a4b9-66c609997ff2', 'nyt://article/3dbb9429-da87-52fe-a25d-e03d5aefcd62', 'nyt://article/d1edf1d8-d4d8-51f5-842e-68d9e24a86c8', 'nyt://article/19fc41f6-42a8-5cc4-88fc-6c0afa434410', 'nyt://article/dfaea0a5-fa0b-5142-a2d0-e85fe6a551cd', 'nyt://article/eef74041-b339-5b03-8b33-1dbfa3e28ca6', 'nyt://video/31cb5fce-5d9e-5879-b55d-b25f690bd70d', 'nyt://article/d5cb5578-519e-56ce-9f76-21ed88cdf444', 'nyt://article/02126b70-e97e-5267-992a-6f27fbe3f189', 'nyt://article/edc9913e-875d-579b-89af-5cd672a9d936', 'nyt://article/23f27482-7084-5b36-b49f-ea5c6cf903ae', 'nyt://article/7b236f5e-110b-57ca-aa74-fd61f516ef4d', 'nyt://article/38197ad8-247f-5f0b-9c39-9b6d3c5ad53b', 'nyt://article/f03944ab-a6af-57ec-b045-6f44300edaad', 'nyt://article/358cc48f-251d-527c-83ec-48a004d37557', 'nyt://article/ce5e26da-b167-5659-a2c7-e284e2046ddd', 'nyt://article/b3ac6919-689a-57f6-a689-6bbe1506a9e3', 'nyt://article/00c9e71a-7f0a-5304-a823-597495985f6f', 'nyt://interactive/cb19939f-e307-549a-9e77-0305a6e288a8', 'nyt://article/296339e3-f88e-551b-9154-33ab3a6ccd66', 'nyt://article/4b013fe9-3325-581a-ae1f-a4230b63f40a', 'nyt://article/12bbd9ff-9a5d-5ae2-8ae5-cb7f4753b536', 'nyt://article/67937f01-4df3-5d51-b655-a39c3e62c725', 'nyt://article/e1beb64f-9804-5516-bc1b-d8d30e1b21c0', 'nyt://article/ccf111b2-e846-564d-8e30-5079852bc1a1', 'nyt://article/18ff1ed8-29d5-5744-bf1b-55b476d31e95', 'nyt://article/946cde5b-2624-5c75-b6fa-5dbeb7eb955e', 'nyt://article/bcb90321-cb0e-53f4-875b-b9f6c9b43d2f', 'nyt://article/8fdc042d-b03e-5ee8-bcc5-4a671d329a9e', 'nyt://article/b6c9af92-650b-561f-a56b-c18ae2e41a84', 'nyt://article/4db5cec2-6809-52f5-aaad-d33c43108051', 'nyt://article/b2958c74-e4d3-5ae1-95c4-ac0af25f46f4', 'nyt://article/b40337c1-5381-5eca-a8a2-158fa9c08770', 'nyt://article/2cc2ae70-ef9d-5795-8e6c-a5e41d51e34f', 'nyt://article/7f0381f6-791f-5431-b63b-e566a37815ee', 'nyt://article/ab5ef75e-172f-5240-9f83-64245831a6e1', 'nyt://article/32c2c004-129d-5455-8271-e976e02329a1', 'nyt://article/61f62670-10dc-5394-9383-d704739a1522', 'nyt://article/c5e51fbc-7460-5d62-9b70-a19dbcd651ae', 'nyt://article/1440de33-3dc0-5009-bf2c-6396b30f92c1', 'nyt://article/191d9390-796d-5aca-8e8c-1e17de61e5bd', 'nyt://article/2c6805fc-a182-581d-8f54-9a8b00abb70b', 'nyt://article/06e77c62-d581-5173-99e0-24f05c7cf839', 'nyt://video/10e305cb-cea1-5643-9fb3-fb960f305711', 'nyt://article/d0660362-9f7f-5688-8542-e2e55ee075e3', 'nyt://article/d22b7dfe-b7c6-5fbc-bd41-d3be58124c1c', 'nyt://article/563d50e8-75b6-5315-be3c-7504aa507c84', 'nyt://interactive/13cc2119-9626-5520-8ca8-a5027ee94d0b', 'nyt://article/d9606ec0-863a-570a-be26-6c5ee1de1503', 'nyt://article/88f6826b-f58d-586d-9c31-2fc019d9371b', 'nyt://article/84093b59-54a2-55a0-b8e4-bb75c4316940', 'nyt://article/40b8fecc-6361-53ce-be57-ed3add783d6a', 'nyt://article/af73ab52-c86b-5f70-9c43-8ac4946bdba1', 'nyt://article/fb2b94cb-9ab5-51c9-b052-5cb795d9ba2d', 'nyt://article/019c3d2b-2a6e-5800-a1e6-8812b9f90db9', 'nyt://interactive/e16aa100-d3c2-5bd5-8fbb-a14f0321a4c1', 'nyt://article/b10c2f31-c5e5-5140-80d7-670dca918b89', 'nyt://article/c68a694e-931e-53d2-8080-405927ee1a0d', 'nyt://article/55456924-7ff1-585c-b62c-d530637bb1f3', 'nyt://article/c6c56cb0-607f-5b2b-9eef-7371adc4156e', 'nyt://article/682f16eb-d66d-5232-a79c-631ee22d3468', 'nyt://article/f9847c11-0fe5-5d48-ad36-72c1f3c8bcf5', 'nyt://article/a52bfb01-a76f-5982-a5fa-bf85dd1d5840', 'nyt://article/66fad98d-dbcc-566e-8950-f822051bb9db', 'nyt://article/91a850c2-be27-5ecd-a5f0-da44a06437aa', 'nyt://article/39db45b5-6f87-5dee-9d1c-817323abd158', 'nyt://video/c0071bd8-2e20-521f-85a0-35140c094d50', 'nyt://article/4333f945-3ab6-5936-a3d8-137ffe851cb2', 'nyt://article/75bf3def-1489-5343-b8a2-8188c4805b5b', 'nyt://article/d21daae3-37f4-5682-ae81-be3f39e59781', 'nyt://article/6296fd9c-3e99-5de4-ad0f-f017a1451220', 'nyt://article/9a0f375e-e06b-5480-9c25-5b668d00df51', 'nyt://article/ab3117c5-2380-5493-b5a2-9a275ffd38e5', 'nyt://article/8f0ea652-6d9b-5c6c-9522-3db174fc9be5', 'nyt://article/04d2ab3b-b1fd-5b38-9f71-58b7edc76244', 'nyt://article/97838863-147e-5077-ae02-40fe93b0db02', 'nyt://article/3b757342-81f4-5c95-a76a-001c1c07ca7a', 'nyt://article/a006f43b-a8cf-53d6-a1dd-3f2fbea7d76d', 'nyt://article/1851f3df-23ef-5c44-8481-bf65daecc582', 'nyt://article/a71c45ee-ea7e-58be-9ddc-21eba0d6e954', 'nyt://article/42739bc6-791c-59bc-803b-93aadb1e52fd', 'nyt://article/d3e0512f-8e27-5d7e-8ff7-a9e38c7d0c11', 'nyt://article/e01a84eb-11c2-51cf-98e9-2ad6f3f1be9d', 'nyt://article/f6bf1f69-340f-5b4d-b568-c7575e99e133', 'nyt://article/9c2e3cef-2d8b-5ccd-b716-a1a9d1b79504', 'nyt://article/cc76088b-2ac3-51fc-8e07-de0545512735', 'nyt://article/e04359f8-2c82-51c1-bd15-327fc1e5c37b', 'nyt://article/a507a2d2-cf1e-54ee-b85a-e7b809e88ba3', 'nyt://article/b03fe540-659b-5a61-80a0-b07305c10b2f', 'nyt://article/c793748e-0157-5dae-9cbb-661b13c2a073', 'nyt://article/6f392570-1cd5-5f5d-85a8-9f97030cbc89', 'nyt://article/e0adf144-deaa-5a56-bcbd-4ac998892e9d', 'nyt://article/135b6598-af3f-5582-8f5c-9cd3407cbdd1', 'nyt://article/a8d862e7-db1e-53d7-8473-bbfc5bfc7c7a', 'nyt://article/28720d7e-accc-5208-9518-b8478a22e249', 'nyt://article/d467af29-9716-518d-bdd5-7f4f1ba31d6f', 'nyt://article/61065cf6-5464-5735-a3f2-f082b23d2ec1', 'nyt://article/c4a1c8f6-0951-537a-9917-ab3ec6448950', 'nyt://article/286ac049-c772-5c54-9ecb-d5bf8da34703', 'nyt://article/f2025426-2f70-5796-ac0b-3e7bc1bc2cb8', 'nyt://article/f1ac3af4-8280-5143-8ccb-dd74a0c97493', 'nyt://article/e9c89d4d-4ee8-541c-a781-9d97668283c9', 'nyt://article/219fe934-cbd5-5249-bb25-2d659bac18c9', 'nyt://article/99cc9f88-7d17-54a5-a77e-4acb0991455f', 'nyt://article/a2d7cbaf-5a67-5756-8291-c3351b2b044b', 'nyt://article/1b1ee0cc-54c3-5570-847f-a960f1d4ff29', 'nyt://article/284af71e-d8ed-5a55-8e58-5116422d90e7', 'nyt://article/b78944e4-7ac2-5bcf-906e-47f522de61a6', 'nyt://article/ac93ad2e-f66a-59ec-b1eb-92f0cd024397', 'nyt://article/716c4323-89cf-504e-ba72-c7c4f0494a8b', 'nyt://article/ed497825-6a09-5373-bcd3-fa291ff33a8a', 'nyt://article/629fa053-f2f2-5fad-ab9d-0115a744ac20', 'nyt://article/6ced898c-dd57-5eaf-972c-346f16102ab9', 'nyt://article/a27600da-45e0-5ebb-9df6-4b4079ae3b74', 'nyt://article/02fec2b2-f742-5ee7-b8cd-928cc00a8441', 'nyt://article/8cb4421b-75db-5343-900d-0c7c8709fc91', 'nyt://article/73926ab4-2594-5938-ab0c-381e1123e5be', 'nyt://article/3fbd8d74-061a-55cd-a675-2d31c5053ec4', 'nyt://article/ed99f6eb-d805-56a3-b908-3ec1e2802ce4', 'nyt://article/b4b9a91a-8feb-5ee0-811a-f009c2e4cccf', 'nyt://article/548487b8-e210-5808-a63c-07f3242248a5', 'nyt://article/a586f56f-385c-525d-be9f-8b6bf1a32acf', 'nyt://article/ac5cffc6-f0b1-5b35-9b3b-dda4e153288b', 'nyt://article/287f1e06-5da5-5061-a820-cb6524fa5ac7', 'nyt://article/4c80be0e-1575-539f-9670-0324837c347a', 'nyt://article/6c0355e2-365b-58cf-bb84-6f729de59580', 'nyt://article/a54e0db5-2443-5446-9575-f90cdcedb89f', 'nyt://article/a48cdc1e-e435-5834-b34e-6222341dff07', 'nyt://article/6471be7e-b829-5ca3-9e49-f4c06e447961', 'nyt://article/f00d3886-887a-59e9-bbe3-69bc1de6f3f8', 'nyt://article/58bbfd2e-c709-5151-b0cf-0c4c5a2d7bd2', 'nyt://article/be7e12d6-c747-5ea5-8fca-14d181da7855', 'nyt://article/8769b51a-4ee0-5613-94d2-e7e6f0026aef', 'nyt://article/b4ef6232-42e9-5415-820f-46fadaca2b5e', 'nyt://article/3e88b788-ddef-55a7-b647-af10ff351d20', 'nyt://article/b6f9d02f-cc0b-577c-86e9-e68abb981d12', 'nyt://article/0faa487c-bae7-5325-a119-69b183b3dc6b', 'nyt://article/adfa7287-da1f-524e-8ddb-db491b1ff2ad', 'nyt://article/7dabb456-eae4-5659-ba12-2099c2e7a1fc', 'nyt://article/a06bd571-fc22-5a3e-8ce8-fb6dbc4c470e', 'nyt://article/61efa0ef-43d3-54ae-8387-66d17e19b8bd', 'nyt://article/fd7ccc7f-d1cd-5948-ab7d-05cd3b9bf7a7', 'nyt://article/7fe988d5-4d0c-56ad-8434-8724b59ef9b7', 'nyt://article/7be6bc52-3ef5-58da-bb70-4699e28fc3d0', 'nyt://article/8ccc4107-d405-580a-ac0b-64752da69da7', 'nyt://article/75d22fcd-bc5f-56db-bf10-ac10f497dbcb', 'nyt://article/0838f786-8fc5-5111-8e03-e33acef83fd8', 'nyt://article/c42b8e1c-437f-55d1-bcd5-431b9b5b0627', 'nyt://article/8dc879df-0bfc-5666-90fc-588dee2a3638', 'nyt://article/3199f725-007b-5cbc-a94f-2197d155c38a', 'nyt://video/1536e7ac-7e55-5e88-8ec6-5c8a9ad763a6', 'nyt://article/6e416859-ff38-56d7-ad2f-ef5c75bebbab', 'nyt://article/4bc286fc-9736-56e1-858a-b8bef8b0ee9d', 'nyt://article/d54bfd74-5e52-5df0-b8a6-f984c9d544f0', 'nyt://article/345a492a-c9b7-5b7a-9270-f002cf42fed2', 'nyt://article/e2d196aa-2350-580a-b8cc-c9396f87248e', 'nyt://article/5153cc0f-6b0d-5c37-b91f-dbce920a3b61', 'nyt://article/0e59c7ca-a406-5631-ba98-7d340bd347b2', 'nyt://article/cbc86042-78c8-5f4e-812c-1c0302b16384', 'nyt://article/d0e6f666-0209-563d-b1b3-f0840b546542', 'nyt://article/e1c88ac9-9b3e-5475-943c-001a379b918f', 'nyt://article/258a4308-8c3d-59d7-85ba-83641279a8a4', 'nyt://article/cfbddb5d-336b-5f30-aa2a-441b127ed632', 'nyt://article/73019f31-df83-5d23-b256-aacac46ceacd', 'nyt://interactive/8f9435ef-f69a-56cc-a4fa-f04640f7a805', 'nyt://article/851e4050-3f81-544d-88b6-e2dffb1ba2ce', 'nyt://article/af94b815-1733-5a51-b019-ff278bb418b4', 'nyt://article/4d6a2d07-d2d1-5b33-95c3-e7aa3da3b8ed', 'nyt://article/7add267a-9f61-5a44-8b1e-2916f9a234e2', 'nyt://article/d90af9eb-6f81-5e73-b782-c67281c5a1a5', 'nyt://article/2bfd58c9-959f-52ab-b12b-351a4f17883a', 'nyt://article/8d0a9878-f71e-520a-b7aa-64441ae0250c', 'nyt://article/877060cb-44c9-553c-999c-2e696d3e53c9', 'nyt://article/351acaec-0e7b-5362-b7e4-c1fdeabc7014', 'nyt://article/6cb22b8a-8896-5c89-a88f-6e53e53dc5de', 'nyt://article/8296a347-f8d2-5f4d-af9e-2963fedef6ec', 'nyt://article/32d643b1-f06d-57b7-80be-0c9738ad33fe', 'nyt://article/873bac51-b0da-57a1-a059-7260762ce205', 'nyt://article/97011b88-4777-5582-91f1-a469adae38f7', 'nyt://article/dd5f537c-27a5-57e6-9ade-481704816c6f', 'nyt://article/3c802324-49de-5028-92d2-0ca1af0932a2', 'nyt://article/60094959-3125-5928-86f6-d031c73e2ccf', 'nyt://article/b49bb0ad-9159-5952-b4b2-072b7cb4a4f1', 'nyt://article/c747a563-86b6-5583-8528-5d5d82c573c5', 'nyt://article/61fff3bd-8fb6-5f9b-8ba4-b6daf3299170', 'nyt://article/84171343-3eb0-589e-ac85-138dd51ca8ba', 'nyt://article/a228b36b-796c-592b-9ab7-4ed1cea5826b', 'nyt://article/7a3d0af7-46a7-5092-820b-8a957b8cec43', 'nyt://article/c5f384df-85d8-5b67-8f92-c7ae8ef0c004', 'nyt://article/e6ecb66a-f025-5221-a090-ea11dea98786', 'nyt://article/c9d04cdb-31e3-5948-bafc-467aa953a74a', 'nyt://article/7016e37c-af00-5b3e-86f1-bf15b2b71f59', 'nyt://article/34e79f21-bf7d-5d33-a62a-877833509ab4', 'nyt://article/0c258820-a70b-52f8-8ba0-f02670346053', 'nyt://article/56660a8e-77b4-5242-80b7-322337cd5888', 'nyt://article/232d4e99-3371-59e7-a1f3-c0995febfc66', 'nyt://interactive/61a8cd1a-d8dc-5483-9ebb-e29b618c2cae', 'nyt://video/a234b14e-eaba-5035-a986-5bebc27953a7', 'nyt://article/545d1b66-37e3-5c49-9d1a-0f9abca8cde3', 'nyt://article/ffdd5d87-4174-5727-ab49-839f53f2d90a', 'nyt://article/183a09a1-0e92-56b4-bb05-695f43089969', 'nyt://article/1020c97b-d1de-5dd0-b714-53d8c7590c31', 'nyt://article/b111efa7-47a6-55d9-95c0-1a8c9cd54442', 'nyt://article/6a9b613b-3619-5b68-a3e9-1852f29d773c', 'nyt://article/4d7af277-d66d-56c7-a70f-0150baf966af', 'nyt://article/02241405-a46e-5af3-b08a-666b2b263aa7', 'nyt://article/7d514c77-18ef-597b-a20f-d20e194df850', 'nyt://article/343c9e95-c0e7-5b0c-8dba-2b51ca5f32bf', 'nyt://article/d90b249d-7098-55b7-ab5b-dd13aed8f76e', 'nyt://article/f452d453-35cc-565d-8ecc-297071189f55', 'nyt://article/ab847e3b-ed41-5663-beb0-210f56cf64f1', 'nyt://article/00753439-a043-526f-9bb6-b39668fd06fb', 'nyt://article/4dbe3302-29ed-5a3a-af15-31b41f3d76ac', 'nyt://article/15b7db31-98e2-5a43-b64a-9fc0186b7c0f', 'nyt://article/c2ec4092-a5b8-5345-9501-36110e8fef6c', 'nyt://article/596327ea-7ac5-59b5-b5be-0c38c62584da', 'nyt://article/4bb7adc3-2ee8-5fef-a9b1-2a2ee9538139', 'nyt://article/86401c64-d2ba-5747-92c8-7c0175d87821', 'nyt://video/7188f5ad-88c2-589b-9e11-d88eb8c11bb3', 'nyt://article/74445b4a-5b7a-5995-8470-ec771ec6469a', 'nyt://article/83fe608f-c719-5ef9-a4f9-23e14d3eb535', 'nyt://article/b1179855-fe4a-503b-9086-32a9d44ba791', 'nyt://article/517a43df-1f77-5a35-ba21-8736571f3ea6', 'nyt://article/8085d672-bff5-5985-b080-2f67ab8ecd50', 'nyt://article/95929c9f-42fb-5d83-892b-6b2c3f5adb1b', 'nyt://article/248d82e0-1cf7-5973-ad27-748d9b4432c3', 'nyt://article/31751e17-e3c6-5a89-aeab-e1a53728a548', 'nyt://article/1c462645-d944-5401-b2df-0441a069b352', 'nyt://article/da758a3f-e4e0-56ee-b855-1f3775a3279c', 'nyt://article/f9d3145b-be4f-5914-b2a0-ceaf06381344', 'nyt://article/de0681c8-2d03-5792-b1f0-2f515eb2040b', 'nyt://article/8be38be7-0d33-5959-94af-8310540cc830', 'nyt://article/969e5ae1-c413-50f8-a98b-62b53213c3c4', 'nyt://article/9fabc97e-f551-5d60-8132-63367b3423b9', 'nyt://article/8c244345-f2f0-5787-aefe-3a3ccf87d6de', 'nyt://article/e3d0958d-c749-5f08-b471-85752d797722', 'nyt://article/2ad7fae2-d535-515d-bdbe-ded9576ce5b0', 'nyt://article/55431065-129a-5d0e-9380-c8bd4ee80114', 'nyt://article/6aec8f9a-25a1-5fd4-ad66-677b08e01547', 'nyt://article/f4f99b54-1dd2-5796-a2e7-0d425327cd5c', 'nyt://article/f305a10a-954c-53c8-af37-1dfd79a417a7', 'nyt://article/894d222a-9f27-511d-8cb1-f4f6bec5a622', 'nyt://article/50ec6138-586d-59ce-b06d-f4f24426d6ae', 'nyt://article/daae620d-7c90-501e-89e8-732f96ae2aa7', 'nyt://article/c65dd3d3-af35-55eb-9ea6-f9965d27749c', 'nyt://article/a5502c91-6bcb-5095-abe5-bcd01dfa65cd', 'nyt://article/e705c3af-0528-5cb2-ac1d-5bd297a38746', 'nyt://article/0da62a81-5bee-53c6-b8db-b1ee5b784f45', 'nyt://article/36ee0edb-21e9-56c9-bb84-09c4415a4516', 'nyt://article/eff54abb-409a-569b-ab20-09c6f8cd09e4', 'nyt://article/2bfa7708-32a5-5b25-ab2c-b2f574b540fe', 'nyt://article/10a922ab-71ab-56ec-be2e-59daf4dfddd2', 'nyt://article/ba97150e-7836-5a51-9bbf-97df6e7e32a9', 'nyt://article/a659b89c-1f89-5794-9801-75559adb658c', 'nyt://article/42597be9-aeec-5324-be97-73a16e728ab3', 'nyt://article/d38ec16d-320c-58a1-b30f-e8888edc00d7', 'nyt://article/a3e00b18-c078-5cfb-b6b4-1b99607225f4', 'nyt://article/75b05547-d2b0-52e1-8113-4184eddf76d7', 'nyt://article/869ee428-006b-5150-8d44-870dd5ad0af1', 'nyt://article/fc82f213-e485-53c0-8afb-f708fa8056b2', 'nyt://article/ee5eb31d-a1a5-5a09-8b26-dc053325846e', 'nyt://article/734ff29b-9a76-5f97-a72f-deb05493d9fd', 'nyt://article/0c590090-ca6f-54c4-ba2b-7c7617059c11', 'nyt://article/5e886c71-fda7-5a85-8850-14deb6d5b4a7', 'nyt://article/720399f2-c1ec-5608-9963-cfaa03abd183', 'nyt://article/605acd7b-fe44-5f1c-a4a8-4b4ef4ef3823', 'nyt://article/a7a59baf-e727-568f-9025-15460e249e9c', 'nyt://article/1be7e761-70fa-5788-b9e1-a48be42af1d9', 'nyt://article/863d7ce7-229f-50f2-abff-2ed220500715', 'nyt://article/d9f90380-e666-5416-98c2-fe4804c72326', 'nyt://article/8abf0099-2722-5517-ad62-48d7498db946', 'nyt://article/0b6f8c3c-f9f8-54d8-8dcf-2eb5c9a6ae1e', 'nyt://article/bf064b84-075b-5cb4-88a7-8b548e0cbafe', 'nyt://article/3224ac0e-0a5e-5f58-b541-e2823968023d', 'nyt://article/cfc94469-30eb-5d0c-b17d-7a96d691ad8b', 'nyt://article/7203a102-2050-5d84-8e01-96f8556bea85', 'nyt://article/7f87ecae-b2e1-543b-b984-18fd9c6d6048', 'nyt://article/51ffd18e-f357-54c1-8510-bc8adb7cd987', 'nyt://article/823c8f74-1337-5413-b6f7-044df212955c', 'nyt://article/6b7c779b-9934-5937-ba83-b6e270087252', 'nyt://article/c6a6f2fb-9ab6-515d-af2f-ff7331d87ea7', 'nyt://article/16ef6b83-2750-52e9-87f0-8a1c548218d6', 'nyt://article/a75b282f-5644-51bf-9d83-492ff67117fe', 'nyt://interactive/1afb7d6c-4f42-5f6c-ab1c-53b5ac9b7270', 'nyt://article/8f468b36-ad60-552b-8063-f7d3c415416e', 'nyt://article/8d7b34a3-3907-57bb-a005-4dd312a2234e', 'nyt://article/ea6220b3-1d93-5c8d-893b-a0da77cc994f', 'nyt://article/826f4ca2-18d7-5820-8fe5-a3ba38a4876a', 'nyt://article/e997b3e9-840b-583f-9aa4-d8b26ed97699', 'nyt://article/5840621c-27d0-5a43-96ef-49036b06c0dd', 'nyt://article/e5f1a5af-9b31-5fcd-9dde-ceff057bfe3c', 'nyt://article/518165b7-13fa-504c-84e5-86b1886bd55c', 'nyt://article/646f1cd5-7b14-5a8e-a9d4-37e72b3f5b62', 'nyt://video/737a072e-de43-5212-be87-dd18fee16933', 'nyt://article/b1dd011c-b326-5120-bef8-6c355f369dbc', 'nyt://article/be0d4c85-b675-58d5-8341-382f7e1b13f1', 'nyt://article/0c14d559-6991-5e0b-87bc-4b214f2a51ac', 'nyt://article/d7c78353-6450-5260-9cc9-845ae9bd8689', 'nyt://article/ccf7b012-7794-53c7-a589-3d5e11cbf2f3', 'nyt://article/476eda79-f327-5c65-ac8e-73f4da4c784d', 'nyt://article/beea6485-21e6-5882-81ea-11bf7161ea31', 'nyt://article/fc6284f7-c327-5d98-9c23-0ec3baee185c', 'nyt://article/f047195f-8d52-5d7d-abcd-ff6058827977', 'nyt://article/8d03418e-917c-50de-a56b-7bea298d8304', 'nyt://article/5fdf5f34-1501-5b45-80f6-14e12305ce83', 'nyt://article/a28e31fd-5931-5ee9-bcfe-35597b84111d', 'nyt://article/b90269f3-1d22-523d-ac51-5d7cc45b6915', 'nyt://article/7843c099-5f7a-5948-bfbe-c2ef4ed1b124', 'nyt://article/b5a25414-f743-597f-920f-7048a72ac073', 'nyt://article/c61740ac-e9e2-5588-8a22-cbab17e8eff2', 'nyt://article/4b92455e-9095-53b7-a64c-0a57daed598a', 'nyt://article/ef5b278e-3bfb-5ced-8749-ca7f6782c354', 'nyt://article/d8eb29b9-e06f-5bba-801e-4404a0ff6acf', 'nyt://article/7e65f179-dcfa-566f-b109-22420ab3c4cd', 'nyt://article/1b6f603e-eeed-551e-be89-6957849e54ba', 'nyt://article/9f67059d-b082-50d8-b809-ebd97db0155f', 'nyt://article/2405c02f-d703-571e-b820-e2ec6c263131', 'nyt://article/c8187867-d8f8-525c-8515-1fdf3f04ed97', 'nyt://article/b40fdf96-6f00-50c2-afd4-806612997188', 'nyt://article/4c89690c-2d88-5666-b3a4-9cccd6ff4cfd', 'nyt://article/5f4c66ff-b081-5604-a318-aa39cacc5dea', 'nyt://article/345ee78c-1013-5ed5-a0c8-c8c6f25db6e2', 'nyt://article/c08f07fa-f86e-5933-8ec8-9753a3235fea', 'nyt://article/a073ef4c-ffa7-5f85-aea5-343aab924774', 'nyt://article/f2ad43ba-f0fb-55b5-9347-b943690f9fed', 'nyt://video/dfe1f9c5-c85d-5d0f-ab61-11f9b085dd26', 'nyt://article/3d786352-fd50-5452-aecd-051b50cbc4df', 'nyt://article/dc5df80e-a064-5216-93ad-27bdd8af366c', 'nyt://article/79584bcd-0b47-5bed-b2b9-eb25c623455b', 'nyt://article/275ed32b-45a7-558b-b062-2f7a88f065a6', 'nyt://article/a07d25af-8a3c-5f41-a307-2d5f27b619a8', 'nyt://article/acd59772-a73c-58e5-8d14-cafc9ab6b797', 'nyt://article/98ad4e94-eacf-5484-a152-aae486fe80bb', 'nyt://article/1fac11e1-c4a3-5ec6-8251-473c2b5bb37b', 'nyt://article/5851579c-f145-59ba-80a5-261a56e5b30e', 'nyt://article/200d1140-6261-57a5-81f8-27518b7b8db2', 'nyt://article/9e5bf3e7-7b8c-53b6-8f95-9b6c42a40bed', 'nyt://article/182bda75-2e80-5263-9b67-1fa1fd1e6006', 'nyt://article/dfbc4919-d236-5316-8cfb-5aabc5ee9230', 'nyt://article/aff52961-1420-59c3-9d68-ae0ca6ed4b35', 'nyt://article/97f19b85-28ff-5a22-bfda-ba0f2ef315e6', 'nyt://article/5d33e287-9470-5b87-8521-e219ea4db49e', 'nyt://article/d31375d3-ba30-5b83-9012-fb988e971431', 'nyt://article/984d6485-1d7c-5329-bbfe-724dcd588d3e', 'nyt://article/104de6fc-7b9c-5768-812a-528967b0758b', 'nyt://article/e8dd346d-fb45-5698-afc2-8d1aca18cab5', 'nyt://article/6b8a033c-bd65-5340-bdca-999521c946f2', 'nyt://article/d2ed2b42-b4fe-5a9d-8778-1c44613d1b48', 'nyt://article/d6e370ea-e210-517e-8794-cf573ea48875', 'nyt://article/471eeced-b2a8-5fbd-905e-9080e21eaa52', 'nyt://article/51bfbabd-96a2-5b97-91dd-0bcceb046e7c', 'nyt://article/17964ebd-aba4-528b-9e7b-fbdef3c374de', 'nyt://article/55105b16-71c2-5e71-af6d-5fb2f3714351', 'nyt://article/25b52c57-7954-516d-8223-aa92964350e9', 'nyt://article/a7bc462c-8c40-51f0-a662-acab3982f339', 'nyt://article/3c5ce7dc-377e-5aad-83c0-ab4a743cb2c4', 'nyt://article/63925b14-71bd-5bd0-961f-1dcab9193f30', 'nyt://article/85018576-13d2-59e3-a528-009d61e9a6c4', 'nyt://article/a91e5a26-c9bb-5e01-9dbc-f490fc526377', 'nyt://article/83ed6c3e-b9d1-5445-9f67-fa03f51b1f10', 'nyt://article/9cc43891-0caa-540c-8112-e27105587d64', 'nyt://article/1f7f508f-894e-572c-b24d-51dc2b5747a7', 'nyt://article/75ca1604-3a00-568f-9227-48637db93063', 'nyt://article/8746372b-beb9-5dd8-a4b3-7db7583c3297', 'nyt://interactive/f5852d85-975f-54af-9422-2db447002184', 'nyt://article/90f3d6fe-145c-5b8e-9d98-c5e1d31f3dc7', 'nyt://article/2faa2e32-34d5-59ce-b2a1-061c40d4033d', 'nyt://article/f3252c4d-6b07-5f53-b948-574d1aeb4a86', 'nyt://article/23a6bcb1-85a4-51d0-b972-847fd8758b21', 'nyt://article/ef47a80e-94bc-5c36-8d44-8d4224ce92b2', 'nyt://article/2ee0365b-7aa9-53ce-91f9-9cdc061bf0cc', 'nyt://article/743e718a-3860-54b6-a40b-a316fc63676c', 'nyt://article/af6f333f-6d43-5d87-9548-a63cd0aa8ddd', 'nyt://article/1e1b6bcf-91f9-5c42-90f9-f6bb4ba55f41', 'nyt://article/32f2edb5-db2c-56f9-b805-7f5ceb1f8be9', 'nyt://article/6f0b4899-5496-5ea7-998c-3e774ec0be9a', 'nyt://article/0e335aca-12fd-510c-86c8-a5fde981ba37', 'nyt://article/b7b3956f-677c-5faa-8b5e-9ea8cfc29b18', 'nyt://article/74351aa3-48dc-5660-a635-a15c038c6bef', 'nyt://article/a1699658-9baa-5853-9904-c2ded7ca15c7', 'nyt://article/1584dffb-c4ad-5dd8-9f5d-d31f54e174db', 'nyt://article/b3f731f4-35e9-5de2-9ae0-f4856b37045a', 'nyt://article/43ec198a-0583-5da7-b5fd-7b4718dd56c7', 'nyt://article/78f02290-831e-54c0-a29c-218dc218387e', 'nyt://article/1a2e93cf-893b-578d-81af-1c53b92ff663', 'nyt://article/56dd1f22-4dc6-5c18-bccc-53d2b1c35c74', 'nyt://article/9ea127d2-33a7-58e0-8dee-aeafaf566305', 'nyt://article/47667e04-e3a8-5c2e-856f-2b29dfa087e9', 'nyt://interactive/91d165d6-83c8-523e-b48a-f3cea04659a3', 'nyt://article/4b02bd92-7924-5305-89a2-7ba769c9768f', 'nyt://article/f0b7b0ae-927a-580b-b7a1-624ce65a4cca', 'nyt://article/9e3c1108-a8f0-5278-b5d3-404b4219a201', 'nyt://article/5c741421-8ab2-564c-81d3-4034f264ceb0', 'nyt://article/03c76cb3-912d-5961-80e8-b2d2f78e5eee', 'nyt://article/15588b82-5746-5947-8018-265237015ce2', 'nyt://video/5feaee04-e1c3-5ba4-82e7-97ad2972b5db', 'nyt://article/2de79d0a-09ed-58b9-a408-8ccc82b036ed', 'nyt://article/0dc017e5-7fcd-5d0e-b903-3f35f851b824', 'nyt://article/eed4f410-a012-51ea-84c2-eb7a11a7c0c2', 'nyt://article/a2e2ca95-427b-5926-bc80-e0f9229bb5c8', 'nyt://article/19d29e66-47c6-549d-bff7-86f8cdec1be0', 'nyt://article/f77eea6e-9e4d-5910-9f66-49f09fd9b59f', 'nyt://article/1fe3833c-de0c-5dd0-9127-e5d8bb3363fe', 'nyt://article/7fe6bc61-6970-523f-941c-f294a9a6734f', 'nyt://article/231e9767-b4bc-52ca-b8f8-6f5cc42fcf05', 'nyt://article/7470440f-b4a1-5893-8bf6-539f33510d73', 'nyt://article/e4ac1574-8f5b-50e0-b417-180c2c0b43a3', 'nyt://article/3b6fbc1b-5d55-53fb-940b-b76fb9fea7ad', 'nyt://article/2597c27a-2e10-588e-a67b-6741f4140791', 'nyt://article/0dc56333-04dc-52d9-ba59-1311364542b9', 'nyt://article/e7ea5190-31db-577a-8d87-f5cf716d65b9', 'nyt://article/3b20ab95-080e-5d5e-bfad-038b57acc45b', 'nyt://article/a5eb8fcd-7f76-52f4-89bd-afc1378b4025', 'nyt://article/08c8698c-7aac-5829-a833-29f02213113b', 'nyt://article/b2ee80db-ffae-5c07-8246-52c8cad1f2eb', 'nyt://article/da1c72c3-243d-5250-8ed1-cd76540dc263', 'nyt://article/6107f746-7842-581a-8aeb-ce108deb679d', 'nyt://article/bc85dd55-af86-5b73-9c20-4290c2871fd1', 'nyt://interactive/63331587-3ed3-55c1-8475-7612b1f63f8a', 'nyt://article/c02952cb-609d-5001-837f-c04cc476b681', 'nyt://article/33f4151f-8309-534a-b98a-aed4da16b569', 'nyt://article/96087abf-6837-5cd3-b669-8c7d1b4f3e68', 'nyt://article/df9ad2bf-2239-507a-96e1-cd96edfa75c3', 'nyt://article/5dac2435-067c-56f2-86a9-5a60a210d9ac', 'nyt://article/3927f4ba-d03d-5fea-88b8-02384a9612a8', 'nyt://article/e7104707-45cc-54d8-b02c-5d378afe5c11', 'nyt://article/1c2be249-dc47-5a7d-9053-4e62b4c4d3b4', 'nyt://article/f0ac8084-e4c6-5000-958d-c0b5acf4728d', 'nyt://article/e9bff2b1-2037-5400-91f3-e8ccd0526d8f', 'nyt://article/11e1a810-c0ec-5e0d-9c7c-9e22c8f37863', 'nyt://article/6f990b5d-0d79-5ac3-b12c-067acb727925', 'nyt://article/b2e70bec-e0f1-579c-a0ca-e0eda5f1c2d2', 'nyt://article/e8f5fe70-0f90-5996-99c1-007da14144a4', 'nyt://article/f553c956-8e2e-545d-a485-4c05ea33c20b', 'nyt://article/aba101ee-b370-5aa5-bc83-d9e347daa2de', 'nyt://article/1b69b757-0a9e-5d26-bf2d-34b2b09dca5e', 'nyt://article/ff9d875c-9078-5afb-9bf2-4cfaf70b8797', 'nyt://article/7b780c20-ca56-50aa-9bed-1a382f0788c7', 'nyt://article/5bf6230d-699f-5170-b038-242935c70728', 'nyt://video/1ffec11b-4b73-5805-a4fc-5ccf4bdf8337', 'nyt://article/7fb786fc-8a5f-5b43-851a-003e1c0ec6f6', 'nyt://article/56885f0e-d310-5ad3-bc76-c2af312dc432', 'nyt://article/c36771af-a6d7-5c6d-9947-772def83cf6a', 'nyt://article/b0968d46-24a2-5ec1-a33c-8abc9281d1fb', 'nyt://article/6d71b2af-2a79-51bb-8179-3d4b6fd19877', 'nyt://article/2831de7d-e312-5c50-9bd5-ae3f29ded103', 'nyt://article/366e533e-c140-5293-bffc-2e4f8b992b6e', 'nyt://article/cd227921-bb0a-57d3-b2c2-071df629ccad', 'nyt://article/8f540855-3f51-5e31-ba80-c6edb7146b1e', 'nyt://article/192b0400-169d-5224-bc25-57028ace21d3', 'nyt://article/61b81a48-2c7b-5994-b647-7591cc262b6f', 'nyt://article/63d78256-7141-57e3-a68b-d505a4f59337', 'nyt://article/f21e09e2-0008-5367-bf66-65f921e584e8', 'nyt://article/dc9a72e3-4f1c-5e2c-adb2-835e246642ac', 'nyt://article/47b987ad-b236-5750-bfd4-1fa2878c2c64', 'nyt://article/2e805465-894e-5582-8154-802be39d1693', 'nyt://article/3a4db45c-4ad9-54ce-9010-47b76558260f', 'nyt://article/c3e65f2e-f23e-53fb-92ef-e02dfc5003f2', 'nyt://article/f831eb7b-3d2e-554b-ac3c-42087bc8b7a8', 'nyt://article/2de071a5-f7ac-5d75-8428-6222ef66f3da', 'nyt://article/a2e50cd3-24a5-50a5-a9e2-d7514ed8e174', 'nyt://article/0b89ab40-3c09-5187-8bd9-51420f4bb67b', 'nyt://article/b7c8882a-aca7-5417-9b51-11fbd6ea6c8f', 'nyt://article/eed8f880-891a-5ed0-b46b-1387f9deae63', 'nyt://article/2ab5b8b0-2320-5641-8c91-bde845aa4a68', 'nyt://article/db9bd694-eeef-5b7c-90d2-339096f5e59d']",
         "1111",
         null,
         "5.9779391982781815",
         "Asia",
         "NYT",
         "1111"
        ]
       ],
       "shape": {
        "columns": 8,
        "rows": 236
       }
      },
      "text/html": [
       "<div>\n",
       "<style scoped>\n",
       "    .dataframe tbody tr th:only-of-type {\n",
       "        vertical-align: middle;\n",
       "    }\n",
       "\n",
       "    .dataframe tbody tr th {\n",
       "        vertical-align: top;\n",
       "    }\n",
       "\n",
       "    .dataframe thead th {\n",
       "        text-align: right;\n",
       "    }\n",
       "</style>\n",
       "<table border=\"1\" class=\"dataframe\">\n",
       "  <thead>\n",
       "    <tr style=\"text-align: right;\">\n",
       "      <th></th>\n",
       "      <th>country</th>\n",
       "      <th>ids_of_articles</th>\n",
       "      <th>count_of_articles</th>\n",
       "      <th>iso_alpha3</th>\n",
       "      <th>perc_of_coverage</th>\n",
       "      <th>Region</th>\n",
       "      <th>outlet</th>\n",
       "      <th>count</th>\n",
       "    </tr>\n",
       "  </thead>\n",
       "  <tbody>\n",
       "    <tr>\n",
       "      <th>0</th>\n",
       "      <td>Adriatic Sea</td>\n",
       "      <td>['nyt://article/6c5919fe-452a-532d-8234-f698a3...</td>\n",
       "      <td>1</td>\n",
       "      <td>NaN</td>\n",
       "      <td>0.005381</td>\n",
       "      <td>Europe</td>\n",
       "      <td>NYT</td>\n",
       "      <td>1</td>\n",
       "    </tr>\n",
       "    <tr>\n",
       "      <th>1</th>\n",
       "      <td>Aegean Sea</td>\n",
       "      <td>['nyt://interactive/6addaf57-b7fa-5d0f-af24-ec...</td>\n",
       "      <td>3</td>\n",
       "      <td>NaN</td>\n",
       "      <td>0.016142</td>\n",
       "      <td>Europe</td>\n",
       "      <td>NYT</td>\n",
       "      <td>3</td>\n",
       "    </tr>\n",
       "    <tr>\n",
       "      <th>2</th>\n",
       "      <td>Afghanistan</td>\n",
       "      <td>['nyt://article/1bf3d7c8-419e-52d7-a720-c4e054...</td>\n",
       "      <td>112</td>\n",
       "      <td>NaN</td>\n",
       "      <td>0.602637</td>\n",
       "      <td>Asia</td>\n",
       "      <td>NYT</td>\n",
       "      <td>112</td>\n",
       "    </tr>\n",
       "    <tr>\n",
       "      <th>3</th>\n",
       "      <td>Africa</td>\n",
       "      <td>['nyt://article/34e514ce-6ebc-58f1-bf4b-d750ea...</td>\n",
       "      <td>201</td>\n",
       "      <td>NaN</td>\n",
       "      <td>1.081517</td>\n",
       "      <td>Africa</td>\n",
       "      <td>NYT</td>\n",
       "      <td>201</td>\n",
       "    </tr>\n",
       "    <tr>\n",
       "      <th>4</th>\n",
       "      <td>Albania</td>\n",
       "      <td>['nyt://article/59eb4293-7d0a-558f-9c26-d85c3f...</td>\n",
       "      <td>23</td>\n",
       "      <td>NaN</td>\n",
       "      <td>0.123756</td>\n",
       "      <td>Europe</td>\n",
       "      <td>NYT</td>\n",
       "      <td>23</td>\n",
       "    </tr>\n",
       "    <tr>\n",
       "      <th>...</th>\n",
       "      <td>...</td>\n",
       "      <td>...</td>\n",
       "      <td>...</td>\n",
       "      <td>...</td>\n",
       "      <td>...</td>\n",
       "      <td>...</td>\n",
       "      <td>...</td>\n",
       "      <td>...</td>\n",
       "    </tr>\n",
       "    <tr>\n",
       "      <th>240</th>\n",
       "      <td>Vietnam</td>\n",
       "      <td>['nyt://article/670e1dfd-7217-5337-a5b8-0b7a7d...</td>\n",
       "      <td>52</td>\n",
       "      <td>NaN</td>\n",
       "      <td>0.279796</td>\n",
       "      <td>Asia</td>\n",
       "      <td>NYT</td>\n",
       "      <td>52</td>\n",
       "    </tr>\n",
       "    <tr>\n",
       "      <th>241</th>\n",
       "      <td>Yellow Sea</td>\n",
       "      <td>['nyt://article/593fcdd3-0e07-58b1-9a5d-eec8cd...</td>\n",
       "      <td>1</td>\n",
       "      <td>NaN</td>\n",
       "      <td>0.005381</td>\n",
       "      <td>Asia</td>\n",
       "      <td>NYT</td>\n",
       "      <td>1</td>\n",
       "    </tr>\n",
       "    <tr>\n",
       "      <th>242</th>\n",
       "      <td>Yemen</td>\n",
       "      <td>['nyt://article/083f2303-65dd-5db5-b970-cf1755...</td>\n",
       "      <td>73</td>\n",
       "      <td>NaN</td>\n",
       "      <td>0.392790</td>\n",
       "      <td>Asia</td>\n",
       "      <td>NYT</td>\n",
       "      <td>73</td>\n",
       "    </tr>\n",
       "    <tr>\n",
       "      <th>243</th>\n",
       "      <td>Zambia</td>\n",
       "      <td>['nyt://article/ce946de8-b1a7-58a9-9235-321a9b...</td>\n",
       "      <td>13</td>\n",
       "      <td>NaN</td>\n",
       "      <td>0.069949</td>\n",
       "      <td>Africa</td>\n",
       "      <td>NYT</td>\n",
       "      <td>13</td>\n",
       "    </tr>\n",
       "    <tr>\n",
       "      <th>244</th>\n",
       "      <td>Zimbabwe</td>\n",
       "      <td>['nyt://article/a4cb0e12-50fd-5a76-9971-741961...</td>\n",
       "      <td>3</td>\n",
       "      <td>NaN</td>\n",
       "      <td>0.016142</td>\n",
       "      <td>Africa</td>\n",
       "      <td>NYT</td>\n",
       "      <td>3</td>\n",
       "    </tr>\n",
       "  </tbody>\n",
       "</table>\n",
       "<p>236 rows × 8 columns</p>\n",
       "</div>"
      ],
      "text/plain": [
       "          country                                    ids_of_articles  \\\n",
       "0    Adriatic Sea  ['nyt://article/6c5919fe-452a-532d-8234-f698a3...   \n",
       "1      Aegean Sea  ['nyt://interactive/6addaf57-b7fa-5d0f-af24-ec...   \n",
       "2     Afghanistan  ['nyt://article/1bf3d7c8-419e-52d7-a720-c4e054...   \n",
       "3          Africa  ['nyt://article/34e514ce-6ebc-58f1-bf4b-d750ea...   \n",
       "4         Albania  ['nyt://article/59eb4293-7d0a-558f-9c26-d85c3f...   \n",
       "..            ...                                                ...   \n",
       "240       Vietnam  ['nyt://article/670e1dfd-7217-5337-a5b8-0b7a7d...   \n",
       "241    Yellow Sea  ['nyt://article/593fcdd3-0e07-58b1-9a5d-eec8cd...   \n",
       "242         Yemen  ['nyt://article/083f2303-65dd-5db5-b970-cf1755...   \n",
       "243        Zambia  ['nyt://article/ce946de8-b1a7-58a9-9235-321a9b...   \n",
       "244      Zimbabwe  ['nyt://article/a4cb0e12-50fd-5a76-9971-741961...   \n",
       "\n",
       "     count_of_articles iso_alpha3  perc_of_coverage  Region outlet  count  \n",
       "0                    1        NaN          0.005381  Europe    NYT      1  \n",
       "1                    3        NaN          0.016142  Europe    NYT      3  \n",
       "2                  112        NaN          0.602637    Asia    NYT    112  \n",
       "3                  201        NaN          1.081517  Africa    NYT    201  \n",
       "4                   23        NaN          0.123756  Europe    NYT     23  \n",
       "..                 ...        ...               ...     ...    ...    ...  \n",
       "240                 52        NaN          0.279796    Asia    NYT     52  \n",
       "241                  1        NaN          0.005381    Asia    NYT      1  \n",
       "242                 73        NaN          0.392790    Asia    NYT     73  \n",
       "243                 13        NaN          0.069949  Africa    NYT     13  \n",
       "244                  3        NaN          0.016142  Africa    NYT      3  \n",
       "\n",
       "[236 rows x 8 columns]"
      ]
     },
     "execution_count": 464,
     "metadata": {},
     "output_type": "execute_result"
    }
   ],
   "source": [
    "regions_nyt"
   ]
  },
  {
   "cell_type": "code",
   "execution_count": 475,
   "metadata": {},
   "outputs": [
    {
     "data": {
      "application/vnd.microsoft.datawrangler.viewer.v0+json": {
       "columns": [
        {
         "name": "index",
         "rawType": "int64",
         "type": "integer"
        },
        {
         "name": "country",
         "rawType": "object",
         "type": "string"
        },
        {
         "name": "count",
         "rawType": "int64",
         "type": "integer"
        },
        {
         "name": "Region",
         "rawType": "object",
         "type": "unknown"
        },
        {
         "name": "outlet",
         "rawType": "object",
         "type": "string"
        }
       ],
       "conversionMethod": "pd.DataFrame",
       "ref": "beaa7dde-d893-4c64-b3e1-911a002619f8",
       "rows": [
        [
         "0",
         "Adriatic Sea",
         "1",
         "Europe",
         "NYT"
        ],
        [
         "1",
         "Aegean Sea",
         "3",
         "Europe",
         "NYT"
        ],
        [
         "2",
         "Afghanistan",
         "112",
         "Asia",
         "NYT"
        ],
        [
         "3",
         "Africa",
         "201",
         "Africa",
         "NYT"
        ],
        [
         "4",
         "Albania",
         "23",
         "Europe",
         "NYT"
        ],
        [
         "5",
         "Algeria",
         "12",
         "Africa",
         "NYT"
        ],
        [
         "6",
         "Andorra",
         "1",
         "Europe",
         "NYT"
        ],
        [
         "7",
         "Angola",
         "10",
         "Africa",
         "NYT"
        ],
        [
         "8",
         "Anguilla",
         "1",
         "North America",
         "NYT"
        ],
        [
         "9",
         "Antarctica",
         "1",
         "Antarctica",
         "NYT"
        ],
        [
         "10",
         "Antigua and Barbuda",
         "3",
         "North America",
         "NYT"
        ],
        [
         "11",
         "Argentina",
         "40",
         "South America",
         "NYT"
        ],
        [
         "12",
         "Armenia",
         "7",
         "Asia",
         "NYT"
        ],
        [
         "13",
         "Atlantic Ocean",
         "25",
         "Other",
         "NYT"
        ],
        [
         "14",
         "Australia",
         "193",
         "Oceania",
         "NYT"
        ],
        [
         "15",
         "Austria",
         "51",
         "Europe",
         "NYT"
        ],
        [
         "16",
         "Azerbaijan",
         "47",
         "Asia",
         "NYT"
        ],
        [
         "17",
         "Bahamas",
         "11",
         "North America",
         "NYT"
        ],
        [
         "18",
         "Bahrain",
         "3",
         "Asia",
         "NYT"
        ],
        [
         "19",
         "Baltic Sea",
         "15",
         "Europe",
         "NYT"
        ],
        [
         "20",
         "Bangladesh",
         "62",
         "Asia",
         "NYT"
        ],
        [
         "21",
         "Barbados",
         "7",
         "North America",
         "NYT"
        ],
        [
         "22",
         "Bay of Bengal",
         "1",
         "Asia",
         "NYT"
        ],
        [
         "23",
         "Bay of Campeche",
         "1",
         "North America",
         "NYT"
        ],
        [
         "24",
         "Belarus",
         "22",
         "Europe",
         "NYT"
        ],
        [
         "25",
         "Belgium",
         "50",
         "Europe",
         "NYT"
        ],
        [
         "26",
         "Belize",
         "5",
         "North America",
         "NYT"
        ],
        [
         "28",
         "Benin",
         "3",
         "Africa",
         "NYT"
        ],
        [
         "29",
         "Bering Sea",
         "3",
         "Other",
         "NYT"
        ],
        [
         "30",
         "Bermuda",
         "1",
         "North America",
         "NYT"
        ],
        [
         "31",
         "Bhutan",
         "5",
         "Asia",
         "NYT"
        ],
        [
         "32",
         "Black Sea",
         "10",
         "Other",
         "NYT"
        ],
        [
         "33",
         "Bolivia",
         "7",
         "South America",
         "NYT"
        ],
        [
         "34",
         "Bosnia and Herzegovina",
         "9",
         "Europe",
         "NYT"
        ],
        [
         "35",
         "Botswana",
         "6",
         "Africa",
         "NYT"
        ],
        [
         "36",
         "Brazil",
         "205",
         "South America",
         "NYT"
        ],
        [
         "37",
         "British Indian Ocean Territory",
         "3",
         "Asia",
         "NYT"
        ],
        [
         "38",
         "Bulgaria",
         "13",
         "Europe",
         "NYT"
        ],
        [
         "39",
         "Burkina Faso",
         "8",
         "Africa",
         "NYT"
        ],
        [
         "40",
         "Burundi",
         "2",
         "Africa",
         "NYT"
        ],
        [
         "41",
         "Cambodia",
         "24",
         "Asia",
         "NYT"
        ],
        [
         "42",
         "Cameroon",
         "6",
         "Africa",
         "NYT"
        ],
        [
         "43",
         "Canada",
         "530",
         "North America",
         "NYT"
        ],
        [
         "44",
         "Cape Verde",
         "2",
         "Africa",
         "NYT"
        ],
        [
         "45",
         "Caspian Sea",
         "2",
         "Other",
         "NYT"
        ],
        [
         "46",
         "Cayman Islands",
         "6",
         "North America",
         "NYT"
        ],
        [
         "47",
         "Central African Republic",
         "1",
         "Africa",
         "NYT"
        ],
        [
         "48",
         "Chad",
         "23",
         "Africa",
         "NYT"
        ],
        [
         "49",
         "Chile",
         "21",
         "South America",
         "NYT"
        ],
        [
         "50",
         "China",
         "1111",
         "Asia",
         "NYT"
        ]
       ],
       "shape": {
        "columns": 4,
        "rows": 236
       }
      },
      "text/html": [
       "<div>\n",
       "<style scoped>\n",
       "    .dataframe tbody tr th:only-of-type {\n",
       "        vertical-align: middle;\n",
       "    }\n",
       "\n",
       "    .dataframe tbody tr th {\n",
       "        vertical-align: top;\n",
       "    }\n",
       "\n",
       "    .dataframe thead th {\n",
       "        text-align: right;\n",
       "    }\n",
       "</style>\n",
       "<table border=\"1\" class=\"dataframe\">\n",
       "  <thead>\n",
       "    <tr style=\"text-align: right;\">\n",
       "      <th></th>\n",
       "      <th>country</th>\n",
       "      <th>count</th>\n",
       "      <th>Region</th>\n",
       "      <th>outlet</th>\n",
       "    </tr>\n",
       "  </thead>\n",
       "  <tbody>\n",
       "    <tr>\n",
       "      <th>0</th>\n",
       "      <td>Adriatic Sea</td>\n",
       "      <td>1</td>\n",
       "      <td>Europe</td>\n",
       "      <td>NYT</td>\n",
       "    </tr>\n",
       "    <tr>\n",
       "      <th>1</th>\n",
       "      <td>Aegean Sea</td>\n",
       "      <td>3</td>\n",
       "      <td>Europe</td>\n",
       "      <td>NYT</td>\n",
       "    </tr>\n",
       "    <tr>\n",
       "      <th>2</th>\n",
       "      <td>Afghanistan</td>\n",
       "      <td>112</td>\n",
       "      <td>Asia</td>\n",
       "      <td>NYT</td>\n",
       "    </tr>\n",
       "    <tr>\n",
       "      <th>3</th>\n",
       "      <td>Africa</td>\n",
       "      <td>201</td>\n",
       "      <td>Africa</td>\n",
       "      <td>NYT</td>\n",
       "    </tr>\n",
       "    <tr>\n",
       "      <th>4</th>\n",
       "      <td>Albania</td>\n",
       "      <td>23</td>\n",
       "      <td>Europe</td>\n",
       "      <td>NYT</td>\n",
       "    </tr>\n",
       "    <tr>\n",
       "      <th>...</th>\n",
       "      <td>...</td>\n",
       "      <td>...</td>\n",
       "      <td>...</td>\n",
       "      <td>...</td>\n",
       "    </tr>\n",
       "    <tr>\n",
       "      <th>240</th>\n",
       "      <td>Vietnam</td>\n",
       "      <td>52</td>\n",
       "      <td>Asia</td>\n",
       "      <td>NYT</td>\n",
       "    </tr>\n",
       "    <tr>\n",
       "      <th>241</th>\n",
       "      <td>Yellow Sea</td>\n",
       "      <td>1</td>\n",
       "      <td>Asia</td>\n",
       "      <td>NYT</td>\n",
       "    </tr>\n",
       "    <tr>\n",
       "      <th>242</th>\n",
       "      <td>Yemen</td>\n",
       "      <td>73</td>\n",
       "      <td>Asia</td>\n",
       "      <td>NYT</td>\n",
       "    </tr>\n",
       "    <tr>\n",
       "      <th>243</th>\n",
       "      <td>Zambia</td>\n",
       "      <td>13</td>\n",
       "      <td>Africa</td>\n",
       "      <td>NYT</td>\n",
       "    </tr>\n",
       "    <tr>\n",
       "      <th>244</th>\n",
       "      <td>Zimbabwe</td>\n",
       "      <td>3</td>\n",
       "      <td>Africa</td>\n",
       "      <td>NYT</td>\n",
       "    </tr>\n",
       "  </tbody>\n",
       "</table>\n",
       "<p>236 rows × 4 columns</p>\n",
       "</div>"
      ],
      "text/plain": [
       "          country  count  Region outlet\n",
       "0    Adriatic Sea      1  Europe    NYT\n",
       "1      Aegean Sea      3  Europe    NYT\n",
       "2     Afghanistan    112    Asia    NYT\n",
       "3          Africa    201  Africa    NYT\n",
       "4         Albania     23  Europe    NYT\n",
       "..            ...    ...     ...    ...\n",
       "240       Vietnam     52    Asia    NYT\n",
       "241    Yellow Sea      1    Asia    NYT\n",
       "242         Yemen     73    Asia    NYT\n",
       "243        Zambia     13  Africa    NYT\n",
       "244      Zimbabwe      3  Africa    NYT\n",
       "\n",
       "[236 rows x 4 columns]"
      ]
     },
     "execution_count": 475,
     "metadata": {},
     "output_type": "execute_result"
    }
   ],
   "source": [
    "regions_nyt"
   ]
  },
  {
   "cell_type": "code",
   "execution_count": 491,
   "metadata": {},
   "outputs": [
    {
     "data": {
      "application/vnd.microsoft.datawrangler.viewer.v0+json": {
       "columns": [
        {
         "name": "index",
         "rawType": "int64",
         "type": "integer"
        },
        {
         "name": "Region",
         "rawType": "object",
         "type": "string"
        },
        {
         "name": "count",
         "rawType": "int64",
         "type": "integer"
        },
        {
         "name": "percentage",
         "rawType": "float64",
         "type": "float"
        }
       ],
       "conversionMethod": "pd.DataFrame",
       "ref": "e6010377-1dd6-42fa-acc0-b73783b3b14f",
       "rows": [
        [
         "0",
         "Africa",
         "962",
         "5.192702148332074"
        ],
        [
         "1",
         "Antarctica",
         "4",
         "0.021591277124041887"
        ],
        [
         "2",
         "Asia",
         "8647",
         "46.67494332289755"
        ],
        [
         "3",
         "Europe",
         "6328",
         "34.15740041023427"
        ],
        [
         "4",
         "North America",
         "1609",
         "8.68509122314585"
        ],
        [
         "5",
         "Oceania",
         "293",
         "1.5815610493360683"
        ],
        [
         "6",
         "Other",
         "90",
         "0.48580373529094245"
        ],
        [
         "7",
         "South America",
         "593",
         "3.2009068336392095"
        ]
       ],
       "shape": {
        "columns": 3,
        "rows": 8
       }
      },
      "text/html": [
       "<div>\n",
       "<style scoped>\n",
       "    .dataframe tbody tr th:only-of-type {\n",
       "        vertical-align: middle;\n",
       "    }\n",
       "\n",
       "    .dataframe tbody tr th {\n",
       "        vertical-align: top;\n",
       "    }\n",
       "\n",
       "    .dataframe thead th {\n",
       "        text-align: right;\n",
       "    }\n",
       "</style>\n",
       "<table border=\"1\" class=\"dataframe\">\n",
       "  <thead>\n",
       "    <tr style=\"text-align: right;\">\n",
       "      <th></th>\n",
       "      <th>Region</th>\n",
       "      <th>count</th>\n",
       "      <th>percentage</th>\n",
       "    </tr>\n",
       "  </thead>\n",
       "  <tbody>\n",
       "    <tr>\n",
       "      <th>0</th>\n",
       "      <td>Africa</td>\n",
       "      <td>962</td>\n",
       "      <td>5.192702</td>\n",
       "    </tr>\n",
       "    <tr>\n",
       "      <th>1</th>\n",
       "      <td>Antarctica</td>\n",
       "      <td>4</td>\n",
       "      <td>0.021591</td>\n",
       "    </tr>\n",
       "    <tr>\n",
       "      <th>2</th>\n",
       "      <td>Asia</td>\n",
       "      <td>8647</td>\n",
       "      <td>46.674943</td>\n",
       "    </tr>\n",
       "    <tr>\n",
       "      <th>3</th>\n",
       "      <td>Europe</td>\n",
       "      <td>6328</td>\n",
       "      <td>34.157400</td>\n",
       "    </tr>\n",
       "    <tr>\n",
       "      <th>4</th>\n",
       "      <td>North America</td>\n",
       "      <td>1609</td>\n",
       "      <td>8.685091</td>\n",
       "    </tr>\n",
       "    <tr>\n",
       "      <th>5</th>\n",
       "      <td>Oceania</td>\n",
       "      <td>293</td>\n",
       "      <td>1.581561</td>\n",
       "    </tr>\n",
       "    <tr>\n",
       "      <th>6</th>\n",
       "      <td>Other</td>\n",
       "      <td>90</td>\n",
       "      <td>0.485804</td>\n",
       "    </tr>\n",
       "    <tr>\n",
       "      <th>7</th>\n",
       "      <td>South America</td>\n",
       "      <td>593</td>\n",
       "      <td>3.200907</td>\n",
       "    </tr>\n",
       "  </tbody>\n",
       "</table>\n",
       "</div>"
      ],
      "text/plain": [
       "          Region  count  percentage\n",
       "0         Africa    962    5.192702\n",
       "1     Antarctica      4    0.021591\n",
       "2           Asia   8647   46.674943\n",
       "3         Europe   6328   34.157400\n",
       "4  North America   1609    8.685091\n",
       "5        Oceania    293    1.581561\n",
       "6          Other     90    0.485804\n",
       "7  South America    593    3.200907"
      ]
     },
     "execution_count": 491,
     "metadata": {},
     "output_type": "execute_result"
    }
   ],
   "source": [
    "region_summary = regions_nyt.groupby('Region')['count'].sum().reset_index()\n",
    "region_summary['percentage'] = (region_summary['count'] / region_summary['count'].sum()) * 100\n",
    "region_summary"
   ]
  },
  {
   "cell_type": "code",
   "execution_count": 476,
   "metadata": {},
   "outputs": [],
   "source": [
    "regions_nyt = regions_nyt[['country', \"count\", 'Region', 'outlet']]"
   ]
  },
  {
   "cell_type": "code",
   "execution_count": 477,
   "metadata": {},
   "outputs": [
    {
     "data": {
      "text/plain": [
       "Index(['country', 'count', 'Region', 'outlet'], dtype='object')"
      ]
     },
     "execution_count": 477,
     "metadata": {},
     "output_type": "execute_result"
    }
   ],
   "source": [
    "regions_nyt.columns"
   ]
  },
  {
   "cell_type": "code",
   "execution_count": 479,
   "metadata": {},
   "outputs": [
    {
     "data": {
      "text/plain": [
       "236"
      ]
     },
     "execution_count": 479,
     "metadata": {},
     "output_type": "execute_result"
    }
   ],
   "source": [
    "len(regions_nyt)"
   ]
  },
  {
   "cell_type": "code",
   "execution_count": 478,
   "metadata": {},
   "outputs": [
    {
     "data": {
      "text/plain": [
       "Index(['country', 'iso_alpha3', 'middle_point', 'count',\n",
       "       'count_of_articles_zeit', 'count_of_articles_nyt', 'Region', 'outlet'],\n",
       "      dtype='object')"
      ]
     },
     "execution_count": 478,
     "metadata": {},
     "output_type": "execute_result"
    }
   ],
   "source": [
    "regions_zeit.columns"
   ]
  },
  {
   "cell_type": "code",
   "execution_count": null,
   "metadata": {},
   "outputs": [],
   "source": [
    "coverage_by_outlet_and_region = pd.concat([regions_zeit, regions_nyt])"
   ]
  },
  {
   "cell_type": "markdown",
   "metadata": {},
   "source": [
    "### Create a nested JSON for Voronoi"
   ]
  },
  {
   "cell_type": "code",
   "execution_count": 480,
   "metadata": {},
   "outputs": [],
   "source": [
    "out = regions_nyt.groupby([\"outlet\",\"Region\"])[['country', 'count']].apply(lambda x: x.to_dict('records')).reset_index(name='children')"
   ]
  },
  {
   "cell_type": "code",
   "execution_count": 481,
   "metadata": {},
   "outputs": [],
   "source": [
    "out = out.groupby([\"outlet\"])[['Region', 'children']].apply(lambda x: x.to_dict('records')).reset_index(name='children')"
   ]
  },
  {
   "cell_type": "code",
   "execution_count": 482,
   "metadata": {},
   "outputs": [],
   "source": [
    "out = out.to_json(orient=\"records\")\n"
   ]
  },
  {
   "cell_type": "code",
   "execution_count": 483,
   "metadata": {},
   "outputs": [],
   "source": [
    "out = ast.literal_eval(out)"
   ]
  },
  {
   "cell_type": "code",
   "execution_count": 484,
   "metadata": {},
   "outputs": [
    {
     "data": {
      "text/plain": [
       "[{'outlet': 'NYT',\n",
       "  'children': [{'Region': 'Africa',\n",
       "    'children': [{'country': 'Africa', 'count': 201},\n",
       "     {'country': 'Algeria', 'count': 12},\n",
       "     {'country': 'Angola', 'count': 10},\n",
       "     {'country': 'Benin', 'count': 3},\n",
       "     {'country': 'Botswana', 'count': 6},\n",
       "     {'country': 'Burkina Faso', 'count': 8},\n",
       "     {'country': 'Burundi', 'count': 2},\n",
       "     {'country': 'Cameroon', 'count': 6},\n",
       "     {'country': 'Cape Verde', 'count': 2},\n",
       "     {'country': 'Central African Republic', 'count': 1},\n",
       "     {'country': 'Chad', 'count': 23},\n",
       "     {'country': 'Comoros', 'count': 9},\n",
       "     {'country': 'Republic of the Congo', 'count': 1},\n",
       "     {'country': 'Ivory Coast', 'count': 8},\n",
       "     {'country': 'Djibouti', 'count': 1},\n",
       "     {'country': 'Equatorial Guinea', 'count': 1},\n",
       "     {'country': 'Eritrea', 'count': 3},\n",
       "     {'country': 'Eswatini', 'count': 1},\n",
       "     {'country': 'Ethiopia', 'count': 20},\n",
       "     {'country': 'Gabon', 'count': 2},\n",
       "     {'country': 'Ghana', 'count': 19},\n",
       "     {'country': 'Guinea', 'count': 2},\n",
       "     {'country': 'Guinea-Bissau', 'count': 1},\n",
       "     {'country': 'Gulf of Aden', 'count': 1},\n",
       "     {'country': 'Kenya', 'count': 113},\n",
       "     {'country': 'Lesotho', 'count': 2},\n",
       "     {'country': 'Liberia', 'count': 4},\n",
       "     {'country': 'Libya', 'count': 17},\n",
       "     {'country': 'Madagascar', 'count': 14},\n",
       "     {'country': 'Malawi', 'count': 4},\n",
       "     {'country': 'Mali', 'count': 15},\n",
       "     {'country': 'Mauritius', 'count': 5},\n",
       "     {'country': 'Morocco', 'count': 17},\n",
       "     {'country': 'Mozambique', 'count': 23},\n",
       "     {'country': 'Namibia', 'count': 7},\n",
       "     {'country': 'Niger', 'count': 17},\n",
       "     {'country': 'Nigeria', 'count': 50},\n",
       "     {'country': 'Rwanda', 'count': 40},\n",
       "     {'country': 'Senegal', 'count': 18},\n",
       "     {'country': 'Sierra Leone', 'count': 4},\n",
       "     {'country': 'Somalia', 'count': 10},\n",
       "     {'country': 'South Africa', 'count': 108},\n",
       "     {'country': 'South Sudan', 'count': 11},\n",
       "     {'country': 'Sudan', 'count': 76},\n",
       "     {'country': 'Tanzania', 'count': 15},\n",
       "     {'country': 'Gambia', 'count': 3},\n",
       "     {'country': 'Tunisia', 'count': 8},\n",
       "     {'country': 'Uganda', 'count': 22},\n",
       "     {'country': 'Zambia', 'count': 13},\n",
       "     {'country': 'Zimbabwe', 'count': 3}]},\n",
       "   {'Region': 'Antarctica',\n",
       "    'children': [{'country': 'Antarctica', 'count': 1},\n",
       "     {'country': 'South Georgia and the South Sandwich Islands', 'count': 3}]},\n",
       "   {'Region': 'Asia',\n",
       "    'children': [{'country': 'Afghanistan', 'count': 112},\n",
       "     {'country': 'Armenia', 'count': 7},\n",
       "     {'country': 'Azerbaijan', 'count': 47},\n",
       "     {'country': 'Bahrain', 'count': 3},\n",
       "     {'country': 'Bangladesh', 'count': 62},\n",
       "     {'country': 'Bay of Bengal', 'count': 1},\n",
       "     {'country': 'Bhutan', 'count': 5},\n",
       "     {'country': 'British Indian Ocean Territory', 'count': 3},\n",
       "     {'country': 'Cambodia', 'count': 24},\n",
       "     {'country': 'China', 'count': 1111},\n",
       "     {'country': 'East China Sea', 'count': 2},\n",
       "     {'country': 'East Timor', 'count': 6},\n",
       "     {'country': 'Egypt', 'count': 142},\n",
       "     {'country': 'Georgia', 'count': 293},\n",
       "     {'country': 'Gulf of Oman', 'count': 2},\n",
       "     {'country': 'Gulf of Thailand', 'count': 1},\n",
       "     {'country': 'India', 'count': 272},\n",
       "     {'country': 'Indian Ocean', 'count': 8},\n",
       "     {'country': 'Indonesia', 'count': 76},\n",
       "     {'country': 'Iran', 'count': 567},\n",
       "     {'country': 'Iraq', 'count': 64},\n",
       "     {'country': 'Israel', 'count': 1938},\n",
       "     {'country': 'Japan', 'count': 302},\n",
       "     {'country': 'Jordan', 'count': 37},\n",
       "     {'country': 'Kazakhstan', 'count': 12},\n",
       "     {'country': 'Kuwait', 'count': 8},\n",
       "     {'country': 'Kyrgyzstan', 'count': 4},\n",
       "     {'country': 'Laos', 'count': 9},\n",
       "     {'country': 'Lebanon', 'count': 453},\n",
       "     {'country': 'Malaysia', 'count': 11},\n",
       "     {'country': 'Maldives', 'count': 8},\n",
       "     {'country': 'Mongolia', 'count': 5},\n",
       "     {'country': 'Myanmar', 'count': 60},\n",
       "     {'country': 'Nepal', 'count': 42},\n",
       "     {'country': 'North Korea', 'count': 108},\n",
       "     {'country': 'Oman', 'count': 10},\n",
       "     {'country': 'Pakistan', 'count': 78},\n",
       "     {'country': 'Palestine', 'count': 1432},\n",
       "     {'country': 'Persian Gulf', 'count': 4},\n",
       "     {'country': 'Philippines', 'count': 81},\n",
       "     {'country': 'Qatar', 'count': 63},\n",
       "     {'country': 'Saudi Arabia', 'count': 116},\n",
       "     {'country': 'Singapore', 'count': 36},\n",
       "     {'country': 'South China Sea', 'count': 27},\n",
       "     {'country': 'South Korea', 'count': 257},\n",
       "     {'country': 'Sri Lanka', 'count': 17},\n",
       "     {'country': 'Syria', 'count': 329},\n",
       "     {'country': 'Taiwan', 'count': 125},\n",
       "     {'country': 'Taiwan Strait', 'count': 7},\n",
       "     {'country': 'Tajikistan', 'count': 7},\n",
       "     {'country': 'Thailand', 'count': 66},\n",
       "     {'country': 'United Arab Emirates', 'count': 58},\n",
       "     {'country': 'Uzbekistan', 'count': 3},\n",
       "     {'country': 'Vietnam', 'count': 52},\n",
       "     {'country': 'Yellow Sea', 'count': 1},\n",
       "     {'country': 'Yemen', 'count': 73}]},\n",
       "   {'Region': 'Europe',\n",
       "    'children': [{'country': 'Adriatic Sea', 'count': 1},\n",
       "     {'country': 'Aegean Sea', 'count': 3},\n",
       "     {'country': 'Albania', 'count': 23},\n",
       "     {'country': 'Andorra', 'count': 1},\n",
       "     {'country': 'Austria', 'count': 51},\n",
       "     {'country': 'Baltic Sea', 'count': 15},\n",
       "     {'country': 'Belarus', 'count': 22},\n",
       "     {'country': 'Belgium', 'count': 50},\n",
       "     {'country': 'Bosnia and Herzegovina', 'count': 9},\n",
       "     {'country': 'Bulgaria', 'count': 13},\n",
       "     {'country': 'Croatia', 'count': 7},\n",
       "     {'country': 'Cyprus', 'count': 8},\n",
       "     {'country': 'Czech Republic', 'count': 10},\n",
       "     {'country': 'Denmark', 'count': 103},\n",
       "     {'country': 'English Channel', 'count': 8},\n",
       "     {'country': 'Estonia', 'count': 7},\n",
       "     {'country': 'Europe', 'count': 505},\n",
       "     {'country': 'Faroe Islands', 'count': 2},\n",
       "     {'country': 'Finland', 'count': 36},\n",
       "     {'country': 'France', 'count': 695},\n",
       "     {'country': 'Germany', 'count': 372},\n",
       "     {'country': 'Greece', 'count': 65},\n",
       "     {'country': 'Guernsey', 'count': 1},\n",
       "     {'country': 'Hungary', 'count': 43},\n",
       "     {'country': 'Iceland', 'count': 16},\n",
       "     {'country': 'Ireland', 'count': 67},\n",
       "     {'country': 'Irish Sea', 'count': 1},\n",
       "     {'country': 'Italy', 'count': 304},\n",
       "     {'country': 'Jersey', 'count': 1},\n",
       "     {'country': 'Kosovo', 'count': 8},\n",
       "     {'country': 'Latvia', 'count': 3},\n",
       "     {'country': 'Lithuania', 'count': 15},\n",
       "     {'country': 'Luxembourg', 'count': 7},\n",
       "     {'country': 'Malta', 'count': 3},\n",
       "     {'country': 'Mediterranean Sea', 'count': 14},\n",
       "     {'country': 'Moldova', 'count': 17},\n",
       "     {'country': 'Monaco', 'count': 1},\n",
       "     {'country': 'Montenegro', 'count': 4},\n",
       "     {'country': 'Netherlands', 'count': 151},\n",
       "     {'country': 'North Macedonia', 'count': 11},\n",
       "     {'country': 'North Sea', 'count': 6},\n",
       "     {'country': 'Norway', 'count': 43},\n",
       "     {'country': 'Poland', 'count': 39},\n",
       "     {'country': 'Portugal', 'count': 27},\n",
       "     {'country': 'Romania', 'count': 31},\n",
       "     {'country': 'Russia', 'count': 1195},\n",
       "     {'country': 'Serbia', 'count': 18},\n",
       "     {'country': 'Slovakia', 'count': 24},\n",
       "     {'country': 'Slovenia', 'count': 6},\n",
       "     {'country': 'Spain', 'count': 126},\n",
       "     {'country': 'Sweden', 'count': 65},\n",
       "     {'country': 'Switzerland', 'count': 41},\n",
       "     {'country': 'Turkey', 'count': 117},\n",
       "     {'country': 'Ukraine', 'count': 1047},\n",
       "     {'country': 'United Kingdom', 'count': 853},\n",
       "     {'country': 'Vatican City', 'count': 17}]},\n",
       "   {'Region': 'North America',\n",
       "    'children': [{'country': 'Anguilla', 'count': 1},\n",
       "     {'country': 'Antigua and Barbuda', 'count': 3},\n",
       "     {'country': 'Bahamas', 'count': 11},\n",
       "     {'country': 'Barbados', 'count': 7},\n",
       "     {'country': 'Bay of Campeche', 'count': 1},\n",
       "     {'country': 'Belize', 'count': 5},\n",
       "     {'country': 'Bermuda', 'count': 1},\n",
       "     {'country': 'Canada', 'count': 530},\n",
       "     {'country': 'Cayman Islands', 'count': 6},\n",
       "     {'country': 'Costa Rica', 'count': 24},\n",
       "     {'country': 'Cuba', 'count': 127},\n",
       "     {'country': 'Dominican Republic', 'count': 19},\n",
       "     {'country': 'El Salvador', 'count': 39},\n",
       "     {'country': 'Georges Bank', 'count': 1},\n",
       "     {'country': 'Greenland', 'count': 71},\n",
       "     {'country': 'Grenada', 'count': 12},\n",
       "     {'country': 'Guatemala', 'count': 32},\n",
       "     {'country': 'Gulf of Maine', 'count': 1},\n",
       "     {'country': 'Gulf of Mexico', 'count': 44},\n",
       "     {'country': 'Haiti', 'count': 76},\n",
       "     {'country': 'Honduras', 'count': 25},\n",
       "     {'country': 'Jamaica', 'count': 2},\n",
       "     {'country': 'Mexico', 'count': 455},\n",
       "     {'country': 'Montserrat', 'count': 1},\n",
       "     {'country': 'Nicaragua', 'count': 11},\n",
       "     {'country': 'North America', 'count': 37},\n",
       "     {'country': 'Panama', 'count': 55},\n",
       "     {'country': 'Saint Lucia', 'count': 4},\n",
       "     {'country': 'Saint Vincent and the Grenadines', 'count': 2},\n",
       "     {'country': 'Trinidad and Tobago', 'count': 3},\n",
       "     {'country': 'Turks and Caicos Islands', 'count': 3},\n",
       "     {'country': 'United States', 'count': 0}]},\n",
       "   {'Region': 'Oceania',\n",
       "    'children': [{'country': 'Australia', 'count': 193},\n",
       "     {'country': 'Cook Islands', 'count': 3},\n",
       "     {'country': 'Coral Sea', 'count': 1},\n",
       "     {'country': 'Federated States of Micronesia', 'count': 1},\n",
       "     {'country': 'Fiji', 'count': 3},\n",
       "     {'country': 'Kiribati', 'count': 1},\n",
       "     {'country': 'Marshall Islands', 'count': 2},\n",
       "     {'country': 'Nauru', 'count': 3},\n",
       "     {'country': 'New Caledonia (EEZ)', 'count': 9},\n",
       "     {'country': 'New Zealand', 'count': 39},\n",
       "     {'country': 'Palau', 'count': 3},\n",
       "     {'country': 'Papua New Guinea', 'count': 21},\n",
       "     {'country': 'Samoa', 'count': 3},\n",
       "     {'country': 'Solomon Islands', 'count': 1},\n",
       "     {'country': 'Tonga', 'count': 2},\n",
       "     {'country': 'Tuvalu', 'count': 2},\n",
       "     {'country': 'Vanuatu', 'count': 6}]},\n",
       "   {'Region': 'Other',\n",
       "    'children': [{'country': 'Atlantic Ocean', 'count': 25},\n",
       "     {'country': 'Bering Sea', 'count': 3},\n",
       "     {'country': 'Black Sea', 'count': 10},\n",
       "     {'country': 'Caspian Sea', 'count': 2},\n",
       "     {'country': 'Pacific Ocean', 'count': 19},\n",
       "     {'country': 'Red Sea', 'count': 31}]},\n",
       "   {'Region': 'South America',\n",
       "    'children': [{'country': 'Argentina', 'count': 40},\n",
       "     {'country': 'Bolivia', 'count': 7},\n",
       "     {'country': 'Brazil', 'count': 205},\n",
       "     {'country': 'Chile', 'count': 21},\n",
       "     {'country': 'Colombia', 'count': 65},\n",
       "     {'country': 'Ecuador', 'count': 26},\n",
       "     {'country': 'Guyana', 'count': 3},\n",
       "     {'country': 'Paraguay', 'count': 2},\n",
       "     {'country': 'Peru', 'count': 45},\n",
       "     {'country': 'South America', 'count': 19},\n",
       "     {'country': 'South Orkney Islands', 'count': 1},\n",
       "     {'country': 'Suriname', 'count': 3},\n",
       "     {'country': 'Uruguay', 'count': 11},\n",
       "     {'country': 'Venezuela', 'count': 145}]}]}]"
      ]
     },
     "execution_count": 484,
     "metadata": {},
     "output_type": "execute_result"
    }
   ],
   "source": [
    "out"
   ]
  },
  {
   "cell_type": "code",
   "execution_count": 485,
   "metadata": {},
   "outputs": [],
   "source": [
    "final_shape = {\"name\":\"coverage\", \"children\":out}"
   ]
  },
  {
   "cell_type": "code",
   "execution_count": 486,
   "metadata": {},
   "outputs": [
    {
     "data": {
      "text/plain": [
       "{'name': 'coverage',\n",
       " 'children': [{'outlet': 'NYT',\n",
       "   'children': [{'Region': 'Africa',\n",
       "     'children': [{'country': 'Africa', 'count': 201},\n",
       "      {'country': 'Algeria', 'count': 12},\n",
       "      {'country': 'Angola', 'count': 10},\n",
       "      {'country': 'Benin', 'count': 3},\n",
       "      {'country': 'Botswana', 'count': 6},\n",
       "      {'country': 'Burkina Faso', 'count': 8},\n",
       "      {'country': 'Burundi', 'count': 2},\n",
       "      {'country': 'Cameroon', 'count': 6},\n",
       "      {'country': 'Cape Verde', 'count': 2},\n",
       "      {'country': 'Central African Republic', 'count': 1},\n",
       "      {'country': 'Chad', 'count': 23},\n",
       "      {'country': 'Comoros', 'count': 9},\n",
       "      {'country': 'Republic of the Congo', 'count': 1},\n",
       "      {'country': 'Ivory Coast', 'count': 8},\n",
       "      {'country': 'Djibouti', 'count': 1},\n",
       "      {'country': 'Equatorial Guinea', 'count': 1},\n",
       "      {'country': 'Eritrea', 'count': 3},\n",
       "      {'country': 'Eswatini', 'count': 1},\n",
       "      {'country': 'Ethiopia', 'count': 20},\n",
       "      {'country': 'Gabon', 'count': 2},\n",
       "      {'country': 'Ghana', 'count': 19},\n",
       "      {'country': 'Guinea', 'count': 2},\n",
       "      {'country': 'Guinea-Bissau', 'count': 1},\n",
       "      {'country': 'Gulf of Aden', 'count': 1},\n",
       "      {'country': 'Kenya', 'count': 113},\n",
       "      {'country': 'Lesotho', 'count': 2},\n",
       "      {'country': 'Liberia', 'count': 4},\n",
       "      {'country': 'Libya', 'count': 17},\n",
       "      {'country': 'Madagascar', 'count': 14},\n",
       "      {'country': 'Malawi', 'count': 4},\n",
       "      {'country': 'Mali', 'count': 15},\n",
       "      {'country': 'Mauritius', 'count': 5},\n",
       "      {'country': 'Morocco', 'count': 17},\n",
       "      {'country': 'Mozambique', 'count': 23},\n",
       "      {'country': 'Namibia', 'count': 7},\n",
       "      {'country': 'Niger', 'count': 17},\n",
       "      {'country': 'Nigeria', 'count': 50},\n",
       "      {'country': 'Rwanda', 'count': 40},\n",
       "      {'country': 'Senegal', 'count': 18},\n",
       "      {'country': 'Sierra Leone', 'count': 4},\n",
       "      {'country': 'Somalia', 'count': 10},\n",
       "      {'country': 'South Africa', 'count': 108},\n",
       "      {'country': 'South Sudan', 'count': 11},\n",
       "      {'country': 'Sudan', 'count': 76},\n",
       "      {'country': 'Tanzania', 'count': 15},\n",
       "      {'country': 'Gambia', 'count': 3},\n",
       "      {'country': 'Tunisia', 'count': 8},\n",
       "      {'country': 'Uganda', 'count': 22},\n",
       "      {'country': 'Zambia', 'count': 13},\n",
       "      {'country': 'Zimbabwe', 'count': 3}]},\n",
       "    {'Region': 'Antarctica',\n",
       "     'children': [{'country': 'Antarctica', 'count': 1},\n",
       "      {'country': 'South Georgia and the South Sandwich Islands',\n",
       "       'count': 3}]},\n",
       "    {'Region': 'Asia',\n",
       "     'children': [{'country': 'Afghanistan', 'count': 112},\n",
       "      {'country': 'Armenia', 'count': 7},\n",
       "      {'country': 'Azerbaijan', 'count': 47},\n",
       "      {'country': 'Bahrain', 'count': 3},\n",
       "      {'country': 'Bangladesh', 'count': 62},\n",
       "      {'country': 'Bay of Bengal', 'count': 1},\n",
       "      {'country': 'Bhutan', 'count': 5},\n",
       "      {'country': 'British Indian Ocean Territory', 'count': 3},\n",
       "      {'country': 'Cambodia', 'count': 24},\n",
       "      {'country': 'China', 'count': 1111},\n",
       "      {'country': 'East China Sea', 'count': 2},\n",
       "      {'country': 'East Timor', 'count': 6},\n",
       "      {'country': 'Egypt', 'count': 142},\n",
       "      {'country': 'Georgia', 'count': 293},\n",
       "      {'country': 'Gulf of Oman', 'count': 2},\n",
       "      {'country': 'Gulf of Thailand', 'count': 1},\n",
       "      {'country': 'India', 'count': 272},\n",
       "      {'country': 'Indian Ocean', 'count': 8},\n",
       "      {'country': 'Indonesia', 'count': 76},\n",
       "      {'country': 'Iran', 'count': 567},\n",
       "      {'country': 'Iraq', 'count': 64},\n",
       "      {'country': 'Israel', 'count': 1938},\n",
       "      {'country': 'Japan', 'count': 302},\n",
       "      {'country': 'Jordan', 'count': 37},\n",
       "      {'country': 'Kazakhstan', 'count': 12},\n",
       "      {'country': 'Kuwait', 'count': 8},\n",
       "      {'country': 'Kyrgyzstan', 'count': 4},\n",
       "      {'country': 'Laos', 'count': 9},\n",
       "      {'country': 'Lebanon', 'count': 453},\n",
       "      {'country': 'Malaysia', 'count': 11},\n",
       "      {'country': 'Maldives', 'count': 8},\n",
       "      {'country': 'Mongolia', 'count': 5},\n",
       "      {'country': 'Myanmar', 'count': 60},\n",
       "      {'country': 'Nepal', 'count': 42},\n",
       "      {'country': 'North Korea', 'count': 108},\n",
       "      {'country': 'Oman', 'count': 10},\n",
       "      {'country': 'Pakistan', 'count': 78},\n",
       "      {'country': 'Palestine', 'count': 1432},\n",
       "      {'country': 'Persian Gulf', 'count': 4},\n",
       "      {'country': 'Philippines', 'count': 81},\n",
       "      {'country': 'Qatar', 'count': 63},\n",
       "      {'country': 'Saudi Arabia', 'count': 116},\n",
       "      {'country': 'Singapore', 'count': 36},\n",
       "      {'country': 'South China Sea', 'count': 27},\n",
       "      {'country': 'South Korea', 'count': 257},\n",
       "      {'country': 'Sri Lanka', 'count': 17},\n",
       "      {'country': 'Syria', 'count': 329},\n",
       "      {'country': 'Taiwan', 'count': 125},\n",
       "      {'country': 'Taiwan Strait', 'count': 7},\n",
       "      {'country': 'Tajikistan', 'count': 7},\n",
       "      {'country': 'Thailand', 'count': 66},\n",
       "      {'country': 'United Arab Emirates', 'count': 58},\n",
       "      {'country': 'Uzbekistan', 'count': 3},\n",
       "      {'country': 'Vietnam', 'count': 52},\n",
       "      {'country': 'Yellow Sea', 'count': 1},\n",
       "      {'country': 'Yemen', 'count': 73}]},\n",
       "    {'Region': 'Europe',\n",
       "     'children': [{'country': 'Adriatic Sea', 'count': 1},\n",
       "      {'country': 'Aegean Sea', 'count': 3},\n",
       "      {'country': 'Albania', 'count': 23},\n",
       "      {'country': 'Andorra', 'count': 1},\n",
       "      {'country': 'Austria', 'count': 51},\n",
       "      {'country': 'Baltic Sea', 'count': 15},\n",
       "      {'country': 'Belarus', 'count': 22},\n",
       "      {'country': 'Belgium', 'count': 50},\n",
       "      {'country': 'Bosnia and Herzegovina', 'count': 9},\n",
       "      {'country': 'Bulgaria', 'count': 13},\n",
       "      {'country': 'Croatia', 'count': 7},\n",
       "      {'country': 'Cyprus', 'count': 8},\n",
       "      {'country': 'Czech Republic', 'count': 10},\n",
       "      {'country': 'Denmark', 'count': 103},\n",
       "      {'country': 'English Channel', 'count': 8},\n",
       "      {'country': 'Estonia', 'count': 7},\n",
       "      {'country': 'Europe', 'count': 505},\n",
       "      {'country': 'Faroe Islands', 'count': 2},\n",
       "      {'country': 'Finland', 'count': 36},\n",
       "      {'country': 'France', 'count': 695},\n",
       "      {'country': 'Germany', 'count': 372},\n",
       "      {'country': 'Greece', 'count': 65},\n",
       "      {'country': 'Guernsey', 'count': 1},\n",
       "      {'country': 'Hungary', 'count': 43},\n",
       "      {'country': 'Iceland', 'count': 16},\n",
       "      {'country': 'Ireland', 'count': 67},\n",
       "      {'country': 'Irish Sea', 'count': 1},\n",
       "      {'country': 'Italy', 'count': 304},\n",
       "      {'country': 'Jersey', 'count': 1},\n",
       "      {'country': 'Kosovo', 'count': 8},\n",
       "      {'country': 'Latvia', 'count': 3},\n",
       "      {'country': 'Lithuania', 'count': 15},\n",
       "      {'country': 'Luxembourg', 'count': 7},\n",
       "      {'country': 'Malta', 'count': 3},\n",
       "      {'country': 'Mediterranean Sea', 'count': 14},\n",
       "      {'country': 'Moldova', 'count': 17},\n",
       "      {'country': 'Monaco', 'count': 1},\n",
       "      {'country': 'Montenegro', 'count': 4},\n",
       "      {'country': 'Netherlands', 'count': 151},\n",
       "      {'country': 'North Macedonia', 'count': 11},\n",
       "      {'country': 'North Sea', 'count': 6},\n",
       "      {'country': 'Norway', 'count': 43},\n",
       "      {'country': 'Poland', 'count': 39},\n",
       "      {'country': 'Portugal', 'count': 27},\n",
       "      {'country': 'Romania', 'count': 31},\n",
       "      {'country': 'Russia', 'count': 1195},\n",
       "      {'country': 'Serbia', 'count': 18},\n",
       "      {'country': 'Slovakia', 'count': 24},\n",
       "      {'country': 'Slovenia', 'count': 6},\n",
       "      {'country': 'Spain', 'count': 126},\n",
       "      {'country': 'Sweden', 'count': 65},\n",
       "      {'country': 'Switzerland', 'count': 41},\n",
       "      {'country': 'Turkey', 'count': 117},\n",
       "      {'country': 'Ukraine', 'count': 1047},\n",
       "      {'country': 'United Kingdom', 'count': 853},\n",
       "      {'country': 'Vatican City', 'count': 17}]},\n",
       "    {'Region': 'North America',\n",
       "     'children': [{'country': 'Anguilla', 'count': 1},\n",
       "      {'country': 'Antigua and Barbuda', 'count': 3},\n",
       "      {'country': 'Bahamas', 'count': 11},\n",
       "      {'country': 'Barbados', 'count': 7},\n",
       "      {'country': 'Bay of Campeche', 'count': 1},\n",
       "      {'country': 'Belize', 'count': 5},\n",
       "      {'country': 'Bermuda', 'count': 1},\n",
       "      {'country': 'Canada', 'count': 530},\n",
       "      {'country': 'Cayman Islands', 'count': 6},\n",
       "      {'country': 'Costa Rica', 'count': 24},\n",
       "      {'country': 'Cuba', 'count': 127},\n",
       "      {'country': 'Dominican Republic', 'count': 19},\n",
       "      {'country': 'El Salvador', 'count': 39},\n",
       "      {'country': 'Georges Bank', 'count': 1},\n",
       "      {'country': 'Greenland', 'count': 71},\n",
       "      {'country': 'Grenada', 'count': 12},\n",
       "      {'country': 'Guatemala', 'count': 32},\n",
       "      {'country': 'Gulf of Maine', 'count': 1},\n",
       "      {'country': 'Gulf of Mexico', 'count': 44},\n",
       "      {'country': 'Haiti', 'count': 76},\n",
       "      {'country': 'Honduras', 'count': 25},\n",
       "      {'country': 'Jamaica', 'count': 2},\n",
       "      {'country': 'Mexico', 'count': 455},\n",
       "      {'country': 'Montserrat', 'count': 1},\n",
       "      {'country': 'Nicaragua', 'count': 11},\n",
       "      {'country': 'North America', 'count': 37},\n",
       "      {'country': 'Panama', 'count': 55},\n",
       "      {'country': 'Saint Lucia', 'count': 4},\n",
       "      {'country': 'Saint Vincent and the Grenadines', 'count': 2},\n",
       "      {'country': 'Trinidad and Tobago', 'count': 3},\n",
       "      {'country': 'Turks and Caicos Islands', 'count': 3},\n",
       "      {'country': 'United States', 'count': 0}]},\n",
       "    {'Region': 'Oceania',\n",
       "     'children': [{'country': 'Australia', 'count': 193},\n",
       "      {'country': 'Cook Islands', 'count': 3},\n",
       "      {'country': 'Coral Sea', 'count': 1},\n",
       "      {'country': 'Federated States of Micronesia', 'count': 1},\n",
       "      {'country': 'Fiji', 'count': 3},\n",
       "      {'country': 'Kiribati', 'count': 1},\n",
       "      {'country': 'Marshall Islands', 'count': 2},\n",
       "      {'country': 'Nauru', 'count': 3},\n",
       "      {'country': 'New Caledonia (EEZ)', 'count': 9},\n",
       "      {'country': 'New Zealand', 'count': 39},\n",
       "      {'country': 'Palau', 'count': 3},\n",
       "      {'country': 'Papua New Guinea', 'count': 21},\n",
       "      {'country': 'Samoa', 'count': 3},\n",
       "      {'country': 'Solomon Islands', 'count': 1},\n",
       "      {'country': 'Tonga', 'count': 2},\n",
       "      {'country': 'Tuvalu', 'count': 2},\n",
       "      {'country': 'Vanuatu', 'count': 6}]},\n",
       "    {'Region': 'Other',\n",
       "     'children': [{'country': 'Atlantic Ocean', 'count': 25},\n",
       "      {'country': 'Bering Sea', 'count': 3},\n",
       "      {'country': 'Black Sea', 'count': 10},\n",
       "      {'country': 'Caspian Sea', 'count': 2},\n",
       "      {'country': 'Pacific Ocean', 'count': 19},\n",
       "      {'country': 'Red Sea', 'count': 31}]},\n",
       "    {'Region': 'South America',\n",
       "     'children': [{'country': 'Argentina', 'count': 40},\n",
       "      {'country': 'Bolivia', 'count': 7},\n",
       "      {'country': 'Brazil', 'count': 205},\n",
       "      {'country': 'Chile', 'count': 21},\n",
       "      {'country': 'Colombia', 'count': 65},\n",
       "      {'country': 'Ecuador', 'count': 26},\n",
       "      {'country': 'Guyana', 'count': 3},\n",
       "      {'country': 'Paraguay', 'count': 2},\n",
       "      {'country': 'Peru', 'count': 45},\n",
       "      {'country': 'South America', 'count': 19},\n",
       "      {'country': 'South Orkney Islands', 'count': 1},\n",
       "      {'country': 'Suriname', 'count': 3},\n",
       "      {'country': 'Uruguay', 'count': 11},\n",
       "      {'country': 'Venezuela', 'count': 145}]}]}]}"
      ]
     },
     "execution_count": 486,
     "metadata": {},
     "output_type": "execute_result"
    }
   ],
   "source": [
    "final_shape"
   ]
  },
  {
   "cell_type": "code",
   "execution_count": 488,
   "metadata": {},
   "outputs": [],
   "source": [
    "import json\n",
    "\n",
    "with open(\"./local/voronoi/nyt_coverage_by_region.json\", \"w\") as json_file:\n",
    "    json.dump(out, json_file)"
   ]
  },
  {
   "cell_type": "code",
   "execution_count": null,
   "metadata": {},
   "outputs": [],
   "source": [
    "fig = px.choropleth(country_coverage, \n",
    "    locations='iso_alpha3', \n",
    "    color='middle_point',\n",
    "    color_continuous_scale=\"PiYG\",\n",
    "    range_color=(-0.01, 0.01),\n",
    "    locationmode=\"ISO-3\"\n",
    ")\n",
    "\n",
    "fig.update_layout(margin={\"r\":0,\"t\":0,\"l\":0,\"b\":0})\n",
    "\n",
    "fig.show()"
   ]
  },
  {
   "cell_type": "code",
   "execution_count": null,
   "metadata": {},
   "outputs": [],
   "source": [
    "country_coverage.to_csv(\"../../data/places/coverage_by_country.csv\", index=False)"
   ]
  },
  {
   "cell_type": "markdown",
   "metadata": {},
   "source": [
    "## Retrieve related categories for each location"
   ]
  },
  {
   "cell_type": "markdown",
   "metadata": {},
   "source": [
    "### NYT"
   ]
  },
  {
   "cell_type": "code",
   "execution_count": null,
   "metadata": {},
   "outputs": [],
   "source": [
    "full_year = pd.read_csv(\"../../input-data/temp-data.csv\")"
   ]
  },
  {
   "cell_type": "code",
   "execution_count": null,
   "metadata": {},
   "outputs": [],
   "source": [
    "country_coverage"
   ]
  },
  {
   "cell_type": "code",
   "execution_count": null,
   "metadata": {},
   "outputs": [],
   "source": [
    "zeit_full_year = pd.read_csv(\"../../input-data/zeit-temp-data.csv\")"
   ]
  },
  {
   "cell_type": "code",
   "execution_count": null,
   "metadata": {},
   "outputs": [],
   "source": [
    "zeit_full_year"
   ]
  },
  {
   "cell_type": "code",
   "execution_count": null,
   "metadata": {},
   "outputs": [],
   "source": [
    "full_year['keywords'] = full_year['keywords'].apply(ast.literal_eval)"
   ]
  },
  {
   "cell_type": "code",
   "execution_count": null,
   "metadata": {},
   "outputs": [],
   "source": [
    "zeit_full_year = zeit_full_year[zeit_full_year['keywords'].notna()]"
   ]
  },
  {
   "cell_type": "code",
   "execution_count": null,
   "metadata": {},
   "outputs": [],
   "source": [
    "zeit_full_year['keywords'] = zeit_full_year['keywords'].apply(ast.literal_eval)"
   ]
  },
  {
   "cell_type": "code",
   "execution_count": null,
   "metadata": {},
   "outputs": [],
   "source": [
    "zeit_full_year_exploded = zeit_full_year.explode(\"keywords\")"
   ]
  },
  {
   "cell_type": "code",
   "execution_count": null,
   "metadata": {},
   "outputs": [],
   "source": [
    "zeit_full_year_exploded = zeit_full_year_exploded.rename(columns={\"uri\": \"_id\"})"
   ]
  },
  {
   "cell_type": "code",
   "execution_count": null,
   "metadata": {},
   "outputs": [],
   "source": [
    "zeit_full_year_exploded"
   ]
  },
  {
   "cell_type": "code",
   "execution_count": null,
   "metadata": {},
   "outputs": [],
   "source": [
    "zeit_full_year_exploded = zeit_full_year_exploded[[\"_id\", \"date\", \"url\", \"keywords\"]]"
   ]
  },
  {
   "cell_type": "code",
   "execution_count": null,
   "metadata": {},
   "outputs": [],
   "source": [
    "zeit_full_year_exploded.rename(columns={\"uri\": \"_id\"}, inplace=True)"
   ]
  },
  {
   "cell_type": "code",
   "execution_count": null,
   "metadata": {},
   "outputs": [],
   "source": [
    "zeit_full_year_exploded"
   ]
  },
  {
   "cell_type": "code",
   "execution_count": null,
   "metadata": {},
   "outputs": [],
   "source": [
    "full_year_exploded = full_year.explode(\"keywords\")"
   ]
  },
  {
   "cell_type": "code",
   "execution_count": null,
   "metadata": {},
   "outputs": [],
   "source": [
    "country_coverage[\"ids_of_articles_nyt\"] = country_coverage[\"ids_of_articles_nyt\"].apply(ast.literal_eval)"
   ]
  },
  {
   "cell_type": "code",
   "execution_count": null,
   "metadata": {},
   "outputs": [],
   "source": [
    "country_coverage[\"ids_of_articles_zeit\"] = country_coverage[\"ids_of_articles_zeit\"].apply(ast.literal_eval)"
   ]
  },
  {
   "cell_type": "code",
   "execution_count": null,
   "metadata": {},
   "outputs": [],
   "source": [
    "countries = country_coverage[\"country\"].unique()"
   ]
  },
  {
   "cell_type": "code",
   "execution_count": null,
   "metadata": {},
   "outputs": [],
   "source": [
    "list_of_keywords_dicts = []\n",
    "for country in countries:\n",
    "    country_selection = country_coverage[country_coverage[\"country\"] == country]\n",
    "    nyt_ids = country_selection[\"ids_of_articles_nyt\"].values\n",
    "    nyt_ids = nyt_ids[0]\n",
    "    keywords_per_country = []\n",
    "    \n",
    "    for id in nyt_ids:\n",
    "        article = full_year_exploded[full_year_exploded[\"_id\"] == id]\n",
    "        keywords_list = article[\"keywords\"]\n",
    "        list_of_keywords_per_article = list(keywords_list.apply(lambda x: x.get(\"value\")))\n",
    "        keywords_per_country.extend(list_of_keywords_per_article)\n",
    "\n",
    "    my_dict = {i:{keywords_per_country.count(i)} for i in keywords_per_country}\n",
    "    list_of_keywords_dicts.append(my_dict)\n",
    "    print(len(list_of_keywords_dicts))"
   ]
  },
  {
   "cell_type": "code",
   "execution_count": null,
   "metadata": {},
   "outputs": [],
   "source": [
    "country_coverage[\"keywords_nyt\"] = list_of_keywords_dicts"
   ]
  },
  {
   "cell_type": "code",
   "execution_count": null,
   "metadata": {},
   "outputs": [],
   "source": [
    "country_coverage"
   ]
  },
  {
   "cell_type": "code",
   "execution_count": null,
   "metadata": {},
   "outputs": [],
   "source": [
    "country_coverage"
   ]
  },
  {
   "cell_type": "code",
   "execution_count": null,
   "metadata": {},
   "outputs": [],
   "source": [
    "zeit_full_year_exploded"
   ]
  },
  {
   "cell_type": "code",
   "execution_count": null,
   "metadata": {},
   "outputs": [],
   "source": [
    "list_of_zeit_keywords_dicts = []\n",
    "for country in countries:\n",
    "    print(country)\n",
    "    country_selection = country_coverage[country_coverage[\"country\"] == country]\n",
    "    ids = country_selection[\"ids_of_articles_zeit\"].values\n",
    "    print(country_selection[\"ids_of_articles_zeit\"].values)\n",
    "    ids = ids[0]  # Assuming ids[0] is already a list\n",
    "    zeit_keywords_per_country = []\n",
    "    for id in ids:  # No need for eval() here\n",
    "        article = zeit_full_year_exploded[zeit_full_year_exploded[\"_id\"] == id]\n",
    "        keyword = article[\"keywords\"].values\n",
    "        zeit_keywords_per_country.extend(keyword)\n",
    "    \n",
    "    my_dict = {i: zeit_keywords_per_country.count(i) for i in zeit_keywords_per_country}\n",
    "    print(\"length of current dict\", len(my_dict.keys()))\n",
    "    list_of_zeit_keywords_dicts.append(my_dict)\n",
    "    print(\"all dicts\", len(list_of_zeit_keywords_dicts))"
   ]
  },
  {
   "cell_type": "code",
   "execution_count": null,
   "metadata": {},
   "outputs": [],
   "source": [
    "country_coverage[\"keywords_zeit\"] = list_of_zeit_keywords_dicts\n",
    "country_coverage"
   ]
  },
  {
   "cell_type": "code",
   "execution_count": null,
   "metadata": {},
   "outputs": [],
   "source": [
    "country_coverage[\"keywords_zeit\"] = country_coverage[\"keywords_zeit\"].apply(lambda x:{key: value for key, value in sorted(x.items(), key=lambda item: item[1], reverse=True)})"
   ]
  },
  {
   "cell_type": "code",
   "execution_count": null,
   "metadata": {},
   "outputs": [],
   "source": [
    "country_coverage[\"keywords_nyt\"] = country_coverage[\"keywords_nyt\"].apply(lambda x:{key: value for key, value in sorted(x.items(), key=lambda item: item[1], reverse=True)})"
   ]
  },
  {
   "cell_type": "code",
   "execution_count": null,
   "metadata": {},
   "outputs": [],
   "source": [
    "country_coverage.to_csv(\"../../data/places/coverage_by_country.csv\", index=False)"
   ]
  },
  {
   "cell_type": "code",
   "execution_count": null,
   "metadata": {},
   "outputs": [],
   "source": []
  }
 ],
 "metadata": {
  "kernelspec": {
   "display_name": ".venv",
   "language": "python",
   "name": "python3"
  },
  "language_info": {
   "codemirror_mode": {
    "name": "ipython",
    "version": 3
   },
   "file_extension": ".py",
   "mimetype": "text/x-python",
   "name": "python",
   "nbconvert_exporter": "python",
   "pygments_lexer": "ipython3",
   "version": "3.9.6"
  }
 },
 "nbformat": 4,
 "nbformat_minor": 2
}
