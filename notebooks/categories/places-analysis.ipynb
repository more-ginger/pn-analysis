{
 "cells": [
  {
   "cell_type": "code",
   "execution_count": null,
   "metadata": {},
   "outputs": [],
   "source": [
    "import pandas as pd\n",
    "import plotly.express as px\n",
    "import ast"
   ]
  },
  {
   "cell_type": "code",
   "execution_count": null,
   "metadata": {},
   "outputs": [],
   "source": [
    "country_coverage = pd.read_csv(\"../../data/places/coverage_by_country.csv\")"
   ]
  },
  {
   "cell_type": "code",
   "execution_count": null,
   "metadata": {},
   "outputs": [],
   "source": [
    "country_coverage"
   ]
  },
  {
   "cell_type": "code",
   "execution_count": null,
   "metadata": {},
   "outputs": [],
   "source": [
    "nyt = country_coverage[(country_coverage[\"country\"] != \"United States\")]"
   ]
  },
  {
   "cell_type": "code",
   "execution_count": null,
   "metadata": {},
   "outputs": [],
   "source": [
    "fig = px.choropleth(country_coverage, \n",
    "    locations='iso_alpha3', \n",
    "    color='count_of_articles_nyt',\n",
    "    color_continuous_scale=\"Reds\",\n",
    "    range_color=(0, 1000),\n",
    "    locationmode=\"ISO-3\"\n",
    ")\n",
    "fig.update_layout(margin={\"r\":0,\"t\":0,\"l\":0,\"b\":0})\n",
    "\n",
    "\n",
    "fig.show()"
   ]
  },
  {
   "cell_type": "code",
   "execution_count": null,
   "metadata": {},
   "outputs": [],
   "source": [
    "zeit = country_coverage[(country_coverage[\"country\"] != \"Germany\")]"
   ]
  },
  {
   "cell_type": "code",
   "execution_count": null,
   "metadata": {},
   "outputs": [],
   "source": [
    "fig = px.choropleth(country_coverage, \n",
    "    locations='iso_alpha3', \n",
    "    color='count_of_articles_zeit',\n",
    "    color_continuous_scale=\"Reds\",\n",
    "    range_color=(1, 1000),\n",
    "    locationmode=\"ISO-3\"\n",
    ")\n",
    "\n",
    "fig.update_layout(margin={\"r\":0,\"t\":0,\"l\":0,\"b\":0})\n",
    "fig.show()"
   ]
  },
  {
   "cell_type": "markdown",
   "metadata": {},
   "source": [
    "## Calc percentage and middle point to show delta"
   ]
  },
  {
   "cell_type": "code",
   "execution_count": null,
   "metadata": {},
   "outputs": [],
   "source": [
    "country_coverage[\"perc_of_coverage_nyt\"] =  country_coverage[\"count_of_articles_nyt\"].apply(lambda x: x / country_coverage[\"count_of_articles_nyt\"].sum())"
   ]
  },
  {
   "cell_type": "code",
   "execution_count": null,
   "metadata": {},
   "outputs": [],
   "source": [
    "country_coverage[\"perc_of_coverage_zeit\"] =  country_coverage[\"count_of_articles_zeit\"].apply(lambda x: x / country_coverage[\"count_of_articles_zeit\"].sum())"
   ]
  },
  {
   "cell_type": "code",
   "execution_count": null,
   "metadata": {},
   "outputs": [],
   "source": [
    "country_coverage[\"middle_point\"] = country_coverage[\"perc_of_coverage_nyt\"] - country_coverage[\"perc_of_coverage_zeit\"]"
   ]
  },
  {
   "cell_type": "markdown",
   "metadata": {},
   "source": [
    "Negative values are Zeit, Positive values are the NYT"
   ]
  },
  {
   "cell_type": "code",
   "execution_count": null,
   "metadata": {},
   "outputs": [],
   "source": [
    "fig = px.choropleth(country_coverage, \n",
    "    locations='iso_alpha3', \n",
    "    color='middle_point',\n",
    "    color_continuous_scale=\"PiYG\",\n",
    "    range_color=(-0.01, 0.01),\n",
    "    locationmode=\"ISO-3\"\n",
    ")\n",
    "\n",
    "fig.update_layout(margin={\"r\":0,\"t\":0,\"l\":0,\"b\":0})\n",
    "\n",
    "fig.show()"
   ]
  },
  {
   "cell_type": "code",
   "execution_count": null,
   "metadata": {},
   "outputs": [],
   "source": [
    "country_coverage.to_csv(\"../../data/places/coverage_by_country.csv\", index=False)"
   ]
  },
  {
   "cell_type": "markdown",
   "metadata": {},
   "source": [
    "## Retrieve related categories for each location"
   ]
  },
  {
   "cell_type": "markdown",
   "metadata": {},
   "source": [
    "### NYT"
   ]
  },
  {
   "cell_type": "code",
   "execution_count": null,
   "metadata": {},
   "outputs": [],
   "source": [
    "full_year = pd.read_csv(\"../../input-data/temp-data.csv\")"
   ]
  },
  {
   "cell_type": "code",
   "execution_count": null,
   "metadata": {},
   "outputs": [],
   "source": [
    "country_coverage"
   ]
  },
  {
   "cell_type": "code",
   "execution_count": null,
   "metadata": {},
   "outputs": [],
   "source": [
    "zeit_full_year = pd.read_csv(\"../../input-data/zeit-temp-data.csv\")"
   ]
  },
  {
   "cell_type": "code",
   "execution_count": null,
   "metadata": {},
   "outputs": [],
   "source": [
    "zeit_full_year"
   ]
  },
  {
   "cell_type": "code",
   "execution_count": null,
   "metadata": {},
   "outputs": [],
   "source": [
    "full_year['keywords'] = full_year['keywords'].apply(ast.literal_eval)"
   ]
  },
  {
   "cell_type": "code",
   "execution_count": null,
   "metadata": {},
   "outputs": [],
   "source": []
  },
  {
   "cell_type": "code",
   "execution_count": null,
   "metadata": {},
   "outputs": [],
   "source": [
    "zeit_full_year = zeit_full_year[zeit_full_year['keywords'].notna()]"
   ]
  },
  {
   "cell_type": "code",
   "execution_count": null,
   "metadata": {},
   "outputs": [],
   "source": [
    "zeit_full_year['keywords'] = zeit_full_year['keywords'].apply(ast.literal_eval)"
   ]
  },
  {
   "cell_type": "code",
   "execution_count": null,
   "metadata": {},
   "outputs": [],
   "source": [
    "zeit_full_year_exploded = zeit_full_year.explode(\"keywords\")"
   ]
  },
  {
   "cell_type": "code",
   "execution_count": null,
   "metadata": {},
   "outputs": [],
   "source": [
    "zeit_full_year_exploded"
   ]
  },
  {
   "cell_type": "code",
   "execution_count": null,
   "metadata": {},
   "outputs": [],
   "source": [
    "zeit_full_year_exploded = zeit_full_year_exploded[[\"_id\", \"date\", \"url\", \"keywords\"]]"
   ]
  },
  {
   "cell_type": "code",
   "execution_count": null,
   "metadata": {},
   "outputs": [],
   "source": [
    "zeit_full_year_exploded.rename(columns={\"uri\": \"_id\"}, inplace=True)"
   ]
  },
  {
   "cell_type": "code",
   "execution_count": null,
   "metadata": {},
   "outputs": [],
   "source": [
    "zeit_full_year_exploded"
   ]
  },
  {
   "cell_type": "code",
   "execution_count": null,
   "metadata": {},
   "outputs": [],
   "source": [
    "full_year_exploded = full_year.explode(\"keywords\")"
   ]
  },
  {
   "cell_type": "code",
   "execution_count": null,
   "metadata": {},
   "outputs": [],
   "source": [
    "country_coverage[\"ids_of_articles_nyt\"] = country_coverage[\"ids_of_articles_nyt\"].apply(ast.literal_eval)"
   ]
  },
  {
   "cell_type": "code",
   "execution_count": null,
   "metadata": {},
   "outputs": [],
   "source": [
    "country_coverage[\"ids_of_articles_zeit\"] = country_coverage[\"ids_of_articles_zeit\"].apply(ast.literal_eval)"
   ]
  },
  {
   "cell_type": "code",
   "execution_count": null,
   "metadata": {},
   "outputs": [],
   "source": [
    "countries = country_coverage[\"country\"].unique()"
   ]
  },
  {
   "cell_type": "code",
   "execution_count": null,
   "metadata": {},
   "outputs": [],
   "source": [
    "list_of_keywords_dicts = []\n",
    "for country in countries:\n",
    "    country_selection = country_coverage[country_coverage[\"country\"] == country]\n",
    "    nyt_ids = country_selection[\"ids_of_articles_nyt\"].values\n",
    "    nyt_ids = nyt_ids[0]\n",
    "    keywords_per_country = []\n",
    "    \n",
    "    for id in nyt_ids:\n",
    "        article = full_year_exploded[full_year_exploded[\"_id\"] == id]\n",
    "        keywords_list = article[\"keywords\"]\n",
    "        list_of_keywords_per_article = list(keywords_list.apply(lambda x: x.get(\"value\")))\n",
    "        keywords_per_country.extend(list_of_keywords_per_article)\n",
    "\n",
    "    my_dict = {i:{keywords_per_country.count(i)} for i in keywords_per_country}\n",
    "    list_of_keywords_dicts.append(my_dict)\n",
    "    print(len(list_of_keywords_dicts))"
   ]
  },
  {
   "cell_type": "code",
   "execution_count": null,
   "metadata": {},
   "outputs": [],
   "source": [
    "country_coverage[\"keywords_nyt\"] = list_of_keywords_dicts"
   ]
  },
  {
   "cell_type": "code",
   "execution_count": null,
   "metadata": {},
   "outputs": [],
   "source": [
    "country_coverage"
   ]
  },
  {
   "cell_type": "code",
   "execution_count": null,
   "metadata": {},
   "outputs": [],
   "source": [
    "country_coverage"
   ]
  },
  {
   "cell_type": "code",
   "execution_count": null,
   "metadata": {},
   "outputs": [],
   "source": [
    "zeit_full_year_exploded"
   ]
  },
  {
   "cell_type": "code",
   "execution_count": null,
   "metadata": {},
   "outputs": [],
   "source": [
    "list_of_zeit_keywords_dicts = []\n",
    "for country in countries:\n",
    "    print(country)\n",
    "    country_selection = country_coverage[country_coverage[\"country\"] == country]\n",
    "    ids = country_selection[\"ids_of_articles_zeit\"].values\n",
    "    ids = ids[0]\n",
    "    zeit_keywords_per_country = []\n",
    "    for id in eval(ids):\n",
    "        article = zeit_full_year_exploded[zeit_full_year_exploded[\"_id\"] == id]\n",
    "        keyword = article[\"keywords\"].values\n",
    "        zeit_keywords_per_country.extend(keyword)\n",
    "    \n",
    "    my_dict = {i:zeit_keywords_per_country.count(i) for i in zeit_keywords_per_country}\n",
    "    print(\"length of current dict\", len(my_dict.keys()))\n",
    "    list_of_zeit_keywords_dicts.append(my_dict)\n",
    "    print(\"all dicts\", len(list_of_zeit_keywords_dicts))"
   ]
  },
  {
   "cell_type": "code",
   "execution_count": null,
   "metadata": {},
   "outputs": [],
   "source": [
    "country_coverage[\"keywords_zeit\"] = list_of_zeit_keywords_dicts\n",
    "country_coverage"
   ]
  },
  {
   "cell_type": "code",
   "execution_count": null,
   "metadata": {},
   "outputs": [],
   "source": [
    "country_coverage[\"keywords_zeit\"] = country_coverage[\"keywords_zeit\"].apply(lambda x:{key: value for key, value in sorted(x.items(), key=lambda item: item[1], reverse=True)})"
   ]
  },
  {
   "cell_type": "code",
   "execution_count": null,
   "metadata": {},
   "outputs": [],
   "source": [
    "country_coverage[\"keywords_nyt\"] = country_coverage[\"keywords_nyt\"].apply(lambda x:{key: value for key, value in sorted(x.items(), key=lambda item: item[1], reverse=True)})"
   ]
  },
  {
   "cell_type": "code",
   "execution_count": null,
   "metadata": {},
   "outputs": [],
   "source": [
    "country_coverage.to_csv(\"../../data/places/coverage_by_country.csv\", index=False)"
   ]
  }
 ],
 "metadata": {
  "kernelspec": {
   "display_name": ".venv",
   "language": "python",
   "name": "python3"
  },
  "language_info": {
   "codemirror_mode": {
    "name": "ipython",
    "version": 3
   },
   "file_extension": ".py",
   "mimetype": "text/x-python",
   "name": "python",
   "nbconvert_exporter": "python",
   "pygments_lexer": "ipython3",
   "version": "3.9.6"
  }
 },
 "nbformat": 4,
 "nbformat_minor": 2
}
