{
 "cells": [
  {
   "cell_type": "code",
   "execution_count": null,
   "metadata": {},
   "outputs": [],
   "source": [
    "import pandas as pd\n",
    "import json"
   ]
  },
  {
   "cell_type": "code",
   "execution_count": null,
   "metadata": {},
   "outputs": [],
   "source": [
    "places_df = pd.read_json(\"../../data/places/nyt-sum-places.json\")"
   ]
  },
  {
   "cell_type": "code",
   "execution_count": null,
   "metadata": {},
   "outputs": [],
   "source": [
    "places_df.head(5)"
   ]
  },
  {
   "cell_type": "code",
   "execution_count": null,
   "metadata": {},
   "outputs": [],
   "source": [
    "places_df.loc[:,['name', 'count']]"
   ]
  },
  {
   "cell_type": "code",
   "execution_count": null,
   "metadata": {},
   "outputs": [],
   "source": [
    "places_categories_df = places_df.copy()"
   ]
  },
  {
   "cell_type": "code",
   "execution_count": null,
   "metadata": {},
   "outputs": [],
   "source": [
    "data = []\n",
    "for index, location in places_categories_df.iterrows():\n",
    "    dict = location[\"related_keywords\"]\n",
    "    # Ugly but works 🤪\n",
    "    if location[\"name\"] in dict: del dict[location[\"name\"]]\n",
    "    if location[\"name\"].lower() in dict: del dict[location[\"name\"].lower()]\n",
    "    if location[\"name\"].upper() in dict: del dict[location[\"name\"].upper()]\n",
    "    if location[\"name\"].capitalize() in dict: del dict[location[\"name\"].capitalize()]\n",
    "    print\n",
    "    keys = dict.keys()\n",
    "    values = dict.values()\n",
    "    for key in keys:\n",
    "\n",
    "        data.append((location[\"name\"], key, dict[key]))\n"
   ]
  },
  {
   "cell_type": "code",
   "execution_count": null,
   "metadata": {},
   "outputs": [],
   "source": [
    "df_expanded = pd.DataFrame(data, columns=('location','keyword', 'value'))"
   ]
  },
  {
   "cell_type": "code",
   "execution_count": null,
   "metadata": {},
   "outputs": [],
   "source": [
    "unique_keywords = list(df_expanded[\"keyword\"].unique())\n",
    "\n",
    "with open('unique_keywords.txt', 'w') as f:\n",
    "    for keyword in unique_keywords:\n",
    "        f.write(f\"{keyword}\\n\")"
   ]
  },
  {
   "cell_type": "code",
   "execution_count": null,
   "metadata": {},
   "outputs": [],
   "source": [
    "grouped = df_expanded.groupby(by=\"location\")"
   ]
  },
  {
   "cell_type": "code",
   "execution_count": null,
   "metadata": {},
   "outputs": [],
   "source": [
    "grouped = df_expanded.groupby(\"location\")\n",
    "\n",
    "result = []\n",
    "for location, group in grouped:\n",
    "    print(f\"Location: {location}\")\n",
    "    original_data_instance = places_categories_df[places_categories_df[\"name\"] == location].to_dict(orient='records')[0]\n",
    "    original_data_instance.pop(\"related_keywords\", None)  # Exclude \"related_keywords\"\n",
    "    \n",
    "    # Wrap \"timeline\" in a list\n",
    "    if \"timeline\" in original_data_instance:\n",
    "        original_data_instance[\"timeline\"] = [original_data_instance[\"timeline\"]]\n",
    "    \n",
    "    top_keywords = group.nlargest(20, 'value')[[\"keyword\", \"value\"]]\n",
    "    print(top_keywords)\n",
    "    print(\"\\n\")\n",
    "    result.append({\n",
    "        \"location\": location,\n",
    "        \"count\": original_data_instance.get(\"count\", 0),\n",
    "        \"top_keywords\": top_keywords.to_dict(orient='records')\n",
    "    })\n",
    "\n",
    "# Export to JSON\n",
    "with open('../../data/top_keywords_by_location.json', 'w') as f:\n",
    "    json.dump(result, f)"
   ]
  },
  {
   "cell_type": "code",
   "execution_count": null,
   "metadata": {},
   "outputs": [],
   "source": []
  }
 ],
 "metadata": {
  "kernelspec": {
   "display_name": ".venv",
   "language": "python",
   "name": "python3"
  },
  "language_info": {
   "codemirror_mode": {
    "name": "ipython",
    "version": 3
   },
   "file_extension": ".py",
   "mimetype": "text/x-python",
   "name": "python",
   "nbconvert_exporter": "python",
   "pygments_lexer": "ipython3",
   "version": "3.9.6"
  }
 },
 "nbformat": 4,
 "nbformat_minor": 2
}
