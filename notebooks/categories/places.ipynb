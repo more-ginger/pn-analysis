{
 "cells": [
  {
   "cell_type": "markdown",
   "metadata": {},
   "source": [
    "# Extract articles that mention countries, states, or cities as categories "
   ]
  },
  {
   "cell_type": "code",
   "execution_count": null,
   "metadata": {},
   "outputs": [],
   "source": [
    "%pip install pycountry geonamescache geopy requests_cache tqdm"
   ]
  },
  {
   "cell_type": "code",
   "execution_count": null,
   "metadata": {},
   "outputs": [],
   "source": [
    "import time\n",
    "import pycountry\n",
    "import pandas as pd\n",
    "from geopy.geocoders import Nominatim\n",
    "import requests_cache\n",
    "from pandas.core.common import flatten\n",
    "import ast\n",
    "import re\n",
    "from tqdm import tqdm"
   ]
  },
  {
   "cell_type": "markdown",
   "metadata": {},
   "source": [
    "## Find all unique instances of places in NYT coverage"
   ]
  },
  {
   "cell_type": "code",
   "execution_count": 197,
   "metadata": {},
   "outputs": [],
   "source": [
    "full_year = pd.read_csv(\"../../input-data/temp-data.json\")"
   ]
  },
  {
   "cell_type": "code",
   "execution_count": 198,
   "metadata": {},
   "outputs": [
    {
     "data": {
      "text/plain": [
       "Index(['Unnamed: 0', 'abstract', 'web_url', 'snippet', 'lead_paragraph',\n",
       "       'print_section', 'print_page', 'source', 'multimedia', 'headline',\n",
       "       'keywords', 'pub_date', 'document_type', 'news_desk', 'section_name',\n",
       "       'byline', 'type_of_material', '_id', 'word_count', 'uri',\n",
       "       'subsection_name'],\n",
       "      dtype='object')"
      ]
     },
     "execution_count": 198,
     "metadata": {},
     "output_type": "execute_result"
    }
   ],
   "source": [
    "full_year.columns"
   ]
  },
  {
   "cell_type": "code",
   "execution_count": 199,
   "metadata": {},
   "outputs": [],
   "source": [
    "full_year_essential = full_year[[\"_id\", \"section_name\", \"keywords\", \"pub_date\"]].copy()"
   ]
  },
  {
   "cell_type": "code",
   "execution_count": 200,
   "metadata": {},
   "outputs": [
    {
     "data": {
      "application/vnd.microsoft.datawrangler.viewer.v0+json": {
       "columns": [
        {
         "name": "index",
         "rawType": "int64",
         "type": "integer"
        },
        {
         "name": "_id",
         "rawType": "object",
         "type": "string"
        },
        {
         "name": "section_name",
         "rawType": "object",
         "type": "unknown"
        },
        {
         "name": "keywords",
         "rawType": "object",
         "type": "string"
        },
        {
         "name": "pub_date",
         "rawType": "object",
         "type": "string"
        }
       ],
       "conversionMethod": "pd.DataFrame",
       "ref": "b3650129-dc32-4619-9882-7415c18039b7",
       "rows": [
        [
         "0",
         "nyt://article/da8532bd-f9bd-5ca3-9e7e-afef6e9f76d9",
         "Business Day",
         "[{'name': 'subject', 'value': 'Careers and Professions', 'rank': 1, 'major': 'N'}, {'name': 'subject', 'value': 'Hiring and Promotion', 'rank': 2, 'major': 'N'}, {'name': 'subject', 'value': 'Content Type: Service', 'rank': 3, 'major': 'N'}, {'name': 'subject', 'value': 'Workplace Environment', 'rank': 4, 'major': 'N'}, {'name': 'subject', 'value': 'your-feed-selfcare', 'rank': 5, 'major': 'N'}]",
         "2024-09-01T04:01:07+0000"
        ],
        [
         "1",
         "nyt://article/aeabc262-aeb0-5423-a7ac-8bb664cb983b",
         "World",
         "[{'name': 'glocations', 'value': 'India', 'rank': 1, 'major': 'N'}, {'name': 'subject', 'value': 'Hospitals', 'rank': 2, 'major': 'N'}, {'name': 'subject', 'value': 'Workplace Hazards and Violations', 'rank': 3, 'major': 'N'}, {'name': 'subject', 'value': 'Doctors', 'rank': 4, 'major': 'N'}, {'name': 'subject', 'value': 'Medical Schools', 'rank': 5, 'major': 'N'}, {'name': 'subject', 'value': 'Murders, Attempted Murders and Homicides', 'rank': 6, 'major': 'N'}, {'name': 'subject', 'value': 'Health Care Workers', 'rank': 7, 'major': 'N'}]",
         "2024-09-01T04:01:25+0000"
        ],
        [
         "2",
         "nyt://article/42c0d0f2-ea62-5d2b-8eba-baa04180adea",
         "World",
         "[{'name': 'glocations', 'value': 'Maracaibo (Venezuela)', 'rank': 1, 'major': 'N'}, {'name': 'subject', 'value': 'Population', 'rank': 2, 'major': 'N'}, {'name': 'subject', 'value': 'Immigration and Emigration', 'rank': 3, 'major': 'N'}, {'name': 'glocations', 'value': 'Venezuela', 'rank': 4, 'major': 'N'}, {'name': 'subject', 'value': 'Politics and Government', 'rank': 5, 'major': 'N'}, {'name': 'subject', 'value': 'Economic Conditions and Trends', 'rank': 6, 'major': 'N'}, {'name': 'subject', 'value': 'Shortages', 'rank': 7, 'major': 'N'}, {'name': 'subject', 'value': 'Embargoes and Sanctions', 'rank': 8, 'major': 'N'}, {'name': 'subject', 'value': 'Labor and Jobs', 'rank': 9, 'major': 'N'}, {'name': 'persons', 'value': 'Maduro, Nicolas', 'rank': 10, 'major': 'N'}, {'name': 'persons', 'value': 'Gonzalez, Edmundo (1949- )', 'rank': 11, 'major': 'N'}, {'name': 'persons', 'value': 'Machado, Maria Corina', 'rank': 12, 'major': 'N'}]",
         "2024-09-01T04:01:27+0000"
        ],
        [
         "3",
         "nyt://article/6393c6c3-0e1f-5494-925d-165e7aafdefa",
         "World",
         "[{'name': 'subject', 'value': 'Israel-Gaza War (2023- )', 'rank': 1, 'major': 'N'}, {'name': 'subject', 'value': 'Vaccination and Immunization', 'rank': 2, 'major': 'N'}, {'name': 'subject', 'value': 'Palestinians', 'rank': 3, 'major': 'N'}, {'name': 'organizations', 'value': 'World Health Organization', 'rank': 4, 'major': 'N'}, {'name': 'organizations', 'value': 'United Nations', 'rank': 5, 'major': 'N'}, {'name': 'organizations', 'value': 'Hamas', 'rank': 6, 'major': 'N'}, {'name': 'glocations', 'value': 'Israel', 'rank': 7, 'major': 'N'}, {'name': 'subject', 'value': 'Poliomyelitis', 'rank': 8, 'major': 'N'}, {'name': 'subject', 'value': 'Children and Childhood', 'rank': 9, 'major': 'N'}]",
         "2024-09-01T04:01:43+0000"
        ],
        [
         "4",
         "nyt://article/fe046102-78e5-530d-89e0-59ff09c0e2e4",
         "World",
         "[{'name': 'glocations', 'value': 'Germany', 'rank': 1, 'major': 'N'}, {'name': 'subject', 'value': 'Elections, State Legislature', 'rank': 2, 'major': 'N'}, {'name': 'glocations', 'value': 'SAXONY (GERMANY)', 'rank': 3, 'major': 'N'}, {'name': 'glocations', 'value': 'THURINGIA (GERMANY)', 'rank': 4, 'major': 'N'}, {'name': 'organizations', 'value': 'Alternative for Germany', 'rank': 5, 'major': 'N'}, {'name': 'organizations', 'value': 'Christian Democratic Union (Germany)', 'rank': 6, 'major': 'N'}, {'name': 'organizations', 'value': 'Sahra Wagenknecht Alliance (BSW)', 'rank': 7, 'major': 'N'}, {'name': 'subject', 'value': 'Right-Wing Extremism and Alt-Right', 'rank': 8, 'major': 'N'}, {'name': 'subject', 'value': 'Politics and Government', 'rank': 9, 'major': 'N'}, {'name': 'persons', 'value': 'Scholz, Olaf (1958- )', 'rank': 10, 'major': 'N'}, {'name': 'subject', 'value': 'Elections', 'rank': 11, 'major': 'N'}]",
         "2024-09-01T04:01:43+0000"
        ],
        [
         "5",
         "nyt://article/9747f7eb-e1c0-5709-846c-e7128215e78f",
         "Corrections",
         "[]",
         "2024-09-01T04:02:34+0000"
        ],
        [
         "6",
         "nyt://article/1830dce5-7ba0-5cfb-92a2-fe701642e831",
         "Corrections",
         "[]",
         "2024-09-01T04:04:10+0000"
        ],
        [
         "7",
         "nyt://article/8c93a8fe-604e-5c56-b025-18fe292ef016",
         "World",
         "[{'name': 'persons', 'value': 'Goldberg-Polin, Hersh', 'rank': 1, 'major': 'N'}, {'name': 'subject', 'value': 'Israel-Gaza War (2023- )', 'rank': 2, 'major': 'N'}, {'name': 'subject', 'value': 'Kidnapping and Hostages', 'rank': 3, 'major': 'N'}, {'name': 'subject', 'value': 'Murders, Attempted Murders and Homicides', 'rank': 4, 'major': 'N'}, {'name': 'subject', 'value': 'War Crimes, Genocide and Crimes Against Humanity', 'rank': 5, 'major': 'N'}, {'name': 'glocations', 'value': 'Gaza Strip', 'rank': 6, 'major': 'N'}, {'name': 'glocations', 'value': 'Israel', 'rank': 7, 'major': 'N'}, {'name': 'organizations', 'value': 'Hamas', 'rank': 8, 'major': 'N'}]",
         "2024-09-01T04:17:40+0000"
        ],
        [
         "8",
         "nyt://article/9769ca02-f34f-50b8-98ce-a3bdb8e2d352",
         "Opinion",
         "[{'name': 'subject', 'value': 'Summer (Season)', 'rank': 1, 'major': 'N'}, {'name': 'subject', 'value': 'Grief (Emotion)', 'rank': 2, 'major': 'N'}]",
         "2024-09-01T05:00:10+0000"
        ],
        [
         "9",
         "nyt://article/228507db-644f-5e85-aaa8-867ca6b7d4c5",
         "Crosswords & Games",
         "[{'name': 'creative_works', 'value': 'Spelling Bee (Game)', 'rank': 1, 'major': 'N'}, {'name': 'subject', 'value': 'Crossword Puzzles', 'rank': 2, 'major': 'N'}]",
         "2024-09-01T07:00:03+0000"
        ],
        [
         "10",
         "nyt://article/edc82925-6f3f-547b-be6a-bb0c66c5a6ac",
         "World",
         "[{'name': 'organizations', 'value': 'Lego Group', 'rank': 1, 'major': 'N'}, {'name': 'subject', 'value': 'Maritime Accidents and Safety', 'rank': 2, 'major': 'N'}, {'name': 'glocations', 'value': 'Cornwall (England)', 'rank': 3, 'major': 'N'}, {'name': 'subject', 'value': 'Water Pollution', 'rank': 4, 'major': 'N'}, {'name': 'subject', 'value': 'Toys', 'rank': 5, 'major': 'N'}, {'name': 'subject', 'value': 'Plastics', 'rank': 6, 'major': 'N'}, {'name': 'subject', 'value': 'Beaches', 'rank': 7, 'major': 'N'}, {'name': 'subject', 'value': 'Freight (Cargo)', 'rank': 8, 'major': 'N'}, {'name': 'subject', 'value': 'Ships and Shipping', 'rank': 9, 'major': 'N'}, {'name': 'subject', 'value': 'Fish and Other Marine Life', 'rank': 10, 'major': 'N'}, {'name': 'subject', 'value': 'Social Media', 'rank': 11, 'major': 'N'}, {'name': 'glocations', 'value': 'England', 'rank': 12, 'major': 'N'}, {'name': 'subject', 'value': 'Oceans and Seas', 'rank': 13, 'major': 'N'}, {'name': 'subject', 'value': 'audio-positive-escape', 'rank': 14, 'major': 'N'}, {'name': 'subject', 'value': 'audio-positive-happy', 'rank': 15, 'major': 'N'}, {'name': 'subject', 'value': 'audio-positive-nostalgic', 'rank': 16, 'major': 'N'}, {'name': 'subject', 'value': 'audio-neutral-informative', 'rank': 17, 'major': 'N'}, {'name': 'subject', 'value': 'audio-neutral-immersive', 'rank': 18, 'major': 'N'}]",
         "2024-09-01T07:00:23+0000"
        ],
        [
         "11",
         "nyt://article/fbd74938-d198-5111-a322-256674eeb1d0",
         "New York",
         "[{'name': 'glocations', 'value': 'New York City', 'rank': 1, 'major': 'N'}]",
         "2024-09-01T07:00:23+0000"
        ],
        [
         "12",
         "nyt://article/6b7f2395-9c71-5f1f-bbd0-4a0aebf6cd1e",
         "Times Insider",
         "[{'name': 'organizations', 'value': 'New York Times', 'rank': 1, 'major': 'N'}, {'name': 'glocations', 'value': 'Times Square and 42nd Street (Manhattan, NY)', 'rank': 2, 'major': 'N'}, {'name': 'glocations', 'value': 'Midtown Area (Manhattan, NY)', 'rank': 3, 'major': 'N'}]",
         "2024-09-01T07:00:35+0000"
        ],
        [
         "13",
         "nyt://article/cfeb776c-7468-5f9c-96b1-cfee972d02be",
         "New York",
         "[{'name': 'persons', 'value': 'Strazzullo, Sal', 'rank': 1, 'major': 'N'}, {'name': 'subject', 'value': 'Bars and Nightclubs', 'rank': 2, 'major': 'N'}, {'name': 'subject', 'value': 'Robberies and Thefts', 'rank': 3, 'major': 'N'}, {'name': 'subject', 'value': 'Legal Profession', 'rank': 4, 'major': 'N'}, {'name': 'subject', 'value': 'Suits and Litigation (Civil)', 'rank': 5, 'major': 'N'}, {'name': 'subject', 'value': 'Ponzi and Pyramid Schemes', 'rank': 6, 'major': 'N'}, {'name': 'subject', 'value': 'Frauds and Swindling', 'rank': 7, 'major': 'N'}, {'name': 'persons', 'value': 'De La Hoya, Oscar', 'rank': 8, 'major': 'N'}, {'name': 'persons', 'value': 'Hay, R Couri', 'rank': 9, 'major': 'N'}, {'name': 'glocations', 'value': 'Bensonhurst (Brooklyn, NY)', 'rank': 10, 'major': 'N'}, {'name': 'subject', 'value': 'Content Type: Personal Profile', 'rank': 11, 'major': 'N'}]",
         "2024-09-01T07:00:35+0000"
        ],
        [
         "14",
         "nyt://article/d26bb35c-3a54-52d4-aa69-579404507e2f",
         "Books",
         "[{'name': 'subject', 'value': 'Books and Literature', 'rank': 1, 'major': 'N'}, {'name': 'subject', 'value': 'Writing and Writers', 'rank': 2, 'major': 'N'}, {'name': 'subject', 'value': 'Content Type: Personal Profile', 'rank': 3, 'major': 'N'}, {'name': 'persons', 'value': 'Senna, Danzy', 'rank': 4, 'major': 'N'}, {'name': 'subject', 'value': 'Black People', 'rank': 5, 'major': 'N'}, {'name': 'subject', 'value': 'Blacks', 'rank': 6, 'major': 'N'}, {'name': 'subject', 'value': 'Race and Ethnicity', 'rank': 7, 'major': 'N'}, {'name': 'persons', 'value': 'Thompson, Tessa', 'rank': 8, 'major': 'N'}, {'name': 'persons', 'value': 'Everett, Percival', 'rank': 9, 'major': 'N'}, {'name': 'glocations', 'value': 'California', 'rank': 10, 'major': 'N'}]",
         "2024-09-01T09:00:18+0000"
        ],
        [
         "15",
         "nyt://article/e2328548-0053-5825-b964-0fa73bf8fa59",
         "Business Day",
         "[{'name': 'organizations', 'value': 'Acadia Healthcare Company Inc', 'rank': 1, 'major': 'N'}, {'name': 'subject', 'value': 'Hospitals', 'rank': 2, 'major': 'N'}, {'name': 'subject', 'value': 'Mental Health and Disorders', 'rank': 3, 'major': 'N'}, {'name': 'subject', 'value': 'Psychiatry and Psychiatrists', 'rank': 4, 'major': 'N'}, {'name': 'subject', 'value': 'Psychology and Psychologists', 'rank': 5, 'major': 'N'}, {'name': 'subject', 'value': 'Emergency Medical Treatment', 'rank': 6, 'major': 'N'}, {'name': 'subject', 'value': 'your-feed-healthcare', 'rank': 7, 'major': 'N'}, {'name': 'subject', 'value': 'Ethics and Official Misconduct', 'rank': 8, 'major': 'N'}, {'name': 'subject', 'value': 'Frauds and Swindling', 'rank': 9, 'major': 'N'}]",
         "2024-09-01T09:00:27+0000"
        ],
        [
         "16",
         "nyt://article/14e704b7-e4c3-55c4-b1b1-755d4c7972b1",
         "Books",
         "[{'name': 'subject', 'value': 'Books and Literature', 'rank': 1, 'major': 'N'}, {'name': 'subject', 'value': 'genre-books-thriller', 'rank': 2, 'major': 'N'}, {'name': 'persons', 'value': 'Newman, TJ (Author)', 'rank': 3, 'major': 'N'}]",
         "2024-09-01T09:00:36+0000"
        ],
        [
         "17",
         "nyt://article/39a6950a-15db-59d2-baaf-f0d9509b2fa1",
         "Magazine",
         "[{'name': 'subject', 'value': 'Currency', 'rank': 1, 'major': 'N'}, {'name': 'subject', 'value': 'Numismatics', 'rank': 2, 'major': 'N'}, {'name': 'subject', 'value': 'Lobbying and Lobbyists', 'rank': 3, 'major': 'N'}, {'name': 'subject', 'value': 'Banking and Financial Institutions', 'rank': 4, 'major': 'N'}, {'name': 'organizations', 'value': 'Federal Reserve System', 'rank': 5, 'major': 'N'}, {'name': 'organizations', 'value': 'Treasury Department', 'rank': 6, 'major': 'N'}, {'name': 'organizations', 'value': 'United States Mint', 'rank': 7, 'major': 'N'}, {'name': 'glocations', 'value': 'United States', 'rank': 8, 'major': 'N'}, {'name': 'subject', 'value': 'Copper, Brass and Bronze', 'rank': 9, 'major': 'N'}, {'name': 'persons', 'value': 'Stivers, Steven E', 'rank': 10, 'major': 'N'}, {'name': 'organizations', 'value': 'Coinstar Inc', 'rank': 11, 'major': 'N'}, {'name': 'organizations', 'value': 'Artazn LLC', 'rank': 12, 'major': 'N'}, {'name': 'persons', 'value': 'Gore, Jeff', 'rank': 13, 'major': 'N'}, {'name': 'organizations', 'value': 'Americans for Common Cents', 'rank': 14, 'major': 'N'}, {'name': 'persons', 'value': 'Weller, Mark W', 'rank': 15, 'major': 'N'}]",
         "2024-09-01T09:00:57+0000"
        ],
        [
         "18",
         "nyt://article/cdd22020-ad15-54a4-9a31-9b1ac7387612",
         "World",
         "[{'name': 'glocations', 'value': 'Egypt', 'rank': 1, 'major': 'N'}, {'name': 'subject', 'value': 'Electric Light and Power', 'rank': 2, 'major': 'N'}, {'name': 'subject', 'value': 'Economic Conditions and Trends', 'rank': 3, 'major': 'N'}, {'name': 'subject', 'value': 'Heat and Heat Waves', 'rank': 4, 'major': 'N'}, {'name': 'persons', 'value': 'Sisi, Abdel Fattah el-', 'rank': 5, 'major': 'N'}, {'name': 'glocations', 'value': 'Cairo (Egypt)', 'rank': 6, 'major': 'N'}, {'name': 'subject', 'value': 'Power Failures and Blackouts', 'rank': 7, 'major': 'N'}, {'name': 'subject', 'value': 'Curfews', 'rank': 8, 'major': 'N'}]",
         "2024-09-01T09:00:57+0000"
        ],
        [
         "19",
         "nyt://article/914e90a2-e621-593c-961d-0d031cdd2062",
         "Books",
         "[{'name': 'subject', 'value': 'Fashion and Apparel', 'rank': 2, 'major': 'N'}, {'name': 'subject', 'value': 'Books and Literature', 'rank': 3, 'major': 'N'}, {'name': 'persons', 'value': 'Vreeland, Diana', 'rank': 4, 'major': 'N'}, {'name': 'glocations', 'value': 'New York City', 'rank': 5, 'major': 'N'}, {'name': 'subject', 'value': 'World War II (1939-45)', 'rank': 6, 'major': 'N'}, {'name': 'subject', 'value': 'Design', 'rank': 7, 'major': 'N'}, {'name': 'glocations', 'value': 'Paris (France)', 'rank': 8, 'major': 'N'}, {'name': 'subject', 'value': 'Content Type: Personal Profile', 'rank': 10, 'major': 'N'}]",
         "2024-09-01T09:01:14+0000"
        ],
        [
         "20",
         "nyt://article/c405988a-4de6-5b3d-a9e2-c6c7130b3675",
         "U.S.",
         "[{'name': 'subject', 'value': 'United States Politics and Government', 'rank': 1, 'major': 'N'}, {'name': 'subject', 'value': 'Presidential Election of 2024', 'rank': 2, 'major': 'N'}, {'name': 'subject', 'value': 'Abortion', 'rank': 3, 'major': 'N'}, {'name': 'subject', 'value': 'Presidential Election of 2020', 'rank': 4, 'major': 'N'}, {'name': 'subject', 'value': 'Elections, House of Representatives', 'rank': 5, 'major': 'N'}, {'name': 'organizations', 'value': 'Democratic Party', 'rank': 6, 'major': 'N'}, {'name': 'organizations', 'value': 'Republican Party', 'rank': 7, 'major': 'N'}, {'name': 'persons', 'value': 'Bacon, Don (1963- )', 'rank': 8, 'major': 'N'}, {'name': 'persons', 'value': 'Calvert, Ken', 'rank': 9, 'major': 'N'}, {'name': 'persons', 'value': 'Gonzalez, Vicente (1967- )', 'rank': 10, 'major': 'N'}, {'name': 'persons', 'value': 'Hayes, Jahana', 'rank': 11, 'major': 'N'}, {'name': 'persons', 'value': 'Kent, Joe (1980- )', 'rank': 12, 'major': 'N'}]",
         "2024-09-01T09:01:14+0000"
        ],
        [
         "21",
         "nyt://article/8dddc4c9-256c-5427-b07a-fe614e50c5cb",
         "Arts",
         "[{'name': 'subject', 'value': 'Television', 'rank': 1, 'major': 'N'}, {'name': 'creative_works', 'value': 'English Teacher (TV Program)', 'rank': 2, 'major': 'N'}, {'name': 'organizations', 'value': 'FX (TV Network)', 'rank': 3, 'major': 'N'}, {'name': 'persons', 'value': 'Alvarez, Brian Jordan', 'rank': 4, 'major': 'N'}, {'name': 'persons', 'value': 'Colantoni, Enrico', 'rank': 5, 'major': 'N'}, {'name': 'persons', 'value': 'Kerman, Langston (1987- )', 'rank': 6, 'major': 'N'}, {'name': 'persons', 'value': 'Mattel, Trixie', 'rank': 7, 'major': 'N'}, {'name': 'persons', 'value': 'Koenig, Stephanie (1987- )', 'rank': 8, 'major': 'N'}]",
         "2024-09-01T09:01:24+0000"
        ],
        [
         "22",
         "nyt://article/df53241e-170b-5056-9483-2dbbd313f500",
         "U.S.",
         "[{'name': 'subject', 'value': 'Presidential Election of 2024', 'rank': 1, 'major': 'N'}, {'name': 'subject', 'value': 'Campaign Finance', 'rank': 2, 'major': 'N'}, {'name': 'persons', 'value': 'Harris, Kamala D', 'rank': 3, 'major': 'N'}, {'name': 'persons', 'value': 'Hoffman, Reid Garrett', 'rank': 4, 'major': 'N'}, {'name': 'persons', 'value': 'Soros, George', 'rank': 5, 'major': 'N'}, {'name': 'persons', 'value': 'Soros, Alexander', 'rank': 6, 'major': 'N'}, {'name': 'persons', 'value': 'Moskovitz, Dustin', 'rank': 7, 'major': 'N'}, {'name': 'persons', 'value': 'Bloomberg, Michael R', 'rank': 8, 'major': 'N'}, {'name': 'persons', 'value': 'Katzenberg, Jeffrey', 'rank': 9, 'major': 'N'}, {'name': 'persons', 'value': 'Trump, Donald J', 'rank': 10, 'major': 'N'}, {'name': 'persons', 'value': 'Mellon, Timothy (1942- )', 'rank': 11, 'major': 'N'}, {'name': 'persons', 'value': 'Musk, Elon', 'rank': 12, 'major': 'N'}, {'name': 'persons', 'value': 'Adelson, Miriam', 'rank': 13, 'major': 'N'}, {'name': 'persons', 'value': 'Uihlein, Richard', 'rank': 14, 'major': 'N'}, {'name': 'persons', 'value': 'Uihlein, Elizabeth', 'rank': 15, 'major': 'N'}, {'name': 'persons', 'value': 'McMahon, Linda E', 'rank': 16, 'major': 'N'}]",
         "2024-09-01T09:01:34+0000"
        ],
        [
         "23",
         "nyt://article/14d10d4e-c8ec-56d1-8fbb-fe07499e0644",
         "U.S.",
         "[{'name': 'subject', 'value': 'Presidential Election of 2024', 'rank': 1, 'major': 'N'}, {'name': 'subject', 'value': 'Political Advertising', 'rank': 2, 'major': 'N'}, {'name': 'organizations', 'value': 'Arlington National Cemetery', 'rank': 3, 'major': 'N'}, {'name': 'persons', 'value': 'Edwards, John Bel (1966- )', 'rank': 4, 'major': 'N'}, {'name': 'persons', 'value': 'Kelly, John F (1950- )', 'rank': 5, 'major': 'N'}, {'name': 'persons', 'value': 'McCain, John', 'rank': 6, 'major': 'N'}, {'name': 'persons', 'value': 'Trump, Donald J', 'rank': 7, 'major': 'N'}, {'name': 'organizations', 'value': 'United States Army', 'rank': 8, 'major': 'N'}, {'name': 'subject', 'value': 'Cemeteries', 'rank': 9, 'major': 'N'}, {'name': 'subject', 'value': 'United States Defense and Military Forces', 'rank': 10, 'major': 'N'}]",
         "2024-09-01T09:01:43+0000"
        ],
        [
         "24",
         "nyt://article/d0c34b21-565c-52dc-bfc5-7ebd45a8fdc6",
         "World",
         "[{'name': 'subject', 'value': 'Evacuations and Evacuees', 'rank': 1, 'major': 'N'}, {'name': 'subject', 'value': 'Russian Invasion of Ukraine (2022)', 'rank': 2, 'major': 'N'}, {'name': 'subject', 'value': 'Defense and Military Forces', 'rank': 3, 'major': 'N'}, {'name': 'glocations', 'value': 'Pokrovsk (Ukraine)', 'rank': 4, 'major': 'N'}, {'name': 'glocations', 'value': 'Ukraine', 'rank': 5, 'major': 'N'}, {'name': 'glocations', 'value': 'Russia', 'rank': 6, 'major': 'N'}]",
         "2024-09-01T09:02:15+0000"
        ],
        [
         "25",
         "nyt://article/bdb02241-d372-5cb3-bdcb-0af543fd7d7a",
         "U.S.",
         "[{'name': 'subject', 'value': 'Meatpacking Plants and Slaughterhouses', 'rank': 1, 'major': 'N'}, {'name': 'subject', 'value': 'Food Contamination and Poisoning', 'rank': 2, 'major': 'N'}, {'name': 'subject', 'value': 'Listeria Monocytogenes', 'rank': 3, 'major': 'N'}, {'name': 'subject', 'value': 'Meat', 'rank': 4, 'major': 'N'}, {'name': 'subject', 'value': 'Recalls and Bans of Products', 'rank': 5, 'major': 'N'}, {'name': 'subject', 'value': 'Shutdowns (Institutional)', 'rank': 6, 'major': 'N'}, {'name': 'subject', 'value': 'Labor and Jobs', 'rank': 7, 'major': 'N'}, {'name': 'subject', 'value': 'Deaths (Fatalities)', 'rank': 8, 'major': 'N'}, {'name': 'organizations', 'value': \"Boar's Head Brand\", 'rank': 9, 'major': 'N'}, {'name': 'glocations', 'value': 'Jarratt (Va)', 'rank': 10, 'major': 'N'}]",
         "2024-09-01T09:03:32+0000"
        ],
        [
         "26",
         "nyt://article/416933cc-2b74-5f7d-860d-1a440eba2e33",
         "Style",
         "[{'name': 'subject', 'value': 'Egg Donation and Freezing', 'rank': 1, 'major': 'N'}, {'name': 'subject', 'value': 'Parties (Social)', 'rank': 2, 'major': 'N'}]",
         "2024-09-01T09:03:38+0000"
        ],
        [
         "27",
         "nyt://article/3e378519-5301-513b-9ff1-baaf73c2afe1",
         "World",
         "[{'name': 'glocations', 'value': 'Philippines', 'rank': 1, 'major': 'N'}, {'name': 'glocations', 'value': 'China', 'rank': 2, 'major': 'N'}, {'name': 'glocations', 'value': 'South China Sea', 'rank': 3, 'major': 'N'}, {'name': 'subject', 'value': 'Territorial Disputes', 'rank': 4, 'major': 'N'}, {'name': 'subject', 'value': 'Maritime Accidents and Safety', 'rank': 5, 'major': 'N'}, {'name': 'subject', 'value': 'United States International Relations', 'rank': 6, 'major': 'N'}, {'name': 'subject', 'value': 'International Relations', 'rank': 7, 'major': 'N'}, {'name': 'subject', 'value': 'Defense and Military Forces', 'rank': 8, 'major': 'N'}]",
         "2024-09-01T09:30:15+0000"
        ],
        [
         "28",
         "nyt://article/1604592b-82ac-5788-acb0-993396746bf2",
         "Crosswords & Games",
         "[{'name': 'subject', 'value': 'Wordle (Puzzle)', 'rank': 1, 'major': 'N'}, {'name': 'subject', 'value': 'Crossword Puzzles', 'rank': 2, 'major': 'N'}]",
         "2024-09-01T10:00:02+0000"
        ],
        [
         "29",
         "nyt://article/f3690cc6-281e-53fd-9087-9e5c32e31c52",
         "Crosswords & Games",
         "[{'name': 'subject', 'value': 'Crossword Puzzles', 'rank': 1, 'major': 'N'}, {'name': 'creative_works', 'value': 'Connections (Game)', 'rank': 2, 'major': 'N'}]",
         "2024-09-01T10:00:06+0000"
        ],
        [
         "30",
         "nyt://article/3ea7759f-1fa3-52db-b2ae-b0aab1991bd8",
         "Opinion",
         "[{'name': 'subject', 'value': 'Friendship', 'rank': 1, 'major': 'N'}, {'name': 'subject', 'value': 'Income Inequality', 'rank': 2, 'major': 'N'}, {'name': 'glocations', 'value': 'United States', 'rank': 3, 'major': 'N'}, {'name': 'subject', 'value': 'Loneliness', 'rank': 4, 'major': 'N'}, {'name': 'subject', 'value': 'Volunteers and Community Service', 'rank': 5, 'major': 'N'}]",
         "2024-09-01T10:00:09+0000"
        ],
        [
         "31",
         "nyt://article/bd11e511-dbc3-5340-9374-b58f9971a6bc",
         "Opinion",
         "[{'name': 'persons', 'value': 'Trump, Donald J', 'rank': 1, 'major': 'N'}, {'name': 'subject', 'value': 'Presidential Election of 2024', 'rank': 2, 'major': 'N'}, {'name': 'subject', 'value': 'Women and Girls', 'rank': 3, 'major': 'N'}, {'name': 'organizations', 'value': 'Moms for Liberty', 'rank': 4, 'major': 'N'}, {'name': 'persons', 'value': 'Justice, Tiffany', 'rank': 5, 'major': 'N'}]",
         "2024-09-01T10:00:17+0000"
        ],
        [
         "32",
         "nyt://article/d918efb7-d901-53c8-a800-1247115a0a5b",
         "World",
         "[{'name': 'subject', 'value': 'Drones (Pilotless Planes)', 'rank': 1, 'major': 'N'}, {'name': 'subject', 'value': 'United States International Relations', 'rank': 2, 'major': 'N'}, {'name': 'subject', 'value': 'Russian Invasion of Ukraine (2022)', 'rank': 3, 'major': 'N'}, {'name': 'subject', 'value': 'Oil (Petroleum) and Gasoline', 'rank': 4, 'major': 'N'}, {'name': 'persons', 'value': 'Zelensky, Volodymyr', 'rank': 5, 'major': 'N'}, {'name': 'glocations', 'value': 'Ukraine', 'rank': 6, 'major': 'N'}, {'name': 'glocations', 'value': 'Russia', 'rank': 7, 'major': 'N'}]",
         "2024-09-01T10:47:11+0000"
        ],
        [
         "33",
         "nyt://article/8f084064-e5f0-5844-90b7-0d94955b8373",
         "U.S.",
         "[{'name': 'persons', 'value': 'Harris, Kamala D', 'rank': 1, 'major': 'N'}, {'name': 'subject', 'value': 'Presidential Election of 2024', 'rank': 2, 'major': 'N'}, {'name': 'organizations', 'value': 'Democratic Party', 'rank': 3, 'major': 'N'}, {'name': 'subject', 'value': 'United States Politics and Government', 'rank': 4, 'major': 'N'}, {'name': 'persons', 'value': 'Biden, Joseph R Jr', 'rank': 5, 'major': 'N'}, {'name': 'persons', 'value': 'Trump, Donald J', 'rank': 6, 'major': 'N'}]",
         "2024-09-01T11:00:09+0000"
        ],
        [
         "34",
         "nyt://article/38c392b6-cfa1-5faa-b8c2-2e6d9bf870f5",
         "Arts",
         "[{'name': 'subject', 'value': 'Television', 'rank': 1, 'major': 'N'}, {'name': 'subject', 'value': 'Movies', 'rank': 2, 'major': 'N'}, {'name': 'creative_works', 'value': 'My Brilliant Friend (TV Program)', 'rank': 3, 'major': 'N'}, {'name': 'creative_works', 'value': 'Slow Horses (TV Program)', 'rank': 4, 'major': 'N'}, {'name': 'creative_works', 'value': 'The Walking Dead (TV Program)', 'rank': 5, 'major': 'N'}, {'name': 'creative_works', 'value': 'Tulsa King (TV Program)', 'rank': 6, 'major': 'N'}, {'name': 'creative_works', 'value': 'The Old Man (TV Program)', 'rank': 10, 'major': 'N'}]",
         "2024-09-01T11:00:27+0000"
        ],
        [
         "35",
         "nyt://article/d8ac072d-962c-59e5-b7a0-c3284e2fb871",
         "World",
         "[{'name': 'subject', 'value': 'Kidnapping and Hostages', 'rank': 1, 'major': 'N'}, {'name': 'subject', 'value': 'Palestinians', 'rank': 2, 'major': 'N'}, {'name': 'subject', 'value': 'Israel-Gaza War (2023- )', 'rank': 3, 'major': 'N'}, {'name': 'persons', 'value': 'Biden, Joseph R Jr', 'rank': 4, 'major': 'N'}, {'name': 'persons', 'value': 'Goldberg-Polin, Hersh', 'rank': 5, 'major': 'N'}]",
         "2024-09-01T11:35:45+0000"
        ],
        [
         "36",
         "nyt://article/d3122495-1e8c-5bd4-a5ee-b694284f44c5",
         "Briefing",
         "[{'name': 'subject', 'value': 'internal-storyline-no', 'rank': 1, 'major': 'N'}, {'name': 'subject', 'value': 'Currency', 'rank': 2, 'major': 'N'}, {'name': 'subject', 'value': 'Numismatics', 'rank': 3, 'major': 'N'}, {'name': 'organizations', 'value': 'United States Mint', 'rank': 4, 'major': 'N'}, {'name': 'glocations', 'value': 'United States', 'rank': 5, 'major': 'N'}]",
         "2024-09-01T11:40:57+0000"
        ],
        [
         "37",
         "nyt://article/e3ad1eb7-1466-5f43-9234-14db378205b2",
         "World",
         "[{'name': 'subject', 'value': 'Israel-Gaza War (2023- )', 'rank': 1, 'major': 'N'}, {'name': 'subject', 'value': 'Defense and Military Forces', 'rank': 2, 'major': 'N'}, {'name': 'subject', 'value': 'Israeli Settlements', 'rank': 3, 'major': 'N'}, {'name': 'subject', 'value': 'Palestinians', 'rank': 4, 'major': 'N'}, {'name': 'organizations', 'value': 'Hamas', 'rank': 5, 'major': 'N'}, {'name': 'glocations', 'value': 'West Bank', 'rank': 6, 'major': 'N'}, {'name': 'glocations', 'value': 'Israel', 'rank': 7, 'major': 'N'}, {'name': 'glocations', 'value': 'Gaza Strip', 'rank': 8, 'major': 'N'}]",
         "2024-09-01T12:13:48+0000"
        ],
        [
         "38",
         "nyt://article/7d98e38d-3e74-5d23-a581-626fdfe42e63",
         "Travel",
         "[{'name': 'subject', 'value': 'Travel and Vacations', 'rank': 1, 'major': 'N'}, {'name': 'subject', 'value': 'Hotels and Travel Lodgings', 'rank': 2, 'major': 'N'}, {'name': 'organizations', 'value': 'Unite Here', 'rank': 3, 'major': 'N'}, {'name': 'subject', 'value': 'Strikes', 'rank': 4, 'major': 'N'}, {'name': 'subject', 'value': 'Organized Labor', 'rank': 5, 'major': 'N'}, {'name': 'subject', 'value': 'Content Type: Service', 'rank': 6, 'major': 'N'}, {'name': 'organizations', 'value': 'Hilton Worldwide Holdings Inc', 'rank': 7, 'major': 'N'}, {'name': 'organizations', 'value': 'Hyatt Hotels Corp', 'rank': 8, 'major': 'N'}, {'name': 'organizations', 'value': 'Marriott International Inc', 'rank': 9, 'major': 'N'}, {'name': 'glocations', 'value': 'United States', 'rank': 10, 'major': 'N'}]",
         "2024-09-01T12:24:12+0000"
        ],
        [
         "39",
         "nyt://article/a2785ef5-29c0-5448-a46b-e2d40a5ad129",
         "Opinion",
         "[{'name': 'subject', 'value': 'Mental Health and Disorders', 'rank': 1, 'major': 'N'}, {'name': 'subject', 'value': 'Health Insurance and Managed Care', 'rank': 2, 'major': 'N'}, {'name': 'subject', 'value': 'Psychology and Psychologists', 'rank': 3, 'major': 'N'}, {'name': 'subject', 'value': 'Anxiety and Stress', 'rank': 4, 'major': 'N'}, {'name': 'subject', 'value': 'Preventive Medicine', 'rank': 5, 'major': 'N'}, {'name': 'subject', 'value': 'Psychiatry and Psychiatrists', 'rank': 6, 'major': 'N'}, {'name': 'subject', 'value': 'Doctors', 'rank': 7, 'major': 'N'}, {'name': 'glocations', 'value': 'United States', 'rank': 8, 'major': 'N'}]",
         "2024-09-01T13:00:08+0000"
        ],
        [
         "40",
         "nyt://article/54568c55-0964-5fbe-a599-0c5f739d73a7",
         "Opinion",
         "[{'name': 'subject', 'value': 'Baby Boomers', 'rank': 1, 'major': 'N'}, {'name': 'subject', 'value': 'Millennial Generation', 'rank': 2, 'major': 'N'}, {'name': 'subject', 'value': 'Generation Z', 'rank': 3, 'major': 'N'}, {'name': 'subject', 'value': 'Youth', 'rank': 4, 'major': 'N'}, {'name': 'subject', 'value': 'Health Insurance and Managed Care', 'rank': 5, 'major': 'N'}, {'name': 'subject', 'value': 'Presidential Election of 2024', 'rank': 6, 'major': 'N'}, {'name': 'subject', 'value': 'Social Security (US)', 'rank': 7, 'major': 'N'}, {'name': 'subject', 'value': 'Medicare', 'rank': 8, 'major': 'N'}, {'name': 'subject', 'value': 'Retirement', 'rank': 9, 'major': 'N'}, {'name': 'subject', 'value': 'United States Economy', 'rank': 10, 'major': 'N'}]",
         "2024-09-01T13:00:09+0000"
        ],
        [
         "41",
         "nyt://article/4abde6a3-37f6-5f6e-8799-525b9509d0ea",
         "U.S.",
         "[{'name': 'subject', 'value': 'Presidential Election of 2024', 'rank': 1, 'major': 'N'}, {'name': 'subject', 'value': 'Vice Presidents and Vice Presidency (US)', 'rank': 2, 'major': 'N'}, {'name': 'persons', 'value': 'Dole, Bob', 'rank': 3, 'major': 'N'}, {'name': 'persons', 'value': 'Dukakis, Michael S', 'rank': 4, 'major': 'N'}, {'name': 'persons', 'value': 'Harding, Warren G', 'rank': 5, 'major': 'N'}, {'name': 'persons', 'value': 'Harris, Kamala D', 'rank': 6, 'major': 'N'}, {'name': 'persons', 'value': 'Klobuchar, Amy', 'rank': 7, 'major': 'N'}, {'name': 'persons', 'value': 'Mondale, Walter F', 'rank': 8, 'major': 'N'}, {'name': 'persons', 'value': 'Sanders, Bernard', 'rank': 9, 'major': 'N'}, {'name': 'persons', 'value': 'Walz, Tim', 'rank': 10, 'major': 'N'}, {'name': 'glocations', 'value': 'St Paul (Minn)', 'rank': 11, 'major': 'N'}, {'name': 'glocations', 'value': 'Minnesota', 'rank': 12, 'major': 'N'}]",
         "2024-09-01T13:01:15+0000"
        ],
        [
         "42",
         "nyt://article/2cea169f-1a2d-55c7-be97-0eb3ead36c65",
         "Arts",
         "[{'name': 'persons', 'value': 'Wade, Pete (1934-2024)', 'rank': 1, 'major': 'N'}, {'name': 'subject', 'value': 'Deaths (Obituaries)', 'rank': 2, 'major': 'N'}, {'name': 'subject', 'value': 'Country Music', 'rank': 3, 'major': 'N'}, {'name': 'subject', 'value': 'Guitars', 'rank': 4, 'major': 'N'}, {'name': 'persons', 'value': 'Price, Ray (1926-2013)', 'rank': 5, 'major': 'N'}, {'name': 'glocations', 'value': 'Nashville (Tenn)', 'rank': 6, 'major': 'N'}, {'name': 'creative_works', 'value': 'Young Love (Song)', 'rank': 7, 'major': 'N'}]",
         "2024-09-01T13:57:50+0000"
        ],
        [
         "43",
         "nyt://article/f7189b55-c927-5798-950c-f35179d46536",
         "Food",
         "[{'name': 'subject', 'value': 'Cooking and Cookbooks', 'rank': 1, 'major': 'N'}, {'name': 'subject', 'value': 'Content Type: Service', 'rank': 2, 'major': 'N'}]",
         "2024-09-01T15:00:03+0000"
        ],
        [
         "44",
         "nyt://article/cfdb1cfa-1f66-58e1-8b2a-666fb023dd96",
         "U.S.",
         "[{'name': 'persons', 'value': 'Trump, Donald J', 'rank': 1, 'major': 'N'}, {'name': 'persons', 'value': 'Faulkner, William', 'rank': 2, 'major': 'N'}, {'name': 'persons', 'value': 'Joyce, James', 'rank': 3, 'major': 'N'}, {'name': 'persons', 'value': 'Mencken, H L', 'rank': 4, 'major': 'N'}, {'name': 'persons', 'value': 'Shakespeare, William', 'rank': 5, 'major': 'N'}, {'name': 'subject', 'value': 'Presidential Election of 2024', 'rank': 6, 'major': 'N'}]",
         "2024-09-01T15:14:35+0000"
        ],
        [
         "45",
         "nyt://article/0a8e3d79-e89a-5ed4-8981-e4b9c1d50354",
         "Arts",
         "[{'name': 'persons', 'value': 'Meneses, Antonio', 'rank': 1, 'major': 'N'}, {'name': 'subject', 'value': 'Deaths (Obituaries)', 'rank': 2, 'major': 'N'}, {'name': 'subject', 'value': 'Classical Music', 'rank': 3, 'major': 'N'}, {'name': 'organizations', 'value': 'Beaux Arts Trio', 'rank': 4, 'major': 'N'}, {'name': 'persons', 'value': 'Pressler, Menahem', 'rank': 5, 'major': 'N'}, {'name': 'glocations', 'value': 'Brazil', 'rank': 6, 'major': 'N'}]",
         "2024-09-01T16:16:04+0000"
        ],
        [
         "46",
         "nyt://article/39c1f151-bd0d-54dd-9983-2cd15b841b22",
         "Health",
         "[{'name': 'subject', 'value': 'Kidneys', 'rank': 1, 'major': 'N'}, {'name': 'subject', 'value': 'Dialysis', 'rank': 2, 'major': 'N'}, {'name': 'subject', 'value': 'Research', 'rank': 3, 'major': 'N'}, {'name': 'subject', 'value': 'Elderly', 'rank': 4, 'major': 'N'}, {'name': 'subject', 'value': 'Drugs (Pharmaceuticals)', 'rank': 5, 'major': 'N'}, {'name': 'subject', 'value': 'Blood', 'rank': 6, 'major': 'N'}, {'name': 'subject', 'value': 'Transplants', 'rank': 7, 'major': 'N'}, {'name': 'organizations', 'value': 'ANNALS OF INTERNAL MEDICINE', 'rank': 8, 'major': 'N'}]",
         "2024-09-01T16:20:25+0000"
        ],
        [
         "47",
         "nyt://article/6e68b087-4cd3-5a4e-8f6a-48212761e56b",
         "Business Day",
         "[{'name': 'subject', 'value': 'Organized Labor', 'rank': 1, 'major': 'N'}, {'name': 'subject', 'value': 'Strikes', 'rank': 2, 'major': 'N'}, {'name': 'subject', 'value': 'Labor Day', 'rank': 3, 'major': 'N'}, {'name': 'subject', 'value': 'Hotels and Travel Lodgings', 'rank': 4, 'major': 'N'}, {'name': 'subject', 'value': 'Wages and Salaries', 'rank': 5, 'major': 'N'}, {'name': 'organizations', 'value': 'Unite Here', 'rank': 6, 'major': 'N'}, {'name': 'glocations', 'value': 'Kauai (Hawaii)', 'rank': 7, 'major': 'N'}, {'name': 'glocations', 'value': 'Honolulu (Hawaii)', 'rank': 8, 'major': 'N'}, {'name': 'glocations', 'value': 'Greenwich (Conn)', 'rank': 9, 'major': 'N'}, {'name': 'glocations', 'value': 'Baltimore (Md)', 'rank': 10, 'major': 'N'}, {'name': 'glocations', 'value': 'San Francisco (Calif)', 'rank': 11, 'major': 'N'}, {'name': 'glocations', 'value': 'Seattle (Wash)', 'rank': 12, 'major': 'N'}, {'name': 'glocations', 'value': 'San Diego (Calif)', 'rank': 13, 'major': 'N'}, {'name': 'glocations', 'value': 'San Jose (Calif)', 'rank': 14, 'major': 'N'}, {'name': 'organizations', 'value': 'Fairmont Hotels and Resorts', 'rank': 15, 'major': 'N'}, {'name': 'organizations', 'value': 'Hilton Worldwide Holdings Inc', 'rank': 16, 'major': 'N'}, {'name': 'organizations', 'value': 'Hyatt Hotels Corp', 'rank': 17, 'major': 'N'}, {'name': 'organizations', 'value': 'Marriott International Inc', 'rank': 18, 'major': 'N'}, {'name': 'glocations', 'value': 'United States', 'rank': 19, 'major': 'N'}]",
         "2024-09-01T16:23:21+0000"
        ],
        [
         "48",
         "nyt://article/0b131542-866e-57de-b985-866e99763821",
         "Movies",
         "[{'name': 'subject', 'value': 'Movies', 'rank': 1, 'major': 'N'}, {'name': 'subject', 'value': 'Presidential Election of 2024', 'rank': 2, 'major': 'N'}, {'name': 'subject', 'value': 'Actors and Actresses', 'rank': 3, 'major': 'N'}, {'name': 'organizations', 'value': 'Apple Inc', 'rank': 4, 'major': 'N'}, {'name': 'organizations', 'value': 'New York Times', 'rank': 5, 'major': 'N'}, {'name': 'subject', 'value': 'Venice International Film Festival', 'rank': 6, 'major': 'N'}, {'name': 'persons', 'value': 'Biden, Joseph R Jr', 'rank': 7, 'major': 'N'}, {'name': 'persons', 'value': 'Clooney, George', 'rank': 8, 'major': 'N'}, {'name': 'persons', 'value': 'Pitt, Brad', 'rank': 9, 'major': 'N'}, {'name': 'creative_works', 'value': 'Wolfs (Movie)', 'rank': 10, 'major': 'N'}]",
         "2024-09-01T16:36:05+0000"
        ],
        [
         "49",
         "nyt://article/78ca0b5b-2ae5-5d1b-8106-621556b1b822",
         "World",
         "[{'name': 'subject', 'value': 'Aviation Accidents, Safety and Disasters', 'rank': 1, 'major': 'N'}, {'name': 'subject', 'value': 'Helicopters', 'rank': 2, 'major': 'N'}, {'name': 'glocations', 'value': 'Kamchatka Peninsula (Russia)', 'rank': 3, 'major': 'N'}, {'name': 'glocations', 'value': 'Russia', 'rank': 4, 'major': 'N'}]",
         "2024-09-01T17:41:11+0000"
        ]
       ],
       "shape": {
        "columns": 4,
        "rows": 48696
       }
      },
      "text/html": [
       "<div>\n",
       "<style scoped>\n",
       "    .dataframe tbody tr th:only-of-type {\n",
       "        vertical-align: middle;\n",
       "    }\n",
       "\n",
       "    .dataframe tbody tr th {\n",
       "        vertical-align: top;\n",
       "    }\n",
       "\n",
       "    .dataframe thead th {\n",
       "        text-align: right;\n",
       "    }\n",
       "</style>\n",
       "<table border=\"1\" class=\"dataframe\">\n",
       "  <thead>\n",
       "    <tr style=\"text-align: right;\">\n",
       "      <th></th>\n",
       "      <th>_id</th>\n",
       "      <th>section_name</th>\n",
       "      <th>keywords</th>\n",
       "      <th>pub_date</th>\n",
       "    </tr>\n",
       "  </thead>\n",
       "  <tbody>\n",
       "    <tr>\n",
       "      <th>0</th>\n",
       "      <td>nyt://article/da8532bd-f9bd-5ca3-9e7e-afef6e9f...</td>\n",
       "      <td>Business Day</td>\n",
       "      <td>[{'name': 'subject', 'value': 'Careers and Pro...</td>\n",
       "      <td>2024-09-01T04:01:07+0000</td>\n",
       "    </tr>\n",
       "    <tr>\n",
       "      <th>1</th>\n",
       "      <td>nyt://article/aeabc262-aeb0-5423-a7ac-8bb664cb...</td>\n",
       "      <td>World</td>\n",
       "      <td>[{'name': 'glocations', 'value': 'India', 'ran...</td>\n",
       "      <td>2024-09-01T04:01:25+0000</td>\n",
       "    </tr>\n",
       "    <tr>\n",
       "      <th>2</th>\n",
       "      <td>nyt://article/42c0d0f2-ea62-5d2b-8eba-baa04180...</td>\n",
       "      <td>World</td>\n",
       "      <td>[{'name': 'glocations', 'value': 'Maracaibo (V...</td>\n",
       "      <td>2024-09-01T04:01:27+0000</td>\n",
       "    </tr>\n",
       "    <tr>\n",
       "      <th>3</th>\n",
       "      <td>nyt://article/6393c6c3-0e1f-5494-925d-165e7aaf...</td>\n",
       "      <td>World</td>\n",
       "      <td>[{'name': 'subject', 'value': 'Israel-Gaza War...</td>\n",
       "      <td>2024-09-01T04:01:43+0000</td>\n",
       "    </tr>\n",
       "    <tr>\n",
       "      <th>4</th>\n",
       "      <td>nyt://article/fe046102-78e5-530d-89e0-59ff09c0...</td>\n",
       "      <td>World</td>\n",
       "      <td>[{'name': 'glocations', 'value': 'Germany', 'r...</td>\n",
       "      <td>2024-09-01T04:01:43+0000</td>\n",
       "    </tr>\n",
       "    <tr>\n",
       "      <th>...</th>\n",
       "      <td>...</td>\n",
       "      <td>...</td>\n",
       "      <td>...</td>\n",
       "      <td>...</td>\n",
       "    </tr>\n",
       "    <tr>\n",
       "      <th>48691</th>\n",
       "      <td>nyt://article/15ef03c9-295b-50e0-a0f4-64f9a182...</td>\n",
       "      <td>U.S.</td>\n",
       "      <td>[{'name': 'subject', 'value': 'Deaths (Obituar...</td>\n",
       "      <td>2024-08-31T14:57:12+0000</td>\n",
       "    </tr>\n",
       "    <tr>\n",
       "      <th>48692</th>\n",
       "      <td>nyt://article/3a3d339e-87ab-5650-b797-b7bb3cb0...</td>\n",
       "      <td>World</td>\n",
       "      <td>[{'name': 'subject', 'value': 'Military Aircra...</td>\n",
       "      <td>2024-08-31T14:57:53+0000</td>\n",
       "    </tr>\n",
       "    <tr>\n",
       "      <th>48693</th>\n",
       "      <td>nyt://article/1192db0c-51bd-525b-abb4-e8607c11...</td>\n",
       "      <td>Opinion</td>\n",
       "      <td>[{'name': 'subject', 'value': 'internal-sub-on...</td>\n",
       "      <td>2024-08-31T15:00:03+0000</td>\n",
       "    </tr>\n",
       "    <tr>\n",
       "      <th>48694</th>\n",
       "      <td>nyt://article/83b24708-09af-55b1-baac-7efca171...</td>\n",
       "      <td>Food</td>\n",
       "      <td>[{'name': 'subject', 'value': 'Cooking and Coo...</td>\n",
       "      <td>2024-08-31T15:00:03+0000</td>\n",
       "    </tr>\n",
       "    <tr>\n",
       "      <th>48695</th>\n",
       "      <td>nyt://article/0bca89dd-a1a7-5022-8192-9812f680...</td>\n",
       "      <td>New York</td>\n",
       "      <td>[{'name': 'subject', 'value': 'United States O...</td>\n",
       "      <td>2024-08-31T15:42:26+0000</td>\n",
       "    </tr>\n",
       "  </tbody>\n",
       "</table>\n",
       "<p>48696 rows × 4 columns</p>\n",
       "</div>"
      ],
      "text/plain": [
       "                                                     _id  section_name  \\\n",
       "0      nyt://article/da8532bd-f9bd-5ca3-9e7e-afef6e9f...  Business Day   \n",
       "1      nyt://article/aeabc262-aeb0-5423-a7ac-8bb664cb...         World   \n",
       "2      nyt://article/42c0d0f2-ea62-5d2b-8eba-baa04180...         World   \n",
       "3      nyt://article/6393c6c3-0e1f-5494-925d-165e7aaf...         World   \n",
       "4      nyt://article/fe046102-78e5-530d-89e0-59ff09c0...         World   \n",
       "...                                                  ...           ...   \n",
       "48691  nyt://article/15ef03c9-295b-50e0-a0f4-64f9a182...          U.S.   \n",
       "48692  nyt://article/3a3d339e-87ab-5650-b797-b7bb3cb0...         World   \n",
       "48693  nyt://article/1192db0c-51bd-525b-abb4-e8607c11...       Opinion   \n",
       "48694  nyt://article/83b24708-09af-55b1-baac-7efca171...          Food   \n",
       "48695  nyt://article/0bca89dd-a1a7-5022-8192-9812f680...      New York   \n",
       "\n",
       "                                                keywords  \\\n",
       "0      [{'name': 'subject', 'value': 'Careers and Pro...   \n",
       "1      [{'name': 'glocations', 'value': 'India', 'ran...   \n",
       "2      [{'name': 'glocations', 'value': 'Maracaibo (V...   \n",
       "3      [{'name': 'subject', 'value': 'Israel-Gaza War...   \n",
       "4      [{'name': 'glocations', 'value': 'Germany', 'r...   \n",
       "...                                                  ...   \n",
       "48691  [{'name': 'subject', 'value': 'Deaths (Obituar...   \n",
       "48692  [{'name': 'subject', 'value': 'Military Aircra...   \n",
       "48693  [{'name': 'subject', 'value': 'internal-sub-on...   \n",
       "48694  [{'name': 'subject', 'value': 'Cooking and Coo...   \n",
       "48695  [{'name': 'subject', 'value': 'United States O...   \n",
       "\n",
       "                       pub_date  \n",
       "0      2024-09-01T04:01:07+0000  \n",
       "1      2024-09-01T04:01:25+0000  \n",
       "2      2024-09-01T04:01:27+0000  \n",
       "3      2024-09-01T04:01:43+0000  \n",
       "4      2024-09-01T04:01:43+0000  \n",
       "...                         ...  \n",
       "48691  2024-08-31T14:57:12+0000  \n",
       "48692  2024-08-31T14:57:53+0000  \n",
       "48693  2024-08-31T15:00:03+0000  \n",
       "48694  2024-08-31T15:00:03+0000  \n",
       "48695  2024-08-31T15:42:26+0000  \n",
       "\n",
       "[48696 rows x 4 columns]"
      ]
     },
     "execution_count": 200,
     "metadata": {},
     "output_type": "execute_result"
    }
   ],
   "source": [
    "full_year_essential"
   ]
  },
  {
   "cell_type": "code",
   "execution_count": 201,
   "metadata": {},
   "outputs": [],
   "source": [
    "full_year_essential['keywords'] = full_year_essential['keywords'].apply(ast.literal_eval)"
   ]
  },
  {
   "cell_type": "code",
   "execution_count": 202,
   "metadata": {},
   "outputs": [],
   "source": [
    "# Converts the object-like string in keywords to a list\n",
    "full_year_essential['keywords'] = full_year_essential['keywords'].apply(lambda x: [keyword['value'] for keyword in x])"
   ]
  },
  {
   "cell_type": "code",
   "execution_count": 203,
   "metadata": {},
   "outputs": [
    {
     "data": {
      "application/vnd.microsoft.datawrangler.viewer.v0+json": {
       "columns": [
        {
         "name": "index",
         "rawType": "int64",
         "type": "integer"
        },
        {
         "name": "_id",
         "rawType": "object",
         "type": "string"
        },
        {
         "name": "section_name",
         "rawType": "object",
         "type": "unknown"
        },
        {
         "name": "keywords",
         "rawType": "object",
         "type": "unknown"
        },
        {
         "name": "pub_date",
         "rawType": "object",
         "type": "string"
        }
       ],
       "conversionMethod": "pd.DataFrame",
       "ref": "fdca1b97-57a7-44d7-9579-73a4813a7354",
       "rows": [
        [
         "0",
         "nyt://article/da8532bd-f9bd-5ca3-9e7e-afef6e9f76d9",
         "Business Day",
         "['Careers and Professions', 'Hiring and Promotion', 'Content Type: Service', 'Workplace Environment', 'your-feed-selfcare']",
         "2024-09-01T04:01:07+0000"
        ],
        [
         "1",
         "nyt://article/aeabc262-aeb0-5423-a7ac-8bb664cb983b",
         "World",
         "['India', 'Hospitals', 'Workplace Hazards and Violations', 'Doctors', 'Medical Schools', 'Murders, Attempted Murders and Homicides', 'Health Care Workers']",
         "2024-09-01T04:01:25+0000"
        ],
        [
         "2",
         "nyt://article/42c0d0f2-ea62-5d2b-8eba-baa04180adea",
         "World",
         "['Maracaibo (Venezuela)', 'Population', 'Immigration and Emigration', 'Venezuela', 'Politics and Government', 'Economic Conditions and Trends', 'Shortages', 'Embargoes and Sanctions', 'Labor and Jobs', 'Maduro, Nicolas', 'Gonzalez, Edmundo (1949- )', 'Machado, Maria Corina']",
         "2024-09-01T04:01:27+0000"
        ],
        [
         "3",
         "nyt://article/6393c6c3-0e1f-5494-925d-165e7aafdefa",
         "World",
         "['Israel-Gaza War (2023- )', 'Vaccination and Immunization', 'Palestinians', 'World Health Organization', 'United Nations', 'Hamas', 'Israel', 'Poliomyelitis', 'Children and Childhood']",
         "2024-09-01T04:01:43+0000"
        ],
        [
         "4",
         "nyt://article/fe046102-78e5-530d-89e0-59ff09c0e2e4",
         "World",
         "['Germany', 'Elections, State Legislature', 'SAXONY (GERMANY)', 'THURINGIA (GERMANY)', 'Alternative for Germany', 'Christian Democratic Union (Germany)', 'Sahra Wagenknecht Alliance (BSW)', 'Right-Wing Extremism and Alt-Right', 'Politics and Government', 'Scholz, Olaf (1958- )', 'Elections']",
         "2024-09-01T04:01:43+0000"
        ],
        [
         "5",
         "nyt://article/9747f7eb-e1c0-5709-846c-e7128215e78f",
         "Corrections",
         "[]",
         "2024-09-01T04:02:34+0000"
        ],
        [
         "6",
         "nyt://article/1830dce5-7ba0-5cfb-92a2-fe701642e831",
         "Corrections",
         "[]",
         "2024-09-01T04:04:10+0000"
        ],
        [
         "7",
         "nyt://article/8c93a8fe-604e-5c56-b025-18fe292ef016",
         "World",
         "['Goldberg-Polin, Hersh', 'Israel-Gaza War (2023- )', 'Kidnapping and Hostages', 'Murders, Attempted Murders and Homicides', 'War Crimes, Genocide and Crimes Against Humanity', 'Gaza Strip', 'Israel', 'Hamas']",
         "2024-09-01T04:17:40+0000"
        ],
        [
         "8",
         "nyt://article/9769ca02-f34f-50b8-98ce-a3bdb8e2d352",
         "Opinion",
         "['Summer (Season)', 'Grief (Emotion)']",
         "2024-09-01T05:00:10+0000"
        ],
        [
         "9",
         "nyt://article/228507db-644f-5e85-aaa8-867ca6b7d4c5",
         "Crosswords & Games",
         "['Spelling Bee (Game)', 'Crossword Puzzles']",
         "2024-09-01T07:00:03+0000"
        ],
        [
         "10",
         "nyt://article/edc82925-6f3f-547b-be6a-bb0c66c5a6ac",
         "World",
         "['Lego Group', 'Maritime Accidents and Safety', 'Cornwall (England)', 'Water Pollution', 'Toys', 'Plastics', 'Beaches', 'Freight (Cargo)', 'Ships and Shipping', 'Fish and Other Marine Life', 'Social Media', 'England', 'Oceans and Seas', 'audio-positive-escape', 'audio-positive-happy', 'audio-positive-nostalgic', 'audio-neutral-informative', 'audio-neutral-immersive']",
         "2024-09-01T07:00:23+0000"
        ],
        [
         "11",
         "nyt://article/fbd74938-d198-5111-a322-256674eeb1d0",
         "New York",
         "['New York City']",
         "2024-09-01T07:00:23+0000"
        ],
        [
         "12",
         "nyt://article/6b7f2395-9c71-5f1f-bbd0-4a0aebf6cd1e",
         "Times Insider",
         "['New York Times', 'Times Square and 42nd Street (Manhattan, NY)', 'Midtown Area (Manhattan, NY)']",
         "2024-09-01T07:00:35+0000"
        ],
        [
         "13",
         "nyt://article/cfeb776c-7468-5f9c-96b1-cfee972d02be",
         "New York",
         "['Strazzullo, Sal', 'Bars and Nightclubs', 'Robberies and Thefts', 'Legal Profession', 'Suits and Litigation (Civil)', 'Ponzi and Pyramid Schemes', 'Frauds and Swindling', 'De La Hoya, Oscar', 'Hay, R Couri', 'Bensonhurst (Brooklyn, NY)', 'Content Type: Personal Profile']",
         "2024-09-01T07:00:35+0000"
        ],
        [
         "14",
         "nyt://article/d26bb35c-3a54-52d4-aa69-579404507e2f",
         "Books",
         "['Books and Literature', 'Writing and Writers', 'Content Type: Personal Profile', 'Senna, Danzy', 'Black People', 'Blacks', 'Race and Ethnicity', 'Thompson, Tessa', 'Everett, Percival', 'California']",
         "2024-09-01T09:00:18+0000"
        ],
        [
         "15",
         "nyt://article/e2328548-0053-5825-b964-0fa73bf8fa59",
         "Business Day",
         "['Acadia Healthcare Company Inc', 'Hospitals', 'Mental Health and Disorders', 'Psychiatry and Psychiatrists', 'Psychology and Psychologists', 'Emergency Medical Treatment', 'your-feed-healthcare', 'Ethics and Official Misconduct', 'Frauds and Swindling']",
         "2024-09-01T09:00:27+0000"
        ],
        [
         "16",
         "nyt://article/14e704b7-e4c3-55c4-b1b1-755d4c7972b1",
         "Books",
         "['Books and Literature', 'genre-books-thriller', 'Newman, TJ (Author)']",
         "2024-09-01T09:00:36+0000"
        ],
        [
         "17",
         "nyt://article/39a6950a-15db-59d2-baaf-f0d9509b2fa1",
         "Magazine",
         "['Currency', 'Numismatics', 'Lobbying and Lobbyists', 'Banking and Financial Institutions', 'Federal Reserve System', 'Treasury Department', 'United States Mint', 'United States', 'Copper, Brass and Bronze', 'Stivers, Steven E', 'Coinstar Inc', 'Artazn LLC', 'Gore, Jeff', 'Americans for Common Cents', 'Weller, Mark W']",
         "2024-09-01T09:00:57+0000"
        ],
        [
         "18",
         "nyt://article/cdd22020-ad15-54a4-9a31-9b1ac7387612",
         "World",
         "['Egypt', 'Electric Light and Power', 'Economic Conditions and Trends', 'Heat and Heat Waves', 'Sisi, Abdel Fattah el-', 'Cairo (Egypt)', 'Power Failures and Blackouts', 'Curfews']",
         "2024-09-01T09:00:57+0000"
        ],
        [
         "19",
         "nyt://article/914e90a2-e621-593c-961d-0d031cdd2062",
         "Books",
         "['Fashion and Apparel', 'Books and Literature', 'Vreeland, Diana', 'New York City', 'World War II (1939-45)', 'Design', 'Paris (France)', 'Content Type: Personal Profile']",
         "2024-09-01T09:01:14+0000"
        ],
        [
         "20",
         "nyt://article/c405988a-4de6-5b3d-a9e2-c6c7130b3675",
         "U.S.",
         "['United States Politics and Government', 'Presidential Election of 2024', 'Abortion', 'Presidential Election of 2020', 'Elections, House of Representatives', 'Democratic Party', 'Republican Party', 'Bacon, Don (1963- )', 'Calvert, Ken', 'Gonzalez, Vicente (1967- )', 'Hayes, Jahana', 'Kent, Joe (1980- )']",
         "2024-09-01T09:01:14+0000"
        ],
        [
         "21",
         "nyt://article/8dddc4c9-256c-5427-b07a-fe614e50c5cb",
         "Arts",
         "['Television', 'English Teacher (TV Program)', 'FX (TV Network)', 'Alvarez, Brian Jordan', 'Colantoni, Enrico', 'Kerman, Langston (1987- )', 'Mattel, Trixie', 'Koenig, Stephanie (1987- )']",
         "2024-09-01T09:01:24+0000"
        ],
        [
         "22",
         "nyt://article/df53241e-170b-5056-9483-2dbbd313f500",
         "U.S.",
         "['Presidential Election of 2024', 'Campaign Finance', 'Harris, Kamala D', 'Hoffman, Reid Garrett', 'Soros, George', 'Soros, Alexander', 'Moskovitz, Dustin', 'Bloomberg, Michael R', 'Katzenberg, Jeffrey', 'Trump, Donald J', 'Mellon, Timothy (1942- )', 'Musk, Elon', 'Adelson, Miriam', 'Uihlein, Richard', 'Uihlein, Elizabeth', 'McMahon, Linda E']",
         "2024-09-01T09:01:34+0000"
        ],
        [
         "23",
         "nyt://article/14d10d4e-c8ec-56d1-8fbb-fe07499e0644",
         "U.S.",
         "['Presidential Election of 2024', 'Political Advertising', 'Arlington National Cemetery', 'Edwards, John Bel (1966- )', 'Kelly, John F (1950- )', 'McCain, John', 'Trump, Donald J', 'United States Army', 'Cemeteries', 'United States Defense and Military Forces']",
         "2024-09-01T09:01:43+0000"
        ],
        [
         "24",
         "nyt://article/d0c34b21-565c-52dc-bfc5-7ebd45a8fdc6",
         "World",
         "['Evacuations and Evacuees', 'Russian Invasion of Ukraine (2022)', 'Defense and Military Forces', 'Pokrovsk (Ukraine)', 'Ukraine', 'Russia']",
         "2024-09-01T09:02:15+0000"
        ],
        [
         "25",
         "nyt://article/bdb02241-d372-5cb3-bdcb-0af543fd7d7a",
         "U.S.",
         "['Meatpacking Plants and Slaughterhouses', 'Food Contamination and Poisoning', 'Listeria Monocytogenes', 'Meat', 'Recalls and Bans of Products', 'Shutdowns (Institutional)', 'Labor and Jobs', 'Deaths (Fatalities)', \"Boar's Head Brand\", 'Jarratt (Va)']",
         "2024-09-01T09:03:32+0000"
        ],
        [
         "26",
         "nyt://article/416933cc-2b74-5f7d-860d-1a440eba2e33",
         "Style",
         "['Egg Donation and Freezing', 'Parties (Social)']",
         "2024-09-01T09:03:38+0000"
        ],
        [
         "27",
         "nyt://article/3e378519-5301-513b-9ff1-baaf73c2afe1",
         "World",
         "['Philippines', 'China', 'South China Sea', 'Territorial Disputes', 'Maritime Accidents and Safety', 'United States International Relations', 'International Relations', 'Defense and Military Forces']",
         "2024-09-01T09:30:15+0000"
        ],
        [
         "28",
         "nyt://article/1604592b-82ac-5788-acb0-993396746bf2",
         "Crosswords & Games",
         "['Wordle (Puzzle)', 'Crossword Puzzles']",
         "2024-09-01T10:00:02+0000"
        ],
        [
         "29",
         "nyt://article/f3690cc6-281e-53fd-9087-9e5c32e31c52",
         "Crosswords & Games",
         "['Crossword Puzzles', 'Connections (Game)']",
         "2024-09-01T10:00:06+0000"
        ],
        [
         "30",
         "nyt://article/3ea7759f-1fa3-52db-b2ae-b0aab1991bd8",
         "Opinion",
         "['Friendship', 'Income Inequality', 'United States', 'Loneliness', 'Volunteers and Community Service']",
         "2024-09-01T10:00:09+0000"
        ],
        [
         "31",
         "nyt://article/bd11e511-dbc3-5340-9374-b58f9971a6bc",
         "Opinion",
         "['Trump, Donald J', 'Presidential Election of 2024', 'Women and Girls', 'Moms for Liberty', 'Justice, Tiffany']",
         "2024-09-01T10:00:17+0000"
        ],
        [
         "32",
         "nyt://article/d918efb7-d901-53c8-a800-1247115a0a5b",
         "World",
         "['Drones (Pilotless Planes)', 'United States International Relations', 'Russian Invasion of Ukraine (2022)', 'Oil (Petroleum) and Gasoline', 'Zelensky, Volodymyr', 'Ukraine', 'Russia']",
         "2024-09-01T10:47:11+0000"
        ],
        [
         "33",
         "nyt://article/8f084064-e5f0-5844-90b7-0d94955b8373",
         "U.S.",
         "['Harris, Kamala D', 'Presidential Election of 2024', 'Democratic Party', 'United States Politics and Government', 'Biden, Joseph R Jr', 'Trump, Donald J']",
         "2024-09-01T11:00:09+0000"
        ],
        [
         "34",
         "nyt://article/38c392b6-cfa1-5faa-b8c2-2e6d9bf870f5",
         "Arts",
         "['Television', 'Movies', 'My Brilliant Friend (TV Program)', 'Slow Horses (TV Program)', 'The Walking Dead (TV Program)', 'Tulsa King (TV Program)', 'The Old Man (TV Program)']",
         "2024-09-01T11:00:27+0000"
        ],
        [
         "35",
         "nyt://article/d8ac072d-962c-59e5-b7a0-c3284e2fb871",
         "World",
         "['Kidnapping and Hostages', 'Palestinians', 'Israel-Gaza War (2023- )', 'Biden, Joseph R Jr', 'Goldberg-Polin, Hersh']",
         "2024-09-01T11:35:45+0000"
        ],
        [
         "36",
         "nyt://article/d3122495-1e8c-5bd4-a5ee-b694284f44c5",
         "Briefing",
         "['internal-storyline-no', 'Currency', 'Numismatics', 'United States Mint', 'United States']",
         "2024-09-01T11:40:57+0000"
        ],
        [
         "37",
         "nyt://article/e3ad1eb7-1466-5f43-9234-14db378205b2",
         "World",
         "['Israel-Gaza War (2023- )', 'Defense and Military Forces', 'Israeli Settlements', 'Palestinians', 'Hamas', 'West Bank', 'Israel', 'Gaza Strip']",
         "2024-09-01T12:13:48+0000"
        ],
        [
         "38",
         "nyt://article/7d98e38d-3e74-5d23-a581-626fdfe42e63",
         "Travel",
         "['Travel and Vacations', 'Hotels and Travel Lodgings', 'Unite Here', 'Strikes', 'Organized Labor', 'Content Type: Service', 'Hilton Worldwide Holdings Inc', 'Hyatt Hotels Corp', 'Marriott International Inc', 'United States']",
         "2024-09-01T12:24:12+0000"
        ],
        [
         "39",
         "nyt://article/a2785ef5-29c0-5448-a46b-e2d40a5ad129",
         "Opinion",
         "['Mental Health and Disorders', 'Health Insurance and Managed Care', 'Psychology and Psychologists', 'Anxiety and Stress', 'Preventive Medicine', 'Psychiatry and Psychiatrists', 'Doctors', 'United States']",
         "2024-09-01T13:00:08+0000"
        ],
        [
         "40",
         "nyt://article/54568c55-0964-5fbe-a599-0c5f739d73a7",
         "Opinion",
         "['Baby Boomers', 'Millennial Generation', 'Generation Z', 'Youth', 'Health Insurance and Managed Care', 'Presidential Election of 2024', 'Social Security (US)', 'Medicare', 'Retirement', 'United States Economy']",
         "2024-09-01T13:00:09+0000"
        ],
        [
         "41",
         "nyt://article/4abde6a3-37f6-5f6e-8799-525b9509d0ea",
         "U.S.",
         "['Presidential Election of 2024', 'Vice Presidents and Vice Presidency (US)', 'Dole, Bob', 'Dukakis, Michael S', 'Harding, Warren G', 'Harris, Kamala D', 'Klobuchar, Amy', 'Mondale, Walter F', 'Sanders, Bernard', 'Walz, Tim', 'St Paul (Minn)', 'Minnesota']",
         "2024-09-01T13:01:15+0000"
        ],
        [
         "42",
         "nyt://article/2cea169f-1a2d-55c7-be97-0eb3ead36c65",
         "Arts",
         "['Wade, Pete (1934-2024)', 'Deaths (Obituaries)', 'Country Music', 'Guitars', 'Price, Ray (1926-2013)', 'Nashville (Tenn)', 'Young Love (Song)']",
         "2024-09-01T13:57:50+0000"
        ],
        [
         "43",
         "nyt://article/f7189b55-c927-5798-950c-f35179d46536",
         "Food",
         "['Cooking and Cookbooks', 'Content Type: Service']",
         "2024-09-01T15:00:03+0000"
        ],
        [
         "44",
         "nyt://article/cfdb1cfa-1f66-58e1-8b2a-666fb023dd96",
         "U.S.",
         "['Trump, Donald J', 'Faulkner, William', 'Joyce, James', 'Mencken, H L', 'Shakespeare, William', 'Presidential Election of 2024']",
         "2024-09-01T15:14:35+0000"
        ],
        [
         "45",
         "nyt://article/0a8e3d79-e89a-5ed4-8981-e4b9c1d50354",
         "Arts",
         "['Meneses, Antonio', 'Deaths (Obituaries)', 'Classical Music', 'Beaux Arts Trio', 'Pressler, Menahem', 'Brazil']",
         "2024-09-01T16:16:04+0000"
        ],
        [
         "46",
         "nyt://article/39c1f151-bd0d-54dd-9983-2cd15b841b22",
         "Health",
         "['Kidneys', 'Dialysis', 'Research', 'Elderly', 'Drugs (Pharmaceuticals)', 'Blood', 'Transplants', 'ANNALS OF INTERNAL MEDICINE']",
         "2024-09-01T16:20:25+0000"
        ],
        [
         "47",
         "nyt://article/6e68b087-4cd3-5a4e-8f6a-48212761e56b",
         "Business Day",
         "['Organized Labor', 'Strikes', 'Labor Day', 'Hotels and Travel Lodgings', 'Wages and Salaries', 'Unite Here', 'Kauai (Hawaii)', 'Honolulu (Hawaii)', 'Greenwich (Conn)', 'Baltimore (Md)', 'San Francisco (Calif)', 'Seattle (Wash)', 'San Diego (Calif)', 'San Jose (Calif)', 'Fairmont Hotels and Resorts', 'Hilton Worldwide Holdings Inc', 'Hyatt Hotels Corp', 'Marriott International Inc', 'United States']",
         "2024-09-01T16:23:21+0000"
        ],
        [
         "48",
         "nyt://article/0b131542-866e-57de-b985-866e99763821",
         "Movies",
         "['Movies', 'Presidential Election of 2024', 'Actors and Actresses', 'Apple Inc', 'New York Times', 'Venice International Film Festival', 'Biden, Joseph R Jr', 'Clooney, George', 'Pitt, Brad', 'Wolfs (Movie)']",
         "2024-09-01T16:36:05+0000"
        ],
        [
         "49",
         "nyt://article/78ca0b5b-2ae5-5d1b-8106-621556b1b822",
         "World",
         "['Aviation Accidents, Safety and Disasters', 'Helicopters', 'Kamchatka Peninsula (Russia)', 'Russia']",
         "2024-09-01T17:41:11+0000"
        ]
       ],
       "shape": {
        "columns": 4,
        "rows": 48696
       }
      },
      "text/html": [
       "<div>\n",
       "<style scoped>\n",
       "    .dataframe tbody tr th:only-of-type {\n",
       "        vertical-align: middle;\n",
       "    }\n",
       "\n",
       "    .dataframe tbody tr th {\n",
       "        vertical-align: top;\n",
       "    }\n",
       "\n",
       "    .dataframe thead th {\n",
       "        text-align: right;\n",
       "    }\n",
       "</style>\n",
       "<table border=\"1\" class=\"dataframe\">\n",
       "  <thead>\n",
       "    <tr style=\"text-align: right;\">\n",
       "      <th></th>\n",
       "      <th>_id</th>\n",
       "      <th>section_name</th>\n",
       "      <th>keywords</th>\n",
       "      <th>pub_date</th>\n",
       "    </tr>\n",
       "  </thead>\n",
       "  <tbody>\n",
       "    <tr>\n",
       "      <th>0</th>\n",
       "      <td>nyt://article/da8532bd-f9bd-5ca3-9e7e-afef6e9f...</td>\n",
       "      <td>Business Day</td>\n",
       "      <td>[Careers and Professions, Hiring and Promotion...</td>\n",
       "      <td>2024-09-01T04:01:07+0000</td>\n",
       "    </tr>\n",
       "    <tr>\n",
       "      <th>1</th>\n",
       "      <td>nyt://article/aeabc262-aeb0-5423-a7ac-8bb664cb...</td>\n",
       "      <td>World</td>\n",
       "      <td>[India, Hospitals, Workplace Hazards and Viola...</td>\n",
       "      <td>2024-09-01T04:01:25+0000</td>\n",
       "    </tr>\n",
       "    <tr>\n",
       "      <th>2</th>\n",
       "      <td>nyt://article/42c0d0f2-ea62-5d2b-8eba-baa04180...</td>\n",
       "      <td>World</td>\n",
       "      <td>[Maracaibo (Venezuela), Population, Immigratio...</td>\n",
       "      <td>2024-09-01T04:01:27+0000</td>\n",
       "    </tr>\n",
       "    <tr>\n",
       "      <th>3</th>\n",
       "      <td>nyt://article/6393c6c3-0e1f-5494-925d-165e7aaf...</td>\n",
       "      <td>World</td>\n",
       "      <td>[Israel-Gaza War (2023- ), Vaccination and Imm...</td>\n",
       "      <td>2024-09-01T04:01:43+0000</td>\n",
       "    </tr>\n",
       "    <tr>\n",
       "      <th>4</th>\n",
       "      <td>nyt://article/fe046102-78e5-530d-89e0-59ff09c0...</td>\n",
       "      <td>World</td>\n",
       "      <td>[Germany, Elections, State Legislature, SAXONY...</td>\n",
       "      <td>2024-09-01T04:01:43+0000</td>\n",
       "    </tr>\n",
       "    <tr>\n",
       "      <th>...</th>\n",
       "      <td>...</td>\n",
       "      <td>...</td>\n",
       "      <td>...</td>\n",
       "      <td>...</td>\n",
       "    </tr>\n",
       "    <tr>\n",
       "      <th>48691</th>\n",
       "      <td>nyt://article/15ef03c9-295b-50e0-a0f4-64f9a182...</td>\n",
       "      <td>U.S.</td>\n",
       "      <td>[Deaths (Obituaries), Fort Lee (Va), United St...</td>\n",
       "      <td>2024-08-31T14:57:12+0000</td>\n",
       "    </tr>\n",
       "    <tr>\n",
       "      <th>48692</th>\n",
       "      <td>nyt://article/3a3d339e-87ab-5650-b797-b7bb3cb0...</td>\n",
       "      <td>World</td>\n",
       "      <td>[Military Aircraft, Friendly Fire (Military an...</td>\n",
       "      <td>2024-08-31T14:57:53+0000</td>\n",
       "    </tr>\n",
       "    <tr>\n",
       "      <th>48693</th>\n",
       "      <td>nyt://article/1192db0c-51bd-525b-abb4-e8607c11...</td>\n",
       "      <td>Opinion</td>\n",
       "      <td>[internal-sub-only-nl, Presidential Election o...</td>\n",
       "      <td>2024-08-31T15:00:03+0000</td>\n",
       "    </tr>\n",
       "    <tr>\n",
       "      <th>48694</th>\n",
       "      <td>nyt://article/83b24708-09af-55b1-baac-7efca171...</td>\n",
       "      <td>Food</td>\n",
       "      <td>[Cooking and Cookbooks, Content Type: Service]</td>\n",
       "      <td>2024-08-31T15:00:03+0000</td>\n",
       "    </tr>\n",
       "    <tr>\n",
       "      <th>48695</th>\n",
       "      <td>nyt://article/0bca89dd-a1a7-5022-8192-9812f680...</td>\n",
       "      <td>New York</td>\n",
       "      <td>[United States Open (Tennis), Content Type: Pe...</td>\n",
       "      <td>2024-08-31T15:42:26+0000</td>\n",
       "    </tr>\n",
       "  </tbody>\n",
       "</table>\n",
       "<p>48696 rows × 4 columns</p>\n",
       "</div>"
      ],
      "text/plain": [
       "                                                     _id  section_name  \\\n",
       "0      nyt://article/da8532bd-f9bd-5ca3-9e7e-afef6e9f...  Business Day   \n",
       "1      nyt://article/aeabc262-aeb0-5423-a7ac-8bb664cb...         World   \n",
       "2      nyt://article/42c0d0f2-ea62-5d2b-8eba-baa04180...         World   \n",
       "3      nyt://article/6393c6c3-0e1f-5494-925d-165e7aaf...         World   \n",
       "4      nyt://article/fe046102-78e5-530d-89e0-59ff09c0...         World   \n",
       "...                                                  ...           ...   \n",
       "48691  nyt://article/15ef03c9-295b-50e0-a0f4-64f9a182...          U.S.   \n",
       "48692  nyt://article/3a3d339e-87ab-5650-b797-b7bb3cb0...         World   \n",
       "48693  nyt://article/1192db0c-51bd-525b-abb4-e8607c11...       Opinion   \n",
       "48694  nyt://article/83b24708-09af-55b1-baac-7efca171...          Food   \n",
       "48695  nyt://article/0bca89dd-a1a7-5022-8192-9812f680...      New York   \n",
       "\n",
       "                                                keywords  \\\n",
       "0      [Careers and Professions, Hiring and Promotion...   \n",
       "1      [India, Hospitals, Workplace Hazards and Viola...   \n",
       "2      [Maracaibo (Venezuela), Population, Immigratio...   \n",
       "3      [Israel-Gaza War (2023- ), Vaccination and Imm...   \n",
       "4      [Germany, Elections, State Legislature, SAXONY...   \n",
       "...                                                  ...   \n",
       "48691  [Deaths (Obituaries), Fort Lee (Va), United St...   \n",
       "48692  [Military Aircraft, Friendly Fire (Military an...   \n",
       "48693  [internal-sub-only-nl, Presidential Election o...   \n",
       "48694     [Cooking and Cookbooks, Content Type: Service]   \n",
       "48695  [United States Open (Tennis), Content Type: Pe...   \n",
       "\n",
       "                       pub_date  \n",
       "0      2024-09-01T04:01:07+0000  \n",
       "1      2024-09-01T04:01:25+0000  \n",
       "2      2024-09-01T04:01:27+0000  \n",
       "3      2024-09-01T04:01:43+0000  \n",
       "4      2024-09-01T04:01:43+0000  \n",
       "...                         ...  \n",
       "48691  2024-08-31T14:57:12+0000  \n",
       "48692  2024-08-31T14:57:53+0000  \n",
       "48693  2024-08-31T15:00:03+0000  \n",
       "48694  2024-08-31T15:00:03+0000  \n",
       "48695  2024-08-31T15:42:26+0000  \n",
       "\n",
       "[48696 rows x 4 columns]"
      ]
     },
     "execution_count": 203,
     "metadata": {},
     "output_type": "execute_result"
    }
   ],
   "source": [
    "full_year_essential"
   ]
  },
  {
   "cell_type": "code",
   "execution_count": 204,
   "metadata": {},
   "outputs": [],
   "source": [
    "list_of_keywords = []\n",
    "\n",
    "for article in full_year_essential['keywords']:\n",
    "    for keywords in article:\n",
    "        list_of_keywords.append(keywords)"
   ]
  },
  {
   "cell_type": "code",
   "execution_count": 205,
   "metadata": {},
   "outputs": [],
   "source": [
    "unique_keywords = list(set(list_of_keywords))"
   ]
  },
  {
   "cell_type": "markdown",
   "metadata": {},
   "source": [
    "### Coverage about New York\n",
    "\n",
    "Assuming that everything in the new York section is related to NYC, I create a dataset including only this section."
   ]
  },
  {
   "cell_type": "code",
   "execution_count": 206,
   "metadata": {},
   "outputs": [],
   "source": [
    "coverage_about_ny = full_year_essential[full_year_essential['section_name'] == 'New York']"
   ]
  },
  {
   "cell_type": "code",
   "execution_count": 207,
   "metadata": {},
   "outputs": [
    {
     "data": {
      "application/vnd.microsoft.datawrangler.viewer.v0+json": {
       "columns": [
        {
         "name": "index",
         "rawType": "int64",
         "type": "integer"
        },
        {
         "name": "_id",
         "rawType": "object",
         "type": "string"
        },
        {
         "name": "section_name",
         "rawType": "object",
         "type": "string"
        },
        {
         "name": "keywords",
         "rawType": "object",
         "type": "unknown"
        },
        {
         "name": "pub_date",
         "rawType": "object",
         "type": "string"
        }
       ],
       "conversionMethod": "pd.DataFrame",
       "ref": "3d9f6da1-99aa-4c42-9d9c-93a45ee7bd3c",
       "rows": [
        [
         "11",
         "nyt://article/fbd74938-d198-5111-a322-256674eeb1d0",
         "New York",
         "['New York City']",
         "2024-09-01T07:00:23+0000"
        ],
        [
         "13",
         "nyt://article/cfeb776c-7468-5f9c-96b1-cfee972d02be",
         "New York",
         "['Strazzullo, Sal', 'Bars and Nightclubs', 'Robberies and Thefts', 'Legal Profession', 'Suits and Litigation (Civil)', 'Ponzi and Pyramid Schemes', 'Frauds and Swindling', 'De La Hoya, Oscar', 'Hay, R Couri', 'Bensonhurst (Brooklyn, NY)', 'Content Type: Personal Profile']",
         "2024-09-01T07:00:35+0000"
        ],
        [
         "55",
         "nyt://article/78b260c3-4d2a-5200-bfc1-176274a5cbde",
         "New York",
         "['United States Politics and Government', 'Presidential Election of 2024', 'Storming of the US Capitol (Jan, 2021)', 'Trump, Donald J', 'Bedminster (NJ)']",
         "2024-09-01T19:38:41+0000"
        ],
        [
         "77",
         "nyt://article/6f4a73e6-8886-5682-8468-09a76de649a1",
         "New York",
         "['United States Open (Tennis)', 'Tennis', 'Stadiums and Arenas', 'Fans (Persons)', 'Armstrong, Louis, Stadium (Queens, NY)', 'Ashe, Arthur, Stadium', 'Billie Jean King National Tennis Center', 'Flushing (Queens, NY)', 'New York City']",
         "2024-09-02T07:00:27+0000"
        ],
        [
         "78",
         "nyt://article/06c1a953-425e-53c3-bbad-8860df0e7f82",
         "New York",
         "['Pedestrian Malls', 'Education (K-12)', 'Roads and Traffic', 'Traffic Accidents and Safety', 'Air Pollution', 'Friends Seminary', 'Street Lab (Nonprofit)', 'Transportation Department (NYC)', 'Bronx (NYC)', 'New York City']",
         "2024-09-02T07:00:31+0000"
        ],
        [
         "79",
         "nyt://article/960a2828-26b5-56e3-a0f9-0bde968b302c",
         "New York",
         "['Swimming', 'Forests and Forestry', 'Drownings', 'Waterfalls', 'Summer (Season)', 'ADIRONDACK MOUNTAINS (NY)', 'Catskills (NYS Area)', 'Keene (NY)', 'vis-photo']",
         "2024-09-02T07:00:55+0000"
        ],
        [
         "145",
         "nyt://article/4103430d-0261-5ab2-b13c-85cc21edee23",
         "New York",
         "['Palestinians', 'Alexander, Edan (2003- )', 'Goldberg-Polin, Hersh', 'Netanyahu, Benjamin', 'Neutra, Omer', 'Israel', 'New York City']",
         "2024-09-02T22:16:01+0000"
        ],
        [
         "146",
         "nyt://article/7928f94c-4597-522a-a4af-55bdd28788bf",
         "New York",
         "['West Indian-Americans', 'Parades', 'West Indian-American Day', 'Murders, Attempted Murders and Homicides', 'Crown Heights (Brooklyn, NY)']",
         "2024-09-02T23:07:21+0000"
        ],
        [
         "162",
         "nyt://article/723eb465-4f80-5f61-bd40-fa00ddb4800a",
         "New York",
         "['Immigration Shelters', 'Refugees and Displaced Persons', 'Postal Service and Post Offices', 'Letters', 'New York City', 'Asylum, Right of']",
         "2024-09-03T07:00:16+0000"
        ],
        [
         "201",
         "nyt://article/05606ac1-63b6-5576-bc71-54e921a134bd",
         "New York",
         "['internal-storyline-no', 'Books and Literature', 'Infrastructure (Public Works)', 'Area Planning and Renewal', 'Politics and Government', 'Caro, Robert A', 'Moses, Robert', 'New York City', 'The Power Broker: Robert Moses and the Fall of New York (Book)']",
         "2024-09-03T11:45:16+0000"
        ],
        [
         "208",
         "nyt://article/adc2af88-f3ed-5baa-8940-83218feac988",
         "New York",
         "['Sun, Linda (1984- )', 'Ethics and Official Misconduct', 'New York State', 'Hochul, Kathleen C', 'Cuomo, Andrew M', 'Foreign Agents Registration Act']",
         "2024-09-03T13:23:44+0000"
        ],
        [
         "258",
         "nyt://article/716bce35-9db6-5cfc-a678-9e5b29705871",
         "New York",
         "['Decisions and Verdicts', 'Immunity from Prosecution', 'New York State Criminal Case Against Trump (71543-23)', 'Federal Courts (US)', 'Supreme Court (US)', 'Clifford, Stephanie (1979- )', 'Hellerstein, Alvin K', 'Merchan, Juan M', 'Trump, Donald J']",
         "2024-09-03T21:33:17+0000"
        ],
        [
         "269",
         "nyt://article/4c9b8e1b-155b-5b2a-a429-be46bac4394a",
         "New York",
         "['Decisions and Verdicts', 'Euthanasia and Assisted Suicide', 'Kingston (NY)']",
         "2024-09-03T22:59:20+0000"
        ],
        [
         "289",
         "nyt://video/2ab09350-9bf2-5ee3-b9d8-26624d30ef54",
         "New York",
         "['Sun, Linda (1984- )', 'Hochul, Kathleen C', 'Cuomo, Andrew M', 'New York State', 'Politics and Government', 'Governors (US)', 'China', 'Communist Party of China', 'Frauds and Swindling', 'Money Laundering', 'United States International Relations']",
         "2024-09-04T01:30:46+0000"
        ],
        [
         "303",
         "nyt://article/a0297fd3-f870-5c54-8031-97f6e003e293",
         "New York",
         "['Tennis', 'United States Open (Tennis)', 'Stadiums and Arenas', 'Ashe, Arthur, Stadium', 'Fans (Persons)', 'Flushing Meadows-Corona Park (Queens, NY)']",
         "2024-09-04T07:00:23+0000"
        ],
        [
         "332",
         "nyt://article/8fb3bdad-c656-554a-b76a-f293927feacf",
         "New York",
         "['New York City', 'internal-storyline-no', 'Presidential Election of 2024', 'Politics and Government', 'Polls and Public Opinion', 'Presidential Election of 2016', 'Monogram Shop', 'Biden, Joseph R Jr', 'Harris, Kamala D', 'Hochul, Kathleen C', 'Sun, Linda (1984- )', 'Trump, Donald J', 'Vance, J D', 'Walz, Tim', 'East Hampton (NY)']",
         "2024-09-04T09:03:27+0000"
        ],
        [
         "373",
         "nyt://article/550050d5-ca88-5c66-b7f9-d5b07f91b47d",
         "New York",
         "['Trump, Donald J', 'Merchan, Juan M', 'New York State Criminal Case Against Trump (71543-23)', 'Decisions and Verdicts', 'Presidential Election of 2024', 'Immunity from Prosecution', 'United States Politics and Government', 'Ethics and Official Misconduct', 'New York University', 'Supreme Court (US)', 'Bragg, Alvin', 'Clifford, Stephanie (1979- )', 'Harris, Kamala D']",
         "2024-09-04T15:51:17+0000"
        ],
        [
         "424",
         "nyt://article/f29faea0-41be-5368-b162-a4449beecb1b",
         "New York",
         "['Sun, Linda (1984- )', 'State Legislatures', 'Politics and Government', 'Espionage and Intelligence Services', 'Cuomo, Andrew M', 'Hochul, Kathleen C', 'New York State', 'China', 'Money Laundering', 'Foreign Agents Registration Act']",
         "2024-09-04T23:07:48+0000"
        ],
        [
         "443",
         "nyt://article/5ba78fb7-8a9c-5eb4-9ca7-1285ac215fc1",
         "New York",
         "['Trichloroethylene (TCE)', 'Hazardous and Toxic Substances', 'Gowanus Canal (Brooklyn, NY)', 'Factories and Manufacturing', 'Canals', 'Pollution', 'Real Estate and Housing (Residential)', 'Building (Construction)', 'Chemicals', 'Environmental Conservation Department (NYS)', 'Environmental Protection Agency', 'Health Department (NYS)', 'Royal Palms Shuffleboard Club (Brooklyn, NY)', 'Gowanus (Brooklyn, NY)']",
         "2024-09-05T07:00:26+0000"
        ],
        [
         "446",
         "nyt://article/b0e73686-956f-5e75-b430-82efd7c2f4eb",
         "New York",
         "['Children and Childhood', 'Education Department (NYC)', 'Banks, David C (1962- )', 'Adams, Eric L', 'Anti-Semitism', 'Artificial Intelligence', 'Urban Areas', 'Education (K-12)', 'New York City']",
         "2024-09-05T07:00:43+0000"
        ],
        [
         "448",
         "nyt://article/35cd8398-3134-517f-b928-8dc6a6adfcf3",
         "New York",
         "['Audio Recordings, Downloads and Streaming', 'Royalties', 'Music', 'Artificial Intelligence', 'Money Laundering', 'Frauds and Swindling', 'Apple Music', 'Spotify', 'Williams, Damian (Attorney)', 'Justice Department', 'North Carolina']",
         "2024-09-05T07:00:51+0000"
        ],
        [
         "482",
         "nyt://article/eee4743b-21f0-528e-a661-356670b90285",
         "New York",
         "['New York City', 'internal-storyline-no', 'Subways', 'Education (K-12)', 'Transit Systems', 'Decisions and Verdicts', 'Presidential Election of 2024', 'Buses', 'Cellular Telephones', 'New York State Criminal Case Against Trump (71543-23)', 'Metropolitan Transportation Authority', 'Lieber, John Nathan', 'Merchan, Juan M', 'Trump, Donald J']",
         "2024-09-05T09:06:16+0000"
        ],
        [
         "552",
         "nyt://article/a5d6c1ab-dc26-5a1f-ae5e-a6b1df31c459",
         "New York",
         "['Adams, Eric L', 'Campaign Finance', 'Banks, David C (1962- )', 'Banks, Philip III', 'Wright, Sheena', 'New York City', 'Search and Seizure', 'Caban, Edward (1967- )', 'Police Department (NYC)', 'Ethics and Official Misconduct']",
         "2024-09-05T17:32:12+0000"
        ],
        [
         "553",
         "nyt://article/eebe0c64-bb9e-5c17-a34a-9d169e2b9757",
         "New York",
         "['New York City', 'Education (K-12)', 'Buildings (Structures)', 'Education Department (NYC)', 'Sunnyside (Queens, NY)', 'Inwood (Manhattan, NY)', 'Borough Park (Brooklyn, NY)', 'Mount Eden (Bronx, NY)', 'vis-photo']",
         "2024-09-05T17:49:15+0000"
        ],
        [
         "567",
         "nyt://article/75c6ff56-3648-57f5-8558-f8e747b9bd4c",
         "New York",
         "['Murders, Attempted Murders and Homicides', 'Subways', 'Stations and Terminals (Passenger)', 'Brooklyn (NYC)']",
         "2024-09-05T19:05:17+0000"
        ],
        [
         "578",
         "nyt://article/62eceeed-d7b2-5d4e-9921-0905d907ff85",
         "New York",
         "['Police', 'Search and Seizure', 'Black People', 'Blacks', 'Discrimination', 'Hispanic-Americans', 'Police Department (NYC)', 'Adams, Eric L', 'New York City', 'Police Brutality, Misconduct and Shootings']",
         "2024-09-05T20:15:36+0000"
        ],
        [
         "589",
         "nyt://article/e4cb2af4-acb7-530b-b8b6-242a0f789aad",
         "New York",
         "['Ketcham, Brian T (1939-2024)', 'Deaths (Obituaries)', 'Transportation Alternatives', 'Roads and Traffic', 'Congestion Pricing', 'Air Pollution', 'New York City', 'Konheim, Carolyn S']",
         "2024-09-05T22:59:07+0000"
        ],
        [
         "623",
         "nyt://article/5623c3cf-e493-5f9b-be97-85d1246570ee",
         "New York",
         "['Trump, Donald J', 'New York State Criminal Case Against Trump (71543-23)', 'Presidential Election of 2024', 'United States Politics and Government', 'Merchan, Juan M']",
         "2024-09-06T07:00:07+0000"
        ],
        [
         "624",
         "nyt://article/2301e086-3a06-52d4-97d5-78f862510da8",
         "New York",
         "['New Jersey', 'Education (K-12)', 'Segregation and Desegregation', 'Race and Ethnicity', 'Black People', 'Blacks', 'Hispanic-Americans', 'Suits and Litigation (Civil)', 'Attorneys General', 'Platkin, Matthew', 'Income Inequality']",
         "2024-09-06T07:00:08+0000"
        ],
        [
         "625",
         "nyt://article/96893cbc-133a-55c3-8c76-12202953617b",
         "New York",
         "['Books and Literature', 'Bright Lights, Big City (Book)', 'McInerney, Jay', 'New York City', 'Manhattan (NYC)', 'Nineteen Hundred Eighties', 'Book Trade and Publishing']",
         "2024-09-06T07:00:16+0000"
        ],
        [
         "664",
         "nyt://article/dbadfa25-610a-594d-8ec8-d356787e73e2",
         "New York",
         "['New York City', 'internal-storyline-no', 'Signs and Signage', 'Real Estate (Commercial)', 'Auctions', 'Corruption (Institutional)', 'Hotel Chelsea (Manhattan, NY)', 'Adams, Eric L', 'Banks, David C (1962- )', 'Banks, Philip III', 'Pearson, Timothy', 'Chelsea (Manhattan, NY)']",
         "2024-09-06T09:07:04+0000"
        ],
        [
         "691",
         "nyt://article/dfc754d7-cea2-5086-96f7-eb568c06f73a",
         "New York",
         "['New York City', 'Adams, Eric L', 'Politics and Government', 'Mayors', 'Ethics and Official Misconduct', 'Corruption (Institutional)', 'Federal Bureau of Investigation', 'Polls and Public Opinion']",
         "2024-09-06T13:26:15+0000"
        ],
        [
         "741",
         "nyt://article/09e46a3b-ba66-59a4-8707-4348b33bedf2",
         "New York",
         "['News and News Media', 'Police Department (NYC)', 'New York Times', 'New York Post', 'Relocation of Business', 'New York City', 'Adams, Eric L']",
         "2024-09-06T20:09:31+0000"
        ],
        [
         "759",
         "nyt://article/4229c3e7-967e-5435-b0a9-ea6ca608bc7a",
         "New York",
         "['Halstead, Clark', 'Deaths (Obituaries)', 'Halstead Property Company', 'Real Estate Brokers', 'Real Estate and Housing (Residential)', 'Brown Harris Stevens', 'Manhattan (NYC)', 'New York City']",
         "2024-09-06T22:23:54+0000"
        ],
        [
         "773",
         "nyt://article/5f828ae5-348f-5590-a1fc-b07116d1ef10",
         "New York",
         "[\"Legionnaires' Disease\", 'Deaths (Fatalities)', 'Bacteria', 'Retirement Communities and Assisted Living', 'Nursing Homes', 'Centers for Disease Control and Prevention', 'Health Department (NYS)', 'Occupational Safety and Health Administration', 'Albany (NY)']",
         "2024-09-07T00:38:18+0000"
        ],
        [
         "784",
         "nyt://article/d92e2923-548e-595b-b4d4-b22e3945d1a4",
         "New York",
         "['Beauty Salons', 'Hair', 'French Food (Cuisine)', 'Content Type: Personal Profile', 'Pierre Michel Salon (Manhattan, NY)', 'East Village (Manhattan, NY)', 'Upper East Side (Manhattan, NY)']",
         "2024-09-07T07:00:18+0000"
        ],
        [
         "785",
         "nyt://article/8c52e615-501a-5227-9bab-b37e927f0896",
         "New York",
         "['United States Open (Tennis)', 'Ashe, Arthur, Stadium', 'Billie Jean King National Tennis Center', 'Stadiums and Arenas', 'Fans (Persons)', 'Service Employees International Union', 'United States Tennis Assn', 'Tennis', 'Forest Hills (Queens, NY)']",
         "2024-09-07T07:00:20+0000"
        ],
        [
         "786",
         "nyt://article/31950446-3ae4-5dfc-8935-1b0f301432f7",
         "New York",
         "['Tennis', 'United States Open (Tennis)', 'Fans (Persons)', 'Ashe, Arthur, Stadium', 'Billie Jean King National Tennis Center', 'Fritz, Taylor Harry (1997- )', 'Tiafoe, Frances (1998- )', 'Pegula, Jessica (1994- )', 'Navarro, Emma (2001- )']",
         "2024-09-07T07:00:42+0000"
        ],
        [
         "840",
         "nyt://article/93a70e61-a5ca-5e6c-b7d1-6bd8230ad2fe",
         "New York",
         "['New York City', 'Adams, Eric L', 'Elections, Mayors', 'Campaign Finance', 'Ethics and Official Misconduct', 'Federal Bureau of Investigation', 'Turkish Airlines', 'Abbasova, Rana', 'Banks, Philip III', 'Banks, David C (1962- )', 'Caban, Edward (1967- )', 'Greco, Winnie', 'Ocal, Cenk', 'Pearson, Timothy', 'Suggs, Brianna', 'Wright, Sheena', 'Corruption (Institutional)', 'Politics and Government']",
         "2024-09-07T17:04:12+0000"
        ],
        [
         "864",
         "nyt://article/b1b283a6-2950-5cd0-9f5b-528945ccb55e",
         "New York",
         "['New York City']",
         "2024-09-08T07:00:49+0000"
        ],
        [
         "867",
         "nyt://article/39068f57-3b46-555e-87c8-a803748e262a",
         "New York",
         "['Decisions and Verdicts', 'Presidential Election of 2024', 'United States Politics and Government', 'New York State Criminal Case Against Trump (71543-23)', 'Supreme Court (US)', 'Bragg, Alvin', 'Merchan, Juan M', 'Trump, Donald J', 'Sentences (Criminal)']",
         "2024-09-08T07:01:27+0000"
        ],
        [
         "868",
         "nyt://article/b24a79ea-0c82-5cd1-89d0-2322643dfb9a",
         "New York",
         "['Basketball', 'Stadiums and Arenas', 'Tax Credits, Deductions and Exemptions', 'Relocation of Business', 'Camden (NJ)', 'Philadelphia (Pa)', 'New Jersey', 'Philadelphia 76ers']",
         "2024-09-08T07:01:28+0000"
        ],
        [
         "912",
         "nyt://article/1e3d0ba0-a88a-500d-b194-982f128223a2",
         "New York",
         "['Race and Ethnicity', 'Black People', 'Blacks', 'Elections, Mayors', 'Local Government', 'Adams, Eric L', 'East New York (Brooklyn, NY)', 'Christians and Christianity', 'New York City', 'Ethics and Official Misconduct']",
         "2024-09-08T19:47:11+0000"
        ],
        [
         "934",
         "nyt://article/5aa8bfe3-c66f-5dbc-adad-ce809228ca5f",
         "New York",
         "['Fund for Park Avenue', 'Trees and Shrubs', 'Manhattan (NYC)', 'Park Avenue (Manhattan, NY)', 'Area Planning and Renewal', 'Parks and Other Recreation Areas', 'Roads and Traffic']",
         "2024-09-09T07:00:20+0000"
        ],
        [
         "936",
         "nyt://article/9d4671f0-6dbc-5cb5-986c-706b1c2d0919",
         "New York",
         "['Hockey, Ice', 'Gaudreau, Johnny', 'Gaudreau, Matthew (1994-2024)', 'Boston College', 'Calgary Flames', 'National Hockey League', 'New Jersey Devils', 'Columbus Blue Jackets', 'New Jersey', 'Bicycles and Bicycling', 'Funerals and Memorials', 'Content Type: Personal Profile', 'Higgins, Sean M (1980- )', 'Drunken and Reckless Driving', 'Salem County (NJ)', 'Oldmans Township (NJ)', 'Woodstown (NJ)', 'Deaths (Fatalities)']",
         "2024-09-09T07:00:48+0000"
        ],
        [
         "955",
         "nyt://article/a9c43777-cdf2-5f2e-a6fd-6b442a90f63c",
         "New York",
         "['New York City', 'internal-storyline-no', 'Mayors', 'Elections, Mayors', 'Justice Department', 'Adams, Eric L', 'Caban, Edward (1967- )']",
         "2024-09-09T09:02:25+0000"
        ],
        [
         "1017",
         "nyt://article/b9493094-7bd1-5945-a927-8a16a8931f50",
         "New York",
         "['Cuomo, Andrew M', 'Coronavirus (2019-nCoV)', 'Nursing Homes', 'Deaths (Fatalities)', 'Health Department (NYS)', 'New York State', 'House of Representatives']",
         "2024-09-09T18:19:11+0000"
        ],
        [
         "1032",
         "nyt://article/9eac8634-c06d-52c2-b5f1-ce9188cfa358",
         "New York",
         "['Adams, Eric L', 'Search and Seizure', 'Corruption (Institutional)', 'New York City', 'Caban, Edward (1967- )', 'Wright, Sheena', 'Banks, Philip III', 'Pearson, Timothy', 'Mayors']",
         "2024-09-09T20:10:17+0000"
        ],
        [
         "1033",
         "nyt://article/5f96c851-30a8-5e7c-84c7-8a19b2bb9b0c",
         "New York",
         "['Weinstein, Harvey', 'Prisons and Prisoners', 'Heart', 'Rikers Island Prison Complex', 'Sex Crimes', 'Sexual Harassment', '#MeToo Movement']",
         "2024-09-09T20:16:13+0000"
        ],
        [
         "1038",
         "nyt://article/9f7b7519-4df3-5138-9f93-b58c3cfdf5fb",
         "New York",
         "['Coronavirus (2019-nCoV)', 'Tests (Medical)', 'Adams, Eric L', 'New York City']",
         "2024-09-09T21:17:58+0000"
        ]
       ],
       "shape": {
        "columns": 4,
        "rows": 2660
       }
      },
      "text/html": [
       "<div>\n",
       "<style scoped>\n",
       "    .dataframe tbody tr th:only-of-type {\n",
       "        vertical-align: middle;\n",
       "    }\n",
       "\n",
       "    .dataframe tbody tr th {\n",
       "        vertical-align: top;\n",
       "    }\n",
       "\n",
       "    .dataframe thead th {\n",
       "        text-align: right;\n",
       "    }\n",
       "</style>\n",
       "<table border=\"1\" class=\"dataframe\">\n",
       "  <thead>\n",
       "    <tr style=\"text-align: right;\">\n",
       "      <th></th>\n",
       "      <th>_id</th>\n",
       "      <th>section_name</th>\n",
       "      <th>keywords</th>\n",
       "      <th>pub_date</th>\n",
       "    </tr>\n",
       "  </thead>\n",
       "  <tbody>\n",
       "    <tr>\n",
       "      <th>11</th>\n",
       "      <td>nyt://article/fbd74938-d198-5111-a322-256674ee...</td>\n",
       "      <td>New York</td>\n",
       "      <td>[New York City]</td>\n",
       "      <td>2024-09-01T07:00:23+0000</td>\n",
       "    </tr>\n",
       "    <tr>\n",
       "      <th>13</th>\n",
       "      <td>nyt://article/cfeb776c-7468-5f9c-96b1-cfee972d...</td>\n",
       "      <td>New York</td>\n",
       "      <td>[Strazzullo, Sal, Bars and Nightclubs, Robberi...</td>\n",
       "      <td>2024-09-01T07:00:35+0000</td>\n",
       "    </tr>\n",
       "    <tr>\n",
       "      <th>55</th>\n",
       "      <td>nyt://article/78b260c3-4d2a-5200-bfc1-176274a5...</td>\n",
       "      <td>New York</td>\n",
       "      <td>[United States Politics and Government, Presid...</td>\n",
       "      <td>2024-09-01T19:38:41+0000</td>\n",
       "    </tr>\n",
       "    <tr>\n",
       "      <th>77</th>\n",
       "      <td>nyt://article/6f4a73e6-8886-5682-8468-09a76de6...</td>\n",
       "      <td>New York</td>\n",
       "      <td>[United States Open (Tennis), Tennis, Stadiums...</td>\n",
       "      <td>2024-09-02T07:00:27+0000</td>\n",
       "    </tr>\n",
       "    <tr>\n",
       "      <th>78</th>\n",
       "      <td>nyt://article/06c1a953-425e-53c3-bbad-8860df0e...</td>\n",
       "      <td>New York</td>\n",
       "      <td>[Pedestrian Malls, Education (K-12), Roads and...</td>\n",
       "      <td>2024-09-02T07:00:31+0000</td>\n",
       "    </tr>\n",
       "    <tr>\n",
       "      <th>...</th>\n",
       "      <td>...</td>\n",
       "      <td>...</td>\n",
       "      <td>...</td>\n",
       "      <td>...</td>\n",
       "    </tr>\n",
       "    <tr>\n",
       "      <th>48626</th>\n",
       "      <td>nyt://article/06e74b83-0482-53ed-8dfc-2077d0a3...</td>\n",
       "      <td>New York</td>\n",
       "      <td>[Pro-Palestinian Campus Protests (2023- ), Isr...</td>\n",
       "      <td>2024-08-30T21:05:54+0000</td>\n",
       "    </tr>\n",
       "    <tr>\n",
       "      <th>48648</th>\n",
       "      <td>nyt://article/bcae809a-57ae-5b4a-a574-168659e5...</td>\n",
       "      <td>New York</td>\n",
       "      <td>[Writing and Writers, Running, Books and Liter...</td>\n",
       "      <td>2024-08-31T07:00:24+0000</td>\n",
       "    </tr>\n",
       "    <tr>\n",
       "      <th>48650</th>\n",
       "      <td>nyt://article/c30f17c2-0e48-564d-a518-b4388527...</td>\n",
       "      <td>New York</td>\n",
       "      <td>[Urban Areas, Homosexuality and Bisexuality, P...</td>\n",
       "      <td>2024-08-31T07:00:46+0000</td>\n",
       "    </tr>\n",
       "    <tr>\n",
       "      <th>48651</th>\n",
       "      <td>nyt://article/3c477e41-f076-5db6-8c9a-fa5cbaa9...</td>\n",
       "      <td>New York</td>\n",
       "      <td>[Roller Derby, Law and Legislation, Civil Righ...</td>\n",
       "      <td>2024-08-31T07:00:47+0000</td>\n",
       "    </tr>\n",
       "    <tr>\n",
       "      <th>48695</th>\n",
       "      <td>nyt://article/0bca89dd-a1a7-5022-8192-9812f680...</td>\n",
       "      <td>New York</td>\n",
       "      <td>[United States Open (Tennis), Content Type: Pe...</td>\n",
       "      <td>2024-08-31T15:42:26+0000</td>\n",
       "    </tr>\n",
       "  </tbody>\n",
       "</table>\n",
       "<p>2660 rows × 4 columns</p>\n",
       "</div>"
      ],
      "text/plain": [
       "                                                     _id section_name  \\\n",
       "11     nyt://article/fbd74938-d198-5111-a322-256674ee...     New York   \n",
       "13     nyt://article/cfeb776c-7468-5f9c-96b1-cfee972d...     New York   \n",
       "55     nyt://article/78b260c3-4d2a-5200-bfc1-176274a5...     New York   \n",
       "77     nyt://article/6f4a73e6-8886-5682-8468-09a76de6...     New York   \n",
       "78     nyt://article/06c1a953-425e-53c3-bbad-8860df0e...     New York   \n",
       "...                                                  ...          ...   \n",
       "48626  nyt://article/06e74b83-0482-53ed-8dfc-2077d0a3...     New York   \n",
       "48648  nyt://article/bcae809a-57ae-5b4a-a574-168659e5...     New York   \n",
       "48650  nyt://article/c30f17c2-0e48-564d-a518-b4388527...     New York   \n",
       "48651  nyt://article/3c477e41-f076-5db6-8c9a-fa5cbaa9...     New York   \n",
       "48695  nyt://article/0bca89dd-a1a7-5022-8192-9812f680...     New York   \n",
       "\n",
       "                                                keywords  \\\n",
       "11                                       [New York City]   \n",
       "13     [Strazzullo, Sal, Bars and Nightclubs, Robberi...   \n",
       "55     [United States Politics and Government, Presid...   \n",
       "77     [United States Open (Tennis), Tennis, Stadiums...   \n",
       "78     [Pedestrian Malls, Education (K-12), Roads and...   \n",
       "...                                                  ...   \n",
       "48626  [Pro-Palestinian Campus Protests (2023- ), Isr...   \n",
       "48648  [Writing and Writers, Running, Books and Liter...   \n",
       "48650  [Urban Areas, Homosexuality and Bisexuality, P...   \n",
       "48651  [Roller Derby, Law and Legislation, Civil Righ...   \n",
       "48695  [United States Open (Tennis), Content Type: Pe...   \n",
       "\n",
       "                       pub_date  \n",
       "11     2024-09-01T07:00:23+0000  \n",
       "13     2024-09-01T07:00:35+0000  \n",
       "55     2024-09-01T19:38:41+0000  \n",
       "77     2024-09-02T07:00:27+0000  \n",
       "78     2024-09-02T07:00:31+0000  \n",
       "...                         ...  \n",
       "48626  2024-08-30T21:05:54+0000  \n",
       "48648  2024-08-31T07:00:24+0000  \n",
       "48650  2024-08-31T07:00:46+0000  \n",
       "48651  2024-08-31T07:00:47+0000  \n",
       "48695  2024-08-31T15:42:26+0000  \n",
       "\n",
       "[2660 rows x 4 columns]"
      ]
     },
     "execution_count": 207,
     "metadata": {},
     "output_type": "execute_result"
    }
   ],
   "source": [
    "coverage_about_ny"
   ]
  },
  {
   "cell_type": "markdown",
   "metadata": {},
   "source": [
    "### Coverage about foreign countries and cities"
   ]
  },
  {
   "cell_type": "markdown",
   "metadata": {},
   "source": [
    "Creating a dictionary with all possible countries, then filtering the original dataset to keep only the rows where at least one keyword is fund."
   ]
  },
  {
   "cell_type": "code",
   "execution_count": 208,
   "metadata": {},
   "outputs": [],
   "source": [
    "country_dict = {country.name: country.alpha_2 for country in pycountry.countries}"
   ]
  },
  {
   "cell_type": "code",
   "execution_count": 209,
   "metadata": {},
   "outputs": [],
   "source": [
    "coverage_about_abroad = full_year_essential[full_year_essential['keywords'].apply(lambda x: any(keyword in country_dict for keyword in x))]"
   ]
  },
  {
   "cell_type": "code",
   "execution_count": 210,
   "metadata": {},
   "outputs": [
    {
     "data": {
      "application/vnd.microsoft.datawrangler.viewer.v0+json": {
       "columns": [
        {
         "name": "index",
         "rawType": "int64",
         "type": "integer"
        },
        {
         "name": "_id",
         "rawType": "object",
         "type": "string"
        },
        {
         "name": "section_name",
         "rawType": "object",
         "type": "string"
        },
        {
         "name": "keywords",
         "rawType": "object",
         "type": "unknown"
        },
        {
         "name": "pub_date",
         "rawType": "object",
         "type": "string"
        }
       ],
       "conversionMethod": "pd.DataFrame",
       "ref": "3a9f4563-595f-4d5a-b5ef-f9094afac4da",
       "rows": [
        [
         "1",
         "nyt://article/aeabc262-aeb0-5423-a7ac-8bb664cb983b",
         "World",
         "['India', 'Hospitals', 'Workplace Hazards and Violations', 'Doctors', 'Medical Schools', 'Murders, Attempted Murders and Homicides', 'Health Care Workers']",
         "2024-09-01T04:01:25+0000"
        ],
        [
         "3",
         "nyt://article/6393c6c3-0e1f-5494-925d-165e7aafdefa",
         "World",
         "['Israel-Gaza War (2023- )', 'Vaccination and Immunization', 'Palestinians', 'World Health Organization', 'United Nations', 'Hamas', 'Israel', 'Poliomyelitis', 'Children and Childhood']",
         "2024-09-01T04:01:43+0000"
        ],
        [
         "4",
         "nyt://article/fe046102-78e5-530d-89e0-59ff09c0e2e4",
         "World",
         "['Germany', 'Elections, State Legislature', 'SAXONY (GERMANY)', 'THURINGIA (GERMANY)', 'Alternative for Germany', 'Christian Democratic Union (Germany)', 'Sahra Wagenknecht Alliance (BSW)', 'Right-Wing Extremism and Alt-Right', 'Politics and Government', 'Scholz, Olaf (1958- )', 'Elections']",
         "2024-09-01T04:01:43+0000"
        ],
        [
         "7",
         "nyt://article/8c93a8fe-604e-5c56-b025-18fe292ef016",
         "World",
         "['Goldberg-Polin, Hersh', 'Israel-Gaza War (2023- )', 'Kidnapping and Hostages', 'Murders, Attempted Murders and Homicides', 'War Crimes, Genocide and Crimes Against Humanity', 'Gaza Strip', 'Israel', 'Hamas']",
         "2024-09-01T04:17:40+0000"
        ],
        [
         "17",
         "nyt://article/39a6950a-15db-59d2-baaf-f0d9509b2fa1",
         "Magazine",
         "['Currency', 'Numismatics', 'Lobbying and Lobbyists', 'Banking and Financial Institutions', 'Federal Reserve System', 'Treasury Department', 'United States Mint', 'United States', 'Copper, Brass and Bronze', 'Stivers, Steven E', 'Coinstar Inc', 'Artazn LLC', 'Gore, Jeff', 'Americans for Common Cents', 'Weller, Mark W']",
         "2024-09-01T09:00:57+0000"
        ],
        [
         "18",
         "nyt://article/cdd22020-ad15-54a4-9a31-9b1ac7387612",
         "World",
         "['Egypt', 'Electric Light and Power', 'Economic Conditions and Trends', 'Heat and Heat Waves', 'Sisi, Abdel Fattah el-', 'Cairo (Egypt)', 'Power Failures and Blackouts', 'Curfews']",
         "2024-09-01T09:00:57+0000"
        ],
        [
         "24",
         "nyt://article/d0c34b21-565c-52dc-bfc5-7ebd45a8fdc6",
         "World",
         "['Evacuations and Evacuees', 'Russian Invasion of Ukraine (2022)', 'Defense and Military Forces', 'Pokrovsk (Ukraine)', 'Ukraine', 'Russia']",
         "2024-09-01T09:02:15+0000"
        ],
        [
         "27",
         "nyt://article/3e378519-5301-513b-9ff1-baaf73c2afe1",
         "World",
         "['Philippines', 'China', 'South China Sea', 'Territorial Disputes', 'Maritime Accidents and Safety', 'United States International Relations', 'International Relations', 'Defense and Military Forces']",
         "2024-09-01T09:30:15+0000"
        ],
        [
         "30",
         "nyt://article/3ea7759f-1fa3-52db-b2ae-b0aab1991bd8",
         "Opinion",
         "['Friendship', 'Income Inequality', 'United States', 'Loneliness', 'Volunteers and Community Service']",
         "2024-09-01T10:00:09+0000"
        ],
        [
         "32",
         "nyt://article/d918efb7-d901-53c8-a800-1247115a0a5b",
         "World",
         "['Drones (Pilotless Planes)', 'United States International Relations', 'Russian Invasion of Ukraine (2022)', 'Oil (Petroleum) and Gasoline', 'Zelensky, Volodymyr', 'Ukraine', 'Russia']",
         "2024-09-01T10:47:11+0000"
        ],
        [
         "36",
         "nyt://article/d3122495-1e8c-5bd4-a5ee-b694284f44c5",
         "Briefing",
         "['internal-storyline-no', 'Currency', 'Numismatics', 'United States Mint', 'United States']",
         "2024-09-01T11:40:57+0000"
        ],
        [
         "37",
         "nyt://article/e3ad1eb7-1466-5f43-9234-14db378205b2",
         "World",
         "['Israel-Gaza War (2023- )', 'Defense and Military Forces', 'Israeli Settlements', 'Palestinians', 'Hamas', 'West Bank', 'Israel', 'Gaza Strip']",
         "2024-09-01T12:13:48+0000"
        ],
        [
         "38",
         "nyt://article/7d98e38d-3e74-5d23-a581-626fdfe42e63",
         "Travel",
         "['Travel and Vacations', 'Hotels and Travel Lodgings', 'Unite Here', 'Strikes', 'Organized Labor', 'Content Type: Service', 'Hilton Worldwide Holdings Inc', 'Hyatt Hotels Corp', 'Marriott International Inc', 'United States']",
         "2024-09-01T12:24:12+0000"
        ],
        [
         "39",
         "nyt://article/a2785ef5-29c0-5448-a46b-e2d40a5ad129",
         "Opinion",
         "['Mental Health and Disorders', 'Health Insurance and Managed Care', 'Psychology and Psychologists', 'Anxiety and Stress', 'Preventive Medicine', 'Psychiatry and Psychiatrists', 'Doctors', 'United States']",
         "2024-09-01T13:00:08+0000"
        ],
        [
         "45",
         "nyt://article/0a8e3d79-e89a-5ed4-8981-e4b9c1d50354",
         "Arts",
         "['Meneses, Antonio', 'Deaths (Obituaries)', 'Classical Music', 'Beaux Arts Trio', 'Pressler, Menahem', 'Brazil']",
         "2024-09-01T16:16:04+0000"
        ],
        [
         "47",
         "nyt://article/6e68b087-4cd3-5a4e-8f6a-48212761e56b",
         "Business Day",
         "['Organized Labor', 'Strikes', 'Labor Day', 'Hotels and Travel Lodgings', 'Wages and Salaries', 'Unite Here', 'Kauai (Hawaii)', 'Honolulu (Hawaii)', 'Greenwich (Conn)', 'Baltimore (Md)', 'San Francisco (Calif)', 'Seattle (Wash)', 'San Diego (Calif)', 'San Jose (Calif)', 'Fairmont Hotels and Resorts', 'Hilton Worldwide Holdings Inc', 'Hyatt Hotels Corp', 'Marriott International Inc', 'United States']",
         "2024-09-01T16:23:21+0000"
        ],
        [
         "50",
         "nyt://article/977675ac-c884-5704-a14c-ec7a15ff4a79",
         "World",
         "['Elections', 'Germany', 'East Germany', 'SAXONY (GERMANY)', 'THURINGIA (GERMANY)', 'Right-Wing Extremism and Alt-Right', 'Politics and Government', 'Fringe Groups and Movements', 'Immigration and Emigration', 'Neo Nazi Groups', 'Alternative for Germany', 'Christian Democratic Union (Germany)', 'European Parliament', 'Free Democratic Party (Germany)', 'Sahra Wagenknecht Alliance (BSW)', 'Left Party (Germany)', 'Social Democratic Party (Germany)', 'Scholz, Olaf (1958- )', 'Europe']",
         "2024-09-01T18:10:05+0000"
        ],
        [
         "54",
         "nyt://article/f3e7f53e-152c-5134-bae9-39f1f2c97518",
         "U.S.",
         "['Israel-Gaza War (2023- )', 'Kidnapping and Hostages', 'Murders, Attempted Murders and Homicides', 'Jews and Judaism', 'Hamas', 'Goldberg-Polin, Hersh', 'Chicago (Ill)', 'Gaza Strip', 'Israel', 'Richmond (Va)']",
         "2024-09-01T19:12:32+0000"
        ],
        [
         "56",
         "nyt://video/cddd4c9b-0617-5568-8a5d-02a613efc833",
         "World",
         "['Israel-Gaza War (2023- )', 'Kidnapping and Hostages', 'Netanyahu, Benjamin', 'Demonstrations, Protests and Riots', 'Hamas', 'Israel']",
         "2024-09-01T19:42:37+0000"
        ],
        [
         "58",
         "nyt://article/30b2bc77-c77a-5002-9b2e-37ed5408f2d5",
         "World",
         "['Demonstrations, Protests and Riots', 'Israel-Gaza War (2023- )', 'Kidnapping and Hostages', 'Netanyahu, Benjamin', 'Israel', 'Jerusalem (Israel)', 'Tel Aviv (Israel)', 'Gaza Strip']",
         "2024-09-01T19:58:24+0000"
        ],
        [
         "63",
         "nyt://article/2307bbb6-e86c-5622-8836-b6dded078b6a",
         "World",
         "['Israel-Gaza War (2023- )', 'Israel', 'Kidnapping and Hostages', 'Defense and Military Forces', 'Palestinians', 'Hamas', 'Gallant, Yoav', 'Goldberg-Polin, Hersh', 'Netanyahu, Benjamin', 'Lapid, Yair', 'Gaza Strip']",
         "2024-09-01T23:28:29+0000"
        ],
        [
         "66",
         "nyt://article/5e067c8d-573e-5ab7-9cde-f7b620400996",
         "Business Day",
         "['Television', 'ABC Inc', 'DirecTV', 'ESPN', 'Walt Disney Company', 'United States']",
         "2024-09-02T02:25:01+0000"
        ],
        [
         "67",
         "nyt://article/bb5f9ad2-fa18-55f7-b65b-bf38fd0c8b76",
         "Opinion",
         "['Hamas', 'Gaza Strip', 'Israel', 'Netanyahu, Benjamin', 'Israel-Gaza War (2023- )', 'Kidnapping and Hostages', 'Democratic National Convention']",
         "2024-09-02T02:41:46+0000"
        ],
        [
         "68",
         "nyt://article/208c2f6a-924d-5d1e-a03f-996695ffc330",
         "World",
         "['Musk, Elon', 'Brazil', 'X (Formerly Twitter)', 'Starlink Satellite Constellation (SpaceX)', 'Moraes, Alexandre de (1968- )', 'Social Media', 'Politics and Government', 'Rumors and Misinformation', 'Hate Speech', 'Assets, Frozen']",
         "2024-09-02T03:43:47+0000"
        ],
        [
         "69",
         "nyt://article/5962fc9a-1e44-55d7-a422-7d1dd04eee05",
         "World",
         "['Right-Wing Extremism and Alt-Right', 'Politics and Government', 'Alternative for Germany', 'Christian Democratic Union (Germany)', 'Sahra Wagenknecht Alliance (BSW)', 'East Germany', 'Germany', 'Scholz, Olaf (1958- )', 'Wagenknecht, Sahra (1969- )', 'SAXONY (GERMANY)', 'THURINGIA (GERMANY)', 'Elections']",
         "2024-09-02T04:01:20+0000"
        ],
        [
         "70",
         "nyt://article/5bdd6444-c855-5215-951f-7cd212bed286",
         "World",
         "['Pelicot, Dominique', 'Sex Crimes', 'Avignon (France)', 'France', 'Drug Abuse and Traffic', 'Domestic Violence']",
         "2024-09-02T04:01:20+0000"
        ],
        [
         "72",
         "nyt://article/6a1ab964-c615-56ee-ac98-e11ff324a72e",
         "Opinion",
         "['Meatpacking Plants and Slaughterhouses', 'Deportation', 'Supply Chain', 'Foreign Workers', 'Presidential Election of 2024', 'Trump, Donald J', 'Immigration and Emigration', 'Illegal Immigration', 'United States', 'JBS SA', 'Swift & Company', 'Cactus (Tex)']",
         "2024-09-02T05:00:12+0000"
        ],
        [
         "74",
         "nyt://article/e95afc05-fae6-5783-9662-63c45aa59d8d",
         "World",
         "['China', 'Floods', 'Food', 'Weather', 'Prices (Fares, Fees and Rates)', 'Agriculture and Farming', 'Vegetables', 'Global Warming', 'Food Insecurity', 'Drought', 'Rain', 'Politics and Government', 'Xi Jinping', 'Shaanxi Province (China)', \"Yan'an (China)\"]",
         "2024-09-02T06:06:41+0000"
        ],
        [
         "76",
         "nyt://article/0f6bd3be-cdd6-5249-bf19-9a20ebb5a3bc",
         "World",
         "['Drones (Pilotless Planes)', 'Missiles and Missile Defense Systems', 'Russian Invasion of Ukraine (2022)', 'Zelensky, Volodymyr', 'Kyiv (Ukraine)', 'Russia', 'Ukraine']",
         "2024-09-02T07:00:16+0000"
        ],
        [
         "86",
         "nyt://article/7cd2c6fa-bd79-5b04-b999-05e9e8c2c9c7",
         "Real Estate",
         "['Leino, Iria (1932-2022)', 'Real Estate and Housing (Residential)', 'Art', 'Renting and Leasing (Real Estate)', 'Content Type: Personal Profile', 'New York City', 'SoHo (Manhattan, NY)', 'Finland']",
         "2024-09-02T09:00:47+0000"
        ],
        [
         "95",
         "nyt://article/42d1992b-72ad-52db-a8a8-e22d9dc82ff8",
         "Travel",
         "['Travel and Vacations', 'Heat and Heat Waves', 'Wildfires', 'Global Warming', 'Weather', 'Prices (Fares, Fees and Rates)', 'Summer (Season)', 'Cruises', 'Local Government', 'AMSTERDAM (NETHERLANDS)', 'Greece', 'France', 'Spain', 'Portugal', 'Europe']",
         "2024-09-02T09:02:34+0000"
        ],
        [
         "96",
         "nyt://article/7cdeb877-d7f7-5b81-adb2-f77b84ebdcb9",
         "Opinion",
         "['Affordable Housing', 'United States', 'Zoning', 'Real Estate and Housing (Residential)', 'Federal-State Relations (US)', 'United States Politics and Government', 'States (US)', 'Urban Areas', 'Real Estate (Commercial)', 'Transportation', 'Harris, Kamala D']",
         "2024-09-02T09:02:35+0000"
        ],
        [
         "107",
         "nyt://article/e4caf110-0195-5d58-87c6-ae974b2568d9",
         "World",
         "['Israel-Gaza War (2023- )', 'Palestinians', 'Defense and Military Forces', 'Bridges and Tunnels', 'Hamas', 'Sinwar, Yehya', 'Deif, Muhammad', 'Gaza Strip', 'Khan Younis (Gaza Strip)', 'Israel']",
         "2024-09-02T09:05:01+0000"
        ],
        [
         "110",
         "nyt://article/bd2dbb2e-f314-5af6-a331-7eb782e67a06",
         "World",
         "['Religion and Belief', 'Popes', 'Roman Catholic Church', 'Francis', 'East Timor', 'Far East, South and Southeast Asia and Pacific Areas', 'Indonesia', 'New Guinea', 'Singapore']",
         "2024-09-02T09:05:15+0000"
        ],
        [
         "115",
         "nyt://article/84a8f437-c092-5f69-b31e-9db24ec48a0c",
         "Podcasts",
         "['Strikes', 'Elections', 'East Germany', 'Israel', 'Germany']",
         "2024-09-02T10:00:16+0000"
        ],
        [
         "117",
         "nyt://article/521c6d47-581a-5218-9fc4-bf3d541793b6",
         "World",
         "['Organized Labor', 'Israel-Gaza War (2023- )', 'Strikes', 'Histadrut', 'Ben-Gurion, David', 'Israel']",
         "2024-09-02T11:02:52+0000"
        ],
        [
         "118",
         "nyt://article/96d749ce-34b6-53ed-b173-8292c7d9b4e8",
         "World",
         "['Gao Zhen (Artist)', 'Art', 'Mao Zedong', 'China', 'Political Prisoners', 'Cultural Revolution']",
         "2024-09-02T11:32:41+0000"
        ],
        [
         "122",
         "nyt://article/964dffd4-19d1-5d03-a945-1d7197fea8ce",
         "World",
         "['Biden, Joseph R Jr', 'Netanyahu, Benjamin', 'Israel-Gaza War (2023- )', 'Hamas', 'Kidnapping and Hostages', 'United States International Relations', 'Gaza Strip', 'Israel', 'Defense and Military Forces', 'Sinwar, Yehya']",
         "2024-09-02T14:53:56+0000"
        ],
        [
         "126",
         "nyt://article/2a53fe66-e669-5bb0-a48c-87eeeafb62fa",
         "World",
         "['Great Britain', 'Israel-Gaza War (2023- )', 'War and Armed Conflicts', 'Defense and Military Forces', 'Civilian Casualties', 'Israel', 'Lammy, David']",
         "2024-09-02T16:48:36+0000"
        ],
        [
         "129",
         "nyt://article/40c9d395-ab8a-5962-afcd-a8bd719a391b",
         "Business Day",
         "['Automobiles', 'Factories and Manufacturing', 'Shutdowns (Institutional)', 'Germany', 'Labor and Jobs', 'Volkswagen AG', 'Ig Metall', 'Layoffs and Job Reductions', 'Electric and Hybrid Vehicles']",
         "2024-09-02T17:52:01+0000"
        ],
        [
         "131",
         "nyt://article/6ff0cc85-b33f-53ff-b424-16d1eb17ad7a",
         "World",
         "['Politics and Government', 'Russian Invasion of Ukraine (2022)', 'War Crimes, Genocide and Crimes Against Humanity', 'Human Rights and Human Rights Violations', 'Human Rights Watch', 'International Criminal Court', 'Lvova-Belova, Maria', 'Putin, Vladimir V', 'Russia', 'Mongolia']",
         "2024-09-02T18:14:25+0000"
        ],
        [
         "132",
         "nyt://article/e3829944-3631-5618-a43e-a6b7f3894bbd",
         "World",
         "['Social Media', 'Decisions and Verdicts', 'Computers and the Internet', 'X (Formerly Twitter)', 'Supreme Federal Court (Brazil)', 'Starlink Satellite Constellation (SpaceX)', 'Moraes, Alexandre de (1968- )', 'Musk, Elon', 'Brazil']",
         "2024-09-02T18:41:14+0000"
        ],
        [
         "137",
         "nyt://article/ec7ace67-93e5-5de4-bd6f-1600e9981b4f",
         "U.S.",
         "['Maduro, Nicolas', 'Embargoes and Sanctions', 'United States International Relations', 'AIRLINES AND AIRPLANES', 'Commerce Department', 'Homeland Security Department', 'Justice Department', 'Dominican Republic', 'Venezuela']",
         "2024-09-02T20:07:28+0000"
        ],
        [
         "138",
         "nyt://article/7bf7ebe2-493d-585a-89b4-240590fae296",
         "World",
         "['Funerals and Memorials', 'Israel-Gaza War (2023- )', 'Kidnapping and Hostages', 'Jerusalem (Israel)', 'Goldberg-Polin, Hersh', 'Gaza Strip', 'Israel']",
         "2024-09-02T20:19:41+0000"
        ],
        [
         "140",
         "nyt://interactive/29197e5c-4acc-5862-b896-e77ec4d36801",
         "Weather",
         "['Hurricanes and Tropical Storms', 'Hong Kong', 'Typhoons']",
         "2024-09-02T20:21:59+0000"
        ],
        [
         "143",
         "nyt://article/a7c2c7c4-da88-5f33-a2ff-7e54819b6a6e",
         "World",
         "['Israel-Gaza War (2023- )', 'International Relations', 'Palestinians', 'Kidnapping and Hostages', 'Demonstrations, Protests and Riots', 'Shutdowns (Institutional)', 'Strikes', 'Peace Process', 'Hamas', 'Labour Party (Great Britain)', 'United Nations', 'Netanyahu, Benjamin', 'Biden, Joseph R Jr', 'Goldberg-Polin, Hersh', 'Israel', 'Gaza Strip']",
         "2024-09-02T21:30:12+0000"
        ],
        [
         "144",
         "nyt://article/aa33787b-a37d-5caf-824b-6b78edfd9ca7",
         "World",
         "['Kidnapping and Hostages', 'Israel-Gaza War (2023- )', 'Israel', 'Hamas']",
         "2024-09-02T21:57:13+0000"
        ],
        [
         "145",
         "nyt://article/4103430d-0261-5ab2-b13c-85cc21edee23",
         "New York",
         "['Palestinians', 'Alexander, Edan (2003- )', 'Goldberg-Polin, Hersh', 'Netanyahu, Benjamin', 'Neutra, Omer', 'Israel', 'New York City']",
         "2024-09-02T22:16:01+0000"
        ],
        [
         "151",
         "nyt://article/285e7f74-21a6-5399-8f70-ab3931020b4d",
         "Business Day",
         "['China', 'Economic Conditions and Trends', 'Labor and Jobs', 'Layoffs and Job Reductions', 'Banking and Financial Institutions', 'Foreign Investments']",
         "2024-09-03T04:00:18+0000"
        ],
        [
         "152",
         "nyt://article/216654f9-c972-585f-a290-92d465959146",
         "World",
         "['International Relations', 'United States Politics and Government', 'Presidential Election of 2024', 'United States International Relations', 'Diplomatic Service, Embassies and Consulates', 'Appointments and Executive Changes', 'Labour Party (Great Britain)', 'Mar-a-Lago (Palm Beach, Fla)', 'Darroch, Kim (1954- )', 'Pierce, Karen (1959- )', 'Trump, Donald J', 'Starmer, Keir', 'Harris, Kamala D', 'Great Britain', 'United States']",
         "2024-09-03T04:01:15+0000"
        ]
       ],
       "shape": {
        "columns": 4,
        "rows": 9235
       }
      },
      "text/html": [
       "<div>\n",
       "<style scoped>\n",
       "    .dataframe tbody tr th:only-of-type {\n",
       "        vertical-align: middle;\n",
       "    }\n",
       "\n",
       "    .dataframe tbody tr th {\n",
       "        vertical-align: top;\n",
       "    }\n",
       "\n",
       "    .dataframe thead th {\n",
       "        text-align: right;\n",
       "    }\n",
       "</style>\n",
       "<table border=\"1\" class=\"dataframe\">\n",
       "  <thead>\n",
       "    <tr style=\"text-align: right;\">\n",
       "      <th></th>\n",
       "      <th>_id</th>\n",
       "      <th>section_name</th>\n",
       "      <th>keywords</th>\n",
       "      <th>pub_date</th>\n",
       "    </tr>\n",
       "  </thead>\n",
       "  <tbody>\n",
       "    <tr>\n",
       "      <th>1</th>\n",
       "      <td>nyt://article/aeabc262-aeb0-5423-a7ac-8bb664cb...</td>\n",
       "      <td>World</td>\n",
       "      <td>[India, Hospitals, Workplace Hazards and Viola...</td>\n",
       "      <td>2024-09-01T04:01:25+0000</td>\n",
       "    </tr>\n",
       "    <tr>\n",
       "      <th>3</th>\n",
       "      <td>nyt://article/6393c6c3-0e1f-5494-925d-165e7aaf...</td>\n",
       "      <td>World</td>\n",
       "      <td>[Israel-Gaza War (2023- ), Vaccination and Imm...</td>\n",
       "      <td>2024-09-01T04:01:43+0000</td>\n",
       "    </tr>\n",
       "    <tr>\n",
       "      <th>4</th>\n",
       "      <td>nyt://article/fe046102-78e5-530d-89e0-59ff09c0...</td>\n",
       "      <td>World</td>\n",
       "      <td>[Germany, Elections, State Legislature, SAXONY...</td>\n",
       "      <td>2024-09-01T04:01:43+0000</td>\n",
       "    </tr>\n",
       "    <tr>\n",
       "      <th>7</th>\n",
       "      <td>nyt://article/8c93a8fe-604e-5c56-b025-18fe292e...</td>\n",
       "      <td>World</td>\n",
       "      <td>[Goldberg-Polin, Hersh, Israel-Gaza War (2023-...</td>\n",
       "      <td>2024-09-01T04:17:40+0000</td>\n",
       "    </tr>\n",
       "    <tr>\n",
       "      <th>17</th>\n",
       "      <td>nyt://article/39a6950a-15db-59d2-baaf-f0d9509b...</td>\n",
       "      <td>Magazine</td>\n",
       "      <td>[Currency, Numismatics, Lobbying and Lobbyists...</td>\n",
       "      <td>2024-09-01T09:00:57+0000</td>\n",
       "    </tr>\n",
       "    <tr>\n",
       "      <th>...</th>\n",
       "      <td>...</td>\n",
       "      <td>...</td>\n",
       "      <td>...</td>\n",
       "      <td>...</td>\n",
       "    </tr>\n",
       "    <tr>\n",
       "      <th>48680</th>\n",
       "      <td>nyt://article/e375e0ea-81ae-54af-ae3c-d964bb6b...</td>\n",
       "      <td>World</td>\n",
       "      <td>[Israel, West Bank, Israel-Gaza War (2023- ), ...</td>\n",
       "      <td>2024-08-31T10:27:33+0000</td>\n",
       "    </tr>\n",
       "    <tr>\n",
       "      <th>48681</th>\n",
       "      <td>nyt://article/24ccc50f-f6c6-56c0-a9ff-400a72d4...</td>\n",
       "      <td>Opinion</td>\n",
       "      <td>[Capital Punishment, Justice Department, Biden...</td>\n",
       "      <td>2024-08-31T11:00:06+0000</td>\n",
       "    </tr>\n",
       "    <tr>\n",
       "      <th>48682</th>\n",
       "      <td>nyt://article/c88482cb-671c-578e-b9e7-f0410f4e...</td>\n",
       "      <td>Opinion</td>\n",
       "      <td>[Weather, Global Warming, Heat and Heat Waves,...</td>\n",
       "      <td>2024-08-31T11:00:06+0000</td>\n",
       "    </tr>\n",
       "    <tr>\n",
       "      <th>48692</th>\n",
       "      <td>nyt://article/3a3d339e-87ab-5650-b797-b7bb3cb0...</td>\n",
       "      <td>World</td>\n",
       "      <td>[Military Aircraft, Friendly Fire (Military an...</td>\n",
       "      <td>2024-08-31T14:57:53+0000</td>\n",
       "    </tr>\n",
       "    <tr>\n",
       "      <th>48695</th>\n",
       "      <td>nyt://article/0bca89dd-a1a7-5022-8192-9812f680...</td>\n",
       "      <td>New York</td>\n",
       "      <td>[United States Open (Tennis), Content Type: Pe...</td>\n",
       "      <td>2024-08-31T15:42:26+0000</td>\n",
       "    </tr>\n",
       "  </tbody>\n",
       "</table>\n",
       "<p>9235 rows × 4 columns</p>\n",
       "</div>"
      ],
      "text/plain": [
       "                                                     _id section_name  \\\n",
       "1      nyt://article/aeabc262-aeb0-5423-a7ac-8bb664cb...        World   \n",
       "3      nyt://article/6393c6c3-0e1f-5494-925d-165e7aaf...        World   \n",
       "4      nyt://article/fe046102-78e5-530d-89e0-59ff09c0...        World   \n",
       "7      nyt://article/8c93a8fe-604e-5c56-b025-18fe292e...        World   \n",
       "17     nyt://article/39a6950a-15db-59d2-baaf-f0d9509b...     Magazine   \n",
       "...                                                  ...          ...   \n",
       "48680  nyt://article/e375e0ea-81ae-54af-ae3c-d964bb6b...        World   \n",
       "48681  nyt://article/24ccc50f-f6c6-56c0-a9ff-400a72d4...      Opinion   \n",
       "48682  nyt://article/c88482cb-671c-578e-b9e7-f0410f4e...      Opinion   \n",
       "48692  nyt://article/3a3d339e-87ab-5650-b797-b7bb3cb0...        World   \n",
       "48695  nyt://article/0bca89dd-a1a7-5022-8192-9812f680...     New York   \n",
       "\n",
       "                                                keywords  \\\n",
       "1      [India, Hospitals, Workplace Hazards and Viola...   \n",
       "3      [Israel-Gaza War (2023- ), Vaccination and Imm...   \n",
       "4      [Germany, Elections, State Legislature, SAXONY...   \n",
       "7      [Goldberg-Polin, Hersh, Israel-Gaza War (2023-...   \n",
       "17     [Currency, Numismatics, Lobbying and Lobbyists...   \n",
       "...                                                  ...   \n",
       "48680  [Israel, West Bank, Israel-Gaza War (2023- ), ...   \n",
       "48681  [Capital Punishment, Justice Department, Biden...   \n",
       "48682  [Weather, Global Warming, Heat and Heat Waves,...   \n",
       "48692  [Military Aircraft, Friendly Fire (Military an...   \n",
       "48695  [United States Open (Tennis), Content Type: Pe...   \n",
       "\n",
       "                       pub_date  \n",
       "1      2024-09-01T04:01:25+0000  \n",
       "3      2024-09-01T04:01:43+0000  \n",
       "4      2024-09-01T04:01:43+0000  \n",
       "7      2024-09-01T04:17:40+0000  \n",
       "17     2024-09-01T09:00:57+0000  \n",
       "...                         ...  \n",
       "48680  2024-08-31T10:27:33+0000  \n",
       "48681  2024-08-31T11:00:06+0000  \n",
       "48682  2024-08-31T11:00:06+0000  \n",
       "48692  2024-08-31T14:57:53+0000  \n",
       "48695  2024-08-31T15:42:26+0000  \n",
       "\n",
       "[9235 rows x 4 columns]"
      ]
     },
     "execution_count": 210,
     "metadata": {},
     "output_type": "execute_result"
    }
   ],
   "source": [
    "coverage_about_abroad"
   ]
  },
  {
   "cell_type": "markdown",
   "metadata": {},
   "source": [
    "### Coverage about US States"
   ]
  },
  {
   "cell_type": "markdown",
   "metadata": {},
   "source": [
    "Define a list of US state codes and names, then filter the dataset to keep relevant articles."
   ]
  },
  {
   "cell_type": "code",
   "execution_count": 211,
   "metadata": {},
   "outputs": [],
   "source": [
    "country_codes = {country_dict[word] for word in unique_keywords if word in country_dict}"
   ]
  },
  {
   "cell_type": "code",
   "execution_count": 212,
   "metadata": {},
   "outputs": [],
   "source": [
    "subdivision_dict = {subdivision.code for subdivision in pycountry.subdivisions if subdivision.country_code in country_codes}"
   ]
  },
  {
   "cell_type": "code",
   "execution_count": 213,
   "metadata": {},
   "outputs": [],
   "source": [
    "us_state_codes = [s.removeprefix(\"US-\") for s in subdivision_dict if 'US-' in s]"
   ]
  },
  {
   "cell_type": "code",
   "execution_count": 214,
   "metadata": {},
   "outputs": [],
   "source": [
    "us_state_names = {state.name: state.code.removeprefix(\"US-\") for state in pycountry.subdivisions if state.country_code == 'US'}"
   ]
  },
  {
   "cell_type": "code",
   "execution_count": 215,
   "metadata": {},
   "outputs": [],
   "source": [
    "us_states_full_names = list(us_state_names.keys())"
   ]
  },
  {
   "cell_type": "markdown",
   "metadata": {},
   "source": [
    "This bit helps in disambiguating between different capitalization of states and includes the full name of the state if no code is used."
   ]
  },
  {
   "cell_type": "code",
   "execution_count": 216,
   "metadata": {},
   "outputs": [],
   "source": [
    "pattern = re.compile(r\".+ \\(.+?,? ([A-Za-z]{2})\\)$\")\n",
    "places_in_US = []\n",
    "for item in unique_keywords:\n",
    "    match = pattern.match(item)\n",
    "    if item in us_states_full_names:\n",
    "            places_in_US.append(item)\n",
    "    if match:\n",
    "        state = match.group(1)\n",
    "        normalized_state = state.upper() if len(state) == 2 else state  # Convert 2-letter codes to uppercase\n",
    "        if normalized_state in us_state_codes or state in us_state_names:\n",
    "            places_in_US.append(item)"
   ]
  },
  {
   "cell_type": "code",
   "execution_count": 217,
   "metadata": {},
   "outputs": [],
   "source": [
    "coverage_about_US = full_year_essential[full_year_essential['keywords'].apply(lambda x: any(keyword in places_in_US for keyword in x))]"
   ]
  },
  {
   "cell_type": "code",
   "execution_count": 218,
   "metadata": {},
   "outputs": [
    {
     "data": {
      "application/vnd.microsoft.datawrangler.viewer.v0+json": {
       "columns": [
        {
         "name": "index",
         "rawType": "int64",
         "type": "integer"
        },
        {
         "name": "_id",
         "rawType": "object",
         "type": "string"
        },
        {
         "name": "section_name",
         "rawType": "object",
         "type": "string"
        },
        {
         "name": "keywords",
         "rawType": "object",
         "type": "unknown"
        },
        {
         "name": "pub_date",
         "rawType": "object",
         "type": "string"
        }
       ],
       "conversionMethod": "pd.DataFrame",
       "ref": "6ca7cedf-ebc0-4aa2-a0e7-5d75c1c4253b",
       "rows": [
        [
         "12",
         "nyt://article/6b7f2395-9c71-5f1f-bbd0-4a0aebf6cd1e",
         "Times Insider",
         "['New York Times', 'Times Square and 42nd Street (Manhattan, NY)', 'Midtown Area (Manhattan, NY)']",
         "2024-09-01T07:00:35+0000"
        ],
        [
         "13",
         "nyt://article/cfeb776c-7468-5f9c-96b1-cfee972d02be",
         "New York",
         "['Strazzullo, Sal', 'Bars and Nightclubs', 'Robberies and Thefts', 'Legal Profession', 'Suits and Litigation (Civil)', 'Ponzi and Pyramid Schemes', 'Frauds and Swindling', 'De La Hoya, Oscar', 'Hay, R Couri', 'Bensonhurst (Brooklyn, NY)', 'Content Type: Personal Profile']",
         "2024-09-01T07:00:35+0000"
        ],
        [
         "14",
         "nyt://article/d26bb35c-3a54-52d4-aa69-579404507e2f",
         "Books",
         "['Books and Literature', 'Writing and Writers', 'Content Type: Personal Profile', 'Senna, Danzy', 'Black People', 'Blacks', 'Race and Ethnicity', 'Thompson, Tessa', 'Everett, Percival', 'California']",
         "2024-09-01T09:00:18+0000"
        ],
        [
         "41",
         "nyt://article/4abde6a3-37f6-5f6e-8799-525b9509d0ea",
         "U.S.",
         "['Presidential Election of 2024', 'Vice Presidents and Vice Presidency (US)', 'Dole, Bob', 'Dukakis, Michael S', 'Harding, Warren G', 'Harris, Kamala D', 'Klobuchar, Amy', 'Mondale, Walter F', 'Sanders, Bernard', 'Walz, Tim', 'St Paul (Minn)', 'Minnesota']",
         "2024-09-01T13:01:15+0000"
        ],
        [
         "51",
         "nyt://article/5610726f-00ed-507c-b539-4dbd45011875",
         "Business Day",
         "['Vandalism', 'Radio', 'Decisions and Verdicts', 'Public Broadcasting', 'News and News Media', 'Sexual Harassment', 'Stalking (Crime)', 'New Hampshire Public Radio', 'Spofford, Eric', 'Boston (Mass)', 'New Hampshire']",
         "2024-09-01T18:50:10+0000"
        ],
        [
         "52",
         "nyt://article/f8af4fe5-6018-57a2-b793-3976af132b56",
         "Arts",
         "['Verity, Simon', 'Deaths (Obituaries)', 'Cathedral Church of St John the Divine (Manhattan, NY)', 'Sculpture', 'Rock and Stone', 'Churches (Buildings)', 'Monuments and Memorials (Structures)', 'Tombs and Tombstones', 'Fountains']",
         "2024-09-01T18:52:14+0000"
        ],
        [
         "65",
         "nyt://article/e50a7dcc-9a1c-5475-a551-a4cbcb0521f6",
         "U.S.",
         "['Walz, Tim', 'Democratic Party', 'Presidential Election of 2024', 'United States Politics and Government', 'State and County Fairs', 'Vice Presidents and Vice Presidency (US)', 'Governors (US)', 'Minnesota']",
         "2024-09-02T01:52:03+0000"
        ],
        [
         "77",
         "nyt://article/6f4a73e6-8886-5682-8468-09a76de649a1",
         "New York",
         "['United States Open (Tennis)', 'Tennis', 'Stadiums and Arenas', 'Fans (Persons)', 'Armstrong, Louis, Stadium (Queens, NY)', 'Ashe, Arthur, Stadium', 'Billie Jean King National Tennis Center', 'Flushing (Queens, NY)', 'New York City']",
         "2024-09-02T07:00:27+0000"
        ],
        [
         "86",
         "nyt://article/7cd2c6fa-bd79-5b04-b999-05e9e8c2c9c7",
         "Real Estate",
         "['Leino, Iria (1932-2022)', 'Real Estate and Housing (Residential)', 'Art', 'Renting and Leasing (Real Estate)', 'Content Type: Personal Profile', 'New York City', 'SoHo (Manhattan, NY)', 'Finland']",
         "2024-09-02T09:00:47+0000"
        ],
        [
         "106",
         "nyt://article/3f9f0b7b-774f-5369-83c2-a2c4c9333491",
         "U.S.",
         "['Deafness', 'Disabilities', 'Children and Childhood', 'Lewiston, Maine, Shootings (2023)', 'Maine', 'Summer Camps', 'Seal, Joshua A (1987-2023)']",
         "2024-09-02T09:05:01+0000"
        ],
        [
         "119",
         "nyt://article/b32d8527-2a1a-5166-9735-d7b3a725fc67",
         "U.S.",
         "['Missing Persons', 'APPALACHIAN TRAIL', 'Pennsylvania', 'Deaths (Fatalities)']",
         "2024-09-02T11:46:58+0000"
        ],
        [
         "135",
         "nyt://article/36f71a88-033c-556b-b394-effb63f3b7a3",
         "U.S.",
         "['Transit Systems', 'Murders, Attempted Murders and Homicides', 'Chicago Transit Authority', 'Chicago (Ill)', 'Illinois', 'Mass Shootings', 'Stations and Terminals (Passenger)']",
         "2024-09-02T19:33:35+0000"
        ],
        [
         "146",
         "nyt://article/7928f94c-4597-522a-a4af-55bdd28788bf",
         "New York",
         "['West Indian-Americans', 'Parades', 'West Indian-American Day', 'Murders, Attempted Murders and Homicides', 'Crown Heights (Brooklyn, NY)']",
         "2024-09-02T23:07:21+0000"
        ],
        [
         "156",
         "nyt://article/c3d60e6b-fcd3-50f5-a950-927c20fa7928",
         "Opinion",
         "['Antitrust Laws and Competition Issues', 'Regulation and Deregulation of Industry', 'Landlords', 'Prices (Fares, Fees and Rates)', 'Real Estate (Commercial)', 'Texas']",
         "2024-09-03T05:00:03+0000"
        ],
        [
         "175",
         "nyt://article/07b61d58-b001-583a-919b-4b3baf488cfa",
         "U.S.",
         "['Springfield (Ohio)', 'Immigration and Emigration', 'Foreign Workers', 'Haitian-Americans', 'Factories and Manufacturing', 'Labor and Jobs', 'Affordable Housing', 'Ohio', 'Vance, J D', 'Presidential Election of 2024', 'United States Politics and Government']",
         "2024-09-03T09:02:27+0000"
        ],
        [
         "180",
         "nyt://article/730bc372-911c-540d-887c-a664ce54e517",
         "Magazine",
         "['North American Free Trade Agreement', 'Organized Labor', 'Factories and Manufacturing', 'Milwaukee (Wis)', 'Presidential Election of 2024', 'United States Politics and Government', 'Biden, Joseph R Jr', 'Baldwin, Tammy Suzanne Green', 'Harris, Kamala D', 'Trump, Donald J', 'Vance, J D', 'Obama, Barack', 'Clinton, Bill', 'Ohio', 'Wisconsin', 'Michigan', 'Pennsylvania']",
         "2024-09-03T09:03:08+0000"
        ],
        [
         "185",
         "nyt://article/19030db9-e4d2-5e00-87d0-99553c99a7d7",
         "U.S.",
         "['St Petersburg (Fla)', 'Florida', 'Local Government', 'Fringe Groups and Movements', 'Russia', 'Propaganda', 'Espionage and Intelligence Services', 'Freedom of Speech and Expression', 'Russian Invasion of Ukraine (2022)', 'Foreign Agents Registration Act', \"African People's Socialist Party\", \"National People's Democratic Uhuru Movement\"]",
         "2024-09-03T09:04:22+0000"
        ],
        [
         "214",
         "nyt://article/d7ef3e10-a14f-571c-912e-b1959e8a83e5",
         "Books",
         "['Book Bans', 'Books and Literature', 'Censorship', 'Louisiana', 'Libraries and Librarians', 'Threats and Threatening Messages', 'Cyberharassment', 'Education (K-12)', 'Content Type: Personal Profile', 'audio-neutral-informative', 'audio-neutral-immersive']",
         "2024-09-03T14:52:34+0000"
        ],
        [
         "219",
         "nyt://article/89b78224-b87c-509b-be9f-8d90074bd5e4",
         "Times Insider",
         "['Harlem (Manhattan, NY)', 'Brown, Camille A, & Dancers', 'Dancing', 'Culture (Arts)', 'Jazz', 'Photography', 'Black People', 'Blacks', 'Beinecke Rare Book and Manuscript Library', 'National Museum of African American History and Culture', 'New York Public Library']",
         "2024-09-03T15:19:07+0000"
        ],
        [
         "225",
         "nyt://interactive/9ea7cf41-d7ad-5a30-ab32-839938218757",
         "U.S.",
         "['Elections', 'Primaries and Caucuses', 'Elections, County Commissioners', 'Massachusetts', 'Elections, State Legislature', 'Elections, House of Representatives', 'Elections, Senate', 'internal-paywall-exempt']",
         "2024-09-03T16:42:51+0000"
        ],
        [
         "228",
         "nyt://article/552f7f8c-d111-5fec-a0f0-fbccd963d934",
         "U.S.",
         "['Colleges and Universities', 'Tuition', 'Scholarships and Fellowships', 'Cooper Union for the Advancement of Science and Art', 'East Village (Manhattan, NY)']",
         "2024-09-03T17:01:47+0000"
        ],
        [
         "242",
         "nyt://article/41c8f0ca-0b5d-510f-8556-b94201da25c0",
         "U.S.",
         "['Food Contamination and Poisoning', 'Horses', 'Livestock', 'Kansas', 'Oklahoma']",
         "2024-09-03T19:23:59+0000"
        ],
        [
         "254",
         "nyt://article/96e092a7-8583-57f8-997b-8800166cf4b6",
         "U.S.",
         "['Harris, Kamala D', 'Tax Credits, Deductions and Exemptions', 'Small Business', 'Taxation', 'Start-ups', 'Presidential Election of 2024', 'United States Politics and Government', 'Trump, Donald J', 'New Hampshire']",
         "2024-09-03T21:00:08+0000"
        ],
        [
         "257",
         "nyt://article/b1336fed-ec2b-5f40-9428-7188ad33485f",
         "U.S.",
         "['Decisions and Verdicts', 'United States Politics and Government', \"Dobbs v Jackson Women's Health Organization (Supreme Court Decision)\", 'Birth Control and Family Planning', 'Health and Human Services Department', 'Supreme Court (US)', 'Oklahoma']",
         "2024-09-03T21:31:59+0000"
        ],
        [
         "267",
         "nyt://article/c30b635d-7370-5413-94e3-897ef8ae5364",
         "Weather",
         "['Heat and Heat Waves', 'Weather', 'Air Conditioning', 'Summer (Season)', 'Arizona', 'Las Vegas (Nev)', 'Los Angeles (Calif)']",
         "2024-09-03T22:42:35+0000"
        ],
        [
         "272",
         "nyt://interactive/54cdedfc-ff76-5b89-bff1-77896cde73f0",
         "U.S.",
         "['Elections', 'Primaries and Caucuses', 'Elections, Senate', 'Massachusetts', 'internal-paywall-exempt']",
         "2024-09-03T23:25:48+0000"
        ],
        [
         "273",
         "nyt://interactive/6b0b1f75-860d-5af6-b3cc-ba8019e90407",
         "U.S.",
         "['internal-paywall-exempt', 'Elections', 'Primaries and Caucuses', 'Elections, House of Representatives', 'Massachusetts']",
         "2024-09-03T23:25:50+0000"
        ],
        [
         "274",
         "nyt://article/16644d40-8e9b-56a9-b701-e0e83ea7736f",
         "U.S.",
         "['Attacks on Police', 'Fugitives', 'Police', 'Murders, Attempted Murders and Homicides', 'Uniforms', 'Harris County (Tex)', 'Houston (Tex)', 'Texas']",
         "2024-09-03T23:28:52+0000"
        ],
        [
         "275",
         "nyt://interactive/860c29c8-c154-56dd-a047-2a8601454556",
         "U.S.",
         "['internal-paywall-exempt', 'Elections', 'Primaries and Caucuses', 'Elections, House of Representatives', 'Massachusetts']",
         "2024-09-03T23:36:55+0000"
        ],
        [
         "276",
         "nyt://interactive/52368357-c0a2-534f-ae71-a10dfafa3590",
         "U.S.",
         "['internal-paywall-exempt', 'Elections', 'Primaries and Caucuses', 'Elections, House of Representatives', 'Massachusetts']",
         "2024-09-03T23:36:56+0000"
        ],
        [
         "277",
         "nyt://interactive/9857bfe6-29dc-5e12-9ae1-59c9fb6e9657",
         "U.S.",
         "['internal-paywall-exempt', 'Elections', 'Primaries and Caucuses', 'Elections, House of Representatives', 'Massachusetts']",
         "2024-09-03T23:36:57+0000"
        ],
        [
         "278",
         "nyt://interactive/5508fb72-8575-5141-88fb-28157f200085",
         "U.S.",
         "['Elections', 'Primaries and Caucuses', 'Elections, House of Representatives', 'Massachusetts', 'internal-paywall-exempt']",
         "2024-09-03T23:36:59+0000"
        ],
        [
         "279",
         "nyt://interactive/bad3b2f3-b286-51f7-bf79-9ae63b964c56",
         "U.S.",
         "['internal-paywall-exempt', 'Elections', 'Primaries and Caucuses', 'Elections, House of Representatives', 'Massachusetts']",
         "2024-09-03T23:37:00+0000"
        ],
        [
         "280",
         "nyt://interactive/b811e9a8-1ebb-5ab8-abe9-76e111255b93",
         "U.S.",
         "['internal-paywall-exempt', 'Elections', 'Primaries and Caucuses', 'Elections, House of Representatives', 'Massachusetts']",
         "2024-09-03T23:37:02+0000"
        ],
        [
         "282",
         "nyt://interactive/3ce0975d-c113-5aad-b1c5-7d1455b1d4bd",
         "U.S.",
         "['internal-paywall-exempt', 'Elections', 'Primaries and Caucuses', 'Elections, House of Representatives', 'Massachusetts']",
         "2024-09-03T23:38:06+0000"
        ],
        [
         "283",
         "nyt://interactive/737b56cd-6b09-5c7a-91a6-d90b39acdbd2",
         "U.S.",
         "['internal-paywall-exempt', 'Elections', 'Primaries and Caucuses', 'Elections, House of Representatives', 'Massachusetts']",
         "2024-09-03T23:38:09+0000"
        ],
        [
         "287",
         "nyt://article/35badfd0-a703-56c0-84fc-d3f5a649aec6",
         "U.S.",
         "['Montana', 'Sheehy, Tim (1985- )', 'Native Americans', 'Discrimination', 'Elections, Senate', 'Republican Party', 'United States Politics and Government']",
         "2024-09-04T00:58:41+0000"
        ],
        [
         "303",
         "nyt://article/a0297fd3-f870-5c54-8031-97f6e003e293",
         "New York",
         "['Tennis', 'United States Open (Tennis)', 'Stadiums and Arenas', 'Ashe, Arthur, Stadium', 'Fans (Persons)', 'Flushing Meadows-Corona Park (Queens, NY)']",
         "2024-09-04T07:00:23+0000"
        ],
        [
         "306",
         "nyt://article/7473f2a8-bd66-5676-8e54-dc6bb5f66310",
         "Opinion",
         "['Florida', 'Elections, House of Representatives', 'Pinellas County (Fla)', 'Luna, Anna Paulina', 'Fox, Whitney (1987- )', 'Democratic Party', 'Republican Party', 'United States Politics and Government', 'Presidential Election of 2024', 'Trump, Donald J']",
         "2024-09-04T09:00:12+0000"
        ],
        [
         "317",
         "nyt://article/cf2182a1-abea-5d3b-b954-eb08fb0e25d2",
         "T Magazine",
         "['Art', 'Interior Design and Furnishings', 'Rodney, Sur (Artist)', 'Hendricks, Geoffrey', 'Buczak, Brian', 'Hudson Square (Manhattan, NY)']",
         "2024-09-04T09:01:51+0000"
        ],
        [
         "319",
         "nyt://article/2a0c3899-f99b-58fc-9688-fbb120c7bfe5",
         "U.S.",
         "['State Legislatures', 'United States Politics and Government', 'Democratic Party', 'Republican Party', 'ALEXANDER, LAMAR', 'Cape Girardeau (Mo)', 'Missouri']",
         "2024-09-04T09:02:13+0000"
        ],
        [
         "320",
         "nyt://interactive/fdbf27aa-775b-587a-be67-ac212c9bfdc9",
         "Opinion",
         "['Domestic Violence', 'Self-Defense', 'Women and Girls', 'Prisons and Prisoners', 'Law and Legislation', 'Murders, Attempted Murders and Homicides', 'California', 'United States']",
         "2024-09-04T09:02:15+0000"
        ],
        [
         "328",
         "nyt://article/f213cfa7-47bb-59bd-b984-bc495b148d9f",
         "Real Estate",
         "['Cohen, Andy (1968- )', 'Content Type: Personal Profile', 'Real Estate and Housing (Residential)', 'Reality Television', 'Bravo', 'West Village (Manhattan, NY)', 'Serhant, Ryan']",
         "2024-09-04T09:03:07+0000"
        ],
        [
         "358",
         "nyt://article/02ecf345-1fca-53a5-9b5b-756702b80608",
         "U.S.",
         "['Heatstroke', 'Heat and Heat Waves', 'Weather', 'Arizona', 'Phoenix (Ariz)']",
         "2024-09-04T13:00:46+0000"
        ],
        [
         "364",
         "nyt://article/c2fdec6d-8d46-5e26-9fbb-c38b7e0ab43d",
         "U.S.",
         "['Presidential Election of 2024', 'September 11 (2001)', 'Debates (Political)', 'Monuments and Memorials (Structures)', 'World Trade Center (Manhattan, NY)', 'Democratic Party', 'Republican Party', 'Biden, Joseph R Jr', 'Harris, Kamala D', 'Trump, Donald J', 'New York City']",
         "2024-09-04T14:03:46+0000"
        ],
        [
         "382",
         "nyt://article/e476a43d-87c8-54d3-bd73-5b63bad9cd40",
         "U.S.",
         "['Trump, Donald J', 'Kemp, Brian P', 'Georgia', 'Presidential Election of 2024', 'Republican Party', 'Conservatism (US Politics)', 'Rumors and Misinformation', 'Presidential Election of 2020', 'United States Politics and Government']",
         "2024-09-04T17:11:05+0000"
        ],
        [
         "383",
         "nyt://article/b2454733-cc40-5c12-8fc0-adb35742464d",
         "U.S.",
         "['United States Politics and Government', 'House of Representatives', 'Republican Party', 'Biden, Hunter', 'Biden, Joseph R Jr', 'Weiss, David C (1956- )', 'Wise, Leo J', 'California', 'Delaware', 'Drug Abuse and Traffic', 'Presidential Election of 2024']",
         "2024-09-04T17:15:19+0000"
        ],
        [
         "384",
         "nyt://article/9a5cf8f2-32dd-51ae-ba4a-301a703c8606",
         "Movies",
         "['Special Prosecutors (Independent Counsel)', 'Murders, Attempted Murders and Homicides', 'Morrissey, Kari T', 'Baldwin, Alec', 'Marlowe Sommer, Mary', 'New Mexico', 'Rust (Movie)']",
         "2024-09-04T17:46:27+0000"
        ],
        [
         "388",
         "nyt://article/d554a835-9aa2-5ec3-aa54-dfc48d78f3ee",
         "U.S.",
         "['Steel and Iron', 'Foreign Investments', 'United States Politics and Government', 'Mergers, Acquisitions and Divestitures', 'Presidential Election of 2024', 'United States Economy', 'Committee on Foreign Investment in the United States (CFIUS)', 'Nippon Steel Corporation', 'United States Steel Corporation', 'Japan', 'Pennsylvania', 'Biden, Joseph R Jr', 'Harris, Kamala D']",
         "2024-09-04T18:26:55+0000"
        ],
        [
         "396",
         "nyt://article/de3d74da-6226-5db4-b81a-cf8562a5724c",
         "Arts",
         "['Culture (Arts)', 'Art', 'Bing, Bernice (1936-98)', 'Berry Campbell Gallery (Manhattan, NY)', 'Broadway Gallery (Manhattan, NY)']",
         "2024-09-04T20:13:43+0000"
        ]
       ],
       "shape": {
        "columns": 4,
        "rows": 7219
       }
      },
      "text/html": [
       "<div>\n",
       "<style scoped>\n",
       "    .dataframe tbody tr th:only-of-type {\n",
       "        vertical-align: middle;\n",
       "    }\n",
       "\n",
       "    .dataframe tbody tr th {\n",
       "        vertical-align: top;\n",
       "    }\n",
       "\n",
       "    .dataframe thead th {\n",
       "        text-align: right;\n",
       "    }\n",
       "</style>\n",
       "<table border=\"1\" class=\"dataframe\">\n",
       "  <thead>\n",
       "    <tr style=\"text-align: right;\">\n",
       "      <th></th>\n",
       "      <th>_id</th>\n",
       "      <th>section_name</th>\n",
       "      <th>keywords</th>\n",
       "      <th>pub_date</th>\n",
       "    </tr>\n",
       "  </thead>\n",
       "  <tbody>\n",
       "    <tr>\n",
       "      <th>12</th>\n",
       "      <td>nyt://article/6b7f2395-9c71-5f1f-bbd0-4a0aebf6...</td>\n",
       "      <td>Times Insider</td>\n",
       "      <td>[New York Times, Times Square and 42nd Street ...</td>\n",
       "      <td>2024-09-01T07:00:35+0000</td>\n",
       "    </tr>\n",
       "    <tr>\n",
       "      <th>13</th>\n",
       "      <td>nyt://article/cfeb776c-7468-5f9c-96b1-cfee972d...</td>\n",
       "      <td>New York</td>\n",
       "      <td>[Strazzullo, Sal, Bars and Nightclubs, Robberi...</td>\n",
       "      <td>2024-09-01T07:00:35+0000</td>\n",
       "    </tr>\n",
       "    <tr>\n",
       "      <th>14</th>\n",
       "      <td>nyt://article/d26bb35c-3a54-52d4-aa69-57940450...</td>\n",
       "      <td>Books</td>\n",
       "      <td>[Books and Literature, Writing and Writers, Co...</td>\n",
       "      <td>2024-09-01T09:00:18+0000</td>\n",
       "    </tr>\n",
       "    <tr>\n",
       "      <th>41</th>\n",
       "      <td>nyt://article/4abde6a3-37f6-5f6e-8799-525b9509...</td>\n",
       "      <td>U.S.</td>\n",
       "      <td>[Presidential Election of 2024, Vice President...</td>\n",
       "      <td>2024-09-01T13:01:15+0000</td>\n",
       "    </tr>\n",
       "    <tr>\n",
       "      <th>51</th>\n",
       "      <td>nyt://article/5610726f-00ed-507c-b539-4dbd4501...</td>\n",
       "      <td>Business Day</td>\n",
       "      <td>[Vandalism, Radio, Decisions and Verdicts, Pub...</td>\n",
       "      <td>2024-09-01T18:50:10+0000</td>\n",
       "    </tr>\n",
       "    <tr>\n",
       "      <th>...</th>\n",
       "      <td>...</td>\n",
       "      <td>...</td>\n",
       "      <td>...</td>\n",
       "      <td>...</td>\n",
       "    </tr>\n",
       "    <tr>\n",
       "      <th>48658</th>\n",
       "      <td>nyt://article/a7d4a7da-45e0-5c61-8932-1c022415...</td>\n",
       "      <td>Climate</td>\n",
       "      <td>[Global Warming, Greenhouse Gas Emissions, Haz...</td>\n",
       "      <td>2024-08-31T09:01:08+0000</td>\n",
       "    </tr>\n",
       "    <tr>\n",
       "      <th>48681</th>\n",
       "      <td>nyt://article/24ccc50f-f6c6-56c0-a9ff-400a72d4...</td>\n",
       "      <td>Opinion</td>\n",
       "      <td>[Capital Punishment, Justice Department, Biden...</td>\n",
       "      <td>2024-08-31T11:00:06+0000</td>\n",
       "    </tr>\n",
       "    <tr>\n",
       "      <th>48682</th>\n",
       "      <td>nyt://article/c88482cb-671c-578e-b9e7-f0410f4e...</td>\n",
       "      <td>Opinion</td>\n",
       "      <td>[Weather, Global Warming, Heat and Heat Waves,...</td>\n",
       "      <td>2024-08-31T11:00:06+0000</td>\n",
       "    </tr>\n",
       "    <tr>\n",
       "      <th>48687</th>\n",
       "      <td>nyt://article/dec0b620-0ca8-5ad1-8a2e-1103cdd0...</td>\n",
       "      <td>Opinion</td>\n",
       "      <td>[Floods, Deaths (Fatalities), Deserts, Rain, G...</td>\n",
       "      <td>2024-08-31T11:00:39+0000</td>\n",
       "    </tr>\n",
       "    <tr>\n",
       "      <th>48695</th>\n",
       "      <td>nyt://article/0bca89dd-a1a7-5022-8192-9812f680...</td>\n",
       "      <td>New York</td>\n",
       "      <td>[United States Open (Tennis), Content Type: Pe...</td>\n",
       "      <td>2024-08-31T15:42:26+0000</td>\n",
       "    </tr>\n",
       "  </tbody>\n",
       "</table>\n",
       "<p>7219 rows × 4 columns</p>\n",
       "</div>"
      ],
      "text/plain": [
       "                                                     _id   section_name  \\\n",
       "12     nyt://article/6b7f2395-9c71-5f1f-bbd0-4a0aebf6...  Times Insider   \n",
       "13     nyt://article/cfeb776c-7468-5f9c-96b1-cfee972d...       New York   \n",
       "14     nyt://article/d26bb35c-3a54-52d4-aa69-57940450...          Books   \n",
       "41     nyt://article/4abde6a3-37f6-5f6e-8799-525b9509...           U.S.   \n",
       "51     nyt://article/5610726f-00ed-507c-b539-4dbd4501...   Business Day   \n",
       "...                                                  ...            ...   \n",
       "48658  nyt://article/a7d4a7da-45e0-5c61-8932-1c022415...        Climate   \n",
       "48681  nyt://article/24ccc50f-f6c6-56c0-a9ff-400a72d4...        Opinion   \n",
       "48682  nyt://article/c88482cb-671c-578e-b9e7-f0410f4e...        Opinion   \n",
       "48687  nyt://article/dec0b620-0ca8-5ad1-8a2e-1103cdd0...        Opinion   \n",
       "48695  nyt://article/0bca89dd-a1a7-5022-8192-9812f680...       New York   \n",
       "\n",
       "                                                keywords  \\\n",
       "12     [New York Times, Times Square and 42nd Street ...   \n",
       "13     [Strazzullo, Sal, Bars and Nightclubs, Robberi...   \n",
       "14     [Books and Literature, Writing and Writers, Co...   \n",
       "41     [Presidential Election of 2024, Vice President...   \n",
       "51     [Vandalism, Radio, Decisions and Verdicts, Pub...   \n",
       "...                                                  ...   \n",
       "48658  [Global Warming, Greenhouse Gas Emissions, Haz...   \n",
       "48681  [Capital Punishment, Justice Department, Biden...   \n",
       "48682  [Weather, Global Warming, Heat and Heat Waves,...   \n",
       "48687  [Floods, Deaths (Fatalities), Deserts, Rain, G...   \n",
       "48695  [United States Open (Tennis), Content Type: Pe...   \n",
       "\n",
       "                       pub_date  \n",
       "12     2024-09-01T07:00:35+0000  \n",
       "13     2024-09-01T07:00:35+0000  \n",
       "14     2024-09-01T09:00:18+0000  \n",
       "41     2024-09-01T13:01:15+0000  \n",
       "51     2024-09-01T18:50:10+0000  \n",
       "...                         ...  \n",
       "48658  2024-08-31T09:01:08+0000  \n",
       "48681  2024-08-31T11:00:06+0000  \n",
       "48682  2024-08-31T11:00:06+0000  \n",
       "48687  2024-08-31T11:00:39+0000  \n",
       "48695  2024-08-31T15:42:26+0000  \n",
       "\n",
       "[7219 rows x 4 columns]"
      ]
     },
     "execution_count": 218,
     "metadata": {},
     "output_type": "execute_result"
    }
   ],
   "source": [
    "coverage_about_US"
   ]
  },
  {
   "cell_type": "markdown",
   "metadata": {},
   "source": [
    "### Merge the three different datasets and remove possible duplicates"
   ]
  },
  {
   "cell_type": "code",
   "execution_count": 219,
   "metadata": {},
   "outputs": [
    {
     "data": {
      "application/vnd.microsoft.datawrangler.viewer.v0+json": {
       "columns": [
        {
         "name": "index",
         "rawType": "int64",
         "type": "integer"
        },
        {
         "name": "_id",
         "rawType": "object",
         "type": "string"
        },
        {
         "name": "section_name",
         "rawType": "object",
         "type": "string"
        },
        {
         "name": "keywords",
         "rawType": "object",
         "type": "unknown"
        },
        {
         "name": "pub_date",
         "rawType": "object",
         "type": "string"
        }
       ],
       "conversionMethod": "pd.DataFrame",
       "ref": "8c77fbbb-bc12-4f49-9484-d9614180eac2",
       "rows": [
        [
         "11",
         "nyt://article/fbd74938-d198-5111-a322-256674eeb1d0",
         "New York",
         "['New York City']",
         "2024-09-01T07:00:23+0000"
        ],
        [
         "13",
         "nyt://article/cfeb776c-7468-5f9c-96b1-cfee972d02be",
         "New York",
         "['Strazzullo, Sal', 'Bars and Nightclubs', 'Robberies and Thefts', 'Legal Profession', 'Suits and Litigation (Civil)', 'Ponzi and Pyramid Schemes', 'Frauds and Swindling', 'De La Hoya, Oscar', 'Hay, R Couri', 'Bensonhurst (Brooklyn, NY)', 'Content Type: Personal Profile']",
         "2024-09-01T07:00:35+0000"
        ],
        [
         "55",
         "nyt://article/78b260c3-4d2a-5200-bfc1-176274a5cbde",
         "New York",
         "['United States Politics and Government', 'Presidential Election of 2024', 'Storming of the US Capitol (Jan, 2021)', 'Trump, Donald J', 'Bedminster (NJ)']",
         "2024-09-01T19:38:41+0000"
        ],
        [
         "77",
         "nyt://article/6f4a73e6-8886-5682-8468-09a76de649a1",
         "New York",
         "['United States Open (Tennis)', 'Tennis', 'Stadiums and Arenas', 'Fans (Persons)', 'Armstrong, Louis, Stadium (Queens, NY)', 'Ashe, Arthur, Stadium', 'Billie Jean King National Tennis Center', 'Flushing (Queens, NY)', 'New York City']",
         "2024-09-02T07:00:27+0000"
        ],
        [
         "78",
         "nyt://article/06c1a953-425e-53c3-bbad-8860df0e7f82",
         "New York",
         "['Pedestrian Malls', 'Education (K-12)', 'Roads and Traffic', 'Traffic Accidents and Safety', 'Air Pollution', 'Friends Seminary', 'Street Lab (Nonprofit)', 'Transportation Department (NYC)', 'Bronx (NYC)', 'New York City']",
         "2024-09-02T07:00:31+0000"
        ],
        [
         "79",
         "nyt://article/960a2828-26b5-56e3-a0f9-0bde968b302c",
         "New York",
         "['Swimming', 'Forests and Forestry', 'Drownings', 'Waterfalls', 'Summer (Season)', 'ADIRONDACK MOUNTAINS (NY)', 'Catskills (NYS Area)', 'Keene (NY)', 'vis-photo']",
         "2024-09-02T07:00:55+0000"
        ],
        [
         "145",
         "nyt://article/4103430d-0261-5ab2-b13c-85cc21edee23",
         "New York",
         "['Palestinians', 'Alexander, Edan (2003- )', 'Goldberg-Polin, Hersh', 'Netanyahu, Benjamin', 'Neutra, Omer', 'Israel', 'New York City']",
         "2024-09-02T22:16:01+0000"
        ],
        [
         "146",
         "nyt://article/7928f94c-4597-522a-a4af-55bdd28788bf",
         "New York",
         "['West Indian-Americans', 'Parades', 'West Indian-American Day', 'Murders, Attempted Murders and Homicides', 'Crown Heights (Brooklyn, NY)']",
         "2024-09-02T23:07:21+0000"
        ],
        [
         "162",
         "nyt://article/723eb465-4f80-5f61-bd40-fa00ddb4800a",
         "New York",
         "['Immigration Shelters', 'Refugees and Displaced Persons', 'Postal Service and Post Offices', 'Letters', 'New York City', 'Asylum, Right of']",
         "2024-09-03T07:00:16+0000"
        ],
        [
         "201",
         "nyt://article/05606ac1-63b6-5576-bc71-54e921a134bd",
         "New York",
         "['internal-storyline-no', 'Books and Literature', 'Infrastructure (Public Works)', 'Area Planning and Renewal', 'Politics and Government', 'Caro, Robert A', 'Moses, Robert', 'New York City', 'The Power Broker: Robert Moses and the Fall of New York (Book)']",
         "2024-09-03T11:45:16+0000"
        ],
        [
         "208",
         "nyt://article/adc2af88-f3ed-5baa-8940-83218feac988",
         "New York",
         "['Sun, Linda (1984- )', 'Ethics and Official Misconduct', 'New York State', 'Hochul, Kathleen C', 'Cuomo, Andrew M', 'Foreign Agents Registration Act']",
         "2024-09-03T13:23:44+0000"
        ],
        [
         "258",
         "nyt://article/716bce35-9db6-5cfc-a678-9e5b29705871",
         "New York",
         "['Decisions and Verdicts', 'Immunity from Prosecution', 'New York State Criminal Case Against Trump (71543-23)', 'Federal Courts (US)', 'Supreme Court (US)', 'Clifford, Stephanie (1979- )', 'Hellerstein, Alvin K', 'Merchan, Juan M', 'Trump, Donald J']",
         "2024-09-03T21:33:17+0000"
        ],
        [
         "269",
         "nyt://article/4c9b8e1b-155b-5b2a-a429-be46bac4394a",
         "New York",
         "['Decisions and Verdicts', 'Euthanasia and Assisted Suicide', 'Kingston (NY)']",
         "2024-09-03T22:59:20+0000"
        ],
        [
         "289",
         "nyt://video/2ab09350-9bf2-5ee3-b9d8-26624d30ef54",
         "New York",
         "['Sun, Linda (1984- )', 'Hochul, Kathleen C', 'Cuomo, Andrew M', 'New York State', 'Politics and Government', 'Governors (US)', 'China', 'Communist Party of China', 'Frauds and Swindling', 'Money Laundering', 'United States International Relations']",
         "2024-09-04T01:30:46+0000"
        ],
        [
         "303",
         "nyt://article/a0297fd3-f870-5c54-8031-97f6e003e293",
         "New York",
         "['Tennis', 'United States Open (Tennis)', 'Stadiums and Arenas', 'Ashe, Arthur, Stadium', 'Fans (Persons)', 'Flushing Meadows-Corona Park (Queens, NY)']",
         "2024-09-04T07:00:23+0000"
        ],
        [
         "332",
         "nyt://article/8fb3bdad-c656-554a-b76a-f293927feacf",
         "New York",
         "['New York City', 'internal-storyline-no', 'Presidential Election of 2024', 'Politics and Government', 'Polls and Public Opinion', 'Presidential Election of 2016', 'Monogram Shop', 'Biden, Joseph R Jr', 'Harris, Kamala D', 'Hochul, Kathleen C', 'Sun, Linda (1984- )', 'Trump, Donald J', 'Vance, J D', 'Walz, Tim', 'East Hampton (NY)']",
         "2024-09-04T09:03:27+0000"
        ],
        [
         "373",
         "nyt://article/550050d5-ca88-5c66-b7f9-d5b07f91b47d",
         "New York",
         "['Trump, Donald J', 'Merchan, Juan M', 'New York State Criminal Case Against Trump (71543-23)', 'Decisions and Verdicts', 'Presidential Election of 2024', 'Immunity from Prosecution', 'United States Politics and Government', 'Ethics and Official Misconduct', 'New York University', 'Supreme Court (US)', 'Bragg, Alvin', 'Clifford, Stephanie (1979- )', 'Harris, Kamala D']",
         "2024-09-04T15:51:17+0000"
        ],
        [
         "424",
         "nyt://article/f29faea0-41be-5368-b162-a4449beecb1b",
         "New York",
         "['Sun, Linda (1984- )', 'State Legislatures', 'Politics and Government', 'Espionage and Intelligence Services', 'Cuomo, Andrew M', 'Hochul, Kathleen C', 'New York State', 'China', 'Money Laundering', 'Foreign Agents Registration Act']",
         "2024-09-04T23:07:48+0000"
        ],
        [
         "443",
         "nyt://article/5ba78fb7-8a9c-5eb4-9ca7-1285ac215fc1",
         "New York",
         "['Trichloroethylene (TCE)', 'Hazardous and Toxic Substances', 'Gowanus Canal (Brooklyn, NY)', 'Factories and Manufacturing', 'Canals', 'Pollution', 'Real Estate and Housing (Residential)', 'Building (Construction)', 'Chemicals', 'Environmental Conservation Department (NYS)', 'Environmental Protection Agency', 'Health Department (NYS)', 'Royal Palms Shuffleboard Club (Brooklyn, NY)', 'Gowanus (Brooklyn, NY)']",
         "2024-09-05T07:00:26+0000"
        ],
        [
         "446",
         "nyt://article/b0e73686-956f-5e75-b430-82efd7c2f4eb",
         "New York",
         "['Children and Childhood', 'Education Department (NYC)', 'Banks, David C (1962- )', 'Adams, Eric L', 'Anti-Semitism', 'Artificial Intelligence', 'Urban Areas', 'Education (K-12)', 'New York City']",
         "2024-09-05T07:00:43+0000"
        ],
        [
         "448",
         "nyt://article/35cd8398-3134-517f-b928-8dc6a6adfcf3",
         "New York",
         "['Audio Recordings, Downloads and Streaming', 'Royalties', 'Music', 'Artificial Intelligence', 'Money Laundering', 'Frauds and Swindling', 'Apple Music', 'Spotify', 'Williams, Damian (Attorney)', 'Justice Department', 'North Carolina']",
         "2024-09-05T07:00:51+0000"
        ],
        [
         "482",
         "nyt://article/eee4743b-21f0-528e-a661-356670b90285",
         "New York",
         "['New York City', 'internal-storyline-no', 'Subways', 'Education (K-12)', 'Transit Systems', 'Decisions and Verdicts', 'Presidential Election of 2024', 'Buses', 'Cellular Telephones', 'New York State Criminal Case Against Trump (71543-23)', 'Metropolitan Transportation Authority', 'Lieber, John Nathan', 'Merchan, Juan M', 'Trump, Donald J']",
         "2024-09-05T09:06:16+0000"
        ],
        [
         "552",
         "nyt://article/a5d6c1ab-dc26-5a1f-ae5e-a6b1df31c459",
         "New York",
         "['Adams, Eric L', 'Campaign Finance', 'Banks, David C (1962- )', 'Banks, Philip III', 'Wright, Sheena', 'New York City', 'Search and Seizure', 'Caban, Edward (1967- )', 'Police Department (NYC)', 'Ethics and Official Misconduct']",
         "2024-09-05T17:32:12+0000"
        ],
        [
         "553",
         "nyt://article/eebe0c64-bb9e-5c17-a34a-9d169e2b9757",
         "New York",
         "['New York City', 'Education (K-12)', 'Buildings (Structures)', 'Education Department (NYC)', 'Sunnyside (Queens, NY)', 'Inwood (Manhattan, NY)', 'Borough Park (Brooklyn, NY)', 'Mount Eden (Bronx, NY)', 'vis-photo']",
         "2024-09-05T17:49:15+0000"
        ],
        [
         "567",
         "nyt://article/75c6ff56-3648-57f5-8558-f8e747b9bd4c",
         "New York",
         "['Murders, Attempted Murders and Homicides', 'Subways', 'Stations and Terminals (Passenger)', 'Brooklyn (NYC)']",
         "2024-09-05T19:05:17+0000"
        ],
        [
         "578",
         "nyt://article/62eceeed-d7b2-5d4e-9921-0905d907ff85",
         "New York",
         "['Police', 'Search and Seizure', 'Black People', 'Blacks', 'Discrimination', 'Hispanic-Americans', 'Police Department (NYC)', 'Adams, Eric L', 'New York City', 'Police Brutality, Misconduct and Shootings']",
         "2024-09-05T20:15:36+0000"
        ],
        [
         "589",
         "nyt://article/e4cb2af4-acb7-530b-b8b6-242a0f789aad",
         "New York",
         "['Ketcham, Brian T (1939-2024)', 'Deaths (Obituaries)', 'Transportation Alternatives', 'Roads and Traffic', 'Congestion Pricing', 'Air Pollution', 'New York City', 'Konheim, Carolyn S']",
         "2024-09-05T22:59:07+0000"
        ],
        [
         "623",
         "nyt://article/5623c3cf-e493-5f9b-be97-85d1246570ee",
         "New York",
         "['Trump, Donald J', 'New York State Criminal Case Against Trump (71543-23)', 'Presidential Election of 2024', 'United States Politics and Government', 'Merchan, Juan M']",
         "2024-09-06T07:00:07+0000"
        ],
        [
         "624",
         "nyt://article/2301e086-3a06-52d4-97d5-78f862510da8",
         "New York",
         "['New Jersey', 'Education (K-12)', 'Segregation and Desegregation', 'Race and Ethnicity', 'Black People', 'Blacks', 'Hispanic-Americans', 'Suits and Litigation (Civil)', 'Attorneys General', 'Platkin, Matthew', 'Income Inequality']",
         "2024-09-06T07:00:08+0000"
        ],
        [
         "625",
         "nyt://article/96893cbc-133a-55c3-8c76-12202953617b",
         "New York",
         "['Books and Literature', 'Bright Lights, Big City (Book)', 'McInerney, Jay', 'New York City', 'Manhattan (NYC)', 'Nineteen Hundred Eighties', 'Book Trade and Publishing']",
         "2024-09-06T07:00:16+0000"
        ],
        [
         "664",
         "nyt://article/dbadfa25-610a-594d-8ec8-d356787e73e2",
         "New York",
         "['New York City', 'internal-storyline-no', 'Signs and Signage', 'Real Estate (Commercial)', 'Auctions', 'Corruption (Institutional)', 'Hotel Chelsea (Manhattan, NY)', 'Adams, Eric L', 'Banks, David C (1962- )', 'Banks, Philip III', 'Pearson, Timothy', 'Chelsea (Manhattan, NY)']",
         "2024-09-06T09:07:04+0000"
        ],
        [
         "691",
         "nyt://article/dfc754d7-cea2-5086-96f7-eb568c06f73a",
         "New York",
         "['New York City', 'Adams, Eric L', 'Politics and Government', 'Mayors', 'Ethics and Official Misconduct', 'Corruption (Institutional)', 'Federal Bureau of Investigation', 'Polls and Public Opinion']",
         "2024-09-06T13:26:15+0000"
        ],
        [
         "741",
         "nyt://article/09e46a3b-ba66-59a4-8707-4348b33bedf2",
         "New York",
         "['News and News Media', 'Police Department (NYC)', 'New York Times', 'New York Post', 'Relocation of Business', 'New York City', 'Adams, Eric L']",
         "2024-09-06T20:09:31+0000"
        ],
        [
         "759",
         "nyt://article/4229c3e7-967e-5435-b0a9-ea6ca608bc7a",
         "New York",
         "['Halstead, Clark', 'Deaths (Obituaries)', 'Halstead Property Company', 'Real Estate Brokers', 'Real Estate and Housing (Residential)', 'Brown Harris Stevens', 'Manhattan (NYC)', 'New York City']",
         "2024-09-06T22:23:54+0000"
        ],
        [
         "773",
         "nyt://article/5f828ae5-348f-5590-a1fc-b07116d1ef10",
         "New York",
         "[\"Legionnaires' Disease\", 'Deaths (Fatalities)', 'Bacteria', 'Retirement Communities and Assisted Living', 'Nursing Homes', 'Centers for Disease Control and Prevention', 'Health Department (NYS)', 'Occupational Safety and Health Administration', 'Albany (NY)']",
         "2024-09-07T00:38:18+0000"
        ],
        [
         "784",
         "nyt://article/d92e2923-548e-595b-b4d4-b22e3945d1a4",
         "New York",
         "['Beauty Salons', 'Hair', 'French Food (Cuisine)', 'Content Type: Personal Profile', 'Pierre Michel Salon (Manhattan, NY)', 'East Village (Manhattan, NY)', 'Upper East Side (Manhattan, NY)']",
         "2024-09-07T07:00:18+0000"
        ],
        [
         "785",
         "nyt://article/8c52e615-501a-5227-9bab-b37e927f0896",
         "New York",
         "['United States Open (Tennis)', 'Ashe, Arthur, Stadium', 'Billie Jean King National Tennis Center', 'Stadiums and Arenas', 'Fans (Persons)', 'Service Employees International Union', 'United States Tennis Assn', 'Tennis', 'Forest Hills (Queens, NY)']",
         "2024-09-07T07:00:20+0000"
        ],
        [
         "786",
         "nyt://article/31950446-3ae4-5dfc-8935-1b0f301432f7",
         "New York",
         "['Tennis', 'United States Open (Tennis)', 'Fans (Persons)', 'Ashe, Arthur, Stadium', 'Billie Jean King National Tennis Center', 'Fritz, Taylor Harry (1997- )', 'Tiafoe, Frances (1998- )', 'Pegula, Jessica (1994- )', 'Navarro, Emma (2001- )']",
         "2024-09-07T07:00:42+0000"
        ],
        [
         "840",
         "nyt://article/93a70e61-a5ca-5e6c-b7d1-6bd8230ad2fe",
         "New York",
         "['New York City', 'Adams, Eric L', 'Elections, Mayors', 'Campaign Finance', 'Ethics and Official Misconduct', 'Federal Bureau of Investigation', 'Turkish Airlines', 'Abbasova, Rana', 'Banks, Philip III', 'Banks, David C (1962- )', 'Caban, Edward (1967- )', 'Greco, Winnie', 'Ocal, Cenk', 'Pearson, Timothy', 'Suggs, Brianna', 'Wright, Sheena', 'Corruption (Institutional)', 'Politics and Government']",
         "2024-09-07T17:04:12+0000"
        ],
        [
         "864",
         "nyt://article/b1b283a6-2950-5cd0-9f5b-528945ccb55e",
         "New York",
         "['New York City']",
         "2024-09-08T07:00:49+0000"
        ],
        [
         "867",
         "nyt://article/39068f57-3b46-555e-87c8-a803748e262a",
         "New York",
         "['Decisions and Verdicts', 'Presidential Election of 2024', 'United States Politics and Government', 'New York State Criminal Case Against Trump (71543-23)', 'Supreme Court (US)', 'Bragg, Alvin', 'Merchan, Juan M', 'Trump, Donald J', 'Sentences (Criminal)']",
         "2024-09-08T07:01:27+0000"
        ],
        [
         "868",
         "nyt://article/b24a79ea-0c82-5cd1-89d0-2322643dfb9a",
         "New York",
         "['Basketball', 'Stadiums and Arenas', 'Tax Credits, Deductions and Exemptions', 'Relocation of Business', 'Camden (NJ)', 'Philadelphia (Pa)', 'New Jersey', 'Philadelphia 76ers']",
         "2024-09-08T07:01:28+0000"
        ],
        [
         "912",
         "nyt://article/1e3d0ba0-a88a-500d-b194-982f128223a2",
         "New York",
         "['Race and Ethnicity', 'Black People', 'Blacks', 'Elections, Mayors', 'Local Government', 'Adams, Eric L', 'East New York (Brooklyn, NY)', 'Christians and Christianity', 'New York City', 'Ethics and Official Misconduct']",
         "2024-09-08T19:47:11+0000"
        ],
        [
         "934",
         "nyt://article/5aa8bfe3-c66f-5dbc-adad-ce809228ca5f",
         "New York",
         "['Fund for Park Avenue', 'Trees and Shrubs', 'Manhattan (NYC)', 'Park Avenue (Manhattan, NY)', 'Area Planning and Renewal', 'Parks and Other Recreation Areas', 'Roads and Traffic']",
         "2024-09-09T07:00:20+0000"
        ],
        [
         "936",
         "nyt://article/9d4671f0-6dbc-5cb5-986c-706b1c2d0919",
         "New York",
         "['Hockey, Ice', 'Gaudreau, Johnny', 'Gaudreau, Matthew (1994-2024)', 'Boston College', 'Calgary Flames', 'National Hockey League', 'New Jersey Devils', 'Columbus Blue Jackets', 'New Jersey', 'Bicycles and Bicycling', 'Funerals and Memorials', 'Content Type: Personal Profile', 'Higgins, Sean M (1980- )', 'Drunken and Reckless Driving', 'Salem County (NJ)', 'Oldmans Township (NJ)', 'Woodstown (NJ)', 'Deaths (Fatalities)']",
         "2024-09-09T07:00:48+0000"
        ],
        [
         "955",
         "nyt://article/a9c43777-cdf2-5f2e-a6fd-6b442a90f63c",
         "New York",
         "['New York City', 'internal-storyline-no', 'Mayors', 'Elections, Mayors', 'Justice Department', 'Adams, Eric L', 'Caban, Edward (1967- )']",
         "2024-09-09T09:02:25+0000"
        ],
        [
         "1017",
         "nyt://article/b9493094-7bd1-5945-a927-8a16a8931f50",
         "New York",
         "['Cuomo, Andrew M', 'Coronavirus (2019-nCoV)', 'Nursing Homes', 'Deaths (Fatalities)', 'Health Department (NYS)', 'New York State', 'House of Representatives']",
         "2024-09-09T18:19:11+0000"
        ],
        [
         "1032",
         "nyt://article/9eac8634-c06d-52c2-b5f1-ce9188cfa358",
         "New York",
         "['Adams, Eric L', 'Search and Seizure', 'Corruption (Institutional)', 'New York City', 'Caban, Edward (1967- )', 'Wright, Sheena', 'Banks, Philip III', 'Pearson, Timothy', 'Mayors']",
         "2024-09-09T20:10:17+0000"
        ],
        [
         "1033",
         "nyt://article/5f96c851-30a8-5e7c-84c7-8a19b2bb9b0c",
         "New York",
         "['Weinstein, Harvey', 'Prisons and Prisoners', 'Heart', 'Rikers Island Prison Complex', 'Sex Crimes', 'Sexual Harassment', '#MeToo Movement']",
         "2024-09-09T20:16:13+0000"
        ],
        [
         "1038",
         "nyt://article/9f7b7519-4df3-5138-9f93-b58c3cfdf5fb",
         "New York",
         "['Coronavirus (2019-nCoV)', 'Tests (Medical)', 'Adams, Eric L', 'New York City']",
         "2024-09-09T21:17:58+0000"
        ]
       ],
       "shape": {
        "columns": 4,
        "rows": 19114
       }
      },
      "text/html": [
       "<div>\n",
       "<style scoped>\n",
       "    .dataframe tbody tr th:only-of-type {\n",
       "        vertical-align: middle;\n",
       "    }\n",
       "\n",
       "    .dataframe tbody tr th {\n",
       "        vertical-align: top;\n",
       "    }\n",
       "\n",
       "    .dataframe thead th {\n",
       "        text-align: right;\n",
       "    }\n",
       "</style>\n",
       "<table border=\"1\" class=\"dataframe\">\n",
       "  <thead>\n",
       "    <tr style=\"text-align: right;\">\n",
       "      <th></th>\n",
       "      <th>_id</th>\n",
       "      <th>section_name</th>\n",
       "      <th>keywords</th>\n",
       "      <th>pub_date</th>\n",
       "    </tr>\n",
       "  </thead>\n",
       "  <tbody>\n",
       "    <tr>\n",
       "      <th>11</th>\n",
       "      <td>nyt://article/fbd74938-d198-5111-a322-256674ee...</td>\n",
       "      <td>New York</td>\n",
       "      <td>[New York City]</td>\n",
       "      <td>2024-09-01T07:00:23+0000</td>\n",
       "    </tr>\n",
       "    <tr>\n",
       "      <th>13</th>\n",
       "      <td>nyt://article/cfeb776c-7468-5f9c-96b1-cfee972d...</td>\n",
       "      <td>New York</td>\n",
       "      <td>[Strazzullo, Sal, Bars and Nightclubs, Robberi...</td>\n",
       "      <td>2024-09-01T07:00:35+0000</td>\n",
       "    </tr>\n",
       "    <tr>\n",
       "      <th>55</th>\n",
       "      <td>nyt://article/78b260c3-4d2a-5200-bfc1-176274a5...</td>\n",
       "      <td>New York</td>\n",
       "      <td>[United States Politics and Government, Presid...</td>\n",
       "      <td>2024-09-01T19:38:41+0000</td>\n",
       "    </tr>\n",
       "    <tr>\n",
       "      <th>77</th>\n",
       "      <td>nyt://article/6f4a73e6-8886-5682-8468-09a76de6...</td>\n",
       "      <td>New York</td>\n",
       "      <td>[United States Open (Tennis), Tennis, Stadiums...</td>\n",
       "      <td>2024-09-02T07:00:27+0000</td>\n",
       "    </tr>\n",
       "    <tr>\n",
       "      <th>78</th>\n",
       "      <td>nyt://article/06c1a953-425e-53c3-bbad-8860df0e...</td>\n",
       "      <td>New York</td>\n",
       "      <td>[Pedestrian Malls, Education (K-12), Roads and...</td>\n",
       "      <td>2024-09-02T07:00:31+0000</td>\n",
       "    </tr>\n",
       "    <tr>\n",
       "      <th>...</th>\n",
       "      <td>...</td>\n",
       "      <td>...</td>\n",
       "      <td>...</td>\n",
       "      <td>...</td>\n",
       "    </tr>\n",
       "    <tr>\n",
       "      <th>48658</th>\n",
       "      <td>nyt://article/a7d4a7da-45e0-5c61-8932-1c022415...</td>\n",
       "      <td>Climate</td>\n",
       "      <td>[Global Warming, Greenhouse Gas Emissions, Haz...</td>\n",
       "      <td>2024-08-31T09:01:08+0000</td>\n",
       "    </tr>\n",
       "    <tr>\n",
       "      <th>48681</th>\n",
       "      <td>nyt://article/24ccc50f-f6c6-56c0-a9ff-400a72d4...</td>\n",
       "      <td>Opinion</td>\n",
       "      <td>[Capital Punishment, Justice Department, Biden...</td>\n",
       "      <td>2024-08-31T11:00:06+0000</td>\n",
       "    </tr>\n",
       "    <tr>\n",
       "      <th>48682</th>\n",
       "      <td>nyt://article/c88482cb-671c-578e-b9e7-f0410f4e...</td>\n",
       "      <td>Opinion</td>\n",
       "      <td>[Weather, Global Warming, Heat and Heat Waves,...</td>\n",
       "      <td>2024-08-31T11:00:06+0000</td>\n",
       "    </tr>\n",
       "    <tr>\n",
       "      <th>48687</th>\n",
       "      <td>nyt://article/dec0b620-0ca8-5ad1-8a2e-1103cdd0...</td>\n",
       "      <td>Opinion</td>\n",
       "      <td>[Floods, Deaths (Fatalities), Deserts, Rain, G...</td>\n",
       "      <td>2024-08-31T11:00:39+0000</td>\n",
       "    </tr>\n",
       "    <tr>\n",
       "      <th>48695</th>\n",
       "      <td>nyt://article/0bca89dd-a1a7-5022-8192-9812f680...</td>\n",
       "      <td>New York</td>\n",
       "      <td>[United States Open (Tennis), Content Type: Pe...</td>\n",
       "      <td>2024-08-31T15:42:26+0000</td>\n",
       "    </tr>\n",
       "  </tbody>\n",
       "</table>\n",
       "<p>19114 rows × 4 columns</p>\n",
       "</div>"
      ],
      "text/plain": [
       "                                                     _id section_name  \\\n",
       "11     nyt://article/fbd74938-d198-5111-a322-256674ee...     New York   \n",
       "13     nyt://article/cfeb776c-7468-5f9c-96b1-cfee972d...     New York   \n",
       "55     nyt://article/78b260c3-4d2a-5200-bfc1-176274a5...     New York   \n",
       "77     nyt://article/6f4a73e6-8886-5682-8468-09a76de6...     New York   \n",
       "78     nyt://article/06c1a953-425e-53c3-bbad-8860df0e...     New York   \n",
       "...                                                  ...          ...   \n",
       "48658  nyt://article/a7d4a7da-45e0-5c61-8932-1c022415...      Climate   \n",
       "48681  nyt://article/24ccc50f-f6c6-56c0-a9ff-400a72d4...      Opinion   \n",
       "48682  nyt://article/c88482cb-671c-578e-b9e7-f0410f4e...      Opinion   \n",
       "48687  nyt://article/dec0b620-0ca8-5ad1-8a2e-1103cdd0...      Opinion   \n",
       "48695  nyt://article/0bca89dd-a1a7-5022-8192-9812f680...     New York   \n",
       "\n",
       "                                                keywords  \\\n",
       "11                                       [New York City]   \n",
       "13     [Strazzullo, Sal, Bars and Nightclubs, Robberi...   \n",
       "55     [United States Politics and Government, Presid...   \n",
       "77     [United States Open (Tennis), Tennis, Stadiums...   \n",
       "78     [Pedestrian Malls, Education (K-12), Roads and...   \n",
       "...                                                  ...   \n",
       "48658  [Global Warming, Greenhouse Gas Emissions, Haz...   \n",
       "48681  [Capital Punishment, Justice Department, Biden...   \n",
       "48682  [Weather, Global Warming, Heat and Heat Waves,...   \n",
       "48687  [Floods, Deaths (Fatalities), Deserts, Rain, G...   \n",
       "48695  [United States Open (Tennis), Content Type: Pe...   \n",
       "\n",
       "                       pub_date  \n",
       "11     2024-09-01T07:00:23+0000  \n",
       "13     2024-09-01T07:00:35+0000  \n",
       "55     2024-09-01T19:38:41+0000  \n",
       "77     2024-09-02T07:00:27+0000  \n",
       "78     2024-09-02T07:00:31+0000  \n",
       "...                         ...  \n",
       "48658  2024-08-31T09:01:08+0000  \n",
       "48681  2024-08-31T11:00:06+0000  \n",
       "48682  2024-08-31T11:00:06+0000  \n",
       "48687  2024-08-31T11:00:39+0000  \n",
       "48695  2024-08-31T15:42:26+0000  \n",
       "\n",
       "[19114 rows x 4 columns]"
      ]
     },
     "execution_count": 219,
     "metadata": {},
     "output_type": "execute_result"
    }
   ],
   "source": [
    "coverage_about_places = pd.concat([coverage_about_ny, coverage_about_abroad, coverage_about_US])\n",
    "coverage_about_places"
   ]
  },
  {
   "cell_type": "code",
   "execution_count": 220,
   "metadata": {},
   "outputs": [],
   "source": [
    "coverage_about_places = coverage_about_places.drop_duplicates(subset='_id')"
   ]
  },
  {
   "cell_type": "code",
   "execution_count": 221,
   "metadata": {},
   "outputs": [
    {
     "data": {
      "application/vnd.microsoft.datawrangler.viewer.v0+json": {
       "columns": [
        {
         "name": "index",
         "rawType": "int64",
         "type": "integer"
        },
        {
         "name": "_id",
         "rawType": "object",
         "type": "string"
        },
        {
         "name": "section_name",
         "rawType": "object",
         "type": "string"
        },
        {
         "name": "keywords",
         "rawType": "object",
         "type": "unknown"
        },
        {
         "name": "pub_date",
         "rawType": "object",
         "type": "string"
        }
       ],
       "conversionMethod": "pd.DataFrame",
       "ref": "2735997a-b859-4384-a196-f96a95b6bdf9",
       "rows": [
        [
         "11",
         "nyt://article/fbd74938-d198-5111-a322-256674eeb1d0",
         "New York",
         "['New York City']",
         "2024-09-01T07:00:23+0000"
        ],
        [
         "13",
         "nyt://article/cfeb776c-7468-5f9c-96b1-cfee972d02be",
         "New York",
         "['Strazzullo, Sal', 'Bars and Nightclubs', 'Robberies and Thefts', 'Legal Profession', 'Suits and Litigation (Civil)', 'Ponzi and Pyramid Schemes', 'Frauds and Swindling', 'De La Hoya, Oscar', 'Hay, R Couri', 'Bensonhurst (Brooklyn, NY)', 'Content Type: Personal Profile']",
         "2024-09-01T07:00:35+0000"
        ],
        [
         "55",
         "nyt://article/78b260c3-4d2a-5200-bfc1-176274a5cbde",
         "New York",
         "['United States Politics and Government', 'Presidential Election of 2024', 'Storming of the US Capitol (Jan, 2021)', 'Trump, Donald J', 'Bedminster (NJ)']",
         "2024-09-01T19:38:41+0000"
        ],
        [
         "77",
         "nyt://article/6f4a73e6-8886-5682-8468-09a76de649a1",
         "New York",
         "['United States Open (Tennis)', 'Tennis', 'Stadiums and Arenas', 'Fans (Persons)', 'Armstrong, Louis, Stadium (Queens, NY)', 'Ashe, Arthur, Stadium', 'Billie Jean King National Tennis Center', 'Flushing (Queens, NY)', 'New York City']",
         "2024-09-02T07:00:27+0000"
        ],
        [
         "78",
         "nyt://article/06c1a953-425e-53c3-bbad-8860df0e7f82",
         "New York",
         "['Pedestrian Malls', 'Education (K-12)', 'Roads and Traffic', 'Traffic Accidents and Safety', 'Air Pollution', 'Friends Seminary', 'Street Lab (Nonprofit)', 'Transportation Department (NYC)', 'Bronx (NYC)', 'New York City']",
         "2024-09-02T07:00:31+0000"
        ],
        [
         "79",
         "nyt://article/960a2828-26b5-56e3-a0f9-0bde968b302c",
         "New York",
         "['Swimming', 'Forests and Forestry', 'Drownings', 'Waterfalls', 'Summer (Season)', 'ADIRONDACK MOUNTAINS (NY)', 'Catskills (NYS Area)', 'Keene (NY)', 'vis-photo']",
         "2024-09-02T07:00:55+0000"
        ],
        [
         "145",
         "nyt://article/4103430d-0261-5ab2-b13c-85cc21edee23",
         "New York",
         "['Palestinians', 'Alexander, Edan (2003- )', 'Goldberg-Polin, Hersh', 'Netanyahu, Benjamin', 'Neutra, Omer', 'Israel', 'New York City']",
         "2024-09-02T22:16:01+0000"
        ],
        [
         "146",
         "nyt://article/7928f94c-4597-522a-a4af-55bdd28788bf",
         "New York",
         "['West Indian-Americans', 'Parades', 'West Indian-American Day', 'Murders, Attempted Murders and Homicides', 'Crown Heights (Brooklyn, NY)']",
         "2024-09-02T23:07:21+0000"
        ],
        [
         "162",
         "nyt://article/723eb465-4f80-5f61-bd40-fa00ddb4800a",
         "New York",
         "['Immigration Shelters', 'Refugees and Displaced Persons', 'Postal Service and Post Offices', 'Letters', 'New York City', 'Asylum, Right of']",
         "2024-09-03T07:00:16+0000"
        ],
        [
         "201",
         "nyt://article/05606ac1-63b6-5576-bc71-54e921a134bd",
         "New York",
         "['internal-storyline-no', 'Books and Literature', 'Infrastructure (Public Works)', 'Area Planning and Renewal', 'Politics and Government', 'Caro, Robert A', 'Moses, Robert', 'New York City', 'The Power Broker: Robert Moses and the Fall of New York (Book)']",
         "2024-09-03T11:45:16+0000"
        ],
        [
         "208",
         "nyt://article/adc2af88-f3ed-5baa-8940-83218feac988",
         "New York",
         "['Sun, Linda (1984- )', 'Ethics and Official Misconduct', 'New York State', 'Hochul, Kathleen C', 'Cuomo, Andrew M', 'Foreign Agents Registration Act']",
         "2024-09-03T13:23:44+0000"
        ],
        [
         "258",
         "nyt://article/716bce35-9db6-5cfc-a678-9e5b29705871",
         "New York",
         "['Decisions and Verdicts', 'Immunity from Prosecution', 'New York State Criminal Case Against Trump (71543-23)', 'Federal Courts (US)', 'Supreme Court (US)', 'Clifford, Stephanie (1979- )', 'Hellerstein, Alvin K', 'Merchan, Juan M', 'Trump, Donald J']",
         "2024-09-03T21:33:17+0000"
        ],
        [
         "269",
         "nyt://article/4c9b8e1b-155b-5b2a-a429-be46bac4394a",
         "New York",
         "['Decisions and Verdicts', 'Euthanasia and Assisted Suicide', 'Kingston (NY)']",
         "2024-09-03T22:59:20+0000"
        ],
        [
         "289",
         "nyt://video/2ab09350-9bf2-5ee3-b9d8-26624d30ef54",
         "New York",
         "['Sun, Linda (1984- )', 'Hochul, Kathleen C', 'Cuomo, Andrew M', 'New York State', 'Politics and Government', 'Governors (US)', 'China', 'Communist Party of China', 'Frauds and Swindling', 'Money Laundering', 'United States International Relations']",
         "2024-09-04T01:30:46+0000"
        ],
        [
         "303",
         "nyt://article/a0297fd3-f870-5c54-8031-97f6e003e293",
         "New York",
         "['Tennis', 'United States Open (Tennis)', 'Stadiums and Arenas', 'Ashe, Arthur, Stadium', 'Fans (Persons)', 'Flushing Meadows-Corona Park (Queens, NY)']",
         "2024-09-04T07:00:23+0000"
        ],
        [
         "332",
         "nyt://article/8fb3bdad-c656-554a-b76a-f293927feacf",
         "New York",
         "['New York City', 'internal-storyline-no', 'Presidential Election of 2024', 'Politics and Government', 'Polls and Public Opinion', 'Presidential Election of 2016', 'Monogram Shop', 'Biden, Joseph R Jr', 'Harris, Kamala D', 'Hochul, Kathleen C', 'Sun, Linda (1984- )', 'Trump, Donald J', 'Vance, J D', 'Walz, Tim', 'East Hampton (NY)']",
         "2024-09-04T09:03:27+0000"
        ],
        [
         "373",
         "nyt://article/550050d5-ca88-5c66-b7f9-d5b07f91b47d",
         "New York",
         "['Trump, Donald J', 'Merchan, Juan M', 'New York State Criminal Case Against Trump (71543-23)', 'Decisions and Verdicts', 'Presidential Election of 2024', 'Immunity from Prosecution', 'United States Politics and Government', 'Ethics and Official Misconduct', 'New York University', 'Supreme Court (US)', 'Bragg, Alvin', 'Clifford, Stephanie (1979- )', 'Harris, Kamala D']",
         "2024-09-04T15:51:17+0000"
        ],
        [
         "424",
         "nyt://article/f29faea0-41be-5368-b162-a4449beecb1b",
         "New York",
         "['Sun, Linda (1984- )', 'State Legislatures', 'Politics and Government', 'Espionage and Intelligence Services', 'Cuomo, Andrew M', 'Hochul, Kathleen C', 'New York State', 'China', 'Money Laundering', 'Foreign Agents Registration Act']",
         "2024-09-04T23:07:48+0000"
        ],
        [
         "443",
         "nyt://article/5ba78fb7-8a9c-5eb4-9ca7-1285ac215fc1",
         "New York",
         "['Trichloroethylene (TCE)', 'Hazardous and Toxic Substances', 'Gowanus Canal (Brooklyn, NY)', 'Factories and Manufacturing', 'Canals', 'Pollution', 'Real Estate and Housing (Residential)', 'Building (Construction)', 'Chemicals', 'Environmental Conservation Department (NYS)', 'Environmental Protection Agency', 'Health Department (NYS)', 'Royal Palms Shuffleboard Club (Brooklyn, NY)', 'Gowanus (Brooklyn, NY)']",
         "2024-09-05T07:00:26+0000"
        ],
        [
         "446",
         "nyt://article/b0e73686-956f-5e75-b430-82efd7c2f4eb",
         "New York",
         "['Children and Childhood', 'Education Department (NYC)', 'Banks, David C (1962- )', 'Adams, Eric L', 'Anti-Semitism', 'Artificial Intelligence', 'Urban Areas', 'Education (K-12)', 'New York City']",
         "2024-09-05T07:00:43+0000"
        ],
        [
         "448",
         "nyt://article/35cd8398-3134-517f-b928-8dc6a6adfcf3",
         "New York",
         "['Audio Recordings, Downloads and Streaming', 'Royalties', 'Music', 'Artificial Intelligence', 'Money Laundering', 'Frauds and Swindling', 'Apple Music', 'Spotify', 'Williams, Damian (Attorney)', 'Justice Department', 'North Carolina']",
         "2024-09-05T07:00:51+0000"
        ],
        [
         "482",
         "nyt://article/eee4743b-21f0-528e-a661-356670b90285",
         "New York",
         "['New York City', 'internal-storyline-no', 'Subways', 'Education (K-12)', 'Transit Systems', 'Decisions and Verdicts', 'Presidential Election of 2024', 'Buses', 'Cellular Telephones', 'New York State Criminal Case Against Trump (71543-23)', 'Metropolitan Transportation Authority', 'Lieber, John Nathan', 'Merchan, Juan M', 'Trump, Donald J']",
         "2024-09-05T09:06:16+0000"
        ],
        [
         "552",
         "nyt://article/a5d6c1ab-dc26-5a1f-ae5e-a6b1df31c459",
         "New York",
         "['Adams, Eric L', 'Campaign Finance', 'Banks, David C (1962- )', 'Banks, Philip III', 'Wright, Sheena', 'New York City', 'Search and Seizure', 'Caban, Edward (1967- )', 'Police Department (NYC)', 'Ethics and Official Misconduct']",
         "2024-09-05T17:32:12+0000"
        ],
        [
         "553",
         "nyt://article/eebe0c64-bb9e-5c17-a34a-9d169e2b9757",
         "New York",
         "['New York City', 'Education (K-12)', 'Buildings (Structures)', 'Education Department (NYC)', 'Sunnyside (Queens, NY)', 'Inwood (Manhattan, NY)', 'Borough Park (Brooklyn, NY)', 'Mount Eden (Bronx, NY)', 'vis-photo']",
         "2024-09-05T17:49:15+0000"
        ],
        [
         "567",
         "nyt://article/75c6ff56-3648-57f5-8558-f8e747b9bd4c",
         "New York",
         "['Murders, Attempted Murders and Homicides', 'Subways', 'Stations and Terminals (Passenger)', 'Brooklyn (NYC)']",
         "2024-09-05T19:05:17+0000"
        ],
        [
         "578",
         "nyt://article/62eceeed-d7b2-5d4e-9921-0905d907ff85",
         "New York",
         "['Police', 'Search and Seizure', 'Black People', 'Blacks', 'Discrimination', 'Hispanic-Americans', 'Police Department (NYC)', 'Adams, Eric L', 'New York City', 'Police Brutality, Misconduct and Shootings']",
         "2024-09-05T20:15:36+0000"
        ],
        [
         "589",
         "nyt://article/e4cb2af4-acb7-530b-b8b6-242a0f789aad",
         "New York",
         "['Ketcham, Brian T (1939-2024)', 'Deaths (Obituaries)', 'Transportation Alternatives', 'Roads and Traffic', 'Congestion Pricing', 'Air Pollution', 'New York City', 'Konheim, Carolyn S']",
         "2024-09-05T22:59:07+0000"
        ],
        [
         "623",
         "nyt://article/5623c3cf-e493-5f9b-be97-85d1246570ee",
         "New York",
         "['Trump, Donald J', 'New York State Criminal Case Against Trump (71543-23)', 'Presidential Election of 2024', 'United States Politics and Government', 'Merchan, Juan M']",
         "2024-09-06T07:00:07+0000"
        ],
        [
         "624",
         "nyt://article/2301e086-3a06-52d4-97d5-78f862510da8",
         "New York",
         "['New Jersey', 'Education (K-12)', 'Segregation and Desegregation', 'Race and Ethnicity', 'Black People', 'Blacks', 'Hispanic-Americans', 'Suits and Litigation (Civil)', 'Attorneys General', 'Platkin, Matthew', 'Income Inequality']",
         "2024-09-06T07:00:08+0000"
        ],
        [
         "625",
         "nyt://article/96893cbc-133a-55c3-8c76-12202953617b",
         "New York",
         "['Books and Literature', 'Bright Lights, Big City (Book)', 'McInerney, Jay', 'New York City', 'Manhattan (NYC)', 'Nineteen Hundred Eighties', 'Book Trade and Publishing']",
         "2024-09-06T07:00:16+0000"
        ],
        [
         "664",
         "nyt://article/dbadfa25-610a-594d-8ec8-d356787e73e2",
         "New York",
         "['New York City', 'internal-storyline-no', 'Signs and Signage', 'Real Estate (Commercial)', 'Auctions', 'Corruption (Institutional)', 'Hotel Chelsea (Manhattan, NY)', 'Adams, Eric L', 'Banks, David C (1962- )', 'Banks, Philip III', 'Pearson, Timothy', 'Chelsea (Manhattan, NY)']",
         "2024-09-06T09:07:04+0000"
        ],
        [
         "691",
         "nyt://article/dfc754d7-cea2-5086-96f7-eb568c06f73a",
         "New York",
         "['New York City', 'Adams, Eric L', 'Politics and Government', 'Mayors', 'Ethics and Official Misconduct', 'Corruption (Institutional)', 'Federal Bureau of Investigation', 'Polls and Public Opinion']",
         "2024-09-06T13:26:15+0000"
        ],
        [
         "741",
         "nyt://article/09e46a3b-ba66-59a4-8707-4348b33bedf2",
         "New York",
         "['News and News Media', 'Police Department (NYC)', 'New York Times', 'New York Post', 'Relocation of Business', 'New York City', 'Adams, Eric L']",
         "2024-09-06T20:09:31+0000"
        ],
        [
         "759",
         "nyt://article/4229c3e7-967e-5435-b0a9-ea6ca608bc7a",
         "New York",
         "['Halstead, Clark', 'Deaths (Obituaries)', 'Halstead Property Company', 'Real Estate Brokers', 'Real Estate and Housing (Residential)', 'Brown Harris Stevens', 'Manhattan (NYC)', 'New York City']",
         "2024-09-06T22:23:54+0000"
        ],
        [
         "773",
         "nyt://article/5f828ae5-348f-5590-a1fc-b07116d1ef10",
         "New York",
         "[\"Legionnaires' Disease\", 'Deaths (Fatalities)', 'Bacteria', 'Retirement Communities and Assisted Living', 'Nursing Homes', 'Centers for Disease Control and Prevention', 'Health Department (NYS)', 'Occupational Safety and Health Administration', 'Albany (NY)']",
         "2024-09-07T00:38:18+0000"
        ],
        [
         "784",
         "nyt://article/d92e2923-548e-595b-b4d4-b22e3945d1a4",
         "New York",
         "['Beauty Salons', 'Hair', 'French Food (Cuisine)', 'Content Type: Personal Profile', 'Pierre Michel Salon (Manhattan, NY)', 'East Village (Manhattan, NY)', 'Upper East Side (Manhattan, NY)']",
         "2024-09-07T07:00:18+0000"
        ],
        [
         "785",
         "nyt://article/8c52e615-501a-5227-9bab-b37e927f0896",
         "New York",
         "['United States Open (Tennis)', 'Ashe, Arthur, Stadium', 'Billie Jean King National Tennis Center', 'Stadiums and Arenas', 'Fans (Persons)', 'Service Employees International Union', 'United States Tennis Assn', 'Tennis', 'Forest Hills (Queens, NY)']",
         "2024-09-07T07:00:20+0000"
        ],
        [
         "786",
         "nyt://article/31950446-3ae4-5dfc-8935-1b0f301432f7",
         "New York",
         "['Tennis', 'United States Open (Tennis)', 'Fans (Persons)', 'Ashe, Arthur, Stadium', 'Billie Jean King National Tennis Center', 'Fritz, Taylor Harry (1997- )', 'Tiafoe, Frances (1998- )', 'Pegula, Jessica (1994- )', 'Navarro, Emma (2001- )']",
         "2024-09-07T07:00:42+0000"
        ],
        [
         "840",
         "nyt://article/93a70e61-a5ca-5e6c-b7d1-6bd8230ad2fe",
         "New York",
         "['New York City', 'Adams, Eric L', 'Elections, Mayors', 'Campaign Finance', 'Ethics and Official Misconduct', 'Federal Bureau of Investigation', 'Turkish Airlines', 'Abbasova, Rana', 'Banks, Philip III', 'Banks, David C (1962- )', 'Caban, Edward (1967- )', 'Greco, Winnie', 'Ocal, Cenk', 'Pearson, Timothy', 'Suggs, Brianna', 'Wright, Sheena', 'Corruption (Institutional)', 'Politics and Government']",
         "2024-09-07T17:04:12+0000"
        ],
        [
         "864",
         "nyt://article/b1b283a6-2950-5cd0-9f5b-528945ccb55e",
         "New York",
         "['New York City']",
         "2024-09-08T07:00:49+0000"
        ],
        [
         "867",
         "nyt://article/39068f57-3b46-555e-87c8-a803748e262a",
         "New York",
         "['Decisions and Verdicts', 'Presidential Election of 2024', 'United States Politics and Government', 'New York State Criminal Case Against Trump (71543-23)', 'Supreme Court (US)', 'Bragg, Alvin', 'Merchan, Juan M', 'Trump, Donald J', 'Sentences (Criminal)']",
         "2024-09-08T07:01:27+0000"
        ],
        [
         "868",
         "nyt://article/b24a79ea-0c82-5cd1-89d0-2322643dfb9a",
         "New York",
         "['Basketball', 'Stadiums and Arenas', 'Tax Credits, Deductions and Exemptions', 'Relocation of Business', 'Camden (NJ)', 'Philadelphia (Pa)', 'New Jersey', 'Philadelphia 76ers']",
         "2024-09-08T07:01:28+0000"
        ],
        [
         "912",
         "nyt://article/1e3d0ba0-a88a-500d-b194-982f128223a2",
         "New York",
         "['Race and Ethnicity', 'Black People', 'Blacks', 'Elections, Mayors', 'Local Government', 'Adams, Eric L', 'East New York (Brooklyn, NY)', 'Christians and Christianity', 'New York City', 'Ethics and Official Misconduct']",
         "2024-09-08T19:47:11+0000"
        ],
        [
         "934",
         "nyt://article/5aa8bfe3-c66f-5dbc-adad-ce809228ca5f",
         "New York",
         "['Fund for Park Avenue', 'Trees and Shrubs', 'Manhattan (NYC)', 'Park Avenue (Manhattan, NY)', 'Area Planning and Renewal', 'Parks and Other Recreation Areas', 'Roads and Traffic']",
         "2024-09-09T07:00:20+0000"
        ],
        [
         "936",
         "nyt://article/9d4671f0-6dbc-5cb5-986c-706b1c2d0919",
         "New York",
         "['Hockey, Ice', 'Gaudreau, Johnny', 'Gaudreau, Matthew (1994-2024)', 'Boston College', 'Calgary Flames', 'National Hockey League', 'New Jersey Devils', 'Columbus Blue Jackets', 'New Jersey', 'Bicycles and Bicycling', 'Funerals and Memorials', 'Content Type: Personal Profile', 'Higgins, Sean M (1980- )', 'Drunken and Reckless Driving', 'Salem County (NJ)', 'Oldmans Township (NJ)', 'Woodstown (NJ)', 'Deaths (Fatalities)']",
         "2024-09-09T07:00:48+0000"
        ],
        [
         "955",
         "nyt://article/a9c43777-cdf2-5f2e-a6fd-6b442a90f63c",
         "New York",
         "['New York City', 'internal-storyline-no', 'Mayors', 'Elections, Mayors', 'Justice Department', 'Adams, Eric L', 'Caban, Edward (1967- )']",
         "2024-09-09T09:02:25+0000"
        ],
        [
         "1017",
         "nyt://article/b9493094-7bd1-5945-a927-8a16a8931f50",
         "New York",
         "['Cuomo, Andrew M', 'Coronavirus (2019-nCoV)', 'Nursing Homes', 'Deaths (Fatalities)', 'Health Department (NYS)', 'New York State', 'House of Representatives']",
         "2024-09-09T18:19:11+0000"
        ],
        [
         "1032",
         "nyt://article/9eac8634-c06d-52c2-b5f1-ce9188cfa358",
         "New York",
         "['Adams, Eric L', 'Search and Seizure', 'Corruption (Institutional)', 'New York City', 'Caban, Edward (1967- )', 'Wright, Sheena', 'Banks, Philip III', 'Pearson, Timothy', 'Mayors']",
         "2024-09-09T20:10:17+0000"
        ],
        [
         "1033",
         "nyt://article/5f96c851-30a8-5e7c-84c7-8a19b2bb9b0c",
         "New York",
         "['Weinstein, Harvey', 'Prisons and Prisoners', 'Heart', 'Rikers Island Prison Complex', 'Sex Crimes', 'Sexual Harassment', '#MeToo Movement']",
         "2024-09-09T20:16:13+0000"
        ],
        [
         "1038",
         "nyt://article/9f7b7519-4df3-5138-9f93-b58c3cfdf5fb",
         "New York",
         "['Coronavirus (2019-nCoV)', 'Tests (Medical)', 'Adams, Eric L', 'New York City']",
         "2024-09-09T21:17:58+0000"
        ]
       ],
       "shape": {
        "columns": 4,
        "rows": 17428
       }
      },
      "text/html": [
       "<div>\n",
       "<style scoped>\n",
       "    .dataframe tbody tr th:only-of-type {\n",
       "        vertical-align: middle;\n",
       "    }\n",
       "\n",
       "    .dataframe tbody tr th {\n",
       "        vertical-align: top;\n",
       "    }\n",
       "\n",
       "    .dataframe thead th {\n",
       "        text-align: right;\n",
       "    }\n",
       "</style>\n",
       "<table border=\"1\" class=\"dataframe\">\n",
       "  <thead>\n",
       "    <tr style=\"text-align: right;\">\n",
       "      <th></th>\n",
       "      <th>_id</th>\n",
       "      <th>section_name</th>\n",
       "      <th>keywords</th>\n",
       "      <th>pub_date</th>\n",
       "    </tr>\n",
       "  </thead>\n",
       "  <tbody>\n",
       "    <tr>\n",
       "      <th>11</th>\n",
       "      <td>nyt://article/fbd74938-d198-5111-a322-256674ee...</td>\n",
       "      <td>New York</td>\n",
       "      <td>[New York City]</td>\n",
       "      <td>2024-09-01T07:00:23+0000</td>\n",
       "    </tr>\n",
       "    <tr>\n",
       "      <th>13</th>\n",
       "      <td>nyt://article/cfeb776c-7468-5f9c-96b1-cfee972d...</td>\n",
       "      <td>New York</td>\n",
       "      <td>[Strazzullo, Sal, Bars and Nightclubs, Robberi...</td>\n",
       "      <td>2024-09-01T07:00:35+0000</td>\n",
       "    </tr>\n",
       "    <tr>\n",
       "      <th>55</th>\n",
       "      <td>nyt://article/78b260c3-4d2a-5200-bfc1-176274a5...</td>\n",
       "      <td>New York</td>\n",
       "      <td>[United States Politics and Government, Presid...</td>\n",
       "      <td>2024-09-01T19:38:41+0000</td>\n",
       "    </tr>\n",
       "    <tr>\n",
       "      <th>77</th>\n",
       "      <td>nyt://article/6f4a73e6-8886-5682-8468-09a76de6...</td>\n",
       "      <td>New York</td>\n",
       "      <td>[United States Open (Tennis), Tennis, Stadiums...</td>\n",
       "      <td>2024-09-02T07:00:27+0000</td>\n",
       "    </tr>\n",
       "    <tr>\n",
       "      <th>78</th>\n",
       "      <td>nyt://article/06c1a953-425e-53c3-bbad-8860df0e...</td>\n",
       "      <td>New York</td>\n",
       "      <td>[Pedestrian Malls, Education (K-12), Roads and...</td>\n",
       "      <td>2024-09-02T07:00:31+0000</td>\n",
       "    </tr>\n",
       "    <tr>\n",
       "      <th>...</th>\n",
       "      <td>...</td>\n",
       "      <td>...</td>\n",
       "      <td>...</td>\n",
       "      <td>...</td>\n",
       "    </tr>\n",
       "    <tr>\n",
       "      <th>48640</th>\n",
       "      <td>nyt://article/0670790e-18d3-5dd0-92a9-c26a6df1...</td>\n",
       "      <td>U.S.</td>\n",
       "      <td>[Presidential Election of 2024, Abortion, In V...</td>\n",
       "      <td>2024-08-31T00:24:11+0000</td>\n",
       "    </tr>\n",
       "    <tr>\n",
       "      <th>48643</th>\n",
       "      <td>nyt://article/a746e516-976d-543c-8347-cd2b6122...</td>\n",
       "      <td>Business Day</td>\n",
       "      <td>[Shopping Centers and Malls, Real Estate (Comm...</td>\n",
       "      <td>2024-08-31T04:00:27+0000</td>\n",
       "    </tr>\n",
       "    <tr>\n",
       "      <th>48656</th>\n",
       "      <td>nyt://article/e5ff274e-6bd0-5589-be49-7517e1f0...</td>\n",
       "      <td>U.S.</td>\n",
       "      <td>[State Legislatures, Vetoes (US), Politics and...</td>\n",
       "      <td>2024-08-31T09:00:48+0000</td>\n",
       "    </tr>\n",
       "    <tr>\n",
       "      <th>48658</th>\n",
       "      <td>nyt://article/a7d4a7da-45e0-5c61-8932-1c022415...</td>\n",
       "      <td>Climate</td>\n",
       "      <td>[Global Warming, Greenhouse Gas Emissions, Haz...</td>\n",
       "      <td>2024-08-31T09:01:08+0000</td>\n",
       "    </tr>\n",
       "    <tr>\n",
       "      <th>48687</th>\n",
       "      <td>nyt://article/dec0b620-0ca8-5ad1-8a2e-1103cdd0...</td>\n",
       "      <td>Opinion</td>\n",
       "      <td>[Floods, Deaths (Fatalities), Deserts, Rain, G...</td>\n",
       "      <td>2024-08-31T11:00:39+0000</td>\n",
       "    </tr>\n",
       "  </tbody>\n",
       "</table>\n",
       "<p>17428 rows × 4 columns</p>\n",
       "</div>"
      ],
      "text/plain": [
       "                                                     _id  section_name  \\\n",
       "11     nyt://article/fbd74938-d198-5111-a322-256674ee...      New York   \n",
       "13     nyt://article/cfeb776c-7468-5f9c-96b1-cfee972d...      New York   \n",
       "55     nyt://article/78b260c3-4d2a-5200-bfc1-176274a5...      New York   \n",
       "77     nyt://article/6f4a73e6-8886-5682-8468-09a76de6...      New York   \n",
       "78     nyt://article/06c1a953-425e-53c3-bbad-8860df0e...      New York   \n",
       "...                                                  ...           ...   \n",
       "48640  nyt://article/0670790e-18d3-5dd0-92a9-c26a6df1...          U.S.   \n",
       "48643  nyt://article/a746e516-976d-543c-8347-cd2b6122...  Business Day   \n",
       "48656  nyt://article/e5ff274e-6bd0-5589-be49-7517e1f0...          U.S.   \n",
       "48658  nyt://article/a7d4a7da-45e0-5c61-8932-1c022415...       Climate   \n",
       "48687  nyt://article/dec0b620-0ca8-5ad1-8a2e-1103cdd0...       Opinion   \n",
       "\n",
       "                                                keywords  \\\n",
       "11                                       [New York City]   \n",
       "13     [Strazzullo, Sal, Bars and Nightclubs, Robberi...   \n",
       "55     [United States Politics and Government, Presid...   \n",
       "77     [United States Open (Tennis), Tennis, Stadiums...   \n",
       "78     [Pedestrian Malls, Education (K-12), Roads and...   \n",
       "...                                                  ...   \n",
       "48640  [Presidential Election of 2024, Abortion, In V...   \n",
       "48643  [Shopping Centers and Malls, Real Estate (Comm...   \n",
       "48656  [State Legislatures, Vetoes (US), Politics and...   \n",
       "48658  [Global Warming, Greenhouse Gas Emissions, Haz...   \n",
       "48687  [Floods, Deaths (Fatalities), Deserts, Rain, G...   \n",
       "\n",
       "                       pub_date  \n",
       "11     2024-09-01T07:00:23+0000  \n",
       "13     2024-09-01T07:00:35+0000  \n",
       "55     2024-09-01T19:38:41+0000  \n",
       "77     2024-09-02T07:00:27+0000  \n",
       "78     2024-09-02T07:00:31+0000  \n",
       "...                         ...  \n",
       "48640  2024-08-31T00:24:11+0000  \n",
       "48643  2024-08-31T04:00:27+0000  \n",
       "48656  2024-08-31T09:00:48+0000  \n",
       "48658  2024-08-31T09:01:08+0000  \n",
       "48687  2024-08-31T11:00:39+0000  \n",
       "\n",
       "[17428 rows x 4 columns]"
      ]
     },
     "execution_count": 221,
     "metadata": {},
     "output_type": "execute_result"
    }
   ],
   "source": [
    "coverage_about_places"
   ]
  },
  {
   "cell_type": "code",
   "execution_count": 222,
   "metadata": {},
   "outputs": [],
   "source": [
    "coverage_about_places.to_json(\"../../data/nyt-coverage-places.json\", orient=\"records\")"
   ]
  },
  {
   "cell_type": "markdown",
   "metadata": {},
   "source": [
    "## What countries are covered the most?"
   ]
  },
  {
   "cell_type": "code",
   "execution_count": 223,
   "metadata": {},
   "outputs": [],
   "source": [
    "list_of_place_keywords = []\n",
    "\n",
    "for article in coverage_about_places['keywords']:\n",
    "    for keywords in article:\n",
    "        list_of_place_keywords.append(keywords)"
   ]
  },
  {
   "cell_type": "code",
   "execution_count": 224,
   "metadata": {},
   "outputs": [
    {
     "data": {
      "text/plain": [
       "{'Aruba': 'AW',\n",
       " 'Afghanistan': 'AF',\n",
       " 'Angola': 'AO',\n",
       " 'Anguilla': 'AI',\n",
       " 'Åland Islands': 'AX',\n",
       " 'Albania': 'AL',\n",
       " 'Andorra': 'AD',\n",
       " 'United Arab Emirates': 'AE',\n",
       " 'Argentina': 'AR',\n",
       " 'Armenia': 'AM',\n",
       " 'American Samoa': 'AS',\n",
       " 'Antarctica': 'AQ',\n",
       " 'French Southern Territories': 'TF',\n",
       " 'Antigua and Barbuda': 'AG',\n",
       " 'Australia': 'AU',\n",
       " 'Austria': 'AT',\n",
       " 'Azerbaijan': 'AZ',\n",
       " 'Burundi': 'BI',\n",
       " 'Belgium': 'BE',\n",
       " 'Benin': 'BJ',\n",
       " 'Bonaire, Sint Eustatius and Saba': 'BQ',\n",
       " 'Burkina Faso': 'BF',\n",
       " 'Bangladesh': 'BD',\n",
       " 'Bulgaria': 'BG',\n",
       " 'Bahrain': 'BH',\n",
       " 'Bahamas': 'BS',\n",
       " 'Bosnia and Herzegovina': 'BA',\n",
       " 'Saint Barthélemy': 'BL',\n",
       " 'Belarus': 'BY',\n",
       " 'Belize': 'BZ',\n",
       " 'Bermuda': 'BM',\n",
       " 'Bolivia, Plurinational State of': 'BO',\n",
       " 'Brazil': 'BR',\n",
       " 'Barbados': 'BB',\n",
       " 'Brunei Darussalam': 'BN',\n",
       " 'Bhutan': 'BT',\n",
       " 'Bouvet Island': 'BV',\n",
       " 'Botswana': 'BW',\n",
       " 'Central African Republic': 'CF',\n",
       " 'Canada': 'CA',\n",
       " 'Cocos (Keeling) Islands': 'CC',\n",
       " 'Switzerland': 'CH',\n",
       " 'Chile': 'CL',\n",
       " 'China': 'CN',\n",
       " \"Côte d'Ivoire\": 'CI',\n",
       " 'Cameroon': 'CM',\n",
       " 'Congo, The Democratic Republic of the': 'CD',\n",
       " 'Congo': 'CG',\n",
       " 'Cook Islands': 'CK',\n",
       " 'Colombia': 'CO',\n",
       " 'Comoros': 'KM',\n",
       " 'Cabo Verde': 'CV',\n",
       " 'Costa Rica': 'CR',\n",
       " 'Cuba': 'CU',\n",
       " 'Curaçao': 'CW',\n",
       " 'Christmas Island': 'CX',\n",
       " 'Cayman Islands': 'KY',\n",
       " 'Cyprus': 'CY',\n",
       " 'Czechia': 'CZ',\n",
       " 'Germany': 'DE',\n",
       " 'Djibouti': 'DJ',\n",
       " 'Dominica': 'DM',\n",
       " 'Denmark': 'DK',\n",
       " 'Dominican Republic': 'DO',\n",
       " 'Algeria': 'DZ',\n",
       " 'Ecuador': 'EC',\n",
       " 'Egypt': 'EG',\n",
       " 'Eritrea': 'ER',\n",
       " 'Western Sahara': 'EH',\n",
       " 'Spain': 'ES',\n",
       " 'Estonia': 'EE',\n",
       " 'Ethiopia': 'ET',\n",
       " 'Finland': 'FI',\n",
       " 'Fiji': 'FJ',\n",
       " 'Falkland Islands (Malvinas)': 'FK',\n",
       " 'France': 'FR',\n",
       " 'Faroe Islands': 'FO',\n",
       " 'Micronesia, Federated States of': 'FM',\n",
       " 'Gabon': 'GA',\n",
       " 'United Kingdom': 'GB',\n",
       " 'Georgia': 'GE',\n",
       " 'Guernsey': 'GG',\n",
       " 'Ghana': 'GH',\n",
       " 'Gibraltar': 'GI',\n",
       " 'Guinea': 'GN',\n",
       " 'Guadeloupe': 'GP',\n",
       " 'Gambia': 'GM',\n",
       " 'Guinea-Bissau': 'GW',\n",
       " 'Equatorial Guinea': 'GQ',\n",
       " 'Greece': 'GR',\n",
       " 'Grenada': 'GD',\n",
       " 'Greenland': 'GL',\n",
       " 'Guatemala': 'GT',\n",
       " 'French Guiana': 'GF',\n",
       " 'Guam': 'GU',\n",
       " 'Guyana': 'GY',\n",
       " 'Hong Kong': 'HK',\n",
       " 'Heard Island and McDonald Islands': 'HM',\n",
       " 'Honduras': 'HN',\n",
       " 'Croatia': 'HR',\n",
       " 'Haiti': 'HT',\n",
       " 'Hungary': 'HU',\n",
       " 'Indonesia': 'ID',\n",
       " 'Isle of Man': 'IM',\n",
       " 'India': 'IN',\n",
       " 'British Indian Ocean Territory': 'IO',\n",
       " 'Ireland': 'IE',\n",
       " 'Iran, Islamic Republic of': 'IR',\n",
       " 'Iraq': 'IQ',\n",
       " 'Iceland': 'IS',\n",
       " 'Israel': 'IL',\n",
       " 'Italy': 'IT',\n",
       " 'Jamaica': 'JM',\n",
       " 'Jersey': 'JE',\n",
       " 'Jordan': 'JO',\n",
       " 'Japan': 'JP',\n",
       " 'Kazakhstan': 'KZ',\n",
       " 'Kenya': 'KE',\n",
       " 'Kyrgyzstan': 'KG',\n",
       " 'Cambodia': 'KH',\n",
       " 'Kiribati': 'KI',\n",
       " 'Saint Kitts and Nevis': 'KN',\n",
       " 'Korea, Republic of': 'KR',\n",
       " 'Kuwait': 'KW',\n",
       " \"Lao People's Democratic Republic\": 'LA',\n",
       " 'Lebanon': 'LB',\n",
       " 'Liberia': 'LR',\n",
       " 'Libya': 'LY',\n",
       " 'Saint Lucia': 'LC',\n",
       " 'Liechtenstein': 'LI',\n",
       " 'Sri Lanka': 'LK',\n",
       " 'Lesotho': 'LS',\n",
       " 'Lithuania': 'LT',\n",
       " 'Luxembourg': 'LU',\n",
       " 'Latvia': 'LV',\n",
       " 'Macao': 'MO',\n",
       " 'Saint Martin (French part)': 'MF',\n",
       " 'Morocco': 'MA',\n",
       " 'Monaco': 'MC',\n",
       " 'Moldova, Republic of': 'MD',\n",
       " 'Madagascar': 'MG',\n",
       " 'Maldives': 'MV',\n",
       " 'Mexico': 'MX',\n",
       " 'Marshall Islands': 'MH',\n",
       " 'North Macedonia': 'MK',\n",
       " 'Mali': 'ML',\n",
       " 'Malta': 'MT',\n",
       " 'Myanmar': 'MM',\n",
       " 'Montenegro': 'ME',\n",
       " 'Mongolia': 'MN',\n",
       " 'Northern Mariana Islands': 'MP',\n",
       " 'Mozambique': 'MZ',\n",
       " 'Mauritania': 'MR',\n",
       " 'Montserrat': 'MS',\n",
       " 'Martinique': 'MQ',\n",
       " 'Mauritius': 'MU',\n",
       " 'Malawi': 'MW',\n",
       " 'Malaysia': 'MY',\n",
       " 'Mayotte': 'YT',\n",
       " 'Namibia': 'NA',\n",
       " 'New Caledonia': 'NC',\n",
       " 'Niger': 'NE',\n",
       " 'Norfolk Island': 'NF',\n",
       " 'Nigeria': 'NG',\n",
       " 'Nicaragua': 'NI',\n",
       " 'Niue': 'NU',\n",
       " 'Netherlands': 'NL',\n",
       " 'Norway': 'NO',\n",
       " 'Nepal': 'NP',\n",
       " 'Nauru': 'NR',\n",
       " 'New Zealand': 'NZ',\n",
       " 'Oman': 'OM',\n",
       " 'Pakistan': 'PK',\n",
       " 'Panama': 'PA',\n",
       " 'Pitcairn': 'PN',\n",
       " 'Peru': 'PE',\n",
       " 'Philippines': 'PH',\n",
       " 'Palau': 'PW',\n",
       " 'Papua New Guinea': 'PG',\n",
       " 'Poland': 'PL',\n",
       " 'Puerto Rico': 'PR',\n",
       " \"Korea, Democratic People's Republic of\": 'KP',\n",
       " 'Portugal': 'PT',\n",
       " 'Paraguay': 'PY',\n",
       " 'Palestine, State of': 'PS',\n",
       " 'French Polynesia': 'PF',\n",
       " 'Qatar': 'QA',\n",
       " 'Réunion': 'RE',\n",
       " 'Romania': 'RO',\n",
       " 'Russian Federation': 'RU',\n",
       " 'Rwanda': 'RW',\n",
       " 'Saudi Arabia': 'SA',\n",
       " 'Sudan': 'SD',\n",
       " 'Senegal': 'SN',\n",
       " 'Singapore': 'SG',\n",
       " 'South Georgia and the South Sandwich Islands': 'GS',\n",
       " 'Saint Helena, Ascension and Tristan da Cunha': 'SH',\n",
       " 'Svalbard and Jan Mayen': 'SJ',\n",
       " 'Solomon Islands': 'SB',\n",
       " 'Sierra Leone': 'SL',\n",
       " 'El Salvador': 'SV',\n",
       " 'San Marino': 'SM',\n",
       " 'Somalia': 'SO',\n",
       " 'Saint Pierre and Miquelon': 'PM',\n",
       " 'Serbia': 'RS',\n",
       " 'South Sudan': 'SS',\n",
       " 'Sao Tome and Principe': 'ST',\n",
       " 'Suriname': 'SR',\n",
       " 'Slovakia': 'SK',\n",
       " 'Slovenia': 'SI',\n",
       " 'Sweden': 'SE',\n",
       " 'Eswatini': 'SZ',\n",
       " 'Sint Maarten (Dutch part)': 'SX',\n",
       " 'Seychelles': 'SC',\n",
       " 'Syrian Arab Republic': 'SY',\n",
       " 'Turks and Caicos Islands': 'TC',\n",
       " 'Chad': 'TD',\n",
       " 'Togo': 'TG',\n",
       " 'Thailand': 'TH',\n",
       " 'Tajikistan': 'TJ',\n",
       " 'Tokelau': 'TK',\n",
       " 'Turkmenistan': 'TM',\n",
       " 'Timor-Leste': 'TL',\n",
       " 'Tonga': 'TO',\n",
       " 'Trinidad and Tobago': 'TT',\n",
       " 'Tunisia': 'TN',\n",
       " 'Türkiye': 'TR',\n",
       " 'Tuvalu': 'TV',\n",
       " 'Taiwan, Province of China': 'TW',\n",
       " 'Tanzania, United Republic of': 'TZ',\n",
       " 'Uganda': 'UG',\n",
       " 'Ukraine': 'UA',\n",
       " 'United States Minor Outlying Islands': 'UM',\n",
       " 'Uruguay': 'UY',\n",
       " 'United States': 'US',\n",
       " 'Uzbekistan': 'UZ',\n",
       " 'Holy See (Vatican City State)': 'VA',\n",
       " 'Saint Vincent and the Grenadines': 'VC',\n",
       " 'Venezuela, Bolivarian Republic of': 'VE',\n",
       " 'Virgin Islands, British': 'VG',\n",
       " 'Virgin Islands, U.S.': 'VI',\n",
       " 'Viet Nam': 'VN',\n",
       " 'Vanuatu': 'VU',\n",
       " 'Wallis and Futuna': 'WF',\n",
       " 'Samoa': 'WS',\n",
       " 'Yemen': 'YE',\n",
       " 'South Africa': 'ZA',\n",
       " 'Zambia': 'ZM',\n",
       " 'Zimbabwe': 'ZW'}"
      ]
     },
     "execution_count": 224,
     "metadata": {},
     "output_type": "execute_result"
    }
   ],
   "source": [
    "country_dict"
   ]
  },
  {
   "cell_type": "code",
   "execution_count": null,
   "metadata": {},
   "outputs": [],
   "source": [
    "countries_df = pd.DataFrame(country_dict.items(), columns=['name', 'code'])\n",
    "countries_df"
   ]
  },
  {
   "cell_type": "code",
   "execution_count": 225,
   "metadata": {},
   "outputs": [],
   "source": [
    "countries_df[\"name\"] = countries_df[\"name\"].str.replace(',.*', '', regex=True)"
   ]
  },
  {
   "cell_type": "code",
   "execution_count": null,
   "metadata": {},
   "outputs": [],
   "source": [
    "matches_for_places = []\n",
    "for index, row in countries_df.iterrows():\n",
    "    place = row[\"name\"]\n",
    "    if place != \"Georgia\":\n",
    "        matches = [p for p in coverage_about_places[\"keywords\"] if place.lower() in map(str.lower, p)]\n",
    "    else:\n",
    "        matches = []\n",
    "    \n",
    "    matches_for_places.append(len(matches))\n"
   ]
  },
  {
   "cell_type": "code",
   "execution_count": null,
   "metadata": {},
   "outputs": [],
   "source": [
    "countries_df[\"count\"] = matches_for_places"
   ]
  },
  {
   "cell_type": "code",
   "execution_count": null,
   "metadata": {},
   "outputs": [],
   "source": [
    "countries_df.loc[countries_df['name'] == 'United States', 'count'] = len(coverage_about_US)"
   ]
  },
  {
   "cell_type": "markdown",
   "metadata": {},
   "source": [
    "## What US states are covered the most?"
   ]
  },
  {
   "cell_type": "code",
   "execution_count": null,
   "metadata": {},
   "outputs": [],
   "source": [
    "us_states_df = pd.DataFrame(us_state_names.items(), columns=['name', 'code'])\n",
    "us_states_df"
   ]
  },
  {
   "cell_type": "code",
   "execution_count": null,
   "metadata": {},
   "outputs": [],
   "source": [
    "matches_for_states = []\n",
    "for index, row in us_states_df.iterrows():\n",
    "    place = row[\"name\"]\n",
    "    matches = [p for p in coverage_about_places[\"keywords\"] if place.lower() in map(str.lower, p)]\n",
    "\n",
    "    matches_for_states.append(len(matches))\n"
   ]
  },
  {
   "cell_type": "code",
   "execution_count": null,
   "metadata": {},
   "outputs": [],
   "source": [
    "us_states_df[\"count\"] = matches_for_states"
   ]
  },
  {
   "cell_type": "code",
   "execution_count": null,
   "metadata": {},
   "outputs": [],
   "source": [
    "us_states_df"
   ]
  },
  {
   "cell_type": "code",
   "execution_count": null,
   "metadata": {},
   "outputs": [],
   "source": [
    "sum_of_coverage_about_places = pd.concat([countries_df, us_states_df])\n",
    "sum_of_coverage_about_places"
   ]
  },
  {
   "cell_type": "code",
   "execution_count": null,
   "metadata": {},
   "outputs": [],
   "source": [
    "sum_of_coverage_about_places.to_json(\"../../data/nyt-sum-places.json\", orient=\"records\")"
   ]
  },
  {
   "cell_type": "markdown",
   "metadata": {},
   "source": [
    "## What are other categories related to places?"
   ]
  },
  {
   "cell_type": "code",
   "execution_count": null,
   "metadata": {},
   "outputs": [],
   "source": [
    "def count_related_kws(df):\n",
    "    dictionaries = []\n",
    "    for index, country in df.iterrows():\n",
    "        country_name = country[\"name\"]\n",
    "        country_coverage = coverage_about_places[coverage_about_places[\"keywords\"].apply(lambda x: any(keyword.lower() == country_name.lower() for keyword in x))]\n",
    "        list_of_keywords = list(flatten(country_coverage[\"keywords\"]))\n",
    "        set_of_keywords = set(list_of_keywords)\n",
    "        count_of_kw = []\n",
    "        \n",
    "        for kw in set_of_keywords:\n",
    "            count_of_kw.append(list_of_keywords.count(kw))\n",
    "        \n",
    "        list_of_keywords = list(set(list_of_keywords))\n",
    "        dictionary = dict(zip(list_of_keywords, count_of_kw))\n",
    "        dictionaries.append(dictionary)\n",
    "\n",
    "    df[\"related_keywords\"] = dictionaries"
   ]
  },
  {
   "cell_type": "code",
   "execution_count": null,
   "metadata": {},
   "outputs": [],
   "source": [
    "count_related_kws(us_states_df)\n",
    "count_related_kws(countries_df)"
   ]
  },
  {
   "cell_type": "code",
   "execution_count": null,
   "metadata": {},
   "outputs": [],
   "source": [
    "us_states_df"
   ]
  },
  {
   "cell_type": "code",
   "execution_count": null,
   "metadata": {},
   "outputs": [],
   "source": [
    "countries_df"
   ]
  },
  {
   "cell_type": "markdown",
   "metadata": {},
   "source": [
    "## Geographic coordinates for countries and states"
   ]
  },
  {
   "cell_type": "code",
   "execution_count": null,
   "metadata": {},
   "outputs": [],
   "source": [
    "geolocator = Nominatim(user_agent=\"geo_lookup\")\n",
    "session = requests_cache.CachedSession(\"geopy_cache\", expire_after=86400)  # Cache for 1 day\n",
    "tqdm.pandas()\n"
   ]
  },
  {
   "cell_type": "code",
   "execution_count": null,
   "metadata": {},
   "outputs": [],
   "source": [
    "def get_coordinates(location_name, country_code=None):\n",
    "    query = f\"{location_name}, {country_code}\" if country_code else location_name\n",
    "    try:\n",
    "        location = geolocator.geocode(query, timeout=10)\n",
    "        if location:\n",
    "            return location.latitude, location.longitude\n",
    "    except Exception as e:\n",
    "        print(f\"Error for {query}: {e}\")\n",
    "    return None, None"
   ]
  },
  {
   "cell_type": "code",
   "execution_count": null,
   "metadata": {},
   "outputs": [],
   "source": [
    "countries_df[[\"Latitude\", \"Longitude\"]] = countries_df.progress_apply(\n",
    "    lambda row: get_coordinates(row[\"name\"], row[\"code\"]), axis=1, result_type=\"expand\"\n",
    ")\n"
   ]
  },
  {
   "cell_type": "code",
   "execution_count": null,
   "metadata": {},
   "outputs": [],
   "source": [
    "us_states_df[[\"Latitude\", \"Longitude\"]] = us_states_df.progress_apply(\n",
    "    lambda row: get_coordinates(row[\"name\"], row[\"code\"]), axis=1, result_type=\"expand\"\n",
    ")"
   ]
  },
  {
   "cell_type": "code",
   "execution_count": null,
   "metadata": {},
   "outputs": [],
   "source": [
    "countries_df['Context']='Global'"
   ]
  },
  {
   "cell_type": "code",
   "execution_count": null,
   "metadata": {},
   "outputs": [],
   "source": [
    "us_states_df['Context']='Local'"
   ]
  },
  {
   "cell_type": "code",
   "execution_count": null,
   "metadata": {},
   "outputs": [],
   "source": [
    "places_with_categories = pd.concat([countries_df, us_states_df])"
   ]
  },
  {
   "cell_type": "code",
   "execution_count": null,
   "metadata": {},
   "outputs": [],
   "source": [
    "places_with_categories.to_json(\"../../data/places/nyt-sum-places.json\", orient=\"records\")"
   ]
  },
  {
   "cell_type": "code",
   "execution_count": null,
   "metadata": {},
   "outputs": [],
   "source": []
  }
 ],
 "metadata": {
  "kernelspec": {
   "display_name": ".venv",
   "language": "python",
   "name": "python3"
  },
  "language_info": {
   "codemirror_mode": {
    "name": "ipython",
    "version": 3
   },
   "file_extension": ".py",
   "mimetype": "text/x-python",
   "name": "python",
   "nbconvert_exporter": "python",
   "pygments_lexer": "ipython3",
   "version": "3.9.6"
  }
 },
 "nbformat": 4,
 "nbformat_minor": 2
}
