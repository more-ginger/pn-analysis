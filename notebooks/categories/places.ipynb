{
 "cells": [
  {
   "cell_type": "code",
   "execution_count": null,
   "metadata": {},
   "outputs": [],
   "source": [
    "import pandas as pd\n",
    "from geopy.geocoders import Nominatim\n",
    "from geopy.exc import GeocoderTimedOut,GeocoderUnavailable\n",
    "from pandas.core.common import flatten\n",
    "import ast\n",
    "from tqdm import tqdm\n",
    "import requests_cache\n"
   ]
  },
  {
   "cell_type": "code",
   "execution_count": 598,
   "metadata": {},
   "outputs": [],
   "source": [
    "full_year = pd.read_csv(\"../../input-data/temp-data.csv\")"
   ]
  },
  {
   "cell_type": "code",
   "execution_count": 599,
   "metadata": {},
   "outputs": [
    {
     "data": {
      "application/vnd.microsoft.datawrangler.viewer.v0+json": {
       "columns": [
        {
         "name": "index",
         "rawType": "int64",
         "type": "integer"
        },
        {
         "name": "Unnamed: 0",
         "rawType": "int64",
         "type": "integer"
        },
        {
         "name": "abstract",
         "rawType": "object",
         "type": "unknown"
        },
        {
         "name": "web_url",
         "rawType": "object",
         "type": "string"
        },
        {
         "name": "snippet",
         "rawType": "object",
         "type": "unknown"
        },
        {
         "name": "lead_paragraph",
         "rawType": "object",
         "type": "unknown"
        },
        {
         "name": "print_section",
         "rawType": "object",
         "type": "unknown"
        },
        {
         "name": "print_page",
         "rawType": "float64",
         "type": "float"
        },
        {
         "name": "source",
         "rawType": "object",
         "type": "string"
        },
        {
         "name": "multimedia",
         "rawType": "object",
         "type": "string"
        },
        {
         "name": "headline",
         "rawType": "object",
         "type": "string"
        },
        {
         "name": "keywords",
         "rawType": "object",
         "type": "string"
        },
        {
         "name": "pub_date",
         "rawType": "object",
         "type": "string"
        },
        {
         "name": "document_type",
         "rawType": "object",
         "type": "string"
        },
        {
         "name": "news_desk",
         "rawType": "object",
         "type": "unknown"
        },
        {
         "name": "section_name",
         "rawType": "object",
         "type": "unknown"
        },
        {
         "name": "byline",
         "rawType": "object",
         "type": "string"
        },
        {
         "name": "type_of_material",
         "rawType": "object",
         "type": "unknown"
        },
        {
         "name": "_id",
         "rawType": "object",
         "type": "string"
        },
        {
         "name": "word_count",
         "rawType": "int64",
         "type": "integer"
        },
        {
         "name": "uri",
         "rawType": "object",
         "type": "string"
        },
        {
         "name": "subsection_name",
         "rawType": "object",
         "type": "unknown"
        }
       ],
       "conversionMethod": "pd.DataFrame",
       "ref": "34479026-bfa7-41ae-a695-2ba9d26494f0",
       "rows": [
        [
         "0",
         "0",
         "Wrestling with age and a case of idea theft.",
         "https://www.nytimes.com/2024/09/01/business/help-im-older-and-on-the-job-hunt.html",
         "Wrestling with age and a case of idea theft.",
         "Send questions about the office, money, careers and work-life balance to workfriend@nytimes.com. Include your name and location, or a request to remain anonymous. Letters may be edited.",
         "BU",
         "3.0",
         "The New York Times",
         "[{'rank': 0, 'subtype': 'xlarge', 'caption': None, 'credit': None, 'type': 'image', 'url': 'images/2024/09/01/multimedia/01WorkFriend-fbmg/01WorkFriend-fbmg-articleLarge.jpg', 'height': 750, 'width': 600, 'subType': 'xlarge', 'crop_name': 'articleLarge', 'legacy': {'xlarge': 'images/2024/09/01/multimedia/01WorkFriend-fbmg/01WorkFriend-fbmg-articleLarge.jpg', 'xlargewidth': 600, 'xlargeheight': 750}}, {'rank': 0, 'subtype': 'jumbo', 'caption': None, 'credit': None, 'type': 'image', 'url': 'images/2024/09/01/multimedia/01WorkFriend-fbmg/01WorkFriend-fbmg-jumbo.jpg', 'height': 1024, 'width': 820, 'subType': 'jumbo', 'crop_name': 'jumbo', 'legacy': {}}, {'rank': 0, 'subtype': 'superJumbo', 'caption': None, 'credit': None, 'type': 'image', 'url': 'images/2024/09/01/multimedia/01WorkFriend-fbmg/01WorkFriend-fbmg-superJumbo.jpg', 'height': 2048, 'width': 1639, 'subType': 'superJumbo', 'crop_name': 'superJumbo', 'legacy': {}}, {'rank': 0, 'subtype': 'thumbnail', 'caption': None, 'credit': None, 'type': 'image', 'url': 'images/2024/09/01/multimedia/01WorkFriend-fbmg/01WorkFriend-fbmg-thumbStandard.jpg', 'height': 75, 'width': 75, 'subType': 'thumbnail', 'crop_name': 'thumbStandard', 'legacy': {'thumbnail': 'images/2024/09/01/multimedia/01WorkFriend-fbmg/01WorkFriend-fbmg-thumbStandard.jpg', 'thumbnailwidth': 75, 'thumbnailheight': 75}}, {'rank': 0, 'subtype': 'thumbLarge', 'caption': None, 'credit': None, 'type': 'image', 'url': 'images/2024/09/01/multimedia/01WorkFriend-fbmg/01WorkFriend-fbmg-thumbLarge.jpg', 'height': 150, 'width': 150, 'subType': 'thumbLarge', 'crop_name': 'thumbLarge', 'legacy': {}}]",
         "{'main': 'Help! I’m ‘Older’ and on the Job Hunt.', 'kicker': 'work Friend', 'content_kicker': None, 'print_headline': 'Tech Job Recruiters Think I’m a Dinosaur', 'name': None, 'seo': None, 'sub': None}",
         "[{'name': 'subject', 'value': 'Careers and Professions', 'rank': 1, 'major': 'N'}, {'name': 'subject', 'value': 'Hiring and Promotion', 'rank': 2, 'major': 'N'}, {'name': 'subject', 'value': 'Content Type: Service', 'rank': 3, 'major': 'N'}, {'name': 'subject', 'value': 'Workplace Environment', 'rank': 4, 'major': 'N'}, {'name': 'subject', 'value': 'your-feed-selfcare', 'rank': 5, 'major': 'N'}]",
         "2024-09-01T04:01:07+0000",
         "article",
         "SundayBusiness",
         "Business Day",
         "{'original': 'By Anna Holmes', 'person': [{'firstname': 'Anna', 'middlename': None, 'lastname': 'Holmes', 'qualifier': None, 'title': None, 'role': 'reported', 'organization': '', 'rank': 1}], 'organization': None}",
         "News",
         "nyt://article/da8532bd-f9bd-5ca3-9e7e-afef6e9f76d9",
         "1280",
         "nyt://article/da8532bd-f9bd-5ca3-9e7e-afef6e9f76d9",
         null
        ],
        [
         "1",
         "1",
         "Grueling shifts, abuse from the public and subpar security are nothing new to medical workers in India, where a ghastly killing has put a spotlight on their plight.",
         "https://www.nytimes.com/2024/09/01/world/asia/india-doctors-safety.html",
         "Grueling shifts, abuse from the public and subpar security are nothing new to medical workers in India, where a ghastly killing has put a spotlight on their plight.",
         "Exhausted doctors resting in crowded on-call rooms with no locks, two to a single bed. Frustrated relatives of patients angrily challenging a physician’s diagnosis. Too few security guards to keep the peace.",
         "A",
         "4.0",
         "The New York Times",
         "[{'rank': 0, 'subtype': 'xlarge', 'caption': None, 'credit': None, 'type': 'image', 'url': 'images/2024/09/01/multimedia/01india-doctors-01-gzjq/01india-doctors-01-gzjq-articleLarge.jpg', 'height': 399, 'width': 600, 'subType': 'xlarge', 'crop_name': 'articleLarge', 'legacy': {'xlarge': 'images/2024/09/01/multimedia/01india-doctors-01-gzjq/01india-doctors-01-gzjq-articleLarge.jpg', 'xlargewidth': 600, 'xlargeheight': 399}}, {'rank': 0, 'subtype': 'jumbo', 'caption': None, 'credit': None, 'type': 'image', 'url': 'images/2024/09/01/multimedia/01india-doctors-01-gzjq/01india-doctors-01-gzjq-jumbo.jpg', 'height': 681, 'width': 1024, 'subType': 'jumbo', 'crop_name': 'jumbo', 'legacy': {}}, {'rank': 0, 'subtype': 'superJumbo', 'caption': None, 'credit': None, 'type': 'image', 'url': 'images/2024/09/01/multimedia/01india-doctors-01-gzjq/01india-doctors-01-gzjq-superJumbo.jpg', 'height': 1363, 'width': 2048, 'subType': 'superJumbo', 'crop_name': 'superJumbo', 'legacy': {}}, {'rank': 0, 'subtype': 'thumbnail', 'caption': None, 'credit': None, 'type': 'image', 'url': 'images/2024/09/01/multimedia/01india-doctors-01-gzjq/01india-doctors-01-gzjq-thumbStandard.jpg', 'height': 75, 'width': 75, 'subType': 'thumbnail', 'crop_name': 'thumbStandard', 'legacy': {'thumbnail': 'images/2024/09/01/multimedia/01india-doctors-01-gzjq/01india-doctors-01-gzjq-thumbStandard.jpg', 'thumbnailwidth': 75, 'thumbnailheight': 75}}, {'rank': 0, 'subtype': 'thumbLarge', 'caption': None, 'credit': None, 'type': 'image', 'url': 'images/2024/09/01/multimedia/01india-doctors-01-gzjq/01india-doctors-01-gzjq-thumbLarge.jpg', 'height': 150, 'width': 150, 'subType': 'thumbLarge', 'crop_name': 'thumbLarge', 'legacy': {}}]",
         "{'main': 'Worked to the Bone, India’s Doctors Fear for Their Safety, Too', 'kicker': None, 'content_kicker': None, 'print_headline': 'India’s Exhausted Medical Workers Are Fearing for Their Safety', 'name': None, 'seo': None, 'sub': None}",
         "[{'name': 'glocations', 'value': 'India', 'rank': 1, 'major': 'N'}, {'name': 'subject', 'value': 'Hospitals', 'rank': 2, 'major': 'N'}, {'name': 'subject', 'value': 'Workplace Hazards and Violations', 'rank': 3, 'major': 'N'}, {'name': 'subject', 'value': 'Doctors', 'rank': 4, 'major': 'N'}, {'name': 'subject', 'value': 'Medical Schools', 'rank': 5, 'major': 'N'}, {'name': 'subject', 'value': 'Murders, Attempted Murders and Homicides', 'rank': 6, 'major': 'N'}, {'name': 'subject', 'value': 'Health Care Workers', 'rank': 7, 'major': 'N'}]",
         "2024-09-01T04:01:25+0000",
         "article",
         "Foreign",
         "World",
         "{'original': 'By Anupreeta Das and Pragati K.B', 'person': [{'firstname': 'Anupreeta', 'middlename': None, 'lastname': 'Das', 'qualifier': None, 'title': None, 'role': 'reported', 'organization': '', 'rank': 1}, {'firstname': 'Pragati', 'middlename': 'K.', 'lastname': 'B', 'qualifier': None, 'title': None, 'role': 'reported', 'organization': '', 'rank': 2}], 'organization': None}",
         "News",
         "nyt://article/aeabc262-aeb0-5423-a7ac-8bb664cb983b",
         "1310",
         "nyt://article/aeabc262-aeb0-5423-a7ac-8bb664cb983b",
         "Asia Pacific"
        ],
        [
         "2",
         "2",
         "About a quarter of the residents of Maracaibo, Venezuela’s second-largest city, have moved away — and more are expected to soon follow.",
         "https://www.nytimes.com/2024/09/01/world/americas/venezuela-maracaibo-migration.html",
         "About a quarter of the residents of Maracaibo, Venezuela’s second-largest city, have moved away — and more are expected to soon follow.",
         "It was once a thriving metropolis in the heart of oil country in Venezuela.",
         "A",
         "1.0",
         "The New York Times",
         "[{'rank': 0, 'subtype': 'xlarge', 'caption': None, 'credit': None, 'type': 'image', 'url': 'images/2024/09/01/multimedia/01venezuela-migration-promo/01venezuela-migration-top-pjfl-articleLarge.jpg', 'height': 400, 'width': 600, 'subType': 'xlarge', 'crop_name': 'articleLarge', 'legacy': {'xlarge': 'images/2024/09/01/multimedia/01venezuela-migration-promo/01venezuela-migration-top-pjfl-articleLarge.jpg', 'xlargewidth': 600, 'xlargeheight': 400}}, {'rank': 0, 'subtype': 'jumbo', 'caption': None, 'credit': None, 'type': 'image', 'url': 'images/2024/09/01/multimedia/01venezuela-migration-promo/01venezuela-migration-top-pjfl-jumbo.jpg', 'height': 683, 'width': 1024, 'subType': 'jumbo', 'crop_name': 'jumbo', 'legacy': {}}, {'rank': 0, 'subtype': 'superJumbo', 'caption': None, 'credit': None, 'type': 'image', 'url': 'images/2024/09/01/multimedia/01venezuela-migration-promo/01venezuela-migration-top-pjfl-superJumbo.jpg', 'height': 1365, 'width': 2048, 'subType': 'superJumbo', 'crop_name': 'superJumbo', 'legacy': {}}, {'rank': 0, 'subtype': 'thumbnail', 'caption': None, 'credit': None, 'type': 'image', 'url': 'images/2024/09/01/multimedia/01venezuela-migration-promo/01venezuela-migration-top-pjfl-thumbStandard.jpg', 'height': 75, 'width': 75, 'subType': 'thumbnail', 'crop_name': 'thumbStandard', 'legacy': {'thumbnail': 'images/2024/09/01/multimedia/01venezuela-migration-promo/01venezuela-migration-top-pjfl-thumbStandard.jpg', 'thumbnailwidth': 75, 'thumbnailheight': 75}}, {'rank': 0, 'subtype': 'thumbLarge', 'caption': None, 'credit': None, 'type': 'image', 'url': 'images/2024/09/01/multimedia/01venezuela-migration-promo/01venezuela-migration-top-pjfl-thumbLarge.jpg', 'height': 150, 'width': 150, 'subType': 'thumbLarge', 'crop_name': 'thumbLarge', 'legacy': {}}]",
         "{'main': 'What Happens When Half a Million People Abandon Their City', 'kicker': 'Maracaibo dispatch', 'content_kicker': None, 'print_headline': 'In Maracaibo, People Leave, Misery Doesn’t   ', 'name': None, 'seo': None, 'sub': None}",
         "[{'name': 'glocations', 'value': 'Maracaibo (Venezuela)', 'rank': 1, 'major': 'N'}, {'name': 'subject', 'value': 'Population', 'rank': 2, 'major': 'N'}, {'name': 'subject', 'value': 'Immigration and Emigration', 'rank': 3, 'major': 'N'}, {'name': 'glocations', 'value': 'Venezuela', 'rank': 4, 'major': 'N'}, {'name': 'subject', 'value': 'Politics and Government', 'rank': 5, 'major': 'N'}, {'name': 'subject', 'value': 'Economic Conditions and Trends', 'rank': 6, 'major': 'N'}, {'name': 'subject', 'value': 'Shortages', 'rank': 7, 'major': 'N'}, {'name': 'subject', 'value': 'Embargoes and Sanctions', 'rank': 8, 'major': 'N'}, {'name': 'subject', 'value': 'Labor and Jobs', 'rank': 9, 'major': 'N'}, {'name': 'persons', 'value': 'Maduro, Nicolas', 'rank': 10, 'major': 'N'}, {'name': 'persons', 'value': 'Gonzalez, Edmundo (1949- )', 'rank': 11, 'major': 'N'}, {'name': 'persons', 'value': 'Machado, Maria Corina', 'rank': 12, 'major': 'N'}]",
         "2024-09-01T04:01:27+0000",
         "article",
         "Foreign",
         "World",
         "{'original': 'By Frances Robles and Marian Carrasquero', 'person': [{'firstname': 'Frances', 'middlename': None, 'lastname': 'Robles', 'qualifier': None, 'title': None, 'role': 'reported', 'organization': '', 'rank': 1}, {'firstname': 'Marian', 'middlename': None, 'lastname': 'Carrasquero', 'qualifier': None, 'title': None, 'role': 'reported', 'organization': '', 'rank': 2}], 'organization': None}",
         "News",
         "nyt://article/42c0d0f2-ea62-5d2b-8eba-baa04180adea",
         "1460",
         "nyt://article/42c0d0f2-ea62-5d2b-8eba-baa04180adea",
         "Americas"
        ],
        [
         "3",
         "3",
         "Israel and Hamas agreed to pause the war to permit the vaccination of 640,000 children in Gaza, a daunting effort for health workers.",
         "https://www.nytimes.com/2024/09/01/world/middleeast/gaza-polio-vaccine.html",
         "Israel and Hamas agreed to pause the war to permit the vaccination of 640,000 children in Gaza, a daunting effort for health workers.",
         "Health workers on Sunday began a polio vaccination drive in Gaza aimed at preventing an outbreak of the quick-spreading disease — a daunting challenge in a besieged enclave shattered by 10 months of war and dependent on commitments by Israel and Hamas to abide by pledged “humanitarian pauses.”",
         "A",
         "1.0",
         "The New York Times",
         "[]",
         "{'main': 'In Race Against Polio, Gaza Begins Vaccination Drive', 'kicker': None, 'content_kicker': None, 'print_headline': 'In Gaza, a Race to Halt Polio’s Spread in the War’s Fleeting Pauses', 'name': None, 'seo': None, 'sub': None}",
         "[{'name': 'subject', 'value': 'Israel-Gaza War (2023- )', 'rank': 1, 'major': 'N'}, {'name': 'subject', 'value': 'Vaccination and Immunization', 'rank': 2, 'major': 'N'}, {'name': 'subject', 'value': 'Palestinians', 'rank': 3, 'major': 'N'}, {'name': 'organizations', 'value': 'World Health Organization', 'rank': 4, 'major': 'N'}, {'name': 'organizations', 'value': 'United Nations', 'rank': 5, 'major': 'N'}, {'name': 'organizations', 'value': 'Hamas', 'rank': 6, 'major': 'N'}, {'name': 'glocations', 'value': 'Israel', 'rank': 7, 'major': 'N'}, {'name': 'subject', 'value': 'Poliomyelitis', 'rank': 8, 'major': 'N'}, {'name': 'subject', 'value': 'Children and Childhood', 'rank': 9, 'major': 'N'}]",
         "2024-09-01T04:01:43+0000",
         "article",
         "Foreign",
         "World",
         "{'original': 'By Bilal Shbair, Erika Solomon and Hiba Yazbek', 'person': [{'firstname': 'Bilal', 'middlename': None, 'lastname': 'Shbair', 'qualifier': None, 'title': None, 'role': 'reported', 'organization': '', 'rank': 1}, {'firstname': 'Erika', 'middlename': None, 'lastname': 'Solomon', 'qualifier': None, 'title': None, 'role': 'reported', 'organization': '', 'rank': 2}, {'firstname': 'Hiba', 'middlename': None, 'lastname': 'Yazbek', 'qualifier': None, 'title': None, 'role': 'reported', 'organization': '', 'rank': 3}], 'organization': None}",
         "News",
         "nyt://article/6393c6c3-0e1f-5494-925d-165e7aafdefa",
         "1473",
         "nyt://article/6393c6c3-0e1f-5494-925d-165e7aafdefa",
         "Middle East"
        ],
        [
         "4",
         "4",
         "The prospect of a strong performance by the far-right Alternative for Germany party in two state elections is only one of the problems for Chancellor Olaf Scholz.",
         "https://www.nytimes.com/2024/09/01/world/europe/east-german-state-elections.html",
         "The prospect of a strong performance by the far-right Alternative for Germany party in two state elections is only one of the problems for Chancellor Olaf Scholz.",
         "On Sunday, voters in the eastern German states of Saxony and Thuringia go to the polls in elections that are being carefully watched in Berlin and across Europe, in part because the far-right Alternative for Germany party is poised to do well in one or both elections.",
         null,
         null,
         "The New York Times",
         "[{'rank': 0, 'subtype': 'xlarge', 'caption': None, 'credit': None, 'type': 'image', 'url': 'images/2024/09/01/multimedia/01germany-election-explainer-1-fhqz/01germany-election-explainer-1-fhqz-articleLarge.jpg', 'height': 399, 'width': 600, 'subType': 'xlarge', 'crop_name': 'articleLarge', 'legacy': {'xlarge': 'images/2024/09/01/multimedia/01germany-election-explainer-1-fhqz/01germany-election-explainer-1-fhqz-articleLarge.jpg', 'xlargewidth': 600, 'xlargeheight': 399}}, {'rank': 0, 'subtype': 'jumbo', 'caption': None, 'credit': None, 'type': 'image', 'url': 'images/2024/09/01/multimedia/01germany-election-explainer-1-fhqz/01germany-election-explainer-1-fhqz-jumbo.jpg', 'height': 681, 'width': 1024, 'subType': 'jumbo', 'crop_name': 'jumbo', 'legacy': {}}, {'rank': 0, 'subtype': 'superJumbo', 'caption': None, 'credit': None, 'type': 'image', 'url': 'images/2024/09/01/multimedia/01germany-election-explainer-1-fhqz/01germany-election-explainer-1-fhqz-superJumbo.jpg', 'height': 1363, 'width': 2048, 'subType': 'superJumbo', 'crop_name': 'superJumbo', 'legacy': {}}, {'rank': 0, 'subtype': 'thumbnail', 'caption': None, 'credit': None, 'type': 'image', 'url': 'images/2024/09/01/multimedia/01germany-election-explainer-1-fhqz/01germany-election-explainer-1-fhqz-thumbStandard.jpg', 'height': 75, 'width': 75, 'subType': 'thumbnail', 'crop_name': 'thumbStandard', 'legacy': {'thumbnail': 'images/2024/09/01/multimedia/01germany-election-explainer-1-fhqz/01germany-election-explainer-1-fhqz-thumbStandard.jpg', 'thumbnailwidth': 75, 'thumbnailheight': 75}}, {'rank': 0, 'subtype': 'thumbLarge', 'caption': None, 'credit': None, 'type': 'image', 'url': 'images/2024/09/01/multimedia/01germany-election-explainer-1-fhqz/01germany-election-explainer-1-fhqz-thumbLarge.jpg', 'height': 150, 'width': 150, 'subType': 'thumbLarge', 'crop_name': 'thumbLarge', 'legacy': {}}]",
         "{'main': 'What to Watch For in East German State Elections on Sunday', 'kicker': None, 'content_kicker': None, 'print_headline': '', 'name': None, 'seo': None, 'sub': None}",
         "[{'name': 'glocations', 'value': 'Germany', 'rank': 1, 'major': 'N'}, {'name': 'subject', 'value': 'Elections, State Legislature', 'rank': 2, 'major': 'N'}, {'name': 'glocations', 'value': 'SAXONY (GERMANY)', 'rank': 3, 'major': 'N'}, {'name': 'glocations', 'value': 'THURINGIA (GERMANY)', 'rank': 4, 'major': 'N'}, {'name': 'organizations', 'value': 'Alternative for Germany', 'rank': 5, 'major': 'N'}, {'name': 'organizations', 'value': 'Christian Democratic Union (Germany)', 'rank': 6, 'major': 'N'}, {'name': 'organizations', 'value': 'Sahra Wagenknecht Alliance (BSW)', 'rank': 7, 'major': 'N'}, {'name': 'subject', 'value': 'Right-Wing Extremism and Alt-Right', 'rank': 8, 'major': 'N'}, {'name': 'subject', 'value': 'Politics and Government', 'rank': 9, 'major': 'N'}, {'name': 'persons', 'value': 'Scholz, Olaf (1958- )', 'rank': 10, 'major': 'N'}, {'name': 'subject', 'value': 'Elections', 'rank': 11, 'major': 'N'}]",
         "2024-09-01T04:01:43+0000",
         "article",
         "Foreign",
         "World",
         "{'original': 'By Christopher F. Schuetze', 'person': [{'firstname': 'Christopher', 'middlename': 'F.', 'lastname': 'Schuetze', 'qualifier': None, 'title': None, 'role': 'reported', 'organization': '', 'rank': 1}], 'organization': None}",
         "News",
         "nyt://article/fe046102-78e5-530d-89e0-59ff09c0e2e4",
         "812",
         "nyt://article/fe046102-78e5-530d-89e0-59ff09c0e2e4",
         "Europe"
        ],
        [
         "5",
         "5",
         "Corrections that appeared in print on Sunday, Sept. 1, 2024.",
         "https://www.nytimes.com/2024/09/01/pageoneplus/corrections-sept-1-2024.html",
         "Corrections that appeared in print on Sunday, Sept. 1, 2024.",
         "An article last Sunday about the video game designer Xalavier Nelson Jr. misidentified some of the countries where Nelson has lived. They are South Korea, Italy and Germany, not France, Australia and Mexico. The article also misstated an element from the Book of Leviticus that Nelson cited as inspiration for a possible cooking game. He was referring to the text’s “goats,” not “ghosts.”",
         "A",
         "13.0",
         "The New York Times",
         "[]",
         "{'main': 'Corrections: Sept. 1, 2024', 'kicker': None, 'content_kicker': None, 'print_headline': 'Corrections', 'name': None, 'seo': None, 'sub': None}",
         "[]",
         "2024-09-01T04:02:34+0000",
         "article",
         "Corrections",
         "Corrections",
         "{'original': '', 'person': [], 'organization': None}",
         "News",
         "nyt://article/9747f7eb-e1c0-5709-846c-e7128215e78f",
         "247",
         "nyt://article/9747f7eb-e1c0-5709-846c-e7128215e78f",
         null
        ],
        [
         "6",
         "6",
         "Quotation of the Day for Sunday, September 1, 2024.",
         "https://www.nytimes.com/2024/09/01/pageoneplus/quotation-of-the-day-colorado-to-move-wolves-after-animal-attacks.html",
         "Quotation of the Day for Sunday, September 1, 2024.",
         "“If a wolf wanders in and kills a cow or calf, that’s tolerable. But when they set up camp and repeatedly depredate on livestock, that’s the problem.”",
         "A",
         "2.0",
         "The New York Times",
         "[]",
         "{'main': 'Quotation of the Day: Colorado to Move Wolves After Animal Attacks', 'kicker': None, 'content_kicker': None, 'print_headline': 'Quote of the Day', 'name': None, 'seo': None, 'sub': None}",
         "[]",
         "2024-09-01T04:04:10+0000",
         "article",
         "Summary",
         "Corrections",
         "{'original': '', 'person': [], 'organization': None}",
         "News",
         "nyt://article/1830dce5-7ba0-5cfb-92a2-fe701642e831",
         "53",
         "nyt://article/1830dce5-7ba0-5cfb-92a2-fe701642e831",
         null
        ],
        [
         "7",
         "7",
         "One of the victims, Hersh Goldberg-Polin, was a dual Israeli American citizen.",
         "https://www.nytimes.com/2024/09/01/world/middleeast/hersh-goldberg-polin-hostage-gaza.html",
         "One of the victims, Hersh Goldberg-Polin, was a dual Israeli American citizen.",
         "The Israeli military said on Sunday that six bodies found in Gaza were hostages who had been “brutally murdered” by Hamas, setting off a wave of nationwide grief mixed with anger.",
         null,
         null,
         "The New York Times",
         "[{'rank': 0, 'subtype': 'xlarge', 'caption': None, 'credit': None, 'type': 'image', 'url': 'images/2024/09/01/multimedia/01mideast-crisis-hostages-jkzh/01mideast-crisis-hostages-jkzh-articleLarge.jpg', 'height': 398, 'width': 600, 'subType': 'xlarge', 'crop_name': 'articleLarge', 'legacy': {'xlarge': 'images/2024/09/01/multimedia/01mideast-crisis-hostages-jkzh/01mideast-crisis-hostages-jkzh-articleLarge.jpg', 'xlargewidth': 600, 'xlargeheight': 398}}, {'rank': 0, 'subtype': 'jumbo', 'caption': None, 'credit': None, 'type': 'image', 'url': 'images/2024/09/01/multimedia/01mideast-crisis-hostages-jkzh/01mideast-crisis-hostages-jkzh-jumbo.jpg', 'height': 679, 'width': 1024, 'subType': 'jumbo', 'crop_name': 'jumbo', 'legacy': {}}, {'rank': 0, 'subtype': 'superJumbo', 'caption': None, 'credit': None, 'type': 'image', 'url': 'images/2024/09/01/multimedia/01mideast-crisis-hostages-jkzh/01mideast-crisis-hostages-jkzh-superJumbo.jpg', 'height': 1357, 'width': 2048, 'subType': 'superJumbo', 'crop_name': 'superJumbo', 'legacy': {}}, {'rank': 0, 'subtype': 'thumbnail', 'caption': None, 'credit': None, 'type': 'image', 'url': 'images/2024/09/01/multimedia/01mideast-crisis-hostages-jkzh/01mideast-crisis-hostages-jkzh-thumbStandard.jpg', 'height': 75, 'width': 75, 'subType': 'thumbnail', 'crop_name': 'thumbStandard', 'legacy': {'thumbnail': 'images/2024/09/01/multimedia/01mideast-crisis-hostages-jkzh/01mideast-crisis-hostages-jkzh-thumbStandard.jpg', 'thumbnailwidth': 75, 'thumbnailheight': 75}}, {'rank': 0, 'subtype': 'thumbLarge', 'caption': None, 'credit': None, 'type': 'image', 'url': 'images/2024/09/01/multimedia/01mideast-crisis-hostages-jkzh/01mideast-crisis-hostages-jkzh-thumbLarge.jpg', 'height': 150, 'width': 150, 'subType': 'thumbLarge', 'crop_name': 'thumbLarge', 'legacy': {}}]",
         "{'main': 'Israel’s Military Says Hostages Were Killed by Hamas Shortly Before Being Found', 'kicker': None, 'content_kicker': None, 'print_headline': '', 'name': None, 'seo': None, 'sub': None}",
         "[{'name': 'persons', 'value': 'Goldberg-Polin, Hersh', 'rank': 1, 'major': 'N'}, {'name': 'subject', 'value': 'Israel-Gaza War (2023- )', 'rank': 2, 'major': 'N'}, {'name': 'subject', 'value': 'Kidnapping and Hostages', 'rank': 3, 'major': 'N'}, {'name': 'subject', 'value': 'Murders, Attempted Murders and Homicides', 'rank': 4, 'major': 'N'}, {'name': 'subject', 'value': 'War Crimes, Genocide and Crimes Against Humanity', 'rank': 5, 'major': 'N'}, {'name': 'glocations', 'value': 'Gaza Strip', 'rank': 6, 'major': 'N'}, {'name': 'glocations', 'value': 'Israel', 'rank': 7, 'major': 'N'}, {'name': 'organizations', 'value': 'Hamas', 'rank': 8, 'major': 'N'}]",
         "2024-09-01T04:17:40+0000",
         "article",
         "Foreign",
         "World",
         "{'original': 'By Vivek Shankar and Gabby Sobelman', 'person': [{'firstname': 'Vivek', 'middlename': None, 'lastname': 'Shankar', 'qualifier': None, 'title': None, 'role': 'reported', 'organization': '', 'rank': 1}, {'firstname': 'Gabby', 'middlename': None, 'lastname': 'Sobelman', 'qualifier': None, 'title': None, 'role': 'reported', 'organization': '', 'rank': 2}], 'organization': None}",
         "News",
         "nyt://article/8c93a8fe-604e-5c56-b025-18fe292ef016",
         "566",
         "nyt://article/8c93a8fe-604e-5c56-b025-18fe292ef016",
         "Middle East"
        ],
        [
         "8",
         "8",
         "Sadness is a natural response to the passing of summer. We need to cope with small griefs using mechanisms similar to those we’d use for large griefs.",
         "https://www.nytimes.com/2024/09/01/opinion/summer-sadness-grief-seasons.html",
         "Sadness is a natural response to the passing of summer. We need to cope with small griefs using mechanisms similar to those we’d use for large griefs.",
         "It comes gradually at first, then, like the Hemingway-ism, suddenly. Beach chairs fold up. Kayaks return to garages. Speculative camping trips remain just that. The plans and possibilities of summer cease.",
         "SR",
         "10.0",
         "The New York Times",
         "[{'rank': 0, 'subtype': 'xlarge', 'caption': None, 'credit': None, 'type': 'image', 'url': 'images/2024/09/02/opinion/02delistray/02delistray-articleLarge.jpg', 'height': 480, 'width': 600, 'subType': 'xlarge', 'crop_name': 'articleLarge', 'legacy': {'xlarge': 'images/2024/09/02/opinion/02delistray/02delistray-articleLarge.jpg', 'xlargewidth': 600, 'xlargeheight': 480}}, {'rank': 0, 'subtype': 'jumbo', 'caption': None, 'credit': None, 'type': 'image', 'url': 'images/2024/09/02/opinion/02delistray/02delistray-jumbo.jpg', 'height': 819, 'width': 1024, 'subType': 'jumbo', 'crop_name': 'jumbo', 'legacy': {}}, {'rank': 0, 'subtype': 'superJumbo', 'caption': None, 'credit': None, 'type': 'image', 'url': 'images/2024/09/02/opinion/02delistray/02delistray-superJumbo.jpg', 'height': 1638, 'width': 2048, 'subType': 'superJumbo', 'crop_name': 'superJumbo', 'legacy': {}}, {'rank': 0, 'subtype': 'thumbnail', 'caption': None, 'credit': None, 'type': 'image', 'url': 'images/2024/09/02/opinion/02delistray/02delistray-thumbStandard.jpg', 'height': 75, 'width': 75, 'subType': 'thumbnail', 'crop_name': 'thumbStandard', 'legacy': {'thumbnail': 'images/2024/09/02/opinion/02delistray/02delistray-thumbStandard.jpg', 'thumbnailwidth': 75, 'thumbnailheight': 75}}, {'rank': 0, 'subtype': 'thumbLarge', 'caption': None, 'credit': None, 'type': 'image', 'url': 'images/2024/09/02/opinion/02delistray/02delistray-thumbLarge.jpg', 'height': 150, 'width': 150, 'subType': 'thumbLarge', 'crop_name': 'thumbLarge', 'legacy': {}}]",
         "{'main': 'How Should We Mourn the End of Summer?', 'kicker': 'Guest Essay', 'content_kicker': None, 'print_headline': 'How Should We Mourn  The End of Summer?', 'name': None, 'seo': None, 'sub': None}",
         "[{'name': 'subject', 'value': 'Summer (Season)', 'rank': 1, 'major': 'N'}, {'name': 'subject', 'value': 'Grief (Emotion)', 'rank': 2, 'major': 'N'}]",
         "2024-09-01T05:00:10+0000",
         "article",
         "OpEd",
         "Opinion",
         "{'original': 'By Cody Delistraty', 'person': [{'firstname': 'Cody', 'middlename': None, 'lastname': 'Delistraty', 'qualifier': None, 'title': None, 'role': 'reported', 'organization': '', 'rank': 1}], 'organization': None}",
         "Op-Ed",
         "nyt://article/9769ca02-f34f-50b8-98ce-a3bdb8e2d352",
         "943",
         "nyt://article/9769ca02-f34f-50b8-98ce-a3bdb8e2d352",
         null
        ],
        [
         "9",
         "9",
         "Feeling stuck on today’s puzzle? We can help.",
         "https://www.nytimes.com/2024/09/01/crosswords/spelling-bee-forum.html",
         "Feeling stuck on today’s puzzle? We can help.",
         "Hi busy bees! Welcome to today’s Spelling Bee forum. There are a number of terms that appear in both this article and other online discussions of the Spelling Bee; a glossary of those terms compiled by Monicat, a Times reader, can be found below.",
         null,
         null,
         "The New York Times",
         "[{'rank': 0, 'subtype': 'xlarge', 'caption': None, 'credit': None, 'type': 'image', 'url': 'images/2024/09/01/crosswords/01bee-forum/01bee-forum-articleLarge.jpg', 'height': 338, 'width': 600, 'subType': 'xlarge', 'crop_name': 'articleLarge', 'legacy': {'xlarge': 'images/2024/09/01/crosswords/01bee-forum/01bee-forum-articleLarge.jpg', 'xlargewidth': 600, 'xlargeheight': 338}}, {'rank': 0, 'subtype': 'jumbo', 'caption': None, 'credit': None, 'type': 'image', 'url': 'images/2024/09/01/crosswords/01bee-forum/01bee-forum-jumbo.jpg', 'height': 576, 'width': 1024, 'subType': 'jumbo', 'crop_name': 'jumbo', 'legacy': {}}, {'rank': 0, 'subtype': 'superJumbo', 'caption': None, 'credit': None, 'type': 'image', 'url': 'images/2024/09/01/crosswords/01bee-forum/01bee-forum-superJumbo.jpg', 'height': 576, 'width': 1024, 'subType': 'superJumbo', 'crop_name': 'superJumbo', 'legacy': {}}, {'rank': 0, 'subtype': 'thumbnail', 'caption': None, 'credit': None, 'type': 'image', 'url': 'images/2024/09/01/crosswords/01bee-forum/01bee-forum-thumbStandard.jpg', 'height': 75, 'width': 75, 'subType': 'thumbnail', 'crop_name': 'thumbStandard', 'legacy': {'thumbnail': 'images/2024/09/01/crosswords/01bee-forum/01bee-forum-thumbStandard.jpg', 'thumbnailwidth': 75, 'thumbnailheight': 75}}, {'rank': 0, 'subtype': 'thumbLarge', 'caption': None, 'credit': None, 'type': 'image', 'url': 'images/2024/09/01/crosswords/01bee-forum/01bee-forum-thumbLarge.jpg', 'height': 150, 'width': 150, 'subType': 'thumbLarge', 'crop_name': 'thumbLarge', 'legacy': {}}]",
         "{'main': 'Spelling Bee Forum', 'kicker': None, 'content_kicker': None, 'print_headline': '', 'name': None, 'seo': None, 'sub': None}",
         "[{'name': 'creative_works', 'value': 'Spelling Bee (Game)', 'rank': 1, 'major': 'N'}, {'name': 'subject', 'value': 'Crossword Puzzles', 'rank': 2, 'major': 'N'}]",
         "2024-09-01T07:00:03+0000",
         "article",
         "Games",
         "Crosswords & Games",
         "{'original': 'By New York Times Games', 'person': [], 'organization': 'The New York Times'}",
         "News",
         "nyt://article/228507db-644f-5e85-aaa8-867ca6b7d4c5",
         "220",
         "nyt://article/228507db-644f-5e85-aaa8-867ca6b7d4c5",
         null
        ],
        [
         "10",
         "10",
         "Nearly five million Lego pieces plunged into the sea in 1997. The pieces are still showing up — on England’s coast, in Ireland, Belgium, France and possibly at the beach near you.",
         "https://www.nytimes.com/2024/09/01/world/europe/1997-lego-spill.html",
         "Nearly five million Lego pieces plunged into the sea in 1997. The pieces are still showing up — on England’s coast, in Ireland, Belgium, France and possibly at the beach near you.",
         "On a miserable, drizzly day in late June, Hayley Hardstaff, a marine biologist, took a walk along Portwrinkle Beach in Cornwall, England, and discovered a dragon. It was a Lego piece — black, plastic and missing its upper jaw.",
         "A",
         "1.0",
         "The New York Times",
         "[{'rank': 0, 'subtype': 'xlarge', 'caption': None, 'credit': None, 'type': 'image', 'url': 'images/2024/08/14/multimedia/00xp-legobeach-01-lwmj/00xp-legobeach-01-lwmj-articleLarge.jpg', 'height': 400, 'width': 600, 'subType': 'xlarge', 'crop_name': 'articleLarge', 'legacy': {'xlarge': 'images/2024/08/14/multimedia/00xp-legobeach-01-lwmj/00xp-legobeach-01-lwmj-articleLarge.jpg', 'xlargewidth': 600, 'xlargeheight': 400}}, {'rank': 0, 'subtype': 'jumbo', 'caption': None, 'credit': None, 'type': 'image', 'url': 'images/2024/08/14/multimedia/00xp-legobeach-01-lwmj/00xp-legobeach-01-lwmj-jumbo.jpg', 'height': 683, 'width': 1024, 'subType': 'jumbo', 'crop_name': 'jumbo', 'legacy': {}}, {'rank': 0, 'subtype': 'superJumbo', 'caption': None, 'credit': None, 'type': 'image', 'url': 'images/2024/08/14/multimedia/00xp-legobeach-01-lwmj/00xp-legobeach-01-lwmj-superJumbo.jpg', 'height': 1365, 'width': 2048, 'subType': 'superJumbo', 'crop_name': 'superJumbo', 'legacy': {}}, {'rank': 0, 'subtype': 'thumbnail', 'caption': None, 'credit': None, 'type': 'image', 'url': 'images/2024/08/14/multimedia/00xp-legobeach-01-lwmj/00xp-legobeach-01-lwmj-thumbStandard.jpg', 'height': 75, 'width': 75, 'subType': 'thumbnail', 'crop_name': 'thumbStandard', 'legacy': {'thumbnail': 'images/2024/08/14/multimedia/00xp-legobeach-01-lwmj/00xp-legobeach-01-lwmj-thumbStandard.jpg', 'thumbnailwidth': 75, 'thumbnailheight': 75}}, {'rank': 0, 'subtype': 'thumbLarge', 'caption': None, 'credit': None, 'type': 'image', 'url': 'images/2024/08/14/multimedia/00xp-legobeach-01-lwmj/00xp-legobeach-01-lwmj-thumbLarge.jpg', 'height': 150, 'width': 150, 'subType': 'thumbLarge', 'crop_name': 'thumbLarge', 'legacy': {}}]",
         "{'main': 'Dragons and Sharks on a Beach Near You: The Story of the Great Lego Spill', 'kicker': None, 'content_kicker': None, 'print_headline': 'From the Sea, Thousands Creep to Land in the Epoch of the Great Lego Spill', 'name': None, 'seo': None, 'sub': None}",
         "[{'name': 'organizations', 'value': 'Lego Group', 'rank': 1, 'major': 'N'}, {'name': 'subject', 'value': 'Maritime Accidents and Safety', 'rank': 2, 'major': 'N'}, {'name': 'glocations', 'value': 'Cornwall (England)', 'rank': 3, 'major': 'N'}, {'name': 'subject', 'value': 'Water Pollution', 'rank': 4, 'major': 'N'}, {'name': 'subject', 'value': 'Toys', 'rank': 5, 'major': 'N'}, {'name': 'subject', 'value': 'Plastics', 'rank': 6, 'major': 'N'}, {'name': 'subject', 'value': 'Beaches', 'rank': 7, 'major': 'N'}, {'name': 'subject', 'value': 'Freight (Cargo)', 'rank': 8, 'major': 'N'}, {'name': 'subject', 'value': 'Ships and Shipping', 'rank': 9, 'major': 'N'}, {'name': 'subject', 'value': 'Fish and Other Marine Life', 'rank': 10, 'major': 'N'}, {'name': 'subject', 'value': 'Social Media', 'rank': 11, 'major': 'N'}, {'name': 'glocations', 'value': 'England', 'rank': 12, 'major': 'N'}, {'name': 'subject', 'value': 'Oceans and Seas', 'rank': 13, 'major': 'N'}, {'name': 'subject', 'value': 'audio-positive-escape', 'rank': 14, 'major': 'N'}, {'name': 'subject', 'value': 'audio-positive-happy', 'rank': 15, 'major': 'N'}, {'name': 'subject', 'value': 'audio-positive-nostalgic', 'rank': 16, 'major': 'N'}, {'name': 'subject', 'value': 'audio-neutral-informative', 'rank': 17, 'major': 'N'}, {'name': 'subject', 'value': 'audio-neutral-immersive', 'rank': 18, 'major': 'N'}]",
         "2024-09-01T07:00:23+0000",
         "article",
         "Express",
         "World",
         "{'original': 'By Aimee Ortiz', 'person': [{'firstname': 'Aimee', 'middlename': None, 'lastname': 'Ortiz', 'qualifier': None, 'title': None, 'role': 'reported', 'organization': '', 'rank': 1}], 'organization': None}",
         "News",
         "nyt://article/edc82925-6f3f-547b-be6a-bb0c66c5a6ac",
         "1315",
         "nyt://article/edc82925-6f3f-547b-be6a-bb0c66c5a6ac",
         "Europe"
        ],
        [
         "11",
         "11",
         "A brisk April day in Manhattan, an overdue introduction on the F and more reader tales of New York City in this week’s Metropolitan Diary.",
         "https://www.nytimes.com/2024/09/01/nyregion/metropolitan-diary.html",
         "A brisk April day in Manhattan, an overdue introduction on the F and more reader tales of New York City in this week’s Metropolitan Diary.",
         "Dear Diary:",
         "MB",
         "6.0",
         "The New York Times",
         "[{'rank': 0, 'subtype': 'xlarge', 'caption': None, 'credit': None, 'type': 'image', 'url': 'images/2024/09/01/nyregion/01diary-illos/01diary-illos-articleLarge.jpg', 'height': 566, 'width': 600, 'subType': 'xlarge', 'crop_name': 'articleLarge', 'legacy': {'xlarge': 'images/2024/09/01/nyregion/01diary-illos/01diary-illos-articleLarge.jpg', 'xlargewidth': 600, 'xlargeheight': 566}}, {'rank': 0, 'subtype': 'jumbo', 'caption': None, 'credit': None, 'type': 'image', 'url': 'images/2024/09/01/nyregion/01diary-illos/01diary-illos-jumbo.jpg', 'height': 922, 'width': 977, 'subType': 'jumbo', 'crop_name': 'jumbo', 'legacy': {}}, {'rank': 0, 'subtype': 'superJumbo', 'caption': None, 'credit': None, 'type': 'image', 'url': 'images/2024/09/01/nyregion/01diary-illos/01diary-illos-superJumbo.jpg', 'height': 922, 'width': 977, 'subType': 'superJumbo', 'crop_name': 'superJumbo', 'legacy': {}}, {'rank': 0, 'subtype': 'thumbnail', 'caption': None, 'credit': None, 'type': 'image', 'url': 'images/2024/09/01/nyregion/01diary-illos/01diary-illos-thumbStandard.jpg', 'height': 75, 'width': 75, 'subType': 'thumbnail', 'crop_name': 'thumbStandard', 'legacy': {'thumbnail': 'images/2024/09/01/nyregion/01diary-illos/01diary-illos-thumbStandard.jpg', 'thumbnailwidth': 75, 'thumbnailheight': 75}}, {'rank': 0, 'subtype': 'thumbLarge', 'caption': None, 'credit': None, 'type': 'image', 'url': 'images/2024/09/01/nyregion/01diary-illos/01diary-illos-thumbLarge.jpg', 'height': 150, 'width': 150, 'subType': 'thumbLarge', 'crop_name': 'thumbLarge', 'legacy': {}}]",
         "{'main': '‘His Expression Suggested He Was Trying to Solve a Puzzle’', 'kicker': 'METROPOLITAN DIARY', 'content_kicker': None, 'print_headline': '', 'name': None, 'seo': None, 'sub': None}",
         "[{'name': 'glocations', 'value': 'New York City', 'rank': 1, 'major': 'N'}]",
         "2024-09-01T07:00:23+0000",
         "article",
         "Metropolitan",
         "New York",
         "{'original': '', 'person': [], 'organization': None}",
         "News",
         "nyt://article/fbd74938-d198-5111-a322-256674eeb1d0",
         "824",
         "nyt://article/fbd74938-d198-5111-a322-256674eeb1d0",
         null
        ],
        [
         "12",
         "12",
         "A brass pendant light once hung in the lobby of the newspaper’s former headquarters.",
         "https://www.nytimes.com/2024/09/01/insider/a-fixture-of-times-past.html",
         "A brass pendant light once hung in the lobby of the newspaper’s former headquarters.",
         "If you have ever pried parents from a house in which they lived for decades, you’ll have a sense of what it was like in 2007 when The New York Times moved from 229 West 43rd Street, its home since 1913, to 620 Eighth Avenue, where it is today.",
         "A",
         "3.0",
         "The New York Times",
         "[{'rank': 0, 'subtype': 'xlarge', 'caption': None, 'credit': None, 'type': 'image', 'url': 'images/2024/09/01/pageoneplus/01a3_InTimesPast/01a3_InTimesPast-articleLarge.jpg', 'height': 934, 'width': 600, 'subType': 'xlarge', 'crop_name': 'articleLarge', 'legacy': {'xlarge': 'images/2024/09/01/pageoneplus/01a3_InTimesPast/01a3_InTimesPast-articleLarge.jpg', 'xlargewidth': 600, 'xlargeheight': 934}}, {'rank': 0, 'subtype': 'jumbo', 'caption': None, 'credit': None, 'type': 'image', 'url': 'images/2024/09/01/pageoneplus/01a3_InTimesPast/01a3_InTimesPast-jumbo.jpg', 'height': 1024, 'width': 658, 'subType': 'jumbo', 'crop_name': 'jumbo', 'legacy': {}}, {'rank': 0, 'subtype': 'superJumbo', 'caption': None, 'credit': None, 'type': 'image', 'url': 'images/2024/09/01/pageoneplus/01a3_InTimesPast/01a3_InTimesPast-superJumbo.jpg', 'height': 2048, 'width': 1316, 'subType': 'superJumbo', 'crop_name': 'superJumbo', 'legacy': {}}, {'rank': 0, 'subtype': 'thumbnail', 'caption': None, 'credit': None, 'type': 'image', 'url': 'images/2024/09/01/pageoneplus/01a3_InTimesPast/01a3_InTimesPast-thumbStandard.jpg', 'height': 75, 'width': 75, 'subType': 'thumbnail', 'crop_name': 'thumbStandard', 'legacy': {'thumbnail': 'images/2024/09/01/pageoneplus/01a3_InTimesPast/01a3_InTimesPast-thumbStandard.jpg', 'thumbnailwidth': 75, 'thumbnailheight': 75}}, {'rank': 0, 'subtype': 'thumbLarge', 'caption': None, 'credit': None, 'type': 'image', 'url': 'images/2024/09/01/pageoneplus/01a3_InTimesPast/01a3_InTimesPast-thumbLarge.jpg', 'height': 150, 'width': 150, 'subType': 'thumbLarge', 'crop_name': 'thumbLarge', 'legacy': {}}]",
         "{'main': 'A Fixture of Times Past', 'kicker': 'In TIMES PAST', 'content_kicker': None, 'print_headline': '', 'name': None, 'seo': None, 'sub': None}",
         "[{'name': 'organizations', 'value': 'New York Times', 'rank': 1, 'major': 'N'}, {'name': 'glocations', 'value': 'Times Square and 42nd Street (Manhattan, NY)', 'rank': 2, 'major': 'N'}, {'name': 'glocations', 'value': 'Midtown Area (Manhattan, NY)', 'rank': 3, 'major': 'N'}]",
         "2024-09-01T07:00:35+0000",
         "article",
         "Summary",
         "Times Insider",
         "{'original': 'By David W. Dunlap', 'person': [{'firstname': 'David', 'middlename': 'W.', 'lastname': 'Dunlap', 'qualifier': None, 'title': None, 'role': 'reported', 'organization': '', 'rank': 1}], 'organization': None}",
         "News",
         "nyt://article/6b7f2395-9c71-5f1f-bbd0-4a0aebf6cd1e",
         "424",
         "nyt://article/6b7f2395-9c71-5f1f-bbd0-4a0aebf6cd1e",
         null
        ],
        [
         "13",
         "13",
         "Sal Strazzullo made a flashy career of representing minor celebrities and those in their orbit. His own affluence was a facade.",
         "https://www.nytimes.com/2024/09/01/nyregion/sal-strazzullo-brooklyn-lawyer-theft.html",
         "Sal Strazzullo made a flashy career of representing minor celebrities and those in their orbit. His own affluence was a facade.",
         "Sal Strazzullo, a Brooklyn lawyer, was the legal king of New York nightlife, with a client list that extended to nightclub proprietors, disc jockeys, exotic dancers and doormen.",
         "MB",
         "1.0",
         "The New York Times",
         "[{'rank': 0, 'subtype': 'xlarge', 'caption': None, 'credit': None, 'type': 'image', 'url': 'images/2024/09/08/nyregion/08nightlife-lawyer1-zhwm/00nightlife-lawyer1-zhwm-articleLarge.jpg', 'height': 400, 'width': 600, 'subType': 'xlarge', 'crop_name': 'articleLarge', 'legacy': {'xlarge': 'images/2024/09/08/nyregion/08nightlife-lawyer1-zhwm/00nightlife-lawyer1-zhwm-articleLarge.jpg', 'xlargewidth': 600, 'xlargeheight': 400}}, {'rank': 0, 'subtype': 'jumbo', 'caption': None, 'credit': None, 'type': 'image', 'url': 'images/2024/09/08/nyregion/08nightlife-lawyer1-zhwm/00nightlife-lawyer1-zhwm-jumbo.jpg', 'height': 683, 'width': 1024, 'subType': 'jumbo', 'crop_name': 'jumbo', 'legacy': {}}, {'rank': 0, 'subtype': 'superJumbo', 'caption': None, 'credit': None, 'type': 'image', 'url': 'images/2024/09/08/nyregion/08nightlife-lawyer1-zhwm/00nightlife-lawyer1-zhwm-superJumbo.jpg', 'height': 1365, 'width': 2048, 'subType': 'superJumbo', 'crop_name': 'superJumbo', 'legacy': {}}, {'rank': 0, 'subtype': 'thumbnail', 'caption': None, 'credit': None, 'type': 'image', 'url': 'images/2024/09/08/nyregion/08nightlife-lawyer1-zhwm/00nightlife-lawyer1-zhwm-thumbStandard.jpg', 'height': 75, 'width': 75, 'subType': 'thumbnail', 'crop_name': 'thumbStandard', 'legacy': {'thumbnail': 'images/2024/09/08/nyregion/08nightlife-lawyer1-zhwm/00nightlife-lawyer1-zhwm-thumbStandard.jpg', 'thumbnailwidth': 75, 'thumbnailheight': 75}}, {'rank': 0, 'subtype': 'thumbLarge', 'caption': None, 'credit': None, 'type': 'image', 'url': 'images/2024/09/08/nyregion/08nightlife-lawyer1-zhwm/00nightlife-lawyer1-zhwm-thumbLarge.jpg', 'height': 150, 'width': 150, 'subType': 'thumbLarge', 'crop_name': 'thumbLarge', 'legacy': {}}]",
         "{'main': 'The Undoing of New York Nightlife’s Lawyer King', 'kicker': None, 'content_kicker': None, 'print_headline': 'The Undoing of New York Nightlife’s Lawyer King', 'name': None, 'seo': None, 'sub': None}",
         "[{'name': 'persons', 'value': 'Strazzullo, Sal', 'rank': 1, 'major': 'N'}, {'name': 'subject', 'value': 'Bars and Nightclubs', 'rank': 2, 'major': 'N'}, {'name': 'subject', 'value': 'Robberies and Thefts', 'rank': 3, 'major': 'N'}, {'name': 'subject', 'value': 'Legal Profession', 'rank': 4, 'major': 'N'}, {'name': 'subject', 'value': 'Suits and Litigation (Civil)', 'rank': 5, 'major': 'N'}, {'name': 'subject', 'value': 'Ponzi and Pyramid Schemes', 'rank': 6, 'major': 'N'}, {'name': 'subject', 'value': 'Frauds and Swindling', 'rank': 7, 'major': 'N'}, {'name': 'persons', 'value': 'De La Hoya, Oscar', 'rank': 8, 'major': 'N'}, {'name': 'persons', 'value': 'Hay, R Couri', 'rank': 9, 'major': 'N'}, {'name': 'glocations', 'value': 'Bensonhurst (Brooklyn, NY)', 'rank': 10, 'major': 'N'}, {'name': 'subject', 'value': 'Content Type: Personal Profile', 'rank': 11, 'major': 'N'}]",
         "2024-09-01T07:00:35+0000",
         "article",
         "Metro",
         "New York",
         "{'original': 'By Maia Coleman', 'person': [{'firstname': 'Maia', 'middlename': None, 'lastname': 'Coleman', 'qualifier': None, 'title': None, 'role': 'reported', 'organization': '', 'rank': 1}], 'organization': None}",
         "News",
         "nyt://article/cfeb776c-7468-5f9c-96b1-cfee972d02be",
         "1734",
         "nyt://article/cfeb776c-7468-5f9c-96b1-cfee972d02be",
         null
        ],
        [
         "14",
         "14",
         "Senna, who is mixed-race, has made a career satirizing the lives of characters like her. Her new novel takes elements from her history and twists them to the extreme.",
         "https://www.nytimes.com/2024/09/01/books/danzy-senna-colored-television.html",
         "Senna, who is mixed-race, has made a career satirizing the lives of characters like her. Her new novel takes elements from her history and twists them to the extreme.",
         "Long before Zendaya was our biggest young movie star, before the Kardashians became an aesthetic and economic juggernaut and certainly before Barack Obama (let alone Kamala Harris) ascended the political ranks, the novelist Danzy Senna predicted we’d soon be living through what she called the Mulatto Millennium.",
         "AR",
         "70.0",
         "The New York Times",
         "[{'rank': 0, 'subtype': 'xlarge', 'caption': None, 'credit': None, 'type': 'image', 'url': 'images/2024/09/15/multimedia/15NEW-SENNA-01-zwlk/15NEW-SENNA-01-zwlk-articleLarge.jpg', 'height': 750, 'width': 600, 'subType': 'xlarge', 'crop_name': 'articleLarge', 'legacy': {'xlarge': 'images/2024/09/15/multimedia/15NEW-SENNA-01-zwlk/15NEW-SENNA-01-zwlk-articleLarge.jpg', 'xlargewidth': 600, 'xlargeheight': 750}}, {'rank': 0, 'subtype': 'jumbo', 'caption': None, 'credit': None, 'type': 'image', 'url': 'images/2024/09/15/multimedia/15NEW-SENNA-01-zwlk/15NEW-SENNA-01-zwlk-jumbo.jpg', 'height': 1024, 'width': 820, 'subType': 'jumbo', 'crop_name': 'jumbo', 'legacy': {}}, {'rank': 0, 'subtype': 'superJumbo', 'caption': None, 'credit': None, 'type': 'image', 'url': 'images/2024/09/15/multimedia/15NEW-SENNA-01-zwlk/15NEW-SENNA-01-zwlk-superJumbo.jpg', 'height': 1500, 'width': 1200, 'subType': 'superJumbo', 'crop_name': 'superJumbo', 'legacy': {}}, {'rank': 0, 'subtype': 'thumbnail', 'caption': None, 'credit': None, 'type': 'image', 'url': 'images/2024/09/15/multimedia/15NEW-SENNA-01-zwlk/15NEW-SENNA-01-zwlk-thumbStandard.jpg', 'height': 75, 'width': 75, 'subType': 'thumbnail', 'crop_name': 'thumbStandard', 'legacy': {'thumbnail': 'images/2024/09/15/multimedia/15NEW-SENNA-01-zwlk/15NEW-SENNA-01-zwlk-thumbStandard.jpg', 'thumbnailwidth': 75, 'thumbnailheight': 75}}, {'rank': 0, 'subtype': 'thumbLarge', 'caption': None, 'credit': None, 'type': 'image', 'url': 'images/2024/09/15/multimedia/15NEW-SENNA-01-zwlk/15NEW-SENNA-01-zwlk-thumbLarge.jpg', 'height': 150, 'width': 150, 'subType': 'thumbLarge', 'crop_name': 'thumbLarge', 'legacy': {}}]",
         "{'main': 'Some Consider Being Biracial a ‘Predicament.’ Danzy Senna Thinks It’s Hilarious.', 'kicker': 'Fall Preview', 'content_kicker': None, 'print_headline': 'Finding The  Funny In Race', 'name': None, 'seo': None, 'sub': None}",
         "[{'name': 'subject', 'value': 'Books and Literature', 'rank': 1, 'major': 'N'}, {'name': 'subject', 'value': 'Writing and Writers', 'rank': 2, 'major': 'N'}, {'name': 'subject', 'value': 'Content Type: Personal Profile', 'rank': 3, 'major': 'N'}, {'name': 'persons', 'value': 'Senna, Danzy', 'rank': 4, 'major': 'N'}, {'name': 'subject', 'value': 'Black People', 'rank': 5, 'major': 'N'}, {'name': 'subject', 'value': 'Blacks', 'rank': 6, 'major': 'N'}, {'name': 'subject', 'value': 'Race and Ethnicity', 'rank': 7, 'major': 'N'}, {'name': 'persons', 'value': 'Thompson, Tessa', 'rank': 8, 'major': 'N'}, {'name': 'persons', 'value': 'Everett, Percival', 'rank': 9, 'major': 'N'}, {'name': 'glocations', 'value': 'California', 'rank': 10, 'major': 'N'}]",
         "2024-09-01T09:00:18+0000",
         "article",
         "Arts&Leisure",
         "Books",
         "{'original': 'By Joumana Khatib', 'person': [{'firstname': 'Joumana', 'middlename': None, 'lastname': 'Khatib', 'qualifier': None, 'title': None, 'role': 'reported', 'organization': '', 'rank': 1}], 'organization': None}",
         "News",
         "nyt://article/d26bb35c-3a54-52d4-aa69-579404507e2f",
         "1580",
         "nyt://article/d26bb35c-3a54-52d4-aa69-579404507e2f",
         null
        ],
        [
         "15",
         "15",
         "Acadia Healthcare is holding people against their will to maximize insurance payouts, a Times investigation found.",
         "https://www.nytimes.com/2024/09/01/business/acadia-psychiatric-patients-trapped.html",
         "Acadia Healthcare is holding people against their will to maximize insurance payouts, a Times investigation found.",
         "Acadia Healthcare is one of America’s largest chains of psychiatric hospitals. Since the pandemic exacerbated a national mental health crisis, the company’s revenue has soared. Its stock price has more than doubled.",
         "A",
         "1.0",
         "The New York Times",
         "[{'rank': 0, 'subtype': 'xlarge', 'caption': None, 'credit': None, 'type': 'image', 'url': 'images/2024/08/26/multimedia/00acadia-01-jzfc/00acadia-01-jzfc-articleLarge.jpg', 'height': 450, 'width': 600, 'subType': 'xlarge', 'crop_name': 'articleLarge', 'legacy': {'xlarge': 'images/2024/08/26/multimedia/00acadia-01-jzfc/00acadia-01-jzfc-articleLarge.jpg', 'xlargewidth': 600, 'xlargeheight': 450}}, {'rank': 0, 'subtype': 'jumbo', 'caption': None, 'credit': None, 'type': 'image', 'url': 'images/2024/08/26/multimedia/00acadia-01-jzfc/00acadia-01-jzfc-jumbo.jpg', 'height': 768, 'width': 1024, 'subType': 'jumbo', 'crop_name': 'jumbo', 'legacy': {}}, {'rank': 0, 'subtype': 'superJumbo', 'caption': None, 'credit': None, 'type': 'image', 'url': 'images/2024/08/26/multimedia/00acadia-01-jzfc/00acadia-01-jzfc-superJumbo.jpg', 'height': 1536, 'width': 2048, 'subType': 'superJumbo', 'crop_name': 'superJumbo', 'legacy': {}}, {'rank': 0, 'subtype': 'thumbnail', 'caption': None, 'credit': None, 'type': 'image', 'url': 'images/2024/08/26/multimedia/00acadia-01-jzfc/00acadia-01-jzfc-thumbStandard.jpg', 'height': 75, 'width': 75, 'subType': 'thumbnail', 'crop_name': 'thumbStandard', 'legacy': {'thumbnail': 'images/2024/08/26/multimedia/00acadia-01-jzfc/00acadia-01-jzfc-thumbStandard.jpg', 'thumbnailwidth': 75, 'thumbnailheight': 75}}, {'rank': 0, 'subtype': 'thumbLarge', 'caption': None, 'credit': None, 'type': 'image', 'url': 'images/2024/08/26/multimedia/00acadia-01-jzfc/00acadia-01-jzfc-thumbLarge.jpg', 'height': 150, 'width': 150, 'subType': 'thumbLarge', 'crop_name': 'thumbLarge', 'legacy': {}}]",
         "{'main': 'How a Leading Chain of Psychiatric Hospitals Traps Patients', 'kicker': None, 'content_kicker': None, 'print_headline': 'Patients Held  Against Will  By Hospitals', 'name': None, 'seo': None, 'sub': None}",
         "[{'name': 'organizations', 'value': 'Acadia Healthcare Company Inc', 'rank': 1, 'major': 'N'}, {'name': 'subject', 'value': 'Hospitals', 'rank': 2, 'major': 'N'}, {'name': 'subject', 'value': 'Mental Health and Disorders', 'rank': 3, 'major': 'N'}, {'name': 'subject', 'value': 'Psychiatry and Psychiatrists', 'rank': 4, 'major': 'N'}, {'name': 'subject', 'value': 'Psychology and Psychologists', 'rank': 5, 'major': 'N'}, {'name': 'subject', 'value': 'Emergency Medical Treatment', 'rank': 6, 'major': 'N'}, {'name': 'subject', 'value': 'your-feed-healthcare', 'rank': 7, 'major': 'N'}, {'name': 'subject', 'value': 'Ethics and Official Misconduct', 'rank': 8, 'major': 'N'}, {'name': 'subject', 'value': 'Frauds and Swindling', 'rank': 9, 'major': 'N'}]",
         "2024-09-01T09:00:27+0000",
         "article",
         "Business",
         "Business Day",
         "{'original': 'By Jessica Silver-Greenberg and Katie Thomas', 'person': [{'firstname': 'Jessica', 'middlename': None, 'lastname': 'Silver-Greenberg', 'qualifier': None, 'title': None, 'role': 'reported', 'organization': '', 'rank': 1}, {'firstname': 'Katie', 'middlename': None, 'lastname': 'Thomas', 'qualifier': None, 'title': None, 'role': 'reported', 'organization': '', 'rank': 2}], 'organization': None}",
         "News",
         "nyt://article/e2328548-0053-5825-b964-0fa73bf8fa59",
         "2546",
         "nyt://article/e2328548-0053-5825-b964-0fa73bf8fa59",
         null
        ],
        [
         "16",
         "16",
         "Our columnist on new books from T.J. Newman, Andrea Mara and A.E. Gauntlett.",
         "https://www.nytimes.com/2024/09/01/books/review/new-thriller-novels.html",
         "Our columnist on new books from T.J. Newman, Andrea Mara and A.E. Gauntlett.",
         "Nobody wants to think there might be SOMEONE IN THE ATTIC (Pamela Dorman Books, 355 pp., $29). Andrea Mara’s latest book opens in Dublin as a woman named Anya finishes a bottle of wine, settles into her bath and hears an ominous rustling overhead. She doesn’t stand a chance. “Thirty seconds later, it’s over,” Mara writes.",
         "BR",
         "6.0",
         "The New York Times",
         "[{'rank': 0, 'subtype': 'xlarge', 'caption': None, 'credit': None, 'type': 'image', 'url': 'images/2024/08/28/books/review/THRILLERS-AUGUST/THRILLERS-AUGUST-articleLarge.jpg', 'height': 723, 'width': 600, 'subType': 'xlarge', 'crop_name': 'articleLarge', 'legacy': {'xlarge': 'images/2024/08/28/books/review/THRILLERS-AUGUST/THRILLERS-AUGUST-articleLarge.jpg', 'xlargewidth': 600, 'xlargeheight': 723}}, {'rank': 0, 'subtype': 'jumbo', 'caption': None, 'credit': None, 'type': 'image', 'url': 'images/2024/08/28/books/review/THRILLERS-AUGUST/THRILLERS-AUGUST-jumbo.jpg', 'height': 1024, 'width': 851, 'subType': 'jumbo', 'crop_name': 'jumbo', 'legacy': {}}, {'rank': 0, 'subtype': 'superJumbo', 'caption': None, 'credit': None, 'type': 'image', 'url': 'images/2024/08/28/books/review/THRILLERS-AUGUST/THRILLERS-AUGUST-superJumbo.jpg', 'height': 1897, 'width': 1575, 'subType': 'superJumbo', 'crop_name': 'superJumbo', 'legacy': {}}, {'rank': 0, 'subtype': 'thumbnail', 'caption': None, 'credit': None, 'type': 'image', 'url': 'images/2024/08/28/books/review/THRILLERS-AUGUST/THRILLERS-AUGUST-thumbStandard.jpg', 'height': 75, 'width': 75, 'subType': 'thumbnail', 'crop_name': 'thumbStandard', 'legacy': {'thumbnail': 'images/2024/08/28/books/review/THRILLERS-AUGUST/THRILLERS-AUGUST-thumbStandard.jpg', 'thumbnailwidth': 75, 'thumbnailheight': 75}}, {'rank': 0, 'subtype': 'thumbLarge', 'caption': None, 'credit': None, 'type': 'image', 'url': 'images/2024/08/28/books/review/THRILLERS-AUGUST/THRILLERS-AUGUST-thumbLarge.jpg', 'height': 150, 'width': 150, 'subType': 'thumbLarge', 'crop_name': 'thumbLarge', 'legacy': {}}]",
         "{'main': '3 Moody, Terror-Laced New Thrillers', 'kicker': 'Thrillers', 'content_kicker': None, 'print_headline': 'Unsavory Episodes', 'name': None, 'seo': None, 'sub': None}",
         "[{'name': 'subject', 'value': 'Books and Literature', 'rank': 1, 'major': 'N'}, {'name': 'subject', 'value': 'genre-books-thriller', 'rank': 2, 'major': 'N'}, {'name': 'persons', 'value': 'Newman, TJ (Author)', 'rank': 3, 'major': 'N'}]",
         "2024-09-01T09:00:36+0000",
         "article",
         "BookReview",
         "Books",
         "{'original': 'By Sarah Lyall', 'person': [{'firstname': 'Sarah', 'middlename': None, 'lastname': 'Lyall', 'qualifier': None, 'title': None, 'role': 'reported', 'organization': '', 'rank': 1}], 'organization': None}",
         "News",
         "nyt://article/14e704b7-e4c3-55c4-b1b1-755d4c7972b1",
         "837",
         "nyt://article/14e704b7-e4c3-55c4-b1b1-755d4c7972b1",
         "Book Review"
        ],
        [
         "17",
         "17",
         "Few things symbolize our national dysfunction as much as this accursed coin, which we mint by the millions because it’s too worthless to spend.",
         "https://www.nytimes.com/2024/09/01/magazine/worthless-pennies-united-states-economy.html",
         "Few things symbolize our national dysfunction as much as this accursed coin, which we mint by the millions because it’s too worthless to spend.",
         "I was disappointed to learn, recently, that the United States has created for itself a logistical problem so stupendously stupid, one cannot help wondering if it is wise to continue to allow this nation to supervise the design of its own holiday postage stamps, let alone preside over the administration of an extensive Interstate highway system or nuclear arsenal. It’s the dumbest thing I ever heard. I have come to think of it as the Perpetual Penny Paradox.",
         "MM",
         "26.0",
         "The New York Times",
         "[{'rank': 0, 'subtype': 'xlarge', 'caption': None, 'credit': None, 'type': 'image', 'url': 'images/2024/09/08/magazine/08mag-pennies-archival-02/08mag-pennies-archival-02-articleLarge.jpg', 'height': 769, 'width': 600, 'subType': 'xlarge', 'crop_name': 'articleLarge', 'legacy': {'xlarge': 'images/2024/09/08/magazine/08mag-pennies-archival-02/08mag-pennies-archival-02-articleLarge.jpg', 'xlargewidth': 600, 'xlargeheight': 769}}, {'rank': 0, 'subtype': 'jumbo', 'caption': None, 'credit': None, 'type': 'image', 'url': 'images/2024/09/08/magazine/08mag-pennies-archival-02/08mag-pennies-archival-02-jumbo.jpg', 'height': 1024, 'width': 799, 'subType': 'jumbo', 'crop_name': 'jumbo', 'legacy': {}}, {'rank': 0, 'subtype': 'superJumbo', 'caption': None, 'credit': None, 'type': 'image', 'url': 'images/2024/09/08/magazine/08mag-pennies-archival-02/08mag-pennies-archival-02-superJumbo.jpg', 'height': 2048, 'width': 1598, 'subType': 'superJumbo', 'crop_name': 'superJumbo', 'legacy': {}}, {'rank': 0, 'subtype': 'thumbnail', 'caption': None, 'credit': None, 'type': 'image', 'url': 'images/2024/09/08/magazine/08mag-pennies-archival-02/08mag-pennies-archival-02-thumbStandard.jpg', 'height': 75, 'width': 75, 'subType': 'thumbnail', 'crop_name': 'thumbStandard', 'legacy': {'thumbnail': 'images/2024/09/08/magazine/08mag-pennies-archival-02/08mag-pennies-archival-02-thumbStandard.jpg', 'thumbnailwidth': 75, 'thumbnailheight': 75}}, {'rank': 0, 'subtype': 'thumbLarge', 'caption': None, 'credit': None, 'type': 'image', 'url': 'images/2024/09/08/magazine/08mag-pennies-archival-02/08mag-pennies-archival-02-thumbLarge.jpg', 'height': 150, 'width': 150, 'subType': 'thumbLarge', 'crop_name': 'thumbLarge', 'legacy': {}}]",
         "{'main': 'America Must Free Itself from the Tyranny of the Penny', 'kicker': None, 'content_kicker': None, 'print_headline': 'Stop Making Cents', 'name': None, 'seo': None, 'sub': None}",
         "[{'name': 'subject', 'value': 'Currency', 'rank': 1, 'major': 'N'}, {'name': 'subject', 'value': 'Numismatics', 'rank': 2, 'major': 'N'}, {'name': 'subject', 'value': 'Lobbying and Lobbyists', 'rank': 3, 'major': 'N'}, {'name': 'subject', 'value': 'Banking and Financial Institutions', 'rank': 4, 'major': 'N'}, {'name': 'organizations', 'value': 'Federal Reserve System', 'rank': 5, 'major': 'N'}, {'name': 'organizations', 'value': 'Treasury Department', 'rank': 6, 'major': 'N'}, {'name': 'organizations', 'value': 'United States Mint', 'rank': 7, 'major': 'N'}, {'name': 'glocations', 'value': 'United States', 'rank': 8, 'major': 'N'}, {'name': 'subject', 'value': 'Copper, Brass and Bronze', 'rank': 9, 'major': 'N'}, {'name': 'persons', 'value': 'Stivers, Steven E', 'rank': 10, 'major': 'N'}, {'name': 'organizations', 'value': 'Coinstar Inc', 'rank': 11, 'major': 'N'}, {'name': 'organizations', 'value': 'Artazn LLC', 'rank': 12, 'major': 'N'}, {'name': 'persons', 'value': 'Gore, Jeff', 'rank': 13, 'major': 'N'}, {'name': 'organizations', 'value': 'Americans for Common Cents', 'rank': 14, 'major': 'N'}, {'name': 'persons', 'value': 'Weller, Mark W', 'rank': 15, 'major': 'N'}]",
         "2024-09-01T09:00:57+0000",
         "article",
         "Magazine",
         "Magazine",
         "{'original': 'By Caity Weaver', 'person': [{'firstname': 'Caity', 'middlename': None, 'lastname': 'Weaver', 'qualifier': None, 'title': None, 'role': 'reported', 'organization': '', 'rank': 1}], 'organization': None}",
         "News",
         "nyt://article/39a6950a-15db-59d2-baaf-f0d9509b2fa1",
         "7298",
         "nyt://article/39a6950a-15db-59d2-baaf-f0d9509b2fa1",
         null
        ],
        [
         "18",
         "18",
         "It’s so hot in Cairo that people like to go out all night. It might look like a party, but in reality, one shopkeeper said, “everybody is dead on the inside.”",
         "https://www.nytimes.com/2024/09/01/world/middleeast/egypt-economic-crisis.html",
         "It’s so hot in Cairo that people like to go out all night. It might look like a party, but in reality, one shopkeeper said, “everybody is dead on the inside.”",
         "Ten p.m. arrives in Cairo’s Sayyida Zeinab neighborhood with the same dogged tenacity as it does anywhere else, but down the fluorescent shopping streets and in the sidewalk cafes, few people used to glance at the clock. It might have been near bedtime in other countries, but Cairo was practically still waking up.",
         "A",
         "9.0",
         "The New York Times",
         "[{'rank': 0, 'subtype': 'xlarge', 'caption': None, 'credit': None, 'type': 'image', 'url': 'images/2024/08/27/multimedia/27egypt-economy-1-zkmq/27egypt-economy-1-zkmq-articleLarge.jpg', 'height': 401, 'width': 600, 'subType': 'xlarge', 'crop_name': 'articleLarge', 'legacy': {'xlarge': 'images/2024/08/27/multimedia/27egypt-economy-1-zkmq/27egypt-economy-1-zkmq-articleLarge.jpg', 'xlargewidth': 600, 'xlargeheight': 401}}, {'rank': 0, 'subtype': 'jumbo', 'caption': None, 'credit': None, 'type': 'image', 'url': 'images/2024/08/27/multimedia/27egypt-economy-1-zkmq/27egypt-economy-1-zkmq-jumbo.jpg', 'height': 684, 'width': 1024, 'subType': 'jumbo', 'crop_name': 'jumbo', 'legacy': {}}, {'rank': 0, 'subtype': 'superJumbo', 'caption': None, 'credit': None, 'type': 'image', 'url': 'images/2024/08/27/multimedia/27egypt-economy-1-zkmq/27egypt-economy-1-zkmq-superJumbo.jpg', 'height': 1367, 'width': 2048, 'subType': 'superJumbo', 'crop_name': 'superJumbo', 'legacy': {}}, {'rank': 0, 'subtype': 'thumbnail', 'caption': None, 'credit': None, 'type': 'image', 'url': 'images/2024/08/27/multimedia/27egypt-economy-1-zkmq/27egypt-economy-1-zkmq-thumbStandard.jpg', 'height': 75, 'width': 75, 'subType': 'thumbnail', 'crop_name': 'thumbStandard', 'legacy': {'thumbnail': 'images/2024/08/27/multimedia/27egypt-economy-1-zkmq/27egypt-economy-1-zkmq-thumbStandard.jpg', 'thumbnailwidth': 75, 'thumbnailheight': 75}}, {'rank': 0, 'subtype': 'thumbLarge', 'caption': None, 'credit': None, 'type': 'image', 'url': 'images/2024/08/27/multimedia/27egypt-economy-1-zkmq/27egypt-economy-1-zkmq-thumbLarge.jpg', 'height': 150, 'width': 150, 'subType': 'thumbLarge', 'crop_name': 'thumbLarge', 'legacy': {}}]",
         "{'main': 'Even Summer Nights Can’t Escape Egypt’s Economic Crisis', 'kicker': None, 'content_kicker': None, 'print_headline': 'Economic Woes Spill Into Egyptian Nights', 'name': None, 'seo': None, 'sub': None}",
         "[{'name': 'glocations', 'value': 'Egypt', 'rank': 1, 'major': 'N'}, {'name': 'subject', 'value': 'Electric Light and Power', 'rank': 2, 'major': 'N'}, {'name': 'subject', 'value': 'Economic Conditions and Trends', 'rank': 3, 'major': 'N'}, {'name': 'subject', 'value': 'Heat and Heat Waves', 'rank': 4, 'major': 'N'}, {'name': 'persons', 'value': 'Sisi, Abdel Fattah el-', 'rank': 5, 'major': 'N'}, {'name': 'glocations', 'value': 'Cairo (Egypt)', 'rank': 6, 'major': 'N'}, {'name': 'subject', 'value': 'Power Failures and Blackouts', 'rank': 7, 'major': 'N'}, {'name': 'subject', 'value': 'Curfews', 'rank': 8, 'major': 'N'}]",
         "2024-09-01T09:00:57+0000",
         "article",
         "Foreign",
         "World",
         "{'original': 'By Vivian Yee and Hadeer Mahmoud Ahmed', 'person': [{'firstname': 'Vivian', 'middlename': None, 'lastname': 'Yee', 'qualifier': None, 'title': None, 'role': 'reported', 'organization': '', 'rank': 1}, {'firstname': 'Hadeer', 'middlename': 'Mahmoud', 'lastname': 'Ahmed', 'qualifier': None, 'title': None, 'role': 'reported', 'organization': '', 'rank': 2}], 'organization': None}",
         "News",
         "nyt://article/cdd22020-ad15-54a4-9a31-9b1ac7387612",
         "1218",
         "nyt://article/cdd22020-ad15-54a4-9a31-9b1ac7387612",
         "Middle East"
        ],
        [
         "19",
         "19",
         "In “Empresses of Seventh Avenue,” the fashion writer Nancy MacDonell tells the story of the New York women who created modern style.",
         "https://www.nytimes.com/2024/09/01/books/review/nancy-macdonell-empresses-of-seventh-avenue.html",
         "In “Empresses of Seventh Avenue,” the fashion writer Nancy MacDonell tells the story of the New York women who created modern style.",
         "“Elegance is refusal,” Coco Chanel reportedly said. Pierre Balmain reminded his customers, “Rigor, always rigor,” while Karl Lagerfeld, taking aim at the non-rigorous, specified, “Sweatpants are a sign of defeat.” For Sonia Rykiel’s part? “How can you live the high life if you do not wear the high heels?”",
         null,
         null,
         "The New York Times",
         "[{'rank': 0, 'subtype': 'xlarge', 'caption': None, 'credit': None, 'type': 'image', 'url': 'images/2024/09/01/books/review/01MacDonell-Review/01MacDonell-Review-articleLarge.jpg', 'height': 600, 'width': 600, 'subType': 'xlarge', 'crop_name': 'articleLarge', 'legacy': {'xlarge': 'images/2024/09/01/books/review/01MacDonell-Review/01MacDonell-Review-articleLarge.jpg', 'xlargewidth': 600, 'xlargeheight': 600}}, {'rank': 0, 'subtype': 'jumbo', 'caption': None, 'credit': None, 'type': 'image', 'url': 'images/2024/09/01/books/review/01MacDonell-Review/01MacDonell-Review-jumbo.jpg', 'height': 1024, 'width': 1024, 'subType': 'jumbo', 'crop_name': 'jumbo', 'legacy': {}}, {'rank': 0, 'subtype': 'superJumbo', 'caption': None, 'credit': None, 'type': 'image', 'url': 'images/2024/09/01/books/review/01MacDonell-Review/01MacDonell-Review-superJumbo.jpg', 'height': 2048, 'width': 2048, 'subType': 'superJumbo', 'crop_name': 'superJumbo', 'legacy': {}}, {'rank': 0, 'subtype': 'thumbnail', 'caption': None, 'credit': None, 'type': 'image', 'url': 'images/2024/09/01/books/review/01MacDonell-Review/01MacDonell-Review-thumbStandard.jpg', 'height': 75, 'width': 75, 'subType': 'thumbnail', 'crop_name': 'thumbStandard', 'legacy': {'thumbnail': 'images/2024/09/01/books/review/01MacDonell-Review/01MacDonell-Review-thumbStandard.jpg', 'thumbnailwidth': 75, 'thumbnailheight': 75}}, {'rank': 0, 'subtype': 'thumbLarge', 'caption': None, 'credit': None, 'type': 'image', 'url': 'images/2024/09/01/books/review/01MacDonell-Review/01MacDonell-Review-thumbLarge.jpg', 'height': 150, 'width': 150, 'subType': 'thumbLarge', 'crop_name': 'thumbLarge', 'legacy': {}}]",
         "{'main': 'How America Won the Fashion War (or, at Least, the Sweatpants Battle)', 'kicker': 'nonfiction', 'content_kicker': None, 'print_headline': '', 'name': None, 'seo': None, 'sub': None}",
         "[{'name': 'subject', 'value': 'Fashion and Apparel', 'rank': 2, 'major': 'N'}, {'name': 'subject', 'value': 'Books and Literature', 'rank': 3, 'major': 'N'}, {'name': 'persons', 'value': 'Vreeland, Diana', 'rank': 4, 'major': 'N'}, {'name': 'glocations', 'value': 'New York City', 'rank': 5, 'major': 'N'}, {'name': 'subject', 'value': 'World War II (1939-45)', 'rank': 6, 'major': 'N'}, {'name': 'subject', 'value': 'Design', 'rank': 7, 'major': 'N'}, {'name': 'glocations', 'value': 'Paris (France)', 'rank': 8, 'major': 'N'}, {'name': 'subject', 'value': 'Content Type: Personal Profile', 'rank': 10, 'major': 'N'}]",
         "2024-09-01T09:01:14+0000",
         "article",
         "BookReview",
         "Books",
         "{'original': 'By Caroline Weber', 'person': [{'firstname': 'Caroline', 'middlename': None, 'lastname': 'Weber', 'qualifier': None, 'title': None, 'role': 'reported', 'organization': '', 'rank': 1}], 'organization': None}",
         "Review",
         "nyt://article/914e90a2-e621-593c-961d-0d031cdd2062",
         "809",
         "nyt://article/914e90a2-e621-593c-961d-0d031cdd2062",
         "Book Review"
        ],
        [
         "20",
         "20",
         "Candidates in both parties who lost by small margins in 2022 are trying to mount comebacks. Their races could determine which party wins control of the House.",
         "https://www.nytimes.com/2024/09/01/us/politics/house-swing-district-elections.html",
         "Candidates in both parties who lost by small margins in 2022 are trying to mount comebacks. Their races could determine which party wins control of the House.",
         "Joe Kent, a far-right Republican and former Army Special Forces officer, ran for Congress two years ago as a partisan warrior. He denied that President Biden had won the 2020 election, supported rioters charged in the Jan. 6, 2021, attack on Congress and favored banning abortions nationwide.",
         "A",
         "15.0",
         "The New York Times",
         "[{'rank': 0, 'subtype': 'xlarge', 'caption': None, 'credit': None, 'type': 'image', 'url': 'images/2024/08/30/multimedia/00dc-cong-rematch-wzcf/00dc-cong-rematch-wzcf-articleLarge.jpg', 'height': 399, 'width': 600, 'subType': 'xlarge', 'crop_name': 'articleLarge', 'legacy': {'xlarge': 'images/2024/08/30/multimedia/00dc-cong-rematch-wzcf/00dc-cong-rematch-wzcf-articleLarge.jpg', 'xlargewidth': 600, 'xlargeheight': 399}}, {'rank': 0, 'subtype': 'jumbo', 'caption': None, 'credit': None, 'type': 'image', 'url': 'images/2024/08/30/multimedia/00dc-cong-rematch-wzcf/00dc-cong-rematch-wzcf-jumbo.jpg', 'height': 681, 'width': 1024, 'subType': 'jumbo', 'crop_name': 'jumbo', 'legacy': {}}, {'rank': 0, 'subtype': 'superJumbo', 'caption': None, 'credit': None, 'type': 'image', 'url': 'images/2024/08/30/multimedia/00dc-cong-rematch-wzcf/00dc-cong-rematch-wzcf-superJumbo.jpg', 'height': 1363, 'width': 2048, 'subType': 'superJumbo', 'crop_name': 'superJumbo', 'legacy': {}}, {'rank': 0, 'subtype': 'thumbnail', 'caption': None, 'credit': None, 'type': 'image', 'url': 'images/2024/08/30/multimedia/00dc-cong-rematch-wzcf/00dc-cong-rematch-wzcf-thumbStandard.jpg', 'height': 75, 'width': 75, 'subType': 'thumbnail', 'crop_name': 'thumbStandard', 'legacy': {'thumbnail': 'images/2024/08/30/multimedia/00dc-cong-rematch-wzcf/00dc-cong-rematch-wzcf-thumbStandard.jpg', 'thumbnailwidth': 75, 'thumbnailheight': 75}}, {'rank': 0, 'subtype': 'thumbLarge', 'caption': None, 'credit': None, 'type': 'image', 'url': 'images/2024/08/30/multimedia/00dc-cong-rematch-wzcf/00dc-cong-rematch-wzcf-thumbLarge.jpg', 'height': 150, 'width': 150, 'subType': 'thumbLarge', 'crop_name': 'thumbLarge', 'legacy': {}}]",
         "{'main': 'Second Time’s the Charm? Rematches Could Sway the Fight for Congress.', 'kicker': None, 'content_kicker': None, 'print_headline': 'Rematches Could Sway The Fight for Congress', 'name': None, 'seo': None, 'sub': None}",
         "[{'name': 'subject', 'value': 'United States Politics and Government', 'rank': 1, 'major': 'N'}, {'name': 'subject', 'value': 'Presidential Election of 2024', 'rank': 2, 'major': 'N'}, {'name': 'subject', 'value': 'Abortion', 'rank': 3, 'major': 'N'}, {'name': 'subject', 'value': 'Presidential Election of 2020', 'rank': 4, 'major': 'N'}, {'name': 'subject', 'value': 'Elections, House of Representatives', 'rank': 5, 'major': 'N'}, {'name': 'organizations', 'value': 'Democratic Party', 'rank': 6, 'major': 'N'}, {'name': 'organizations', 'value': 'Republican Party', 'rank': 7, 'major': 'N'}, {'name': 'persons', 'value': 'Bacon, Don (1963- )', 'rank': 8, 'major': 'N'}, {'name': 'persons', 'value': 'Calvert, Ken', 'rank': 9, 'major': 'N'}, {'name': 'persons', 'value': 'Gonzalez, Vicente (1967- )', 'rank': 10, 'major': 'N'}, {'name': 'persons', 'value': 'Hayes, Jahana', 'rank': 11, 'major': 'N'}, {'name': 'persons', 'value': 'Kent, Joe (1980- )', 'rank': 12, 'major': 'N'}]",
         "2024-09-01T09:01:14+0000",
         "article",
         "Washington",
         "U.S.",
         "{'original': 'By Robert Jimison', 'person': [{'firstname': 'Robert', 'middlename': None, 'lastname': 'Jimison', 'qualifier': None, 'title': None, 'role': 'reported', 'organization': '', 'rank': 1}], 'organization': None}",
         "News",
         "nyt://article/c405988a-4de6-5b3d-a9e2-c6c7130b3675",
         "1182",
         "nyt://article/c405988a-4de6-5b3d-a9e2-c6c7130b3675",
         "Politics"
        ],
        [
         "21",
         "21",
         "A new FX sitcom handles the educational culture wars with a light touch.",
         "https://www.nytimes.com/2024/09/01/arts/television/review-english-teacher.html",
         "A new FX sitcom handles the educational culture wars with a light touch.",
         "The culture war often doesn’t have a physical frontline; it’s fought in op-ed columns, through social-media memes and inside people’s heads.",
         "C",
         "3.0",
         "The New York Times",
         "[{'rank': 0, 'subtype': 'xlarge', 'caption': None, 'credit': None, 'type': 'image', 'url': 'images/2024/09/02/multimedia/01englishteacher-review-01-zcpw/01englishteacher-review-01-zcpw-articleLarge.jpg', 'height': 400, 'width': 600, 'subType': 'xlarge', 'crop_name': 'articleLarge', 'legacy': {'xlarge': 'images/2024/09/02/multimedia/01englishteacher-review-01-zcpw/01englishteacher-review-01-zcpw-articleLarge.jpg', 'xlargewidth': 600, 'xlargeheight': 400}}, {'rank': 0, 'subtype': 'jumbo', 'caption': None, 'credit': None, 'type': 'image', 'url': 'images/2024/09/02/multimedia/01englishteacher-review-01-zcpw/01englishteacher-review-01-zcpw-jumbo.jpg', 'height': 683, 'width': 1024, 'subType': 'jumbo', 'crop_name': 'jumbo', 'legacy': {}}, {'rank': 0, 'subtype': 'superJumbo', 'caption': None, 'credit': None, 'type': 'image', 'url': 'images/2024/09/02/multimedia/01englishteacher-review-01-zcpw/01englishteacher-review-01-zcpw-superJumbo.jpg', 'height': 1366, 'width': 2048, 'subType': 'superJumbo', 'crop_name': 'superJumbo', 'legacy': {}}, {'rank': 0, 'subtype': 'thumbnail', 'caption': None, 'credit': None, 'type': 'image', 'url': 'images/2024/09/02/multimedia/01englishteacher-review-01-zcpw/01englishteacher-review-01-zcpw-thumbStandard.jpg', 'height': 75, 'width': 75, 'subType': 'thumbnail', 'crop_name': 'thumbStandard', 'legacy': {'thumbnail': 'images/2024/09/02/multimedia/01englishteacher-review-01-zcpw/01englishteacher-review-01-zcpw-thumbStandard.jpg', 'thumbnailwidth': 75, 'thumbnailheight': 75}}, {'rank': 0, 'subtype': 'thumbLarge', 'caption': None, 'credit': None, 'type': 'image', 'url': 'images/2024/09/02/multimedia/01englishteacher-review-01-zcpw/01englishteacher-review-01-zcpw-thumbLarge.jpg', 'height': 150, 'width': 150, 'subType': 'thumbLarge', 'crop_name': 'thumbLarge', 'legacy': {}}]",
         "{'main': 'Review: On ‘English Teacher,’ School Is a Battlefield', 'kicker': None, 'content_kicker': None, 'print_headline': 'Teaching School, and Navigating Culture Wars', 'name': None, 'seo': None, 'sub': None}",
         "[{'name': 'subject', 'value': 'Television', 'rank': 1, 'major': 'N'}, {'name': 'creative_works', 'value': 'English Teacher (TV Program)', 'rank': 2, 'major': 'N'}, {'name': 'organizations', 'value': 'FX (TV Network)', 'rank': 3, 'major': 'N'}, {'name': 'persons', 'value': 'Alvarez, Brian Jordan', 'rank': 4, 'major': 'N'}, {'name': 'persons', 'value': 'Colantoni, Enrico', 'rank': 5, 'major': 'N'}, {'name': 'persons', 'value': 'Kerman, Langston (1987- )', 'rank': 6, 'major': 'N'}, {'name': 'persons', 'value': 'Mattel, Trixie', 'rank': 7, 'major': 'N'}, {'name': 'persons', 'value': 'Koenig, Stephanie (1987- )', 'rank': 8, 'major': 'N'}]",
         "2024-09-01T09:01:24+0000",
         "article",
         "Culture",
         "Arts",
         "{'original': 'By James Poniewozik', 'person': [{'firstname': 'James', 'middlename': None, 'lastname': 'Poniewozik', 'qualifier': None, 'title': None, 'role': 'reported', 'organization': '', 'rank': 1}], 'organization': None}",
         "News",
         "nyt://article/8dddc4c9-256c-5427-b07a-fe614e50c5cb",
         "709",
         "nyt://article/8dddc4c9-256c-5427-b07a-fe614e50c5cb",
         "Television"
        ],
        [
         "22",
         "22",
         "In presidential politics, campaigns are powered by billionaires. Here is a look at the most influential givers.",
         "https://www.nytimes.com/2024/09/01/us/elections/democratic-republican-political-donors.html",
         "In presidential politics, campaigns are powered by billionaires. Here is a look at the most influential givers.",
         "Follow the latest updates on the Harris and Trump campaigns.",
         "A",
         "17.0",
         "The New York Times",
         "[{'rank': 0, 'subtype': 'xlarge', 'caption': None, 'credit': None, 'type': 'image', 'url': 'images/2024/09/02/multimedia/02pol-big-donors-top-gkfj/02pol-big-donors-top-gkfj-articleLarge.jpg', 'height': 400, 'width': 600, 'subType': 'xlarge', 'crop_name': 'articleLarge', 'legacy': {'xlarge': 'images/2024/09/02/multimedia/02pol-big-donors-top-gkfj/02pol-big-donors-top-gkfj-articleLarge.jpg', 'xlargewidth': 600, 'xlargeheight': 400}}, {'rank': 0, 'subtype': 'jumbo', 'caption': None, 'credit': None, 'type': 'image', 'url': 'images/2024/09/02/multimedia/02pol-big-donors-top-gkfj/02pol-big-donors-top-gkfj-jumbo.jpg', 'height': 683, 'width': 1024, 'subType': 'jumbo', 'crop_name': 'jumbo', 'legacy': {}}, {'rank': 0, 'subtype': 'superJumbo', 'caption': None, 'credit': None, 'type': 'image', 'url': 'images/2024/09/02/multimedia/02pol-big-donors-top-gkfj/02pol-big-donors-top-gkfj-superJumbo.jpg', 'height': 1365, 'width': 2048, 'subType': 'superJumbo', 'crop_name': 'superJumbo', 'legacy': {}}, {'rank': 0, 'subtype': 'thumbnail', 'caption': None, 'credit': None, 'type': 'image', 'url': 'images/2024/09/02/multimedia/02pol-big-donors-top-gkfj/02pol-big-donors-top-gkfj-thumbStandard.jpg', 'height': 75, 'width': 75, 'subType': 'thumbnail', 'crop_name': 'thumbStandard', 'legacy': {'thumbnail': 'images/2024/09/02/multimedia/02pol-big-donors-top-gkfj/02pol-big-donors-top-gkfj-thumbStandard.jpg', 'thumbnailwidth': 75, 'thumbnailheight': 75}}, {'rank': 0, 'subtype': 'thumbLarge', 'caption': None, 'credit': None, 'type': 'image', 'url': 'images/2024/09/02/multimedia/02pol-big-donors-top-gkfj/02pol-big-donors-top-gkfj-thumbLarge.jpg', 'height': 150, 'width': 150, 'subType': 'thumbLarge', 'crop_name': 'thumbLarge', 'legacy': {}}]",
         "{'main': 'Who Are the Biggest Donors to Trump and Harris?', 'kicker': None, 'content_kicker': None, 'print_headline': 'Who Are the Biggest Donors  To Trump and Harris?', 'name': None, 'seo': None, 'sub': None}",
         "[{'name': 'subject', 'value': 'Presidential Election of 2024', 'rank': 1, 'major': 'N'}, {'name': 'subject', 'value': 'Campaign Finance', 'rank': 2, 'major': 'N'}, {'name': 'persons', 'value': 'Harris, Kamala D', 'rank': 3, 'major': 'N'}, {'name': 'persons', 'value': 'Hoffman, Reid Garrett', 'rank': 4, 'major': 'N'}, {'name': 'persons', 'value': 'Soros, George', 'rank': 5, 'major': 'N'}, {'name': 'persons', 'value': 'Soros, Alexander', 'rank': 6, 'major': 'N'}, {'name': 'persons', 'value': 'Moskovitz, Dustin', 'rank': 7, 'major': 'N'}, {'name': 'persons', 'value': 'Bloomberg, Michael R', 'rank': 8, 'major': 'N'}, {'name': 'persons', 'value': 'Katzenberg, Jeffrey', 'rank': 9, 'major': 'N'}, {'name': 'persons', 'value': 'Trump, Donald J', 'rank': 10, 'major': 'N'}, {'name': 'persons', 'value': 'Mellon, Timothy (1942- )', 'rank': 11, 'major': 'N'}, {'name': 'persons', 'value': 'Musk, Elon', 'rank': 12, 'major': 'N'}, {'name': 'persons', 'value': 'Adelson, Miriam', 'rank': 13, 'major': 'N'}, {'name': 'persons', 'value': 'Uihlein, Richard', 'rank': 14, 'major': 'N'}, {'name': 'persons', 'value': 'Uihlein, Elizabeth', 'rank': 15, 'major': 'N'}, {'name': 'persons', 'value': 'McMahon, Linda E', 'rank': 16, 'major': 'N'}]",
         "2024-09-01T09:01:34+0000",
         "article",
         "Politics",
         "U.S.",
         "{'original': 'By Theodore Schleifer', 'person': [{'firstname': 'Theodore', 'middlename': None, 'lastname': 'Schleifer', 'qualifier': None, 'title': None, 'role': 'reported', 'organization': '', 'rank': 1}], 'organization': None}",
         "News",
         "nyt://article/df53241e-170b-5056-9483-2dbbd313f500",
         "1294",
         "nyt://article/df53241e-170b-5056-9483-2dbbd313f500",
         "Elections"
        ],
        [
         "23",
         "23",
         "Donald J. Trump isn’t the first candidate to run afoul of the ban on partisan activity in Arlington National Cemetery. But no one else has responded as hostilely as his campaign has.",
         "https://www.nytimes.com/2024/09/01/us/politics/trump-arlington-cemetery-army.html",
         "Donald J. Trump isn’t the first candidate to run afoul of the ban on partisan activity in Arlington National Cemetery. But no one else has responded as hostilely as his campaign has.",
         "Follow the latest updates on the Harris and Trump campaigns.",
         "A",
         "16.0",
         "The New York Times",
         "[{'rank': 0, 'subtype': 'xlarge', 'caption': None, 'credit': None, 'type': 'image', 'url': 'images/2024/09/01/multimedia/01pol-arlington-zpjf/01pol-arlington-zpjf-articleLarge.jpg', 'height': 400, 'width': 600, 'subType': 'xlarge', 'crop_name': 'articleLarge', 'legacy': {'xlarge': 'images/2024/09/01/multimedia/01pol-arlington-zpjf/01pol-arlington-zpjf-articleLarge.jpg', 'xlargewidth': 600, 'xlargeheight': 400}}, {'rank': 0, 'subtype': 'jumbo', 'caption': None, 'credit': None, 'type': 'image', 'url': 'images/2024/09/01/multimedia/01pol-arlington-zpjf/01pol-arlington-zpjf-jumbo.jpg', 'height': 683, 'width': 1024, 'subType': 'jumbo', 'crop_name': 'jumbo', 'legacy': {}}, {'rank': 0, 'subtype': 'superJumbo', 'caption': None, 'credit': None, 'type': 'image', 'url': 'images/2024/09/01/multimedia/01pol-arlington-zpjf/01pol-arlington-zpjf-superJumbo.jpg', 'height': 1366, 'width': 2048, 'subType': 'superJumbo', 'crop_name': 'superJumbo', 'legacy': {}}, {'rank': 0, 'subtype': 'thumbnail', 'caption': None, 'credit': None, 'type': 'image', 'url': 'images/2024/09/01/multimedia/01pol-arlington-zpjf/01pol-arlington-zpjf-thumbStandard-v2.jpg', 'height': 75, 'width': 75, 'subType': 'thumbnail', 'crop_name': 'thumbStandard', 'legacy': {'thumbnail': 'images/2024/09/01/multimedia/01pol-arlington-zpjf/01pol-arlington-zpjf-thumbStandard-v2.jpg', 'thumbnailwidth': 75, 'thumbnailheight': 75}}, {'rank': 0, 'subtype': 'thumbLarge', 'caption': None, 'credit': None, 'type': 'image', 'url': 'images/2024/09/01/multimedia/01pol-arlington-zpjf/01pol-arlington-zpjf-thumbLarge-v2.jpg', 'height': 150, 'width': 150, 'subType': 'thumbLarge', 'crop_name': 'thumbLarge', 'legacy': {}}]",
         "{'main': 'Others Have Politicized Arlington, but Trump’s Approach Has No Precedent', 'kicker': None, 'content_kicker': None, 'print_headline': 'Others Have Politicized Arlington, but Trump’s Hostile Response Is Like No Other', 'name': None, 'seo': None, 'sub': None}",
         "[{'name': 'subject', 'value': 'Presidential Election of 2024', 'rank': 1, 'major': 'N'}, {'name': 'subject', 'value': 'Political Advertising', 'rank': 2, 'major': 'N'}, {'name': 'organizations', 'value': 'Arlington National Cemetery', 'rank': 3, 'major': 'N'}, {'name': 'persons', 'value': 'Edwards, John Bel (1966- )', 'rank': 4, 'major': 'N'}, {'name': 'persons', 'value': 'Kelly, John F (1950- )', 'rank': 5, 'major': 'N'}, {'name': 'persons', 'value': 'McCain, John', 'rank': 6, 'major': 'N'}, {'name': 'persons', 'value': 'Trump, Donald J', 'rank': 7, 'major': 'N'}, {'name': 'organizations', 'value': 'United States Army', 'rank': 8, 'major': 'N'}, {'name': 'subject', 'value': 'Cemeteries', 'rank': 9, 'major': 'N'}, {'name': 'subject', 'value': 'United States Defense and Military Forces', 'rank': 10, 'major': 'N'}]",
         "2024-09-01T09:01:43+0000",
         "article",
         "Politics",
         "U.S.",
         "{'original': 'By Chris Cameron', 'person': [{'firstname': 'Chris', 'middlename': None, 'lastname': 'Cameron', 'qualifier': None, 'title': None, 'role': 'reported', 'organization': '', 'rank': 1}], 'organization': None}",
         "News",
         "nyt://article/14d10d4e-c8ec-56d1-8fbb-fe07499e0644",
         "885",
         "nyt://article/14d10d4e-c8ec-56d1-8fbb-fe07499e0644",
         "Politics"
        ],
        [
         "24",
         "24",
         "Ukraine gambled that its move into Russia would draw Moscow’s forces away from the town of Pokrovsk. It didn’t happen. And now resigned residents are evacuating daily.",
         "https://www.nytimes.com/2024/09/01/world/europe/ukraine-russia-evacuation-pokrovsk.html",
         "Ukraine gambled that its move into Russia would draw Moscow’s forces away from the town of Pokrovsk. It didn’t happen. And now resigned residents are evacuating daily.",
         "Placards on the train bluntly listed its purpose: “Evacuation.”",
         "A",
         "8.0",
         "The New York Times",
         "[{'rank': 0, 'subtype': 'xlarge', 'caption': None, 'credit': None, 'type': 'image', 'url': 'images/2024/09/01/multimedia/01ukraine-pokrovsk-promo/01ukraine-pokrovsk-top-qmvg-articleLarge.jpg', 'height': 400, 'width': 600, 'subType': 'xlarge', 'crop_name': 'articleLarge', 'legacy': {'xlarge': 'images/2024/09/01/multimedia/01ukraine-pokrovsk-promo/01ukraine-pokrovsk-top-qmvg-articleLarge.jpg', 'xlargewidth': 600, 'xlargeheight': 400}}, {'rank': 0, 'subtype': 'jumbo', 'caption': None, 'credit': None, 'type': 'image', 'url': 'images/2024/09/01/multimedia/01ukraine-pokrovsk-promo/01ukraine-pokrovsk-top-qmvg-jumbo.jpg', 'height': 683, 'width': 1024, 'subType': 'jumbo', 'crop_name': 'jumbo', 'legacy': {}}, {'rank': 0, 'subtype': 'superJumbo', 'caption': None, 'credit': None, 'type': 'image', 'url': 'images/2024/09/01/multimedia/01ukraine-pokrovsk-promo/01ukraine-pokrovsk-top-qmvg-superJumbo.jpg', 'height': 1367, 'width': 2048, 'subType': 'superJumbo', 'crop_name': 'superJumbo', 'legacy': {}}, {'rank': 0, 'subtype': 'thumbnail', 'caption': None, 'credit': None, 'type': 'image', 'url': 'images/2024/09/01/multimedia/01ukraine-pokrovsk-promo/01ukraine-pokrovsk-top-qmvg-thumbStandard.jpg', 'height': 75, 'width': 75, 'subType': 'thumbnail', 'crop_name': 'thumbStandard', 'legacy': {'thumbnail': 'images/2024/09/01/multimedia/01ukraine-pokrovsk-promo/01ukraine-pokrovsk-top-qmvg-thumbStandard.jpg', 'thumbnailwidth': 75, 'thumbnailheight': 75}}, {'rank': 0, 'subtype': 'thumbLarge', 'caption': None, 'credit': None, 'type': 'image', 'url': 'images/2024/09/01/multimedia/01ukraine-pokrovsk-promo/01ukraine-pokrovsk-top-qmvg-thumbLarge.jpg', 'height': 150, 'width': 150, 'subType': 'thumbLarge', 'crop_name': 'thumbLarge', 'legacy': {}}]",
         "{'main': 'With Russia on Its Doorstep, a Ukrainian Town Packs Its Bags', 'kicker': None, 'content_kicker': None, 'print_headline': 'Ukrainian Town Packs Up As Russian Troops Near', 'name': None, 'seo': None, 'sub': None}",
         "[{'name': 'subject', 'value': 'Evacuations and Evacuees', 'rank': 1, 'major': 'N'}, {'name': 'subject', 'value': 'Russian Invasion of Ukraine (2022)', 'rank': 2, 'major': 'N'}, {'name': 'subject', 'value': 'Defense and Military Forces', 'rank': 3, 'major': 'N'}, {'name': 'glocations', 'value': 'Pokrovsk (Ukraine)', 'rank': 4, 'major': 'N'}, {'name': 'glocations', 'value': 'Ukraine', 'rank': 5, 'major': 'N'}, {'name': 'glocations', 'value': 'Russia', 'rank': 6, 'major': 'N'}]",
         "2024-09-01T09:02:15+0000",
         "article",
         "Foreign",
         "World",
         "{'original': 'By Andrew E. Kramer and Nicole Tung', 'person': [{'firstname': 'Andrew', 'middlename': 'E.', 'lastname': 'Kramer', 'qualifier': None, 'title': None, 'role': 'reported', 'organization': '', 'rank': 1}, {'firstname': 'Nicole', 'middlename': None, 'lastname': 'Tung', 'qualifier': None, 'title': None, 'role': 'reported', 'organization': '', 'rank': 2}], 'organization': None}",
         "News",
         "nyt://article/d0c34b21-565c-52dc-bfc5-7ebd45a8fdc6",
         "1237",
         "nyt://article/d0c34b21-565c-52dc-bfc5-7ebd45a8fdc6",
         "Europe"
        ],
        [
         "25",
         "25",
         "A deadly listeria outbreak at the plant in Jarratt, Va., has residents worried about the town’s future.",
         "https://www.nytimes.com/2024/09/01/us/boars-head-jarratt-virginia.html",
         "A deadly listeria outbreak at the plant in Jarratt, Va., has residents worried about the town’s future.",
         "Alexander Stith said the Boar’s Head deli meat plant in Jarratt, Va., is the economic heart of the small rural town. He had trouble counting the number of people he knew who work or had worked there.",
         "A",
         "12.0",
         "The New York Times",
         "[{'rank': 0, 'subtype': 'xlarge', 'caption': None, 'credit': None, 'type': 'image', 'url': 'images/2024/08/31/multimedia/nat-va-boarshead-pvgt/nat-va-boarshead-pvgt-articleLarge.jpg', 'height': 400, 'width': 600, 'subType': 'xlarge', 'crop_name': 'articleLarge', 'legacy': {'xlarge': 'images/2024/08/31/multimedia/nat-va-boarshead-pvgt/nat-va-boarshead-pvgt-articleLarge.jpg', 'xlargewidth': 600, 'xlargeheight': 400}}, {'rank': 0, 'subtype': 'jumbo', 'caption': None, 'credit': None, 'type': 'image', 'url': 'images/2024/08/31/multimedia/nat-va-boarshead-pvgt/nat-va-boarshead-pvgt-jumbo.jpg', 'height': 683, 'width': 1024, 'subType': 'jumbo', 'crop_name': 'jumbo', 'legacy': {}}, {'rank': 0, 'subtype': 'superJumbo', 'caption': None, 'credit': None, 'type': 'image', 'url': 'images/2024/08/31/multimedia/nat-va-boarshead-pvgt/nat-va-boarshead-pvgt-superJumbo.jpg', 'height': 1366, 'width': 2048, 'subType': 'superJumbo', 'crop_name': 'superJumbo', 'legacy': {}}, {'rank': 0, 'subtype': 'thumbnail', 'caption': None, 'credit': None, 'type': 'image', 'url': 'images/2024/08/31/multimedia/nat-va-boarshead-pvgt/nat-va-boarshead-pvgt-thumbStandard.jpg', 'height': 75, 'width': 75, 'subType': 'thumbnail', 'crop_name': 'thumbStandard', 'legacy': {'thumbnail': 'images/2024/08/31/multimedia/nat-va-boarshead-pvgt/nat-va-boarshead-pvgt-thumbStandard.jpg', 'thumbnailwidth': 75, 'thumbnailheight': 75}}, {'rank': 0, 'subtype': 'thumbLarge', 'caption': None, 'credit': None, 'type': 'image', 'url': 'images/2024/08/31/multimedia/nat-va-boarshead-pvgt/nat-va-boarshead-pvgt-thumbLarge.jpg', 'height': 150, 'width': 150, 'subType': 'thumbLarge', 'crop_name': 'thumbLarge', 'legacy': {}}]",
         "{'main': 'A Small Town Gets an Uncomfortable Spotlight After the Boar’s Head Recall', 'kicker': None, 'content_kicker': None, 'print_headline': 'As Outbreak Idles a Boar’s Head Plant, a Rural Town Frets', 'name': None, 'seo': None, 'sub': None}",
         "[{'name': 'subject', 'value': 'Meatpacking Plants and Slaughterhouses', 'rank': 1, 'major': 'N'}, {'name': 'subject', 'value': 'Food Contamination and Poisoning', 'rank': 2, 'major': 'N'}, {'name': 'subject', 'value': 'Listeria Monocytogenes', 'rank': 3, 'major': 'N'}, {'name': 'subject', 'value': 'Meat', 'rank': 4, 'major': 'N'}, {'name': 'subject', 'value': 'Recalls and Bans of Products', 'rank': 5, 'major': 'N'}, {'name': 'subject', 'value': 'Shutdowns (Institutional)', 'rank': 6, 'major': 'N'}, {'name': 'subject', 'value': 'Labor and Jobs', 'rank': 7, 'major': 'N'}, {'name': 'subject', 'value': 'Deaths (Fatalities)', 'rank': 8, 'major': 'N'}, {'name': 'organizations', 'value': \"Boar's Head Brand\", 'rank': 9, 'major': 'N'}, {'name': 'glocations', 'value': 'Jarratt (Va)', 'rank': 10, 'major': 'N'}]",
         "2024-09-01T09:03:32+0000",
         "article",
         "National",
         "U.S.",
         "{'original': 'By Eduardo Medina', 'person': [{'firstname': 'Eduardo', 'middlename': None, 'lastname': 'Medina', 'qualifier': None, 'title': None, 'role': 'reported', 'organization': '', 'rank': 1}], 'organization': None}",
         "News",
         "nyt://article/bdb02241-d372-5cb3-bdcb-0af543fd7d7a",
         "861",
         "nyt://article/bdb02241-d372-5cb3-bdcb-0af543fd7d7a",
         null
        ],
        [
         "26",
         "26",
         "Egg showers have become common on social media, but a Brooklyn woman has gone a step further by throwing her eggs a birthday party every year.",
         "https://www.nytimes.com/2024/09/01/style/frozen-egg-showers.html",
         "Egg showers have become common on social media, but a Brooklyn woman has gone a step further by throwing her eggs a birthday party every year.",
         "Lauren Martinez was well prepared for a birthday party in her backyard in Williamsburg, Brooklyn. She set out a tray of deviled eggs next to syringes filled with confetti; there were Eggo waffles, egg salad sandwiches, a quiche and onion dip with roe. There was also a bag of mini chocolate eggs and a tray of cupcakes, each decorated with white and yellow frosting in the shape of a fried egg.",
         "ST",
         "11.0",
         "The New York Times",
         "[{'rank': 0, 'subtype': 'xlarge', 'caption': None, 'credit': None, 'type': 'image', 'url': 'images/2024/09/08/fashion/EGG-PARTY-01-gjhc/EGG-PARTY-01-gjhc-articleLarge.jpg', 'height': 450, 'width': 600, 'subType': 'xlarge', 'crop_name': 'articleLarge', 'legacy': {'xlarge': 'images/2024/09/08/fashion/EGG-PARTY-01-gjhc/EGG-PARTY-01-gjhc-articleLarge.jpg', 'xlargewidth': 600, 'xlargeheight': 450}}, {'rank': 0, 'subtype': 'jumbo', 'caption': None, 'credit': None, 'type': 'image', 'url': 'images/2024/09/08/fashion/EGG-PARTY-01-gjhc/EGG-PARTY-01-gjhc-jumbo.jpg', 'height': 768, 'width': 1024, 'subType': 'jumbo', 'crop_name': 'jumbo', 'legacy': {}}, {'rank': 0, 'subtype': 'superJumbo', 'caption': None, 'credit': None, 'type': 'image', 'url': 'images/2024/09/08/fashion/EGG-PARTY-01-gjhc/EGG-PARTY-01-gjhc-superJumbo.jpg', 'height': 1200, 'width': 1600, 'subType': 'superJumbo', 'crop_name': 'superJumbo', 'legacy': {}}, {'rank': 0, 'subtype': 'thumbnail', 'caption': None, 'credit': None, 'type': 'image', 'url': 'images/2024/09/08/fashion/EGG-PARTY-01-gjhc/EGG-PARTY-01-gjhc-thumbStandard.jpg', 'height': 75, 'width': 75, 'subType': 'thumbnail', 'crop_name': 'thumbStandard', 'legacy': {'thumbnail': 'images/2024/09/08/fashion/EGG-PARTY-01-gjhc/EGG-PARTY-01-gjhc-thumbStandard.jpg', 'thumbnailwidth': 75, 'thumbnailheight': 75}}, {'rank': 0, 'subtype': 'thumbLarge', 'caption': None, 'credit': None, 'type': 'image', 'url': 'images/2024/09/08/fashion/EGG-PARTY-01-gjhc/EGG-PARTY-01-gjhc-thumbLarge.jpg', 'height': 150, 'width': 150, 'subType': 'thumbLarge', 'crop_name': 'thumbLarge', 'legacy': {}}]",
         "{'main': 'Happy Birthday, Dear Frozen Eggs, Happy Birthday to You', 'kicker': None, 'content_kicker': None, 'print_headline': 'First, Freeze the Eggs. Then Start the Party.', 'name': None, 'seo': None, 'sub': None}",
         "[{'name': 'subject', 'value': 'Egg Donation and Freezing', 'rank': 1, 'major': 'N'}, {'name': 'subject', 'value': 'Parties (Social)', 'rank': 2, 'major': 'N'}]",
         "2024-09-01T09:03:38+0000",
         "article",
         "Styles",
         "Style",
         "{'original': 'By Jessica Roy', 'person': [{'firstname': 'Jessica', 'middlename': None, 'lastname': 'Roy', 'qualifier': None, 'title': None, 'role': 'reported', 'organization': '', 'rank': 1}], 'organization': None}",
         "News",
         "nyt://article/416933cc-2b74-5f7d-860d-1a440eba2e33",
         "695",
         "nyt://article/416933cc-2b74-5f7d-860d-1a440eba2e33",
         null
        ],
        [
         "27",
         "27",
         "The United States condemned the episode near Sabina Shoal in the South China Sea and reaffirmed its defense treaty with Manila.",
         "https://www.nytimes.com/2024/09/01/world/asia/china-philippines-south-china-sea-collision.html",
         "The United States condemned the episode near Sabina Shoal in the South China Sea and reaffirmed its defense treaty with Manila.",
         "China and the Philippines traded new accusations of deliberately ramming into each other’s coast guard vessels near a disputed atoll in the South China Sea where the two countries are engaged in an escalating standoff.",
         "A",
         "9.0",
         "The New York Times",
         "[{'rank': 0, 'subtype': 'xlarge', 'caption': None, 'credit': None, 'type': 'image', 'url': 'images/2024/09/01/multimedia/01china-philippines-01-mfvw/01china-philippines-01-mfvw-articleLarge.jpg', 'height': 400, 'width': 600, 'subType': 'xlarge', 'crop_name': 'articleLarge', 'legacy': {'xlarge': 'images/2024/09/01/multimedia/01china-philippines-01-mfvw/01china-philippines-01-mfvw-articleLarge.jpg', 'xlargewidth': 600, 'xlargeheight': 400}}, {'rank': 0, 'subtype': 'jumbo', 'caption': None, 'credit': None, 'type': 'image', 'url': 'images/2024/09/01/multimedia/01china-philippines-01-mfvw/01china-philippines-01-mfvw-jumbo.jpg', 'height': 683, 'width': 1024, 'subType': 'jumbo', 'crop_name': 'jumbo', 'legacy': {}}, {'rank': 0, 'subtype': 'superJumbo', 'caption': None, 'credit': None, 'type': 'image', 'url': 'images/2024/09/01/multimedia/01china-philippines-01-mfvw/01china-philippines-01-mfvw-superJumbo.jpg', 'height': 1366, 'width': 2048, 'subType': 'superJumbo', 'crop_name': 'superJumbo', 'legacy': {}}, {'rank': 0, 'subtype': 'thumbnail', 'caption': None, 'credit': None, 'type': 'image', 'url': 'images/2024/09/01/multimedia/01china-philippines-01-mfvw/01china-philippines-01-mfvw-thumbStandard.jpg', 'height': 75, 'width': 75, 'subType': 'thumbnail', 'crop_name': 'thumbStandard', 'legacy': {'thumbnail': 'images/2024/09/01/multimedia/01china-philippines-01-mfvw/01china-philippines-01-mfvw-thumbStandard.jpg', 'thumbnailwidth': 75, 'thumbnailheight': 75}}, {'rank': 0, 'subtype': 'thumbLarge', 'caption': None, 'credit': None, 'type': 'image', 'url': 'images/2024/09/01/multimedia/01china-philippines-01-mfvw/01china-philippines-01-mfvw-thumbLarge.jpg', 'height': 150, 'width': 150, 'subType': 'thumbLarge', 'crop_name': 'thumbLarge', 'legacy': {}}]",
         "{'main': 'China and the Philippines Trade Blame for the Latest Sea Collision', 'kicker': None, 'content_kicker': None, 'print_headline': 'China and the Philippines Exchange Blame for Their Latest Sea Collision', 'name': None, 'seo': None, 'sub': None}",
         "[{'name': 'glocations', 'value': 'Philippines', 'rank': 1, 'major': 'N'}, {'name': 'glocations', 'value': 'China', 'rank': 2, 'major': 'N'}, {'name': 'glocations', 'value': 'South China Sea', 'rank': 3, 'major': 'N'}, {'name': 'subject', 'value': 'Territorial Disputes', 'rank': 4, 'major': 'N'}, {'name': 'subject', 'value': 'Maritime Accidents and Safety', 'rank': 5, 'major': 'N'}, {'name': 'subject', 'value': 'United States International Relations', 'rank': 6, 'major': 'N'}, {'name': 'subject', 'value': 'International Relations', 'rank': 7, 'major': 'N'}, {'name': 'subject', 'value': 'Defense and Military Forces', 'rank': 8, 'major': 'N'}]",
         "2024-09-01T09:30:15+0000",
         "article",
         "Foreign",
         "World",
         "{'original': 'By David Pierson and Camille Elemia', 'person': [{'firstname': 'David', 'middlename': None, 'lastname': 'Pierson', 'qualifier': None, 'title': None, 'role': 'reported', 'organization': '', 'rank': 1}, {'firstname': 'Camille', 'middlename': None, 'lastname': 'Elemia', 'qualifier': None, 'title': None, 'role': 'reported', 'organization': '', 'rank': 2}], 'organization': None}",
         "News",
         "nyt://article/3e378519-5301-513b-9ff1-baaf73c2afe1",
         "667",
         "nyt://article/3e378519-5301-513b-9ff1-baaf73c2afe1",
         "Asia Pacific"
        ],
        [
         "28",
         "28",
         "Scroll down for hints and conversation about the puzzle for September 2, 2024.",
         "https://www.nytimes.com/2024/09/01/crosswords/wordle-review-1171.html",
         "Scroll down for hints and conversation about the puzzle for September 2, 2024.",
         "Welcome to The Wordle Review. Be warned: This page contains spoilers for today’s puzzle. Solve Wordle first, or scroll at your own risk.",
         null,
         null,
         "The New York Times",
         "[{'rank': 0, 'subtype': 'xlarge', 'caption': None, 'credit': None, 'type': 'image', 'url': 'images/2024/09/02/crosswords/02wordle-review-art-1171/02wordle-review-art-1171-articleLarge.jpg', 'height': 400, 'width': 600, 'subType': 'xlarge', 'crop_name': 'articleLarge', 'legacy': {'xlarge': 'images/2024/09/02/crosswords/02wordle-review-art-1171/02wordle-review-art-1171-articleLarge.jpg', 'xlargewidth': 600, 'xlargeheight': 400}}, {'rank': 0, 'subtype': 'jumbo', 'caption': None, 'credit': None, 'type': 'image', 'url': 'images/2024/09/02/crosswords/02wordle-review-art-1171/02wordle-review-art-1171-jumbo.jpg', 'height': 683, 'width': 1024, 'subType': 'jumbo', 'crop_name': 'jumbo', 'legacy': {}}, {'rank': 0, 'subtype': 'superJumbo', 'caption': None, 'credit': None, 'type': 'image', 'url': 'images/2024/09/02/crosswords/02wordle-review-art-1171/02wordle-review-art-1171-superJumbo.jpg', 'height': 1354, 'width': 2030, 'subType': 'superJumbo', 'crop_name': 'superJumbo', 'legacy': {}}, {'rank': 0, 'subtype': 'thumbnail', 'caption': None, 'credit': None, 'type': 'image', 'url': 'images/2024/09/02/crosswords/02wordle-review-art-1171/02wordle-review-art-1171-thumbStandard.jpg', 'height': 75, 'width': 75, 'subType': 'thumbnail', 'crop_name': 'thumbStandard', 'legacy': {'thumbnail': 'images/2024/09/02/crosswords/02wordle-review-art-1171/02wordle-review-art-1171-thumbStandard.jpg', 'thumbnailwidth': 75, 'thumbnailheight': 75}}, {'rank': 0, 'subtype': 'thumbLarge', 'caption': None, 'credit': None, 'type': 'image', 'url': 'images/2024/09/02/crosswords/02wordle-review-art-1171/02wordle-review-art-1171-thumbLarge.jpg', 'height': 150, 'width': 150, 'subType': 'thumbLarge', 'crop_name': 'thumbLarge', 'legacy': {}}]",
         "{'main': 'Wordle Review No. 1,171', 'kicker': None, 'content_kicker': None, 'print_headline': '', 'name': None, 'seo': None, 'sub': None}",
         "[{'name': 'subject', 'value': 'Wordle (Puzzle)', 'rank': 1, 'major': 'N'}, {'name': 'subject', 'value': 'Crossword Puzzles', 'rank': 2, 'major': 'N'}]",
         "2024-09-01T10:00:02+0000",
         "article",
         "Games",
         "Crosswords & Games",
         "{'original': 'By New York Times Games', 'person': [], 'organization': 'The New York Times'}",
         "News",
         "nyt://article/1604592b-82ac-5788-acb0-993396746bf2",
         "381",
         "nyt://article/1604592b-82ac-5788-acb0-993396746bf2",
         null
        ],
        [
         "29",
         "29",
         "Scroll down for hints and conversation about the puzzle for Mon, Sept. 2, 2024.",
         "https://www.nytimes.com/2024/09/01/crosswords/connections-companion-449.html",
         "Scroll down for hints and conversation about the puzzle for Mon, Sept. 2, 2024.",
         "Introducing Connections Bot: a daily tool that provides a personalized analysis of your Connections solve, inspired by WordleBot. Connections Bot lets you know the puzzle’s difficulty level, and whether you made the same mistakes as other solvers. The bot is now available exclusively to the Connections Companion community. Give it a try and let us know your thoughts in the comments.",
         null,
         null,
         "The New York Times",
         "[{'rank': 0, 'subtype': 'xlarge', 'caption': None, 'credit': None, 'type': 'image', 'url': 'images/2024/09/02/crosswords/02connections-art-475/02connections-art-475-articleLarge.jpg', 'height': 400, 'width': 600, 'subType': 'xlarge', 'crop_name': 'articleLarge', 'legacy': {'xlarge': 'images/2024/09/02/crosswords/02connections-art-475/02connections-art-475-articleLarge.jpg', 'xlargewidth': 600, 'xlargeheight': 400}}, {'rank': 0, 'subtype': 'jumbo', 'caption': None, 'credit': None, 'type': 'image', 'url': 'images/2024/09/02/crosswords/02connections-art-475/02connections-art-475-jumbo.jpg', 'height': 683, 'width': 1024, 'subType': 'jumbo', 'crop_name': 'jumbo', 'legacy': {}}, {'rank': 0, 'subtype': 'superJumbo', 'caption': None, 'credit': None, 'type': 'image', 'url': 'images/2024/09/02/crosswords/02connections-art-475/02connections-art-475-superJumbo.jpg', 'height': 1366, 'width': 2048, 'subType': 'superJumbo', 'crop_name': 'superJumbo', 'legacy': {}}, {'rank': 0, 'subtype': 'thumbnail', 'caption': None, 'credit': None, 'type': 'image', 'url': 'images/2024/09/02/crosswords/02connections-art-475/02connections-art-475-thumbStandard.jpg', 'height': 75, 'width': 75, 'subType': 'thumbnail', 'crop_name': 'thumbStandard', 'legacy': {'thumbnail': 'images/2024/09/02/crosswords/02connections-art-475/02connections-art-475-thumbStandard.jpg', 'thumbnailwidth': 75, 'thumbnailheight': 75}}, {'rank': 0, 'subtype': 'thumbLarge', 'caption': None, 'credit': None, 'type': 'image', 'url': 'images/2024/09/02/crosswords/02connections-art-475/02connections-art-475-thumbLarge.jpg', 'height': 150, 'width': 150, 'subType': 'thumbLarge', 'crop_name': 'thumbLarge', 'legacy': {}}]",
         "{'main': 'The Connections Companion No. 449', 'kicker': None, 'content_kicker': None, 'print_headline': '', 'name': None, 'seo': None, 'sub': None}",
         "[{'name': 'subject', 'value': 'Crossword Puzzles', 'rank': 1, 'major': 'N'}, {'name': 'creative_works', 'value': 'Connections (Game)', 'rank': 2, 'major': 'N'}]",
         "2024-09-01T10:00:06+0000",
         "article",
         "Games",
         "Crosswords & Games",
         "{'original': 'By New York Times Games', 'person': [], 'organization': 'The New York Times'}",
         "News",
         "nyt://article/f3690cc6-281e-53fd-9087-9e5c32e31c52",
         "385",
         "nyt://article/f3690cc6-281e-53fd-9087-9e5c32e31c52",
         null
        ],
        [
         "30",
         "30",
         "There are few higher and better callings than to forge a bond with a person and provide a place where they belong.",
         "https://www.nytimes.com/2024/09/01/opinion/loneliness-epidemic-aei-education.html",
         "There are few higher and better callings than to forge a bond with a person and provide a place where they belong.",
         "What is the most important single thing that you can do to heal our national divides and to improve the social and economic mobility of your struggling neighbors?",
         "A",
         "19.0",
         "The New York Times",
         "[{'rank': 0, 'subtype': 'xlarge', 'caption': None, 'credit': None, 'type': 'image', 'url': 'images/2024/09/01/multimedia/01french-jfmc/01french-jfmc-articleLarge.jpg', 'height': 901, 'width': 600, 'subType': 'xlarge', 'crop_name': 'articleLarge', 'legacy': {'xlarge': 'images/2024/09/01/multimedia/01french-jfmc/01french-jfmc-articleLarge.jpg', 'xlargewidth': 600, 'xlargeheight': 901}}, {'rank': 0, 'subtype': 'jumbo', 'caption': None, 'credit': None, 'type': 'image', 'url': 'images/2024/09/01/multimedia/01french-jfmc/01french-jfmc-jumbo.jpg', 'height': 1024, 'width': 683, 'subType': 'jumbo', 'crop_name': 'jumbo', 'legacy': {}}, {'rank': 0, 'subtype': 'superJumbo', 'caption': None, 'credit': None, 'type': 'image', 'url': 'images/2024/09/01/multimedia/01french-jfmc/01french-jfmc-superJumbo.jpg', 'height': 2048, 'width': 1365, 'subType': 'superJumbo', 'crop_name': 'superJumbo', 'legacy': {}}, {'rank': 0, 'subtype': 'thumbnail', 'caption': None, 'credit': None, 'type': 'image', 'url': 'images/2024/09/01/multimedia/01french-jfmc/01french-jfmc-thumbStandard.jpg', 'height': 75, 'width': 75, 'subType': 'thumbnail', 'crop_name': 'thumbStandard', 'legacy': {'thumbnail': 'images/2024/09/01/multimedia/01french-jfmc/01french-jfmc-thumbStandard.jpg', 'thumbnailwidth': 75, 'thumbnailheight': 75}}, {'rank': 0, 'subtype': 'thumbLarge', 'caption': None, 'credit': None, 'type': 'image', 'url': 'images/2024/09/01/multimedia/01french-jfmc/01french-jfmc-thumbLarge.jpg', 'height': 150, 'width': 150, 'subType': 'thumbLarge', 'crop_name': 'thumbLarge', 'legacy': {}}]",
         "{'main': 'The Loneliness Epidemic Has a Cure', 'kicker': 'David French', 'content_kicker': None, 'print_headline': 'The Loneliness Epidemic Has a Cure', 'name': None, 'seo': None, 'sub': None}",
         "[{'name': 'subject', 'value': 'Friendship', 'rank': 1, 'major': 'N'}, {'name': 'subject', 'value': 'Income Inequality', 'rank': 2, 'major': 'N'}, {'name': 'glocations', 'value': 'United States', 'rank': 3, 'major': 'N'}, {'name': 'subject', 'value': 'Loneliness', 'rank': 4, 'major': 'N'}, {'name': 'subject', 'value': 'Volunteers and Community Service', 'rank': 5, 'major': 'N'}]",
         "2024-09-01T10:00:09+0000",
         "article",
         "OpEd",
         "Opinion",
         "{'original': 'By David French', 'person': [{'firstname': 'David', 'middlename': None, 'lastname': 'French', 'qualifier': None, 'title': None, 'role': 'reported', 'organization': '', 'rank': 1}], 'organization': None}",
         "Op-Ed",
         "nyt://article/3ea7759f-1fa3-52db-b2ae-b0aab1991bd8",
         "1436",
         "nyt://article/3ea7759f-1fa3-52db-b2ae-b0aab1991bd8",
         null
        ],
        [
         "31",
         "31",
         "At a Moms for Liberty event on Friday night, the former president passed up a pretty good opportunity.",
         "https://www.nytimes.com/2024/09/01/opinion/donald-trump-women.html",
         "At a Moms for Liberty event on Friday night, the former president passed up a pretty good opportunity.",
         "Rolling into the Labor Day weekend, Donald Trump was able to relax a little on Friday night with a ballroom of smitten women in downtown Washington.",
         "A",
         "18.0",
         "The New York Times",
         "[{'rank': 0, 'subtype': 'xlarge', 'caption': None, 'credit': None, 'type': 'image', 'url': 'images/2024/09/01/multimedia/01cottle-jtmp/01cottle-jtmp-articleLarge.jpg', 'height': 400, 'width': 600, 'subType': 'xlarge', 'crop_name': 'articleLarge', 'legacy': {'xlarge': 'images/2024/09/01/multimedia/01cottle-jtmp/01cottle-jtmp-articleLarge.jpg', 'xlargewidth': 600, 'xlargeheight': 400}}, {'rank': 0, 'subtype': 'jumbo', 'caption': None, 'credit': None, 'type': 'image', 'url': 'images/2024/09/01/multimedia/01cottle-jtmp/01cottle-jtmp-jumbo.jpg', 'height': 683, 'width': 1024, 'subType': 'jumbo', 'crop_name': 'jumbo', 'legacy': {}}, {'rank': 0, 'subtype': 'superJumbo', 'caption': None, 'credit': None, 'type': 'image', 'url': 'images/2024/09/01/multimedia/01cottle-jtmp/01cottle-jtmp-superJumbo.jpg', 'height': 1365, 'width': 2048, 'subType': 'superJumbo', 'crop_name': 'superJumbo', 'legacy': {}}, {'rank': 0, 'subtype': 'thumbnail', 'caption': None, 'credit': None, 'type': 'image', 'url': 'images/2024/09/01/multimedia/01cottle-jtmp/01cottle-jtmp-thumbStandard.jpg', 'height': 75, 'width': 75, 'subType': 'thumbnail', 'crop_name': 'thumbStandard', 'legacy': {'thumbnail': 'images/2024/09/01/multimedia/01cottle-jtmp/01cottle-jtmp-thumbStandard.jpg', 'thumbnailwidth': 75, 'thumbnailheight': 75}}, {'rank': 0, 'subtype': 'thumbLarge', 'caption': None, 'credit': None, 'type': 'image', 'url': 'images/2024/09/01/multimedia/01cottle-jtmp/01cottle-jtmp-thumbLarge.jpg', 'height': 150, 'width': 150, 'subType': 'thumbLarge', 'crop_name': 'thumbLarge', 'legacy': {}}]",
         "{'main': 'Trump Tried to Humanize Himself. Better Luck Next Time.', 'kicker': 'Michelle Cottle', 'content_kicker': None, 'print_headline': 'Trump Tried to Humanize Himself. Better Luck Next Time.', 'name': None, 'seo': None, 'sub': None}",
         "[{'name': 'persons', 'value': 'Trump, Donald J', 'rank': 1, 'major': 'N'}, {'name': 'subject', 'value': 'Presidential Election of 2024', 'rank': 2, 'major': 'N'}, {'name': 'subject', 'value': 'Women and Girls', 'rank': 3, 'major': 'N'}, {'name': 'organizations', 'value': 'Moms for Liberty', 'rank': 4, 'major': 'N'}, {'name': 'persons', 'value': 'Justice, Tiffany', 'rank': 5, 'major': 'N'}]",
         "2024-09-01T10:00:17+0000",
         "article",
         "OpEd",
         "Opinion",
         "{'original': 'By Michelle Cottle', 'person': [{'firstname': 'Michelle', 'middlename': None, 'lastname': 'Cottle', 'qualifier': None, 'title': None, 'role': 'reported', 'organization': '', 'rank': 1}], 'organization': None}",
         "Op-Ed",
         "nyt://article/bd11e511-dbc3-5340-9374-b58f9971a6bc",
         "1364",
         "nyt://article/bd11e511-dbc3-5340-9374-b58f9971a6bc",
         null
        ],
        [
         "32",
         "32",
         "Ukraine said Russia struck the country’s second-largest city with missiles and bombs. Russian state media and local officials earlier reported that Ukraine attacked power plants and refineries with drones.",
         "https://www.nytimes.com/2024/09/01/world/europe/ukraine-russia-energy-strikes.html",
         "Ukraine said Russia struck the country’s second-largest city with missiles and bombs. Russian state media and local officials earlier reported that Ukraine attacked power plants and refineries with drones.",
         "Follow the latest updates on the Russia-Ukraine war.",
         "A",
         "8.0",
         "The New York Times",
         "[{'rank': 0, 'subtype': 'xlarge', 'caption': None, 'credit': None, 'type': 'image', 'url': 'images/2024/09/01/multimedia/01ukraine-russia-strikes-jbtw/01ukraine-russia-strikes-jbtw-articleLarge-v2.jpg', 'height': 400, 'width': 600, 'subType': 'xlarge', 'crop_name': 'articleLarge', 'legacy': {'xlarge': 'images/2024/09/01/multimedia/01ukraine-russia-strikes-jbtw/01ukraine-russia-strikes-jbtw-articleLarge-v2.jpg', 'xlargewidth': 600, 'xlargeheight': 400}}, {'rank': 0, 'subtype': 'jumbo', 'caption': None, 'credit': None, 'type': 'image', 'url': 'images/2024/09/01/multimedia/01ukraine-russia-strikes-jbtw/01ukraine-russia-strikes-jbtw-jumbo-v2.jpg', 'height': 683, 'width': 1024, 'subType': 'jumbo', 'crop_name': 'jumbo', 'legacy': {}}, {'rank': 0, 'subtype': 'superJumbo', 'caption': None, 'credit': None, 'type': 'image', 'url': 'images/2024/09/01/multimedia/01ukraine-russia-strikes-jbtw/01ukraine-russia-strikes-jbtw-superJumbo-v2.jpg', 'height': 1366, 'width': 2048, 'subType': 'superJumbo', 'crop_name': 'superJumbo', 'legacy': {}}, {'rank': 0, 'subtype': 'thumbnail', 'caption': None, 'credit': None, 'type': 'image', 'url': 'images/2024/09/01/multimedia/01ukraine-russia-strikes-jbtw/01ukraine-russia-strikes-jbtw-thumbStandard-v3.jpg', 'height': 75, 'width': 75, 'subType': 'thumbnail', 'crop_name': 'thumbStandard', 'legacy': {'thumbnail': 'images/2024/09/01/multimedia/01ukraine-russia-strikes-jbtw/01ukraine-russia-strikes-jbtw-thumbStandard-v3.jpg', 'thumbnailwidth': 75, 'thumbnailheight': 75}}, {'rank': 0, 'subtype': 'thumbLarge', 'caption': None, 'credit': None, 'type': 'image', 'url': 'images/2024/09/01/multimedia/01ukraine-russia-strikes-jbtw/01ukraine-russia-strikes-jbtw-thumbLarge-v3.jpg', 'height': 150, 'width': 150, 'subType': 'thumbLarge', 'crop_name': 'thumbLarge', 'legacy': {}}]",
         "{'main': 'Russians Bomb Kharkiv, Ukraine Says, After Russia Reports Wave of Attacks', 'kicker': None, 'content_kicker': None, 'print_headline': 'Explosions Rock Kharkiv After Russia Reports a Wave of Drone Attacks', 'name': None, 'seo': None, 'sub': None}",
         "[{'name': 'subject', 'value': 'Drones (Pilotless Planes)', 'rank': 1, 'major': 'N'}, {'name': 'subject', 'value': 'United States International Relations', 'rank': 2, 'major': 'N'}, {'name': 'subject', 'value': 'Russian Invasion of Ukraine (2022)', 'rank': 3, 'major': 'N'}, {'name': 'subject', 'value': 'Oil (Petroleum) and Gasoline', 'rank': 4, 'major': 'N'}, {'name': 'persons', 'value': 'Zelensky, Volodymyr', 'rank': 5, 'major': 'N'}, {'name': 'glocations', 'value': 'Ukraine', 'rank': 6, 'major': 'N'}, {'name': 'glocations', 'value': 'Russia', 'rank': 7, 'major': 'N'}]",
         "2024-09-01T10:47:11+0000",
         "article",
         "Foreign",
         "World",
         "{'original': 'By Marc Santora and David Guttenfelder', 'person': [{'firstname': 'Marc', 'middlename': None, 'lastname': 'Santora', 'qualifier': None, 'title': None, 'role': 'reported', 'organization': '', 'rank': 1}, {'firstname': 'David', 'middlename': None, 'lastname': 'Guttenfelder', 'qualifier': None, 'title': None, 'role': 'reported', 'organization': '', 'rank': 2}], 'organization': None}",
         "News",
         "nyt://article/d918efb7-d901-53c8-a800-1247115a0a5b",
         "1281",
         "nyt://article/d918efb7-d901-53c8-a800-1247115a0a5b",
         "Europe"
        ],
        [
         "33",
         "33",
         "Her campaign’s message that Democrats are losing, which she never voiced when President Biden was tanking the ticket, is an artful attempt to lower expectations.",
         "https://www.nytimes.com/2024/09/01/us/politics/harris-democrats-trump.html",
         "Her campaign’s message that Democrats are losing, which she never voiced when President Biden was tanking the ticket, is an artful attempt to lower expectations.",
         "Follow the latest updates on the Harris and Trump campaigns.",
         "A",
         "16.0",
         "The New York Times",
         "[{'rank': 0, 'subtype': 'xlarge', 'caption': None, 'credit': None, 'type': 'image', 'url': 'images/2024/09/01/multimedia/01-pol-harris-memo-khlt/01-pol-harris-memo-khlt-articleLarge.jpg', 'height': 400, 'width': 600, 'subType': 'xlarge', 'crop_name': 'articleLarge', 'legacy': {'xlarge': 'images/2024/09/01/multimedia/01-pol-harris-memo-khlt/01-pol-harris-memo-khlt-articleLarge.jpg', 'xlargewidth': 600, 'xlargeheight': 400}}, {'rank': 0, 'subtype': 'jumbo', 'caption': None, 'credit': None, 'type': 'image', 'url': 'images/2024/09/01/multimedia/01-pol-harris-memo-khlt/01-pol-harris-memo-khlt-jumbo.jpg', 'height': 683, 'width': 1024, 'subType': 'jumbo', 'crop_name': 'jumbo', 'legacy': {}}, {'rank': 0, 'subtype': 'superJumbo', 'caption': None, 'credit': None, 'type': 'image', 'url': 'images/2024/09/01/multimedia/01-pol-harris-memo-khlt/01-pol-harris-memo-khlt-superJumbo.jpg', 'height': 1365, 'width': 2048, 'subType': 'superJumbo', 'crop_name': 'superJumbo', 'legacy': {}}, {'rank': 0, 'subtype': 'thumbnail', 'caption': None, 'credit': None, 'type': 'image', 'url': 'images/2024/09/01/multimedia/01-pol-harris-memo-khlt/01-pol-harris-memo-khlt-thumbStandard.jpg', 'height': 75, 'width': 75, 'subType': 'thumbnail', 'crop_name': 'thumbStandard', 'legacy': {'thumbnail': 'images/2024/09/01/multimedia/01-pol-harris-memo-khlt/01-pol-harris-memo-khlt-thumbStandard.jpg', 'thumbnailwidth': 75, 'thumbnailheight': 75}}, {'rank': 0, 'subtype': 'thumbLarge', 'caption': None, 'credit': None, 'type': 'image', 'url': 'images/2024/09/01/multimedia/01-pol-harris-memo-khlt/01-pol-harris-memo-khlt-thumbLarge.jpg', 'height': 150, 'width': 150, 'subType': 'thumbLarge', 'crop_name': 'thumbLarge', 'legacy': {}}]",
         "{'main': 'Harris’s Team, With a Wink, Insists She’s an Underdog', 'kicker': 'Political Memo', 'content_kicker': None, 'print_headline': 'Inverting the Message: Now That Polls Are Up, ‘We’re the Underdogs’', 'name': None, 'seo': None, 'sub': None}",
         "[{'name': 'persons', 'value': 'Harris, Kamala D', 'rank': 1, 'major': 'N'}, {'name': 'subject', 'value': 'Presidential Election of 2024', 'rank': 2, 'major': 'N'}, {'name': 'organizations', 'value': 'Democratic Party', 'rank': 3, 'major': 'N'}, {'name': 'subject', 'value': 'United States Politics and Government', 'rank': 4, 'major': 'N'}, {'name': 'persons', 'value': 'Biden, Joseph R Jr', 'rank': 5, 'major': 'N'}, {'name': 'persons', 'value': 'Trump, Donald J', 'rank': 6, 'major': 'N'}]",
         "2024-09-01T11:00:09+0000",
         "article",
         "Politics",
         "U.S.",
         "{'original': 'By Reid J. Epstein', 'person': [{'firstname': 'Reid', 'middlename': 'J.', 'lastname': 'Epstein', 'qualifier': None, 'title': None, 'role': 'reported', 'organization': '', 'rank': 1}], 'organization': None}",
         "News",
         "nyt://article/8f084064-e5f0-5844-90b7-0d94955b8373",
         "652",
         "nyt://article/8f084064-e5f0-5844-90b7-0d94955b8373",
         "Politics"
        ],
        [
         "34",
         "34",
         "“Fight Night: The Million Dollar Heist,” “A Very Royal Scandal,” a “Walking Dead” spinoff and “Agatha All Along” arrive.",
         "https://www.nytimes.com/2024/09/01/arts/television/september-streaming-movies-tv-shows.html",
         "“Fight Night: The Million Dollar Heist,” “A Very Royal Scandal,” a “Walking Dead” spinoff and “Agatha All Along” arrive.",
         "Every month, streaming services add movies and TV shows to their libraries. Here are our picks for some of September’s most promising new titles. (Note: Streaming services occasionally change schedules without giving notice. For more recommendations on what to stream, sign up for our Watching newsletter here.)",
         null,
         null,
         "The New York Times",
         "[{'rank': 0, 'subtype': 'xlarge', 'caption': None, 'credit': None, 'type': 'image', 'url': 'images/2024/09/01/multimedia/01streaming-new-sept-royal-scandal-gjhf/01streaming-new-sept-royal-scandal-gjhf-articleLarge.jpg', 'height': 400, 'width': 600, 'subType': 'xlarge', 'crop_name': 'articleLarge', 'legacy': {'xlarge': 'images/2024/09/01/multimedia/01streaming-new-sept-royal-scandal-gjhf/01streaming-new-sept-royal-scandal-gjhf-articleLarge.jpg', 'xlargewidth': 600, 'xlargeheight': 400}}, {'rank': 0, 'subtype': 'jumbo', 'caption': None, 'credit': None, 'type': 'image', 'url': 'images/2024/09/01/multimedia/01streaming-new-sept-royal-scandal-gjhf/01streaming-new-sept-royal-scandal-gjhf-jumbo.jpg', 'height': 683, 'width': 1024, 'subType': 'jumbo', 'crop_name': 'jumbo', 'legacy': {}}, {'rank': 0, 'subtype': 'superJumbo', 'caption': None, 'credit': None, 'type': 'image', 'url': 'images/2024/09/01/multimedia/01streaming-new-sept-royal-scandal-gjhf/01streaming-new-sept-royal-scandal-gjhf-superJumbo.jpg', 'height': 1366, 'width': 2048, 'subType': 'superJumbo', 'crop_name': 'superJumbo', 'legacy': {}}, {'rank': 0, 'subtype': 'thumbnail', 'caption': None, 'credit': None, 'type': 'image', 'url': 'images/2024/09/01/multimedia/01streaming-new-sept-royal-scandal-gjhf/01streaming-new-sept-royal-scandal-gjhf-thumbStandard.jpg', 'height': 75, 'width': 75, 'subType': 'thumbnail', 'crop_name': 'thumbStandard', 'legacy': {'thumbnail': 'images/2024/09/01/multimedia/01streaming-new-sept-royal-scandal-gjhf/01streaming-new-sept-royal-scandal-gjhf-thumbStandard.jpg', 'thumbnailwidth': 75, 'thumbnailheight': 75}}, {'rank': 0, 'subtype': 'thumbLarge', 'caption': None, 'credit': None, 'type': 'image', 'url': 'images/2024/09/01/multimedia/01streaming-new-sept-royal-scandal-gjhf/01streaming-new-sept-royal-scandal-gjhf-thumbLarge.jpg', 'height': 150, 'width': 150, 'subType': 'thumbLarge', 'crop_name': 'thumbLarge', 'legacy': {}}]",
         "{'main': 'The Best Movies and TV Shows Coming to Disney+, Max, Hulu and More in September', 'kicker': None, 'content_kicker': None, 'print_headline': '', 'name': None, 'seo': None, 'sub': None}",
         "[{'name': 'subject', 'value': 'Television', 'rank': 1, 'major': 'N'}, {'name': 'subject', 'value': 'Movies', 'rank': 2, 'major': 'N'}, {'name': 'creative_works', 'value': 'My Brilliant Friend (TV Program)', 'rank': 3, 'major': 'N'}, {'name': 'creative_works', 'value': 'Slow Horses (TV Program)', 'rank': 4, 'major': 'N'}, {'name': 'creative_works', 'value': 'The Walking Dead (TV Program)', 'rank': 5, 'major': 'N'}, {'name': 'creative_works', 'value': 'Tulsa King (TV Program)', 'rank': 6, 'major': 'N'}, {'name': 'creative_works', 'value': 'The Old Man (TV Program)', 'rank': 10, 'major': 'N'}]",
         "2024-09-01T11:00:27+0000",
         "article",
         "Culture",
         "Arts",
         "{'original': 'By Noel Murray', 'person': [{'firstname': 'Noel', 'middlename': None, 'lastname': 'Murray', 'qualifier': None, 'title': None, 'role': 'reported', 'organization': '', 'rank': 1}], 'organization': None}",
         "News",
         "nyt://article/38c392b6-cfa1-5faa-b8c2-2e6d9bf870f5",
         "1705",
         "nyt://article/38c392b6-cfa1-5faa-b8c2-2e6d9bf870f5",
         "Television"
        ],
        [
         "35",
         "35",
         "One of the hostages, Hersh Goldberg-Polin, was an American citizen.",
         "https://www.nytimes.com/2024/09/01/world/middleeast/hostages-gaza-what-to-know.html",
         "One of the hostages, Hersh Goldberg-Polin, was an American citizen.",
         "Tributes poured in on Sunday for the six hostages who were found dead in southern Gaza over the weekend.",
         null,
         null,
         "The New York Times",
         "[{'rank': 0, 'subtype': 'xlarge', 'caption': None, 'credit': None, 'type': 'image', 'url': 'images/2024/09/01/multimedia/01mideast-crisis-hostages-bios-dupe/01mideast-crisis-hostages-jkzh-articleLarge.jpg', 'height': 398, 'width': 600, 'subType': 'xlarge', 'crop_name': 'articleLarge', 'legacy': {'xlarge': 'images/2024/09/01/multimedia/01mideast-crisis-hostages-bios-dupe/01mideast-crisis-hostages-jkzh-articleLarge.jpg', 'xlargewidth': 600, 'xlargeheight': 398}}, {'rank': 0, 'subtype': 'jumbo', 'caption': None, 'credit': None, 'type': 'image', 'url': 'images/2024/09/01/multimedia/01mideast-crisis-hostages-bios-dupe/01mideast-crisis-hostages-jkzh-jumbo.jpg', 'height': 679, 'width': 1024, 'subType': 'jumbo', 'crop_name': 'jumbo', 'legacy': {}}, {'rank': 0, 'subtype': 'superJumbo', 'caption': None, 'credit': None, 'type': 'image', 'url': 'images/2024/09/01/multimedia/01mideast-crisis-hostages-bios-dupe/01mideast-crisis-hostages-jkzh-superJumbo.jpg', 'height': 1357, 'width': 2048, 'subType': 'superJumbo', 'crop_name': 'superJumbo', 'legacy': {}}, {'rank': 0, 'subtype': 'thumbnail', 'caption': None, 'credit': None, 'type': 'image', 'url': 'images/2024/09/01/multimedia/01mideast-crisis-hostages-bios-dupe/01mideast-crisis-hostages-jkzh-thumbStandard.jpg', 'height': 75, 'width': 75, 'subType': 'thumbnail', 'crop_name': 'thumbStandard', 'legacy': {'thumbnail': 'images/2024/09/01/multimedia/01mideast-crisis-hostages-bios-dupe/01mideast-crisis-hostages-jkzh-thumbStandard.jpg', 'thumbnailwidth': 75, 'thumbnailheight': 75}}, {'rank': 0, 'subtype': 'thumbLarge', 'caption': None, 'credit': None, 'type': 'image', 'url': 'images/2024/09/01/multimedia/01mideast-crisis-hostages-bios-dupe/01mideast-crisis-hostages-jkzh-thumbLarge.jpg', 'height': 150, 'width': 150, 'subType': 'thumbLarge', 'crop_name': 'thumbLarge', 'legacy': {}}]",
         "{'main': 'What to Know About the Six Hostages Killed in Gaza', 'kicker': None, 'content_kicker': None, 'print_headline': '', 'name': None, 'seo': None, 'sub': None}",
         "[{'name': 'subject', 'value': 'Kidnapping and Hostages', 'rank': 1, 'major': 'N'}, {'name': 'subject', 'value': 'Palestinians', 'rank': 2, 'major': 'N'}, {'name': 'subject', 'value': 'Israel-Gaza War (2023- )', 'rank': 3, 'major': 'N'}, {'name': 'persons', 'value': 'Biden, Joseph R Jr', 'rank': 4, 'major': 'N'}, {'name': 'persons', 'value': 'Goldberg-Polin, Hersh', 'rank': 5, 'major': 'N'}]",
         "2024-09-01T11:35:45+0000",
         "article",
         "Foreign",
         "World",
         "{'original': 'By Amelia Nierenberg', 'person': [{'firstname': 'Amelia', 'middlename': None, 'lastname': 'Nierenberg', 'qualifier': None, 'title': None, 'role': 'reported', 'organization': '', 'rank': 1}], 'organization': None}",
         "News",
         "nyt://article/d8ac072d-962c-59e5-b7a0-c3284e2fb871",
         "1021",
         "nyt://article/d8ac072d-962c-59e5-b7a0-c3284e2fb871",
         "Middle East"
        ],
        [
         "36",
         "36",
         "Inside an intractable problem inside America’s change purses.",
         "https://www.nytimes.com/2024/09/01/briefing/the-penny-us-currency.html",
         "Inside an intractable problem inside America’s change purses.",
         "I have good news and I have bad news. Actually, I have crazy news and I have bad news. Actually, all the news I have is bad, but some of it is also crazy. Before you become totally freaked out, all the news I’m describing here is about pennies; it’s nothing life and death. But you do need to buckle up.",
         null,
         null,
         "The New York Times",
         "[{'rank': 0, 'subtype': 'xlarge', 'caption': None, 'credit': None, 'type': 'image', 'url': 'images/2024/09/24/reader-center/01themorning-penny/01themorning-penny-articleLarge.png', 'height': 600, 'width': 600, 'subType': 'xlarge', 'crop_name': 'articleLarge', 'legacy': {'xlarge': 'images/2024/09/24/reader-center/01themorning-penny/01themorning-penny-articleLarge.png', 'xlargewidth': 600, 'xlargeheight': 600}}, {'rank': 0, 'subtype': 'jumbo', 'caption': None, 'credit': None, 'type': 'image', 'url': 'images/2024/09/24/reader-center/01themorning-penny/01themorning-penny-jumbo.gif', 'height': 768, 'width': 768, 'subType': 'jumbo', 'crop_name': 'jumbo', 'legacy': {}}, {'rank': 0, 'subtype': 'superJumbo', 'caption': None, 'credit': None, 'type': 'image', 'url': 'images/2024/09/24/reader-center/01themorning-penny/01themorning-penny-superJumbo.gif', 'height': 768, 'width': 768, 'subType': 'superJumbo', 'crop_name': 'superJumbo', 'legacy': {}}, {'rank': 0, 'subtype': 'thumbnail', 'caption': None, 'credit': None, 'type': 'image', 'url': 'images/2024/09/24/reader-center/01themorning-penny/24-PENNY-MAG-HP-PROMO-COVER-thumbStandard.png', 'height': 75, 'width': 75, 'subType': 'thumbnail', 'crop_name': 'thumbStandard', 'legacy': {'thumbnail': 'images/2024/09/24/reader-center/01themorning-penny/24-PENNY-MAG-HP-PROMO-COVER-thumbStandard.png', 'thumbnailwidth': 75, 'thumbnailheight': 75}}, {'rank': 0, 'subtype': 'thumbLarge', 'caption': None, 'credit': None, 'type': 'image', 'url': 'images/2024/09/24/reader-center/01themorning-penny/24-PENNY-MAG-HP-PROMO-COVER-thumbLarge.png', 'height': 150, 'width': 150, 'subType': 'thumbLarge', 'crop_name': 'thumbLarge', 'legacy': {}}]",
         "{'main': 'Abolish the Penny?', 'kicker': None, 'content_kicker': None, 'print_headline': '', 'name': None, 'seo': None, 'sub': None}",
         "[{'name': 'subject', 'value': 'internal-storyline-no', 'rank': 1, 'major': 'N'}, {'name': 'subject', 'value': 'Currency', 'rank': 2, 'major': 'N'}, {'name': 'subject', 'value': 'Numismatics', 'rank': 3, 'major': 'N'}, {'name': 'organizations', 'value': 'United States Mint', 'rank': 4, 'major': 'N'}, {'name': 'glocations', 'value': 'United States', 'rank': 5, 'major': 'N'}]",
         "2024-09-01T11:40:57+0000",
         "article",
         "NYTNow",
         "Briefing",
         "{'original': 'By Caity Weaver', 'person': [{'firstname': 'Caity', 'middlename': None, 'lastname': 'Weaver', 'qualifier': None, 'title': None, 'role': 'reported', 'organization': '', 'rank': 1}], 'organization': None}",
         "briefing",
         "nyt://article/d3122495-1e8c-5bd4-a5ee-b694284f44c5",
         "1742",
         "nyt://article/d3122495-1e8c-5bd4-a5ee-b694284f44c5",
         null
        ],
        [
         "37",
         "37",
         "The officers were shot and killed in what the Israeli police said was a terrorist attack. The incident followed a rise in Palestinian and Israeli violence, as Israel’s military raids Palestinian cities.",
         "https://www.nytimes.com/2024/09/01/world/middleeast/israel-west-bank-police.html",
         "The officers were shot and killed in what the Israeli police said was a terrorist attack. The incident followed a rise in Palestinian and Israeli violence, as Israel’s military raids Palestinian cities.",
         "Gunmen killed three Israeli police officers on Sunday morning as they drove through the Israeli-occupied West Bank, the latest episode in the spiral of violence in the territory that includes attacks by Palestinian and Israeli extremists, as well as ongoing raids by the Israeli military in Palestinian cities.",
         null,
         null,
         "The New York Times",
         "[{'rank': 0, 'subtype': 'xlarge', 'caption': None, 'credit': None, 'type': 'image', 'url': 'images/2024/09/01/multimedia/01mideast-crisis-west-bank-1-cjgl/01mideast-crisis-west-bank-1-cjgl-articleLarge.jpg', 'height': 400, 'width': 600, 'subType': 'xlarge', 'crop_name': 'articleLarge', 'legacy': {'xlarge': 'images/2024/09/01/multimedia/01mideast-crisis-west-bank-1-cjgl/01mideast-crisis-west-bank-1-cjgl-articleLarge.jpg', 'xlargewidth': 600, 'xlargeheight': 400}}, {'rank': 0, 'subtype': 'jumbo', 'caption': None, 'credit': None, 'type': 'image', 'url': 'images/2024/09/01/multimedia/01mideast-crisis-west-bank-1-cjgl/01mideast-crisis-west-bank-1-cjgl-jumbo.jpg', 'height': 683, 'width': 1024, 'subType': 'jumbo', 'crop_name': 'jumbo', 'legacy': {}}, {'rank': 0, 'subtype': 'superJumbo', 'caption': None, 'credit': None, 'type': 'image', 'url': 'images/2024/09/01/multimedia/01mideast-crisis-west-bank-1-cjgl/01mideast-crisis-west-bank-1-cjgl-superJumbo.jpg', 'height': 1365, 'width': 2048, 'subType': 'superJumbo', 'crop_name': 'superJumbo', 'legacy': {}}, {'rank': 0, 'subtype': 'thumbnail', 'caption': None, 'credit': None, 'type': 'image', 'url': 'images/2024/09/01/multimedia/01mideast-crisis-west-bank-1-cjgl/01mideast-crisis-west-bank-1-cjgl-thumbStandard.jpg', 'height': 75, 'width': 75, 'subType': 'thumbnail', 'crop_name': 'thumbStandard', 'legacy': {'thumbnail': 'images/2024/09/01/multimedia/01mideast-crisis-west-bank-1-cjgl/01mideast-crisis-west-bank-1-cjgl-thumbStandard.jpg', 'thumbnailwidth': 75, 'thumbnailheight': 75}}, {'rank': 0, 'subtype': 'thumbLarge', 'caption': None, 'credit': None, 'type': 'image', 'url': 'images/2024/09/01/multimedia/01mideast-crisis-west-bank-1-cjgl/01mideast-crisis-west-bank-1-cjgl-thumbLarge.jpg', 'height': 150, 'width': 150, 'subType': 'thumbLarge', 'crop_name': 'thumbLarge', 'legacy': {}}]",
         "{'main': '3 Israeli Police Officers Killed as West Bank Violence Spirals', 'kicker': None, 'content_kicker': None, 'print_headline': '', 'name': None, 'seo': None, 'sub': None}",
         "[{'name': 'subject', 'value': 'Israel-Gaza War (2023- )', 'rank': 1, 'major': 'N'}, {'name': 'subject', 'value': 'Defense and Military Forces', 'rank': 2, 'major': 'N'}, {'name': 'subject', 'value': 'Israeli Settlements', 'rank': 3, 'major': 'N'}, {'name': 'subject', 'value': 'Palestinians', 'rank': 4, 'major': 'N'}, {'name': 'organizations', 'value': 'Hamas', 'rank': 5, 'major': 'N'}, {'name': 'glocations', 'value': 'West Bank', 'rank': 6, 'major': 'N'}, {'name': 'glocations', 'value': 'Israel', 'rank': 7, 'major': 'N'}, {'name': 'glocations', 'value': 'Gaza Strip', 'rank': 8, 'major': 'N'}]",
         "2024-09-01T12:13:48+0000",
         "article",
         "Foreign",
         "World",
         "{'original': 'By Patrick Kingsley and Aaron Boxerman', 'person': [{'firstname': 'Patrick', 'middlename': None, 'lastname': 'Kingsley', 'qualifier': None, 'title': None, 'role': 'reported', 'organization': '', 'rank': 1}, {'firstname': 'Aaron', 'middlename': None, 'lastname': 'Boxerman', 'qualifier': None, 'title': None, 'role': 'reported', 'organization': '', 'rank': 2}], 'organization': None}",
         "News",
         "nyt://article/e3ad1eb7-1466-5f43-9234-14db378205b2",
         "667",
         "nyt://article/e3ad1eb7-1466-5f43-9234-14db378205b2",
         "Middle East"
        ],
        [
         "38",
         "38",
         "With hotel chains and union members locked in a dispute over wages and working conditions, strikes could continue to disrupt travel in major U.S. destinations. Here’s what to know.",
         "https://www.nytimes.com/2024/09/01/travel/hotel-workers-strike.html",
         "With hotel chains and union members locked in a dispute over wages and working conditions, strikes could continue to disrupt travel in major U.S. destinations. Here’s what to know.",
         "Over the busy Labor Day weekend, at least 10,000 unionized front-desk workers, housekeepers and other employees at dozens of hotel properties across the country walked off the job after failing to come to an agreement in contract negotiations.",
         "B",
         "4.0",
         "The New York Times",
         "[{'rank': 0, 'subtype': 'xlarge', 'caption': None, 'credit': None, 'type': 'image', 'url': 'images/2024/09/01/multimedia/01Hotel-strikes-explainer2-tfbv/01Hotel-strikes-explainer2-tfbv-articleLarge.jpg', 'height': 400, 'width': 600, 'subType': 'xlarge', 'crop_name': 'articleLarge', 'legacy': {'xlarge': 'images/2024/09/01/multimedia/01Hotel-strikes-explainer2-tfbv/01Hotel-strikes-explainer2-tfbv-articleLarge.jpg', 'xlargewidth': 600, 'xlargeheight': 400}}, {'rank': 0, 'subtype': 'jumbo', 'caption': None, 'credit': None, 'type': 'image', 'url': 'images/2024/09/01/multimedia/01Hotel-strikes-explainer2-tfbv/01Hotel-strikes-explainer2-tfbv-jumbo.jpg', 'height': 683, 'width': 1024, 'subType': 'jumbo', 'crop_name': 'jumbo', 'legacy': {}}, {'rank': 0, 'subtype': 'superJumbo', 'caption': None, 'credit': None, 'type': 'image', 'url': 'images/2024/09/01/multimedia/01Hotel-strikes-explainer2-tfbv/01Hotel-strikes-explainer2-tfbv-superJumbo.jpg', 'height': 1365, 'width': 2048, 'subType': 'superJumbo', 'crop_name': 'superJumbo', 'legacy': {}}, {'rank': 0, 'subtype': 'thumbnail', 'caption': None, 'credit': None, 'type': 'image', 'url': 'images/2024/09/01/multimedia/01Hotel-strikes-explainer2-tfbv/01Hotel-strikes-explainer2-tfbv-thumbStandard.jpg', 'height': 75, 'width': 75, 'subType': 'thumbnail', 'crop_name': 'thumbStandard', 'legacy': {'thumbnail': 'images/2024/09/01/multimedia/01Hotel-strikes-explainer2-tfbv/01Hotel-strikes-explainer2-tfbv-thumbStandard.jpg', 'thumbnailwidth': 75, 'thumbnailheight': 75}}, {'rank': 0, 'subtype': 'thumbLarge', 'caption': None, 'credit': None, 'type': 'image', 'url': 'images/2024/09/01/multimedia/01Hotel-strikes-explainer2-tfbv/01Hotel-strikes-explainer2-tfbv-thumbLarge.jpg', 'height': 150, 'width': 150, 'subType': 'thumbLarge', 'crop_name': 'thumbLarge', 'legacy': {}}]",
         "{'main': 'Your Hotel Is on Strike. What Should You Do?', 'kicker': None, 'content_kicker': None, 'print_headline': 'How Will Strike Affect Travel Plans for Labor Day Weekend?', 'name': None, 'seo': None, 'sub': None}",
         "[{'name': 'subject', 'value': 'Travel and Vacations', 'rank': 1, 'major': 'N'}, {'name': 'subject', 'value': 'Hotels and Travel Lodgings', 'rank': 2, 'major': 'N'}, {'name': 'organizations', 'value': 'Unite Here', 'rank': 3, 'major': 'N'}, {'name': 'subject', 'value': 'Strikes', 'rank': 4, 'major': 'N'}, {'name': 'subject', 'value': 'Organized Labor', 'rank': 5, 'major': 'N'}, {'name': 'subject', 'value': 'Content Type: Service', 'rank': 6, 'major': 'N'}, {'name': 'organizations', 'value': 'Hilton Worldwide Holdings Inc', 'rank': 7, 'major': 'N'}, {'name': 'organizations', 'value': 'Hyatt Hotels Corp', 'rank': 8, 'major': 'N'}, {'name': 'organizations', 'value': 'Marriott International Inc', 'rank': 9, 'major': 'N'}, {'name': 'glocations', 'value': 'United States', 'rank': 10, 'major': 'N'}]",
         "2024-09-01T12:24:12+0000",
         "article",
         "Travel",
         "Travel",
         "{'original': 'By Derek M. Norman', 'person': [{'firstname': 'Derek', 'middlename': None, 'lastname': '', 'qualifier': None, 'title': None, 'role': 'reported', 'organization': '', 'rank': 1}], 'organization': None}",
         "News",
         "nyt://article/7d98e38d-3e74-5d23-a581-626fdfe42e63",
         "715",
         "nyt://article/7d98e38d-3e74-5d23-a581-626fdfe42e63",
         null
        ],
        [
         "39",
         "39",
         "Physical health and mental health are inextricably tied to each other. We need to devote the same care to both parts of ourselves.",
         "https://www.nytimes.com/2024/09/01/opinion/mental-health-preventative-medicine.html",
         "Physical health and mental health are inextricably tied to each other. We need to devote the same care to both parts of ourselves.",
         "“Do you think my symptoms could be from stress?” This is a question more and more of my patients have been asking me when seeking care for problems such as stubborn colds and aching backs.",
         "A",
         "18.0",
         "The New York Times",
         "[{'rank': 0, 'subtype': 'xlarge', 'caption': None, 'credit': None, 'type': 'image', 'url': 'images/2024/09/04/opinion/01ouyang-image/01ouyang-image-articleLarge.jpg', 'height': 600, 'width': 600, 'subType': 'xlarge', 'crop_name': 'articleLarge', 'legacy': {'xlarge': 'images/2024/09/04/opinion/01ouyang-image/01ouyang-image-articleLarge.jpg', 'xlargewidth': 600, 'xlargeheight': 600}}, {'rank': 0, 'subtype': 'jumbo', 'caption': None, 'credit': None, 'type': 'image', 'url': 'images/2024/09/04/opinion/01ouyang-image/01ouyang-image-jumbo.jpg', 'height': 1024, 'width': 1024, 'subType': 'jumbo', 'crop_name': 'jumbo', 'legacy': {}}, {'rank': 0, 'subtype': 'superJumbo', 'caption': None, 'credit': None, 'type': 'image', 'url': 'images/2024/09/04/opinion/01ouyang-image/01ouyang-image-superJumbo.jpg', 'height': 2048, 'width': 2048, 'subType': 'superJumbo', 'crop_name': 'superJumbo', 'legacy': {}}, {'rank': 0, 'subtype': 'thumbnail', 'caption': None, 'credit': None, 'type': 'image', 'url': 'images/2024/09/04/opinion/01ouyang-image/01ouyang-image-thumbStandard.jpg', 'height': 75, 'width': 75, 'subType': 'thumbnail', 'crop_name': 'thumbStandard', 'legacy': {'thumbnail': 'images/2024/09/04/opinion/01ouyang-image/01ouyang-image-thumbStandard.jpg', 'thumbnailwidth': 75, 'thumbnailheight': 75}}, {'rank': 0, 'subtype': 'thumbLarge', 'caption': None, 'credit': None, 'type': 'image', 'url': 'images/2024/09/04/opinion/01ouyang-image/01ouyang-image-thumbLarge.jpg', 'height': 150, 'width': 150, 'subType': 'thumbLarge', 'crop_name': 'thumbLarge', 'legacy': {}}]",
         "{'main': 'We Know Mental Health Affects Physical Health. Why Don’t We Act Like It?', 'kicker': 'Guest Essay', 'content_kicker': None, 'print_headline': 'A Daring Approach to Mental Illness', 'name': None, 'seo': None, 'sub': None}",
         "[{'name': 'subject', 'value': 'Mental Health and Disorders', 'rank': 1, 'major': 'N'}, {'name': 'subject', 'value': 'Health Insurance and Managed Care', 'rank': 2, 'major': 'N'}, {'name': 'subject', 'value': 'Psychology and Psychologists', 'rank': 3, 'major': 'N'}, {'name': 'subject', 'value': 'Anxiety and Stress', 'rank': 4, 'major': 'N'}, {'name': 'subject', 'value': 'Preventive Medicine', 'rank': 5, 'major': 'N'}, {'name': 'subject', 'value': 'Psychiatry and Psychiatrists', 'rank': 6, 'major': 'N'}, {'name': 'subject', 'value': 'Doctors', 'rank': 7, 'major': 'N'}, {'name': 'glocations', 'value': 'United States', 'rank': 8, 'major': 'N'}]",
         "2024-09-01T13:00:08+0000",
         "article",
         "OpEd",
         "Opinion",
         "{'original': 'By Helen Ouyang', 'person': [{'firstname': 'Helen', 'middlename': None, 'lastname': 'Ouyang', 'qualifier': None, 'title': None, 'role': 'reported', 'organization': '', 'rank': 1}], 'organization': None}",
         "Op-Ed",
         "nyt://article/a2785ef5-29c0-5448-a46b-e2d40a5ad129",
         "1126",
         "nyt://article/a2785ef5-29c0-5448-a46b-e2d40a5ad129",
         null
        ],
        [
         "40",
         "40",
         "U.S. government spending is lavished on its older people at the expense of its young.",
         "https://www.nytimes.com/2024/09/01/opinion/boomers-youth-social-security-medicare.html",
         "U.S. government spending is lavished on its older people at the expense of its young.",
         "You know the expression “OK, boomer”? Better said as “Boomer OK.” That’s because the social safety net in the United States is increasingly favoring the old over the young. And this affects our political views and the security of future generations.",
         null,
         null,
         "The New York Times",
         "[{'rank': 0, 'subtype': 'xlarge', 'caption': None, 'credit': None, 'type': 'image', 'url': 'images/2024/09/01/opinion/01steurele-image/01steurele-image-articleLarge.jpg', 'height': 600, 'width': 600, 'subType': 'xlarge', 'crop_name': 'articleLarge', 'legacy': {'xlarge': 'images/2024/09/01/opinion/01steurele-image/01steurele-image-articleLarge.jpg', 'xlargewidth': 600, 'xlargeheight': 600}}, {'rank': 0, 'subtype': 'jumbo', 'caption': None, 'credit': None, 'type': 'image', 'url': 'images/2024/09/01/opinion/01steurele-image/01steurele-image-jumbo.jpg', 'height': 1024, 'width': 1024, 'subType': 'jumbo', 'crop_name': 'jumbo', 'legacy': {}}, {'rank': 0, 'subtype': 'superJumbo', 'caption': None, 'credit': None, 'type': 'image', 'url': 'images/2024/09/01/opinion/01steurele-image/01steurele-image-superJumbo.jpg', 'height': 2048, 'width': 2048, 'subType': 'superJumbo', 'crop_name': 'superJumbo', 'legacy': {}}, {'rank': 0, 'subtype': 'thumbnail', 'caption': None, 'credit': None, 'type': 'image', 'url': 'images/2024/09/01/opinion/01steurele-image/01steurele-image-thumbStandard.jpg', 'height': 75, 'width': 75, 'subType': 'thumbnail', 'crop_name': 'thumbStandard', 'legacy': {'thumbnail': 'images/2024/09/01/opinion/01steurele-image/01steurele-image-thumbStandard.jpg', 'thumbnailwidth': 75, 'thumbnailheight': 75}}, {'rank': 0, 'subtype': 'thumbLarge', 'caption': None, 'credit': None, 'type': 'image', 'url': 'images/2024/09/01/opinion/01steurele-image/01steurele-image-thumbLarge.jpg', 'height': 150, 'width': 150, 'subType': 'thumbLarge', 'crop_name': 'thumbLarge', 'legacy': {}}]",
         "{'main': 'Young Americans Can’t Keep Funding Boomers and Beyond', 'kicker': 'Guest Essay', 'content_kicker': None, 'print_headline': '', 'name': None, 'seo': None, 'sub': None}",
         "[{'name': 'subject', 'value': 'Baby Boomers', 'rank': 1, 'major': 'N'}, {'name': 'subject', 'value': 'Millennial Generation', 'rank': 2, 'major': 'N'}, {'name': 'subject', 'value': 'Generation Z', 'rank': 3, 'major': 'N'}, {'name': 'subject', 'value': 'Youth', 'rank': 4, 'major': 'N'}, {'name': 'subject', 'value': 'Health Insurance and Managed Care', 'rank': 5, 'major': 'N'}, {'name': 'subject', 'value': 'Presidential Election of 2024', 'rank': 6, 'major': 'N'}, {'name': 'subject', 'value': 'Social Security (US)', 'rank': 7, 'major': 'N'}, {'name': 'subject', 'value': 'Medicare', 'rank': 8, 'major': 'N'}, {'name': 'subject', 'value': 'Retirement', 'rank': 9, 'major': 'N'}, {'name': 'subject', 'value': 'United States Economy', 'rank': 10, 'major': 'N'}]",
         "2024-09-01T13:00:09+0000",
         "article",
         "OpEd",
         "Opinion",
         "{'original': 'By C. Eugene Steuerle and Glenn Kramon', 'person': [{'firstname': 'C.', 'middlename': 'Eugene', 'lastname': 'Steuerle', 'qualifier': None, 'title': None, 'role': 'reported', 'organization': '', 'rank': 1}, {'firstname': 'Glenn', 'middlename': None, 'lastname': 'Kramon', 'qualifier': None, 'title': None, 'role': 'reported', 'organization': '', 'rank': 2}], 'organization': None}",
         "Op-Ed",
         "nyt://article/54568c55-0964-5fbe-a599-0c5f739d73a7",
         "1042",
         "nyt://article/54568c55-0964-5fbe-a599-0c5f739d73a7",
         null
        ],
        [
         "41",
         "41",
         "The event, a must-stop for politicians through the years, has also been the site of some of the vice-presidential nominee’s most meme-able moments.",
         "https://www.nytimes.com/2024/09/01/us/politics/walz-minnesota-state-fair.html",
         "The event, a must-stop for politicians through the years, has also been the site of some of the vice-presidential nominee’s most meme-able moments.",
         "Shortly after Gov. Tim Walz of Minnesota was tapped by Vice President Kamala Harris to be her running mate, a photo of Mr. Walz at the Minnesota State Fair in 2019 went viral.",
         null,
         null,
         "The New York Times",
         "[{'rank': 0, 'subtype': 'xlarge', 'caption': None, 'credit': None, 'type': 'image', 'url': 'images/2024/09/01/multimedia/01election-live-walz-fair-setup3/01election-live-walz-fair-setup3-articleLarge.jpg', 'height': 400, 'width': 600, 'subType': 'xlarge', 'crop_name': 'articleLarge', 'legacy': {'xlarge': 'images/2024/09/01/multimedia/01election-live-walz-fair-setup3/01election-live-walz-fair-setup3-articleLarge.jpg', 'xlargewidth': 600, 'xlargeheight': 400}}, {'rank': 0, 'subtype': 'jumbo', 'caption': None, 'credit': None, 'type': 'image', 'url': 'images/2024/09/01/multimedia/01election-live-walz-fair-setup3/01election-live-walz-fair-setup3-jumbo.jpg', 'height': 683, 'width': 1024, 'subType': 'jumbo', 'crop_name': 'jumbo', 'legacy': {}}, {'rank': 0, 'subtype': 'superJumbo', 'caption': None, 'credit': None, 'type': 'image', 'url': 'images/2024/09/01/multimedia/01election-live-walz-fair-setup3/01election-live-walz-fair-setup3-superJumbo.jpg', 'height': 1365, 'width': 2048, 'subType': 'superJumbo', 'crop_name': 'superJumbo', 'legacy': {}}, {'rank': 0, 'subtype': 'thumbnail', 'caption': None, 'credit': None, 'type': 'image', 'url': 'images/2024/09/01/multimedia/01election-live-walz-fair-setup3/01election-live-walz-fair-setup3-thumbStandard.jpg', 'height': 75, 'width': 75, 'subType': 'thumbnail', 'crop_name': 'thumbStandard', 'legacy': {'thumbnail': 'images/2024/09/01/multimedia/01election-live-walz-fair-setup3/01election-live-walz-fair-setup3-thumbStandard.jpg', 'thumbnailwidth': 75, 'thumbnailheight': 75}}, {'rank': 0, 'subtype': 'thumbLarge', 'caption': None, 'credit': None, 'type': 'image', 'url': 'images/2024/09/01/multimedia/01election-live-walz-fair-setup3/01election-live-walz-fair-setup3-thumbLarge.jpg', 'height': 150, 'width': 150, 'subType': 'thumbLarge', 'crop_name': 'thumbLarge', 'legacy': {}}]",
         "{'main': 'Tim Walz Heads Home to the Minnesota State Fair', 'kicker': None, 'content_kicker': None, 'print_headline': '', 'name': None, 'seo': None, 'sub': None}",
         "[{'name': 'subject', 'value': 'Presidential Election of 2024', 'rank': 1, 'major': 'N'}, {'name': 'subject', 'value': 'Vice Presidents and Vice Presidency (US)', 'rank': 2, 'major': 'N'}, {'name': 'persons', 'value': 'Dole, Bob', 'rank': 3, 'major': 'N'}, {'name': 'persons', 'value': 'Dukakis, Michael S', 'rank': 4, 'major': 'N'}, {'name': 'persons', 'value': 'Harding, Warren G', 'rank': 5, 'major': 'N'}, {'name': 'persons', 'value': 'Harris, Kamala D', 'rank': 6, 'major': 'N'}, {'name': 'persons', 'value': 'Klobuchar, Amy', 'rank': 7, 'major': 'N'}, {'name': 'persons', 'value': 'Mondale, Walter F', 'rank': 8, 'major': 'N'}, {'name': 'persons', 'value': 'Sanders, Bernard', 'rank': 9, 'major': 'N'}, {'name': 'persons', 'value': 'Walz, Tim', 'rank': 10, 'major': 'N'}, {'name': 'glocations', 'value': 'St Paul (Minn)', 'rank': 11, 'major': 'N'}, {'name': 'glocations', 'value': 'Minnesota', 'rank': 12, 'major': 'N'}]",
         "2024-09-01T13:01:15+0000",
         "article",
         "Politics",
         "U.S.",
         "{'original': 'By Talya Minsberg', 'person': [{'firstname': 'Talya', 'middlename': None, 'lastname': 'Minsberg', 'qualifier': None, 'title': None, 'role': 'reported', 'organization': '', 'rank': 1}], 'organization': None}",
         "News",
         "nyt://article/4abde6a3-37f6-5f6e-8799-525b9509d0ea",
         "763",
         "nyt://article/4abde6a3-37f6-5f6e-8799-525b9509d0ea",
         "Politics"
        ],
        [
         "42",
         "42",
         "His clean tone and less-is-more approach made him a studio stalwart and a pioneer of what came to be known as the Nashville Sound.",
         "https://www.nytimes.com/2024/09/01/arts/music/pete-wade-dies.html",
         "His clean tone and less-is-more approach made him a studio stalwart and a pioneer of what came to be known as the Nashville Sound.",
         "Pete Wade, a prolific and versatile Nashville studio guitarist who played on scores of blockbuster hits — including Ray Price’s “Crazy Arms” and Sonny James’s “Young Love,” two of the most popular country records of the middle to late 1950s — died on Wednesday at his daughter’s home in Hendersonville, Tenn., near Nashville. He was 89.",
         "B",
         "6.0",
         "The New York Times",
         "[{'rank': 0, 'subtype': 'xlarge', 'caption': None, 'credit': None, 'type': 'image', 'url': 'images/2024/09/02/multimedia/31Wade-01-mwpz/31Wade-01-mwpz-articleLarge.jpg', 'height': 430, 'width': 600, 'subType': 'xlarge', 'crop_name': 'articleLarge', 'legacy': {'xlarge': 'images/2024/09/02/multimedia/31Wade-01-mwpz/31Wade-01-mwpz-articleLarge.jpg', 'xlargewidth': 600, 'xlargeheight': 430}}, {'rank': 0, 'subtype': 'jumbo', 'caption': None, 'credit': None, 'type': 'image', 'url': 'images/2024/09/02/multimedia/31Wade-01-mwpz/31Wade-01-mwpz-jumbo.jpg', 'height': 733, 'width': 1024, 'subType': 'jumbo', 'crop_name': 'jumbo', 'legacy': {}}, {'rank': 0, 'subtype': 'superJumbo', 'caption': None, 'credit': None, 'type': 'image', 'url': 'images/2024/09/02/multimedia/31Wade-01-mwpz/31Wade-01-mwpz-superJumbo.jpg', 'height': 1466, 'width': 2048, 'subType': 'superJumbo', 'crop_name': 'superJumbo', 'legacy': {}}, {'rank': 0, 'subtype': 'thumbnail', 'caption': None, 'credit': None, 'type': 'image', 'url': 'images/2024/09/02/multimedia/31Wade-01-mwpz/31Wade-01-mwpz-thumbStandard.jpg', 'height': 75, 'width': 75, 'subType': 'thumbnail', 'crop_name': 'thumbStandard', 'legacy': {'thumbnail': 'images/2024/09/02/multimedia/31Wade-01-mwpz/31Wade-01-mwpz-thumbStandard.jpg', 'thumbnailwidth': 75, 'thumbnailheight': 75}}, {'rank': 0, 'subtype': 'thumbLarge', 'caption': None, 'credit': None, 'type': 'image', 'url': 'images/2024/09/02/multimedia/31Wade-01-mwpz/31Wade-01-mwpz-thumbLarge.jpg', 'height': 150, 'width': 150, 'subType': 'thumbLarge', 'crop_name': 'thumbLarge', 'legacy': {}}]",
         "{'main': 'Pete Wade, Guitarist on Countless Nashville Hits, Dies at 89', 'kicker': None, 'content_kicker': None, 'print_headline': 'Pete Wade, 89, Guitarist Who Strummed on Scores Of Nashville Blockbusters', 'name': None, 'seo': None, 'sub': None}",
         "[{'name': 'persons', 'value': 'Wade, Pete (1934-2024)', 'rank': 1, 'major': 'N'}, {'name': 'subject', 'value': 'Deaths (Obituaries)', 'rank': 2, 'major': 'N'}, {'name': 'subject', 'value': 'Country Music', 'rank': 3, 'major': 'N'}, {'name': 'subject', 'value': 'Guitars', 'rank': 4, 'major': 'N'}, {'name': 'persons', 'value': 'Price, Ray (1926-2013)', 'rank': 5, 'major': 'N'}, {'name': 'glocations', 'value': 'Nashville (Tenn)', 'rank': 6, 'major': 'N'}, {'name': 'creative_works', 'value': 'Young Love (Song)', 'rank': 7, 'major': 'N'}]",
         "2024-09-01T13:57:50+0000",
         "article",
         "Obits",
         "Arts",
         "{'original': 'By Bill Friskics-Warren', 'person': [{'firstname': 'Bill', 'middlename': None, 'lastname': 'Friskics-Warren', 'qualifier': None, 'title': None, 'role': 'reported', 'organization': '', 'rank': 1}], 'organization': None}",
         "Obituary (Obit)",
         "nyt://article/2cea169f-1a2d-55c7-be97-0eb3ead36c65",
         "926",
         "nyt://article/2cea169f-1a2d-55c7-be97-0eb3ead36c65",
         "Music"
        ],
        [
         "43",
         "43",
         "Golden Diner’s tuna melt is a study in texture, in contrasting flavors, in griddled perfection.",
         "https://www.nytimes.com/2024/09/01/dining/this-may-just-be-the-absolute-best-tuna-melt.html",
         "Golden Diner’s tuna melt is a study in texture, in contrasting flavors, in griddled perfection.",
         "Good morning. What’s better than the Sunday of a three-day weekend? If you’re lucky, you’ve already been off work for a day. And if you’re going to be off tomorrow, too? That can feel like a gift, a room in your house you didn’t know you had. Luxuriate in it if you can. There may be back-to-schoolish responsibilities looming. But today’s just for you.",
         null,
         null,
         "The New York Times",
         "[{'rank': 0, 'subtype': 'xlarge', 'caption': None, 'credit': None, 'type': 'image', 'url': 'images/2024/08/15/multimedia/AW-Golden-Diner-Tuna-Meltrex-cztk-copy-nl/AW-Golden-Diner-Tuna-Meltrex-cztk-articleLarge.jpg', 'height': 400, 'width': 600, 'subType': 'xlarge', 'crop_name': 'articleLarge', 'legacy': {'xlarge': 'images/2024/08/15/multimedia/AW-Golden-Diner-Tuna-Meltrex-cztk-copy-nl/AW-Golden-Diner-Tuna-Meltrex-cztk-articleLarge.jpg', 'xlargewidth': 600, 'xlargeheight': 400}}, {'rank': 0, 'subtype': 'jumbo', 'caption': None, 'credit': None, 'type': 'image', 'url': 'images/2024/08/15/multimedia/AW-Golden-Diner-Tuna-Meltrex-cztk-copy-nl/AW-Golden-Diner-Tuna-Meltrex-cztk-jumbo.jpg', 'height': 683, 'width': 1024, 'subType': 'jumbo', 'crop_name': 'jumbo', 'legacy': {}}, {'rank': 0, 'subtype': 'superJumbo', 'caption': None, 'credit': None, 'type': 'image', 'url': 'images/2024/08/15/multimedia/AW-Golden-Diner-Tuna-Meltrex-cztk-copy-nl/AW-Golden-Diner-Tuna-Meltrex-cztk-superJumbo.jpg', 'height': 1365, 'width': 2048, 'subType': 'superJumbo', 'crop_name': 'superJumbo', 'legacy': {}}, {'rank': 0, 'subtype': 'thumbnail', 'caption': None, 'credit': None, 'type': 'image', 'url': 'images/2024/08/15/multimedia/AW-Golden-Diner-Tuna-Meltrex-cztk-copy-nl/AW-Golden-Diner-Tuna-Meltrex-cztk-thumbStandard.jpg', 'height': 75, 'width': 75, 'subType': 'thumbnail', 'crop_name': 'thumbStandard', 'legacy': {'thumbnail': 'images/2024/08/15/multimedia/AW-Golden-Diner-Tuna-Meltrex-cztk-copy-nl/AW-Golden-Diner-Tuna-Meltrex-cztk-thumbStandard.jpg', 'thumbnailwidth': 75, 'thumbnailheight': 75}}, {'rank': 0, 'subtype': 'thumbLarge', 'caption': None, 'credit': None, 'type': 'image', 'url': 'images/2024/08/15/multimedia/AW-Golden-Diner-Tuna-Meltrex-cztk-copy-nl/AW-Golden-Diner-Tuna-Meltrex-cztk-thumbLarge.jpg', 'height': 150, 'width': 150, 'subType': 'thumbLarge', 'crop_name': 'thumbLarge', 'legacy': {}}]",
         "{'main': 'This May Just Be the Absolute Best Tuna Melt', 'kicker': None, 'content_kicker': None, 'print_headline': '', 'name': None, 'seo': None, 'sub': None}",
         "[{'name': 'subject', 'value': 'Cooking and Cookbooks', 'rank': 1, 'major': 'N'}, {'name': 'subject', 'value': 'Content Type: Service', 'rank': 2, 'major': 'N'}]",
         "2024-09-01T15:00:03+0000",
         "article",
         "Dining",
         "Food",
         "{'original': 'By Sam Sifton', 'person': [{'firstname': 'Sam', 'middlename': None, 'lastname': 'Sifton', 'qualifier': None, 'title': None, 'role': 'reported', 'organization': '', 'rank': 1}], 'organization': None}",
         "Letter",
         "nyt://article/f7189b55-c927-5798-950c-f35179d46536",
         "788",
         "nyt://article/f7189b55-c927-5798-950c-f35179d46536",
         null
        ],
        [
         "44",
         "44",
         "Former President Donald J. Trump’s speeches often wander from topic to topic. He insists there is an art to stitching them all together.",
         "https://www.nytimes.com/2024/09/01/us/elections/trump-speeches-weave.html",
         "Former President Donald J. Trump’s speeches often wander from topic to topic. He insists there is an art to stitching them all together.",
         "For weeks, former President Donald J. Trump’s advisers have urged him to be more disciplined and to stop straying off-message.",
         null,
         null,
         "The New York Times",
         "[{'rank': 0, 'subtype': 'xlarge', 'caption': None, 'credit': None, 'type': 'image', 'url': 'images/2024/08/31/multimedia/31pol-trump-weave-pzwg/31pol-trump-weave-pzwg-articleLarge.jpg', 'height': 400, 'width': 600, 'subType': 'xlarge', 'crop_name': 'articleLarge', 'legacy': {'xlarge': 'images/2024/08/31/multimedia/31pol-trump-weave-pzwg/31pol-trump-weave-pzwg-articleLarge.jpg', 'xlargewidth': 600, 'xlargeheight': 400}}, {'rank': 0, 'subtype': 'jumbo', 'caption': None, 'credit': None, 'type': 'image', 'url': 'images/2024/08/31/multimedia/31pol-trump-weave-pzwg/31pol-trump-weave-pzwg-jumbo.jpg', 'height': 683, 'width': 1024, 'subType': 'jumbo', 'crop_name': 'jumbo', 'legacy': {}}, {'rank': 0, 'subtype': 'superJumbo', 'caption': None, 'credit': None, 'type': 'image', 'url': 'images/2024/08/31/multimedia/31pol-trump-weave-pzwg/31pol-trump-weave-pzwg-superJumbo.jpg', 'height': 1366, 'width': 2048, 'subType': 'superJumbo', 'crop_name': 'superJumbo', 'legacy': {}}, {'rank': 0, 'subtype': 'thumbnail', 'caption': None, 'credit': None, 'type': 'image', 'url': 'images/2024/08/31/multimedia/31pol-trump-weave-pzwg/31pol-trump-weave-pzwg-thumbStandard.jpg', 'height': 75, 'width': 75, 'subType': 'thumbnail', 'crop_name': 'thumbStandard', 'legacy': {'thumbnail': 'images/2024/08/31/multimedia/31pol-trump-weave-pzwg/31pol-trump-weave-pzwg-thumbStandard.jpg', 'thumbnailwidth': 75, 'thumbnailheight': 75}}, {'rank': 0, 'subtype': 'thumbLarge', 'caption': None, 'credit': None, 'type': 'image', 'url': 'images/2024/08/31/multimedia/31pol-trump-weave-pzwg/31pol-trump-weave-pzwg-thumbLarge.jpg', 'height': 150, 'width': 150, 'subType': 'thumbLarge', 'crop_name': 'thumbLarge', 'legacy': {}}]",
         "{'main': 'Meandering? Off-Script? Trump Insists His ‘Weave’ Is Oratorical Genius.', 'kicker': 'Campaign Notebook', 'content_kicker': None, 'print_headline': '', 'name': None, 'seo': None, 'sub': None}",
         "[{'name': 'persons', 'value': 'Trump, Donald J', 'rank': 1, 'major': 'N'}, {'name': 'persons', 'value': 'Faulkner, William', 'rank': 2, 'major': 'N'}, {'name': 'persons', 'value': 'Joyce, James', 'rank': 3, 'major': 'N'}, {'name': 'persons', 'value': 'Mencken, H L', 'rank': 4, 'major': 'N'}, {'name': 'persons', 'value': 'Shakespeare, William', 'rank': 5, 'major': 'N'}, {'name': 'subject', 'value': 'Presidential Election of 2024', 'rank': 6, 'major': 'N'}]",
         "2024-09-01T15:14:35+0000",
         "article",
         "Politics",
         "U.S.",
         "{'original': 'By Shawn McCreesh', 'person': [{'firstname': 'Shawn', 'middlename': None, 'lastname': 'McCreesh', 'qualifier': None, 'title': None, 'role': 'reported', 'organization': '', 'rank': 1}], 'organization': None}",
         "News",
         "nyt://article/cfdb1cfa-1f66-58e1-8b2a-666fb023dd96",
         "773",
         "nyt://article/cfdb1cfa-1f66-58e1-8b2a-666fb023dd96",
         "Elections"
        ],
        [
         "45",
         "45",
         "Winning major competitions early on, he became one of his generation’s premier musicians, sought after by top conductors and recruited to the Beaux Arts Trio.",
         "https://www.nytimes.com/2024/09/01/arts/music/antonio-meneses-dead.html",
         "Winning major competitions early on, he became one of his generation’s premier musicians, sought after by top conductors and recruited to the Beaux Arts Trio.",
         "Antônio Meneses was 10 when he and his four brothers were recruited for the Rio Municipal Theater Orchestra. Their father, a French horn player in Rio de Janeiro, decided that his children should play string instruments to increase their employment odds.",
         "B",
         "9.0",
         "The New York Times",
         "[{'rank': 0, 'subtype': 'xlarge', 'caption': None, 'credit': None, 'type': 'image', 'url': 'images/2024/09/03/multimedia/30Meneses-06-zwmv/30Meneses-06-zwmv-articleLarge.jpg', 'height': 896, 'width': 600, 'subType': 'xlarge', 'crop_name': 'articleLarge', 'legacy': {'xlarge': 'images/2024/09/03/multimedia/30Meneses-06-zwmv/30Meneses-06-zwmv-articleLarge.jpg', 'xlargewidth': 600, 'xlargeheight': 896}}, {'rank': 0, 'subtype': 'jumbo', 'caption': None, 'credit': None, 'type': 'image', 'url': 'images/2024/09/03/multimedia/30Meneses-06-zwmv/30Meneses-06-zwmv-jumbo.jpg', 'height': 1024, 'width': 686, 'subType': 'jumbo', 'crop_name': 'jumbo', 'legacy': {}}, {'rank': 0, 'subtype': 'superJumbo', 'caption': None, 'credit': None, 'type': 'image', 'url': 'images/2024/09/03/multimedia/30Meneses-06-zwmv/30Meneses-06-zwmv-superJumbo.jpg', 'height': 2048, 'width': 1371, 'subType': 'superJumbo', 'crop_name': 'superJumbo', 'legacy': {}}, {'rank': 0, 'subtype': 'thumbnail', 'caption': None, 'credit': None, 'type': 'image', 'url': 'images/2024/09/03/multimedia/30Meneses-06-zwmv/30Meneses-06-zwmv-thumbStandard.jpg', 'height': 75, 'width': 75, 'subType': 'thumbnail', 'crop_name': 'thumbStandard', 'legacy': {'thumbnail': 'images/2024/09/03/multimedia/30Meneses-06-zwmv/30Meneses-06-zwmv-thumbStandard.jpg', 'thumbnailwidth': 75, 'thumbnailheight': 75}}, {'rank': 0, 'subtype': 'thumbLarge', 'caption': None, 'credit': None, 'type': 'image', 'url': 'images/2024/09/03/multimedia/30Meneses-06-zwmv/30Meneses-06-zwmv-thumbLarge.jpg', 'height': 150, 'width': 150, 'subType': 'thumbLarge', 'crop_name': 'thumbLarge', 'legacy': {}}]",
         "{'main': 'Antônio Meneses, Renowned Brazilian Cellist, Is Dead at 66', 'kicker': None, 'content_kicker': None, 'print_headline': 'Antônio Meneses, 66, Premier Brazilian Cellist of His Age', 'name': None, 'seo': None, 'sub': None}",
         "[{'name': 'persons', 'value': 'Meneses, Antonio', 'rank': 1, 'major': 'N'}, {'name': 'subject', 'value': 'Deaths (Obituaries)', 'rank': 2, 'major': 'N'}, {'name': 'subject', 'value': 'Classical Music', 'rank': 3, 'major': 'N'}, {'name': 'organizations', 'value': 'Beaux Arts Trio', 'rank': 4, 'major': 'N'}, {'name': 'persons', 'value': 'Pressler, Menahem', 'rank': 5, 'major': 'N'}, {'name': 'glocations', 'value': 'Brazil', 'rank': 6, 'major': 'N'}]",
         "2024-09-01T16:16:04+0000",
         "article",
         "Obits",
         "Arts",
         "{'original': 'By Adam Nossiter', 'person': [{'firstname': 'Adam', 'middlename': None, 'lastname': 'Nossiter', 'qualifier': None, 'title': None, 'role': 'reported', 'organization': '', 'rank': 1}], 'organization': None}",
         "Obituary (Obit)",
         "nyt://article/0a8e3d79-e89a-5ed4-8981-e4b9c1d50354",
         "987",
         "nyt://article/0a8e3d79-e89a-5ed4-8981-e4b9c1d50354",
         "Music"
        ],
        [
         "46",
         "46",
         "In one recent study, the challenging regimen added 77 days of life after three years. Often, kidney disease can be managed in other ways.",
         "https://www.nytimes.com/2024/09/01/health/dialysis-seniors-kidneys.html",
         "In one recent study, the challenging regimen added 77 days of life after three years. Often, kidney disease can be managed in other ways.",
         "Even before Georgia Outlaw met her new nephrologist, she had made her decision: Although her kidneys were failing, she didn’t want to begin dialysis.",
         "D",
         "3.0",
         "The New York Times",
         "[{'rank': 0, 'subtype': 'xlarge', 'caption': None, 'credit': None, 'type': 'image', 'url': 'images/2024/09/03/science/03sci-span/03sci-span-articleLarge.jpg', 'height': 831, 'width': 600, 'subType': 'xlarge', 'crop_name': 'articleLarge', 'legacy': {'xlarge': 'images/2024/09/03/science/03sci-span/03sci-span-articleLarge.jpg', 'xlargewidth': 600, 'xlargeheight': 831}}, {'rank': 0, 'subtype': 'jumbo', 'caption': None, 'credit': None, 'type': 'image', 'url': 'images/2024/09/03/science/03sci-span/03sci-span-jumbo.jpg', 'height': 1024, 'width': 740, 'subType': 'jumbo', 'crop_name': 'jumbo', 'legacy': {}}, {'rank': 0, 'subtype': 'superJumbo', 'caption': None, 'credit': None, 'type': 'image', 'url': 'images/2024/09/03/science/03sci-span/03sci-span-superJumbo.jpg', 'height': 2048, 'width': 1480, 'subType': 'superJumbo', 'crop_name': 'superJumbo', 'legacy': {}}, {'rank': 0, 'subtype': 'thumbnail', 'caption': None, 'credit': None, 'type': 'image', 'url': 'images/2024/09/03/science/03sci-span/03sci-span-thumbStandard.jpg', 'height': 75, 'width': 75, 'subType': 'thumbnail', 'crop_name': 'thumbStandard', 'legacy': {'thumbnail': 'images/2024/09/03/science/03sci-span/03sci-span-thumbStandard.jpg', 'thumbnailwidth': 75, 'thumbnailheight': 75}}, {'rank': 0, 'subtype': 'thumbLarge', 'caption': None, 'credit': None, 'type': 'image', 'url': 'images/2024/09/03/science/03sci-span/03sci-span-thumbLarge.jpg', 'height': 150, 'width': 150, 'subType': 'thumbLarge', 'crop_name': 'thumbLarge', 'legacy': {}}]",
         "{'main': 'Dialysis May Prolong Life for Older Patients. But Not by Much.', 'kicker': 'the new old age', 'content_kicker': None, 'print_headline': 'Older Patients and Dialysis: There Are Other Options', 'name': None, 'seo': None, 'sub': None}",
         "[{'name': 'subject', 'value': 'Kidneys', 'rank': 1, 'major': 'N'}, {'name': 'subject', 'value': 'Dialysis', 'rank': 2, 'major': 'N'}, {'name': 'subject', 'value': 'Research', 'rank': 3, 'major': 'N'}, {'name': 'subject', 'value': 'Elderly', 'rank': 4, 'major': 'N'}, {'name': 'subject', 'value': 'Drugs (Pharmaceuticals)', 'rank': 5, 'major': 'N'}, {'name': 'subject', 'value': 'Blood', 'rank': 6, 'major': 'N'}, {'name': 'subject', 'value': 'Transplants', 'rank': 7, 'major': 'N'}, {'name': 'organizations', 'value': 'ANNALS OF INTERNAL MEDICINE', 'rank': 8, 'major': 'N'}]",
         "2024-09-01T16:20:25+0000",
         "article",
         "Science",
         "Health",
         "{'original': 'By Paula Span', 'person': [{'firstname': 'Paula', 'middlename': None, 'lastname': 'Span', 'qualifier': None, 'title': None, 'role': 'reported', 'organization': '', 'rank': 1}], 'organization': None}",
         "News",
         "nyt://article/39c1f151-bd0d-54dd-9983-2cd15b841b22",
         "1285",
         "nyt://article/39c1f151-bd0d-54dd-9983-2cd15b841b22",
         null
        ],
        [
         "47",
         "47",
         "The union representing the workers, UNITE HERE, has planned a rolling strike for several days in cities like Boston, San Francisco and Seattle after contract negotiations stalled.",
         "https://www.nytimes.com/2024/09/01/business/hotel-workers-unite-here-strike-labor-day.html",
         "The union representing the workers, UNITE HERE, has planned a rolling strike for several days in cities like Boston, San Francisco and Seattle after contract negotiations stalled.",
         "About 10,000 hotel workers in cities including San Francisco, Seattle and Boston walked off the job on Sunday in an attempt to disrupt Labor Day weekend travel after their union and some of the country’s biggest hotel companies failed to come to an agreement in contract negotiations.",
         "B",
         "1.0",
         "The New York Times",
         "[{'rank': 0, 'subtype': 'xlarge', 'caption': None, 'credit': None, 'type': 'image', 'url': 'images/2024/09/01/multimedia/01unitehere-strike2-tbhk/01unitehere-strike2-tbhk-articleLarge.jpg', 'height': 400, 'width': 600, 'subType': 'xlarge', 'crop_name': 'articleLarge', 'legacy': {'xlarge': 'images/2024/09/01/multimedia/01unitehere-strike2-tbhk/01unitehere-strike2-tbhk-articleLarge.jpg', 'xlargewidth': 600, 'xlargeheight': 400}}, {'rank': 0, 'subtype': 'jumbo', 'caption': None, 'credit': None, 'type': 'image', 'url': 'images/2024/09/01/multimedia/01unitehere-strike2-tbhk/01unitehere-strike2-tbhk-jumbo.jpg', 'height': 683, 'width': 1024, 'subType': 'jumbo', 'crop_name': 'jumbo', 'legacy': {}}, {'rank': 0, 'subtype': 'superJumbo', 'caption': None, 'credit': None, 'type': 'image', 'url': 'images/2024/09/01/multimedia/01unitehere-strike2-tbhk/01unitehere-strike2-tbhk-superJumbo.jpg', 'height': 1365, 'width': 2048, 'subType': 'superJumbo', 'crop_name': 'superJumbo', 'legacy': {}}, {'rank': 0, 'subtype': 'thumbnail', 'caption': None, 'credit': None, 'type': 'image', 'url': 'images/2024/09/01/multimedia/01unitehere-strike2-tbhk/01unitehere-strike2-tbhk-thumbStandard.jpg', 'height': 75, 'width': 75, 'subType': 'thumbnail', 'crop_name': 'thumbStandard', 'legacy': {'thumbnail': 'images/2024/09/01/multimedia/01unitehere-strike2-tbhk/01unitehere-strike2-tbhk-thumbStandard.jpg', 'thumbnailwidth': 75, 'thumbnailheight': 75}}, {'rank': 0, 'subtype': 'thumbLarge', 'caption': None, 'credit': None, 'type': 'image', 'url': 'images/2024/09/01/multimedia/01unitehere-strike2-tbhk/01unitehere-strike2-tbhk-thumbLarge.jpg', 'height': 150, 'width': 150, 'subType': 'thumbLarge', 'crop_name': 'thumbLarge', 'legacy': {}}]",
         "{'main': 'About 10,000 Hotel Workers Walk Off the Job on Labor Day Weekend', 'kicker': None, 'content_kicker': None, 'print_headline': ' Workers  At Hotels Walk Out', 'name': None, 'seo': None, 'sub': None}",
         "[{'name': 'subject', 'value': 'Organized Labor', 'rank': 1, 'major': 'N'}, {'name': 'subject', 'value': 'Strikes', 'rank': 2, 'major': 'N'}, {'name': 'subject', 'value': 'Labor Day', 'rank': 3, 'major': 'N'}, {'name': 'subject', 'value': 'Hotels and Travel Lodgings', 'rank': 4, 'major': 'N'}, {'name': 'subject', 'value': 'Wages and Salaries', 'rank': 5, 'major': 'N'}, {'name': 'organizations', 'value': 'Unite Here', 'rank': 6, 'major': 'N'}, {'name': 'glocations', 'value': 'Kauai (Hawaii)', 'rank': 7, 'major': 'N'}, {'name': 'glocations', 'value': 'Honolulu (Hawaii)', 'rank': 8, 'major': 'N'}, {'name': 'glocations', 'value': 'Greenwich (Conn)', 'rank': 9, 'major': 'N'}, {'name': 'glocations', 'value': 'Baltimore (Md)', 'rank': 10, 'major': 'N'}, {'name': 'glocations', 'value': 'San Francisco (Calif)', 'rank': 11, 'major': 'N'}, {'name': 'glocations', 'value': 'Seattle (Wash)', 'rank': 12, 'major': 'N'}, {'name': 'glocations', 'value': 'San Diego (Calif)', 'rank': 13, 'major': 'N'}, {'name': 'glocations', 'value': 'San Jose (Calif)', 'rank': 14, 'major': 'N'}, {'name': 'organizations', 'value': 'Fairmont Hotels and Resorts', 'rank': 15, 'major': 'N'}, {'name': 'organizations', 'value': 'Hilton Worldwide Holdings Inc', 'rank': 16, 'major': 'N'}, {'name': 'organizations', 'value': 'Hyatt Hotels Corp', 'rank': 17, 'major': 'N'}, {'name': 'organizations', 'value': 'Marriott International Inc', 'rank': 18, 'major': 'N'}, {'name': 'glocations', 'value': 'United States', 'rank': 19, 'major': 'N'}]",
         "2024-09-01T16:23:21+0000",
         "article",
         "Business",
         "Business Day",
         "{'original': 'By Sydney Ember', 'person': [{'firstname': 'Sydney', 'middlename': None, 'lastname': 'Ember', 'qualifier': None, 'title': None, 'role': 'reported', 'organization': '', 'rank': 1}], 'organization': None}",
         "News",
         "nyt://article/6e68b087-4cd3-5a4e-8f6a-48212761e56b",
         "463",
         "nyt://article/6e68b087-4cd3-5a4e-8f6a-48212761e56b",
         null
        ],
        [
         "48",
         "48",
         "He also addressed the release plan for his new movie, “Wolfs,” co-starring Brad Pitt.",
         "https://www.nytimes.com/2024/09/01/movies/george-clooney-biden-apple-wolfs.html",
         "He also addressed the release plan for his new movie, “Wolfs,” co-starring Brad Pitt.",
         "Midway through a Venice news conference for the crime caper “Wolfs,” one reporter told George Clooney that she would ask the question on everyone’s minds.",
         "C",
         "2.0",
         "The New York Times",
         "[{'rank': 0, 'subtype': 'xlarge', 'caption': None, 'credit': None, 'type': 'image', 'url': 'images/2024/09/03/multimedia/01venice-clooney-blft/01venice-clooney-blft-articleLarge.jpg', 'height': 400, 'width': 600, 'subType': 'xlarge', 'crop_name': 'articleLarge', 'legacy': {'xlarge': 'images/2024/09/03/multimedia/01venice-clooney-blft/01venice-clooney-blft-articleLarge.jpg', 'xlargewidth': 600, 'xlargeheight': 400}}, {'rank': 0, 'subtype': 'jumbo', 'caption': None, 'credit': None, 'type': 'image', 'url': 'images/2024/09/03/multimedia/01venice-clooney-blft/01venice-clooney-blft-jumbo.jpg', 'height': 683, 'width': 1024, 'subType': 'jumbo', 'crop_name': 'jumbo', 'legacy': {}}, {'rank': 0, 'subtype': 'superJumbo', 'caption': None, 'credit': None, 'type': 'image', 'url': 'images/2024/09/03/multimedia/01venice-clooney-blft/01venice-clooney-blft-superJumbo.jpg', 'height': 1365, 'width': 2048, 'subType': 'superJumbo', 'crop_name': 'superJumbo', 'legacy': {}}, {'rank': 0, 'subtype': 'thumbnail', 'caption': None, 'credit': None, 'type': 'image', 'url': 'images/2024/09/03/multimedia/01venice-clooney-blft/01venice-clooney-blft-thumbStandard.jpg', 'height': 75, 'width': 75, 'subType': 'thumbnail', 'crop_name': 'thumbStandard', 'legacy': {'thumbnail': 'images/2024/09/03/multimedia/01venice-clooney-blft/01venice-clooney-blft-thumbStandard.jpg', 'thumbnailwidth': 75, 'thumbnailheight': 75}}, {'rank': 0, 'subtype': 'thumbLarge', 'caption': None, 'credit': None, 'type': 'image', 'url': 'images/2024/09/03/multimedia/01venice-clooney-blft/01venice-clooney-blft-thumbLarge.jpg', 'height': 150, 'width': 150, 'subType': 'thumbLarge', 'crop_name': 'thumbLarge', 'legacy': {}}]",
         "{'main': 'In Venice, George Clooney Talks President Biden and American Politics', 'kicker': None, 'content_kicker': None, 'print_headline': 'Clooney  Discusses Politics And ‘Wolfs’', 'name': None, 'seo': None, 'sub': None}",
         "[{'name': 'subject', 'value': 'Movies', 'rank': 1, 'major': 'N'}, {'name': 'subject', 'value': 'Presidential Election of 2024', 'rank': 2, 'major': 'N'}, {'name': 'subject', 'value': 'Actors and Actresses', 'rank': 3, 'major': 'N'}, {'name': 'organizations', 'value': 'Apple Inc', 'rank': 4, 'major': 'N'}, {'name': 'organizations', 'value': 'New York Times', 'rank': 5, 'major': 'N'}, {'name': 'subject', 'value': 'Venice International Film Festival', 'rank': 6, 'major': 'N'}, {'name': 'persons', 'value': 'Biden, Joseph R Jr', 'rank': 7, 'major': 'N'}, {'name': 'persons', 'value': 'Clooney, George', 'rank': 8, 'major': 'N'}, {'name': 'persons', 'value': 'Pitt, Brad', 'rank': 9, 'major': 'N'}, {'name': 'creative_works', 'value': 'Wolfs (Movie)', 'rank': 10, 'major': 'N'}]",
         "2024-09-01T16:36:05+0000",
         "article",
         "Culture",
         "Movies",
         "{'original': 'By Kyle Buchanan', 'person': [{'firstname': 'Kyle', 'middlename': None, 'lastname': 'Buchanan', 'qualifier': None, 'title': None, 'role': 'reported', 'organization': '', 'rank': 1}], 'organization': None}",
         "News",
         "nyt://article/0b131542-866e-57de-b985-866e99763821",
         "695",
         "nyt://article/0b131542-866e-57de-b985-866e99763821",
         null
        ],
        [
         "49",
         "49",
         "The helicopter was flying tourists in Russia’s Kamchatka region. No survivors were expected among the 22 people on board, state news agencies said.",
         "https://www.nytimes.com/2024/09/01/world/europe/russia-helicopter-crash-kamchatka.html",
         "The helicopter was flying tourists in Russia’s Kamchatka region. No survivors were expected among the 22 people on board, state news agencies said.",
         "A helicopter flying tourists near a volcano in Russia’s Far East crashed on Saturday, killing at least 17 people, according to emergency officials who discovered the wreckage the next day and state news agencies.",
         null,
         null,
         "The New York Times",
         "[{'rank': 0, 'subtype': 'xlarge', 'caption': None, 'credit': None, 'type': 'image', 'url': 'images/2024/09/01/multimedia/01russia-crash-cfgb/01russia-crash-cfgb-articleLarge.jpg', 'height': 400, 'width': 600, 'subType': 'xlarge', 'crop_name': 'articleLarge', 'legacy': {'xlarge': 'images/2024/09/01/multimedia/01russia-crash-cfgb/01russia-crash-cfgb-articleLarge.jpg', 'xlargewidth': 600, 'xlargeheight': 400}}, {'rank': 0, 'subtype': 'jumbo', 'caption': None, 'credit': None, 'type': 'image', 'url': 'images/2024/09/01/multimedia/01russia-crash-cfgb/01russia-crash-cfgb-jumbo.jpg', 'height': 596, 'width': 894, 'subType': 'jumbo', 'crop_name': 'jumbo', 'legacy': {}}, {'rank': 0, 'subtype': 'superJumbo', 'caption': None, 'credit': None, 'type': 'image', 'url': 'images/2024/09/01/multimedia/01russia-crash-cfgb/01russia-crash-cfgb-superJumbo.jpg', 'height': 596, 'width': 894, 'subType': 'superJumbo', 'crop_name': 'superJumbo', 'legacy': {}}, {'rank': 0, 'subtype': 'thumbnail', 'caption': None, 'credit': None, 'type': 'image', 'url': 'images/2024/09/01/multimedia/01russia-crash-cfgb/01russia-crash-cfgb-thumbStandard.jpg', 'height': 75, 'width': 75, 'subType': 'thumbnail', 'crop_name': 'thumbStandard', 'legacy': {'thumbnail': 'images/2024/09/01/multimedia/01russia-crash-cfgb/01russia-crash-cfgb-thumbStandard.jpg', 'thumbnailwidth': 75, 'thumbnailheight': 75}}, {'rank': 0, 'subtype': 'thumbLarge', 'caption': None, 'credit': None, 'type': 'image', 'url': 'images/2024/09/01/multimedia/01russia-crash-cfgb/01russia-crash-cfgb-thumbLarge.jpg', 'height': 150, 'width': 150, 'subType': 'thumbLarge', 'crop_name': 'thumbLarge', 'legacy': {}}]",
         "{'main': 'Helicopter Crash Near Volcano in Russia’s Far East Kills at Least 17', 'kicker': None, 'content_kicker': None, 'print_headline': '', 'name': None, 'seo': None, 'sub': None}",
         "[{'name': 'subject', 'value': 'Aviation Accidents, Safety and Disasters', 'rank': 1, 'major': 'N'}, {'name': 'subject', 'value': 'Helicopters', 'rank': 2, 'major': 'N'}, {'name': 'glocations', 'value': 'Kamchatka Peninsula (Russia)', 'rank': 3, 'major': 'N'}, {'name': 'glocations', 'value': 'Russia', 'rank': 4, 'major': 'N'}]",
         "2024-09-01T17:41:11+0000",
         "article",
         "Foreign",
         "World",
         "{'original': 'By Alan Yuhas', 'person': [{'firstname': 'Alan', 'middlename': None, 'lastname': 'Yuhas', 'qualifier': None, 'title': None, 'role': 'reported', 'organization': '', 'rank': 1}], 'organization': None}",
         "News",
         "nyt://article/78ca0b5b-2ae5-5d1b-8106-621556b1b822",
         "319",
         "nyt://article/78ca0b5b-2ae5-5d1b-8106-621556b1b822",
         "Europe"
        ]
       ],
       "shape": {
        "columns": 21,
        "rows": 48696
       }
      },
      "text/html": [
       "<div>\n",
       "<style scoped>\n",
       "    .dataframe tbody tr th:only-of-type {\n",
       "        vertical-align: middle;\n",
       "    }\n",
       "\n",
       "    .dataframe tbody tr th {\n",
       "        vertical-align: top;\n",
       "    }\n",
       "\n",
       "    .dataframe thead th {\n",
       "        text-align: right;\n",
       "    }\n",
       "</style>\n",
       "<table border=\"1\" class=\"dataframe\">\n",
       "  <thead>\n",
       "    <tr style=\"text-align: right;\">\n",
       "      <th></th>\n",
       "      <th>Unnamed: 0</th>\n",
       "      <th>abstract</th>\n",
       "      <th>web_url</th>\n",
       "      <th>snippet</th>\n",
       "      <th>lead_paragraph</th>\n",
       "      <th>print_section</th>\n",
       "      <th>print_page</th>\n",
       "      <th>source</th>\n",
       "      <th>multimedia</th>\n",
       "      <th>headline</th>\n",
       "      <th>...</th>\n",
       "      <th>pub_date</th>\n",
       "      <th>document_type</th>\n",
       "      <th>news_desk</th>\n",
       "      <th>section_name</th>\n",
       "      <th>byline</th>\n",
       "      <th>type_of_material</th>\n",
       "      <th>_id</th>\n",
       "      <th>word_count</th>\n",
       "      <th>uri</th>\n",
       "      <th>subsection_name</th>\n",
       "    </tr>\n",
       "  </thead>\n",
       "  <tbody>\n",
       "    <tr>\n",
       "      <th>0</th>\n",
       "      <td>0</td>\n",
       "      <td>Wrestling with age and a case of idea theft.</td>\n",
       "      <td>https://www.nytimes.com/2024/09/01/business/he...</td>\n",
       "      <td>Wrestling with age and a case of idea theft.</td>\n",
       "      <td>Send questions about the office, money, career...</td>\n",
       "      <td>BU</td>\n",
       "      <td>3.0</td>\n",
       "      <td>The New York Times</td>\n",
       "      <td>[{'rank': 0, 'subtype': 'xlarge', 'caption': N...</td>\n",
       "      <td>{'main': 'Help! I’m ‘Older’ and on the Job Hun...</td>\n",
       "      <td>...</td>\n",
       "      <td>2024-09-01T04:01:07+0000</td>\n",
       "      <td>article</td>\n",
       "      <td>SundayBusiness</td>\n",
       "      <td>Business Day</td>\n",
       "      <td>{'original': 'By Anna Holmes', 'person': [{'fi...</td>\n",
       "      <td>News</td>\n",
       "      <td>nyt://article/da8532bd-f9bd-5ca3-9e7e-afef6e9f...</td>\n",
       "      <td>1280</td>\n",
       "      <td>nyt://article/da8532bd-f9bd-5ca3-9e7e-afef6e9f...</td>\n",
       "      <td>NaN</td>\n",
       "    </tr>\n",
       "    <tr>\n",
       "      <th>1</th>\n",
       "      <td>1</td>\n",
       "      <td>Grueling shifts, abuse from the public and sub...</td>\n",
       "      <td>https://www.nytimes.com/2024/09/01/world/asia/...</td>\n",
       "      <td>Grueling shifts, abuse from the public and sub...</td>\n",
       "      <td>Exhausted doctors resting in crowded on-call r...</td>\n",
       "      <td>A</td>\n",
       "      <td>4.0</td>\n",
       "      <td>The New York Times</td>\n",
       "      <td>[{'rank': 0, 'subtype': 'xlarge', 'caption': N...</td>\n",
       "      <td>{'main': 'Worked to the Bone, India’s Doctors ...</td>\n",
       "      <td>...</td>\n",
       "      <td>2024-09-01T04:01:25+0000</td>\n",
       "      <td>article</td>\n",
       "      <td>Foreign</td>\n",
       "      <td>World</td>\n",
       "      <td>{'original': 'By Anupreeta Das and Pragati K.B...</td>\n",
       "      <td>News</td>\n",
       "      <td>nyt://article/aeabc262-aeb0-5423-a7ac-8bb664cb...</td>\n",
       "      <td>1310</td>\n",
       "      <td>nyt://article/aeabc262-aeb0-5423-a7ac-8bb664cb...</td>\n",
       "      <td>Asia Pacific</td>\n",
       "    </tr>\n",
       "    <tr>\n",
       "      <th>2</th>\n",
       "      <td>2</td>\n",
       "      <td>About a quarter of the residents of Maracaibo,...</td>\n",
       "      <td>https://www.nytimes.com/2024/09/01/world/ameri...</td>\n",
       "      <td>About a quarter of the residents of Maracaibo,...</td>\n",
       "      <td>It was once a thriving metropolis in the heart...</td>\n",
       "      <td>A</td>\n",
       "      <td>1.0</td>\n",
       "      <td>The New York Times</td>\n",
       "      <td>[{'rank': 0, 'subtype': 'xlarge', 'caption': N...</td>\n",
       "      <td>{'main': 'What Happens When Half a Million Peo...</td>\n",
       "      <td>...</td>\n",
       "      <td>2024-09-01T04:01:27+0000</td>\n",
       "      <td>article</td>\n",
       "      <td>Foreign</td>\n",
       "      <td>World</td>\n",
       "      <td>{'original': 'By Frances Robles and Marian Car...</td>\n",
       "      <td>News</td>\n",
       "      <td>nyt://article/42c0d0f2-ea62-5d2b-8eba-baa04180...</td>\n",
       "      <td>1460</td>\n",
       "      <td>nyt://article/42c0d0f2-ea62-5d2b-8eba-baa04180...</td>\n",
       "      <td>Americas</td>\n",
       "    </tr>\n",
       "    <tr>\n",
       "      <th>3</th>\n",
       "      <td>3</td>\n",
       "      <td>Israel and Hamas agreed to pause the war to pe...</td>\n",
       "      <td>https://www.nytimes.com/2024/09/01/world/middl...</td>\n",
       "      <td>Israel and Hamas agreed to pause the war to pe...</td>\n",
       "      <td>Health workers on Sunday began a polio vaccina...</td>\n",
       "      <td>A</td>\n",
       "      <td>1.0</td>\n",
       "      <td>The New York Times</td>\n",
       "      <td>[]</td>\n",
       "      <td>{'main': 'In Race Against Polio, Gaza Begins V...</td>\n",
       "      <td>...</td>\n",
       "      <td>2024-09-01T04:01:43+0000</td>\n",
       "      <td>article</td>\n",
       "      <td>Foreign</td>\n",
       "      <td>World</td>\n",
       "      <td>{'original': 'By Bilal Shbair, Erika Solomon a...</td>\n",
       "      <td>News</td>\n",
       "      <td>nyt://article/6393c6c3-0e1f-5494-925d-165e7aaf...</td>\n",
       "      <td>1473</td>\n",
       "      <td>nyt://article/6393c6c3-0e1f-5494-925d-165e7aaf...</td>\n",
       "      <td>Middle East</td>\n",
       "    </tr>\n",
       "    <tr>\n",
       "      <th>4</th>\n",
       "      <td>4</td>\n",
       "      <td>The prospect of a strong performance by the fa...</td>\n",
       "      <td>https://www.nytimes.com/2024/09/01/world/europ...</td>\n",
       "      <td>The prospect of a strong performance by the fa...</td>\n",
       "      <td>On Sunday, voters in the eastern German states...</td>\n",
       "      <td>NaN</td>\n",
       "      <td>NaN</td>\n",
       "      <td>The New York Times</td>\n",
       "      <td>[{'rank': 0, 'subtype': 'xlarge', 'caption': N...</td>\n",
       "      <td>{'main': 'What to Watch For in East German Sta...</td>\n",
       "      <td>...</td>\n",
       "      <td>2024-09-01T04:01:43+0000</td>\n",
       "      <td>article</td>\n",
       "      <td>Foreign</td>\n",
       "      <td>World</td>\n",
       "      <td>{'original': 'By Christopher F. Schuetze', 'pe...</td>\n",
       "      <td>News</td>\n",
       "      <td>nyt://article/fe046102-78e5-530d-89e0-59ff09c0...</td>\n",
       "      <td>812</td>\n",
       "      <td>nyt://article/fe046102-78e5-530d-89e0-59ff09c0...</td>\n",
       "      <td>Europe</td>\n",
       "    </tr>\n",
       "    <tr>\n",
       "      <th>...</th>\n",
       "      <td>...</td>\n",
       "      <td>...</td>\n",
       "      <td>...</td>\n",
       "      <td>...</td>\n",
       "      <td>...</td>\n",
       "      <td>...</td>\n",
       "      <td>...</td>\n",
       "      <td>...</td>\n",
       "      <td>...</td>\n",
       "      <td>...</td>\n",
       "      <td>...</td>\n",
       "      <td>...</td>\n",
       "      <td>...</td>\n",
       "      <td>...</td>\n",
       "      <td>...</td>\n",
       "      <td>...</td>\n",
       "      <td>...</td>\n",
       "      <td>...</td>\n",
       "      <td>...</td>\n",
       "      <td>...</td>\n",
       "      <td>...</td>\n",
       "    </tr>\n",
       "    <tr>\n",
       "      <th>48691</th>\n",
       "      <td>48691</td>\n",
       "      <td>The first Black officer to achieve the rank of...</td>\n",
       "      <td>https://www.nytimes.com/2024/08/31/us/arthur-j...</td>\n",
       "      <td>The first Black officer to achieve the rank of...</td>\n",
       "      <td>Arthur J. Gregg, the first African American Ar...</td>\n",
       "      <td>NaN</td>\n",
       "      <td>NaN</td>\n",
       "      <td>The New York Times</td>\n",
       "      <td>[{'rank': 0, 'subtype': 'xlarge', 'caption': N...</td>\n",
       "      <td>{'main': 'Arthur J. Gregg, Trailblazing Army O...</td>\n",
       "      <td>...</td>\n",
       "      <td>2024-08-31T14:57:12+0000</td>\n",
       "      <td>article</td>\n",
       "      <td>Obits</td>\n",
       "      <td>U.S.</td>\n",
       "      <td>{'original': 'By Trip Gabriel', 'person': [{'f...</td>\n",
       "      <td>Obituary (Obit)</td>\n",
       "      <td>nyt://article/15ef03c9-295b-50e0-a0f4-64f9a182...</td>\n",
       "      <td>1019</td>\n",
       "      <td>nyt://article/15ef03c9-295b-50e0-a0f4-64f9a182...</td>\n",
       "      <td>NaN</td>\n",
       "    </tr>\n",
       "    <tr>\n",
       "      <th>48692</th>\n",
       "      <td>48692</td>\n",
       "      <td>In a reversal, two senior U.S. military offici...</td>\n",
       "      <td>https://www.nytimes.com/2024/08/31/world/europ...</td>\n",
       "      <td>In a reversal, two senior U.S. military offici...</td>\n",
       "      <td>As hundreds of Russian missiles and drones str...</td>\n",
       "      <td>NaN</td>\n",
       "      <td>NaN</td>\n",
       "      <td>The New York Times</td>\n",
       "      <td>[{'rank': 0, 'subtype': 'xlarge', 'caption': N...</td>\n",
       "      <td>{'main': 'As Ukraine Mourns a Pilot’s Death, J...</td>\n",
       "      <td>...</td>\n",
       "      <td>2024-08-31T14:57:53+0000</td>\n",
       "      <td>article</td>\n",
       "      <td>Foreign</td>\n",
       "      <td>World</td>\n",
       "      <td>{'original': 'By Marc Santora', 'person': [{'f...</td>\n",
       "      <td>News</td>\n",
       "      <td>nyt://article/3a3d339e-87ab-5650-b797-b7bb3cb0...</td>\n",
       "      <td>967</td>\n",
       "      <td>nyt://article/3a3d339e-87ab-5650-b797-b7bb3cb0...</td>\n",
       "      <td>Europe</td>\n",
       "    </tr>\n",
       "    <tr>\n",
       "      <th>48693</th>\n",
       "      <td>48693</td>\n",
       "      <td>Harris needs to talk about her theory of the p...</td>\n",
       "      <td>https://www.nytimes.com/2024/08/31/opinion/har...</td>\n",
       "      <td>Harris needs to talk about her theory of the p...</td>\n",
       "      <td>If the goal of the CNN interview with Vice Pre...</td>\n",
       "      <td>NaN</td>\n",
       "      <td>NaN</td>\n",
       "      <td>The New York Times</td>\n",
       "      <td>[{'rank': 0, 'subtype': 'xlarge', 'caption': N...</td>\n",
       "      <td>{'main': 'Maybe We Are Asking Presidential Can...</td>\n",
       "      <td>...</td>\n",
       "      <td>2024-08-31T15:00:03+0000</td>\n",
       "      <td>article</td>\n",
       "      <td>OpEd</td>\n",
       "      <td>Opinion</td>\n",
       "      <td>{'original': 'By Jamelle Bouie', 'person': [{'...</td>\n",
       "      <td>Op-Ed</td>\n",
       "      <td>nyt://article/1192db0c-51bd-525b-abb4-e8607c11...</td>\n",
       "      <td>870</td>\n",
       "      <td>nyt://article/1192db0c-51bd-525b-abb4-e8607c11...</td>\n",
       "      <td>NaN</td>\n",
       "    </tr>\n",
       "    <tr>\n",
       "      <th>48694</th>\n",
       "      <td>48694</td>\n",
       "      <td>It’s not a regular zucchini bread. It’s a cool...</td>\n",
       "      <td>https://www.nytimes.com/2024/08/31/dining/isla...</td>\n",
       "      <td>It’s not a regular zucchini bread. It’s a cool...</td>\n",
       "      <td>Island vibes zucchini bread! Have you ever hea...</td>\n",
       "      <td>NaN</td>\n",
       "      <td>NaN</td>\n",
       "      <td>The New York Times</td>\n",
       "      <td>[{'rank': 0, 'subtype': 'xlarge', 'caption': N...</td>\n",
       "      <td>{'main': 'Island Vibes Zucchini Bread', 'kicke...</td>\n",
       "      <td>...</td>\n",
       "      <td>2024-08-31T15:00:03+0000</td>\n",
       "      <td>article</td>\n",
       "      <td>Dining</td>\n",
       "      <td>Food</td>\n",
       "      <td>{'original': 'By Mia Leimkuhler', 'person': [{...</td>\n",
       "      <td>Letter</td>\n",
       "      <td>nyt://article/83b24708-09af-55b1-baac-7efca171...</td>\n",
       "      <td>485</td>\n",
       "      <td>nyt://article/83b24708-09af-55b1-baac-7efca171...</td>\n",
       "      <td>NaN</td>\n",
       "    </tr>\n",
       "    <tr>\n",
       "      <th>48695</th>\n",
       "      <td>48695</td>\n",
       "      <td>Botic van de Zandschulp’s career has had its u...</td>\n",
       "      <td>https://www.nytimes.com/2024/08/31/nyregion/bo...</td>\n",
       "      <td>Botic van de Zandschulp’s career has had its u...</td>\n",
       "      <td>Botic van de Zandschulp, a Dutch tennis player...</td>\n",
       "      <td>NaN</td>\n",
       "      <td>NaN</td>\n",
       "      <td>The New York Times</td>\n",
       "      <td>[{'rank': 0, 'subtype': 'xlarge', 'caption': N...</td>\n",
       "      <td>{'main': 'After Beating Alcaraz, a Dutch Playe...</td>\n",
       "      <td>...</td>\n",
       "      <td>2024-08-31T15:42:26+0000</td>\n",
       "      <td>article</td>\n",
       "      <td>Sports</td>\n",
       "      <td>New York</td>\n",
       "      <td>{'original': 'By David Waldstein', 'person': [...</td>\n",
       "      <td>News</td>\n",
       "      <td>nyt://article/0bca89dd-a1a7-5022-8192-9812f680...</td>\n",
       "      <td>849</td>\n",
       "      <td>nyt://article/0bca89dd-a1a7-5022-8192-9812f680...</td>\n",
       "      <td>NaN</td>\n",
       "    </tr>\n",
       "  </tbody>\n",
       "</table>\n",
       "<p>48696 rows × 21 columns</p>\n",
       "</div>"
      ],
      "text/plain": [
       "       Unnamed: 0                                           abstract  \\\n",
       "0               0       Wrestling with age and a case of idea theft.   \n",
       "1               1  Grueling shifts, abuse from the public and sub...   \n",
       "2               2  About a quarter of the residents of Maracaibo,...   \n",
       "3               3  Israel and Hamas agreed to pause the war to pe...   \n",
       "4               4  The prospect of a strong performance by the fa...   \n",
       "...           ...                                                ...   \n",
       "48691       48691  The first Black officer to achieve the rank of...   \n",
       "48692       48692  In a reversal, two senior U.S. military offici...   \n",
       "48693       48693  Harris needs to talk about her theory of the p...   \n",
       "48694       48694  It’s not a regular zucchini bread. It’s a cool...   \n",
       "48695       48695  Botic van de Zandschulp’s career has had its u...   \n",
       "\n",
       "                                                 web_url  \\\n",
       "0      https://www.nytimes.com/2024/09/01/business/he...   \n",
       "1      https://www.nytimes.com/2024/09/01/world/asia/...   \n",
       "2      https://www.nytimes.com/2024/09/01/world/ameri...   \n",
       "3      https://www.nytimes.com/2024/09/01/world/middl...   \n",
       "4      https://www.nytimes.com/2024/09/01/world/europ...   \n",
       "...                                                  ...   \n",
       "48691  https://www.nytimes.com/2024/08/31/us/arthur-j...   \n",
       "48692  https://www.nytimes.com/2024/08/31/world/europ...   \n",
       "48693  https://www.nytimes.com/2024/08/31/opinion/har...   \n",
       "48694  https://www.nytimes.com/2024/08/31/dining/isla...   \n",
       "48695  https://www.nytimes.com/2024/08/31/nyregion/bo...   \n",
       "\n",
       "                                                 snippet  \\\n",
       "0           Wrestling with age and a case of idea theft.   \n",
       "1      Grueling shifts, abuse from the public and sub...   \n",
       "2      About a quarter of the residents of Maracaibo,...   \n",
       "3      Israel and Hamas agreed to pause the war to pe...   \n",
       "4      The prospect of a strong performance by the fa...   \n",
       "...                                                  ...   \n",
       "48691  The first Black officer to achieve the rank of...   \n",
       "48692  In a reversal, two senior U.S. military offici...   \n",
       "48693  Harris needs to talk about her theory of the p...   \n",
       "48694  It’s not a regular zucchini bread. It’s a cool...   \n",
       "48695  Botic van de Zandschulp’s career has had its u...   \n",
       "\n",
       "                                          lead_paragraph print_section  \\\n",
       "0      Send questions about the office, money, career...            BU   \n",
       "1      Exhausted doctors resting in crowded on-call r...             A   \n",
       "2      It was once a thriving metropolis in the heart...             A   \n",
       "3      Health workers on Sunday began a polio vaccina...             A   \n",
       "4      On Sunday, voters in the eastern German states...           NaN   \n",
       "...                                                  ...           ...   \n",
       "48691  Arthur J. Gregg, the first African American Ar...           NaN   \n",
       "48692  As hundreds of Russian missiles and drones str...           NaN   \n",
       "48693  If the goal of the CNN interview with Vice Pre...           NaN   \n",
       "48694  Island vibes zucchini bread! Have you ever hea...           NaN   \n",
       "48695  Botic van de Zandschulp, a Dutch tennis player...           NaN   \n",
       "\n",
       "       print_page              source  \\\n",
       "0             3.0  The New York Times   \n",
       "1             4.0  The New York Times   \n",
       "2             1.0  The New York Times   \n",
       "3             1.0  The New York Times   \n",
       "4             NaN  The New York Times   \n",
       "...           ...                 ...   \n",
       "48691         NaN  The New York Times   \n",
       "48692         NaN  The New York Times   \n",
       "48693         NaN  The New York Times   \n",
       "48694         NaN  The New York Times   \n",
       "48695         NaN  The New York Times   \n",
       "\n",
       "                                              multimedia  \\\n",
       "0      [{'rank': 0, 'subtype': 'xlarge', 'caption': N...   \n",
       "1      [{'rank': 0, 'subtype': 'xlarge', 'caption': N...   \n",
       "2      [{'rank': 0, 'subtype': 'xlarge', 'caption': N...   \n",
       "3                                                     []   \n",
       "4      [{'rank': 0, 'subtype': 'xlarge', 'caption': N...   \n",
       "...                                                  ...   \n",
       "48691  [{'rank': 0, 'subtype': 'xlarge', 'caption': N...   \n",
       "48692  [{'rank': 0, 'subtype': 'xlarge', 'caption': N...   \n",
       "48693  [{'rank': 0, 'subtype': 'xlarge', 'caption': N...   \n",
       "48694  [{'rank': 0, 'subtype': 'xlarge', 'caption': N...   \n",
       "48695  [{'rank': 0, 'subtype': 'xlarge', 'caption': N...   \n",
       "\n",
       "                                                headline  ...  \\\n",
       "0      {'main': 'Help! I’m ‘Older’ and on the Job Hun...  ...   \n",
       "1      {'main': 'Worked to the Bone, India’s Doctors ...  ...   \n",
       "2      {'main': 'What Happens When Half a Million Peo...  ...   \n",
       "3      {'main': 'In Race Against Polio, Gaza Begins V...  ...   \n",
       "4      {'main': 'What to Watch For in East German Sta...  ...   \n",
       "...                                                  ...  ...   \n",
       "48691  {'main': 'Arthur J. Gregg, Trailblazing Army O...  ...   \n",
       "48692  {'main': 'As Ukraine Mourns a Pilot’s Death, J...  ...   \n",
       "48693  {'main': 'Maybe We Are Asking Presidential Can...  ...   \n",
       "48694  {'main': 'Island Vibes Zucchini Bread', 'kicke...  ...   \n",
       "48695  {'main': 'After Beating Alcaraz, a Dutch Playe...  ...   \n",
       "\n",
       "                       pub_date document_type       news_desk  section_name  \\\n",
       "0      2024-09-01T04:01:07+0000       article  SundayBusiness  Business Day   \n",
       "1      2024-09-01T04:01:25+0000       article         Foreign         World   \n",
       "2      2024-09-01T04:01:27+0000       article         Foreign         World   \n",
       "3      2024-09-01T04:01:43+0000       article         Foreign         World   \n",
       "4      2024-09-01T04:01:43+0000       article         Foreign         World   \n",
       "...                         ...           ...             ...           ...   \n",
       "48691  2024-08-31T14:57:12+0000       article           Obits          U.S.   \n",
       "48692  2024-08-31T14:57:53+0000       article         Foreign         World   \n",
       "48693  2024-08-31T15:00:03+0000       article            OpEd       Opinion   \n",
       "48694  2024-08-31T15:00:03+0000       article          Dining          Food   \n",
       "48695  2024-08-31T15:42:26+0000       article          Sports      New York   \n",
       "\n",
       "                                                  byline type_of_material  \\\n",
       "0      {'original': 'By Anna Holmes', 'person': [{'fi...             News   \n",
       "1      {'original': 'By Anupreeta Das and Pragati K.B...             News   \n",
       "2      {'original': 'By Frances Robles and Marian Car...             News   \n",
       "3      {'original': 'By Bilal Shbair, Erika Solomon a...             News   \n",
       "4      {'original': 'By Christopher F. Schuetze', 'pe...             News   \n",
       "...                                                  ...              ...   \n",
       "48691  {'original': 'By Trip Gabriel', 'person': [{'f...  Obituary (Obit)   \n",
       "48692  {'original': 'By Marc Santora', 'person': [{'f...             News   \n",
       "48693  {'original': 'By Jamelle Bouie', 'person': [{'...            Op-Ed   \n",
       "48694  {'original': 'By Mia Leimkuhler', 'person': [{...           Letter   \n",
       "48695  {'original': 'By David Waldstein', 'person': [...             News   \n",
       "\n",
       "                                                     _id word_count  \\\n",
       "0      nyt://article/da8532bd-f9bd-5ca3-9e7e-afef6e9f...       1280   \n",
       "1      nyt://article/aeabc262-aeb0-5423-a7ac-8bb664cb...       1310   \n",
       "2      nyt://article/42c0d0f2-ea62-5d2b-8eba-baa04180...       1460   \n",
       "3      nyt://article/6393c6c3-0e1f-5494-925d-165e7aaf...       1473   \n",
       "4      nyt://article/fe046102-78e5-530d-89e0-59ff09c0...        812   \n",
       "...                                                  ...        ...   \n",
       "48691  nyt://article/15ef03c9-295b-50e0-a0f4-64f9a182...       1019   \n",
       "48692  nyt://article/3a3d339e-87ab-5650-b797-b7bb3cb0...        967   \n",
       "48693  nyt://article/1192db0c-51bd-525b-abb4-e8607c11...        870   \n",
       "48694  nyt://article/83b24708-09af-55b1-baac-7efca171...        485   \n",
       "48695  nyt://article/0bca89dd-a1a7-5022-8192-9812f680...        849   \n",
       "\n",
       "                                                     uri subsection_name  \n",
       "0      nyt://article/da8532bd-f9bd-5ca3-9e7e-afef6e9f...             NaN  \n",
       "1      nyt://article/aeabc262-aeb0-5423-a7ac-8bb664cb...    Asia Pacific  \n",
       "2      nyt://article/42c0d0f2-ea62-5d2b-8eba-baa04180...        Americas  \n",
       "3      nyt://article/6393c6c3-0e1f-5494-925d-165e7aaf...     Middle East  \n",
       "4      nyt://article/fe046102-78e5-530d-89e0-59ff09c0...          Europe  \n",
       "...                                                  ...             ...  \n",
       "48691  nyt://article/15ef03c9-295b-50e0-a0f4-64f9a182...             NaN  \n",
       "48692  nyt://article/3a3d339e-87ab-5650-b797-b7bb3cb0...          Europe  \n",
       "48693  nyt://article/1192db0c-51bd-525b-abb4-e8607c11...             NaN  \n",
       "48694  nyt://article/83b24708-09af-55b1-baac-7efca171...             NaN  \n",
       "48695  nyt://article/0bca89dd-a1a7-5022-8192-9812f680...             NaN  \n",
       "\n",
       "[48696 rows x 21 columns]"
      ]
     },
     "execution_count": 599,
     "metadata": {},
     "output_type": "execute_result"
    }
   ],
   "source": [
    "full_year"
   ]
  },
  {
   "cell_type": "code",
   "execution_count": 600,
   "metadata": {},
   "outputs": [
    {
     "data": {
      "text/plain": [
       "Index(['Unnamed: 0', 'abstract', 'web_url', 'snippet', 'lead_paragraph',\n",
       "       'print_section', 'print_page', 'source', 'multimedia', 'headline',\n",
       "       'keywords', 'pub_date', 'document_type', 'news_desk', 'section_name',\n",
       "       'byline', 'type_of_material', '_id', 'word_count', 'uri',\n",
       "       'subsection_name'],\n",
       "      dtype='object')"
      ]
     },
     "execution_count": 600,
     "metadata": {},
     "output_type": "execute_result"
    }
   ],
   "source": [
    "full_year.columns"
   ]
  },
  {
   "cell_type": "code",
   "execution_count": 601,
   "metadata": {},
   "outputs": [],
   "source": [
    "full_year_essential = full_year[[\"_id\", \"section_name\", \"keywords\", \"pub_date\"]].copy()"
   ]
  },
  {
   "cell_type": "code",
   "execution_count": 602,
   "metadata": {},
   "outputs": [],
   "source": [
    "full_year_essential['keywords'] = full_year_essential['keywords'].apply(ast.literal_eval)"
   ]
  },
  {
   "cell_type": "code",
   "execution_count": 603,
   "metadata": {},
   "outputs": [],
   "source": [
    "full_year_essential = full_year_essential.explode(\"keywords\")"
   ]
  },
  {
   "cell_type": "code",
   "execution_count": 604,
   "metadata": {},
   "outputs": [],
   "source": [
    "full_year_essential[\"keyword_type\"] = full_year_essential[\"keywords\"].get(\"name\")"
   ]
  },
  {
   "cell_type": "code",
   "execution_count": 605,
   "metadata": {},
   "outputs": [],
   "source": [
    "full_year_essential[\"keyword\"] = full_year_essential[\"keywords\"].get(\"value\")"
   ]
  },
  {
   "cell_type": "code",
   "execution_count": 606,
   "metadata": {},
   "outputs": [],
   "source": [
    "full_year_essential[\"keyword_type\"] = full_year_essential[\"keywords\"].apply(lambda x: x.get(\"name\") if isinstance(x, dict) else None)\n",
    "full_year_essential[\"keyword\"] = full_year_essential[\"keywords\"].apply(lambda x: x.get(\"value\") if isinstance(x, dict) else None)\n",
    "full_year_essential[\"keyword_rank\"] = full_year_essential[\"keywords\"].apply(lambda x: x.get(\"rank\") if isinstance(x, dict) else None)"
   ]
  },
  {
   "cell_type": "code",
   "execution_count": 623,
   "metadata": {},
   "outputs": [
    {
     "data": {
      "application/vnd.microsoft.datawrangler.viewer.v0+json": {
       "columns": [
        {
         "name": "index",
         "rawType": "int64",
         "type": "integer"
        },
        {
         "name": "_id",
         "rawType": "object",
         "type": "string"
        },
        {
         "name": "section_name",
         "rawType": "object",
         "type": "unknown"
        },
        {
         "name": "keywords",
         "rawType": "object",
         "type": "unknown"
        },
        {
         "name": "pub_date",
         "rawType": "object",
         "type": "string"
        },
        {
         "name": "keyword_type",
         "rawType": "object",
         "type": "unknown"
        },
        {
         "name": "keyword",
         "rawType": "object",
         "type": "unknown"
        },
        {
         "name": "keyword_rank",
         "rawType": "float64",
         "type": "float"
        }
       ],
       "conversionMethod": "pd.DataFrame",
       "ref": "771ecc0d-bcde-41d8-8a41-1efd3db08ac0",
       "rows": [
        [
         "0",
         "nyt://article/da8532bd-f9bd-5ca3-9e7e-afef6e9f76d9",
         "Business Day",
         "{'name': 'subject', 'value': 'Careers and Professions', 'rank': 1, 'major': 'N'}",
         "2024-09-01T04:01:07+0000",
         "subject",
         "Careers and Professions",
         "1.0"
        ],
        [
         "0",
         "nyt://article/da8532bd-f9bd-5ca3-9e7e-afef6e9f76d9",
         "Business Day",
         "{'name': 'subject', 'value': 'Hiring and Promotion', 'rank': 2, 'major': 'N'}",
         "2024-09-01T04:01:07+0000",
         "subject",
         "Hiring and Promotion",
         "2.0"
        ],
        [
         "0",
         "nyt://article/da8532bd-f9bd-5ca3-9e7e-afef6e9f76d9",
         "Business Day",
         "{'name': 'subject', 'value': 'Content Type: Service', 'rank': 3, 'major': 'N'}",
         "2024-09-01T04:01:07+0000",
         "subject",
         "Content Type: Service",
         "3.0"
        ],
        [
         "0",
         "nyt://article/da8532bd-f9bd-5ca3-9e7e-afef6e9f76d9",
         "Business Day",
         "{'name': 'subject', 'value': 'Workplace Environment', 'rank': 4, 'major': 'N'}",
         "2024-09-01T04:01:07+0000",
         "subject",
         "Workplace Environment",
         "4.0"
        ],
        [
         "0",
         "nyt://article/da8532bd-f9bd-5ca3-9e7e-afef6e9f76d9",
         "Business Day",
         "{'name': 'subject', 'value': 'your-feed-selfcare', 'rank': 5, 'major': 'N'}",
         "2024-09-01T04:01:07+0000",
         "subject",
         "your-feed-selfcare",
         "5.0"
        ],
        [
         "1",
         "nyt://article/aeabc262-aeb0-5423-a7ac-8bb664cb983b",
         "World",
         "{'name': 'glocations', 'value': 'India', 'rank': 1, 'major': 'N'}",
         "2024-09-01T04:01:25+0000",
         "glocations",
         "India",
         "1.0"
        ],
        [
         "1",
         "nyt://article/aeabc262-aeb0-5423-a7ac-8bb664cb983b",
         "World",
         "{'name': 'subject', 'value': 'Hospitals', 'rank': 2, 'major': 'N'}",
         "2024-09-01T04:01:25+0000",
         "subject",
         "Hospitals",
         "2.0"
        ],
        [
         "1",
         "nyt://article/aeabc262-aeb0-5423-a7ac-8bb664cb983b",
         "World",
         "{'name': 'subject', 'value': 'Workplace Hazards and Violations', 'rank': 3, 'major': 'N'}",
         "2024-09-01T04:01:25+0000",
         "subject",
         "Workplace Hazards and Violations",
         "3.0"
        ],
        [
         "1",
         "nyt://article/aeabc262-aeb0-5423-a7ac-8bb664cb983b",
         "World",
         "{'name': 'subject', 'value': 'Doctors', 'rank': 4, 'major': 'N'}",
         "2024-09-01T04:01:25+0000",
         "subject",
         "Doctors",
         "4.0"
        ],
        [
         "1",
         "nyt://article/aeabc262-aeb0-5423-a7ac-8bb664cb983b",
         "World",
         "{'name': 'subject', 'value': 'Medical Schools', 'rank': 5, 'major': 'N'}",
         "2024-09-01T04:01:25+0000",
         "subject",
         "Medical Schools",
         "5.0"
        ],
        [
         "1",
         "nyt://article/aeabc262-aeb0-5423-a7ac-8bb664cb983b",
         "World",
         "{'name': 'subject', 'value': 'Murders, Attempted Murders and Homicides', 'rank': 6, 'major': 'N'}",
         "2024-09-01T04:01:25+0000",
         "subject",
         "Murders, Attempted Murders and Homicides",
         "6.0"
        ],
        [
         "1",
         "nyt://article/aeabc262-aeb0-5423-a7ac-8bb664cb983b",
         "World",
         "{'name': 'subject', 'value': 'Health Care Workers', 'rank': 7, 'major': 'N'}",
         "2024-09-01T04:01:25+0000",
         "subject",
         "Health Care Workers",
         "7.0"
        ],
        [
         "2",
         "nyt://article/42c0d0f2-ea62-5d2b-8eba-baa04180adea",
         "World",
         "{'name': 'glocations', 'value': 'Maracaibo (Venezuela)', 'rank': 1, 'major': 'N'}",
         "2024-09-01T04:01:27+0000",
         "glocations",
         "Maracaibo (Venezuela)",
         "1.0"
        ],
        [
         "2",
         "nyt://article/42c0d0f2-ea62-5d2b-8eba-baa04180adea",
         "World",
         "{'name': 'subject', 'value': 'Population', 'rank': 2, 'major': 'N'}",
         "2024-09-01T04:01:27+0000",
         "subject",
         "Population",
         "2.0"
        ],
        [
         "2",
         "nyt://article/42c0d0f2-ea62-5d2b-8eba-baa04180adea",
         "World",
         "{'name': 'subject', 'value': 'Immigration and Emigration', 'rank': 3, 'major': 'N'}",
         "2024-09-01T04:01:27+0000",
         "subject",
         "Immigration and Emigration",
         "3.0"
        ],
        [
         "2",
         "nyt://article/42c0d0f2-ea62-5d2b-8eba-baa04180adea",
         "World",
         "{'name': 'glocations', 'value': 'Venezuela', 'rank': 4, 'major': 'N'}",
         "2024-09-01T04:01:27+0000",
         "glocations",
         "Venezuela",
         "4.0"
        ],
        [
         "2",
         "nyt://article/42c0d0f2-ea62-5d2b-8eba-baa04180adea",
         "World",
         "{'name': 'subject', 'value': 'Politics and Government', 'rank': 5, 'major': 'N'}",
         "2024-09-01T04:01:27+0000",
         "subject",
         "Politics and Government",
         "5.0"
        ],
        [
         "2",
         "nyt://article/42c0d0f2-ea62-5d2b-8eba-baa04180adea",
         "World",
         "{'name': 'subject', 'value': 'Economic Conditions and Trends', 'rank': 6, 'major': 'N'}",
         "2024-09-01T04:01:27+0000",
         "subject",
         "Economic Conditions and Trends",
         "6.0"
        ],
        [
         "2",
         "nyt://article/42c0d0f2-ea62-5d2b-8eba-baa04180adea",
         "World",
         "{'name': 'subject', 'value': 'Shortages', 'rank': 7, 'major': 'N'}",
         "2024-09-01T04:01:27+0000",
         "subject",
         "Shortages",
         "7.0"
        ],
        [
         "2",
         "nyt://article/42c0d0f2-ea62-5d2b-8eba-baa04180adea",
         "World",
         "{'name': 'subject', 'value': 'Embargoes and Sanctions', 'rank': 8, 'major': 'N'}",
         "2024-09-01T04:01:27+0000",
         "subject",
         "Embargoes and Sanctions",
         "8.0"
        ],
        [
         "2",
         "nyt://article/42c0d0f2-ea62-5d2b-8eba-baa04180adea",
         "World",
         "{'name': 'subject', 'value': 'Labor and Jobs', 'rank': 9, 'major': 'N'}",
         "2024-09-01T04:01:27+0000",
         "subject",
         "Labor and Jobs",
         "9.0"
        ],
        [
         "2",
         "nyt://article/42c0d0f2-ea62-5d2b-8eba-baa04180adea",
         "World",
         "{'name': 'persons', 'value': 'Maduro, Nicolas', 'rank': 10, 'major': 'N'}",
         "2024-09-01T04:01:27+0000",
         "persons",
         "Maduro, Nicolas",
         "10.0"
        ],
        [
         "2",
         "nyt://article/42c0d0f2-ea62-5d2b-8eba-baa04180adea",
         "World",
         "{'name': 'persons', 'value': 'Gonzalez, Edmundo (1949- )', 'rank': 11, 'major': 'N'}",
         "2024-09-01T04:01:27+0000",
         "persons",
         "Gonzalez, Edmundo (1949- )",
         "11.0"
        ],
        [
         "2",
         "nyt://article/42c0d0f2-ea62-5d2b-8eba-baa04180adea",
         "World",
         "{'name': 'persons', 'value': 'Machado, Maria Corina', 'rank': 12, 'major': 'N'}",
         "2024-09-01T04:01:27+0000",
         "persons",
         "Machado, Maria Corina",
         "12.0"
        ],
        [
         "3",
         "nyt://article/6393c6c3-0e1f-5494-925d-165e7aafdefa",
         "World",
         "{'name': 'subject', 'value': 'Israel-Gaza War (2023- )', 'rank': 1, 'major': 'N'}",
         "2024-09-01T04:01:43+0000",
         "subject",
         "Israel-Gaza War (2023- )",
         "1.0"
        ],
        [
         "3",
         "nyt://article/6393c6c3-0e1f-5494-925d-165e7aafdefa",
         "World",
         "{'name': 'subject', 'value': 'Vaccination and Immunization', 'rank': 2, 'major': 'N'}",
         "2024-09-01T04:01:43+0000",
         "subject",
         "Vaccination and Immunization",
         "2.0"
        ],
        [
         "3",
         "nyt://article/6393c6c3-0e1f-5494-925d-165e7aafdefa",
         "World",
         "{'name': 'subject', 'value': 'Palestinians', 'rank': 3, 'major': 'N'}",
         "2024-09-01T04:01:43+0000",
         "subject",
         "Palestinians",
         "3.0"
        ],
        [
         "3",
         "nyt://article/6393c6c3-0e1f-5494-925d-165e7aafdefa",
         "World",
         "{'name': 'organizations', 'value': 'World Health Organization', 'rank': 4, 'major': 'N'}",
         "2024-09-01T04:01:43+0000",
         "organizations",
         "World Health Organization",
         "4.0"
        ],
        [
         "3",
         "nyt://article/6393c6c3-0e1f-5494-925d-165e7aafdefa",
         "World",
         "{'name': 'organizations', 'value': 'United Nations', 'rank': 5, 'major': 'N'}",
         "2024-09-01T04:01:43+0000",
         "organizations",
         "United Nations",
         "5.0"
        ],
        [
         "3",
         "nyt://article/6393c6c3-0e1f-5494-925d-165e7aafdefa",
         "World",
         "{'name': 'organizations', 'value': 'Hamas', 'rank': 6, 'major': 'N'}",
         "2024-09-01T04:01:43+0000",
         "organizations",
         "Hamas",
         "6.0"
        ],
        [
         "3",
         "nyt://article/6393c6c3-0e1f-5494-925d-165e7aafdefa",
         "World",
         "{'name': 'glocations', 'value': 'Israel', 'rank': 7, 'major': 'N'}",
         "2024-09-01T04:01:43+0000",
         "glocations",
         "Israel",
         "7.0"
        ],
        [
         "3",
         "nyt://article/6393c6c3-0e1f-5494-925d-165e7aafdefa",
         "World",
         "{'name': 'subject', 'value': 'Poliomyelitis', 'rank': 8, 'major': 'N'}",
         "2024-09-01T04:01:43+0000",
         "subject",
         "Poliomyelitis",
         "8.0"
        ],
        [
         "3",
         "nyt://article/6393c6c3-0e1f-5494-925d-165e7aafdefa",
         "World",
         "{'name': 'subject', 'value': 'Children and Childhood', 'rank': 9, 'major': 'N'}",
         "2024-09-01T04:01:43+0000",
         "subject",
         "Children and Childhood",
         "9.0"
        ],
        [
         "4",
         "nyt://article/fe046102-78e5-530d-89e0-59ff09c0e2e4",
         "World",
         "{'name': 'glocations', 'value': 'Germany', 'rank': 1, 'major': 'N'}",
         "2024-09-01T04:01:43+0000",
         "glocations",
         "Germany",
         "1.0"
        ],
        [
         "4",
         "nyt://article/fe046102-78e5-530d-89e0-59ff09c0e2e4",
         "World",
         "{'name': 'subject', 'value': 'Elections, State Legislature', 'rank': 2, 'major': 'N'}",
         "2024-09-01T04:01:43+0000",
         "subject",
         "Elections, State Legislature",
         "2.0"
        ],
        [
         "4",
         "nyt://article/fe046102-78e5-530d-89e0-59ff09c0e2e4",
         "World",
         "{'name': 'glocations', 'value': 'SAXONY (GERMANY)', 'rank': 3, 'major': 'N'}",
         "2024-09-01T04:01:43+0000",
         "glocations",
         "SAXONY (GERMANY)",
         "3.0"
        ],
        [
         "4",
         "nyt://article/fe046102-78e5-530d-89e0-59ff09c0e2e4",
         "World",
         "{'name': 'glocations', 'value': 'THURINGIA (GERMANY)', 'rank': 4, 'major': 'N'}",
         "2024-09-01T04:01:43+0000",
         "glocations",
         "THURINGIA (GERMANY)",
         "4.0"
        ],
        [
         "4",
         "nyt://article/fe046102-78e5-530d-89e0-59ff09c0e2e4",
         "World",
         "{'name': 'organizations', 'value': 'Alternative for Germany', 'rank': 5, 'major': 'N'}",
         "2024-09-01T04:01:43+0000",
         "organizations",
         "Alternative for Germany",
         "5.0"
        ],
        [
         "4",
         "nyt://article/fe046102-78e5-530d-89e0-59ff09c0e2e4",
         "World",
         "{'name': 'organizations', 'value': 'Christian Democratic Union (Germany)', 'rank': 6, 'major': 'N'}",
         "2024-09-01T04:01:43+0000",
         "organizations",
         "Christian Democratic Union (Germany)",
         "6.0"
        ],
        [
         "4",
         "nyt://article/fe046102-78e5-530d-89e0-59ff09c0e2e4",
         "World",
         "{'name': 'organizations', 'value': 'Sahra Wagenknecht Alliance (BSW)', 'rank': 7, 'major': 'N'}",
         "2024-09-01T04:01:43+0000",
         "organizations",
         "Sahra Wagenknecht Alliance (BSW)",
         "7.0"
        ],
        [
         "4",
         "nyt://article/fe046102-78e5-530d-89e0-59ff09c0e2e4",
         "World",
         "{'name': 'subject', 'value': 'Right-Wing Extremism and Alt-Right', 'rank': 8, 'major': 'N'}",
         "2024-09-01T04:01:43+0000",
         "subject",
         "Right-Wing Extremism and Alt-Right",
         "8.0"
        ],
        [
         "4",
         "nyt://article/fe046102-78e5-530d-89e0-59ff09c0e2e4",
         "World",
         "{'name': 'subject', 'value': 'Politics and Government', 'rank': 9, 'major': 'N'}",
         "2024-09-01T04:01:43+0000",
         "subject",
         "Politics and Government",
         "9.0"
        ],
        [
         "4",
         "nyt://article/fe046102-78e5-530d-89e0-59ff09c0e2e4",
         "World",
         "{'name': 'persons', 'value': 'Scholz, Olaf (1958- )', 'rank': 10, 'major': 'N'}",
         "2024-09-01T04:01:43+0000",
         "persons",
         "Scholz, Olaf (1958- )",
         "10.0"
        ],
        [
         "4",
         "nyt://article/fe046102-78e5-530d-89e0-59ff09c0e2e4",
         "World",
         "{'name': 'subject', 'value': 'Elections', 'rank': 11, 'major': 'N'}",
         "2024-09-01T04:01:43+0000",
         "subject",
         "Elections",
         "11.0"
        ],
        [
         "5",
         "nyt://article/9747f7eb-e1c0-5709-846c-e7128215e78f",
         "Corrections",
         null,
         "2024-09-01T04:02:34+0000",
         null,
         null,
         null
        ],
        [
         "6",
         "nyt://article/1830dce5-7ba0-5cfb-92a2-fe701642e831",
         "Corrections",
         null,
         "2024-09-01T04:04:10+0000",
         null,
         null,
         null
        ],
        [
         "7",
         "nyt://article/8c93a8fe-604e-5c56-b025-18fe292ef016",
         "World",
         "{'name': 'persons', 'value': 'Goldberg-Polin, Hersh', 'rank': 1, 'major': 'N'}",
         "2024-09-01T04:17:40+0000",
         "persons",
         "Goldberg-Polin, Hersh",
         "1.0"
        ],
        [
         "7",
         "nyt://article/8c93a8fe-604e-5c56-b025-18fe292ef016",
         "World",
         "{'name': 'subject', 'value': 'Israel-Gaza War (2023- )', 'rank': 2, 'major': 'N'}",
         "2024-09-01T04:17:40+0000",
         "subject",
         "Israel-Gaza War (2023- )",
         "2.0"
        ],
        [
         "7",
         "nyt://article/8c93a8fe-604e-5c56-b025-18fe292ef016",
         "World",
         "{'name': 'subject', 'value': 'Kidnapping and Hostages', 'rank': 3, 'major': 'N'}",
         "2024-09-01T04:17:40+0000",
         "subject",
         "Kidnapping and Hostages",
         "3.0"
        ],
        [
         "7",
         "nyt://article/8c93a8fe-604e-5c56-b025-18fe292ef016",
         "World",
         "{'name': 'subject', 'value': 'Murders, Attempted Murders and Homicides', 'rank': 4, 'major': 'N'}",
         "2024-09-01T04:17:40+0000",
         "subject",
         "Murders, Attempted Murders and Homicides",
         "4.0"
        ]
       ],
       "shape": {
        "columns": 7,
        "rows": 337146
       }
      },
      "text/html": [
       "<div>\n",
       "<style scoped>\n",
       "    .dataframe tbody tr th:only-of-type {\n",
       "        vertical-align: middle;\n",
       "    }\n",
       "\n",
       "    .dataframe tbody tr th {\n",
       "        vertical-align: top;\n",
       "    }\n",
       "\n",
       "    .dataframe thead th {\n",
       "        text-align: right;\n",
       "    }\n",
       "</style>\n",
       "<table border=\"1\" class=\"dataframe\">\n",
       "  <thead>\n",
       "    <tr style=\"text-align: right;\">\n",
       "      <th></th>\n",
       "      <th>_id</th>\n",
       "      <th>section_name</th>\n",
       "      <th>keywords</th>\n",
       "      <th>pub_date</th>\n",
       "      <th>keyword_type</th>\n",
       "      <th>keyword</th>\n",
       "      <th>keyword_rank</th>\n",
       "    </tr>\n",
       "  </thead>\n",
       "  <tbody>\n",
       "    <tr>\n",
       "      <th>0</th>\n",
       "      <td>nyt://article/da8532bd-f9bd-5ca3-9e7e-afef6e9f...</td>\n",
       "      <td>Business Day</td>\n",
       "      <td>{'name': 'subject', 'value': 'Careers and Prof...</td>\n",
       "      <td>2024-09-01T04:01:07+0000</td>\n",
       "      <td>subject</td>\n",
       "      <td>Careers and Professions</td>\n",
       "      <td>1.0</td>\n",
       "    </tr>\n",
       "    <tr>\n",
       "      <th>0</th>\n",
       "      <td>nyt://article/da8532bd-f9bd-5ca3-9e7e-afef6e9f...</td>\n",
       "      <td>Business Day</td>\n",
       "      <td>{'name': 'subject', 'value': 'Hiring and Promo...</td>\n",
       "      <td>2024-09-01T04:01:07+0000</td>\n",
       "      <td>subject</td>\n",
       "      <td>Hiring and Promotion</td>\n",
       "      <td>2.0</td>\n",
       "    </tr>\n",
       "    <tr>\n",
       "      <th>0</th>\n",
       "      <td>nyt://article/da8532bd-f9bd-5ca3-9e7e-afef6e9f...</td>\n",
       "      <td>Business Day</td>\n",
       "      <td>{'name': 'subject', 'value': 'Content Type: Se...</td>\n",
       "      <td>2024-09-01T04:01:07+0000</td>\n",
       "      <td>subject</td>\n",
       "      <td>Content Type: Service</td>\n",
       "      <td>3.0</td>\n",
       "    </tr>\n",
       "    <tr>\n",
       "      <th>0</th>\n",
       "      <td>nyt://article/da8532bd-f9bd-5ca3-9e7e-afef6e9f...</td>\n",
       "      <td>Business Day</td>\n",
       "      <td>{'name': 'subject', 'value': 'Workplace Enviro...</td>\n",
       "      <td>2024-09-01T04:01:07+0000</td>\n",
       "      <td>subject</td>\n",
       "      <td>Workplace Environment</td>\n",
       "      <td>4.0</td>\n",
       "    </tr>\n",
       "    <tr>\n",
       "      <th>0</th>\n",
       "      <td>nyt://article/da8532bd-f9bd-5ca3-9e7e-afef6e9f...</td>\n",
       "      <td>Business Day</td>\n",
       "      <td>{'name': 'subject', 'value': 'your-feed-selfca...</td>\n",
       "      <td>2024-09-01T04:01:07+0000</td>\n",
       "      <td>subject</td>\n",
       "      <td>your-feed-selfcare</td>\n",
       "      <td>5.0</td>\n",
       "    </tr>\n",
       "    <tr>\n",
       "      <th>...</th>\n",
       "      <td>...</td>\n",
       "      <td>...</td>\n",
       "      <td>...</td>\n",
       "      <td>...</td>\n",
       "      <td>...</td>\n",
       "      <td>...</td>\n",
       "      <td>...</td>\n",
       "    </tr>\n",
       "    <tr>\n",
       "      <th>48695</th>\n",
       "      <td>nyt://article/0bca89dd-a1a7-5022-8192-9812f680...</td>\n",
       "      <td>New York</td>\n",
       "      <td>{'name': 'subject', 'value': 'United States Op...</td>\n",
       "      <td>2024-08-31T15:42:26+0000</td>\n",
       "      <td>subject</td>\n",
       "      <td>United States Open (Tennis)</td>\n",
       "      <td>1.0</td>\n",
       "    </tr>\n",
       "    <tr>\n",
       "      <th>48695</th>\n",
       "      <td>nyt://article/0bca89dd-a1a7-5022-8192-9812f680...</td>\n",
       "      <td>New York</td>\n",
       "      <td>{'name': 'subject', 'value': 'Content Type: Pe...</td>\n",
       "      <td>2024-08-31T15:42:26+0000</td>\n",
       "      <td>subject</td>\n",
       "      <td>Content Type: Personal Profile</td>\n",
       "      <td>3.0</td>\n",
       "    </tr>\n",
       "    <tr>\n",
       "      <th>48695</th>\n",
       "      <td>nyt://article/0bca89dd-a1a7-5022-8192-9812f680...</td>\n",
       "      <td>New York</td>\n",
       "      <td>{'name': 'subject', 'value': 'Tennis', 'rank':...</td>\n",
       "      <td>2024-08-31T15:42:26+0000</td>\n",
       "      <td>subject</td>\n",
       "      <td>Tennis</td>\n",
       "      <td>6.0</td>\n",
       "    </tr>\n",
       "    <tr>\n",
       "      <th>48695</th>\n",
       "      <td>nyt://article/0bca89dd-a1a7-5022-8192-9812f680...</td>\n",
       "      <td>New York</td>\n",
       "      <td>{'name': 'glocations', 'value': 'Netherlands',...</td>\n",
       "      <td>2024-08-31T15:42:26+0000</td>\n",
       "      <td>glocations</td>\n",
       "      <td>Netherlands</td>\n",
       "      <td>7.0</td>\n",
       "    </tr>\n",
       "    <tr>\n",
       "      <th>48695</th>\n",
       "      <td>nyt://article/0bca89dd-a1a7-5022-8192-9812f680...</td>\n",
       "      <td>New York</td>\n",
       "      <td>{'name': 'glocations', 'value': 'Flushing (Que...</td>\n",
       "      <td>2024-08-31T15:42:26+0000</td>\n",
       "      <td>glocations</td>\n",
       "      <td>Flushing (Queens, NY)</td>\n",
       "      <td>8.0</td>\n",
       "    </tr>\n",
       "  </tbody>\n",
       "</table>\n",
       "<p>337146 rows × 7 columns</p>\n",
       "</div>"
      ],
      "text/plain": [
       "                                                     _id  section_name  \\\n",
       "0      nyt://article/da8532bd-f9bd-5ca3-9e7e-afef6e9f...  Business Day   \n",
       "0      nyt://article/da8532bd-f9bd-5ca3-9e7e-afef6e9f...  Business Day   \n",
       "0      nyt://article/da8532bd-f9bd-5ca3-9e7e-afef6e9f...  Business Day   \n",
       "0      nyt://article/da8532bd-f9bd-5ca3-9e7e-afef6e9f...  Business Day   \n",
       "0      nyt://article/da8532bd-f9bd-5ca3-9e7e-afef6e9f...  Business Day   \n",
       "...                                                  ...           ...   \n",
       "48695  nyt://article/0bca89dd-a1a7-5022-8192-9812f680...      New York   \n",
       "48695  nyt://article/0bca89dd-a1a7-5022-8192-9812f680...      New York   \n",
       "48695  nyt://article/0bca89dd-a1a7-5022-8192-9812f680...      New York   \n",
       "48695  nyt://article/0bca89dd-a1a7-5022-8192-9812f680...      New York   \n",
       "48695  nyt://article/0bca89dd-a1a7-5022-8192-9812f680...      New York   \n",
       "\n",
       "                                                keywords  \\\n",
       "0      {'name': 'subject', 'value': 'Careers and Prof...   \n",
       "0      {'name': 'subject', 'value': 'Hiring and Promo...   \n",
       "0      {'name': 'subject', 'value': 'Content Type: Se...   \n",
       "0      {'name': 'subject', 'value': 'Workplace Enviro...   \n",
       "0      {'name': 'subject', 'value': 'your-feed-selfca...   \n",
       "...                                                  ...   \n",
       "48695  {'name': 'subject', 'value': 'United States Op...   \n",
       "48695  {'name': 'subject', 'value': 'Content Type: Pe...   \n",
       "48695  {'name': 'subject', 'value': 'Tennis', 'rank':...   \n",
       "48695  {'name': 'glocations', 'value': 'Netherlands',...   \n",
       "48695  {'name': 'glocations', 'value': 'Flushing (Que...   \n",
       "\n",
       "                       pub_date keyword_type                         keyword  \\\n",
       "0      2024-09-01T04:01:07+0000      subject         Careers and Professions   \n",
       "0      2024-09-01T04:01:07+0000      subject            Hiring and Promotion   \n",
       "0      2024-09-01T04:01:07+0000      subject           Content Type: Service   \n",
       "0      2024-09-01T04:01:07+0000      subject           Workplace Environment   \n",
       "0      2024-09-01T04:01:07+0000      subject              your-feed-selfcare   \n",
       "...                         ...          ...                             ...   \n",
       "48695  2024-08-31T15:42:26+0000      subject     United States Open (Tennis)   \n",
       "48695  2024-08-31T15:42:26+0000      subject  Content Type: Personal Profile   \n",
       "48695  2024-08-31T15:42:26+0000      subject                          Tennis   \n",
       "48695  2024-08-31T15:42:26+0000   glocations                     Netherlands   \n",
       "48695  2024-08-31T15:42:26+0000   glocations           Flushing (Queens, NY)   \n",
       "\n",
       "       keyword_rank  \n",
       "0               1.0  \n",
       "0               2.0  \n",
       "0               3.0  \n",
       "0               4.0  \n",
       "0               5.0  \n",
       "...             ...  \n",
       "48695           1.0  \n",
       "48695           3.0  \n",
       "48695           6.0  \n",
       "48695           7.0  \n",
       "48695           8.0  \n",
       "\n",
       "[337146 rows x 7 columns]"
      ]
     },
     "execution_count": 623,
     "metadata": {},
     "output_type": "execute_result"
    }
   ],
   "source": [
    "full_year_essential"
   ]
  },
  {
   "cell_type": "code",
   "execution_count": 607,
   "metadata": {},
   "outputs": [],
   "source": [
    "locations = full_year_essential[full_year_essential[\"keyword_type\"] == \"glocations\"]"
   ]
  },
  {
   "cell_type": "code",
   "execution_count": null,
   "metadata": {},
   "outputs": [],
   "source": [
    "locations = locations[\"keyword\"].unique()"
   ]
  },
  {
   "cell_type": "code",
   "execution_count": null,
   "metadata": {},
   "outputs": [],
   "source": [
    "locations"
   ]
  },
  {
   "cell_type": "code",
   "execution_count": null,
   "metadata": {},
   "outputs": [],
   "source": [
    "places_df = pd.DataFrame(locations, columns=[\"location\"])"
   ]
  },
  {
   "cell_type": "code",
   "execution_count": null,
   "metadata": {},
   "outputs": [],
   "source": [
    "places_df"
   ]
  },
  {
   "cell_type": "code",
   "execution_count": null,
   "metadata": {},
   "outputs": [],
   "source": [
    "places_df['country'] = places_df['location'].apply(lambda x: x[x.find(\"(\")+1:x.find(\")\")] if \"(\" in x and \")\" in x else x)"
   ]
  },
  {
   "cell_type": "markdown",
   "metadata": {},
   "source": [
    "## Geolocate individual locations"
   ]
  },
  {
   "cell_type": "code",
   "execution_count": null,
   "metadata": {},
   "outputs": [],
   "source": [
    "geolocator = Nominatim(user_agent=\"geo_locator\")"
   ]
  },
  {
   "cell_type": "code",
   "execution_count": null,
   "metadata": {},
   "outputs": [],
   "source": [
    "# Function to get country\n",
    "def get_country(location):\n",
    "    try:\n",
    "        geo = geolocator.geocode(location, exactly_one=True, language='en', addressdetails=False)\n",
    "        if geo:\n",
    "            return geo.address.split(\",\")[-1].strip()\n",
    "        else:\n",
    "            return \"Not found\"\n",
    "    except GeocoderTimedOut:\n",
    "        return \"Timeout\"\n",
    "    except GeocoderUnavailable:\n",
    "        return \"Unavailable\""
   ]
  },
  {
   "cell_type": "code",
   "execution_count": null,
   "metadata": {},
   "outputs": [],
   "source": [
    "places_df['retrieved_country'] = places_df.apply(lambda x: get_country(x[\"country\"]), axis=1)"
   ]
  },
  {
   "cell_type": "code",
   "execution_count": null,
   "metadata": {},
   "outputs": [],
   "source": [
    "places_df.to_csv(\"../../input-data/nyt_retrived_countries.csv\")"
   ]
  },
  {
   "cell_type": "markdown",
   "metadata": {},
   "source": [
    "## Clean edge cases"
   ]
  },
  {
   "cell_type": "code",
   "execution_count": 573,
   "metadata": {},
   "outputs": [],
   "source": [
    "retrieved_countries = pd.read_csv(\"../../input-data/nyt_retrived_countries.csv\")"
   ]
  },
  {
   "cell_type": "code",
   "execution_count": 574,
   "metadata": {},
   "outputs": [],
   "source": [
    "retrieved_countries = retrieved_countries.drop(labels=\"Unnamed: 0\", axis=1)"
   ]
  },
  {
   "cell_type": "markdown",
   "metadata": {},
   "source": [
    "Masking all US states with ambigous 2 letter code (not real ISO code, will default to \"United States\" as country)."
   ]
  },
  {
   "cell_type": "code",
   "execution_count": 575,
   "metadata": {},
   "outputs": [],
   "source": [
    "us_states_mask = (retrieved_countries['country'].str.len() == 2) | (retrieved_countries['country'].str.len() == 3) | (retrieved_countries['country'] == \"Los Angeles, Calif\") | (retrieved_countries['country'] == \"Miami, Fla\")"
   ]
  },
  {
   "cell_type": "code",
   "execution_count": 576,
   "metadata": {},
   "outputs": [],
   "source": [
    "retrieved_countries.loc[us_states_mask, \"retrieved_country\"] = \"United States\""
   ]
  },
  {
   "cell_type": "code",
   "execution_count": 577,
   "metadata": {},
   "outputs": [
    {
     "data": {
      "application/vnd.microsoft.datawrangler.viewer.v0+json": {
       "columns": [
        {
         "name": "index",
         "rawType": "int64",
         "type": "integer"
        },
        {
         "name": "location",
         "rawType": "object",
         "type": "string"
        },
        {
         "name": "country",
         "rawType": "object",
         "type": "string"
        },
        {
         "name": "retrieved_country",
         "rawType": "object",
         "type": "string"
        }
       ],
       "conversionMethod": "pd.DataFrame",
       "ref": "ee23d211-0dfe-488a-8834-149cd1ac326a",
       "rows": [
        [
         "0",
         "India",
         "India",
         "India"
        ],
        [
         "1",
         "Maracaibo (Venezuela)",
         "Venezuela",
         "Venezuela"
        ],
        [
         "2",
         "Venezuela",
         "Venezuela",
         "Venezuela"
        ],
        [
         "3",
         "Israel",
         "Israel",
         "Israel"
        ],
        [
         "4",
         "Germany",
         "Germany",
         "Germany"
        ],
        [
         "5",
         "SAXONY (GERMANY)",
         "GERMANY",
         "Germany"
        ],
        [
         "6",
         "THURINGIA (GERMANY)",
         "GERMANY",
         "Germany"
        ],
        [
         "7",
         "Gaza Strip",
         "Gaza Strip",
         "Palestinian Territory"
        ],
        [
         "8",
         "Cornwall (England)",
         "England",
         "United Kingdom"
        ],
        [
         "9",
         "England",
         "England",
         "United Kingdom"
        ],
        [
         "10",
         "New York City",
         "New York City",
         "United States"
        ],
        [
         "11",
         "Times Square and 42nd Street (Manhattan, NY)",
         "Manhattan, NY",
         "United States"
        ],
        [
         "12",
         "Midtown Area (Manhattan, NY)",
         "Manhattan, NY",
         "United States"
        ],
        [
         "13",
         "Bensonhurst (Brooklyn, NY)",
         "Brooklyn, NY",
         "United States"
        ],
        [
         "14",
         "California",
         "California",
         "United States"
        ],
        [
         "15",
         "United States",
         "United States",
         "United States"
        ],
        [
         "16",
         "Egypt",
         "Egypt",
         "Egypt"
        ],
        [
         "17",
         "Cairo (Egypt)",
         "Egypt",
         "Egypt"
        ],
        [
         "18",
         "Paris (France)",
         "France",
         "France"
        ],
        [
         "19",
         "Pokrovsk (Ukraine)",
         "Ukraine",
         "Ukraine"
        ],
        [
         "20",
         "Ukraine",
         "Ukraine",
         "Ukraine"
        ],
        [
         "21",
         "Russia",
         "Russia",
         "Russia"
        ],
        [
         "22",
         "Jarratt (Va)",
         "Va",
         "United States"
        ],
        [
         "23",
         "Philippines",
         "Philippines",
         "Philippines"
        ],
        [
         "24",
         "China",
         "China",
         "China"
        ],
        [
         "25",
         "South China Sea",
         "South China Sea",
         "South China Sea"
        ],
        [
         "26",
         "West Bank",
         "West Bank",
         "United States"
        ],
        [
         "27",
         "St Paul (Minn)",
         "Minn",
         "United States"
        ],
        [
         "28",
         "Minnesota",
         "Minnesota",
         "Unavailable"
        ],
        [
         "29",
         "Nashville (Tenn)",
         "Tenn",
         "United States"
        ],
        [
         "30",
         "Brazil",
         "Brazil",
         "Brazil"
        ],
        [
         "31",
         "Kauai (Hawaii)",
         "Hawaii",
         "United States"
        ],
        [
         "32",
         "Honolulu (Hawaii)",
         "Hawaii",
         "United States"
        ],
        [
         "33",
         "Greenwich (Conn)",
         "Conn",
         "United States"
        ],
        [
         "34",
         "Baltimore (Md)",
         "Md",
         "United States"
        ],
        [
         "35",
         "San Francisco (Calif)",
         "Calif",
         "United States"
        ],
        [
         "36",
         "Seattle (Wash)",
         "Wash",
         "United States"
        ],
        [
         "37",
         "San Diego (Calif)",
         "Calif",
         "United States"
        ],
        [
         "38",
         "San Jose (Calif)",
         "Calif",
         "United States"
        ],
        [
         "39",
         "Kamchatka Peninsula (Russia)",
         "Russia",
         "Russia"
        ],
        [
         "40",
         "East Germany",
         "East Germany",
         "Germany"
        ],
        [
         "41",
         "Europe",
         "Europe",
         "Europe"
        ],
        [
         "42",
         "Boston (Mass)",
         "Mass",
         "United States"
        ],
        [
         "43",
         "New Hampshire",
         "New Hampshire",
         "United States"
        ],
        [
         "44",
         "Chicago (Ill)",
         "Ill",
         "United States"
        ],
        [
         "45",
         "Richmond (Va)",
         "Va",
         "United States"
        ],
        [
         "46",
         "Bedminster (NJ)",
         "NJ",
         "United States"
        ],
        [
         "47",
         "Jerusalem (Israel)",
         "Israel",
         "Israel"
        ],
        [
         "48",
         "Tel Aviv (Israel)",
         "Israel",
         "Israel"
        ],
        [
         "49",
         "AFGHANISTAN",
         "AFGHANISTAN",
         "Afghanistan"
        ]
       ],
       "shape": {
        "columns": 3,
        "rows": 3174
       }
      },
      "text/html": [
       "<div>\n",
       "<style scoped>\n",
       "    .dataframe tbody tr th:only-of-type {\n",
       "        vertical-align: middle;\n",
       "    }\n",
       "\n",
       "    .dataframe tbody tr th {\n",
       "        vertical-align: top;\n",
       "    }\n",
       "\n",
       "    .dataframe thead th {\n",
       "        text-align: right;\n",
       "    }\n",
       "</style>\n",
       "<table border=\"1\" class=\"dataframe\">\n",
       "  <thead>\n",
       "    <tr style=\"text-align: right;\">\n",
       "      <th></th>\n",
       "      <th>location</th>\n",
       "      <th>country</th>\n",
       "      <th>retrieved_country</th>\n",
       "    </tr>\n",
       "  </thead>\n",
       "  <tbody>\n",
       "    <tr>\n",
       "      <th>0</th>\n",
       "      <td>India</td>\n",
       "      <td>India</td>\n",
       "      <td>India</td>\n",
       "    </tr>\n",
       "    <tr>\n",
       "      <th>1</th>\n",
       "      <td>Maracaibo (Venezuela)</td>\n",
       "      <td>Venezuela</td>\n",
       "      <td>Venezuela</td>\n",
       "    </tr>\n",
       "    <tr>\n",
       "      <th>2</th>\n",
       "      <td>Venezuela</td>\n",
       "      <td>Venezuela</td>\n",
       "      <td>Venezuela</td>\n",
       "    </tr>\n",
       "    <tr>\n",
       "      <th>3</th>\n",
       "      <td>Israel</td>\n",
       "      <td>Israel</td>\n",
       "      <td>Israel</td>\n",
       "    </tr>\n",
       "    <tr>\n",
       "      <th>4</th>\n",
       "      <td>Germany</td>\n",
       "      <td>Germany</td>\n",
       "      <td>Germany</td>\n",
       "    </tr>\n",
       "    <tr>\n",
       "      <th>...</th>\n",
       "      <td>...</td>\n",
       "      <td>...</td>\n",
       "      <td>...</td>\n",
       "    </tr>\n",
       "    <tr>\n",
       "      <th>3169</th>\n",
       "      <td>Yanji (China)</td>\n",
       "      <td>China</td>\n",
       "      <td>China</td>\n",
       "    </tr>\n",
       "    <tr>\n",
       "      <th>3170</th>\n",
       "      <td>West Side Highway (Manhattan, NY)</td>\n",
       "      <td>Manhattan, NY</td>\n",
       "      <td>United States</td>\n",
       "    </tr>\n",
       "    <tr>\n",
       "      <th>3171</th>\n",
       "      <td>County Clare (Ireland)</td>\n",
       "      <td>Ireland</td>\n",
       "      <td>Ireland</td>\n",
       "    </tr>\n",
       "    <tr>\n",
       "      <th>3172</th>\n",
       "      <td>County Limerick (Ireland)</td>\n",
       "      <td>Ireland</td>\n",
       "      <td>Ireland</td>\n",
       "    </tr>\n",
       "    <tr>\n",
       "      <th>3173</th>\n",
       "      <td>Fort Lee (Va)</td>\n",
       "      <td>Va</td>\n",
       "      <td>United States</td>\n",
       "    </tr>\n",
       "  </tbody>\n",
       "</table>\n",
       "<p>3174 rows × 3 columns</p>\n",
       "</div>"
      ],
      "text/plain": [
       "                               location        country retrieved_country\n",
       "0                                 India          India             India\n",
       "1                 Maracaibo (Venezuela)      Venezuela         Venezuela\n",
       "2                             Venezuela      Venezuela         Venezuela\n",
       "3                                Israel         Israel            Israel\n",
       "4                               Germany        Germany           Germany\n",
       "...                                 ...            ...               ...\n",
       "3169                      Yanji (China)          China             China\n",
       "3170  West Side Highway (Manhattan, NY)  Manhattan, NY     United States\n",
       "3171             County Clare (Ireland)        Ireland           Ireland\n",
       "3172          County Limerick (Ireland)        Ireland           Ireland\n",
       "3173                      Fort Lee (Va)             Va     United States\n",
       "\n",
       "[3174 rows x 3 columns]"
      ]
     },
     "execution_count": 577,
     "metadata": {},
     "output_type": "execute_result"
    }
   ],
   "source": [
    "retrieved_countries"
   ]
  },
  {
   "cell_type": "markdown",
   "metadata": {},
   "source": [
    "Masking all rows where geopy was not successful at finding a match."
   ]
  },
  {
   "cell_type": "code",
   "execution_count": 578,
   "metadata": {},
   "outputs": [],
   "source": [
    "undefined_mask = (retrieved_countries['retrieved_country'] == \"Not found\") | (retrieved_countries['retrieved_country'] == \"Unavailable\")"
   ]
  },
  {
   "cell_type": "markdown",
   "metadata": {},
   "source": [
    "Some of them do not have a match because the US state name is not recognized"
   ]
  },
  {
   "cell_type": "code",
   "execution_count": 579,
   "metadata": {},
   "outputs": [],
   "source": [
    "list_of_states = ['ALABAMA', 'ALASKA', 'ARIZONA', 'ARKANSAS', 'CALIFORNIA', 'COLORADO', 'CONNECTICUT', 'DELAWARE', 'FLORIDA', 'GEORGIA', 'HAWAII', 'IDAHO', 'ILLINOIS', 'INDIANA', 'IOWA', 'KANSAS', 'KENTUCKY', 'LOUISIANA', 'MAINE', 'MARYLAND', 'MASSACHUSETTS', 'MICHIGAN', 'MINNESOTA', 'MISSISSIPPI', 'MISSOURI', 'MONTANA', 'NEBRASKA', 'NEVADA', 'NEW HAMPSHIRE', 'NEW JERSEY', 'NEW MEXICO', 'NEW YORK', 'NORTH CAROLINA', 'NORTH DAKOTA', 'OHIO', 'OKLAHOMA', 'OREGON', 'PENNSYLVANIA', 'RHODE ISLAND', 'SOUTH CAROLINA', 'SOUTH DAKOTA', 'TENNESSEE', 'TEXAS', 'UTAH', 'VERMONT', 'VIRGINIA', 'WASHINGTON', 'WEST VIRGINIA', 'WISCONSIN', 'WYOMING']"
   ]
  },
  {
   "cell_type": "code",
   "execution_count": 580,
   "metadata": {},
   "outputs": [],
   "source": [
    "undefined_countries = retrieved_countries.loc[undefined_mask]"
   ]
  },
  {
   "cell_type": "code",
   "execution_count": 581,
   "metadata": {},
   "outputs": [
    {
     "data": {
      "application/vnd.microsoft.datawrangler.viewer.v0+json": {
       "columns": [
        {
         "name": "index",
         "rawType": "int64",
         "type": "integer"
        },
        {
         "name": "location",
         "rawType": "object",
         "type": "string"
        },
        {
         "name": "country",
         "rawType": "object",
         "type": "string"
        },
        {
         "name": "retrieved_country",
         "rawType": "object",
         "type": "string"
        }
       ],
       "conversionMethod": "pd.DataFrame",
       "ref": "675f4d26-4494-4438-bd20-c04c3439106c",
       "rows": [
        [
         "28",
         "Minnesota",
         "Minnesota",
         "Unavailable"
        ],
        [
         "80",
         "Far East, South and Southeast Asia and Pacific Areas",
         "Far East, South and Southeast Asia and Pacific Areas",
         "Not found"
        ],
        [
         "131",
         "Kansas",
         "Kansas",
         "Unavailable"
        ],
        [
         "145",
         "Arizona",
         "Arizona",
         "Unavailable"
        ],
        [
         "172",
         "London (England)",
         "England",
         "Unavailable"
        ],
        [
         "203",
         "Tiananmen Square (Beijing)",
         "Beijing",
         "Unavailable"
        ],
        [
         "247",
         "Maryland",
         "Maryland",
         "Unavailable"
        ],
        [
         "299",
         "Oregon",
         "Oregon",
         "Unavailable"
        ],
        [
         "459",
         "USSR (Former Soviet Union)",
         "Former Soviet Union",
         "Not found"
        ],
        [
         "670",
         "Cyclades Islands",
         "Cyclades Islands",
         "Not found"
        ],
        [
         "772",
         "Panama Canal and Canal Zone",
         "Panama Canal and Canal Zone",
         "Not found"
        ],
        [
         "823",
         "Sahara Desert",
         "Sahara Desert",
         "Unavailable"
        ],
        [
         "851",
         "Vermont",
         "Vermont",
         "Unavailable"
        ],
        [
         "873",
         "Darien Gap",
         "Darien Gap",
         "Not found"
        ],
        [
         "886",
         "ANTARCTIC REGIONS",
         "ANTARCTIC REGIONS",
         "Not found"
        ],
        [
         "1079",
         "Valladolid (Yucatan Penninsula, Mexico)",
         "Yucatan Penninsula, Mexico",
         "Not found"
        ],
        [
         "1108",
         "Bijagos Archipelago",
         "Bijagos Archipelago",
         "Not found"
        ],
        [
         "1185",
         "Confederate States of America",
         "Confederate States of America",
         "Not found"
        ],
        [
         "1195",
         "Balkan States",
         "Balkan States",
         "Not found"
        ],
        [
         "1381",
         "Juneau (Alaska)",
         "Alaska",
         "Unavailable"
        ],
        [
         "1470",
         "Columbia River (Pacific Northwest)",
         "Pacific Northwest",
         "Not found"
        ],
        [
         "1523",
         "Armenia",
         "Armenia",
         "Unavailable"
        ],
        [
         "1563",
         "Canton (Ohio)",
         "Ohio",
         "Unavailable"
        ],
        [
         "1609",
         "Sunderland (England)",
         "England",
         "Unavailable"
        ],
        [
         "1615",
         "Keighley (England)",
         "England",
         "Unavailable"
        ],
        [
         "1628",
         "Hamilton (Ontario)",
         "Ontario",
         "Unavailable"
        ],
        [
         "1663",
         "AMAZON RIVER BASIN",
         "AMAZON RIVER BASIN",
         "Not found"
        ],
        [
         "1681",
         "ANDES MOUNTAINS",
         "ANDES MOUNTAINS",
         "Not found"
        ],
        [
         "1794",
         "Columbia River Interstate Bridge",
         "Columbia River Interstate Bridge",
         "Not found"
        ],
        [
         "1874",
         "Oxfordshire (England)",
         "England",
         "Unavailable"
        ],
        [
         "1988",
         "St Vincent",
         "St Vincent",
         "Unavailable"
        ],
        [
         "2306",
         "Tripoli (Lebanon)",
         "Lebanon",
         "Unavailable"
        ],
        [
         "2352",
         "Silk Road (Ancient Trade Route)",
         "Ancient Trade Route",
         "Not found"
        ],
        [
         "2473",
         "Trans-Canada Highway",
         "Trans-Canada Highway",
         "Unavailable"
        ],
        [
         "2556",
         "Timbuktu (Mali)",
         "Mali",
         "Unavailable"
        ],
        [
         "2753",
         "Pyrenees Mountains",
         "Pyrenees Mountains",
         "Not found"
        ],
        [
         "2840",
         "Trans-Hudson Passenger Rail Tunnel",
         "Trans-Hudson Passenger Rail Tunnel",
         "Not found"
        ],
        [
         "2900",
         "Bequia (Grenadine Islands)",
         "Grenadine Islands",
         "Not found"
        ]
       ],
       "shape": {
        "columns": 3,
        "rows": 38
       }
      },
      "text/html": [
       "<div>\n",
       "<style scoped>\n",
       "    .dataframe tbody tr th:only-of-type {\n",
       "        vertical-align: middle;\n",
       "    }\n",
       "\n",
       "    .dataframe tbody tr th {\n",
       "        vertical-align: top;\n",
       "    }\n",
       "\n",
       "    .dataframe thead th {\n",
       "        text-align: right;\n",
       "    }\n",
       "</style>\n",
       "<table border=\"1\" class=\"dataframe\">\n",
       "  <thead>\n",
       "    <tr style=\"text-align: right;\">\n",
       "      <th></th>\n",
       "      <th>location</th>\n",
       "      <th>country</th>\n",
       "      <th>retrieved_country</th>\n",
       "    </tr>\n",
       "  </thead>\n",
       "  <tbody>\n",
       "    <tr>\n",
       "      <th>28</th>\n",
       "      <td>Minnesota</td>\n",
       "      <td>Minnesota</td>\n",
       "      <td>Unavailable</td>\n",
       "    </tr>\n",
       "    <tr>\n",
       "      <th>80</th>\n",
       "      <td>Far East, South and Southeast Asia and Pacific...</td>\n",
       "      <td>Far East, South and Southeast Asia and Pacific...</td>\n",
       "      <td>Not found</td>\n",
       "    </tr>\n",
       "    <tr>\n",
       "      <th>131</th>\n",
       "      <td>Kansas</td>\n",
       "      <td>Kansas</td>\n",
       "      <td>Unavailable</td>\n",
       "    </tr>\n",
       "    <tr>\n",
       "      <th>145</th>\n",
       "      <td>Arizona</td>\n",
       "      <td>Arizona</td>\n",
       "      <td>Unavailable</td>\n",
       "    </tr>\n",
       "    <tr>\n",
       "      <th>172</th>\n",
       "      <td>London (England)</td>\n",
       "      <td>England</td>\n",
       "      <td>Unavailable</td>\n",
       "    </tr>\n",
       "    <tr>\n",
       "      <th>203</th>\n",
       "      <td>Tiananmen Square (Beijing)</td>\n",
       "      <td>Beijing</td>\n",
       "      <td>Unavailable</td>\n",
       "    </tr>\n",
       "    <tr>\n",
       "      <th>247</th>\n",
       "      <td>Maryland</td>\n",
       "      <td>Maryland</td>\n",
       "      <td>Unavailable</td>\n",
       "    </tr>\n",
       "    <tr>\n",
       "      <th>299</th>\n",
       "      <td>Oregon</td>\n",
       "      <td>Oregon</td>\n",
       "      <td>Unavailable</td>\n",
       "    </tr>\n",
       "    <tr>\n",
       "      <th>459</th>\n",
       "      <td>USSR (Former Soviet Union)</td>\n",
       "      <td>Former Soviet Union</td>\n",
       "      <td>Not found</td>\n",
       "    </tr>\n",
       "    <tr>\n",
       "      <th>670</th>\n",
       "      <td>Cyclades Islands</td>\n",
       "      <td>Cyclades Islands</td>\n",
       "      <td>Not found</td>\n",
       "    </tr>\n",
       "    <tr>\n",
       "      <th>772</th>\n",
       "      <td>Panama Canal and Canal Zone</td>\n",
       "      <td>Panama Canal and Canal Zone</td>\n",
       "      <td>Not found</td>\n",
       "    </tr>\n",
       "    <tr>\n",
       "      <th>823</th>\n",
       "      <td>Sahara Desert</td>\n",
       "      <td>Sahara Desert</td>\n",
       "      <td>Unavailable</td>\n",
       "    </tr>\n",
       "    <tr>\n",
       "      <th>851</th>\n",
       "      <td>Vermont</td>\n",
       "      <td>Vermont</td>\n",
       "      <td>Unavailable</td>\n",
       "    </tr>\n",
       "    <tr>\n",
       "      <th>873</th>\n",
       "      <td>Darien Gap</td>\n",
       "      <td>Darien Gap</td>\n",
       "      <td>Not found</td>\n",
       "    </tr>\n",
       "    <tr>\n",
       "      <th>886</th>\n",
       "      <td>ANTARCTIC REGIONS</td>\n",
       "      <td>ANTARCTIC REGIONS</td>\n",
       "      <td>Not found</td>\n",
       "    </tr>\n",
       "    <tr>\n",
       "      <th>1079</th>\n",
       "      <td>Valladolid (Yucatan Penninsula, Mexico)</td>\n",
       "      <td>Yucatan Penninsula, Mexico</td>\n",
       "      <td>Not found</td>\n",
       "    </tr>\n",
       "    <tr>\n",
       "      <th>1108</th>\n",
       "      <td>Bijagos Archipelago</td>\n",
       "      <td>Bijagos Archipelago</td>\n",
       "      <td>Not found</td>\n",
       "    </tr>\n",
       "    <tr>\n",
       "      <th>1185</th>\n",
       "      <td>Confederate States of America</td>\n",
       "      <td>Confederate States of America</td>\n",
       "      <td>Not found</td>\n",
       "    </tr>\n",
       "    <tr>\n",
       "      <th>1195</th>\n",
       "      <td>Balkan States</td>\n",
       "      <td>Balkan States</td>\n",
       "      <td>Not found</td>\n",
       "    </tr>\n",
       "    <tr>\n",
       "      <th>1381</th>\n",
       "      <td>Juneau (Alaska)</td>\n",
       "      <td>Alaska</td>\n",
       "      <td>Unavailable</td>\n",
       "    </tr>\n",
       "    <tr>\n",
       "      <th>1470</th>\n",
       "      <td>Columbia River (Pacific Northwest)</td>\n",
       "      <td>Pacific Northwest</td>\n",
       "      <td>Not found</td>\n",
       "    </tr>\n",
       "    <tr>\n",
       "      <th>1523</th>\n",
       "      <td>Armenia</td>\n",
       "      <td>Armenia</td>\n",
       "      <td>Unavailable</td>\n",
       "    </tr>\n",
       "    <tr>\n",
       "      <th>1563</th>\n",
       "      <td>Canton (Ohio)</td>\n",
       "      <td>Ohio</td>\n",
       "      <td>Unavailable</td>\n",
       "    </tr>\n",
       "    <tr>\n",
       "      <th>1609</th>\n",
       "      <td>Sunderland (England)</td>\n",
       "      <td>England</td>\n",
       "      <td>Unavailable</td>\n",
       "    </tr>\n",
       "    <tr>\n",
       "      <th>1615</th>\n",
       "      <td>Keighley (England)</td>\n",
       "      <td>England</td>\n",
       "      <td>Unavailable</td>\n",
       "    </tr>\n",
       "    <tr>\n",
       "      <th>1628</th>\n",
       "      <td>Hamilton (Ontario)</td>\n",
       "      <td>Ontario</td>\n",
       "      <td>Unavailable</td>\n",
       "    </tr>\n",
       "    <tr>\n",
       "      <th>1663</th>\n",
       "      <td>AMAZON RIVER BASIN</td>\n",
       "      <td>AMAZON RIVER BASIN</td>\n",
       "      <td>Not found</td>\n",
       "    </tr>\n",
       "    <tr>\n",
       "      <th>1681</th>\n",
       "      <td>ANDES MOUNTAINS</td>\n",
       "      <td>ANDES MOUNTAINS</td>\n",
       "      <td>Not found</td>\n",
       "    </tr>\n",
       "    <tr>\n",
       "      <th>1794</th>\n",
       "      <td>Columbia River Interstate Bridge</td>\n",
       "      <td>Columbia River Interstate Bridge</td>\n",
       "      <td>Not found</td>\n",
       "    </tr>\n",
       "    <tr>\n",
       "      <th>1874</th>\n",
       "      <td>Oxfordshire (England)</td>\n",
       "      <td>England</td>\n",
       "      <td>Unavailable</td>\n",
       "    </tr>\n",
       "    <tr>\n",
       "      <th>1988</th>\n",
       "      <td>St Vincent</td>\n",
       "      <td>St Vincent</td>\n",
       "      <td>Unavailable</td>\n",
       "    </tr>\n",
       "    <tr>\n",
       "      <th>2306</th>\n",
       "      <td>Tripoli (Lebanon)</td>\n",
       "      <td>Lebanon</td>\n",
       "      <td>Unavailable</td>\n",
       "    </tr>\n",
       "    <tr>\n",
       "      <th>2352</th>\n",
       "      <td>Silk Road (Ancient Trade Route)</td>\n",
       "      <td>Ancient Trade Route</td>\n",
       "      <td>Not found</td>\n",
       "    </tr>\n",
       "    <tr>\n",
       "      <th>2473</th>\n",
       "      <td>Trans-Canada Highway</td>\n",
       "      <td>Trans-Canada Highway</td>\n",
       "      <td>Unavailable</td>\n",
       "    </tr>\n",
       "    <tr>\n",
       "      <th>2556</th>\n",
       "      <td>Timbuktu (Mali)</td>\n",
       "      <td>Mali</td>\n",
       "      <td>Unavailable</td>\n",
       "    </tr>\n",
       "    <tr>\n",
       "      <th>2753</th>\n",
       "      <td>Pyrenees Mountains</td>\n",
       "      <td>Pyrenees Mountains</td>\n",
       "      <td>Not found</td>\n",
       "    </tr>\n",
       "    <tr>\n",
       "      <th>2840</th>\n",
       "      <td>Trans-Hudson Passenger Rail Tunnel</td>\n",
       "      <td>Trans-Hudson Passenger Rail Tunnel</td>\n",
       "      <td>Not found</td>\n",
       "    </tr>\n",
       "    <tr>\n",
       "      <th>2900</th>\n",
       "      <td>Bequia (Grenadine Islands)</td>\n",
       "      <td>Grenadine Islands</td>\n",
       "      <td>Not found</td>\n",
       "    </tr>\n",
       "  </tbody>\n",
       "</table>\n",
       "</div>"
      ],
      "text/plain": [
       "                                               location  \\\n",
       "28                                            Minnesota   \n",
       "80    Far East, South and Southeast Asia and Pacific...   \n",
       "131                                              Kansas   \n",
       "145                                             Arizona   \n",
       "172                                    London (England)   \n",
       "203                          Tiananmen Square (Beijing)   \n",
       "247                                            Maryland   \n",
       "299                                              Oregon   \n",
       "459                          USSR (Former Soviet Union)   \n",
       "670                                    Cyclades Islands   \n",
       "772                         Panama Canal and Canal Zone   \n",
       "823                                       Sahara Desert   \n",
       "851                                             Vermont   \n",
       "873                                          Darien Gap   \n",
       "886                                   ANTARCTIC REGIONS   \n",
       "1079            Valladolid (Yucatan Penninsula, Mexico)   \n",
       "1108                                Bijagos Archipelago   \n",
       "1185                      Confederate States of America   \n",
       "1195                                      Balkan States   \n",
       "1381                                    Juneau (Alaska)   \n",
       "1470                 Columbia River (Pacific Northwest)   \n",
       "1523                                            Armenia   \n",
       "1563                                      Canton (Ohio)   \n",
       "1609                               Sunderland (England)   \n",
       "1615                                 Keighley (England)   \n",
       "1628                                 Hamilton (Ontario)   \n",
       "1663                                 AMAZON RIVER BASIN   \n",
       "1681                                    ANDES MOUNTAINS   \n",
       "1794                   Columbia River Interstate Bridge   \n",
       "1874                              Oxfordshire (England)   \n",
       "1988                                         St Vincent   \n",
       "2306                                  Tripoli (Lebanon)   \n",
       "2352                    Silk Road (Ancient Trade Route)   \n",
       "2473                               Trans-Canada Highway   \n",
       "2556                                    Timbuktu (Mali)   \n",
       "2753                                 Pyrenees Mountains   \n",
       "2840                 Trans-Hudson Passenger Rail Tunnel   \n",
       "2900                         Bequia (Grenadine Islands)   \n",
       "\n",
       "                                                country retrieved_country  \n",
       "28                                            Minnesota       Unavailable  \n",
       "80    Far East, South and Southeast Asia and Pacific...         Not found  \n",
       "131                                              Kansas       Unavailable  \n",
       "145                                             Arizona       Unavailable  \n",
       "172                                             England       Unavailable  \n",
       "203                                             Beijing       Unavailable  \n",
       "247                                            Maryland       Unavailable  \n",
       "299                                              Oregon       Unavailable  \n",
       "459                                 Former Soviet Union         Not found  \n",
       "670                                    Cyclades Islands         Not found  \n",
       "772                         Panama Canal and Canal Zone         Not found  \n",
       "823                                       Sahara Desert       Unavailable  \n",
       "851                                             Vermont       Unavailable  \n",
       "873                                          Darien Gap         Not found  \n",
       "886                                   ANTARCTIC REGIONS         Not found  \n",
       "1079                         Yucatan Penninsula, Mexico         Not found  \n",
       "1108                                Bijagos Archipelago         Not found  \n",
       "1185                      Confederate States of America         Not found  \n",
       "1195                                      Balkan States         Not found  \n",
       "1381                                             Alaska       Unavailable  \n",
       "1470                                  Pacific Northwest         Not found  \n",
       "1523                                            Armenia       Unavailable  \n",
       "1563                                               Ohio       Unavailable  \n",
       "1609                                            England       Unavailable  \n",
       "1615                                            England       Unavailable  \n",
       "1628                                            Ontario       Unavailable  \n",
       "1663                                 AMAZON RIVER BASIN         Not found  \n",
       "1681                                    ANDES MOUNTAINS         Not found  \n",
       "1794                   Columbia River Interstate Bridge         Not found  \n",
       "1874                                            England       Unavailable  \n",
       "1988                                         St Vincent       Unavailable  \n",
       "2306                                            Lebanon       Unavailable  \n",
       "2352                                Ancient Trade Route         Not found  \n",
       "2473                               Trans-Canada Highway       Unavailable  \n",
       "2556                                               Mali       Unavailable  \n",
       "2753                                 Pyrenees Mountains         Not found  \n",
       "2840                 Trans-Hudson Passenger Rail Tunnel         Not found  \n",
       "2900                                  Grenadine Islands         Not found  "
      ]
     },
     "execution_count": 581,
     "metadata": {},
     "output_type": "execute_result"
    }
   ],
   "source": [
    "undefined_countries"
   ]
  },
  {
   "cell_type": "code",
   "execution_count": 582,
   "metadata": {},
   "outputs": [],
   "source": [
    "undefined_us_states = [country for country in undefined_countries[\"country\"] if country.upper() in list_of_states]"
   ]
  },
  {
   "cell_type": "code",
   "execution_count": 583,
   "metadata": {},
   "outputs": [
    {
     "data": {
      "text/plain": [
       "['Minnesota',\n",
       " 'Kansas',\n",
       " 'Arizona',\n",
       " 'Maryland',\n",
       " 'Oregon',\n",
       " 'Vermont',\n",
       " 'Alaska',\n",
       " 'Ohio']"
      ]
     },
     "execution_count": 583,
     "metadata": {},
     "output_type": "execute_result"
    }
   ],
   "source": [
    "undefined_us_states"
   ]
  },
  {
   "cell_type": "code",
   "execution_count": 584,
   "metadata": {},
   "outputs": [],
   "source": [
    "mask_undefined_us = retrieved_countries[\"country\"].isin(undefined_us_states)\n",
    "retrieved_countries.loc[mask_undefined_us, \"retrieved_country\"] = \"United States\""
   ]
  },
  {
   "cell_type": "code",
   "execution_count": 588,
   "metadata": {},
   "outputs": [
    {
     "data": {
      "application/vnd.microsoft.datawrangler.viewer.v0+json": {
       "columns": [
        {
         "name": "index",
         "rawType": "int64",
         "type": "integer"
        },
        {
         "name": "location",
         "rawType": "object",
         "type": "string"
        },
        {
         "name": "country",
         "rawType": "object",
         "type": "string"
        },
        {
         "name": "retrieved_country",
         "rawType": "object",
         "type": "string"
        }
       ],
       "conversionMethod": "pd.DataFrame",
       "ref": "2a6175c6-0f82-4df7-b9ff-ae24f1161db1",
       "rows": [
        [
         "80",
         "Far East, South and Southeast Asia and Pacific Areas",
         "Far East, South and Southeast Asia and Pacific Areas",
         "Not found"
        ],
        [
         "172",
         "London (England)",
         "England",
         "Unavailable"
        ],
        [
         "203",
         "Tiananmen Square (Beijing)",
         "Beijing",
         "Unavailable"
        ],
        [
         "459",
         "USSR (Former Soviet Union)",
         "Former Soviet Union",
         "Not found"
        ],
        [
         "670",
         "Cyclades Islands",
         "Cyclades Islands",
         "Not found"
        ],
        [
         "772",
         "Panama Canal and Canal Zone",
         "Panama Canal and Canal Zone",
         "Not found"
        ],
        [
         "823",
         "Sahara Desert",
         "Sahara Desert",
         "Unavailable"
        ],
        [
         "873",
         "Darien Gap",
         "Darien Gap",
         "Not found"
        ],
        [
         "886",
         "ANTARCTIC REGIONS",
         "ANTARCTIC REGIONS",
         "Not found"
        ],
        [
         "1079",
         "Valladolid (Yucatan Penninsula, Mexico)",
         "Yucatan Penninsula, Mexico",
         "Not found"
        ],
        [
         "1108",
         "Bijagos Archipelago",
         "Bijagos Archipelago",
         "Not found"
        ],
        [
         "1185",
         "Confederate States of America",
         "Confederate States of America",
         "Not found"
        ],
        [
         "1195",
         "Balkan States",
         "Balkan States",
         "Not found"
        ],
        [
         "1470",
         "Columbia River (Pacific Northwest)",
         "Pacific Northwest",
         "Not found"
        ],
        [
         "1609",
         "Sunderland (England)",
         "England",
         "Unavailable"
        ],
        [
         "1615",
         "Keighley (England)",
         "England",
         "Unavailable"
        ],
        [
         "1628",
         "Hamilton (Ontario)",
         "Ontario",
         "Unavailable"
        ],
        [
         "1663",
         "AMAZON RIVER BASIN",
         "AMAZON RIVER BASIN",
         "Not found"
        ],
        [
         "1681",
         "ANDES MOUNTAINS",
         "ANDES MOUNTAINS",
         "Not found"
        ],
        [
         "1794",
         "Columbia River Interstate Bridge",
         "Columbia River Interstate Bridge",
         "Not found"
        ],
        [
         "1874",
         "Oxfordshire (England)",
         "England",
         "Unavailable"
        ],
        [
         "2352",
         "Silk Road (Ancient Trade Route)",
         "Ancient Trade Route",
         "Not found"
        ],
        [
         "2473",
         "Trans-Canada Highway",
         "Trans-Canada Highway",
         "Unavailable"
        ],
        [
         "2753",
         "Pyrenees Mountains",
         "Pyrenees Mountains",
         "Not found"
        ],
        [
         "2840",
         "Trans-Hudson Passenger Rail Tunnel",
         "Trans-Hudson Passenger Rail Tunnel",
         "Not found"
        ],
        [
         "2900",
         "Bequia (Grenadine Islands)",
         "Grenadine Islands",
         "Not found"
        ]
       ],
       "shape": {
        "columns": 3,
        "rows": 26
       }
      },
      "text/html": [
       "<div>\n",
       "<style scoped>\n",
       "    .dataframe tbody tr th:only-of-type {\n",
       "        vertical-align: middle;\n",
       "    }\n",
       "\n",
       "    .dataframe tbody tr th {\n",
       "        vertical-align: top;\n",
       "    }\n",
       "\n",
       "    .dataframe thead th {\n",
       "        text-align: right;\n",
       "    }\n",
       "</style>\n",
       "<table border=\"1\" class=\"dataframe\">\n",
       "  <thead>\n",
       "    <tr style=\"text-align: right;\">\n",
       "      <th></th>\n",
       "      <th>location</th>\n",
       "      <th>country</th>\n",
       "      <th>retrieved_country</th>\n",
       "    </tr>\n",
       "  </thead>\n",
       "  <tbody>\n",
       "    <tr>\n",
       "      <th>80</th>\n",
       "      <td>Far East, South and Southeast Asia and Pacific...</td>\n",
       "      <td>Far East, South and Southeast Asia and Pacific...</td>\n",
       "      <td>Not found</td>\n",
       "    </tr>\n",
       "    <tr>\n",
       "      <th>172</th>\n",
       "      <td>London (England)</td>\n",
       "      <td>England</td>\n",
       "      <td>Unavailable</td>\n",
       "    </tr>\n",
       "    <tr>\n",
       "      <th>203</th>\n",
       "      <td>Tiananmen Square (Beijing)</td>\n",
       "      <td>Beijing</td>\n",
       "      <td>Unavailable</td>\n",
       "    </tr>\n",
       "    <tr>\n",
       "      <th>459</th>\n",
       "      <td>USSR (Former Soviet Union)</td>\n",
       "      <td>Former Soviet Union</td>\n",
       "      <td>Not found</td>\n",
       "    </tr>\n",
       "    <tr>\n",
       "      <th>670</th>\n",
       "      <td>Cyclades Islands</td>\n",
       "      <td>Cyclades Islands</td>\n",
       "      <td>Not found</td>\n",
       "    </tr>\n",
       "    <tr>\n",
       "      <th>772</th>\n",
       "      <td>Panama Canal and Canal Zone</td>\n",
       "      <td>Panama Canal and Canal Zone</td>\n",
       "      <td>Not found</td>\n",
       "    </tr>\n",
       "    <tr>\n",
       "      <th>823</th>\n",
       "      <td>Sahara Desert</td>\n",
       "      <td>Sahara Desert</td>\n",
       "      <td>Unavailable</td>\n",
       "    </tr>\n",
       "    <tr>\n",
       "      <th>873</th>\n",
       "      <td>Darien Gap</td>\n",
       "      <td>Darien Gap</td>\n",
       "      <td>Not found</td>\n",
       "    </tr>\n",
       "    <tr>\n",
       "      <th>886</th>\n",
       "      <td>ANTARCTIC REGIONS</td>\n",
       "      <td>ANTARCTIC REGIONS</td>\n",
       "      <td>Not found</td>\n",
       "    </tr>\n",
       "    <tr>\n",
       "      <th>1079</th>\n",
       "      <td>Valladolid (Yucatan Penninsula, Mexico)</td>\n",
       "      <td>Yucatan Penninsula, Mexico</td>\n",
       "      <td>Not found</td>\n",
       "    </tr>\n",
       "    <tr>\n",
       "      <th>1108</th>\n",
       "      <td>Bijagos Archipelago</td>\n",
       "      <td>Bijagos Archipelago</td>\n",
       "      <td>Not found</td>\n",
       "    </tr>\n",
       "    <tr>\n",
       "      <th>1185</th>\n",
       "      <td>Confederate States of America</td>\n",
       "      <td>Confederate States of America</td>\n",
       "      <td>Not found</td>\n",
       "    </tr>\n",
       "    <tr>\n",
       "      <th>1195</th>\n",
       "      <td>Balkan States</td>\n",
       "      <td>Balkan States</td>\n",
       "      <td>Not found</td>\n",
       "    </tr>\n",
       "    <tr>\n",
       "      <th>1470</th>\n",
       "      <td>Columbia River (Pacific Northwest)</td>\n",
       "      <td>Pacific Northwest</td>\n",
       "      <td>Not found</td>\n",
       "    </tr>\n",
       "    <tr>\n",
       "      <th>1609</th>\n",
       "      <td>Sunderland (England)</td>\n",
       "      <td>England</td>\n",
       "      <td>Unavailable</td>\n",
       "    </tr>\n",
       "    <tr>\n",
       "      <th>1615</th>\n",
       "      <td>Keighley (England)</td>\n",
       "      <td>England</td>\n",
       "      <td>Unavailable</td>\n",
       "    </tr>\n",
       "    <tr>\n",
       "      <th>1628</th>\n",
       "      <td>Hamilton (Ontario)</td>\n",
       "      <td>Ontario</td>\n",
       "      <td>Unavailable</td>\n",
       "    </tr>\n",
       "    <tr>\n",
       "      <th>1663</th>\n",
       "      <td>AMAZON RIVER BASIN</td>\n",
       "      <td>AMAZON RIVER BASIN</td>\n",
       "      <td>Not found</td>\n",
       "    </tr>\n",
       "    <tr>\n",
       "      <th>1681</th>\n",
       "      <td>ANDES MOUNTAINS</td>\n",
       "      <td>ANDES MOUNTAINS</td>\n",
       "      <td>Not found</td>\n",
       "    </tr>\n",
       "    <tr>\n",
       "      <th>1794</th>\n",
       "      <td>Columbia River Interstate Bridge</td>\n",
       "      <td>Columbia River Interstate Bridge</td>\n",
       "      <td>Not found</td>\n",
       "    </tr>\n",
       "    <tr>\n",
       "      <th>1874</th>\n",
       "      <td>Oxfordshire (England)</td>\n",
       "      <td>England</td>\n",
       "      <td>Unavailable</td>\n",
       "    </tr>\n",
       "    <tr>\n",
       "      <th>2352</th>\n",
       "      <td>Silk Road (Ancient Trade Route)</td>\n",
       "      <td>Ancient Trade Route</td>\n",
       "      <td>Not found</td>\n",
       "    </tr>\n",
       "    <tr>\n",
       "      <th>2473</th>\n",
       "      <td>Trans-Canada Highway</td>\n",
       "      <td>Trans-Canada Highway</td>\n",
       "      <td>Unavailable</td>\n",
       "    </tr>\n",
       "    <tr>\n",
       "      <th>2753</th>\n",
       "      <td>Pyrenees Mountains</td>\n",
       "      <td>Pyrenees Mountains</td>\n",
       "      <td>Not found</td>\n",
       "    </tr>\n",
       "    <tr>\n",
       "      <th>2840</th>\n",
       "      <td>Trans-Hudson Passenger Rail Tunnel</td>\n",
       "      <td>Trans-Hudson Passenger Rail Tunnel</td>\n",
       "      <td>Not found</td>\n",
       "    </tr>\n",
       "    <tr>\n",
       "      <th>2900</th>\n",
       "      <td>Bequia (Grenadine Islands)</td>\n",
       "      <td>Grenadine Islands</td>\n",
       "      <td>Not found</td>\n",
       "    </tr>\n",
       "  </tbody>\n",
       "</table>\n",
       "</div>"
      ],
      "text/plain": [
       "                                               location  \\\n",
       "80    Far East, South and Southeast Asia and Pacific...   \n",
       "172                                    London (England)   \n",
       "203                          Tiananmen Square (Beijing)   \n",
       "459                          USSR (Former Soviet Union)   \n",
       "670                                    Cyclades Islands   \n",
       "772                         Panama Canal and Canal Zone   \n",
       "823                                       Sahara Desert   \n",
       "873                                          Darien Gap   \n",
       "886                                   ANTARCTIC REGIONS   \n",
       "1079            Valladolid (Yucatan Penninsula, Mexico)   \n",
       "1108                                Bijagos Archipelago   \n",
       "1185                      Confederate States of America   \n",
       "1195                                      Balkan States   \n",
       "1470                 Columbia River (Pacific Northwest)   \n",
       "1609                               Sunderland (England)   \n",
       "1615                                 Keighley (England)   \n",
       "1628                                 Hamilton (Ontario)   \n",
       "1663                                 AMAZON RIVER BASIN   \n",
       "1681                                    ANDES MOUNTAINS   \n",
       "1794                   Columbia River Interstate Bridge   \n",
       "1874                              Oxfordshire (England)   \n",
       "2352                    Silk Road (Ancient Trade Route)   \n",
       "2473                               Trans-Canada Highway   \n",
       "2753                                 Pyrenees Mountains   \n",
       "2840                 Trans-Hudson Passenger Rail Tunnel   \n",
       "2900                         Bequia (Grenadine Islands)   \n",
       "\n",
       "                                                country retrieved_country  \n",
       "80    Far East, South and Southeast Asia and Pacific...         Not found  \n",
       "172                                             England       Unavailable  \n",
       "203                                             Beijing       Unavailable  \n",
       "459                                 Former Soviet Union         Not found  \n",
       "670                                    Cyclades Islands         Not found  \n",
       "772                         Panama Canal and Canal Zone         Not found  \n",
       "823                                       Sahara Desert       Unavailable  \n",
       "873                                          Darien Gap         Not found  \n",
       "886                                   ANTARCTIC REGIONS         Not found  \n",
       "1079                         Yucatan Penninsula, Mexico         Not found  \n",
       "1108                                Bijagos Archipelago         Not found  \n",
       "1185                      Confederate States of America         Not found  \n",
       "1195                                      Balkan States         Not found  \n",
       "1470                                  Pacific Northwest         Not found  \n",
       "1609                                            England       Unavailable  \n",
       "1615                                            England       Unavailable  \n",
       "1628                                            Ontario       Unavailable  \n",
       "1663                                 AMAZON RIVER BASIN         Not found  \n",
       "1681                                    ANDES MOUNTAINS         Not found  \n",
       "1794                   Columbia River Interstate Bridge         Not found  \n",
       "1874                                            England       Unavailable  \n",
       "2352                                Ancient Trade Route         Not found  \n",
       "2473                               Trans-Canada Highway       Unavailable  \n",
       "2753                                 Pyrenees Mountains         Not found  \n",
       "2840                 Trans-Hudson Passenger Rail Tunnel         Not found  \n",
       "2900                                  Grenadine Islands         Not found  "
      ]
     },
     "execution_count": 588,
     "metadata": {},
     "output_type": "execute_result"
    }
   ],
   "source": [
    "undefined_mask = (retrieved_countries['retrieved_country'] == \"Not found\") | (retrieved_countries['retrieved_country'] == \"Unavailable\")\n",
    "undefined_countries = retrieved_countries.loc[undefined_mask]\n",
    "undefined_countries"
   ]
  },
  {
   "cell_type": "code",
   "execution_count": 586,
   "metadata": {},
   "outputs": [],
   "source": [
    "missing_countries = [\"Armenia\", \"St Vincent\", \"Lebanon\", \"Mali\"]"
   ]
  },
  {
   "cell_type": "code",
   "execution_count": null,
   "metadata": {},
   "outputs": [],
   "source": [
    "mask_undefined_countries = retrieved_countries[\"country\"].isin(missing_countries)\n",
    "retrieved_countries.loc[mask_undefined_countries, \"retrieved_country\"] = retrieved_countries.loc[mask_undefined_countries, \"country\"] "
   ]
  },
  {
   "cell_type": "code",
   "execution_count": 592,
   "metadata": {},
   "outputs": [
    {
     "data": {
      "application/vnd.microsoft.datawrangler.viewer.v0+json": {
       "columns": [
        {
         "name": "index",
         "rawType": "int64",
         "type": "integer"
        },
        {
         "name": "location",
         "rawType": "object",
         "type": "string"
        },
        {
         "name": "country",
         "rawType": "object",
         "type": "string"
        },
        {
         "name": "retrieved_country",
         "rawType": "object",
         "type": "string"
        }
       ],
       "conversionMethod": "pd.DataFrame",
       "ref": "7f1d2a54-f983-4953-9737-837b8265ad3e",
       "rows": [
        [
         "0",
         "India",
         "India",
         "India"
        ],
        [
         "1",
         "Maracaibo (Venezuela)",
         "Venezuela",
         "Venezuela"
        ],
        [
         "2",
         "Venezuela",
         "Venezuela",
         "Venezuela"
        ],
        [
         "3",
         "Israel",
         "Israel",
         "Israel"
        ],
        [
         "4",
         "Germany",
         "Germany",
         "Germany"
        ],
        [
         "5",
         "SAXONY (GERMANY)",
         "GERMANY",
         "Germany"
        ],
        [
         "6",
         "THURINGIA (GERMANY)",
         "GERMANY",
         "Germany"
        ],
        [
         "7",
         "Gaza Strip",
         "Gaza Strip",
         "Palestinian Territory"
        ],
        [
         "8",
         "Cornwall (England)",
         "England",
         "United Kingdom"
        ],
        [
         "9",
         "England",
         "England",
         "United Kingdom"
        ],
        [
         "10",
         "New York City",
         "New York City",
         "United States"
        ],
        [
         "11",
         "Times Square and 42nd Street (Manhattan, NY)",
         "Manhattan, NY",
         "United States"
        ],
        [
         "12",
         "Midtown Area (Manhattan, NY)",
         "Manhattan, NY",
         "United States"
        ],
        [
         "13",
         "Bensonhurst (Brooklyn, NY)",
         "Brooklyn, NY",
         "United States"
        ],
        [
         "14",
         "California",
         "California",
         "United States"
        ],
        [
         "15",
         "United States",
         "United States",
         "United States"
        ],
        [
         "16",
         "Egypt",
         "Egypt",
         "Egypt"
        ],
        [
         "17",
         "Cairo (Egypt)",
         "Egypt",
         "Egypt"
        ],
        [
         "18",
         "Paris (France)",
         "France",
         "France"
        ],
        [
         "19",
         "Pokrovsk (Ukraine)",
         "Ukraine",
         "Ukraine"
        ],
        [
         "20",
         "Ukraine",
         "Ukraine",
         "Ukraine"
        ],
        [
         "21",
         "Russia",
         "Russia",
         "Russia"
        ],
        [
         "22",
         "Jarratt (Va)",
         "Va",
         "United States"
        ],
        [
         "23",
         "Philippines",
         "Philippines",
         "Philippines"
        ],
        [
         "24",
         "China",
         "China",
         "China"
        ],
        [
         "25",
         "South China Sea",
         "South China Sea",
         "South China Sea"
        ],
        [
         "26",
         "West Bank",
         "West Bank",
         "United States"
        ],
        [
         "27",
         "St Paul (Minn)",
         "Minn",
         "United States"
        ],
        [
         "28",
         "Minnesota",
         "Minnesota",
         "United States"
        ],
        [
         "29",
         "Nashville (Tenn)",
         "Tenn",
         "United States"
        ],
        [
         "30",
         "Brazil",
         "Brazil",
         "Brazil"
        ],
        [
         "31",
         "Kauai (Hawaii)",
         "Hawaii",
         "United States"
        ],
        [
         "32",
         "Honolulu (Hawaii)",
         "Hawaii",
         "United States"
        ],
        [
         "33",
         "Greenwich (Conn)",
         "Conn",
         "United States"
        ],
        [
         "34",
         "Baltimore (Md)",
         "Md",
         "United States"
        ],
        [
         "35",
         "San Francisco (Calif)",
         "Calif",
         "United States"
        ],
        [
         "36",
         "Seattle (Wash)",
         "Wash",
         "United States"
        ],
        [
         "37",
         "San Diego (Calif)",
         "Calif",
         "United States"
        ],
        [
         "38",
         "San Jose (Calif)",
         "Calif",
         "United States"
        ],
        [
         "39",
         "Kamchatka Peninsula (Russia)",
         "Russia",
         "Russia"
        ],
        [
         "40",
         "East Germany",
         "East Germany",
         "Germany"
        ],
        [
         "41",
         "Europe",
         "Europe",
         "Europe"
        ],
        [
         "42",
         "Boston (Mass)",
         "Mass",
         "United States"
        ],
        [
         "43",
         "New Hampshire",
         "New Hampshire",
         "United States"
        ],
        [
         "44",
         "Chicago (Ill)",
         "Ill",
         "United States"
        ],
        [
         "45",
         "Richmond (Va)",
         "Va",
         "United States"
        ],
        [
         "46",
         "Bedminster (NJ)",
         "NJ",
         "United States"
        ],
        [
         "47",
         "Jerusalem (Israel)",
         "Israel",
         "Israel"
        ],
        [
         "48",
         "Tel Aviv (Israel)",
         "Israel",
         "Israel"
        ],
        [
         "49",
         "AFGHANISTAN",
         "AFGHANISTAN",
         "Afghanistan"
        ]
       ],
       "shape": {
        "columns": 3,
        "rows": 3174
       }
      },
      "text/html": [
       "<div>\n",
       "<style scoped>\n",
       "    .dataframe tbody tr th:only-of-type {\n",
       "        vertical-align: middle;\n",
       "    }\n",
       "\n",
       "    .dataframe tbody tr th {\n",
       "        vertical-align: top;\n",
       "    }\n",
       "\n",
       "    .dataframe thead th {\n",
       "        text-align: right;\n",
       "    }\n",
       "</style>\n",
       "<table border=\"1\" class=\"dataframe\">\n",
       "  <thead>\n",
       "    <tr style=\"text-align: right;\">\n",
       "      <th></th>\n",
       "      <th>location</th>\n",
       "      <th>country</th>\n",
       "      <th>retrieved_country</th>\n",
       "    </tr>\n",
       "  </thead>\n",
       "  <tbody>\n",
       "    <tr>\n",
       "      <th>0</th>\n",
       "      <td>India</td>\n",
       "      <td>India</td>\n",
       "      <td>India</td>\n",
       "    </tr>\n",
       "    <tr>\n",
       "      <th>1</th>\n",
       "      <td>Maracaibo (Venezuela)</td>\n",
       "      <td>Venezuela</td>\n",
       "      <td>Venezuela</td>\n",
       "    </tr>\n",
       "    <tr>\n",
       "      <th>2</th>\n",
       "      <td>Venezuela</td>\n",
       "      <td>Venezuela</td>\n",
       "      <td>Venezuela</td>\n",
       "    </tr>\n",
       "    <tr>\n",
       "      <th>3</th>\n",
       "      <td>Israel</td>\n",
       "      <td>Israel</td>\n",
       "      <td>Israel</td>\n",
       "    </tr>\n",
       "    <tr>\n",
       "      <th>4</th>\n",
       "      <td>Germany</td>\n",
       "      <td>Germany</td>\n",
       "      <td>Germany</td>\n",
       "    </tr>\n",
       "    <tr>\n",
       "      <th>...</th>\n",
       "      <td>...</td>\n",
       "      <td>...</td>\n",
       "      <td>...</td>\n",
       "    </tr>\n",
       "    <tr>\n",
       "      <th>3169</th>\n",
       "      <td>Yanji (China)</td>\n",
       "      <td>China</td>\n",
       "      <td>China</td>\n",
       "    </tr>\n",
       "    <tr>\n",
       "      <th>3170</th>\n",
       "      <td>West Side Highway (Manhattan, NY)</td>\n",
       "      <td>Manhattan, NY</td>\n",
       "      <td>United States</td>\n",
       "    </tr>\n",
       "    <tr>\n",
       "      <th>3171</th>\n",
       "      <td>County Clare (Ireland)</td>\n",
       "      <td>Ireland</td>\n",
       "      <td>Ireland</td>\n",
       "    </tr>\n",
       "    <tr>\n",
       "      <th>3172</th>\n",
       "      <td>County Limerick (Ireland)</td>\n",
       "      <td>Ireland</td>\n",
       "      <td>Ireland</td>\n",
       "    </tr>\n",
       "    <tr>\n",
       "      <th>3173</th>\n",
       "      <td>Fort Lee (Va)</td>\n",
       "      <td>Va</td>\n",
       "      <td>United States</td>\n",
       "    </tr>\n",
       "  </tbody>\n",
       "</table>\n",
       "<p>3174 rows × 3 columns</p>\n",
       "</div>"
      ],
      "text/plain": [
       "                               location        country retrieved_country\n",
       "0                                 India          India             India\n",
       "1                 Maracaibo (Venezuela)      Venezuela         Venezuela\n",
       "2                             Venezuela      Venezuela         Venezuela\n",
       "3                                Israel         Israel            Israel\n",
       "4                               Germany        Germany           Germany\n",
       "...                                 ...            ...               ...\n",
       "3169                      Yanji (China)          China             China\n",
       "3170  West Side Highway (Manhattan, NY)  Manhattan, NY     United States\n",
       "3171             County Clare (Ireland)        Ireland           Ireland\n",
       "3172          County Limerick (Ireland)        Ireland           Ireland\n",
       "3173                      Fort Lee (Va)             Va     United States\n",
       "\n",
       "[3174 rows x 3 columns]"
      ]
     },
     "execution_count": 592,
     "metadata": {},
     "output_type": "execute_result"
    }
   ],
   "source": [
    "siberia_mask = retrieved_countries[\"country\"] == \"Siberia\"\n",
    "retrieved_countries.loc[siberia_mask, \"retrieved_country\"] = \"Russia\"\n",
    "retrieved_countries"
   ]
  },
  {
   "cell_type": "code",
   "execution_count": 593,
   "metadata": {},
   "outputs": [],
   "source": [
    "west_bank_mask = retrieved_countries[\"country\"] == \"West Bank\"\n",
    "retrieved_countries.loc[west_bank_mask, \"retrieved_country\"] = \"Palestinian Territory\""
   ]
  },
  {
   "cell_type": "code",
   "execution_count": 594,
   "metadata": {},
   "outputs": [],
   "source": [
    "clean_countries = retrieved_countries.drop(retrieved_countries.loc[undefined_mask].index)"
   ]
  },
  {
   "cell_type": "code",
   "execution_count": 595,
   "metadata": {},
   "outputs": [
    {
     "data": {
      "application/vnd.microsoft.datawrangler.viewer.v0+json": {
       "columns": [
        {
         "name": "index",
         "rawType": "int64",
         "type": "integer"
        },
        {
         "name": "location",
         "rawType": "object",
         "type": "string"
        },
        {
         "name": "country",
         "rawType": "object",
         "type": "string"
        },
        {
         "name": "retrieved_country",
         "rawType": "object",
         "type": "string"
        }
       ],
       "conversionMethod": "pd.DataFrame",
       "ref": "aae2d54c-3a13-4434-ae9d-7fc57beb3623",
       "rows": [
        [
         "0",
         "India",
         "India",
         "India"
        ],
        [
         "1",
         "Maracaibo (Venezuela)",
         "Venezuela",
         "Venezuela"
        ],
        [
         "2",
         "Venezuela",
         "Venezuela",
         "Venezuela"
        ],
        [
         "3",
         "Israel",
         "Israel",
         "Israel"
        ],
        [
         "4",
         "Germany",
         "Germany",
         "Germany"
        ],
        [
         "5",
         "SAXONY (GERMANY)",
         "GERMANY",
         "Germany"
        ],
        [
         "6",
         "THURINGIA (GERMANY)",
         "GERMANY",
         "Germany"
        ],
        [
         "7",
         "Gaza Strip",
         "Gaza Strip",
         "Palestinian Territory"
        ],
        [
         "8",
         "Cornwall (England)",
         "England",
         "United Kingdom"
        ],
        [
         "9",
         "England",
         "England",
         "United Kingdom"
        ],
        [
         "10",
         "New York City",
         "New York City",
         "United States"
        ],
        [
         "11",
         "Times Square and 42nd Street (Manhattan, NY)",
         "Manhattan, NY",
         "United States"
        ],
        [
         "12",
         "Midtown Area (Manhattan, NY)",
         "Manhattan, NY",
         "United States"
        ],
        [
         "13",
         "Bensonhurst (Brooklyn, NY)",
         "Brooklyn, NY",
         "United States"
        ],
        [
         "14",
         "California",
         "California",
         "United States"
        ],
        [
         "15",
         "United States",
         "United States",
         "United States"
        ],
        [
         "16",
         "Egypt",
         "Egypt",
         "Egypt"
        ],
        [
         "17",
         "Cairo (Egypt)",
         "Egypt",
         "Egypt"
        ],
        [
         "18",
         "Paris (France)",
         "France",
         "France"
        ],
        [
         "19",
         "Pokrovsk (Ukraine)",
         "Ukraine",
         "Ukraine"
        ],
        [
         "20",
         "Ukraine",
         "Ukraine",
         "Ukraine"
        ],
        [
         "21",
         "Russia",
         "Russia",
         "Russia"
        ],
        [
         "22",
         "Jarratt (Va)",
         "Va",
         "United States"
        ],
        [
         "23",
         "Philippines",
         "Philippines",
         "Philippines"
        ],
        [
         "24",
         "China",
         "China",
         "China"
        ],
        [
         "25",
         "South China Sea",
         "South China Sea",
         "South China Sea"
        ],
        [
         "26",
         "West Bank",
         "West Bank",
         "Palestinian Territory"
        ],
        [
         "27",
         "St Paul (Minn)",
         "Minn",
         "United States"
        ],
        [
         "28",
         "Minnesota",
         "Minnesota",
         "United States"
        ],
        [
         "29",
         "Nashville (Tenn)",
         "Tenn",
         "United States"
        ],
        [
         "30",
         "Brazil",
         "Brazil",
         "Brazil"
        ],
        [
         "31",
         "Kauai (Hawaii)",
         "Hawaii",
         "United States"
        ],
        [
         "32",
         "Honolulu (Hawaii)",
         "Hawaii",
         "United States"
        ],
        [
         "33",
         "Greenwich (Conn)",
         "Conn",
         "United States"
        ],
        [
         "34",
         "Baltimore (Md)",
         "Md",
         "United States"
        ],
        [
         "35",
         "San Francisco (Calif)",
         "Calif",
         "United States"
        ],
        [
         "36",
         "Seattle (Wash)",
         "Wash",
         "United States"
        ],
        [
         "37",
         "San Diego (Calif)",
         "Calif",
         "United States"
        ],
        [
         "38",
         "San Jose (Calif)",
         "Calif",
         "United States"
        ],
        [
         "39",
         "Kamchatka Peninsula (Russia)",
         "Russia",
         "Russia"
        ],
        [
         "40",
         "East Germany",
         "East Germany",
         "Germany"
        ],
        [
         "41",
         "Europe",
         "Europe",
         "Europe"
        ],
        [
         "42",
         "Boston (Mass)",
         "Mass",
         "United States"
        ],
        [
         "43",
         "New Hampshire",
         "New Hampshire",
         "United States"
        ],
        [
         "44",
         "Chicago (Ill)",
         "Ill",
         "United States"
        ],
        [
         "45",
         "Richmond (Va)",
         "Va",
         "United States"
        ],
        [
         "46",
         "Bedminster (NJ)",
         "NJ",
         "United States"
        ],
        [
         "47",
         "Jerusalem (Israel)",
         "Israel",
         "Israel"
        ],
        [
         "48",
         "Tel Aviv (Israel)",
         "Israel",
         "Israel"
        ],
        [
         "49",
         "AFGHANISTAN",
         "AFGHANISTAN",
         "Afghanistan"
        ]
       ],
       "shape": {
        "columns": 3,
        "rows": 3148
       }
      },
      "text/html": [
       "<div>\n",
       "<style scoped>\n",
       "    .dataframe tbody tr th:only-of-type {\n",
       "        vertical-align: middle;\n",
       "    }\n",
       "\n",
       "    .dataframe tbody tr th {\n",
       "        vertical-align: top;\n",
       "    }\n",
       "\n",
       "    .dataframe thead th {\n",
       "        text-align: right;\n",
       "    }\n",
       "</style>\n",
       "<table border=\"1\" class=\"dataframe\">\n",
       "  <thead>\n",
       "    <tr style=\"text-align: right;\">\n",
       "      <th></th>\n",
       "      <th>location</th>\n",
       "      <th>country</th>\n",
       "      <th>retrieved_country</th>\n",
       "    </tr>\n",
       "  </thead>\n",
       "  <tbody>\n",
       "    <tr>\n",
       "      <th>0</th>\n",
       "      <td>India</td>\n",
       "      <td>India</td>\n",
       "      <td>India</td>\n",
       "    </tr>\n",
       "    <tr>\n",
       "      <th>1</th>\n",
       "      <td>Maracaibo (Venezuela)</td>\n",
       "      <td>Venezuela</td>\n",
       "      <td>Venezuela</td>\n",
       "    </tr>\n",
       "    <tr>\n",
       "      <th>2</th>\n",
       "      <td>Venezuela</td>\n",
       "      <td>Venezuela</td>\n",
       "      <td>Venezuela</td>\n",
       "    </tr>\n",
       "    <tr>\n",
       "      <th>3</th>\n",
       "      <td>Israel</td>\n",
       "      <td>Israel</td>\n",
       "      <td>Israel</td>\n",
       "    </tr>\n",
       "    <tr>\n",
       "      <th>4</th>\n",
       "      <td>Germany</td>\n",
       "      <td>Germany</td>\n",
       "      <td>Germany</td>\n",
       "    </tr>\n",
       "    <tr>\n",
       "      <th>...</th>\n",
       "      <td>...</td>\n",
       "      <td>...</td>\n",
       "      <td>...</td>\n",
       "    </tr>\n",
       "    <tr>\n",
       "      <th>3169</th>\n",
       "      <td>Yanji (China)</td>\n",
       "      <td>China</td>\n",
       "      <td>China</td>\n",
       "    </tr>\n",
       "    <tr>\n",
       "      <th>3170</th>\n",
       "      <td>West Side Highway (Manhattan, NY)</td>\n",
       "      <td>Manhattan, NY</td>\n",
       "      <td>United States</td>\n",
       "    </tr>\n",
       "    <tr>\n",
       "      <th>3171</th>\n",
       "      <td>County Clare (Ireland)</td>\n",
       "      <td>Ireland</td>\n",
       "      <td>Ireland</td>\n",
       "    </tr>\n",
       "    <tr>\n",
       "      <th>3172</th>\n",
       "      <td>County Limerick (Ireland)</td>\n",
       "      <td>Ireland</td>\n",
       "      <td>Ireland</td>\n",
       "    </tr>\n",
       "    <tr>\n",
       "      <th>3173</th>\n",
       "      <td>Fort Lee (Va)</td>\n",
       "      <td>Va</td>\n",
       "      <td>United States</td>\n",
       "    </tr>\n",
       "  </tbody>\n",
       "</table>\n",
       "<p>3148 rows × 3 columns</p>\n",
       "</div>"
      ],
      "text/plain": [
       "                               location        country retrieved_country\n",
       "0                                 India          India             India\n",
       "1                 Maracaibo (Venezuela)      Venezuela         Venezuela\n",
       "2                             Venezuela      Venezuela         Venezuela\n",
       "3                                Israel         Israel            Israel\n",
       "4                               Germany        Germany           Germany\n",
       "...                                 ...            ...               ...\n",
       "3169                      Yanji (China)          China             China\n",
       "3170  West Side Highway (Manhattan, NY)  Manhattan, NY     United States\n",
       "3171             County Clare (Ireland)        Ireland           Ireland\n",
       "3172          County Limerick (Ireland)        Ireland           Ireland\n",
       "3173                      Fort Lee (Va)             Va     United States\n",
       "\n",
       "[3148 rows x 3 columns]"
      ]
     },
     "execution_count": 595,
     "metadata": {},
     "output_type": "execute_result"
    }
   ],
   "source": [
    "clean_countries"
   ]
  },
  {
   "cell_type": "markdown",
   "metadata": {},
   "source": [
    "## Retrieve article ids from original dataset"
   ]
  },
  {
   "cell_type": "code",
   "execution_count": 643,
   "metadata": {},
   "outputs": [],
   "source": [
    "data = []\n",
    "for index, place in clean_countries.iterrows():\n",
    "    place_mask = full_year_essential[\"keyword\"] == place[\"location\"]\n",
    "    place_coverage = full_year_essential.loc[place_mask, \"_id\"]\n",
    "    data.append((place[\"location\"], place[\"retrieved_country\"], len(place_coverage.values), place_coverage.to_list()))"
   ]
  },
  {
   "cell_type": "code",
   "execution_count": 639,
   "metadata": {},
   "outputs": [],
   "source": [
    "places_and_ids_df = pd.DataFrame(data, columns=[\"place_keyword\", \"country\", \"count_of_articles\", \"ids_of_articles\"])"
   ]
  },
  {
   "cell_type": "code",
   "execution_count": 644,
   "metadata": {},
   "outputs": [
    {
     "data": {
      "application/vnd.microsoft.datawrangler.viewer.v0+json": {
       "columns": [
        {
         "name": "index",
         "rawType": "int64",
         "type": "integer"
        },
        {
         "name": "place_keyword",
         "rawType": "object",
         "type": "string"
        },
        {
         "name": "country",
         "rawType": "object",
         "type": "string"
        },
        {
         "name": "count_of_articles",
         "rawType": "int64",
         "type": "integer"
        },
        {
         "name": "ids_of_articles",
         "rawType": "object",
         "type": "unknown"
        }
       ],
       "conversionMethod": "pd.DataFrame",
       "ref": "6d362eef-aded-4ebe-b488-66a2e1117c48",
       "rows": [
        [
         "0",
         "India",
         "India",
         "234",
         "['nyt://article/aeabc262-aeb0-5423-a7ac-8bb664cb983b'\n 'nyt://article/f0b620c9-c3f1-5892-930d-c3b262913319'\n 'nyt://article/ef3bc5db-0c6e-5a6b-a044-dc9c1fc7952a'\n 'nyt://article/9cea059d-9bfa-5ef0-82a5-399d1edf2787'\n 'nyt://article/62c9a164-ac0c-503a-b7bf-20a98e3b75b2'\n 'nyt://article/2a67f414-d79f-575d-b6d6-864778e9b09b'\n 'nyt://article/44cdb30a-bcf8-5dba-91d8-9a0264a46579'\n 'nyt://article/36ee0edb-21e9-56c9-bb84-09c4415a4516'\n 'nyt://article/12e5ed22-7416-56c1-8c1d-c20a9c4beae4'\n 'nyt://article/795117d8-c3f6-50ae-918f-2476bb3fdd62'\n 'nyt://article/bf77cc3c-2d4c-54d9-8ae9-e8dfce0fb9f9'\n 'nyt://article/b6e3fbe7-271c-5854-9738-274b4b48cb96'\n 'nyt://article/41e7a6bc-02e2-5669-849b-48967c65e517'\n 'nyt://article/3b3e918f-8cee-5e2b-a4fa-1218f21d5ce2'\n 'nyt://article/e3d0958d-c749-5f08-b471-85752d797722'\n 'nyt://article/b99e102a-60d7-55ab-9d3c-510f49babd93'\n 'nyt://article/bb3ba6c3-9a53-5d1c-94b3-08decd18820c'\n 'nyt://article/a4919af5-0471-583f-8fa4-809cb685eff5'\n 'nyt://article/9b82ae1a-9d30-5ab7-b269-3a446eb2dc3a'\n 'nyt://article/5191d0c8-242b-527d-a2f3-fe5e2127a690'\n 'nyt://video/ab34e0dc-72d3-541a-a5f1-2efe20fc53cb'\n 'nyt://article/3c949e17-c6f4-5239-a37c-b2a2e3b9a5db'\n 'nyt://article/8806934a-9a17-5612-bc1f-5ace64a6201b'\n 'nyt://article/47f77fee-20a0-5c35-9e45-21a8f8f40859'\n 'nyt://article/88c85774-df15-53fa-b7f1-482980bfcb43'\n 'nyt://article/eee7c914-8d90-5538-be7f-36f758c81342'\n 'nyt://article/04a2eb10-69c9-5328-9e56-be5cb7efb265'\n 'nyt://article/1d5a61ce-b39d-54e7-90e2-561418801840'\n 'nyt://article/f226a6f9-2666-58c8-91c9-c283bc0d3c2e'\n 'nyt://article/9276b34c-3b40-57d2-bd85-9bf252de076a'\n 'nyt://article/8fb3e25e-d5ac-51ab-b4ee-52cd2e06e9e1'\n 'nyt://article/1bf48541-01b3-5a10-99e7-d7c33d18335c'\n 'nyt://article/271d309e-c758-530d-a552-b81921062321'\n 'nyt://article/bfe8cf56-a76b-5c0e-b048-3b24aa80341d'\n 'nyt://article/c9795436-ab8b-527f-ab17-6181c26b44cf'\n 'nyt://article/a91e5a26-c9bb-5e01-9dbc-f490fc526377'\n 'nyt://article/8c85f46f-e71e-5095-82f9-95e12f3fc486'\n 'nyt://article/510a17b8-8095-50f5-ba76-201e4be3cc69'\n 'nyt://article/fc39743f-58d2-53c4-a91c-9d0205331a90'\n 'nyt://article/23ad3619-a76b-5125-b61c-5a0779e3e2e2'\n 'nyt://article/3b3d552e-a57f-53c5-8ff0-31113b14c493'\n 'nyt://article/90640272-f5b8-5021-bc55-249d649867cf'\n 'nyt://interactive/9c89d763-5676-570c-9670-b057987bc4d3'\n 'nyt://article/244770eb-231a-57b3-ab8a-c350fecd7edf'\n 'nyt://article/cc0ea916-01e9-5e74-9314-75fa6a0c2638'\n 'nyt://article/6b57097a-d7a3-55e3-bb17-faab98a37e2c'\n 'nyt://video/89572801-e0ae-5fd2-a7aa-e646f7f8f368'\n 'nyt://article/c1cbe8b9-27fb-56f3-b73f-d606d7b5f117'\n 'nyt://article/25b52c57-7954-516d-8223-aa92964350e9'\n 'nyt://article/47cf0708-963c-5eac-8b69-8d50bcc3e83d'\n 'nyt://article/e2b2e71c-7caf-5f97-94e2-25d095d02cb7'\n 'nyt://article/eb643cd1-678d-5d8f-992c-fe3adcf747e3'\n 'nyt://article/3935b1ec-e256-526d-9e51-9d1ce9adf99b'\n 'nyt://article/7bce6f02-2514-5fa9-8f4a-b5ef20f2fafa'\n 'nyt://article/890b0e3a-1798-5322-a153-fb51c887c282'\n 'nyt://article/d78a6a98-cf88-515c-a04e-2fdc84b8621d'\n 'nyt://article/d6d42e05-d88d-552e-be07-33032390fbc8'\n 'nyt://article/b7c1033a-4d83-536e-be8b-dc9549d65155'\n 'nyt://article/56cb861d-26dc-55f8-8780-da3e42355bae'\n 'nyt://article/c802c5a2-4ca5-5ce1-bd4c-47d4e9943862'\n 'nyt://article/79b00036-2665-5046-bb04-926978b93354'\n 'nyt://article/ad68b015-ad74-54e5-b873-9d29dcf2b2f0'\n 'nyt://article/afa7c437-a06f-540c-aa1f-4ed22388ce44'\n 'nyt://article/493bf82b-16a7-527c-a7be-76ea99a4c7dd'\n 'nyt://article/e44688a1-1cbd-54da-8ece-c27b19a78ba0'\n 'nyt://article/624eb93f-6ee2-5b03-a4b2-6342dbaa91a6'\n 'nyt://article/2c4ccbd5-fe36-5df2-82a4-7a664a6d163a'\n 'nyt://article/f5e6a4e2-377c-5233-a5b9-bf495bcd3541'\n 'nyt://article/3c00ea5b-79a6-5dc1-bf9b-0736efe212a7'\n 'nyt://article/430fae77-8d20-5a80-8c54-6849617e6732'\n 'nyt://article/d693541e-d34b-5031-8496-0853e796b873'\n 'nyt://article/e6356667-0e72-5664-b5e0-1f53858e7d31'\n 'nyt://article/d12e3ef2-0583-585c-88a6-e57e084f643f'\n 'nyt://article/00e9c058-3461-57f0-af4f-9d757857e730'\n 'nyt://article/30740c85-f702-5867-90e5-17ca08f5c6b3'\n 'nyt://video/608415df-fd45-5038-9433-180a610b2a34'\n 'nyt://article/8e431566-329e-5b4a-a84e-80cad2082634'\n 'nyt://article/c1dcbfaf-9902-544c-9aa5-b36cdf76ee48'\n 'nyt://article/203557f3-5aab-53d9-923f-041d0491f557'\n 'nyt://article/ee0f0cad-2035-5322-8bcc-ea90c6cc4867'\n 'nyt://video/1a82c3ca-83eb-5997-8f3f-85e5e6c9340d'\n 'nyt://article/7cd5412b-d8fc-54ed-86c3-636b575221d7'\n 'nyt://interactive/879bd643-3038-5417-8083-2bbf94d22dec'\n 'nyt://article/692576b9-0d4a-53b8-a137-997d2acd9ab9'\n 'nyt://article/53c4625a-4e3c-588e-8b79-43ebb54ae7fe'\n 'nyt://article/a85301da-2344-5132-859d-95e023f46e13'\n 'nyt://article/ad7cc2d7-92ae-56dd-b20b-659a7d162805'\n 'nyt://article/65663fde-5bdd-566b-9540-13be569b0a63'\n 'nyt://article/3f762291-229e-5e89-9b97-740085e13675'\n 'nyt://article/7dd56915-1c29-5690-9fb9-9dd148d007ac'\n 'nyt://article/a96c4a74-f032-584f-8519-5d625e6478c0'\n 'nyt://article/e1435472-5607-5fb4-b3e7-09a6a49fac13'\n 'nyt://article/0bc50f3e-14ed-541e-bf14-ad480b7bb280'\n 'nyt://article/d1348cf7-c86c-506c-94db-9090326b9339'\n 'nyt://video/484b2eb3-44fc-51ee-b3a5-f71d25bed4a1'\n 'nyt://article/98a65872-ca9c-53d3-b35c-85a212f19919'\n 'nyt://article/ca2b13df-559a-53a9-b385-c156799270f4'\n 'nyt://article/8fa396fe-db12-5e85-aa5b-a1b26d640cd6'\n 'nyt://article/48c730c0-9250-5a29-befb-8c3782b23c2c'\n 'nyt://article/f0a11f5b-c8a5-5c7a-8db8-6b6fe2655274'\n 'nyt://article/89b5ebd6-962e-5be4-8146-6dfc348c7169'\n 'nyt://article/3f1938d5-4967-51b8-8366-aed42d98924b'\n 'nyt://article/dc7d0348-0181-569d-9d7b-241e7f53a16a'\n 'nyt://video/4bafd88c-b62d-5f97-a0bc-66eabb79eb28'\n 'nyt://article/12a64614-3573-53fd-91dc-2dbd7586d75a'\n 'nyt://article/fe18efa8-1584-56ef-9b6c-89c4d500df88'\n 'nyt://article/cc03a1f3-5c77-525f-aba4-ed45bc32e109'\n 'nyt://article/4fc4f72e-b7bf-5e12-8d58-c96a7d925c42'\n 'nyt://article/29e1c582-18cb-514e-acce-50ff5bc6fa71'\n 'nyt://article/f7f7540a-e61e-5e1a-9a57-8183f300dd26'\n 'nyt://article/e31f9207-eb6f-51b9-a84b-091542d9de23'\n 'nyt://article/89c8e9e3-fe76-5a94-92cb-414d811ee293'\n 'nyt://article/a907eae5-38e9-5d55-a9dd-fd1077b70281'\n 'nyt://article/a095aef8-d677-5bd0-98e0-c167e1ff6b4f'\n 'nyt://article/954e28a7-846d-53d4-9dc7-8c5ce1865d3b'\n 'nyt://article/8752a06d-559f-53d6-944f-16f1bca618ab'\n 'nyt://article/2ccbcc75-d9f4-5938-afaa-d34c877a8b5b'\n 'nyt://video/052807cc-caa6-5a9a-986c-296570e7e177'\n 'nyt://article/0c6b924b-246a-51cd-9237-8e2b6b630098'\n 'nyt://article/6da5038a-d598-5572-b54e-14e32267ddd4'\n 'nyt://article/47b987ad-b236-5750-bfd4-1fa2878c2c64'\n 'nyt://article/d65c789b-6dd8-5428-a925-dc1294721085'\n 'nyt://article/4d123274-8627-5fd2-a13e-4e5d6c012faa'\n 'nyt://article/be8e1ec9-d1ae-533a-999f-4b2361f5d223'\n 'nyt://article/d42cf4dd-379a-5c9e-a024-c3520d605c27'\n 'nyt://article/60be5c22-d9af-5545-85a5-3eaf22871b5e'\n 'nyt://article/e9c89d4d-4ee8-541c-a781-9d97668283c9'\n 'nyt://article/fc39e08f-8877-5c3c-a310-c196a668340f'\n 'nyt://article/a52bfb01-a76f-5982-a5fa-bf85dd1d5840'\n 'nyt://article/f6dcca34-9861-509e-b225-c379dbed9ce9'\n 'nyt://article/cfb225ac-c2b0-53f3-9ad9-adc9226b6ca6'\n 'nyt://article/f69229c4-0c2b-59ad-bcff-d25886896e17'\n 'nyt://article/e1d6f178-488e-501c-86f9-5bff6504c963'\n 'nyt://article/8dc879df-0bfc-5666-90fc-588dee2a3638'\n 'nyt://article/6be2e992-c282-5ba3-bb6c-7a7fa4165ec6'\n 'nyt://article/6a7701e1-8497-56c5-941a-b60f7bb87839'\n 'nyt://article/7f56a768-af94-53ab-be9f-83283b589796'\n 'nyt://article/fbe9efeb-9300-55db-a0d3-d6ef5af9d121'\n 'nyt://article/5597c7e3-e0ab-5845-b96a-c894b6523047'\n 'nyt://interactive/1fbf720e-a531-510b-9bbb-47bab088d75e'\n 'nyt://article/2b479b1a-f3b1-5526-9481-3e6109f7db1b'\n 'nyt://article/b67485bb-aa1a-58af-a4f6-427cdff84175'\n 'nyt://article/c21535cd-c2a3-53c5-ae54-8a07dd5f23ca'\n 'nyt://article/da88a8e0-8249-514e-8aeb-dbe5e382f13a'\n 'nyt://article/20ca849c-1ae1-5472-90bd-6cb26f463f8b'\n 'nyt://article/04ffaa7e-693a-5fce-b349-7b8752510f2c'\n 'nyt://article/692a8cd8-2c0c-55c2-88f0-248773d0bde9'\n 'nyt://video/693d8a8c-0b3d-5381-ae06-6536c3256445'\n 'nyt://article/127279d4-d76c-5779-b241-3f779b176a06'\n 'nyt://article/ea6f91d3-3ed6-5bdb-8434-b92f2c09e859'\n 'nyt://article/a465a75a-9101-5156-aae4-a4a44e661c85'\n 'nyt://article/c0ac4e83-3504-5a21-9d31-7963b6339ce8'\n 'nyt://article/ea9786b6-aa44-5f6c-8771-0baa5a2438b9'\n 'nyt://article/3e89c73b-8674-5a44-ba13-a006aa9b944c'\n 'nyt://article/bb398c3a-2d18-50f7-a2fd-5566fffaf552'\n 'nyt://article/f814e44d-c0ea-5658-b338-9952f1f123a1'\n 'nyt://article/edfd5b6f-5f81-51ac-b12c-01134554bd91'\n 'nyt://interactive/eef36ffc-3294-58f5-8926-60a5a32f70e2'\n 'nyt://article/baafca4e-dc22-5df0-b961-4e61ee748d8d'\n 'nyt://article/7fea3f0f-b6b1-5625-a356-83b337939373'\n 'nyt://article/c4dec545-2f76-5031-9f79-592042ef5252'\n 'nyt://article/3a6ffc8f-108f-599c-bbce-25658c8da096'\n 'nyt://article/b1d6d9fb-0139-5b2b-b028-16231a817c7c'\n 'nyt://article/22edf542-d819-5470-874b-7bd9e3ebff83'\n 'nyt://article/d5ff2d21-78cb-5cf6-b768-2caf739e7747'\n 'nyt://article/1686addc-6284-5ce9-a262-b35c4c891068'\n 'nyt://article/296339e3-f88e-551b-9154-33ab3a6ccd66'\n 'nyt://article/6ced898c-dd57-5eaf-972c-346f16102ab9'\n 'nyt://article/95929c9f-42fb-5d83-892b-6b2c3f5adb1b'\n 'nyt://article/7156323b-04bd-5c48-8c15-c4ec968f490b'\n 'nyt://article/f03a360e-0f2c-5e03-987c-a84f8e5480f4'\n 'nyt://article/dffb502d-cecf-5934-b1e9-11f0688f709a'\n 'nyt://article/f31cc35c-24a6-5682-9541-e0e2f66d7631'\n 'nyt://article/66efc916-3b85-51d1-aa30-72b8629d6123'\n 'nyt://article/e0b9283f-23e1-5205-8328-3ce5f75812e5'\n 'nyt://article/b51ab1a5-5cf7-520d-8189-568fd0f4506e'\n 'nyt://article/92a462a4-76d5-56a5-9123-b9bcd6486d5a'\n 'nyt://video/a86bfb59-35b7-565a-8b72-01b2f40a9e26'\n 'nyt://video/f94bcbe6-5692-5378-928e-d49d88772e34'\n 'nyt://article/5da0cf87-c761-50cc-b620-5a7808583cb9'\n 'nyt://article/942e552f-7138-5dc0-b205-a5ee10e9eefe'\n 'nyt://article/d9f1b89f-1467-5f9e-a31e-18f0efd3b9fa'\n 'nyt://article/b76ea1ba-2191-5f8d-8758-f125e627cda8'\n 'nyt://article/3b3ef7a6-9a7e-5fad-84d0-c8315d4b373d'\n 'nyt://article/3bb167e9-13d7-5ab2-bcf7-8b7f3ef6bb87'\n 'nyt://article/ebcc764d-390c-57f2-a204-ccf06547f033'\n 'nyt://article/fbc995e3-0fa7-5b21-8cd6-1321e99d406c'\n 'nyt://article/ff8e91fc-f14b-5308-859f-737756f5a21f'\n 'nyt://article/6c3618e4-f54f-5141-affa-4e14a12cd6f1'\n 'nyt://article/6bf8c5d3-41f4-5900-92fd-e4a79b47add5'\n 'nyt://article/342fedc8-af09-5792-8128-12e2ae75bc1d'\n 'nyt://article/d98506b6-ea60-5fda-866b-3ce2eef33e21'\n 'nyt://article/547ecf70-2fc8-5081-a015-a2d87351ebaa'\n 'nyt://article/9d38f20f-68c6-5db6-8f39-5c82bf84dd28'\n 'nyt://article/ae66fd77-4b49-5cc1-95a2-0da732dc1a63'\n 'nyt://article/aad53d3e-9be5-535d-bf3a-2bf6928ebb12'\n 'nyt://article/c7bedaf5-7412-5de6-8fd5-fc41bc4e4b66'\n 'nyt://article/1c0566f5-31f5-5aa9-aa99-1589e36b4847'\n 'nyt://video/d8c20b0c-1f96-5704-9c80-cc09774c23e1'\n 'nyt://article/3cadc4e2-a980-5de9-951f-e9acede85ec8'\n 'nyt://article/71bf22de-ca16-59ca-b9fe-d2a524d3c320'\n 'nyt://article/230fc3e6-00d9-5a4a-9bc7-db7824337a4d'\n 'nyt://article/b54aa81c-ab11-5ee4-9e09-ffb2982efc5c'\n 'nyt://article/f31b68f8-e793-5f70-a04f-e08cb95b473d'\n 'nyt://article/726c0f1c-6b6a-5b0c-ac97-a93bebc6fb3d'\n 'nyt://article/859746a0-38cd-5270-ab08-ba948d9e0a26'\n 'nyt://article/396deb75-4e1f-5856-a8eb-1e3e580d5450'\n 'nyt://article/8a53dc79-8303-5356-9beb-67f994b2e1ea'\n 'nyt://article/0160c299-c582-5ed6-b89d-36b1ceff4ff1'\n 'nyt://article/f4b57af0-b7e7-5e2e-9ea6-5e6fa96f4364'\n 'nyt://article/21f9d63e-1e5e-5514-bb67-119335e9065b'\n 'nyt://article/c8b07834-589d-513f-958c-c1a56bd67f4c'\n 'nyt://article/fb18256a-78ea-5106-9123-336af6278189'\n 'nyt://article/6200a42a-9a5f-518a-acbd-666f012a952b'\n 'nyt://article/409838db-ace4-541b-8574-23a870522497'\n 'nyt://article/b6ce3ee6-00c4-5359-b760-138ce19d1687'\n 'nyt://article/bee7964f-d5f3-57a1-bff7-10c29cfb92bc'\n 'nyt://article/535145b4-8e98-540f-9ac7-54fa99a1c2f6'\n 'nyt://video/f433a79d-2d5b-5d47-8c23-54b024c4432e'\n 'nyt://article/71c665d7-6298-5bf7-aad5-dea7a4b280d3'\n 'nyt://article/10453968-c7cb-50d8-ae37-8bc7d4bdeeaf'\n 'nyt://article/0537b6b9-571a-539b-af8c-fc72f2873096'\n 'nyt://article/13c29bbb-fa89-5742-a567-acb7c95edd2e'\n 'nyt://article/eb9412e3-8056-53c4-bf13-eb6b2097a046'\n 'nyt://interactive/caa7a64e-05f1-5a71-a588-1e8f311db878'\n 'nyt://article/8377292f-99a0-5e58-82f4-31f97e86b1a7'\n 'nyt://article/426171e7-6ec6-5f33-a5cb-496062822728'\n 'nyt://article/5ddb5857-a190-55f1-9025-fd6ab60ddb28'\n 'nyt://article/23a16488-0447-59a3-8a71-375207666b7b'\n 'nyt://article/d2c20f78-b74d-577a-a968-f52568ece73f'\n 'nyt://article/3927f4ba-d03d-5fea-88b8-02384a9612a8'\n 'nyt://article/55a8516e-bfe1-56c4-88cb-cceb6a2c2941'\n 'nyt://article/639b22b9-8106-5516-97ef-59513484baeb'\n 'nyt://article/890aac88-51ae-5558-92ff-60c230cd5e77']"
        ],
        [
         "1",
         "Maracaibo (Venezuela)",
         "Venezuela",
         "1",
         "['nyt://article/42c0d0f2-ea62-5d2b-8eba-baa04180adea']"
        ],
        [
         "2",
         "Venezuela",
         "Venezuela",
         "103",
         "['nyt://article/42c0d0f2-ea62-5d2b-8eba-baa04180adea'\n 'nyt://article/ec7ace67-93e5-5de4-bd6f-1600e9981b4f'\n 'nyt://article/d5e03ab1-3c4b-57e4-aa20-6e7ccf4c4b9a'\n 'nyt://article/500fd43a-cfca-5dbe-ba96-de8fd20fc6fe'\n 'nyt://article/162c4c09-6491-5f9e-9507-c5d6cf77b0b0'\n 'nyt://article/21173000-0e5c-524d-81e8-945f5e5f6302'\n 'nyt://article/425f70e5-6a05-58a4-b5a7-7deaa7bde59a'\n 'nyt://video/ef1f479e-fd00-57f7-938f-d02833577f22'\n 'nyt://article/2c75f7fa-1584-5a38-94c4-3bab4eefb897'\n 'nyt://video/6bebda9c-9c5e-5b43-a702-65e8f0d75b6a'\n 'nyt://article/7040f690-c4bb-5b65-9b97-2735a3a8cc03'\n 'nyt://article/08304ece-71f3-578f-b84d-204d244f8370'\n 'nyt://article/66ab351b-0f9c-51ea-843c-9479dd7d11e0'\n 'nyt://article/3875c567-e9c0-5d63-9256-1bca2c9d16ce'\n 'nyt://article/8f7e95a2-3d96-53ad-8a8e-de9a5daf3bc6'\n 'nyt://article/94a329f2-7dd2-582c-a694-a756a5f5852d'\n 'nyt://article/93e8cac6-6c05-5c20-b379-10833d69f2f8'\n 'nyt://article/24bb247a-5768-5479-ba28-8151ac78b56e'\n 'nyt://article/5d1a570a-0696-5b4f-be60-f69d52a1d879'\n 'nyt://article/75e898a5-6498-5911-ad23-18c0b753ef4c'\n 'nyt://article/aff52961-1420-59c3-9d68-ae0ca6ed4b35'\n 'nyt://article/10abe48f-4fe7-5008-af07-dbdc658259ee'\n 'nyt://article/aa3efa10-e04f-5379-aedc-619fccc48cef'\n 'nyt://article/facbd179-75dd-569e-bd14-a935dc076adb'\n 'nyt://article/b7b1dd48-bfc8-51ef-a8fa-21879c1e19c2'\n 'nyt://article/6b5b9dc4-5364-5f05-9111-904260a336af'\n 'nyt://article/afbcaae0-519b-5a32-b91e-998ec88cac69'\n 'nyt://article/46406464-f914-588c-aae4-01e80c0164de'\n 'nyt://article/80acfda2-d63d-535a-a97d-ea2ac2c9cc9a'\n 'nyt://article/8754e07b-d696-59d3-a623-a41735bfaaa8'\n 'nyt://article/a58fa33e-0f39-5a1c-b07d-6874f877eb9c'\n 'nyt://article/07c389fa-ab40-5b86-b426-eaf8df17a790'\n 'nyt://article/b132dba2-b7ca-5eff-bee2-fcd5c7c80527'\n 'nyt://article/0ac05588-2bb8-5f79-b571-353e90e13314'\n 'nyt://article/23a3e591-b32e-503f-acbd-15bdc09a2f19'\n 'nyt://interactive/7923a35e-9969-5dc6-8b77-d8e82fc1840e'\n 'nyt://article/66946340-174e-5ec7-8a5b-8ea62308b7dd'\n 'nyt://article/5ec84b5d-3430-5a25-ac62-2e7175e18d0e'\n 'nyt://article/38b082b2-53ea-5f77-94e6-1e62645448bf'\n 'nyt://article/625040d6-914e-5a87-90d8-2510e4a10b47'\n 'nyt://article/cdb8bcd3-f443-5c0f-9ed3-1250c24b51d9'\n 'nyt://article/7a52c6ed-4e01-5cc5-b3db-8325769b5589'\n 'nyt://article/a167bdac-fbb6-5d4f-878b-e1f6da243668'\n 'nyt://article/7cf7baf4-6570-5a50-a718-2462487a66be'\n 'nyt://article/bb681cf6-c507-580e-951f-ea8cd55e589c'\n 'nyt://article/86ad19e4-a7be-5ad4-8933-227ff93232cc'\n 'nyt://article/d556cb9e-db15-5ce7-a9ef-75ca3b83e0ed'\n 'nyt://article/89912b51-0d3d-553d-9ad9-6bc5d280e325'\n 'nyt://video/d8fcc69e-e628-51ba-a23d-736c2554de52'\n 'nyt://article/aa4ab28b-7d4a-5c60-969c-f63a26a18342'\n 'nyt://article/e55efa03-d492-594c-9640-6f699f962a45'\n 'nyt://article/13ae48de-fc9f-544e-ab71-b71de46b6248'\n 'nyt://article/633ded69-c9e3-5117-b517-8781dff1cab6'\n 'nyt://article/256e0f28-92a4-5b04-837d-a012c25dd1ed'\n 'nyt://article/680aee49-f5ad-5e41-9d62-97acb290b87d'\n 'nyt://article/bda4c607-5ae4-5e88-8427-fd20fb629b21'\n 'nyt://article/f2288f8f-3348-50f8-89da-d39ab5ae0fc3'\n 'nyt://article/3fd64567-3c05-5f80-a99d-c6396cb7095b'\n 'nyt://article/9aab3531-7ee6-5e3e-b9ec-97f57702ed3c'\n 'nyt://article/0ffd3132-6423-5846-85dc-6922c078ffa0'\n 'nyt://article/6f496009-d5e3-5ac9-b87c-6b2feb885eec'\n 'nyt://article/6fef1bb5-2726-5425-b2f6-9774a5b1780c'\n 'nyt://article/82a7bf25-4b20-5aa4-a980-9df729269325'\n 'nyt://article/b5f0cc3c-0532-5e49-b590-d4d4eb9a2b13'\n 'nyt://article/64c6be88-1207-58f0-b37c-f1536dafdce8'\n 'nyt://article/b7006bda-96bf-5b9a-a9fc-4bb7a8e250f9'\n 'nyt://article/c9efc209-52a0-5932-8322-2a7106416605'\n 'nyt://article/9233d700-eb50-52bb-bd52-bd4698bd2a8f'\n 'nyt://article/2632e212-1366-547f-a4e7-7042b7fb2554'\n 'nyt://article/989a7eae-bfde-5426-bf95-084314bc2c2a'\n 'nyt://article/61417454-be28-5136-a2cb-41ae43dd1910'\n 'nyt://article/aee23080-b7f7-5797-8260-2357f990dedc'\n 'nyt://article/cdf6d1fe-8ce1-5c61-92ea-e9b2eece7e9c'\n 'nyt://article/ae8facf7-8c9c-533f-b236-19bd06de2593'\n 'nyt://article/03aac973-dfc6-5a27-866c-ddec955a997e'\n 'nyt://article/4707cccf-e336-545b-9e60-eded6e07857b'\n 'nyt://article/09fe1a44-1ce0-5f4c-a195-a9701ed95b13'\n 'nyt://article/aa18b06c-8a94-5a9d-ac89-e0d564c12b80'\n 'nyt://article/2cc8f046-618f-52af-ae80-081296e92c54'\n 'nyt://article/d52c8238-0112-5c63-b46c-805caca1c0e6'\n 'nyt://article/238fbf8e-66af-5574-8859-6dd15c221141'\n 'nyt://article/330b2265-99a9-535e-bd74-3dcccc4645c2'\n 'nyt://article/8e1c3c3f-467b-5ba1-9780-d2b64acebbef'\n 'nyt://article/88174fc0-51d7-5984-b9e5-103ef5f3d2ef'\n 'nyt://article/4ba98a99-954c-520e-9f3f-3ef74ddbad3e'\n 'nyt://article/48f1f73e-a5b0-5cae-a87c-03dcbeea6c3a'\n 'nyt://article/8260b62b-2405-52e7-97de-51b26a46c2cb'\n 'nyt://article/ea4d5c76-605b-54f5-8844-41dbd70a9365'\n 'nyt://article/0a7e5531-6567-5c67-9d2b-6918165315ca'\n 'nyt://article/63aa1c7a-4db5-5c70-ab4d-a9e0b0f3bbb5'\n 'nyt://article/3f83fdb3-a5dc-587a-91f5-04ce27c0e9ac'\n 'nyt://article/24ba78bd-0083-567b-9f87-756e2c4f30a5'\n 'nyt://article/3b66b503-bb34-50d9-b8fc-ee951451dde4'\n 'nyt://article/dbd195d0-acb5-51f3-94c0-c91cfa8d9a2d'\n 'nyt://article/8fa7e1c2-35e9-534f-a877-00f489b212f3'\n 'nyt://article/4ff0123d-daed-5869-94a7-48c73ddf6491'\n 'nyt://article/75a864c5-04f2-59ce-95ff-4615065d9c00'\n 'nyt://article/5c6c8048-7220-53f1-9d4e-216b9b4d57dd'\n 'nyt://article/3ec017c1-6595-554a-a88b-1c7ec498fcf1'\n 'nyt://article/d27e3794-9c9c-5d01-830f-a0f1fb1919b5'\n 'nyt://article/791e98d0-a1d6-5ddd-8de5-58bbb81c02a2'\n 'nyt://article/f121bad3-17d1-5924-bc1e-a638ac82bda4'\n 'nyt://article/9347904e-8e0c-5540-b43d-025e092c2f33']"
        ],
        [
         "3",
         "Israel",
         "Israel",
         "2143",
         "['nyt://article/6393c6c3-0e1f-5494-925d-165e7aafdefa'\n 'nyt://article/8c93a8fe-604e-5c56-b025-18fe292ef016'\n 'nyt://article/e3ad1eb7-1466-5f43-9234-14db378205b2' ...\n 'nyt://article/d35909ed-7127-5244-9123-c4f66ab1fe05'\n 'nyt://article/3267e38e-8920-5089-ad91-2765260b0a91'\n 'nyt://article/e375e0ea-81ae-54af-ae3c-d964bb6b0a61']"
        ],
        [
         "4",
         "Germany",
         "Germany",
         "241",
         "['nyt://article/fe046102-78e5-530d-89e0-59ff09c0e2e4'\n 'nyt://article/977675ac-c884-5704-a14c-ec7a15ff4a79'\n 'nyt://article/5962fc9a-1e44-55d7-a422-7d1dd04eee05'\n 'nyt://article/84a8f437-c092-5f69-b31e-9db24ec48a0c'\n 'nyt://article/40c9d395-ab8a-5962-afcd-a8bd719a391b'\n 'nyt://article/1089f92e-4ae2-52c4-ac34-7c6548c6c6f9'\n 'nyt://article/0861e7e9-b2c4-5125-b1cd-881e67bf8dc7'\n 'nyt://article/85f062c2-3a2e-5a60-9f3a-86bdc5f1b6a7'\n 'nyt://article/5ad0b2ad-632f-5e3b-843b-ddfa1b4b47aa'\n 'nyt://article/f79da91f-2535-56cb-861f-16ea8d0a9cdf'\n 'nyt://article/cf200f79-2c1e-5411-93fd-809a736ea4b4'\n 'nyt://article/04d4c00a-8a48-5491-81d1-6f8600b8c587'\n 'nyt://article/b8e27ab6-c83a-5c19-baaa-56792468f280'\n 'nyt://article/60bf581e-d336-58ea-9570-b9b6ac521316'\n 'nyt://article/93c0a6de-dfdb-5b6a-a743-dde7339753e8'\n 'nyt://article/82d05c3b-3528-5580-852d-6421b4d1ea46'\n 'nyt://article/823b7ad1-3ac8-59c1-91f4-32f4ce19bc05'\n 'nyt://article/cd4b0798-e2a2-5424-96de-3b8191a0d433'\n 'nyt://article/17ea0afa-d3ea-55a2-85a8-8799db99297f'\n 'nyt://article/8890d124-a54c-5726-a937-0d247d26326e'\n 'nyt://article/5eed2495-8837-57c0-a673-ac3009fd4f07'\n 'nyt://article/f1a75c37-f702-5567-8887-6e4eabe15324'\n 'nyt://article/ac2af22f-d8a0-545e-8a48-9f59a521a2d8'\n 'nyt://article/45b27257-ca71-5a7b-b6b6-5c4148496dae'\n 'nyt://article/ab8b8f80-c74f-52e1-9a61-3fe17732d160'\n 'nyt://article/1419b46f-2919-5d5d-b577-6c071e393f49'\n 'nyt://article/cba94293-351e-5768-b5af-dfaf8045a6ab'\n 'nyt://article/a50a6196-1c95-5451-ace0-c5e9e07c2fba'\n 'nyt://article/f2a21e5e-7c8e-57fa-9189-325316c16260'\n 'nyt://article/bd56e1f4-2434-5697-a5f4-d53c67952ba3'\n 'nyt://article/12bbd9ff-9a5d-5ae2-8ae5-cb7f4753b536'\n 'nyt://article/116c2071-8ad1-5d50-8cce-99d24c30babe'\n 'nyt://article/0cf08f11-7286-576c-a226-6f2ded3441c2'\n 'nyt://article/384140f8-cb83-5d4f-9ac6-7fce0d24a96a'\n 'nyt://article/425ef34b-5095-5c7a-ad1b-5ccc6927013e'\n 'nyt://interactive/fd64e891-ce01-51b1-8c03-cde62adbc90a'\n 'nyt://article/b1c21117-076f-504f-9c91-ac9e058f5dca'\n 'nyt://article/1be7e761-70fa-5788-b9e1-a48be42af1d9'\n 'nyt://article/bac30e8a-7291-55f8-9e9a-071be9132626'\n 'nyt://article/7e5b0dfb-602d-550e-b844-4f3b6342cdc5'\n 'nyt://article/6a9b613b-3619-5b68-a3e9-1852f29d773c'\n 'nyt://article/f97397c2-5cb1-50a3-8fcb-fda7ba04a652'\n 'nyt://article/1d2cc106-4633-5883-80c2-c97f06458c9f'\n 'nyt://article/75a518dc-2783-5151-a9d8-4ac319f1fb56'\n 'nyt://article/64306d32-b253-5cd4-82c2-dcc4ff00b56a'\n 'nyt://article/39fa4fb6-1f30-5519-a4fc-0bf7217b7915'\n 'nyt://article/bb6886f8-d143-5ae2-8239-f875938cfd82'\n 'nyt://article/4336fc5e-b8e2-5566-977b-a86ef2fab052'\n 'nyt://article/f137456d-89a2-56f2-a091-2baf9d70df5f'\n 'nyt://article/88efe664-9149-5f8a-a1a2-d6162c916dae'\n 'nyt://article/c747a563-86b6-5583-8528-5d5d82c573c5'\n 'nyt://article/18e8b084-b345-5eb3-bbf2-935c5f879033'\n 'nyt://article/34f2a817-e343-5be0-a91c-56cc9123cde6'\n 'nyt://video/0bc485b9-d98c-5d09-b219-3c797527998b'\n 'nyt://article/7c9b208a-653c-50bf-8644-ac72343eef5a'\n 'nyt://article/dc33a53b-7d6f-516d-a718-2ac3b98d4c2c'\n 'nyt://article/c1b79296-ebe3-5203-a63d-b5c1ad366a5b'\n 'nyt://article/4109b823-6a50-592a-bc44-4029537fa1de'\n 'nyt://article/2ea88c85-d35f-5c9b-a173-3f4bdfe68c4d'\n 'nyt://article/52daefb9-c1d7-5fdc-a6c3-8a94de018c60'\n 'nyt://article/9377510f-2c24-530b-8a34-136024d9c1af'\n 'nyt://article/e8f6f6b5-9a78-5eed-b282-4f10d143a0ef'\n 'nyt://article/b697a8dc-3250-5319-901c-8455e717c39b'\n 'nyt://article/6235616d-2c07-52bc-a0c4-f2d6a2d30e21'\n 'nyt://video/06a7ef98-0eff-570e-b0e1-416e7f480cbe'\n 'nyt://video/30fff5d5-653f-581a-b9c8-f0d5b291fa94'\n 'nyt://article/1d7fbf45-1dbc-5cb2-91fb-f7e789a3d574'\n 'nyt://article/cffb766d-9449-5795-97a9-cf25e16fd200'\n 'nyt://article/9e17b5b1-400b-53a6-a6a9-f47c52225a9d'\n 'nyt://article/ec183559-c0cf-5ca1-8c9b-88385a527ffa'\n 'nyt://article/3707bd3d-2552-52a6-a8cb-e74748e5c3d5'\n 'nyt://article/543e7c24-7a24-5899-a958-73f1cc1a629a'\n 'nyt://article/66ac9f18-b31f-521f-a4af-958ac5d04734'\n 'nyt://article/fba11efa-41eb-566d-a4e8-f1878acf28d6'\n 'nyt://article/5710b19b-fc99-5c94-9b8a-99a9dd21688a'\n 'nyt://article/532ed3b2-76b9-5537-b505-e3e735fcf7b9'\n 'nyt://article/3ae9ab07-2d7b-5096-8f99-7659d7ff42bc'\n 'nyt://article/9f04192b-db22-59a8-b73b-c74922328e9b'\n 'nyt://article/f132d2a1-bb26-5a86-bb68-1a9da18e9f5c'\n 'nyt://article/078dd29a-6089-5dc9-b00b-7239bb30017e'\n 'nyt://article/d339e056-21ab-524f-8258-968734c0895b'\n 'nyt://article/16a3b2e0-9bd7-57e7-8732-9b9a9180bb3e'\n 'nyt://article/ba9e116a-660f-5ca3-bce1-8f6215c11be9'\n 'nyt://article/a75c3216-d440-5523-a52f-d0210da75a31'\n 'nyt://article/59773ef3-f9a2-5811-b338-a3f62ae4eaa2'\n 'nyt://article/a273e9b9-09e0-59d6-8898-4fef241ac0fa'\n 'nyt://article/99b539c6-a15b-564a-8aff-df304dfb6648'\n 'nyt://article/da3e7328-b27e-5e2e-9699-5ca2c094b740'\n 'nyt://article/ec5914a1-eeab-58a1-8392-745cf8034708'\n 'nyt://article/4cabf5cb-3dca-57d4-a289-ae68c4dc7a6e'\n 'nyt://article/5d0c1f38-31eb-55b7-a132-4130cf2e4f6b'\n 'nyt://article/9c8378f6-e2ad-579b-9817-32316067eb8f'\n 'nyt://article/5bac2b5e-8a62-5328-9129-cb871c96f826'\n 'nyt://article/4e2e9d8b-35c2-550a-a2d8-4ff2abec575d'\n 'nyt://article/427aad5d-e46a-579f-b02a-707361c5d266'\n 'nyt://article/e8dd346d-fb45-5698-afc2-8d1aca18cab5'\n 'nyt://article/ce771d87-f70e-59ff-978b-190eb97566cf'\n 'nyt://article/f62234e4-455d-57a1-a752-b9f9f9bf50d6'\n 'nyt://article/cd121ab3-90ff-5b3d-81d5-33f4d43fef32'\n 'nyt://article/f0f0de9b-5706-5982-8b20-a29bf2773d6e'\n 'nyt://article/9ac5a2e2-ae08-5640-8297-0337822ee05d'\n 'nyt://article/f1c928e5-191e-527e-b786-bdc0bb097d55'\n 'nyt://article/1fcbb4c8-9861-5211-b7d0-df84026e5bf8'\n 'nyt://article/c5ea490d-44bc-5cc4-b26c-70bff03763de'\n 'nyt://article/6d1f9dbd-fbc8-5c98-a8cd-b1de3b1036d0'\n 'nyt://article/910d6416-4e20-5470-b938-eee1512d6c05'\n 'nyt://article/79acc66a-86db-508b-9fbf-de644e361acc'\n 'nyt://article/098df3fa-2e4e-5dd3-ab4a-a1672b010f94'\n 'nyt://article/19ef33fa-edeb-55a3-b066-b4af9beff7d2'\n 'nyt://article/074d5c41-a5f6-5dfb-9a17-a326d96a08c8'\n 'nyt://article/dd1e5c51-3e70-56c3-ac9e-b85736b5ecfe'\n 'nyt://article/8d50097c-7463-54c0-89c8-fd28ad99c84c'\n 'nyt://article/5863bab9-fcba-5e18-8f32-329f87ad3603'\n 'nyt://article/3d654cdf-b98f-518e-8be4-2e5efc4c80f0'\n 'nyt://article/662b4f50-21a8-550e-953d-e54bb9a0551a'\n 'nyt://article/44b4aa1b-65e9-50a3-a3b9-37fa3268e7fa'\n 'nyt://article/9b34d22d-850d-5a0e-802f-d6b578c7da1e'\n 'nyt://article/cae9429f-0b53-5fdc-8128-a15240711819'\n 'nyt://article/dcfea871-55b9-55cd-9658-2b96bbd6961a'\n 'nyt://article/8415da6a-2b93-5926-81a1-c96458fe12b1'\n 'nyt://article/3023fecb-7c0e-5510-8cc7-9426ffea4356'\n 'nyt://article/0854fc1c-6794-5407-a410-c4e54329fd73'\n 'nyt://article/3bfdfc8b-9e2b-5da3-a75d-bc5f33e10246'\n 'nyt://article/d321fd1e-63d8-5d86-aa0c-cf4b3263266d'\n 'nyt://article/351a7081-1a05-5166-916a-f9f2045ea836'\n 'nyt://article/9a2bef7a-05e7-597e-b428-a66020dd37a9'\n 'nyt://article/e49f936f-f7a2-5c33-b556-6bcdd00b5cc2'\n 'nyt://article/3e88b788-ddef-55a7-b647-af10ff351d20'\n 'nyt://article/317d374f-e320-5894-926f-c80b2e4c79a3'\n 'nyt://article/0f246c7f-0651-584f-8f4e-7c4d7a26675e'\n 'nyt://article/4b9addb0-ece4-5275-a497-a5742b169c82'\n 'nyt://article/2e185f07-5b16-56ff-995b-212c0018e589'\n 'nyt://article/a1260331-f6b4-5683-a335-3a675c320eff'\n 'nyt://article/63f3dacc-ea58-59b5-b671-daecb1b68d48'\n 'nyt://article/9b1d1ec5-5ac4-5f93-8013-335e04ec9de7'\n 'nyt://article/bd37d50d-9864-5a69-9877-0d3c6ab02c55'\n 'nyt://article/c0413cd0-0a14-510b-acbc-954252c41ad0'\n 'nyt://article/1a75b0c3-b9a9-51e8-af06-95b173ccf079'\n 'nyt://article/a595def4-f2f7-5293-a84b-fcb2d9f3ddc8'\n 'nyt://article/eb5d2983-90ef-5ee2-9c32-407216721dba'\n 'nyt://article/40a288ab-6df9-550a-97fb-f33cd9ab355d'\n 'nyt://article/b1179855-fe4a-503b-9086-32a9d44ba791'\n 'nyt://article/64d88901-d017-52c7-b449-68a24b11df60'\n 'nyt://article/066cbdea-c866-506a-ae04-e98da18ec381'\n 'nyt://article/4ffc8c10-2799-5c77-bbd2-ebf3023492a0'\n 'nyt://article/86231cf4-f536-5ffd-b35f-4d990958c802'\n 'nyt://article/87829584-8339-587f-8cc5-bcb3b445f473'\n 'nyt://article/fee82eb3-809a-5261-835c-8aa4b5f232db'\n 'nyt://article/2bbbdedf-4828-5c19-ad6f-c9b83c8aa1f9'\n 'nyt://article/fab0bf07-bbde-525d-b542-d205357ccb13'\n 'nyt://article/d2a6b59c-6ff0-57a7-be9d-857013418256'\n 'nyt://article/a84b7139-084a-5956-a925-014848faee63'\n 'nyt://article/67dad3aa-944c-5eaa-9211-a38e4820f32b'\n 'nyt://article/4de36612-b9f3-57c8-8432-f7a2a9142d0a'\n 'nyt://article/e3a394a3-b1f4-50c3-9679-193f25edd948'\n 'nyt://article/887797fd-6ab3-5164-9755-b4b830250201'\n 'nyt://article/bde2c39e-c292-5e5f-9dc4-87dec6a3d7c1'\n 'nyt://article/937d629e-5c21-5863-9358-9b93767b194d'\n 'nyt://article/cda5f4b6-5c8c-5c09-b893-42e05c53c614'\n 'nyt://article/f1069a07-d629-5aad-a726-9934038ae331'\n 'nyt://article/d7ddbaa9-4c56-5ff2-81a4-ca93b4029506'\n 'nyt://article/55386524-12d2-558a-89c2-ed2f8d3d52da'\n 'nyt://article/be89f83f-5470-5b58-b752-438b48909d5f'\n 'nyt://article/c07abdbf-5725-5536-b4fc-359df5d9ab4c'\n 'nyt://article/81da932f-037d-5853-951f-7a47078c4ad3'\n 'nyt://article/922e56c9-c6a7-5aa1-bbae-c151bbe59fe9'\n 'nyt://article/42739bc6-791c-59bc-803b-93aadb1e52fd'\n 'nyt://article/ac7809f5-382b-56c3-8aa6-2b577ad236d5'\n 'nyt://article/891ad9d7-3c9e-5847-934f-0c0c68c09bd2'\n 'nyt://article/8d36a617-1631-556f-bb55-175adc6c9afa'\n 'nyt://article/5e9876b8-da21-55a8-8b47-e4b4512e8008'\n 'nyt://article/9b504ee6-5273-56e2-ac35-82e36022f814'\n 'nyt://article/bd84e4ab-5d37-51de-bc88-ada7b71f22a5'\n 'nyt://article/745f06ed-cbe7-5c7a-83a9-9847cbc7788b'\n 'nyt://article/be234f86-e348-57a6-ab09-9a4b79c0bed4'\n 'nyt://article/121663f1-a86b-501e-b234-3a2a70c4e84e'\n 'nyt://article/1e06b7c0-b1d4-582d-b231-d51100073f13'\n 'nyt://article/c6a2b71a-dc6f-5e22-a892-2c5d57db391b'\n 'nyt://article/138d4d8f-a148-5648-9e73-b52da5159bd6'\n 'nyt://article/336b30f6-3dbe-580c-9540-9a35a94358a2'\n 'nyt://article/79aa26ab-54f5-5624-a6a1-616a4575ccc2'\n 'nyt://article/17ce1450-ecfa-5dea-b6ee-3c18b8d7019d'\n 'nyt://article/97849b19-50e4-52d9-8ce8-f79ac2f26d09'\n 'nyt://article/4c773a00-0850-5c7e-a282-c282a3b57a82'\n 'nyt://article/8acc1cb4-2f72-5677-868e-7b9c54732e02'\n 'nyt://article/11db2a5a-3379-5f8c-9fab-72e75109d1b7'\n 'nyt://article/b41e5fcd-2992-5863-b843-ed6e60f1f8b0'\n 'nyt://article/ca91ba44-0b7b-5891-98a3-b86170ef4c3f'\n 'nyt://article/182bda75-2e80-5263-9b67-1fa1fd1e6006'\n 'nyt://article/da6c92fc-18bb-5941-bcfc-df6acbd15ae3'\n 'nyt://article/a6900170-c842-55e8-81cc-aedcd693c1c0'\n 'nyt://article/7fdcc337-4b93-588e-b455-d1efb31c57fc'\n 'nyt://article/422af7c3-aaf1-5ae6-9313-7b73d04fda16'\n 'nyt://article/5b500360-2ea7-584d-ac5f-cbced4f7d5b8'\n 'nyt://article/cb9a7622-3a50-5927-bede-1b745d39d238'\n 'nyt://article/879c4e55-cb11-58a7-b14f-05852bfd2961'\n 'nyt://article/5ce8eb01-60c6-5162-b1a2-339e415c66bf'\n 'nyt://article/57ce52c8-15d5-5bee-998f-f46a73edfdb9'\n 'nyt://article/2c6805fc-a182-581d-8f54-9a8b00abb70b'\n 'nyt://article/829ff2f4-7217-5f29-aa8d-d25b32f3ea76'\n 'nyt://article/b5daecd3-6532-57e2-ace8-9065aa46d67b'\n 'nyt://article/0e366f11-06f3-56e3-b3c8-7aa9754bd69f'\n 'nyt://article/37be3852-7f5e-58a4-8ff2-9d07c5a945dd'\n 'nyt://article/ecf076dd-96ab-538a-943e-33c172f23fd7'\n 'nyt://article/0160c299-c582-5ed6-b89d-36b1ceff4ff1'\n 'nyt://article/4ed65b09-6778-5426-be73-646da42d055e'\n 'nyt://article/1fa7abde-e8cd-59bf-8039-b9fcfb578017'\n 'nyt://article/e1573f07-cf45-52e5-9fa6-dd476b5320d2'\n 'nyt://article/a44809a5-dceb-5e1c-9ef5-0fa0abf911a6'\n 'nyt://article/4a7518be-ab2a-57c1-ae48-43f0804f1c64'\n 'nyt://article/0b986bd1-fed9-59c0-b3dd-98a7c51f0c38'\n 'nyt://article/bd1aa5fc-295c-52d8-9a59-7a618c1efd6e'\n 'nyt://article/8d8f2a18-b275-5284-b21c-0e535cc7e0d0'\n 'nyt://article/87b81e63-7486-537e-8993-1510d266fadb'\n 'nyt://interactive/13d75cb1-6094-537b-aec8-f487507b3ffe'\n 'nyt://article/51e44a60-141b-50f7-a274-d67e796d5a3b'\n 'nyt://article/ec8d6da3-aa7c-57a0-ae1c-257c783e46d9'\n 'nyt://article/16439dda-b22d-56fa-8a17-94d2eaad1a1a'\n 'nyt://article/7c85c788-41ad-5e7e-84f7-9276c2118f50'\n 'nyt://article/081caf13-8311-55ba-b659-845d5f7491d1'\n 'nyt://article/a49a5977-e287-54b6-975d-7491ed9772ca'\n 'nyt://article/716a936c-815d-5bb0-9a24-a2ea4a76ba4e'\n 'nyt://article/b0aa1779-fe2c-5752-bdfb-854bb65180e4'\n 'nyt://article/30229ed1-816e-5ba7-9809-75d28322cdb1'\n 'nyt://article/6a3de4ce-1ef0-585f-a31b-d1c5b85f149c'\n 'nyt://video/d7eee59a-2f55-5a6d-8013-32ca7b741945'\n 'nyt://article/7d113abc-fff3-5c9d-9c7b-d9085c6463de'\n 'nyt://article/0355b699-1189-531b-af5d-d08359bf969c'\n 'nyt://article/b59a4fd2-0640-573f-88d6-9061b926395f'\n 'nyt://article/c60538fc-6e3a-5abd-ac13-0baf286e0102'\n 'nyt://article/289b91b9-5255-50fd-917b-61221c2b2112'\n 'nyt://article/19a3e5d1-ea77-562a-8df1-b99ba4d6a343'\n 'nyt://article/5364ce71-066b-5d6a-9955-a5078225a933'\n 'nyt://video/d719fae8-8ffe-5b9b-ad8c-5eb8cbaa7475'\n 'nyt://article/9aba7fd2-8354-5325-8d28-752dd4478747'\n 'nyt://article/7b8fbf6e-0c80-52bd-977b-e38aa98ca567'\n 'nyt://article/4c1e71b0-bdb0-50b6-a549-568556bc923b'\n 'nyt://article/fc68b387-fbdb-5f29-8130-13ba6808c72a'\n 'nyt://article/9d3df5de-f38a-5b7f-b59e-cf91fa6e9be4'\n 'nyt://article/fbd08042-7e8d-5935-8568-9bc0f0c00358'\n 'nyt://article/9dd55356-e436-5a27-91ab-aeb1e06c19a9']"
        ],
        [
         "5",
         "SAXONY (GERMANY)",
         "Germany",
         "7",
         "['nyt://article/fe046102-78e5-530d-89e0-59ff09c0e2e4'\n 'nyt://article/977675ac-c884-5704-a14c-ec7a15ff4a79'\n 'nyt://article/5962fc9a-1e44-55d7-a422-7d1dd04eee05'\n 'nyt://article/823b7ad1-3ac8-59c1-91f4-32f4ce19bc05'\n 'nyt://article/4c1e71b0-bdb0-50b6-a549-568556bc923b'\n 'nyt://article/fbd08042-7e8d-5935-8568-9bc0f0c00358'\n 'nyt://article/9dd55356-e436-5a27-91ab-aeb1e06c19a9']"
        ],
        [
         "6",
         "THURINGIA (GERMANY)",
         "Germany",
         "10",
         "['nyt://article/fe046102-78e5-530d-89e0-59ff09c0e2e4'\n 'nyt://article/977675ac-c884-5704-a14c-ec7a15ff4a79'\n 'nyt://article/5962fc9a-1e44-55d7-a422-7d1dd04eee05'\n 'nyt://article/823b7ad1-3ac8-59c1-91f4-32f4ce19bc05'\n 'nyt://article/425ef34b-5095-5c7a-ad1b-5ccc6927013e'\n 'nyt://article/cb9a7622-3a50-5927-bede-1b745d39d238'\n 'nyt://article/4c1e71b0-bdb0-50b6-a549-568556bc923b'\n 'nyt://article/9d3df5de-f38a-5b7f-b59e-cf91fa6e9be4'\n 'nyt://article/fbd08042-7e8d-5935-8568-9bc0f0c00358'\n 'nyt://article/9dd55356-e436-5a27-91ab-aeb1e06c19a9']"
        ],
        [
         "7",
         "Gaza Strip",
         "Palestinian Territory",
         "1522",
         "['nyt://article/8c93a8fe-604e-5c56-b025-18fe292ef016'\n 'nyt://article/e3ad1eb7-1466-5f43-9234-14db378205b2'\n 'nyt://article/f3e7f53e-152c-5134-bae9-39f1f2c97518' ...\n 'nyt://article/d6e0942f-2eac-5871-a2cb-4412a4be2b9f'\n 'nyt://article/6ce001cc-1318-5936-8eeb-3d3426eee0be'\n 'nyt://article/d35909ed-7127-5244-9123-c4f66ab1fe05']"
        ],
        [
         "8",
         "Cornwall (England)",
         "United Kingdom",
         "4",
         "['nyt://article/edc82925-6f3f-547b-be6a-bb0c66c5a6ac'\n 'nyt://article/c72f4a59-898a-5b18-b491-eaa0dd0e8647'\n 'nyt://article/84939ce5-ddc5-5a6f-a06c-37ce914d4df0'\n 'nyt://article/1237c19d-6837-593a-9333-fbe918205684']"
        ],
        [
         "9",
         "England",
         "United Kingdom",
         "169",
         "['nyt://article/edc82925-6f3f-547b-be6a-bb0c66c5a6ac'\n 'nyt://article/71de9952-c371-5c75-a74a-520f837e0546'\n 'nyt://article/3e5a8cdf-4d05-57e1-954a-914f4952ffa5'\n 'nyt://article/066e9529-c242-569f-8c78-ea823b37eba5'\n 'nyt://article/c31e0450-b301-56cf-af3e-391be3740227'\n 'nyt://article/80e6a895-2bcb-5cb2-b841-0097cbbb3061'\n 'nyt://article/de210375-19a6-5337-a834-916b5486477d'\n 'nyt://article/40abb4cd-6c3c-5696-9e15-6a01008b96fa'\n 'nyt://article/9e42af9d-e369-5455-b308-56225f0052d0'\n 'nyt://article/81d1e2ff-090c-5ff3-8763-8c3d92deeccf'\n 'nyt://article/655d40c1-99e8-58e1-9cb5-763cbc4869c4'\n 'nyt://article/27f4b2e5-e70c-57ea-8e65-e2dd4820c582'\n 'nyt://article/3a20f85d-e450-5cf7-b684-37acf15b746c'\n 'nyt://article/56d2e895-bdb1-5b13-9f97-f86c2e61a7e6'\n 'nyt://article/cb7d84e0-149a-5798-b619-9188593f11ca'\n 'nyt://article/85ad04a4-5c1b-5022-8864-cf16dfea0780'\n 'nyt://article/54cd95a5-cc21-5864-9559-b987d261327b'\n 'nyt://article/389a358d-dbd0-58a2-a4c6-bc4ed0efc51e'\n 'nyt://article/97cde711-19cc-52b4-a02b-d4ad2c05a8ad'\n 'nyt://article/ae1ac33d-ebfb-54d1-bff3-41062c3cf8a3'\n 'nyt://article/5aacf705-4a4d-5afa-8907-ce9b829b5099'\n 'nyt://article/67190a23-6ca2-57e1-875f-31f138883d6d'\n 'nyt://article/1db39a6b-6525-5d86-80f8-4e113a4bd6f7'\n 'nyt://article/f2d8fdc5-e573-553b-90d7-89dac4afd5ee'\n 'nyt://article/bda5bef3-8d7c-5e8a-8254-6268f460d804'\n 'nyt://article/7382c622-1ee9-530c-8012-6cd5238c7099'\n 'nyt://article/21d7f27c-0e38-579c-8081-03ef215f603c'\n 'nyt://article/377fdd06-ed52-53e9-9971-6c9497172004'\n 'nyt://article/cc27d6a0-4c07-584f-a696-abc47248fc07'\n 'nyt://article/f55ca553-2dac-588c-8f20-e9105bee0052'\n 'nyt://article/a5312fe8-bdc7-5613-ba08-f2f484118ae8'\n 'nyt://article/ad30ce74-0e45-5ff4-9489-ffe3f96aab33'\n 'nyt://article/41efbc35-57c3-55df-9cc4-e596ea4159bd'\n 'nyt://article/205c8a9a-946f-50e7-8c69-f211fb024f8e'\n 'nyt://article/4ab4ad28-9a6f-55b7-818a-d89d3f51a955'\n 'nyt://article/908c0b75-9404-58f4-b126-39a8c90165c6'\n 'nyt://article/f6c6d64d-956a-57d4-9350-b816c99ce713'\n 'nyt://article/b9e990f8-849d-5c3a-89a0-807586b8a023'\n 'nyt://article/85dace49-8efa-5c79-b129-2470290a6878'\n 'nyt://article/e51b6233-d5d0-579b-b94b-0619dad45c73'\n 'nyt://article/493613c1-87da-5200-b6ec-a31b2573a977'\n 'nyt://article/2b375f34-4e83-5a52-a0ad-3a40e000c4fa'\n 'nyt://article/9ef44140-a170-58cf-8454-339e630e339b'\n 'nyt://article/9a63f88b-7e7a-5723-a20d-98531f8d4f44'\n 'nyt://article/9c4c6d2d-1169-58e5-baae-0700d36da023'\n 'nyt://video/b6fa5d70-900c-5f4a-a65f-6fb542a39a1c'\n 'nyt://article/b128a94a-7aab-50a5-ba75-37601772ff0c'\n 'nyt://article/a3d79239-a74c-51fa-8ca4-995ae2cf01de'\n 'nyt://article/356f0e97-ddc9-502d-a24a-b008076be805'\n 'nyt://article/98de1dbb-3b4f-5cb2-980f-e76c4ad5b695'\n 'nyt://article/111b1e4b-06ca-5d42-a558-e27fe5adaea5'\n 'nyt://article/ff8174b5-c88d-5242-adb5-0d62e4bb489e'\n 'nyt://article/701c6eed-a94e-5107-8434-3eaf8261002e'\n 'nyt://article/26147f02-719d-5c7c-83d0-0d92af57ae46'\n 'nyt://article/e3821109-1cc4-5a7b-85ef-5eb20f4c5c82'\n 'nyt://article/764679e5-22c6-5707-9b72-d04a8445ee15'\n 'nyt://article/7c713e73-9991-5686-a3ae-2299a9db81ec'\n 'nyt://article/68bf16c2-a74a-5760-8876-a2e6245e09a1'\n 'nyt://article/f22e1cda-d3c0-5ada-8cea-d7b68b6390ab'\n 'nyt://article/2115f733-8656-5090-859e-5c3f9405392c'\n 'nyt://article/81cc75d5-6190-5c1d-bd9f-5f4f71e0a499'\n 'nyt://article/7146cc3a-0d66-5b4b-b04c-161e462983ac'\n 'nyt://article/e53389f2-db28-5850-b465-44061d058d3e'\n 'nyt://article/8c0f10e8-e5d4-50ce-a552-44d4ce417abc'\n 'nyt://article/c8519b28-ec8a-50c5-92d9-4143ffdd0324'\n 'nyt://article/14f1d424-7944-58d1-bce7-60506d1893e5'\n 'nyt://article/1512803a-7985-59f2-b32b-6d9fd1d1a0da'\n 'nyt://article/f41df07a-4295-5927-9a12-24796a446341'\n 'nyt://article/a22364bb-7d29-500e-a8b6-095d5a691ef3'\n 'nyt://article/772bc982-2678-5740-a3fb-8c6479cfa03d'\n 'nyt://article/d524e9c8-9da6-5ba9-bb03-de33bd62aca7'\n 'nyt://article/70d34a31-b15d-5af5-acb0-0582f1839273'\n 'nyt://article/f726e3a2-aa20-58fb-8d35-2a1281e596eb'\n 'nyt://article/c5e86b49-443e-58c8-be4f-b89a6ec13d5e'\n 'nyt://article/8db8cefc-53d1-5271-9cde-b868ade62dad'\n 'nyt://article/b0f401df-c9ca-5d1e-8ec5-4f9301f757e4'\n 'nyt://article/1440de33-3dc0-5009-bf2c-6396b30f92c1'\n 'nyt://article/7412a0b8-5798-512f-92b9-94089426bec0'\n 'nyt://article/bc21cbde-f819-5389-9c25-ed3d51a7fe47'\n 'nyt://article/19c1a335-68ef-5274-8c91-fb26bc31c278'\n 'nyt://article/4ad530e0-e15c-511d-8d22-11899d7d111a'\n 'nyt://article/ebbc2ef6-4286-5d55-95d1-e18ec083f2ea'\n 'nyt://article/38e0ec8e-0291-5bd6-bab5-71caf6b8901f'\n 'nyt://article/9e48fb43-b005-50b5-8701-41164cdea9de'\n 'nyt://article/38e36bdf-6a5c-5139-9306-b56ec2e66d3a'\n 'nyt://article/b66e8c82-6005-5ae2-bc2e-c8626d4b1178'\n 'nyt://article/1c5d56a8-503f-5705-bb0b-118edf870d8c'\n 'nyt://article/8a594bb5-9e76-503e-b066-aad0a6c57ca4'\n 'nyt://article/558976b7-17ff-5ce3-a2f3-1e65d1c0f1b2'\n 'nyt://article/d678489e-bdb9-5f91-9341-99ae8aa29851'\n 'nyt://article/1db06d92-ee97-5eaf-adc4-dbfc961f9c1a'\n 'nyt://article/8bc309a7-3d0b-50b3-8b91-7643c512af1e'\n 'nyt://article/24475f1f-e2b7-555e-b175-ac0079a17d66'\n 'nyt://article/7f00acec-c44f-51de-9149-dd8eefc53f20'\n 'nyt://article/0ba1ee1b-f328-54fb-9efb-a58fe9d74efd'\n 'nyt://article/b3cf5a98-849d-5ba3-9cd5-ea321a9c5007'\n 'nyt://article/a8a220fd-2051-59e1-b980-f26d2705be2e'\n 'nyt://article/ebfa54ca-1e07-535f-927d-6c92b70173b3'\n 'nyt://article/05ac7650-7dbf-5d1f-b305-385dc42be868'\n 'nyt://article/e056801c-2f2e-5058-957d-93b89585d1e9'\n 'nyt://article/85038d1c-498b-5d97-a3be-0964d4220ce1'\n 'nyt://article/37d39e54-78c6-5794-9442-f6b14de85437'\n 'nyt://article/f623b895-4735-53f5-b137-ad5f5c24dae8'\n 'nyt://article/a753dede-f5ab-5aed-b8be-bb6c2f016665'\n 'nyt://article/8d0eb240-fe1d-5912-bf3c-ba01f3ed46c5'\n 'nyt://article/108408a3-d2f8-5702-8764-1749b58f79ac'\n 'nyt://article/84faf26c-9249-5ee5-9609-9301ca6f2d71'\n 'nyt://article/31ae4d31-74bb-50f5-873a-b52c5bac174b'\n 'nyt://article/d5dbf845-b9fd-55ac-b081-9bf4e930e33b'\n 'nyt://article/f2329977-fe92-5592-a49f-c1b1dedf82e4'\n 'nyt://article/b433eb2e-5f0c-5a19-93e9-940a0ccc4111'\n 'nyt://article/ab901b48-8a35-5abf-b4ae-57c93aca5814'\n 'nyt://article/ed3c73ba-187d-5c75-ba31-c04a2f355044'\n 'nyt://article/05c0db28-8efd-585d-ab08-4274541b03c4'\n 'nyt://article/040c6a7f-d81d-5d10-a48c-463d5cb0fe13'\n 'nyt://article/9042805c-ba62-5e71-bdbc-e9ea77a55e79'\n 'nyt://article/8b9b6383-f39a-52c0-a46c-07b75382ec0c'\n 'nyt://article/ee0fe785-5971-54c5-94ec-1d26be993a45'\n 'nyt://article/ebb7e428-e919-57d0-9caa-f67856a140e7'\n 'nyt://article/c1b7472b-e241-5509-94f2-37d214b20968'\n 'nyt://article/6b953e60-a736-55ee-a91e-84d9d2129fe8'\n 'nyt://article/77bd133e-5439-523b-b5f1-2f1c73a003a3'\n 'nyt://article/8b1bf348-0f2d-5390-a1b5-d61d1f27aaef'\n 'nyt://article/f0dd4c14-6042-5059-8f79-7de07eb374cb'\n 'nyt://article/83d3cb5d-d8be-5220-9b1a-4affbe16d268'\n 'nyt://article/5fdbea42-fb3e-5d44-9cd9-368f40d3a317'\n 'nyt://article/16fecae9-5cb4-591f-a54e-f29759a56710'\n 'nyt://article/d0ef9729-6629-5878-8086-d29f414a9a4f'\n 'nyt://article/10876a61-36b3-55d9-a8bc-ef20a581510a'\n 'nyt://article/1e1d246c-a1b4-5059-af77-53a0db1a7524'\n 'nyt://article/af6c3e26-1392-55f5-9bb5-b96e2fa9e936'\n 'nyt://article/23e9e1c5-dcaa-5c8f-8b9e-18dab977af54'\n 'nyt://article/ac81c7bf-dc91-57c2-a970-1088b58785be'\n 'nyt://article/62f9e3a5-83a3-581b-9ac1-6defd1795774'\n 'nyt://article/0ab8d973-cf24-5845-8641-50444d1232c2'\n 'nyt://article/62c05b9a-ba0c-5a79-98ad-1c3daf4e466e'\n 'nyt://article/9f7588ca-4f94-5a9f-9c31-ffc7bff7bd74'\n 'nyt://article/c75fd339-2f1d-5091-a2b4-dd769c02cd01'\n 'nyt://article/82322303-caeb-59b9-93b4-45ef1153b0e8'\n 'nyt://article/5f19fd3d-f33f-5e4c-ba68-7764d1518001'\n 'nyt://article/cb45ac64-9785-543c-b12c-6cbdbb347075'\n 'nyt://article/569d49f6-37e3-50d8-909d-c0b0f7692469'\n 'nyt://article/d99cfc89-dc6e-52cf-9e35-ba34454cd4ac'\n 'nyt://article/892cacdc-6c4f-52ac-9f29-09f7039ee053'\n 'nyt://article/06c165b8-4e5f-5274-acee-25c50f46a71c'\n 'nyt://article/3f1d3fdd-41e9-551f-8652-8ddbd06261d6'\n 'nyt://article/49839a70-4108-5b7a-8fc6-a379290c885e'\n 'nyt://article/b27659da-25e3-54ae-ac29-189e0f81b473'\n 'nyt://article/4d466644-92cb-598a-8259-380b2bdd79f7'\n 'nyt://article/9f38350a-42aa-55a7-a759-36410e11b7d9'\n 'nyt://article/7468ac0e-706b-52ba-a207-60c18754213d'\n 'nyt://article/7a0d299b-9cf8-562e-bda5-ffd5100859ae'\n 'nyt://article/76a2a426-b673-5b67-b587-070dac39da5a'\n 'nyt://article/540b5939-953a-53b2-80b5-79ca7509a382'\n 'nyt://article/e33f3638-c77b-5e67-a95c-ea01952c62f1'\n 'nyt://article/be654e8a-026b-5b65-834b-dc5092ab0c47'\n 'nyt://article/9e79c99e-34f8-583f-b103-2a41603cd40c'\n 'nyt://article/e096a465-aa1a-54a9-9ee1-9a69678cb08f'\n 'nyt://article/4dd76e1b-086c-54a7-87a0-1c7650ba5f3b'\n 'nyt://article/bd9e463e-3198-5c89-bdf5-2ccf23ff9b6d'\n 'nyt://article/3372e2e2-12ff-5150-9902-c79ded7fb9e3'\n 'nyt://article/cd39f69c-049e-5d98-8a76-512f166a8be3'\n 'nyt://article/4af4b3af-f144-59c5-99ad-a60b4cba727e'\n 'nyt://article/bdfbdfe7-b410-516b-904a-9525ffe6689a'\n 'nyt://article/9f189534-654f-52dc-a599-def500752af3'\n 'nyt://article/e0ee2159-5f46-590d-8269-1cdf46916b0f'\n 'nyt://article/7f94b277-1a29-5ee4-9bb3-43dfc108d12b'\n 'nyt://article/874efd3c-0e33-5ee2-8aec-ddaeecc005ac'\n 'nyt://article/18f7ab77-b58d-5e38-b142-3fad74d77d87']"
        ],
        [
         "10",
         "New York City",
         "United States",
         "1809",
         "['nyt://article/fbd74938-d198-5111-a322-256674eeb1d0'\n 'nyt://article/914e90a2-e621-593c-961d-0d031cdd2062'\n 'nyt://article/6f4a73e6-8886-5682-8468-09a76de649a1' ...\n 'nyt://article/912a5e67-3dd1-5153-9db6-a9b638a73b01'\n 'nyt://article/a3783fc2-1a7f-5a43-9534-ffa37d6e8734'\n 'nyt://interactive/c797fdaf-1dd6-519c-a5a7-2608897bf62f']"
        ],
        [
         "11",
         "Times Square and 42nd Street (Manhattan, NY)",
         "United States",
         "27",
         "['nyt://article/6b7f2395-9c71-5f1f-bbd0-4a0aebf6cd1e'\n 'nyt://article/5ab9a8a4-decc-52a1-a85e-20ffd92b70bf'\n 'nyt://article/ac448fd9-4954-59e3-bf9a-941991e24089'\n 'nyt://article/c8813914-5624-5c05-a35e-2d7128b07f96'\n 'nyt://article/bdb24880-6f97-524a-b967-49f682f44aaf'\n 'nyt://article/dce546e6-0b58-5034-ac71-3eeee8885b06'\n 'nyt://article/aff52961-1420-59c3-9d68-ae0ca6ed4b35'\n 'nyt://article/23331e6a-2f17-5301-82c7-c23ae2584088'\n 'nyt://article/53357d47-6799-5167-abad-583fdbfba30a'\n 'nyt://article/05b9726f-3a40-5366-a70f-46dcae375ab8'\n 'nyt://article/f10e2d44-3b88-518f-9a6c-30210a12ee65'\n 'nyt://article/b550de37-87a1-561e-9799-209c280855a9'\n 'nyt://article/de00ba6f-a01d-571d-a9f6-e51bf19726d2'\n 'nyt://article/f95bd126-6424-5df5-b908-44c48fc75675'\n 'nyt://article/75377ce2-2af1-59f6-b0d8-85f4521d8201'\n 'nyt://article/f751d631-bf7f-594d-ace4-8070933a49ae'\n 'nyt://article/e60f37a6-25b2-56ea-a710-782c99e70f39'\n 'nyt://article/ff820168-68c5-553b-b741-98fb83d01901'\n 'nyt://article/bd6431ee-03b2-5e25-ae4d-5463f86412f6'\n 'nyt://article/17021eef-ad9d-5fc6-b1b2-36acdf829768'\n 'nyt://article/94eadebd-bb09-53b0-8a30-dedd0c8e2304'\n 'nyt://article/3c1c6a61-e531-530c-9167-11236d29d507'\n 'nyt://article/8a28221d-00eb-50e1-9042-608f6bdfa723'\n 'nyt://article/c6b037ff-28aa-5191-800d-cad24eb3544f'\n 'nyt://article/235478e4-0441-5acc-a9e7-a7418749caf5'\n 'nyt://article/814aee78-1ecc-580f-9294-21f668326d76'\n 'nyt://article/bbc7bc95-3fbe-5d6b-b7c1-b8d6163af25c']"
        ],
        [
         "12",
         "Midtown Area (Manhattan, NY)",
         "United States",
         "64",
         "['nyt://article/6b7f2395-9c71-5f1f-bbd0-4a0aebf6cd1e'\n 'nyt://article/17bd21de-599c-58ff-bd9e-0cb63e697b59'\n 'nyt://article/9ce388cd-62cc-5937-8580-7d158ea531de'\n 'nyt://article/c50b0bf7-062c-5079-89e4-a1fcf8cf6c14'\n 'nyt://article/11d50338-ab08-5460-8a62-dafa6218adc4'\n 'nyt://article/8016a028-ae44-59bb-adfc-b7a5a85752ca'\n 'nyt://article/d6f97958-90ef-5443-9f50-148a657103ed'\n 'nyt://video/7a8c0585-0a83-534e-9f03-8ee790c594ae'\n 'nyt://article/2c1303b1-a191-5990-bff9-6e64305f95d1'\n 'nyt://article/3e0c0d9b-11f4-5323-840e-ba55b32881f5'\n 'nyt://article/8aa54201-1bfe-5946-87b5-af80ee5b6f2a'\n 'nyt://article/19c545dd-0e22-50fc-bcca-81e945c75605'\n 'nyt://article/be153019-ac46-5f07-972d-4498147f3d0c'\n 'nyt://article/f99a247f-4007-51fb-8f38-3227f5be02fc'\n 'nyt://article/0a47a8f6-d749-5ded-b1af-404f1ee4af1f'\n 'nyt://article/8646eb6e-a24b-5319-bf82-2e37d2447e62'\n 'nyt://interactive/8b74adab-75bc-5c6a-b0cb-e3d8fd9ab3dd'\n 'nyt://article/1fc9e425-8aaa-5e36-9c6b-9d9fd2a37934'\n 'nyt://article/dc6f247b-d40a-55aa-98a8-66ba7e970708'\n 'nyt://article/01be2f15-41de-5143-9b65-82bb1da7a460'\n 'nyt://article/a6299b36-b44a-5490-ae91-a256777a3b62'\n 'nyt://article/21faa7a3-cc47-5a8c-be30-0e5faf0dc6a7'\n 'nyt://article/f754651c-cb6c-5e02-8d48-a332e82d174c'\n 'nyt://interactive/105d5ed7-0b07-5cc3-a01a-41173969e56e'\n 'nyt://article/7578f51f-63d2-56ee-afe9-0144186484f5'\n 'nyt://interactive/81fcc6e0-f8db-5dfb-9fbd-421dab5858c8'\n 'nyt://article/ead031c1-a541-5c73-bee1-987ccc7ecbcd'\n 'nyt://article/aff52961-1420-59c3-9d68-ae0ca6ed4b35'\n 'nyt://article/535c5150-3a2b-5eeb-a037-b3b20c52ac36'\n 'nyt://article/918a40f7-11e7-5210-90c8-b9954cf7f376'\n 'nyt://article/a23a5915-160a-5208-9bba-88f382086cb5'\n 'nyt://article/eb334bd6-abcc-5f8d-bc45-5ccd736b5490'\n 'nyt://article/be4fc167-3dfb-5347-b6f5-3cc94d652ee2'\n 'nyt://article/40ad03ff-6290-594f-8fe6-10dbe3e9fd9e'\n 'nyt://article/6e692ea3-c270-5339-bf74-d4c7a618b867'\n 'nyt://article/d84d053e-bcbd-524f-8255-97f46fdb308c'\n 'nyt://article/1e9c57ad-d29e-53f7-82b8-7d8bf7f83e8e'\n 'nyt://article/e0f60869-05b5-5fa7-b200-32aa8c46ee3f'\n 'nyt://article/dd346fc8-4a88-566d-83da-65108fe22fd6'\n 'nyt://article/ecce2e99-c526-5bf2-9323-e481a0368682'\n 'nyt://article/37c203e4-01dd-5484-88f2-0d8e4ceca865'\n 'nyt://article/0bca7ff0-a5b4-54a3-a98c-a821a9305f18'\n 'nyt://article/bf2e263f-1603-561a-a140-863c70d9d02e'\n 'nyt://article/cc18e9de-0afc-54a4-be71-afe13fca7e5a'\n 'nyt://article/1df7db3f-4648-5fdc-a38c-bf4f93949363'\n 'nyt://article/fb287f46-2ee8-5afb-a9df-a8afcdde8f84'\n 'nyt://article/e54ac930-4281-5b8d-9231-42c9c32914a6'\n 'nyt://article/a468e677-ba83-5b7d-a06b-40314da7842d'\n 'nyt://article/1d0bc13e-508b-5708-bde7-b242e274d6de'\n 'nyt://article/d5035ef9-560f-5a06-a27a-d2e04fe7f4ea'\n 'nyt://article/3abd802f-64d8-5e21-866e-32c1ed508753'\n 'nyt://article/762f8d53-e978-55e3-a4a5-246857a8e2ea'\n 'nyt://article/88572a6b-4d66-5cf8-ae36-eb6c67d75dd8'\n 'nyt://article/b00849f5-0531-5d24-a196-cbf817e8cabd'\n 'nyt://article/3c14581c-9a53-57ea-9f04-173090970dd7'\n 'nyt://article/38a97457-1932-5605-af31-1590136e72d4'\n 'nyt://article/9ad6c959-f88a-59c0-b290-c8a7c18a2f8a'\n 'nyt://article/5cfffd59-758e-5ad1-8f23-f558379d95fc'\n 'nyt://interactive/9e9c00dd-0364-54a5-801d-84c881a791a7'\n 'nyt://article/bc747d69-47ea-5f18-9988-28115b8e533d'\n 'nyt://article/f36cafba-2955-55f8-bd74-ffc61b34e0cf'\n 'nyt://article/72d4b326-b65f-570f-865c-21245f2da0f3'\n 'nyt://article/01663133-42be-5072-8adc-38fd76669419'\n 'nyt://interactive/5ae6e15f-2cdf-50fe-9df7-811ff174b260']"
        ],
        [
         "13",
         "Bensonhurst (Brooklyn, NY)",
         "United States",
         "6",
         "['nyt://article/cfeb776c-7468-5f9c-96b1-cfee972d02be'\n 'nyt://article/a940d2ce-a011-55f4-85ef-a37228690643'\n 'nyt://article/1282a5ff-933b-597d-bc87-f7c57dcf954d'\n 'nyt://article/f3a595ea-5723-5951-be6e-6f4c4298dee0'\n 'nyt://article/69357b2e-3c7c-5ee2-8955-24698fe136dd'\n 'nyt://article/b210cee1-1b31-5153-89a8-baf057a81c8b']"
        ],
        [
         "14",
         "California",
         "United States",
         "817",
         "['nyt://article/d26bb35c-3a54-52d4-aa69-579404507e2f'\n 'nyt://interactive/fdbf27aa-775b-587a-be67-ac212c9bfdc9'\n 'nyt://article/b2454733-cc40-5c12-8fc0-adb35742464d'\n 'nyt://article/fc451e0f-4509-5164-b37a-50dca05c6215'\n 'nyt://article/fa08333e-9562-53ab-95a9-d183eb6b0bba'\n 'nyt://article/cb6131c4-3413-5997-b041-2b68e5e28bb8'\n 'nyt://article/e191d422-a556-5f65-ab35-18fd7c6849cf'\n 'nyt://article/03c233ed-9327-5bf6-bcaf-5634a8cbec1c'\n 'nyt://article/de7890df-0858-51fa-8f3d-68b043cb876f'\n 'nyt://article/a016a51f-628f-5826-84da-eae245e0c70c'\n 'nyt://article/fc984b57-f869-576b-93cc-81f771c1fa5d'\n 'nyt://article/03453427-9f8e-55b9-8225-ebfc7f9f995a'\n 'nyt://article/a6064a97-2e7c-56bc-ad95-66ba7b268d46'\n 'nyt://article/75b72ea2-30d3-584f-a52f-fb96615454ac'\n 'nyt://article/fe52e462-a6cd-5f07-b5a2-69ca82a46693'\n 'nyt://article/87ce6dd0-0b2e-52ac-ae0c-1dc8209bd34c'\n 'nyt://article/00a119a9-e478-5c21-911d-cfe1b3e82cda'\n 'nyt://article/5ad8fd84-3810-52f6-bbfe-499ac6a9503d'\n 'nyt://article/dc62713b-6d59-5b33-b4a4-dc1ea1d2b2b1'\n 'nyt://article/b7ad82d6-85e6-5682-ad65-20aeb03a8c57'\n 'nyt://article/7add0101-b771-5535-a44f-86da6fd7b100'\n 'nyt://article/ef4d02ff-a093-57cd-81d9-4d3bfdfa722e'\n 'nyt://article/96af963b-d581-555d-9989-0253ede66ad0'\n 'nyt://article/84423764-930b-51b9-a9a2-991187054e29'\n 'nyt://article/547d2ae4-4290-566c-bc7e-973c343aa89e'\n 'nyt://article/f4b7412e-b431-5a5e-b792-30097da40697'\n 'nyt://article/7d2109a8-5577-5a51-b469-2affb0fc9f87'\n 'nyt://article/6f79aea7-4671-5ff0-972d-57e8d999d7c5'\n 'nyt://article/6c141e99-8e86-574d-893a-e4742d7c2db8'\n 'nyt://article/be73e3a5-1270-5b19-a7f7-e9bec8fbd906'\n 'nyt://article/8c5a1231-81b8-5257-8c4c-2fbb28f7a775'\n 'nyt://article/a764056e-1a69-5eb5-857f-f59af730118c'\n 'nyt://article/3bd3e1d6-8152-5623-a662-f2232a71f8a8'\n 'nyt://article/5aef13d0-ba20-5ebf-b494-fd8b579750e0'\n 'nyt://article/52316e33-c4ff-5eb0-a5bf-ca24228e63c3'\n 'nyt://article/0662c9b1-b4ec-53d4-afb4-3e6c9c599ddf'\n 'nyt://article/69521796-08bb-5dd6-8cba-08ec7c8d123b'\n 'nyt://article/8c38daa4-2c35-5e7d-a60a-453d94ad8eab'\n 'nyt://article/cf1f8c8d-0cce-55e1-be9b-7219af26f553'\n 'nyt://article/0687cc1f-2018-5631-90ea-5c0d69337036'\n 'nyt://article/baa06c45-3c3d-55d2-beef-371cf6120189'\n 'nyt://article/80249c87-ca8f-590e-a50a-2d916383bb44'\n 'nyt://article/79072325-ad34-53f8-936e-2e6d00b97085'\n 'nyt://article/461196b0-d2f0-56b0-bffa-e6933dfba748'\n 'nyt://interactive/a7eeace4-67a0-5989-9e03-d713f578f5b1'\n 'nyt://article/2ef0e13b-60ab-54be-9e20-45718ca91fc8'\n 'nyt://article/2252382d-e64e-5cbb-b98f-8e57f8cbfd3b'\n 'nyt://interactive/02eddc3a-9f3f-5bcf-be6e-4544b9394e12'\n 'nyt://article/121afb9f-3cac-510c-bb6f-27750416cb9b'\n 'nyt://article/d45160cf-00c4-5ac3-849e-7cecede7c580'\n 'nyt://article/94a9b8c1-85a7-508a-add8-e32e072d330b'\n 'nyt://article/102cc61b-2f60-5a32-b46e-a55534290087'\n 'nyt://article/964bbad8-cd4d-532e-b109-7cdd0142357c'\n 'nyt://article/f82433fd-ffb4-527c-b17f-b37011f4dde7'\n 'nyt://article/7df6cf0e-4a52-50a2-9af9-e5de5058853b'\n 'nyt://article/bcb555b1-1587-5168-85bb-2aa4812a36c4'\n 'nyt://interactive/d9fafe6f-0e75-5e7e-af6f-5356e569852c'\n 'nyt://article/13ba33ed-e23d-5276-b2f1-e0a5ff0430b8'\n 'nyt://article/f15080a3-a6cb-5eaf-9080-88681c8d9816'\n 'nyt://article/f2025426-2f70-5796-ac0b-3e7bc1bc2cb8'\n 'nyt://article/b1216a64-8a9f-5d89-93f2-9e60a2cf1323'\n 'nyt://article/f0aef74a-fce9-5c28-895f-a62bbb80dcaf'\n 'nyt://article/24beb135-8e0d-5c7b-9825-895041139441'\n 'nyt://article/55ef3c08-2437-57c7-9cbc-fa1ab6dfc38a'\n 'nyt://article/38713040-086e-50fa-aed3-714678cd32a5'\n 'nyt://article/c5aaa088-f177-56a6-acc8-e50440263b3a'\n 'nyt://article/391e5b48-fd41-540f-a8c6-84e44c8a359a'\n 'nyt://article/319e670a-77a4-595a-ab6b-ca24246f5898'\n 'nyt://article/1a397b2a-ec7c-5259-b3fa-9fbd69c2489f'\n 'nyt://article/60d7a8a1-f451-5d68-b8cc-d9376c25168f'\n 'nyt://article/2778b555-b4eb-5ed3-8df0-cab7b7d52f9b'\n 'nyt://article/8b1844da-ecfa-545b-8f61-b046e712e945'\n 'nyt://article/a6fba773-03f6-54ce-ac25-c91570f9d10e'\n 'nyt://article/53fe4993-4a1d-5904-90c5-34349b19d397'\n 'nyt://article/6b32cacb-49de-5d95-866d-bb80138af530'\n 'nyt://article/910bebee-2724-5845-9c50-2e42093d1cf1'\n 'nyt://article/100c01c8-ee62-5dbb-a9af-bf60abd3de17'\n 'nyt://article/a8fa01bd-064f-5086-acdd-2ede4c7df2c9'\n 'nyt://article/49f2cb7e-d1ac-5fb9-a25a-34efb560246b'\n 'nyt://article/231b75c8-09d3-50dc-b33f-9c77ad446fc9'\n 'nyt://article/53a5948d-2174-58c2-94bb-da797b1519dc'\n 'nyt://article/2d6c8d17-df17-57c0-8714-41d1d4cbe7d2'\n 'nyt://article/38b79544-91e4-51f6-8724-91c344d1aedc'\n 'nyt://article/8bfd3561-e407-5b1c-9360-fcfbf2c3c994'\n 'nyt://article/f30d4885-de78-5835-b903-beef2cbdbc73'\n 'nyt://article/24735fab-8997-58b3-b311-d9059c8e90cb'\n 'nyt://article/3c48761d-7caa-5300-8b9a-1b392d65c251'\n 'nyt://article/0f5456ba-c6eb-539a-9825-290746c55da9'\n 'nyt://article/799a22bf-04cd-52da-8621-923983c6b79b'\n 'nyt://article/5ea17175-80a9-5600-b98d-b8f1db2f3b01'\n 'nyt://article/e7bb4ea0-b579-548e-b8ca-6b4c3f43964d'\n 'nyt://article/e58cfea8-ce98-505e-b6bc-f7463aba9c17'\n 'nyt://article/1db39a6b-6525-5d86-80f8-4e113a4bd6f7'\n 'nyt://article/b5ddb23a-de26-5d97-bf68-048e93e1f1fe'\n 'nyt://article/0582a876-353d-5041-96dc-addce22bb86f'\n 'nyt://article/c273f80a-e6fb-540e-ba3a-4f052d1f77cc'\n 'nyt://article/63582403-49e3-52ee-96dc-4780c37ff213'\n 'nyt://article/a83dfda8-3964-5ad3-8eb3-48e6b5551174'\n 'nyt://article/c7d8a7d3-1876-55cd-a1fa-17e2203bdcaf'\n 'nyt://article/992942c0-fdab-5650-84a3-151b527b8a93'\n 'nyt://article/c823fdcc-f534-5047-b774-de869b197bc4'\n 'nyt://article/09bdf640-fb9f-5fee-a696-3f0f02b22511'\n 'nyt://article/30e93162-2e21-54ec-88aa-857fa3dd3f2a'\n 'nyt://article/21450ecf-485b-5121-8a83-03c017052edc'\n 'nyt://article/7b2c197c-4deb-597b-898a-1dc72d8ed3e2'\n 'nyt://article/b61b4780-c148-550b-8830-62db4616b81b'\n 'nyt://article/0e9e252c-5ea8-54f9-9fa7-91be7b7d0ddb'\n 'nyt://article/5f2d8ef0-8aa5-5bbf-b094-e8b2d18577d9'\n 'nyt://article/3c1e679a-1f8b-5578-926a-6a05d9247b1e'\n 'nyt://article/6d398a64-9424-50a6-b835-5d11af27525e'\n 'nyt://article/9d0f8c87-b904-594c-a935-dbcf20bea8c0'\n 'nyt://article/6f6f5f8c-c8fb-5ef0-88f6-a7e2fd6e4865'\n 'nyt://article/93889690-3993-59b5-8dec-738d204f56ff'\n 'nyt://article/64d089bc-78fb-5c6e-bd25-caed963f2a59'\n 'nyt://article/1b0ee9da-7697-556a-8994-d49777f85033'\n 'nyt://article/4b56bd12-7fda-5005-a1fc-84a4e63bab82'\n 'nyt://article/74da1e9e-6fee-5148-aa09-a2ea4ee24312'\n 'nyt://article/20bc534f-3072-518f-96fd-bf31ff6eb1c0'\n 'nyt://interactive/0b5f2de9-bf70-5c57-8e1e-715026145620'\n 'nyt://article/4bafbbdc-7728-51a6-92a1-cbffd9b26daf'\n 'nyt://article/d49062a7-28b6-58ca-adbb-1b5acd0eec7b'\n 'nyt://article/f9863983-0fac-5730-b22d-7391ab857cff'\n 'nyt://article/5078d7e9-f80d-5e24-9bc1-370cd6b03ac2'\n 'nyt://article/abbb11bc-e087-5334-a200-791a42b036df'\n 'nyt://article/51633013-4ef8-5a4e-88a2-53d3a54fa9d9'\n 'nyt://article/7fbd4d60-13e7-5173-8b70-9bb0b7d42e5b'\n 'nyt://article/547fdb57-9b80-5001-bf9a-14ac7544880d'\n 'nyt://video/1177cf87-c4e1-5f24-a96e-91b456762deb'\n 'nyt://article/d4874a86-3cb2-582e-ac40-1f91fc9377ee'\n 'nyt://article/e7747f2e-44a0-5d1b-bf2a-f9793c41a0ce'\n 'nyt://article/79d414bc-5720-5f41-9d97-dd6ad00d933e'\n 'nyt://article/f61ab559-cb19-5698-a548-a5d3ebc69b21'\n 'nyt://article/30d84b5a-886c-5b88-85b1-49f95aa7faee'\n 'nyt://article/76ba6d8a-f8b7-5292-836a-74460b0fd90c'\n 'nyt://article/c4e32b6e-020b-55b5-8c47-512693e9f78a'\n 'nyt://article/9369cece-374e-5fc5-bbf4-6b8347049ee3'\n 'nyt://article/22a3911c-7e8e-5c80-8f53-ae8ac6e0d735'\n 'nyt://article/5ea9551a-f7cb-5f5b-9d89-1d9ac6c7e53a'\n 'nyt://article/739e1f62-c669-5941-b6f3-6d86be97a049'\n 'nyt://interactive/746c7496-9784-5609-ac5d-58b815c73921'\n 'nyt://interactive/da51724e-3e29-5035-a4f2-a7c43d6516c7'\n 'nyt://article/e077eb8b-5249-584c-975c-75f0e2881c12'\n 'nyt://article/c95d35bf-fc3b-52de-b710-21fa14d63374'\n 'nyt://article/d6b419fb-0a4c-5175-82ae-508d00232a12'\n 'nyt://article/7eda2ad5-c8cc-53f5-8cf0-3a428a7d2cb6'\n 'nyt://article/3e707d83-9cc7-5980-96b4-3f4d8e588a5a'\n 'nyt://article/f5904dce-08d5-5402-8650-c33219656171'\n 'nyt://article/6b160c22-8daf-52ce-bcc4-8097dfbf4109'\n 'nyt://article/bc6cdc95-2d65-5f90-bec9-e335f4b67ee4'\n 'nyt://article/42597be9-aeec-5324-be97-73a16e728ab3'\n 'nyt://article/104029c4-3643-53a3-899b-11aeb1082c5a'\n 'nyt://article/fbf37ede-58c7-58f0-92c6-db570acd5018'\n 'nyt://article/aba0ecba-a137-5d7f-adab-046c714ec4ce'\n 'nyt://article/b40fdf96-6f00-50c2-afd4-806612997188'\n 'nyt://article/fa4c439a-d3cc-58eb-bc24-1e29f7583708'\n 'nyt://article/ad277cf6-41a7-59bf-9978-d1f1de36ec59'\n 'nyt://article/e3c69e8b-9a57-5602-92c4-6b89994460d9'\n 'nyt://article/eb15c517-bacc-50da-8e06-6e423745816e'\n 'nyt://article/bdcfef96-53c2-5367-ba75-5157d9c4cf6e'\n 'nyt://article/9b062db3-1d52-5292-91d0-5d847bb2fe5b'\n 'nyt://article/c9795436-ab8b-527f-ab17-6181c26b44cf'\n 'nyt://interactive/335a173a-d7d5-56de-8e00-a58cb8e876c1'\n 'nyt://article/1512565d-9185-5ea4-9428-d08887af2a3f'\n 'nyt://article/bd55e523-b986-5f4e-b598-7b4eb4d31388'\n 'nyt://article/b2454075-c6f7-57c4-927c-1e37cd0892b8'\n 'nyt://article/fd06fb9b-1f24-507d-ae81-fa5fdec9a13b'\n 'nyt://article/0e74c247-0689-5f50-a12e-5ad73ffef029'\n 'nyt://article/c4889190-89d9-55fa-9cf2-e36a227584a8'\n 'nyt://article/c3050127-8c4c-5aee-9c4c-db12f6a98304'\n 'nyt://article/143f3f43-4568-50e4-80ae-a24410d4e77c'\n 'nyt://article/334c9090-7050-54a5-ba1a-6ae30c627eef'\n 'nyt://article/70f5445f-b4d0-5423-a565-68d7eb74db49'\n 'nyt://article/bce94c7f-f976-58a8-a4b6-975c1efc78cd'\n 'nyt://article/23631cda-26f7-5b02-acf3-5edc6d07e3ff'\n 'nyt://article/c19503ba-d939-55e0-b659-26a39ae9ab97'\n 'nyt://article/a378dfa5-8c67-55e4-b6f0-1d72403ed4d7'\n 'nyt://interactive/33d80e6e-b89c-5a74-b046-c2c2a19c07c0'\n 'nyt://interactive/63760c3b-4604-5667-af89-f4bba14455d7'\n 'nyt://interactive/16c180f1-dbbe-5c1f-9b84-64a247cae595'\n 'nyt://interactive/542271f0-69c7-576a-a5a8-0fa236ea6a12'\n 'nyt://interactive/adb4a80f-efcf-54ef-9173-f1e5381379eb'\n 'nyt://interactive/60272de0-44e0-57e6-a99d-244492856469'\n 'nyt://interactive/95e682a5-d328-506b-a71c-7551af11b84f'\n 'nyt://interactive/ae2c9e77-fe8c-51b9-b025-e3b4e0376f38'\n 'nyt://interactive/0cda902b-01be-57cd-b9e4-77b9af574ad5'\n 'nyt://interactive/295c0661-2650-5b41-a8da-790773ee28ed'\n 'nyt://interactive/2834d87d-af02-5ccf-bb8c-0c1ebda8e1be'\n 'nyt://interactive/83269bea-c994-52b8-b893-445623f85770'\n 'nyt://interactive/9f7e7920-c791-5a69-84e2-1a2c595b9da5'\n 'nyt://interactive/a5811134-3edd-5bf0-8043-6ab4f57af384'\n 'nyt://interactive/b8a6a275-2af7-5cb3-adc8-3f3bcd3d05b6'\n 'nyt://interactive/ebf9920c-3e4d-5312-a3c2-25486cf63239'\n 'nyt://interactive/5e9a3070-d6ed-520f-95a7-0410b1cab8cf'\n 'nyt://interactive/0dc178a9-0266-53b0-aa19-e71bc22acb3b'\n 'nyt://interactive/fdd361b7-575b-5ad1-bb7a-474c40482797'\n 'nyt://interactive/0d39ab43-74d4-5df3-b4d9-7000d1b70c0e'\n 'nyt://interactive/7555b510-6ed9-54d5-8a86-a70003550d65'\n 'nyt://interactive/26cf2ca7-d049-50e8-9f50-f36ff150d4a0'\n 'nyt://interactive/422007d4-2240-5112-9863-e873b9cf584f'\n 'nyt://interactive/48ce6d65-7314-54ac-b7e0-08ff720f77e3'\n 'nyt://interactive/a74afd09-e4f4-5687-8a11-c2c3e0d853e4'\n 'nyt://interactive/5a9a3dde-3009-5e2f-87c8-d7d90d9b1518'\n 'nyt://interactive/eec6b2b8-a5ae-5655-95b3-9601ea2d06b3'\n 'nyt://interactive/c6678fdd-4613-56c2-95f7-fdef689d7faa'\n 'nyt://interactive/0606aaa0-70ea-55c3-a868-be34033c242b'\n 'nyt://interactive/b91261a3-9af6-5f3e-936a-ad831a8c7e5d'\n 'nyt://interactive/18587434-5fcc-5f39-87b4-cb7e14cfced1'\n 'nyt://interactive/4c5282e6-b4ad-5f98-b898-113b088128a2'\n 'nyt://interactive/5c17b4a2-a6f9-5d7e-8fe1-dd5407054e23'\n 'nyt://interactive/13c6cb9a-26b9-5157-9c01-604f9b306227'\n 'nyt://interactive/9963348c-e3cf-5052-8291-92f9d0347e8a'\n 'nyt://interactive/7b352b4c-cc05-5e17-9050-fa873c066bb3'\n 'nyt://interactive/9d632150-e3e2-5b00-8d1b-adaf8d790c50'\n 'nyt://interactive/5e18570c-4bf7-5b20-bd14-e71277fedf04'\n 'nyt://interactive/755eba2f-7f7c-58e0-8e3c-4d9efb8683c3'\n 'nyt://interactive/06069de6-cff1-50ed-acd3-b17609360357'\n 'nyt://interactive/62b0c125-1fec-5817-9dc9-f161069728fe'\n 'nyt://interactive/10fb62b5-ca28-5613-bd1c-c036eb83393f'\n 'nyt://interactive/62382985-fca0-5afc-9032-95c803cbe0d3'\n 'nyt://interactive/158abf5e-801f-5574-a189-74ba42d5dc2c'\n 'nyt://interactive/d4d4202c-3b93-5341-9025-8d4978bf57f2'\n 'nyt://interactive/0ef92471-a37b-5f60-a766-26c0d1cbb2af'\n 'nyt://interactive/d2481c38-83e1-52b4-a9da-b94bd8aa15fc'\n 'nyt://interactive/6d30641b-5a9f-5f34-bb5a-d95c8c460b0f'\n 'nyt://interactive/af47d182-1ad9-5e94-9134-96f1ee4d7759'\n 'nyt://interactive/e81d64e7-f6e6-52a1-bf4a-746c046c158a'\n 'nyt://interactive/dab4c4ae-9774-55d5-b27d-f49d7dc25591'\n 'nyt://interactive/d8df67a5-c3d8-5cd2-b73a-2a4341a0289d'\n 'nyt://interactive/f88b5c1c-649c-5a45-ac94-df2e7e4711b7'\n 'nyt://interactive/dbb1f12d-b389-52af-9a95-f2f183d81923'\n 'nyt://interactive/74f4b67c-9ec6-5adc-85d4-0afcd9327053'\n 'nyt://interactive/33328825-daac-5e15-9b0d-f10c39c4b405'\n 'nyt://interactive/335e69f1-8f12-5c22-bd9c-e49f03d8be6a'\n 'nyt://interactive/4db8a2ad-1e01-5bdf-b18d-16517e460273'\n 'nyt://interactive/85c7e38a-2c80-5476-8a7e-5b846f2fc5b7'\n 'nyt://interactive/67832498-38ae-520a-85b3-0c9228fa6c6a'\n 'nyt://interactive/c9fa6ab5-1a6e-5c20-a41f-9a237d0216c8'\n 'nyt://interactive/dd0ad9a8-0010-5570-a537-9ab267029fea'\n 'nyt://interactive/1584efe5-ecb2-55c6-84a3-c7b05e848c4f'\n 'nyt://interactive/ce35797f-7da5-5f5c-8546-c0ead29a470d'\n 'nyt://interactive/dd2812ad-b8f0-5e1a-a3a8-65bde8606875'\n 'nyt://interactive/8b3abfcf-cd27-5bd2-84aa-7ddcd00030cc'\n 'nyt://interactive/c787955b-bb4f-50f0-a891-ea0977d1d92c'\n 'nyt://interactive/95c806b6-64dd-5117-91ee-6fd574920f2f'\n 'nyt://interactive/54de2425-c399-58b0-8636-cb5eb951594a'\n 'nyt://interactive/bae3501c-ef15-597d-9d85-ea5d34e7d39d'\n 'nyt://interactive/ec6c1050-49ca-5952-9e9b-d3d137b848ef'\n 'nyt://interactive/a6ccc944-e2ec-5bce-b9fe-da830a6bf29d'\n 'nyt://interactive/a779db27-b317-5f5d-83c6-29fec3289a43'\n 'nyt://interactive/164f0e98-6292-5259-b0d3-9e3b5204fac7'\n 'nyt://article/ca8748ed-65bb-59f4-a795-1e8aa8520d28'\n 'nyt://article/7fc47294-2fea-5670-aa5c-387de54c891c'\n 'nyt://interactive/f3c9962d-a226-5320-ac1d-21c2b132e450'\n 'nyt://article/facbd179-75dd-569e-bd14-a935dc076adb'\n 'nyt://article/7d6e71ce-963f-590a-8c61-d781da32c56c'\n 'nyt://article/20c92ac0-3a02-53c0-a60d-5125ebccfcfc'\n 'nyt://article/107966f3-5a21-5457-8e7c-c74897de2636'\n 'nyt://article/0c6c21d8-c105-588d-a721-4c0308d0466d'\n 'nyt://interactive/2d44e623-26b0-521b-95fc-3069ebb0a81a'\n 'nyt://video/598eaedc-4ffd-58da-96e3-e953210121e8'\n 'nyt://article/7b450e6d-d70e-582a-8b4d-dd6290c79e22'\n 'nyt://video/bf24d2f4-792a-5872-88c1-532914b7b005'\n 'nyt://article/6a6c70b3-873e-547b-acb6-d7f80584411c'\n 'nyt://article/6641f57c-b20c-57d4-bd29-e95ecae91c6f'\n 'nyt://video/75af104f-9d2d-542d-9571-a0c81d09a42b'\n 'nyt://article/953514d6-0916-5fb0-a8b9-c98807a44418'\n 'nyt://article/197cdd0d-12c4-544d-a52a-ddd9f48314a4'\n 'nyt://article/460d6eff-d4a1-5ac3-8bc9-abc93c2b89a2'\n 'nyt://article/555f4ebd-f65f-5652-be55-dd3e960947f3'\n 'nyt://article/8dba6b14-e878-5d04-86e7-477fd88e1c50'\n 'nyt://article/1a65eb4e-be63-5918-b725-360698e22762'\n 'nyt://article/7364a918-4626-5b52-a2f3-cae8e98812c6'\n 'nyt://article/fdd450c5-6ec2-5de4-8db8-82b1c4dca55a'\n 'nyt://article/b2d0505a-3cd9-541b-b590-94ef082c8736'\n 'nyt://article/8a254896-c47d-576b-b70b-f2da10e63647'\n 'nyt://article/7586e761-5671-5aca-8dd5-11863fe02cad'\n 'nyt://article/48decfef-5333-5b8f-bf7e-c5edde47323c'\n 'nyt://article/9429aa02-c3c4-5140-ae49-9279cb9565d3'\n 'nyt://article/6af3469a-b0d1-5693-988a-511c5129f10f'\n 'nyt://article/96a554d7-a595-551a-a136-e693588841a0'\n 'nyt://article/207e58fe-8241-5ec0-98cf-8e97b90806c3'\n 'nyt://article/ea9456cd-5dcf-5b24-9580-36a5d1f92e2e'\n 'nyt://article/714419e6-c17f-507f-a953-83c28525ab23'\n 'nyt://article/f3429023-670a-53bd-98dd-de1d44406633'\n 'nyt://article/1106cc5f-e944-5134-a2f0-39c43eb5f245'\n 'nyt://article/8a790596-1e51-52d1-bbd8-a23a6bdbbe38'\n 'nyt://article/444cac38-7c3e-507f-8047-ae2969b7ce69'\n 'nyt://article/1df3d283-76f9-546b-ba4a-80c2eef503d2'\n 'nyt://article/2ddc61cf-5131-575d-9a56-65913fc805ce'\n 'nyt://article/1549c806-5abb-5b89-b62b-2be8aa1f01bf'\n 'nyt://article/02a4b3df-ee01-5f52-b3c4-151a522eb176'\n 'nyt://article/aa87c112-ede2-5e03-85b3-142e1f84fd91'\n 'nyt://video/b7ebde9f-9eef-5a8b-96fa-7dc14c19962a'\n 'nyt://article/ff2170db-2afe-5358-93d9-9ec05123de03'\n 'nyt://article/4476164f-64b3-5f5f-b36b-efa6904c8e2b'\n 'nyt://video/b336c828-a9cf-5e0a-b64b-67618742b693'\n 'nyt://article/95e7e9a6-70f9-5de9-b6d8-8c8cf0331212'\n 'nyt://article/414a71d1-93aa-512c-9035-eae76a997e8e'\n 'nyt://article/de2f97ca-42fc-5ee0-93a4-4554546d5a2f'\n 'nyt://article/29766388-92f2-57ef-be3f-6cebb4efde8b'\n 'nyt://article/771182f1-9a3d-5f43-874f-606e795b9524'\n 'nyt://article/525539b8-8585-5f2d-9c53-3e9a82814b0f'\n 'nyt://article/a55436cd-063b-5e21-bbc2-16de2d8f2e00'\n 'nyt://article/f3855cd2-b0e3-5d06-b137-cfaa8a0074e6'\n 'nyt://article/a4ceb523-285e-5d15-964a-ee98918dc4fd'\n 'nyt://article/9932d682-b6de-58ed-ad48-2df8f3b7f1f8'\n 'nyt://article/099c9f87-4fa0-5357-af4e-0430840dbfbc'\n 'nyt://article/87c2d553-239b-53fd-ad1c-fb448fd9d444'\n 'nyt://article/37adc510-91d8-59d1-bce3-7058dbf77080'\n 'nyt://article/46681052-d57b-508a-8951-a36aff9e34a3'\n 'nyt://article/f602d1a6-f37a-5f03-b4d1-b2414b88f7c0'\n 'nyt://article/073006a7-6b21-5a6a-ba68-7b2b2736f9e5'\n 'nyt://article/e013b159-c3a1-5612-acb0-ceb79f1de696'\n 'nyt://article/612e59ce-eda3-532b-936d-d4f321f60b91'\n 'nyt://article/c0ba7d4e-8e11-5125-ba2b-226bb2b22cf8'\n 'nyt://article/2f3aff17-4322-53f2-b752-3250b60c0881'\n 'nyt://article/76972ad3-da55-564c-a795-8b41b7732119'\n 'nyt://article/953e2cf2-7785-573b-b3b6-0dd48d21ebe1'\n 'nyt://article/ee0c2ce4-dd28-5c00-a2ae-549b1a59654c'\n 'nyt://article/6ad83ad3-e7a8-5487-b42f-16e67aadf216'\n 'nyt://article/39988e97-34b7-5758-8ee9-ffd87e18aa17'\n 'nyt://article/f911fdc0-e335-5895-a3ad-9a75e69a2082'\n 'nyt://interactive/693d1652-ab86-53fd-aba9-56e67cae27fe'\n 'nyt://interactive/63e5827f-8fde-555e-a22b-c4deba7dc215'\n 'nyt://interactive/ce61907c-e47f-50a2-b68c-bbe2514d30b7'\n 'nyt://interactive/ad0d1fae-4a89-54d8-b009-05ccd5c32a5c'\n 'nyt://interactive/3b758705-7b41-5ecd-9b1d-657a0a4f748e'\n 'nyt://interactive/21cc4d5e-e24a-51d4-b119-30393f3b2339'\n 'nyt://interactive/6fd097aa-fbdd-52c9-b868-4cdaac461b5d'\n 'nyt://interactive/1b147dc7-d0fb-51b9-8c88-75321c6388e7'\n 'nyt://interactive/390904c1-7a7d-5427-b698-83ff5419a299'\n 'nyt://interactive/12d9d8b2-7baf-5cc0-aa51-6e585cc82de3'\n 'nyt://interactive/881546c6-85b0-5c99-82f3-58105ab6953b'\n 'nyt://interactive/fffcf2a3-546d-53a7-917a-ff53ba20f690'\n 'nyt://interactive/3f156be4-f1a6-570f-a879-fca99720d01d'\n 'nyt://interactive/6f6e818d-e093-5027-9695-c73512844fcb'\n 'nyt://interactive/0d8e1c95-564e-59bd-9999-91f3f6270b36'\n 'nyt://interactive/9082f681-fd90-57f2-a56f-9a6afc30c3db'\n 'nyt://interactive/cab998ad-f4fe-5b7c-bdb7-f1ce9df9738d'\n 'nyt://interactive/3d7d92e2-6a80-5b2b-ab87-8d4752fa1753'\n 'nyt://interactive/3ef303c5-fec4-578d-bc17-2eb3283c83ff'\n 'nyt://interactive/5caa7049-a446-5694-81e5-b90dc60a9a5c'\n 'nyt://interactive/7f804e54-f91d-587f-9e71-b0a4d185fa78'\n 'nyt://interactive/5ba0b321-f3f4-58e9-8ce7-89023bb2d00e'\n 'nyt://interactive/5bc9f87c-efea-51ac-9b3e-f36ce74b00fe'\n 'nyt://interactive/81690962-0f58-52e9-994a-4b61e94e518a'\n 'nyt://interactive/408a4cb5-d391-523a-a411-d6a4655a5e54'\n 'nyt://interactive/5678f10e-5930-5a75-9a80-6b7afbf93107'\n 'nyt://interactive/8d363492-88e3-5742-ae77-10156383641b'\n 'nyt://interactive/c80207d7-ea90-587f-a679-2aa8bca3e4d3'\n 'nyt://interactive/7c7e0505-485b-54e8-b96b-14e976ef5418'\n 'nyt://interactive/c0a66321-38a3-5751-9d9a-98269776ca68'\n 'nyt://interactive/a60a8d0f-75dc-51b0-b11e-1ecf6467a339'\n 'nyt://interactive/55534516-254c-5c01-9126-14e49bc78fc2'\n 'nyt://interactive/5078c41d-f1f6-59c5-bbe7-d1caf6a5cc3b'\n 'nyt://interactive/8781e6b4-e612-5cc2-b66e-975182413f50'\n 'nyt://interactive/be1fc4d7-6384-54e5-899a-bde930290497'\n 'nyt://interactive/27c12dad-f0db-5563-92e5-30dd0ba65687'\n 'nyt://interactive/5afee157-4d7c-5cdd-a7f9-fe8398509188'\n 'nyt://interactive/d4244af8-2852-5631-a352-dc4a4d0759db'\n 'nyt://interactive/eb133d61-3ebd-52f2-8fbd-d92928c87ccf'\n 'nyt://interactive/75b93f43-feec-5a6b-8874-9536220f6c19'\n 'nyt://interactive/a6dd47bb-3f0d-59b9-a5ec-766148590ff2'\n 'nyt://interactive/1bc77904-b1d5-5de1-8c41-c0dbfc7b8425'\n 'nyt://interactive/c21fede1-6239-5e24-a6c4-2acfe2e01622'\n 'nyt://interactive/a05bc7ae-fc95-5771-acb0-7e8d63652f2d'\n 'nyt://interactive/68cdd40d-0b82-5ab3-b93a-af7e4c16b1b5'\n 'nyt://interactive/6be38bee-b282-5f98-a7fc-c46ffae00277'\n 'nyt://interactive/82f80708-0f85-5a78-807e-0643eda0697b'\n 'nyt://interactive/e6ba9aba-b905-5aab-be59-a9c7e57b3c15'\n 'nyt://interactive/410420ac-2717-507a-a777-7b2217811e0b'\n 'nyt://interactive/5983f2d6-8925-5211-894f-56e024ccaff2'\n 'nyt://interactive/0cd3164e-819c-5107-b901-3a6e1325bbba'\n 'nyt://interactive/bba2217d-7e65-5820-b646-0241fd78a9f6'\n 'nyt://interactive/406bd100-c8ad-5832-b092-fd28c3a5f568'\n 'nyt://interactive/7d10d3f2-6eaa-5e43-adda-c270b1ab1526'\n 'nyt://interactive/d1db2003-a816-5da7-9540-5d063527a172'\n 'nyt://interactive/54b45fc4-f3b4-5ebf-903d-f8098c2d65b9'\n 'nyt://interactive/e1fb6f4c-ac77-5cfb-8ecd-32333b7e4466'\n 'nyt://interactive/383d0138-209f-57fa-b27b-f6db3ffbd4f5'\n 'nyt://interactive/bd35e6f1-0ead-58ed-9f4e-23f24aa4a8a6'\n 'nyt://article/aaae66e5-1747-5377-9479-25f4b51ac537'\n 'nyt://article/cbe47c82-5426-5e51-a9ba-1e124aefedf2'\n 'nyt://article/dc6e76b8-60fe-5848-b69b-78293e9b109e'\n 'nyt://article/c48628a6-3697-58a2-92bb-ffa6e05e3ce4'\n 'nyt://article/e8936f43-40c5-5c10-8825-b271dba3b19b'\n 'nyt://article/51776bfd-70bb-5a4a-bbe9-972c9c6babcd'\n 'nyt://article/c516d10a-1c1f-51f4-aae6-72a150e0a043'\n 'nyt://article/3296bf5a-787d-552f-9717-c013c9cb32ab'\n 'nyt://article/4d9915f9-86f7-53de-8d25-6c74f670e140'\n 'nyt://article/c4cb956c-f0ae-53bf-8129-548a5e079be1'\n 'nyt://article/7343bae9-6528-56e6-bb2f-b16f080193a7'\n 'nyt://article/a37cb70b-aee7-59aa-8774-56b9b3c37859'\n 'nyt://article/05a67a59-2121-5de1-badc-0a29e78d49e6'\n 'nyt://article/e7bc95cc-cc1c-5be0-9bea-9052d004a0df'\n 'nyt://article/7fce041b-1ee9-51f7-9750-7ea94ed24835'\n 'nyt://article/13d17787-7dab-5f4c-a5ad-9e168433ac94'\n 'nyt://article/4caf6a68-3e1a-5101-882b-db937b650740'\n 'nyt://article/c6b0695d-da66-572f-9b41-9aa71b7fc3d7'\n 'nyt://article/54ceed9f-cfa9-5d9a-a7b2-a4d4a1321c73'\n 'nyt://article/52f853bb-8584-5815-97a1-62bd4bc20749'\n 'nyt://article/5870e885-4619-5bbc-9872-e55f541d7805'\n 'nyt://article/02589895-8689-5632-a199-d3ef3288739b'\n 'nyt://article/b5de8306-7219-5826-82e9-916fc64e4b99'\n 'nyt://article/e6e91234-62bc-5b70-8508-005cb92af422'\n 'nyt://interactive/aab79fca-4746-5951-99bc-026390e37280'\n 'nyt://article/0b0d183c-5117-5ae6-a606-287dfb2d8d09'\n 'nyt://article/db55abcd-4d6a-5723-8822-71455b089d7b'\n 'nyt://article/c185060b-bf00-5629-95c3-09b3895b81bd'\n 'nyt://article/986e4e1f-6433-5a10-a040-a8df4eddbe9b'\n 'nyt://article/8f97a7dc-0304-5176-8127-b2df6342f8e0'\n 'nyt://article/77133d55-adb4-551b-b332-7509e7ffcdc6'\n 'nyt://article/5c6eeb43-1bb0-5b3b-a476-844518dd30ed'\n 'nyt://article/a8ed4ecc-5a4f-5867-bc6e-2dc5e5caa0db'\n 'nyt://article/56b58868-b6f9-5173-8fee-c10850885061'\n 'nyt://article/9a192e57-8e16-5cd2-aa6f-a8967d477da0'\n 'nyt://interactive/4b72e7bb-07a2-5c20-94f4-cf03e472d6cf'\n 'nyt://article/94173b09-7dda-5b01-b523-e1304413adac'\n 'nyt://article/3b3aa96e-4202-5e75-86ca-734fbb1b2f25'\n 'nyt://article/61f3887f-f52c-5f34-a5c8-b0104c965eb5'\n 'nyt://article/28971f5b-d8bf-55ee-80d0-f1c0bdd0ad6f'\n 'nyt://article/37a7165a-b161-5fa3-9f30-a7ee47b196db'\n 'nyt://article/4eaa4bbd-70fa-5641-bf89-2babbfc1a1ad'\n 'nyt://video/7a47fbd5-1d9f-5205-8407-750cc0f1becb'\n 'nyt://article/31d35738-6291-5982-9c58-4aed8d657a60'\n 'nyt://article/ea228e7f-54dd-5e31-9a77-b103b9679032'\n 'nyt://article/505bc752-b1ec-5835-9457-cb56fc047325'\n 'nyt://article/1a2b62c7-76b6-5630-9fc5-05a868ce8534'\n 'nyt://article/5e87a882-c95d-5bb8-860e-f63e42ebb0d6'\n 'nyt://article/89d05b9b-24d0-562d-912d-1a5cae162231'\n 'nyt://article/29795f8c-740c-565f-b01c-35554652bdc8'\n 'nyt://article/32dae974-beab-50f7-90cd-3d0fb6cdc349'\n 'nyt://article/b16dcd15-1854-52b4-aca5-21d42e902a6a'\n 'nyt://article/92a56e25-0b7f-5794-ab9a-560548200411'\n 'nyt://article/d575af07-e579-5bad-8ccd-74ac5796915a'\n 'nyt://article/df377885-1c06-5efb-8464-fc1a6e30816d'\n 'nyt://article/b9e24d4e-81ae-5f40-b6c4-41ba4d56c3ea'\n 'nyt://article/26e63d4b-9425-5060-8a18-6128633fb5fc'\n 'nyt://article/0fe1a0c8-7bd4-56f9-85e1-5cd2c0386ed2'\n 'nyt://article/64f401d5-7fd7-5320-b2aa-2bca0dee992d'\n 'nyt://article/30a11896-f173-5ab7-a6c6-a96a88e22cc5'\n 'nyt://article/d9307abd-fd57-518c-86f8-44dab05ca43d'\n 'nyt://article/0f2ffbbd-de68-565e-9040-9556ae4e7fc5'\n 'nyt://article/05efad34-1e23-5642-8f2a-b6f22ab55312'\n 'nyt://article/b62a7ec8-49cd-5eb5-b3b8-909cc7208d3a'\n 'nyt://article/e69b654b-8c72-50b9-8866-fb538112c3c1'\n 'nyt://article/7a40652d-bb12-5aee-94ab-2c3358784e54'\n 'nyt://article/cd0d06e2-636e-570a-88b6-a2bafdbce205'\n 'nyt://article/d8537e7b-6af2-557f-af25-25cccc446823'\n 'nyt://article/04c5a307-732b-5be8-b37e-b68e25dbc5d1'\n 'nyt://article/f6af6fa1-6665-5748-8262-bceb39d4fba2'\n 'nyt://article/d1e181e2-f5c7-5d5e-8b02-73a4a87a0188'\n 'nyt://article/0abbf9e6-9020-5fbb-a1de-c56031889d58'\n 'nyt://article/35f787ff-5d35-55ae-90ad-9c432f3902ac'\n 'nyt://article/93c5b6d0-0219-5a3b-af3c-ad20a6887b60'\n 'nyt://article/0fbca97d-4e36-58dc-b81d-602d8903f34d'\n 'nyt://article/76bebef8-423f-5515-84eb-011e797bec86'\n 'nyt://article/9acd8a54-0aab-563a-a71e-7beeba670495'\n 'nyt://article/b6a67afa-318e-5c36-8093-13566af0c7b4'\n 'nyt://article/392b0328-9dc5-5e72-9485-880988bb9794'\n 'nyt://article/7c12b252-c79b-5d1a-903f-4591b446aace'\n 'nyt://article/ed79d596-8f5f-50e0-84e6-ee544f116046'\n 'nyt://article/4bce3cc0-9f87-57df-a04e-05695e89b074'\n 'nyt://article/24a7bc78-76b2-596d-a164-543664d77f4c'\n 'nyt://article/57f8dc3d-b384-5b44-abbb-d290da9e445d'\n 'nyt://article/62bff425-b206-515c-b245-9207be35db19'\n 'nyt://article/26218316-20a3-59a1-abf4-139c63907ab8'\n 'nyt://article/f3d3bee4-a90d-5799-a9da-e1eb4ee27638'\n 'nyt://article/607202c3-2bd1-5255-8e80-f7cb33d2c8f2'\n 'nyt://article/b55e2f60-415c-521e-a897-7a198c1d9bf4'\n 'nyt://article/7d9600c7-ea8a-5e10-9a7f-6fe92a70bf43'\n 'nyt://article/7218d0b7-3509-5552-8ab2-6370dc25b31f'\n 'nyt://article/b2357522-94d8-5b55-a427-938260593190'\n 'nyt://article/6fb3fe14-70d0-571d-89ca-909e5dfccaf6'\n 'nyt://article/44830dbd-6930-55c3-b2c2-991c00515593'\n 'nyt://article/baefa539-8784-571b-b51e-590d7db7d10c'\n 'nyt://article/7fab9d80-eba5-506b-844c-367a1114d933'\n 'nyt://article/2a3deb93-a959-5744-b16f-b62e3bb6449c'\n 'nyt://article/c498b395-e642-5664-9bc7-92ceebdf1697'\n 'nyt://article/07d49155-6ae9-5b51-92da-f947efaa5303'\n 'nyt://article/6c597323-d2cc-5013-ac87-b22b56febc4e'\n 'nyt://article/5455fba0-d6af-5ae6-bfa5-3f9dc00a2869'\n 'nyt://article/ece34ec2-e248-5136-aad5-41e66d58f5ff'\n 'nyt://article/7e78b1aa-c2b1-5e42-92f1-f02c13d69633'\n 'nyt://article/ee3ba693-890e-5461-b422-d091be8d3a28'\n 'nyt://article/8fa396fe-db12-5e85-aa5b-a1b26d640cd6'\n 'nyt://article/44b608ad-9b42-5f08-b70c-dc3d60608364'\n 'nyt://article/70eaade6-59ba-573a-b6b1-827a17c613c2'\n 'nyt://article/60ed62d9-5d1a-5c59-87ca-7b437d3d9662'\n 'nyt://article/c52544de-1d3f-548c-92b2-ec8dec858ac7'\n 'nyt://article/2a6155a8-e2e8-5ebf-b6c6-dd9453adf329'\n 'nyt://article/b2fb348a-262d-5fb8-a1e5-2ae6180742a4'\n 'nyt://article/fe525f41-1da5-5589-9046-42473aff58f3'\n 'nyt://article/3b58cd58-7e8b-5486-b206-e393606b5d44'\n 'nyt://video/6086acbc-4064-58b1-83fd-817893a5132b'\n 'nyt://article/eea33c70-1ed3-57df-afcb-fa9af1f3951b'\n 'nyt://interactive/57c64916-32b9-5f20-bf9d-2967dec6ac6b'\n 'nyt://article/8245d743-509a-59b8-9910-708f486a2c30'\n 'nyt://article/edf355e5-8384-5cba-83aa-93cd467890fd'\n 'nyt://article/c351d677-8340-5d48-80cd-3a5be8340a64'\n 'nyt://article/96206d69-69d6-5317-af46-a5a9fdb72150'\n 'nyt://article/5c0392be-75ba-5813-879d-6f86ace56375'\n 'nyt://article/0d01aad5-ea6c-5dcc-abe4-48533fa4677f'\n 'nyt://article/2e7ba2ba-795b-508f-b59e-1099b0fcf46e'\n 'nyt://interactive/829fe180-17db-5b86-923f-6dfa69c4af82'\n 'nyt://article/6251e76b-f6d7-5165-be3a-a5cff3d96a92'\n 'nyt://article/a9e6b231-8ec9-586a-8781-d226b6268173'\n 'nyt://article/0c8045e8-fb03-5d4f-8a0b-7c922568dd75'\n 'nyt://article/bff7df7f-0b3f-5214-8849-2099887c5def'\n 'nyt://article/a7caa1f1-4daa-5113-9caf-799c7bab8e49'\n 'nyt://article/0a09f60c-ef1d-5212-82bd-de0be272e957'\n 'nyt://article/c2e5045b-1af0-538b-8825-ef3c57c62800'\n 'nyt://article/7984a7f6-5598-58df-8fb4-97aa8b466f29'\n 'nyt://article/2fd93fc9-c86c-5be4-8964-fd0393e2cda0'\n 'nyt://article/358c75b0-0c59-53e5-b607-b0032fcfcbb2'\n 'nyt://article/7e22861f-9647-5e48-b240-44322804cd2e'\n 'nyt://article/dad7c654-94db-5655-b8c1-a68e75a6cc2e'\n 'nyt://article/e93c97f5-a7fa-585b-bd6e-e52e9a0fb95b'\n 'nyt://article/5f204ab2-d0fe-5e99-a2bc-f40b890209ad'\n 'nyt://article/5688aec9-3a08-55a8-8ff0-ae708d6fe822'\n 'nyt://article/fc62f9d9-6c42-5aea-9574-d3b9417a750e'\n 'nyt://article/126749b9-bf49-5d0a-a6c0-6249fa3c7128'\n 'nyt://article/3a55eaae-07d4-5415-904e-a534c2175c28'\n 'nyt://article/fa81938b-9ccc-5487-8862-41f0021fec6b'\n 'nyt://article/d75ff958-b4a3-5fcf-8dad-444955d7f1d6'\n 'nyt://article/e803c063-37e7-5147-ae04-db6a9a80d1c7'\n 'nyt://article/55ea17e1-8716-5edd-a9e2-127c57d247a1'\n 'nyt://article/18a50df8-b729-5717-9a6e-81405060238a'\n 'nyt://article/5d0e2579-f20e-5f2c-a308-ef418d56725c'\n 'nyt://article/5b5a1072-8418-5d9e-84ed-dc21e8a905b9'\n 'nyt://interactive/1b25607b-e956-5837-aa96-1dfaceef41cb'\n 'nyt://article/955d092d-9550-54c1-83e3-a7f8a2318277'\n 'nyt://article/5bb11ca5-fd20-5314-833f-bba403da65dc'\n 'nyt://article/d48f9bae-cf88-571c-8895-9b81bc5e4877'\n 'nyt://article/ae5f553a-b799-52e5-b6a9-4fdc7f0aaaa7'\n 'nyt://article/4e1fa577-9816-597c-b90a-e84cc542222b'\n 'nyt://article/d6079c5b-1bf1-59fa-bede-9134dc5e66d2'\n 'nyt://article/1dc07fc3-bded-5645-8ac1-0f6f19bcf2a3'\n 'nyt://article/8042e8d0-832c-533a-80bc-e08b57edc8c8'\n 'nyt://article/dd723a84-c83d-56c7-99df-395b4e375a0d'\n 'nyt://interactive/eeaaaf83-dc38-5d4e-af56-adc327f7e192'\n 'nyt://article/0abb297d-4866-5f19-96a0-d89c7bd9fc95'\n 'nyt://article/86a5c6d5-b455-5640-84eb-0534f9b93a2c'\n 'nyt://article/9ae560e7-77fc-5cb7-a707-2d064fbb4fca'\n 'nyt://article/22794577-0ad3-58af-ab36-0c51fa34ee1b'\n 'nyt://article/7fca1fba-2c72-5e75-bc0d-e7c64a52e9d9'\n 'nyt://article/2c238067-4388-5090-ba7c-dd795e863fc4'\n 'nyt://article/b03c62ac-f784-58ca-9b1e-39a05d468435'\n 'nyt://article/be5e3a34-005f-5927-85d2-7dc59e129833'\n 'nyt://article/45566146-b52a-5981-bcd4-b5199d40a4f0'\n 'nyt://article/2001af2e-25a2-5071-bfbc-8741a8c8ad0d'\n 'nyt://article/57b7a88d-1a34-54a8-8309-337e294ede0c'\n 'nyt://article/62b5c28b-d88f-5819-b331-467ea9e8df3f'\n 'nyt://article/493055ec-79a0-5e68-ad53-1422d2bd38e5'\n 'nyt://article/87978c30-1ba9-506b-a88e-9bfe7a603af0'\n 'nyt://article/37562f37-a382-557e-ad34-63cb494b297f'\n 'nyt://video/dfd26198-8d1a-5d0c-8fb3-3527351f7451'\n 'nyt://article/6abb5122-0174-5acb-a1c3-6e20ed64d572'\n 'nyt://article/f11b1940-c8fc-5308-a776-45a262f145c0'\n 'nyt://article/01efa51f-87f2-5b0e-8860-5c84fc9c5696'\n 'nyt://article/7433f25d-441f-5f98-8885-996f8a722122'\n 'nyt://article/3d43d754-358d-5e87-9c24-e67d0ea1a749'\n 'nyt://article/fc263f3d-84db-57ab-8c41-870200b9f027'\n 'nyt://article/70dfdfcf-60ea-5123-8330-b007da93d27c'\n 'nyt://article/44eb9c16-190d-50b5-a302-c3cf70644197'\n 'nyt://article/1c32da14-b0c3-5078-9d0b-8731b9844c91'\n 'nyt://article/c58217a8-1526-580d-850e-311bc239b221'\n 'nyt://article/3f8a8d14-9268-5075-80ca-65125222a344'\n 'nyt://article/35b0d468-3834-5744-9480-d2c3e2d040d0'\n 'nyt://article/8a0119ee-51a1-5d35-9ecc-dd86000e1ffb'\n 'nyt://article/41386abc-b9eb-5d11-b771-ad62c0e20bb6'\n 'nyt://article/5508874c-34a2-5109-b198-6bad2832cbc3'\n 'nyt://article/92fb2714-3363-5b74-80fd-dfd1eb50ee1c'\n 'nyt://article/265ff642-3005-59e7-9ee0-321c33ec1fa2'\n 'nyt://article/a4127944-28b1-5846-9d14-6b8f64760a8f'\n 'nyt://video/7eb9ebfd-30ce-586f-9c36-1b621180c9fe'\n 'nyt://article/eb03cba3-a5b4-5a7f-89de-2f12374d731a'\n 'nyt://article/5bec36b9-4885-5e91-b409-16b2d765a5ff'\n 'nyt://article/c3f5f754-5af5-55f3-8adb-40d2deab5832'\n 'nyt://article/83b0b9ae-8b81-5df0-8f17-55058f3b9d2b'\n 'nyt://article/f8b17e1d-10e9-5d85-888b-30ed1695328f'\n 'nyt://video/70abb9da-176b-5ac6-8fb1-f5c3d7487611'\n 'nyt://article/c8dc2ea7-7819-5555-96eb-270009dd2618'\n 'nyt://article/68918c70-02c9-5b6e-9daa-cbb70a7a12bb'\n 'nyt://article/5b19ea1c-d7bc-581c-aab5-ca54ab86dc39'\n 'nyt://article/c2462a95-536c-5d3c-ab69-6dfa20287c39'\n 'nyt://article/7bb47b37-5972-525c-896b-9d489086281a'\n 'nyt://article/717856df-c16d-593c-bfa8-2ca43320ac46'\n 'nyt://article/ec8d1f19-57f9-5b76-a13f-78ffc5ee709a'\n 'nyt://article/46316575-2b9e-5809-9112-9cb754999ee9'\n 'nyt://article/e88edf14-c38d-5312-a774-bf8b837acd7c'\n 'nyt://article/0c1ee414-bcf2-5602-bba6-f19c0b83c5fb'\n 'nyt://article/7911dbdd-0064-50fd-a055-adf569c95326'\n 'nyt://article/d56599cf-e8c5-5bce-a16c-0f9c97ea59f2'\n 'nyt://article/5bca1f35-4fd5-51a5-ab0d-0666afa502c9'\n 'nyt://article/1de61a4d-c601-5a0a-a002-5262344bafc6'\n 'nyt://article/3afd60ff-6507-543d-933e-dce9074d71c7'\n 'nyt://article/c89ab3c6-899a-59e8-a0df-904b7e860c4d'\n 'nyt://article/0f2fc49c-ef64-5652-be3f-e11b036b1f1d'\n 'nyt://article/74240af3-2df6-5176-9db8-6f1115a1b3c4'\n 'nyt://article/52e100bc-a875-5462-ad8b-ee2ba2c63901'\n 'nyt://article/355dd054-6ba0-5b53-b2c0-f4801ca5d3f5'\n 'nyt://article/2eb2a748-04ef-56c8-9736-e6ca24bdd202'\n 'nyt://article/052f4b9a-486c-5288-bf2f-a804c85a8277'\n 'nyt://article/44b58d5b-f195-5b8c-b2a9-8984cb427320'\n 'nyt://article/add8fef4-46f3-5d5f-b27d-76fd525a8bc5'\n 'nyt://article/f87c6cf8-3035-5e9c-8551-e323dbe8ba95'\n 'nyt://article/4bbd5921-8c25-5850-a45d-586aa9624566'\n 'nyt://article/2838ef2e-5110-5edf-a5e3-d9c4615d2789'\n 'nyt://article/22195f37-f6e6-500d-a43f-da87c639e20d'\n 'nyt://article/da4b2ad2-41e1-52e7-aa72-0c5a331e7a42'\n 'nyt://video/186590e2-b1ed-5593-bb42-9022a14bfe39'\n 'nyt://article/437f2cdb-67a9-5919-938d-56a2bc2eb3d7'\n 'nyt://article/9e0a4ddd-952e-593f-9631-ab8313b397c5'\n 'nyt://article/afa03053-f0bb-5d36-939f-d7282766bb98'\n 'nyt://article/f77e9f54-e9c1-5c3b-bf11-ea1796acff04'\n 'nyt://article/8fc612c8-1e74-50c8-baf4-52eac0acc7d6'\n 'nyt://article/bab2aeb5-2d56-5a5e-bb8f-6e95dbaadfcd'\n 'nyt://interactive/7e039b33-fefe-5b7e-8990-247e04e96641'\n 'nyt://article/b4112b34-9789-546f-91d5-e4b1134485e2'\n 'nyt://video/9d31ce3e-6960-5cf6-9421-36f90dcb4742'\n 'nyt://article/964ef7b6-3b82-5485-84e0-58b344761b55'\n 'nyt://article/66388a14-b5c7-5554-be08-9ddf26657f0b'\n 'nyt://article/2716039d-babc-5be1-87f1-7b4a1af22143'\n 'nyt://article/54ee4b03-c91b-5907-8b81-c2ee891f3b71'\n 'nyt://article/1c43d4a6-8795-56aa-aa0a-7fba5072ee4c'\n 'nyt://article/3e4a3909-b803-5a92-8a68-3bcd8dcd546e'\n 'nyt://article/6d8bf95e-ce11-527e-9228-8171449ffd94'\n 'nyt://article/7128f6f5-d51f-5d3c-9130-b42f610f6327'\n 'nyt://article/73b8758b-91fa-50c8-b527-928c934dd462'\n 'nyt://article/9e8bddb1-6f5e-5a8e-9352-7ceeda31330e'\n 'nyt://article/ef8ac081-20af-59fd-8458-41d23fd3bd29'\n 'nyt://article/56f13353-d4ba-5f46-9a00-a819b7315533'\n 'nyt://article/337d84a7-dcdb-5bc2-abec-6b522828faf9'\n 'nyt://article/7586f805-13a3-5ca5-96fc-97fbcb4117e4'\n 'nyt://article/01eff0e7-70e2-54d5-9ce3-b8d47e0f993b'\n 'nyt://article/60dc2a00-29a2-54dc-8cb4-3df001c4a761'\n 'nyt://article/cbdadd80-09db-51c2-9714-325f313b3fb0'\n 'nyt://article/3ac0eea6-b6e3-5224-b4c2-850d3bf1119e'\n 'nyt://article/6f772eaf-caba-56f2-92c7-361b77eac727'\n 'nyt://article/68e344c7-18af-549a-91c6-aaf1f2d49f34'\n 'nyt://article/e8518bc6-5349-5d98-b092-2c608d07500e'\n 'nyt://article/c90d9b61-1da3-5612-8f25-e0bc859986ca'\n 'nyt://article/70168bd5-4ee0-5af6-b848-49cd5220835a'\n 'nyt://video/eef9bf85-af90-519f-8f20-c07ae6a445aa'\n 'nyt://article/a44d435c-c405-592d-8da1-51897222c385'\n 'nyt://article/e33c6eeb-241a-5e79-9d6e-21217da18f0a'\n 'nyt://article/67396146-fea8-55ec-ac13-a66d473e5afd'\n 'nyt://article/2df9db07-6859-5bf1-9d9f-0aa0424bfc33'\n 'nyt://article/ffafd09d-dd28-55a0-9225-cf00e3982268'\n 'nyt://article/12832daf-ad95-59a6-9a88-283fc7065047'\n 'nyt://article/ef86898d-cfd0-5b2a-89a1-e8a5b4945b93'\n 'nyt://article/d698c9a9-57ef-5ea0-b570-096e06edbd7e'\n 'nyt://article/b90ed08a-d9a4-53d0-808a-b6cd1ab2b822'\n 'nyt://article/0b82cf3a-9b39-598b-a087-c5692ea811a5'\n 'nyt://article/7779e2ce-7fda-5583-8cb8-5db68e1b122a'\n 'nyt://article/32b16d2c-2b9f-5a0a-ad64-946ff002a3e5'\n 'nyt://article/32aa7839-04d3-5bbb-a2ad-36b6182ebe67'\n 'nyt://article/f7517625-aab8-50d9-9985-1bd7af9a4948'\n 'nyt://article/5b20b093-4131-5ae7-a8d3-d089dee21075'\n 'nyt://article/0c43205b-1a61-5d6e-9c2b-08197d6effa3'\n 'nyt://article/4453d54c-54be-56a0-97b7-d89c26163179'\n 'nyt://article/2f63f2ff-8652-5239-b907-6cd066a1dd5f'\n 'nyt://article/377cc03c-a49e-5f95-9773-25c052228a14'\n 'nyt://article/ee4c81e3-64f0-568a-91ec-1f8e1413fe4c'\n 'nyt://article/a16dacc4-4aac-5a30-b319-39b523fde8ae'\n 'nyt://article/4983a8aa-c4b2-5ce6-a7bc-b80e4acf4d11'\n 'nyt://article/c45c4a9b-0762-5074-99e6-970a588d49d4'\n 'nyt://article/cae42de1-8c36-5f80-8ff7-8374be03f086'\n 'nyt://article/ccb58600-d398-562b-b089-1b5f6f0bc385'\n 'nyt://interactive/f1e7e3e3-764e-5c24-983c-71e0f55dc668'\n 'nyt://article/f7160c9e-efd6-505e-858b-00223f7205a1'\n 'nyt://article/585ee825-92c0-563c-b816-eac6df5c5e40'\n 'nyt://interactive/7905bb7c-1eff-5f94-ba9d-8141e07f5dc3'\n 'nyt://article/c153890b-cad5-5067-a895-e98c424ed4b2'\n 'nyt://article/5d961926-f0e3-585a-a293-bbad0c19c18d'\n 'nyt://article/992d3da4-36d1-5e6e-abe6-c6ec70685124'\n 'nyt://article/12019d4e-3e7e-5775-a805-0affbffdc848'\n 'nyt://article/72f3ea5c-7a3e-59c3-92ac-96cbc0538eb0'\n 'nyt://article/cf25175e-7eff-5387-a3b7-002507641933'\n 'nyt://article/dc42f977-b932-5d67-89f1-36047968a91e'\n 'nyt://article/7f1e6bfe-03c1-5477-8bd4-8ef21fcee505'\n 'nyt://article/55947215-6262-5627-9b1e-c4532045bc5c'\n 'nyt://article/492e6f61-19be-5f9a-a805-3be1cbb92283'\n 'nyt://article/24deafcf-03ed-5049-89f0-62cd51445a7d'\n 'nyt://article/7bf627f7-422c-5d65-943c-df45b18cc0a6'\n 'nyt://article/e679198a-4ce1-5a04-8fd5-b79c160a81c1'\n 'nyt://article/0a480340-4b68-516c-a579-4b04a59cc712'\n 'nyt://article/dde7977e-4943-533a-8a9c-08a8b9211b21'\n 'nyt://article/d0f7a741-4529-579f-863f-d2a96f93fd43'\n 'nyt://article/3b008127-def6-5070-b537-14ef12c6afc7'\n 'nyt://article/b2876d8c-3329-59d3-833f-8fef2247ce9c'\n 'nyt://article/367f8cf0-3065-5069-b6e0-098e99a72493'\n 'nyt://article/b279c98f-31fa-5374-85c6-610816663c2b'\n 'nyt://article/c0d660d7-8864-53d0-8c6f-180a07c3747a'\n 'nyt://article/c68ecc07-2270-5f71-a522-f24b516a38a8'\n 'nyt://article/c7ffc361-de5b-5b6b-a15d-a4c096a5eef5'\n 'nyt://article/796222fb-08ad-5464-b6d9-d7e4fdaa9d89'\n 'nyt://article/8047e509-c152-59c2-98f8-78e636657247'\n 'nyt://article/19196e88-6af1-5f28-8dd9-7ea1939f3728'\n 'nyt://interactive/c35f7745-acc3-5b46-bf82-e38745efa23b'\n 'nyt://article/409cd45a-4958-55e8-bdee-7562e5635af7'\n 'nyt://article/76324cab-4854-5898-8834-4ab463359576'\n 'nyt://article/52e0933c-80a8-5102-9ecc-be705102790d'\n 'nyt://article/30f709f6-6ab4-51de-96bd-3aca03a2e389'\n 'nyt://article/792e5eb7-7a4b-562a-b53b-e509f1fdf5d5'\n 'nyt://article/d6ee7d63-de00-50a9-83ac-7a087056a493'\n 'nyt://article/50b3ee5f-2587-59b7-bb5d-26ba02a1a034'\n 'nyt://article/77cefaa4-5d52-55ec-80e6-0e2135c59a76'\n 'nyt://article/7fad21e3-1a93-5ec0-a094-c77dace828b5'\n 'nyt://article/be8063c2-b2db-5478-aa06-0639fe50d8e3'\n 'nyt://article/e63a3b7b-0662-5bca-95f9-54ba4160fc65'\n 'nyt://article/9f7588ca-4f94-5a9f-9c31-ffc7bff7bd74'\n 'nyt://article/6fde3039-80fc-53a1-9b9d-600b5a92d0a4'\n 'nyt://article/65b531c1-c0b6-5f6d-b127-4aa9e3560e04'\n 'nyt://article/bc50a216-b3a4-57f3-b684-8a3e2cf2a117'\n 'nyt://article/a8a5f5f0-3eea-517e-a8eb-730a2106d500'\n 'nyt://article/78b41cbc-f223-5a44-890c-7c30dc11ddb8'\n 'nyt://article/67a39629-1546-52fd-bd1f-4224ded6cf04'\n 'nyt://article/896b4d50-bb2a-56d1-844e-0499bd1da77a'\n 'nyt://article/db09c2c3-4748-528b-8cff-7fde0c9b6a01'\n 'nyt://article/d3c69b8e-2e28-5be0-9003-b01c855c4ee6'\n 'nyt://article/ae996f69-543d-5191-b94c-6fc7006f70ae'\n 'nyt://article/dfe91fcd-6d91-5e1d-bd44-da98273f95da'\n 'nyt://article/6796cd98-4d4a-5f3f-9cdc-6e2d212ebc1e'\n 'nyt://article/e963fbbd-6350-54e2-a324-7734b4ff3a97'\n 'nyt://article/e6076a10-2c09-5bd5-8163-a2cc920a853b'\n 'nyt://article/456fa6f8-1e7a-596b-b6ea-f28a915af398'\n 'nyt://article/cd4cd12f-e5d6-5d01-871b-6fdee40f6888'\n 'nyt://article/de0050c0-dceb-5961-b4d3-59db3059d1c5'\n 'nyt://article/ca330bd5-ea30-5f38-ae4b-f12ce5d0aa09'\n 'nyt://article/8f7b06db-35af-55c4-bc57-6681d78bb7ca'\n 'nyt://article/e1fea4d9-34f7-5a68-87e0-38f86e7f7d95'\n 'nyt://article/17107330-e88c-5244-8c82-c04a16958e26'\n 'nyt://article/3b44f3c1-afc3-5457-bc94-cc10342b4977'\n 'nyt://article/a18aeb27-d137-544d-a823-d1b98de2f274'\n 'nyt://article/95261d24-b0c1-5796-be31-1653f2f2b5d9'\n 'nyt://article/a779476e-0435-5492-b1bf-8679cb68f160'\n 'nyt://article/619323da-6e18-5513-b33a-f0edf7b426ff'\n 'nyt://article/d335b023-af82-5685-acdb-ec9e7c6255c0'\n 'nyt://article/1dedd9a8-8e09-5a3d-add8-2dc8618ff120'\n 'nyt://article/bd0e08ef-6ba2-5944-ae6e-ddb0ac3587ae'\n 'nyt://article/36533f3b-6e17-5087-937b-1f18ae3d1c9c'\n 'nyt://article/e053f127-0ab1-56c8-bbb3-27b9c3f4cd64'\n 'nyt://article/e49a7794-a44d-5f63-b28c-2da5f5c73e01'\n 'nyt://article/ebc865a1-0ddb-5912-967d-801df913aafe'\n 'nyt://article/9e236174-e009-5dde-acaf-d9905c614bb9'\n 'nyt://article/4fc0468c-371e-50d9-88b5-5b37030452ba'\n 'nyt://article/d79ebd44-6671-5e03-b3a2-5ce0c20425f3'\n 'nyt://article/2058c1de-e0bc-5f02-a7be-ea26581e9ec9'\n 'nyt://article/3a97ddd5-71dc-576a-8d1b-0d8dc94d11bb'\n 'nyt://article/b36195c0-6cd1-5efd-aaf9-398b1ec19d68'\n 'nyt://article/0ef9ab90-55f9-5ebc-aab9-882545e260fe'\n 'nyt://article/dcd1b372-2f04-51f8-8489-1e05ab6f44b0'\n 'nyt://article/c57b5a1c-5a13-516d-96f5-00f0965b24b7'\n 'nyt://article/b1e6f0f7-e887-54e6-8ff8-1656a9c01d34'\n 'nyt://article/3af36633-3eb9-5d09-8929-d1ebad949ee7'\n 'nyt://article/1726aea6-ff56-50f6-8601-716e7fc73314'\n 'nyt://article/31480288-68c0-5fef-8557-34dd1d6f33ae'\n 'nyt://article/e89577ee-8eec-5212-bf12-8de2a9767faa'\n 'nyt://article/55c095f4-c03c-5ee6-97b1-1556d4805638'\n 'nyt://article/1c7abe01-45f1-5124-b9ea-d2acf79aac88'\n 'nyt://article/e4bcee43-a2aa-50e7-a6d2-e50b7cb9e5cc'\n 'nyt://article/3006de72-f206-52ec-99d4-3e867954085f'\n 'nyt://article/9a2cbcb9-41e4-5bfc-b5f2-3638d0ee7ae1'\n 'nyt://article/23c6f44e-6adf-57ca-9a41-bf0fb6267d7d'\n 'nyt://article/0d23d10b-669e-53ed-95df-632a63e7a20a'\n 'nyt://article/7ff497cc-fa85-5233-bc64-6ca50804ebae'\n 'nyt://article/91ad18ec-9723-5fa0-9e32-51a63ed63bc9'\n 'nyt://article/d5bf72f8-d6ab-5cb4-8b02-6e76431f2b32'\n 'nyt://article/855d5c2b-4ae7-5c0d-bccb-b88034d2c829'\n 'nyt://article/17141aaa-e661-5933-b9b7-455a3ebb4d6f'\n 'nyt://article/bf318f14-3552-5794-bd8d-4dca78dd878e'\n 'nyt://article/a2dcd416-d4d6-501b-af93-06cf3abb09c6'\n 'nyt://article/ba53e8c8-c3bd-55e2-ad2e-574b49053e8f'\n 'nyt://interactive/c3fd80e1-df98-5e2f-a048-7e86d8c15ff7'\n 'nyt://article/fc9badb5-3b93-517a-bfcd-f81e203096d2'\n 'nyt://article/6a3a8e6e-beb0-544e-95ee-a1ca20a5434d'\n 'nyt://article/9845cd56-2ca3-58e4-af33-dbcf3a7dbd28'\n 'nyt://article/8f52f191-9f67-5a07-96c3-361b734b92f4'\n 'nyt://article/8eb38d61-4236-5468-a1b5-446b29006ee6'\n 'nyt://article/096f8adc-01f2-5d69-9696-94071aaec75e'\n 'nyt://article/c7f81e4b-d814-5fde-a6f9-78b190f0b9fd'\n 'nyt://article/0ab17d39-9c2e-5523-8f5d-1c41c098e5a5'\n 'nyt://interactive/fd1eaad8-828c-5026-bc5b-2a4ce255a2d2'\n 'nyt://article/902214e8-e980-5942-b0f2-25e91e8c4e2b'\n 'nyt://article/caf2171e-6951-5bc5-9262-ce9e1494d974'\n 'nyt://article/d4c029d0-8f62-5114-8224-628335cdda14'\n 'nyt://article/db14c385-c037-5cf1-88b0-70b6dbff73de'\n 'nyt://article/6fc190e0-f0cf-51ff-9796-098f7206de04'\n 'nyt://article/3db7480c-c235-57fc-89cb-8e3a1d571f49'\n 'nyt://article/1c5b2fa8-c3fe-586f-a5a7-a4ee0618f615'\n 'nyt://article/238bd67c-2067-5c45-9417-f33b3ae91ef5'\n 'nyt://article/42552819-9c91-57a7-bce8-d7c31c92a15a'\n 'nyt://article/43f44ad1-4752-588f-b501-49429d38a602'\n 'nyt://article/fbf5cd70-acc4-576f-992d-0022122102ea'\n 'nyt://article/4f1eb6b8-a577-54fe-83f5-1f3d68dc0c31'\n 'nyt://article/e94f8dcf-a47d-524d-8602-01d7e5e76f0b'\n 'nyt://article/a1a8adb2-abf7-5f7b-90c9-5e54a583e646'\n 'nyt://article/dac476c4-b17b-53ae-94f6-f4b8c16634b0'\n 'nyt://article/8595d87b-0838-527e-9174-5732a77bdc32'\n 'nyt://interactive/e5df40b1-3f07-5050-bfeb-fcda5ce0375b'\n 'nyt://article/448dcf3a-5426-5233-9520-4703f4753d99'\n 'nyt://article/e87b7cb6-e30c-57d7-b622-460fadc0dee3'\n 'nyt://article/06e89f35-3c1c-5b23-9d3a-6174fc969223'\n 'nyt://article/f942384d-19f1-5c96-ac74-fd65e4d8b60d'\n 'nyt://article/8bba9160-7efe-5c2c-accb-53b0cdeec476'\n 'nyt://article/92faf39e-197f-5e9f-8c84-849ebe50ce34'\n 'nyt://article/1002ae3d-30ab-5703-b3c8-e155ceb71cf5'\n 'nyt://article/aeef4078-d089-56f4-8dfb-fc0ec3abfaab'\n 'nyt://article/1a9fc2ef-82d7-574a-b79f-9ab549d1bb9a'\n 'nyt://article/1b1483c8-836e-509a-9ca7-7157228f6968'\n 'nyt://article/5907772b-12ae-5bc2-82b3-9159f386f11d'\n 'nyt://article/11613477-84de-5480-8b0d-51a05757c40d'\n 'nyt://article/5503e635-e7f1-5b44-809d-edada3be9182'\n 'nyt://article/a77ac7b7-4765-529f-bd59-16c947ac8a57'\n 'nyt://article/2ee0128a-3e6a-5627-901f-958ce5e0e943']"
        ],
        [
         "15",
         "United States",
         "United States",
         "1760",
         "['nyt://article/39a6950a-15db-59d2-baaf-f0d9509b2fa1'\n 'nyt://article/3ea7759f-1fa3-52db-b2ae-b0aab1991bd8'\n 'nyt://article/d3122495-1e8c-5bd4-a5ee-b694284f44c5' ...\n 'nyt://video/f578a2f0-5ebb-5fd9-b881-593d4251a388'\n 'nyt://article/24ccc50f-f6c6-56c0-a9ff-400a72d486ab'\n 'nyt://article/c88482cb-671c-578e-b9e7-f0410f4e49d7']"
        ],
        [
         "16",
         "Egypt",
         "Egypt",
         "118",
         "['nyt://article/cdd22020-ad15-54a4-9a31-9b1ac7387612'\n 'nyt://article/d263a17d-1635-5819-a370-2ef0831c48f5'\n 'nyt://article/83adc02e-c4db-5529-854f-6c77b81d89ac'\n 'nyt://article/c4221fed-1d0f-5671-98ae-47d42f5e3bf8'\n 'nyt://article/a93bcea8-fd4e-578a-b78f-4a30bd1de29c'\n 'nyt://article/b2b37b59-ed75-53c5-92cb-6577f841e0f6'\n 'nyt://article/d6f67917-c518-5972-8f14-b4cf6293ca5c'\n 'nyt://article/3864853d-652f-5a9b-ba19-2d379778f7b9'\n 'nyt://article/cf9acb06-32b2-5610-a23b-bd9e480c8147'\n 'nyt://article/32aec128-0e6d-5eff-bdf6-8252c8fce666'\n 'nyt://article/17c16f0c-102d-5742-a7b7-54417909075f'\n 'nyt://article/8d868b72-4b19-5c28-9b62-2fe1790e452a'\n 'nyt://article/90d463b9-4768-52f5-a8f7-d81a974c3a71'\n 'nyt://article/413cfe05-fd15-541b-9908-85825e9cdcd4'\n 'nyt://article/02758a74-6bf6-5736-851f-08db33ee37cf'\n 'nyt://article/1104a490-62b7-507a-9fab-1783f67a7d95'\n 'nyt://article/2a583035-78ef-5958-9ce6-5ff1e2dfb9ab'\n 'nyt://article/14edfe5c-a106-51f5-ada1-43661c982a7c'\n 'nyt://article/bcb169cd-86e7-5c10-9eb5-0d564bff1e9a'\n 'nyt://article/26babf67-9025-5301-be65-1357ee43dc8a'\n 'nyt://article/79916a15-0c96-5eb3-88e5-9c174d2bb4a3'\n 'nyt://article/29bd529f-432a-5717-ad45-fe2ff4789bfe'\n 'nyt://article/ab0c6411-01dc-576e-ba80-5dfad685d591'\n 'nyt://article/6417a890-156f-5aa4-b07e-70b6ed0471f3'\n 'nyt://article/e4887fd9-9785-5de0-a0f2-7b9e842d921c'\n 'nyt://article/c51e262a-a798-5728-a0df-34b477d49c43'\n 'nyt://article/ad19a82b-ad8d-55ce-9738-7f41678f40d6'\n 'nyt://article/887d4c41-8315-5527-aaaa-03f1abdac8ba'\n 'nyt://article/87da2a34-0094-5073-ba3f-cd376ef08569'\n 'nyt://article/d9ff806f-e678-5a78-ae14-5eb897460f68'\n 'nyt://article/6938a96c-7803-52cf-875f-00a6ff8b44cd'\n 'nyt://article/f3f1813b-65ca-54cd-830a-4c43c7e0f387'\n 'nyt://article/c4c0a729-63fb-595a-bf85-8269e35cc2f9'\n 'nyt://article/cd9c4de1-d533-590f-b51e-cac3e79fd245'\n 'nyt://article/5ae12ac4-bf6c-51fb-8e67-9de85c51edb7'\n 'nyt://article/b7d49e76-be27-55bb-81e4-10e7b4fca716'\n 'nyt://article/fc3bffb4-4812-5432-9786-dbe43b7a4112'\n 'nyt://article/a862b096-f15c-50de-af0e-6fcd5efc160f'\n 'nyt://article/98a65872-ca9c-53d3-b35c-85a212f19919'\n 'nyt://article/248d82e0-1cf7-5973-ad27-748d9b4432c3'\n 'nyt://article/851f707d-7823-58c5-b872-6b07dd8b6979'\n 'nyt://article/d62815dc-21b8-5206-91e3-b42abcbe42f4'\n 'nyt://article/6288cfd6-df60-5666-bf61-790e44baae33'\n 'nyt://article/47ac65be-e04a-596c-ad73-46797464ed97'\n 'nyt://article/13dbc680-21fb-5f28-bccc-bd63e9aa91f6'\n 'nyt://article/441f388e-7b1e-5c35-ad85-2258b3f85b4f'\n 'nyt://article/28a5293a-4c85-5eab-ba54-8a80e077b5ef'\n 'nyt://article/c8827826-bfe1-5bb2-8d67-3c8d74dcaeb8'\n 'nyt://article/5f3da01e-323c-5b51-a9b4-1e366ca4387d'\n 'nyt://article/ecd5a3ff-3f2e-55bd-8e79-ebeeb48e863f'\n 'nyt://article/e9c89d4d-4ee8-541c-a781-9d97668283c9'\n 'nyt://article/f59d3c82-7f3e-5e96-a30f-c390d7182b15'\n 'nyt://article/29a5b8b2-1ee9-578c-834c-2ff55051e978'\n 'nyt://article/8d8be90a-2008-5a8d-ade1-25a27c112721'\n 'nyt://article/56b947b9-e801-5e58-b189-dca2844322a2'\n 'nyt://article/111c7166-14ae-5d39-a6f9-e518d69454ae'\n 'nyt://article/026ecb49-8d33-55d5-8d3a-010109931560'\n 'nyt://article/38560535-d6cd-5623-beca-ddd8a10e53c7'\n 'nyt://article/ff213a11-3741-5ef0-9698-645614ecf922'\n 'nyt://article/ae00d20f-7418-52cb-849e-865da554eeb4'\n 'nyt://article/c3141405-88f8-5720-987c-0dd380fef417'\n 'nyt://article/138f9d16-9f61-587a-8b71-5b07fb991483'\n 'nyt://article/c74eda98-3a7f-55d1-9345-e964cfc7c17d'\n 'nyt://article/5d8ccb05-c945-5b90-9250-74ca8e5d0404'\n 'nyt://article/88dd78c5-2a20-5150-b33a-85adb9644da7'\n 'nyt://article/d3a49b56-2872-5a4f-ad65-3d4914c84cbb'\n 'nyt://article/9fa8ffd3-dfa7-5913-a39e-443256518d03'\n 'nyt://article/4711a416-bea9-593c-918c-75a0dad2fdb6'\n 'nyt://article/02d75142-ded0-577b-bbbb-d06bbb1a78c7'\n 'nyt://article/390993b1-1fca-5f22-824f-f5cabbc45adc'\n 'nyt://article/097e0426-9b45-5ab3-8bc1-1acd56f093b6'\n 'nyt://article/e547cc1c-9613-5708-904e-463500780a4a'\n 'nyt://article/ae0ed54b-64ff-5c75-895b-f088391caad9'\n 'nyt://article/b97fe3b4-66ba-502e-8bbe-ac0814670128'\n 'nyt://article/bb48117b-f852-59d4-8745-45a677cadb75'\n 'nyt://video/0c29c4a9-524c-58e2-8674-dac22bc7e644'\n 'nyt://article/c61daa01-fe5e-5fc7-9260-12e2889a4fee'\n 'nyt://article/cefdce36-8b34-5d52-a298-baa147698705'\n 'nyt://article/186de6c1-12ae-5554-be38-6f472ea40a25'\n 'nyt://article/c01ed589-6cf2-5021-a8a6-21e520526c03'\n 'nyt://article/78501ccc-3c18-5534-94f1-8e550dde4394'\n 'nyt://article/c535cea4-53ec-5604-9ff9-1cc3bf7d306c'\n 'nyt://article/182bda75-2e80-5263-9b67-1fa1fd1e6006'\n 'nyt://article/75a6b57d-c8f0-5902-bc26-bdc47ffe65de'\n 'nyt://article/ed761d0b-0332-536d-9177-f8f68aa464e4'\n 'nyt://article/20d7dbb7-f5ec-5c3c-809b-fd9dc562e471'\n 'nyt://article/300467ff-fe91-5a7e-820c-3b103ccaed8b'\n 'nyt://article/24214b22-83af-59e2-a791-be0818aa4689'\n 'nyt://article/5867fa37-1a58-5825-904b-3db3069e3672'\n 'nyt://article/83e34235-a64d-59e1-adf5-8d4bbf3316a3'\n 'nyt://article/ad3924aa-edf2-5727-aed6-999e1807d4fa'\n 'nyt://article/e905429f-2e69-53b3-8e5d-53024fe1d9c5'\n 'nyt://article/fa930aa8-13a7-51be-bd3d-99f1f4272270'\n 'nyt://video/da7905ab-3e86-58fd-95af-cd7911cc889e'\n 'nyt://article/e20c8f01-48d7-5fc1-b113-bfc8ba593c33'\n 'nyt://article/dd753efa-5a17-5a84-b708-b18aeec3bb73'\n 'nyt://article/6d68076b-0328-5d72-af8d-5c0fd54a4f56'\n 'nyt://article/917bd0f6-3104-5900-a1ca-e085c5cf089f'\n 'nyt://article/9988d93c-41f0-5bef-afe8-aac57c1e9e8d'\n 'nyt://article/6e8ffdc2-213b-541d-8f84-1a092cb8ff03'\n 'nyt://article/6b4b4be2-9a0d-5344-ac56-f64615f0d66a'\n 'nyt://article/fa66e64a-4039-554c-9474-42d5d7a58e83'\n 'nyt://article/05c673e9-c6d2-5b6e-8428-23d9e17e53b6'\n 'nyt://article/b2639602-2f1f-5f82-96e3-0e9c7a28b488'\n 'nyt://article/e1925331-8080-5754-b2a4-753f45230bbe'\n 'nyt://article/6c127406-cb2f-5be0-b128-2c8dbe296116'\n 'nyt://article/9b876cb2-1f0a-54cd-8b0e-81f458c15f41'\n 'nyt://article/2c5fdde3-c1ae-57fc-81ed-55bb31f65d10'\n 'nyt://article/c6a627de-5ba6-5e52-80d1-0ac794bb5d3a'\n 'nyt://article/244b0d09-eccc-51e5-8679-7eb8e8e4f5d5'\n 'nyt://article/1204a045-2fd3-57a9-af55-c71d9c10d698'\n 'nyt://article/ec8ce09d-d2b2-552c-b8a5-f674c8c4d264'\n 'nyt://article/55adb25c-3a6d-5561-8ad6-733d3bc5a0c1'\n 'nyt://article/21609901-5c75-569a-af3a-19def20948d3'\n 'nyt://article/a95b5928-fb26-50cd-884b-d386224702e4'\n 'nyt://article/27e9aa8f-7b1a-593a-9c15-86746f482540'\n 'nyt://article/f54bc757-967e-58d5-ac2e-fcca7d441882'\n 'nyt://article/a8603d1a-a013-5714-aa8d-a1de48a00b6a']"
        ],
        [
         "17",
         "Cairo (Egypt)",
         "Egypt",
         "20",
         "['nyt://article/cdd22020-ad15-54a4-9a31-9b1ac7387612'\n 'nyt://article/832ba3ac-1095-54f5-b9f3-bf4aa6b433f6'\n 'nyt://article/ff6f5f57-3790-5d59-80b2-dac43a3ab7c6'\n 'nyt://article/cf9acb06-32b2-5610-a23b-bd9e480c8147'\n 'nyt://article/6417a890-156f-5aa4-b07e-70b6ed0471f3'\n 'nyt://article/524d2db8-ae64-5af0-b9f9-313197eab8b1'\n 'nyt://article/c51e262a-a798-5728-a0df-34b477d49c43'\n 'nyt://article/ba774961-09bd-51b3-93e2-740921c0cf1b'\n 'nyt://article/38a92ce3-a9b0-53eb-8e70-9ad6a67a3124'\n 'nyt://article/fc3bffb4-4812-5432-9786-dbe43b7a4112'\n 'nyt://article/441f388e-7b1e-5c35-ad85-2258b3f85b4f'\n 'nyt://article/fccf4a32-7eae-5878-8f3f-4bde29667770'\n 'nyt://article/182bda75-2e80-5263-9b67-1fa1fd1e6006'\n 'nyt://article/97f04910-66e8-5daa-a71e-5cf3d54cb1ed'\n 'nyt://article/6c261759-78ab-58c5-8447-327afa2df662'\n 'nyt://article/adb8bd1e-34f9-51bb-8a0f-9520a13d82df'\n 'nyt://article/c6a627de-5ba6-5e52-80d1-0ac794bb5d3a'\n 'nyt://article/55adb25c-3a6d-5561-8ad6-733d3bc5a0c1'\n 'nyt://article/545917eb-5dd2-5306-9528-e736cfa81ef9'\n 'nyt://article/6790d535-a735-5f2a-9e93-50191ac7b904']"
        ],
        [
         "18",
         "Paris (France)",
         "France",
         "258",
         "['nyt://article/914e90a2-e621-593c-961d-0d031cdd2062'\n 'nyt://article/c48e6215-f113-55f0-8234-70e90957d7e7'\n 'nyt://article/7ff73d6a-4a2f-50d4-81a0-2d7c702ead2a'\n 'nyt://article/e6f206bd-f2c0-5ecc-a224-64259f2205d3'\n 'nyt://article/a2487e1e-9b8f-56b6-af2f-0e6020a5ede8'\n 'nyt://article/80045d7d-ac87-5beb-bc54-ad043a851f27'\n 'nyt://article/ea6f7a90-f5c0-5042-add1-ec9dd133b961'\n 'nyt://article/4377920e-a830-59a9-b705-35128f3bc30c'\n 'nyt://article/9a1ade06-9832-5f8f-a4a5-254eef808dc7'\n 'nyt://article/9dcafae9-cf0e-503c-ad5e-0e23e1793588'\n 'nyt://article/24ef813e-1738-50b5-ac63-ad76043678ad'\n 'nyt://article/8e7cf9a9-9813-5c25-82ca-d6da77b813b5'\n 'nyt://interactive/02eddc3a-9f3f-5bcf-be6e-4544b9394e12'\n 'nyt://interactive/46bd0073-8c53-52d2-b8b3-d6c65d630c66'\n 'nyt://article/79467ef7-31fc-571c-a245-8d0a9b04d394'\n 'nyt://article/717011bc-f4c5-597f-bf2e-a0c2b9e9c5c4'\n 'nyt://article/9ff7fc82-82de-5699-bdd0-d77566d6add0'\n 'nyt://article/7f0d0ab8-b642-5e08-a9da-620880d97e32'\n 'nyt://article/f88a0281-bf5e-5b7a-a5c2-3426da08af72'\n 'nyt://article/9f1b6c79-de53-53a7-9696-3301b0fb7d91'\n 'nyt://article/e5d18dce-9314-5221-a81c-15fa41b99dbc'\n 'nyt://article/25308613-fe57-50ff-ba37-2cb1a4c8ed69'\n 'nyt://article/91ee4a15-b93e-5da0-a758-190f78f2f826'\n 'nyt://article/295aa36d-41c2-56f0-ac91-4ed018d87f94'\n 'nyt://article/bedf0923-b164-589c-b73d-c301e2a28f55'\n 'nyt://article/26261087-1e4e-528d-a66b-d116fb6a7fd2'\n 'nyt://article/22a93318-3ca3-500a-b660-7651ff9d0e2d'\n 'nyt://article/772f7a2b-e2e6-56f0-8d7c-da248bbf1105'\n 'nyt://article/403d80fd-1f13-5960-917f-088b2c6e2605'\n 'nyt://article/b43c66ae-b8ef-52b6-ab7c-5b2b851af6ae'\n 'nyt://article/d41bfdd5-49f0-57e1-a0e8-84f5b33bd574'\n 'nyt://article/92494734-9833-5cf5-9b8b-d0a04309f6ed'\n 'nyt://article/7e0add82-ce60-57ba-bf8d-58de491112ef'\n 'nyt://article/d9f164f3-a356-5edc-b64f-5e70047f3406'\n 'nyt://article/2149dc73-5906-5e5d-b8a6-bf7e330ee682'\n 'nyt://article/59cc069c-5f24-59e6-98f5-6a91afbd1d32'\n 'nyt://article/b33add57-9c55-5cd0-8615-0205426e9e00'\n 'nyt://article/a5bd08c1-73cc-52f7-ad5a-2ac552c8914c'\n 'nyt://interactive/8bcaaa8d-e1cf-56b1-b1e6-cac933a0ec06'\n 'nyt://article/57906bb7-4e57-5cf8-9aae-8dadbc5ac171'\n 'nyt://article/0d706c19-6de8-5f82-bbe0-6b9cd2dfc273'\n 'nyt://video/88de9e4f-b752-57af-9a8a-aad2077ba4fd'\n 'nyt://article/f37ec86b-a425-5112-8d8a-f52b365fa459'\n 'nyt://article/1042d735-e4e1-5db8-9b94-69e063cd4975'\n 'nyt://article/1b8f65ec-4ad4-584d-b94f-0012bd277455'\n 'nyt://article/c271ef6a-f992-5a0e-9141-2e10664001ed'\n 'nyt://video/e5e2705f-0a01-5267-ba94-7a753582b384'\n 'nyt://article/0d6339ad-93b3-5a17-95a4-6fd45f43ce51'\n 'nyt://article/c7579a76-4413-5d3f-ba50-eb76bc23d0c8'\n 'nyt://article/87df11d8-b0e2-5aef-831d-563b60f2b379'\n 'nyt://article/6c27c1cc-b3c4-54de-8f0b-be5b318c2310'\n 'nyt://article/f3d215ba-10e0-577d-9356-62491dc63972'\n 'nyt://article/8b749158-551b-5a43-8209-e683c4490bae'\n 'nyt://article/cde83fff-6b10-5e1f-ae26-4f7fda1d44e0'\n 'nyt://article/b0ee4a84-817f-56fe-a009-ace1c90f7901'\n 'nyt://article/6875a8b9-aed9-5384-8777-42352739b64e'\n 'nyt://article/608e8353-e88a-55b0-a631-2eb964b06fc4'\n 'nyt://article/90628694-744c-514e-81e6-b5160c4496f2'\n 'nyt://article/d0494d12-de4d-5405-9bac-ff02a29e952f'\n 'nyt://article/f879a1f9-3d53-5ebf-b3b3-d15785e07857'\n 'nyt://video/878fc6c7-b7ee-5964-9694-6f52a32921dc'\n 'nyt://article/4f3a4d9d-d4ed-5e7b-87a0-767473d35525'\n 'nyt://article/b7a1f70b-be04-5ac3-af16-49b997310429'\n 'nyt://article/3a24d8ef-b7c2-59eb-a022-1e930c9eadcd'\n 'nyt://article/9a289bcc-8961-5836-be37-40bcc71375d2'\n 'nyt://article/1b938aa8-ca62-57dc-affa-414c0fd081b5'\n 'nyt://article/cdf099af-c8fa-5f20-aa31-e6183bc6039a'\n 'nyt://article/44c6e551-77b1-5678-9449-87ad2e3a1439'\n 'nyt://article/bba7f1bc-46fa-5e2e-b609-d1dae117aad5'\n 'nyt://article/bcf436d4-9863-50fa-89a7-607e7de37814'\n 'nyt://article/a8ab61f2-540b-5c15-b659-613b644f9e8f'\n 'nyt://article/dd0700e6-2a76-5f38-9e65-c351c9eac763'\n 'nyt://article/5e8b6bd9-fa21-527e-9436-5a30b4619435'\n 'nyt://article/6468d34e-1df9-56b0-a089-f9324a6cba5f'\n 'nyt://video/b43f00d7-b8eb-5546-9c0f-2722d1d3bce6'\n 'nyt://article/1b399cae-d02c-5da9-9457-584c08779d2c'\n 'nyt://article/f749985a-e950-5f53-9b69-6b694580dd5a'\n 'nyt://article/eb803a3a-7f45-5855-8e35-e86745c5a780'\n 'nyt://article/adf5d5bc-a980-5343-9a2a-c698bd4df7f9'\n 'nyt://article/533eee0e-b81b-5b58-bc97-192fd2846ea3'\n 'nyt://article/2c099a13-73c3-5bdb-918f-aadd32ed0765'\n 'nyt://article/7a23c894-bbbf-55e7-9504-7ae90c1f19c4'\n 'nyt://article/f6a9fb33-4d2f-5fb5-af3f-59b31183396d'\n 'nyt://article/08249790-edf4-5cdd-b6b7-de0fea255291'\n 'nyt://article/69929b69-69ca-561d-84e2-e62b66b93d45'\n 'nyt://article/36cc4773-3751-5a1e-a771-1de1df6f5181'\n 'nyt://article/0c9018d8-9683-5549-a2f3-a3c3152fc02f'\n 'nyt://video/aa0f07ed-ee71-573c-b31a-8641a50b9957'\n 'nyt://article/1bdc6852-59cb-56d1-92be-14be085bb3ab'\n 'nyt://article/94ae27d7-10fa-5634-8673-6a81686a1cbc'\n 'nyt://article/8d2aa51e-2bdd-5ea3-abff-fc34d5ad2836'\n 'nyt://article/2838cf73-6639-5977-ad62-f167c2b75f47'\n 'nyt://article/25fdfe14-af49-5e88-b481-83c6a6f6d31e'\n 'nyt://article/c290cc2b-0394-5cfd-b9d6-d48e6f3d0b42'\n 'nyt://article/6bef3114-1519-5d0e-a83b-72bb583e079a'\n 'nyt://article/78156e93-6de5-5ab9-a9c7-c674615a623c'\n 'nyt://article/6a5bbb3e-eac4-51fd-8ff7-cf9c18c99aaa'\n 'nyt://article/ad92daa5-7a89-59a7-b9ea-809d032402b0'\n 'nyt://article/28a9d6ad-174d-539b-bbc4-055a8624274b'\n 'nyt://article/5b450854-ba7f-542c-b156-7fa3140d3d1a'\n 'nyt://article/daedcca0-c82e-58cb-a36b-b8a292c89e21'\n 'nyt://article/a7a59baf-e727-568f-9025-15460e249e9c'\n 'nyt://article/1a7db4a9-a9bf-594b-85b9-98d25b172281'\n 'nyt://article/d971e9d1-e9a5-5e81-a016-50f1738a5cdb'\n 'nyt://article/d1a012fe-66db-58e3-b8ef-eb7b38636ff7'\n 'nyt://article/9fb0d978-1245-5f07-8f5f-8541d56fec98'\n 'nyt://article/e04c22a1-892a-5b13-ac8a-aba6b8b6d9bc'\n 'nyt://video/3d9b83e4-884b-5aad-b560-073d6c998752'\n 'nyt://article/9fe9df3f-64e5-5627-abc3-52a4c7ee2fa7'\n 'nyt://article/bad6e840-7836-5cf7-b31d-424fd7ed08cb'\n 'nyt://article/95b76a59-7ec3-5b8b-afe1-219dab464ebd'\n 'nyt://article/3d40c276-3d98-5d33-90aa-b1640e11f37e'\n 'nyt://article/c8850fdd-d42a-597b-b9ca-d3bf5a157541'\n 'nyt://article/e563ebcf-633a-50a9-b09a-4d27fad14b76'\n 'nyt://article/fc667614-1d96-5a75-9dda-92f9aeabe664'\n 'nyt://article/24c7622a-b56e-549e-8964-c07bccf7bdaa'\n 'nyt://article/dd029c9f-d40c-50a8-94b0-f9784dfb2451'\n 'nyt://article/443015a7-5037-57db-b226-05f693d59199'\n 'nyt://article/c1a33d16-f3e1-5195-aca5-2a4c467f7c0d'\n 'nyt://article/e522b1a8-c893-5918-a949-eaa7c1eb764d'\n 'nyt://article/73b0f7a0-750d-5ac2-aa07-f86d02dcead3'\n 'nyt://article/d305b5d8-bfa0-54ee-a320-cd571614ff97'\n 'nyt://interactive/eafa7fd6-9180-51bb-97de-976299b02162'\n 'nyt://article/d57ed643-a76e-57f5-8a76-6173693cf138'\n 'nyt://article/10643146-37e5-5edd-a5b3-2127b355e3a2'\n 'nyt://article/d14635d5-9d12-58c0-91a5-36a9eddb8fad'\n 'nyt://article/b63ffb07-a01f-5e20-8e83-7b9c7d4daa89'\n 'nyt://article/7f6a02fa-05c7-5bec-8983-b4f35d39cf4e'\n 'nyt://article/351a7081-1a05-5166-916a-f9f2045ea836'\n 'nyt://article/b466d553-1f6b-5345-ba1b-34170638dd69'\n 'nyt://article/f2d2bf65-5b70-5073-82f6-34a2fb1b274e'\n 'nyt://article/b35db3e1-7d22-509c-9263-7f4e25290c35'\n 'nyt://article/db630cd9-640d-5f29-97a5-79e026a20ac5'\n 'nyt://article/33f82c90-de40-5810-9f85-2a478e9db371'\n 'nyt://article/6c0fe77b-c229-5595-852c-a57d5fc5be41'\n 'nyt://article/2ccb6659-c685-5e8f-8d5b-82c442bc47eb'\n 'nyt://article/7fd84dd4-261d-5929-90de-7c8cdbe28fa0'\n 'nyt://article/162257cb-b2d6-5bae-9c2c-d3ec1aeab7ef'\n 'nyt://article/4b084bc0-4c3e-50dc-b908-7ffccdc2dc1a'\n 'nyt://article/13d4196f-7380-5721-9962-5f5b49c75eff'\n 'nyt://article/e8a3cce8-3ac4-5183-84f3-5c1fa149dc74'\n 'nyt://article/e153dfed-ddcd-5295-a831-29decc7479e0'\n 'nyt://article/45754232-0dab-561a-89bd-417f5a99f6a2'\n 'nyt://article/c6ab78e5-03fd-5484-bb1c-5db3b7b01c1c'\n 'nyt://article/ad2f3d3b-1315-5db3-86d7-1cefd97e3c87'\n 'nyt://article/751757ae-d463-59e3-8a51-1b18d18c34fc'\n 'nyt://article/e5c09e42-4f38-53e8-b0de-ba23b4cf370b'\n 'nyt://article/43e7a5d3-f129-5306-aca8-06e6a1df8bf6'\n 'nyt://article/1a577096-4a8a-5cf9-ae11-1c746d838e6e'\n 'nyt://article/424e9453-ca28-5997-937f-c9a031e6d0d0'\n 'nyt://article/3eb88b46-448b-58a1-b002-b7e8a55778e5'\n 'nyt://article/2c259fe1-8724-58ff-915e-697499d81f61'\n 'nyt://article/7863b19a-210c-5c9b-8819-04760cb51789'\n 'nyt://article/72aaebd7-4aaf-5d6f-84f1-734891f115dc'\n 'nyt://article/23434a90-93a7-5049-a18b-01c0253cd8ad'\n 'nyt://article/601759ec-3cce-51ab-b481-23c88c6cce04'\n 'nyt://article/a9f80d3a-c9f8-5ded-b6d1-33778315320c'\n 'nyt://article/a1881aac-42f3-5e8e-8a2e-5dfb871dc133'\n 'nyt://article/db2161c5-9265-5663-b78e-6515810e9611'\n 'nyt://article/95e42c70-4f1a-56c2-95b6-4f705f411172'\n 'nyt://article/c0e17c51-54ec-57f8-b667-0b2009e3b4fb'\n 'nyt://article/0983919d-a55e-564b-9cc1-fe42f410f454'\n 'nyt://article/f7a9a0a2-30ef-56aa-8b67-55a3089a2ae2'\n 'nyt://article/37f24702-e0d7-51c0-bb48-e172a13750e4'\n 'nyt://article/6d331ec8-fbc8-5cf0-8892-2a734784b36f'\n 'nyt://article/7d940f0c-451a-5707-9ffa-fecb0b075beb'\n 'nyt://article/b5aa4339-3935-536a-8af5-ab05857ab051'\n 'nyt://article/f3a3c262-9296-52bb-806f-3e0424d6f184'\n 'nyt://article/784c38f3-bade-53b2-b075-deee103329a0'\n 'nyt://article/95a32156-2d52-59b6-a638-33a7582a1f5c'\n 'nyt://article/396f1155-e994-5a99-ab65-ee5cd32f1a52'\n 'nyt://article/15a4d19c-8521-561c-92a7-fb0b8f514d5c'\n 'nyt://article/0fde90a2-3555-509f-9f1f-26892977d8ac'\n 'nyt://article/46fbba28-e1de-505f-b8f9-a60bf0a7a42e'\n 'nyt://article/1a910536-d52f-59e8-9000-109694f739f5'\n 'nyt://article/c3f4b050-f92c-58ce-bb58-f8772ae08b14'\n 'nyt://article/df013746-7d7a-5d85-a660-fca44ec7ba44'\n 'nyt://article/7780bfcd-e19c-516a-9b3f-cbf8ea74f520'\n 'nyt://article/d8c615d1-032f-546d-ae48-fca5abf026e9'\n 'nyt://article/21a8672a-8550-5613-90a9-0080eedc3eca'\n 'nyt://article/ad485f19-5f9b-5734-967d-0e9d52e9e013'\n 'nyt://article/50e067ca-9853-574b-8e93-ecc88b9fb6d9'\n 'nyt://article/8641e74d-5bfd-5338-896e-9f1673e97bee'\n 'nyt://article/49c0b825-b4fa-5d40-aeaa-7b8f9aa2c2f0'\n 'nyt://article/bb633510-8020-5782-9e66-19756be3a674'\n 'nyt://article/a9f64f74-dca0-58be-aad3-22256233dac0'\n 'nyt://article/63eb78b2-c552-5937-ac77-923487fbc71d'\n 'nyt://article/94bb4adb-d7e8-574e-91e0-6e46baeaf031'\n 'nyt://article/49b7e452-513a-5d57-9471-13e5910fed23'\n 'nyt://article/c6bbaeec-a4f8-53c5-bce2-215af8e3b388'\n 'nyt://article/f4fc51c5-eec5-5b89-bba6-278ca712452e'\n 'nyt://article/7092a43b-468e-5b40-b962-0002be5325b8'\n 'nyt://article/d7ee474e-2df8-508d-ba86-b1b6fb8505b4'\n 'nyt://article/de9aa678-84f4-554a-83d8-aaf97084a766'\n 'nyt://article/cf70b248-9a59-5812-86c0-8cb6f1f19a5d'\n 'nyt://article/93452464-f0cb-5198-9cdd-4cac7b619489'\n 'nyt://article/3a607c52-9e93-5b83-a924-ff58f06473a6'\n 'nyt://article/b5addcb4-a20f-5cfa-89b6-778ee0e41ce1'\n 'nyt://article/7c0a3b65-0e84-5636-983f-f52b45b00d1b'\n 'nyt://article/bce70928-34a4-5a51-b365-f4055274dada'\n 'nyt://interactive/ae97a90a-5b50-5591-9550-4902dd8f2228'\n 'nyt://interactive/d5d460ca-b437-599b-a886-ec5fc49a6fb0'\n 'nyt://article/7fda3a0d-a795-5f80-bd4c-5bf6b578090b'\n 'nyt://article/2a106869-3147-5c4e-be0a-fa45160e7ea9'\n 'nyt://article/d4d33c57-4438-52a3-97f5-1335fa7e97d1'\n 'nyt://article/17b4c047-6f78-5c26-94c9-6b922abc1217'\n 'nyt://article/dad96bd4-b7d1-5366-9b53-9824c4866a35'\n 'nyt://article/92b678a8-ac4a-58e9-888b-8c63e42952c8'\n 'nyt://article/cd7375fc-70c1-5f59-948b-35f4e1896f13'\n 'nyt://article/c28fc5fe-f060-5008-965d-6e14e98156ed'\n 'nyt://article/e6c2833a-78b8-52f8-8a92-32d15877149c'\n 'nyt://article/140585fe-c455-5dcb-9937-b1cc5d0218b2'\n 'nyt://article/4dbaf379-2788-5e02-9f32-7af0eb389674'\n 'nyt://article/323be6c0-8a55-5a76-8a50-49145bd2fbac'\n 'nyt://article/543a6d46-9709-5ba4-bc05-f170f9e853af'\n 'nyt://video/4d3be7e2-4952-5a5b-a922-2de384808311'\n 'nyt://article/e0a57762-3c0d-5c3f-86a0-0b13152273c8'\n 'nyt://article/9169b001-4948-5a4b-811f-231fced5ef42'\n 'nyt://article/71cdbb78-640e-58ab-825a-8ae85f1208c1'\n 'nyt://article/b4b17abd-ae87-566c-b16c-ae61b434eec9'\n 'nyt://article/c3517af5-c561-50f1-87db-f682c059c088'\n 'nyt://article/f82f04ee-49c1-504a-9eac-70514ea7377f'\n 'nyt://article/f87ffeac-6a75-5e63-b5e7-d216fddc70c4'\n 'nyt://article/9e5b7f81-3227-59c5-a7da-9f9436493943'\n 'nyt://article/f6cced68-f74a-578c-b1b6-46aae29d897a'\n 'nyt://interactive/405dac7a-5143-5ae1-a739-ad114070a22b'\n 'nyt://article/5c0a77c2-e063-57b9-bef6-199bbb8bfc50'\n 'nyt://article/562d5618-52f8-5ab8-9594-582ee57a81ae'\n 'nyt://article/f4958f2e-09fd-55ee-82e7-7bae17b16eaa'\n 'nyt://article/0faa0f1b-a2e9-5315-83d3-c4ff20b0badf'\n 'nyt://article/db4bc6a7-e443-5186-b91a-dc2dc1298c61'\n 'nyt://article/30229ed1-816e-5ba7-9809-75d28322cdb1'\n 'nyt://article/2601da88-beba-5dbf-ad9c-1215e51bc952'\n 'nyt://article/b2269fd1-92e6-5f9a-bf58-4d6a15b42bae'\n 'nyt://article/36492553-aa0a-5dc7-926a-1c3b5ae34a9d'\n 'nyt://article/fe72834d-f4a6-54ac-9750-b148dcf0f927'\n 'nyt://article/def836f3-c885-5833-9190-a3483ef82996'\n 'nyt://article/650557ac-4477-5c26-9898-25243014ef3b'\n 'nyt://interactive/2020a3a3-6ba2-58de-872a-9b86dd0d2626'\n 'nyt://article/f282c309-7ef8-5dcc-a196-4fc447eae026'\n 'nyt://article/c712770b-afcb-5c52-a4fa-a2a92b0afc77'\n 'nyt://article/41088b2a-94b4-5884-8c1d-227e0c24ceb6'\n 'nyt://interactive/8d542b7a-e031-571f-a289-055465ca965b'\n 'nyt://article/304a2754-8107-5b13-84fd-7344b64fc77d'\n 'nyt://article/085582da-88a2-5ef8-b5f5-8c52c039152d'\n 'nyt://article/739613fd-00c9-5624-b8b1-4b672f12782b'\n 'nyt://article/1c676d65-e958-5268-93a2-6fe085b9d145'\n 'nyt://article/1f0b3af2-4380-576c-b3bb-673b76de9fbb'\n 'nyt://article/980b5b59-b41c-5ff7-97b6-b9a041c258f6'\n 'nyt://article/e2586b79-884e-55c0-ae1c-0709d61a0c10'\n 'nyt://article/073bb89c-26aa-5a73-92a6-d32374a07fd7'\n 'nyt://article/a723b096-f053-5d26-a46c-4afbe9faea6b'\n 'nyt://article/fdbe80db-b4bf-5776-9ef3-6e6ff8418685'\n 'nyt://article/e845b44c-f478-540f-83cf-192b8fa1ef60'\n 'nyt://article/f25758d3-ec96-5a35-9c5d-b3df42b8717b'\n 'nyt://article/ca350f63-7836-52c6-b87b-b0a872309dcf'\n 'nyt://article/a70105b0-7c84-5dec-b9b8-05a840bd880f'\n 'nyt://article/ab98f669-6b6b-5a46-968f-f47bb44a7f2c']"
        ],
        [
         "19",
         "Pokrovsk (Ukraine)",
         "Ukraine",
         "24",
         "['nyt://article/d0c34b21-565c-52dc-bfc5-7ebd45a8fdc6'\n 'nyt://article/7d54accf-ca45-5743-b5bf-ec61b6d2d0e2'\n 'nyt://article/276daa2c-e3dd-5b8c-8830-ec96ce0fe8fb'\n 'nyt://article/1d020c38-0358-5035-9eb5-7a191c77577b'\n 'nyt://article/662d0b47-2f1e-5760-b5f4-f14c51579100'\n 'nyt://interactive/5c54bee4-f421-5d55-8f8d-7cc3e063f7af'\n 'nyt://article/e91c8567-b584-58c6-b786-6195269fe122'\n 'nyt://article/46e24355-8ea2-525a-a04a-5099df8af569'\n 'nyt://article/df9ebbfa-ab69-5a58-8219-cb70ab81b9cf'\n 'nyt://article/0bd46759-edac-59aa-bf70-94211f3618a1'\n 'nyt://article/d6847820-34e2-5488-83ca-96ff81eac76f'\n 'nyt://article/5b2ca40b-d528-5c94-b2ab-ef39a85d26a3'\n 'nyt://article/ceb733ac-dd40-5959-91d7-8bfad72a524a'\n 'nyt://article/ca04ce39-8097-55b3-9806-bba18e7992b0'\n 'nyt://article/1caad361-6504-5272-98d3-0cc16cfdd046'\n 'nyt://article/77ba14c2-12c9-5ad7-92de-95fd770a126b'\n 'nyt://article/42e58941-b3a9-5089-9e0c-74fbb38a1dba'\n 'nyt://article/b1241b49-c893-5f64-a257-7c99dfd4e99e'\n 'nyt://article/e09f5b70-ea66-594d-b0f9-9567c84eb43b'\n 'nyt://article/9923aa60-34c7-5589-bcfe-9277ae33dccc'\n 'nyt://article/f543b3e1-402d-52c5-a1d8-93e8ba1e377e'\n 'nyt://article/d2b25c4d-6c48-55bb-b7ce-0832186292c1'\n 'nyt://article/a388303d-a958-5ae2-b6a3-22100a2c47e9'\n 'nyt://article/7276af95-e58b-5f99-997f-12cbc74fdc76']"
        ],
        [
         "20",
         "Ukraine",
         "Ukraine",
         "946",
         "['nyt://article/d0c34b21-565c-52dc-bfc5-7ebd45a8fdc6'\n 'nyt://article/d918efb7-d901-53c8-a800-1247115a0a5b'\n 'nyt://article/0f6bd3be-cdd6-5249-bf19-9a20ebb5a3bc'\n 'nyt://article/c835acb2-af4c-5226-8ba8-1abae339c7b9'\n 'nyt://article/204c00a7-c382-51a2-95ca-2e5917dfe2e3'\n 'nyt://article/694c353d-bf70-53a5-8749-f75c11a81422'\n 'nyt://article/2e2e4f0a-b119-5ef6-b1cd-57ee86380606'\n 'nyt://article/5fd56eda-2c33-56b5-a8ac-b69e2a6df265'\n 'nyt://article/007ba0db-2193-5f5f-9183-b128bee142e1'\n 'nyt://article/1971c96f-ebe5-5e53-afe0-d6f6b896712b'\n 'nyt://article/ac089790-ee1f-5309-9cf2-635bc27023d5'\n 'nyt://article/a558d0f7-86e7-5408-9bf1-d52c11ac9188'\n 'nyt://article/485c05bc-fcac-586b-92f4-7462dead51a2'\n 'nyt://video/394391d8-6ea9-54ab-9a13-7057f80317f7'\n 'nyt://article/e9fd65cc-7dff-5b7a-aaf1-16f01fe6e9fb'\n 'nyt://article/a549da83-a6e7-55fb-9d7c-c86e554ba7e7'\n 'nyt://article/7d54accf-ca45-5743-b5bf-ec61b6d2d0e2'\n 'nyt://article/b4872f90-8b88-55c2-8e99-c0846c1f01ed'\n 'nyt://article/3d5f6b28-8ab7-5039-a076-d866c6c895cf'\n 'nyt://article/dd4dbef7-ba4f-5ade-b1bb-8c6affe276ab'\n 'nyt://article/276daa2c-e3dd-5b8c-8830-ec96ce0fe8fb'\n 'nyt://article/7e616eb2-33b0-5116-9a68-0b4d4f799265'\n 'nyt://article/1d020c38-0358-5035-9eb5-7a191c77577b'\n 'nyt://article/662d0b47-2f1e-5760-b5f4-f14c51579100'\n 'nyt://article/e50d94b9-215a-5b72-934e-a4d2fc63fa09'\n 'nyt://article/ee7fcf46-c9b7-5c5a-abc1-38f24a08accd'\n 'nyt://article/de2128cc-2511-5caa-b16d-43783e270477'\n 'nyt://video/36d9c8c9-75fd-5b7f-b476-bd7272833046'\n 'nyt://interactive/5c54bee4-f421-5d55-8f8d-7cc3e063f7af'\n 'nyt://article/4b5b8d54-60a6-5047-b3a6-2a45206a6539'\n 'nyt://article/0309896f-fc0c-528b-b136-0388d5ee19f9'\n 'nyt://article/37a2e113-29fc-56bd-84fb-b9fbdeec5030'\n 'nyt://article/561f0b71-f81d-5fee-b1a2-21b58503a3fa'\n 'nyt://article/9e7f6f32-0011-5e90-9fb0-3bcf666db2bb'\n 'nyt://article/38240543-03bb-584d-bc4a-7c4270a0843b'\n 'nyt://article/85dc3162-5ce9-5a7b-8cfa-9b1b0507f646'\n 'nyt://article/e91c8567-b584-58c6-b786-6195269fe122'\n 'nyt://article/8a3f3a4d-37b5-5026-b831-3d4dc5e7fe5d'\n 'nyt://article/11d88e93-529a-58f5-99f9-b893f5028536'\n 'nyt://article/5ea115c2-6b85-584e-9188-8f0e84251856'\n 'nyt://article/b6c820c1-30f4-53e4-ad2a-2bae06441e8d'\n 'nyt://article/4ffdd008-f700-5b19-85b9-2d47cb138114'\n 'nyt://article/537ff1a2-e6fa-5b9f-8f16-afe29395c7e9'\n 'nyt://article/58e45e4b-63bb-5849-9011-dbf5876e576b'\n 'nyt://article/a312dcb6-f9db-5a82-b8f3-a49a48455413'\n 'nyt://article/fc13c134-9daf-5ac6-a56e-3e703d250049'\n 'nyt://article/7b9f85a0-a0cc-5058-a4e1-e4bc40026616'\n 'nyt://article/e148583a-20bd-5d30-b1af-3dac50e8809e'\n 'nyt://article/95b2029c-a278-554d-a662-f2bd72eb5149'\n 'nyt://article/d34b247f-c491-5d93-8472-c78709bc2e33'\n 'nyt://article/05eb9883-3d45-5009-9707-30ed38f459fc'\n 'nyt://article/1ea25afb-f7f5-5873-8da1-5fbdba9ca782'\n 'nyt://article/e4da0895-aa5c-5f88-a610-084fe3e6e279'\n 'nyt://article/23f66ee6-27fa-5262-bba6-6f0730a08f24'\n 'nyt://article/e7607bca-8058-5a88-bf60-8e9926e850c3'\n 'nyt://article/14452591-9725-5e1b-af1f-51e2cbddb2d0'\n 'nyt://article/00f13777-1af7-5ac2-a4c3-4aed848e95ce'\n 'nyt://article/ba58a168-a78a-5135-9c76-1388cfedbd9d'\n 'nyt://article/941fecd6-e3eb-5851-b78e-257c44807341'\n 'nyt://article/66a95aa8-d65c-5cbe-bcbc-de2cff2be249'\n 'nyt://article/a9b81e61-39ac-5dd8-aeab-34932f79d93d'\n 'nyt://article/46e24355-8ea2-525a-a04a-5099df8af569'\n 'nyt://article/1ffa1e98-52f8-520a-a884-3196746f4478'\n 'nyt://interactive/7ec45ef1-eec9-5483-a3b6-4967c9863c77'\n 'nyt://article/f803de00-26f9-56e9-9b24-55c9e0be5c31'\n 'nyt://article/221e61bc-0ba4-5aca-9afb-4be699853570'\n 'nyt://article/6115348c-8c09-5693-9c59-f38ec9b2ac35'\n 'nyt://article/d501cac7-eefc-5da5-a541-78cadb4f0a55'\n 'nyt://article/12f67bba-a9a1-5f1d-83fe-70b7a26effd7'\n 'nyt://article/d9db7038-30bd-5e1c-a350-c1698f708596'\n 'nyt://article/63d338b3-e884-5a7c-9dde-4ce12f268c02'\n 'nyt://article/559af6cf-a4f0-5541-957f-5b4a46facce2'\n 'nyt://article/26e32e7f-f137-5506-ae67-b469e217fdb5'\n 'nyt://article/9b2ab9b8-0db3-5c57-be1f-84c833ad029c'\n 'nyt://article/b6ec9709-0a70-5944-81f7-965726e8209e'\n 'nyt://article/3e845638-317c-5f4b-816a-62a468f9e622'\n 'nyt://article/ff8b29ba-1d59-5645-b6ff-5c77745a2a42'\n 'nyt://article/9f2f1f10-ac74-5028-a4e5-54caf164d59d'\n 'nyt://article/bdb69682-b606-50fe-8279-afdf12814f92'\n 'nyt://article/58657638-a276-57a7-b348-b533290b9d7d'\n 'nyt://article/bff3cf90-74fd-5f13-9cc2-83175a3ccbd2'\n 'nyt://article/55147f71-f9ac-5fde-be03-984cbacc3845'\n 'nyt://article/e5a1d390-d3d7-58cc-b625-cc8577975d4d'\n 'nyt://article/e35c2f9e-1a3d-52b8-960a-011e91c48971'\n 'nyt://article/ecd29b8e-e331-549e-a981-6dcc789a2b7a'\n 'nyt://article/ba0a9216-d71f-5fdf-a11f-a4632ffe9a3d'\n 'nyt://article/2991e39b-daa4-56b0-be1c-559292666592'\n 'nyt://article/7ce7786e-7574-598a-896e-6cee63c526f0'\n 'nyt://article/fc8175d4-0559-5637-9f15-67fa859cb344'\n 'nyt://article/424157de-f31c-550c-8f53-8dfd1e456b8f'\n 'nyt://article/b8245a64-f979-5128-a9e8-5c4873d88cd0'\n 'nyt://article/833eaa47-ce45-5c0c-a984-81c8d7533a04'\n 'nyt://article/d245a803-efa7-53bb-bb59-30da3dc35c69'\n 'nyt://article/b3414009-e142-561e-b0b9-1689d923442b'\n 'nyt://article/86a49082-a36c-5905-ac2d-35eec93dbf1d'\n 'nyt://article/e1af4fd7-27ef-5db7-a111-bbb8d831a73d'\n 'nyt://article/cd4a6f7a-abea-5372-8d5f-926cc0e1dc7c'\n 'nyt://article/8e46840b-740d-5b34-9fec-8e470b1aea1a'\n 'nyt://interactive/c5e32373-86dd-5420-ab85-99dd1564218f'\n 'nyt://article/3c276ce0-57dd-51a2-a9e2-f1cad6f02146'\n 'nyt://article/413da510-4756-5e5a-91f5-28b8bfacaa90'\n 'nyt://article/dc8a1367-7b28-59aa-82c2-7c9423f5681d'\n 'nyt://article/25308613-fe57-50ff-ba37-2cb1a4c8ed69'\n 'nyt://article/86d3dad9-815a-501b-b06b-77260a47a38c'\n 'nyt://article/948275f7-64a7-56cc-b21d-a3e1fa52c949'\n 'nyt://article/a039a7b9-daf0-54d9-b686-d41fa1e4d3e4'\n 'nyt://article/e98a72fc-dc90-5fa1-b21a-19533c956efb'\n 'nyt://article/757ecf2f-d493-5afb-ac1a-194d2cb5d443'\n 'nyt://interactive/2ec93396-a756-5541-9784-1e9cc56e4b5f'\n 'nyt://article/727d3179-5bb0-541c-9f3b-65d14cec5677'\n 'nyt://article/6310a100-8a1b-52c1-8c77-61dea32414b5'\n 'nyt://article/e291ffae-26fd-56ee-9e3e-437f3a110fc0'\n 'nyt://article/9de04e45-f65e-53cc-8a37-c1db51a6b4af'\n 'nyt://article/22239aef-891e-57f4-b261-e374226393db'\n 'nyt://article/adf50076-e4c5-5434-814b-593306682b81'\n 'nyt://article/f2a21e5e-7c8e-57fa-9189-325316c16260'\n 'nyt://article/0009864e-78cb-5cf6-a798-52a1ccd7fdae'\n 'nyt://article/5382b77c-3325-527f-8edc-c683670e10bd'\n 'nyt://article/f934ce16-6248-567b-807d-19dacbe714a9'\n 'nyt://article/92eb7bed-966f-5d59-bcf9-a2748ffddac5'\n 'nyt://article/0a24a7ed-725c-5ceb-9a77-1b7d2962324d'\n 'nyt://article/2fb5bb9c-81b8-5637-a484-72fdcd2d72e5'\n 'nyt://article/8263c316-6dcf-53be-91f7-f02c8e366092'\n 'nyt://article/2a4ad259-aa5f-57a7-9777-e4590794f9db'\n 'nyt://article/d247b478-8e6f-55ed-80d0-1326eab37ddd'\n 'nyt://article/1a458b6c-557d-5d53-be61-14baa3c0e148'\n 'nyt://article/b1c21117-076f-504f-9c91-ac9e058f5dca'\n 'nyt://article/2916e5e8-ba81-58bd-b833-fca8215cd83e'\n 'nyt://article/1fcb304a-cb89-5800-853e-3097de6b7542'\n 'nyt://article/2e9a24a1-dcb8-5831-9553-72bcda69d1c9'\n 'nyt://article/49bdcf43-7aec-5192-91a8-5738fec79644'\n 'nyt://article/8f431694-f7bd-5e12-b01c-caba9c751e12'\n 'nyt://article/4ab8b40f-4845-5ae4-8375-3da4f1edede2'\n 'nyt://article/ee68567e-52af-5bf4-9258-38540626ea87'\n 'nyt://article/47c5e593-5554-509d-9bb2-5cd3e112d40f'\n 'nyt://article/1be7e761-70fa-5788-b9e1-a48be42af1d9'\n 'nyt://article/18febcf6-8d71-5051-9905-f0b234ba393b'\n 'nyt://article/d23dd6a0-d3ee-5766-98b6-41e741648520'\n 'nyt://article/be46b6eb-aced-54c6-bd42-84dea971fe23'\n 'nyt://interactive/2b4be984-4091-51f0-b37d-cddebdb7d0fa'\n 'nyt://article/21eda279-cfc7-58af-a668-61e2c6fd2da5'\n 'nyt://article/9a8a4ca0-313c-521a-8489-05b4c4589945'\n 'nyt://article/2657437b-4915-5af6-b7e5-c1c8e8a83031'\n 'nyt://video/25cd9567-a0c7-572b-81ea-59788c3d2237'\n 'nyt://article/63fb8e3f-c74a-5a09-b073-8704cd2ced3f'\n 'nyt://article/4ad2f0ed-2fd3-5be1-8512-c7dd5199c64a'\n 'nyt://interactive/baa4d737-ed96-5f75-8a28-d4581c4e68d6'\n 'nyt://article/5238af62-4e8a-59f3-a6f1-51f9dece469c'\n 'nyt://article/2bdeb3f0-588b-50da-9810-6c750bc63a45'\n 'nyt://article/88407b5d-5c5d-51ea-bc61-3908fe97ae9a'\n 'nyt://article/1ac4714b-2546-56f3-b106-4046023c9b55'\n 'nyt://article/8184d0ff-d2b6-51ba-a6ba-6f1cfed9b46e'\n 'nyt://article/1e318009-2cc8-50e4-96a1-df01dd92542f'\n 'nyt://article/492176a6-5a96-5799-a76d-6d636a9d041d'\n 'nyt://article/81bcef6e-fafd-5bed-adaf-0126eb84309a'\n 'nyt://article/31e0a04f-f0ab-59c7-97b2-72a2e5cd82be'\n 'nyt://interactive/f5fa2ce9-31ac-5210-8ceb-8a87d69d402f'\n 'nyt://article/cbb24fb1-a4f1-5ef4-abe2-7314d8a31320'\n 'nyt://article/94194ff8-f48b-5a69-bc57-85f3071c6303'\n 'nyt://article/f55b0378-59bc-58e0-b98b-0873a4989385'\n 'nyt://article/9904dce0-6e3e-5a68-9be9-ceb773613252'\n 'nyt://article/1d2cc106-4633-5883-80c2-c97f06458c9f'\n 'nyt://video/f506ad76-cbbb-5003-b3f7-79ba1006a37b'\n 'nyt://article/545bce2a-c08a-5257-b2bd-b06ee50d3eb1'\n 'nyt://article/9aeae167-7e27-5e8c-bba5-18352a4ca368'\n 'nyt://article/4b3b7baa-b71c-5620-bcdf-e0f623c7b42a'\n 'nyt://article/8abbdc4a-64f7-5e9b-8005-0b04ba2c8b79'\n 'nyt://article/7e0add82-ce60-57ba-bf8d-58de491112ef'\n 'nyt://article/631c4076-70f4-5e24-b7e1-0ed563ebdc4b'\n 'nyt://article/3e748630-23db-5c00-826d-59b50df1142d'\n 'nyt://article/f36153cf-118b-593a-b385-fcfe991c879b'\n 'nyt://article/530691dd-f127-55dd-ad06-d106ecc3eba6'\n 'nyt://article/fc0fd172-0f05-512a-8aeb-606657fbe064'\n 'nyt://article/28e5a07a-d07c-5124-a20a-af00333a8acc'\n 'nyt://article/3d2e56c6-290f-5513-b71a-d4e8355ce13f'\n 'nyt://article/577755f9-0c66-59cb-8703-ddf7a84479b5'\n 'nyt://interactive/ad6a1d4f-9da3-56a5-af3e-4b6eac6f1814'\n 'nyt://article/24ad17be-aca9-5be9-9502-bbd6f65159d6'\n 'nyt://article/16367a0b-e80b-5df1-81be-37ad41168991'\n 'nyt://article/df9ebbfa-ab69-5a58-8219-cb70ab81b9cf'\n 'nyt://article/4f78199e-1c5b-5a7a-b463-d6cfa5a34c74'\n 'nyt://article/39fa4fb6-1f30-5519-a4fc-0bf7217b7915'\n 'nyt://article/7dafc77e-8000-5c37-bcf1-4bb4a67732d2'\n 'nyt://article/1d6afc82-b3cc-587f-9d9c-29a8aa1dba63'\n 'nyt://article/994d2a8b-fd6f-58bd-9240-e2b6a0ae0ad1'\n 'nyt://article/c93658c8-63ea-562e-896b-a5a3fd1b9ffd'\n 'nyt://article/458f4489-9efe-5a9d-9e5e-b893deb668fe'\n 'nyt://article/f0397184-d66f-5872-bb11-eeb18399cbb2'\n 'nyt://article/29c6be1b-893a-599e-afa2-1a6c1dccbbfe'\n 'nyt://article/d98b8040-1395-584b-8919-5b58271ba3d2'\n 'nyt://article/badb9863-9137-5b6b-a693-da835a7543c3'\n 'nyt://article/327c197f-eea1-53f6-a1f2-bcca7d21d37e'\n 'nyt://article/10a48d88-c9df-5570-a340-bc1ea7777509'\n 'nyt://article/83a8c0ff-4d84-5bde-acd7-0ca8e584d983'\n 'nyt://article/2fa2875e-2ca1-587c-8987-6bc7619fbc02'\n 'nyt://article/fc8a5158-9ec6-5d92-8a21-ab79f8759246'\n 'nyt://article/0f85524d-f3bd-5979-8cc0-a6907a43b097'\n 'nyt://article/ae36d8d7-def6-5af6-917f-fbc204aa730e'\n 'nyt://article/d1e94d45-3867-5b0a-a13e-634fbd57bb83'\n 'nyt://article/0c8e6dd3-183e-558d-a365-8ff742d19ec9'\n 'nyt://article/a43d381e-acec-5dc8-b7f9-f3bf3f32aff8'\n 'nyt://article/79cf0668-4437-5c53-8b4b-198d05883c21'\n 'nyt://article/d8133e86-3ce6-5add-aa2b-bde87d97c9a3'\n 'nyt://article/f7f19bfe-512a-5b0b-bb23-30c97afc1804'\n 'nyt://article/ac088d60-3328-5812-bee6-5409203529d7'\n 'nyt://article/f6267bad-6bcc-5937-b958-5c9f13fa111e'\n 'nyt://article/ff42d5d6-c1bb-5a48-8c02-a5b85f27a924'\n 'nyt://article/0600f165-38dc-58d7-92c6-b2426d72471e'\n 'nyt://article/b5f37cfb-1b1e-5ca0-8a8e-7d0dcc607f40'\n 'nyt://article/34f2a817-e343-5be0-a91c-56cc9123cde6'\n 'nyt://article/45f23d57-05f9-5b41-823c-fccb8aace0bd'\n 'nyt://article/f35ad26f-878c-53a3-ba88-753ddaa52ed9'\n 'nyt://article/d5c903c0-1dd0-5dfd-9bbf-896f0b00ee80'\n 'nyt://article/bb7d164f-06ad-5133-aeb1-913e24901ec8'\n 'nyt://article/cef45951-b82b-5cac-b2f9-45afb14e4fae'\n 'nyt://article/5940405c-2adb-58f1-bb39-959e75016c7d'\n 'nyt://article/68ea53b3-ae8f-599c-8d43-1574c82df31e'\n 'nyt://article/5b2ae543-8135-5f2f-8a46-caf1be5c5729'\n 'nyt://article/d2aa972e-0b19-5b27-87f4-dd0de7a12ccd'\n 'nyt://article/9377510f-2c24-530b-8a34-136024d9c1af'\n 'nyt://article/cc1b4847-86da-59c8-978d-a546dab9ade4'\n 'nyt://article/6d0fd4d4-108f-53a0-92eb-ae6cde85c32a'\n 'nyt://article/f0629ec6-31b5-5f02-90b0-6bd34a594889'\n 'nyt://article/67c33467-d217-58ea-957f-08a6fac7a4a8'\n 'nyt://article/75e898a5-6498-5911-ad23-18c0b753ef4c'\n 'nyt://article/ca34d2a8-af83-5cbb-9c5c-11375020499c'\n 'nyt://article/f467642e-c359-57e3-b65d-3919e79b89da'\n 'nyt://article/c4810cca-7033-5efc-89b4-3f4d3f9c2a7a'\n 'nyt://article/6e975da2-0b3b-5211-88d7-165d4a47dfee'\n 'nyt://video/3eef116e-8fbf-58e0-bd50-06cf65ca3b9a'\n 'nyt://article/6d6fdda2-8cdd-58ac-88b5-9d680c24c7eb'\n 'nyt://article/eb1ad1e7-492b-59fd-8373-7f173a4753c1'\n 'nyt://article/2f502b81-e9f8-54e1-b1b9-814c7b61cf70'\n 'nyt://article/26e0bd12-de20-56d9-8808-7f3909a24cac'\n 'nyt://article/bf938858-5d5d-5907-8726-929112ccc441'\n 'nyt://article/0bd46759-edac-59aa-bf70-94211f3618a1'\n 'nyt://article/e570caf2-e0fe-55e9-a605-8ab8367b1510'\n 'nyt://article/f5452780-0497-5170-af30-5c12acfa5a25'\n 'nyt://article/22a2ac37-7b67-5afe-98e6-9dd8e69b484c'\n 'nyt://article/9878eb06-e5a3-5725-bb72-9d4614f29b5e'\n 'nyt://article/d6847820-34e2-5488-83ca-96ff81eac76f'\n 'nyt://article/04bd95de-e4ae-541a-a63b-4a9982ccd1c2'\n 'nyt://article/8689c952-a826-53f9-8078-8e9980a0e44d'\n 'nyt://article/bf44fbe9-8808-5cd6-b1f8-2e354821a22e'\n 'nyt://article/eee85d5f-f506-5c46-be46-1ce35112c5c6'\n 'nyt://article/8dc0590c-1b67-5059-b608-5a5c4c61cab8'\n 'nyt://article/0ed3a8e2-dc47-558d-bb5d-c42e801472ef'\n 'nyt://article/90640272-f5b8-5021-bc55-249d649867cf'\n 'nyt://article/3040672b-353c-54f6-8f4b-f5074c8f08c0'\n 'nyt://article/ffd11c4e-c450-5ff4-9e42-528b03fafb11'\n 'nyt://article/8cb87345-65d5-5478-86bf-51a82d073e20'\n 'nyt://article/62c3fbb5-c09d-5697-92ed-ae4f97044caf'\n 'nyt://article/0d2612b1-9d53-546f-9af2-cf35cff425ac'\n 'nyt://article/95d0417a-d6f4-5bd1-8453-4842c1ef4483'\n 'nyt://article/d0f9ee61-d58b-5f29-8b32-750dcabaf45c'\n 'nyt://article/657f574b-2765-5a32-a542-75c924ad9ac3'\n 'nyt://article/f83961ce-70dc-5e08-87a1-7673a1d30a12'\n 'nyt://article/b12dcea0-fb2d-562a-9009-6da5ed4c1d7e'\n 'nyt://article/eac1f119-03f2-5f59-b64a-b7dcadf86b55'\n 'nyt://article/923e3c5f-b6fc-5601-8eeb-63cf53e3c043'\n 'nyt://article/cc1d3a0c-7582-58e9-b1cf-fcf69a2edf61'\n 'nyt://article/156fcc70-5977-58e9-b473-1b29a3b6b5f4'\n 'nyt://article/f07bfb44-73c7-5e0e-b619-6ea21806980d'\n 'nyt://article/155b0fe8-9647-599a-ab8f-6bbb9eb08a3e'\n 'nyt://article/a90bfd41-2584-52f1-a4e0-62c53d16767c'\n 'nyt://article/02241405-a46e-5af3-b08a-666b2b263aa7'\n 'nyt://article/684f512e-a313-59ca-a6a2-7a074188d57a'\n 'nyt://article/c1e9c44a-2a05-5966-b727-9f1cc7f8a6d0'\n 'nyt://article/dbe2ca06-8157-507f-a4d8-79de0b660171'\n 'nyt://article/22ec8fa0-c21d-5394-aafe-37829fdaf0f4'\n 'nyt://article/cac307c5-105e-5721-a97d-59c45a5dbc9c'\n 'nyt://article/7f1f6812-1191-5901-911a-399f09f6e089'\n 'nyt://article/ba9e116a-660f-5ca3-bce1-8f6215c11be9'\n 'nyt://article/3e41fb07-a2b7-5d77-a5e1-cd1a14ecbdb3'\n 'nyt://article/9e2977f9-3e6d-5783-8d0c-4338953b317a'\n 'nyt://article/0f28f062-af45-5814-a557-7e5edce45e3c'\n 'nyt://article/cf7e3e55-9cd1-517d-bd2f-0dd82ac7804e'\n 'nyt://article/e95ef1cd-9a00-558d-b5ca-64f4bcc99cb4'\n 'nyt://article/4f7d6362-3d2d-55c8-88c1-b19f1658ad64'\n 'nyt://article/f6935929-fc98-5584-aa22-1e7f43b046df'\n 'nyt://article/0d872645-5f06-547d-9b99-4df89b9cc474'\n 'nyt://article/f44d83b1-2253-5fc9-b71e-b66295c7cc8e'\n 'nyt://article/6920e9e9-636a-597a-843c-c3a8efd59621'\n 'nyt://article/44d2d17f-44b0-561f-8c66-ce3a7db44a1c'\n 'nyt://article/a9ab40a8-c67f-5e3a-a82c-786e44f45062'\n 'nyt://article/70a2d5c7-eb7c-5a47-841a-cf93e986f761'\n 'nyt://article/728301fd-c18a-55f0-a663-b3618a58922b'\n 'nyt://article/722770ef-818c-5e88-802f-1f34e8402729'\n 'nyt://article/5b2ca40b-d528-5c94-b2ab-ef39a85d26a3'\n 'nyt://article/c04785e4-b68e-59aa-9563-72497deeac85'\n 'nyt://article/332be7a3-798a-5b4b-8ab8-25f4bab8aab7'\n 'nyt://article/d2859d4b-d661-5b9b-90c3-1eedb2763ad8'\n 'nyt://article/9b6a4718-c156-568c-a09d-6f70a1af8906'\n 'nyt://article/6813827a-1160-5dbb-af78-81d6e52081bd'\n 'nyt://video/338df3f0-c845-5a4b-98d9-90c2207101bf'\n 'nyt://article/6c93ff29-d9e8-55e1-bf1b-b2814811f749'\n 'nyt://article/ec7e7eed-fac1-55ba-9b51-b475047b0b0c'\n 'nyt://video/369bfc43-5943-590e-b4b7-14a6e42b2670'\n 'nyt://article/6e8b2b9b-757c-5715-8382-d9c6345c68fd'\n 'nyt://article/31247c61-d02d-5a3b-9244-d6113a0bab11'\n 'nyt://article/b9814195-af15-502b-b52a-bd27fc4f82ac'\n 'nyt://article/785430ff-f7b1-5ae2-b18b-4ad6ea4e2c95'\n 'nyt://article/0615c97a-1884-5d38-8a42-591c481b866d'\n 'nyt://article/c9b2cba1-a147-591a-87b8-a40304bb4fa5'\n 'nyt://article/f242ae44-e3b7-50ee-b2fc-83a98c225334'\n 'nyt://article/54d78a0a-2fe3-541f-a040-5336120c17a2'\n 'nyt://article/f08b8537-eb15-5f58-afbc-3c66e9e6e7f6'\n 'nyt://article/3ae83dbc-9ccf-5d29-8ae3-86bb90a7be75'\n 'nyt://article/813e0b10-f16d-5370-9f56-8f8ce839b911'\n 'nyt://article/0ab742b9-f8e6-5a58-a8e6-39d8b0683708'\n 'nyt://video/628cca41-63a0-56ef-91fb-96c012b82d76'\n 'nyt://article/c9631f21-2f75-5095-9424-1d385795e09b'\n 'nyt://article/1830f51b-761b-5ec4-afd4-aed999956d45'\n 'nyt://article/9cd5e2b0-bdea-5b71-963d-8708be55bf9f'\n 'nyt://article/784b9cf1-3c38-551a-8ca9-a1234e23ab81'\n 'nyt://article/7ee0c35b-22a0-5c74-9799-6c25c37d416e'\n 'nyt://article/02b23d11-96dc-5dad-a714-97272ab8fba2'\n 'nyt://interactive/98eb2067-f7c3-54b4-aaa5-ec12acab8cb3'\n 'nyt://article/9ac5a2e2-ae08-5640-8297-0337822ee05d'\n 'nyt://article/2e7d6345-acf6-50c4-8410-3180146f41e0'\n 'nyt://article/9efb2932-7234-5817-aa14-b9a962a9d900'\n 'nyt://article/5525c863-3825-57e9-998b-1a52ce17b15a'\n 'nyt://article/425b908b-7f00-5df7-a268-306745d8a926'\n 'nyt://article/72fd80cd-6acb-53da-8c58-6e793358de1b'\n 'nyt://article/05aafc13-c535-5101-a774-ea1684295e53'\n 'nyt://article/32bdb9bd-bc65-512a-ab45-9a6aca3a42d0'\n 'nyt://article/72345a31-99f3-5fcd-8bc7-5947028fd181'\n 'nyt://article/e20450c0-9d7e-56b5-8926-f3a3df766b2a'\n 'nyt://article/ff586cca-eabe-535a-8c0e-9e71b07474be'\n 'nyt://article/9c639fca-5507-5bde-af99-0d8ac7044e12'\n 'nyt://article/f1c928e5-191e-527e-b786-bdc0bb097d55'\n 'nyt://article/1fcbb4c8-9861-5211-b7d0-df84026e5bf8'\n 'nyt://article/ae7496d5-1bdb-5a8c-a460-587dfd625236'\n 'nyt://article/645e483e-b61c-5901-98de-a41e47eed485'\n 'nyt://article/43e7d592-9a92-5965-b0fb-6d41955ed323'\n 'nyt://article/10dccb4e-31b6-59cd-9888-1e823a9d5de8'\n 'nyt://article/f266258c-fbb8-571f-a247-b473c0a4571a'\n 'nyt://article/308397dd-647c-509d-a04d-c579d2dc00d2'\n 'nyt://article/76388a7b-12d6-5ff5-b834-92f349952926'\n 'nyt://article/97321e34-73ee-5c02-b7f8-a0b44dcc2a12'\n 'nyt://article/73c33549-350c-5fb0-a078-03ca8a592582'\n 'nyt://article/007347b0-4230-5b39-8f18-837d41dd7f4f'\n 'nyt://article/ed28f778-b273-50b9-b960-f9cc6550767b'\n 'nyt://article/91aa07cd-6cd0-5e04-b58d-e9de6392ce55'\n 'nyt://article/b060f5a2-1d0a-56b4-9141-da7e2e22d0c3'\n 'nyt://article/1264ab2d-f4f5-5c83-8cfe-fb69ac419dc7'\n 'nyt://article/c1f00dd6-e523-50b4-be6b-576607ea83cf'\n 'nyt://article/eaddc6a7-b8d1-5527-947e-604357af6c92'\n 'nyt://article/9d90ddc1-f4b1-5b3b-b29f-bc8b11a0bba1'\n 'nyt://article/0691903c-17be-5ed3-8e51-64574e33dade'\n 'nyt://article/7b5a32b9-ab23-56fa-a614-70bc6687943e'\n 'nyt://article/6b0073c7-3052-558a-85fd-a8a78529a015'\n 'nyt://article/cac5fa06-5dff-559c-a6b3-7b1db17e5434'\n 'nyt://article/e74dcca7-f749-5db5-91ac-e1cde20cfc1c'\n 'nyt://article/f6efe9f4-5382-5995-b1c6-05a3adb0ccca'\n 'nyt://article/a09e7fc6-27c2-52d9-bf81-4a1435f861fe'\n 'nyt://article/72f545d6-6c77-5eee-9e3f-eca5122cf05c'\n 'nyt://article/20d278d4-4c2a-541f-8337-20a8e6410b84'\n 'nyt://article/171196a3-1b23-5db8-8f7e-589a797c6ce6'\n 'nyt://article/0470f74b-9556-5ff1-a39a-b974b2cbbff4'\n 'nyt://article/8eab1199-e50b-536a-b7db-fb71f1d8d794'\n 'nyt://article/97b5e98d-16a6-5694-a801-434786dd0e22'\n 'nyt://article/8f2397b8-b9a7-5898-acb8-c93f07e6b964'\n 'nyt://article/ae4ed434-d900-5bd3-ba3a-5dd995bf1547'\n 'nyt://article/11cefebc-a63b-56ce-8eb4-090b5d4da51d'\n 'nyt://article/37855da9-f521-595c-a17e-a1a82ee3ff8a'\n 'nyt://article/ff98006a-b925-5732-8fc5-910b67e36f71'\n 'nyt://article/5c05d846-4e05-52e9-a4f3-5987b6a04dbc'\n 'nyt://article/17b2a98c-f079-5dfd-a9d9-c99aea0f7433'\n 'nyt://article/ed7d3baa-fd2d-5055-8fc1-dbcc8b83747a'\n 'nyt://article/9bed5d40-a5d7-54cf-80b8-fc6fe0a581e7'\n 'nyt://article/61f5b040-50f3-51bf-b762-c14d31b69ca7'\n 'nyt://article/a8c97eef-ac09-5465-b968-21af7b02f0f1'\n 'nyt://article/169e678f-19b8-580f-82fe-db597ffa49de'\n 'nyt://article/a4210be8-2881-58a3-829a-a2dccbffd498'\n 'nyt://article/f909c2d4-377e-527d-9d1b-23980d281390'\n 'nyt://article/a8d6e3ca-c672-517e-896e-ed0d41c7baa1'\n 'nyt://article/4b36ad6a-73aa-5f2c-b9e3-d7de9c86518f'\n 'nyt://article/0be96bcc-79bd-5ec3-9465-98c939c87466'\n 'nyt://article/ba999c3c-7327-5cbb-8d77-ec805d52aac6'\n 'nyt://article/8e388e72-05d3-5a5f-b3ec-42c3d7a901f7'\n 'nyt://article/e08924e6-5abc-5e98-8277-fad2697d7e50'\n 'nyt://article/3c9b3483-ef9a-5274-88a3-f4e065125954'\n 'nyt://article/f1747612-94ee-582f-8c95-9f0cd309168f'\n 'nyt://article/dfd06114-8a73-5fc6-bf09-f3315ff01fbc'\n 'nyt://article/b7cf9b7b-e490-552a-8dae-6d1b534dc187'\n 'nyt://article/be43a190-5160-598f-b148-14695ab73ec5'\n 'nyt://article/3c374ce8-74e4-5b2e-b77d-b3a2ef523699'\n 'nyt://interactive/0b9b4527-a60c-52a8-a241-c13bec062407'\n 'nyt://article/4f133296-9d2e-5b06-9369-0a40dc359316'\n 'nyt://article/043c7f7e-6e03-5aec-bd8c-d2b01a0d2124'\n 'nyt://article/662b4f50-21a8-550e-953d-e54bb9a0551a'\n 'nyt://article/5fffc7c7-99b8-5a77-89e4-139a8f0397e7'\n 'nyt://article/bd8f101b-9d1f-58f3-8cf4-4a7a1951c5ca'\n 'nyt://article/93037fec-6977-56fa-a64c-a484c5f7a747'\n 'nyt://article/1868b7d1-2662-532d-930c-a43bed495578'\n 'nyt://article/88cb12fa-1f9b-5cc0-bc1d-d088538b57de'\n 'nyt://article/9231dda0-5d42-521a-a328-51a0776cce1b'\n 'nyt://article/a05140a8-f475-57c7-966d-0a1d03788eb5'\n 'nyt://article/b50a47f7-51b1-5d9e-80ec-8352dff2b4c8'\n 'nyt://article/f478fcd3-ca73-5663-b5da-455f7f86ba45'\n 'nyt://article/5ca81c48-501d-5f43-b973-990e9bf442f9'\n 'nyt://article/6107ae72-c39b-536d-9f81-377cda725c77'\n 'nyt://article/322e9ad5-b5fa-56cc-a5ed-94604ce16b50'\n 'nyt://article/037bed0a-43d8-561e-a9f9-3f0afb29dada'\n 'nyt://article/7dd56915-1c29-5690-9fb9-9dd148d007ac'\n 'nyt://article/3013ab79-408f-56e5-8ce4-3eee6a426028'\n 'nyt://article/1f627cbd-47cc-5c57-88e1-bc179b066e15'\n 'nyt://article/ee69eb04-b1d8-573c-9f50-a60671c2739e'\n 'nyt://article/8b76cd17-9f97-51cf-af23-b79f30ba1e2b'\n 'nyt://article/8b1a3153-828d-5259-9f8d-48e706f38241'\n 'nyt://article/dd8292c5-e9ec-5cbb-9e95-7a0eeafbeba0'\n 'nyt://article/64176cd7-ba41-56db-b77a-ee9d9effa09a'\n 'nyt://article/ac20a82c-5a83-534f-83e8-cca048071ee6'\n 'nyt://article/d6bebda3-3565-5f3f-a78e-ae4f902d73e5'\n 'nyt://article/ce00a7cd-6fb7-583c-84e6-83143ee0f8ce'\n 'nyt://article/05ef42ee-67ea-5844-ac27-f0c69bd7ea42'\n 'nyt://article/774ef481-334e-5616-8a70-8725c45490ba'\n 'nyt://article/1584dffb-c4ad-5dd8-9f5d-d31f54e174db'\n 'nyt://article/c0b1c1fa-729c-53d9-9abc-dc969f45fca8'\n 'nyt://article/a7a59baf-e727-568f-9025-15460e249e9c'\n 'nyt://article/3023fecb-7c0e-5510-8cc7-9426ffea4356'\n 'nyt://article/6fa2fd8c-03fb-5b9f-a719-7616076a0305'\n 'nyt://article/734e64ea-382f-5c87-86a7-45173101945d'\n 'nyt://article/453b1ddb-c63d-5350-9f9b-96d4e1596373'\n 'nyt://article/0044db33-e135-5aa1-8846-9216a345b1c4'\n 'nyt://article/9d04e9e4-3e21-5b95-a962-14372593fc20'\n 'nyt://article/7d129803-a512-5579-bba8-215e3922180c'\n 'nyt://article/480cec88-2c38-54c7-82d6-588f16a8ea53'\n 'nyt://article/634094cd-ddea-5cd0-88d9-eabc6707fa6f'\n 'nyt://article/59ffc927-caa6-5925-a931-c49205416510'\n 'nyt://article/ceb733ac-dd40-5959-91d7-8bfad72a524a'\n 'nyt://article/e8d5f145-7491-57bd-8524-db02a2cb57b6'\n 'nyt://article/55d91f12-843f-5f8f-a07e-0ecdf2cbab45'\n 'nyt://article/e68838ed-6b45-5a4f-b6e2-a841fd0c7db2'\n 'nyt://article/179e8680-4a2b-52be-b7bb-d470f7530207'\n 'nyt://article/b96f2d1e-4d5b-57a3-a5d0-5763afdd25db'\n 'nyt://article/6f9316ee-39c8-5ae5-bbc2-1541928e3d04'\n 'nyt://article/3bfdfc8b-9e2b-5da3-a75d-bc5f33e10246'\n 'nyt://article/8438060a-c031-5e47-ae78-bf9a25d01b63'\n 'nyt://article/9bb96a0f-e59f-5a35-8f32-d5e3f0abc90a'\n 'nyt://article/b49bf43b-9801-5124-9cf2-46a0543226d2'\n 'nyt://article/d42c3a2b-ac1e-5503-a7d2-d7b31bee38fb'\n 'nyt://article/d8c3a329-d6bb-5787-b23c-35b8c911246e'\n 'nyt://article/d02a66e5-2684-5259-b1a1-b5f706180e85'\n 'nyt://article/78f02290-831e-54c0-a29c-218dc218387e'\n 'nyt://article/e2d4109b-47e9-56ac-89cd-3dfdc25062c8'\n 'nyt://article/d28a0311-ce6a-5919-9519-31e69610fa00'\n 'nyt://article/e577f64b-b4c0-54b5-b4eb-2c9d186fc936'\n 'nyt://article/6b7c779b-9934-5937-ba83-b6e270087252'\n 'nyt://article/439ae825-a418-5d41-9547-95fc49e01ec8'\n 'nyt://article/4fe6d9be-fa9c-5c3e-afaa-0c7b706342a8'\n 'nyt://article/5c26bf3b-ce2a-5593-81d7-788f26fbb709'\n 'nyt://article/a17b87cc-e070-5dba-baf9-30d787a1a3c6'\n 'nyt://article/be64ab07-4c1e-5679-af62-af6e471973d9'\n 'nyt://article/ca04ce39-8097-55b3-9806-bba18e7992b0'\n 'nyt://article/e10af328-b171-5be4-a835-f752e53a6e75'\n 'nyt://article/e8a3cce8-3ac4-5183-84f3-5c1fa149dc74'\n 'nyt://article/2cc4fd3b-92a8-5381-ac97-4f1a157c26cd'\n 'nyt://article/c5f8ad2c-5610-5633-bc56-7e04ed186700'\n 'nyt://article/b84d0c73-959b-5346-acbe-faf26ff2f44d'\n 'nyt://article/9a82c941-f979-5f18-a7a1-353f7326e303'\n 'nyt://article/1be13f47-ce53-5ace-995e-e15b9c1f1ca5'\n 'nyt://article/13201841-78b2-50f4-8b05-af89ffc88b93'\n 'nyt://article/aac4c7ba-188b-5d12-b514-8e431d022a68'\n 'nyt://article/ee51b07e-218e-51cf-be36-dcc55d6f347e'\n 'nyt://video/0e2dca6d-5a05-59d8-bd14-f0554f512aef'\n 'nyt://article/7a9daa63-bf23-5c08-a4ca-dd9d608b3c12'\n 'nyt://article/86394a88-d963-52dc-a84d-2473e3299b25'\n 'nyt://article/c47e5304-25af-52c0-95d4-a8486ffb679f'\n 'nyt://article/3ab26250-29d2-5c9e-8a92-d2d517dc4a34'\n 'nyt://article/b9f2247b-5848-5b77-b37d-2ed1f4027707'\n 'nyt://article/af469339-ca62-5208-9f1d-89e5319821fd'\n 'nyt://article/7cd92c10-e56a-5d5f-b18e-da2053ada014'\n 'nyt://article/1caad361-6504-5272-98d3-0cc16cfdd046'\n 'nyt://article/63f3dacc-ea58-59b5-b671-daecb1b68d48'\n 'nyt://article/f17f534c-6a81-516d-a85e-d99470965280'\n 'nyt://article/a2a7f5ea-03c0-560d-ace7-b3376d725d27'\n 'nyt://article/ffbc2b6a-781a-5a8e-9714-dafa8165a379'\n 'nyt://article/99a890a2-258d-56c2-bdc8-d1b5a380f7c2'\n 'nyt://article/3a8ac920-39a0-5f90-ae19-b0ab484c67d2'\n 'nyt://article/74dfed2e-5bf3-54c5-b230-7827765f5038'\n 'nyt://article/1a69d72d-7e98-5c18-9ad9-0d196edd636b'\n 'nyt://article/751673c9-be22-551b-8ab5-039a92e3cd12'\n 'nyt://article/f9764a04-005c-56d7-9231-26b253bf9f54'\n 'nyt://article/3515280c-582d-5833-9c98-2b9e64fb4ea2'\n 'nyt://article/d1fae30c-3363-5b39-9e2a-f5a53e3e93bc'\n 'nyt://article/d58f1d47-2eb0-57d5-b456-a1fb6dff0b5b'\n 'nyt://article/4848f685-f449-5e87-9a05-d9e7bf461b43'\n 'nyt://article/9b1d1ec5-5ac4-5f93-8013-335e04ec9de7'\n 'nyt://article/b3937493-67e9-55fb-8aca-601b53f72e12'\n 'nyt://article/fb3b9473-a940-5458-b547-bad7e0c4f470'\n 'nyt://article/1a75b0c3-b9a9-51e8-af06-95b173ccf079'\n 'nyt://article/3f8c853e-182d-5d82-a088-bae94dd1f711'\n 'nyt://article/a595def4-f2f7-5293-a84b-fcb2d9f3ddc8'\n 'nyt://article/45556a94-2dbf-5547-bcff-22daf6efeb80'\n 'nyt://article/e9c89d4d-4ee8-541c-a781-9d97668283c9'\n 'nyt://article/0b7b0696-f8f8-5d9c-8086-55a042199daf'\n 'nyt://article/0a161ae3-a347-526c-bc62-be2aca6a9262'\n 'nyt://article/8f61f73c-bc03-5b29-92f3-d129ea874542'\n 'nyt://article/40a288ab-6df9-550a-97fb-f33cd9ab355d'\n 'nyt://article/d467af29-9716-518d-bdd5-7f4f1ba31d6f'\n 'nyt://article/2e5f329b-186c-564e-a5db-c5d85156248b'\n 'nyt://article/5810dbf3-c9bc-5fd0-aa77-ba03d49424f3'\n 'nyt://article/fd6c64ae-147f-5c26-810b-32f9e9e3cdd8'\n 'nyt://video/6d6dc889-5090-5b75-8fbb-4bd987dee863'\n 'nyt://article/eef74041-b339-5b03-8b33-1dbfa3e28ca6'\n 'nyt://article/b1179855-fe4a-503b-9086-32a9d44ba791'\n 'nyt://article/aca17205-722f-5c77-a976-de1e0e3c53f6'\n 'nyt://article/1725efa0-1f72-5fc7-8d4a-4973a5a175ad'\n 'nyt://article/c9eecb02-e3af-5467-9d1e-b40a2da26b4e'\n 'nyt://article/cf96d19d-7852-5190-becc-0bd1ef7ea863'\n 'nyt://article/246125ca-2829-5830-9165-4c098c0ef459'\n 'nyt://article/8dc879df-0bfc-5666-90fc-588dee2a3638'\n 'nyt://article/675bca6a-4e98-5a1d-aa01-57048916f4ec'\n 'nyt://article/82df39e6-6975-56f8-9fcb-938c30daa573'\n 'nyt://article/b997d269-a9a7-533a-9323-f84fbee38f18'\n 'nyt://video/a28d22ad-5e2d-59c3-a0b7-85a9c51088e0'\n 'nyt://article/dbd9cd95-3d38-589b-8aa5-0277252fea39'\n 'nyt://article/a1db4e0f-6bf6-50a1-b9b0-6abdd97cfd7f'\n 'nyt://article/e2b7e424-429c-55b6-a460-33a3311fab41'\n 'nyt://article/e005ba7d-31d3-59b4-ab81-b7bdc0160763'\n 'nyt://article/fb4fefe3-7623-591f-94f3-0c2d9dd7bd52'\n 'nyt://article/f3946c85-e2b4-5a24-b0e1-42cbcbdffcfc'\n 'nyt://interactive/7c027ba5-d142-59e3-888e-260d757231a8'\n 'nyt://article/3feda246-8ba8-5573-8ae7-6d52526417a6'\n 'nyt://article/7f4ebd08-acc7-5e0a-a490-13a11a2f3857'\n 'nyt://video/d9c982fc-44ba-5fda-93da-ed9be745e0e0'\n 'nyt://article/cdd5b359-8961-52ac-86d2-4d9c675b224d'\n 'nyt://interactive/771b0e23-b836-5ecd-842f-9db7d3cd1ca1'\n 'nyt://article/2cbdb175-4b53-5943-a06c-6f5b95591e29'\n 'nyt://article/c21535cd-c2a3-53c5-ae54-8a07dd5f23ca'\n 'nyt://article/f48bf28a-8e28-50b9-bb9d-ded58680589d'\n 'nyt://article/2130a468-9bb3-50a1-bdf0-90e14e9cce4b'\n 'nyt://video/a1e9e7cd-463f-56d9-a59e-f012313af5a2'\n 'nyt://article/4e179427-91ce-5744-b821-8346c45f874b'\n 'nyt://article/fa0979c1-43c2-5483-8d0a-afeeadf4958e'\n 'nyt://article/9f1b076b-d4aa-53e9-bc2f-75496d7b2c61'\n 'nyt://article/00d7b103-1fec-5ccb-b816-30b51ee2fd71'\n 'nyt://article/1d66882c-748d-5f47-96da-c4eb751fe573'\n 'nyt://article/ee5cfb9f-d487-55b3-8fa9-046f6e4f207b'\n 'nyt://article/7d382142-6b6f-551d-8484-6e35963ad993'\n 'nyt://article/9851a8d8-fbe8-5419-bebd-8867dc21a61f'\n 'nyt://article/d2d3170a-0ab8-541c-99ac-5661d5b29182'\n 'nyt://article/4086ee41-b6a8-53e6-b05a-9dbf910ec353'\n 'nyt://article/791bfe1c-892a-5eb4-a64a-f06da5862d15'\n 'nyt://article/0ce68961-8891-58bb-a416-112fc4d9f957'\n 'nyt://article/6d71b2af-2a79-51bb-8179-3d4b6fd19877'\n 'nyt://article/087238d9-507c-5e1d-891a-554560814382'\n 'nyt://article/b2caad66-84d1-5bad-8e8f-bd8c6c33c5f3'\n 'nyt://article/8c831cc5-3389-5d7d-905a-c7ab7c40250f'\n 'nyt://article/78c42333-8802-5b35-a43c-6a58e27a3178'\n 'nyt://article/34211071-53d8-5eae-8f20-170abc580fe9'\n 'nyt://article/1bb48865-10a8-5be4-8a82-920e17ada437'\n 'nyt://article/2bc52c57-7bf3-5023-bc3f-3573a9a79d10'\n 'nyt://article/43e2f8f7-82c5-52b9-9574-16fa2eeb6cc6'\n 'nyt://article/85c7215e-4198-5715-98c8-4f80b44e7f1c'\n 'nyt://article/9938d81f-558d-53ef-a45d-5b7c92cc884c'\n 'nyt://article/22edf542-d819-5470-874b-7bd9e3ebff83'\n 'nyt://article/69302d3f-e250-57cf-ad17-b1ff66012fee'\n 'nyt://article/d2022df2-3ba3-5be3-9a65-5121e16deb7c'\n 'nyt://article/67ac6e5d-8925-58be-a485-51203e5fbd04'\n 'nyt://article/88f584c8-b145-5259-9150-5f65b62cbc67'\n 'nyt://interactive/a11601ab-8b1c-50a1-acd9-49752ac5961f'\n 'nyt://interactive/248db26b-53d1-5265-8a3a-8160b7d7045e'\n 'nyt://article/603971a4-c18e-5c5b-8207-ac872b44fd64'\n 'nyt://article/7574c1d3-052e-56ef-9083-34529055cc21'\n 'nyt://article/0f0e21ed-0046-5e6a-9cf9-599aa6d74e6b'\n 'nyt://article/97ba1643-b91c-50a4-9b7c-1a41b39b4226'\n 'nyt://article/8cd79dac-9c10-5c32-9abd-04371ce9d99a'\n 'nyt://article/e3b56e47-ab31-5e92-99e6-23bef2d2fcad'\n 'nyt://article/2a75819b-41dc-5e6c-bd08-23c2da98cb42'\n 'nyt://article/585bfce1-f74f-5f8a-b56e-68642b03e63e'\n 'nyt://article/5394b75c-f362-513b-841f-c50a382b80b3'\n 'nyt://article/ae49a2b1-5375-5259-b66b-9c7f25e37b3d'\n 'nyt://article/ac6cbfab-413d-5363-a467-ebebba631b6e'\n 'nyt://article/76df24b4-58f7-5d25-8adb-e5c7baa06994'\n 'nyt://article/a1e4d656-93c6-56ec-9c63-079882d3c780'\n 'nyt://article/eab577c8-332c-5ef6-ae73-80ae29f7c5b0'\n 'nyt://article/d11d84d2-7b06-5896-ab7b-3461a6ecc057'\n 'nyt://article/53ba99c4-0502-55c1-a005-7beb5b48440e'\n 'nyt://article/c298d43d-5cd2-529e-a92d-0c893a9215f8'\n 'nyt://article/a0d30874-4473-5fe4-b2f3-f240f1da1a89'\n 'nyt://article/b9b6dba4-3932-5eca-ad60-f48bdf187498'\n 'nyt://article/f44fece2-f3ca-53e1-9cfc-258df8ce41a1'\n 'nyt://article/48e88464-9802-571b-a224-2afa09551dc3'\n 'nyt://article/b6366dff-2dbc-5d2a-b5a2-65df0fb2fbe1'\n 'nyt://article/0330be8f-dc33-5115-a9a9-3cb1725db858'\n 'nyt://article/194cf2ad-3f25-594f-9ed0-5d1ba09e9f32'\n 'nyt://article/40a60564-f0e1-5cca-b6a9-dd7c80d72e1a'\n 'nyt://article/14f9475b-64cb-5868-af6d-7398c3e1b189'\n 'nyt://article/4e6824c2-09bb-5989-8c69-076283ace0e1'\n 'nyt://article/88083362-0591-5707-8735-2ffa3a7c39e0'\n 'nyt://article/6b93dcbd-0368-5953-a885-6bfb3952a04c'\n 'nyt://article/c7cc1651-700b-5faa-a3d5-52a408542ea5'\n 'nyt://article/851b69ae-20b6-56b8-840a-2359f31050c2'\n 'nyt://article/f03a360e-0f2c-5e03-987c-a84f8e5480f4'\n 'nyt://article/16a4f139-9086-5bc0-a908-ff5734e69c96'\n 'nyt://article/4d6cae22-38dc-5b5c-853f-497ef317e617'\n 'nyt://article/77ba14c2-12c9-5ad7-92de-95fd770a126b'\n 'nyt://article/d8e3bad3-cdf6-5256-af5f-1e66179521fb'\n 'nyt://article/c3880cb3-9c9c-593d-b722-3191090e1780'\n 'nyt://article/56cb1fae-3d0d-57c7-8abf-baff010b503c'\n 'nyt://article/83ea98d4-71e9-57c0-9431-2f6c2e149828'\n 'nyt://article/04fa0e90-0467-5baf-9872-52b735f02cb1'\n 'nyt://article/f2c64481-e5f6-5be9-9263-545aa9fcea38'\n 'nyt://article/5ca6c851-83ba-545c-aebb-163bb7a7f01d'\n 'nyt://article/3165019a-b0d0-5655-a2d6-49e3badc9296'\n 'nyt://article/d43b3181-eeda-5bc5-a8e2-0b04f4ea2b1c'\n 'nyt://article/ce88444e-4a82-5519-ad97-d3ae46cb7383'\n 'nyt://article/745f06ed-cbe7-5c7a-83a9-9847cbc7788b'\n 'nyt://article/02cd1614-5d1a-5f74-b48a-525a76dcfcbe'\n 'nyt://article/f1101e40-f436-5bd8-9380-9f42e6664827'\n 'nyt://article/48aa0bd0-bf9f-5bfe-bf78-d47db8422438'\n 'nyt://article/4a61911e-310a-5869-9a0b-a608fea9191f'\n 'nyt://article/7c80e11f-2d8c-5ff8-bd86-008a621eebf7'\n 'nyt://article/d0201d35-a8bc-5da7-b631-fde4c7935423'\n 'nyt://article/5b7c93b4-6fde-5610-b6d4-aaf51cd91e1f'\n 'nyt://article/a30e9b5e-018f-51a6-beee-d322dcbb7253'\n 'nyt://article/6e59062b-4795-5f4a-b44e-df794ebbd318'\n 'nyt://article/e16b7e6a-7206-582f-bb72-0d889290b4c1'\n 'nyt://article/5790f3d5-d08e-538f-9dbd-e47915c7cced'\n 'nyt://article/d9605266-60da-56b9-8815-fc4e9a0548a2'\n 'nyt://article/7988725f-830b-5865-bfc3-e15a56e77c88'\n 'nyt://article/edd62521-eed3-5784-809b-3f0c86f92316'\n 'nyt://article/5d03a349-a01a-5f87-99cf-a8e53272351b'\n 'nyt://article/23b7d4fd-3506-543d-85a7-bbebc37049d1'\n 'nyt://article/0fd70aca-90ad-55ec-9fb2-c33d35d78fbe'\n 'nyt://article/ffcc221d-41e8-54fd-a188-d95196f0525b'\n 'nyt://article/87a8d87f-5d2a-51fc-b6b9-457513618d04'\n 'nyt://article/c40dcab7-a27b-5223-bd95-3d7d528602ef'\n 'nyt://article/715b0dc1-677b-5429-8684-a0719b000dbc'\n 'nyt://article/724dfa16-ee3b-5e77-9818-39290845e37e'\n 'nyt://article/fe24bb87-aa67-5c7f-9e58-8ac420e3c8ac'\n 'nyt://article/71acd376-013b-5b5d-88ec-f59c709c1a14'\n 'nyt://article/45ef58b6-02b9-5193-be70-a565c39c2fef'\n 'nyt://article/ee755ee6-0305-5921-8881-19310ab3dffc'\n 'nyt://article/8450aa29-22c0-5061-b3fd-b1c70cdb19bd'\n 'nyt://article/b1923eea-f9d4-5367-9e98-6313dc76bde2'\n 'nyt://article/8c763621-307f-5ed7-980c-8ccebcfdd1bc'\n 'nyt://article/4644b4de-98e4-53a8-8d80-d7727eb0d39b'\n 'nyt://article/3d56ecb9-02e0-50de-8945-30c74e6d80dd'\n 'nyt://article/2fc7b409-06f9-5843-aabe-d9a97ddd0e0b'\n 'nyt://article/5046b801-fd1d-5d00-bf7a-08615170a565'\n 'nyt://article/be234f86-e348-57a6-ab09-9a4b79c0bed4'\n 'nyt://article/4bd1559a-78ca-50af-81ea-de15eaad12fd'\n 'nyt://article/1e9f2bf7-eef7-598f-a5c6-c533f47fea22'\n 'nyt://article/2ff750d1-f415-5f67-81b2-9a8a4aa938fe'\n 'nyt://article/74b67742-4497-52a8-987f-a9910efd264c'\n 'nyt://article/dfef3741-451f-5240-b7c2-bf316569dbaa'\n 'nyt://article/b4a00479-d6a2-5c36-b1a3-3f98af599b13'\n 'nyt://article/36e7ebae-ab2f-5099-96a7-8d504bc91f56'\n 'nyt://article/b89fbc24-503c-56e3-a7ea-78bdf2b16296'\n 'nyt://article/861c3778-551e-5aeb-a8f9-d1a29cbbad3a'\n 'nyt://article/cfaaf4af-7c06-59a5-aa79-4d65484f6018'\n 'nyt://article/6d170fad-5fb9-5853-9c45-74fad5d380cf'\n 'nyt://article/bcfe41a8-9ff9-5ac8-8765-3526ea2bab26'\n 'nyt://article/7296aea1-7ff1-5591-a836-6a5791a45167'\n 'nyt://video/2d082158-b55f-526a-a8c2-08ea159fa4ef'\n 'nyt://article/3718683a-3d98-58de-8e8e-c8d061b05f40'\n 'nyt://article/29066165-39fc-5c8a-b916-60b7a5733078'\n 'nyt://article/15280e5b-5a2f-52f4-b526-167f2d9a8b52'\n 'nyt://article/11a4f249-cc8f-587c-a864-ea8974ddc66c'\n 'nyt://article/121663f1-a86b-501e-b234-3a2a70c4e84e'\n 'nyt://article/eb1ac312-cb4a-559b-8002-f04ab5e3f1d6'\n 'nyt://article/b6d99d61-591b-554e-abd5-3a76bac372f0'\n 'nyt://article/1026f926-788a-56c8-9687-be1ef1326933'\n 'nyt://article/0ae1fe7a-029d-58b6-8490-3aa6a405a6cc'\n 'nyt://article/3768d808-97ec-5ea7-ac76-9cd73ad6ef36'\n 'nyt://article/8641e74d-5bfd-5338-896e-9f1673e97bee'\n 'nyt://article/079e1c88-88f7-509d-8d8b-25c4927c3c2f'\n 'nyt://article/c93971c6-f618-5e57-a2b8-9d4bfc2d71ca'\n 'nyt://article/9c283231-0a2f-5b9b-9d7a-0afd3b9e7b25'\n 'nyt://article/947811a4-1680-5cbb-a3b3-f6a297c91b3d'\n 'nyt://article/13d0fbff-4047-59e7-aa1a-bd61327e177a'\n 'nyt://article/39b4bcf3-b366-52ec-a6b9-c9ed6845e737'\n 'nyt://article/c7b2c3fd-fd5b-5fb5-a640-c895522a234b'\n 'nyt://article/135b8edd-7c70-584d-a4a3-88d1ae20949b'\n 'nyt://article/42f20320-e0e0-50d8-ab6c-ad5a0dc2206a'\n 'nyt://article/5d88a65b-3c27-580b-a60f-9bc96ef4c8d5'\n 'nyt://article/9e77acb8-a96e-5800-9242-52e9ecce8328'\n 'nyt://article/b7c3a370-661e-57d5-b8b1-82acb934a701'\n 'nyt://article/55fb8e00-0926-59cb-a032-37effbb5f8e4'\n 'nyt://article/909d8fa0-6166-5d27-accb-d0aa3c2248de'\n 'nyt://article/beb1aabe-cda5-596b-acd0-790ad4ca2c6c'\n 'nyt://article/94351841-8d33-5b47-b1c3-c255324c47c9'\n 'nyt://article/b1a5a0b6-7292-5c56-8d9e-cfb0d20c5078'\n 'nyt://article/1b1690eb-5674-5bfa-a9bc-a8e31dfeb15c'\n 'nyt://article/61fda426-5a38-560f-90ba-6d72988d4924'\n 'nyt://article/ac9fba99-491f-57c0-8555-db7c19fb4ab3'\n 'nyt://article/8c46ffb0-3f90-560c-8d4f-e8ef2367ffea'\n 'nyt://article/5f4124a1-7b0b-5680-9462-8fbaedfc5d5f'\n 'nyt://article/3956851f-dba1-5ac9-8cf2-123003de78f9'\n 'nyt://article/12278eba-6d7d-5bf5-be0f-3564ce07dbcd'\n 'nyt://article/2189c6ec-f33b-550e-a6c4-4d17906e2b91'\n 'nyt://article/f5fee146-b2a8-5b47-ab89-20332ce1e854'\n 'nyt://article/73dcc5f7-5bd8-5fb0-9963-55e6f93674ec'\n 'nyt://article/a3f06b15-fd62-5ab4-887c-a72888d564ff'\n 'nyt://article/ff8e91fc-f14b-5308-859f-737756f5a21f'\n 'nyt://article/133dd3e6-5207-56fa-a991-657bd7900075'\n 'nyt://article/aa291b85-bb04-5267-9ab3-66e175280b6e'\n 'nyt://article/247b9df8-833a-5d87-8a2a-92830ceb0697'\n 'nyt://article/be778c8d-a921-5d02-8faf-1ba63d172084'\n 'nyt://interactive/cec6b16e-182f-5a50-941c-fc837f60905e'\n 'nyt://article/8e4ed88e-a67d-5157-9107-4a8972954187'\n 'nyt://article/2fc6a8a8-8769-5da0-bc09-65e297773444'\n 'nyt://article/de82ed37-0873-5efc-9ff0-2835c7c12f08'\n 'nyt://article/7b16f843-9f6c-538f-81dc-5e0e548740fd'\n 'nyt://article/5f3802f8-51da-57c3-a181-bea89f39feac'\n 'nyt://article/79af3c72-a052-5a93-9f3b-f632373062e3'\n 'nyt://article/da63e7c5-7907-57d6-a103-dd2b13d93020'\n 'nyt://article/1903d14e-673f-5d60-bc4a-de76f9180298'\n 'nyt://article/3ebeb1f3-2062-5afe-be04-750bae440c03'\n 'nyt://article/309cb935-3541-57eb-8555-40cdb129289c'\n 'nyt://article/da48b53a-39e8-5a61-b0f4-68ac444d83fd'\n 'nyt://article/94bb4adb-d7e8-574e-91e0-6e46baeaf031'\n 'nyt://article/790b937e-adb8-5d21-be33-0b610871e626'\n 'nyt://article/228f8894-9fb8-5d5b-9273-8d318e37d1a0'\n 'nyt://article/f4f2b5d3-2421-5747-a9de-eaa7b43cd236'\n 'nyt://article/d5a57e6f-cdbb-5086-b32a-6f3591ee9be8'\n 'nyt://article/9b556107-0c61-5dd5-bbda-4ed20dadea54'\n 'nyt://article/a0c3ce79-4f21-5474-b55e-d214c4da5010'\n 'nyt://article/686a1ba9-c905-55d6-934d-9fb229099ae2'\n 'nyt://article/b41e5fcd-2992-5863-b843-ed6e60f1f8b0'\n 'nyt://article/67043aba-5295-5cd4-8a09-420e281f40d8'\n 'nyt://article/fdf0af35-c084-5dc9-81f8-56fe6d93f286'\n 'nyt://article/5459ddb9-0827-5a8e-90d3-ac4fafe281e2'\n 'nyt://article/dfff6493-0b18-55fd-b938-59741c41e860'\n 'nyt://article/47897b11-eeae-5199-b30e-e1e1a7d2f23f'\n 'nyt://article/ca91ba44-0b7b-5891-98a3-b86170ef4c3f'\n 'nyt://article/453db632-7f48-5f0c-b1ca-ad69a820436a'\n 'nyt://article/aea51bbc-8057-5c8a-a229-701a1cf07fad'\n 'nyt://article/20ad4345-5d21-5c05-839b-a8510d833e02'\n 'nyt://article/55f49bc3-4906-579c-bb93-43bfddefe482'\n 'nyt://article/4d7c10a0-edf9-5192-a71c-f61c3c12dc4c'\n 'nyt://article/fc82f213-e485-53c0-8afb-f708fa8056b2'\n 'nyt://article/a561bcc7-6bc9-5d3a-92e6-f099a4888898'\n 'nyt://article/93cf7795-e83a-51be-903a-936956134116'\n 'nyt://article/339fec5f-6511-50b1-b1c2-f893a67d14d7'\n 'nyt://article/849686ae-0cc9-56c4-90bb-dfdb53faacc6'\n 'nyt://article/0be8e63f-8c6b-518f-94a6-25cf893f72f4'\n 'nyt://article/b5592f65-939e-5f0c-9bde-8b09960c875a'\n 'nyt://article/da75ea5e-401b-5415-a704-54767183dfa8'\n 'nyt://article/59e9749c-95c9-5499-940b-566e9b965ddb'\n 'nyt://article/d2f8d9c2-05b8-56cf-a4a1-0a5d15a4fbc8'\n 'nyt://article/2e880d95-de4b-5c1d-9509-3e35d150a0c1'\n 'nyt://article/a158495e-7617-5006-9bed-522cc97ab524'\n 'nyt://article/dabe4d45-03b4-5254-a8c8-1982aa4d8503'\n 'nyt://interactive/a827a0cd-cc7d-51e1-90ce-bb880b8715e3'\n 'nyt://article/151a79f9-8ea5-5605-bf7c-29108ca63fa0'\n 'nyt://article/ecf3c129-0fe0-5729-abed-042d35c7ca13'\n 'nyt://article/c3b48b5f-7231-53d4-a39d-180bfeb52574'\n 'nyt://article/6704da79-3476-51e6-8c39-565f7a214395'\n 'nyt://article/0a40c375-159a-5d65-945a-3b18d5aea53c'\n 'nyt://interactive/5d11d76f-c5f3-546e-84f3-f2ca59070ba0'\n 'nyt://article/5c2031f3-9f2a-5b12-b22e-37dcd740c7f4'\n 'nyt://article/af6d677f-0238-5836-8a65-0c3518b8bccc'\n 'nyt://article/67491de6-aad2-554f-9a76-96af0655c46d'\n 'nyt://article/b18c13cb-0a4e-5133-a0aa-82637666284c'\n 'nyt://article/53c77cb4-2927-519a-83b9-33294ffab8b9'\n 'nyt://article/25942ab2-0ec2-586e-82c7-836bfe051e8c'\n 'nyt://article/bf268904-1562-5497-bc5c-76d69f2bfd99'\n 'nyt://article/1832b467-cab8-50a6-89de-827b5bd8dd35'\n 'nyt://article/6eae42d5-f0cb-5dff-83ed-b762bab8194f'\n 'nyt://article/2654de7a-6515-5ebf-997d-fce3d79f2e10'\n 'nyt://article/a1a1b307-630a-58b2-a6bb-3eaa8452bdbc'\n 'nyt://article/975b5c99-9580-579d-b972-7ddbd29a38bd'\n 'nyt://article/920d1956-5a7c-5277-b1fb-c73768bd854f'\n 'nyt://article/3376e4b6-202f-587c-a519-bcd4a6cc794c'\n 'nyt://article/bdfe9194-fa36-5850-8ba3-4aaf7f1c6c0c'\n 'nyt://article/2a3520b4-60d5-5c22-b665-bfeccb61f939'\n 'nyt://article/90ca0e09-27fa-54c2-99d3-2429a67b0b96'\n 'nyt://article/14f619f1-ce19-529a-a31b-a4ac6b697856'\n 'nyt://article/8482cdcc-f959-5615-b921-bfaaea2afbfa'\n 'nyt://article/e888dc69-89ef-5f06-8a13-4d93c48eb1d0'\n 'nyt://video/0ab89979-0cb2-5d86-80aa-ea1ed4f37959'\n 'nyt://video/3f409899-d1c8-59da-8822-3cad8368573b'\n 'nyt://video/17e874e3-c2e8-548b-9f3c-781edec73f81'\n 'nyt://article/17c0645d-8ca5-54ce-888a-972a8d2b838d'\n 'nyt://article/f10fc00a-7893-585b-8609-0551802314f6'\n 'nyt://article/2efe5005-4e22-519f-aa58-5828bd8d5074'\n 'nyt://article/259e2f94-dfc9-5f12-ad7b-01341d8917c3'\n 'nyt://article/79d50831-97b4-50ba-bf35-7c46fb1657a0'\n 'nyt://video/dbab5bf0-7af7-561f-9e82-8a991e92c1a8'\n 'nyt://article/ac389cbc-d7de-5624-a782-531d4e80dfdc'\n 'nyt://article/5e37d73c-4423-5870-b9f2-38e2f3478e61'\n 'nyt://article/647bb7d8-03f4-5936-8191-847dd040ee87'\n 'nyt://article/6fd221fb-1e38-5919-8595-e74715e8219a'\n 'nyt://article/1d57b825-6035-5d9a-8355-ddeb92bc5f9b'\n 'nyt://article/1ac842db-673e-5c4d-9de8-5aab729fc921'\n 'nyt://article/0386d9c4-640b-5e2b-b5c3-e931bcbcdfe1'\n 'nyt://article/0419b7eb-5064-59aa-a5f7-58157d6c4fb8'\n 'nyt://article/9287b835-e466-528e-ab95-9d147e6055ab'\n 'nyt://article/660a3be7-38c6-51c5-bec7-2ecc3ffafc16'\n 'nyt://article/8479f39a-8e31-5811-bb1d-024e0cee1d21'\n 'nyt://article/1a2d131b-84d9-5f14-b454-4a448b26696a'\n 'nyt://article/afc6c6dd-730f-5ca3-bc20-300f56f0f63c'\n 'nyt://article/569fa406-6698-56dd-ad6b-603d8706258a'\n 'nyt://article/68288dac-a246-5a3e-bfa6-ea1ae07bf885'\n 'nyt://article/3db89c39-cb78-5001-b6d3-d3dff2120b81'\n 'nyt://article/03f6592d-7344-50d5-b959-dc8941263175'\n 'nyt://article/027f60e6-37df-5d14-ab49-cd3248d111f3'\n 'nyt://article/3e4f3978-7779-53cd-a675-a803957da557'\n 'nyt://article/76699884-d119-59b8-aa2c-e0e78c52d5f1'\n 'nyt://article/38f25ee5-3be8-59e8-b16c-242b9bf32e6b'\n 'nyt://article/0f878729-27db-5529-b7e8-4f1d1ab39d0d'\n 'nyt://article/c6dd4e1b-de80-536f-8797-de56ec6259de'\n 'nyt://article/8c0fde20-bbaf-53a2-85d1-2f2671eb8850'\n 'nyt://article/6323e296-a218-59d2-932d-eaca9483792b'\n 'nyt://article/b9e4ce83-aec5-5fc0-a2ad-1c34d7a5cbf6'\n 'nyt://article/97b2fedf-3961-5a13-a5d0-aa9c806926ed'\n 'nyt://article/3f0874c3-cea7-556f-99cd-c7b83afb55c2'\n 'nyt://video/3677491c-f615-5bfa-9ee6-449fcb690e03'\n 'nyt://article/a382dfe4-0ec7-5a5b-9c50-d16edffd71e5'\n 'nyt://article/3150fae6-0727-52d5-b08d-bf41ee75390f'\n 'nyt://article/442618ae-fcd8-5d79-bac5-849170ff879d'\n 'nyt://article/db457222-c634-53ec-a900-a7b8c52588e2'\n 'nyt://article/0f7062d1-6bc8-552a-9d55-dbc20a55aad2'\n 'nyt://article/42e58941-b3a9-5089-9e0c-74fbb38a1dba'\n 'nyt://article/e167b55b-5484-5b55-89f1-ab1090e4bd53'\n 'nyt://article/357912f1-529c-5b25-adb6-cfd06e969185'\n 'nyt://article/db076cbf-62e8-52f9-840e-e78557e0ec1f'\n 'nyt://article/c1d34c56-1d30-55f0-a12e-32478b8d6984'\n 'nyt://video/d50cc3d3-639a-5935-8dc1-46d9c739f557'\n 'nyt://article/659a19b0-05ef-582a-a9fa-5eabfb7fe273'\n 'nyt://article/63536a53-9a10-5894-a6ec-e21c01d6f877'\n 'nyt://article/0aad87bb-d2a4-5594-9383-5a5c584fa50a'\n 'nyt://article/4af47f21-1289-5066-9d9f-250ae65b01a2'\n 'nyt://article/779f9e15-ec2f-503c-93f6-5029b5cf667d'\n 'nyt://article/84235853-6508-5a59-8c61-90be1042cce7'\n 'nyt://article/f1c5d6fc-82f0-507f-b4ed-b9dba2471f7b'\n 'nyt://article/3ed9bb14-1465-5dd9-a515-34e5789df9a9'\n 'nyt://article/ce9ec281-93ed-5c59-bb7f-084a8f678e2d'\n 'nyt://article/bf3131a1-ea88-5484-b3da-e85f9a4205d2'\n 'nyt://article/89084c3a-459c-5297-a786-7ea66342e40f'\n 'nyt://article/00252b63-b225-5eef-ae03-54d4b55d3922'\n 'nyt://article/16d23fb1-78df-5514-9e1f-ef1fd0b9c2cb'\n 'nyt://article/3c09c177-080a-5f4c-9332-2fb66bed009f'\n 'nyt://article/2a4fe5b4-4fa2-5f06-875b-300ea7174ffb'\n 'nyt://article/20c3478c-b259-5e0b-9ba7-04fe624d20ef'\n 'nyt://article/7308a821-7f4a-5d3c-9be5-346e50c6d91a'\n 'nyt://article/ab2f60af-3980-5b9f-9fbe-08557e36d82a'\n 'nyt://article/13533db5-5842-5797-aafa-75fc4c5e18e2'\n 'nyt://article/11747df4-09a6-5ecb-aabf-450d3fa26733'\n 'nyt://article/0de8fb9c-a124-5cf2-a77a-cf711cb1c852'\n 'nyt://article/246f0094-a593-592c-99f8-9990b9337d72'\n 'nyt://article/ea7a98a1-393d-5330-ae72-b5bf8f2cd190'\n 'nyt://article/9b470056-bb33-55f2-95b4-629a9e1cf141'\n 'nyt://article/ad53c194-f42e-5a51-a65b-590e59ab0066'\n 'nyt://article/27828f6d-88bf-5a56-92e5-e9674383139c'\n 'nyt://article/5e9bf969-15c3-5103-9dad-14d96a36bc5f'\n 'nyt://article/16c24db6-bf76-5528-ac68-f3ed20e10265'\n 'nyt://article/ac4c1662-c17b-55de-bbc1-0d634f198299'\n 'nyt://video/3b7bd183-089a-5144-8c55-4a039ca76f1b'\n 'nyt://article/5697726b-a675-5497-87df-f91733af821d'\n 'nyt://article/a177cdb2-d4cf-5767-9c44-08be338373e0'\n 'nyt://article/0e6284dd-234d-5135-b10d-5174a645f1a5'\n 'nyt://article/f0b6b2af-a7a0-5832-abed-8ba935ba66fa'\n 'nyt://article/ba0e4350-4442-5cc1-aa4c-e7926e64bcba'\n 'nyt://article/a1b8ba8f-727d-5274-8b26-24be3751e1ea'\n 'nyt://article/3ce02c4b-f0da-541c-8892-38008e454a78'\n 'nyt://article/ace097e0-7995-568f-9b06-62d38d41aae4'\n 'nyt://article/7dc94eb1-0776-5578-9f74-3b0f2f95ffb2'\n 'nyt://article/34319317-1358-5c68-8cf1-5155f6800ce4'\n 'nyt://article/8986871a-ce46-53b2-afee-f168de6b8dbf'\n 'nyt://article/081caf13-8311-55ba-b659-845d5f7491d1'\n 'nyt://article/7ba22bd7-f3b7-5cda-989e-9229fc9e995d'\n 'nyt://article/c445909b-2ab4-5635-bff9-5f8b4633162e'\n 'nyt://article/c4c1b5cf-ed36-56c7-ab00-599769c5bd8f'\n 'nyt://article/0ecdb416-c0a3-58b8-9e7b-05c14fc099f5'\n 'nyt://article/e0c60a61-9e37-5977-92b6-92ef6b236518'\n 'nyt://article/d6e8e525-3a73-54ac-aa4b-3a3529a81798'\n 'nyt://article/38457066-e291-5f54-a777-de41fd21a102'\n 'nyt://article/f3fc10fc-3df5-5b49-b8fe-281a8fe15450'\n 'nyt://article/f00d3886-887a-59e9-bbe3-69bc1de6f3f8'\n 'nyt://article/0e27516f-4837-5434-a705-51a5cb998c75'\n 'nyt://article/6a3de4ce-1ef0-585f-a31b-d1c5b85f149c'\n 'nyt://article/def2d6f9-c1e2-537c-8c52-3fc1c96c8dd5'\n 'nyt://article/2c16eeb9-4ac5-50f7-941e-08656d630799'\n 'nyt://article/99641def-3d42-5101-91b6-9152a018baca'\n 'nyt://article/85b88725-7f8f-5058-98da-25161dabd136'\n 'nyt://article/3f4172d5-a7f0-5cff-9105-92620f9d7bd9'\n 'nyt://article/4339bee9-f32e-57d0-83af-b7476ce388a4'\n 'nyt://article/d1c94780-3792-5de5-b73e-4693f45fbff2'\n 'nyt://article/42deb18d-2fb7-5946-a155-b9c6796a7810'\n 'nyt://article/0627ead3-f1fa-5755-ba3a-29abede00387'\n 'nyt://article/0c16b0cf-9533-5bc7-9ad6-d4cd8fa7c147'\n 'nyt://article/64e11441-86ce-5fd8-a192-093273733530'\n 'nyt://article/b4f9ff81-43dd-5cce-943e-f41422905557'\n 'nyt://article/2e48d0d7-9943-50bf-b608-f9a3cd94cc1e'\n 'nyt://article/47f724c4-fa89-5eec-897e-0690161fcc76'\n 'nyt://article/0355b699-1189-531b-af5d-d08359bf969c'\n 'nyt://video/64a37846-7ef1-5c1a-8675-4cb217c24c91'\n 'nyt://article/64c0f050-bcbe-54f2-916e-42acb9591c3d'\n 'nyt://article/4cbff3ba-ad71-567d-a4b4-5f8f4df13dc2'\n 'nyt://article/f9dfb068-416f-5983-8c74-08dfd507b2a7'\n 'nyt://article/56ce1b29-a64d-55d1-9540-04fafff46728'\n 'nyt://article/d053fc21-f5f4-59d7-820d-43627706047d'\n 'nyt://article/e37671b5-5b58-5744-9e04-20c7ac34440b'\n 'nyt://article/7089d7e3-6d8f-5364-9f48-160caff059bb'\n 'nyt://article/b1241b49-c893-5f64-a257-7c99dfd4e99e'\n 'nyt://article/8f246384-09b9-589a-a29a-74f4ad3e96ba'\n 'nyt://article/98d20225-d34e-515e-82f6-2754963f5c6b'\n 'nyt://article/59511d33-83fc-5ab1-be07-a6dbd52a4842'\n 'nyt://article/49d9128a-5e92-575b-aa79-bb8af7867193'\n 'nyt://article/59a3f428-b7cf-5dd6-8d15-df4a45c33b71'\n 'nyt://article/824fdbcd-9185-52d3-8fd4-eafd1818d4e2'\n 'nyt://article/aa55453c-46b3-58e0-981a-e1aa0150fd80'\n 'nyt://article/e09f5b70-ea66-594d-b0f9-9567c84eb43b'\n 'nyt://article/5fe19c4a-5a19-53e1-b1e5-b3b75ab0b587'\n 'nyt://article/6c40d57c-035d-55f8-971b-c1dbcf56df37'\n 'nyt://article/78f66cff-7af0-5970-9cfa-9f17d7d92bb8'\n 'nyt://article/ef0ea258-50c9-51ea-b953-cb9884d0f440'\n 'nyt://article/6493b66d-ace5-5a40-bdea-c6e5c2f9aff4'\n 'nyt://article/11898885-f6b1-5730-ba01-b0f4d40ae11c'\n 'nyt://article/9923aa60-34c7-5589-bcfe-9277ae33dccc'\n 'nyt://article/19a3e5d1-ea77-562a-8df1-b99ba4d6a343'\n 'nyt://article/953c337d-d2ed-55aa-a0cd-e5dbe761c1fa'\n 'nyt://article/d2c20f78-b74d-577a-a968-f52568ece73f'\n 'nyt://article/295c32e5-b7e1-59ef-958e-6ac1f4c55c13'\n 'nyt://article/f543b3e1-402d-52c5-a1d8-93e8ba1e377e'\n 'nyt://interactive/5a9f7531-27b0-592c-a43a-5a8a079dfdee'\n 'nyt://article/55a8516e-bfe1-56c4-88cb-cceb6a2c2941'\n 'nyt://article/f5d7ff39-d40e-551a-9a23-784be72a775b'\n 'nyt://article/47b6fb21-ad77-5412-80a2-ad814010112a'\n 'nyt://article/ca32bca8-7ad8-531c-963b-cdfc0efc406b'\n 'nyt://article/50613a7c-3d81-59f9-b936-e0b739174111'\n 'nyt://article/d2b25c4d-6c48-55bb-b7ce-0832186292c1'\n 'nyt://article/c08c18e5-545c-54be-815b-5313f2e77100'\n 'nyt://article/1073ba1d-83c3-5b8d-a40a-32435c193e60'\n 'nyt://article/30733796-af2c-5db1-8eb5-67dcbd42d824'\n 'nyt://article/ddb7bcda-c6cd-5d30-92a1-3c3b540682e9'\n 'nyt://video/850c80a9-91a8-5a5c-b580-0127db5c1832'\n 'nyt://article/32a04173-a0f6-5447-93e2-00b88f930b5c'\n 'nyt://article/754897b9-39cc-5d6c-8784-176daef45ef5'\n 'nyt://article/5d81248a-dea2-5649-a380-a2f8ddab4eda'\n 'nyt://article/7b8fbf6e-0c80-52bd-977b-e38aa98ca567'\n 'nyt://article/b2649fa7-9f46-55fe-ad6a-0b4ad4ace3f6'\n 'nyt://article/7276af95-e58b-5f99-997f-12cbc74fdc76'\n 'nyt://article/44a10f67-d02c-56d0-9f9e-7da36dbd93ba'\n 'nyt://article/74e19f2b-c4ef-561c-a727-17141d565680'\n 'nyt://article/6025690b-cd01-5178-8112-e25a6411f716'\n 'nyt://article/9b6145c5-f444-540e-a94e-1d299a969dc8'\n 'nyt://article/9347904e-8e0c-5540-b43d-025e092c2f33'\n 'nyt://article/b04d0c61-07e7-5fae-bbaf-05440f18b80e'\n 'nyt://article/3a3d339e-87ab-5650-b797-b7bb3cb03e5b']"
        ],
        [
         "21",
         "Russia",
         "Russia",
         "1177",
         "['nyt://article/d0c34b21-565c-52dc-bfc5-7ebd45a8fdc6'\n 'nyt://article/d918efb7-d901-53c8-a800-1247115a0a5b'\n 'nyt://article/78ca0b5b-2ae5-5d1b-8106-621556b1b822' ...\n 'nyt://article/37a1afe3-2f8d-51bd-9167-0c4bd8a23c8a'\n 'nyt://article/b04d0c61-07e7-5fae-bbaf-05440f18b80e'\n 'nyt://article/3a3d339e-87ab-5650-b797-b7bb3cb03e5b']"
        ],
        [
         "22",
         "Jarratt (Va)",
         "United States",
         "3",
         "['nyt://article/bdb02241-d372-5cb3-bdcb-0af543fd7d7a'\n 'nyt://article/1fb8ff3c-3da5-5ccb-8f9d-23f22ba411cf'\n 'nyt://article/352fb64c-1e84-5dad-8f9d-e02c64d0597e']"
        ],
        [
         "23",
         "Philippines",
         "Philippines",
         "58",
         "['nyt://article/3e378519-5301-513b-9ff1-baaf73c2afe1'\n 'nyt://article/b38be870-e63a-5ce9-bd42-7c2856c8cf13'\n 'nyt://article/7838726f-14b5-5f38-a020-ad6b3401c60b'\n 'nyt://article/edd50b77-0e81-5276-8269-77ce7ac94554'\n 'nyt://article/e6d30ffb-894c-5ef5-ad8a-c99c58cb46c8'\n 'nyt://interactive/6256e38a-277f-5fb8-acf9-2adecfbfb3b6'\n 'nyt://article/9e43debe-8e36-5732-81f4-297d92a907fd'\n 'nyt://article/d27f5d2d-36a8-59c4-a830-d58712d5c381'\n 'nyt://article/d54bfd74-5e52-5df0-b8a6-f984c9d544f0'\n 'nyt://article/0e259093-fee2-50e1-8ef3-64e951eecb8c'\n 'nyt://interactive/f5852d85-975f-54af-9422-2db447002184'\n 'nyt://article/df090d97-af19-5e21-a427-b4d98ae9a22a'\n 'nyt://article/efbcf0b5-9769-5b16-a02a-62f38e84c0b1'\n 'nyt://article/6e630bfb-cd9c-5926-bb0b-1b4f25ac9d89'\n 'nyt://article/f7529538-014f-557c-86c1-74cf2baf9266'\n 'nyt://article/efc80092-66a0-53ab-a409-5404d19d7d9e'\n 'nyt://article/245a923f-0d85-578d-88c0-4f0db35c0e19'\n 'nyt://article/9f91c450-328a-59be-be41-570acf122f54'\n 'nyt://interactive/bf559636-7002-5a3d-9373-136fee8a4d8b'\n 'nyt://article/69dc3c19-7221-5968-bde9-8414d6599f70'\n 'nyt://interactive/bed58fa5-41f6-56e5-b151-0781ff616e72'\n 'nyt://interactive/2ba698f4-6f7e-5d57-b370-93d0c2f154cf'\n 'nyt://article/a2197deb-d135-543a-aa1a-9fab5723b1d6'\n 'nyt://article/0dcc6db1-582b-59c3-935f-467367867d95'\n 'nyt://article/b1a181a9-6bcd-52fe-ac28-33028effe4db'\n 'nyt://article/9bf280d7-f0d6-5430-b828-cec0513e8c0c'\n 'nyt://article/49dbef00-bbef-5b28-91bb-cd218c0445b4'\n 'nyt://article/79acc66a-86db-508b-9fbf-de644e361acc'\n 'nyt://article/88eff633-4053-5b26-94d7-e44af95fff30'\n 'nyt://article/c6a18d9b-c3a6-5d4e-a441-1f7dee7ec1b8'\n 'nyt://article/f7b22ddb-7134-5785-8c9f-92462d75dd58'\n 'nyt://article/9d011499-74e4-584e-893e-4e03fa87aba7'\n 'nyt://video/28231595-aa22-501c-a731-7cdd9cd28551'\n 'nyt://article/0b6f8c3c-f9f8-54d8-8dcf-2eb5c9a6ae1e'\n 'nyt://article/cdd7cb36-3220-5ddc-8c2d-a24331d757bb'\n 'nyt://article/bd80360b-cdd0-561c-ae27-d5969734fb3d'\n 'nyt://article/3b5738b1-a4dc-55a1-9675-b4e7de0f8b62'\n 'nyt://article/84093b59-54a2-55a0-b8e4-bb75c4316940'\n 'nyt://article/e8d9041a-fe5f-54f1-b62b-ff120182cfc2'\n 'nyt://article/6f646367-5965-5ed3-b84b-863e8fe2d66e'\n 'nyt://interactive/685a89ab-0e49-5c5a-80a6-88fbf8fc6efe'\n 'nyt://article/6a1d3d00-169e-5dce-8527-1232eeee5dfb'\n 'nyt://article/2731a625-5385-53c0-b94e-1e1b0917c472'\n 'nyt://article/6a31f6bf-ae44-59c3-8a03-5b7eb1748e7c'\n 'nyt://video/b095bab0-17ef-500b-a31d-f75a78c95442'\n 'nyt://article/f1c7828a-fda7-5a81-914c-7ad3c3f61d7d'\n 'nyt://article/458aa252-0b5c-5735-87bc-9766d10dba0f'\n 'nyt://article/145f7cd5-494b-5a0a-9c4e-f9412d2f735e'\n 'nyt://article/1ed439ed-3d75-5320-9884-e2659cd4d492'\n 'nyt://article/91a850c2-be27-5ecd-a5f0-da44a06437aa'\n 'nyt://article/d1edf1d8-d4d8-51f5-842e-68d9e24a86c8'\n 'nyt://article/3caa5e65-a58a-55a9-85c9-297c2e51c7e2'\n 'nyt://article/1ccd3f03-a3bb-56ac-b1ca-cf6d63d19471'\n 'nyt://article/8b431c69-51d3-5b5d-ae42-7e0399b3f6b5'\n 'nyt://article/6460d6ca-4569-57d2-85f2-9c8c81a87f54'\n 'nyt://article/f85ac221-0dae-5ff1-86a2-0821562e5414'\n 'nyt://article/00b100ce-963e-527f-a5ad-62887a1d1a6c'\n 'nyt://article/b93c3e32-2152-562c-86f9-2b24421c47d1']"
        ],
        [
         "24",
         "China",
         "China",
         "956",
         "['nyt://article/3e378519-5301-513b-9ff1-baaf73c2afe1'\n 'nyt://article/e95afc05-fae6-5783-9662-63c45aa59d8d'\n 'nyt://article/96d749ce-34b6-53ed-b173-8292c7d9b4e8'\n 'nyt://article/285e7f74-21a6-5399-8f70-ab3931020b4d'\n 'nyt://article/33b51dd9-90a5-5457-937b-6ee1223e3fca'\n 'nyt://article/e5724808-fc69-537b-beb2-7de60657e5f3'\n 'nyt://video/2ab09350-9bf2-5ee3-b9d8-26624d30ef54'\n 'nyt://article/a558d0f7-86e7-5408-9bf1-d52c11ac9188'\n 'nyt://article/00753439-a043-526f-9bb6-b39668fd06fb'\n 'nyt://article/f29faea0-41be-5368-b162-a4449beecb1b'\n 'nyt://article/34e514ce-6ebc-58f1-bf4b-d750eadc447e'\n 'nyt://article/b38be870-e63a-5ce9-bd42-7c2856c8cf13'\n 'nyt://article/0580f03b-d2f9-5073-bd21-1d36ca64489f'\n 'nyt://article/911b3f87-a49c-552f-be3f-f84d6733be94'\n 'nyt://article/4900c263-2f0b-5c8b-97b4-6dff0171d687'\n 'nyt://article/412b1dc1-8be8-5074-b1ff-fdfff463a71a'\n 'nyt://article/3d5f6b28-8ab7-5039-a076-d866c6c895cf'\n 'nyt://article/edc9913e-875d-579b-89af-5cd672a9d936'\n 'nyt://article/9d2e7422-f485-5bd1-88bc-7c670da0acb7'\n 'nyt://article/f047195f-8d52-5d7d-abcd-ff6058827977'\n 'nyt://article/183850ec-7eec-5ab7-9588-871dbf89b4f9'\n 'nyt://interactive/ba63261a-ad9a-566a-b91f-a9e7cd903aea'\n 'nyt://article/b10a6520-8976-5d53-a8c0-64aa5d4d9444'\n 'nyt://article/19fc41f6-42a8-5cc4-88fc-6c0afa434410'\n 'nyt://article/fb0cd1df-30e0-5774-8ab3-762e52d62d60'\n 'nyt://article/ea6220b3-1d93-5c8d-893b-a0da77cc994f'\n 'nyt://article/84b37e16-2e5a-54f9-82d5-8a0cc23253a9'\n 'nyt://article/5f5712bd-13d3-5fff-aea0-be76f6ba6f0a'\n 'nyt://article/190a4e7d-e267-5a83-8cfb-d283632b27d2'\n 'nyt://article/2f41cb12-b6ad-5c03-92a7-33c7b348521c'\n 'nyt://article/dc964c71-c1ca-56f8-a591-4769a736eca3'\n 'nyt://article/dc465414-bfbe-52c5-bfd7-d3d66c63e61c'\n 'nyt://article/54de3d4e-470e-5d26-8c5c-0ee695260a12'\n 'nyt://article/1290aaf1-c9cd-5c24-a794-380c335c1712'\n 'nyt://article/3d786352-fd50-5452-aecd-051b50cbc4df'\n 'nyt://article/d55c0888-893a-545a-9369-a3ee1564fdc7'\n 'nyt://article/a3e00b18-c078-5cfb-b6b4-1b99607225f4'\n 'nyt://article/6933bb77-6eba-590d-a0d7-991f13507154'\n 'nyt://article/429f80a9-11fd-5b72-afe2-89ede1052ad8'\n 'nyt://interactive/6256e38a-277f-5fb8-acf9-2adecfbfb3b6'\n 'nyt://article/2516893b-d689-5e3e-80fa-4172fca7b868'\n 'nyt://article/0cdb94f3-7586-50bb-ac76-25f54e4b16e7'\n 'nyt://article/67a7856d-9202-5bab-8552-5a68e90d284d'\n 'nyt://article/a9df19f2-c8ac-5590-85f4-66943b5bf0fe'\n 'nyt://article/de0681c8-2d03-5792-b1f0-2f515eb2040b'\n 'nyt://article/a764056e-1a69-5eb5-857f-f59af730118c'\n 'nyt://article/18ff1ed8-29d5-5744-bf1b-55b476d31e95'\n 'nyt://article/f0ac8084-e4c6-5000-958d-c0b5acf4728d'\n 'nyt://article/2ee0365b-7aa9-53ce-91f9-9cdc061bf0cc'\n 'nyt://article/90e2fb80-c710-5fba-9216-6c8948a3892c'\n 'nyt://interactive/68d00c9c-ff81-5b67-a7dd-2d5858c48a0c'\n 'nyt://article/56b0d2a0-68b5-52de-a5d0-582a4ad8baaa'\n 'nyt://article/515fa6fe-3970-5426-b0c3-086a007287fc'\n 'nyt://article/d839b076-45b7-5bed-9a48-43f4b9c45210'\n 'nyt://article/5aef13d0-ba20-5ebf-b494-fd8b579750e0'\n 'nyt://article/4d7af277-d66d-56c7-a70f-0150baf966af'\n 'nyt://article/36ee0edb-21e9-56c9-bb84-09c4415a4516'\n 'nyt://article/e04359f8-2c82-51c1-bd15-327fc1e5c37b'\n 'nyt://article/1b6f603e-eeed-551e-be89-6957849e54ba'\n 'nyt://article/1020c97b-d1de-5dd0-b714-53d8c7590c31'\n 'nyt://article/4dbe3302-29ed-5a3a-af15-31b41f3d76ac'\n 'nyt://article/49ecbf04-9dda-5d16-a047-c646750fa803'\n 'nyt://article/a7bc462c-8c40-51f0-a662-acab3982f339'\n 'nyt://article/92837fa7-e68c-50ff-a770-a57587560f34'\n 'nyt://article/49c379e1-8bce-5ade-acdf-1ab4dd818bf0'\n 'nyt://article/55b1b377-a35a-5b92-a16b-45439a697987'\n 'nyt://article/e7104707-45cc-54d8-b02c-5d378afe5c11'\n 'nyt://article/74c34058-2c1e-59ee-bcfb-1b1203781c65'\n 'nyt://article/1f7f508f-894e-572c-b24d-51dc2b5747a7'\n 'nyt://article/aa4ce25e-163a-5912-80a8-07eeec3096d9'\n 'nyt://article/7fe988d5-4d0c-56ad-8434-8724b59ef9b7'\n 'nyt://article/04ac23df-0cf3-5900-be5a-f95bea170c4f'\n 'nyt://article/9ba14a92-80a5-5da8-a719-97b82dafadf9'\n 'nyt://article/cadaa480-6a52-57df-a52e-54a6a7c48453'\n 'nyt://article/2405c02f-d703-571e-b820-e2ec6c263131'\n 'nyt://article/5d18e1be-6a82-594e-b6c3-f37631bc5116'\n 'nyt://article/563d50e8-75b6-5315-be3c-7504aa507c84'\n 'nyt://article/1547f037-31fc-50ca-b816-2b8d4097c800'\n 'nyt://article/7dabb456-eae4-5659-ba12-2099c2e7a1fc'\n 'nyt://article/0bca8ab9-eebe-5cd6-a83c-ae65d5c406aa'\n 'nyt://article/b4b9a91a-8feb-5ee0-811a-f009c2e4cccf'\n 'nyt://article/f2025426-2f70-5796-ac0b-3e7bc1bc2cb8'\n 'nyt://article/17c3b15d-ee39-5478-b399-9e58c76621c0'\n 'nyt://article/bf77cc3c-2d4c-54d9-8ae9-e8dfce0fb9f9'\n 'nyt://article/6471be7e-b829-5ca3-9e49-f4c06e447961'\n 'nyt://article/54dea93a-deec-59a8-a740-2f9a9287ced1'\n 'nyt://article/fc8175d4-0559-5637-9f15-67fa859cb344'\n 'nyt://article/61b81a48-2c7b-5994-b647-7591cc262b6f'\n 'nyt://article/484b0ec0-e05f-5f03-a5f7-a468f713665d'\n 'nyt://article/1851f3df-23ef-5c44-8481-bf65daecc582'\n 'nyt://article/5446e55f-2bbb-5b04-89c2-998c6d1c7546'\n 'nyt://article/6d3c79e1-2de3-582a-b403-65a26d2f0a87'\n 'nyt://article/a586f56f-385c-525d-be9f-8b6bf1a32acf'\n 'nyt://article/8f0ea652-6d9b-5c6c-9522-3db174fc9be5'\n 'nyt://interactive/c5e32373-86dd-5420-ab85-99dd1564218f'\n 'nyt://article/c793748e-0157-5dae-9cbb-661b13c2a073'\n 'nyt://article/c747beb7-1fd7-5287-a412-65b4bb849076'\n 'nyt://article/80a6c325-8460-55f4-8845-2dc0752804d2'\n 'nyt://article/3950818b-305e-5b99-a4b9-66c609997ff2'\n 'nyt://article/1d9c337a-da71-54ec-97dc-9d443356d07e'\n 'nyt://article/8e18ad2e-f48e-5154-858e-40a2ec8f10d3'\n 'nyt://article/70a9eecc-3fd3-5587-a56a-15a006f8682e'\n 'nyt://article/ea0f6c11-f80a-5e5e-b94b-848e0d9900c8'\n 'nyt://article/3dbb9429-da87-52fe-a25d-e03d5aefcd62'\n 'nyt://article/232d4e99-3371-59e7-a1f3-c0995febfc66'\n 'nyt://article/37631b15-f685-5ad9-bc8a-3482bdc1e0fd'\n 'nyt://article/ef7decf6-5c4e-5a6a-a78f-0dbf5ca945ec'\n 'nyt://article/cfa3e933-000e-5df4-aeb4-82b905d67dd4'\n 'nyt://article/9e43debe-8e36-5732-81f4-297d92a907fd'\n 'nyt://article/c4a1c8f6-0951-537a-9917-ab3ec6448950'\n 'nyt://article/a507a2d2-cf1e-54ee-b85a-e7b809e88ba3'\n 'nyt://article/e3d0958d-c749-5f08-b471-85752d797722'\n 'nyt://article/b1dd011c-b326-5120-bef8-6c355f369dbc'\n 'nyt://article/3b59fcae-0d27-5cd3-881e-d834120bac28'\n 'nyt://article/3c5ce7dc-377e-5aad-83c0-ab4a743cb2c4'\n 'nyt://article/e3590563-5daf-524d-8697-cae25d698d44'\n 'nyt://article/0e4d2b1d-348a-50bc-a120-d8646a69b69c'\n 'nyt://article/07b544fc-01eb-5ea7-829e-fcf9fd22f67e'\n 'nyt://article/6bcf25a5-be33-5cc4-9a5b-449b552241ce'\n 'nyt://article/12bbd9ff-9a5d-5ae2-8ae5-cb7f4753b536'\n 'nyt://article/56885f0e-d310-5ad3-bc76-c2af312dc432'\n 'nyt://article/cc76088b-2ac3-51fc-8e07-de0545512735'\n 'nyt://article/1b8461bd-7b20-5622-953f-bc1eac22cbc5'\n 'nyt://article/8d0a9878-f71e-520a-b7aa-64441ae0250c'\n 'nyt://article/6347890f-f1ff-52f4-8747-0297775968af'\n 'nyt://article/b50c6da4-91b8-57b9-b57e-4a59f2612717'\n 'nyt://article/3bc2c225-5a64-529b-93e0-6328760c155b'\n 'nyt://article/63925b14-71bd-5bd0-961f-1dcab9193f30'\n 'nyt://article/d6e370ea-e210-517e-8794-cf573ea48875'\n 'nyt://article/4678b0c9-00f5-51dc-9b7b-0062afad799b'\n 'nyt://article/60af2779-bfaf-5556-8d5b-385ef2ed7a8a'\n 'nyt://article/5840621c-27d0-5a43-96ef-49036b06c0dd'\n 'nyt://article/acd59772-a73c-58e5-8d14-cafc9ab6b797'\n 'nyt://article/ccf7b012-7794-53c7-a589-3d5e11cbf2f3'\n 'nyt://article/e306323c-29cb-5b7a-b9bf-a44dc0231216'\n 'nyt://article/5523bf18-4be5-5507-9556-5d9b1939becd'\n 'nyt://article/183a09a1-0e92-56b4-bb05-695f43089969'\n 'nyt://article/abaae27f-a5cf-54e0-a015-28e1deb3166a'\n 'nyt://article/9a56134c-ef36-5639-b56c-fd4a3e0263b4'\n 'nyt://article/1be7e761-70fa-5788-b9e1-a48be42af1d9'\n 'nyt://article/75b05547-d2b0-52e1-8113-4184eddf76d7'\n 'nyt://article/75d22fcd-bc5f-56db-bf10-ac10f497dbcb'\n 'nyt://video/37ee3732-793f-5feb-b51b-888e04613c90'\n 'nyt://article/fb2cfb26-43ad-5da6-a912-e8435b628c1c'\n 'nyt://article/ead52541-972c-5ab9-981e-5dae4131b315'\n 'nyt://article/1103ac1a-15d5-5a13-a7f6-3a436c762309'\n 'nyt://article/fc0f0c0a-e25a-5aa9-9fed-b5c828ad1c2a'\n 'nyt://article/7e5b0dfb-602d-550e-b844-4f3b6342cdc5'\n 'nyt://article/b43c66ae-b8ef-52b6-ab7c-5b2b851af6ae'\n 'nyt://article/73e13e92-bb89-5463-ad90-f185fa39f493'\n 'nyt://article/ab7574cf-243d-55c2-b9b4-f55fce203f32'\n 'nyt://article/ebbab030-31a5-528c-9cc8-44bf18ef8bc0'\n 'nyt://article/6a9b613b-3619-5b68-a3e9-1852f29d773c'\n 'nyt://article/0e59c7ca-a406-5631-ba98-7d340bd347b2'\n 'nyt://article/31e0a04f-f0ab-59c7-97b2-72a2e5cd82be'\n 'nyt://article/97087121-d74e-54ec-9d36-28f598ec5b09'\n 'nyt://article/d54bfd74-5e52-5df0-b8a6-f984c9d544f0'\n 'nyt://article/e705c3af-0528-5cb2-ac1d-5bd297a38746'\n 'nyt://article/b65ccd84-5303-5c0f-a3c9-48040e8ca218'\n 'nyt://article/0f29ae96-41a4-5a52-a3f5-8db906441d97'\n 'nyt://article/b6e352aa-e7a0-5948-b4d5-335d37b10a6f'\n 'nyt://article/9aeae167-7e27-5e8c-bba5-18352a4ca368'\n 'nyt://article/d31375d3-ba30-5b83-9012-fb988e971431'\n 'nyt://article/12588821-d19a-53d9-8123-43b4d74c7795'\n 'nyt://article/5d23b24e-2946-5d3a-b5a6-e1a5cb6104c8'\n 'nyt://article/2e805465-894e-5582-8154-802be39d1693'\n 'nyt://article/992f17a7-97b0-5a40-a3e6-8b1736f848db'\n 'nyt://article/4e4e41a2-f217-5c70-812e-d1e9ad3c526b'\n 'nyt://interactive/f5852d85-975f-54af-9422-2db447002184'\n 'nyt://article/1aaac142-b69a-5d76-91fd-798c7324d18e'\n 'nyt://article/b49bb0ad-9159-5952-b4b2-072b7cb4a4f1'\n 'nyt://article/78f5f4e5-4077-59bb-a61d-59e14eea99c7'\n 'nyt://article/b03fe540-659b-5a61-80a0-b07305c10b2f'\n 'nyt://article/33f4151f-8309-534a-b98a-aed4da16b569'\n 'nyt://article/c8187867-d8f8-525c-8515-1fdf3f04ed97'\n 'nyt://article/2bfa7708-32a5-5b25-ab2c-b2f574b540fe'\n 'nyt://article/bf3ddf77-78ce-575b-b3d5-136a12076be9'\n 'nyt://article/e724c152-725b-5f10-86d2-2d618b2158c4'\n 'nyt://article/714dff21-9479-55d1-b5f8-012ec2ed30e8'\n 'nyt://article/b31bf7b8-fd6a-5c88-b518-a92505671024'\n 'nyt://article/4b02bd92-7924-5305-89a2-7ba769c9768f'\n 'nyt://article/d22b7dfe-b7c6-5fbc-bd41-d3be58124c1c'\n 'nyt://article/7fe6bc61-6970-523f-941c-f294a9a6734f'\n 'nyt://article/8fdc042d-b03e-5ee8-bcc5-4a671d329a9e'\n 'nyt://article/23a6bcb1-85a4-51d0-b972-847fd8758b21'\n 'nyt://article/ddedadaa-393e-5601-8ba3-7b968c818462'\n 'nyt://article/f047f8c0-1263-5092-a5ae-d74ed5b7f208'\n 'nyt://article/e4ac1574-8f5b-50e0-b417-180c2c0b43a3'\n 'nyt://article/efbcf0b5-9769-5b16-a02a-62f38e84c0b1'\n 'nyt://article/38039c19-dd1a-5fe0-b851-9d72118b23b2'\n 'nyt://article/67a1bc85-c88b-5265-ab2d-b758499f60e8'\n 'nyt://article/ff9d875c-9078-5afb-9bf2-4cfaf70b8797'\n 'nyt://article/37b141f4-57e3-5d4a-bf4c-56347d70a5ad'\n 'nyt://article/1443480e-78e2-5eae-b59c-330586617433'\n 'nyt://article/9276b34c-3b40-57d2-bd85-9bf252de076a'\n 'nyt://article/2761a831-1581-5d33-8905-651a1c0e7298'\n 'nyt://article/d9c05b51-74f8-556a-a5c1-28e809f66777'\n 'nyt://article/719032e3-1e4e-5422-a882-f155bf788a64'\n 'nyt://article/9f25d00d-8355-5c22-98b2-dd12df3a6e1b'\n 'nyt://article/a9f848a9-fc57-517e-ac34-993e9d52ddc0'\n 'nyt://article/05156d9f-b3bb-5a65-9abe-60677c11440f'\n 'nyt://article/07c328bb-ac31-5c0d-8438-d67518a9e80e'\n 'nyt://article/7668a311-ff74-5167-9981-3498eb8355b7'\n 'nyt://article/a17bfb30-6cdd-59dc-bfdf-1aef62f24352'\n 'nyt://article/65ecef3a-ad16-5d61-8d18-cf5fd93e63c2'\n 'nyt://article/18eb4aa5-6f84-548f-874c-e28d0b2589d2'\n 'nyt://article/c9daf0c1-5108-5dfc-9d61-34715efbe7ca'\n 'nyt://article/60fe78e9-5618-5202-8340-81e48d22cfd4'\n 'nyt://article/517a43df-1f77-5a35-ba21-8736571f3ea6'\n 'nyt://article/1b751eae-2c08-587c-991f-98a8b52360f1'\n 'nyt://article/38c53eff-2302-53bb-9af8-0b8df1c5586f'\n 'nyt://article/1434668e-a521-58c0-90b2-43b3220dd2da'\n 'nyt://article/a75b282f-5644-51bf-9d83-492ff67117fe'\n 'nyt://article/03de21df-0dc1-57d5-9671-e52899848473'\n 'nyt://article/b2ee80db-ffae-5c07-8246-52c8cad1f2eb'\n 'nyt://article/25ac6f0e-835c-5062-8d7a-e7a8c0039c56'\n 'nyt://article/c747a563-86b6-5583-8528-5d5d82c573c5'\n 'nyt://article/fa9b3fd0-ab65-5952-9ace-54c2a0f9a86b'\n 'nyt://article/5bf6230d-699f-5170-b038-242935c70728'\n 'nyt://article/851e4050-3f81-544d-88b6-e2dffb1ba2ce'\n 'nyt://article/925d6933-4001-5e82-8b13-1e23960807ef'\n 'nyt://article/b6c9af92-650b-561f-a56b-c18ae2e41a84'\n 'nyt://article/471eeced-b2a8-5fbd-905e-9080e21eaa52'\n 'nyt://article/061d354d-f484-5235-abf3-39d944b62601'\n 'nyt://article/192b0400-169d-5224-bc25-57028ace21d3'\n 'nyt://article/f9847c11-0fe5-5d48-ad36-72c1f3c8bcf5'\n 'nyt://article/e86671ea-3edb-5b5a-a301-91b177374f28'\n 'nyt://article/284af71e-d8ed-5a55-8e58-5116422d90e7'\n 'nyt://article/c5cdc8cc-8958-5867-a859-16357a829650'\n 'nyt://article/04e7c02f-1241-5c49-abbd-df8cec4ef408'\n 'nyt://article/15588b82-5746-5947-8018-265237015ce2'\n 'nyt://article/5851579c-f145-59ba-80a5-261a56e5b30e'\n 'nyt://video/5e5f74a9-62e5-5a6b-81fa-7f5f976ea897'\n 'nyt://article/6b160c22-8daf-52ce-bcc4-8097dfbf4109'\n 'nyt://article/42597be9-aeec-5324-be97-73a16e728ab3'\n 'nyt://article/124754bd-bfcb-52da-98b7-39cc84ebffb9'\n 'nyt://article/06e77c62-d581-5173-99e0-24f05c7cf839'\n 'nyt://article/b40fdf96-6f00-50c2-afd4-806612997188'\n 'nyt://article/90f3d6fe-145c-5b8e-9d98-c5e1d31f3dc7'\n 'nyt://article/aff52961-1420-59c3-9d68-ae0ca6ed4b35'\n 'nyt://article/da1c72c3-243d-5250-8ed1-cd76540dc263'\n 'nyt://article/cd8ea57b-5e5e-5f4d-9462-f2de05fcf6a3'\n 'nyt://article/2bbfd9a0-b962-5c59-b066-9b58e70a8269'\n 'nyt://article/a91e5a26-c9bb-5e01-9dbc-f490fc526377'\n 'nyt://article/a1699658-9baa-5853-9904-c2ded7ca15c7'\n 'nyt://article/67937f01-4df3-5d51-b655-a39c3e62c725'\n 'nyt://article/104de6fc-7b9c-5768-812a-528967b0758b'\n 'nyt://article/31751e17-e3c6-5a89-aeab-e1a53728a548'\n 'nyt://article/47188e80-9daf-5b81-b2a6-664c22d95da9'\n 'nyt://article/0c590090-ca6f-54c4-ba2b-7c7617059c11'\n 'nyt://article/8769b51a-4ee0-5613-94d2-e7e6f0026aef'\n 'nyt://article/8ffbe477-af2d-5230-b91c-17ec5bca29d3'\n 'nyt://article/0da62a81-5bee-53c6-b8db-b1ee5b784f45'\n 'nyt://article/b169bd9d-1f3a-5a01-87b6-1898d546c08d'\n 'nyt://article/215fb7a3-aa07-54f6-97c9-ddc9ceb0274f'\n 'nyt://article/1fe3833c-de0c-5dd0-9127-e5d8bb3363fe'\n 'nyt://article/74351aa3-48dc-5660-a635-a15c038c6bef'\n 'nyt://article/f2ad43ba-f0fb-55b5-9347-b943690f9fed'\n 'nyt://article/daae620d-7c90-501e-89e8-732f96ae2aa7'\n 'nyt://article/0624b359-b175-566b-b4ca-5a2cbcadb2f7'\n 'nyt://article/5bd2d377-1bf4-504c-8d32-23486749e91f'\n 'nyt://article/44870a54-effc-5faf-882f-84f72e18e928'\n 'nyt://article/83c5a58a-29e8-5f6a-a339-b34e5dd4b5d6'\n 'nyt://article/90628694-744c-514e-81e6-b5160c4496f2'\n 'nyt://article/345ee78c-1013-5ed5-a0c8-c8c6f25db6e2'\n 'nyt://article/60cb0f35-a2e6-521a-9685-a7e8584776c1'\n 'nyt://article/0838f786-8fc5-5111-8e03-e33acef83fd8'\n 'nyt://article/200d1140-6261-57a5-81f8-27518b7b8db2'\n 'nyt://article/61f62670-10dc-5394-9383-d704739a1522'\n 'nyt://article/345a492a-c9b7-5b7a-9270-f002cf42fed2'\n 'nyt://article/cdeb7545-04f4-5622-b8a5-d42f1aebb47f'\n 'nyt://article/3b3d552e-a57f-53c5-8ff0-31113b14c493'\n 'nyt://article/90640272-f5b8-5021-bc55-249d649867cf'\n 'nyt://article/95f44a74-1b0d-5e54-b555-c00904517609'\n 'nyt://article/ffd11c4e-c450-5ff4-9e42-528b03fafb11'\n 'nyt://interactive/9c89d763-5676-570c-9670-b057987bc4d3'\n 'nyt://article/863d7ce7-229f-50f2-abff-2ed220500715'\n 'nyt://article/62c3fbb5-c09d-5697-92ed-ae4f97044caf'\n 'nyt://article/a2e2ca95-427b-5926-bc80-e0f9229bb5c8'\n 'nyt://article/de0a2e56-fd1d-5423-8e82-d1a202abab2d'\n 'nyt://article/b7863bae-d8d0-56c7-adf1-3c4f41f9458d'\n 'nyt://article/b411f0c4-9606-54d2-8db5-8cdfbd9a70f7'\n 'nyt://article/5a2fde77-225e-5139-ae86-3b6c3e18a06e'\n 'nyt://article/4b013fe9-3325-581a-ae1f-a4230b63f40a'\n 'nyt://article/3754be38-0c7f-578c-b2b0-28ed5e6e97af'\n 'nyt://article/984d6485-1d7c-5329-bbfe-724dcd588d3e'\n 'nyt://article/c2615964-e9f5-566e-af0a-26545c1cc7dc'\n 'nyt://article/9a0f375e-e06b-5480-9c25-5b668d00df51'\n 'nyt://article/605acd7b-fe44-5f1c-a4a8-4b4ef4ef3823'\n 'nyt://article/830bbf9a-cd4b-5f14-a963-40484ed7412e'\n 'nyt://article/25b52c57-7954-516d-8223-aa92964350e9'\n 'nyt://article/18455046-449d-5e25-bd9c-fdea7b7a9347'\n 'nyt://video/2c2003e4-2fde-5b08-a93c-47c4437df9ed'\n 'nyt://article/7d514c77-18ef-597b-a20f-d20e194df850'\n 'nyt://article/9c2e3cef-2d8b-5ccd-b716-a1a9d1b79504'\n 'nyt://article/e5fb4668-b7fc-5cc4-80cf-bdf82b939694'\n 'nyt://article/02241405-a46e-5af3-b08a-666b2b263aa7'\n 'nyt://article/684f512e-a313-59ca-a6a2-7a074188d57a'\n 'nyt://article/da9cfbba-ee5f-5252-b37a-bd2a15aedc40'\n 'nyt://article/28720d7e-accc-5208-9518-b8478a22e249'\n 'nyt://article/0605322e-8d5e-5ae4-9fb1-4698e09f52e8'\n 'nyt://article/f9d3145b-be4f-5914-b2a0-ceaf06381344'\n 'nyt://interactive/5b3fcdd9-138f-5c70-b397-89d1cdb6959b'\n 'nyt://article/45033268-3489-5b0d-b52c-bd2b6751c14e'\n 'nyt://article/ec210860-0da4-51d2-97e8-904cabab7c84'\n 'nyt://article/ed497825-6a09-5373-bcd3-fa291ff33a8a'\n 'nyt://article/04d2ab3b-b1fd-5b38-9f71-58b7edc76244'\n 'nyt://article/05fde8b3-8744-58bd-bc47-3adc11aee8d7'\n 'nyt://article/e2457a8d-8b1e-5e07-948a-e1c8e414cc60'\n 'nyt://article/4f7d6362-3d2d-55c8-88c1-b19f1658ad64'\n 'nyt://article/f1ac3af4-8280-5143-8ccb-dd74a0c97493'\n 'nyt://video/10eb749f-b2f3-5723-9888-5adb0f3e3862'\n 'nyt://interactive/63331587-3ed3-55c1-8475-7612b1f63f8a'\n 'nyt://article/dc9a72e3-4f1c-5e2c-adb2-835e246642ac'\n 'nyt://video/1536e7ac-7e55-5e88-8ec6-5c8a9ad763a6'\n 'nyt://article/448d991c-37ba-52e7-9eb4-173aab4ef116'\n 'nyt://article/2ad7fae2-d535-515d-bdbe-ded9576ce5b0'\n 'nyt://article/44eb3eff-659b-565a-a1ec-cec54e0f4c77'\n 'nyt://article/f305a10a-954c-53c8-af37-1dfd79a417a7'\n 'nyt://article/25a0f000-436c-5b05-b0f2-54bd20edf8df'\n 'nyt://article/f69d1488-0401-5527-b496-da5ae5ae7736'\n 'nyt://article/f581031e-96ca-52c4-a1ea-1bc49abaf1bf'\n 'nyt://article/c67b1f5a-40a4-5bb5-aa10-0861d752cae0'\n 'nyt://article/131fb317-cb9c-590f-8130-8fbe5e15d7d0'\n 'nyt://article/e2d196aa-2350-580a-b8cc-c9396f87248e'\n 'nyt://article/3f413a24-ffb5-5038-bdd5-c48942bab114'\n 'nyt://article/d34c1c71-e982-5637-9078-b594c9e60a46'\n 'nyt://article/6a0e395a-ec78-59cc-a1ce-120d53450e27'\n 'nyt://article/7470440f-b4a1-5893-8bf6-539f33510d73'\n 'nyt://article/c17c6baf-eb11-5e9a-8171-30a020962fdb'\n 'nyt://article/cfd56cce-ff96-5054-a43a-cae19b1ebc7a'\n 'nyt://article/946cde5b-2624-5c75-b6fa-5dbeb7eb955e'\n 'nyt://article/546a73f3-cbf8-5f41-aaab-23ff75fe0b58'\n 'nyt://article/ca3d0753-e32f-5c77-af3b-d37297d21652'\n 'nyt://article/6c78b3d6-64f5-5008-8ead-2d72a298cf9a'\n 'nyt://article/969e5ae1-c413-50f8-a98b-62b53213c3c4'\n 'nyt://article/2de071a5-f7ac-5d75-8428-6222ef66f3da'\n 'nyt://article/8765ba83-00c5-526e-bda3-6af0882299c6'\n 'nyt://article/d6b3f129-9795-538b-b778-4043d18fb11b'\n 'nyt://article/70305dd1-9b28-5156-b9ca-21d7e2288fff'\n 'nyt://article/7505249c-eeb9-590b-a3f3-e1db973facc1'\n 'nyt://article/e8dd346d-fb45-5698-afc2-8d1aca18cab5'\n 'nyt://article/25988a8c-9bc3-5d34-b4de-7eb019ac487d'\n 'nyt://article/ac5369ab-9399-5d35-8562-20935e7d7e1c'\n 'nyt://article/c0ccb1f6-20d8-5b9c-b323-805a5ce24793'\n 'nyt://article/7774c1ab-cd09-5a0f-a730-21b99ab7e60c'\n 'nyt://article/019c3d2b-2a6e-5800-a1e6-8812b9f90db9'\n 'nyt://interactive/e16aa100-d3c2-5bd5-8fbb-a14f0321a4c1'\n 'nyt://article/1830f51b-761b-5ec4-afd4-aed999956d45'\n 'nyt://article/2faa2e32-34d5-59ce-b2a1-061c40d4033d'\n 'nyt://article/2ed420ee-0ce2-5663-8a0f-c7291e3515b0'\n 'nyt://article/c34fd9a0-9374-528c-ae46-44b06f510a80'\n 'nyt://article/b2c021c5-3b19-55f6-a06d-2a5812f982cf'\n 'nyt://article/780bdec9-97c7-5586-9c84-323950e7b61c'\n 'nyt://article/72d0984f-f655-5035-9556-bb03026c9753'\n 'nyt://article/eeba9324-e11d-503f-af6e-8e1b8abcdafe'\n 'nyt://article/cb35e450-4314-5ab9-8b34-569766376f0b'\n 'nyt://article/6f25009b-d004-5533-b5a8-2d017149bea7'\n 'nyt://article/624eb93f-6ee2-5b03-a4b2-6342dbaa91a6'\n 'nyt://article/90b01608-6bb0-5ba7-aac6-c4773a056b6b'\n 'nyt://article/7935bbfa-aa26-528b-98ba-e038c7a922ea'\n 'nyt://article/25d387f8-b35e-55d8-b70c-3a34e53cd75a'\n 'nyt://article/3c33b936-e774-58d0-97ad-7ac30ab8dbb4'\n 'nyt://article/b51d5dda-c122-5d7d-a441-2e4bcc91b4df'\n 'nyt://article/d53b82c9-b46b-50fd-86b8-6c811460981c'\n 'nyt://article/0bfc1f4d-f3b6-58b6-b8fd-392a0beb93cf'\n 'nyt://article/6ec9f4af-a790-56b5-8298-c473fc4c71c2'\n 'nyt://article/7343bae9-6528-56e6-bb2f-b16f080193a7'\n 'nyt://article/25033e94-2918-5df3-a1e2-d1578de790d4'\n 'nyt://article/47f384aa-d01f-57c5-9c4e-69dee7e00635'\n 'nyt://article/d3ae1d1b-3f80-5bc0-9a3d-9cef11bf0843'\n 'nyt://article/151dc15d-3a4a-5928-84d2-f21a636e6caa'\n 'nyt://article/664a906f-6ab7-5e3d-ae85-6b0d8d4ad914'\n 'nyt://interactive/a8c22763-bcf4-59a6-a8c7-3abcc5c5c387'\n 'nyt://article/d31e9370-294b-560c-81da-62d72ff6fe8b'\n 'nyt://article/699019af-10ca-5094-a8ef-7ba62eb258f9'\n 'nyt://article/2c4ccbd5-fe36-5df2-82a4-7a664a6d163a'\n 'nyt://article/53aeac2e-babb-5aa6-ab26-14e015c0f53c'\n 'nyt://article/edf035a9-bc5e-59a0-8102-70d776341450'\n 'nyt://article/2bde24e9-c3a9-5511-ab32-9d6ae17d28f7'\n 'nyt://article/0a7aa7f5-ff75-519f-98c8-fdf0058a397d'\n 'nyt://article/02f53170-6026-517d-8d6a-bc198f448061'\n 'nyt://video/51becce3-d8c2-5dea-b9fe-7237b2af2798'\n 'nyt://article/33d775a4-bdc4-5c75-81ae-0f7744168090'\n 'nyt://article/51367d39-2721-5610-a000-bd6309b734af'\n 'nyt://article/41981539-f4ac-5588-95a7-43c57068e95e'\n 'nyt://article/80ff2191-e10c-559d-a33c-fe67d7d80234'\n 'nyt://article/bafb23e8-8969-5640-92e9-67a5b4a76205'\n 'nyt://article/67680317-3d14-5f21-9bf2-6f47448b6e68'\n 'nyt://article/ac37e7fd-d64f-5dd8-8a9b-bf2c33c2b5ae'\n 'nyt://article/537bb7e2-275a-58c6-a942-dc10b85d1018'\n 'nyt://article/79acc66a-86db-508b-9fbf-de644e361acc'\n 'nyt://article/8bbcb1f4-fae9-5bc1-906f-9c1824c3e4b3'\n 'nyt://article/397f8102-b5be-5879-8a6f-b112557e1738'\n 'nyt://article/b9307560-3335-542d-8ee2-d9e4b584ac0e'\n 'nyt://article/5bba55db-2773-52a0-a17d-d5a35a3933f5'\n 'nyt://article/7e7c6d7b-4d46-5b56-be01-bcf945a1ba2f'\n 'nyt://article/2dbdc72f-3727-5c01-85be-424b1d4ee1b6'\n 'nyt://article/15301c7c-0729-5dfb-8f37-b28951e9dca0'\n 'nyt://article/7158b1bf-a936-598b-ab5e-dbe0e5e0f003'\n 'nyt://article/c6a18d9b-c3a6-5d4e-a441-1f7dee7ec1b8'\n 'nyt://article/7398bcc0-781e-5f38-9a48-c5938c1e64dd'\n 'nyt://article/f3cec67d-e787-5b87-80da-cc205dd2ac0b'\n 'nyt://article/2c6b7574-c90d-5fda-bd36-3672901ac770'\n 'nyt://article/07fcf2e8-4cef-5d89-8514-c795ef74ad24'\n 'nyt://article/a0b34d1d-5435-5534-b188-ef5f79def36d'\n 'nyt://article/5b7bd2fe-e3ce-5094-bc03-caef673984b5'\n 'nyt://article/73a23f04-e7e4-5779-ba02-6d0b7e2ababf'\n 'nyt://article/5eff5519-d30c-57db-a177-f905e3254336'\n 'nyt://article/bd45fdbb-599c-5071-84ad-1e0df44be2ad'\n 'nyt://article/564914d4-59c8-5a54-8cae-8102335e0dd7'\n 'nyt://article/fd4afb08-98b6-5338-bdaa-53024804db6b'\n 'nyt://article/aaf5ea95-d934-5e02-a168-696df9c1e0c0'\n 'nyt://article/9a0a0fa7-bfcc-5265-afb7-eeeed867fa8a'\n 'nyt://article/d9554436-9f3a-5706-9dc1-8a622cec6687'\n 'nyt://article/09001e7b-c5f2-5b76-a285-73d9d80c04a3'\n 'nyt://article/dd1e5c51-3e70-56c3-ac9e-b85736b5ecfe'\n 'nyt://article/33ae6164-cb58-5509-af58-b9e0bdad71f9'\n 'nyt://article/1c3c39ae-5075-5ff7-96be-13f3a858e1cb'\n 'nyt://article/18a607ce-5c07-5a11-aac4-b809c1cd9240'\n 'nyt://article/99a756c9-b045-570d-801e-c794f72cd63d'\n 'nyt://article/4b4b9cad-4215-58fa-9bc3-eb51a06ccf0a'\n 'nyt://article/3fce39b9-240b-5b69-a624-e2ea6c243bc2'\n 'nyt://article/e0fc7aa0-5289-58ef-b9a5-7d11eff8cd0d'\n 'nyt://article/33fdcce2-c60f-5898-b34c-7087dd73c19c'\n 'nyt://article/95d64169-4016-587d-81bc-8b3ad7545581'\n 'nyt://article/71813cad-d6cc-55f3-935a-71d0f4ad9be7'\n 'nyt://article/d575af07-e579-5bad-8ccd-74ac5796915a'\n 'nyt://article/df377885-1c06-5efb-8464-fc1a6e30816d'\n 'nyt://article/4a6922a6-266e-503b-82fd-cf4f9902c19b'\n 'nyt://article/d5f230f7-beee-541d-8c1d-e8491d3c674d'\n 'nyt://article/1104b05f-04f7-524b-a2ea-a7078764e3eb'\n 'nyt://article/847128d5-f95b-5981-ab0d-2f7df9a345db'\n 'nyt://article/767c5e66-b708-5083-ac44-8ee8c82e5590'\n 'nyt://article/be43a190-5160-598f-b148-14695ab73ec5'\n 'nyt://article/c12aa1e3-582a-576a-be80-801f30c0455c'\n 'nyt://article/7af6b238-a9c0-5f1e-a0ee-e9ac69c12ba7'\n 'nyt://article/8e18a0d8-757c-50d2-b6a1-1773d9180ade'\n 'nyt://article/e6ce4d7e-813d-55bc-90e8-5a2da4061d77'\n 'nyt://article/62ce1b69-2871-5b80-a221-c3bacba6ab2c'\n 'nyt://article/f553c956-8e2e-545d-a485-4c05ea33c20b'\n 'nyt://interactive/13cc2119-9626-5520-8ca8-a5027ee94d0b'\n 'nyt://article/f0b7b0ae-927a-580b-b7a1-624ce65a4cca'\n 'nyt://article/15b7db31-98e2-5a43-b64a-9fc0186b7c0f'\n 'nyt://article/2310a1e1-ea10-5266-913a-594aa1da4323'\n 'nyt://article/ef47a80e-94bc-5c36-8d44-8d4224ce92b2'\n 'nyt://article/ffdd5d87-4174-5727-ab49-839f53f2d90a'\n 'nyt://article/0495e3ea-131e-5617-b860-0e39b30d0b8b'\n 'nyt://article/97838863-147e-5077-ae02-40fe93b0db02'\n 'nyt://article/9b34d22d-850d-5a0e-802f-d6b578c7da1e'\n 'nyt://article/cbc86042-78c8-5f4e-812c-1c0302b16384'\n 'nyt://article/f8ea6292-0079-514a-96eb-7fffcc73ef3c'\n 'nyt://article/037bed0a-43d8-561e-a9f9-3f0afb29dada'\n 'nyt://article/40b910bc-3963-5226-836c-1af82035ba2b'\n 'nyt://article/02126b70-e97e-5267-992a-6f27fbe3f189'\n 'nyt://article/a22bfc5c-126a-55dc-884d-d2aaf13eea84'\n 'nyt://article/429963b5-8f21-5ae0-b45d-1d47d114deb9'\n 'nyt://article/1584dffb-c4ad-5dd8-9f5d-d31f54e174db'\n 'nyt://article/5027cff6-729c-5310-8118-7d0b70a739b4'\n 'nyt://article/a7a59baf-e727-568f-9025-15460e249e9c'\n 'nyt://article/c765e159-1f45-5245-9381-5aaed2efc2e9'\n 'nyt://article/690d001b-df5b-57e0-aaaa-e7446b577567'\n 'nyt://article/c42b8e1c-437f-55d1-bcd5-431b9b5b0627'\n 'nyt://interactive/7c53d0e8-f08c-5155-b878-6ae27aa87510'\n 'nyt://article/e6ecb66a-f025-5221-a090-ea11dea98786'\n 'nyt://article/8ba5ea33-5293-53bb-be7c-b50a4cc5e4ab'\n 'nyt://article/0ea83104-45f4-58a0-95bd-bba01db6ccaa'\n 'nyt://article/248d82e0-1cf7-5973-ad27-748d9b4432c3'\n 'nyt://article/8d03418e-917c-50de-a56b-7bea298d8304'\n 'nyt://article/bd25e5cd-4a19-5160-853a-83c7cede5753'\n 'nyt://article/8be38be7-0d33-5959-94af-8310540cc830'\n 'nyt://article/e7e5aaea-ed02-53d1-a66f-f70b664333c9'\n 'nyt://article/e0adf144-deaa-5a56-bcbd-4ac998892e9d'\n 'nyt://article/67b5d228-b2cc-5c4a-a261-045cc5e1f9f4'\n 'nyt://video/098824e6-6f8c-58c7-8b81-eb1f0200fd75'\n 'nyt://article/6c840cae-bf12-5fdd-8858-f4a45e5852f4'\n 'nyt://article/d5d8a4e7-92b7-57b4-adea-85b05ebeadf1'\n 'nyt://article/b2e70bec-e0f1-579c-a0ca-e0eda5f1c2d2'\n 'nyt://video/797ab570-80f8-59b4-9db5-af5217e9ef92'\n 'nyt://article/0b89ab40-3c09-5187-8bd9-51420f4bb67b'\n 'nyt://article/a71c45ee-ea7e-58be-9ddc-21eba0d6e954'\n 'nyt://article/78f02290-831e-54c0-a29c-218dc218387e'\n 'nyt://article/d29b75bb-6852-5a01-bce6-89d749695cd6'\n 'nyt://article/0b6f8c3c-f9f8-54d8-8dcf-2eb5c9a6ae1e'\n 'nyt://article/5c1d792f-aa2b-599d-8a34-bee688718ee8'\n 'nyt://article/6b7c779b-9934-5937-ba83-b6e270087252'\n 'nyt://article/0ca8e598-18df-501b-a153-6ae15e6b62a9'\n 'nyt://article/439ae825-a418-5d41-9547-95fc49e01ec8'\n 'nyt://article/cdd7cb36-3220-5ddc-8c2d-a24331d757bb'\n 'nyt://article/bc85dd55-af86-5b73-9c20-4290c2871fd1'\n 'nyt://article/66fad98d-dbcc-566e-8950-f822051bb9db'\n 'nyt://article/e1beb64f-9804-5516-bc1b-d8d30e1b21c0'\n 'nyt://article/3b5738b1-a4dc-55a1-9675-b4e7de0f8b62'\n 'nyt://article/a4280389-f3ec-5cf0-a7bc-992333c046b1'\n 'nyt://article/7add267a-9f61-5a44-8b1e-2916f9a234e2'\n 'nyt://article/63d78256-7141-57e3-a68b-d505a4f59337'\n 'nyt://article/b0968d46-24a2-5ec1-a33c-8abc9281d1fb'\n 'nyt://article/a48cdc1e-e435-5834-b34e-6222341dff07'\n 'nyt://article/a41f2449-36fc-5e0c-8dde-fd8e9ba11be7'\n 'nyt://article/6bad65a3-c3a2-512d-a3b0-0557b1061f39'\n 'nyt://article/03c76cb3-912d-5961-80e8-b2d2f78e5eee'\n 'nyt://article/1fac11e1-c4a3-5ec6-8251-473c2b5bb37b'\n 'nyt://article/c49919e9-d1b8-5fc4-8239-0a8a1afaecef'\n 'nyt://article/84093b59-54a2-55a0-b8e4-bb75c4316940'\n 'nyt://article/3288b7a6-a0ec-5b7d-9c33-b35d01db0694'\n 'nyt://article/f452d453-35cc-565d-8ecc-297071189f55'\n 'nyt://article/f7ab669e-8358-579d-a724-88f1e62f9e31'\n 'nyt://article/b84d0c73-959b-5346-acbe-faf26ff2f44d'\n 'nyt://article/6ee035c1-b517-5cdb-a644-532d54ff2ffb'\n 'nyt://article/c5f384df-85d8-5b67-8f92-c7ae8ef0c004'\n 'nyt://article/3e88b788-ddef-55a7-b647-af10ff351d20'\n 'nyt://article/1440de33-3dc0-5009-bf2c-6396b30f92c1'\n 'nyt://article/2ca29f15-c347-5daa-969b-77d9e3bbd393'\n 'nyt://article/7e9746bb-e618-5eeb-900c-f0c8aaaba195'\n 'nyt://article/a07d25af-8a3c-5f41-a307-2d5f27b619a8'\n 'nyt://article/287d15e9-b5bd-5eb3-9d19-a4369c8f705b'\n 'nyt://article/a06bd571-fc22-5a3e-8ce8-fb6dbc4c470e'\n 'nyt://article/4759e0cb-1b1e-56fe-bad7-106430b58d9b'\n 'nyt://article/2cc2ae70-ef9d-5795-8e6c-a5e41d51e34f'\n 'nyt://article/83c220e7-db35-57ef-bf5d-5248b0156efd'\n 'nyt://article/a2767e4e-840a-56c0-a70e-09cb828f1b10'\n 'nyt://article/61dc1975-a346-585f-b8ce-5b034d78c404'\n 'nyt://video/6f10e62b-e43b-500e-a00a-edc9a2ed2808'\n 'nyt://article/629fa053-f2f2-5fad-ab9d-0115a744ac20'\n 'nyt://article/db9bd694-eeef-5b7c-90d2-339096f5e59d'\n 'nyt://article/a10a6747-72b3-537c-b0e1-5d6121b26bd9'\n 'nyt://article/2ab5b8b0-2320-5641-8c91-bde845aa4a68'\n 'nyt://article/d7c78353-6450-5260-9cc9-845ae9bd8689'\n 'nyt://article/7f87ecae-b2e1-543b-b984-18fd9c6d6048'\n 'nyt://article/51bfbabd-96a2-5b97-91dd-0bcceb046e7c'\n 'nyt://article/14bdb8e2-be5c-51f8-9f58-ab7b55fc490e'\n 'nyt://article/89c8e9e3-fe76-5a94-92cb-414d811ee293'\n 'nyt://article/58eb7885-b6d3-576b-83e7-b5aa721a720f'\n 'nyt://article/269985a5-bb10-5c8b-bcad-d47caca00d48'\n 'nyt://interactive/1afb7d6c-4f42-5f6c-ab1c-53b5ac9b7270'\n 'nyt://article/4db5cec2-6809-52f5-aaad-d33c43108051'\n 'nyt://article/307aeda0-c5fe-5603-a2db-095d90326e64'\n 'nyt://article/4165dde4-ae7d-5514-a23a-a0947d089afe'\n 'nyt://article/6549964e-97af-5ebd-9606-b2e6f4581a9d'\n 'nyt://article/c9461fce-864b-5877-942e-cbca8ca01bb5'\n 'nyt://article/c7fe2227-d990-5dec-9045-ed5307cd3587'\n 'nyt://article/43ec198a-0583-5da7-b5fd-7b4718dd56c7'\n 'nyt://interactive/cc642ee4-fe2b-5644-8d06-20aa39e0bd83'\n 'nyt://article/8505443a-8984-51cd-a607-54403e1bc819'\n 'nyt://article/5153cc0f-6b0d-5c37-b91f-dbce920a3b61'\n 'nyt://video/c0071bd8-2e20-521f-85a0-35140c094d50'\n 'nyt://article/47b987ad-b236-5750-bfd4-1fa2878c2c64'\n 'nyt://article/734ff29b-9a76-5f97-a72f-deb05493d9fd'\n 'nyt://article/55ddaf66-e52a-575f-8a09-6a4ab618cf87'\n 'nyt://article/aba101ee-b370-5aa5-bc83-d9e347daa2de'\n 'nyt://article/c6a6f2fb-9ab6-515d-af2f-ff7331d87ea7'\n 'nyt://article/b3937493-67e9-55fb-8aca-601b53f72e12'\n 'nyt://article/38197ad8-247f-5f0b-9c39-9b6d3c5ad53b'\n 'nyt://article/8296a347-f8d2-5f4d-af9e-2963fedef6ec'\n 'nyt://article/e8f5fe70-0f90-5996-99c1-007da14144a4'\n 'nyt://article/ba657134-7a09-5b66-b7bb-ec46bafb29a5'\n 'nyt://article/e9c89d4d-4ee8-541c-a781-9d97668283c9'\n 'nyt://article/894d222a-9f27-511d-8cb1-f4f6bec5a622'\n 'nyt://article/0dc56333-04dc-52d9-ba59-1311364542b9'\n 'nyt://article/0a161ae3-a347-526c-bc62-be2aca6a9262'\n 'nyt://article/a52bfb01-a76f-5982-a5fa-bf85dd1d5840'\n 'nyt://article/476eda79-f327-5c65-ac8e-73f4da4c784d'\n 'nyt://article/f6dcca34-9861-509e-b225-c379dbed9ce9'\n 'nyt://article/37956e93-4d05-55bf-b155-97f94fa82df6'\n 'nyt://article/40b8fecc-6361-53ce-be57-ed3add783d6a'\n 'nyt://article/d467af29-9716-518d-bdd5-7f4f1ba31d6f'\n 'nyt://article/2de79d0a-09ed-58b9-a408-8ccc82b036ed'\n 'nyt://article/cfb225ac-c2b0-53f3-9ad9-adc9226b6ca6'\n 'nyt://article/eef74041-b339-5b03-8b33-1dbfa3e28ca6'\n 'nyt://article/7ac2e9ce-c99f-5e65-be74-b121e82c8fb5'\n 'nyt://article/b1179855-fe4a-503b-9086-32a9d44ba791'\n 'nyt://interactive/eeaaaf83-dc38-5d4e-af56-adc327f7e192'\n 'nyt://article/8dc879df-0bfc-5666-90fc-588dee2a3638'\n 'nyt://article/70b7b6bd-d669-550d-a33c-800048f481c3'\n 'nyt://article/ea35e105-380a-5050-b9e8-ee8cdc930b99'\n 'nyt://article/b997d269-a9a7-533a-9323-f84fbee38f18'\n 'nyt://article/df9ad2bf-2239-507a-96e1-cd96edfa75c3'\n 'nyt://article/9ea127d2-33a7-58e0-8dee-aeafaf566305'\n 'nyt://article/e4d9255d-1190-59a1-8839-0d6a3c11fcf2'\n 'nyt://article/4a071668-510c-56cb-8a41-43339bdaf547'\n 'nyt://article/55456924-7ff1-585c-b62c-d530637bb1f3'\n 'nyt://article/19d29e66-47c6-549d-bff7-86f8cdec1be0'\n 'nyt://article/c65dd3d3-af35-55eb-9ea6-f9965d27749c'\n 'nyt://article/a4e49d70-993e-5dd9-b64e-5205047426bb'\n 'nyt://article/b44bbcdd-0f4c-572f-84f0-de1f935ddfff'\n 'nyt://article/c41ee40f-7202-54f5-a5ac-16ae7b7e3abe'\n 'nyt://article/1fa88f47-d188-5fe5-b99e-4f099123d92e'\n 'nyt://article/93600cae-6e9a-5361-b92f-3d8fbf218059'\n 'nyt://article/9fabc97e-f551-5d60-8132-63367b3423b9'\n 'nyt://article/9467621d-2f57-58c6-9a42-e9165c9daf1c'\n 'nyt://article/a06dec7a-5ed1-5cc3-876c-eaea906be86e'\n 'nyt://article/99cc9f88-7d17-54a5-a77e-4acb0991455f'\n 'nyt://article/21af1b80-e37a-535a-be7e-c29af7275e55'\n 'nyt://article/4e5b93b6-0a0b-5c89-aa4b-628cbc80ce74'\n 'nyt://article/d05f9884-1860-5318-806e-37bacee1ec24'\n 'nyt://article/69bf2fae-ea33-5e84-87f5-b3e59f68b186'\n 'nyt://article/abb55571-8aac-5782-afc6-6bb652fb7611'\n 'nyt://article/5ee2a08f-fa7a-5ef2-866a-ecd6de1c59e2'\n 'nyt://article/d35a2be4-8651-5b52-8cfe-d2f3296e0eb6'\n 'nyt://article/61efa0ef-43d3-54ae-8387-66d17e19b8bd'\n 'nyt://article/6f480fbe-f347-59f5-bf99-dbd86e64b720'\n 'nyt://article/96563a98-5753-5722-82e7-7138d0257241'\n 'nyt://article/c440d31b-563c-55e1-8b79-503e757d6c5f'\n 'nyt://article/135b6598-af3f-5582-8f5c-9cd3407cbdd1'\n 'nyt://article/34e79f21-bf7d-5d33-a62a-877833509ab4'\n 'nyt://article/89e7078c-a881-5cbd-a0e1-28f310302b9f'\n 'nyt://article/3d313dde-d1fb-5206-b3e7-28a83be2a7ec'\n 'nyt://article/6d71b2af-2a79-51bb-8179-3d4b6fd19877'\n 'nyt://article/3a2441ed-5653-56a7-b1af-89c0d31b31e1'\n 'nyt://article/a006f43b-a8cf-53d6-a1dd-3f2fbea7d76d'\n 'nyt://article/518165b7-13fa-504c-84e5-86b1886bd55c'\n 'nyt://article/b2caad66-84d1-5bad-8e8f-bd8c6c33c5f3'\n 'nyt://article/601c07f0-11b6-50d7-bfe5-f3eee23c5efd'\n 'nyt://article/140e69b5-14bb-5b77-a494-4424cc7f8463'\n 'nyt://article/8abf0099-2722-5517-ad62-48d7498db946'\n 'nyt://video/7188f5ad-88c2-589b-9e11-d88eb8c11bb3'\n 'nyt://article/5d82d52a-40c0-550c-9f63-22cfbc2197ec'\n 'nyt://article/937d629e-5c21-5863-9358-9b93767b194d'\n 'nyt://article/b7b3956f-677c-5faa-8b5e-9ea8cfc29b18'\n 'nyt://article/1b10293a-5061-5bf7-8a21-05531197da00'\n 'nyt://article/d38ec16d-320c-58a1-b30f-e8888edc00d7'\n 'nyt://article/d0e6f666-0209-563d-b1b3-f0840b546542'\n 'nyt://article/ef68d660-c9c0-55b5-9946-caa70853c278'\n 'nyt://article/d67b00a3-dca0-53fb-811f-3f3ee634d3d9'\n 'nyt://article/603971a4-c18e-5c5b-8207-ac872b44fd64'\n 'nyt://article/29290a06-7f93-5b41-9c04-a32e658cbcb6'\n 'nyt://article/3be1dec8-b137-58a3-819d-23ea823f41d5'\n 'nyt://article/f8ce5a73-358d-5653-88f9-d7c37b8506a5'\n 'nyt://article/be0d4c85-b675-58d5-8341-382f7e1b13f1'\n 'nyt://article/e816b831-630f-5662-b420-150dfb12aa1c'\n 'nyt://interactive/cb19939f-e307-549a-9e77-0305a6e288a8'\n 'nyt://video/dfe1f9c5-c85d-5d0f-ab61-11f9b085dd26'\n 'nyt://article/97f19b85-28ff-5a22-bfda-ba0f2ef315e6'\n 'nyt://article/dd5f537c-27a5-57e6-9ade-481704816c6f'\n 'nyt://article/7b236f5e-110b-57ca-aa74-fd61f516ef4d'\n 'nyt://article/ac5cffc6-f0b1-5b35-9b3b-dda4e153288b'\n 'nyt://article/0a006687-d51d-57fd-a133-c5f861513794'\n 'nyt://article/96087abf-6837-5cd3-b669-8c7d1b4f3e68'\n 'nyt://article/519b472c-97b2-5fa9-953c-22fcf833cff2'\n 'nyt://article/5274831d-6642-5b69-a4a7-5b779304f879'\n 'nyt://article/9b1c6bac-5951-5b30-b91b-61364ba90df5'\n 'nyt://article/42739bc6-791c-59bc-803b-93aadb1e52fd'\n 'nyt://article/335b37b4-ab4d-590f-bed1-379cf16c7d9c'\n 'nyt://article/c27479b9-76ba-5def-9f07-ef8a9433283f'\n 'nyt://article/1a2e93cf-893b-578d-81af-1c53b92ff663'\n 'nyt://article/e8bae8b5-6574-5aec-b492-88d3cbe13539'\n 'nyt://video/1ffec11b-4b73-5805-a4fc-5ccf4bdf8337'\n 'nyt://article/e4c5cb2d-e03e-56aa-83b0-76e1ff83190c'\n 'nyt://article/6ced898c-dd57-5eaf-972c-346f16102ab9'\n 'nyt://article/a9cec457-f827-5d15-a71c-64eb7a091a0b'\n 'nyt://article/b2958c74-e4d3-5ae1-95c4-ac0af25f46f4'\n 'nyt://article/a27600da-45e0-5ebb-9df6-4b4079ae3b74'\n 'nyt://article/2831de7d-e312-5c50-9bd5-ae3f29ded103'\n 'nyt://article/cc7ac1f8-3c96-5ce6-8e33-200dbbe00896'\n 'nyt://article/b4aecf32-925f-571b-896a-f19904af186f'\n 'nyt://article/eed8f880-891a-5ed0-b46b-1387f9deae63'\n 'nyt://article/d3f5ede1-2b6b-533f-9994-ffbc02437341'\n 'nyt://article/95929c9f-42fb-5d83-892b-6b2c3f5adb1b'\n 'nyt://article/f03a360e-0f2c-5e03-987c-a84f8e5480f4'\n 'nyt://article/b84aa9c9-141a-50ad-8dfe-4b757debea72'\n 'nyt://article/683cdcb7-0011-5075-aa0d-0dc4db4819c8'\n 'nyt://article/66efc916-3b85-51d1-aa30-72b8629d6123'\n 'nyt://article/a676d9ac-5fb9-538c-a69d-a263680053b5'\n 'nyt://article/fb94ed3e-43ca-532c-abf8-bbe9fbc6c98a'\n 'nyt://article/92a462a4-76d5-56a5-9123-b9bcd6486d5a'\n 'nyt://article/350a3e35-e8a3-58d8-bdd7-15b4847c2c65'\n 'nyt://article/d46d1724-d23a-55a2-97a3-7779a2c8320e'\n 'nyt://article/43faa9f1-d702-5735-bfe8-15372a05ab98'\n 'nyt://article/c8ac4263-a44a-5a21-a73a-16b58d4e1996'\n 'nyt://article/5c0add9e-e390-5d7e-8cb6-cf3510215a8c'\n 'nyt://article/02178c1b-d7c9-5a4d-ad5e-585ba64650ac'\n 'nyt://video/eacc4570-193a-55f6-b81c-6e69b8ddbc82'\n 'nyt://article/73fdc6d9-9676-5b9c-88ae-9e8e3d0f980a'\n 'nyt://article/df8db89c-1dca-53a6-ac78-dea8229162ad'\n 'nyt://article/dc452dda-5405-5df7-90ac-4113837b9657'\n 'nyt://article/b04a8df5-1f93-5910-b484-ab852443e662'\n 'nyt://article/edd62521-eed3-5784-809b-3f0c86f92316'\n 'nyt://article/50f2150e-272e-5839-afc9-b8b0a289d50b'\n 'nyt://article/55d0fa54-8fc1-56a6-a97d-786841b393c0'\n 'nyt://article/03c88486-ca84-54ba-8e43-0dbfff1b698d'\n 'nyt://interactive/49217e9f-ade2-5bbd-a3fe-2d4906bb0f5e'\n 'nyt://interactive/4ae6948d-416f-59b6-94d5-a52cd908684c'\n 'nyt://article/f2aecabd-2ede-5b48-8bab-5613a683c240'\n 'nyt://article/59d7aef7-c9fe-5391-af9f-5a5ad98e82ac'\n 'nyt://article/8c5f27cc-4e75-5346-ba8d-55fc125dd7de'\n 'nyt://article/41626d92-7f6b-54d5-8de6-b7532dc52986'\n 'nyt://article/e8e1a108-f2fd-5d6a-a373-04456cc50153'\n 'nyt://article/dc07fd6b-1eea-5fbd-aad7-7ed47a9b4d0b'\n 'nyt://article/1003bb90-609b-5feb-afc6-b707fad52da8'\n 'nyt://article/89a28ad8-9284-56b2-8125-64257641bf78'\n 'nyt://article/e06a97c4-7797-58b6-92c2-e901ceb6cc3c'\n 'nyt://article/44417dab-adc7-51af-9d21-9d48ee89c98f'\n 'nyt://article/34abbd47-e2b7-5727-abcd-b943c91c3af5'\n 'nyt://article/13d0fbff-4047-59e7-aa1a-bd61327e177a'\n 'nyt://article/ebcc764d-390c-57f2-a204-ccf06547f033'\n 'nyt://article/c6a2b71a-dc6f-5e22-a892-2c5d57db391b'\n 'nyt://article/ec7203a9-eb10-5753-98e6-a06cda8285f8'\n 'nyt://article/09df045f-3a58-5295-bd09-b2d4ac0c210a'\n 'nyt://article/eec363f4-891c-51e5-b5ce-18bf2f919617'\n 'nyt://article/8bdf54b1-094a-5de2-b4aa-893f6a98dd4f'\n 'nyt://article/448f7e87-7da8-54c1-aa4f-36ad1c9f69e9'\n 'nyt://article/0f427cb7-90e9-57f4-a299-a55d426af57f'\n 'nyt://article/e84044b8-0a63-57d9-ac8a-9f1908dc6dc8'\n 'nyt://article/683110c1-bca7-5a5c-b9e4-182acc79d94e'\n 'nyt://article/ea389e72-57a3-515f-a670-70baf49dfb33'\n 'nyt://article/2b89987a-c98b-5960-9994-5c1d0fb4000f'\n 'nyt://article/ff8e91fc-f14b-5308-859f-737756f5a21f'\n 'nyt://article/f0550eb4-1dd0-5212-96ab-8549b6025f70'\n 'nyt://article/1ed5532c-8075-599a-bd69-08808cc41f7f'\n 'nyt://article/08943ce5-2595-55a9-9fbc-f621a23621f2'\n 'nyt://article/e50c89dc-6427-5509-a48f-6894babe7502'\n 'nyt://article/d08f504d-1968-5971-baf2-2a0e5637b560'\n 'nyt://article/0eaa8002-e8d1-5fb4-b6ce-684f6a482f71'\n 'nyt://article/d434fb05-1a69-53a7-8451-c3b311a57d4a'\n 'nyt://article/342c11ae-4ded-5af1-b0ce-2200c8d6a0a5'\n 'nyt://article/05963815-cf8b-5d57-8369-ef3ecea159ec'\n 'nyt://article/ae8facf7-8c9c-533f-b236-19bd06de2593'\n 'nyt://article/cb308c56-93df-5390-a141-80b705ed9eb5'\n 'nyt://article/153bc3c6-bece-5ace-bd94-cee92b4d7e57'\n 'nyt://article/0a0577cf-8d85-546d-9d1b-c0f9f35eb8b9'\n 'nyt://article/a51cde91-1c56-5664-a1d6-97c82cba2923'\n 'nyt://article/5784b334-7e3e-50d3-9e5f-29c72128f3d8'\n 'nyt://article/ed54e45f-c14d-5bbe-922a-16e74e87c1f7'\n 'nyt://article/191d9390-796d-5aca-8e8c-1e17de61e5bd'\n 'nyt://article/dfff6493-0b18-55fd-b938-59741c41e860'\n 'nyt://article/11550bf4-e319-5872-b412-ea3a77083ad1'\n 'nyt://article/b40337c1-5381-5eca-a8a2-158fa9c08770'\n 'nyt://article/e318fa65-f5b3-583b-a913-dc2e52dd6814'\n 'nyt://article/0c258820-a70b-52f8-8ba0-f02670346053'\n 'nyt://article/5d33e287-9470-5b87-8521-e219ea4db49e'\n 'nyt://article/bafc0e79-263e-58bc-8c91-65f8c382f0ff'\n 'nyt://article/91a850c2-be27-5ecd-a5f0-da44a06437aa'\n 'nyt://article/182bda75-2e80-5263-9b67-1fa1fd1e6006'\n 'nyt://article/def15912-fd17-54c0-a753-0d2e68e0c7d4'\n 'nyt://article/8d7b34a3-3907-57bb-a005-4dd312a2234e'\n 'nyt://article/fed91a4d-0068-5b81-99a8-9786652de14e'\n 'nyt://article/438729c5-1ab3-5cd7-9464-e2310b5da8c4'\n 'nyt://article/be7e12d6-c747-5ea5-8fca-14d181da7855'\n 'nyt://article/e636a5a3-984f-52c9-8bf1-c6034433ac2b'\n 'nyt://article/fc82f213-e485-53c0-8afb-f708fa8056b2'\n 'nyt://article/75ca1604-3a00-568f-9227-48637db93063'\n 'nyt://video/882f966c-07f4-5402-a5ee-0c210bff5039'\n 'nyt://article/79584bcd-0b47-5bed-b2b9-eb25c623455b'\n 'nyt://article/22a2c57e-4d7e-5dd7-bffb-4be433111e7c'\n 'nyt://article/6e416859-ff38-56d7-ad2f-ef5c75bebbab'\n 'nyt://article/b111efa7-47a6-55d9-95c0-1a8c9cd54442'\n 'nyt://article/2563f9c3-e8fd-5ced-93cc-00c12b55e1c9'\n 'nyt://article/7e65f179-dcfa-566f-b109-22420ab3c4cd'\n 'nyt://article/97011b88-4777-5582-91f1-a469adae38f7'\n 'nyt://article/d8eb29b9-e06f-5bba-801e-4404a0ff6acf'\n 'nyt://article/51ffd18e-f357-54c1-8510-bc8adb7cd987'\n 'nyt://article/018476d5-b187-5516-9815-dec40a2a0089'\n 'nyt://article/6968c9c3-e2f6-573d-b3b8-7ce861dc64c6'\n 'nyt://article/ba97150e-7836-5a51-9bbf-97df6e7e32a9'\n 'nyt://article/4d6a2d07-d2d1-5b33-95c3-e7aa3da3b8ed'\n 'nyt://article/640afc5a-2377-5ecf-a8b0-028a5a47363a'\n 'nyt://article/16ef6b83-2750-52e9-87f0-8a1c548218d6'\n 'nyt://article/eab69f8f-43c8-5591-835b-2b4fae4669b1'\n 'nyt://article/18591054-bcba-5747-9842-66c643be9e65'\n 'nyt://article/3c6ee5ba-7426-5cbe-ba38-a9a10ef8a635'\n 'nyt://article/bfc64ed9-8d62-5ad6-a37c-d447168e5783'\n 'nyt://article/fd7ccc7f-d1cd-5948-ab7d-05cd3b9bf7a7'\n 'nyt://article/cd227921-bb0a-57d3-b2c2-071df629ccad'\n 'nyt://article/af6f333f-6d43-5d87-9548-a63cd0aa8ddd'\n 'nyt://article/1c0566f5-31f5-5aa9-aa99-1589e36b4847'\n 'nyt://article/b0cc4393-81fe-59a1-bf48-3bba7bc5ab9b'\n 'nyt://article/9611d8ec-a3cc-5b96-b905-425d40b464aa'\n 'nyt://article/cfc94469-30eb-5d0c-b17d-7a96d691ad8b'\n 'nyt://article/7cebfe72-e934-5091-bb18-ca45c9dc14a4'\n 'nyt://article/ca566f32-0a14-5766-8203-7db11aed1182'\n 'nyt://article/7f0381f6-791f-5431-b63b-e566a37815ee'\n 'nyt://article/792861f4-5b0a-57d0-8bce-64bad0d741e6'\n 'nyt://article/8562434f-34ef-50c8-a7a5-ea25f166dc5a'\n 'nyt://article/d1edf1d8-d4d8-51f5-842e-68d9e24a86c8'\n 'nyt://article/1c2be249-dc47-5a7d-9053-4e62b4c4d3b4'\n 'nyt://article/ed9ea558-d649-5c78-9318-ca9302a54d04'\n 'nyt://article/f84c41f5-b0f6-54ff-9074-036c27cccb5e'\n 'nyt://article/21cc9771-e4ed-5b75-8d25-68978053e072'\n 'nyt://interactive/151d61d1-6b2f-5ae0-82bc-dbb31484870d'\n 'nyt://article/548487b8-e210-5808-a63c-07f3242248a5'\n 'nyt://video/ec1361f6-3467-588e-b2bb-97b9e23fec03'\n 'nyt://article/55591bcc-42c9-53b5-bc0b-7567e8c20648'\n 'nyt://article/1b1ee0cc-54c3-5570-847f-a960f1d4ff29'\n 'nyt://article/d90af9eb-6f81-5e73-b782-c67281c5a1a5'\n 'nyt://article/50a334dd-6852-5571-af1a-1da508e41a93'\n 'nyt://article/d108fcbb-670e-589b-a95f-e421fb619157'\n 'nyt://article/a7ca49b0-cf5e-5ba4-bd95-b007c0f7a395'\n 'nyt://article/6a2cd799-7099-5c3e-a62c-dd19d3e189be'\n 'nyt://article/fb05462c-0237-562f-80a8-eb606ffff292'\n 'nyt://article/62908fd2-d5fc-5b8f-86a7-5e00dfea5a4e'\n 'nyt://article/84171343-3eb0-589e-ac85-138dd51ca8ba'\n 'nyt://article/7a3d0af7-46a7-5092-820b-8a957b8cec43'\n 'nyt://article/814e5a9e-1ca6-5534-bb11-2fa16a2613c3'\n 'nyt://article/8e362760-e983-578f-955c-9ea0aa70470d'\n 'nyt://article/e7c26bcf-413d-5fdb-9e04-7593e5e69b3e'\n 'nyt://article/2dc53e56-189e-5f3b-b1f1-0206d3644d02'\n 'nyt://article/2c6805fc-a182-581d-8f54-9a8b00abb70b'\n 'nyt://article/17964ebd-aba4-528b-9e7b-fbdef3c374de'\n 'nyt://article/b5a25414-f743-597f-920f-7048a72ac073'\n 'nyt://article/af73ab52-c86b-5f70-9c43-8ac4946bdba1'\n 'nyt://article/9a38c9ce-b67a-515d-a364-88e8cedcf15f'\n 'nyt://article/e9406e37-a944-5554-bcde-07b102370652'\n 'nyt://article/1979f271-ea8c-575f-81a3-55dd00bfdb4e'\n 'nyt://article/cfbfd14b-3009-528a-8bea-7c1f89141abb'\n 'nyt://article/b61909c5-6883-5178-add9-2dc08320bf8c'\n 'nyt://article/6f392570-1cd5-5f5d-85a8-9f97030cbc89'\n 'nyt://article/4333f945-3ab6-5936-a3d8-137ffe851cb2'\n 'nyt://article/a228b36b-796c-592b-9ab7-4ed1cea5826b'\n 'nyt://article/b16516fa-e361-5a8d-8142-274c80077fcc'\n 'nyt://article/0e779eb5-38b9-5d8d-9690-564ed59d1dfb'\n 'nyt://article/37be3852-7f5e-58a4-8ff2-9d07c5a945dd'\n 'nyt://article/d0660362-9f7f-5688-8542-e2e55ee075e3'\n 'nyt://article/4fb34a85-3b5b-5e12-bd7c-c40551c319b3'\n 'nyt://article/a6d1d059-8668-57ff-adac-bbd57cc0630c'\n 'nyt://article/16cf5ce6-d83e-5fa5-9e33-3056a384844d'\n 'nyt://article/f7b7e471-4442-58f4-870c-91d1fd47ce46'\n 'nyt://article/c5a17a15-d5ca-532c-bf1e-e41950a1de1f'\n 'nyt://article/8aca840f-bded-5f3c-8e2b-5c0b377eea19'\n 'nyt://article/1d9f0c64-541b-54c4-87e6-6b964e71ea7f'\n 'nyt://video/10e305cb-cea1-5643-9fb3-fb960f305711'\n 'nyt://article/dfbc4919-d236-5316-8cfb-5aabc5ee9230'\n 'nyt://article/6b8a033c-bd65-5340-bdca-999521c946f2'\n 'nyt://article/66dc70bc-ebcb-5777-971f-379541bf9dcc'\n 'nyt://article/7ccfb41b-c1af-5d11-af35-82521875fc83'\n 'nyt://article/ade1fe8f-d593-5ecf-b64b-c6ffd79a546a'\n 'nyt://article/fb18256a-78ea-5106-9123-336af6278189'\n 'nyt://article/ab86b644-9da8-5e01-832b-ee1208c1838a'\n 'nyt://article/e95c1bb6-dcd9-5cd4-9642-3561edba3657'\n 'nyt://article/690ab536-09c4-544d-811e-db03d595bb56'\n 'nyt://article/fac73fc7-565f-563f-acd8-da6ddc68363d'\n 'nyt://article/5310bf1c-e7f4-5bfd-8689-ee566cd87eb8'\n 'nyt://article/f0c21f7f-4487-54a6-b4b0-efd26959ad45'\n 'nyt://article/644f955d-f181-5d4c-9c63-f9020412115b'\n 'nyt://article/357912f1-529c-5b25-adb6-cfd06e969185'\n 'nyt://article/3b4db1c4-d8ae-5fac-837d-6d0cbb9b2d22'\n 'nyt://article/8018f1f8-0b63-5259-ad9a-1dbc66e5902b'\n 'nyt://article/849753a5-1ea1-59e4-abc0-89c50abd9f0c'\n 'nyt://article/03eb7430-05a9-58a2-af6a-d3ec74012a26'\n 'nyt://article/9ef1f14d-2e8c-5a24-9f27-0bad539591a4'\n 'nyt://article/836205c2-98d3-54ce-bccc-b56671d279b9'\n 'nyt://article/41fde71e-4d53-5f5d-b624-eb92cc802c08'\n 'nyt://article/b8ce19bd-2c8b-5477-b25b-58b4ba6f7010'\n 'nyt://article/67cd4fcf-7ab1-57cd-8535-e4daf7839760'\n 'nyt://article/c349e152-fc39-5d34-a397-3fa3485cd1e1'\n 'nyt://article/3bd2a4c3-c39d-52b1-af2f-cd889ddfb5ca'\n 'nyt://article/8a602d32-7813-5d0f-913f-1090a895c82f'\n 'nyt://article/69f9df6b-485f-5c2f-9367-6af379bd3ea0'\n 'nyt://article/a111d5db-75fd-561e-a1e7-4733f3d517c9'\n 'nyt://article/6cad98d4-42c2-58b9-b3fd-9261b8be5d97'\n 'nyt://article/f9406c61-446f-5106-be25-6ac60729c73a'\n 'nyt://article/76ee2687-a178-511e-8153-946e82c6d7fd'\n 'nyt://article/95fb0bd7-298c-542c-aeaf-b87f4a348e20'\n 'nyt://article/28f5e0a9-66f4-5fc2-a36b-5a25d692cb00'\n 'nyt://article/3ad618ff-b01e-573f-a8c6-a05adbaf9be8'\n 'nyt://article/f49dcd3f-5fb0-58a2-b2df-a67c508e7bbb'\n 'nyt://article/08619f25-2984-507a-909b-4ff591d75c03'\n 'nyt://article/a4af0ae8-7a19-5fb8-bd4a-1ffb2036dde6'\n 'nyt://article/2fce4a81-b9b1-56a0-811f-0538f9714af0'\n 'nyt://article/5ca0c886-5034-5bd8-b6c7-f2eb6a36ff29'\n 'nyt://article/4b975c8c-b78f-5e85-9664-eb671d8f5724'\n 'nyt://article/2348bcd9-2cb9-5ef2-8f40-379dbe606e93'\n 'nyt://article/331a4417-4b00-53ff-b403-0fb4ec14c085'\n 'nyt://article/7cde2a2b-e46a-5323-bf9a-d33603195c64'\n 'nyt://article/2c1fe840-909f-5836-85e5-1fa1f9735f9e'\n 'nyt://article/003e4e11-db0e-587e-bcc2-a2c1b6374ba1'\n 'nyt://article/9d485e2c-cc06-5c7d-a35c-67f5c37f2472'\n 'nyt://video/78da3d36-1f10-522c-81d8-8c6d9dc6c952'\n 'nyt://interactive/8b82b4f6-d8a0-5415-800e-27b1563fb040'\n 'nyt://article/2d34dc4a-82a0-5058-9aa8-a45f3c9b2d02'\n 'nyt://article/f06731fc-b825-5211-94f6-8a3d4d03a4a2'\n 'nyt://article/f0f067b8-2988-54cc-81dc-d735f38edf3e'\n 'nyt://article/2a5c8c2c-c4e1-584c-83b6-86f07d0289c3'\n 'nyt://article/994ed599-a5d6-5cf3-bf43-0b1e4b013755'\n 'nyt://article/4a696b8b-6da8-544d-9fd7-70a2d1aba612'\n 'nyt://article/cee487a4-4fba-5375-b22e-65c70921a1cb'\n 'nyt://article/432ad95b-89a6-5d38-a468-289732b9685c'\n 'nyt://article/d6b3043e-6ed5-5d0d-96f3-b2f86b21d0d8'\n 'nyt://article/d113375b-9565-538f-9396-3c2be3c464e3'\n 'nyt://article/644f5263-2fd5-5969-80a9-45cf927f9d40'\n 'nyt://article/559d67aa-d4d3-5fe5-8b6d-31a2d87cb016'\n 'nyt://article/ff45c67c-a2b9-57b7-a80e-57d9ca21e4f6'\n 'nyt://article/42c78d7d-5954-5883-b4dd-5dd6ae445abb'\n 'nyt://article/56e02e86-a14e-523f-87ac-e683427580df'\n 'nyt://article/03e2a1d5-c74f-5142-934b-168bf6b9385f'\n 'nyt://article/d2cb98e3-70c8-55e2-886f-f48b122000a1'\n 'nyt://interactive/0e0daf87-8783-55e0-9999-a986cf39dc12'\n 'nyt://article/898fc14c-f240-5f04-a9ea-abc93be1ff2c'\n 'nyt://article/29f70cad-7ae5-57c8-afbc-c06e110fad2a'\n 'nyt://article/627f59d9-98c7-5226-a0a3-f0482e7278cd'\n 'nyt://article/982e09e8-7736-5548-8102-de8a942cdb47'\n 'nyt://article/75e5954e-f9ad-5274-b35c-4313c65eb838'\n 'nyt://article/2a33e42d-b472-5ef9-aa93-fb0f1a4e70ee'\n 'nyt://interactive/13d75cb1-6094-537b-aec8-f487507b3ffe'\n 'nyt://article/6499e039-11f3-5754-a9b1-e1c78fb197d5'\n 'nyt://article/a4277f0e-6bc6-5996-b227-f0c55ba0544a'\n 'nyt://article/c38d2a3c-7058-5283-825c-12b826117aac'\n 'nyt://article/fc6284f7-c327-5d98-9c23-0ec3baee185c'\n 'nyt://article/cc017fac-c1a9-5f86-a2a1-f03740d1533d'\n 'nyt://article/0faa487c-bae7-5325-a119-69b183b3dc6b'\n 'nyt://article/390dfde8-1c25-56d3-ada6-76d6cab4dafd'\n 'nyt://article/db7ea6c7-3ef8-5fc0-9686-987e3c26a8e4'\n 'nyt://article/10453968-c7cb-50d8-ae37-8bc7d4bdeeaf'\n 'nyt://article/f00d3886-887a-59e9-bbe3-69bc1de6f3f8'\n 'nyt://article/c3e65f2e-f23e-53fb-92ef-e02dfc5003f2'\n 'nyt://article/c6c56cb0-607f-5b2b-9eef-7371adc4156e'\n 'nyt://article/dc5df80e-a064-5216-93ad-27bdd8af366c'\n 'nyt://article/d9606ec0-863a-570a-be26-6c5ee1de1503'\n 'nyt://article/7843c099-5f7a-5948-bfbe-c2ef4ed1b124'\n 'nyt://article/84f2702a-60f6-5c5b-989d-df856824c61d'\n 'nyt://article/876dfabe-b5f6-5983-a12d-48ddd1de4c07'\n 'nyt://article/3116c2bf-9943-5968-bed0-21607cc10fc7'\n 'nyt://interactive/caa7a64e-05f1-5a71-a588-1e8f311db878'\n 'nyt://article/a95edbe7-0f69-5cb4-a502-87db75dd7f8d'\n 'nyt://article/6460d6ca-4569-57d2-85f2-9c8c81a87f54'\n 'nyt://article/877060cb-44c9-553c-999c-2e696d3e53c9'\n 'nyt://article/17e1638f-82e3-56e0-b263-eab882fb67f0'\n 'nyt://article/826f4ca2-18d7-5820-8fe5-a3ba38a4876a'\n 'nyt://article/7e82ef39-944f-53c5-aa08-de76fb19ebb1'\n 'nyt://article/85018576-13d2-59e3-a528-009d61e9a6c4'\n 'nyt://article/b4ef6232-42e9-5415-820f-46fadaca2b5e'\n 'nyt://article/fb2b94cb-9ab5-51c9-b052-5cb795d9ba2d'\n 'nyt://article/0cfd2b95-9850-50fa-9b5f-ed8076599965'\n 'nyt://article/7b780c20-ca56-50aa-9bed-1a382f0788c7'\n 'nyt://article/a5eb8fcd-7f76-52f4-89bd-afc1378b4025'\n 'nyt://article/04c78a01-a13e-5b39-b4a8-8d89de09d429'\n 'nyt://article/eff54abb-409a-569b-ab20-09c6f8cd09e4'\n 'nyt://article/4ff0123d-daed-5869-94a7-48c73ddf6491'\n 'nyt://article/22cc5dfa-bf10-5e99-8035-c692b9674e25'\n 'nyt://article/38985b65-b862-5d12-984c-cfbd65e5d6af'\n 'nyt://article/a3859a69-b73e-5465-8b6b-0581fd6ac0d1'\n 'nyt://article/69d8b568-c087-5740-a22f-df11248723ac'\n 'nyt://article/5c741421-8ab2-564c-81d3-4034f264ceb0'\n 'nyt://article/e5f1a5af-9b31-5fcd-9dde-ceff057bfe3c'\n 'nyt://article/3927f4ba-d03d-5fea-88b8-02384a9612a8'\n 'nyt://article/5b8ff491-2c0e-5a14-acbd-0d6f98b8956e'\n 'nyt://article/7042f8bf-2246-5dd6-8a34-4000a97be12b'\n 'nyt://article/c08c18e5-545c-54be-815b-5313f2e77100'\n 'nyt://article/7ab6a151-51cf-5845-a9b9-55717947bd57'\n 'nyt://article/77da2d77-dcb4-5413-bffd-18d39be07412'\n 'nyt://article/ba781550-c30e-5805-ba67-d16608c0e732'\n 'nyt://article/48aa1098-effd-59dd-8f17-4f95e425eaf1'\n 'nyt://article/84261a49-b3fa-5ea6-acfa-2bc23f46add1'\n 'nyt://article/55105b16-71c2-5e71-af6d-5fb2f3714351'\n 'nyt://article/86b5531b-3f5f-53bb-bda7-90ef3e36d7bd'\n 'nyt://article/32f2edb5-db2c-56f9-b805-7f5ceb1f8be9'\n 'nyt://article/2679cc4b-64a0-5a3a-b74a-1ebd723a2606'\n 'nyt://article/05a076d6-9f2c-57f2-8d3f-5bd92502308d'\n 'nyt://article/3730b3b0-c048-55cb-812c-11e45922ec8f'\n 'nyt://article/275ed32b-45a7-558b-b062-2f7a88f065a6'\n 'nyt://article/f6bf1f69-340f-5b4d-b568-c7575e99e133'\n 'nyt://article/1b1483c8-836e-509a-9ca7-7157228f6968'\n 'nyt://article/2c325e31-d5d9-560e-99d3-5dd90bd1ea17'\n 'nyt://article/890aac88-51ae-5558-92ff-60c230cd5e77'\n 'nyt://article/ab3117c5-2380-5493-b5a2-9a275ffd38e5'\n 'nyt://article/1eca91ba-61f1-577f-9608-55b60ca9f849'\n 'nyt://article/7dd19b59-156c-5583-bd77-764448662a9c']"
        ],
        [
         "25",
         "South China Sea",
         "South China Sea",
         "26",
         "['nyt://article/3e378519-5301-513b-9ff1-baaf73c2afe1'\n 'nyt://article/b38be870-e63a-5ce9-bd42-7c2856c8cf13'\n 'nyt://interactive/6256e38a-277f-5fb8-acf9-2adecfbfb3b6'\n 'nyt://article/9e43debe-8e36-5732-81f4-297d92a907fd'\n 'nyt://article/c4a1c8f6-0951-537a-9917-ab3ec6448950'\n 'nyt://article/9aeae167-7e27-5e8c-bba5-18352a4ca368'\n 'nyt://interactive/f5852d85-975f-54af-9422-2db447002184'\n 'nyt://article/efbcf0b5-9769-5b16-a02a-62f38e84c0b1'\n 'nyt://article/79acc66a-86db-508b-9fbf-de644e361acc'\n 'nyt://interactive/7c53d0e8-f08c-5155-b878-6ae27aa87510'\n 'nyt://article/bc85dd55-af86-5b73-9c20-4290c2871fd1'\n 'nyt://article/63d78256-7141-57e3-a68b-d505a4f59337'\n 'nyt://article/84093b59-54a2-55a0-b8e4-bb75c4316940'\n 'nyt://article/3288b7a6-a0ec-5b7d-9c33-b35d01db0694'\n 'nyt://article/3db8ba01-1b32-56af-8bd7-371782a2c926'\n 'nyt://article/e303b384-9c77-58bd-bc6c-ae7fd354a9ab'\n 'nyt://article/e4d9255d-1190-59a1-8839-0d6a3c11fcf2'\n 'nyt://article/a339000d-0591-56b5-9ba5-1f7669bd697d'\n 'nyt://article/3b73b7c2-4b00-5eda-af5d-ce8559cc07d9'\n 'nyt://article/91a850c2-be27-5ecd-a5f0-da44a06437aa'\n 'nyt://article/d1edf1d8-d4d8-51f5-842e-68d9e24a86c8'\n 'nyt://article/66dc70bc-ebcb-5777-971f-379541bf9dcc'\n 'nyt://article/e95c1bb6-dcd9-5cd4-9642-3561edba3657'\n 'nyt://article/6460d6ca-4569-57d2-85f2-9c8c81a87f54'\n 'nyt://article/826f4ca2-18d7-5820-8fe5-a3ba38a4876a'\n 'nyt://article/2c325e31-d5d9-560e-99d3-5dd90bd1ea17']"
        ],
        [
         "26",
         "West Bank",
         "Palestinian Territory",
         "148",
         "['nyt://article/e3ad1eb7-1466-5f43-9234-14db378205b2'\n 'nyt://article/46063156-3bbf-5777-9e4f-020b818012c8'\n 'nyt://article/963aef34-dcbe-522f-9b3f-722e450762f4'\n 'nyt://article/9e156bc9-437a-56ca-9eda-10985af36955'\n 'nyt://article/bab08a10-01fc-5a2a-b530-c704bf07a860'\n 'nyt://article/dcb9bcef-3900-5b83-a550-4701219c70f1'\n 'nyt://article/2efccf09-8e2f-5612-ad18-8221032375e9'\n 'nyt://article/e05b1cd8-7108-5618-a9a5-ed460bd6f2c5'\n 'nyt://article/b29c566f-4874-5e0e-a80d-4069fc254751'\n 'nyt://article/bd590c7c-c6fc-5a78-8f9c-fafa97606d65'\n 'nyt://article/52bea5b2-ac2a-5973-81ca-fcc1121325d0'\n 'nyt://article/a35871c8-1704-5d53-a32b-f53f49300c59'\n 'nyt://article/42ce76cb-0fa1-5116-af37-23f598ee26d8'\n 'nyt://article/a9f1bf04-68ab-518c-a53a-0201b57db83c'\n 'nyt://article/e454827a-29a6-56da-81f8-1b354ebde6b7'\n 'nyt://article/754f2b2a-c182-52b5-bb11-f3d63108a05e'\n 'nyt://article/970a9971-fa20-5c95-a503-3125abdf28b7'\n 'nyt://article/d71b50a6-a512-551e-a44c-3a653c0ec903'\n 'nyt://article/f87841dc-4523-5f01-a44d-f8288b75ddb3'\n 'nyt://article/f3cf2325-d000-5b47-a059-2a66d98b7d35'\n 'nyt://article/007f3d4e-0c9e-5abe-bfb5-55a84db4efa0'\n 'nyt://article/c0489129-acb6-586e-8f2e-39223682ee86'\n 'nyt://article/9163ea02-458d-5fcd-86bc-f5cc36d24305'\n 'nyt://article/c9d8eb7f-10d1-5d56-be8b-4dcf1055c77a'\n 'nyt://article/926ce690-f6ec-51a9-ba51-fbad25b7bd0d'\n 'nyt://article/d65fb9c8-347c-5cc9-ba30-6c1aaf5ce6d4'\n 'nyt://article/d9e4b9bd-f9ef-53df-9c64-125cf9a2add0'\n 'nyt://article/c6b74f41-1ccd-5a45-a678-fc4b47dd667f'\n 'nyt://article/52be1a71-2745-5b30-958d-7e0a857e37eb'\n 'nyt://article/bbfc308f-af55-5aa0-a0e8-d8d23844f06f'\n 'nyt://article/8c8dc8ad-31aa-5bde-9134-2ecaeddf4683'\n 'nyt://article/bc755c77-818d-524f-bb58-07dae10d65b0'\n 'nyt://article/71e145ae-16df-55bb-b22d-add531c7f179'\n 'nyt://article/1c2a2acc-67c4-5060-8647-03dea917c495'\n 'nyt://article/f985b95c-fc57-525a-8ae6-90ef1f2710f7'\n 'nyt://video/940ea7df-1bcb-58b5-9b4d-2dab7aa3af72'\n 'nyt://article/b46738b7-54de-5ef2-b01c-cc913af8f69e'\n 'nyt://article/3dce7939-0f6f-5da6-9813-417f9b8cd52c'\n 'nyt://video/4a650918-2fb9-5e1c-988d-71807bc99d88'\n 'nyt://article/0db8c5da-9703-5250-b7bf-a66bc4232cd0'\n 'nyt://article/73f9813e-85a0-5461-bfec-83347c72615a'\n 'nyt://article/ea53c076-4fe1-5b5c-822d-609fe4696c67'\n 'nyt://article/e3ee8535-7aa8-5b64-9a90-2c3517ff5a4b'\n 'nyt://article/c67294af-61da-5c0b-bd6d-16faa6fd43da'\n 'nyt://article/774d6edc-7a34-5083-8ab4-61c8518c632b'\n 'nyt://article/4a6d5a41-0b59-5b13-8fac-92b530e6d052'\n 'nyt://article/c459eba3-a04a-59ee-8b2d-81ab834a7589'\n 'nyt://article/9daf908e-11ba-59b7-ba4a-4bdf6413570e'\n 'nyt://article/6d1f9dbd-fbc8-5c98-a8cd-b1de3b1036d0'\n 'nyt://article/7ee736c9-2fd0-5d69-bf66-8e278d69c7c2'\n 'nyt://article/c5fe3fb7-cbfc-5775-b573-d3d4df95037d'\n 'nyt://article/a6812316-7451-5f39-8217-5591952c77d4'\n 'nyt://article/ef5e6878-c654-546e-9533-5eaf50331cdf'\n 'nyt://article/2640caf7-0897-5850-a531-f4dcd67d62b1'\n 'nyt://article/bfb3e099-8cc2-5d95-a1ba-7fd7041880d1'\n 'nyt://article/38829022-59cd-563a-b177-b4f218291e48'\n 'nyt://article/5c5c70cf-33b5-5622-9974-e46b7607eb51'\n 'nyt://article/5a6f6969-14b4-5f10-bdad-c5ad6cf45b59'\n 'nyt://article/4deacc9d-de66-5b8d-979c-7b3c2b689d75'\n 'nyt://article/417d455a-da5f-5f45-8d66-f46dba1ee904'\n 'nyt://article/f642a49f-66b7-5a05-81e3-da93d4f43f99'\n 'nyt://article/eed4f410-a012-51ea-84c2-eb7a11a7c0c2'\n 'nyt://article/d29b75bb-6852-5a01-bce6-89d749695cd6'\n 'nyt://article/a3898f7d-5c05-5f04-b49e-7527e509423d'\n 'nyt://article/42d79440-64b8-5d2c-8a96-c68044c73305'\n 'nyt://article/e92892df-c94f-59ec-bd9c-4ae2c9023a78'\n 'nyt://article/38f22f7c-1d84-54e2-9f7d-b484e5e95387'\n 'nyt://article/0d4a7167-bd4c-5129-8756-180a4ad55f60'\n 'nyt://article/90ed0ee2-eb76-52fc-b385-074ac47212fc'\n 'nyt://article/d6c9f7e5-3b82-524a-a808-703bc3124705'\n 'nyt://article/58a3d0a8-3765-5272-9d2e-53a6751903df'\n 'nyt://article/944026b5-a8dc-53a0-8bf3-32b7ef137069'\n 'nyt://interactive/69591a3c-2b76-5ffd-862c-6f916dc268f3'\n 'nyt://video/bc263a69-d780-532c-b544-5b2046c15aaf'\n 'nyt://article/cfdbd4f4-3ee1-514d-aafe-49b08812964b'\n 'nyt://article/2459ae39-c03b-572d-8cd8-1606139f085b'\n 'nyt://article/29a5b8b2-1ee9-578c-834c-2ff55051e978'\n 'nyt://article/0d7d1923-1736-5008-abbd-72ffee14d138'\n 'nyt://video/64e136ff-5519-542c-ab18-7a48850f67d4'\n 'nyt://article/9375b6c3-cf8f-58ae-a44c-7fc0415768cb'\n 'nyt://article/4c4d530d-2ff1-5264-87b0-85500128ecc2'\n 'nyt://article/fcb6b5af-3b18-5db0-9dc0-4f2ea4eb0e50'\n 'nyt://article/3a47b0e9-2ae9-56d7-878b-f67d9805abb6'\n 'nyt://article/d213099b-1eef-58de-bc30-ba95afd34b46'\n 'nyt://article/f792ecea-78f4-5a0a-9151-05a8a2da7678'\n 'nyt://article/4753d6fb-a2a4-50a2-b4d3-a57228dcabc5'\n 'nyt://article/66388a14-b5c7-5554-be08-9ddf26657f0b'\n 'nyt://article/634907ae-9f8a-53f1-b99a-4d7df6719123'\n 'nyt://article/081b5f5e-b38e-50ed-94b7-36f61474e8ff'\n 'nyt://article/64615e58-d481-5d96-a582-d9c8150342a9'\n 'nyt://article/19d6d2ce-b6db-50e8-a905-043c95e51cbf'\n 'nyt://article/a983fff4-f77e-56b4-9163-29032431d98c'\n 'nyt://article/aba64d88-b315-5188-a496-4c977fa05df8'\n 'nyt://article/edb7b418-c1e8-5f65-9d64-189be0a055cf'\n 'nyt://article/a0fcd1ea-0110-536e-9f53-85c01853523b'\n 'nyt://article/71942665-0a16-523a-8594-ecb23b8d7763'\n 'nyt://article/d5c0137a-6cde-53d0-bbf7-de693b7a0c14'\n 'nyt://article/6021341c-41a9-5719-9d05-df7625bef4cf'\n 'nyt://video/ca000fb6-4437-526b-a57a-e040ecc6e31e'\n 'nyt://article/78501ccc-3c18-5534-94f1-8e550dde4394'\n 'nyt://article/49af4dc6-d313-56ac-88e5-de39a5723444'\n 'nyt://article/97617513-1e67-5261-b29c-0233a9c1f911'\n 'nyt://article/7f6e9be2-f92b-5528-b520-74b09f01d3b6'\n 'nyt://article/1beae440-4e0b-5899-b299-cf47883153a6'\n 'nyt://article/480e5839-b698-5554-9bff-1b5c61914075'\n 'nyt://article/8ae615bb-d82f-50b2-bb20-50194c9db46c'\n 'nyt://article/c4541170-a930-5d3c-863e-bfc05c9d5d9c'\n 'nyt://article/093ba144-ed07-5a89-96f8-3b15b9bbcaca'\n 'nyt://article/6ea03808-87a8-5abc-840b-af18d0ea8422'\n 'nyt://article/c2d6013e-a09d-57d9-9098-a1306bf9d0e7'\n 'nyt://video/65a21c59-dd00-51ff-8f23-1d03ddf910bc'\n 'nyt://article/0a26e17f-76bd-523e-977d-821d72c4a987'\n 'nyt://article/2d8ff105-f0b6-5f02-a55e-f877aa55c521'\n 'nyt://article/564d635b-3568-5917-a99b-8859fb60634a'\n 'nyt://article/97f1bdb7-9d34-5d17-a79f-15c358da4334'\n 'nyt://article/bd7aefa0-8161-5a3a-9d15-d0379a1cdabc'\n 'nyt://article/6b1af96a-90fc-5744-a55b-b0c3a536c251'\n 'nyt://article/ef524c9f-376d-5017-962b-f1de0eabe914'\n 'nyt://article/7ca9fb29-8daf-53d3-b1f9-1331a46e1f5f'\n 'nyt://article/aeb48cf0-9ba9-5ab8-a8e3-0039cf8d2255'\n 'nyt://article/34f445ee-e40b-5c58-b5a6-2560210d4c58'\n 'nyt://article/1984cc13-e09b-5c45-8a4b-6171e4db1cc8'\n 'nyt://article/800165e2-67e1-58dd-a073-ebd9ece58a13'\n 'nyt://article/005e02cc-8fcb-5885-9753-773fe1aeb177'\n 'nyt://article/649f528a-1d22-5f2b-a4fb-3ac25790e0a9'\n 'nyt://article/190cc642-d356-5f6b-8749-a7b9d5858b93'\n 'nyt://article/775cebdb-eed6-5020-9eff-176da098abf2'\n 'nyt://article/7d06bf36-d22f-5efb-96c0-f2d525d40fa4'\n 'nyt://article/9ff1c702-5741-5a43-a468-368410b4e5ec'\n 'nyt://video/62b55907-4f87-5b8e-89fa-0440a6ab1fa7'\n 'nyt://article/64dc8955-328c-5836-91da-718973023a6a'\n 'nyt://article/fd41df99-4dbd-5a7a-a1bc-bf73ebb99fd5'\n 'nyt://article/0eb37a7c-0ac9-517f-9638-f163b95cf417'\n 'nyt://article/e6a3eb01-e5ab-535b-9be5-ecc033640231'\n 'nyt://article/5de3d29b-4238-5138-ab0a-30e6a1b1a188'\n 'nyt://article/6637d97b-2e78-53fe-a87c-9da1297fb9c1'\n 'nyt://article/61007861-bfe3-5796-8d13-085a09af1ec2'\n 'nyt://article/26b6eaef-739e-545f-9b9e-e8dafea2b4c1'\n 'nyt://article/f7f7435d-e012-5ce6-9428-eb6d547879c5'\n 'nyt://article/d6ddf994-2f4d-54b9-b6e8-a68e8fa978bc'\n 'nyt://video/e649e9ed-80d0-50ce-ac34-fb5e83d4d2d0'\n 'nyt://article/c4c17e9e-61b4-5810-bd64-00fabc348f1c'\n 'nyt://article/c96d23dd-d3e0-5382-bce2-902bc75a5a9e'\n 'nyt://article/882bd84a-66d6-5e05-91c1-020fb6180b48'\n 'nyt://article/20c7cf1f-ef52-59cf-8aff-63b930453ad0'\n 'nyt://article/c5c1a704-260c-5f5d-a82f-d19b9334e998'\n 'nyt://article/43387394-fb25-51bc-99e9-c90181962f24'\n 'nyt://article/e375e0ea-81ae-54af-ae3c-d964bb6b0a61']"
        ],
        [
         "27",
         "St Paul (Minn)",
         "United States",
         "10",
         "['nyt://article/4abde6a3-37f6-5f6e-8799-525b9509d0ea'\n 'nyt://interactive/913064d4-0011-58b6-a59a-63fde3417cf0'\n 'nyt://article/8e1e7ae1-ae38-54ba-93ae-7b1d07a2ae68'\n 'nyt://article/0709fd69-80a7-506b-833b-4135eb0f051e'\n 'nyt://article/567b2652-78b1-5430-8eb6-aaad756b262f'\n 'nyt://article/8a8a2537-af9b-593c-ae55-63b6ca78a73f'\n 'nyt://article/252b668a-3a67-5d14-8281-3fd35922d73a'\n 'nyt://article/e756a847-b875-5dde-a627-28f26f2e8fba'\n 'nyt://article/7be87132-a38b-5934-983c-b5baa1a86d5e'\n 'nyt://article/75e4ac10-cf14-5bfc-94cd-d3242f521033']"
        ],
        [
         "28",
         "Minnesota",
         "United States",
         "142",
         "['nyt://article/4abde6a3-37f6-5f6e-8799-525b9509d0ea'\n 'nyt://article/e50a7dcc-9a1c-5475-a551-a4cbcb0521f6'\n 'nyt://article/b3138c14-bdb4-5e65-b54d-7a942dbf1f15'\n 'nyt://article/6474a3ed-763c-59ea-ae87-1dcc7de9f8b2'\n 'nyt://article/52051ff9-a9f3-5ee9-ad40-dff550fe0c7c'\n 'nyt://article/f83cfc65-daee-5d6d-95f5-f47d02409dcc'\n 'nyt://article/bf4a99ec-4a92-51f8-89c9-d903edfee7c0'\n 'nyt://article/658a0182-b5e2-51c9-9856-6370c3d843ef'\n 'nyt://article/fa084d80-503c-519f-97ff-68ddac828d2f'\n 'nyt://article/4895bed2-a721-5f2c-bb46-1516dcbbc18c'\n 'nyt://article/a0e34878-f31f-59f0-b07c-a6a4dd545fa0'\n 'nyt://article/c9c03901-4501-5074-860b-436bcba3ee1c'\n 'nyt://interactive/cbdf07e5-a7c0-5030-bf66-c03a7f767572'\n 'nyt://interactive/24915256-f322-59c8-bfb0-d09efc94920e'\n 'nyt://interactive/41e8f962-fb44-54ae-9d8f-e235243561db'\n 'nyt://interactive/d945fbcd-fcf5-548d-8bf0-d0a329a5daa7'\n 'nyt://interactive/366c9890-5146-5b29-ba6f-b4270b707249'\n 'nyt://interactive/7efd8c33-24dd-5665-9851-535a93a103ae'\n 'nyt://interactive/97175a05-7a6e-5f72-84c6-fcbab7d3c027'\n 'nyt://interactive/99a1ccb0-39e9-5094-97ea-e54d811e2a93'\n 'nyt://interactive/655c6486-5fdd-5f27-887a-32875a1b3aa9'\n 'nyt://interactive/a0cc715e-fc27-580f-a064-546aee438ce1'\n 'nyt://interactive/a1f59f4b-493d-52c0-8be1-e3dc7c294d35'\n 'nyt://interactive/54de2425-c399-58b0-8636-cb5eb951594a'\n 'nyt://interactive/bae3501c-ef15-597d-9d85-ea5d34e7d39d'\n 'nyt://interactive/ec6c1050-49ca-5952-9e9b-d3d137b848ef'\n 'nyt://interactive/9114d64f-5ed2-5a5b-ad20-feb0695643a2'\n 'nyt://interactive/a6ccc944-e2ec-5bce-b9fe-da830a6bf29d'\n 'nyt://interactive/164f0e98-6292-5259-b0d3-9e3b5204fac7'\n 'nyt://interactive/f3c9962d-a226-5320-ac1d-21c2b132e450'\n 'nyt://interactive/2d44e623-26b0-521b-95fc-3069ebb0a81a'\n 'nyt://article/475e2119-e2c6-56da-a0d5-57c89f8e81cf'\n 'nyt://article/5d42f0cc-d10b-5287-b447-b7d196a2a267'\n 'nyt://article/7fce650c-f73f-5a7d-bf9a-e74e80eacd49'\n 'nyt://video/d884b079-abf5-5e3a-b312-d806296cd58a'\n 'nyt://article/57a76f71-18a3-5ca9-9e6e-11ece4cf7dd2'\n 'nyt://article/4d1613ef-9f65-5a57-96c4-c7335c4afb98'\n 'nyt://article/38c2e970-ffb2-5de1-ac8b-29d48adadfae'\n 'nyt://article/2a08d22a-0015-5d43-b9c5-d63fedb45212'\n 'nyt://article/39988e97-34b7-5758-8ee9-ffd87e18aa17'\n 'nyt://interactive/4bfd9ffa-5e75-5273-b41d-fc0a67e9fe32'\n 'nyt://interactive/d1db2003-a816-5da7-9540-5d063527a172'\n 'nyt://interactive/383d0138-209f-57fa-b27b-f6db3ffbd4f5'\n 'nyt://interactive/0c9ead96-dd74-51fa-8a95-711840ffa3a7'\n 'nyt://article/6d4b7dc0-1693-524c-bbed-c932341e19e2'\n 'nyt://article/7bd883d2-584c-531b-ae2f-0860223ccd86'\n 'nyt://article/8e1e7ae1-ae38-54ba-93ae-7b1d07a2ae68'\n 'nyt://article/1842511e-e057-5329-9df8-82ee4da53777'\n 'nyt://article/340a13a8-c63d-5f45-9c2d-2924de379bde'\n 'nyt://article/0f2ffbbd-de68-565e-9040-9556ae4e7fc5'\n 'nyt://article/6251b33f-b030-59d3-aef2-b90a381259ba'\n 'nyt://article/efa32de8-7145-562e-b086-d4cf9706d4a1'\n 'nyt://interactive/1d755aec-f9fa-5080-9363-924355e0a8d1'\n 'nyt://article/29b1309f-f038-5bbb-97ff-3549a87face8'\n 'nyt://article/751bdf2d-5dba-5035-9cd6-934128f65d93'\n 'nyt://article/d1120a8a-06f9-5bcc-a769-bd7fe3704092'\n 'nyt://article/419bff3f-3248-59ff-9fbb-08e3cdbad19c'\n 'nyt://article/8a8a2537-af9b-593c-ae55-63b6ca78a73f'\n 'nyt://article/8fef77c7-0c62-5118-b470-2f1ae1665b01'\n 'nyt://interactive/f55a00b4-27bd-57f3-94b5-aedfd1908784'\n 'nyt://article/6498a5b1-d24a-5692-9087-bd5e882b60ab'\n 'nyt://article/7da1e5a6-26e9-577d-8c09-d5b1078397a5'\n 'nyt://article/fba374b4-a0ad-5ec4-9e75-598b5b0945ae'\n 'nyt://article/9894fe84-b5f5-5e97-b7ec-1d2416baa9c4'\n 'nyt://article/10a48eb3-6c93-5464-8875-a4bb41acefd6'\n 'nyt://article/78edabe1-873d-545b-9291-ecc1d3edae6e'\n 'nyt://article/256610ea-494e-5807-8630-9e2f60b3081a'\n 'nyt://article/21390698-8e77-53be-8e02-9619b94caa65'\n 'nyt://article/8026eb2f-50a2-5e90-9e51-f7e20c5601ed'\n 'nyt://article/bc612ed1-7f04-5ec0-beb5-4536511b0bd8'\n 'nyt://article/eb050afe-b262-5f97-bc1d-a0514685e15d'\n 'nyt://article/252b668a-3a67-5d14-8281-3fd35922d73a'\n 'nyt://article/72f3ea5c-7a3e-59c3-92ac-96cbc0538eb0'\n 'nyt://article/658e2488-2276-536b-aaf3-dac7d9959ff6'\n 'nyt://article/76196178-3601-5d03-ac53-d42d5d39a57c'\n 'nyt://article/81012c29-8632-5056-97f6-60b9727c6848'\n 'nyt://article/e756a847-b875-5dde-a627-28f26f2e8fba'\n 'nyt://article/93c3c6f4-fb1b-562f-be38-147dca12a862'\n 'nyt://article/7be87132-a38b-5934-983c-b5baa1a86d5e'\n 'nyt://article/62c1593f-3d9c-5f6f-8c1a-05cf28f2aceb'\n 'nyt://article/7fad21e3-1a93-5ec0-a094-c77dace828b5'\n 'nyt://article/b81d74f3-f879-5805-a7d3-22251ac3e613'\n 'nyt://article/843385c6-e798-5952-9495-f44a39331f16'\n 'nyt://article/de90d6b3-8ace-5405-8ee5-492d338c3c29'\n 'nyt://article/4fc6ebfa-296d-5888-ac5c-ce17b48b82db'\n 'nyt://article/d67258be-870e-506f-b9fa-b95938669a28'\n 'nyt://article/56403a97-fe64-5242-a094-531e3049cc89'\n 'nyt://article/4b487ca7-0a7a-5d09-a9b6-6cca90f96f83'\n 'nyt://article/32cbed5b-dbe4-5fda-a7ae-291e2ee5fe93'\n 'nyt://article/2ddf8bec-3bc7-5fca-8b3e-556094f84214'\n 'nyt://article/25b26989-5ded-5820-95e6-43654f1506ab'\n 'nyt://article/fbb97493-4f06-5827-9e2c-c8d2f2c8371c'\n 'nyt://article/0baa6fe3-b524-535c-8b91-2fe5584031dd'\n 'nyt://article/685f4aa2-dd79-5b6e-aeac-30d9acf28df0'\n 'nyt://article/f0f3158e-eca7-5494-9f6b-73edd1dcef37'\n 'nyt://article/15754d29-4012-5dd3-91dc-a2307e711aff'\n 'nyt://article/5cdae863-2d36-534f-948d-a0639b098496'\n 'nyt://article/0d45ee95-efeb-5a52-b7c0-9a7db4e6227b'\n 'nyt://article/a4ba03b3-d75a-5722-b4da-432d60556cef'\n 'nyt://article/e5ef1c6c-bc02-5dfb-a047-548a0de544e3'\n 'nyt://article/32f959a4-5f96-5d8c-9e2a-2802eb7b336d'\n 'nyt://article/b4c57415-32e9-504e-a99b-e5a213dee4a9'\n 'nyt://article/f6d4af78-543f-50da-9183-72562f4ad3fc'\n 'nyt://article/6d34f893-9673-5a8d-9d92-30933e7f9813'\n 'nyt://article/8b154c32-688c-5d5a-8397-818dcb523141'\n 'nyt://article/25120a03-bf49-592b-9dc9-3a1b10b8f835'\n 'nyt://article/2071fae4-2c04-5969-bd04-dd75ae5f5085'\n 'nyt://article/d753c9f0-9b6b-5fc3-8f7d-c3997a376a51'\n 'nyt://article/2cc8f399-d045-5c1b-8771-60827bda8a1c'\n 'nyt://article/a7dc6ac8-ad7c-53fc-b6b9-c345c34ad007'\n 'nyt://article/59cca329-823d-5c6a-820c-f132eb104b55'\n 'nyt://article/b7ea7279-577e-55d8-9164-bd7e462073be'\n 'nyt://article/29a03bd4-282b-5f24-b30b-a5394c4f6662'\n 'nyt://article/33cc4667-01be-51b7-b83d-5ac7a836b311'\n 'nyt://article/7325fb1e-7769-545d-af31-491936aa061b'\n 'nyt://article/76782852-0045-5a17-85d0-668c31e556e4'\n 'nyt://article/ca5c970a-cf40-5b20-aa1f-9f8b5efb28cd'\n 'nyt://article/984ceb65-2e05-52bb-8da4-91653edeabda'\n 'nyt://article/a0c9f4df-26d4-57b3-917f-4b7c7febe0f5'\n 'nyt://article/a95edbe7-0f69-5cb4-a502-87db75dd7f8d'\n 'nyt://article/4f7e683b-5bac-5dc1-98af-1dd775ea1621'\n 'nyt://interactive/ffb76179-58c1-5161-b945-00a8ad4b7998'\n 'nyt://interactive/caaf75e2-468c-5f05-ba44-5d765f3d12b1'\n 'nyt://interactive/d27cc7d9-de6c-5317-9c4b-33e9bf62e092'\n 'nyt://interactive/76d56ae4-ef25-5f9f-b65c-ea3e1638a050'\n 'nyt://interactive/be71a06e-7c0a-555f-a62f-f39efe5aad77'\n 'nyt://interactive/570c1efd-0ecc-5e1e-bede-0b04e035893e'\n 'nyt://interactive/2086febc-feb5-5852-8cfa-901d6504a628'\n 'nyt://interactive/37a59702-3e4c-58a2-838a-7ea35bef6e5b'\n 'nyt://interactive/18a1037e-b573-58ce-8d83-a1ebdf85ecd5'\n 'nyt://interactive/94fad6d7-aca2-5e97-8570-2f82776fdd1d'\n 'nyt://article/c7bdbd95-fd98-5daf-aecf-18895ff5630b'\n 'nyt://article/8543e9a7-4ef2-5242-bb98-7fcb18cf61eb'\n 'nyt://article/d70ebaf3-1a67-56e8-9499-c5ba392a355d'\n 'nyt://article/78e8acaf-af82-50a0-85fe-a289b3d12f44'\n 'nyt://article/b643701c-4409-50ab-8b63-12270ecb9fb1'\n 'nyt://article/af38125f-14ac-5a8c-90f1-15144d5f6760'\n 'nyt://article/513d2a06-b064-5aa2-864c-adc920562ced'\n 'nyt://article/4c4a6bfd-2aba-5df5-8d63-a10afc9697f7'\n 'nyt://article/ed59a78c-d0ec-5e71-bf73-d42e1576abff'\n 'nyt://article/0dfdafed-d76a-5fc0-ab58-2ade05851a60'\n 'nyt://article/f340233f-549f-59c7-8a14-36b838e60c43']"
        ],
        [
         "29",
         "Nashville (Tenn)",
         "United States",
         "48",
         "['nyt://article/2cea169f-1a2d-55c7-be97-0eb3ead36c65'\n 'nyt://article/48f9a656-6534-52b2-a1e4-3a08c78147fb'\n 'nyt://article/e1fc855d-acfb-5c5c-aebd-aaab9c83e3bc'\n 'nyt://article/ea77eb45-0d23-5a86-a3ed-8d56d0abb611'\n 'nyt://article/63e2d9d5-9d8f-542b-862d-84358e1d05e0'\n 'nyt://article/26c7c5fb-db05-5400-b677-1b00dacd975e'\n 'nyt://article/7e24f4e8-40bb-56ee-bc42-1faf2cb2e5aa'\n 'nyt://article/36e0b0e9-2ddf-5097-8a53-28f5277ecb60'\n 'nyt://article/47b31a24-3491-57d1-8370-338d31dec4d8'\n 'nyt://article/bba63290-913b-5c77-b68a-919dfb92e3b6'\n 'nyt://article/8408a7d6-652f-5f2a-8298-29f106ec3b0e'\n 'nyt://article/9211c5a0-a53e-565d-bdf2-81a60683f608'\n 'nyt://article/9e66c253-f568-55da-b0b8-edaf64cb4d80'\n 'nyt://article/155568a7-0ec1-55c5-9e44-4842588652dc'\n 'nyt://article/04980613-ec23-5a66-a54b-8f0dcfc04531'\n 'nyt://article/87a6f78c-62cf-5d47-9d14-06f52d72c4bc'\n 'nyt://article/bdb34772-4d55-5f64-9b62-35bb80cb1a76'\n 'nyt://article/bb4f14d7-bb44-5ffc-afc3-c057013e055c'\n 'nyt://article/c5238dfc-bd8c-5397-825e-4da7877b6c86'\n 'nyt://article/15e462f7-c4ee-5a4c-a647-7387d2fe45db'\n 'nyt://article/04c9a1e7-f787-5d79-bac2-44acca363908'\n 'nyt://article/60503a23-3ddf-5212-9444-356d713024f4'\n 'nyt://article/e0377a25-bcfa-5f8f-96ce-f17d026aea10'\n 'nyt://article/82483113-e13e-50a9-9f8d-f7b1283896e0'\n 'nyt://article/8735af01-df90-5bf3-a9f2-d85d69bf0263'\n 'nyt://article/c1fb50bf-d3ac-51f4-896c-3c0271b3d031'\n 'nyt://article/296ed2e9-35b5-5580-847d-01ed6737661e'\n 'nyt://article/ba4e3896-8588-5f5d-8252-96ca9dd07dd8'\n 'nyt://article/5a0eff56-b6ba-5ef9-b6ab-53cc28de8669'\n 'nyt://article/213e6050-9158-5619-b21d-a68280d0127e'\n 'nyt://article/7f67ef2e-19b1-5b8d-93ae-ef1253172af5'\n 'nyt://interactive/8f132f27-2e48-509e-a572-9f6d0b1cb45e'\n 'nyt://article/838bc3d2-055b-52a8-87c9-4e1ddc2c3178'\n 'nyt://article/7bea44c4-d8e9-5b53-8fe8-477a7c3f492e'\n 'nyt://article/ad8bce9e-4269-5b80-9398-7ca10a931674'\n 'nyt://article/b3f0abf1-8dc7-5e2e-aefb-3cddbb3c95f2'\n 'nyt://article/cf391ea9-87e2-5f92-9d13-3ed779652d4d'\n 'nyt://article/1da9f8be-8b15-50b2-a9c7-b24542f58c96'\n 'nyt://article/664260c8-8645-5b5d-8e2f-c0c0b8f50010'\n 'nyt://article/dd7457b2-9a51-5f70-8d7f-c6e73b6c7853'\n 'nyt://article/a824453f-63cc-5d20-9cf4-01990e63e78f'\n 'nyt://article/0dbe13c8-78e0-5f8f-af49-44edf49c70d7'\n 'nyt://article/1dfbd1b3-3829-5ed0-b37b-8af8539d98e7'\n 'nyt://article/1b4fe71a-284b-591d-85f8-138dfe194929'\n 'nyt://article/d01f06ca-5f91-5131-8454-f1e35bc1471d'\n 'nyt://article/cff378ba-66d5-5468-b155-f262f7bfc11c'\n 'nyt://article/432c7265-b95c-5ea0-8e3a-d59b0efce8cf'\n 'nyt://article/38a13843-73a1-51f4-96be-5140a64bfdeb']"
        ],
        [
         "30",
         "Brazil",
         "Brazil",
         "146",
         "['nyt://article/0a8e3d79-e89a-5ed4-8981-e4b9c1d50354'\n 'nyt://article/208c2f6a-924d-5d1e-a03f-996695ffc330'\n 'nyt://article/e3829944-3631-5618-a43e-a6b7f3894bbd'\n 'nyt://article/1a6a729a-b5d9-5783-8235-2a017c3797ea'\n 'nyt://article/df20dbaf-d7c1-5a58-b6eb-e8387e796a51'\n 'nyt://article/e6eff96b-c865-54b1-856a-18e01a02c1b9'\n 'nyt://article/7da9dd57-ed51-5e70-8241-1bf7040e909e'\n 'nyt://article/a788c6c0-5cfc-590c-ac7f-4dff08add350'\n 'nyt://article/1f5ef007-4c09-5a60-8f55-744934372bcc'\n 'nyt://article/019cc577-cf26-51e6-aba9-14c984f884cc'\n 'nyt://article/716875f5-acd4-5d2b-a64c-4a5b5741a1a7'\n 'nyt://article/7c6c5ad7-0244-5a88-8fa2-b0829e45aebb'\n 'nyt://article/a3b53364-d66d-5b49-bbff-c691b660ccac'\n 'nyt://article/09acb071-28d6-594e-b3fe-4799a7bac8f7'\n 'nyt://article/2028ab73-b945-5eaa-85ae-58945f6df85f'\n 'nyt://article/72750308-710a-520d-8077-0128b76dbc62'\n 'nyt://article/42d47da6-2661-5822-82e5-6ec86f1a388f'\n 'nyt://article/1aa43b32-166f-5b5b-86d7-0de058a1e151'\n 'nyt://article/af22806c-5e25-566e-988b-541a5ef200e4'\n 'nyt://article/23a6bcb1-85a4-51d0-b972-847fd8758b21'\n 'nyt://article/82c3ab0f-fe3b-5d86-998a-16c15c23f51a'\n 'nyt://article/569993d1-fb5d-57aa-8940-c51ce3633fde'\n 'nyt://article/9d3dc1ee-dadd-52cc-a013-9f882c14ea8a'\n 'nyt://article/9276b34c-3b40-57d2-bd85-9bf252de076a'\n 'nyt://article/02a8698b-e746-575d-b37e-7b04c79eacd5'\n 'nyt://article/62ffe15e-d6b0-5ebf-83d3-a34fc44964bb'\n 'nyt://article/99edfa44-e5a1-50af-b7b6-39d68c2e560f'\n 'nyt://article/76dbecbe-4d0c-5f48-855d-6dff04a6991e'\n 'nyt://article/bf56ce35-304f-54cb-8560-ccdef084ed22'\n 'nyt://article/0c590090-ca6f-54c4-ba2b-7c7617059c11'\n 'nyt://article/a008167d-fddd-5f78-a94f-a5c20c40e7e5'\n 'nyt://article/0e91b0cf-6abf-5723-a3cb-e8633c2d2164'\n 'nyt://article/3b3d552e-a57f-53c5-8ff0-31113b14c493'\n 'nyt://article/3def920f-2532-513e-919c-2ca26a78931f'\n 'nyt://video/5d66abcc-b231-52c3-b659-20f1d80f18c9'\n 'nyt://article/ec210860-0da4-51d2-97e8-904cabab7c84'\n 'nyt://article/c8df73a2-bcb7-52e1-a56a-8318086d725a'\n 'nyt://video/68ea45f0-a15a-5b9b-9d23-47583defe934'\n 'nyt://article/506af149-2b90-501c-b50a-3fb4d9d28ad6'\n 'nyt://article/7f482b56-f2d2-5106-b5c2-263b495b3d81'\n 'nyt://article/44eb3eff-659b-565a-a1ec-cec54e0f4c77'\n 'nyt://article/ae862df1-83da-5c3c-8588-4f513328f315'\n 'nyt://article/d59f86fd-bc6a-511d-9d57-614801f1b784'\n 'nyt://article/3b927a80-7aa6-5ffe-ba57-557ff839deb9'\n 'nyt://article/e51d7144-a3ad-58a7-b2ab-f72fbf339d4f'\n 'nyt://article/385607e0-0da2-55bc-a6f1-4ebec5ea0f8a'\n 'nyt://article/207a8efd-a20e-5d9e-a702-950fe0de80ee'\n 'nyt://article/517bbf85-0e20-5f12-88f4-75aa934749fb'\n 'nyt://article/8cd8346d-694e-5d55-990c-74317f6ee960'\n 'nyt://article/993e63f4-9549-5085-b6cc-addbfff3691c'\n 'nyt://article/5777d841-50a1-578f-9a11-f36168c24726'\n 'nyt://article/df186b1c-f7e9-5da8-b486-8cbc45bd6703'\n 'nyt://article/e24b2ffa-2f0b-548a-8d37-7a1939b55e29'\n 'nyt://article/ab94bcdc-20da-50ea-b5d0-f23fcf4afed7'\n 'nyt://interactive/0fb6e473-4239-5706-98fc-9a22dc60a61e'\n 'nyt://article/c4631b95-48ed-55ef-9da1-5538e8381018'\n 'nyt://article/2ebc8a6a-05f0-54c4-86a6-ea4a2fe3d45a'\n 'nyt://article/3d887152-073b-572d-a0b0-3ab58fc02f33'\n 'nyt://article/906b4e9b-f6c8-56c5-a829-d8a8f44f37c4'\n 'nyt://article/bd0a7f12-0be0-5e7e-a360-519eb3902cbb'\n 'nyt://article/4548fe2e-6560-5406-af88-afb9185bc574'\n 'nyt://article/4e56c826-238c-59fd-8398-d946b54cafaf'\n 'nyt://article/ee314670-308c-5285-945f-84bc53fe90a5'\n 'nyt://article/287d15e9-b5bd-5eb3-9d19-a4369c8f705b'\n 'nyt://article/92641805-06ec-5b59-be99-3e39512c583f'\n 'nyt://article/0a0d5fff-e858-51c8-a397-b9878dd5d1a0'\n 'nyt://article/d68dfe03-176f-5bef-ac8f-8356b37ebe8b'\n 'nyt://article/4b9addb0-ece4-5275-a497-a5742b169c82'\n 'nyt://article/1144da25-6dd7-5369-8457-6c700b537ae0'\n 'nyt://article/506d22d6-0066-50f3-8500-6e72356aba4a'\n 'nyt://article/8ceeb74c-0110-5697-af59-7e47b2a6ba75'\n 'nyt://article/4c898390-82a3-5d21-9e63-bee012af32ca'\n 'nyt://article/27218239-bc11-5e15-80e2-b663b0fcef23'\n 'nyt://article/aba101ee-b370-5aa5-bc83-d9e347daa2de'\n 'nyt://article/92c398bc-c844-5259-98fe-57dbfab2eb19'\n 'nyt://article/e9c89d4d-4ee8-541c-a781-9d97668283c9'\n 'nyt://article/17579916-ca0b-5b2e-a84e-ef3a520f4b39'\n 'nyt://article/9b68cad7-5db2-5b65-9b43-cdba75854545'\n 'nyt://article/8dc879df-0bfc-5666-90fc-588dee2a3638'\n 'nyt://article/1f941312-2902-5da4-963f-ae6f5cd86439'\n 'nyt://article/c96b3b9a-6c5c-57ec-bbed-d450937bf68c'\n 'nyt://article/d7a79c9a-a6d7-5b49-b66b-ea7b6c697da3'\n 'nyt://video/325cd8d2-137a-5a6e-8ff8-490eac566125'\n 'nyt://article/c074859b-f07e-59ae-ac5a-3b2b450c7b2b'\n 'nyt://article/2832a632-5b22-5aa7-96df-983255497b61'\n 'nyt://article/d35a2be4-8651-5b52-8cfe-d2f3296e0eb6'\n 'nyt://article/90e7e151-69bb-5749-a07f-d18f9ccbe36c'\n 'nyt://article/22edf542-d819-5470-874b-7bd9e3ebff83'\n 'nyt://article/603971a4-c18e-5c5b-8207-ac872b44fd64'\n 'nyt://article/482228c8-15a4-5b2e-a76c-97227c49dbc1'\n 'nyt://article/3fba21b2-f951-5098-97f1-9bd61e433a7a'\n 'nyt://article/c4aec98e-ca64-527d-a788-2ef5dc2c5e8c'\n 'nyt://article/b7d830e3-54ed-52c7-bfaa-ae422b55ad8f'\n 'nyt://article/597fc5fd-c7b1-5211-956e-f842d3aa9cb9'\n 'nyt://article/5ac52914-6905-5c1e-aa6b-89d425bf7abd'\n 'nyt://video/859a0051-602e-5f72-b1b1-16e2aa53faac'\n 'nyt://article/72205a30-3e6c-556c-96f9-f7aa42fa4bb9'\n 'nyt://article/ace6a6bf-79d9-5d66-9ce2-23277b0d9cbd'\n 'nyt://article/577e90c9-a37a-53db-a173-7c44b6ae0b6e'\n 'nyt://article/c05d1802-fb11-54c6-b6c6-79ea93385490'\n 'nyt://article/6b95b343-7a6d-5016-a47a-eee46a988bc7'\n 'nyt://article/da358e0c-227f-5d24-9cad-8aa1e1a29c53'\n 'nyt://article/b44ba9e5-ea89-5dfc-bd2b-228e09383129'\n 'nyt://article/7a4951d4-496c-503f-a1e7-044469e67725'\n 'nyt://article/ff8e91fc-f14b-5308-859f-737756f5a21f'\n 'nyt://article/370a9aed-358f-5a39-8f19-71f3aa93e9e2'\n 'nyt://article/28494256-b138-5e5b-a944-e660352a3dde'\n 'nyt://article/c1df7566-51e6-5183-9349-aa26aa47a9a8'\n 'nyt://article/5054688e-a54f-574a-9e7b-7ffb6cfaec05'\n 'nyt://article/cadd214a-9939-500f-a2f3-7aebf7a20faa'\n 'nyt://article/a69c7170-68aa-5b95-b7f0-6c534ddd82fe'\n 'nyt://article/f6b1d71d-9b89-5163-af4e-2c25687afb9f'\n 'nyt://article/b7bd714f-70fb-5d22-af95-f26a8c107f02'\n 'nyt://article/dbdcdf3d-f029-5dff-a4a3-8d5fb5bd202a'\n 'nyt://article/aad53d3e-9be5-535d-bf3a-2bf6928ebb12'\n 'nyt://article/e49b94a1-a8d0-5233-918c-33ea799c943d'\n 'nyt://article/74f685c1-dbee-5fdb-a27e-4dab4b2af226'\n 'nyt://article/51a3d293-71dd-59f8-a322-ec977af34a3b'\n 'nyt://article/1608e08f-2ef7-512c-8526-2ad7f6c3c88e'\n 'nyt://article/3d727b31-652a-5f79-83a1-e92fc8aa56e0'\n 'nyt://article/1a369c33-2629-51ce-be71-80a78e4e23df'\n 'nyt://article/77b8aeb7-7ec5-52fa-a1ed-fbd711770b92'\n 'nyt://article/848be629-562a-526d-b240-cd096aae3482'\n 'nyt://article/a8387394-60fc-5413-8e55-9bb118209e59'\n 'nyt://article/13153a15-f62e-5ba5-8f9d-b3e03221a10b'\n 'nyt://article/f4a1d113-1213-568a-9fb0-1214773765ec'\n 'nyt://article/f9056355-2867-5957-be5b-5fae84e64cf4'\n 'nyt://article/752b1886-c322-5f2e-bd4a-48cc30463897'\n 'nyt://article/476f76a1-91dd-5dae-87f3-db5da79f0854'\n 'nyt://article/7f461088-36ef-5e9a-9af5-fa296509b52f'\n 'nyt://article/1dfbd1b3-3829-5ed0-b37b-8af8539d98e7'\n 'nyt://video/7dcc0f71-14f5-5735-abd7-66342b2376b7'\n 'nyt://article/c5fb2795-a67c-5aad-b7ce-bad8adb856bd'\n 'nyt://article/22741380-5dd6-5380-84f5-ed5ea29c71db'\n 'nyt://article/b462fdbe-b2e0-5a7b-8df6-f3c403e23f5d'\n 'nyt://article/3acfab73-83ff-50d3-8430-0cb4e2349be2'\n 'nyt://article/a580ad1a-1693-541e-8b44-143d56083844'\n 'nyt://article/83bca7c7-7596-5e2c-9eea-6d62859db832'\n 'nyt://article/7a74f8f9-1c0c-52df-a259-403bb410d95f'\n 'nyt://article/39294cef-5f68-5a08-a6b7-9c6fcf66fb06'\n 'nyt://article/cb7ef204-4197-5a10-b8ab-d79876d02710'\n 'nyt://article/cda9c78f-a2c5-51f2-bb6c-f1ebdee30802'\n 'nyt://article/97f24409-e7f0-5bad-822c-acf480eb76ca'\n 'nyt://article/a988d12e-2d3e-5812-8e59-4296e40b202f'\n 'nyt://article/3cf5e168-0189-59d6-b2fe-4b771aa842a8'\n 'nyt://article/d289696e-a671-55b9-841c-56130ce782d6']"
        ],
        [
         "31",
         "Kauai (Hawaii)",
         "United States",
         "3",
         "['nyt://article/6e68b087-4cd3-5a4e-8f6a-48212761e56b'\n 'nyt://article/e6f42280-4606-52b0-87cb-8841e8072f02'\n 'nyt://article/17cdce24-cb5c-5a15-9234-7b002347d759']"
        ],
        [
         "32",
         "Honolulu (Hawaii)",
         "United States",
         "10",
         "['nyt://article/6e68b087-4cd3-5a4e-8f6a-48212761e56b'\n 'nyt://article/e1c0e4ed-bd98-5a44-871b-a7c99674b3a9'\n 'nyt://article/0a74bf80-7de7-5307-b226-02e00ae9599e'\n 'nyt://video/94a69368-0095-54ef-a550-030f9e28dce9'\n 'nyt://article/74f985fc-902a-5207-9f58-1a750591c9cf'\n 'nyt://interactive/1983a91d-e77f-5058-b075-0cb889e708cf'\n 'nyt://article/15412539-ecc5-560e-96ca-88d2835a81ee'\n 'nyt://article/b6303338-3498-5ef5-91b8-27edf976027f'\n 'nyt://article/a3c8947a-87fc-5d53-8af8-f804a4621668'\n 'nyt://article/c85916ae-496f-5a54-8f09-f151d3bd342f']"
        ],
        [
         "33",
         "Greenwich (Conn)",
         "United States",
         "10",
         "['nyt://article/6e68b087-4cd3-5a4e-8f6a-48212761e56b'\n 'nyt://article/d909ca4d-1d4e-5ee9-a263-3281654a5f20'\n 'nyt://article/157896a5-1911-5183-a598-4d312e24f63b'\n 'nyt://article/48389218-027f-57c2-a5c3-360ce1490d91'\n 'nyt://article/71ed8e01-d0b4-55b4-8c69-5f64601023b4'\n 'nyt://article/41e6d5e5-4f6f-58a3-bd6c-85b2afa1abaa'\n 'nyt://article/05931752-2a06-55cb-ae94-8e6661542d7f'\n 'nyt://article/a8da07ef-ac37-526a-81a3-d88af1fb1cc9'\n 'nyt://article/30108b07-058b-5512-920c-c33095dfac1b'\n 'nyt://article/7bdc5b83-9193-53f5-945d-b1d0da9781f6']"
        ],
        [
         "34",
         "Baltimore (Md)",
         "United States",
         "102",
         "['nyt://article/6e68b087-4cd3-5a4e-8f6a-48212761e56b'\n 'nyt://article/91687cc7-d1a0-5d00-850d-e80fb1097cfa'\n 'nyt://article/8d512cd8-587d-5763-a60f-192aa134801b'\n 'nyt://article/0b1f0f6c-06f7-51f1-bb26-cf3342a37e20'\n 'nyt://article/00bc78fa-965f-591a-8c5b-1e133fbc1463'\n 'nyt://article/b3fc25d4-3bdc-59de-b2b8-ffef6c4e6e22'\n 'nyt://article/a529aa02-107e-50ba-8b22-062d22ecc0e8'\n 'nyt://article/55948e75-a3be-5a80-af42-58a3b1eac494'\n 'nyt://article/2afac065-b862-525c-95b5-1c4da1672aff'\n 'nyt://article/941ce9e3-7e85-50f1-8573-163cf7293e25'\n 'nyt://interactive/c5e32373-86dd-5420-ab85-99dd1564218f'\n 'nyt://article/30772f60-9ed4-5bff-8e51-fd3734de8522'\n 'nyt://article/d2dc757d-7e20-56bb-9573-f5a25947af78'\n 'nyt://interactive/d7bd14f0-9721-5138-bce6-ebedcb3b2a02'\n 'nyt://article/e40b971b-ad7d-50a5-b288-7d41273fb912'\n 'nyt://article/66831265-b907-5024-a6ea-f5c29388ab65'\n 'nyt://article/e46a757d-9ec1-54a6-bde5-307cac254cba'\n 'nyt://article/ebde9e33-99ee-5bd0-b2ce-ef481d8d74ac'\n 'nyt://article/bdae8351-b85c-50b2-b56c-3f50d5b99ad6'\n 'nyt://article/4216eee0-c036-54cc-927d-fe831c4f1675'\n 'nyt://article/27954017-372c-520b-b72c-fbefbc3a3605'\n 'nyt://article/2fc757f6-2e88-59cc-86e1-172525614bd3'\n 'nyt://article/fc245536-666b-54f8-be27-58d0bb967eb5'\n 'nyt://article/cde83fff-6b10-5e1f-ae26-4f7fda1d44e0'\n 'nyt://article/1edc09bb-70d1-53bb-bec4-76f6766d9980'\n 'nyt://article/98f03956-00c2-5eed-bd77-fc7b6ff00221'\n 'nyt://article/de92ac8a-817a-5a3a-a405-3ffd1933bcc8'\n 'nyt://article/5323d894-b963-504b-af14-d784cb1f749d'\n 'nyt://article/5d337a61-d296-5609-b528-f83acda54d4f'\n 'nyt://article/6350b11c-be65-5605-9ebb-4aa38a074b13'\n 'nyt://video/ce4f9170-6973-5106-8a28-89cef93a316c'\n 'nyt://article/320d0c74-e2a5-50b4-a2b0-ff64fce2de65'\n 'nyt://interactive/6d247d7e-bd4c-5035-b141-43e037f77d46'\n 'nyt://article/8fd1ee3c-1210-52dc-ab99-add776f941b5'\n 'nyt://article/33fdcce2-c60f-5898-b34c-7087dd73c19c'\n 'nyt://article/c4943299-cc65-5f9e-a7e9-4f23c0ba0eb0'\n 'nyt://article/0d1efe4e-1e42-52cb-bd0f-485827bdb91a'\n 'nyt://article/db95b866-31e2-59b4-8019-ba2e0583330c'\n 'nyt://video/f5690848-aa89-5ff9-b91c-487bbd4f139e'\n 'nyt://article/36eb57ad-270e-5a4c-a813-c25e29a47963'\n 'nyt://article/263abd14-a9f8-5a74-9dec-0f56754a7829'\n 'nyt://article/95d64169-4016-587d-81bc-8b3ad7545581'\n 'nyt://article/0ae3f186-7110-5036-acdb-65e1fdecd685'\n 'nyt://article/ea90f23f-75df-5058-92bf-8ca88164cbd8'\n 'nyt://article/35e3c7a7-6082-51c4-9737-378a5c689797'\n 'nyt://article/dd3b010b-eb75-502b-adc5-bef7328ec76f'\n 'nyt://article/a65fb8d8-84c0-507e-bec9-bfd442804484'\n 'nyt://article/adda6f48-ad3c-543d-a854-dd34c9607f2f'\n 'nyt://article/ef24b805-fbaf-5979-8e6c-523000595396'\n 'nyt://article/a05da279-a425-56f9-a0c7-130c9c764c90'\n 'nyt://article/7794fed5-3a1b-5aa6-94b5-1537ffcc30fb'\n 'nyt://article/f1747612-94ee-582f-8c95-9f0cd309168f'\n 'nyt://article/dc08366d-8a07-54fa-9eb5-764129824e0e'\n 'nyt://article/9f192f0a-6b2f-5eeb-b1a6-8995bc32b663'\n 'nyt://article/1ceb67d5-962a-5499-995e-7bad26514d74'\n 'nyt://article/aaa96f9d-7be9-5673-b629-09b5482c199a'\n 'nyt://article/0f2ffbbd-de68-565e-9040-9556ae4e7fc5'\n 'nyt://article/5be73f0e-2e17-5c7d-ae59-8b187b8a75a4'\n 'nyt://article/1bdfb1b0-512c-5962-8753-cfa5a537267d'\n 'nyt://article/0da33bee-78ab-5ff4-8501-79763e48ed16'\n 'nyt://article/fcf542f9-162d-5e64-98d7-0e3ca9c050d3'\n 'nyt://interactive/add6b696-c2a3-53f1-ba6b-bd57423ac21d'\n 'nyt://article/469c1b2e-a0f1-52ac-81ec-5a91c28066a0'\n 'nyt://article/a1580361-0fcf-52f5-a277-f81508f624a9'\n 'nyt://article/bc86656a-c4c8-5c40-8eb6-2c93ef103433'\n 'nyt://article/06ab9076-03ce-549c-b6f3-a8207a8f0c78'\n 'nyt://article/cad21843-7ffb-5dfd-b13b-3063035788e0'\n 'nyt://article/692576b9-0d4a-53b8-a137-997d2acd9ab9'\n 'nyt://article/5c1fa188-56f0-5f2d-bb01-f708ef2c204e'\n 'nyt://article/35ca7c15-6e50-5a8a-94df-593f2d622623'\n 'nyt://article/bb9a28a7-b7fb-59da-aedd-eef8936ad467'\n 'nyt://article/9521ef3d-4b3b-5ca4-894c-ac883a5da5a7'\n 'nyt://article/5b5a1072-8418-5d9e-84ed-dc21e8a905b9'\n 'nyt://article/ecda0a0a-ec65-56d2-aa95-c179cdd8aeab'\n 'nyt://article/53c4efe8-f7be-5b9a-a38d-947135c2ba0c'\n 'nyt://article/44ad7380-1eaa-59b1-841a-e1c1c1cc7144'\n 'nyt://video/f69b055d-01b9-503f-a166-90b9be62b765'\n 'nyt://article/4b902855-9a11-54ca-a087-bb7b8bcf1a49'\n 'nyt://article/90ca93c0-42db-53b9-b100-04b74ee6a769'\n 'nyt://article/deb8d555-93d3-5426-903c-4da8074f047c'\n 'nyt://article/2784f0d4-3519-5ee9-81f3-0d51c0b2630f'\n 'nyt://article/ede46f6c-a063-5c02-a782-ff2b4d30050f'\n 'nyt://article/11b32d54-4cdd-5759-b112-e783da75e03a'\n 'nyt://article/46bef213-4088-56b9-afc4-6f7f2d971395'\n 'nyt://article/34cc793a-d8ae-5616-aaf2-958d84b7e96f'\n 'nyt://article/4948bdd5-c4aa-5b3a-884e-1603de38173f'\n 'nyt://article/84030c44-be0e-5ead-ab8f-66a1722eeb52'\n 'nyt://article/4e5cafe2-07aa-5eaf-814b-b1ac23c51c71'\n 'nyt://article/676ccd03-eaa8-5951-b516-af37a5ec8ac6'\n 'nyt://article/2db6bc7a-b58e-5b29-8f2c-4186d3d5dcef'\n 'nyt://article/14526ef2-8484-54b7-a694-0abd9856645d'\n 'nyt://article/f7311e4b-a9b5-5bba-8f66-0396beece035'\n 'nyt://article/e1a4ef33-6d49-5d31-b311-13fd4143cfc7'\n 'nyt://interactive/d5d460ca-b437-599b-a886-ec5fc49a6fb0'\n 'nyt://interactive/eea7c82a-46d7-5b43-93a3-c5d8dbfebf00'\n 'nyt://article/7c2aed3f-3436-54a2-9e3f-bf3e0a0f6fa3'\n 'nyt://article/edf7e08a-a18e-567b-998e-f79586c2aead'\n 'nyt://article/9ebcc062-cf02-583b-910b-9389c9d89cb7'\n 'nyt://article/b57273df-d868-5f76-bdde-889d59abb84a'\n 'nyt://article/f68ac157-a6de-5e2b-bf5f-c1e2737b0180'\n 'nyt://article/a8b577af-2fca-588e-9977-9ca4dbd4131d'\n 'nyt://article/2cf8cc89-49d1-5508-acf3-385104f7a99b']"
        ],
        [
         "35",
         "San Francisco (Calif)",
         "United States",
         "140",
         "['nyt://article/6e68b087-4cd3-5a4e-8f6a-48212761e56b'\n 'nyt://article/502935ce-ac4d-5dfc-ae67-d49086dbed7d'\n 'nyt://article/34981f29-b3ee-55b3-9f60-df2d7a901a02'\n 'nyt://article/03453427-9f8e-55b9-8225-ebfc7f9f995a'\n 'nyt://article/75b72ea2-30d3-584f-a52f-fb96615454ac'\n 'nyt://article/7569b2dc-128d-5c61-8b16-b87be5d66608'\n 'nyt://article/97089ae8-2e2f-5baf-a53f-c0d4afbab148'\n 'nyt://article/851121f2-34a6-54d9-8308-9f50c4ea1d91'\n 'nyt://article/0687cc1f-2018-5631-90ea-5c0d69337036'\n 'nyt://article/baa06c45-3c3d-55d2-beef-371cf6120189'\n 'nyt://article/3c675bf7-6271-56a2-b089-e8125a312db8'\n 'nyt://article/036ca7d5-4dda-5d1c-99a8-c27d500d4195'\n 'nyt://article/bcb555b1-1587-5168-85bb-2aa4812a36c4'\n 'nyt://interactive/d9fafe6f-0e75-5e7e-af6f-5356e569852c'\n 'nyt://article/472fc9a9-4fc9-50c9-b083-b1ca5aad073a'\n 'nyt://article/9bbb148c-5d92-5c17-8b27-6f19f9da90e8'\n 'nyt://article/2778b555-b4eb-5ed3-8df0-cab7b7d52f9b'\n 'nyt://article/2ca09f41-3c7b-5535-bd42-74bdf30776d9'\n 'nyt://article/56af6903-ef60-5994-b084-d3905864c259'\n 'nyt://article/b6067b27-4551-53c6-81f3-bbb1cef52d0c'\n 'nyt://article/5ea17175-80a9-5600-b98d-b8f1db2f3b01'\n 'nyt://article/ab7574cf-243d-55c2-b9b4-f55fce203f32'\n 'nyt://article/a0604af2-74d1-5c86-8df3-798cc7016e56'\n 'nyt://article/33718870-6cb5-5931-b1e0-531ff2129678'\n 'nyt://article/6a9cb01f-d65c-58c8-a4be-01cd3c803e47'\n 'nyt://article/6d398a64-9424-50a6-b835-5d11af27525e'\n 'nyt://interactive/3e11581a-c667-5bb2-afa7-3f2817ecbcf6'\n 'nyt://article/85917d74-92e4-5fc3-aea8-1b28744e4153'\n 'nyt://article/51633013-4ef8-5a4e-88a2-53d3a54fa9d9'\n 'nyt://article/4aa0057a-c420-554d-844b-1c580f2d513b'\n 'nyt://article/76ba6d8a-f8b7-5292-836a-74460b0fd90c'\n 'nyt://article/0bfdf604-c994-5925-a371-0b3bc8edbe35'\n 'nyt://article/57b6e2e0-cfb4-506c-b943-82a4ac241cae'\n 'nyt://article/2f7f4bd3-7247-57f0-b17e-bc68b518baac'\n 'nyt://article/21c94c0c-c846-5db0-8269-e3e470e559fe'\n 'nyt://article/143f3f43-4568-50e4-80ae-a24410d4e77c'\n 'nyt://article/4d832503-e148-5a30-a5f1-3d7c7de46b2d'\n 'nyt://article/23631cda-26f7-5b02-acf3-5edc6d07e3ff'\n 'nyt://article/6ee60fe0-12e7-525d-93d2-e7b0e730af64'\n 'nyt://interactive/dd4c2923-cec9-578d-8f12-278fd6b75755'\n 'nyt://article/1c09f84f-926e-57d1-b650-d6c905a6f8b6'\n 'nyt://video/784cf579-dcd5-5e99-a59a-67292aa05485'\n 'nyt://article/197cdd0d-12c4-544d-a52a-ddd9f48314a4'\n 'nyt://article/0ba16457-aa12-5ca6-9b3f-3d13375f4084'\n 'nyt://article/fdd450c5-6ec2-5de4-8db8-82b1c4dca55a'\n 'nyt://article/1b8f4317-10f7-5446-8b92-12f888cf5e12'\n 'nyt://article/02a4b3df-ee01-5f52-b3c4-151a522eb176'\n 'nyt://article/8971648d-0fd4-57ca-a69a-9b3baf1569c1'\n 'nyt://interactive/2b65d6b9-cace-58eb-bdf1-cc35d723c9cb'\n 'nyt://article/2c790120-ce88-5e52-b527-4cd774602b70'\n 'nyt://article/8b55cede-3f13-58b1-8f12-07b96b5dde8c'\n 'nyt://article/ecca646e-afd0-544b-8b9c-04f085045bce'\n 'nyt://article/d4c566c5-50d7-542d-855d-a47756febf2c'\n 'nyt://article/55e04858-aa66-538f-94b7-e3a2b67ababe'\n 'nyt://article/0b0d183c-5117-5ae6-a606-287dfb2d8d09'\n 'nyt://article/9c150722-e125-5e02-a5ce-c41d09e2bcf2'\n 'nyt://article/958240a5-161c-5ce2-9c8d-099f5d9616e5'\n 'nyt://article/2e6dce48-6c11-5567-ac8c-a5469b04b7bd'\n 'nyt://article/ea86bdb4-bc19-5a52-a110-15fea1ea03ce'\n 'nyt://article/86a7c2e5-d61e-53dc-946d-a3196a68336f'\n 'nyt://article/586cf840-93ce-5a67-9f07-2c8f862e24e8'\n 'nyt://article/3b38b3f3-7e4b-59f2-a3f0-4cdb6120ccb1'\n 'nyt://article/7c50b193-d6ef-5864-a307-bcd45f18b86c'\n 'nyt://article/09cbcf24-a491-5d72-9b22-c6b42cbe08fb'\n 'nyt://article/e2e48e3a-419f-5eb6-bee8-016146e5b8ba'\n 'nyt://article/c62a6f83-9dd3-583a-9af3-5629e8a2587b'\n 'nyt://article/a5755642-f9dc-5b7b-9696-f8733d507cb0'\n 'nyt://interactive/53c33bfe-3fd9-5296-a06d-60f50bbc982a'\n 'nyt://article/60ed62d9-5d1a-5c59-87ca-7b437d3d9662'\n 'nyt://article/217a641e-c4aa-5e6c-8099-372b3f884547'\n 'nyt://article/b2fb348a-262d-5fb8-a1e5-2ae6180742a4'\n 'nyt://article/8ce1159d-e3d6-5ee8-929d-cc0ec60d66df'\n 'nyt://article/358c75b0-0c59-53e5-b607-b0032fcfcbb2'\n 'nyt://article/ff348588-7874-5210-b0c2-b1538623de8d'\n 'nyt://article/18a50df8-b729-5717-9a6e-81405060238a'\n 'nyt://article/ad3089cf-393e-57e8-8006-a2011493db1e'\n 'nyt://article/2e4c7150-6538-5694-9648-37ee97f0e8df'\n 'nyt://article/8b19f8af-fa48-5e77-afe1-0ce141604815'\n 'nyt://article/ae5f553a-b799-52e5-b6a9-4fdc7f0aaaa7'\n 'nyt://article/b811be0e-8e14-5aae-8e28-5e0ba85f162f'\n 'nyt://article/7fca1fba-2c72-5e75-bc0d-e7c64a52e9d9'\n 'nyt://article/429bde04-e708-5f05-ace7-7a907a02853b'\n 'nyt://video/dfd26198-8d1a-5d0c-8fb3-3527351f7451'\n 'nyt://article/2407f128-4273-51f3-994a-ba604828efab'\n 'nyt://article/e8ea6b6e-f454-511d-b3ea-68da9f275019'\n 'nyt://article/0a9675fb-6ecf-5783-80e9-7bb7d6f44332'\n 'nyt://article/7d7a697c-2cb8-574e-bd8c-0c31d3b05aa9'\n 'nyt://article/7ab50acc-c56e-54ce-8e76-f5b51090b2fd'\n 'nyt://article/b5fc7011-3e01-55da-b916-3bbe0fdbe7a4'\n 'nyt://article/3c384087-9bd6-523b-a88e-a7ce097e9f5d'\n 'nyt://article/d715993c-8972-531b-913e-d513bd79f8e7'\n 'nyt://article/ba41a4dd-bf5c-53c0-8e81-0dbe66a74986'\n 'nyt://article/35bdc61c-04b9-5688-aab7-cec13d013a64'\n 'nyt://article/117a4fb7-ecbc-5853-afab-a8ae4e7f8f62'\n 'nyt://article/1106df48-c6bc-55cc-8fde-613a2d42866c'\n 'nyt://article/9659f3a1-a55c-52ba-9ccf-3867e340f614'\n 'nyt://article/1ad5ce5f-d280-51f3-a0cf-9f6748bd7f80'\n 'nyt://article/44b022c0-a571-5cbc-8032-0dd0ad771329'\n 'nyt://article/e4b41604-a61a-5ac3-9ba8-dc92ab79e3f9'\n 'nyt://article/fd588428-8b1d-550e-873b-c73a05ed9d3d'\n 'nyt://article/318b6ada-9e8c-5c25-aad1-ef361ab114c3'\n 'nyt://article/30a36555-0e63-542d-b740-158adb4d00c3'\n 'nyt://article/08aab5f2-4773-558d-b974-bec402c9c628'\n 'nyt://article/3178ed1a-ebfe-5b95-a440-7715df49a23d'\n 'nyt://article/9112f091-c04d-5caf-b69e-ad7f7a68af32'\n 'nyt://article/5ef11d4c-ce0b-5e87-958f-660eb659eb91'\n 'nyt://article/6e2530ff-25c1-5ed7-90bd-f1c3256f8dd9'\n 'nyt://article/710a0ce0-439f-54a3-8569-acd5e4b6221f'\n 'nyt://article/ed3e649c-af1f-5913-b5d4-609eb247480d'\n 'nyt://article/69ac6269-d557-5775-9ccd-740d68c960f8'\n 'nyt://article/77f7a41f-6910-5f9f-8235-b927d4dce052'\n 'nyt://article/bf85bce9-89fa-5184-a237-8dad95b8f750'\n 'nyt://article/de054857-3638-5e16-92ed-b4f66548f248'\n 'nyt://article/60a5b7c2-e00e-5049-93c2-8d01c6debdf8'\n 'nyt://article/5a9c4de6-ba9c-5696-9ebb-2ed4f8d8f72e'\n 'nyt://article/f5341117-26af-5138-9bd4-76b22407037f'\n 'nyt://article/f1b6d244-106a-5f42-a25b-fc815da825de'\n 'nyt://article/520b9ef8-5525-5dea-a816-62edc408c2d5'\n 'nyt://article/b13e1e4c-a433-56a6-a1aa-b24e18b50c41'\n 'nyt://article/86783a72-f62a-5c5f-a86b-6468c38a55b5'\n 'nyt://article/87e70962-563c-5f0d-ac56-b326986122db'\n 'nyt://article/9a2cbcb9-41e4-5bfc-b5f2-3638d0ee7ae1'\n 'nyt://article/58f4048a-c245-5ad4-a60d-848c03b01d84'\n 'nyt://article/35649ce2-ad91-57b2-8952-82dc1959d91c'\n 'nyt://article/24f25503-9713-5117-834e-c9d361d55078'\n 'nyt://article/8f52f191-9f67-5a07-96c3-361b734b92f4'\n 'nyt://article/3f3f4564-5193-5708-8d6b-67db7814007a'\n 'nyt://article/e29d63c7-90cf-5e8f-9d20-ab6239036fc3'\n 'nyt://article/a01642e7-0fa5-576b-b480-d9a7319bd3a7'\n 'nyt://video/65448877-f74e-5b6e-a9e8-4c4ad07c159a'\n 'nyt://article/858db318-9cc3-5e6a-aefc-9839b1939448'\n 'nyt://article/b5d5be2d-8586-595c-9392-912dfd0686ad'\n 'nyt://article/4043b36e-ce0b-533c-9694-a4b1bb3ca2f8'\n 'nyt://article/43f44ad1-4752-588f-b501-49429d38a602'\n 'nyt://article/fe2f695f-59d2-5465-bd06-029de53fb18c'\n 'nyt://article/0c857bf1-8d14-5797-a732-005062e8df58'\n 'nyt://article/54b602eb-0c06-531b-b121-2ea81308e03d'\n 'nyt://article/f942384d-19f1-5c96-ac74-fd65e4d8b60d'\n 'nyt://article/11613477-84de-5480-8b0d-51a05757c40d'\n 'nyt://article/0bfff4a4-6bad-57bb-bb32-1c110281186a']"
        ],
        [
         "36",
         "Seattle (Wash)",
         "United States",
         "59",
         "['nyt://article/6e68b087-4cd3-5a4e-8f6a-48212761e56b'\n 'nyt://article/caee52ec-d459-5406-af0f-5fa93c99e9da'\n 'nyt://article/ba748524-b5bb-5e9b-a36b-473c5760a843'\n 'nyt://article/59492fa6-8722-5159-a621-85ae9abf7d39'\n 'nyt://article/44da41af-76d9-532e-b203-742109041ebd'\n 'nyt://article/ff11ae46-5473-54ed-ba17-5d2f334fce5d'\n 'nyt://article/abb8a420-83b6-5116-ac49-a717d3f463b9'\n 'nyt://article/6a65637d-23b6-5690-aef8-32a4ee3c4389'\n 'nyt://article/4c1c09e5-964e-5e8c-b9d0-3293bb7adcb1'\n 'nyt://article/d99a1b97-3a99-5717-bbf4-dfdffc7dfd84'\n 'nyt://article/63074ab1-2c40-5955-8588-08804ebf9761'\n 'nyt://article/6b69dbf8-4a9e-5f3a-af64-a3957781fdee'\n 'nyt://article/8507f43e-08dd-52a7-b34f-3b3957494375'\n 'nyt://article/66740eed-d84a-5b4d-bb23-5c4b144400dd'\n 'nyt://article/5984a8f0-c648-59c8-93b8-aed2d2bb0e13'\n 'nyt://article/ffe4b1e9-3830-5193-961f-88685d2cf645'\n 'nyt://article/f62447e7-d3a7-5618-8dad-fa9d7104ae89'\n 'nyt://article/5ff10bb6-df1e-5635-b29f-837b5d6744d6'\n 'nyt://article/f33a7e14-9ecf-5f8e-8a9b-63309dea8ac9'\n 'nyt://article/20c92ac0-3a02-53c0-a60d-5125ebccfcfc'\n 'nyt://article/119cf9cb-0025-50e6-8307-c85aa3576930'\n 'nyt://article/6c60731d-ec57-5d95-b258-73ff152df19e'\n 'nyt://article/8a790596-1e51-52d1-bbd8-a23a6bdbbe38'\n 'nyt://video/b336c828-a9cf-5e0a-b64b-67618742b693'\n 'nyt://article/95e7e9a6-70f9-5de9-b6d8-8c8cf0331212'\n 'nyt://article/de2f97ca-42fc-5ee0-93a4-4554546d5a2f'\n 'nyt://article/fb002860-45ea-5ad1-bd56-45a97f417983'\n 'nyt://article/bccca589-a572-5f65-8d84-d95351e75dbc'\n 'nyt://article/49deee5d-7feb-55f7-948a-765ce767b752'\n 'nyt://article/0b5a90e6-e5ff-526e-882e-94bd8f4c98bb'\n 'nyt://article/39b4d5f9-a061-52e1-b840-2d3b0e6af358'\n 'nyt://article/f1aecdab-85d5-5bd0-9beb-8048b695dc59'\n 'nyt://article/97a97ea2-40ee-523d-914e-282296acd39c'\n 'nyt://article/486b800a-6fba-59c9-b641-078bfc8bd715'\n 'nyt://article/99b6f831-af29-58f0-be53-77c06ae252b7'\n 'nyt://article/89e476eb-43b8-5ae8-8db1-537c9a836570'\n 'nyt://article/a40871a0-1a42-5f5a-8ea6-bf3781aaa7f3'\n 'nyt://article/8b31dbc0-9716-5592-90c4-75fb595df4bd'\n 'nyt://article/1436e8f1-1856-5788-b798-8405a3a1b6ef'\n 'nyt://article/3ed8e53f-25eb-567e-a08f-60e4230d8ef7'\n 'nyt://article/8d790671-6cac-54c9-b70f-a72a926e4594'\n 'nyt://article/e6b9c2f0-d0b0-5280-bce6-94dc8e60d4a3'\n 'nyt://article/c0a0f857-ecb6-52d0-962d-b9803e401ca2'\n 'nyt://article/d01916be-4afc-58e6-b685-4d8ac1205bbd'\n 'nyt://article/56592b67-6422-511d-89c2-2621e0015ac0'\n 'nyt://article/c9469fdb-aad8-52b0-963c-fcb3298faea3'\n 'nyt://article/6ff9b3a7-be6f-580c-956c-fd37e2337feb'\n 'nyt://article/15db545f-7552-58ce-bb96-d3d1f4bbeddc'\n 'nyt://article/086a0a70-c217-590f-a41e-4762ff1dee8f'\n 'nyt://article/fc2692c7-8301-529d-a22b-a92844929a21'\n 'nyt://article/112dc10f-b0a9-5021-b2f5-4907cf0cd15a'\n 'nyt://article/5dd8d0c4-deca-59d3-a5e5-0b8ad861ac41'\n 'nyt://article/ec17293e-658f-5ada-90a1-7de5a148cee0'\n 'nyt://article/e1c6bb58-da41-552c-8234-0f82554b8a03'\n 'nyt://article/b020edc3-7b9e-5eb1-aa9f-459cb3a45349'\n 'nyt://article/d96bec31-0666-53fa-b27a-19f40e738416'\n 'nyt://article/9b103680-2d2b-5d67-9981-2c5669871f1f'\n 'nyt://interactive/d42ff64a-60e5-53bc-b356-dd161bca7ab9'\n 'nyt://article/148cbc8f-0630-529f-a10c-60acbc22884c']"
        ],
        [
         "37",
         "San Diego (Calif)",
         "United States",
         "26",
         "['nyt://article/6e68b087-4cd3-5a4e-8f6a-48212761e56b'\n 'nyt://article/547d2ae4-4290-566c-bc7e-973c343aa89e'\n 'nyt://article/031f76de-1802-52fe-9d3f-d54b512287fd'\n 'nyt://article/c0663edb-5636-515d-ac21-233165ccb6b5'\n 'nyt://article/fbf37ede-58c7-58f0-92c6-db570acd5018'\n 'nyt://article/bdb8b516-8bad-546e-a1fb-69e82696e4a3'\n 'nyt://article/facbd179-75dd-569e-bd14-a935dc076adb'\n 'nyt://article/60598b3b-946a-5b6d-b1b3-6aeab4162e18'\n 'nyt://interactive/7fd1d160-d5bb-502b-8850-325ce932bdf8'\n 'nyt://article/8fa396fe-db12-5e85-aa5b-a1b26d640cd6'\n 'nyt://article/5f204ab2-d0fe-5e99-a2bc-f40b890209ad'\n 'nyt://article/4e1fa577-9816-597c-b90a-e84cc542222b'\n 'nyt://article/751d0bea-4c1f-5c7d-b5af-06df1ed37de8'\n 'nyt://article/831bb955-551f-5954-8f88-92e445d1aac4'\n 'nyt://article/01efa51f-87f2-5b0e-8860-5c84fc9c5696'\n 'nyt://article/44eb9c16-190d-50b5-a302-c3cf70644197'\n 'nyt://article/a27600da-45e0-5ebb-9df6-4b4079ae3b74'\n 'nyt://article/7128f6f5-d51f-5d3c-9130-b42f610f6327'\n 'nyt://article/473c46e2-e0ec-51fa-8e87-39775182fb2d'\n 'nyt://article/c6542c87-4ea6-5fd9-8878-152fa19fdb46'\n 'nyt://article/48e58171-cfbb-5726-a6db-4f765acd5859'\n 'nyt://article/5dd8d0c4-deca-59d3-a5e5-0b8ad861ac41'\n 'nyt://article/cf457cf5-23be-5c2c-99ee-a89125bff9ab'\n 'nyt://video/dbdc6f63-6007-52fc-bc98-8e406860ef40'\n 'nyt://article/76199f7b-590e-530f-bbe0-1e28b79d5e3b'\n 'nyt://article/989550eb-2e8f-5f00-90ad-b4d8518d890a']"
        ],
        [
         "38",
         "San Jose (Calif)",
         "United States",
         "3",
         "['nyt://article/6e68b087-4cd3-5a4e-8f6a-48212761e56b'\n 'nyt://article/5d0e2579-f20e-5f2c-a308-ef418d56725c'\n 'nyt://article/72f3ea5c-7a3e-59c3-92ac-96cbc0538eb0']"
        ],
        [
         "39",
         "Kamchatka Peninsula (Russia)",
         "Russia",
         "2",
         "['nyt://article/78ca0b5b-2ae5-5d1b-8106-621556b1b822'\n 'nyt://article/9db13918-5207-5b1f-b119-62951b8cfec4']"
        ],
        [
         "40",
         "East Germany",
         "Germany",
         "12",
         "['nyt://article/977675ac-c884-5704-a14c-ec7a15ff4a79'\n 'nyt://article/5962fc9a-1e44-55d7-a422-7d1dd04eee05'\n 'nyt://article/84a8f437-c092-5f69-b31e-9db24ec48a0c'\n 'nyt://article/ef7ff0bd-cbb9-546c-a8a7-5bfae274ee95'\n 'nyt://article/941e7de8-625e-5439-b971-f8554cb16d84'\n 'nyt://article/336b30f6-3dbe-580c-9540-9a35a94358a2'\n 'nyt://article/ecf076dd-96ab-538a-943e-33c172f23fd7'\n 'nyt://article/33906247-b1e4-5293-a066-173ecbc8daf2'\n 'nyt://article/4c1e71b0-bdb0-50b6-a549-568556bc923b'\n 'nyt://article/9d3df5de-f38a-5b7f-b59e-cf91fa6e9be4'\n 'nyt://article/fbd08042-7e8d-5935-8568-9bc0f0c00358'\n 'nyt://article/9dd55356-e436-5a27-91ab-aeb1e06c19a9']"
        ],
        [
         "41",
         "Europe",
         "Europe",
         "416",
         "['nyt://article/977675ac-c884-5704-a14c-ec7a15ff4a79'\n 'nyt://article/42d1992b-72ad-52db-a8a8-e22d9dc82ff8'\n 'nyt://article/694c353d-bf70-53a5-8749-f75c11a81422'\n 'nyt://article/1b043223-e170-5e32-8173-a6c5cb6fa57c'\n 'nyt://article/65e39aea-dfc0-55f8-95ab-00f57d11108e'\n 'nyt://article/f3ebfbef-a2ff-57f0-9ae6-ccaa94eaf026'\n 'nyt://article/de2128cc-2511-5caa-b16d-43783e270477'\n 'nyt://article/af90a09b-b7b2-5f04-8dd7-23de58675961'\n 'nyt://article/cf200f79-2c1e-5411-93fd-809a736ea4b4'\n 'nyt://article/35a37812-754c-54c8-bcb2-0a5993e2d95e'\n 'nyt://article/6b010600-c1e7-56cd-b547-0170412489e3'\n 'nyt://article/45586ed9-f953-5bd5-a9ee-c2b3e19ea2c3'\n 'nyt://article/0c8fc527-ccf6-5a29-bc62-14f366708664'\n 'nyt://article/e552f5fb-f35a-59f1-81ec-c1f04ed19b82'\n 'nyt://article/00f13777-1af7-5ac2-a4c3-4aed848e95ce'\n 'nyt://article/66554e8d-9278-5135-85e9-0bb9bc3cdca4'\n 'nyt://article/b8e27ab6-c83a-5c19-baaa-56792468f280'\n 'nyt://article/70b32dc6-cb85-5467-b336-850f6db51480'\n 'nyt://article/d839b076-45b7-5bed-9a48-43f4b9c45210'\n 'nyt://article/d31fc79a-6ab6-581e-97b4-517c8a8f810d'\n 'nyt://article/1ffa1e98-52f8-520a-a884-3196746f4478'\n 'nyt://article/81d1e2ff-090c-5ff3-8763-8c3d92deeccf'\n 'nyt://article/662938af-a0f6-5701-99b7-dee0a66bcbb7'\n 'nyt://article/d9db7038-30bd-5e1c-a350-c1698f708596'\n 'nyt://article/49593cff-7bcc-5859-9d21-0522ce8a0837'\n 'nyt://article/85ad04a4-5c1b-5022-8864-cf16dfea0780'\n 'nyt://article/7ce7786e-7574-598a-896e-6cee63c526f0'\n 'nyt://article/54dea93a-deec-59a8-a740-2f9a9287ced1'\n 'nyt://article/43be081f-f241-58fd-97f0-b579e996274c'\n 'nyt://article/cd4a6f7a-abea-5372-8d5f-926cc0e1dc7c'\n 'nyt://article/8e46840b-740d-5b34-9fec-8e470b1aea1a'\n 'nyt://article/55d4e9c5-508d-5ae2-b256-44af9e7e098e'\n 'nyt://article/45b27257-ca71-5a7b-b6b6-5c4148496dae'\n 'nyt://article/867b0d2a-c30b-5e1c-87d7-0fe96df73532'\n 'nyt://article/97cde711-19cc-52b4-a02b-d4ad2c05a8ad'\n 'nyt://article/55175b3d-5704-5b1e-bca3-20c456bcdacd'\n 'nyt://article/b7015957-8aeb-5295-97b7-8ac19af3d742'\n 'nyt://article/913918f9-37a0-504e-871c-34be3be5dc7d'\n 'nyt://article/f2a21e5e-7c8e-57fa-9189-325316c16260'\n 'nyt://article/d73c549d-1f51-580c-8e77-a98b2fa5839a'\n 'nyt://article/bd56e1f4-2434-5697-a5f4-d53c67952ba3'\n 'nyt://article/12bbd9ff-9a5d-5ae2-8ae5-cb7f4753b536'\n 'nyt://article/4cd9a420-ddf9-5041-a52e-c8e4d9678bff'\n 'nyt://article/4074d381-3a5e-55d6-bfbd-8310e409736b'\n 'nyt://article/384140f8-cb83-5d4f-9ac6-7fce0d24a96a'\n 'nyt://interactive/fd64e891-ce01-51b1-8c03-cde62adbc90a'\n 'nyt://article/b1c21117-076f-504f-9c91-ac9e058f5dca'\n 'nyt://article/60af2779-bfaf-5556-8d5b-385ef2ed7a8a'\n 'nyt://article/6d0de3bf-52b9-5e3b-8de8-bab8f7b5ed83'\n 'nyt://article/e306323c-29cb-5b7a-b9bf-a44dc0231216'\n 'nyt://article/7fc9f022-dd05-563c-9568-5b75d075611e'\n 'nyt://article/1be7e761-70fa-5788-b9e1-a48be42af1d9'\n 'nyt://article/b6a4d362-fd4b-550e-a10c-3fdaff9393eb'\n 'nyt://article/9635c8fe-7e61-5086-aac6-a263e4d58129'\n 'nyt://article/cd27e1c3-188e-5c54-9f76-7290d3cc08c2'\n 'nyt://article/1ac4714b-2546-56f3-b106-4046023c9b55'\n 'nyt://article/6a9b613b-3619-5b68-a3e9-1852f29d773c'\n 'nyt://article/f2d8fdc5-e573-553b-90d7-89dac4afd5ee'\n 'nyt://article/7e0add82-ce60-57ba-bf8d-58de491112ef'\n 'nyt://article/480ee12a-86d9-560c-b6e2-1ce08a332be9'\n 'nyt://article/4daca792-c727-5b44-b730-3ff7f9a1f931'\n 'nyt://article/1ad42471-f803-5b9a-a19e-a429e4c4e91d'\n 'nyt://article/c5f7f864-0890-5bd5-8868-709d726a206f'\n 'nyt://article/ae36d8d7-def6-5af6-917f-fbc204aa730e'\n 'nyt://article/f137456d-89a2-56f2-a091-2baf9d70df5f'\n 'nyt://article/88efe664-9149-5f8a-a1a2-d6162c916dae'\n 'nyt://article/c747a563-86b6-5583-8528-5d5d82c573c5'\n 'nyt://article/18e8b084-b345-5eb3-bbf2-935c5f879033'\n 'nyt://article/34f2a817-e343-5be0-a91c-56cc9123cde6'\n 'nyt://article/45f23d57-05f9-5b41-823c-fccb8aace0bd'\n 'nyt://article/c1b79296-ebe3-5203-a63d-b5c1ad366a5b'\n 'nyt://article/5b2ae543-8135-5f2f-8a46-caf1be5c5729'\n 'nyt://article/9377510f-2c24-530b-8a34-136024d9c1af'\n 'nyt://article/cb41d00c-ac25-5720-a438-7678a91dce83'\n 'nyt://article/670a186b-c06b-58f0-a238-c411d99059f6'\n 'nyt://article/8b5200b0-34a4-5138-8853-eb4a0306feb3'\n 'nyt://article/9e17b5b1-400b-53a6-a6a9-f47c52225a9d'\n 'nyt://article/c9795436-ab8b-527f-ab17-6181c26b44cf'\n 'nyt://article/67937f01-4df3-5d51-b655-a39c3e62c725'\n 'nyt://article/2f502b81-e9f8-54e1-b1b9-814c7b61cf70'\n 'nyt://article/66ac9f18-b31f-521f-a4af-958ac5d04734'\n 'nyt://article/5710b19b-fc99-5c94-9b8a-99a9dd21688a'\n 'nyt://article/8689c952-a826-53f9-8078-8e9980a0e44d'\n 'nyt://article/91efea17-a980-5a95-912f-540dd326c0b0'\n 'nyt://article/ed858cf9-f706-5f56-9df8-06de700611b7'\n 'nyt://article/209a3c09-3316-5712-b597-4dfdbd556f87'\n 'nyt://article/90640272-f5b8-5021-bc55-249d649867cf'\n 'nyt://article/95f44a74-1b0d-5e54-b555-c00904517609'\n 'nyt://article/9f04192b-db22-59a8-b73b-c74922328e9b'\n 'nyt://article/62c3fbb5-c09d-5697-92ed-ae4f97044caf'\n 'nyt://article/078dd29a-6089-5dc9-b00b-7239bb30017e'\n 'nyt://article/7a300139-07dc-5305-a224-9cf44dec3dc8'\n 'nyt://article/1696b446-a96e-5028-83f3-32e302343355'\n 'nyt://article/f83961ce-70dc-5e08-87a1-7673a1d30a12'\n 'nyt://article/b12dcea0-fb2d-562a-9009-6da5ed4c1d7e'\n 'nyt://article/eac1f119-03f2-5f59-b64a-b7dcadf86b55'\n 'nyt://article/156fcc70-5977-58e9-b473-1b29a3b6b5f4'\n 'nyt://article/25b52c57-7954-516d-8223-aa92964350e9'\n 'nyt://article/2752abf3-25b3-5593-b6fa-2a9683869a06'\n 'nyt://article/97b1791b-aaad-5eca-8d23-811b9c0b8eac'\n 'nyt://article/8cce7a92-188b-59f2-abd2-8a52d7b91768'\n 'nyt://article/57250871-6fd0-5f8e-b898-5a81079bc3ba'\n 'nyt://article/02c1514d-8372-599a-bbf5-453e069805c7'\n 'nyt://article/dbe2ca06-8157-507f-a4d8-79de0b660171'\n 'nyt://article/3b126f61-022c-5d10-b0cf-465b5c4d3f52'\n 'nyt://article/16a3b2e0-9bd7-57e7-8732-9b9a9180bb3e'\n 'nyt://interactive/63331587-3ed3-55c1-8475-7612b1f63f8a'\n 'nyt://article/70a2d5c7-eb7c-5a47-841a-cf93e986f761'\n 'nyt://article/a273e9b9-09e0-59d6-8898-4fef241ac0fa'\n 'nyt://article/f5b8fb08-6e5b-56ab-9023-c3f1dd85ec01'\n 'nyt://article/131fb317-cb9c-590f-8130-8fbe5e15d7d0'\n 'nyt://video/654b1374-c3fa-5252-a0a0-7d6326a8bb68'\n 'nyt://article/0420d66f-9b42-5d76-be70-90442dd5249c'\n 'nyt://article/9cf68236-28ef-57ac-92a0-56b133e47996'\n 'nyt://article/f08b8537-eb15-5f58-afbc-3c66e9e6e7f6'\n 'nyt://article/e8dd346d-fb45-5698-afc2-8d1aca18cab5'\n 'nyt://article/3c5ac87b-3f44-5b84-ab8f-a4a4a1e16208'\n 'nyt://article/7c0386fd-ff0b-5d92-81e7-32eb858714fb'\n 'nyt://article/f62234e4-455d-57a1-a752-b9f9f9bf50d6'\n 'nyt://article/5585a603-3474-564c-a69f-7408cd424af6'\n 'nyt://article/8e7b4639-ce62-5f6d-adda-dc7cf2d81e1d'\n 'nyt://article/d8d88faa-7a5a-5959-8940-f0105fd85551'\n 'nyt://article/032e1d34-0ffe-565a-8b3c-8398f2a00792'\n 'nyt://article/25033e94-2918-5df3-a1e2-d1578de790d4'\n 'nyt://article/ede79045-ebef-5e4e-92ea-cb954fb3195d'\n 'nyt://article/9c639fca-5507-5bde-af99-0d8ac7044e12'\n 'nyt://article/f1c928e5-191e-527e-b786-bdc0bb097d55'\n 'nyt://article/645e483e-b61c-5901-98de-a41e47eed485'\n 'nyt://article/f90fdaad-d40a-5066-bce2-be6914008a86'\n 'nyt://article/2c4ccbd5-fe36-5df2-82a4-7a664a6d163a'\n 'nyt://article/2071e8c2-eee7-5e0a-a46b-51f9e9771f51'\n 'nyt://article/fe7264cf-8050-5ecc-8703-15667fba9bef'\n 'nyt://article/c36a42fd-1aeb-560f-87e5-54ff32f91717'\n 'nyt://article/1e9ad389-0b27-5e2c-9e8c-c6ca7b3e9a27'\n 'nyt://article/8bcbbef4-2c66-5142-b107-40042def11e0'\n 'nyt://article/3905566b-1f9f-5ea4-9a64-c3af0b912683'\n 'nyt://article/2ca0e645-ada3-5c6a-a9b2-3811c9cd1410'\n 'nyt://article/098df3fa-2e4e-5dd3-ab4a-a1672b010f94'\n 'nyt://article/2dbdc72f-3727-5c01-85be-424b1d4ee1b6'\n 'nyt://article/2dc0ff90-6e20-548f-a36e-a585cafe0aad'\n 'nyt://article/cc7591a8-31e5-5199-becc-0ddbc08185db'\n 'nyt://article/ff98006a-b925-5732-8fc5-910b67e36f71'\n 'nyt://article/5eff5519-d30c-57db-a177-f905e3254336'\n 'nyt://article/f0ebda46-dfd1-5432-858a-31bc047b871c'\n 'nyt://article/d628ac24-8c04-5861-afff-3f2bb873742b'\n 'nyt://article/ba4c3e4e-3c33-51fe-ae5c-6fc2dc8e6ab1'\n 'nyt://article/1bdc6852-59cb-56d1-92be-14be085bb3ab'\n 'nyt://article/df377885-1c06-5efb-8464-fc1a6e30816d'\n 'nyt://article/78606aba-5b46-5569-8933-0fe7fd0d80a5'\n 'nyt://article/b7cf9b7b-e490-552a-8dae-6d1b534dc187'\n 'nyt://article/57fa3e5e-24e2-5d80-a39b-9e6583986bae'\n 'nyt://article/662b4f50-21a8-550e-953d-e54bb9a0551a'\n 'nyt://article/2a8be0f5-1d43-5667-897c-18024a75048b'\n 'nyt://article/93037fec-6977-56fa-a64c-a484c5f7a747'\n 'nyt://article/5960508c-33e0-58d7-9f62-35f37eeab76f'\n 'nyt://article/44b4aa1b-65e9-50a3-a3b9-37fa3268e7fa'\n 'nyt://interactive/13cc2119-9626-5520-8ca8-a5027ee94d0b'\n 'nyt://article/9b34d22d-850d-5a0e-802f-d6b578c7da1e'\n 'nyt://article/fa408956-7ff3-58dd-9ccd-e9a11287342d'\n 'nyt://article/6838f4dd-1815-52b9-8c32-0e30f44d5ccd'\n 'nyt://article/81cc75d5-6190-5c1d-bd9f-5f4f71e0a499'\n 'nyt://article/38aed61b-4730-500b-af8e-22add71eda11'\n 'nyt://article/34fea658-a724-5926-b5da-1f6c75f11eb3'\n 'nyt://article/16464684-4c6b-5a60-9440-dac0874f2285'\n 'nyt://article/50c80733-d2f8-5fad-b15d-f26434083503'\n 'nyt://article/5b04e6f9-286a-5c98-aba3-81876e0ef306'\n 'nyt://article/83ca1faf-7b43-5c21-9ed4-d306779c9053'\n 'nyt://article/037bed0a-43d8-561e-a9f9-3f0afb29dada'\n 'nyt://article/2797d094-a81a-5934-962c-4446866c06fb'\n 'nyt://article/8b76cd17-9f97-51cf-af23-b79f30ba1e2b'\n 'nyt://article/dd8292c5-e9ec-5cbb-9e95-7a0eeafbeba0'\n 'nyt://article/4b7b0ea7-5c19-5d7b-aab4-0c0f832debca'\n 'nyt://article/a36094e9-d246-56e8-b73d-5910453ea2f1'\n 'nyt://article/774ef481-334e-5616-8a70-8725c45490ba'\n 'nyt://article/5413bf06-b491-5e06-a4e1-b5f048e3b81c'\n 'nyt://interactive/6addaf57-b7fa-5d0f-af24-ec0c3e131acd'\n 'nyt://article/21d54833-f7fa-5fe8-a279-8cfaab853535'\n 'nyt://article/72a409a1-eddb-5f67-b0ed-3a0ae7e0bb2c'\n 'nyt://article/b6ab7ce0-c2f1-55be-96b0-26b8102bfd00'\n 'nyt://article/9d04e9e4-3e21-5b95-a962-14372593fc20'\n 'nyt://article/60e21b46-8dac-5c07-81cb-93379398b165'\n 'nyt://article/0b29ef25-d066-5373-991a-dc521aa60c7b'\n 'nyt://article/c9fe4d30-1e2e-5a27-8073-6a2067dd392d'\n 'nyt://article/179e8680-4a2b-52be-b7bb-d470f7530207'\n 'nyt://article/8966a372-4a90-543a-a817-f3ec35e46e17'\n 'nyt://article/18004036-aa18-540a-ad4a-763e97857908'\n 'nyt://article/d524e9c8-9da6-5ba9-bb03-de33bd62aca7'\n 'nyt://article/6f9316ee-39c8-5ae5-bbc2-1541928e3d04'\n 'nyt://article/3bfdfc8b-9e2b-5da3-a75d-bc5f33e10246'\n 'nyt://article/9bb96a0f-e59f-5a35-8f32-d5e3f0abc90a'\n 'nyt://article/8fa396fe-db12-5e85-aa5b-a1b26d640cd6'\n 'nyt://article/e2d4109b-47e9-56ac-89cd-3dfdc25062c8'\n 'nyt://article/d321fd1e-63d8-5d86-aa0c-cf4b3263266d'\n 'nyt://interactive/a5333085-0eac-5c0c-b660-5d6570916ba6'\n 'nyt://article/a17b87cc-e070-5dba-baf9-30d787a1a3c6'\n 'nyt://article/ba419190-56ab-5ece-bd07-d18e6d8b6217'\n 'nyt://article/278615cf-39bc-5967-965d-9db5c5ea3315'\n 'nyt://article/a07d25af-8a3c-5f41-a307-2d5f27b619a8'\n 'nyt://article/c7e16118-94fc-55a9-90f6-91271aa69c8e'\n 'nyt://article/c321b2b2-b1d3-5c1f-9f1f-f79ab85c499b'\n 'nyt://article/db9bd694-eeef-5b7c-90d2-339096f5e59d'\n 'nyt://article/7f87ecae-b2e1-543b-b984-18fd9c6d6048'\n 'nyt://article/51bfbabd-96a2-5b97-91dd-0bcceb046e7c'\n 'nyt://article/63f3dacc-ea58-59b5-b671-daecb1b68d48'\n 'nyt://article/60e286bf-90a3-5999-abd8-0d47db8080a3'\n 'nyt://article/47b987ad-b236-5750-bfd4-1fa2878c2c64'\n 'nyt://article/4848f685-f449-5e87-9a05-d9e7bf461b43'\n 'nyt://article/aba101ee-b370-5aa5-bc83-d9e347daa2de'\n 'nyt://article/9234ce6c-b5de-5cd4-b818-9b1e97750e8c'\n 'nyt://article/bd37d50d-9864-5a69-9877-0d3c6ab02c55'\n 'nyt://article/5f3da01e-323c-5b51-a9b4-1e366ca4387d'\n 'nyt://article/e98ebc54-6f88-5555-adbc-10007f4e01ff'\n 'nyt://article/0b7b0696-f8f8-5d9c-8086-55a042199daf'\n 'nyt://article/40a288ab-6df9-550a-97fb-f33cd9ab355d'\n 'nyt://article/7ac2e9ce-c99f-5e65-be74-b121e82c8fb5'\n 'nyt://article/b1179855-fe4a-503b-9086-32a9d44ba791'\n 'nyt://article/b997d269-a9a7-533a-9323-f84fbee38f18'\n 'nyt://article/ebfa54ca-1e07-535f-927d-6c92b70173b3'\n 'nyt://article/e005ba7d-31d3-59b4-ab81-b7bdc0160763'\n 'nyt://article/942636da-791f-577f-9f12-75c258a4e7e9'\n 'nyt://article/075b309b-5283-5555-b4a1-0af0aaea6401'\n 'nyt://article/f53be66b-a498-5e35-b40f-8f0f572ed3ae'\n 'nyt://article/eb08d3e1-14f7-5545-bf3c-ae91b808b3fb'\n 'nyt://article/2bbbdedf-4828-5c19-ad6f-c9b83c8aa1f9'\n 'nyt://interactive/771b0e23-b836-5ecd-842f-9db7d3cd1ca1'\n 'nyt://article/9980296c-2d61-5a1d-b02b-5b12c7c55515'\n 'nyt://article/715b0057-4616-5007-874e-35061f2e921e'\n 'nyt://article/93691600-b621-5e63-b392-ce9b540fcf09'\n 'nyt://article/7243330a-10e2-58fb-a0e9-67a81fc61993'\n 'nyt://article/87e4d8cf-83fe-5c19-a7cd-383cb338660e'\n 'nyt://article/39cba373-495f-5e29-9c23-28d9803fcfcc'\n 'nyt://article/4d1f2450-22d0-57a9-b768-b278029d23ea'\n 'nyt://article/4f62b94d-10c9-5d0d-b10b-6a5fbf84c089'\n 'nyt://article/a74f789d-8046-58b7-8ac6-4e652ab4b473'\n 'nyt://article/cd34eadc-69ad-5c6d-9b2f-b9b0a7c4d5d6'\n 'nyt://article/cd6bae6c-b169-5ced-b48e-84611f5120ef'\n 'nyt://article/9e76b737-6523-53a1-bdd3-034d2feb3310'\n 'nyt://article/43035890-b30e-5819-841d-e001dc71f100'\n 'nyt://article/1852523d-53fc-5dfd-812a-9587211953b2'\n 'nyt://article/f814e44d-c0ea-5658-b338-9952f1f123a1'\n 'nyt://article/b4c28ab1-0a6e-5211-b8dd-c3efc9486222'\n 'nyt://article/135b6598-af3f-5582-8f5c-9cd3407cbdd1'\n 'nyt://article/979f2e06-e436-5e61-b462-522b72c23c79'\n 'nyt://article/e091f851-906c-58e8-9ffa-548b860826dc'\n 'nyt://article/7ae75e87-821b-51d5-b437-35e3c0161586'\n 'nyt://article/2612bfaa-4674-5215-a477-848151a7d413'\n 'nyt://interactive/3aec9766-d9de-5fc8-ad39-a31ea19919af'\n 'nyt://article/c68a2eb4-53f5-5e41-b852-26209efdcf3b'\n 'nyt://article/8bd31c4c-d8d1-5378-a7a7-3443576e1824'\n 'nyt://article/72faeed8-d5a2-5fef-81de-4578e4ae17a6'\n 'nyt://interactive/3676f47e-a6c4-501b-8b20-008372021778'\n 'nyt://article/4de36612-b9f3-57c8-8432-f7a2a9142d0a'\n 'nyt://article/42129047-50ad-5e8e-9c04-2cfd7823a693'\n 'nyt://article/ffb9c4af-44c5-5ede-8cf5-c0193ad81907'\n 'nyt://article/e3a394a3-b1f4-50c3-9679-193f25edd948'\n 'nyt://article/10b68136-7d20-5392-bac8-0a29cbb85c8d'\n 'nyt://article/ff2e6d4c-71b4-5818-bf21-692f9b0fb4c4'\n 'nyt://article/f7a9a0a2-30ef-56aa-8b67-55a3089a2ae2'\n 'nyt://article/defc995c-d9da-5c80-9875-1aae514e296c'\n 'nyt://article/887797fd-6ab3-5164-9755-b4b830250201'\n 'nyt://article/8bfea289-c753-55dc-9e93-dc77455bee44'\n 'nyt://article/a006f43b-a8cf-53d6-a1dd-3f2fbea7d76d'\n 'nyt://article/a753dede-f5ab-5aed-b8be-bb6c2f016665'\n 'nyt://article/78c42333-8802-5b35-a43c-6a58e27a3178'\n 'nyt://article/140e69b5-14bb-5b77-a494-4424cc7f8463'\n 'nyt://article/bde2c39e-c292-5e5f-9dc4-87dec6a3d7c1'\n 'nyt://article/937d629e-5c21-5863-9358-9b93767b194d'\n 'nyt://article/22edf542-d819-5470-874b-7bd9e3ebff83'\n 'nyt://article/55386524-12d2-558a-89c2-ed2f8d3d52da'\n 'nyt://article/be89f83f-5470-5b58-b752-438b48909d5f'\n 'nyt://article/be0d4c85-b675-58d5-8341-382f7e1b13f1'\n 'nyt://article/87b0a886-75f2-5618-852d-527d399b5123'\n 'nyt://article/fc880957-14d7-56cf-99c9-24ba2d5e3af0'\n 'nyt://article/8a13c791-1275-51fd-87b5-7f3127a52d99'\n 'nyt://article/d7b3eb21-56e6-5e0b-8040-549a68be0f7a'\n 'nyt://article/2b997912-aa85-5027-b47d-75a03dff5e20'\n 'nyt://article/891ad9d7-3c9e-5847-934f-0c0c68c09bd2'\n 'nyt://article/cb868081-c46f-579a-b258-c9e2bb5ce07d'\n 'nyt://article/396f1155-e994-5a99-ab65-ee5cd32f1a52'\n 'nyt://article/88083362-0591-5707-8735-2ffa3a7c39e0'\n 'nyt://article/ed8985a0-5b38-5133-9524-3294d0080c5e'\n 'nyt://interactive/f0b2fac1-89f6-55cc-8799-ae29b0d1be01'\n 'nyt://article/b4aecf32-925f-571b-896a-f19904af186f'\n 'nyt://article/e406c3cc-849e-5f03-a1ad-1cba4d5ba995'\n 'nyt://article/f03a360e-0f2c-5e03-987c-a84f8e5480f4'\n 'nyt://article/b84aa9c9-141a-50ad-8dfe-4b757debea72'\n 'nyt://interactive/5c6a751b-33d2-579f-9616-76962222892c'\n 'nyt://article/04fa0e90-0467-5baf-9872-52b735f02cb1'\n 'nyt://article/3165019a-b0d0-5655-a2d6-49e3badc9296'\n 'nyt://article/86c38138-69ac-52e3-b5bd-49c0fb33a79f'\n 'nyt://article/5aca4ebd-d129-5694-b74d-1fecd23191ac'\n 'nyt://article/3d27132f-ccb7-54d9-afda-f1f5cc665e6b'\n 'nyt://article/aecbcefc-2e93-54a4-8b76-dd6122d4345f'\n 'nyt://article/745f06ed-cbe7-5c7a-83a9-9847cbc7788b'\n 'nyt://article/c8ac4263-a44a-5a21-a73a-16b58d4e1996'\n 'nyt://article/f3e6c5d8-c1a2-57a5-9e0d-2a3bb6145c35'\n 'nyt://article/3def1943-0056-5695-aaad-9a42e3b1cade'\n 'nyt://article/1e57c73e-1592-591d-8f45-84d415035585'\n 'nyt://article/5d03a349-a01a-5f87-99cf-a8e53272351b'\n 'nyt://article/ba96a6f5-9933-57a7-b940-d444fc25f5d8'\n 'nyt://article/39aa2970-ba2a-5fb4-96c5-3c7cd6657983'\n 'nyt://article/d4e394ad-3476-5a4f-8652-167409b7f3a9'\n 'nyt://article/1e9f2bf7-eef7-598f-a5c6-c533f47fea22'\n 'nyt://article/2ff750d1-f415-5f67-81b2-9a8a4aa938fe'\n 'nyt://article/e36532d9-f02f-5154-ab43-ff132acb2415'\n 'nyt://article/adcd591c-0ca9-5e38-bbcf-bcc5b017ebe5'\n 'nyt://article/afe8ce87-872a-5db2-9b79-a9a633c4d1b0'\n 'nyt://article/11a4f249-cc8f-587c-a864-ea8974ddc66c'\n 'nyt://article/121663f1-a86b-501e-b234-3a2a70c4e84e'\n 'nyt://article/e8e1a108-f2fd-5d6a-a373-04456cc50153'\n 'nyt://article/9ed29006-b80a-55c4-aa4a-66019c8be8bd'\n 'nyt://article/8641e74d-5bfd-5338-896e-9f1673e97bee'\n 'nyt://article/c7b2c3fd-fd5b-5fb5-a640-c895522a234b'\n 'nyt://article/909d8fa0-6166-5d27-accb-d0aa3c2248de'\n 'nyt://article/06a35076-4c54-5749-96a8-d2c90b184265'\n 'nyt://article/df56ee2f-77c8-558f-b2b9-1f25679c54bb'\n 'nyt://article/3160c8b9-7cd8-5439-a911-052ea434583e'\n 'nyt://article/bd8c31a6-05f8-5814-9302-2869655f1466'\n 'nyt://article/f5fee146-b2a8-5b47-ab89-20332ce1e854'\n 'nyt://article/945a0b69-496e-5c30-b2ac-ecf0e9027ced'\n 'nyt://article/71285c3b-30ab-56a5-9deb-3884e96e9e8c'\n 'nyt://article/73dcc5f7-5bd8-5fb0-9963-55e6f93674ec'\n 'nyt://article/3e4a5c35-5b63-5261-bce5-6017c939c037'\n 'nyt://article/22880f4f-8902-50a2-b38d-72e15061d82d'\n 'nyt://article/f32ede2b-e191-5498-b2a2-ddce162b78e5'\n 'nyt://article/97849b19-50e4-52d9-8ce8-f79ac2f26d09'\n 'nyt://article/94bb4adb-d7e8-574e-91e0-6e46baeaf031'\n 'nyt://article/790b937e-adb8-5d21-be33-0b610871e626'\n 'nyt://article/9b556107-0c61-5dd5-bbda-4ed20dadea54'\n 'nyt://article/5e3b8101-5ddb-5ae2-906a-78476a0135fb'\n 'nyt://article/b41e5fcd-2992-5863-b843-ed6e60f1f8b0'\n 'nyt://article/5459ddb9-0827-5a8e-90d3-ac4fafe281e2'\n 'nyt://article/a6900170-c842-55e8-81cc-aedcd693c1c0'\n 'nyt://article/fc82f213-e485-53c0-8afb-f708fa8056b2'\n 'nyt://article/e7fe4a3e-ef01-5c90-b572-7c22a4e7784a'\n 'nyt://article/97011b88-4777-5582-91f1-a469adae38f7'\n 'nyt://article/fe4b62f8-dc35-5205-aa42-913d2cf8ea26'\n 'nyt://article/5fdbea42-fb3e-5d44-9cd9-368f40d3a317'\n 'nyt://article/3c6ee5ba-7426-5cbe-ba38-a9a10ef8a635'\n 'nyt://article/ae5c5d43-dd29-5e06-a2ce-5fcabebcddb3'\n 'nyt://article/af6f333f-6d43-5d87-9548-a63cd0aa8ddd'\n 'nyt://article/5e3d2b41-4a55-5523-b10f-fbcb4672a250'\n 'nyt://article/ecf3c129-0fe0-5729-abed-042d35c7ca13'\n 'nyt://article/1c2be249-dc47-5a7d-9053-4e62b4c4d3b4'\n 'nyt://article/c70e54df-f6b2-5fae-b1ba-cc9c1b9c41e9'\n 'nyt://article/25942ab2-0ec2-586e-82c7-836bfe051e8c'\n 'nyt://article/6a3e7158-c483-5b39-b7e8-b8acf2caecd1'\n 'nyt://article/cae1375e-ed0c-5637-8ea3-dbbd109743e6'\n 'nyt://article/30e09d65-497e-5684-b231-334b54cb96e2'\n 'nyt://article/1e1d246c-a1b4-5059-af77-53a0db1a7524'\n 'nyt://article/2a3520b4-60d5-5c22-b665-bfeccb61f939'\n 'nyt://article/5ce8eb01-60c6-5162-b1a2-339e415c66bf'\n 'nyt://article/2c6805fc-a182-581d-8f54-9a8b00abb70b'\n 'nyt://article/1e7d04dc-c6e6-5da1-a83b-3074b0a4f9da'\n 'nyt://article/544412d9-218c-5f16-8ac6-1e6d34d07ec1'\n 'nyt://article/1984cc13-e09b-5c45-8a4b-6171e4db1cc8'\n 'nyt://article/4f2856d2-3e51-531e-b599-102b3d638881'\n 'nyt://article/19b1832c-2a70-5b2f-a269-cd47594e3a07'\n 'nyt://article/0e366f11-06f3-56e3-b3c8-7aa9754bd69f'\n 'nyt://article/86390fe0-b601-5c76-b6fb-f31227a7bb0b'\n 'nyt://article/0386d9c4-640b-5e2b-b5c3-e931bcbcdfe1'\n 'nyt://article/66badb9e-bfc0-5b84-a363-8b19f8fe3be8'\n 'nyt://article/37be3852-7f5e-58a4-8ff2-9d07c5a945dd'\n 'nyt://article/0e351638-d8d3-5a03-9c73-5d3332681bca'\n 'nyt://article/76699884-d119-59b8-aa2c-e0e78c52d5f1'\n 'nyt://article/8c0fde20-bbaf-53a2-85d1-2f2671eb8850'\n 'nyt://article/bce70928-34a4-5a51-b365-f4055274dada'\n 'nyt://article/f6923802-fb06-5bf1-8ead-a4e239606616'\n 'nyt://article/4ed65b09-6778-5426-be73-646da42d055e'\n 'nyt://article/cd56dd44-42f6-5c0f-9d2d-6ae931e2d97f'\n 'nyt://article/790cd241-8b99-5f19-902d-a18c561166f6'\n 'nyt://article/03eb7430-05a9-58a2-af6a-d3ec74012a26'\n 'nyt://article/569d49f6-37e3-50d8-909d-c0b0f7692469'\n 'nyt://article/659a19b0-05ef-582a-a9fa-5eabfb7fe273'\n 'nyt://article/02e028a8-e7e5-5421-8ae7-3e2c5c5807ef'\n 'nyt://article/075db2ba-91ea-534b-a470-8d16a0229393'\n 'nyt://article/28f5e0a9-66f4-5fc2-a36b-5a25d692cb00'\n 'nyt://article/d99cfc89-dc6e-52cf-9e35-ba34454cd4ac'\n 'nyt://article/e87a0ead-95e6-524e-af19-9710dfa29bb8'\n 'nyt://article/e1573f07-cf45-52e5-9fa6-dd476b5320d2'\n 'nyt://article/61143068-5ae4-5770-84cf-5eaf4a825eac'\n 'nyt://article/2f85360e-771b-53d9-b479-86cbaeb42e1e'\n 'nyt://article/16d6134d-9686-523d-8767-06395f4f8178'\n 'nyt://article/002f6372-7b1c-5ae8-bde0-02fa2afdc39c'\n 'nyt://article/fa36f2e0-2041-5c00-a834-33ad0bad644e'\n 'nyt://article/3a4cfc4f-ab5d-57f5-a17f-ecc9ac8ad9af'\n 'nyt://article/064446e3-27e8-5af9-a917-dfd8d8a312cc'\n 'nyt://article/56c5381f-cb1d-5fb3-a692-69f6e36bd711'\n 'nyt://article/457c9daf-3bb1-51eb-81d6-b8fb9cbf0ff0'\n 'nyt://article/d3d17251-29de-58ff-9b3d-06f17e8268cf'\n 'nyt://article/ace097e0-7995-568f-9b06-62d38d41aae4'\n 'nyt://article/543a6d46-9709-5ba4-bc05-f170f9e853af'\n 'nyt://article/41c8d438-cb2f-5adc-8de0-7fe6673b1293'\n 'nyt://article/54f0565e-5f22-5352-b3ea-0dadada4095d'\n 'nyt://article/8079e0e3-008c-5dc2-b1c7-075730fa6025'\n 'nyt://article/16439dda-b22d-56fa-8a17-94d2eaad1a1a'\n 'nyt://article/833d4382-801a-55e3-9a15-89669170de4c'\n 'nyt://article/4d466644-92cb-598a-8259-380b2bdd79f7'\n 'nyt://article/c3f01aa1-8c86-5f2d-853f-f73741fdeefe'\n 'nyt://article/9ef08a5d-e672-5be0-b47b-af1cb7a77e1d'\n 'nyt://article/30229ed1-816e-5ba7-9809-75d28322cdb1'\n 'nyt://article/b640a439-b75d-55f0-9542-407540a8c2e8'\n 'nyt://article/be59a970-cd19-5e28-ac11-d9ee08eb078e'\n 'nyt://article/0c16b0cf-9533-5bc7-9ad6-d4cd8fa7c147'\n 'nyt://article/4c958f3f-8c11-5f50-bddb-d2074feae544'\n 'nyt://article/2187aea6-d107-53c2-b3c7-a7316007cf63'\n 'nyt://article/b4dfab64-12e9-532d-91aa-7dd5c0f0263f'\n 'nyt://article/19a3e5d1-ea77-562a-8df1-b99ba4d6a343'\n 'nyt://article/adab5e46-6fc6-5597-9479-ba6d8cd0ef10'\n 'nyt://article/c08c18e5-545c-54be-815b-5313f2e77100'\n 'nyt://article/f25758d3-ec96-5a35-9c5d-b3df42b8717b'\n 'nyt://article/7b8fbf6e-0c80-52bd-977b-e38aa98ca567'\n 'nyt://article/fc68b387-fbdb-5f29-8130-13ba6808c72a'\n 'nyt://article/2226d8ea-0c49-5078-a1bb-fbba0b5d17fe'\n 'nyt://article/37f2a068-6609-5559-a510-cb14ece090c6'\n 'nyt://article/9dd55356-e436-5a27-91ab-aeb1e06c19a9']"
        ],
        [
         "42",
         "Boston (Mass)",
         "United States",
         "55",
         "['nyt://article/5610726f-00ed-507c-b539-4dbd45011875'\n 'nyt://article/f9c412de-3dff-5b2e-a44f-0bde3681dddf'\n 'nyt://article/fdb45773-76a1-5f09-a9fc-95bf8c6fffa7'\n 'nyt://article/59b1aa0f-c956-5a81-95d4-eebb68d15de3'\n 'nyt://slideshow/334e849b-b616-5350-85d3-d80b586cd92a'\n 'nyt://article/2c94fccc-0e70-5d7c-b0cc-74eb7d1000e9'\n 'nyt://article/9dcdfd97-a619-52a8-8c28-7f8680e05abd'\n 'nyt://article/6b69dbf8-4a9e-5f3a-af64-a3957781fdee'\n 'nyt://article/ff34fa6a-861c-58aa-918a-85892250e341'\n 'nyt://article/5be92726-d4e8-571b-9b1a-a371640980fb'\n 'nyt://article/7c324f8d-762c-564b-8989-ed0d986cb51f'\n 'nyt://article/e26c4181-09e4-5d1c-a561-231cc8093242'\n 'nyt://interactive/6a9ecd1f-2182-5538-99d5-487b4cc82190'\n 'nyt://article/cb18d4b7-2900-5254-95b3-aa93c13bd336'\n 'nyt://article/fcfd89d0-5c36-5c7a-a561-056c79d07ad0'\n 'nyt://article/37c021c3-6a5f-5702-8d2b-8bc17edffad6'\n 'nyt://interactive/66380366-4fc3-5202-8c41-3466d3028841'\n 'nyt://article/d5fbc030-7805-514c-b8c7-ecda4f4a5f80'\n 'nyt://article/68be176d-bcc9-5a07-acaf-490cc363bb8b'\n 'nyt://article/a3064641-a38c-53c1-aaeb-08156db4a6cf'\n 'nyt://article/f505246d-97b6-5fe3-ae1d-45097723503a'\n 'nyt://article/1f88ee23-7a9a-5110-a627-24da09ea67cc'\n 'nyt://article/f37e52a6-2769-5e76-80f2-e243c022366a'\n 'nyt://article/9feb6256-84c1-53b4-8e1a-b23d88ea8a66'\n 'nyt://article/7c982faf-fa1d-57f0-b596-bb41e9ffcb63'\n 'nyt://article/bd231894-4d27-5cd6-83a9-c07438bc673e'\n 'nyt://article/c8c791c5-a5ea-53d6-9902-84180cc11913'\n 'nyt://article/0a99a925-5d4c-5f1a-928f-4f1e3142dedc'\n 'nyt://article/9aac520a-9ec2-5a9a-af27-473a0361a3da'\n 'nyt://article/ffaacdb3-22cb-5f57-b523-c9d013877972'\n 'nyt://article/9c0fd011-4059-5ac9-b49d-d8aa2fbf3cce'\n 'nyt://article/e055de03-2698-5db0-9551-acd2f3c10ab0'\n 'nyt://article/ca1950cf-d625-56aa-88c2-1bd3171d36f7'\n 'nyt://article/4869de2e-db15-5eed-8569-f757a3db65b0'\n 'nyt://article/3bf0e9b8-ae07-56fe-98b3-3dcbcc93d5e6'\n 'nyt://article/fbd3adbe-db75-5047-9d4d-dc66baca44e3'\n 'nyt://article/c7140d00-811a-5c4a-89b3-851da32bfa9c'\n 'nyt://article/da056c82-9b14-5c46-bb02-bf2272a16b4c'\n 'nyt://article/d3e37442-d30d-5ab9-aa44-70af3bd425fb'\n 'nyt://article/20c3e214-5c82-57da-83f1-db8d77561746'\n 'nyt://article/d2fe9ed0-812d-531b-bb7d-27a7ebb104cb'\n 'nyt://article/c08bf800-0327-5eee-b83d-c98877c9d93f'\n 'nyt://article/c082f07b-30f9-5fe0-8764-37c639f6f6d6'\n 'nyt://article/f4a3adf0-eca5-5445-8231-0399e8859da9'\n 'nyt://article/a9a28a03-74ba-5852-95ba-29c4046502a8'\n 'nyt://article/0845138f-6066-590d-a960-8b96b45b2e42'\n 'nyt://article/3fc6289b-c48b-5e43-b964-21aa303be05c'\n 'nyt://article/b6a3d207-caa6-5e4f-87b4-ee3112d479ef'\n 'nyt://article/09c27475-cfdf-5bff-b787-9aaa0b7f1d18'\n 'nyt://article/011887c7-9b8b-583c-98a2-d543d9a0d0dd'\n 'nyt://article/4b7984bc-dbd2-5599-9038-458e09597fe9'\n 'nyt://article/c6394ab1-54d9-53ff-8953-376541f67abd'\n 'nyt://article/59a98aa0-66cb-52e4-b63c-556725ab41a0'\n 'nyt://article/f2b0bf16-01ba-5126-a535-522e280b80e0'\n 'nyt://article/102123c2-80ff-5c7a-9cb1-45f69d6d2ce5']"
        ],
        [
         "43",
         "New Hampshire",
         "United States",
         "147",
         "['nyt://article/5610726f-00ed-507c-b539-4dbd45011875'\n 'nyt://article/96e092a7-8583-57f8-997b-8800166cf4b6'\n 'nyt://article/5b5701aa-33be-50b2-8a33-8931be2ec39d'\n 'nyt://interactive/f3dadeec-f24f-5dbb-9c47-a3b0160208c0'\n 'nyt://interactive/1c11d0f0-64f8-529f-8f1a-d43e9c61b7bf'\n 'nyt://interactive/ffafadef-f341-576c-9ede-baa6207803bd'\n 'nyt://interactive/f88a5434-a800-5ce0-80da-b113cc7d13ac'\n 'nyt://article/747d06bf-8e49-5ad4-805c-4b213dd4d867'\n 'nyt://article/544f4517-e539-558a-a6ef-33e4581c5936'\n 'nyt://article/11f93bd3-99f6-530e-82d9-57c60a62bfe3'\n 'nyt://article/17940183-1288-527a-8109-ee74c7a11bd3'\n 'nyt://article/ed7d9793-7657-5f73-9bac-0cb1b5250b6f'\n 'nyt://article/16cc0b81-025a-54dc-b39d-f748643b2ae7'\n 'nyt://article/33ad2bec-86d1-5141-a6d8-2e1131134f95'\n 'nyt://article/c9c03901-4501-5074-860b-436bcba3ee1c'\n 'nyt://article/bfd457e1-1134-51fa-bd0e-a237e56a6531'\n 'nyt://article/babee79f-f9d2-5613-9188-1bea302bf86c'\n 'nyt://interactive/8a9f3de4-acd9-592b-9c56-aeeb901e3a1b'\n 'nyt://interactive/1ecf3e61-b28c-5768-9d45-cab5b81c1700'\n 'nyt://interactive/8dfcc5bc-fa88-5131-a91c-6b3337a32a38'\n 'nyt://interactive/4a9bc196-3229-5d12-84fe-d9836adbfef0'\n 'nyt://interactive/fffb8ba6-15ad-5ea7-8326-73d1f435da6d'\n 'nyt://interactive/54de2425-c399-58b0-8636-cb5eb951594a'\n 'nyt://interactive/bae3501c-ef15-597d-9d85-ea5d34e7d39d'\n 'nyt://interactive/1adcf6c0-89fd-5315-93b1-f2df24aabf0d'\n 'nyt://interactive/f3c9962d-a226-5320-ac1d-21c2b132e450'\n 'nyt://article/934f6b57-75be-58d3-94f6-a3265735482a'\n 'nyt://interactive/2d44e623-26b0-521b-95fc-3069ebb0a81a'\n 'nyt://article/e7274ecf-d2cb-5d31-ab13-494ee8fa209e'\n 'nyt://article/b1ade6db-9462-5033-ab9f-731199aad2ab'\n 'nyt://article/72106376-7d26-53c6-9317-e8b85d5f20c2'\n 'nyt://article/fbf70ae9-b7ea-5f8f-837f-a67d3f6b2b52'\n 'nyt://article/4eaa4bbd-70fa-5641-bf89-2babbfc1a1ad'\n 'nyt://article/340548a5-1bd6-50a9-8ac3-6a09f217a66e'\n 'nyt://article/6cf5f5c1-cbb1-5ec2-b425-5abc60eb12dd'\n 'nyt://article/efa32de8-7145-562e-b086-d4cf9706d4a1'\n 'nyt://article/e0c35292-bbfe-5900-8794-bc23f4f4857d'\n 'nyt://interactive/84a68533-4950-5e73-91b7-c97ce96206d3'\n 'nyt://article/3e23f227-9d1f-5445-92ba-82e37bfc3e59'\n 'nyt://article/c5ad3ea7-d16d-584d-9251-6bc3f748810d'\n 'nyt://article/87978c30-1ba9-506b-a88e-9bfe7a603af0'\n 'nyt://article/64eb552e-3feb-59f3-9824-2d84b3057483'\n 'nyt://article/d3070336-1181-5099-aa5a-26bfc3ee7aae'\n 'nyt://article/4e22ebd9-0fcf-5824-96ca-863b44dd12e4'\n 'nyt://article/128bc0ac-d5fa-517a-83e4-766211e40e56'\n 'nyt://article/167b56e4-f123-5172-9531-943de8f8686e'\n 'nyt://article/4fd918b8-c338-5d3a-9ae0-db39d3a0f823'\n 'nyt://article/fe64a1aa-e55f-575e-9b74-a7edf265d591'\n 'nyt://article/7a6ebc41-303e-5bcd-9545-c8a94cd91baa'\n 'nyt://article/af6036f0-02b1-5413-af5e-8ff94e71498e'\n 'nyt://article/e7d8baea-a6ad-5bb7-b761-8ea8402321ee'\n 'nyt://article/8361339d-d872-5d18-ae48-1832cc950017'\n 'nyt://article/12b22f07-db3d-5120-87cd-e9228e39408e'\n 'nyt://article/08ee92a5-328b-5168-900c-1600a276bf7c'\n 'nyt://article/ec80c6e8-1c6d-5dc9-82cf-8ab4e7f17bfd'\n 'nyt://article/643f6a6d-e4e4-5213-9c3c-e0ccd85b70a8'\n 'nyt://article/637b6f3c-f370-5636-83ff-3f185b27be2e'\n 'nyt://article/93d8c440-68f3-554b-9e90-97db5e5f7342'\n 'nyt://article/48fa7fbe-dc5a-5828-8730-7f4536faaa74'\n 'nyt://article/5eaad881-9bb0-5770-943b-5273d940ebb7'\n 'nyt://article/ae4223d0-ce7e-5269-be2b-225939127871'\n 'nyt://article/6fa10ad5-8328-5528-b8dd-6c97fa8c37f0'\n 'nyt://article/dc845437-c8f2-5107-8266-c6ff680807e6'\n 'nyt://article/d4843998-b36f-5e8e-90af-6a6be0b80da6'\n 'nyt://article/35ec89e5-4d65-5263-84e8-ebb89e774d19'\n 'nyt://article/eeded762-6943-5c7e-a983-ae26fb77aab0'\n 'nyt://article/1cd5d5d8-6492-56c3-8c3e-8020aeeeaf82'\n 'nyt://article/5beea264-d17c-599b-85bf-1d5df00596de'\n 'nyt://article/2d9a2847-afc5-55f5-9b6d-ffddcef49b5f'\n 'nyt://article/9f4e925e-c38a-54bf-b146-553b29b981bb'\n 'nyt://article/b1237e27-55ce-50ee-8e3e-7cf4561e7ce0'\n 'nyt://article/1e0bf263-b91d-5d17-97b6-0877fd522596'\n 'nyt://article/10fb7fed-5e1c-5f73-ab4d-f785cd94c2ec'\n 'nyt://article/0034b013-48a0-53e6-aa3b-ddcd79ee557d'\n 'nyt://article/ef876a6c-bade-585c-a0c3-c4601b1252f2'\n 'nyt://article/a847df16-a025-577d-ac39-7de8dba4f208'\n 'nyt://article/4b487ca7-0a7a-5d09-a9b6-6cca90f96f83'\n 'nyt://article/8753bda0-aecf-5dd0-86cd-7383ce7f9d55'\n 'nyt://article/6a785ccd-1ff7-5dd5-9d6e-c004a26ff515'\n 'nyt://article/6c2dbf47-92e9-54da-bcfe-25ed5207ce59'\n 'nyt://article/78702c6e-dd52-5f46-8ba0-d2811ca6978a'\n 'nyt://article/5d6ba142-6f6b-54ba-ada8-5a5d17431a7c'\n 'nyt://article/c5bd65b8-d086-5dc3-ae77-f332b8d4f1c1'\n 'nyt://article/6762f105-4f8b-546a-a470-f9f206db6e36'\n 'nyt://article/4042a74a-6a82-57c1-ac61-710165e0d167'\n 'nyt://article/d74645e1-beaf-574c-a787-de62552a92c5'\n 'nyt://article/630bfe54-3819-577c-9678-2d60a30bc09e'\n 'nyt://article/f9eb47b7-33a7-5036-b0bc-377dd4017e0b'\n 'nyt://article/ecc583ef-d52f-5646-9c87-012c43c145b0'\n 'nyt://article/5d33e53a-d3d5-5fbe-8cec-860dfc82fdca'\n 'nyt://video/cf5cb91f-8e60-55d7-b46a-f3150822acd4'\n 'nyt://article/8fee41fa-c319-5b68-b920-f9cbc304a8ed'\n 'nyt://article/157c0f4d-8c8e-59c9-868a-1a0f8466fbf4'\n 'nyt://article/4a7d5375-0abd-59af-87f3-b7229abf1ee3'\n 'nyt://article/2bcafe1e-3903-5768-8543-91185204a7db'\n 'nyt://article/ab8cca84-34b1-5631-a313-89c992d09471'\n 'nyt://article/04cd4cc8-509b-5143-8d41-97bf4d3121b5'\n 'nyt://article/91c540cd-df32-5798-a072-feabe95fcabf'\n 'nyt://article/4a1bad60-6598-5a3e-aa83-f079b26b2510'\n 'nyt://article/897d7a78-14c8-508b-9e4e-c2145be5ebd5'\n 'nyt://article/10d56dd8-d727-561c-a378-438afe56a012'\n 'nyt://article/f016539f-f9c4-52f9-8be2-d6c16cb2a8d4'\n 'nyt://video/392ac926-0e2d-5104-9dd5-f1a70bf95183'\n 'nyt://article/cb631fe3-dc62-5fdd-a44e-320755a46820'\n 'nyt://article/f1f9febf-350c-5133-8701-034abe9d52d3'\n 'nyt://article/2866113b-b6db-504e-93e7-04b07ec76cac'\n 'nyt://article/7962c94d-e314-51e3-81a9-4f34d838c5af'\n 'nyt://article/55df8a6b-7096-5647-a23b-e1568f034052'\n 'nyt://article/0a361abf-9325-54ae-9887-b15af4d73568'\n 'nyt://article/59c4921b-8a52-5b8c-be8b-17764e5fcf07'\n 'nyt://video/1e3b673c-fcfb-50a7-933c-abd20f2e4b2e'\n 'nyt://article/0d1412be-2181-5118-8645-7652a550607e'\n 'nyt://article/db3e4191-1a10-5354-83e0-0d1d5b375a36'\n 'nyt://article/d237e762-56d9-527c-8c69-e1f930ab040e'\n 'nyt://article/856c1c58-08df-5497-a1f9-50bd5affa136'\n 'nyt://interactive/968cff3b-2c25-5a47-9c56-4405c66e66c7'\n 'nyt://interactive/15eec7f7-eb86-5ebc-936d-bee495f7a6f2'\n 'nyt://article/5a1ef7f9-6a7c-5539-860e-07cfc9de4ee4'\n 'nyt://article/20a7f41c-8515-5cd5-8d31-6534b018bfb6'\n 'nyt://article/7ab1b03b-4246-55ff-afe7-23a9dfe038a4'\n 'nyt://article/d86b7893-b7ad-5ad2-8d0d-96728a11d477'\n 'nyt://article/403f4cf5-8887-519f-9792-abf4c59b1d96'\n 'nyt://video/527f2190-9f10-516e-aef8-3ecaa594d9ce'\n 'nyt://article/d101c7cf-522a-5158-9c5d-911cdb2d558e'\n 'nyt://article/5fa6a030-565a-5721-82dd-2bea31d692ed'\n 'nyt://video/ae86afaa-a6de-595f-8a36-4f05ddd47d09'\n 'nyt://article/6deef403-6ae1-5bc3-b6e3-360a70f752e9'\n 'nyt://article/9ad04b97-a1c4-5c7a-8898-51f4b25ad404'\n 'nyt://article/d5160b57-6cb4-5453-b62d-b73779f055b6'\n 'nyt://article/432ad95b-89a6-5d38-a468-289732b9685c'\n 'nyt://article/9923d88c-3b59-5eb6-b34f-cab53c2fd438'\n 'nyt://article/cb213944-9b14-5317-95b6-26fe65f401d5'\n 'nyt://article/9a019f0e-ee4d-5ff9-8cec-7b9e2da7b3ea'\n 'nyt://article/d913ef00-f959-5924-a4e6-45b8e1eb5d41'\n 'nyt://article/9f4e16c0-fd30-5103-9afb-768724bc19c6'\n 'nyt://article/388b5422-2c50-5a8b-9231-7728158def43'\n 'nyt://article/370c9161-3398-594c-bf70-b9b8681cf16a'\n 'nyt://article/b509996c-8493-5a76-8ad5-38bbc474574b'\n 'nyt://article/76e1a49e-8772-5e0c-b478-b9874a7e154d'\n 'nyt://article/28a75cd7-7bf3-5a44-9843-7d14439ba142'\n 'nyt://article/17789cc9-c655-5cb5-8d0f-c980dee253b0'\n 'nyt://article/6657de0e-62e3-51a9-a43a-260280fa95d2'\n 'nyt://article/1a30767e-bfd6-5be2-9647-278a4ac8f2da'\n 'nyt://article/38ff5070-73ce-5d87-a8f6-18645fdbcb97'\n 'nyt://article/099ac6dd-e521-5246-b5af-e83a625e7e19'\n 'nyt://article/5ec374f7-932e-55a3-a2e9-78c76b11194a'\n 'nyt://article/154bdd8d-85a2-5d23-9e9c-1301ee118e9b']"
        ],
        [
         "44",
         "Chicago (Ill)",
         "United States",
         "179",
         "['nyt://article/f3e7f53e-152c-5134-bae9-39f1f2c97518'\n 'nyt://article/36f71a88-033c-556b-b394-effb63f3b7a3'\n 'nyt://article/a97d2ac6-00c6-5949-89ea-d7fe6f9ce267'\n 'nyt://article/0a82c767-4356-5b9f-8ecb-933b7b61fa44'\n 'nyt://article/1b669982-ec2b-5faf-b3c4-8126ff8a231e'\n 'nyt://article/bbc415f3-ad61-50a4-90de-25c4356b925d'\n 'nyt://article/b10a6520-8976-5d53-a8c0-64aa5d4d9444'\n 'nyt://article/26e2bf6c-8270-58aa-b16a-a98763485dfc'\n 'nyt://interactive/b2e02afc-0a2f-5a1f-b8e1-bf4a3064c143'\n 'nyt://article/bb356ae0-d3f8-5cb7-adc9-0558a448bef2'\n 'nyt://article/2ee3f83c-8ff1-5a28-ba3c-ef834cbadd6b'\n 'nyt://article/81d1e2ff-090c-5ff3-8763-8c3d92deeccf'\n 'nyt://article/6fd23386-b74b-56ad-a237-30ed87dce22d'\n 'nyt://article/2f485b5c-a0c5-5c62-bbf6-7ec4b206529b'\n 'nyt://article/036ca7d5-4dda-5d1c-99a8-c27d500d4195'\n 'nyt://article/ea77eb45-0d23-5a86-a3ed-8d56d0abb611'\n 'nyt://article/57cb7863-ef15-58e6-90e1-19be24042509'\n 'nyt://article/c9299219-d98d-5d2f-9e44-3a4136a1da5a'\n 'nyt://article/110c2229-9a74-5203-8c21-ed2428e4da97'\n 'nyt://interactive/55aafa2d-def0-5293-9b20-ed1b57ddd9b1'\n 'nyt://article/16a7cf2d-21bc-58f8-b9b4-9e8de796177c'\n 'nyt://article/f25629a7-0066-559a-9b26-76de250c120f'\n 'nyt://article/11b6b012-978c-52d0-9b15-99db87d46dda'\n 'nyt://article/ff792e89-c4a1-5939-a0e3-6dea5e3f4e96'\n 'nyt://article/b7917d5f-11d1-510d-afcc-d262abc3806f'\n 'nyt://article/d871f862-d4fa-5cab-9c36-f4c7c0b73c7f'\n 'nyt://article/88c30e68-41c1-5e60-8bff-2c84320b4523'\n 'nyt://article/1db1e7ec-112c-57f0-ab67-27095963e7bc'\n 'nyt://article/32f57522-eff6-5eb0-8ddd-56e441449184'\n 'nyt://article/d992541c-2f4c-52c3-b015-6afc2f772e9d'\n 'nyt://article/ec58a904-8127-5cc3-8634-116d5ebb2f99'\n 'nyt://article/4aabd765-9631-53c4-bc7f-4508d9221c4e'\n 'nyt://article/a5903af6-130c-59e5-a908-e26f9938ea55'\n 'nyt://article/e42aaf02-80fb-5796-a37b-172425902257'\n 'nyt://article/fbcdf9a3-2056-500e-899a-8a01ddae6ff9'\n 'nyt://article/66740eed-d84a-5b4d-bb23-5c4b144400dd'\n 'nyt://article/1957a4b9-a572-5382-b952-7e678ec54dc1'\n 'nyt://article/6125c0a4-54e6-54cc-b5c7-83aba5f29ba2'\n 'nyt://article/889fa132-b5d0-5a5d-b739-b4e90657078e'\n 'nyt://article/3df3ddf0-e041-5339-bdad-91e1154338af'\n 'nyt://article/f6bf0cd1-ec2c-5d93-bd4e-11c913ee93ac'\n 'nyt://article/21c94c0c-c846-5db0-8269-e3e470e559fe'\n 'nyt://article/568b0187-1b3f-5216-9b6e-22c3b9672207'\n 'nyt://article/6a6c70b3-873e-547b-acb6-d7f80584411c'\n 'nyt://article/04980613-ec23-5a66-a54b-8f0dcfc04531'\n 'nyt://article/7007598a-9c1f-508d-ad36-3afb6d284e9f'\n 'nyt://article/4f3a4d9d-d4ed-5e7b-87a0-767473d35525'\n 'nyt://article/67d36cb7-5cef-59a6-bbe9-f2cf414e503d'\n 'nyt://article/9a9415b6-6fcf-5a2d-b9e5-760b47a891f0'\n 'nyt://article/978edd97-2660-5968-9dd0-604574d89fc2'\n 'nyt://article/44b54b01-ae06-5001-a9a2-9e52caa14ae0'\n 'nyt://article/4f5aa97d-b7ae-5ba7-a913-09b0ae5fd7ce'\n 'nyt://interactive/2b65d6b9-cace-58eb-bdf1-cc35d723c9cb'\n 'nyt://article/bccca589-a572-5f65-8d84-d95351e75dbc'\n 'nyt://article/eb93301c-7f5c-5f23-9f96-d2e9520fb4fa'\n 'nyt://article/07c389fa-ab40-5b86-b426-eaf8df17a790'\n 'nyt://article/71b3c17a-d2fd-5f71-b223-5c747bfcb453'\n 'nyt://article/d789979d-ecfa-5ce7-b97a-3d016dedf748'\n 'nyt://article/e357332c-4a66-5c7c-88ac-122096f323fc'\n 'nyt://article/9a14d2d6-8df6-5993-b41f-2deb7587f7d6'\n 'nyt://article/dee587fd-27c8-5987-97d7-ff3df1811eff'\n 'nyt://article/7f84a7e4-cafa-5e35-b137-dc140e98458c'\n 'nyt://article/250484fc-a837-5f51-941d-81cdd07c8a6f'\n 'nyt://article/85c1e368-aa59-540d-a1f1-8dfd616c7c6e'\n 'nyt://article/a99d2466-8498-577a-9648-a20cf1a70657'\n 'nyt://article/3b2e4cc1-c8ec-5f5e-b7ed-3592fb038860'\n 'nyt://article/7c906e0f-7601-5d74-b3a9-0a0b6a8a3d33'\n 'nyt://article/514b9008-3adb-588a-8c50-92d4f7a5eab6'\n 'nyt://article/ed0ecceb-b475-5462-9c55-f118f98a91d8'\n 'nyt://article/8a2c1aed-9e09-52dc-9f8a-287601270e2d'\n 'nyt://article/d2131d3c-8f72-5fa7-8d63-4ad9c03a00a8'\n 'nyt://article/93756905-c415-5973-a241-47633f55cac5'\n 'nyt://article/41a5b364-206e-53d5-a13d-ad234ee1f79c'\n 'nyt://article/6feea121-45ba-55f7-b532-47d82fb944ae'\n 'nyt://article/f5efa291-2af6-5aaf-82d7-fd7aa33dd9ac'\n 'nyt://article/b8baff72-4784-5069-bc18-920f707bdf33'\n 'nyt://article/1608ed47-5548-5c73-adc4-f0ef493c6796'\n 'nyt://interactive/970e085a-769a-591d-8075-e4fa5f7cfab0'\n 'nyt://article/90e1e361-5c3f-5a1e-b5ee-bf314a3021d1'\n 'nyt://article/8d537313-c3c9-5ae4-96fe-11df7f2ce040'\n 'nyt://article/cc766a2f-072b-5190-af6f-5ec5de740cdd'\n 'nyt://article/d90b7857-6882-51cf-90cd-e36f0e6b91c9'\n 'nyt://article/2d82622d-de86-58e5-b0bc-76d4ac2488b6'\n 'nyt://article/8b16f244-f3d4-5936-a4a6-a5fc548d5fee'\n 'nyt://article/0d36d864-082d-53f0-a9f9-81f4278a5d28'\n 'nyt://article/a04c05d8-f8c5-5d05-a7b4-354dd74632e7'\n 'nyt://article/2d87fb5e-4cf7-50cc-9f67-a06203be33c7'\n 'nyt://article/d8076dc2-e9cb-5898-a6f5-172eb9c873f4'\n 'nyt://article/886ba8e4-0f7b-5c26-9716-6dbfaa5e1b34'\n 'nyt://article/30108b07-058b-5512-920c-c33095dfac1b'\n 'nyt://article/f67faa21-090f-5c69-aeb3-696db14a32ae'\n 'nyt://article/9c94ae80-c0c6-5284-9bdb-81ea23c31149'\n 'nyt://article/66c09af0-5f2a-5f31-b292-f1a26fb0c5b8'\n 'nyt://article/8d2b3452-94fd-5aee-ad31-7ff7262ea7b7'\n 'nyt://article/4f5fe95f-0948-58bb-a767-c85b71a67e34'\n 'nyt://article/004ea407-521c-589b-a8f3-cd29d68930ab'\n 'nyt://article/be484f36-5866-5bf1-8bed-75f2057ce06e'\n 'nyt://article/68069772-f556-5996-8069-54e00a1d805d'\n 'nyt://article/36fc11a9-2f9d-551f-908f-2e9485e883a5'\n 'nyt://article/93cfb501-4642-5ca8-9032-4c591940d3bb'\n 'nyt://article/0c0a6073-b543-5f7c-9e44-1623aa6c1f1e'\n 'nyt://article/ff7da113-21fa-5dff-8247-e7cfe35697ba'\n 'nyt://article/14d1c877-ae3b-5796-8dab-972d84cf46ba'\n 'nyt://article/34ef508a-2389-5766-87c8-392de8b5e687'\n 'nyt://article/66e310d7-0432-5961-a104-e5c071d063b4'\n 'nyt://article/7b55955a-6dfc-5b10-9aea-aeff0cd531e1'\n 'nyt://article/c4e41627-2413-549b-ba79-6a61a2fc855b'\n 'nyt://article/8856f212-0689-5a1d-b651-22da9d1f24b1'\n 'nyt://article/8e5d437d-98b5-56e5-94bf-f3fd58dcddb6'\n 'nyt://article/0fa5278e-8a19-5f9e-a582-e5ce3ccc6d80'\n 'nyt://article/813ad15a-e7a1-59da-8a7b-bbdbbdaaadb2'\n 'nyt://article/3f0bec63-dc39-5e81-b787-9702c4373e33'\n 'nyt://article/2ed20f2b-b113-527a-b1a5-376f0f5f74b2'\n 'nyt://article/065a721f-f934-57c0-a113-92f540a95755'\n 'nyt://article/a46a33c8-73e9-57c1-b096-7c8edd4fc089'\n 'nyt://article/b32c4b6d-0d5b-5be5-a343-cd4a9bb94e63'\n 'nyt://article/dd5d55a5-418f-5829-aeee-645968bb4755'\n 'nyt://article/9a0c334b-1e21-594c-ba27-647d1e6bc17c'\n 'nyt://video/df1a196e-d84f-5788-bcc7-6590f42f51ac'\n 'nyt://article/8f52f191-9f67-5a07-96c3-361b734b92f4'\n 'nyt://article/93774862-0512-5ada-85f9-cd31e95c5e41'\n 'nyt://article/6cc8bb7b-9758-5a1a-b443-2884d2b7f819'\n 'nyt://article/38a0bb57-a4c5-5d59-a116-4fc690fa4a99'\n 'nyt://article/f379adb4-e619-550c-a9c1-7f2243d94b45'\n 'nyt://article/fe08af48-bd96-5ed4-82cc-e809cae577ac'\n 'nyt://article/b033c5eb-5541-5686-a823-90cbfaeb2fbf'\n 'nyt://article/4bf2e570-c33a-5007-9469-f8fa6921952e'\n 'nyt://article/9c0d085a-f7ea-56b9-b1cf-688e234f955b'\n 'nyt://article/dbd195d0-acb5-51f3-94c0-c91cfa8d9a2d'\n 'nyt://article/8a076776-1065-5bdb-931f-7c438c42e713'\n 'nyt://article/1547b036-3e47-5c87-be3b-90441f89decc'\n 'nyt://interactive/df57a453-85d8-555e-a19e-af448baffc80'\n 'nyt://article/a5361f28-c4b1-56f4-89bc-593c7774eceb'\n 'nyt://article/5228f527-ff75-5ce6-902f-e43097896bcc'\n 'nyt://article/9e75c9ae-3949-5ecd-a5d3-d87a06aede03'\n 'nyt://article/8a398b10-07a4-5efa-96ab-5afb8cbb5589'\n 'nyt://video/4e52b224-2f0a-50ee-ba48-baeaa35442d0'\n 'nyt://article/303cea03-0081-59c1-8b30-e758f023f94e'\n 'nyt://article/316e396f-ef5b-5bd3-9653-bf16fdf53788'\n 'nyt://article/c12516b6-0ea1-527d-b940-d4f0aa4f85ce'\n 'nyt://article/843254b8-e24f-5637-9dae-5f466dd02173'\n 'nyt://article/299acf69-a3e1-592d-bd35-c416bce925ce'\n 'nyt://article/82b8ed51-71d2-5e71-a36e-6f876a9ea35b'\n 'nyt://article/5f3c73c5-076c-5381-bc38-c50e9a3bea04'\n 'nyt://article/1a89f794-71ee-51a6-93ca-1b18220653bf'\n 'nyt://article/a1c072c9-68d4-5ae6-8355-d42c8159b0d1'\n 'nyt://article/68d60813-a4a9-5f98-8417-3e098022947a'\n 'nyt://video/bc5808b2-c679-5ae7-a456-0e45c710ce0a'\n 'nyt://article/3d55ad60-e3fe-52fb-9463-ecf9b98160ed'\n 'nyt://video/a9f0cbf6-1229-5f69-806f-fd4d93018686'\n 'nyt://article/7723f3fa-d480-5ecb-b71b-dc5c127af214'\n 'nyt://article/29cae355-4097-54da-9291-1ed044b41e5b'\n 'nyt://article/197a2663-b3d8-55af-b5ed-8f467f9187f8'\n 'nyt://article/dd230ba4-64b4-5ae1-8139-4bf181ca7324'\n 'nyt://article/1697046a-a735-519f-8219-a9dd0c0e0a3f'\n 'nyt://article/e5c3de8e-330d-5f50-a275-e0abbf4dd362'\n 'nyt://article/14d17412-fde6-5268-b306-157e54ae0e30'\n 'nyt://article/e9a3b88f-fbae-5da2-a0ca-23c2e6d81b39'\n 'nyt://article/4fe64e96-06b7-5e9b-a730-ffee73030af2'\n 'nyt://article/3c322c44-0ddf-5633-9e83-ac2010f13f75'\n 'nyt://article/d6f2138c-8df1-5f55-ae00-5bb500b16094'\n 'nyt://article/34cdd4ec-b7e2-5cd0-a3bc-b733d900b1fc'\n 'nyt://video/fe0c85a3-d49f-5a14-ba4a-7068752b462a'\n 'nyt://article/4c67d549-a482-53f2-8a7d-ae867f15c989'\n 'nyt://article/55536997-16ff-5218-b30f-ce605f889312'\n 'nyt://article/e9d13f95-2b4a-5ac5-90d4-8107bc1937a0'\n 'nyt://article/571e33b7-29c8-50b1-9b45-6ce49b85ad6c'\n 'nyt://article/203de3e2-ffd0-590e-aa3c-3b065258053a'\n 'nyt://article/4d5639aa-bce1-5a98-b2be-2bdffea6d6da'\n 'nyt://article/63dca39d-6721-5383-872d-b71349044456'\n 'nyt://article/a25f128b-6f56-502b-86d9-cf63ba771141'\n 'nyt://article/5a97688a-9650-53b3-b253-ff53b40dc130'\n 'nyt://article/8e81d704-7518-597c-ac06-ef3c1c696554'\n 'nyt://article/ba13cbd2-f472-58ae-8563-bdd790686357'\n 'nyt://article/76ede91c-6779-5e6b-91d3-63a3942b9cfd'\n 'nyt://article/6e11a7fa-083f-5252-bf65-315e037d8f2e'\n 'nyt://article/332d8425-adde-5911-99d7-7aa325c863a9'\n 'nyt://article/57d0f604-c5c4-5991-b0ea-61d4800177aa'\n 'nyt://article/f6059d73-e714-5e8a-8602-9841528422e4']"
        ],
        [
         "45",
         "Richmond (Va)",
         "United States",
         "9",
         "['nyt://article/f3e7f53e-152c-5134-bae9-39f1f2c97518'\n 'nyt://article/8a1f38ed-b909-50a2-bc22-0591d177e426'\n 'nyt://article/6085fb46-5f73-5f80-ab96-28c6083aa0bc'\n 'nyt://article/7bc9a436-9d2d-50dd-9021-b2d6283c68ec'\n 'nyt://interactive/c7750059-64dd-5b75-8c8d-48aa1a327a0f'\n 'nyt://article/0a36f4de-558f-5b78-8f58-07a2d8dd2117'\n 'nyt://article/0f63b647-4829-5f69-b243-5ee855417245'\n 'nyt://article/a39156e5-ecac-54e7-b214-064346804206'\n 'nyt://article/5037dcaf-d3e5-5b92-b404-c067d3aecf5e']"
        ],
        [
         "46",
         "Bedminster (NJ)",
         "United States",
         "7",
         "['nyt://article/78b260c3-4d2a-5200-bfc1-176274a5cbde'\n 'nyt://article/72c9ccbb-e793-57ef-96c7-4931b64ab1d9'\n 'nyt://article/d26cdf55-6c2d-52f4-a8d9-843c93a7d6bd'\n 'nyt://article/5a3dbd36-fc57-54b1-8eaf-672414aa0434'\n 'nyt://article/7e1bf201-98e8-5d86-bdd2-fa7d1d36afdc'\n 'nyt://article/8afe90b1-a7d6-5b30-951e-1f943a8360dd'\n 'nyt://article/a086ecac-b48d-53ba-ba44-f8dd2a934cf8']"
        ],
        [
         "47",
         "Jerusalem (Israel)",
         "Israel",
         "24",
         "['nyt://article/30b2bc77-c77a-5002-9b2e-37ed5408f2d5'\n 'nyt://article/7bf7ebe2-493d-585a-89b4-240590fae296'\n 'nyt://article/65c3dc16-1f0c-53b8-84b2-2e551a1da347'\n 'nyt://article/486abbc4-d60e-5de2-907a-3f1aee139d66'\n 'nyt://article/bbba836c-ef97-5180-b889-227a95eb6412'\n 'nyt://article/bf3e1b6e-e635-5624-8001-70eeb11aa507'\n 'nyt://article/8f9d19a7-0c05-5f9a-bd88-b60e029b015d'\n 'nyt://article/62ab1ff6-e955-51be-b04a-28518cb3a7e2'\n 'nyt://article/1104a490-62b7-507a-9fab-1783f67a7d95'\n 'nyt://article/e3ee8535-7aa8-5b64-9a90-2c3517ff5a4b'\n 'nyt://article/4a6d5a41-0b59-5b13-8fac-92b530e6d052'\n 'nyt://article/3b4935bf-78ed-58db-889d-4e4281ded68b'\n 'nyt://video/e47a2161-5078-525c-be39-5b1d531417e0'\n 'nyt://article/2640caf7-0897-5850-a531-f4dcd67d62b1'\n 'nyt://article/38f22f7c-1d84-54e2-9f7d-b484e5e95387'\n 'nyt://article/51e96ce2-5b54-5089-a75c-9fe97e4b9309'\n 'nyt://interactive/69591a3c-2b76-5ffd-862c-6f916dc268f3'\n 'nyt://article/4f12446e-9e44-5e78-a347-c617a4265ff0'\n 'nyt://article/50538039-8d2a-5164-8634-e62d66fabea8'\n 'nyt://article/34dd7e6d-95f9-50cb-9861-87f8be654f94'\n 'nyt://article/06d42b10-8cb2-5628-97eb-bc38440aaed6'\n 'nyt://article/56919c0e-562b-5ddb-945e-745868c9fd6a'\n 'nyt://article/093ba144-ed07-5a89-96f8-3b15b9bbcaca'\n 'nyt://article/02e028a8-e7e5-5421-8ae7-3e2c5c5807ef']"
        ],
        [
         "48",
         "Tel Aviv (Israel)",
         "Israel",
         "29",
         "['nyt://article/30b2bc77-c77a-5002-9b2e-37ed5408f2d5'\n 'nyt://video/09689f30-93e7-5200-9ad7-1c816bb40401'\n 'nyt://article/f03843fc-ef40-59dd-8327-7ae642cd531b'\n 'nyt://article/f3cf2325-d000-5b47-a059-2a66d98b7d35'\n 'nyt://article/bf3e1b6e-e635-5624-8001-70eeb11aa507'\n 'nyt://article/9821182a-1b0c-5f18-a337-0bf666f23f48'\n 'nyt://article/c7d122f3-5b36-57b2-8520-401d3cccb9eb'\n 'nyt://article/de94f9da-7e14-5352-b7a9-1987657e5caf'\n 'nyt://article/1696b446-a96e-5028-83f3-32e302343355'\n 'nyt://article/9de6d5a0-ef7b-5f8f-a142-d93a22eaf8e9'\n 'nyt://video/a74292c8-ca9e-5082-9900-891943a4c031'\n 'nyt://article/a78ae0a8-4fad-5115-9780-d7bbb852e735'\n 'nyt://video/3fc74aff-5448-5b39-8239-6052988ea2af'\n 'nyt://article/d95a0e89-fa58-56f8-9ab5-80e1dfaf7303'\n 'nyt://article/e92892df-c94f-59ec-bd9c-4ae2c9023a78'\n 'nyt://video/b12a61ca-d1cd-5ca3-98cc-8642a6028dc5'\n 'nyt://article/38f22f7c-1d84-54e2-9f7d-b484e5e95387'\n 'nyt://article/851059f3-3bb9-5e5e-a9f6-897fc2f16f6c'\n 'nyt://article/e2f328b9-5d12-5802-9fbe-80ee07fc98a3'\n 'nyt://article/4b9addb0-ece4-5275-a497-a5742b169c82'\n 'nyt://video/ba374604-c039-51a3-890a-c45cabd91834'\n 'nyt://article/29a5b8b2-1ee9-578c-834c-2ff55051e978'\n 'nyt://article/13fe2f90-e6b8-53ec-b49c-7707f7fb059b'\n 'nyt://article/7d9b7b57-879a-5e16-bb68-44356588cad9'\n 'nyt://article/d1c2e53c-de1e-5ada-b14a-3182347e852b'\n 'nyt://video/976eb5df-a3a7-565b-ad92-8b3f739c8be3'\n 'nyt://article/139619c8-b92e-512c-bf91-12a9d9d381f6'\n 'nyt://article/26b6eaef-739e-545f-9b9e-e8dafea2b4c1'\n 'nyt://article/94011e9b-150f-54d2-9148-8668c9b08631']"
        ],
        [
         "49",
         "AFGHANISTAN",
         "Afghanistan",
         "87",
         "['nyt://article/32d37cf0-7c12-5d3b-ae4a-f031d0ca961a'\n 'nyt://article/76935c0c-a9ed-5495-aa1e-938494ed1a7a'\n 'nyt://article/3ba1a707-be08-5a83-8d18-5d5341bf3b7a'\n 'nyt://article/743db14f-34bc-5234-8e83-636c558578cc'\n 'nyt://article/1ea25afb-f7f5-5873-8da1-5fbdba9ca782'\n 'nyt://article/c5a3a331-6d04-585c-b237-505d9fb9f508'\n 'nyt://article/17ea0afa-d3ea-55a2-85a8-8799db99297f'\n 'nyt://article/eb2e5966-5909-5229-aeb5-e1c1adf0ce4c'\n 'nyt://article/224d3b62-d489-5a2f-91c0-6a46346661ee'\n 'nyt://article/f36ce919-1ecd-5f6d-8748-40037f0c6a8f'\n 'nyt://article/19f90532-f2bd-5a00-9df4-72159380cc93'\n 'nyt://article/c93658c8-63ea-562e-896b-a5a3fd1b9ffd'\n 'nyt://article/692aefda-1ac4-5507-9b37-9aeaf74f9bcc'\n 'nyt://article/1eddbd46-8c2d-5754-8440-bb35e43e39d0'\n 'nyt://article/fbfdc8b5-31b3-5dd8-a1ae-fe3f871b745f'\n 'nyt://article/7d2a7a01-0235-5e55-9393-79ed5a8837a3'\n 'nyt://article/fd15543c-174a-5c4d-9628-522e0e9a6768'\n 'nyt://article/1f63edd0-84c8-5a7c-abf9-85d53a74592d'\n 'nyt://article/f0883555-c784-56cd-8272-ba1113b1920c'\n 'nyt://article/2f67e84d-d1c4-5419-b780-b0108851a334'\n 'nyt://article/bf24d7e3-26df-577e-8327-5ad156769f42'\n 'nyt://article/67761cbe-2ec6-5e32-b6f6-6e6a5a4eabee'\n 'nyt://article/f44d83b1-2253-5fc9-b71e-b66295c7cc8e'\n 'nyt://article/c47b9632-5b0a-510d-8386-74c70370438b'\n 'nyt://article/f3ffe4d3-01d7-5464-a725-6f402e4384a8'\n 'nyt://article/6f7e716e-6df6-598f-a673-d389d1642f8c'\n 'nyt://article/fa3698f7-b0e6-55dc-8503-bbcc04e488c1'\n 'nyt://article/c626e64c-ed66-5d21-ac87-486bc0da2be8'\n 'nyt://article/78d591a3-fb7a-5b66-9a94-77e03dacb73d'\n 'nyt://article/46cb81ae-222b-5033-b03f-cb208d91cb72'\n 'nyt://article/18ed351f-33f4-5712-aea6-1b69cf8b71ca'\n 'nyt://article/d628ac24-8c04-5861-afff-3f2bb873742b'\n 'nyt://article/f7b22ddb-7134-5785-8c9f-92462d75dd58'\n 'nyt://article/78b8c3a3-7029-557d-a8a0-1e2567a4e993'\n 'nyt://article/f03fae5a-e626-5e9d-b0e2-4b339c9b0bed'\n 'nyt://article/0854fc1c-6794-5407-a410-c4e54329fd73'\n 'nyt://article/32b2f331-8909-5df2-b55c-c0b2e563860d'\n 'nyt://article/8481a933-d337-5c0e-8855-731556cffe07'\n 'nyt://article/027c7bf8-68aa-515e-95a6-f5eea8048f65'\n 'nyt://article/620575aa-9d01-5858-abff-b88aa5a78c27'\n 'nyt://interactive/fda805b2-2b2a-51c0-b44b-0a6a357a30a4'\n 'nyt://article/0bbcc209-db15-5ed7-afa0-c8de30a1b0d8'\n 'nyt://article/d14635d5-9d12-58c0-91a5-36a9eddb8fad'\n 'nyt://article/c7e16118-94fc-55a9-90f6-91271aa69c8e'\n 'nyt://article/6228d681-5c79-53b9-b6f5-e585b587346b'\n 'nyt://article/518634fb-02c7-5186-94e2-c9a6b42e410f'\n 'nyt://article/22c77345-c8fc-54b8-8044-881e946adaf0'\n 'nyt://article/aef01dcc-7440-5174-8f8b-dd5b813e2d43'\n 'nyt://article/296fab0b-6def-55d1-931b-e61f385d40bc'\n 'nyt://article/b1179855-fe4a-503b-9086-32a9d44ba791'\n 'nyt://article/e618787b-82dd-5aad-995f-2d34b7bac54f'\n 'nyt://article/7d382142-6b6f-551d-8484-6e35963ad993'\n 'nyt://article/d3fd6ae0-dee3-53bc-89cf-20ec83c40234'\n 'nyt://article/c2eb44e1-4e49-5cb3-ba8c-1953156a9752'\n 'nyt://article/4487764e-f7d2-5a32-aa38-fbd96d8e4dd6'\n 'nyt://article/818a8358-54bf-59af-b02b-ab789f7753b5'\n 'nyt://article/9f42643f-3a1e-58b0-8b05-471e25cc5fea'\n 'nyt://article/f9386ae2-3ae0-5baf-8064-919dfdbc9e8c'\n 'nyt://article/40316d75-4573-5cb4-97b5-d6c4968d4fce'\n 'nyt://article/fa4f938c-3999-5899-9b9a-87dade1e9109'\n 'nyt://article/f6178677-9c32-5afa-b988-01d15ea68899'\n 'nyt://article/f341cceb-41b8-5e13-b4c3-7affb67add4a'\n 'nyt://article/68d4167f-e5e5-5cb2-aaad-08de77f1e02a'\n 'nyt://article/b76ea1ba-2191-5f8d-8758-f125e627cda8'\n 'nyt://article/4ba0b180-46bd-5519-b2f2-d2c0f20f756b'\n 'nyt://article/5838cab0-6078-5c8d-8c25-78f9b152d105'\n 'nyt://article/6d8cd85e-52d7-5ea6-975d-431a232b0dd3'\n 'nyt://article/b35fed90-4f6c-5090-a650-c9b3416cfdb6'\n 'nyt://article/6ec05f2b-a2b3-5190-b9e4-3bed75594a0f'\n 'nyt://article/d0c139cf-6af8-54b2-896b-afebb7e42e31'\n 'nyt://article/786b0740-8ed5-5bea-a353-056203015bf2'\n 'nyt://article/c9a7aa82-bfba-57ce-8345-2fe996c2f588'\n 'nyt://article/c96f4245-1467-5b45-b131-fa10275af954'\n 'nyt://article/7f712518-1080-590c-818e-3f183d5ab9e2'\n 'nyt://article/77d3ba07-71fd-55e9-8260-077d40e7e7b0'\n 'nyt://article/5fe584a4-4686-5efa-8baf-67778ace59e7'\n 'nyt://article/c534fef0-8bda-59a7-b7fe-14ee196e4e71'\n 'nyt://article/0537b6b9-571a-539b-af8c-fc72f2873096'\n 'nyt://article/85b88725-7f8f-5058-98da-25161dabd136'\n 'nyt://article/a0c9f4df-26d4-57b3-917f-4b7c7febe0f5'\n 'nyt://article/e5652440-552d-5b51-abd0-643d43eac6c8'\n 'nyt://article/afe74c10-e930-55fc-9186-2163146355b1'\n 'nyt://article/f115bed1-d4ec-51a9-86c5-4d32f76e9350'\n 'nyt://article/508aec2b-c1c4-573b-b295-91f4d8364552'\n 'nyt://article/7b8fbf6e-0c80-52bd-977b-e38aa98ca567'\n 'nyt://article/c20000bf-0d4e-5023-9e9f-8e65e3d98cef'\n 'nyt://article/44a10f67-d02c-56d0-9f9e-7da36dbd93ba']"
        ]
       ],
       "shape": {
        "columns": 4,
        "rows": 3148
       }
      },
      "text/html": [
       "<div>\n",
       "<style scoped>\n",
       "    .dataframe tbody tr th:only-of-type {\n",
       "        vertical-align: middle;\n",
       "    }\n",
       "\n",
       "    .dataframe tbody tr th {\n",
       "        vertical-align: top;\n",
       "    }\n",
       "\n",
       "    .dataframe thead th {\n",
       "        text-align: right;\n",
       "    }\n",
       "</style>\n",
       "<table border=\"1\" class=\"dataframe\">\n",
       "  <thead>\n",
       "    <tr style=\"text-align: right;\">\n",
       "      <th></th>\n",
       "      <th>place_keyword</th>\n",
       "      <th>country</th>\n",
       "      <th>count_of_articles</th>\n",
       "      <th>ids_of_articles</th>\n",
       "    </tr>\n",
       "  </thead>\n",
       "  <tbody>\n",
       "    <tr>\n",
       "      <th>0</th>\n",
       "      <td>India</td>\n",
       "      <td>India</td>\n",
       "      <td>234</td>\n",
       "      <td>[nyt://article/aeabc262-aeb0-5423-a7ac-8bb664c...</td>\n",
       "    </tr>\n",
       "    <tr>\n",
       "      <th>1</th>\n",
       "      <td>Maracaibo (Venezuela)</td>\n",
       "      <td>Venezuela</td>\n",
       "      <td>1</td>\n",
       "      <td>[nyt://article/42c0d0f2-ea62-5d2b-8eba-baa0418...</td>\n",
       "    </tr>\n",
       "    <tr>\n",
       "      <th>2</th>\n",
       "      <td>Venezuela</td>\n",
       "      <td>Venezuela</td>\n",
       "      <td>103</td>\n",
       "      <td>[nyt://article/42c0d0f2-ea62-5d2b-8eba-baa0418...</td>\n",
       "    </tr>\n",
       "    <tr>\n",
       "      <th>3</th>\n",
       "      <td>Israel</td>\n",
       "      <td>Israel</td>\n",
       "      <td>2143</td>\n",
       "      <td>[nyt://article/6393c6c3-0e1f-5494-925d-165e7aa...</td>\n",
       "    </tr>\n",
       "    <tr>\n",
       "      <th>4</th>\n",
       "      <td>Germany</td>\n",
       "      <td>Germany</td>\n",
       "      <td>241</td>\n",
       "      <td>[nyt://article/fe046102-78e5-530d-89e0-59ff09c...</td>\n",
       "    </tr>\n",
       "    <tr>\n",
       "      <th>...</th>\n",
       "      <td>...</td>\n",
       "      <td>...</td>\n",
       "      <td>...</td>\n",
       "      <td>...</td>\n",
       "    </tr>\n",
       "    <tr>\n",
       "      <th>3143</th>\n",
       "      <td>Yanji (China)</td>\n",
       "      <td>China</td>\n",
       "      <td>1</td>\n",
       "      <td>[nyt://article/ab3117c5-2380-5493-b5a2-9a275ff...</td>\n",
       "    </tr>\n",
       "    <tr>\n",
       "      <th>3144</th>\n",
       "      <td>West Side Highway (Manhattan, NY)</td>\n",
       "      <td>United States</td>\n",
       "      <td>1</td>\n",
       "      <td>[nyt://article/bcae809a-57ae-5b4a-a574-168659e...</td>\n",
       "    </tr>\n",
       "    <tr>\n",
       "      <th>3145</th>\n",
       "      <td>County Clare (Ireland)</td>\n",
       "      <td>Ireland</td>\n",
       "      <td>1</td>\n",
       "      <td>[nyt://article/441056ed-eb8a-5ad0-a0c1-a2ef99d...</td>\n",
       "    </tr>\n",
       "    <tr>\n",
       "      <th>3146</th>\n",
       "      <td>County Limerick (Ireland)</td>\n",
       "      <td>Ireland</td>\n",
       "      <td>1</td>\n",
       "      <td>[nyt://article/441056ed-eb8a-5ad0-a0c1-a2ef99d...</td>\n",
       "    </tr>\n",
       "    <tr>\n",
       "      <th>3147</th>\n",
       "      <td>Fort Lee (Va)</td>\n",
       "      <td>United States</td>\n",
       "      <td>1</td>\n",
       "      <td>[nyt://article/15ef03c9-295b-50e0-a0f4-64f9a18...</td>\n",
       "    </tr>\n",
       "  </tbody>\n",
       "</table>\n",
       "<p>3148 rows × 4 columns</p>\n",
       "</div>"
      ],
      "text/plain": [
       "                          place_keyword        country  count_of_articles  \\\n",
       "0                                 India          India                234   \n",
       "1                 Maracaibo (Venezuela)      Venezuela                  1   \n",
       "2                             Venezuela      Venezuela                103   \n",
       "3                                Israel         Israel               2143   \n",
       "4                               Germany        Germany                241   \n",
       "...                                 ...            ...                ...   \n",
       "3143                      Yanji (China)          China                  1   \n",
       "3144  West Side Highway (Manhattan, NY)  United States                  1   \n",
       "3145             County Clare (Ireland)        Ireland                  1   \n",
       "3146          County Limerick (Ireland)        Ireland                  1   \n",
       "3147                      Fort Lee (Va)  United States                  1   \n",
       "\n",
       "                                        ids_of_articles  \n",
       "0     [nyt://article/aeabc262-aeb0-5423-a7ac-8bb664c...  \n",
       "1     [nyt://article/42c0d0f2-ea62-5d2b-8eba-baa0418...  \n",
       "2     [nyt://article/42c0d0f2-ea62-5d2b-8eba-baa0418...  \n",
       "3     [nyt://article/6393c6c3-0e1f-5494-925d-165e7aa...  \n",
       "4     [nyt://article/fe046102-78e5-530d-89e0-59ff09c...  \n",
       "...                                                 ...  \n",
       "3143  [nyt://article/ab3117c5-2380-5493-b5a2-9a275ff...  \n",
       "3144  [nyt://article/bcae809a-57ae-5b4a-a574-168659e...  \n",
       "3145  [nyt://article/441056ed-eb8a-5ad0-a0c1-a2ef99d...  \n",
       "3146  [nyt://article/441056ed-eb8a-5ad0-a0c1-a2ef99d...  \n",
       "3147  [nyt://article/15ef03c9-295b-50e0-a0f4-64f9a18...  \n",
       "\n",
       "[3148 rows x 4 columns]"
      ]
     },
     "execution_count": 644,
     "metadata": {},
     "output_type": "execute_result"
    }
   ],
   "source": [
    "places_and_ids_df"
   ]
  },
  {
   "cell_type": "code",
   "execution_count": null,
   "metadata": {},
   "outputs": [],
   "source": [
    "places_and_ids_df"
   ]
  },
  {
   "cell_type": "markdown",
   "metadata": {},
   "source": [
    "## Group by country and chain ids of articles together"
   ]
  },
  {
   "cell_type": "code",
   "execution_count": 659,
   "metadata": {},
   "outputs": [],
   "source": [
    "countries_and_unique_ids = places_and_ids_df.copy()"
   ]
  },
  {
   "cell_type": "code",
   "execution_count": 660,
   "metadata": {},
   "outputs": [],
   "source": [
    "from itertools import chain\n",
    "general_countries = (countries_and_unique_ids.groupby('country', as_index=False)['ids_of_articles']\n",
    "         .agg(lambda x: list(chain.from_iterable(x)))\n",
    "       )"
   ]
  },
  {
   "cell_type": "markdown",
   "metadata": {},
   "source": [
    "## Remove duplicates from id list and count number of articles for each country"
   ]
  },
  {
   "cell_type": "code",
   "execution_count": null,
   "metadata": {},
   "outputs": [],
   "source": [
    "general_countries[\"ids_of_articles\"] = general_countries[\"ids_of_articles\"].apply(lambda x: list(set(x)))"
   ]
  },
  {
   "cell_type": "code",
   "execution_count": null,
   "metadata": {},
   "outputs": [],
   "source": [
    "general_countries[\"count_of_articles\"] = general_countries[\"ids_of_articles\"].apply(lambda x: len(x))"
   ]
  },
  {
   "cell_type": "markdown",
   "metadata": {},
   "source": [
    "## Retrieve coordinates for each country"
   ]
  },
  {
   "cell_type": "code",
   "execution_count": 664,
   "metadata": {},
   "outputs": [],
   "source": [
    "geolocator = Nominatim(user_agent=\"geo_lookup\")\n",
    "session = requests_cache.CachedSession(\"geopy_cache\", expire_after=86400)  # Cache for 1 day\n",
    "tqdm.pandas()"
   ]
  },
  {
   "cell_type": "code",
   "execution_count": 669,
   "metadata": {},
   "outputs": [],
   "source": [
    "def get_coordinates(location_name, country_code=None):\n",
    "    query = f\"{location_name}, {country_code}\" if country_code else location_name\n",
    "    try:\n",
    "        location = geolocator.geocode(query, timeout=10)\n",
    "        if location:\n",
    "            return location.latitude, location.longitude\n",
    "    except Exception as e:\n",
    "        print(f\"Error for {query}: {e}\")\n",
    "    return None, None"
   ]
  },
  {
   "cell_type": "code",
   "execution_count": 670,
   "metadata": {},
   "outputs": [
    {
     "name": "stderr",
     "output_type": "stream",
     "text": [
      "100%|██████████| 230/230 [03:49<00:00,  1.00it/s]\n"
     ]
    }
   ],
   "source": [
    "general_countries[[\"Latitude\", \"Longitude\"]] = general_countries.progress_apply(\n",
    "    lambda row: get_coordinates(row[\"country\"]), axis=1, result_type=\"expand\"\n",
    ")"
   ]
  },
  {
   "cell_type": "code",
   "execution_count": 672,
   "metadata": {},
   "outputs": [],
   "source": [
    "general_countries[\"outlet\"] = \"NYT\""
   ]
  },
  {
   "cell_type": "code",
   "execution_count": 673,
   "metadata": {},
   "outputs": [
    {
     "data": {
      "application/vnd.microsoft.datawrangler.viewer.v0+json": {
       "columns": [
        {
         "name": "index",
         "rawType": "int64",
         "type": "integer"
        },
        {
         "name": "country",
         "rawType": "object",
         "type": "string"
        },
        {
         "name": "ids_of_articles",
         "rawType": "object",
         "type": "unknown"
        },
        {
         "name": "count_of_articles",
         "rawType": "int64",
         "type": "integer"
        },
        {
         "name": "Latitude",
         "rawType": "float64",
         "type": "float"
        },
        {
         "name": "Longitude",
         "rawType": "float64",
         "type": "float"
        },
        {
         "name": "outlet",
         "rawType": "object",
         "type": "string"
        }
       ],
       "conversionMethod": "pd.DataFrame",
       "ref": "441b87ed-83af-4c92-a701-64b9fd5cc84e",
       "rows": [
        [
         "0",
         "Adriatic Sea",
         "['nyt://article/6c5919fe-452a-532d-8234-f698a33bc15c']",
         "1",
         "43.7021514",
         "14.6679465",
         "NYT"
        ],
        [
         "1",
         "Aegean Sea",
         "['nyt://article/a0eec7f0-3d63-5711-9700-9bce1b389aa9', 'nyt://interactive/6addaf57-b7fa-5d0f-af24-ec0c3e131acd']",
         "2",
         "38.06222755",
         "25.720588707973135",
         "NYT"
        ],
        [
         "2",
         "Afghanistan",
         "['nyt://article/afe74c10-e930-55fc-9186-2163146355b1', 'nyt://article/b35fed90-4f6c-5090-a650-c9b3416cfdb6', 'nyt://article/1f63edd0-84c8-5a7c-abf9-85d53a74592d', 'nyt://article/17ea0afa-d3ea-55a2-85a8-8799db99297f', 'nyt://article/78d591a3-fb7a-5b66-9a94-77e03dacb73d', 'nyt://article/22c77345-c8fc-54b8-8044-881e946adaf0', 'nyt://article/d14635d5-9d12-58c0-91a5-36a9eddb8fad', 'nyt://article/d3fd6ae0-dee3-53bc-89cf-20ec83c40234', 'nyt://article/05f83232-eb7e-5e3e-a764-54fe54003048', 'nyt://article/743db14f-34bc-5234-8e83-636c558578cc', 'nyt://article/d0c139cf-6af8-54b2-896b-afebb7e42e31', 'nyt://article/68d4167f-e5e5-5cb2-aaad-08de77f1e02a', 'nyt://article/3ba1a707-be08-5a83-8d18-5d5341bf3b7a', 'nyt://article/7f712518-1080-590c-818e-3f183d5ab9e2', 'nyt://article/027c7bf8-68aa-515e-95a6-f5eea8048f65', 'nyt://article/0854fc1c-6794-5407-a410-c4e54329fd73', 'nyt://interactive/fda805b2-2b2a-51c0-b44b-0a6a357a30a4', 'nyt://article/296fab0b-6def-55d1-931b-e61f385d40bc', 'nyt://article/aef01dcc-7440-5174-8f8b-dd5b813e2d43', 'nyt://article/85b88725-7f8f-5058-98da-25161dabd136', 'nyt://article/c96f4245-1467-5b45-b131-fa10275af954', 'nyt://article/bf24d7e3-26df-577e-8327-5ad156769f42', 'nyt://article/fa3698f7-b0e6-55dc-8503-bbcc04e488c1', 'nyt://article/c47b9632-5b0a-510d-8386-74c70370438b', 'nyt://article/fa4f938c-3999-5899-9b9a-87dade1e9109', 'nyt://article/c626e64c-ed66-5d21-ac87-486bc0da2be8', 'nyt://article/32b2f331-8909-5df2-b55c-c0b2e563860d', 'nyt://article/1eddbd46-8c2d-5754-8440-bb35e43e39d0', 'nyt://article/c5a3a331-6d04-585c-b237-505d9fb9f508', 'nyt://article/fbfdc8b5-31b3-5dd8-a1ae-fe3f871b745f', 'nyt://article/518634fb-02c7-5186-94e2-c9a6b42e410f', 'nyt://article/d628ac24-8c04-5861-afff-3f2bb873742b', 'nyt://article/a0c9f4df-26d4-57b3-917f-4b7c7febe0f5', 'nyt://article/f9386ae2-3ae0-5baf-8064-919dfdbc9e8c', 'nyt://article/f36ce919-1ecd-5f6d-8748-40037f0c6a8f', 'nyt://article/46cb81ae-222b-5033-b03f-cb208d91cb72', 'nyt://article/4ba0b180-46bd-5519-b2f2-d2c0f20f756b', 'nyt://article/f115bed1-d4ec-51a9-86c5-4d32f76e9350', 'nyt://article/1ea25afb-f7f5-5873-8da1-5fbdba9ca782', 'nyt://article/9f42643f-3a1e-58b0-8b05-471e25cc5fea', 'nyt://article/508aec2b-c1c4-573b-b295-91f4d8364552', 'nyt://article/32d37cf0-7c12-5d3b-ae4a-f031d0ca961a', 'nyt://article/f0883555-c784-56cd-8272-ba1113b1920c', 'nyt://article/224d3b62-d489-5a2f-91c0-6a46346661ee', 'nyt://article/5fe584a4-4686-5efa-8baf-67778ace59e7', 'nyt://article/18ed351f-33f4-5712-aea6-1b69cf8b71ca', 'nyt://article/77d3ba07-71fd-55e9-8260-077d40e7e7b0', 'nyt://article/19f90532-f2bd-5a00-9df4-72159380cc93', 'nyt://article/8481a933-d337-5c0e-8855-731556cffe07', 'nyt://article/6ec05f2b-a2b3-5190-b9e4-3bed75594a0f', 'nyt://article/5838cab0-6078-5c8d-8c25-78f9b152d105', 'nyt://article/620575aa-9d01-5858-abff-b88aa5a78c27', 'nyt://article/c534fef0-8bda-59a7-b7fe-14ee196e4e71', 'nyt://article/0bbcc209-db15-5ed7-afa0-c8de30a1b0d8', 'nyt://article/78b8c3a3-7029-557d-a8a0-1e2567a4e993', 'nyt://article/c9a7aa82-bfba-57ce-8345-2fe996c2f588', 'nyt://article/f03fae5a-e626-5e9d-b0e2-4b339c9b0bed', 'nyt://article/b1179855-fe4a-503b-9086-32a9d44ba791', 'nyt://article/eb2e5966-5909-5229-aeb5-e1c1adf0ce4c', 'nyt://article/e5652440-552d-5b51-abd0-643d43eac6c8', 'nyt://article/7d382142-6b6f-551d-8484-6e35963ad993', 'nyt://article/44a10f67-d02c-56d0-9f9e-7da36dbd93ba', 'nyt://article/786b0740-8ed5-5bea-a353-056203015bf2', 'nyt://article/692aefda-1ac4-5507-9b37-9aeaf74f9bcc', 'nyt://article/e618787b-82dd-5aad-995f-2d34b7bac54f', 'nyt://article/f44d83b1-2253-5fc9-b71e-b66295c7cc8e', 'nyt://article/c93658c8-63ea-562e-896b-a5a3fd1b9ffd', 'nyt://article/b76ea1ba-2191-5f8d-8758-f125e627cda8', 'nyt://article/fd15543c-174a-5c4d-9628-522e0e9a6768', 'nyt://article/f341cceb-41b8-5e13-b4c3-7affb67add4a', 'nyt://video/29e82c59-3302-5369-903b-4a3cb55720ce', 'nyt://article/6f7e716e-6df6-598f-a673-d389d1642f8c', 'nyt://article/f6178677-9c32-5afa-b988-01d15ea68899', 'nyt://article/76935c0c-a9ed-5495-aa1e-938494ed1a7a', 'nyt://article/67761cbe-2ec6-5e32-b6f6-6e6a5a4eabee', 'nyt://article/4487764e-f7d2-5a32-aa38-fbd96d8e4dd6', 'nyt://article/6228d681-5c79-53b9-b6f5-e585b587346b', 'nyt://article/c2eb44e1-4e49-5cb3-ba8c-1953156a9752', 'nyt://article/2f67e84d-d1c4-5419-b780-b0108851a334', 'nyt://article/818a8358-54bf-59af-b02b-ab789f7753b5', 'nyt://article/6d8cd85e-52d7-5ea6-975d-431a232b0dd3', 'nyt://article/f7b22ddb-7134-5785-8c9f-92462d75dd58', 'nyt://article/f3ffe4d3-01d7-5464-a725-6f402e4384a8', 'nyt://article/c7e16118-94fc-55a9-90f6-91271aa69c8e', 'nyt://article/0537b6b9-571a-539b-af8c-fc72f2873096', 'nyt://article/40316d75-4573-5cb4-97b5-d6c4968d4fce', 'nyt://article/7b8fbf6e-0c80-52bd-977b-e38aa98ca567', 'nyt://article/7d2a7a01-0235-5e55-9393-79ed5a8837a3', 'nyt://article/c20000bf-0d4e-5023-9e9f-8e65e3d98cef']",
         "89",
         "33.7680065",
         "66.2385139",
         "NYT"
        ],
        [
         "3",
         "Africa",
         "['nyt://article/c2ae5cf2-31fc-5962-98b0-53d4cd17d520', 'nyt://article/f53c045c-2311-55c4-9658-01bb0ae3311e', 'nyt://article/047e6843-2d41-5ac8-beba-3d6043aabe0d', 'nyt://interactive/60f082b7-0030-571e-a0a8-9cb88f5ba109', 'nyt://article/56d1f933-062c-54c1-9f34-017323358de6', 'nyt://article/bd0dd243-f788-55e5-a3f3-2b77b4708d68', 'nyt://article/61d3e7cc-f050-53e0-b15d-a323d82f05fe', 'nyt://article/6fadd6f6-536f-538b-8c4e-08f001b3a2ce', 'nyt://article/3d011bc2-3b5e-5ead-a2a5-58cc33e701ad', 'nyt://article/42a46de1-94a2-586b-92d6-08326bd66f87', 'nyt://article/469a02da-7113-5a0e-a18f-d2f522a4c2af', 'nyt://article/0fde90a2-3555-509f-9f1f-26892977d8ac', 'nyt://article/c86bcf7b-7170-56f9-8404-65c13a813a79', 'nyt://article/e00ebadf-3c04-5e16-9dc4-36303c378e41', 'nyt://article/a21ec7b3-a1e6-5aae-9498-dcf0f6736877', 'nyt://article/278615cf-39bc-5967-965d-9db5c5ea3315', 'nyt://article/09ee7f81-a9b9-5fe4-a78b-da4d4e7b495d', 'nyt://article/e88d421a-f191-582a-83d1-7cf8493b6987', 'nyt://article/68ed5ab0-0f9d-55a4-a800-71b89bbcb28f', 'nyt://article/1daf3f01-1282-5ee1-b15f-33d4d2ed1c6a', 'nyt://article/e4d46fbb-0e78-5c0f-8bbe-9caa617950e5', 'nyt://article/b472a426-1803-590b-ab5d-a81aea32a425', 'nyt://article/cd56dd44-42f6-5c0f-9d2d-6ae931e2d97f', 'nyt://article/1718e52c-6ac5-5b5b-91e9-9e7d26b2de6c', 'nyt://article/780455ce-e608-55c8-a6ec-ab70ae063ffa', 'nyt://article/63d78256-7141-57e3-a68b-d505a4f59337', 'nyt://article/7564d810-e528-5cd2-b6c9-39811c950316', 'nyt://article/2902de89-7c5b-55ba-83fd-b7bc854f632d', 'nyt://article/52534b46-8ecc-5522-8a19-2c3dee24ec73', 'nyt://article/a9962952-192e-5563-9f98-23b0762e03c4', 'nyt://article/741341eb-23bf-5c3a-8fe9-d081f93d4b49', 'nyt://article/02f25d77-89a1-5425-b9e1-4327fa80ce37', 'nyt://article/eb3c83f5-72af-5bb5-89d5-e228241da67b', 'nyt://article/a574a94c-5c5c-5358-9a91-cd7d6eca9dbe', 'nyt://article/bd55f4ba-65f2-543d-9b82-cdd90befdbbd', 'nyt://article/baf2cdba-f056-5544-91a2-ef5dc37bad1d', 'nyt://article/92330159-766f-5471-a44e-5183bf9c0b20', 'nyt://article/b82f9259-712b-5f24-ad19-c7c4641782b8', 'nyt://article/8e9c68f9-7b15-536d-a7c7-9b34671ab74b', 'nyt://article/c5ff5497-b897-51d8-ac73-b2801f7f720e', 'nyt://article/115ae2a3-1305-5cf4-bacf-a292dd0026fb', 'nyt://article/12bb04ae-3579-5e7f-9990-4a2be9ec311b', 'nyt://article/8d866937-2318-51bf-869a-456be1f2a7b2', 'nyt://article/cae1375e-ed0c-5637-8ea3-dbbd109743e6', 'nyt://article/f52501cd-277a-5275-865e-0a59491c2f06', 'nyt://article/70884c44-d53c-546f-9127-a06965a947f1', 'nyt://article/99085047-2746-5ccf-b239-fd601fb6ac0c', 'nyt://article/2028ab73-b945-5eaa-85ae-58945f6df85f', 'nyt://article/6aefe6c3-ed07-5f7f-bd9e-b019f33fe902', 'nyt://article/95dc143b-84d6-5407-af03-84d244885af5', 'nyt://article/6e1fb917-1bf0-5d91-accd-97d7cca64cc2', 'nyt://article/e0c56701-55d1-56f4-a1aa-ef9972d01ccc', 'nyt://article/e4c8f782-713d-524d-839c-27ac65c932c9', 'nyt://article/37b141f4-57e3-5d4a-bf4c-56347d70a5ad', 'nyt://article/f2d8fdc5-e573-553b-90d7-89dac4afd5ee', 'nyt://article/897a0e53-6076-5a98-bb28-4d7d3df155a4', 'nyt://article/16464684-4c6b-5a60-9440-dac0874f2285', 'nyt://article/1af67bb5-b8a4-5149-9e04-1f7ae4d2ffe6', 'nyt://article/c60b81b2-f8c1-55c8-a87c-e8b51264fb10', 'nyt://article/7c222beb-de75-5309-a5d1-e06d0a1d4693', 'nyt://article/67c33467-d217-58ea-957f-08a6fac7a4a8', 'nyt://article/f99ea5a2-b950-53f2-99f7-5ee1473fed0f', 'nyt://article/1a458b6c-557d-5d53-be61-14baa3c0e148', 'nyt://article/3541e1b8-3fd1-59a3-ac81-b7bb4300efe8', 'nyt://article/2cead087-fe59-5f15-98cc-49949e08256d', 'nyt://article/9550ed3b-d19a-5dfb-81b8-fa5b6be9c404', 'nyt://article/d01dffe3-9c74-551b-bbbf-eac1e1c17319', 'nyt://article/6f98bca6-f886-5b1e-bc0e-60f149f992cf', 'nyt://article/2277a789-ee94-54d6-b682-171604883d76', 'nyt://article/a7da46b8-0edc-5f32-be69-cb07fd5bbf4c', 'nyt://article/af799cee-5530-508a-9151-4ea8953969ad', 'nyt://article/aba101ee-b370-5aa5-bc83-d9e347daa2de', 'nyt://article/d2bd66b9-b44d-5d97-98c7-b558637439ad', 'nyt://article/29bd529f-432a-5717-ad45-fe2ff4789bfe', 'nyt://article/ebd9cd3a-f412-5583-a3d5-7c4058d8f7b7', 'nyt://video/65648182-015d-5cb4-91d6-7c9b9de8ac19', 'nyt://article/2be5703b-af16-5aff-83f5-bea3e04e187b', 'nyt://article/261dc75b-e9ba-583b-89ab-2976430167a7', 'nyt://article/22ae90a5-47fd-571d-8389-0df2021b253f', 'nyt://article/761bb072-168b-5772-b035-29445430eafb', 'nyt://article/349ee346-09b0-5114-938b-6c471d0a9aa1', 'nyt://article/21c8f051-1de8-59cf-9c04-b3a1ac116289', 'nyt://article/7b8d5bef-f808-53f3-bd94-d305faae069f', 'nyt://article/c9795436-ab8b-527f-ab17-6181c26b44cf', 'nyt://article/09ffb689-5efd-5c3a-b678-7c37180810c0', 'nyt://article/a7aeec8f-6abb-595d-bceb-08e77159f3c0', 'nyt://article/581452e5-8317-5dfd-b49d-328fabea1e95', 'nyt://article/4b02bd92-7924-5305-89a2-7ba769c9768f', 'nyt://article/d41f915b-24b5-50ab-8516-e339cc8cc3ed', 'nyt://article/bb0312c2-aa59-50e1-ad3b-86d924cdc54e', 'nyt://article/2450e037-f76d-51dc-8e60-9977062a7e0d', 'nyt://article/d2c6f481-0408-57f2-a871-e32dcc120554', 'nyt://article/db8b488a-2f94-5303-8491-9f263f4a14fa', 'nyt://article/b8004aeb-98a5-5078-9924-844a259dd9e8', 'nyt://article/e7fe4a3e-ef01-5c90-b572-7c22a4e7784a', 'nyt://article/ee54cef2-ec4d-54e2-a413-0a534473d33f', 'nyt://article/74d484af-79a5-5b2c-8f07-5b8f014a4bf2', 'nyt://article/4ff0123d-daed-5869-94a7-48c73ddf6491', 'nyt://article/53118789-4397-5531-89b9-9058ba300f0c', 'nyt://article/23b21af2-b2fa-5763-8f73-eba2f4d72e55', 'nyt://article/1e6e59ac-8865-5109-931d-6c231cdeef2d', 'nyt://article/79916a15-0c96-5eb3-88e5-9c174d2bb4a3', 'nyt://article/de5d2cfa-6811-510c-aded-0a3c48c11659', 'nyt://article/0f246c7f-0651-584f-8f4e-7c4d7a26675e', 'nyt://article/b1d10a0b-0958-5a2d-932a-575ab2449d7a', 'nyt://article/4632f1ee-5849-5296-baf0-6d59c6082827', 'nyt://article/3bfab5b4-7b6b-5991-84ee-bfff92f65861', 'nyt://article/0bfc1f4d-f3b6-58b6-b8fd-392a0beb93cf', 'nyt://article/dba9aa49-b2da-56de-84b9-c5e884dcfdb2', 'nyt://article/6af3ed7b-6a79-55ac-bd4c-0cb3b0c33c40', 'nyt://article/a3fd08c1-e5b5-5902-8aef-7c9b324858ec', 'nyt://article/86adb88f-b177-55d5-b0bf-6f9391303ea7', 'nyt://interactive/ae33a77a-7002-542b-af09-9fb0ece51b01', 'nyt://article/1833a84a-13c9-5d3e-ac8d-e7d75a7c0288', 'nyt://article/d12e3ef2-0583-585c-88a6-e57e084f643f', 'nyt://article/03b24e44-d933-5256-ace6-7bedcf5f8c28', 'nyt://article/4cef5b08-76f9-5e21-97b5-f827281cf318', 'nyt://article/3d0a2434-05b7-5d96-a800-e28b6bc6b071', 'nyt://article/9153fa00-7519-5e57-bc09-1147b87c073a', 'nyt://article/aecbcefc-2e93-54a4-8b76-dd6122d4345f', 'nyt://article/1dfe1dd1-4683-5496-b7d8-ac104d563057', 'nyt://article/f6923802-fb06-5bf1-8ead-a4e239606616', 'nyt://article/03a99a6e-03a0-5090-9b15-24da536dba2a', 'nyt://article/6115348c-8c09-5693-9c59-f38ec9b2ac35', 'nyt://article/7c00adaf-e22c-58c2-b366-ba96cf84ce87', 'nyt://article/b31bf7b8-fd6a-5c88-b518-a92505671024', 'nyt://article/5df94182-64b8-5f64-9cec-1bc3edc769c0', 'nyt://article/7da9840c-fd51-5ca4-992c-2aaaa5d16b3e', 'nyt://article/30ac1edb-2b1f-5a38-a14f-39273ba9cb81', 'nyt://article/bf77cc3c-2d4c-54d9-8ae9-e8dfce0fb9f9', 'nyt://video/de9700e0-96c6-55de-8b39-64a5831607cf', 'nyt://article/34e514ce-6ebc-58f1-bf4b-d750eadc447e', 'nyt://article/83613aa0-1347-515b-afdc-1e458d87b7c1', 'nyt://article/a1e579fc-27a3-546d-b5cd-47ca1b5e9483', 'nyt://article/12745a73-8eee-537a-b1c2-d7c566ad0d44', 'nyt://article/1a870742-7dc9-5dff-be4d-eb18e5fe5256', 'nyt://article/db9bd694-eeef-5b7c-90d2-339096f5e59d', 'nyt://article/36e8adce-7862-5060-a20d-0bde50e726e5', 'nyt://article/1eb31c50-94d2-587d-b384-984b391b3735', 'nyt://article/60598b3b-946a-5b6d-b1b3-6aeab4162e18', 'nyt://article/8212b465-b268-54a3-8280-7d1d8d2071f7', 'nyt://article/887c59f5-0b74-52a8-9883-c449ff88fe64', 'nyt://article/1d72cbca-622b-5cd7-8153-d8e27af1c606', 'nyt://article/0318503d-be6a-5840-896b-c4fe42835c5a', 'nyt://article/08943ce5-2595-55a9-9fbc-f621a23621f2', 'nyt://article/96a554d7-a595-551a-a136-e693588841a0', 'nyt://article/c7b2361f-9a49-55cf-9549-031b1ac2722b', 'nyt://article/319ca53c-7212-54d1-8c16-e1bef283a28a', 'nyt://article/3730b3b0-c048-55cb-812c-11e45922ec8f', 'nyt://article/238e3548-c965-53ec-b927-435801b96289', 'nyt://article/da198874-4d46-5562-9764-177b80cd0b7b', 'nyt://article/f814e44d-c0ea-5658-b338-9952f1f123a1', 'nyt://article/631951aa-c4f8-5e68-bacb-4c46250dc329', 'nyt://article/8efa8276-dbb0-55a7-a656-c56a4e4d328d', 'nyt://article/b76ea1ba-2191-5f8d-8758-f125e627cda8', 'nyt://article/acd20332-7d58-52b0-af07-1e411c87bd05', 'nyt://article/a1c6563a-fb87-592b-bbf0-fe2ebc9e88b1', 'nyt://article/c272af05-a534-5fed-8c81-b5f193e467a9', 'nyt://article/559d67aa-d4d3-5fe5-8b6d-31a2d87cb016', 'nyt://article/d187d86e-a1f5-52ae-ac10-a27d8ad0dcb0', 'nyt://article/f42b7506-616d-545f-b15c-6fa62717700c', 'nyt://article/95dff9e4-43b7-5011-92b4-a66c8aff11f3', 'nyt://article/22edf542-d819-5470-874b-7bd9e3ebff83', 'nyt://video/bc445114-120a-5b39-aa31-8b201851882a', 'nyt://article/255c6277-c3eb-5432-a2db-ae1e035a7180', 'nyt://article/00280f0b-a8cd-54cf-9d70-adcf0209c281', 'nyt://article/287d15e9-b5bd-5eb3-9d19-a4369c8f705b', 'nyt://article/ac5369ab-9399-5d35-8562-20935e7d7e1c', 'nyt://article/b792e806-eb4a-5489-b55e-3d9ed9f2301a', 'nyt://article/244cb9fb-1377-51ff-8221-63c988ea0b66', 'nyt://article/722a8687-4a4a-53d1-8356-d706c5104b93', 'nyt://article/5fa2ec03-ba22-5aef-a8dc-c6c9696687d2', 'nyt://article/9e14102e-6776-51b5-8bcd-807957c63b32', 'nyt://article/9b1d1ec5-5ac4-5f93-8013-335e04ec9de7', 'nyt://article/a01b65da-3778-5be2-9fed-01d6b83456dc', 'nyt://article/f32ede2b-e191-5498-b2a2-ddce162b78e5', 'nyt://article/2b997912-aa85-5027-b47d-75a03dff5e20', 'nyt://article/e31e3a66-279f-5a10-8f7b-5292aaeafc62', 'nyt://article/1b8fe781-3948-59f8-98df-602b7a9b43d8', 'nyt://article/415aea4c-2180-5418-ba50-e6bad35343b2', 'nyt://article/54cf6fad-d579-5d34-ae9b-da8391ac37b0', 'nyt://article/2f41cb12-b6ad-5c03-92a7-33c7b348521c', 'nyt://article/af22806c-5e25-566e-988b-541a5ef200e4', 'nyt://article/6a7701e1-8497-56c5-941a-b60f7bb87839', 'nyt://article/1f6e5718-307d-500c-adff-ec3e3d61bb12', 'nyt://article/69a3d453-aed3-50b2-a7d2-4651a47fafdf', 'nyt://article/605d7f5c-bbec-5059-86a6-7d647a8ce7a5', 'nyt://article/c5fbdca0-e1f8-53a4-a6c7-33fddc6ea359', 'nyt://article/a988d12e-2d3e-5812-8e59-4296e40b202f', 'nyt://article/10d0ab4c-99ab-5790-a1ae-ba8e256bc8d2', 'nyt://article/d4736f76-795c-5ae1-b47d-6498bf208eb1', 'nyt://article/bcf985cd-fd32-5790-a806-14aec17c69b7', 'nyt://article/0f142927-e1b8-5e2a-bdef-16baf1605898', 'nyt://article/e653d41b-9b52-56cb-8ec5-9b32895e1e53', 'nyt://article/780eb804-a9fc-510d-a8cb-d756c7c2e770', 'nyt://article/f0140bc7-842a-55f6-a0b0-2993e7c1dd6f', 'nyt://article/2124da13-72c9-5ec9-a39f-cf25256822d9', 'nyt://article/f8353b01-d88f-5013-9b1b-1ced66fc5f42', 'nyt://article/53f22f58-2801-575f-8668-56a052078ce4']",
         "199",
         "11.5024338",
         "17.7578122",
         "NYT"
        ],
        [
         "4",
         "Albania",
         "['nyt://article/68d601c6-5e2e-5646-8c14-c73d2ef5085c', 'nyt://article/f49db6ce-476b-51b0-99a7-76006cd4a49f', 'nyt://article/5f3da01e-323c-5b51-a9b4-1e366ca4387d', 'nyt://article/92b0cac1-e2be-5a3e-ae7c-551df5ec6b11', 'nyt://article/15f3afe3-9972-586e-aa7c-0175ec333618', 'nyt://article/10fad6f0-3d46-58ea-993f-e72f0a7b493b', 'nyt://article/c81db80b-5820-56a0-b426-1466f04cc2a4', 'nyt://article/17de74c5-18b4-586e-bdb3-82a369a8a50a', 'nyt://interactive/d5d460ca-b437-599b-a886-ec5fc49a6fb0', 'nyt://article/136bb0d6-4b71-5206-9689-0e34310b709c', 'nyt://article/be52e475-dfa4-5634-bdd5-fdf4d2b69be0', 'nyt://article/fd3c8744-b72a-56d0-b29c-ef4f292d731c', 'nyt://article/59eb4293-7d0a-558f-9c26-d85c3fb5741f', 'nyt://article/ad206b8a-4281-589f-91ba-f9849978c204', 'nyt://article/ad09c31e-d0a6-5487-83f3-eb9972ed073c', 'nyt://article/13c9d470-bca8-59f9-925b-072292e2352b', 'nyt://article/44fa3867-f97c-51a3-ab48-0e8d7efdbb1e', 'nyt://article/bcf2baf9-10e4-5340-a5b4-bb14266e6a27', 'nyt://article/2c538877-45d0-5a80-872a-728972f0c999', 'nyt://article/380a2ab1-a034-554f-946a-b25fa746ae03']",
         "20",
         "5.7587654",
         "-73.9151617",
         "NYT"
        ],
        [
         "5",
         "Algeria",
         "['nyt://article/5abcdb10-f0ea-54bc-90e1-78d0a2b33ecf', 'nyt://article/7d1db0bd-0a23-5438-b13f-4766a97fb06b', 'nyt://article/c69238f9-653e-5c4b-ba49-d9b2e3d8b2bd', 'nyt://article/fd855963-a0f8-5535-9255-1ca4576d60a6', 'nyt://article/b9c4ebce-a56a-58f3-bdb9-62179c7029b4', 'nyt://article/10d2b94d-28ba-56d0-8d03-525b1906293b', 'nyt://article/ee4e0fa8-7f1e-52e0-823a-a95c4ecc15fe', 'nyt://article/1cd65247-4ab7-5565-bb58-74689c599ac7', 'nyt://article/fed7e561-15dc-5cb7-870e-895125df9acf', 'nyt://article/28152675-18ca-5058-9e7a-0051f44f9b50', 'nyt://article/2f548189-1651-568e-9dd7-e7f9a68731b3', 'nyt://article/8b749158-551b-5a43-8209-e683c4490bae']",
         "12",
         "28.0000272",
         "2.9999825",
         "NYT"
        ],
        [
         "6",
         "Angola",
         "['nyt://article/03b24e44-d933-5256-ace6-7bedcf5f8c28', 'nyt://article/b31bf7b8-fd6a-5c88-b518-a92505671024', 'nyt://article/2e185f07-5b16-56ff-995b-212c0018e589', 'nyt://article/74d484af-79a5-5b2c-8f07-5b8f014a4bf2', 'nyt://article/d96e87c8-50e5-5a24-b29b-272a018d723b', 'nyt://article/ac5369ab-9399-5d35-8562-20935e7d7e1c', 'nyt://article/37b141f4-57e3-5d4a-bf4c-56347d70a5ad', 'nyt://article/4b02bd92-7924-5305-89a2-7ba769c9768f', 'nyt://article/559d67aa-d4d3-5fe5-8b6d-31a2d87cb016', 'nyt://article/f6923802-fb06-5bf1-8ead-a4e239606616', 'nyt://article/2277a789-ee94-54d6-b682-171604883d76']",
         "11",
         "-11.8775768",
         "17.5691241",
         "NYT"
        ],
        [
         "7",
         "Anguilla",
         "['nyt://article/001ebcf5-8b57-57d7-afe3-26bb3a2e4f1a', 'nyt://article/f6c99838-b3b5-5508-a14a-357cb7c42d92']",
         "2",
         "18.1954947",
         "-63.0750234",
         "NYT"
        ],
        [
         "8",
         "Antigua and Barbuda",
         "['nyt://article/3cf30e2e-4bf3-5f1f-af6f-aa9773efe580']",
         "1",
         "17.2234721",
         "-61.9554608",
         "NYT"
        ],
        [
         "9",
         "Argentina",
         "['nyt://article/34782eaa-d21b-5d6b-a93a-89c01bb9eeb7', 'nyt://article/f7937c5e-ddc5-5654-b164-b46dd6cdd82a', 'nyt://article/f0b09808-e907-54bd-a1c2-bac77b4251fd', 'nyt://article/267c0ec5-75a2-57fb-89df-4fd23864c464', 'nyt://article/5a9a074c-cc81-50ec-9f0b-1db2d8fb80f3', 'nyt://article/cfc01a13-3a0f-5cbe-b7fb-8a0a75aa2e7b', 'nyt://article/4c187095-1104-5fdf-bbc3-a910372322ad', 'nyt://article/00e0f356-2373-5e9b-bb2b-81a6336637c9', 'nyt://article/31999821-d491-5371-beda-da668f7f26ac', 'nyt://article/2ee149a0-7bcf-5125-9d4d-8832a20740ae', 'nyt://article/f13f2793-c067-551c-bf53-9cdeac32662c', 'nyt://article/3818d5f4-005b-5616-afe6-9b8db158f09f', 'nyt://article/5d1a570a-0696-5b4f-be60-f69d52a1d879', 'nyt://article/3aaeb7b3-1a33-5168-97b1-1ca24cf1f118', 'nyt://article/75a864c5-04f2-59ce-95ff-4615065d9c00', 'nyt://article/7986a013-d6b2-5c7e-99e8-df71a6c61543', 'nyt://article/1d2d3229-b186-5df5-b756-7e500c6668d8', 'nyt://article/a99dfc90-8ec9-5ef3-9dbe-bc857998e1e2', 'nyt://video/305af542-d1ec-591e-a15d-efe50ac80e9c', 'nyt://article/287d15e9-b5bd-5eb3-9d19-a4369c8f705b', 'nyt://article/7e9536c8-c196-579e-89b4-17bb11f1a6b9', 'nyt://article/475ea9ff-e236-58bd-bfdc-49dfaae0d831', 'nyt://article/c5f16ceb-bd2b-5cec-9bf3-0ed54688258b', 'nyt://article/d27e0023-27e9-5a8c-8587-801d82bcb130', 'nyt://article/5b50499e-5f14-5ecd-a041-f84fcdea3f60', 'nyt://article/6dfa8a78-2369-5d1a-b7e4-d43a8dea481f', 'nyt://article/aad53d3e-9be5-535d-bf3a-2bf6928ebb12', 'nyt://article/9946f1a9-a0cc-51e0-bdd0-b8f9f8cb3d06', 'nyt://article/2b710b52-6468-50b0-ac03-c9fcb13b5372', 'nyt://article/4df073f4-1596-5562-aa78-07ec712dc7be', 'nyt://article/a02da02c-b650-558c-bbf3-8df0b92a66a0', 'nyt://article/4c6f979d-2a8f-59ad-9b08-36dca4221207', 'nyt://article/a68be4e5-8037-5573-a0c1-5190126401d1', 'nyt://article/4fef2cc5-0b94-5b17-8883-79246953c5f9', 'nyt://article/221939ef-96f8-51ee-9c87-65d2d5981c3c', 'nyt://article/b422f862-8d0f-5eca-908e-8d7d08b1ec07', 'nyt://article/74baa352-8b59-5dcc-8860-e32fec0b62bc', 'nyt://article/e4134b26-a1be-5f8b-9d47-eae4a67a23ef', 'nyt://article/3d67c170-96cb-54cc-8b42-7845902fdfcb', 'nyt://article/8cfb8494-98c5-5571-8e6c-bcbbe1ebcc16', 'nyt://article/1ea6bcf2-2f27-5f75-aa3b-fd4046b44675', 'nyt://article/b9a303f3-30f8-54a2-b832-08208d450b40', 'nyt://article/90e7e151-69bb-5749-a07f-d18f9ccbe36c', 'nyt://article/e483708c-0316-5b43-9b92-30a2a91e8fef']",
         "44",
         "-34.9964963",
         "-64.9672817",
         "NYT"
        ],
        [
         "10",
         "Armenia",
         "['nyt://article/75a6b57d-c8f0-5902-bc26-bdc47ffe65de', 'nyt://article/6d2cecfc-ce5c-52c4-af05-39822d596bf6', 'nyt://article/aa53562a-37eb-5ead-8519-ca910628a9e2', 'nyt://article/2c4fcfe0-4152-5915-8da9-ff3f6df3f13d', 'nyt://article/cea90935-2c07-55f1-81af-32de2c80925c', 'nyt://article/3c00ea5b-79a6-5dc1-bf9b-0736efe212a7', 'nyt://article/f9386ae2-3ae0-5baf-8064-919dfdbc9e8c', 'nyt://article/cdd5b359-8961-52ac-86d2-4d9c675b224d']",
         "8",
         "4.536307",
         "-75.6723751",
         "NYT"
        ],
        [
         "11",
         "Atlantic Ocean",
         "['nyt://interactive/7db7a662-415a-5f69-818a-b54b2c71472a', 'nyt://article/caf98741-73b7-5dc0-bfc0-9314490fb22e', 'nyt://article/dcad3d9b-255f-521a-8294-b44b93009dcd', 'nyt://article/3fe933dc-e648-5e5a-8a53-5efaecec3d72', 'nyt://article/13ff14d8-10c8-54df-87a3-f4d094382aac', 'nyt://article/ca141b33-4621-541c-a59e-3860e5487db2', 'nyt://article/a2d72927-aee9-54dd-a735-542ea8cab7f8', 'nyt://article/263d8349-38f5-584c-b13b-935d0c778739', 'nyt://interactive/eaf9bafe-7188-5b9b-975f-2985d7da6e59', 'nyt://article/6dd8802d-fd2d-5e65-bb10-88359f8fe1de', 'nyt://article/770e4237-53f9-5491-860d-80a977088d50', 'nyt://article/c0f3bb31-eef6-502b-99e3-ab60aad7cae7', 'nyt://article/272f90dd-396c-5fb6-aff6-5df1dfdff513', 'nyt://article/5b4cdeca-c115-510c-8498-c0d6735aa41c', 'nyt://article/97b4dda5-70c8-5b3f-9742-d4822f210754', 'nyt://article/09ffb689-5efd-5c3a-b678-7c37180810c0', 'nyt://article/cc5697ec-c716-5058-a6c0-2562d2723803', 'nyt://interactive/891cc563-5104-528b-a459-d82b3b7822be', 'nyt://article/cae1375e-ed0c-5637-8ea3-dbbd109743e6', 'nyt://article/ad3e787a-754c-51ca-b606-132d5b1f3f3b', 'nyt://article/3f1e157d-c5c6-5b73-a440-21b65b99e965', 'nyt://interactive/96205d10-5673-56ef-8222-d191e2d73b12', 'nyt://article/4f888723-08c3-5ea1-bff0-f75243b8498e', 'nyt://article/225bee71-36c6-5d17-95dd-3cc8e6b2f58c', 'nyt://article/c11ec4a5-7b2b-5667-aa68-10804f13ae49']",
         "25",
         "13.581921",
         "-38.320312",
         "NYT"
        ],
        [
         "12",
         "Australia",
         "['nyt://article/9bf280d7-f0d6-5430-b828-cec0513e8c0c', 'nyt://article/2b3e0c2c-ccc8-5390-baa2-1c2256bd7504', 'nyt://article/34f1b048-9437-54b5-9f62-e4f4174902c7', 'nyt://article/8bbcb1f4-fae9-5bc1-906f-9c1824c3e4b3', 'nyt://article/51f500b8-a1cf-54eb-8475-f0e432a25fee', 'nyt://article/9f3c17ce-c610-508a-bc43-920f5d3848ea', 'nyt://article/428a36ff-3d0c-5b52-b36b-8b1579756c9c', 'nyt://video/359ed06d-e7da-5737-a242-9d6ce247f411', 'nyt://article/3f6e758e-6689-5c6a-99fc-5ae62daadea0', 'nyt://article/bbbe8d7b-b00d-5365-b841-c8a8389654e0', 'nyt://article/17ea0afa-d3ea-55a2-85a8-8799db99297f', 'nyt://article/b81ba4da-95ac-54c7-b0ac-0a0e335ae613', 'nyt://article/e26c4181-09e4-5d1c-a561-231cc8093242', 'nyt://article/0aeeff1c-c7e8-5bd8-ae39-49e9db19afd7', 'nyt://article/8318e157-1ecc-55cf-936b-7a456604575b', 'nyt://article/73164e37-e7d4-543a-84fd-b12ebcc98aa3', 'nyt://article/bce3ca60-af67-52bd-a7ef-48827ff604db', 'nyt://article/8e005a41-73c4-5e0f-a9f9-a130c967b0b2', 'nyt://article/29739de7-13fe-50d6-a0fd-2f23bc2e17e7', 'nyt://article/ffb67ff8-6919-565f-934d-5ffb8e6ae707', 'nyt://article/cd336da9-85f4-50b1-b089-347fdcd4ce91', 'nyt://article/2f13368a-d180-5465-877f-375210a7aae7', 'nyt://article/ec7203a9-eb10-5753-98e6-a06cda8285f8', 'nyt://article/b7006bda-96bf-5b9a-a9fc-4bb7a8e250f9', 'nyt://article/2d0acbc4-907a-5c30-ae8b-46f4f91b8eee', 'nyt://article/2bb0b4f7-43a5-58be-a7dc-12423583607f', 'nyt://article/fb47e6aa-08ac-577c-8a01-12492887fb64', 'nyt://article/5948bf75-d080-593d-81a2-139d05ff4c88', 'nyt://article/722bf5dc-b37e-5c0b-bd0d-d7d281dd6e89', 'nyt://article/0e578382-17ca-55b5-ab06-f61b9142aa97', 'nyt://article/676a190a-3d84-55e6-a811-46830fd713ca', 'nyt://article/f057859d-d256-5a5b-914f-5d1a85ae785a', 'nyt://article/9f91c450-328a-59be-be41-570acf122f54', 'nyt://article/2b44b26f-8d1b-5505-a9bf-69222111d126', 'nyt://article/e7116934-5e86-5988-b768-679684affdec', 'nyt://video/d8b508c0-4274-5602-9f7a-0eef478cd90d', 'nyt://article/2a67f414-d79f-575d-b6d6-864778e9b09b', 'nyt://article/b9c20559-ae99-57a6-bf69-c6be68c332f3', 'nyt://article/e82db1e6-3dbb-5127-bfb2-58b786a0cfde', 'nyt://article/538158af-eb06-5ac9-ad44-252e3d8c8c70', 'nyt://article/706d7ff9-3245-5bfb-88b3-7182f1e33f24', 'nyt://article/a24352c5-2916-5877-9c38-7b4b58d1909f', 'nyt://article/cff5a46a-595c-577e-bd69-553d6c3c9b68', 'nyt://article/9abf3e81-2ab2-57e7-bcbb-8c620efc57db', 'nyt://article/632501bd-6d53-5f97-8a76-dcb1cba83eab', 'nyt://article/9688220d-01bc-50fc-8f86-407d713579cf', 'nyt://article/9c329db9-419d-5af9-bc96-027b8934094f', 'nyt://article/152c7c01-7cff-5893-92ce-cf064e1c25ce', 'nyt://article/cf9cc005-019f-5295-94f3-3434428a34e4', 'nyt://article/1d5a61ce-b39d-54e7-90e2-561418801840', 'nyt://article/ffa79e3b-c55b-5fde-82fb-4ff03950be92', 'nyt://article/3ff5d1bc-c26d-565d-94dd-bc6bfe1d7008', 'nyt://slideshow/872ec2c4-5af1-5ebb-8730-361eeb7b65c7', 'nyt://article/42f9e59f-4cae-568a-8c53-f7af86c5a0e8', 'nyt://interactive/67ced5f2-a79a-5c20-8325-f7b481a10ba7', 'nyt://article/eecc4f8b-8945-5550-b10c-5d399b52881b', 'nyt://interactive/592ac49c-845b-5dac-b58f-1188544ba8ef', 'nyt://article/610ef9c7-708b-59f0-b8a4-80f335639f93', 'nyt://article/88840da1-c29d-56af-b5f6-62d8ec78b420', 'nyt://article/847128d5-f95b-5981-ab0d-2f7df9a345db', 'nyt://article/fc948308-79e0-54f2-b519-7a586596cfc8', 'nyt://article/3f66c66d-cd58-5515-a4ae-e80817e63c9a', 'nyt://article/0160c299-c582-5ed6-b89d-36b1ceff4ff1', 'nyt://article/b2b37b59-ed75-53c5-92cb-6577f841e0f6', 'nyt://article/0479c98b-f429-5c45-9482-ba056384e378', 'nyt://article/061eb34d-2e8a-5ad1-9454-9231d1d6b2d4', 'nyt://article/505e16c1-d8f9-56df-b76e-9cd68a7ab33d', 'nyt://article/c0feb0c9-7c34-5a17-8051-486f89a9dc9d', 'nyt://article/c6be1920-767e-52bf-a64a-b58093e0ddee', 'nyt://article/c85916ae-496f-5a54-8f09-f151d3bd342f', 'nyt://article/04a9fb29-fd17-5b9f-ab7c-4f34e7aad7db', 'nyt://article/e257186c-6649-59f3-9319-1bd906db80c5', 'nyt://article/8ceeb74c-0110-5697-af59-7e47b2a6ba75', 'nyt://article/50c9275b-d670-50aa-a23e-c8f698cd1597', 'nyt://article/023e6842-0a67-50c5-a9fb-d6c6daa49b56', 'nyt://article/79acc66a-86db-508b-9fbf-de644e361acc', 'nyt://article/ec9f5472-3ebd-50bb-a58b-57b0d0aff90a', 'nyt://article/010ebe23-59ec-5c1b-8311-d3e7a8f0edae', 'nyt://article/49a28e7d-8629-5fad-90ee-402b4c3cab8c', 'nyt://article/73fdc6d9-9676-5b9c-88ae-9e8e3d0f980a', 'nyt://article/0fb1b3dc-964b-55fa-9cd3-35f21c444086', 'nyt://article/00603561-a0a0-5bab-a43c-3f17d2192e27', 'nyt://article/493c5943-03b7-5b66-b5b3-ac40b21a4fa5', 'nyt://article/06ab9076-03ce-549c-b6f3-a8207a8f0c78', 'nyt://video/621c2d01-fcd9-5a73-8670-4fa5700b863a', 'nyt://article/b51b7af6-a131-5f00-ad12-ed465377374c', 'nyt://article/652b98b4-01b8-5cb5-bc03-1a8da6738669', 'nyt://article/27b936e3-5dac-5eb1-86c0-1bacbd6560be', 'nyt://article/7589117b-71de-553b-b661-9d73f08ae91d', 'nyt://article/5fc83e76-d158-5d8d-9669-87b0a57464fb', 'nyt://article/b2083fb9-94b4-58ad-916c-cf7cdcf18bf9', 'nyt://article/32d145d4-6e55-5944-9838-2d316ca98d7e', 'nyt://article/3b02ec18-8ca4-5b25-8665-bbec9c4cb01f', 'nyt://article/4db37107-02cc-5d89-9169-551ff6381b89', 'nyt://article/a77b5684-71b4-5d71-acb0-b19bfb9730b5', 'nyt://article/7ba22bd7-f3b7-5cda-989e-9229fc9e995d', 'nyt://article/36ee0edb-21e9-56c9-bb84-09c4415a4516', 'nyt://article/3563f56a-3056-5a0c-b474-d2d5a4247922', 'nyt://article/943d5f12-ce5f-5d0b-a103-684e46194abb', 'nyt://article/2dd8464a-9b63-50ff-afaf-9795b1a91694', 'nyt://article/3d580611-6876-523b-96b6-bbe7ce334fae', 'nyt://article/3c790392-f090-58f4-8709-d792f161cbed', 'nyt://article/4b594950-5710-5481-8a9f-97a3c8379add', 'nyt://article/ff00a9cd-949f-5e73-bbcb-d3841aedf347', 'nyt://article/ff510b89-d57a-5536-ab06-f5e79d4d2947', 'nyt://article/06c9f0f8-3aaf-5548-a738-28948eca6167', 'nyt://article/61efa0ef-43d3-54ae-8387-66d17e19b8bd', 'nyt://article/678f8f21-ed20-5995-8e0f-bd42ab081e42', 'nyt://article/f4fc51c5-eec5-5b89-bba6-278ca712452e', 'nyt://article/70494559-23ff-537f-bab1-6eb7268c62a5', 'nyt://article/dfb763d9-6c6a-56b7-884d-c11c0ae498f5', 'nyt://article/1b0e35dd-eef5-53a9-bc04-a22d6b53ca16', 'nyt://article/e18f7c69-da2f-5161-9415-bd1c183151b8', 'nyt://article/006014ee-ae56-57f6-9fa6-d9b8bc7b6a39', 'nyt://article/06dd8692-c554-54b9-9617-79dc1b0c2294', 'nyt://article/8a3f7f3b-d31e-52d7-9fda-ec0650944448', 'nyt://article/1865a38d-8738-5bb8-b5b1-b24382bf562a', 'nyt://article/dd20d078-bad0-5148-889d-06ad5fdc979b', 'nyt://article/d8dcf526-b866-51eb-954c-95fdd3249d69', 'nyt://article/d7a1f468-2b98-5872-a037-714ecdfa250c', 'nyt://article/de451b9e-0cd1-5ddd-949b-8faf862f7c83', 'nyt://article/e93c3de8-cfaf-59fa-b17f-6fbf2c9ef94b', 'nyt://article/3217200c-c746-5c3d-ba58-e37ed88100ad', 'nyt://article/e18a5035-2b83-50d3-8a1a-671732d7a622', 'nyt://article/6a251768-d7cd-5d42-b3b9-fd6314f11f82', 'nyt://article/9a728ca5-b4bb-5b60-be45-053646dcdb10', 'nyt://article/51c78c89-cca5-59e5-9a68-b827e81046c8', 'nyt://article/7f9ad818-d7c8-5a56-9971-7a06b75dbfef', 'nyt://article/c53c9271-b07d-565c-9223-5ae808535c9d', 'nyt://video/0bf76319-49f1-54f7-ab54-edf417244e89', 'nyt://article/d398c491-8159-59db-9acf-c6e0e56452ca', 'nyt://article/cad8a90e-a713-50c0-a3c4-8075e01a3b82', 'nyt://article/64e1bc90-d77b-5989-9f80-f2377a5a087e', 'nyt://article/f1cc5d47-1a43-597b-8788-b258d4a04869', 'nyt://article/f9e370bb-d78c-5b2a-9f7f-dcc693309e3c', 'nyt://article/b3127485-6e94-5ec5-8e22-8f22497d131b', 'nyt://article/0cd7fcd9-8dc1-503a-a47b-fc7218af6fc5', 'nyt://article/8aa849f9-2f21-5e4e-9bb0-cfa4383c6cc9', 'nyt://article/398f03de-dc59-5101-bce0-04b2275b68cc', 'nyt://article/5dd8d0c4-deca-59d3-a5e5-0b8ad861ac41', 'nyt://article/fba05eb4-ff6c-52e8-96d2-439904f55e2d', 'nyt://article/0855a4d1-fe51-5619-83a2-266910bd6b66', 'nyt://article/7740d88e-2bbb-5b60-8ad4-d83e942ceae9', 'nyt://article/e0284004-ca69-5ffd-ba0c-06dc4d532f73', 'nyt://article/b3dda245-86f2-5cbc-973a-45e4288c99f3', 'nyt://article/397f8102-b5be-5879-8a6f-b112557e1738', 'nyt://article/4fef2cc5-0b94-5b17-8883-79246953c5f9', 'nyt://article/09de54fc-729a-5128-a867-1e8f4f5c16aa', 'nyt://article/62994281-1aa8-5d24-83a9-64f8f6678030', 'nyt://article/e430b01c-f32e-5382-bf19-e0df4e7ee669', 'nyt://article/1ddbad3b-de6a-528d-9112-b5b2f5e7455e', 'nyt://article/4336fc5e-b8e2-5566-977b-a86ef2fab052', 'nyt://article/e25a8c18-8d67-53fd-8d47-997270bf04c4', 'nyt://article/b5f5cc46-54cd-5d00-852f-84232961c7b7', 'nyt://article/600d6b67-e4e8-5d60-846f-78bb05d7ee00', 'nyt://article/757c9212-5370-50b3-a96e-068457f8ab50', 'nyt://article/5b45e5c1-31bc-5efe-8c6a-5e88a1746d88', 'nyt://article/0e878c95-5a0c-5039-bfe9-c330dc353a6f', 'nyt://article/774ebdf6-f169-52e6-88a9-900e7a14d394', 'nyt://article/099e95b8-18fb-5cb6-9786-5648012b3e9f', 'nyt://article/db4ae869-5d7e-5f72-9ae5-03bd436f15ec', 'nyt://article/67f32b08-b2ab-5a8d-adf9-e7bcc43d60d5', 'nyt://article/3cfa128b-7fea-5e24-b805-0a30bc411c6a', 'nyt://article/5eff5519-d30c-57db-a177-f905e3254336', 'nyt://article/6251e76b-f6d7-5165-be3a-a5cff3d96a92', 'nyt://article/3f49b19e-4f33-5e73-b680-102580073eaf', 'nyt://article/1b7eee19-0e72-573a-a482-860d6d3939d8', 'nyt://interactive/d5d460ca-b437-599b-a886-ec5fc49a6fb0', 'nyt://article/5e419777-a56f-5cb1-bee0-f14b8f83c13f', 'nyt://article/4b23e9ea-ab29-5b03-9af6-1252267da1fb', 'nyt://article/af22806c-5e25-566e-988b-541a5ef200e4', 'nyt://article/10b68136-7d20-5392-bac8-0a29cbb85c8d', 'nyt://article/7a1e4c1f-de78-5c8e-b751-862dca5b9f21', 'nyt://article/8cee40e9-c89a-5d5f-bacf-cfaaad424501', 'nyt://article/7d8a58d8-3012-5f27-b5c0-ea3ae97e575c', 'nyt://article/27d79a98-34d2-5ad6-b3e1-4bc2831e105d', 'nyt://article/2e05dd10-7579-5ceb-8bcc-45e7e7094db9', 'nyt://article/eb0f1578-0dd7-5251-b08e-54ae3e7f1665', 'nyt://article/e006afd4-6c29-5f00-b2d4-0ab900d70971', 'nyt://article/8a91af8a-f287-51dd-be98-33ea7e295bb5', 'nyt://article/98dfd0f6-afd3-565a-938a-4c8b0208c5c7', 'nyt://article/aedf4e44-a24e-5a35-b52d-f985c3586596', 'nyt://article/a96c6023-96cf-5717-8d45-e5cc280e6d2f', 'nyt://article/6c12a257-a682-59b1-9b23-24f0e7c044e9', 'nyt://article/01df8223-4f04-525e-b8a3-78436d1fc483', 'nyt://article/6131c266-5e13-5673-b41d-4b084ea9e239', 'nyt://article/425a7f86-da47-573f-ae63-0850cee54ec5', 'nyt://article/c46de21f-3a35-58d1-afff-a67502db7d8c', 'nyt://article/284a8ee5-ed24-58d6-9ba1-6f1c66fae9f3', 'nyt://article/4329a608-2816-5cc2-847c-f5c7aa77154e', 'nyt://article/1157b69e-7313-5ec9-bae3-ddda52e6d3ed', 'nyt://article/2215bf79-c1d4-5a56-b215-e2716de6d6c8']",
         "192",
         "-24.7761086",
         "134.755",
         "NYT"
        ],
        [
         "13",
         "Austria",
         "['nyt://article/489d15d6-0318-5528-a1e8-2dd8cdb2f5d2', 'nyt://article/4336fc5e-b8e2-5566-977b-a86ef2fab052', 'nyt://article/8acc1cb4-2f72-5677-868e-7b9c54732e02', 'nyt://article/7c902ee6-e04f-5302-8340-097035a8ca57', 'nyt://article/d0d0c232-0ae1-5d3e-b897-ae648a271c17', 'nyt://article/f5f06545-8890-5a08-8b68-6013f50287fe', 'nyt://article/4651a01e-c9e5-5f1e-964d-f713f267a818', 'nyt://article/d9d748ee-8391-5b7b-866e-77903b2762e8', 'nyt://article/bbbe8d7b-b00d-5365-b841-c8a8389654e0', 'nyt://article/6eae42d5-f0cb-5dff-83ed-b762bab8194f', 'nyt://article/38ce97ea-cd09-5520-9753-e23f6a4fb62e', 'nyt://article/cfaaf4af-7c06-59a5-aa79-4d65484f6018', 'nyt://article/9119b453-c943-54ab-8cb1-157add50b82b', 'nyt://article/aba1d461-5309-58ad-95e8-26ffccb2fbdb', 'nyt://article/7cd71d56-85ac-5c66-8eef-fe868b35211d', 'nyt://article/1e7d04dc-c6e6-5da1-a83b-3074b0a4f9da', 'nyt://article/0e7d216d-10ed-574b-8e9f-726fec2d6ebf', 'nyt://video/64329d3e-7457-522b-b616-7a45df9583e3', 'nyt://article/82e888a7-65f9-56bf-8b75-93affdd15a27', 'nyt://article/f346f96a-8d34-53c4-88b4-f2e41179af65', 'nyt://article/4062fb42-d47c-5de1-a685-f0ff645c28b8', 'nyt://article/9f7588ca-4f94-5a9f-9c31-ffc7bff7bd74', 'nyt://article/45fc1283-ccb4-5b3d-8498-664d6424d7ca', 'nyt://article/da49e385-de04-547e-a135-b96456b2f2ee', 'nyt://article/26c94960-8919-568f-9a3b-d2c350a819bb', 'nyt://video/ba0d555f-09e9-547c-bfec-3cebce70cf3a', 'nyt://article/2d49cc50-dce5-5506-8cd6-c10810138ffa', 'nyt://interactive/d5d460ca-b437-599b-a886-ec5fc49a6fb0', 'nyt://article/2982e829-2cc6-5d1a-89aa-0dc4f495bd0b', 'nyt://article/b6a4d362-fd4b-550e-a10c-3fdaff9393eb', 'nyt://article/de545c26-765c-50f1-9ee4-cdbb26c758c1', 'nyt://article/dc09b00f-21c3-5644-8ff2-1a9ae57ca65e', 'nyt://article/3f434785-de8e-5103-bfd0-3aa326b95b3a', 'nyt://article/6a5bbb3e-eac4-51fd-8ff7-cf9c18c99aaa', 'nyt://article/bbfae0d6-4d3e-5b9b-b914-041d2cbbf485', 'nyt://article/edc7fb55-4d27-5863-9ccd-0403d16b0651', 'nyt://article/670a186b-c06b-58f0-a238-c411d99059f6', 'nyt://interactive/81213565-7304-5188-bd4c-be87a1d2b554', 'nyt://article/bbfe3f9f-71b5-5866-ae83-ff98e3eb8ed8', 'nyt://article/7dd19b59-156c-5583-bd77-764448662a9c', 'nyt://article/07f9b643-eef6-550f-b25a-4312a5c2f68d', 'nyt://article/a0b57494-0710-50f3-9c8a-dec7c3c19938', 'nyt://article/a1b8116b-9c46-5fc4-b02f-bacc9a44d874', 'nyt://article/a9945d58-6d62-5889-b609-c487bfd5069c', 'nyt://interactive/0770ec0d-4b73-5fe3-9f9d-e453a724e45d', 'nyt://article/612c3665-1ac8-5314-b669-40c06b40e7c6', 'nyt://article/5c93f3d5-8d8f-580b-951e-bc354a275aaf', 'nyt://article/c20000bf-0d4e-5023-9e9f-8e65e3d98cef', 'nyt://article/6569ee78-27af-5059-beac-731d96175409']",
         "49",
         "47.59397",
         "14.12456",
         "NYT"
        ],
        [
         "14",
         "Azerbaijan",
         "['nyt://article/d7ea26e8-b61f-5975-bd0e-ff455733ac5b', 'nyt://article/15b999e8-4ec7-5c3a-b383-38d4882eb462', 'nyt://article/39af62ad-0e32-5ba2-8d59-b545735c0d7b', 'nyt://article/d97b0f8a-fed7-5478-933a-fa3964997570', 'nyt://article/250d49a7-b629-548d-a99a-a2aaf0e3a728', 'nyt://article/2bd94bf5-a815-5d9c-a58b-7dcedaa97026', 'nyt://article/2c4fcfe0-4152-5915-8da9-ff3f6df3f13d', 'nyt://article/3c00ea5b-79a6-5dc1-bf9b-0736efe212a7', 'nyt://article/5f2ef024-54ee-5815-8fe6-ad8f68e23f5b', 'nyt://article/a20b75ce-1caf-5292-9f23-2c0179843348', 'nyt://article/a008167d-fddd-5f78-a94f-a5c20c40e7e5', 'nyt://article/2ae1c323-fd56-5a8f-9436-c490aab9e213', 'nyt://article/b2c28cce-ffdf-551c-a4e7-27d9bf22684e', 'nyt://article/4c1ef574-dc8a-5c14-83e4-746375e43e14', 'nyt://article/7a9cbc11-d086-5980-855e-e8abbab5ee40', 'nyt://article/58fe85be-4962-51bd-8f47-46c1ccbf8f5a', 'nyt://article/d7b0de2b-9d50-5a2d-88b2-5390b5b7de3b', 'nyt://article/afe2b61b-f390-5aa9-819d-7aa2c1b64bc9', 'nyt://article/36c648dd-92ae-5811-b8d7-e174adbac1b2', 'nyt://article/dfe287c5-254d-55dd-8245-66c18bc92edd', 'nyt://interactive/63331587-3ed3-55c1-8475-7612b1f63f8a', 'nyt://interactive/4d85e505-f0a7-57c8-b4a4-7d2018223598', 'nyt://article/cea90935-2c07-55f1-81af-32de2c80925c', 'nyt://article/3b3d552e-a57f-53c5-8ff0-31113b14c493', 'nyt://article/2c3b6715-4f1e-5613-b5a7-cdede0a6995c', 'nyt://article/181e8c57-77f4-5633-8052-035dd125bd36', 'nyt://article/bdfdc886-d7a1-568f-af0b-5b0dc316b89f', 'nyt://article/9cdc7f20-65d5-5c7b-8264-99b07744af9c', 'nyt://article/cdd5b359-8961-52ac-86d2-4d9c675b224d', 'nyt://article/042bea25-8021-5b9e-96ee-924311ca9f59', 'nyt://article/75a6b57d-c8f0-5902-bc26-bdc47ffe65de', 'nyt://article/bea61699-24f2-5265-a22f-9076f851ca5a', 'nyt://article/385388d5-2e5f-5321-b23b-4e0afb0c4940', 'nyt://article/0d118bb0-9370-5c0f-9c92-1e0588cb955d', 'nyt://article/44ff88f7-5c8e-575e-b710-983fac884ec0', 'nyt://article/6f1c8fab-c5ed-5aaa-9191-a0552e7cd2a9', 'nyt://article/79fe9ff5-ef5e-589d-913c-8be4b5e4bcc2', 'nyt://article/6d2cecfc-ce5c-52c4-af05-39822d596bf6', 'nyt://article/5f9b06a3-91f8-5f84-bfe0-f0afdd7a0471', 'nyt://article/aa53562a-37eb-5ead-8519-ca910628a9e2', 'nyt://article/1fac1725-38bf-566d-8337-65c0706ad4a4', 'nyt://article/7104a8cf-de19-5482-9efa-d93c012227d2', 'nyt://article/f9386ae2-3ae0-5baf-8064-919dfdbc9e8c', 'nyt://article/1ac32ed3-b543-5290-a03a-385cff024025', 'nyt://article/ff0ee5d0-91c1-5420-a030-64e56a472c13', 'nyt://article/76cb16e1-2f99-5cfc-a4d6-b07ec62585c6', 'nyt://article/b523611f-4c09-52bf-a76b-e31fe00e1ec2', 'nyt://article/9d488c1f-3d6f-5fbe-8307-2a18cefc53f9']",
         "48",
         "40.3936294",
         "47.7872508",
         "NYT"
        ],
        [
         "15",
         "Bahamas",
         "['nyt://article/7218d0b7-3509-5552-8ab2-6370dc25b31f', 'nyt://article/3c489b15-4e6a-5b33-a153-2eed5cd30deb', 'nyt://interactive/0a438c12-d60f-52a4-be3d-ca4aaf493aad', 'nyt://article/8602c46e-c9fe-5f65-8093-98ae915f305d', 'nyt://article/f55d75df-7984-5796-871e-e9808f9a7b95', 'nyt://article/4c432d3b-5d3c-513d-985c-5d2e2a3d06cc', 'nyt://article/605556aa-111e-5eed-99b4-5ab87c8e327b', 'nyt://article/72ff5af3-f710-5967-a74b-1cd1105d4110', 'nyt://article/ab667a0d-a2e8-59ae-ac3c-ef6a611c2ba3', 'nyt://article/f1519d82-68e7-5d66-97af-c349b91bf217', 'nyt://article/3a456fac-0fdb-5d08-a280-a3fb1bb27b7a']",
         "11",
         "24.7736546",
         "-78.0000547",
         "NYT"
        ],
        [
         "16",
         "Bahrain",
         "['nyt://article/1d9ef740-33a3-5f79-9671-63948d194758', 'nyt://article/6cc38047-747f-51f9-8f85-f98e36b2b992', 'nyt://article/4db02671-1c0e-5b3e-9c95-645b54d2f8f7', 'nyt://article/22aed36f-0957-5caa-a97f-4c186c5e6183', 'nyt://article/1104a490-62b7-507a-9fab-1783f67a7d95']",
         "5",
         "26.030093",
         "50.553336789123236",
         "NYT"
        ],
        [
         "17",
         "Baltic Sea",
         "['nyt://article/2f502b81-e9f8-54e1-b1b9-814c7b61cf70', 'nyt://article/70a2d5c7-eb7c-5a47-841a-cf93e986f761', 'nyt://article/c747a563-86b6-5583-8528-5d5d82c573c5', 'nyt://article/3680adb7-fe2f-5377-8a70-d6fa4f9ee2d3', 'nyt://article/62d1bb37-54d6-53c6-9d6d-5e43431f3335', 'nyt://article/790b937e-adb8-5d21-be33-0b610871e626', 'nyt://article/3f82b219-3267-5601-9fdf-c806ee1f9f16', 'nyt://article/bf938858-5d5d-5907-8726-929112ccc441', 'nyt://article/59773ef3-f9a2-5811-b338-a3f62ae4eaa2', 'nyt://article/e8dd346d-fb45-5698-afc2-8d1aca18cab5', 'nyt://article/3bb65254-fb8b-5779-801d-5f533b78bce2', 'nyt://article/a8ccca0e-2049-54ea-9056-9437fbc4baaf', 'nyt://article/eed086a1-2e48-5e76-841d-458201aa1440']",
         "13",
         "56.0",
         "18.0",
         "NYT"
        ],
        [
         "18",
         "Bangladesh",
         "['nyt://article/cb0045e8-0494-5f4e-b589-de52b5ea985e', 'nyt://video/cc737b7c-ab5a-59a8-95e1-816ad4887397', 'nyt://video/d9b4cbbf-d8dd-5348-bc51-4c250f866d67', 'nyt://video/eb3b13e6-599c-5c12-9fbf-c4db7a880801', 'nyt://article/ce264815-dbf0-5257-bc1c-05ae1755050d', 'nyt://article/5f3da01e-323c-5b51-a9b4-1e366ca4387d', 'nyt://article/f56cb90c-333e-5189-b598-09245a7ecced', 'nyt://article/dae2657b-9ab4-512b-b6cb-8690b92d0434', 'nyt://video/29ce1b31-51f1-501d-8719-085b440cd7ea', 'nyt://article/acd20332-7d58-52b0-af07-1e411c87bd05', 'nyt://article/9feba6e2-823a-5fbd-954f-5040e45639ba', 'nyt://article/dbdf3b95-c4ac-5cd5-8644-8e866582656f', 'nyt://video/d7eed2c7-86dd-5334-9768-b58516f4f125', 'nyt://article/e71deb6c-14ca-5446-acb0-557595a1c768', 'nyt://article/4c300a25-56e0-564a-80bb-33da64428e8c', 'nyt://article/cafa3f9a-8004-526b-9927-c06cd85f915d', 'nyt://article/396deb75-4e1f-5856-a8eb-1e3e580d5450', 'nyt://article/ac3aba66-b791-52e7-9ad5-cbb0db0d13b5', 'nyt://article/10453968-c7cb-50d8-ae37-8bc7d4bdeeaf', 'nyt://article/69423ad4-3547-5863-8dfa-a7c04e0bf88c', 'nyt://article/ebd1ec32-ad41-578b-bdf4-274284a3badc', 'nyt://article/34403061-db05-5d35-b892-3d3ada556995', 'nyt://article/3cc92856-efcd-5e80-bf10-797afacb4f84', 'nyt://article/ad68b015-ad74-54e5-b873-9d29dcf2b2f0', 'nyt://video/ef3d4115-649f-5efb-99f7-c1ef9c7270c6', 'nyt://article/b6110ea9-290d-5132-b3da-597f41bebd4e', 'nyt://article/02a53ef9-fac1-5f49-b279-2c3d742d37d0', 'nyt://article/f5c39b45-ce9a-5bda-a008-c98c0684c491', 'nyt://article/80dc1747-cf04-5beb-a934-619f952d75e1', 'nyt://article/255b5563-597e-5283-8031-70f235aedc71', 'nyt://article/89c8e9e3-fe76-5a94-92cb-414d811ee293', 'nyt://article/1674bd72-13ee-5d08-bb54-0c3ce48fe673', 'nyt://article/5774741e-8fea-5f49-ac70-ce4168a37b07', 'nyt://article/75b05547-d2b0-52e1-8113-4184eddf76d7', 'nyt://article/d4835673-3e5b-5cb9-a68b-4b895d740999', 'nyt://article/6406f914-ccce-5054-a329-b9b8414c9c95', 'nyt://article/1029ca29-7478-58bf-bf53-2137bb57ca7f', 'nyt://article/d42d09c3-aee3-57bb-b508-b2495fa0508d', 'nyt://article/882f97fd-35c3-5747-8a4b-072fef7badf9', 'nyt://article/bf77cc3c-2d4c-54d9-8ae9-e8dfce0fb9f9', 'nyt://article/936b5914-211d-5657-83a4-a9b74a4a6cf9', 'nyt://article/6814c044-6791-5f6d-9ca2-231a0b94d4cc', 'nyt://article/bcee377e-2c3a-563b-bc2e-32be6a28cee3', 'nyt://article/ed532bcc-2029-5854-9ceb-338278f3128f', 'nyt://article/85c2a939-d4e6-5597-bacd-db25e92110dd', 'nyt://article/498ca601-204e-525e-bf4e-97640d9a70e9', 'nyt://video/5b91da10-fc8e-580a-b37b-cc4fdb11b1a7', 'nyt://article/a0f463e5-dbf2-5a92-81a9-d066f36509f0', 'nyt://article/da8e3167-7608-5e86-b657-f9dd213b4cc0', 'nyt://article/8fb3e25e-d5ac-51ab-b4ee-52cd2e06e9e1', 'nyt://article/88c85774-df15-53fa-b7f1-482980bfcb43', 'nyt://article/9b6b0318-db8f-58be-bb65-5d0217d80de8', 'nyt://article/d702ced9-53d7-5cb7-aea6-5e37a2c55cd1', 'nyt://article/823b3d55-b82d-503c-8a18-68d6933d4625', 'nyt://article/9f113fc3-0ffd-504a-9283-93ee1bbd9f00', 'nyt://article/f59ad265-6b02-5b47-87ab-40491a7192f4', 'nyt://interactive/ae557018-3933-5e57-8b30-2f195b161811', 'nyt://article/7084ef60-da5c-537c-b158-f1e78e69f10f', 'nyt://article/d1995898-4e16-5f85-b9fc-83a1dc0f5c31', 'nyt://article/43e54411-fec3-5aaa-a572-7a1b476a42cf']",
         "60",
         "24.4769288",
         "90.2934413",
         "NYT"
        ],
        [
         "19",
         "Barbados",
         "['nyt://article/120e4e0d-239e-5b52-83bd-462598928a5c', 'nyt://article/2794161a-68fa-50f9-af4b-781cf317f424', 'nyt://article/13242a65-a494-505a-b504-49c06a9d9166', 'nyt://article/dbca2c1e-0c60-5e8a-a032-6e29e8425c40', 'nyt://article/360f1b02-6470-52a5-afab-5753344f121b', 'nyt://article/3a456fac-0fdb-5d08-a280-a3fb1bb27b7a']",
         "6",
         "13.1500331",
         "-59.5250305",
         "NYT"
        ],
        [
         "20",
         "Bay of Bengal",
         "['nyt://article/f69229c4-0c2b-59ad-bcff-d25886896e17']",
         "1",
         "14.2202702",
         "86.74284543238046",
         "NYT"
        ],
        [
         "21",
         "Bay of Campeche",
         "['nyt://article/2ba65ccb-6e52-557b-9191-21cafcc864f0']",
         "1",
         "20.0",
         "-92.5",
         "NYT"
        ],
        [
         "22",
         "Beaufort Sea",
         "['nyt://article/d8f420c1-7968-5d63-9742-4dc0932cc2ce']",
         "1",
         "72.98862825",
         "-135.23716821203882",
         "NYT"
        ],
        [
         "23",
         "Belarus",
         "['nyt://article/d6dced00-920f-547e-a08c-84d6ec08567c', 'nyt://article/833eaa47-ce45-5c0c-a984-81c8d7533a04', 'nyt://article/2c4fcfe0-4152-5915-8da9-ff3f6df3f13d', 'nyt://article/21cad100-f82d-59f1-ae41-1d37516395e4', 'nyt://article/2c1190c3-b15c-55aa-abec-e46649feb480', 'nyt://article/66554e8d-9278-5135-85e9-0bb9bc3cdca4', 'nyt://article/50eb219d-459e-511b-a4eb-c6feb9f15fe7', 'nyt://interactive/4ef0fac9-68ae-537f-ac7b-e165411fcc5c', 'nyt://article/c05d1802-fb11-54c6-b6c6-79ea93385490', 'nyt://article/f346f96a-8d34-53c4-88b4-f2e41179af65', 'nyt://article/40bad37f-8934-5ae1-9915-a5627f4ed3f4', 'nyt://article/ef47a80e-94bc-5c36-8d44-8d4224ce92b2', 'nyt://article/eed086a1-2e48-5e76-841d-458201aa1440', 'nyt://article/7775bef0-4a61-5d97-9d2c-b93de2ca319a', 'nyt://article/081caf13-8311-55ba-b659-845d5f7491d1', 'nyt://article/53220df1-5f7e-5866-9ce5-9b645a1d69a4', 'nyt://article/bf938858-5d5d-5907-8726-929112ccc441', 'nyt://article/e25457bd-ce33-5a31-a905-ac652a50bcf8', 'nyt://article/31b54b5a-8670-5d46-9f53-da3a7df41f8b', 'nyt://article/841e8ea4-81c0-55a5-90e2-9f854b631bf6']",
         "20",
         "53.4250605",
         "27.6971358",
         "NYT"
        ],
        [
         "24",
         "Belgium",
         "['nyt://article/1e40ff20-3a4b-58e9-9719-ebd96162a35f', 'nyt://article/86c38138-69ac-52e3-b5bd-49c0fb33a79f', 'nyt://article/4336fc5e-b8e2-5566-977b-a86ef2fab052', 'nyt://article/851b69ae-20b6-56b8-840a-2359f31050c2', 'nyt://article/b1cf93b2-5518-531c-8372-09985fb8a68a', 'nyt://article/4076d5fe-4d52-5ac1-bc13-27887a7ad6cf', 'nyt://article/631951aa-c4f8-5e68-bacb-4c46250dc329', 'nyt://article/f2d2bf65-5b70-5073-82f6-34a2fb1b274e', 'nyt://article/6a9b613b-3619-5b68-a3e9-1852f29d773c', 'nyt://article/4cd9a420-ddf9-5041-a52e-c8e4d9678bff', 'nyt://article/0615e70f-5fdc-58ab-86c5-4fed006d8fe6', 'nyt://article/278615cf-39bc-5967-965d-9db5c5ea3315', 'nyt://article/5eb73031-9a20-5e09-99f5-f93358a430e8', 'nyt://article/6d0fd4d4-108f-53a0-92eb-ae6cde85c32a', 'nyt://article/1cd28e8a-743f-5418-9e6d-332af33c1ebd', 'nyt://article/58da3e6b-b8b3-54dc-a564-c2e795ec9fec', 'nyt://article/efa2c95b-0478-5ff8-a93b-5efde1352060', 'nyt://article/39c9545b-8b8d-5251-8a87-a7e7ccce3f86', 'nyt://article/3165019a-b0d0-5655-a2d6-49e3badc9296', 'nyt://article/c3a3fb76-50db-54cb-8861-5d4f2f594973', 'nyt://article/ffb9c4af-44c5-5ede-8cf5-c0193ad81907', 'nyt://article/d6b19031-3e5d-51df-a313-6c540e5ce024', 'nyt://article/daee73fc-eb79-5d80-a1f0-a4f688b766ba', 'nyt://article/cc1e2e6b-2b38-5dac-8102-76cd1131d826', 'nyt://article/3f5f04be-e156-5f39-b845-8145daacfc2f', 'nyt://article/8e786d8a-125f-5b11-b7ec-4745a1425b8b', 'nyt://article/458f4489-9efe-5a9d-9e5e-b893deb668fe', 'nyt://article/5410630d-98fd-58ab-8966-5dcfd390941b', 'nyt://article/d515fd4b-c1c6-52f0-a959-bf21336531c3', 'nyt://article/84939ce5-ddc5-5a6f-a06c-37ce914d4df0', 'nyt://video/3cac0e2e-7f4d-54c5-b35d-fb056724bcf9', 'nyt://article/61591a2d-84cb-5029-bc58-89d42c207ceb', 'nyt://video/bc415c6c-6ecb-5e48-a5ad-e5f5e2ab55b0', 'nyt://article/87fc2fa9-b820-5a08-b8ba-7e6db0dee3c1', 'nyt://article/70a0c124-049d-5118-9fe2-d39b2f30a0a6', 'nyt://article/89dd8747-9903-5e0c-89c3-a261470296b8', 'nyt://article/ce07da87-93d8-5c3c-a0a4-ee6993131d2a', 'nyt://article/ca824b3e-85ea-506d-b6bf-f9b94c025737', 'nyt://article/fb011342-8413-5b74-868c-e1220ddd100e', 'nyt://interactive/6200b426-fecd-5edd-9754-15753cae9c59', 'nyt://article/1ad42471-f803-5b9a-a19e-a429e4c4e91d', 'nyt://article/1fe7f248-a1d0-56d6-bf3f-df0c4f0c39a5', 'nyt://article/3a4cfc4f-ab5d-57f5-a17f-ecc9ac8ad9af', 'nyt://article/351a7081-1a05-5166-916a-f9f2045ea836', 'nyt://article/fcc2bb23-b4d8-5546-b18f-aff16ef38218', 'nyt://article/81b10a25-11bf-5532-9cdd-23dea78d7872']",
         "46",
         "50.6402809",
         "4.6667145",
         "NYT"
        ],
        [
         "25",
         "Belize",
         "['nyt://article/083a53a9-40d7-54eb-9fef-e4dc3c12049b', 'nyt://article/ae32c3b2-9d57-5f9a-99f6-e9f4174795ae', 'nyt://article/51c78c89-cca5-59e5-9a68-b827e81046c8', 'nyt://article/cc61428c-3ba1-5e63-b984-33e225b3d127', 'nyt://article/39615756-7f7d-56e9-98a6-d928befd65b8', 'nyt://interactive/aed06f4d-8a51-5356-9d3a-d2a838fb17e3', 'nyt://article/c2845922-ce3a-5bc6-b50b-2a894c8f2721']",
         "7",
         "17.1204943",
         "-88.6859028",
         "NYT"
        ],
        [
         "26",
         "Benin",
         "['nyt://article/cefbee7b-1a64-555e-aa99-205c8c00965a', 'nyt://article/80609bfa-1307-50a2-9a4a-936fa24d8235', 'nyt://article/cadd214a-9939-500f-a2f3-7aebf7a20faa', 'nyt://article/00de4d63-40da-5112-a954-f9f6c78aa0b8', 'nyt://article/70884c44-d53c-546f-9127-a06965a947f1']",
         "5",
         "9.5293472",
         "2.2584408",
         "NYT"
        ],
        [
         "27",
         "Bering Sea",
         "['nyt://article/3dffadff-81f9-562e-bcaf-7f551af771c5', 'nyt://article/bf6a397b-55d9-51ba-85e9-5ced31ffff39']",
         "2",
         "60.0000001",
         "-175.0",
         "NYT"
        ],
        [
         "28",
         "Bhutan",
         "['nyt://article/8684e408-fa1f-5d86-b3bb-43fa8a2bf8e7', 'nyt://interactive/caa7a64e-05f1-5a71-a588-1e8f311db878', 'nyt://article/89c8e9e3-fe76-5a94-92cb-414d811ee293', 'nyt://article/95929c9f-42fb-5d83-892b-6b2c3f5adb1b']",
         "4",
         "27.549511",
         "90.5119273",
         "NYT"
        ],
        [
         "29",
         "Black Sea",
         "['nyt://article/91aa07cd-6cd0-5e04-b58d-e9de6392ce55', 'nyt://article/eb1ac312-cb4a-559b-8002-f04ab5e3f1d6', 'nyt://article/e6b8866b-4bff-57e7-9c0d-824d3d2e425c', 'nyt://article/86d3dad9-815a-501b-b06b-77260a47a38c', 'nyt://article/85dc3162-5ce9-5a7b-8cfa-9b1b0507f646', 'nyt://article/c4d75cba-2e28-54f6-8c17-1758b63ddf5c', 'nyt://article/d2f8d9c2-05b8-56cf-a4a1-0a5d15a4fbc8', 'nyt://article/1a69d72d-7e98-5c18-9ad9-0d196edd636b']",
         "8",
         "43.87282395",
         "33.99380770501095",
         "NYT"
        ],
        [
         "30",
         "Bolivia",
         "['nyt://article/fb261414-c74f-599f-908a-ad71c9751da4', 'nyt://article/74422eb2-f3c6-5056-b6c3-c881fda6882d', 'nyt://article/944dd5c5-5751-54ff-8676-4abb71d7fcaf', 'nyt://article/da794e2a-74d5-5277-82ec-d3a9064111ed', 'nyt://article/a9f3362e-bfc4-5dc4-b95a-d10e18d34ae4', 'nyt://article/f8a47009-5be4-5e3b-ab47-3945e3ab0111', 'nyt://article/4fef2cc5-0b94-5b17-8883-79246953c5f9', 'nyt://article/766aa0d0-a57d-5a60-8a6c-6d6d8d2150ad', 'nyt://interactive/d5d460ca-b437-599b-a886-ec5fc49a6fb0']",
         "9",
         "-17.0568696",
         "-64.9912286",
         "NYT"
        ],
        [
         "31",
         "Bosnia and Herzegovina",
         "['nyt://article/5962a870-e60a-5dca-86db-8d73b0e321e0', 'nyt://video/45ef2d15-673e-5695-9fe3-d7844dfc2a5f', 'nyt://article/f2fac82c-7bc0-580c-a039-713404f46e9c', 'nyt://article/cb6b4b88-0ae4-5c1e-bd55-d87dec1a5017', 'nyt://slideshow/428e6feb-2ad0-57a1-9c06-95e2866a6973', 'nyt://article/6af869f4-b829-581d-86b0-e1fd2f3a0c46', 'nyt://article/2b73876f-b727-57ed-a6d9-ae05c747c94b', 'nyt://article/d26facaa-7cb1-5708-be3d-b7f22d093d17', 'nyt://article/c6f66a40-992f-514d-8952-2ba0a6244782', 'nyt://article/05c076a5-bfbc-58e2-8b98-220f33766bcd', 'nyt://article/cd09f73d-6b9e-566c-ae88-923092ce703f', 'nyt://article/2ea40895-14a8-5915-ae30-f6b189a67ce2', 'nyt://article/15f3afe3-9972-586e-aa7c-0175ec333618', 'nyt://article/f0b6b2af-a7a0-5832-abed-8ba935ba66fa']",
         "14",
         "44.3053476",
         "17.5961467",
         "NYT"
        ],
        [
         "32",
         "Botswana",
         "['nyt://article/43e74e8b-c18e-5d67-9133-b8fc8ab6aaa7', 'nyt://article/4492a8e4-7712-5345-b63c-bc0041706227', 'nyt://article/4add754c-68d5-540e-8584-633283e26b97', 'nyt://article/3ec2692e-3c94-53b0-86a8-4efba10445ee', 'nyt://article/5b46ce58-9195-5636-ade0-378a2373f8ec', 'nyt://article/b792e806-eb4a-5489-b55e-3d9ed9f2301a', 'nyt://article/4243bc16-737a-5a1a-996a-c1bd08ce953a']",
         "7",
         "-23.1681782",
         "24.5928742",
         "NYT"
        ],
        [
         "33",
         "Brazil",
         "['nyt://article/72750308-710a-520d-8077-0128b76dbc62', 'nyt://article/7da9dd57-ed51-5e70-8241-1bf7040e909e', 'nyt://article/569993d1-fb5d-57aa-8940-c51ce3633fde', 'nyt://article/7f461088-36ef-5e9a-9af5-fa296509b52f', 'nyt://article/dbd195d0-acb5-51f3-94c0-c91cfa8d9a2d', 'nyt://article/27218239-bc11-5e15-80e2-b663b0fcef23', 'nyt://article/0175e8a5-5910-51ad-a601-5277c3efddf1', 'nyt://article/09acb071-28d6-594e-b3fe-4799a7bac8f7', 'nyt://article/9276b34c-3b40-57d2-bd85-9bf252de076a', 'nyt://article/d59f86fd-bc6a-511d-9d57-614801f1b784', 'nyt://article/1a6a729a-b5d9-5783-8235-2a017c3797ea', 'nyt://article/1f941312-2902-5da4-963f-ae6f5cd86439', 'nyt://article/7a4951d4-496c-503f-a1e7-044469e67725', 'nyt://article/cadd214a-9939-500f-a2f3-7aebf7a20faa', 'nyt://article/f40b9e43-17f9-55e8-9370-cabc6c2a2d13', 'nyt://article/00b440e3-2d15-5466-a0de-e24e25c9ee8f', 'nyt://article/ac748229-fb1d-5fae-a0b7-319fb0e6e157', 'nyt://article/28494256-b138-5e5b-a944-e660352a3dde', 'nyt://article/597fc5fd-c7b1-5211-956e-f842d3aa9cb9', 'nyt://video/7dcc0f71-14f5-5735-abd7-66342b2376b7', 'nyt://article/94a329f2-7dd2-582c-a694-a756a5f5852d', 'nyt://article/c074859b-f07e-59ae-ac5a-3b2b450c7b2b', 'nyt://article/d289696e-a671-55b9-841c-56130ce782d6', 'nyt://article/2243d03f-acd2-5628-a14c-ceac812c7f56', 'nyt://article/dc937207-f6e1-5c9b-bcca-cdfe60718ef7', 'nyt://article/d7a79c9a-a6d7-5b49-b66b-ea7b6c697da3', 'nyt://article/ace6a6bf-79d9-5d66-9ce2-23277b0d9cbd', 'nyt://video/325cd8d2-137a-5a6e-8ff8-490eac566125', 'nyt://article/6073f3a5-36c5-5f75-833f-28e5864c9f99', 'nyt://article/993e63f4-9549-5085-b6cc-addbfff3691c', 'nyt://article/9f1ef7b4-dbe9-51b5-b495-a4f0bf1451f2', 'nyt://article/0a0d5fff-e858-51c8-a397-b9878dd5d1a0', 'nyt://article/df20dbaf-d7c1-5a58-b6eb-e8387e796a51', 'nyt://article/fc549e76-b494-5fb4-8ba1-d5549c3ee577', 'nyt://article/13153a15-f62e-5ba5-8f9d-b3e03221a10b', 'nyt://article/b7b1dd48-bfc8-51ef-a8fa-21879c1e19c2', 'nyt://article/4a6b157e-95fa-5cf0-a473-8b4fd100c503', 'nyt://article/f6b1d71d-9b89-5163-af4e-2c25687afb9f', 'nyt://article/3def920f-2532-513e-919c-2ca26a78931f', 'nyt://article/2028ab73-b945-5eaa-85ae-58945f6df85f', 'nyt://article/60e286bf-90a3-5999-abd8-0d47db8080a3', 'nyt://article/ee219c3b-c31d-5dee-97f6-1a8cb87a5fbc', 'nyt://article/ab94bcdc-20da-50ea-b5d0-f23fcf4afed7', 'nyt://article/6b95b343-7a6d-5016-a47a-eee46a988bc7', 'nyt://article/d1823118-7bb5-51e6-9444-d382f3868087', 'nyt://article/97f24409-e7f0-5bad-822c-acf480eb76ca', 'nyt://article/476f76a1-91dd-5dae-87f3-db5da79f0854', 'nyt://article/77b8aeb7-7ec5-52fa-a1ed-fbd711770b92', 'nyt://article/2ebc8a6a-05f0-54c4-86a6-ea4a2fe3d45a', 'nyt://article/364f4413-aa9e-52d9-8350-1a82d222cc04', 'nyt://article/256a79ee-1780-58c5-9f61-8fb9341c1f8f', 'nyt://article/62ffe15e-d6b0-5ebf-83d3-a34fc44964bb', 'nyt://article/1608e08f-2ef7-512c-8526-2ad7f6c3c88e', 'nyt://article/4bbbcba8-047f-58b7-a463-bf0ac97eb607', 'nyt://article/e51d7144-a3ad-58a7-b2ab-f72fbf339d4f', 'nyt://article/385607e0-0da2-55bc-a6f1-4ebec5ea0f8a', 'nyt://article/b462fdbe-b2e0-5a7b-8df6-f3c403e23f5d', 'nyt://article/22741380-5dd6-5380-84f5-ed5ea29c71db', 'nyt://article/e6eff96b-c865-54b1-856a-18e01a02c1b9', 'nyt://article/506d22d6-0066-50f3-8500-6e72356aba4a', 'nyt://article/d52c8238-0112-5c63-b46c-805caca1c0e6', 'nyt://article/c4631b95-48ed-55ef-9da1-5538e8381018', 'nyt://article/72205a30-3e6c-556c-96f9-f7aa42fa4bb9', 'nyt://article/2eda1a77-2b58-54e1-aef2-f6480d753d9d', 'nyt://article/5325bea7-8294-5880-9271-d86f80ee7a44', 'nyt://article/71f10b28-0ac8-5c74-8101-a781d8b88dd4', 'nyt://article/d35a2be4-8651-5b52-8cfe-d2f3296e0eb6', 'nyt://article/aba101ee-b370-5aa5-bc83-d9e347daa2de', 'nyt://article/23a6bcb1-85a4-51d0-b972-847fd8758b21', 'nyt://article/031be2ac-5f2f-5e57-92ca-ebe7b6711508', 'nyt://article/92c398bc-c844-5259-98fe-57dbfab2eb19', 'nyt://article/3b3d552e-a57f-53c5-8ff0-31113b14c493', 'nyt://article/4548fe2e-6560-5406-af88-afb9185bc574', 'nyt://video/859a0051-602e-5f72-b1b1-16e2aa53faac', 'nyt://article/752b1886-c322-5f2e-bd4a-48cc30463897', 'nyt://article/51a3d293-71dd-59f8-a322-ec977af34a3b', 'nyt://article/8ceeb74c-0110-5697-af59-7e47b2a6ba75', 'nyt://article/fd53c2b7-0038-5810-bffc-82c26b78d593', 'nyt://article/3fd16c5a-3909-57a3-b4fa-13452ebfdbd8', 'nyt://article/a8387394-60fc-5413-8e55-9bb118209e59', 'nyt://article/8dc879df-0bfc-5666-90fc-588dee2a3638', 'nyt://article/31d215b3-6054-54cc-8297-198cc7081556', 'nyt://article/06ab9076-03ce-549c-b6f3-a8207a8f0c78', 'nyt://article/a69c7170-68aa-5b95-b7f0-6c534ddd82fe', 'nyt://article/91cdae3c-3269-5cdd-832c-82baeeda3296', 'nyt://article/4e56c826-238c-59fd-8398-d946b54cafaf', 'nyt://article/bf56ce35-304f-54cb-8560-ccdef084ed22', 'nyt://article/1dfbd1b3-3829-5ed0-b37b-8af8539d98e7', 'nyt://interactive/b9f9c273-99d2-5614-acdd-ff520e893d62', 'nyt://article/6b9bf558-1c17-5d85-9cb9-96957302965a', 'nyt://article/f4a1d113-1213-568a-9fb0-1214773765ec', 'nyt://article/cb7ef204-4197-5a10-b8ab-d79876d02710', 'nyt://article/a788c6c0-5cfc-590c-ac7f-4dff08add350', 'nyt://article/a88f2c07-14b8-5878-8ef5-3bb2a810ca14', 'nyt://article/2832a632-5b22-5aa7-96df-983255497b61', 'nyt://article/799a22bf-04cd-52da-8621-923983c6b79b', 'nyt://article/7c6c5ad7-0244-5a88-8fa2-b0829e45aebb', 'nyt://interactive/6f9dfc81-04c3-506a-9b14-985065235d43', 'nyt://article/ec210860-0da4-51d2-97e8-904cabab7c84', 'nyt://article/b7d830e3-54ed-52c7-bfaa-ae422b55ad8f', 'nyt://article/4ff0123d-daed-5869-94a7-48c73ddf6491', 'nyt://article/c4aec98e-ca64-527d-a788-2ef5dc2c5e8c', 'nyt://article/90e7e151-69bb-5749-a07f-d18f9ccbe36c', 'nyt://article/1a369c33-2629-51ce-be71-80a78e4e23df', 'nyt://article/e24b2ffa-2f0b-548a-8d37-7a1939b55e29', 'nyt://article/5ac52914-6905-5c1e-aa6b-89d425bf7abd', 'nyt://article/848be629-562a-526d-b240-cd096aae3482', 'nyt://article/82c3ab0f-fe3b-5d86-998a-16c15c23f51a', 'nyt://article/577e90c9-a37a-53db-a173-7c44b6ae0b6e', 'nyt://article/dba88884-4d7d-5750-bbac-289cd1cf4cf2', 'nyt://article/1f5ef007-4c09-5a60-8f55-744934372bcc', 'nyt://article/472858cd-93e2-545a-9bca-ad6b2061b836', 'nyt://article/76dbecbe-4d0c-5f48-855d-6dff04a6991e', 'nyt://article/73fd6413-092a-5d34-a70c-8f00cde3312c', 'nyt://article/a580ad1a-1693-541e-8b44-143d56083844', 'nyt://article/01c04716-3a06-504e-961c-5ac92b022ea4', 'nyt://article/208c2f6a-924d-5d1e-a03f-996695ffc330', 'nyt://article/17579916-ca0b-5b2e-a84e-ef3a520f4b39', 'nyt://video/68ea45f0-a15a-5b9b-9d23-47583defe934', 'nyt://article/944dd5c5-5751-54ff-8676-4abb71d7fcaf', 'nyt://article/df186b1c-f7e9-5da8-b486-8cbc45bd6703', 'nyt://article/92641805-06ec-5b59-be99-3e39512c583f', 'nyt://article/3acfab73-83ff-50d3-8430-0cb4e2349be2', 'nyt://article/ff8e91fc-f14b-5308-859f-737756f5a21f', 'nyt://article/99edfa44-e5a1-50af-b7b6-39d68c2e560f', 'nyt://article/e49b94a1-a8d0-5233-918c-33ea799c943d', 'nyt://article/7dabb456-eae4-5659-ba12-2099c2e7a1fc', 'nyt://article/42d47da6-2661-5822-82e5-6ec86f1a388f', 'nyt://article/e55efa03-d492-594c-9640-6f699f962a45', 'nyt://interactive/0fb6e473-4239-5706-98fc-9a22dc60a61e', 'nyt://article/dbdcdf3d-f029-5dff-a4a3-8d5fb5bd202a', 'nyt://article/10abe48f-4fe7-5008-af07-dbdc658259ee', 'nyt://article/bd0a7f12-0be0-5e7e-a360-519eb3902cbb', 'nyt://article/517bbf85-0e20-5f12-88f4-75aa934749fb', 'nyt://article/b7bd714f-70fb-5d22-af95-f26a8c107f02', 'nyt://article/352e1341-bdb7-5bd2-8672-face1c4984c4', 'nyt://article/906b4e9b-f6c8-56c5-a829-d8a8f44f37c4', 'nyt://article/4b9addb0-ece4-5275-a497-a5742b169c82', 'nyt://article/c5fb2795-a67c-5aad-b7ce-bad8adb856bd', 'nyt://article/04b201fb-5a15-585f-963e-2fb2faaba0ea', 'nyt://article/0a8e3d79-e89a-5ed4-8981-e4b9c1d50354', 'nyt://article/74f685c1-dbee-5fdb-a27e-4dab4b2af226', 'nyt://article/2dbe967f-70b1-575a-9134-233cf7dfcb33', 'nyt://article/716875f5-acd4-5d2b-a64c-4a5b5741a1a7', 'nyt://article/1144da25-6dd7-5369-8457-6c700b537ae0', 'nyt://interactive/4e9328a3-5f4e-5238-9b6d-8a1924da3489', 'nyt://article/0bc6eea9-bd66-588b-aeff-80bb1fca7417', 'nyt://article/bda4c607-5ae4-5e88-8427-fd20fb629b21', 'nyt://article/6045611f-3f32-544c-9255-a5efa1b01cf1', 'nyt://article/5c6c8048-7220-53f1-9d4e-216b9b4d57dd', 'nyt://video/5d66abcc-b231-52c3-b659-20f1d80f18c9', 'nyt://article/3cf5e168-0189-59d6-b2fe-4b771aa842a8', 'nyt://article/7a74f8f9-1c0c-52df-a259-403bb410d95f', 'nyt://article/4fef2cc5-0b94-5b17-8883-79246953c5f9', 'nyt://article/5777d841-50a1-578f-9a11-f36168c24726', 'nyt://article/603971a4-c18e-5c5b-8207-ac872b44fd64', 'nyt://article/02a8698b-e746-575d-b37e-7b04c79eacd5', 'nyt://article/c1df7566-51e6-5183-9349-aa26aa47a9a8', 'nyt://article/32338471-a889-5e8f-893c-9de650970d17', 'nyt://article/506af149-2b90-501c-b50a-3fb4d9d28ad6', 'nyt://article/482228c8-15a4-5b2e-a76c-97227c49dbc1', 'nyt://interactive/7db7a662-415a-5f69-818a-b54b2c71472a', 'nyt://article/3d887152-073b-572d-a0b0-3ab58fc02f33', 'nyt://article/39294cef-5f68-5a08-a6b7-9c6fcf66fb06', 'nyt://article/a008167d-fddd-5f78-a94f-a5c20c40e7e5', 'nyt://article/ae862df1-83da-5c3c-8588-4f513328f315', 'nyt://article/3fba21b2-f951-5098-97f1-9bd61e433a7a', 'nyt://interactive/2e8dd042-42da-5b56-aa1f-96c3c4d7b6ff', 'nyt://article/ee314670-308c-5285-945f-84bc53fe90a5', 'nyt://article/83bca7c7-7596-5e2c-9eea-6d62859db832', 'nyt://article/8260b62b-2405-52e7-97de-51b26a46c2cb', 'nyt://article/22edf542-d819-5470-874b-7bd9e3ebff83', 'nyt://article/18e5ff79-5054-5b3a-adcf-af96e67d5d62', 'nyt://article/c05d1802-fb11-54c6-b6c6-79ea93385490', 'nyt://article/7f482b56-f2d2-5106-b5c2-263b495b3d81', 'nyt://article/287d15e9-b5bd-5eb3-9d19-a4369c8f705b', 'nyt://article/0c590090-ca6f-54c4-ba2b-7c7617059c11', 'nyt://article/da358e0c-227f-5d24-9cad-8aa1e1a29c53', 'nyt://article/370a9aed-358f-5a39-8f19-71f3aa93e9e2', 'nyt://article/32539e60-583d-5704-88a1-15e73653af53', 'nyt://article/b5bafaae-6eac-56a1-bd81-152687034bb7', 'nyt://article/e29bbbf0-cb8d-534b-9faa-2e389edc251b', 'nyt://interactive/d5d460ca-b437-599b-a886-ec5fc49a6fb0', 'nyt://article/b465200d-6d3e-50b5-8d80-75081085dd5c', 'nyt://article/4c898390-82a3-5d21-9e63-bee012af32ca', 'nyt://article/af22806c-5e25-566e-988b-541a5ef200e4', 'nyt://article/8cd8346d-694e-5d55-990c-74317f6ee960', 'nyt://article/5054688e-a54f-574a-9e7b-7ffb6cfaec05', 'nyt://article/aad53d3e-9be5-535d-bf3a-2bf6928ebb12', 'nyt://article/44eb3eff-659b-565a-a1ec-cec54e0f4c77', 'nyt://article/0e91b0cf-6abf-5723-a3cb-e8633c2d2164', 'nyt://article/a3b53364-d66d-5b49-bbff-c691b660ccac', 'nyt://article/3d727b31-652a-5f79-83a1-e92fc8aa56e0', 'nyt://article/9b68cad7-5db2-5b65-9b43-cdba75854545', 'nyt://article/c8df73a2-bcb7-52e1-a56a-8318086d725a', 'nyt://article/a988d12e-2d3e-5812-8e59-4296e40b202f', 'nyt://article/c96b3b9a-6c5c-57ec-bbed-d450937bf68c', 'nyt://article/cda9c78f-a2c5-51f2-bb6c-f1ebdee30802', 'nyt://article/680aee49-f5ad-5e41-9d62-97acb290b87d', 'nyt://article/84939ce5-ddc5-5a6f-a06c-37ce914d4df0', 'nyt://article/e9c89d4d-4ee8-541c-a781-9d97668283c9', 'nyt://article/3b927a80-7aa6-5ffe-ba57-557ff839deb9', 'nyt://article/f9056355-2867-5957-be5b-5fae84e64cf4', 'nyt://article/b44ba9e5-ea89-5dfc-bd2b-228e09383129', 'nyt://article/e3829944-3631-5618-a43e-a6b7f3894bbd', 'nyt://article/3c769e3f-a01d-565e-8352-792513d2b955', 'nyt://article/1aa43b32-166f-5b5b-86d7-0de058a1e151', 'nyt://article/207a8efd-a20e-5d9e-a702-950fe0de80ee', 'nyt://article/d68dfe03-176f-5bef-ac8f-8356b37ebe8b', 'nyt://article/019cc577-cf26-51e6-aba9-14c984f884cc', 'nyt://article/9d3dc1ee-dadd-52cc-a013-9f882c14ea8a', 'nyt://article/dbd833a8-db59-54f2-81b9-02d85db7ed65']",
         "212",
         "-10.3333333",
         "-53.2",
         "NYT"
        ],
        [
         "34",
         "British Indian Ocean Territory",
         "['nyt://article/7412a0b8-5798-512f-92b9-94089426bec0']",
         "1",
         "-5.3497093499999995",
         "71.86064227010121",
         "NYT"
        ],
        [
         "35",
         "Bulgaria",
         "['nyt://article/961fe384-720d-5789-b310-105e7d3c0b9f', 'nyt://article/411711d8-0299-5691-a375-9bf010543175', 'nyt://article/6a5bbb3e-eac4-51fd-8ff7-cf9c18c99aaa', 'nyt://article/c6e1d0a5-e168-5ed5-8b84-908060e78042', 'nyt://article/e6b8866b-4bff-57e7-9c0d-824d3d2e425c', 'nyt://article/7b8fbf6e-0c80-52bd-977b-e38aa98ca567', 'nyt://article/dc9c142a-e59a-504f-ba02-4f8789cd0be4']",
         "7",
         "42.6073975",
         "25.4856617",
         "NYT"
        ],
        [
         "36",
         "Burkina Faso",
         "['nyt://article/ecc5bfc7-5513-5e1b-a118-6e290e1ca70f', 'nyt://article/1b8fe781-3948-59f8-98df-602b7a9b43d8', 'nyt://article/180f7ee3-173c-5685-a2e5-5f573f4117fa', 'nyt://article/f0140bc7-842a-55f6-a0b0-2993e7c1dd6f', 'nyt://article/f99ea5a2-b950-53f2-99f7-5ee1473fed0f', 'nyt://article/f53c045c-2311-55c4-9658-01bb0ae3311e', 'nyt://article/e7245a15-f2db-5f9d-9585-a92b309a28fc', 'nyt://article/6aefe6c3-ed07-5f7f-bd9e-b019f33fe902', 'nyt://article/8e9c68f9-7b15-536d-a7c7-9b34671ab74b', 'nyt://article/244cb9fb-1377-51ff-8221-63c988ea0b66']",
         "10",
         "12.0753083",
         "-1.6880314",
         "NYT"
        ],
        [
         "37",
         "Burundi",
         "['nyt://article/ec31d0fe-c8a9-5858-9171-7f2a5eccc64c', 'nyt://article/de5d2cfa-6811-510c-aded-0a3c48c11659']",
         "2",
         "-3.426449",
         "29.9324519",
         "NYT"
        ],
        [
         "38",
         "Cambodia",
         "['nyt://interactive/7c53d0e8-f08c-5155-b878-6ae27aa87510', 'nyt://article/726871b4-d714-58fe-a340-8c80abe3cc54', 'nyt://article/c440d31b-563c-55e1-8b79-503e757d6c5f', 'nyt://interactive/d5d460ca-b437-599b-a886-ec5fc49a6fb0', 'nyt://article/adcc7bec-5cc2-5d65-b4fa-e4c3a5b20ba8', 'nyt://article/c6aa1a0f-0410-590c-ac89-523e3b855dd6', 'nyt://article/ce205cfa-1338-5dcc-9137-05d62e27ec4b', 'nyt://article/a7aa22f4-ab25-5b9a-8423-0fb76b3d474b', 'nyt://article/f77eea6e-9e4d-5910-9f66-49f09fd9b59f', 'nyt://article/0a45f15f-fa47-5f6a-a317-522b0410018b', 'nyt://article/763f15f9-c0cf-5333-80b7-690312b01ac8', 'nyt://article/8c726b97-3972-5467-9881-43a327c3c29e', 'nyt://article/8ecee37b-633f-597d-b9b6-1300b012ae96', 'nyt://article/559bd399-1e4c-55e9-9331-7a547161956f', 'nyt://article/b59182d4-693a-524b-88c8-e750fb96a74e', 'nyt://article/1e9f9ee1-1d31-5c6f-8f3f-e332449f871e', 'nyt://article/c1cf263f-fdf5-5dc5-b140-943d67e28a2d']",
         "17",
         "12.5433216",
         "104.8144914",
         "NYT"
        ],
        [
         "39",
         "Cameroon",
         "['nyt://article/1a870742-7dc9-5dff-be4d-eb18e5fe5256', 'nyt://article/fcaf05cb-0e4b-5063-a3f8-ef729ede2429', 'nyt://article/c5fbdca0-e1f8-53a4-a6c7-33fddc6ea359', 'nyt://article/a988d12e-2d3e-5812-8e59-4296e40b202f', 'nyt://article/1dfe1dd1-4683-5496-b7d8-ac104d563057', 'nyt://article/d4e8d43c-b797-5d94-8de8-bd4b668e4abe', 'nyt://article/50da83b5-69c8-52fc-a1b7-e174d4f3f07d']",
         "7",
         "4.6125522",
         "13.1535811",
         "NYT"
        ],
        [
         "40",
         "Canada",
         "['nyt://article/abc471df-b1fb-5d38-8f2e-9d23d54eeb9b', 'nyt://article/c6eedcd7-d9c1-579f-9664-616908b2dc25', 'nyt://article/8bf2376e-59ed-5c9c-ac2f-1d7e18c30e82', 'nyt://article/07d6c3b0-2249-5964-981f-8a2f76357a27', 'nyt://article/42d5e670-3c16-5d51-82a0-7fbf55be1a26', 'nyt://article/38b2fe37-2e36-5369-80a6-2a8c691bdb44', 'nyt://article/0eac39a2-99da-55bd-aca6-e98959d6c840', 'nyt://article/60be5c22-d9af-5545-85a5-3eaf22871b5e', 'nyt://article/b3e395bd-8d3a-5ca2-abb4-fd1712abb304', 'nyt://article/4dd03502-10a1-55a5-bd8a-9b95dec7aa1a', 'nyt://article/cfc43048-bf97-5e05-a2a2-49fc6757584f', 'nyt://article/608e8353-e88a-55b0-a631-2eb964b06fc4', 'nyt://interactive/f619bc9a-8b2a-5041-8aa3-779e5cd977bd', 'nyt://article/41832675-8516-5f37-afb3-87f8aa6e7176', 'nyt://article/af921fc9-3b42-54d9-b938-60a66b1f40b3', 'nyt://article/345ee78c-1013-5ed5-a0c8-c8c6f25db6e2', 'nyt://article/064aa37c-27a7-537e-8444-fe677768c406', 'nyt://article/e05100fb-2910-58d1-9c6f-89e6227e3c07', 'nyt://article/798e48f9-1b82-5b72-8ef5-e4daa2a9b03c', 'nyt://article/99469c8b-8b0d-5040-bf08-3d280123988a', 'nyt://article/1686addc-6284-5ce9-a262-b35c4c891068', 'nyt://article/e1d6f178-488e-501c-86f9-5bff6504c963', 'nyt://article/8e2f78a5-8a57-5bee-b02a-4e001d3c7037', 'nyt://article/ba5abaa5-22e1-535c-99f2-b894651ce10f', 'nyt://article/23ad3619-a76b-5125-b61c-5a0779e3e2e2', 'nyt://article/d227abdc-a0a4-57ed-b16b-1b6da530c9e4', 'nyt://article/ba0c52f6-68b7-595c-a908-69b8a2cd35f6', 'nyt://article/23f70cdc-83f0-565a-9092-1917199ad802', 'nyt://article/008688da-8a3f-597e-9dc5-73c497a61f53', 'nyt://article/c204a5ca-c330-5ea7-9a1e-1d39712abafa', 'nyt://article/8a8966af-b5d7-59d1-b01a-c7155b69118b', 'nyt://article/e075daf6-6fe1-556c-8a83-25d6ce03833a', 'nyt://article/31f6c345-c8bc-5d0d-8c49-445b0f8a201d', 'nyt://article/b0d12d7a-c8e7-5c36-bd3c-669590c80d57', 'nyt://article/b7e9864c-a04e-5c9b-aabb-a5a3ad3781b6', 'nyt://article/6dd8802d-fd2d-5e65-bb10-88359f8fe1de', 'nyt://article/272f90dd-396c-5fb6-aff6-5df1dfdff513', 'nyt://article/4e76384d-764d-55e5-bd22-9009d4148189', 'nyt://article/96a55f9e-756e-5ddd-928b-789d304b5002', 'nyt://article/b716cacb-3505-579c-b15d-90b4b2e04e47', 'nyt://article/2e173a82-6f5d-56ff-9a14-c1698f798c43', 'nyt://article/0a9ab5ac-a54b-52e1-82de-f29562d2781c', 'nyt://article/935764cf-a716-59dd-9734-9631cf445acc', 'nyt://interactive/b7174af5-7083-52fc-8f94-14dfeae60af3', 'nyt://article/e1beb64f-9804-5516-bc1b-d8d30e1b21c0', 'nyt://article/863d7ce7-229f-50f2-abff-2ed220500715', 'nyt://article/986daf17-18d5-5f34-898b-0bd6a0d3da59', 'nyt://article/61efa0ef-43d3-54ae-8387-66d17e19b8bd', 'nyt://article/f51c31c6-4ffd-5b98-98a7-f7c68dd97d64', 'nyt://article/2ed420ee-0ce2-5663-8a0f-c7291e3515b0', 'nyt://interactive/56b1c6b8-0f82-5193-8f11-c16f8d6646ed', 'nyt://article/3083e8da-e87a-52ba-be9b-259a2d04e149', 'nyt://article/975b5c99-9580-579d-b972-7ddbd29a38bd', 'nyt://article/b6ef76c1-45d7-51d2-80ea-17d4b907a6fd', 'nyt://article/3ec017c1-6595-554a-a88b-1c7ec498fcf1', 'nyt://article/da910635-c6eb-5bbf-b0ea-346796620104', 'nyt://article/ca3e2cf4-0813-5ddb-9077-2af5dc8d00cc', 'nyt://article/52e2babc-dabb-5839-8f21-d22b32ece44d', 'nyt://article/5cc804aa-3191-59fa-a7d5-e68747cd5c06', 'nyt://article/2cd98abf-e3c0-5fc4-a332-c28f4d05bd9b', 'nyt://article/48c730c0-9250-5a29-befb-8c3782b23c2c', 'nyt://article/11e064ab-9132-5c67-8000-71515cf921fb', 'nyt://article/439ae825-a418-5d41-9547-95fc49e01ec8', 'nyt://article/c0a0f857-ecb6-52d0-962d-b9803e401ca2', 'nyt://article/6c78b3d6-64f5-5008-8ead-2d72a298cf9a', 'nyt://article/3656a3e7-ebdb-5f43-bffd-fbd36db95f6a', 'nyt://article/7618564f-74cc-57e2-ba2a-968ef833000f', 'nyt://article/d2111079-e7de-52a5-80be-54fb6fdd08aa', 'nyt://article/1527e54c-a5d5-5937-81f2-75ee40b3d54e', 'nyt://article/2ab0ac1e-3e6d-5a9a-a458-5ab4561880dd', 'nyt://article/cdecb5f3-3958-5c6c-b0e3-b9c792ceb944', 'nyt://article/9195049c-81a8-56f9-821d-c3e82543e1b0', 'nyt://article/00a686dc-94e1-5c92-a1a2-dfa3a9f29016', 'nyt://article/d871b448-f472-5896-b02f-bde4b1582557', 'nyt://article/36ade660-addc-5816-bf71-0d7463917f33', 'nyt://article/b60263a2-9068-59e9-a217-de93a57bad73', 'nyt://article/2596d0dc-9519-5b19-9bbf-5fb75a64a4ab', 'nyt://article/7b1f933f-c9aa-51e6-8a67-5e0ccbe59d3b', 'nyt://article/e953fdba-1714-5be3-807e-590dfb4d0e9f', 'nyt://article/68172406-c15a-541d-8918-96f15c31dd2b', 'nyt://article/bf3b713d-876b-5511-ac2a-43b805f771ed', 'nyt://article/78f5c0d9-7b42-5102-ab19-6a0bc2f52567', 'nyt://article/9d2fb890-56a3-5af1-9bd8-abeaf02358e5', 'nyt://article/907a6bde-bbf2-5eb1-bd7c-84d3019d5291', 'nyt://article/68064019-5d69-5026-9fc5-47a2ff716440', 'nyt://article/21c013bb-159c-5fe3-ad39-00456a9dcc80', 'nyt://article/bf4a99ec-4a92-51f8-89c9-d903edfee7c0', 'nyt://article/22219913-69fd-5794-a50f-28d243789dc9', 'nyt://video/3b261cc5-c5e5-5481-9bf0-0b6e0aa298a6', 'nyt://article/0af8fc57-fbd4-5b61-8384-5a7d126db5ca', 'nyt://article/47f384aa-d01f-57c5-9c4e-69dee7e00635', 'nyt://article/1660ce49-08dc-5886-af6f-a77a3e9d2b90', 'nyt://article/1f4e11c0-5395-5ac7-a538-839f74e1c545', 'nyt://article/120e4e0d-239e-5b52-83bd-462598928a5c', 'nyt://article/95cdfd7e-7224-5a7c-ae61-010d17ae31df', 'nyt://article/fa4dc20a-629a-5837-8675-7342a7095464', 'nyt://article/e1da3cb5-18d8-5817-a684-aa932a20c9b1', 'nyt://article/21e7ccb6-0f94-5a60-b40d-19a3eca0782d', 'nyt://article/fe61a35a-1ece-56fd-83a4-b23792270153', 'nyt://article/6d3c79e1-2de3-582a-b403-65a26d2f0a87', 'nyt://article/f1921814-71c6-5e9b-8324-43714c23b3ed', 'nyt://article/81ec3052-805f-55df-8839-d68b7a459688', 'nyt://article/a72590e8-dcc2-5c4b-9522-e5fb52746cac', 'nyt://article/d42cf4dd-379a-5c9e-a024-c3520d605c27', 'nyt://article/7b3fc537-a568-5d3e-b1fb-07e3166ec112', 'nyt://article/675cf4e4-3ac9-5f4a-85ff-8ee7d9461441', 'nyt://article/f700f5b3-cdf7-5131-a7ae-0e208552229e', 'nyt://article/f8f13337-8f29-513a-89f6-6163fbab4175', 'nyt://article/89501e4b-0d0b-5b65-b331-2c5454c2be0f', 'nyt://article/fd46fee6-68ee-5041-a3f0-816d4834889f', 'nyt://article/546a73f3-cbf8-5f41-aaab-23ff75fe0b58', 'nyt://article/a5903af6-130c-59e5-a908-e26f9938ea55', 'nyt://article/e4c02236-1695-5480-b0db-f8f7b209c81b', 'nyt://article/0dea6b4a-892c-5bbf-a139-a4480c115b7d', 'nyt://interactive/8377ca81-4dd6-5734-855e-69516f60001a', 'nyt://article/398e854e-4820-5aad-b0b2-b0daea8e6cd3', 'nyt://article/34471c90-472f-54ec-b703-39c79e23dea9', 'nyt://article/bb262d5f-a165-51e4-bafb-8443e7fca3c6', 'nyt://article/45d17653-b188-5f7b-80c7-f9bf3251ad89', 'nyt://article/c920f705-6331-5c1b-a96f-77e4ab4c497e', 'nyt://article/954bc947-a7ee-5d8c-844c-c73c3c57ad79', 'nyt://article/fca9d08b-77d3-5839-a9ff-9497c4e92fca', 'nyt://article/4d123274-8627-5fd2-a13e-4e5d6c012faa', 'nyt://video/c773b819-3c19-5511-a5b9-98cdd78c2272', 'nyt://article/14441454-ee6b-5dc0-85f0-cc8d0cc98c1a', 'nyt://article/852d9c82-87f9-5e10-a6c3-7d37159a6ef4', 'nyt://article/9f5e3842-82d1-5e66-915f-ab93d564c7ca', 'nyt://video/019e96bd-15c3-59c2-9819-520bc4b63d3e', 'nyt://article/e09d5df9-e70d-546f-9d55-9f4ddec8c103', 'nyt://article/da88c5e3-7910-5b12-8e64-02084e6db26e', 'nyt://article/979a5b2d-d677-5f6e-b5a3-885959bcfd48', 'nyt://article/320f4170-3e38-5b8c-8a9c-904bddeb09d8', 'nyt://article/d34c1c71-e982-5637-9078-b594c9e60a46', 'nyt://article/ad665815-e98d-550c-947d-fe1b6b6c868f', 'nyt://article/b9191b7a-bbd4-546c-a623-adae3b48f271', 'nyt://article/3ba6fd38-d24b-5c13-a510-fb20761cda12', 'nyt://article/e0fd0271-0db1-595b-908b-af8e53d6666a', 'nyt://article/0a996aca-0daa-5d56-8591-56f6e889fa1d', 'nyt://article/6b97fff2-83e1-5623-ab10-bd22f4b3d11b', 'nyt://article/9d3a4a42-d615-5e9d-8db8-9779bfc63ebd', 'nyt://article/057efa19-09d5-5377-a996-48e669c07379', 'nyt://article/519614b0-7920-52df-b42c-dea6ce94cefe', 'nyt://article/7fde1996-d185-5781-bd34-1f8dffe80752', 'nyt://article/b7c1033a-4d83-536e-be8b-dc9549d65155', 'nyt://article/5e5c3c09-42fe-5702-a897-ac99ed0da598', 'nyt://article/2ccbcc75-d9f4-5938-afaa-d34c877a8b5b', 'nyt://article/8ee4da27-6c10-51d9-bbc8-933fa36906ff', 'nyt://article/c313714c-bcdb-5c53-ae42-32e740f5c6a3', 'nyt://article/dc90d96f-c76d-5ba0-ab15-19a64cc1cead', 'nyt://article/ccd6bc59-1026-5572-800b-4e683f862969', 'nyt://article/dc0c6e06-eeee-52f8-bd73-014d854f0fb5', 'nyt://article/e64bd29f-c602-5e6d-9ff8-6da1edce98dd', 'nyt://article/1cba8676-b0e8-55c3-842a-5ec1968dec86', 'nyt://article/908dbcc2-0d7d-5836-bc16-d5e7fbd518c8', 'nyt://article/cf2ac03d-83b6-52a3-a2ef-d1546430be86', 'nyt://video/6086acbc-4064-58b1-83fd-817893a5132b', 'nyt://article/cb7d84e0-149a-5798-b619-9188593f11ca', 'nyt://article/4e5b93b6-0a0b-5c89-aa4b-628cbc80ce74', 'nyt://article/954e28a7-846d-53d4-9dc7-8c5ce1865d3b', 'nyt://article/5862b2c1-da5b-59e8-9f75-11e86d6dad0d', 'nyt://article/e20b659f-6e86-5ad7-ad26-ed1003769082', 'nyt://article/350a9c04-fd7a-5b60-b4a2-1792b74e399d', 'nyt://article/2ee9f592-a9b8-5ff2-bbb3-17d2696742a3', 'nyt://article/d819fc3d-a4ec-5008-8efc-aad28ea558ac', 'nyt://article/67763624-8493-5a37-9ebc-cd39e4a4940f', 'nyt://article/722a8687-4a4a-53d1-8356-d706c5104b93', 'nyt://article/4ebba792-4e26-5b48-8d5c-ac526b6cc732', 'nyt://article/6a1bfc97-d551-550d-9565-04a4dad326c2', 'nyt://article/5a7ae7d9-b4d8-5695-8b2f-22c36068f9f6', 'nyt://article/8a790596-1e51-52d1-bbd8-a23a6bdbbe38', 'nyt://article/5c2a1cbc-5147-5eb6-bdc2-b082aeb8e67b', 'nyt://article/7e228b1b-dcc4-573a-9f36-b831cd5201b9', 'nyt://article/99c41f37-9ce1-5683-8d49-1a5e8d953912', 'nyt://article/2bcafe1e-3903-5768-8543-91185204a7db', 'nyt://article/ed165c11-21e0-5162-9a4c-f2aac944750f', 'nyt://article/2293e392-8bbd-5550-872c-92cea5e7ef35', 'nyt://article/d039c247-225b-5b43-8430-0724abc3c7df', 'nyt://article/7ab4cc33-7f0c-51dd-b093-f649f6238326', 'nyt://article/56fc027b-a20a-5088-9c32-f035411328f3', 'nyt://article/2bff4b72-9a09-5f4e-b306-8086ccc84af1', 'nyt://article/34755866-baa4-5af8-8f83-4ae4a24c97a0', 'nyt://article/17ea0afa-d3ea-55a2-85a8-8799db99297f', 'nyt://article/fcaf05cb-0e4b-5063-a3f8-ef729ede2429', 'nyt://article/55a5b7fa-8f9e-5e06-b607-346177007093', 'nyt://article/3e85dac6-d0f5-5748-9fee-5adfd79df0db', 'nyt://article/c72b539f-3fcf-52e3-92cc-ad6be4ebf9e6', 'nyt://article/b9b572ee-7a43-5dde-9ca7-abccb1d7c64c', 'nyt://article/07886ca9-148f-5924-8791-cd02f6271af7', 'nyt://article/d8e3d127-cc0a-5be6-ad00-8ea85f6ba91d', 'nyt://article/1c2f0425-7b78-5a8b-b17e-41ade1223192', 'nyt://article/8a191ef6-c2a1-5ca7-b0c4-e67ce76b3829', 'nyt://article/7ff497cc-fa85-5233-bc64-6ca50804ebae', 'nyt://article/652b24b9-44a0-5e82-a815-f9b8b7c77212', 'nyt://article/9e9979c9-f148-54e3-9d27-92feae97eb5e', 'nyt://article/9d38f20f-68c6-5db6-8f39-5c82bf84dd28', 'nyt://article/69e5aa07-b267-5af2-a35f-ef0897cfcd48', 'nyt://article/0c6b924b-246a-51cd-9237-8e2b6b630098', 'nyt://interactive/db2d684d-ccf8-53f9-9fd1-080cd3338b66', 'nyt://article/0a4fb646-8bb5-5b60-9f20-e794e150531d', 'nyt://article/cbc02da0-d400-51bb-ab64-241b316a71b3', 'nyt://article/301898cf-7af0-5bbf-8f8c-2ba5f98310d4', 'nyt://article/a3e00b18-c078-5cfb-b6b4-1b99607225f4', 'nyt://article/1d5a61ce-b39d-54e7-90e2-561418801840', 'nyt://article/0150f781-adde-5b51-a27b-5ee1a516ad11', 'nyt://article/cabe133e-dec6-5f79-9aca-52bf0b37d91a', 'nyt://article/83288174-3224-5d3d-a996-fc8833c11ba2', 'nyt://article/74527575-c0ff-5c3d-a43c-b4a2c21b6d68', 'nyt://article/f1f642a2-039e-5a5b-8d1c-44f8e77867f1', 'nyt://article/93bf167c-51d0-5e3e-a5d6-cb6847993410', 'nyt://article/5d4f7dc5-a1d5-59b7-a8d3-aabcd1972aa0', 'nyt://article/2db3a27a-1dd9-5cd5-a564-f78d3c0f9576', 'nyt://article/8af83f89-4013-50c1-8b76-7e066e63bf24', 'nyt://article/e681d593-73c2-52b0-a073-ff840504dca9', 'nyt://article/bbd016ba-d860-576d-99e1-0f251f01af53', 'nyt://article/061b1d80-5b7d-5a73-a5f4-bcd2f5574ad5', 'nyt://article/8fe504d4-2e5d-5cb7-bcf0-b8f47125dc9c', 'nyt://article/7c0f7e77-e60a-5ae8-9318-5de175e29bae', 'nyt://article/296e6d59-7af3-5196-9696-249b9066ceb4', 'nyt://article/792e1284-29fd-5573-9519-05e63be23de6', 'nyt://article/484b0ec0-e05f-5f03-a5f7-a468f713665d', 'nyt://article/2a428923-535b-507f-a686-3910768777ea', 'nyt://interactive/ec72d4ed-d437-57b7-a17d-4ac919653258', 'nyt://article/e70e0fe5-a246-5c44-a0f5-ad9094b22fc6', 'nyt://article/209519e8-7368-57a4-b8fb-53c598b9570e', 'nyt://article/6094fa8d-1e99-5f52-b122-115bfb5ac97c', 'nyt://article/2990b8aa-41d0-51bc-9a84-edb0c51ddd29', 'nyt://article/95494e94-7f8e-55c8-88b2-1a0a63c35d34', 'nyt://article/1068ca27-eb20-5ba0-9cdb-502851a3b948', 'nyt://article/07fcf2e8-4cef-5d89-8514-c795ef74ad24', 'nyt://article/a97097b9-4806-5c14-b978-f217ff768843', 'nyt://article/f6c8fd3c-4e89-5985-bfe5-27761ed92f77', 'nyt://article/518298d3-b05b-559e-8814-34430ede99c3', 'nyt://article/6a1afc0d-23b3-5a5c-9e32-c1df928a7590', 'nyt://article/c53c9271-b07d-565c-9223-5ae808535c9d', 'nyt://article/c952cbc9-331f-5cf9-8227-8838df2f16bd', 'nyt://article/252ae56a-1dc7-506a-9f36-0210728aad0d', 'nyt://article/47f39377-6da5-51c6-8b76-990e2ee77c8c', 'nyt://article/81d4cd49-71db-5b39-8631-8baf6987baa2', 'nyt://article/d68c8a6a-f275-52ab-8d81-8c04f2538bed', 'nyt://article/a38a7b5f-f638-5f16-bd08-ece1782e3a7a', 'nyt://interactive/ae557018-3933-5e57-8b30-2f195b161811', 'nyt://article/d3846a6b-e2ff-5ba3-ba3b-aed06545bfb8', 'nyt://article/ecb890a4-1df1-5725-9f19-6d14bd1e7d4b', 'nyt://article/3279fd40-3989-57c4-9a61-4cb597ef60de', 'nyt://article/1e8c8760-213a-58a7-9a67-cd2d9376189b', 'nyt://article/c55ef6a6-e06b-5c36-a763-57c2ca0f7831', 'nyt://article/a008167d-fddd-5f78-a94f-a5c20c40e7e5', 'nyt://article/a2a28e01-b98e-5813-8400-fd7fb0ce2997', 'nyt://video/6d5c158c-e373-560c-af87-d69baff3c33a', 'nyt://article/eb30b779-fc18-5189-b22a-4affc0669ad9', 'nyt://article/937d629e-5c21-5863-9358-9b93767b194d', 'nyt://interactive/d5d460ca-b437-599b-a886-ec5fc49a6fb0', 'nyt://article/10b68136-7d20-5392-bac8-0a29cbb85c8d', 'nyt://article/b2619d8c-5db5-5958-a877-8b8ceb8c961a', 'nyt://article/e95678c6-90d4-5cd8-a51d-8a8bcfc66be1', 'nyt://article/96b7b51e-f5df-5c06-9d22-2fb974b59a8d', 'nyt://article/cb2e6c80-2100-58e1-b619-b30f3ff38c8a', 'nyt://article/c272af05-a534-5fed-8c81-b5f193e467a9', 'nyt://article/c0f976ba-1357-5979-acac-cc02984d1fa4', 'nyt://article/8aaa5ccf-c6ec-5954-950e-dd8609b840bb', 'nyt://article/91f7abe3-2818-5df4-9629-6c18bc2d2e1a', 'nyt://article/c19d67d4-b550-5e54-8552-064ab7e2be40', 'nyt://article/2ce12f2c-06da-56ec-838b-e4fd5d4a51f5', 'nyt://article/74e12c53-c6c2-5e3d-ad6d-6a96fa680993', 'nyt://article/26217966-86fb-5795-aced-96dc4bac340a', 'nyt://article/d762fe94-dfea-551f-a0d3-a7ef8369df16', 'nyt://article/6da5038a-d598-5572-b54e-14e32267ddd4', 'nyt://article/e7b0e0b5-e75f-509d-a9f1-e57c15e1493e', 'nyt://article/5ea115c2-6b85-584e-9188-8f0e84251856', 'nyt://article/55105b16-71c2-5e71-af6d-5fb2f3714351', 'nyt://article/1e1089d5-7e64-5582-b2e7-cf0f2ae4f193', 'nyt://article/b305f553-8799-5dd3-9bae-9e56174a7a58', 'nyt://article/8ea22a88-940c-59eb-b869-aa8ccf5a50b9', 'nyt://article/232d4e99-3371-59e7-a1f3-c0995febfc66', 'nyt://article/ca3d0753-e32f-5c77-af3b-d37297d21652', 'nyt://article/b36195c0-6cd1-5efd-aaf9-398b1ec19d68', 'nyt://article/d5a012ad-9a99-5520-9ea1-14235f8ada6e', 'nyt://article/ac2b3086-8ded-5bc3-8f22-98c648a257a5', 'nyt://article/caf2171e-6951-5bc5-9262-ce9e1494d974', 'nyt://article/813ef19d-fb48-5653-9bf8-e2359697dd57', 'nyt://interactive/8e1b2a6d-ea16-585b-a525-582d3f0db9ef', 'nyt://article/7a93dfe5-8cbb-5f59-a6a3-b1146ff25563', 'nyt://article/9634d336-8811-51b6-b13d-86c9d2b65752', 'nyt://article/1bafe307-fc92-5784-9db5-c72a17133cd2', 'nyt://article/30ecf60c-5411-5907-af4d-6e4f0cb8534c', 'nyt://article/7a828e86-6353-5787-953a-335a2d7c456b', 'nyt://article/8ceeb74c-0110-5697-af59-7e47b2a6ba75', 'nyt://article/d895a8ad-71a7-5e55-a5a6-8de1d6729c7e', 'nyt://article/3cc220c2-20d0-5bae-a734-f43830448d6e', 'nyt://article/53fc122f-2cba-5278-a048-212c3eefc721', 'nyt://article/dda12879-6477-515f-b996-b72659942e35', 'nyt://article/b5f1df69-24bd-50b2-b3c3-287a8d233753', 'nyt://article/81012c29-8632-5056-97f6-60b9727c6848', 'nyt://slideshow/f37e4394-fb7c-5d0f-9158-50dea898324c', 'nyt://article/472858cd-93e2-545a-9bca-ad6b2061b836', 'nyt://article/5c379f18-956c-57f6-b04d-3835f6df6c54', 'nyt://article/009c2573-dcbd-5414-8880-c295b0cd1a7f', 'nyt://article/14a42fb9-1ed7-52c4-a28f-6ec7b66ba7df', 'nyt://article/c21f8c8c-8d3a-56e2-a481-cce52ca4a436', 'nyt://article/674900c5-0982-5b6a-8fa6-379c66b4cc78', 'nyt://article/04a21d9a-ecc3-577d-906f-754d2457224c', 'nyt://video/052807cc-caa6-5a9a-986c-296570e7e177', 'nyt://article/cde83fff-6b10-5e1f-ae26-4f7fda1d44e0', 'nyt://article/44b602ef-452c-5974-a507-1ff7b378e6af', 'nyt://article/ad7d3e3b-ec87-528c-8a38-24001b1f1bee', 'nyt://video/f4a65528-9414-57fc-a24a-4b0a0a3198f9', 'nyt://article/6c55a2e4-c1aa-5e03-92f2-fd058f9f97e1', 'nyt://article/3b7883c9-8aa2-58ea-b78c-bfc99a59dc17', 'nyt://article/658e2488-2276-536b-aaf3-dac7d9959ff6', 'nyt://article/290b3664-6ae1-5700-91b8-bb79f06c4a06', 'nyt://article/95f6009d-70fc-5b30-b7db-b11a9f607edd', 'nyt://article/6b81166c-1678-51f4-aef8-5f4e34aab8e8', 'nyt://article/7d406b18-def2-55b9-9989-3655459a43cf', 'nyt://article/4442ce9d-c553-5fd5-98e9-fec26eb78212', 'nyt://article/a7c52daf-964d-5119-bbb0-d7d0c14ff969', 'nyt://article/dc890902-a23c-56ba-bca8-5f8f0071a60b', 'nyt://article/2f3ed7ac-6d90-5aed-9e1e-79e8fdbdfd0c', 'nyt://article/eac1f119-03f2-5f59-b64a-b7dcadf86b55', 'nyt://article/f43cba88-b5fe-524c-a6f5-effb3ce6f828', 'nyt://article/e47215b4-6edf-5e3b-89a5-b62676df6375', 'nyt://article/871fc07a-da6d-535d-8c88-a472d013b2e6', 'nyt://video/e34e2b43-436b-5290-be3a-2e816ba74015', 'nyt://article/4336fc5e-b8e2-5566-977b-a86ef2fab052', 'nyt://article/521078c0-7fd0-52a0-a11e-921b33c8f360', 'nyt://article/c2a0e691-a44d-5aec-ab16-1f5a434efa98', 'nyt://article/43faa9f1-d702-5735-bfe8-15372a05ab98', 'nyt://article/417aeb7a-24fd-522e-9ae9-64b0c8be1ab1', 'nyt://article/969e5ae1-c413-50f8-a98b-62b53213c3c4', 'nyt://article/4095f212-1db5-53ca-acc8-61b6b0405e6d', 'nyt://article/27e17fac-e79d-55d0-b308-36dc4dd7adf4', 'nyt://article/6ff19930-da65-5e50-b4de-9916219e5784', 'nyt://article/23c710dd-c274-5a41-98dd-94637960045d', 'nyt://article/d1bdbb82-20cb-5273-96df-965e0453d00e', 'nyt://article/256daea0-f119-52cf-a824-1fac2f70e684', 'nyt://article/713fa2cf-9ed7-5564-9b62-6fa7f4accc97', 'nyt://article/2401f549-7990-56aa-9e65-8c7095b3b506', 'nyt://article/99a4d448-069e-50d0-94cb-2de4742e8485', 'nyt://article/96129e6e-c9bc-5090-a168-53362e2e1a3a', 'nyt://article/b5de8306-7219-5826-82e9-916fc64e4b99', 'nyt://article/31a6ba0f-5e79-535a-ae28-fc4ebc34120c', 'nyt://article/be8e1ec9-d1ae-533a-999f-4b2361f5d223', 'nyt://article/94be81c3-c9ae-5796-b7ae-abdce8b7fe60', 'nyt://article/0f4aeaed-decf-5bc9-9efc-c7d5d82bd9f7', 'nyt://interactive/f153fa1b-4a3c-5f0b-b399-a6293e30212f', 'nyt://article/4fb535ba-fcd0-5385-87c6-9a0656246517', 'nyt://article/7c0a5bbd-3610-593a-8c7f-8dc6d6dfc46c', 'nyt://article/57bdcc9f-e6f4-58db-8cf3-1eb6c407b297']",
         "347",
         "61.0666922",
         "-107.991707",
         "NYT"
        ],
        [
         "41",
         "Cape Verde",
         "['nyt://article/b31bf7b8-fd6a-5c88-b518-a92505671024', 'nyt://article/349ee346-09b0-5114-938b-6c471d0a9aa1', 'nyt://article/fa8a5ac3-3090-5d30-a759-712ffa76c376', 'nyt://article/2277a789-ee94-54d6-b682-171604883d76']",
         "4",
         "16.0000552",
         "-24.0083947",
         "NYT"
        ],
        [
         "42",
         "Caspian Sea",
         "['nyt://article/d7ea26e8-b61f-5975-bd0e-ff455733ac5b']",
         "1",
         "41.7789772",
         "50.560757905794325",
         "NYT"
        ],
        [
         "43",
         "Cayman Islands",
         "['nyt://article/a456784d-b5fd-5a1a-b0b1-49f1a8739c04', 'nyt://article/4d6970ca-53c0-51d8-8c98-f0ea58b16e2c', 'nyt://article/0539543b-5dd8-5dcc-a0b4-9893e0fa3ade', 'nyt://article/caf98741-73b7-5dc0-bfc0-9314490fb22e', 'nyt://article/be74adb5-7a7f-5ee8-a978-63e5c8744895']",
         "5",
         "19.703182249999998",
         "-79.9174627243246",
         "NYT"
        ],
        [
         "44",
         "Central African Republic",
         "['nyt://article/8e9c68f9-7b15-536d-a7c7-9b34671ab74b']",
         "1",
         "7.0323598",
         "19.9981227",
         "NYT"
        ],
        [
         "45",
         "Chad",
         "['nyt://article/2dbb5dbf-deb3-51b3-bf62-ae0ddca16e93', 'nyt://article/b472a426-1803-590b-ab5d-a81aea32a425', 'nyt://article/d8309b41-b5df-51e9-9078-b09483edf1b4', 'nyt://article/890d3351-1a2a-52a4-867a-fefffe6adb12', 'nyt://article/0c0118d9-61e0-5b5d-a953-28ef0e662114', 'nyt://article/d24390b1-03b7-51b0-80ca-f005216014d1', 'nyt://article/46b5f660-7592-5a91-b0b8-69ddc2a73c4a', 'nyt://article/22ae90a5-47fd-571d-8389-0df2021b253f', 'nyt://article/0f131aca-c945-564d-8c22-d273f6fcbbdf', 'nyt://article/ed2d23a0-5c77-5be2-ae6f-0ca58fcdd1b2', 'nyt://article/34e514ce-6ebc-58f1-bf4b-d750eadc447e', 'nyt://video/d650de63-1cf4-5371-ab0b-aa50a14aab59', 'nyt://article/7bc0f53e-3bab-5923-80a3-0d46cc92bdad', 'nyt://article/78237980-8280-5d83-8cc9-b408853106fe', 'nyt://article/8a51bb2b-1b25-5a46-8f35-05b9c5a8c6aa', 'nyt://article/a9921911-82c3-5820-8f1d-ae6c7cba37d0', 'nyt://article/897a0e53-6076-5a98-bb28-4d7d3df155a4', 'nyt://article/2ecf5073-590a-5fcc-b7aa-5ca1d3743dd3', 'nyt://article/018d4a58-caea-5a5a-8f20-e6c06873b688', 'nyt://article/428f1222-5c16-5449-988a-db38277c2e61', 'nyt://article/53118789-4397-5531-89b9-9058ba300f0c']",
         "21",
         "15.6134137",
         "19.0156172",
         "NYT"
        ],
        [
         "46",
         "Chile",
         "['nyt://article/ab5ee955-9d3c-549a-bc1c-42066ba59a05', 'nyt://article/5cbdc28e-0139-57e6-90e4-a4cde6630360', 'nyt://article/719954bd-932b-5bbe-9b2a-eec08ef4868d', 'nyt://article/b68a2290-9b5e-5c72-b087-d61078994aa5', 'nyt://article/0ddd057f-d7ec-58ed-81ad-af5021a7fd5a', 'nyt://article/58db3f34-365f-5475-bf60-ce0e7cf32e4a', 'nyt://article/795e6730-0b33-58ad-9d63-8d7e664ea475', 'nyt://article/73dc9de1-a40e-5414-9f7d-8e2c20a79e45', 'nyt://article/34399e0d-af56-5a07-80fc-04f64a7c0ff8', 'nyt://article/5d4e2aa8-c10f-5c90-a32b-31b9fb04872e', 'nyt://article/63fb2a5f-f421-5a40-9770-b4c3b32b140c', 'nyt://video/ce4ab493-f162-54fd-9fb6-cb660a40f882', 'nyt://interactive/d5d460ca-b437-599b-a886-ec5fc49a6fb0', 'nyt://video/689fff4f-b08b-58c0-a4bd-e65290681dc8', 'nyt://article/85a05d78-f423-55ff-a0d7-d0cdccd2edff', 'nyt://article/bab2aeb5-2d56-5a5e-bb8f-6e95dbaadfcd', 'nyt://article/60ab25a2-31c3-50a9-a84f-9e9c424da10d', 'nyt://article/9f0cd124-6870-5f99-96e2-83e9a661caa5', 'nyt://article/f77e9f54-e9c1-5c3b-bf11-ea1796acff04', 'nyt://interactive/66ceff15-1a83-5deb-a558-5a51d705efcb', 'nyt://video/a1d000f6-8b7d-550f-8334-588db5398ece', 'nyt://article/66060ec2-b65c-52ad-b92c-a511a4d8594a', 'nyt://article/6045611f-3f32-544c-9255-a5efa1b01cf1', 'nyt://article/88935e7a-5b02-5df1-8ff8-7aa4c432c948', 'nyt://article/4fef2cc5-0b94-5b17-8883-79246953c5f9', 'nyt://article/90e7e151-69bb-5749-a07f-d18f9ccbe36c']",
         "26",
         "-31.7613365",
         "-71.3187697",
         "NYT"
        ],
        [
         "47",
         "China",
         "['nyt://article/8bbcb1f4-fae9-5bc1-906f-9c1824c3e4b3', 'nyt://article/0c258820-a70b-52f8-8ba0-f02670346053', 'nyt://article/66efc916-3b85-51d1-aa30-72b8629d6123', 'nyt://article/8e18ad2e-f48e-5154-858e-40a2ec8f10d3', 'nyt://article/0cdb94f3-7586-50bb-ac76-25f54e4b16e7', 'nyt://article/6a9b613b-3619-5b68-a3e9-1852f29d773c', 'nyt://interactive/5b3fcdd9-138f-5c70-b397-89d1cdb6959b', 'nyt://article/151dc15d-3a4a-5928-84d2-f21a636e6caa', 'nyt://article/037bed0a-43d8-561e-a9f9-3f0afb29dada', 'nyt://article/05963815-cf8b-5d57-8369-ef3ecea159ec', 'nyt://article/9a56134c-ef36-5639-b56c-fd4a3e0263b4', 'nyt://interactive/91d165d6-83c8-523e-b48a-f3cea04659a3', 'nyt://interactive/13d75cb1-6094-537b-aec8-f487507b3ffe', 'nyt://article/b4aecf32-925f-571b-896a-f19904af186f', 'nyt://article/9276b34c-3b40-57d2-bd85-9bf252de076a', 'nyt://article/a10a6747-72b3-537c-b0e1-5d6121b26bd9', 'nyt://article/02f53170-6026-517d-8d6a-bc198f448061', 'nyt://article/7e7c6d7b-4d46-5b56-be01-bcf945a1ba2f', 'nyt://article/c49919e9-d1b8-5fc4-8239-0a8a1afaecef', 'nyt://article/be0d4c85-b675-58d5-8341-382f7e1b13f1', 'nyt://article/fd7ccc7f-d1cd-5948-ab7d-05cd3b9bf7a7', 'nyt://article/44417dab-adc7-51af-9d21-9d48ee89c98f', 'nyt://article/cfc94469-30eb-5d0c-b17d-7a96d691ad8b', 'nyt://interactive/63331587-3ed3-55c1-8475-7612b1f63f8a', 'nyt://article/41fde71e-4d53-5f5d-b624-eb92cc802c08', 'nyt://article/61f62670-10dc-5394-9383-d704739a1522', 'nyt://article/683cdcb7-0011-5075-aa0d-0dc4db4819c8', 'nyt://article/3bd2a4c3-c39d-52b1-af2f-cd889ddfb5ca', 'nyt://article/c6ab78e5-03fd-5484-bb1c-5db3b7b01c1c', 'nyt://article/f00d3886-887a-59e9-bbe3-69bc1de6f3f8', 'nyt://article/4a071668-510c-56cb-8a41-43339bdaf547', 'nyt://article/05156d9f-b3bb-5a65-9abe-60677c11440f', 'nyt://article/ccf7b012-7794-53c7-a589-3d5e11cbf2f3', 'nyt://article/0a0577cf-8d85-546d-9d1b-c0f9f35eb8b9', 'nyt://article/5446e55f-2bbb-5b04-89c2-998c6d1c7546', 'nyt://article/d2ed2b42-b4fe-5a9d-8778-1c44613d1b48', 'nyt://article/563d50e8-75b6-5315-be3c-7504aa507c84', 'nyt://article/cc7ac1f8-3c96-5ce6-8e33-200dbbe00896', 'nyt://article/4b4b9cad-4215-58fa-9bc3-eb51a06ccf0a', 'nyt://interactive/f619bc9a-8b2a-5041-8aa3-779e5cd977bd', 'nyt://article/df377885-1c06-5efb-8464-fc1a6e30816d', 'nyt://article/627f59d9-98c7-5226-a0a3-f0482e7278cd', 'nyt://article/18ff1ed8-29d5-5744-bf1b-55b476d31e95', 'nyt://article/60cb0f35-a2e6-521a-9685-a7e8584776c1', 'nyt://article/63925b14-71bd-5bd0-961f-1dcab9193f30', 'nyt://article/345ee78c-1013-5ed5-a0c8-c8c6f25db6e2', 'nyt://article/d08f504d-1968-5971-baf2-2a0e5637b560', 'nyt://article/767c5e66-b708-5083-ac44-8ee8c82e5590', 'nyt://article/bf3ddf77-78ce-575b-b3d5-136a12076be9', 'nyt://article/9d2da093-8626-5c30-abb3-76423cfaaf7a', 'nyt://article/b169bd9d-1f3a-5a01-87b6-1898d546c08d', 'nyt://article/b7863bae-d8d0-56c7-adf1-3c4f41f9458d', 'nyt://article/37b141f4-57e3-5d4a-bf4c-56347d70a5ad', 'nyt://article/22a2c57e-4d7e-5dd7-bffb-4be433111e7c', 'nyt://article/ed54e45f-c14d-5bbe-922a-16e74e87c1f7', 'nyt://article/b51d5dda-c122-5d7d-a441-2e4bcc91b4df', 'nyt://article/d90af9eb-6f81-5e73-b782-c67281c5a1a5', 'nyt://article/c2615964-e9f5-566e-af0a-26545c1cc7dc', 'nyt://article/25ac6f0e-835c-5062-8d7a-e7a8c0039c56', 'nyt://article/7c222beb-de75-5309-a5d1-e06d0a1d4693', 'nyt://article/f8ce5a73-358d-5653-88f9-d7c37b8506a5', 'nyt://article/ebcc764d-390c-57f2-a204-ccf06547f033', 'nyt://article/c747a563-86b6-5583-8528-5d5d82c573c5', 'nyt://article/1fa88f47-d188-5fe5-b99e-4f099123d92e', 'nyt://article/04ac23df-0cf3-5900-be5a-f95bea170c4f', 'nyt://article/37631b15-f685-5ad9-bc8a-3482bdc1e0fd', 'nyt://article/9a0a0fa7-bfcc-5265-afb7-eeeed867fa8a', 'nyt://article/aaf5ea95-d934-5e02-a168-696df9c1e0c0', 'nyt://article/29f70cad-7ae5-57c8-afbc-c06e110fad2a', 'nyt://article/58eb7885-b6d3-576b-83e7-b5aa721a720f', 'nyt://interactive/c5e32373-86dd-5420-ab85-99dd1564218f', 'nyt://article/dd1e5c51-3e70-56c3-ac9e-b85736b5ecfe', 'nyt://article/7e9746bb-e618-5eeb-900c-f0c8aaaba195', 'nyt://article/c3e65f2e-f23e-53fb-92ef-e02dfc5003f2', 'nyt://article/bd25e5cd-4a19-5160-853a-83c7cede5753', 'nyt://article/b43c66ae-b8ef-52b6-ab7c-5b2b851af6ae', 'nyt://article/65ecef3a-ad16-5d61-8d18-cf5fd93e63c2', 'nyt://article/13d0fbff-4047-59e7-aa1a-bd61327e177a', 'nyt://article/3ad618ff-b01e-573f-a8c6-a05adbaf9be8', 'nyt://article/3b3d552e-a57f-53c5-8ff0-31113b14c493', 'nyt://article/07c328bb-ac31-5c0d-8438-d67518a9e80e', 'nyt://article/69bf2fae-ea33-5e84-87f5-b3e59f68b186', 'nyt://article/b0968d46-24a2-5ec1-a33c-8abc9281d1fb', 'nyt://article/248d82e0-1cf7-5973-ad27-748d9b4432c3', 'nyt://article/85018576-13d2-59e3-a528-009d61e9a6c4', 'nyt://article/12bbd9ff-9a5d-5ae2-8ae5-cb7f4753b536', 'nyt://article/05fde8b3-8744-58bd-bc47-3adc11aee8d7', 'nyt://article/cdd7cb36-3220-5ddc-8c2d-a24331d757bb', 'nyt://article/0dd8dd68-d5f4-516c-9d3b-a60ad31786c7', 'nyt://article/4759e0cb-1b1e-56fe-bad7-106430b58d9b', 'nyt://article/edf035a9-bc5e-59a0-8102-70d776341450', 'nyt://article/07b544fc-01eb-5ea7-829e-fcf9fd22f67e', 'nyt://article/42597be9-aeec-5324-be97-73a16e728ab3', 'nyt://article/79acc66a-86db-508b-9fbf-de644e361acc', 'nyt://article/c5cdc8cc-8958-5867-a859-16357a829650', 'nyt://article/f0f067b8-2988-54cc-81dc-d735f38edf3e', 'nyt://article/3bc2c225-5a64-529b-93e0-6328760c155b', 'nyt://article/d9c05b51-74f8-556a-a5c1-28e809f66777', 'nyt://article/4b02bd92-7924-5305-89a2-7ba769c9768f', 'nyt://article/40b8fecc-6361-53ce-be57-ed3add783d6a', 'nyt://article/df9ad2bf-2239-507a-96e1-cd96edfa75c3', 'nyt://article/b49bb0ad-9159-5952-b4b2-072b7cb4a4f1', 'nyt://article/9d2e7422-f485-5bd1-88bc-7c670da0acb7', 'nyt://article/f452d453-35cc-565d-8ecc-297071189f55', 'nyt://article/66dc70bc-ebcb-5777-971f-379541bf9dcc', 'nyt://article/fb2cfb26-43ad-5da6-a912-e8435b628c1c', 'nyt://article/33d775a4-bdc4-5c75-81ae-0f7744168090', 'nyt://article/e636a5a3-984f-52c9-8bf1-c6034433ac2b', 'nyt://article/b65ccd84-5303-5c0f-a3c9-48040e8ca218', 'nyt://article/a95edbe7-0f69-5cb4-a502-87db75dd7f8d', 'nyt://article/1584dffb-c4ad-5dd8-9f5d-d31f54e174db', 'nyt://article/ec210860-0da4-51d2-97e8-904cabab7c84', 'nyt://article/6f990b5d-0d79-5ac3-b12c-067acb727925', 'nyt://article/5aef13d0-ba20-5ebf-b494-fd8b579750e0', 'nyt://article/f0c21f7f-4487-54a6-b4b0-efd26959ad45', 'nyt://article/2a33e42d-b472-5ef9-aa93-fb0f1a4e70ee', 'nyt://video/37ee3732-793f-5feb-b51b-888e04613c90', 'nyt://article/d6b3f129-9795-538b-b778-4043d18fb11b', 'nyt://article/e1beb64f-9804-5516-bc1b-d8d30e1b21c0', 'nyt://article/7b236f5e-110b-57ca-aa74-fd61f516ef4d', 'nyt://article/ea0f6c11-f80a-5e5e-b94b-848e0d9900c8', 'nyt://article/863d7ce7-229f-50f2-abff-2ed220500715', 'nyt://article/5bf6230d-699f-5170-b038-242935c70728', 'nyt://article/36ee0edb-21e9-56c9-bb84-09c4415a4516', 'nyt://video/5e5f74a9-62e5-5a6b-81fa-7f5f976ea897', 'nyt://article/eeba9324-e11d-503f-af6e-8e1b8abcdafe', 'nyt://article/84261a49-b3fa-5ea6-acfa-2bc23f46add1', 'nyt://article/55591bcc-42c9-53b5-bc0b-7567e8c20648', 'nyt://article/0bfc1f4d-f3b6-58b6-b8fd-392a0beb93cf', 'nyt://article/f034bb60-7635-5228-a10e-da1471f08f50', 'nyt://article/61efa0ef-43d3-54ae-8387-66d17e19b8bd', 'nyt://article/2ed420ee-0ce2-5663-8a0f-c7291e3515b0', 'nyt://article/e7104707-45cc-54d8-b02c-5d378afe5c11', 'nyt://article/cbc86042-78c8-5f4e-812c-1c0302b16384', 'nyt://article/8f0ea652-6d9b-5c6c-9522-3db174fc9be5', 'nyt://article/4dbe3302-29ed-5a3a-af15-31b41f3d76ac', 'nyt://article/104de6fc-7b9c-5768-812a-528967b0758b', 'nyt://article/a51cde91-1c56-5664-a1d6-97c82cba2923', 'nyt://article/cfa3e933-000e-5df4-aeb4-82b905d67dd4', 'nyt://article/ff8e91fc-f14b-5308-859f-737756f5a21f', 'nyt://article/54dea93a-deec-59a8-a740-2f9a9287ced1', 'nyt://video/7188f5ad-88c2-589b-9e11-d88eb8c11bb3', 'nyt://article/1ed5532c-8075-599a-bd69-08808cc41f7f', 'nyt://article/90b01608-6bb0-5ba7-aac6-c4773a056b6b', 'nyt://article/89c8e9e3-fe76-5a94-92cb-414d811ee293', 'nyt://article/5310bf1c-e7f4-5bfd-8689-ee566cd87eb8', 'nyt://article/32f2edb5-db2c-56f9-b805-7f5ceb1f8be9', 'nyt://article/75b05547-d2b0-52e1-8113-4184eddf76d7', 'nyt://article/a4af0ae8-7a19-5fb8-bd4a-1ffb2036dde6', 'nyt://article/61b81a48-2c7b-5994-b647-7591cc262b6f', 'nyt://article/b2e70bec-e0f1-579c-a0ca-e0eda5f1c2d2', 'nyt://article/eab69f8f-43c8-5591-835b-2b4fae4669b1', 'nyt://article/ebbab030-31a5-528c-9cc8-44bf18ef8bc0', 'nyt://article/131fb317-cb9c-590f-8130-8fbe5e15d7d0', 'nyt://video/737a072e-de43-5212-be87-dd18fee16933', 'nyt://article/64e1bc90-d77b-5989-9f80-f2377a5a087e', 'nyt://article/edc9913e-875d-579b-89af-5cd672a9d936', 'nyt://article/7774c1ab-cd09-5a0f-a730-21b99ab7e60c', 'nyt://article/2679cc4b-64a0-5a3a-b74a-1ebd723a2606', 'nyt://article/2faa2e32-34d5-59ce-b2a1-061c40d4033d', 'nyt://article/90640272-f5b8-5021-bc55-249d649867cf', 'nyt://article/439ae825-a418-5d41-9547-95fc49e01ec8', 'nyt://article/448f7e87-7da8-54c1-aa4f-36ad1c9f69e9', 'nyt://article/51bfbabd-96a2-5b97-91dd-0bcceb046e7c', 'nyt://article/2de79d0a-09ed-58b9-a408-8ccc82b036ed', 'nyt://article/be7e12d6-c747-5ea5-8fca-14d181da7855', 'nyt://article/2ad7fae2-d535-515d-bdbe-ded9576ce5b0', 'nyt://article/9b22e92c-8a09-5164-b279-e68d6bfbbddb', 'nyt://article/6c78b3d6-64f5-5008-8ead-2d72a298cf9a', 'nyt://video/1ffec11b-4b73-5805-a4fc-5ccf4bdf8337', 'nyt://article/ba97150e-7836-5a51-9bbf-97df6e7e32a9', 'nyt://article/c12aa1e3-582a-576a-be80-801f30c0455c', 'nyt://article/b1179855-fe4a-503b-9086-32a9d44ba791', 'nyt://article/93600cae-6e9a-5361-b92f-3d8fbf218059', 'nyt://article/dfff6493-0b18-55fd-b938-59741c41e860', 'nyt://article/c34fd9a0-9374-528c-ae46-44b06f510a80', 'nyt://article/851e4050-3f81-544d-88b6-e2dffb1ba2ce', 'nyt://article/aff08789-3b64-5698-9ad7-6ad6a0d35bc4', 'nyt://article/0faa487c-bae7-5325-a119-69b183b3dc6b', 'nyt://article/8ba5ea33-5293-53bb-be7c-b50a4cc5e4ab', 'nyt://article/c8ac4263-a44a-5a21-a73a-16b58d4e1996', 'nyt://article/603971a4-c18e-5c5b-8207-ac872b44fd64', 'nyt://article/5d18e1be-6a82-594e-b6c3-f37631bc5116', 'nyt://article/2c6b7574-c90d-5fda-bd36-3672901ac770', 'nyt://article/a228b36b-796c-592b-9ab7-4ed1cea5826b', 'nyt://article/7f87ecae-b2e1-543b-b984-18fd9c6d6048', 'nyt://article/1979f271-ea8c-575f-81a3-55dd00bfdb4e', 'nyt://interactive/cc642ee4-fe2b-5644-8d06-20aa39e0bd83', 'nyt://article/78f5f4e5-4077-59bb-a61d-59e14eea99c7', 'nyt://article/37be3852-7f5e-58a4-8ff2-9d07c5a945dd', 'nyt://article/8a602d32-7813-5d0f-913f-1090a895c82f', 'nyt://article/ed497825-6a09-5373-bcd3-fa291ff33a8a', 'nyt://article/f69d1488-0401-5527-b496-da5ae5ae7736', 'nyt://article/2c4fcfe0-4152-5915-8da9-ff3f6df3f13d', 'nyt://article/2831de7d-e312-5c50-9bd5-ae3f29ded103', 'nyt://article/9a0f375e-e06b-5480-9c25-5b668d00df51', 'nyt://article/51367d39-2721-5610-a000-bd6309b734af', 'nyt://article/c6a2b71a-dc6f-5e22-a892-2c5d57db391b', 'nyt://article/25033e94-2918-5df3-a1e2-d1578de790d4', 'nyt://article/d0e6f666-0209-563d-b1b3-f0840b546542', 'nyt://article/fc82f213-e485-53c0-8afb-f708fa8056b2', 'nyt://article/559d67aa-d4d3-5fe5-8b6d-31a2d87cb016', 'nyt://article/18a607ce-5c07-5a11-aac4-b809c1cd9240', 'nyt://article/699019af-10ca-5094-a8ef-7ba62eb258f9', 'nyt://article/350a3e35-e8a3-58d8-bdd7-15b4847c2c65', 'nyt://article/9d485e2c-cc06-5c7d-a35c-67f5c37f2472', 'nyt://article/0838f786-8fc5-5111-8e03-e33acef83fd8', 'nyt://article/e0fc7aa0-5289-58ef-b9a5-7d11eff8cd0d', 'nyt://article/db530994-5bdf-5cb1-b9b3-60ad9a72f0ff', 'nyt://article/66fad98d-dbcc-566e-8950-f822051bb9db', 'nyt://article/03c76cb3-912d-5961-80e8-b2d2f78e5eee', 'nyt://article/3d5f6b28-8ab7-5039-a076-d866c6c895cf', 'nyt://article/0c590090-ca6f-54c4-ba2b-7c7617059c11', 'nyt://article/ac5369ab-9399-5d35-8562-20935e7d7e1c', 'nyt://article/5eff5519-d30c-57db-a177-f905e3254336', 'nyt://article/d575af07-e579-5bad-8ccd-74ac5796915a', 'nyt://article/a52bfb01-a76f-5982-a5fa-bf85dd1d5840', 'nyt://article/6bcf25a5-be33-5cc4-9a5b-449b552241ce', 'nyt://article/acd59772-a73c-58e5-8d14-cafc9ab6b797', 'nyt://article/02241405-a46e-5af3-b08a-666b2b263aa7', 'nyt://article/17964ebd-aba4-528b-9e7b-fbdef3c374de', 'nyt://article/7e82ef39-944f-53c5-aa08-de76fb19ebb1', 'nyt://article/eed4f410-a012-51ea-84c2-eb7a11a7c0c2', 'nyt://article/4165dde4-ae7d-5514-a23a-a0947d089afe', 'nyt://article/ead52541-972c-5ab9-981e-5dae4131b315', 'nyt://article/8abf0099-2722-5517-ad62-48d7498db946', 'nyt://article/de0a2e56-fd1d-5423-8e82-d1a202abab2d', 'nyt://article/19d29e66-47c6-549d-bff7-86f8cdec1be0', 'nyt://article/1b8461bd-7b20-5622-953f-bc1eac22cbc5', 'nyt://article/0e59c7ca-a406-5631-ba98-7d340bd347b2', 'nyt://video/dfe1f9c5-c85d-5d0f-ab61-11f9b085dd26', 'nyt://article/af73ab52-c86b-5f70-9c43-8ac4946bdba1', 'nyt://article/a27600da-45e0-5ebb-9df6-4b4079ae3b74', 'nyt://article/4a696b8b-6da8-544d-9fd7-70a2d1aba612', 'nyt://article/eff54abb-409a-569b-ab20-09c6f8cd09e4', 'nyt://article/1fe3833c-de0c-5dd0-9127-e5d8bb3363fe', 'nyt://article/92a462a4-76d5-56a5-9123-b9bcd6486d5a', 'nyt://interactive/f5852d85-975f-54af-9422-2db447002184', 'nyt://article/2c6805fc-a182-581d-8f54-9a8b00abb70b', 'nyt://article/fb94ed3e-43ca-532c-abf8-bbe9fbc6c98a', 'nyt://article/ab86b644-9da8-5e01-832b-ee1208c1838a', 'nyt://article/60af2779-bfaf-5556-8d5b-385ef2ed7a8a', 'nyt://article/0580f03b-d2f9-5073-bd21-1d36ca64489f', 'nyt://article/3d786352-fd50-5452-aecd-051b50cbc4df', 'nyt://article/ac37e7fd-d64f-5dd8-8a9b-bf2c33c2b5ae', 'nyt://article/c38d2a3c-7058-5283-825c-12b826117aac', 'nyt://article/e9c89d4d-4ee8-541c-a781-9d97668283c9', 'nyt://article/4f7d6362-3d2d-55c8-88c1-b19f1658ad64', 'nyt://article/f831eb7b-3d2e-554b-ac3c-42087bc8b7a8', 'nyt://article/ef68d660-c9c0-55b5-9946-caa70853c278', 'nyt://article/9a38c9ce-b67a-515d-a364-88e8cedcf15f', 'nyt://article/d54bfd74-5e52-5df0-b8a6-f984c9d544f0', 'nyt://article/c793748e-0157-5dae-9cbb-661b13c2a073', 'nyt://article/269985a5-bb10-5c8b-bcad-d47caca00d48', 'nyt://article/a9cec457-f827-5d15-a71c-64eb7a091a0b', 'nyt://article/a8d862e7-db1e-53d7-8473-bbfc5bfc7c7a', 'nyt://article/99cc9f88-7d17-54a5-a77e-4acb0991455f', 'nyt://article/192b0400-169d-5224-bc25-57028ace21d3', 'nyt://article/a75b282f-5644-51bf-9d83-492ff67117fe', 'nyt://article/47f384aa-d01f-57c5-9c4e-69dee7e00635', 'nyt://article/dc9a72e3-4f1c-5e2c-adb2-835e246642ac', 'nyt://article/f4f99b54-1dd2-5796-a2e7-0d425327cd5c', 'nyt://article/08619f25-2984-507a-909b-4ff591d75c03', 'nyt://article/6ced898c-dd57-5eaf-972c-346f16102ab9', 'nyt://article/3c5ce7dc-377e-5aad-83c0-ab4a743cb2c4', 'nyt://article/6c840cae-bf12-5fdd-8858-f4a45e5852f4', 'nyt://article/8bdf54b1-094a-5de2-b4aa-893f6a98dd4f', 'nyt://article/5ca0c886-5034-5bd8-b6c7-f2eb6a36ff29', 'nyt://article/1b751eae-2c08-587c-991f-98a8b52360f1', 'nyt://article/6933bb77-6eba-590d-a0d7-991f13507154', 'nyt://interactive/e16aa100-d3c2-5bd5-8fbb-a14f0321a4c1', 'nyt://article/fc8175d4-0559-5637-9f15-67fa859cb344', 'nyt://article/40b910bc-3963-5226-836c-1af82035ba2b', 'nyt://article/ff45c67c-a2b9-57b7-a80e-57d9ca21e4f6', 'nyt://article/f7ab669e-8358-579d-a724-88f1e62f9e31', 'nyt://article/de0681c8-2d03-5792-b1f0-2f515eb2040b', 'nyt://article/f0550eb4-1dd0-5212-96ab-8549b6025f70', 'nyt://article/09001e7b-c5f2-5b76-a285-73d9d80c04a3', 'nyt://article/da1c72c3-243d-5250-8ed1-cd76540dc263', 'nyt://article/8c5f27cc-4e75-5346-ba8d-55fc125dd7de', 'nyt://article/a71c45ee-ea7e-58be-9ddc-21eba0d6e954', 'nyt://article/6d3c79e1-2de3-582a-b403-65a26d2f0a87', 'nyt://article/cdeb7545-04f4-5622-b8a5-d42f1aebb47f', 'nyt://article/ec7203a9-eb10-5753-98e6-a06cda8285f8', 'nyt://article/cadaa480-6a52-57df-a52e-54a6a7c48453', 'nyt://article/42739bc6-791c-59bc-803b-93aadb1e52fd', 'nyt://article/e8e1a108-f2fd-5d6a-a373-04456cc50153', 'nyt://article/d5f230f7-beee-541d-8c1d-e8491d3c674d', 'nyt://article/2d34dc4a-82a0-5058-9aa8-a45f3c9b2d02', 'nyt://article/d3ae1d1b-3f80-5bc0-9a3d-9cef11bf0843', 'nyt://article/0a7aa7f5-ff75-519f-98c8-fdf0058a397d', 'nyt://video/098824e6-6f8c-58c7-8b81-eb1f0200fd75', 'nyt://article/153bc3c6-bece-5ace-bd94-cee92b4d7e57', 'nyt://article/9e43debe-8e36-5732-81f4-297d92a907fd', 'nyt://article/0495e3ea-131e-5617-b860-0e39b30d0b8b', 'nyt://article/0eaa8002-e8d1-5fb4-b6ce-684f6a482f71', 'nyt://article/982e09e8-7736-5548-8102-de8a942cdb47', 'nyt://interactive/307ff3d5-b9fb-502e-abc3-d680ff48cc51', 'nyt://article/1443480e-78e2-5eae-b59c-330586617433', 'nyt://article/4fb34a85-3b5b-5e12-bd7c-c40551c319b3', 'nyt://video/10eb749f-b2f3-5723-9888-5adb0f3e3862', 'nyt://article/34e79f21-bf7d-5d33-a62a-877833509ab4', 'nyt://article/5bd2d377-1bf4-504c-8d32-23486749e91f', 'nyt://article/84171343-3eb0-589e-ac85-138dd51ca8ba', 'nyt://article/564914d4-59c8-5a54-8cae-8102335e0dd7', 'nyt://article/f047195f-8d52-5d7d-abcd-ff6058827977', 'nyt://article/546a73f3-cbf8-5f41-aaab-23ff75fe0b58', 'nyt://article/a06bd571-fc22-5a3e-8ce8-fb6dbc4c470e', 'nyt://article/2cc2ae70-ef9d-5795-8e6c-a5e41d51e34f', 'nyt://article/9b34d22d-850d-5a0e-802f-d6b578c7da1e', 'nyt://article/17c3b15d-ee39-5478-b399-9e58c76621c0', 'nyt://article/c9461fce-864b-5877-942e-cbca8ca01bb5', 'nyt://article/438729c5-1ab3-5cd7-9464-e2310b5da8c4', 'nyt://article/6347890f-f1ff-52f4-8747-0297775968af', 'nyt://article/3b5738b1-a4dc-55a1-9675-b4e7de0f8b62', 'nyt://article/6e416859-ff38-56d7-ad2f-ef5c75bebbab', 'nyt://article/412b1dc1-8be8-5074-b1ff-fdfff463a71a', 'nyt://article/34471c90-472f-54ec-b703-39c79e23dea9', 'nyt://article/96087abf-6837-5cd3-b669-8c7d1b4f3e68', 'nyt://article/4678b0c9-00f5-51dc-9b7b-0062afad799b', 'nyt://article/4e4e41a2-f217-5c70-812e-d1e9ad3c526b', 'nyt://article/7e65f179-dcfa-566f-b109-22420ab3c4cd', 'nyt://article/f06731fc-b825-5211-94f6-8a3d4d03a4a2', 'nyt://article/690ab536-09c4-544d-811e-db03d595bb56', 'nyt://interactive/8b82b4f6-d8a0-5415-800e-27b1563fb040', 'nyt://article/a48cdc1e-e435-5834-b34e-6222341dff07', 'nyt://article/90e2fb80-c710-5fba-9216-6c8948a3892c', 'nyt://article/95f44a74-1b0d-5e54-b555-c00904517609', 'nyt://article/f8ea6292-0079-514a-96eb-7fffcc73ef3c', 'nyt://article/e4d9255d-1190-59a1-8839-0d6a3c11fcf2', 'nyt://article/ea6220b3-1d93-5c8d-893b-a0da77cc994f', 'nyt://article/984d6485-1d7c-5329-bbfe-724dcd588d3e', 'nyt://article/3e88b788-ddef-55a7-b647-af10ff351d20', 'nyt://article/b2caad66-84d1-5bad-8e8f-bd8c6c33c5f3', 'nyt://article/6968c9c3-e2f6-573d-b3b8-7ce861dc64c6', 'nyt://article/9b1c6bac-5951-5b30-b91b-61364ba90df5', 'nyt://article/75e5954e-f9ad-5274-b35c-4313c65eb838', 'nyt://article/830bbf9a-cd4b-5f14-a963-40484ed7412e', 'nyt://article/4900c263-2f0b-5c8b-97b4-6dff0171d687', 'nyt://article/7e5b0dfb-602d-550e-b844-4f3b6342cdc5', 'nyt://article/a507a2d2-cf1e-54ee-b85a-e7b809e88ba3', 'nyt://article/cd8ea57b-5e5e-5f4d-9462-f2de05fcf6a3', 'nyt://article/6a0e395a-ec78-59cc-a1ce-120d53450e27', 'nyt://article/2405c02f-d703-571e-b820-e2ec6c263131', 'nyt://article/a9f848a9-fc57-517e-ac34-993e9d52ddc0', 'nyt://article/f0b7b0ae-927a-580b-b7a1-624ce65a4cca', 'nyt://article/75d22fcd-bc5f-56db-bf10-ac10f497dbcb', 'nyt://article/89e7078c-a881-5cbd-a0e1-28f310302b9f', 'nyt://article/dc452dda-5405-5df7-90ac-4113837b9657', 'nyt://article/f7b7e471-4442-58f4-870c-91d1fd47ce46', 'nyt://article/342c11ae-4ded-5af1-b0ce-2200c8d6a0a5', 'nyt://article/6ee035c1-b517-5cdb-a644-532d54ff2ffb', 'nyt://article/307aeda0-c5fe-5603-a2db-095d90326e64', 'nyt://article/d0660362-9f7f-5688-8542-e2e55ee075e3', 'nyt://article/a2e2ca95-427b-5926-bc80-e0f9229bb5c8', 'nyt://article/b61909c5-6883-5178-add9-2dc08320bf8c', 'nyt://article/894d222a-9f27-511d-8cb1-f4f6bec5a622', 'nyt://article/1851f3df-23ef-5c44-8481-bf65daecc582', 'nyt://article/5851579c-f145-59ba-80a5-261a56e5b30e', 'nyt://article/1fac11e1-c4a3-5ec6-8251-473c2b5bb37b', 'nyt://article/8018f1f8-0b63-5259-ad9a-1dbc66e5902b', 'nyt://article/e0adf144-deaa-5a56-bcbd-4ac998892e9d', 'nyt://article/d434fb05-1a69-53a7-8451-c3b311a57d4a', 'nyt://article/be43a190-5160-598f-b148-14695ab73ec5', 'nyt://article/50a334dd-6852-5571-af1a-1da508e41a93', 'nyt://article/1290aaf1-c9cd-5c24-a794-380c335c1712', 'nyt://article/6ec9f4af-a790-56b5-8298-c473fc4c71c2', 'nyt://article/4db5cec2-6809-52f5-aaad-d33c43108051', 'nyt://article/b0cc4393-81fe-59a1-bf48-3bba7bc5ab9b', 'nyt://article/53aeac2e-babb-5aa6-ab26-14e015c0f53c', 'nyt://article/7b780c20-ca56-50aa-9bed-1a382f0788c7', 'nyt://article/7668a311-ff74-5167-9981-3498eb8355b7', 'nyt://article/877060cb-44c9-553c-999c-2e696d3e53c9', 'nyt://article/b84d0c73-959b-5346-acbe-faf26ff2f44d', 'nyt://article/03eb7430-05a9-58a2-af6a-d3ec74012a26', 'nyt://article/78f02290-831e-54c0-a29c-218dc218387e', 'nyt://article/f49dcd3f-5fb0-58a2-b2df-a67c508e7bbb', 'nyt://article/7ac2e9ce-c99f-5e65-be74-b121e82c8fb5', 'nyt://article/d6e370ea-e210-517e-8794-cf573ea48875', 'nyt://article/140e69b5-14bb-5b77-a494-4424cc7f8463', 'nyt://article/e50c89dc-6427-5509-a48f-6894babe7502', 'nyt://article/876dfabe-b5f6-5983-a12d-48ddd1de4c07', 'nyt://article/51ffd18e-f357-54c1-8510-bc8adb7cd987', 'nyt://article/27946192-266f-5685-abc7-ba294c123ff9', 'nyt://article/f1ac3af4-8280-5143-8ccb-dd74a0c97493', 'nyt://article/183a09a1-0e92-56b4-bb05-695f43089969', 'nyt://article/215fb7a3-aa07-54f6-97c9-ddc9ceb0274f', 'nyt://article/b9307560-3335-542d-8ee2-d9e4b584ac0e', 'nyt://article/a0b34d1d-5435-5534-b188-ef5f79def36d', 'nyt://article/6549964e-97af-5ebd-9606-b2e6f4581a9d', 'nyt://article/eece1f44-6bfa-5f67-a196-08e6861d8e01', 'nyt://article/18eb4aa5-6f84-548f-874c-e28d0b2589d2', 'nyt://article/d839b076-45b7-5bed-9a48-43f4b9c45210', 'nyt://article/d34c1c71-e982-5637-9078-b594c9e60a46', 'nyt://article/345a492a-c9b7-5b7a-9270-f002cf42fed2', 'nyt://interactive/eeaaaf83-dc38-5d4e-af56-adc327f7e192', 'nyt://article/18591054-bcba-5747-9842-66c643be9e65', 'nyt://article/b8ce19bd-2c8b-5477-b25b-58b4ba6f7010', 'nyt://article/390dfde8-1c25-56d3-ada6-76d6cab4dafd', 'nyt://article/d7c78353-6450-5260-9cc9-845ae9bd8689', 'nyt://article/517a43df-1f77-5a35-ba21-8736571f3ea6', 'nyt://article/836205c2-98d3-54ce-bccc-b56671d279b9', 'nyt://article/f77eea6e-9e4d-5910-9f66-49f09fd9b59f', 'nyt://article/c41ee40f-7202-54f5-a5ac-16ae7b7e3abe', 'nyt://article/86b5531b-3f5f-53bb-bda7-90ef3e36d7bd', 'nyt://article/12588821-d19a-53d9-8123-43b4d74c7795', 'nyt://article/95fb0bd7-298c-542c-aeaf-b87f4a348e20', 'nyt://article/911b3f87-a49c-552f-be3f-f84d6733be94', 'nyt://article/285e7f74-21a6-5399-8f70-ab3931020b4d', 'nyt://article/719032e3-1e4e-5422-a882-f155bf788a64', 'nyt://video/10e305cb-cea1-5643-9fb3-fb960f305711', 'nyt://article/d9606ec0-863a-570a-be26-6c5ee1de1503', 'nyt://article/b2ee80db-ffae-5c07-8246-52c8cad1f2eb', 'nyt://article/a5502c91-6bcb-5095-abe5-bcd01dfa65cd', 'nyt://article/b3937493-67e9-55fb-8aca-601b53f72e12', 'nyt://article/e306323c-29cb-5b7a-b9bf-a44dc0231216', 'nyt://article/792861f4-5b0a-57d0-8bce-64bad0d741e6', 'nyt://interactive/49217e9f-ade2-5bbd-a3fe-2d4906bb0f5e', 'nyt://article/b4b9a91a-8feb-5ee0-811a-f009c2e4cccf', 'nyt://article/e6ce4d7e-813d-55bc-90e8-5a2da4061d77', 'nyt://article/f553c956-8e2e-545d-a485-4c05ea33c20b', 'nyt://article/a22bfc5c-126a-55dc-884d-d2aaf13eea84', 'nyt://article/28f5e0a9-66f4-5fc2-a36b-5a25d692cb00', 'nyt://article/0dc56333-04dc-52d9-ba59-1311364542b9', 'nyt://article/34abbd47-e2b7-5727-abcd-b943c91c3af5', 'nyt://article/5523bf18-4be5-5507-9556-5d9b1939becd', 'nyt://article/5274831d-6642-5b69-a4a7-5b779304f879', 'nyt://interactive/ba63261a-ad9a-566a-b91f-a9e7cd903aea', 'nyt://article/7dd19b59-156c-5583-bd77-764448662a9c', 'nyt://article/7add267a-9f61-5a44-8b1e-2916f9a234e2', 'nyt://article/5c1d792f-aa2b-599d-8a34-bee688718ee8', 'nyt://article/45f2aba6-9e42-54e1-a884-55123a805d5f', 'nyt://article/d46d1724-d23a-55a2-97a3-7779a2c8320e', 'nyt://article/db9bd694-eeef-5b7c-90d2-339096f5e59d', 'nyt://article/50f2150e-272e-5839-afc9-b8b0a289d50b', 'nyt://article/0ea83104-45f4-58a0-95bd-bba01db6ccaa', 'nyt://article/16ef6b83-2750-52e9-87f0-8a1c548218d6', 'nyt://article/dc465414-bfbe-52c5-bfd7-d3d66c63e61c', 'nyt://article/80a6c325-8460-55f4-8845-2dc0752804d2', 'nyt://interactive/151d61d1-6b2f-5ae0-82bc-dbb31484870d', 'nyt://article/0f29ae96-41a4-5a52-a3f5-8db906441d97', 'nyt://article/8e362760-e983-578f-955c-9ea0aa70470d', 'nyt://article/14bdb8e2-be5c-51f8-9f58-ab7b55fc490e', 'nyt://article/7158b1bf-a936-598b-ab5e-dbe0e5e0f003', 'nyt://article/84b37e16-2e5a-54f9-82d5-8a0cc23253a9', 'nyt://article/f9d3145b-be4f-5914-b2a0-ceaf06381344', 'nyt://article/dc964c71-c1ca-56f8-a591-4769a736eca3', 'nyt://article/a41f2449-36fc-5e0c-8dde-fd8e9ba11be7', 'nyt://article/15b7db31-98e2-5a43-b64a-9fc0186b7c0f', 'nyt://article/a006f43b-a8cf-53d6-a1dd-3f2fbea7d76d', 'nyt://article/518165b7-13fa-504c-84e5-86b1886bd55c', 'nyt://article/5d33e287-9470-5b87-8521-e219ea4db49e', 'nyt://article/21cc9771-e4ed-5b75-8d25-68978053e072', 'nyt://video/2ab09350-9bf2-5ee3-b9d8-26624d30ef54', 'nyt://article/d31375d3-ba30-5b83-9012-fb988e971431', 'nyt://article/a4277f0e-6bc6-5996-b227-f0c55ba0544a', 'nyt://article/3730b3b0-c048-55cb-812c-11e45922ec8f', 'nyt://article/d90b249d-7098-55b7-ab5b-dd13aed8f76e', 'nyt://article/e2d196aa-2350-580a-b8cc-c9396f87248e', 'nyt://article/ea35e105-380a-5050-b9e8-ee8cdc930b99', 'nyt://article/70b7b6bd-d669-550d-a33c-800048f481c3', 'nyt://article/d8eb29b9-e06f-5bba-801e-4404a0ff6acf', 'nyt://article/4e5b93b6-0a0b-5c89-aa4b-628cbc80ce74', 'nyt://article/c349e152-fc39-5d34-a397-3fa3485cd1e1', 'nyt://article/c8187867-d8f8-525c-8515-1fdf3f04ed97', 'nyt://article/a7bc462c-8c40-51f0-a662-acab3982f339', 'nyt://article/e4ac1574-8f5b-50e0-b417-180c2c0b43a3', 'nyt://article/a4e49d70-993e-5dd9-b64e-5205047426bb', 'nyt://article/519b472c-97b2-5fa9-953c-22fcf833cff2', 'nyt://article/dc07fd6b-1eea-5fbd-aad7-7ed47a9b4d0b', 'nyt://article/dfbc4919-d236-5316-8cfb-5aabc5ee9230', 'nyt://article/38197ad8-247f-5f0b-9c39-9b6d3c5ad53b', 'nyt://article/7d514c77-18ef-597b-a20f-d20e194df850', 'nyt://article/97011b88-4777-5582-91f1-a469adae38f7', 'nyt://article/a111d5db-75fd-561e-a1e7-4733f3d517c9', 'nyt://article/96d749ce-34b6-53ed-b173-8292c7d9b4e8', 'nyt://article/a764056e-1a69-5eb5-857f-f59af730118c', 'nyt://article/25988a8c-9bc3-5d34-b4de-7eb019ac487d', 'nyt://article/5c741421-8ab2-564c-81d3-4034f264ceb0', 'nyt://article/67cd4fcf-7ab1-57cd-8535-e4daf7839760', 'nyt://article/135b6598-af3f-5582-8f5c-9cd3407cbdd1', 'nyt://article/a2767e4e-840a-56c0-a70e-09cb828f1b10', 'nyt://article/67937f01-4df3-5d51-b655-a39c3e62c725', 'nyt://article/e7c26bcf-413d-5fdb-9e04-7593e5e69b3e', 'nyt://article/b2c021c5-3b19-55f6-a06d-2a5812f982cf', 'nyt://article/16cf5ce6-d83e-5fa5-9e33-3056a384844d', 'nyt://article/6f25009b-d004-5533-b5a8-2d017149bea7', 'nyt://article/2310a1e1-ea10-5266-913a-594aa1da4323', 'nyt://article/45033268-3489-5b0d-b52c-bd2b6751c14e', 'nyt://article/6471be7e-b829-5ca3-9e49-f4c06e447961', 'nyt://article/bd45fdbb-599c-5071-84ad-1e0df44be2ad', 'nyt://article/b40fdf96-6f00-50c2-afd4-806612997188', 'nyt://article/71813cad-d6cc-55f3-935a-71d0f4ad9be7', 'nyt://article/0b6f8c3c-f9f8-54d8-8dcf-2eb5c9a6ae1e', 'nyt://article/432ad95b-89a6-5d38-a468-289732b9685c', 'nyt://article/640afc5a-2377-5ecf-a8b0-028a5a47363a', 'nyt://article/1103ac1a-15d5-5a13-a7f6-3a436c762309', 'nyt://article/91a850c2-be27-5ecd-a5f0-da44a06437aa', 'nyt://article/a011970a-e107-57cf-b179-bb2b24bcf517', 'nyt://article/02126b70-e97e-5267-992a-6f27fbe3f189', 'nyt://article/3f413a24-ffb5-5038-bdd5-c48942bab114', 'nyt://article/af6f333f-6d43-5d87-9548-a63cd0aa8ddd', 'nyt://article/73a23f04-e7e4-5779-ba02-6d0b7e2ababf', 'nyt://article/b03fe540-659b-5a61-80a0-b07305c10b2f', 'nyt://article/97838863-147e-5077-ae02-40fe93b0db02', 'nyt://article/601c07f0-11b6-50d7-bfe5-f3eee23c5efd', 'nyt://article/af73a0a7-be47-506e-ab73-960969f1dcc6', 'nyt://article/5840621c-27d0-5a43-96ef-49036b06c0dd', 'nyt://article/3dbb9429-da87-52fe-a25d-e03d5aefcd62', 'nyt://article/38c53eff-2302-53bb-9af8-0b8df1c5586f', 'nyt://article/c9daf0c1-5108-5dfc-9d61-34715efbe7ca', 'nyt://article/ef7decf6-5c4e-5a6a-a78f-0dbf5ca945ec', 'nyt://article/cc76088b-2ac3-51fc-8e07-de0545512735', 'nyt://article/8d03418e-917c-50de-a56b-7bea298d8304', 'nyt://article/5b7bd2fe-e3ce-5094-bc03-caef673984b5', 'nyt://article/1d9f0c64-541b-54c4-87e6-6b964e71ea7f', 'nyt://article/898fc14c-f240-5f04-a9ea-abc93be1ff2c', 'nyt://article/ab3117c5-2380-5493-b5a2-9a275ffd38e5', 'nyt://article/23fbc47d-7f7e-5645-8fcc-ca91d1e35243', 'nyt://article/1b69b757-0a9e-5d26-bf2d-34b2b09dca5e', 'nyt://interactive/02eddc3a-9f3f-5bcf-be6e-4544b9394e12', 'nyt://article/0bca8ab9-eebe-5cd6-a83c-ae65d5c406aa', 'nyt://video/797ab570-80f8-59b4-9db5-af5217e9ef92', 'nyt://article/96563a98-5753-5722-82e7-7138d0257241', 'nyt://article/38039c19-dd1a-5fe0-b851-9d72118b23b2', 'nyt://article/d113375b-9565-538f-9396-3c2be3c464e3', 'nyt://article/55ddaf66-e52a-575f-8a09-6a4ab618cf87', 'nyt://article/92837fa7-e68c-50ff-a770-a57587560f34', 'nyt://article/15301c7c-0729-5dfb-8f37-b28951e9dca0', 'nyt://article/3be1dec8-b137-58a3-819d-23ea823f41d5', 'nyt://article/4d7af277-d66d-56c7-a70f-0150baf966af', 'nyt://article/63d78256-7141-57e3-a68b-d505a4f59337', 'nyt://video/ec1361f6-3467-588e-b2bb-97b9e23fec03', 'nyt://article/4b975c8c-b78f-5e85-9664-eb671d8f5724', 'nyt://article/890aac88-51ae-5558-92ff-60c230cd5e77', 'nyt://article/a17bfb30-6cdd-59dc-bfdf-1aef62f24352', 'nyt://article/5bba55db-2773-52a0-a17d-d5a35a3933f5', 'nyt://video/1536e7ac-7e55-5e88-8ec6-5c8a9ad763a6', 'nyt://article/25a0f000-436c-5b05-b0f2-54bd20edf8df', 'nyt://article/68c292ea-4b1e-5c57-a1d8-6756c87611aa', 'nyt://article/56885f0e-d310-5ad3-bc76-c2af312dc432', 'nyt://article/ef47a80e-94bc-5c36-8d44-8d4224ce92b2', 'nyt://article/ad98b6d8-b27f-5bc0-b44b-46022b396918', 'nyt://article/a7ca49b0-cf5e-5ba4-bd95-b007c0f7a395', 'nyt://article/e3d0958d-c749-5f08-b471-85752d797722', 'nyt://article/f9847c11-0fe5-5d48-ad36-72c1f3c8bcf5', 'nyt://article/9611d8ec-a3cc-5b96-b905-425d40b464aa', 'nyt://article/2dbdc72f-3727-5c01-85be-424b1d4ee1b6', 'nyt://article/38985b65-b862-5d12-984c-cfbd65e5d6af', 'nyt://article/29290a06-7f93-5b41-9c04-a32e658cbcb6', 'nyt://article/5b8ff491-2c0e-5a14-acbd-0d6f98b8956e', 'nyt://article/83c220e7-db35-57ef-bf5d-5248b0156efd', 'nyt://article/2bbfd9a0-b962-5c59-b066-9b58e70a8269', 'nyt://article/8ffbe477-af2d-5230-b91c-17ec5bca29d3', 'nyt://interactive/4ae6948d-416f-59b6-94d5-a52cd908684c', 'nyt://article/67b5d228-b2cc-5c4a-a261-045cc5e1f9f4', 'nyt://article/e8f5fe70-0f90-5996-99c1-007da14144a4', 'nyt://article/2c1fe840-909f-5836-85e5-1fa1f9735f9e', 'nyt://article/d62fd00f-1c66-5f21-811b-9e9cfdbb7319', 'nyt://article/70305dd1-9b28-5156-b9ca-21d7e2288fff', 'nyt://article/e5724808-fc69-537b-beb2-7de60657e5f3', 'nyt://article/1d9c337a-da71-54ec-97dc-9d443356d07e', 'nyt://article/84093b59-54a2-55a0-b8e4-bb75c4316940', 'nyt://article/3288b7a6-a0ec-5b7d-9c33-b35d01db0694', 'nyt://article/c7fe2227-d990-5dec-9045-ed5307cd3587', 'nyt://article/d2cb98e3-70c8-55e2-886f-f48b122000a1', 'nyt://article/003e4e11-db0e-587e-bcc2-a2c1b6374ba1', 'nyt://article/d31e9370-294b-560c-81da-62d72ff6fe8b', 'nyt://article/eec363f4-891c-51e5-b5ce-18bf2f919617', 'nyt://article/62c3fbb5-c09d-5697-92ed-ae4f97044caf', 'nyt://interactive/cb19939f-e307-549a-9e77-0305a6e288a8', 'nyt://article/f03a360e-0f2c-5e03-987c-a84f8e5480f4', 'nyt://article/04e7c02f-1241-5c49-abbd-df8cec4ef408', 'nyt://article/284af71e-d8ed-5a55-8e58-5116422d90e7', 'nyt://article/d38ec16d-320c-58a1-b30f-e8888edc00d7', 'nyt://article/90628694-744c-514e-81e6-b5160c4496f2', 'nyt://article/8be38be7-0d33-5959-94af-8310540cc830', 'nyt://article/a3e00b18-c078-5cfb-b6b4-1b99607225f4', 'nyt://article/90f3d6fe-145c-5b8e-9d98-c5e1d31f3dc7', 'nyt://article/b04a8df5-1f93-5910-b484-ab852443e662', 'nyt://article/e7e5aaea-ed02-53d1-a66f-f70b664333c9', 'nyt://article/67a1bc85-c88b-5265-ab2d-b758499f60e8', 'nyt://article/f581031e-96ca-52c4-a1ea-1bc49abaf1bf', 'nyt://article/fc0f0c0a-e25a-5aa9-9fed-b5c828ad1c2a', 'nyt://article/6babd70e-058e-565b-b1a4-d007248e26ae', 'nyt://article/d9554436-9f3a-5706-9dc1-8a622cec6687', 'nyt://article/2e805465-894e-5582-8154-802be39d1693', 'nyt://article/b6c9af92-650b-561f-a56b-c18ae2e41a84', 'nyt://article/41981539-f4ac-5588-95a7-43c57068e95e', 'nyt://article/847128d5-f95b-5981-ab0d-2f7df9a345db', 'nyt://article/646f1cd5-7b14-5a8e-a9d4-37e72b3f5b62', 'nyt://article/83c5a58a-29e8-5f6a-a339-b34e5dd4b5d6', 'nyt://article/95929c9f-42fb-5d83-892b-6b2c3f5adb1b', 'nyt://article/fac73fc7-565f-563f-acd8-da6ddc68363d', 'nyt://article/10453968-c7cb-50d8-ae37-8bc7d4bdeeaf', 'nyt://article/d35a2be4-8651-5b52-8cfe-d2f3296e0eb6', 'nyt://article/e724c152-725b-5f10-86d2-2d618b2158c4', 'nyt://article/2bde24e9-c3a9-5511-ab32-9d6ae17d28f7', 'nyt://article/75ca1604-3a00-568f-9227-48637db93063', 'nyt://article/23a6bcb1-85a4-51d0-b972-847fd8758b21', 'nyt://article/aff52961-1420-59c3-9d68-ae0ca6ed4b35', 'nyt://article/ca566f32-0a14-5766-8203-7db11aed1182', 'nyt://article/19fc41f6-42a8-5cc4-88fc-6c0afa434410', 'nyt://article/1b10293a-5061-5bf7-8a21-05531197da00', 'nyt://article/515fa6fe-3970-5426-b0c3-086a007287fc', 'nyt://article/690d001b-df5b-57e0-aaaa-e7446b577567', 'nyt://article/6cad98d4-42c2-58b9-b3fd-9261b8be5d97', 'nyt://article/b50c6da4-91b8-57b9-b57e-4a59f2612717', 'nyt://article/9aeae167-7e27-5e8c-bba5-18352a4ca368', 'nyt://article/b10a6520-8976-5d53-a8c0-64aa5d4d9444', 'nyt://article/b7b3956f-677c-5faa-8b5e-9ea8cfc29b18', 'nyt://article/684f512e-a313-59ca-a6a2-7a074188d57a', 'nyt://article/3d313dde-d1fb-5206-b3e7-28a83be2a7ec', 'nyt://article/b6e352aa-e7a0-5948-b4d5-335d37b10a6f', 'nyt://article/d67b00a3-dca0-53fb-811f-3f3ee634d3d9', 'nyt://article/76ee2687-a178-511e-8153-946e82c6d7fd', 'nyt://article/1b1483c8-836e-509a-9ca7-7157228f6968', 'nyt://article/8296a347-f8d2-5f4d-af9e-2963fedef6ec', 'nyt://article/2563f9c3-e8fd-5ced-93cc-00c12b55e1c9', 'nyt://article/e95afc05-fae6-5783-9662-63c45aa59d8d', 'nyt://article/296339e3-f88e-551b-9154-33ab3a6ccd66', 'nyt://article/d6b3043e-6ed5-5d0d-96f3-b2f86b21d0d8', 'nyt://article/8dc879df-0bfc-5666-90fc-588dee2a3638', 'nyt://article/edd62521-eed3-5784-809b-3f0c86f92316', 'nyt://article/def15912-fd17-54c0-a753-0d2e68e0c7d4', 'nyt://article/cd227921-bb0a-57d3-b2c2-071df629ccad', 'nyt://article/72d0984f-f655-5035-9556-bb03026c9753', 'nyt://article/2ee0365b-7aa9-53ce-91f9-9cdc061bf0cc', 'nyt://article/67a7856d-9202-5bab-8552-5a68e90d284d', 'nyt://article/826f4ca2-18d7-5820-8fe5-a3ba38a4876a', 'nyt://article/c5a17a15-d5ca-532c-bf1e-e41950a1de1f', 'nyt://article/ff9d875c-9078-5afb-9bf2-4cfaf70b8797', 'nyt://article/4a6922a6-266e-503b-82fd-cf4f9902c19b', 'nyt://article/484b0ec0-e05f-5f03-a5f7-a468f713665d', 'nyt://article/e705c3af-0528-5cb2-ac1d-5bd297a38746', 'nyt://article/f29faea0-41be-5368-b162-a4449beecb1b', 'nyt://article/9c2e3cef-2d8b-5ccd-b716-a1a9d1b79504', 'nyt://interactive/13cc2119-9626-5520-8ca8-a5027ee94d0b', 'nyt://article/b2958c74-e4d3-5ae1-95c4-ac0af25f46f4', 'nyt://article/4ff0123d-daed-5869-94a7-48c73ddf6491', 'nyt://article/f305a10a-954c-53c8-af37-1dfd79a417a7', 'nyt://article/56b0d2a0-68b5-52de-a5d0-582a4ad8baaa', 'nyt://article/95d64169-4016-587d-81bc-8b3ad7545581', 'nyt://article/9fabc97e-f551-5d60-8132-63367b3423b9', 'nyt://article/a586f56f-385c-525d-be9f-8b6bf1a32acf', 'nyt://article/471eeced-b2a8-5fbd-905e-9080e21eaa52', 'nyt://article/b84aa9c9-141a-50ad-8dfe-4b757debea72', 'nyt://article/1c2be249-dc47-5a7d-9053-4e62b4c4d3b4', 'nyt://article/74351aa3-48dc-5660-a635-a15c038c6bef', 'nyt://article/e6ecb66a-f025-5221-a090-ea11dea98786', 'nyt://interactive/0e0daf87-8783-55e0-9999-a986cf39dc12', 'nyt://article/fb2b94cb-9ab5-51c9-b052-5cb795d9ba2d', 'nyt://article/95494e94-7f8e-55c8-88b2-1a0a63c35d34', 'nyt://article/b411f0c4-9606-54d2-8db5-8cdfbd9a70f7', 'nyt://article/476eda79-f327-5c65-ac8e-73f4da4c784d', 'nyt://article/07fcf2e8-4cef-5d89-8514-c795ef74ad24', 'nyt://article/0da62a81-5bee-53c6-b8db-b1ee5b784f45', 'nyt://article/a558d0f7-86e7-5408-9bf1-d52c11ac9188', 'nyt://article/b1dd011c-b326-5120-bef8-6c355f369dbc', 'nyt://article/5f5712bd-13d3-5fff-aea0-be76f6ba6f0a', 'nyt://article/e04359f8-2c82-51c1-bd15-327fc1e5c37b', 'nyt://video/6f10e62b-e43b-500e-a00a-edc9a2ed2808', 'nyt://video/78da3d36-1f10-522c-81d8-8c6d9dc6c952', 'nyt://article/ce5e26da-b167-5659-a2c7-e284e2046ddd', 'nyt://article/7a3d0af7-46a7-5092-820b-8a957b8cec43', 'nyt://article/fb18256a-78ea-5106-9123-336af6278189', 'nyt://article/ab7574cf-243d-55c2-b9b4-f55fce203f32', 'nyt://article/9f25d00d-8355-5c22-98b2-dd12df3a6e1b', 'nyt://article/1c0566f5-31f5-5aa9-aa99-1589e36b4847', 'nyt://article/7af6b238-a9c0-5f1e-a0ee-e9ac69c12ba7', 'nyt://article/5a2fde77-225e-5139-ae86-3b6c3e18a06e', 'nyt://article/bf77cc3c-2d4c-54d9-8ae9-e8dfce0fb9f9', 'nyt://article/548487b8-e210-5808-a63c-07f3242248a5', 'nyt://article/3b59fcae-0d27-5cd3-881e-d834120bac28', 'nyt://article/34e514ce-6ebc-58f1-bf4b-d750eadc447e', 'nyt://article/2c325e31-d5d9-560e-99d3-5dd90bd1ea17', 'nyt://article/75940dee-5a0c-5c80-a1a7-0c0cf77cbb9b', 'nyt://article/74c34058-2c1e-59ee-bcfb-1b1203781c65', 'nyt://article/f6dcca34-9861-509e-b225-c379dbed9ce9', 'nyt://article/c0ccb1f6-20d8-5b9c-b323-805a5ce24793', 'nyt://article/cee487a4-4fba-5375-b22e-65c70921a1cb', 'nyt://article/47188e80-9daf-5b81-b2a6-664c22d95da9', 'nyt://article/00753439-a043-526f-9bb6-b39668fd06fb', 'nyt://article/d55c0888-893a-545a-9369-a3ee1564fdc7', 'nyt://article/a7a59baf-e727-568f-9025-15460e249e9c', 'nyt://article/31751e17-e3c6-5a89-aeab-e1a53728a548', 'nyt://article/397f8102-b5be-5879-8a6f-b112557e1738', 'nyt://article/da9cfbba-ee5f-5252-b37a-bd2a15aedc40', 'nyt://article/e1c0e4ed-bd98-5a44-871b-a7c99674b3a9', 'nyt://article/70a9eecc-3fd3-5587-a56a-15a006f8682e', 'nyt://article/3c33b936-e774-58d0-97ad-7ac30ab8dbb4', 'nyt://article/08943ce5-2595-55a9-9fbc-f621a23621f2', 'nyt://article/182bda75-2e80-5263-9b67-1fa1fd1e6006', 'nyt://article/18455046-449d-5e25-bd9c-fdea7b7a9347', 'nyt://interactive/a8c22763-bcf4-59a6-a8c7-3abcc5c5c387', 'nyt://article/6460d6ca-4569-57d2-85f2-9c8c81a87f54', 'nyt://article/33f4151f-8309-534a-b98a-aed4da16b569', 'nyt://article/e5f1a5af-9b31-5fcd-9dde-ceff057bfe3c', 'nyt://article/7505249c-eeb9-590b-a3f3-e1db973facc1', 'nyt://article/33ae6164-cb58-5509-af58-b9e0bdad71f9', 'nyt://article/d38fffd8-47ce-5eae-92eb-a0c154cebd98', 'nyt://article/62ce1b69-2871-5b80-a221-c3bacba6ab2c', 'nyt://article/33b51dd9-90a5-5457-937b-6ee1223e3fca', 'nyt://article/54de3d4e-470e-5d26-8c5c-0ee695260a12', 'nyt://article/df8db89c-1dca-53a6-ac78-dea8229162ad', 'nyt://article/41626d92-7f6b-54d5-8de6-b7532dc52986', 'nyt://article/25d387f8-b35e-55d8-b70c-3a34e53cd75a', 'nyt://article/6f480fbe-f347-59f5-bf99-dbd86e64b720', 'nyt://article/b111efa7-47a6-55d9-95c0-1a8c9cd54442', 'nyt://article/714dff21-9479-55d1-b5f8-012ec2ed30e8', 'nyt://article/1434668e-a521-58c0-90b2-43b3220dd2da', 'nyt://article/937d629e-5c21-5863-9358-9b93767b194d', 'nyt://article/7843c099-5f7a-5948-bfbe-c2ef4ed1b124', 'nyt://article/fc6284f7-c327-5d98-9c23-0ec3baee185c', 'nyt://article/629fa053-f2f2-5fad-ab9d-0115a744ac20', 'nyt://article/0e4d2b1d-348a-50bc-a120-d8646a69b69c', 'nyt://article/287d15e9-b5bd-5eb3-9d19-a4369c8f705b', 'nyt://article/b5a25414-f743-597f-920f-7048a72ac073', 'nyt://article/605acd7b-fe44-5f1c-a4a8-4b4ef4ef3823', 'nyt://article/1b1ee0cc-54c3-5570-847f-a960f1d4ff29', 'nyt://article/2f41cb12-b6ad-5c03-92a7-33c7b348521c', 'nyt://article/c17c6baf-eb11-5e9a-8171-30a020962fdb', 'nyt://article/5d82d52a-40c0-550c-9f63-22cfbc2197ec', 'nyt://article/bafc0e79-263e-58bc-8c91-65f8c382f0ff', 'nyt://article/44eb3eff-659b-565a-a1ec-cec54e0f4c77', 'nyt://article/21af1b80-e37a-535a-be7e-c29af7275e55', 'nyt://article/c085dfe7-ca56-5e70-ac7a-316fdc3e99a2', 'nyt://article/0624b359-b175-566b-b4ca-5a2cbcadb2f7', 'nyt://article/3fce39b9-240b-5b69-a624-e2ea6c243bc2', 'nyt://article/2ca29f15-c347-5daa-969b-77d9e3bbd393', 'nyt://article/183850ec-7eec-5ab7-9588-871dbf89b4f9', 'nyt://article/67680317-3d14-5f21-9bf2-6f47448b6e68', 'nyt://article/61dc1975-a346-585f-b8ce-5b034d78c404', 'nyt://article/7aa1fa4d-0315-588d-ab55-2a7c0bf82d25', 'nyt://article/31e0a04f-f0ab-59c7-97b2-72a2e5cd82be', 'nyt://article/c5f384df-85d8-5b67-8f92-c7ae8ef0c004', 'nyt://article/bafb23e8-8969-5640-92e9-67a5b4a76205', 'nyt://article/814e5a9e-1ca6-5534-bb11-2fa16a2613c3', 'nyt://article/b16516fa-e361-5a8d-8142-274c80077fcc', 'nyt://article/5153cc0f-6b0d-5c37-b91f-dbce920a3b61', 'nyt://article/019c3d2b-2a6e-5800-a1e6-8812b9f90db9', 'nyt://article/0b89ab40-3c09-5187-8bd9-51420f4bb67b', 'nyt://article/429963b5-8f21-5ae0-b45d-1d47d114deb9', 'nyt://article/28720d7e-accc-5208-9518-b8478a22e249', 'nyt://article/97f19b85-28ff-5a22-bfda-ba0f2ef315e6', 'nyt://article/8fdc042d-b03e-5ee8-bcc5-4a671d329a9e', 'nyt://article/5c0add9e-e390-5d7e-8cb6-cf3510215a8c', 'nyt://article/a28e31fd-5931-5ee9-bcfe-35597b84111d', 'nyt://article/daae620d-7c90-501e-89e8-732f96ae2aa7', 'nyt://article/ba657134-7a09-5b66-b7bb-ec46bafb29a5', 'nyt://article/42c78d7d-5954-5883-b4dd-5dd6ae445abb', 'nyt://article/1c3c39ae-5075-5ff7-96be-13f3a858e1cb', 'nyt://article/ffd11c4e-c450-5ff4-9e42-528b03fafb11', 'nyt://article/b40337c1-5381-5eca-a8a2-158fa9c08770', 'nyt://interactive/9c89d763-5676-570c-9670-b057987bc4d3', 'nyt://article/a676d9ac-5fb9-538c-a69d-a263680053b5', 'nyt://article/e3590563-5daf-524d-8697-cae25d698d44', 'nyt://article/3c6ee5ba-7426-5cbe-ba38-a9a10ef8a635', 'nyt://article/331a4417-4b00-53ff-b403-0fb4ec14c085', 'nyt://article/3116c2bf-9943-5968-bed0-21607cc10fc7', 'nyt://article/ac5cffc6-f0b1-5b35-9b3b-dda4e153288b', 'nyt://article/7fe6bc61-6970-523f-941c-f294a9a6734f', 'nyt://article/ddedadaa-393e-5601-8ba3-7b968c818462', 'nyt://article/e5fb4668-b7fc-5cc4-80cf-bdf82b939694', 'nyt://article/cc017fac-c1a9-5f86-a2a1-f03740d1533d', 'nyt://article/69d8b568-c087-5740-a22f-df11248723ac', 'nyt://article/ae8facf7-8c9c-533f-b236-19bd06de2593', 'nyt://article/d818ea73-b8f1-5b62-998a-debacbb9d20b', 'nyt://article/f2ad43ba-f0fb-55b5-9347-b943690f9fed', 'nyt://article/47667e04-e3a8-5c2e-856f-2b29dfa087e9', 'nyt://article/4d6a2d07-d2d1-5b33-95c3-e7aa3da3b8ed', 'nyt://video/882f966c-07f4-5402-a5ee-0c210bff5039', 'nyt://article/60fe78e9-5618-5202-8340-81e48d22cfd4', 'nyt://article/c765e159-1f45-5245-9381-5aaed2efc2e9', 'nyt://article/683110c1-bca7-5a5c-b9e4-182acc79d94e', 'nyt://article/624eb93f-6ee2-5b03-a4b2-6342dbaa91a6', 'nyt://article/6f97c734-e4a1-5de7-a066-ea389f0c80e8', 'nyt://article/0cfd2b95-9850-50fa-9b5f-ed8076599965', 'nyt://article/a5eb8fcd-7f76-52f4-89bd-afc1378b4025', 'nyt://article/bfc64ed9-8d62-5ad6-a37c-d447168e5783', 'nyt://article/925d6933-4001-5e82-8b13-1e23960807ef', 'nyt://article/1190a41d-1986-5d8c-bbbe-7d214ee2b086', 'nyt://article/3950818b-305e-5b99-a4b9-66c609997ff2', 'nyt://article/ed0f358d-9d69-53aa-86b3-380a67048b9a', 'nyt://article/d22b7dfe-b7c6-5fbc-bd41-d3be58124c1c', 'nyt://interactive/6256e38a-277f-5fb8-acf9-2adecfbfb3b6', 'nyt://article/b44bbcdd-0f4c-572f-84f0-de1f935ddfff', 'nyt://article/56e02e86-a14e-523f-87ac-e683427580df', 'nyt://article/43ec198a-0583-5da7-b5fd-7b4718dd56c7', 'nyt://article/b38be870-e63a-5ce9-bd42-7c2856c8cf13', 'nyt://article/cb308c56-93df-5390-a141-80b705ed9eb5', 'nyt://article/8e18a0d8-757c-50d2-b6a1-1773d9180ade', 'nyt://article/e611cfd0-31aa-510a-9f3f-767cecc677a7', 'nyt://article/6d71b2af-2a79-51bb-8179-3d4b6fd19877', 'nyt://article/fd4afb08-98b6-5338-bdaa-53024804db6b', 'nyt://article/018476d5-b187-5516-9815-dec40a2a0089', 'nyt://article/77da2d77-dcb4-5413-bffd-18d39be07412', 'nyt://article/0e779eb5-38b9-5d8d-9690-564ed59d1dfb', 'nyt://article/a07d25af-8a3c-5f41-a307-2d5f27b619a8', 'nyt://article/48aa1098-effd-59dd-8f17-4f95e425eaf1', 'nyt://article/d29f3c17-614e-57a4-8c0f-19e016570c98', 'nyt://article/5ee2a08f-fa7a-5ef2-866a-ecd6de1c59e2', 'nyt://article/99a756c9-b045-570d-801e-c794f72cd63d', 'nyt://article/6f392570-1cd5-5f5d-85a8-9f97030cbc89', 'nyt://article/3cdaeeb1-7efb-5f70-9bc8-79a1100145ad', 'nyt://article/191d9390-796d-5aca-8e8c-1e17de61e5bd', 'nyt://article/e84044b8-0a63-57d9-ac8a-9f1908dc6dc8', 'nyt://article/7935bbfa-aa26-528b-98ba-e038c7a922ea', 'nyt://article/55105b16-71c2-5e71-af6d-5fb2f3714351', 'nyt://article/c6a6f2fb-9ab6-515d-af2f-ff7331d87ea7', 'nyt://article/2b89987a-c98b-5960-9994-5c1d0fb4000f', 'nyt://article/3927f4ba-d03d-5fea-88b8-02384a9612a8', 'nyt://article/e86671ea-3edb-5b5a-a301-91b177374f28', 'nyt://article/cfd56cce-ff96-5054-a43a-cae19b1ebc7a', 'nyt://article/1f7f508f-894e-572c-b24d-51dc2b5747a7', 'nyt://article/f2025426-2f70-5796-ac0b-3e7bc1bc2cb8', 'nyt://article/03e2a1d5-c74f-5142-934b-168bf6b9385f', 'nyt://article/7fe988d5-4d0c-56ad-8434-8724b59ef9b7', 'nyt://article/09df045f-3a58-5295-bd09-b2d4ac0c210a', 'nyt://article/cfb225ac-c2b0-53f3-9ad9-adc9226b6ca6', 'nyt://article/72e05ef1-0273-5eb9-95e6-c40b965534af', 'nyt://article/e9406e37-a944-5554-bcde-07b102370652', 'nyt://article/3e378519-5301-513b-9ff1-baaf73c2afe1', 'nyt://interactive/7c53d0e8-f08c-5155-b878-6ae27aa87510', 'nyt://article/59d7aef7-c9fe-5391-af9f-5a5ad98e82ac', 'nyt://article/1eca91ba-61f1-577f-9608-55b60ca9f849', 'nyt://article/3754be38-0c7f-578c-b2b0-28ed5e6e97af', 'nyt://article/3b4db1c4-d8ae-5fac-837d-6d0cbb9b2d22', 'nyt://article/232d4e99-3371-59e7-a1f3-c0995febfc66', 'nyt://article/ca3d0753-e32f-5c77-af3b-d37297d21652', 'nyt://article/3db8ba01-1b32-56af-8bd7-371782a2c926', 'nyt://article/8765ba83-00c5-526e-bda3-6af0882299c6', 'nyt://article/37956e93-4d05-55bf-b155-97f94fa82df6', 'nyt://article/c440d31b-563c-55e1-8b79-503e757d6c5f', 'nyt://article/a9df19f2-c8ac-5590-85f4-66943b5bf0fe', 'nyt://article/1020c97b-d1de-5dd0-b714-53d8c7590c31', 'nyt://article/e7ea5190-31db-577a-8d87-f5cf716d65b9', 'nyt://article/ea389e72-57a3-515f-a670-70baf49dfb33', 'nyt://article/d108fcbb-670e-589b-a95f-e421fb619157', 'nyt://article/3199f725-007b-5cbc-a94f-2197d155c38a', 'nyt://article/6b7c779b-9934-5937-ba83-b6e270087252', 'nyt://article/97087121-d74e-54ec-9d36-28f598ec5b09', 'nyt://article/992f17a7-97b0-5a40-a3e6-8b1736f848db', 'nyt://article/cb35e450-4314-5ab9-8b34-569766376f0b', 'nyt://article/2c4ccbd5-fe36-5df2-82a4-7a664a6d163a', 'nyt://article/eed8f880-891a-5ed0-b46b-1387f9deae63', 'nyt://article/02178c1b-d7c9-5a4d-ad5e-585ba64650ac', 'nyt://article/c27479b9-76ba-5def-9f07-ef8a9433283f', 'nyt://article/15588b82-5746-5947-8018-265237015ce2', 'nyt://article/1440de33-3dc0-5009-bf2c-6396b30f92c1', 'nyt://article/dd5f537c-27a5-57e6-9ade-481704816c6f', 'nyt://article/dc5df80e-a064-5216-93ad-27bdd8af366c', 'nyt://article/7ab6a151-51cf-5845-a9b9-55717947bd57', 'nyt://article/275ed32b-45a7-558b-b062-2f7a88f065a6', 'nyt://article/49ecbf04-9dda-5d16-a047-c646750fa803', 'nyt://article/1be7e761-70fa-5788-b9e1-a48be42af1d9', 'nyt://article/d467af29-9716-518d-bdd5-7f4f1ba31d6f', 'nyt://article/2516893b-d689-5e3e-80fa-4172fca7b868', 'nyt://article/1aaac142-b69a-5d76-91fd-798c7324d18e', 'nyt://article/7470440f-b4a1-5893-8bf6-539f33510d73', 'nyt://article/aba101ee-b370-5aa5-bc83-d9e347daa2de', 'nyt://article/ed9ea558-d649-5c78-9318-ca9302a54d04', 'nyt://article/db7ea6c7-3ef8-5fc0-9686-987e3c26a8e4', 'nyt://article/664a906f-6ab7-5e3d-ae85-6b0d8d4ad914', 'nyt://article/2bfa7708-32a5-5b25-ab2c-b2f574b540fe', 'nyt://article/efbcf0b5-9769-5b16-a02a-62f38e84c0b1', 'nyt://article/55b1b377-a35a-5b92-a16b-45439a697987', 'nyt://article/55d0fa54-8fc1-56a6-a97d-786841b393c0', 'nyt://article/fed91a4d-0068-5b81-99a8-9786652de14e', 'nyt://article/abaae27f-a5cf-54e0-a015-28e1deb3166a', 'nyt://article/f9406c61-446f-5106-be25-6ac60729c73a', 'nyt://article/55456924-7ff1-585c-b62c-d530637bb1f3', 'nyt://article/cfbfd14b-3009-528a-8bea-7c1f89141abb', 'nyt://interactive/1afb7d6c-4f42-5f6c-ab1c-53b5ac9b7270', 'nyt://article/f5cbe30a-cc21-5704-9fd8-5e18c6211bf1', 'nyt://article/7cebfe72-e934-5091-bb18-ca45c9dc14a4', 'nyt://article/f047f8c0-1263-5092-a5ae-d74ed5b7f208', 'nyt://article/bcb90321-cb0e-53f4-875b-b9f6c9b43d2f', 'nyt://article/04c78a01-a13e-5b39-b4a8-8d89de09d429', 'nyt://interactive/68d00c9c-ff81-5b67-a7dd-2d5858c48a0c', 'nyt://article/644f955d-f181-5d4c-9c63-f9020412115b', 'nyt://article/c67b1f5a-40a4-5bb5-aa10-0861d752cae0', 'nyt://article/73fdc6d9-9676-5b9c-88ae-9e8e3d0f980a', 'nyt://article/2fce4a81-b9b1-56a0-811f-0538f9714af0', 'nyt://article/05d68392-6a45-5b25-89af-ec76b64ed558', 'nyt://article/0605322e-8d5e-5ae4-9fb1-4698e09f52e8', 'nyt://article/190a4e7d-e267-5a83-8cfb-d283632b27d2', 'nyt://article/6a2cd799-7099-5c3e-a62c-dd19d3e189be', 'nyt://article/0a161ae3-a347-526c-bc62-be2aca6a9262', 'nyt://article/6499e039-11f3-5754-a9b1-e1c78fb197d5', 'nyt://video/2c2003e4-2fde-5b08-a93c-47c4437df9ed', 'nyt://article/79584bcd-0b47-5bed-b2b9-eb25c623455b', 'nyt://article/fb0cd1df-30e0-5774-8ab3-762e52d62d60', 'nyt://article/9467621d-2f57-58c6-9a42-e9165c9daf1c', 'nyt://article/f6bf1f69-340f-5b4d-b568-c7575e99e133', 'nyt://article/3224ac0e-0a5e-5f58-b541-e2823968023d', 'nyt://article/061d354d-f484-5235-abf3-39d944b62601', 'nyt://article/11550bf4-e319-5872-b412-ea3a77083ad1', 'nyt://article/f84c41f5-b0f6-54ff-9074-036c27cccb5e', 'nyt://article/e2457a8d-8b1e-5e07-948a-e1c8e414cc60', 'nyt://article/80ff2191-e10c-559d-a33c-fe67d7d80234', 'nyt://article/e06a97c4-7797-58b6-92c2-e901ceb6cc3c', 'nyt://article/1547f037-31fc-50ca-b816-2b8d4097c800', 'nyt://article/5027cff6-729c-5310-8118-7d0b70a739b4', 'nyt://article/03de21df-0dc1-57d5-9671-e52899848473', 'nyt://article/fb05462c-0237-562f-80a8-eb606ffff292', 'nyt://article/22cc5dfa-bf10-5e99-8035-c692b9674e25', 'nyt://article/734ff29b-9a76-5f97-a72f-deb05493d9fd', 'nyt://article/5784b334-7e3e-50d3-9e5f-29c72128f3d8', 'nyt://article/69f9df6b-485f-5c2f-9367-6af379bd3ea0', 'nyt://article/8505443a-8984-51cd-a607-54403e1bc819', 'nyt://article/d3f5ede1-2b6b-533f-9994-ffbc02437341', 'nyt://article/7042f8bf-2246-5dd6-8a34-4000a97be12b', 'nyt://article/a1699658-9baa-5853-9904-c2ded7ca15c7', 'nyt://article/c4a1c8f6-0951-537a-9917-ab3ec6448950', 'nyt://article/c65dd3d3-af35-55eb-9ea6-f9965d27749c', 'nyt://article/7ccfb41b-c1af-5d11-af35-82521875fc83', 'nyt://article/06e77c62-d581-5173-99e0-24f05c7cf839', 'nyt://article/25b52c57-7954-516d-8223-aa92964350e9', 'nyt://article/448d991c-37ba-52e7-9eb4-173aab4ef116', 'nyt://article/8aca840f-bded-5f3c-8e2b-5c0b377eea19', 'nyt://article/e8dd346d-fb45-5698-afc2-8d1aca18cab5', 'nyt://article/fa9b3fd0-ab65-5952-9ace-54c2a0f9a86b', 'nyt://article/1830f51b-761b-5ec4-afd4-aed999956d45', 'nyt://article/1104b05f-04f7-524b-a2ea-a7078764e3eb', 'nyt://article/d5d8a4e7-92b7-57b4-adea-85b05ebeadf1', 'nyt://article/76496c0a-f620-53af-9dce-e0dae517526f', 'nyt://article/a4280389-f3ec-5cf0-a7bc-992333c046b1', 'nyt://article/4333f945-3ab6-5936-a3d8-137ffe851cb2', 'nyt://article/44870a54-effc-5faf-882f-84f72e18e928', 'nyt://video/eacc4570-193a-55f6-b81c-6e69b8ddbc82', 'nyt://article/9ea127d2-33a7-58e0-8dee-aeafaf566305', 'nyt://article/e8bae8b5-6574-5aec-b492-88d3cbe13539', 'nyt://article/33fdcce2-c60f-5898-b34c-7087dd73c19c', 'nyt://article/c42b8e1c-437f-55d1-bcd5-431b9b5b0627', 'nyt://article/7dabb456-eae4-5659-ba12-2099c2e7a1fc', 'nyt://article/7cde2a2b-e46a-5323-bf9a-d33603195c64', 'nyt://article/1b6f603e-eeed-551e-be89-6957849e54ba', 'nyt://article/b31bf7b8-fd6a-5c88-b518-a92505671024', 'nyt://article/644f5263-2fd5-5969-80a9-45cf927f9d40', 'nyt://article/2761a831-1581-5d33-8905-651a1c0e7298', 'nyt://article/2348bcd9-2cb9-5ef2-8f40-379dbe606e93', 'nyt://article/f3cec67d-e787-5b87-80da-cc205dd2ac0b', 'nyt://article/b4ef6232-42e9-5415-820f-46fadaca2b5e', 'nyt://article/eef74041-b339-5b03-8b33-1dbfa3e28ca6', 'nyt://article/8d0a9878-f71e-520a-b7aa-64441ae0250c', 'nyt://article/3a2441ed-5653-56a7-b1af-89c0d31b31e1', 'nyt://article/e816b831-630f-5662-b420-150dfb12aa1c', 'nyt://article/ffdd5d87-4174-5727-ab49-839f53f2d90a', 'nyt://article/1003bb90-609b-5feb-afc6-b707fad52da8', 'nyt://article/849753a5-1ea1-59e4-abc0-89c50abd9f0c', 'nyt://article/d53b82c9-b46b-50fd-86b8-6c811460981c', 'nyt://article/73e13e92-bb89-5463-ad90-f185fa39f493', 'nyt://article/780bdec9-97c7-5586-9c84-323950e7b61c', 'nyt://article/49c379e1-8bce-5ade-acdf-1ab4dd818bf0', 'nyt://article/994ed599-a5d6-5cf3-bf43-0b1e4b013755', 'nyt://article/8562434f-34ef-50c8-a7a5-ea25f166dc5a', 'nyt://article/357912f1-529c-5b25-adb6-cfd06e969185', 'nyt://video/51becce3-d8c2-5dea-b9fe-7237b2af2798', 'nyt://article/7f0381f6-791f-5431-b63b-e566a37815ee', 'nyt://article/0a006687-d51d-57fd-a133-c5f861513794', 'nyt://article/d7894a9a-8a7d-5db5-8ea7-f4c136d45aac', 'nyt://article/aa4ce25e-163a-5912-80a8-07eeec3096d9', 'nyt://article/946cde5b-2624-5c75-b6fa-5dbeb7eb955e', 'nyt://article/b997d269-a9a7-533a-9323-f84fbee38f18', 'nyt://article/7398bcc0-781e-5f38-9a48-c5938c1e64dd', 'nyt://article/43faa9f1-d702-5735-bfe8-15372a05ab98', 'nyt://article/89a28ad8-9284-56b2-8125-64257641bf78', 'nyt://article/abb55571-8aac-5782-afc6-6bb652fb7611', 'nyt://article/c6a18d9b-c3a6-5d4e-a441-1f7dee7ec1b8', 'nyt://article/62908fd2-d5fc-5b8f-86a7-5e00dfea5a4e', 'nyt://article/a6d1d059-8668-57ff-adac-bbd57cc0630c', 'nyt://article/f0ac8084-e4c6-5000-958d-c0b5acf4728d', 'nyt://article/c6c56cb0-607f-5b2b-9eef-7371adc4156e', 'nyt://article/969e5ae1-c413-50f8-a98b-62b53213c3c4', 'nyt://article/03c88486-ca84-54ba-8e43-0dbfff1b698d', 'nyt://article/84f2702a-60f6-5c5b-989d-df856824c61d', 'nyt://article/c08c18e5-545c-54be-815b-5313f2e77100', 'nyt://article/537bb7e2-275a-58c6-a942-dc10b85d1018', 'nyt://article/a91e5a26-c9bb-5e01-9dbc-f490fc526377', 'nyt://article/7343bae9-6528-56e6-bb2f-b16f080193a7', 'nyt://article/e318fa65-f5b3-583b-a913-dc2e52dd6814', 'nyt://article/2de071a5-f7ac-5d75-8428-6222ef66f3da', 'nyt://article/1a2e93cf-893b-578d-81af-1c53b92ff663', 'nyt://article/90add3f9-d8d7-58d9-a332-751ffa8ee240', 'nyt://article/335b37b4-ab4d-590f-bed1-379cf16c7d9c', 'nyt://article/e95c1bb6-dcd9-5cd4-9642-3561edba3657', 'nyt://article/2ab5b8b0-2320-5641-8c91-bde845aa4a68', 'nyt://article/bc85dd55-af86-5b73-9c20-4290c2871fd1', 'nyt://article/6b160c22-8daf-52ce-bcc4-8097dfbf4109', 'nyt://interactive/caa7a64e-05f1-5a71-a588-1e8f311db878', 'nyt://article/d05f9884-1860-5318-806e-37bacee1ec24', 'nyt://article/c747beb7-1fd7-5287-a412-65b4bb849076', 'nyt://article/e4c5cb2d-e03e-56aa-83b0-76e1ff83190c', 'nyt://article/a3859a69-b73e-5465-8b6b-0581fd6ac0d1', 'nyt://article/5d23b24e-2946-5d3a-b5a6-e1a5cb6104c8', 'nyt://article/0f427cb7-90e9-57f4-a299-a55d426af57f', 'nyt://article/ade1fe8f-d593-5ecf-b64b-c6ffd79a546a', 'nyt://article/d1edf1d8-d4d8-51f5-842e-68d9e24a86c8', 'nyt://article/6bad65a3-c3a2-512d-a3b0-0557b1061f39', 'nyt://article/04d2ab3b-b1fd-5b38-9f71-58b7edc76244', 'nyt://article/47b987ad-b236-5750-bfd4-1fa2878c2c64', 'nyt://article/0ca8e598-18df-501b-a153-6ae15e6b62a9', 'nyt://article/f2aecabd-2ede-5b48-8bab-5613a683c240', 'nyt://article/8d7b34a3-3907-57bb-a005-4dd312a2234e', 'nyt://article/9ef1f14d-2e8c-5a24-9f27-0bad539591a4', 'nyt://article/4b013fe9-3325-581a-ae1f-a4230b63f40a', 'nyt://article/05a076d6-9f2c-57f2-8d3f-5bd92502308d', 'nyt://article/200d1140-6261-57a5-81f8-27518b7b8db2', 'nyt://article/124754bd-bfcb-52da-98b7-39cc84ebffb9', 'nyt://article/429f80a9-11fd-5b72-afe2-89ede1052ad8', 'nyt://article/a5d435da-a58e-5951-ac5c-ae8955d52e89', 'nyt://article/2dc53e56-189e-5f3b-b1f1-0206d3644d02', 'nyt://video/c0071bd8-2e20-521f-85a0-35140c094d50', 'nyt://interactive/29197e5c-4acc-5862-b896-e77ec4d36801', 'nyt://article/17e1638f-82e3-56e0-b263-eab882fb67f0', 'nyt://article/2a5c8c2c-c4e1-584c-83b6-86f07d0289c3', 'nyt://article/ba781550-c30e-5805-ba67-d16608c0e732', 'nyt://article/a06dec7a-5ed1-5cc3-876c-eaea906be86e', 'nyt://article/d29b75bb-6852-5a01-bce6-89d749695cd6', 'nyt://article/8769b51a-4ee0-5613-94d2-e7e6f0026aef', 'nyt://article/9ba14a92-80a5-5da8-a719-97b82dafadf9', 'nyt://article/6b8a033c-bd65-5340-bdca-999521c946f2']",
         "1023",
         "35.0000663",
         "104.999955",
         "NYT"
        ],
        [
         "48",
         "Colombia",
         "['nyt://article/72750308-710a-520d-8077-0128b76dbc62', 'nyt://article/4336fc5e-b8e2-5566-977b-a86ef2fab052', 'nyt://article/182bda75-2e80-5263-9b67-1fa1fd1e6006', 'nyt://article/2692ec43-3c82-5ca4-bfa9-db98dd90b55c', 'nyt://article/18f07b75-e89e-5e04-85e1-75d50dbcbe27', 'nyt://article/75f8da2a-5d07-5642-9da5-e8f4594bb88a', 'nyt://article/8ea0fbd4-8bda-570b-8b86-9481aafdd4d6', 'nyt://article/48113bc7-1f16-582e-a53b-f00930c44d39', 'nyt://article/678f8f21-ed20-5995-8e0f-bd42ab081e42', 'nyt://article/0175e8a5-5910-51ad-a601-5277c3efddf1', 'nyt://article/07fce47d-1517-5a9a-99bb-b2531be9429d', 'nyt://article/425f70e5-6a05-58a4-b5a7-7deaa7bde59a', 'nyt://article/eb5a12d5-d95f-59ed-b265-8f6d8d0649b7', 'nyt://article/7f661cec-2cfb-5770-862b-ff7092042490', 'nyt://article/943e04eb-6b2f-50bb-94d6-1fba2c417ef6', 'nyt://article/4cef5b08-76f9-5e21-97b5-f827281cf318', 'nyt://article/aff52961-1420-59c3-9d68-ae0ca6ed4b35', 'nyt://article/8614c059-1d13-5dfd-8e38-0ed0d62e4b21', 'nyt://article/92c398bc-c844-5259-98fe-57dbfab2eb19', 'nyt://article/eeffd26f-c98f-58a3-a41f-bea5f9032615', 'nyt://video/ef1f479e-fd00-57f7-938f-d02833577f22', 'nyt://article/7b8c398d-3843-569b-b550-d69c1c617af1', 'nyt://article/287d15e9-b5bd-5eb3-9d19-a4369c8f705b', 'nyt://interactive/506825ce-2417-5b22-b67a-d11aa10504b0', 'nyt://interactive/338aa8d2-0749-5d3e-8f72-884147877a4e', 'nyt://article/dbd833a8-db59-54f2-81b9-02d85db7ed65', 'nyt://article/fecbca9f-740d-572e-958a-696588eece1e', 'nyt://article/f8353b01-d88f-5013-9b1b-1ced66fc5f42', 'nyt://article/93a431f5-d9d8-5a7c-ad01-b070c04881b8', 'nyt://article/cbcddb29-8bf0-562c-895a-b66f13401d95', 'nyt://article/b465200d-6d3e-50b5-8d80-75081085dd5c', 'nyt://article/f427ddcf-0ad5-572f-b983-d3cca7a5975a', 'nyt://article/10b68136-7d20-5392-bac8-0a29cbb85c8d', 'nyt://article/67ce9c50-4b5e-5afc-a3e2-ce5f1bbff2f2', 'nyt://article/7ee27361-f7db-595e-acd2-5611a8d0b261', 'nyt://article/29e78be4-88a3-561e-a1ef-54b8210cab85', 'nyt://article/76021a3d-0df7-5407-ad8c-0910d2df9f34', 'nyt://article/1564bf5f-9ec4-5b9c-88a0-88e2a4b4275c', 'nyt://article/f954aa63-a47c-5301-8f26-1713c60a1051', 'nyt://article/1570cc41-6af9-565d-a3cb-02bce9cc04d2', 'nyt://article/03aac973-dfc6-5a27-866c-ddec955a997e', 'nyt://article/9fe3d486-e4ab-57ba-8600-c21a318ab60e', 'nyt://article/4fef2cc5-0b94-5b17-8883-79246953c5f9', 'nyt://article/fc6df6d5-42ba-51f8-9de4-af71a947d522', 'nyt://article/e82dd381-b5cf-5d01-9fe3-e38c0217a15e', 'nyt://article/f0e0bb41-3da3-51e2-b34a-f580ad4a50d9', 'nyt://article/2dbe967f-70b1-575a-9134-233cf7dfcb33', 'nyt://article/f022fb82-6744-5f22-b387-49a0d7f539dd', 'nyt://article/40a62c7e-54af-5934-950a-9b3c7e2d39b5', 'nyt://article/80acfda2-d63d-535a-a97d-ea2ac2c9cc9a', 'nyt://article/c101f68c-7e23-534c-aa8a-c129f4a2a477', 'nyt://article/aa3efa10-e04f-5379-aedc-619fccc48cef', 'nyt://article/833ff2ca-cb23-5bae-8df5-13fa42b6cf8b', 'nyt://video/6bebda9c-9c5e-5b43-a702-65e8f0d75b6a', 'nyt://article/9347904e-8e0c-5540-b43d-025e092c2f33', 'nyt://article/4c6f979d-2a8f-59ad-9b08-36dca4221207', 'nyt://article/95126ce9-9771-5c0d-bcfa-ff8c5d481242', 'nyt://article/c99d40a1-efef-5c76-8349-c614006e9f60']",
         "58",
         "4.099917",
         "-72.9088133",
         "NYT"
        ],
        [
         "49",
         "Comoros",
         "['nyt://article/b11d2fe1-a957-5c7a-8aa3-39e4bcfbfe33', 'nyt://article/99085047-2746-5ccf-b239-fd601fb6ac0c', 'nyt://article/3902e9d8-47ef-5227-91ac-60f2dfd2326b', 'nyt://video/bc445114-120a-5b39-aa31-8b201851882a', 'nyt://article/7b8d5bef-f808-53f3-bd94-d305faae069f', 'nyt://video/978285aa-8a35-588e-a31f-c5b992ae8b57', 'nyt://article/bb0312c2-aa59-50e1-ad3b-86d924cdc54e', 'nyt://article/824abbaa-c913-591e-918b-22fcb2ce6fc4']",
         "8",
         "-12.2045176",
         "44.2832964",
         "NYT"
        ]
       ],
       "shape": {
        "columns": 6,
        "rows": 230
       }
      },
      "text/html": [
       "<div>\n",
       "<style scoped>\n",
       "    .dataframe tbody tr th:only-of-type {\n",
       "        vertical-align: middle;\n",
       "    }\n",
       "\n",
       "    .dataframe tbody tr th {\n",
       "        vertical-align: top;\n",
       "    }\n",
       "\n",
       "    .dataframe thead th {\n",
       "        text-align: right;\n",
       "    }\n",
       "</style>\n",
       "<table border=\"1\" class=\"dataframe\">\n",
       "  <thead>\n",
       "    <tr style=\"text-align: right;\">\n",
       "      <th></th>\n",
       "      <th>country</th>\n",
       "      <th>ids_of_articles</th>\n",
       "      <th>count_of_articles</th>\n",
       "      <th>Latitude</th>\n",
       "      <th>Longitude</th>\n",
       "      <th>outlet</th>\n",
       "    </tr>\n",
       "  </thead>\n",
       "  <tbody>\n",
       "    <tr>\n",
       "      <th>0</th>\n",
       "      <td>Adriatic Sea</td>\n",
       "      <td>[nyt://article/6c5919fe-452a-532d-8234-f698a33...</td>\n",
       "      <td>1</td>\n",
       "      <td>43.702151</td>\n",
       "      <td>14.667946</td>\n",
       "      <td>NYT</td>\n",
       "    </tr>\n",
       "    <tr>\n",
       "      <th>1</th>\n",
       "      <td>Aegean Sea</td>\n",
       "      <td>[nyt://article/a0eec7f0-3d63-5711-9700-9bce1b3...</td>\n",
       "      <td>2</td>\n",
       "      <td>38.062228</td>\n",
       "      <td>25.720589</td>\n",
       "      <td>NYT</td>\n",
       "    </tr>\n",
       "    <tr>\n",
       "      <th>2</th>\n",
       "      <td>Afghanistan</td>\n",
       "      <td>[nyt://article/afe74c10-e930-55fc-9186-2163146...</td>\n",
       "      <td>89</td>\n",
       "      <td>33.768006</td>\n",
       "      <td>66.238514</td>\n",
       "      <td>NYT</td>\n",
       "    </tr>\n",
       "    <tr>\n",
       "      <th>3</th>\n",
       "      <td>Africa</td>\n",
       "      <td>[nyt://article/c2ae5cf2-31fc-5962-98b0-53d4cd1...</td>\n",
       "      <td>199</td>\n",
       "      <td>11.502434</td>\n",
       "      <td>17.757812</td>\n",
       "      <td>NYT</td>\n",
       "    </tr>\n",
       "    <tr>\n",
       "      <th>4</th>\n",
       "      <td>Albania</td>\n",
       "      <td>[nyt://article/68d601c6-5e2e-5646-8c14-c73d2ef...</td>\n",
       "      <td>20</td>\n",
       "      <td>5.758765</td>\n",
       "      <td>-73.915162</td>\n",
       "      <td>NYT</td>\n",
       "    </tr>\n",
       "    <tr>\n",
       "      <th>...</th>\n",
       "      <td>...</td>\n",
       "      <td>...</td>\n",
       "      <td>...</td>\n",
       "      <td>...</td>\n",
       "      <td>...</td>\n",
       "      <td>...</td>\n",
       "    </tr>\n",
       "    <tr>\n",
       "      <th>225</th>\n",
       "      <td>Vietnam</td>\n",
       "      <td>[nyt://interactive/7c53d0e8-f08c-5155-b878-6ae...</td>\n",
       "      <td>51</td>\n",
       "      <td>15.926666</td>\n",
       "      <td>107.965086</td>\n",
       "      <td>NYT</td>\n",
       "    </tr>\n",
       "    <tr>\n",
       "      <th>226</th>\n",
       "      <td>Yellow Sea</td>\n",
       "      <td>[nyt://article/593fcdd3-0e07-58b1-9a5d-eec8cd8...</td>\n",
       "      <td>1</td>\n",
       "      <td>36.000000</td>\n",
       "      <td>124.000000</td>\n",
       "      <td>NYT</td>\n",
       "    </tr>\n",
       "    <tr>\n",
       "      <th>227</th>\n",
       "      <td>Yemen</td>\n",
       "      <td>[nyt://article/bcfcf8e1-77de-5c59-8df3-725ae54...</td>\n",
       "      <td>90</td>\n",
       "      <td>16.347124</td>\n",
       "      <td>47.891527</td>\n",
       "      <td>NYT</td>\n",
       "    </tr>\n",
       "    <tr>\n",
       "      <th>228</th>\n",
       "      <td>Zambia</td>\n",
       "      <td>[nyt://article/415aea4c-2180-5418-ba50-e6bad35...</td>\n",
       "      <td>11</td>\n",
       "      <td>-14.518912</td>\n",
       "      <td>27.558988</td>\n",
       "      <td>NYT</td>\n",
       "    </tr>\n",
       "    <tr>\n",
       "      <th>229</th>\n",
       "      <td>Zimbabwe</td>\n",
       "      <td>[nyt://article/415aea4c-2180-5418-ba50-e6bad35...</td>\n",
       "      <td>3</td>\n",
       "      <td>-18.455496</td>\n",
       "      <td>29.746841</td>\n",
       "      <td>NYT</td>\n",
       "    </tr>\n",
       "  </tbody>\n",
       "</table>\n",
       "<p>230 rows × 6 columns</p>\n",
       "</div>"
      ],
      "text/plain": [
       "          country                                    ids_of_articles  \\\n",
       "0    Adriatic Sea  [nyt://article/6c5919fe-452a-532d-8234-f698a33...   \n",
       "1      Aegean Sea  [nyt://article/a0eec7f0-3d63-5711-9700-9bce1b3...   \n",
       "2     Afghanistan  [nyt://article/afe74c10-e930-55fc-9186-2163146...   \n",
       "3          Africa  [nyt://article/c2ae5cf2-31fc-5962-98b0-53d4cd1...   \n",
       "4         Albania  [nyt://article/68d601c6-5e2e-5646-8c14-c73d2ef...   \n",
       "..            ...                                                ...   \n",
       "225       Vietnam  [nyt://interactive/7c53d0e8-f08c-5155-b878-6ae...   \n",
       "226    Yellow Sea  [nyt://article/593fcdd3-0e07-58b1-9a5d-eec8cd8...   \n",
       "227         Yemen  [nyt://article/bcfcf8e1-77de-5c59-8df3-725ae54...   \n",
       "228        Zambia  [nyt://article/415aea4c-2180-5418-ba50-e6bad35...   \n",
       "229      Zimbabwe  [nyt://article/415aea4c-2180-5418-ba50-e6bad35...   \n",
       "\n",
       "     count_of_articles   Latitude   Longitude outlet  \n",
       "0                    1  43.702151   14.667946    NYT  \n",
       "1                    2  38.062228   25.720589    NYT  \n",
       "2                   89  33.768006   66.238514    NYT  \n",
       "3                  199  11.502434   17.757812    NYT  \n",
       "4                   20   5.758765  -73.915162    NYT  \n",
       "..                 ...        ...         ...    ...  \n",
       "225                 51  15.926666  107.965086    NYT  \n",
       "226                  1  36.000000  124.000000    NYT  \n",
       "227                 90  16.347124   47.891527    NYT  \n",
       "228                 11 -14.518912   27.558988    NYT  \n",
       "229                  3 -18.455496   29.746841    NYT  \n",
       "\n",
       "[230 rows x 6 columns]"
      ]
     },
     "execution_count": 673,
     "metadata": {},
     "output_type": "execute_result"
    }
   ],
   "source": [
    "general_countries"
   ]
  },
  {
   "cell_type": "code",
   "execution_count": 674,
   "metadata": {},
   "outputs": [],
   "source": [
    "general_countries.to_csv(\"../../data/places/coverage_by_country.csv\")"
   ]
  },
  {
   "cell_type": "code",
   "execution_count": null,
   "metadata": {},
   "outputs": [],
   "source": []
  }
 ],
 "metadata": {
  "kernelspec": {
   "display_name": ".venv",
   "language": "python",
   "name": "python3"
  },
  "language_info": {
   "codemirror_mode": {
    "name": "ipython",
    "version": 3
   },
   "file_extension": ".py",
   "mimetype": "text/x-python",
   "name": "python",
   "nbconvert_exporter": "python",
   "pygments_lexer": "ipython3",
   "version": "3.9.6"
  }
 },
 "nbformat": 4,
 "nbformat_minor": 2
}
