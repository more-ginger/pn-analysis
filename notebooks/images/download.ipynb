{
 "cells": [
  {
   "cell_type": "markdown",
   "metadata": {},
   "source": [
    "# Download images from URLs"
   ]
  },
  {
   "cell_type": "markdown",
   "metadata": {},
   "source": [
    "**Important**: This notebook should be run after `create-temp-data.ipynb` if the full year of data needs to be analyzed."
   ]
  },
  {
   "cell_type": "markdown",
   "metadata": {},
   "source": [
    "The notebook takes a json as input and uses the `requests` module to download the header images for each article. In case of very large datasets, the process can take a long time and use quite some space on the local machine (up to xxx GB). The images are saved into a sub-folder of `/data` called `images`. The folder has been added to the `.gitignore`. If the script needs to be used to run tests or try out analtycal pipelines and task, I suggest using a smaller sample of data (e.g. 1 month)."
   ]
  },
  {
   "cell_type": "code",
   "execution_count": null,
   "metadata": {},
   "outputs": [],
   "source": [
    "%pip install pandas requests tqdm"
   ]
  },
  {
   "cell_type": "code",
   "execution_count": 1,
   "metadata": {},
   "outputs": [
    {
     "name": "stderr",
     "output_type": "stream",
     "text": [
      "/Users/f.morini/Documents/GitHub/pn-analysis/.venv/lib/python3.9/site-packages/urllib3/__init__.py:35: NotOpenSSLWarning: urllib3 v2 only supports OpenSSL 1.1.1+, currently the 'ssl' module is compiled with 'LibreSSL 2.8.3'. See: https://github.com/urllib3/urllib3/issues/3020\n",
      "  warnings.warn(\n"
     ]
    }
   ],
   "source": [
    "import requests\n",
    "import requests.exceptions\n",
    "# parse object-like strings to make them python friendly\n",
    "import ast\n",
    "# helps get the correct format for the image\n",
    "import imghdr\n",
    "\n",
    "from tqdm import tqdm\n",
    "\n",
    "import pandas as pd\n",
    "import re\n",
    "import os"
   ]
  },
  {
   "cell_type": "markdown",
   "metadata": {},
   "source": [
    "I load the complete dataset for one year of coverage"
   ]
  },
  {
   "cell_type": "code",
   "execution_count": 2,
   "metadata": {},
   "outputs": [],
   "source": [
    "input_filename= '../../input-data/temp-data.json'"
   ]
  },
  {
   "cell_type": "code",
   "execution_count": 3,
   "metadata": {},
   "outputs": [
    {
     "data": {
      "text/html": [
       "<div>\n",
       "<style scoped>\n",
       "    .dataframe tbody tr th:only-of-type {\n",
       "        vertical-align: middle;\n",
       "    }\n",
       "\n",
       "    .dataframe tbody tr th {\n",
       "        vertical-align: top;\n",
       "    }\n",
       "\n",
       "    .dataframe thead th {\n",
       "        text-align: right;\n",
       "    }\n",
       "</style>\n",
       "<table border=\"1\" class=\"dataframe\">\n",
       "  <thead>\n",
       "    <tr style=\"text-align: right;\">\n",
       "      <th></th>\n",
       "      <th>Unnamed: 0</th>\n",
       "      <th>abstract</th>\n",
       "      <th>web_url</th>\n",
       "      <th>snippet</th>\n",
       "      <th>lead_paragraph</th>\n",
       "      <th>print_section</th>\n",
       "      <th>print_page</th>\n",
       "      <th>source</th>\n",
       "      <th>multimedia</th>\n",
       "      <th>headline</th>\n",
       "      <th>...</th>\n",
       "      <th>pub_date</th>\n",
       "      <th>document_type</th>\n",
       "      <th>news_desk</th>\n",
       "      <th>section_name</th>\n",
       "      <th>byline</th>\n",
       "      <th>type_of_material</th>\n",
       "      <th>_id</th>\n",
       "      <th>word_count</th>\n",
       "      <th>uri</th>\n",
       "      <th>subsection_name</th>\n",
       "    </tr>\n",
       "  </thead>\n",
       "  <tbody>\n",
       "    <tr>\n",
       "      <th>0</th>\n",
       "      <td>0</td>\n",
       "      <td>Wrestling with age and a case of idea theft.</td>\n",
       "      <td>https://www.nytimes.com/2024/09/01/business/he...</td>\n",
       "      <td>Wrestling with age and a case of idea theft.</td>\n",
       "      <td>Send questions about the office, money, career...</td>\n",
       "      <td>BU</td>\n",
       "      <td>3.0</td>\n",
       "      <td>The New York Times</td>\n",
       "      <td>[{'rank': 0, 'subtype': 'xlarge', 'caption': N...</td>\n",
       "      <td>{'main': 'Help! I’m ‘Older’ and on the Job Hun...</td>\n",
       "      <td>...</td>\n",
       "      <td>2024-09-01T04:01:07+0000</td>\n",
       "      <td>article</td>\n",
       "      <td>SundayBusiness</td>\n",
       "      <td>Business Day</td>\n",
       "      <td>{'original': 'By Anna Holmes', 'person': [{'fi...</td>\n",
       "      <td>News</td>\n",
       "      <td>nyt://article/da8532bd-f9bd-5ca3-9e7e-afef6e9f...</td>\n",
       "      <td>1280</td>\n",
       "      <td>nyt://article/da8532bd-f9bd-5ca3-9e7e-afef6e9f...</td>\n",
       "      <td>NaN</td>\n",
       "    </tr>\n",
       "    <tr>\n",
       "      <th>1</th>\n",
       "      <td>1</td>\n",
       "      <td>Grueling shifts, abuse from the public and sub...</td>\n",
       "      <td>https://www.nytimes.com/2024/09/01/world/asia/...</td>\n",
       "      <td>Grueling shifts, abuse from the public and sub...</td>\n",
       "      <td>Exhausted doctors resting in crowded on-call r...</td>\n",
       "      <td>A</td>\n",
       "      <td>4.0</td>\n",
       "      <td>The New York Times</td>\n",
       "      <td>[{'rank': 0, 'subtype': 'xlarge', 'caption': N...</td>\n",
       "      <td>{'main': 'Worked to the Bone, India’s Doctors ...</td>\n",
       "      <td>...</td>\n",
       "      <td>2024-09-01T04:01:25+0000</td>\n",
       "      <td>article</td>\n",
       "      <td>Foreign</td>\n",
       "      <td>World</td>\n",
       "      <td>{'original': 'By Anupreeta Das and Pragati K.B...</td>\n",
       "      <td>News</td>\n",
       "      <td>nyt://article/aeabc262-aeb0-5423-a7ac-8bb664cb...</td>\n",
       "      <td>1310</td>\n",
       "      <td>nyt://article/aeabc262-aeb0-5423-a7ac-8bb664cb...</td>\n",
       "      <td>Asia Pacific</td>\n",
       "    </tr>\n",
       "  </tbody>\n",
       "</table>\n",
       "<p>2 rows × 21 columns</p>\n",
       "</div>"
      ],
      "text/plain": [
       "   Unnamed: 0                                           abstract  \\\n",
       "0           0       Wrestling with age and a case of idea theft.   \n",
       "1           1  Grueling shifts, abuse from the public and sub...   \n",
       "\n",
       "                                             web_url  \\\n",
       "0  https://www.nytimes.com/2024/09/01/business/he...   \n",
       "1  https://www.nytimes.com/2024/09/01/world/asia/...   \n",
       "\n",
       "                                             snippet  \\\n",
       "0       Wrestling with age and a case of idea theft.   \n",
       "1  Grueling shifts, abuse from the public and sub...   \n",
       "\n",
       "                                      lead_paragraph print_section  \\\n",
       "0  Send questions about the office, money, career...            BU   \n",
       "1  Exhausted doctors resting in crowded on-call r...             A   \n",
       "\n",
       "   print_page              source  \\\n",
       "0         3.0  The New York Times   \n",
       "1         4.0  The New York Times   \n",
       "\n",
       "                                          multimedia  \\\n",
       "0  [{'rank': 0, 'subtype': 'xlarge', 'caption': N...   \n",
       "1  [{'rank': 0, 'subtype': 'xlarge', 'caption': N...   \n",
       "\n",
       "                                            headline  ...  \\\n",
       "0  {'main': 'Help! I’m ‘Older’ and on the Job Hun...  ...   \n",
       "1  {'main': 'Worked to the Bone, India’s Doctors ...  ...   \n",
       "\n",
       "                   pub_date document_type       news_desk  section_name  \\\n",
       "0  2024-09-01T04:01:07+0000       article  SundayBusiness  Business Day   \n",
       "1  2024-09-01T04:01:25+0000       article         Foreign         World   \n",
       "\n",
       "                                              byline type_of_material  \\\n",
       "0  {'original': 'By Anna Holmes', 'person': [{'fi...             News   \n",
       "1  {'original': 'By Anupreeta Das and Pragati K.B...             News   \n",
       "\n",
       "                                                 _id word_count  \\\n",
       "0  nyt://article/da8532bd-f9bd-5ca3-9e7e-afef6e9f...       1280   \n",
       "1  nyt://article/aeabc262-aeb0-5423-a7ac-8bb664cb...       1310   \n",
       "\n",
       "                                                 uri subsection_name  \n",
       "0  nyt://article/da8532bd-f9bd-5ca3-9e7e-afef6e9f...             NaN  \n",
       "1  nyt://article/aeabc262-aeb0-5423-a7ac-8bb664cb...    Asia Pacific  \n",
       "\n",
       "[2 rows x 21 columns]"
      ]
     },
     "execution_count": 3,
     "metadata": {},
     "output_type": "execute_result"
    }
   ],
   "source": [
    "input_dataset = pd.read_csv(input_filename)\n",
    "input_dataset.head(2)\n"
   ]
  },
  {
   "cell_type": "markdown",
   "metadata": {},
   "source": [
    "Assuming we are working with the NYT data, the \"multimedia\" column is an array of objects. The function below transforms the string into a iterable python instance and allows for the extraction of the first url (xlarge image). This procedure will change with data coming from other news outlets."
   ]
  },
  {
   "cell_type": "code",
   "execution_count": 4,
   "metadata": {},
   "outputs": [],
   "source": [
    "def extract_first_url(multimedia_str):\n",
    "    try:\n",
    "        multimedia_list = ast.literal_eval(multimedia_str)\n",
    "        if isinstance(multimedia_list, list) and len(multimedia_list) > 0:\n",
    "            return multimedia_list[0].get(\"url\", None)\n",
    "    except (ValueError, SyntaxError):\n",
    "        return None\n",
    "    return None"
   ]
  },
  {
   "cell_type": "code",
   "execution_count": 5,
   "metadata": {},
   "outputs": [],
   "source": [
    "input_dataset[\"image_url\"] = input_dataset[\"multimedia\"].apply(extract_first_url)"
   ]
  },
  {
   "cell_type": "code",
   "execution_count": 6,
   "metadata": {},
   "outputs": [
    {
     "data": {
      "text/plain": [
       "0        images/2024/09/01/multimedia/01WorkFriend-fbmg...\n",
       "1        images/2024/09/01/multimedia/01india-doctors-0...\n",
       "2        images/2024/09/01/multimedia/01venezuela-migra...\n",
       "3                                                     None\n",
       "4        images/2024/09/01/multimedia/01germany-electio...\n",
       "                               ...                        \n",
       "48691    images/2024/08/30/multimedia/30Gregg-03-pcbk/3...\n",
       "48692    images/2024/09/01/multimedia/01ukraine-f16-pil...\n",
       "48693    images/2024/08/31/multimedia/31bouie-newslette...\n",
       "48694    images/2024/08/21/multimedia/JDA-Zucchini-Brea...\n",
       "48695    images/2024/08/31/multimedia/31usopen-dutch-fr...\n",
       "Name: image_url, Length: 48696, dtype: object"
      ]
     },
     "execution_count": 6,
     "metadata": {},
     "output_type": "execute_result"
    }
   ],
   "source": [
    "input_dataset[\"image_url\"]"
   ]
  },
  {
   "cell_type": "code",
   "execution_count": 7,
   "metadata": {},
   "outputs": [
    {
     "data": {
      "text/plain": [
       "48696"
      ]
     },
     "execution_count": 7,
     "metadata": {},
     "output_type": "execute_result"
    }
   ],
   "source": [
    "len(input_dataset)"
   ]
  },
  {
   "cell_type": "markdown",
   "metadata": {},
   "source": [
    "All NYT entries are marked by an ID with ambiguous characters: `nyt://interactive/`, the following code uses regex to remove this prefix and retains only the alpha-numeric hash as id."
   ]
  },
  {
   "cell_type": "code",
   "execution_count": 8,
   "metadata": {},
   "outputs": [],
   "source": [
    "input_dataset[\"clean_id\"] = input_dataset[\"_id\"].apply(lambda x: x.split('/')[-1])"
   ]
  },
  {
   "cell_type": "code",
   "execution_count": 9,
   "metadata": {},
   "outputs": [
    {
     "data": {
      "text/plain": [
       "0        da8532bd-f9bd-5ca3-9e7e-afef6e9f76d9\n",
       "1        aeabc262-aeb0-5423-a7ac-8bb664cb983b\n",
       "2        42c0d0f2-ea62-5d2b-8eba-baa04180adea\n",
       "3        6393c6c3-0e1f-5494-925d-165e7aafdefa\n",
       "4        fe046102-78e5-530d-89e0-59ff09c0e2e4\n",
       "                         ...                 \n",
       "48691    15ef03c9-295b-50e0-a0f4-64f9a182675f\n",
       "48692    3a3d339e-87ab-5650-b797-b7bb3cb03e5b\n",
       "48693    1192db0c-51bd-525b-abb4-e8607c11b2c3\n",
       "48694    83b24708-09af-55b1-baac-7efca1711d63\n",
       "48695    0bca89dd-a1a7-5022-8192-9812f680fc21\n",
       "Name: clean_id, Length: 48696, dtype: object"
      ]
     },
     "execution_count": 9,
     "metadata": {},
     "output_type": "execute_result"
    }
   ],
   "source": [
    "input_dataset[\"clean_id\"]"
   ]
  },
  {
   "cell_type": "markdown",
   "metadata": {},
   "source": [
    "Here's where the magic happens 🤩 We iterate over the url of the article and retrieve the image url. Then we use `requests` to download the image to a local folder."
   ]
  },
  {
   "cell_type": "code",
   "execution_count": 60,
   "metadata": {},
   "outputs": [],
   "source": [
    "def download_images(urls, current_news_outlet):\n",
    "    if not os.path.exists(f'../../data/images/{current_news_outlet}'):\n",
    "        os.makedirs(f'../../data/images/{current_news_outlet}')\n",
    "    \n",
    "    for url in tqdm(urls, desc=\"Downloading images\", unit=\"file\"):\n",
    "        filenameID = url[0]\n",
    "        try:\n",
    "            if current_news_outlet == 'nytimes':\n",
    "                if url[1] != None:\n",
    "                    response = requests.get(\"https://www.nytimes.com/\" + url[1], stream=True)\n",
    "                    if response.status_code != 200:\n",
    "                        print(f\"Download of {url} has failed\")\n",
    "                        exit()\n",
    "                    \n",
    "                    extension = imghdr.what(file=None, h=response.content)     \n",
    "                    filename = f'../../data/images/{current_news_outlet}/{current_news_outlet}-{filenameID}.{extension}'\n",
    "                \n",
    "                    with open(filename, 'wb') as file:\n",
    "                        file.write(response.content)\n",
    "        except requests.exceptions.MissingSchema:\n",
    "            print('URL is not complete')\n",
    "        \n",
    "    \n",
    "    print(f'Download of {current_news_outlet} successful')"
   ]
  },
  {
   "cell_type": "code",
   "execution_count": null,
   "metadata": {},
   "outputs": [
    {
     "name": "stderr",
     "output_type": "stream",
     "text": [
      "Downloading images:   0%|          | 65/48696 [00:16<4:08:29,  3.26file/s]"
     ]
    }
   ],
   "source": [
    "#  Instead of using the whole dataframe, I zip clean id and image_url in a python list, then feed it to the download function\n",
    "list_of_urls = list(zip(*map(input_dataset.get, ['clean_id', 'image_url'])))\n",
    "download_images(list_of_urls, \"nytimes\")"
   ]
  },
  {
   "cell_type": "code",
   "execution_count": null,
   "metadata": {},
   "outputs": [],
   "source": []
  }
 ],
 "metadata": {
  "kernelspec": {
   "display_name": ".venv",
   "language": "python",
   "name": "python3"
  },
  "language_info": {
   "codemirror_mode": {
    "name": "ipython",
    "version": 3
   },
   "file_extension": ".py",
   "mimetype": "text/x-python",
   "name": "python",
   "nbconvert_exporter": "python",
   "pygments_lexer": "ipython3",
   "version": "3.9.6"
  }
 },
 "nbformat": 4,
 "nbformat_minor": 2
}
