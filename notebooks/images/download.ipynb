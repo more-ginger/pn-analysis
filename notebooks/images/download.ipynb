{
 "cells": [
  {
   "cell_type": "markdown",
   "metadata": {},
   "source": [
    "# Download images from URLs"
   ]
  },
  {
   "cell_type": "markdown",
   "metadata": {},
   "source": [
    "**Important**: This notebook should be run after `create-temp-data.ipynb` if the full year of data needs to be analyzed."
   ]
  },
  {
   "cell_type": "markdown",
   "metadata": {},
   "source": [
    "The notebook takes a json as input and uses the `requests` module to download the header images for each article. In case of very large datasets, the process can take a long time and use quite some space on the local machine (up to xxx GB). The images are saved into a sub-folder of `/data` called `images`. The folder has been added to the `.gitignore`."
   ]
  },
  {
   "cell_type": "code",
   "execution_count": null,
   "metadata": {},
   "outputs": [],
   "source": [
    "%pip install pandas requests"
   ]
  },
  {
   "cell_type": "code",
   "execution_count": 5,
   "metadata": {},
   "outputs": [],
   "source": [
    "import requests\n",
    "import imghdr\n",
    "import requests.exceptions\n",
    "import pandas as pd\n",
    "import re\n",
    "import os\n",
    "from os import listdir\n",
    "from os.path import isfile, join"
   ]
  },
  {
   "cell_type": "code",
   "execution_count": null,
   "metadata": {},
   "outputs": [],
   "source": [
    "input_filename= '../../input-data/temp-data.json'"
   ]
  },
  {
   "cell_type": "code",
   "execution_count": null,
   "metadata": {},
   "outputs": [
    {
     "data": {
      "text/html": [
       "<div>\n",
       "<style scoped>\n",
       "    .dataframe tbody tr th:only-of-type {\n",
       "        vertical-align: middle;\n",
       "    }\n",
       "\n",
       "    .dataframe tbody tr th {\n",
       "        vertical-align: top;\n",
       "    }\n",
       "\n",
       "    .dataframe thead th {\n",
       "        text-align: right;\n",
       "    }\n",
       "</style>\n",
       "<table border=\"1\" class=\"dataframe\">\n",
       "  <thead>\n",
       "    <tr style=\"text-align: right;\">\n",
       "      <th></th>\n",
       "      <th>Unnamed: 0</th>\n",
       "      <th>abstract</th>\n",
       "      <th>web_url</th>\n",
       "      <th>snippet</th>\n",
       "      <th>lead_paragraph</th>\n",
       "      <th>print_section</th>\n",
       "      <th>print_page</th>\n",
       "      <th>source</th>\n",
       "      <th>multimedia</th>\n",
       "      <th>headline</th>\n",
       "      <th>...</th>\n",
       "      <th>pub_date</th>\n",
       "      <th>document_type</th>\n",
       "      <th>news_desk</th>\n",
       "      <th>section_name</th>\n",
       "      <th>byline</th>\n",
       "      <th>type_of_material</th>\n",
       "      <th>_id</th>\n",
       "      <th>word_count</th>\n",
       "      <th>uri</th>\n",
       "      <th>subsection_name</th>\n",
       "    </tr>\n",
       "  </thead>\n",
       "  <tbody>\n",
       "    <tr>\n",
       "      <th>0</th>\n",
       "      <td>0</td>\n",
       "      <td>Wrestling with age and a case of idea theft.</td>\n",
       "      <td>https://www.nytimes.com/2024/09/01/business/he...</td>\n",
       "      <td>Wrestling with age and a case of idea theft.</td>\n",
       "      <td>Send questions about the office, money, career...</td>\n",
       "      <td>BU</td>\n",
       "      <td>3.0</td>\n",
       "      <td>The New York Times</td>\n",
       "      <td>[{'rank': 0, 'subtype': 'xlarge', 'caption': N...</td>\n",
       "      <td>{'main': 'Help! I’m ‘Older’ and on the Job Hun...</td>\n",
       "      <td>...</td>\n",
       "      <td>2024-09-01T04:01:07+0000</td>\n",
       "      <td>article</td>\n",
       "      <td>SundayBusiness</td>\n",
       "      <td>Business Day</td>\n",
       "      <td>{'original': 'By Anna Holmes', 'person': [{'fi...</td>\n",
       "      <td>News</td>\n",
       "      <td>nyt://article/da8532bd-f9bd-5ca3-9e7e-afef6e9f...</td>\n",
       "      <td>1280</td>\n",
       "      <td>nyt://article/da8532bd-f9bd-5ca3-9e7e-afef6e9f...</td>\n",
       "      <td>NaN</td>\n",
       "    </tr>\n",
       "    <tr>\n",
       "      <th>1</th>\n",
       "      <td>1</td>\n",
       "      <td>Grueling shifts, abuse from the public and sub...</td>\n",
       "      <td>https://www.nytimes.com/2024/09/01/world/asia/...</td>\n",
       "      <td>Grueling shifts, abuse from the public and sub...</td>\n",
       "      <td>Exhausted doctors resting in crowded on-call r...</td>\n",
       "      <td>A</td>\n",
       "      <td>4.0</td>\n",
       "      <td>The New York Times</td>\n",
       "      <td>[{'rank': 0, 'subtype': 'xlarge', 'caption': N...</td>\n",
       "      <td>{'main': 'Worked to the Bone, India’s Doctors ...</td>\n",
       "      <td>...</td>\n",
       "      <td>2024-09-01T04:01:25+0000</td>\n",
       "      <td>article</td>\n",
       "      <td>Foreign</td>\n",
       "      <td>World</td>\n",
       "      <td>{'original': 'By Anupreeta Das and Pragati K.B...</td>\n",
       "      <td>News</td>\n",
       "      <td>nyt://article/aeabc262-aeb0-5423-a7ac-8bb664cb...</td>\n",
       "      <td>1310</td>\n",
       "      <td>nyt://article/aeabc262-aeb0-5423-a7ac-8bb664cb...</td>\n",
       "      <td>Asia Pacific</td>\n",
       "    </tr>\n",
       "  </tbody>\n",
       "</table>\n",
       "<p>2 rows × 21 columns</p>\n",
       "</div>"
      ],
      "text/plain": [
       "   Unnamed: 0                                           abstract  \\\n",
       "0           0       Wrestling with age and a case of idea theft.   \n",
       "1           1  Grueling shifts, abuse from the public and sub...   \n",
       "\n",
       "                                             web_url  \\\n",
       "0  https://www.nytimes.com/2024/09/01/business/he...   \n",
       "1  https://www.nytimes.com/2024/09/01/world/asia/...   \n",
       "\n",
       "                                             snippet  \\\n",
       "0       Wrestling with age and a case of idea theft.   \n",
       "1  Grueling shifts, abuse from the public and sub...   \n",
       "\n",
       "                                      lead_paragraph print_section  \\\n",
       "0  Send questions about the office, money, career...            BU   \n",
       "1  Exhausted doctors resting in crowded on-call r...             A   \n",
       "\n",
       "   print_page              source  \\\n",
       "0         3.0  The New York Times   \n",
       "1         4.0  The New York Times   \n",
       "\n",
       "                                          multimedia  \\\n",
       "0  [{'rank': 0, 'subtype': 'xlarge', 'caption': N...   \n",
       "1  [{'rank': 0, 'subtype': 'xlarge', 'caption': N...   \n",
       "\n",
       "                                            headline  ...  \\\n",
       "0  {'main': 'Help! I’m ‘Older’ and on the Job Hun...  ...   \n",
       "1  {'main': 'Worked to the Bone, India’s Doctors ...  ...   \n",
       "\n",
       "                   pub_date document_type       news_desk  section_name  \\\n",
       "0  2024-09-01T04:01:07+0000       article  SundayBusiness  Business Day   \n",
       "1  2024-09-01T04:01:25+0000       article         Foreign         World   \n",
       "\n",
       "                                              byline type_of_material  \\\n",
       "0  {'original': 'By Anna Holmes', 'person': [{'fi...             News   \n",
       "1  {'original': 'By Anupreeta Das and Pragati K.B...             News   \n",
       "\n",
       "                                                 _id word_count  \\\n",
       "0  nyt://article/da8532bd-f9bd-5ca3-9e7e-afef6e9f...       1280   \n",
       "1  nyt://article/aeabc262-aeb0-5423-a7ac-8bb664cb...       1310   \n",
       "\n",
       "                                                 uri subsection_name  \n",
       "0  nyt://article/da8532bd-f9bd-5ca3-9e7e-afef6e9f...             NaN  \n",
       "1  nyt://article/aeabc262-aeb0-5423-a7ac-8bb664cb...    Asia Pacific  \n",
       "\n",
       "[2 rows x 21 columns]"
      ]
     },
     "execution_count": 2,
     "metadata": {},
     "output_type": "execute_result"
    }
   ],
   "source": [
    "input_dataset = pd.read_csv(input_filename)\n",
    "input_dataset.head(2)\n"
   ]
  },
  {
   "cell_type": "code",
   "execution_count": 3,
   "metadata": {},
   "outputs": [
    {
     "data": {
      "text/plain": [
       "48696"
      ]
     },
     "execution_count": 3,
     "metadata": {},
     "output_type": "execute_result"
    }
   ],
   "source": [
    "len(input_dataset)"
   ]
  },
  {
   "cell_type": "code",
   "execution_count": 4,
   "metadata": {},
   "outputs": [],
   "source": [
    "def multireplace(string, replacements, ignore_case=False):\n",
    "    \"\"\"\n",
    "    Given a string and a replacement map, it returns the replaced string.\n",
    "    :param str string: string to execute replacements on\n",
    "    :param dict replacements: replacement dictionary {value to find: value to replace}\n",
    "    :param bool ignore_case: whether the match should be case insensitive\n",
    "    :rtype: str\n",
    "    \"\"\"\n",
    "    if not replacements:\n",
    "        # Edge case that'd produce a funny regex and cause a KeyError\n",
    "        return string\n",
    "    \n",
    "    # If case insensitive, we need to normalize the old string so that later a replacement\n",
    "    # can be found. For instance with {\"HEY\": \"lol\"} we should match and find a replacement for \"hey\",\n",
    "    # \"HEY\", \"hEy\", etc.\n",
    "    if ignore_case:\n",
    "        def normalize_old(s):\n",
    "            return s.lower()\n",
    "\n",
    "        re_mode = re.IGNORECASE\n",
    "\n",
    "    else:\n",
    "        def normalize_old(s):\n",
    "            return s\n",
    "\n",
    "        re_mode = 0\n",
    "\n",
    "    replacements = {normalize_old(key): val for key, val in replacements.items()}\n",
    "    \n",
    "    # Place longer ones first to keep shorter substrings from matching where the longer ones should take place\n",
    "    # For instance given the replacements {'ab': 'AB', 'abc': 'ABC'} against the string 'hey abc', it should produce\n",
    "    # 'hey ABC' and not 'hey ABc'\n",
    "    rep_sorted = sorted(replacements, key=len, reverse=True)\n",
    "    rep_escaped = map(re.escape, rep_sorted)\n",
    "    \n",
    "    # Create a big OR regex that matches any of the substrings to replace\n",
    "    pattern = re.compile(\"|\".join(rep_escaped), re_mode)\n",
    "    \n",
    "    # For each match, look up the new string in the replacements, being the key the normalized old string\n",
    "    return pattern.sub(lambda match: replacements[normalize_old(match.group(0))], string)"
   ]
  },
  {
   "cell_type": "code",
   "execution_count": 6,
   "metadata": {},
   "outputs": [],
   "source": [
    "def download_images(urls, current_news_outlet):\n",
    "    if not os.path.exists(f'../../data/images/{current_news_outlet}'):\n",
    "        os.makedirs(f'../../data/image/{current_news_outlet}')\n",
    "        for url in urls:\n",
    "            filenameID = multireplace(url[0], {'nyt://article/': '', 'nyt://video/': '', 'nyt://interactive/': '', 'nyt://audio/': '', 'nyt://': ''})\n",
    "            print(filenameID)\n",
    "            try:\n",
    "                if current_news_outlet == 'nytimes':\n",
    "                    if url[1] != None:\n",
    "                        response = requests.get(\"https://www.nytimes.com/\" + url[1])\n",
    "                else:\n",
    "                    response = requests.get(url[1]).content\n",
    "                    if response.status_code != 200:\n",
    "                        print(f\"Download of {url} has failed\")\n",
    "                        exit()\n",
    "                extension = imghdr.what(file=None, h=response.content)\n",
    "                print(filenameID, extension)     \n",
    "                filename = f'../../data/images/{current_news_outlet}/{current_news_outlet}-{url[0]}.{extension}'\n",
    "                with open(filename, 'wb') as file:\n",
    "                        file.write(response.content)\n",
    "            except requests.exceptions.MissingSchema:\n",
    "                    print('URL is not complete')\n",
    "        \n",
    "    \n",
    "    print(f'Download of {current_news_outlet} successful')"
   ]
  },
  {
   "cell_type": "code",
   "execution_count": null,
   "metadata": {},
   "outputs": [],
   "source": [
    "#  Loading the data in the input folder\n",
    "list_of_urls = list(zip(*map(input_dataset.get, ['uri', 'image'])))\n",
    "download_images(list_of_urls, \"nytimes\")"
   ]
  }
 ],
 "metadata": {
  "kernelspec": {
   "display_name": ".venv",
   "language": "python",
   "name": "python3"
  },
  "language_info": {
   "codemirror_mode": {
    "name": "ipython",
    "version": 3
   },
   "file_extension": ".py",
   "mimetype": "text/x-python",
   "name": "python",
   "nbconvert_exporter": "python",
   "pygments_lexer": "ipython3",
   "version": "3.9.6"
  }
 },
 "nbformat": 4,
 "nbformat_minor": 2
}
