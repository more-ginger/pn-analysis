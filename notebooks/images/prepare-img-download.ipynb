{
 "cells": [
  {
   "cell_type": "markdown",
   "metadata": {},
   "source": [
    "# Prepare data for downloading images from URLs"
   ]
  },
  {
   "cell_type": "markdown",
   "metadata": {},
   "source": [
    "**Important**: This notebook should be run after `create-temp-data.ipynb` if the full year of data needs to be analyzed."
   ]
  },
  {
   "cell_type": "code",
   "execution_count": null,
   "metadata": {},
   "outputs": [],
   "source": [
    "%pip install pandas"
   ]
  },
  {
   "cell_type": "code",
   "execution_count": null,
   "metadata": {},
   "outputs": [
    {
     "name": "stderr",
     "output_type": "stream",
     "text": [
      "/Users/f.morini/Documents/GitHub/pn-analysis/.venv/lib/python3.9/site-packages/urllib3/__init__.py:35: NotOpenSSLWarning: urllib3 v2 only supports OpenSSL 1.1.1+, currently the 'ssl' module is compiled with 'LibreSSL 2.8.3'. See: https://github.com/urllib3/urllib3/issues/3020\n",
      "  warnings.warn(\n"
     ]
    }
   ],
   "source": [
    "# parse object-like strings to make them python friendly\n",
    "import ast\n",
    "import pandas as pd"
   ]
  },
  {
   "cell_type": "markdown",
   "metadata": {},
   "source": [
    "I load the complete dataset for one year of coverage"
   ]
  },
  {
   "cell_type": "code",
   "execution_count": 2,
   "metadata": {},
   "outputs": [],
   "source": [
    "input_filename= '../../input-data/temp-data.csv'"
   ]
  },
  {
   "cell_type": "code",
   "execution_count": 3,
   "metadata": {},
   "outputs": [
    {
     "data": {
      "application/vnd.microsoft.datawrangler.viewer.v0+json": {
       "columns": [
        {
         "name": "index",
         "rawType": "int64",
         "type": "integer"
        },
        {
         "name": "Unnamed: 0",
         "rawType": "int64",
         "type": "integer"
        },
        {
         "name": "abstract",
         "rawType": "object",
         "type": "string"
        },
        {
         "name": "web_url",
         "rawType": "object",
         "type": "string"
        },
        {
         "name": "snippet",
         "rawType": "object",
         "type": "string"
        },
        {
         "name": "lead_paragraph",
         "rawType": "object",
         "type": "string"
        },
        {
         "name": "print_section",
         "rawType": "object",
         "type": "string"
        },
        {
         "name": "print_page",
         "rawType": "float64",
         "type": "float"
        },
        {
         "name": "source",
         "rawType": "object",
         "type": "string"
        },
        {
         "name": "multimedia",
         "rawType": "object",
         "type": "string"
        },
        {
         "name": "headline",
         "rawType": "object",
         "type": "string"
        },
        {
         "name": "keywords",
         "rawType": "object",
         "type": "string"
        },
        {
         "name": "pub_date",
         "rawType": "object",
         "type": "string"
        },
        {
         "name": "document_type",
         "rawType": "object",
         "type": "string"
        },
        {
         "name": "news_desk",
         "rawType": "object",
         "type": "string"
        },
        {
         "name": "section_name",
         "rawType": "object",
         "type": "string"
        },
        {
         "name": "byline",
         "rawType": "object",
         "type": "string"
        },
        {
         "name": "type_of_material",
         "rawType": "object",
         "type": "string"
        },
        {
         "name": "_id",
         "rawType": "object",
         "type": "string"
        },
        {
         "name": "word_count",
         "rawType": "int64",
         "type": "integer"
        },
        {
         "name": "uri",
         "rawType": "object",
         "type": "string"
        },
        {
         "name": "subsection_name",
         "rawType": "object",
         "type": "unknown"
        },
        {
         "name": "image_url",
         "rawType": "object",
         "type": "string"
        },
        {
         "name": "clean_id",
         "rawType": "object",
         "type": "string"
        }
       ],
       "conversionMethod": "pd.DataFrame",
       "ref": "6ce9b335-2eaf-4427-9598-61da8623f08a",
       "rows": [
        [
         "0",
         "0",
         "Wrestling with age and a case of idea theft.",
         "https://www.nytimes.com/2024/09/01/business/help-im-older-and-on-the-job-hunt.html",
         "Wrestling with age and a case of idea theft.",
         "Send questions about the office, money, careers and work-life balance to workfriend@nytimes.com. Include your name and location, or a request to remain anonymous. Letters may be edited.",
         "BU",
         "3.0",
         "The New York Times",
         "[{'rank': 0, 'subtype': 'xlarge', 'caption': None, 'credit': None, 'type': 'image', 'url': 'images/2024/09/01/multimedia/01WorkFriend-fbmg/01WorkFriend-fbmg-articleLarge.jpg', 'height': 750, 'width': 600, 'subType': 'xlarge', 'crop_name': 'articleLarge', 'legacy': {'xlarge': 'images/2024/09/01/multimedia/01WorkFriend-fbmg/01WorkFriend-fbmg-articleLarge.jpg', 'xlargewidth': 600, 'xlargeheight': 750}}, {'rank': 0, 'subtype': 'jumbo', 'caption': None, 'credit': None, 'type': 'image', 'url': 'images/2024/09/01/multimedia/01WorkFriend-fbmg/01WorkFriend-fbmg-jumbo.jpg', 'height': 1024, 'width': 820, 'subType': 'jumbo', 'crop_name': 'jumbo', 'legacy': {}}, {'rank': 0, 'subtype': 'superJumbo', 'caption': None, 'credit': None, 'type': 'image', 'url': 'images/2024/09/01/multimedia/01WorkFriend-fbmg/01WorkFriend-fbmg-superJumbo.jpg', 'height': 2048, 'width': 1639, 'subType': 'superJumbo', 'crop_name': 'superJumbo', 'legacy': {}}, {'rank': 0, 'subtype': 'thumbnail', 'caption': None, 'credit': None, 'type': 'image', 'url': 'images/2024/09/01/multimedia/01WorkFriend-fbmg/01WorkFriend-fbmg-thumbStandard.jpg', 'height': 75, 'width': 75, 'subType': 'thumbnail', 'crop_name': 'thumbStandard', 'legacy': {'thumbnail': 'images/2024/09/01/multimedia/01WorkFriend-fbmg/01WorkFriend-fbmg-thumbStandard.jpg', 'thumbnailwidth': 75, 'thumbnailheight': 75}}, {'rank': 0, 'subtype': 'thumbLarge', 'caption': None, 'credit': None, 'type': 'image', 'url': 'images/2024/09/01/multimedia/01WorkFriend-fbmg/01WorkFriend-fbmg-thumbLarge.jpg', 'height': 150, 'width': 150, 'subType': 'thumbLarge', 'crop_name': 'thumbLarge', 'legacy': {}}]",
         "{'main': 'Help! I’m ‘Older’ and on the Job Hunt.', 'kicker': 'work Friend', 'content_kicker': None, 'print_headline': 'Tech Job Recruiters Think I’m a Dinosaur', 'name': None, 'seo': None, 'sub': None}",
         "[{'name': 'subject', 'value': 'Careers and Professions', 'rank': 1, 'major': 'N'}, {'name': 'subject', 'value': 'Hiring and Promotion', 'rank': 2, 'major': 'N'}, {'name': 'subject', 'value': 'Content Type: Service', 'rank': 3, 'major': 'N'}, {'name': 'subject', 'value': 'Workplace Environment', 'rank': 4, 'major': 'N'}, {'name': 'subject', 'value': 'your-feed-selfcare', 'rank': 5, 'major': 'N'}]",
         "2024-09-01T04:01:07+0000",
         "article",
         "SundayBusiness",
         "Business Day",
         "{'original': 'By Anna Holmes', 'person': [{'firstname': 'Anna', 'middlename': None, 'lastname': 'Holmes', 'qualifier': None, 'title': None, 'role': 'reported', 'organization': '', 'rank': 1}], 'organization': None}",
         "News",
         "nyt://article/da8532bd-f9bd-5ca3-9e7e-afef6e9f76d9",
         "1280",
         "nyt://article/da8532bd-f9bd-5ca3-9e7e-afef6e9f76d9",
         null,
         "images/2024/09/01/multimedia/01WorkFriend-fbmg/01WorkFriend-fbmg-articleLarge.jpg",
         "da8532bd-f9bd-5ca3-9e7e-afef6e9f76d9"
        ],
        [
         "1",
         "1",
         "Grueling shifts, abuse from the public and subpar security are nothing new to medical workers in India, where a ghastly killing has put a spotlight on their plight.",
         "https://www.nytimes.com/2024/09/01/world/asia/india-doctors-safety.html",
         "Grueling shifts, abuse from the public and subpar security are nothing new to medical workers in India, where a ghastly killing has put a spotlight on their plight.",
         "Exhausted doctors resting in crowded on-call rooms with no locks, two to a single bed. Frustrated relatives of patients angrily challenging a physician’s diagnosis. Too few security guards to keep the peace.",
         "A",
         "4.0",
         "The New York Times",
         "[{'rank': 0, 'subtype': 'xlarge', 'caption': None, 'credit': None, 'type': 'image', 'url': 'images/2024/09/01/multimedia/01india-doctors-01-gzjq/01india-doctors-01-gzjq-articleLarge.jpg', 'height': 399, 'width': 600, 'subType': 'xlarge', 'crop_name': 'articleLarge', 'legacy': {'xlarge': 'images/2024/09/01/multimedia/01india-doctors-01-gzjq/01india-doctors-01-gzjq-articleLarge.jpg', 'xlargewidth': 600, 'xlargeheight': 399}}, {'rank': 0, 'subtype': 'jumbo', 'caption': None, 'credit': None, 'type': 'image', 'url': 'images/2024/09/01/multimedia/01india-doctors-01-gzjq/01india-doctors-01-gzjq-jumbo.jpg', 'height': 681, 'width': 1024, 'subType': 'jumbo', 'crop_name': 'jumbo', 'legacy': {}}, {'rank': 0, 'subtype': 'superJumbo', 'caption': None, 'credit': None, 'type': 'image', 'url': 'images/2024/09/01/multimedia/01india-doctors-01-gzjq/01india-doctors-01-gzjq-superJumbo.jpg', 'height': 1363, 'width': 2048, 'subType': 'superJumbo', 'crop_name': 'superJumbo', 'legacy': {}}, {'rank': 0, 'subtype': 'thumbnail', 'caption': None, 'credit': None, 'type': 'image', 'url': 'images/2024/09/01/multimedia/01india-doctors-01-gzjq/01india-doctors-01-gzjq-thumbStandard.jpg', 'height': 75, 'width': 75, 'subType': 'thumbnail', 'crop_name': 'thumbStandard', 'legacy': {'thumbnail': 'images/2024/09/01/multimedia/01india-doctors-01-gzjq/01india-doctors-01-gzjq-thumbStandard.jpg', 'thumbnailwidth': 75, 'thumbnailheight': 75}}, {'rank': 0, 'subtype': 'thumbLarge', 'caption': None, 'credit': None, 'type': 'image', 'url': 'images/2024/09/01/multimedia/01india-doctors-01-gzjq/01india-doctors-01-gzjq-thumbLarge.jpg', 'height': 150, 'width': 150, 'subType': 'thumbLarge', 'crop_name': 'thumbLarge', 'legacy': {}}]",
         "{'main': 'Worked to the Bone, India’s Doctors Fear for Their Safety, Too', 'kicker': None, 'content_kicker': None, 'print_headline': 'India’s Exhausted Medical Workers Are Fearing for Their Safety', 'name': None, 'seo': None, 'sub': None}",
         "[{'name': 'glocations', 'value': 'India', 'rank': 1, 'major': 'N'}, {'name': 'subject', 'value': 'Hospitals', 'rank': 2, 'major': 'N'}, {'name': 'subject', 'value': 'Workplace Hazards and Violations', 'rank': 3, 'major': 'N'}, {'name': 'subject', 'value': 'Doctors', 'rank': 4, 'major': 'N'}, {'name': 'subject', 'value': 'Medical Schools', 'rank': 5, 'major': 'N'}, {'name': 'subject', 'value': 'Murders, Attempted Murders and Homicides', 'rank': 6, 'major': 'N'}, {'name': 'subject', 'value': 'Health Care Workers', 'rank': 7, 'major': 'N'}]",
         "2024-09-01T04:01:25+0000",
         "article",
         "Foreign",
         "World",
         "{'original': 'By Anupreeta Das and Pragati K.B', 'person': [{'firstname': 'Anupreeta', 'middlename': None, 'lastname': 'Das', 'qualifier': None, 'title': None, 'role': 'reported', 'organization': '', 'rank': 1}, {'firstname': 'Pragati', 'middlename': 'K.', 'lastname': 'B', 'qualifier': None, 'title': None, 'role': 'reported', 'organization': '', 'rank': 2}], 'organization': None}",
         "News",
         "nyt://article/aeabc262-aeb0-5423-a7ac-8bb664cb983b",
         "1310",
         "nyt://article/aeabc262-aeb0-5423-a7ac-8bb664cb983b",
         "Asia Pacific",
         "images/2024/09/01/multimedia/01india-doctors-01-gzjq/01india-doctors-01-gzjq-articleLarge.jpg",
         "aeabc262-aeb0-5423-a7ac-8bb664cb983b"
        ]
       ],
       "shape": {
        "columns": 23,
        "rows": 2
       }
      },
      "text/html": [
       "<div>\n",
       "<style scoped>\n",
       "    .dataframe tbody tr th:only-of-type {\n",
       "        vertical-align: middle;\n",
       "    }\n",
       "\n",
       "    .dataframe tbody tr th {\n",
       "        vertical-align: top;\n",
       "    }\n",
       "\n",
       "    .dataframe thead th {\n",
       "        text-align: right;\n",
       "    }\n",
       "</style>\n",
       "<table border=\"1\" class=\"dataframe\">\n",
       "  <thead>\n",
       "    <tr style=\"text-align: right;\">\n",
       "      <th></th>\n",
       "      <th>Unnamed: 0</th>\n",
       "      <th>abstract</th>\n",
       "      <th>web_url</th>\n",
       "      <th>snippet</th>\n",
       "      <th>lead_paragraph</th>\n",
       "      <th>print_section</th>\n",
       "      <th>print_page</th>\n",
       "      <th>source</th>\n",
       "      <th>multimedia</th>\n",
       "      <th>headline</th>\n",
       "      <th>...</th>\n",
       "      <th>news_desk</th>\n",
       "      <th>section_name</th>\n",
       "      <th>byline</th>\n",
       "      <th>type_of_material</th>\n",
       "      <th>_id</th>\n",
       "      <th>word_count</th>\n",
       "      <th>uri</th>\n",
       "      <th>subsection_name</th>\n",
       "      <th>image_url</th>\n",
       "      <th>clean_id</th>\n",
       "    </tr>\n",
       "  </thead>\n",
       "  <tbody>\n",
       "    <tr>\n",
       "      <th>0</th>\n",
       "      <td>0</td>\n",
       "      <td>Wrestling with age and a case of idea theft.</td>\n",
       "      <td>https://www.nytimes.com/2024/09/01/business/he...</td>\n",
       "      <td>Wrestling with age and a case of idea theft.</td>\n",
       "      <td>Send questions about the office, money, career...</td>\n",
       "      <td>BU</td>\n",
       "      <td>3.0</td>\n",
       "      <td>The New York Times</td>\n",
       "      <td>[{'rank': 0, 'subtype': 'xlarge', 'caption': N...</td>\n",
       "      <td>{'main': 'Help! I’m ‘Older’ and on the Job Hun...</td>\n",
       "      <td>...</td>\n",
       "      <td>SundayBusiness</td>\n",
       "      <td>Business Day</td>\n",
       "      <td>{'original': 'By Anna Holmes', 'person': [{'fi...</td>\n",
       "      <td>News</td>\n",
       "      <td>nyt://article/da8532bd-f9bd-5ca3-9e7e-afef6e9f...</td>\n",
       "      <td>1280</td>\n",
       "      <td>nyt://article/da8532bd-f9bd-5ca3-9e7e-afef6e9f...</td>\n",
       "      <td>NaN</td>\n",
       "      <td>images/2024/09/01/multimedia/01WorkFriend-fbmg...</td>\n",
       "      <td>da8532bd-f9bd-5ca3-9e7e-afef6e9f76d9</td>\n",
       "    </tr>\n",
       "    <tr>\n",
       "      <th>1</th>\n",
       "      <td>1</td>\n",
       "      <td>Grueling shifts, abuse from the public and sub...</td>\n",
       "      <td>https://www.nytimes.com/2024/09/01/world/asia/...</td>\n",
       "      <td>Grueling shifts, abuse from the public and sub...</td>\n",
       "      <td>Exhausted doctors resting in crowded on-call r...</td>\n",
       "      <td>A</td>\n",
       "      <td>4.0</td>\n",
       "      <td>The New York Times</td>\n",
       "      <td>[{'rank': 0, 'subtype': 'xlarge', 'caption': N...</td>\n",
       "      <td>{'main': 'Worked to the Bone, India’s Doctors ...</td>\n",
       "      <td>...</td>\n",
       "      <td>Foreign</td>\n",
       "      <td>World</td>\n",
       "      <td>{'original': 'By Anupreeta Das and Pragati K.B...</td>\n",
       "      <td>News</td>\n",
       "      <td>nyt://article/aeabc262-aeb0-5423-a7ac-8bb664cb...</td>\n",
       "      <td>1310</td>\n",
       "      <td>nyt://article/aeabc262-aeb0-5423-a7ac-8bb664cb...</td>\n",
       "      <td>Asia Pacific</td>\n",
       "      <td>images/2024/09/01/multimedia/01india-doctors-0...</td>\n",
       "      <td>aeabc262-aeb0-5423-a7ac-8bb664cb983b</td>\n",
       "    </tr>\n",
       "  </tbody>\n",
       "</table>\n",
       "<p>2 rows × 23 columns</p>\n",
       "</div>"
      ],
      "text/plain": [
       "   Unnamed: 0                                           abstract  \\\n",
       "0           0       Wrestling with age and a case of idea theft.   \n",
       "1           1  Grueling shifts, abuse from the public and sub...   \n",
       "\n",
       "                                             web_url  \\\n",
       "0  https://www.nytimes.com/2024/09/01/business/he...   \n",
       "1  https://www.nytimes.com/2024/09/01/world/asia/...   \n",
       "\n",
       "                                             snippet  \\\n",
       "0       Wrestling with age and a case of idea theft.   \n",
       "1  Grueling shifts, abuse from the public and sub...   \n",
       "\n",
       "                                      lead_paragraph print_section  \\\n",
       "0  Send questions about the office, money, career...            BU   \n",
       "1  Exhausted doctors resting in crowded on-call r...             A   \n",
       "\n",
       "   print_page              source  \\\n",
       "0         3.0  The New York Times   \n",
       "1         4.0  The New York Times   \n",
       "\n",
       "                                          multimedia  \\\n",
       "0  [{'rank': 0, 'subtype': 'xlarge', 'caption': N...   \n",
       "1  [{'rank': 0, 'subtype': 'xlarge', 'caption': N...   \n",
       "\n",
       "                                            headline  ...       news_desk  \\\n",
       "0  {'main': 'Help! I’m ‘Older’ and on the Job Hun...  ...  SundayBusiness   \n",
       "1  {'main': 'Worked to the Bone, India’s Doctors ...  ...         Foreign   \n",
       "\n",
       "   section_name                                             byline  \\\n",
       "0  Business Day  {'original': 'By Anna Holmes', 'person': [{'fi...   \n",
       "1         World  {'original': 'By Anupreeta Das and Pragati K.B...   \n",
       "\n",
       "  type_of_material                                                _id  \\\n",
       "0             News  nyt://article/da8532bd-f9bd-5ca3-9e7e-afef6e9f...   \n",
       "1             News  nyt://article/aeabc262-aeb0-5423-a7ac-8bb664cb...   \n",
       "\n",
       "  word_count                                                uri  \\\n",
       "0       1280  nyt://article/da8532bd-f9bd-5ca3-9e7e-afef6e9f...   \n",
       "1       1310  nyt://article/aeabc262-aeb0-5423-a7ac-8bb664cb...   \n",
       "\n",
       "  subsection_name                                          image_url  \\\n",
       "0             NaN  images/2024/09/01/multimedia/01WorkFriend-fbmg...   \n",
       "1    Asia Pacific  images/2024/09/01/multimedia/01india-doctors-0...   \n",
       "\n",
       "                               clean_id  \n",
       "0  da8532bd-f9bd-5ca3-9e7e-afef6e9f76d9  \n",
       "1  aeabc262-aeb0-5423-a7ac-8bb664cb983b  \n",
       "\n",
       "[2 rows x 23 columns]"
      ]
     },
     "execution_count": 3,
     "metadata": {},
     "output_type": "execute_result"
    }
   ],
   "source": [
    "input_dataset = pd.read_csv(input_filename)\n",
    "input_dataset.head(2)\n"
   ]
  },
  {
   "cell_type": "markdown",
   "metadata": {},
   "source": [
    "Assuming we are working with the NYT data, the \"multimedia\" column is an array of objects. The function below transforms the string into a iterable python instance and allows for the extraction of the first url (xlarge image). This procedure will change with data coming from other news outlets."
   ]
  },
  {
   "cell_type": "code",
   "execution_count": 4,
   "metadata": {},
   "outputs": [],
   "source": [
    "def extract_first_url(multimedia_str):\n",
    "    try:\n",
    "        multimedia_list = ast.literal_eval(multimedia_str)\n",
    "        if isinstance(multimedia_list, list) and len(multimedia_list) > 0:\n",
    "            return multimedia_list[0].get(\"url\", None)\n",
    "    except (ValueError, SyntaxError):\n",
    "        return None\n",
    "    return None"
   ]
  },
  {
   "cell_type": "code",
   "execution_count": 5,
   "metadata": {},
   "outputs": [],
   "source": [
    "input_dataset[\"image_url\"] = input_dataset[\"multimedia\"].apply(extract_first_url)"
   ]
  },
  {
   "cell_type": "code",
   "execution_count": 6,
   "metadata": {},
   "outputs": [
    {
     "data": {
      "text/plain": [
       "0        images/2024/09/01/multimedia/01WorkFriend-fbmg...\n",
       "1        images/2024/09/01/multimedia/01india-doctors-0...\n",
       "2        images/2024/09/01/multimedia/01venezuela-migra...\n",
       "3                                                     None\n",
       "4        images/2024/09/01/multimedia/01germany-electio...\n",
       "                               ...                        \n",
       "48691    images/2024/08/30/multimedia/30Gregg-03-pcbk/3...\n",
       "48692    images/2024/09/01/multimedia/01ukraine-f16-pil...\n",
       "48693    images/2024/08/31/multimedia/31bouie-newslette...\n",
       "48694    images/2024/08/21/multimedia/JDA-Zucchini-Brea...\n",
       "48695    images/2024/08/31/multimedia/31usopen-dutch-fr...\n",
       "Name: image_url, Length: 48696, dtype: object"
      ]
     },
     "execution_count": 6,
     "metadata": {},
     "output_type": "execute_result"
    }
   ],
   "source": [
    "input_dataset[\"image_url\"]"
   ]
  },
  {
   "cell_type": "code",
   "execution_count": 7,
   "metadata": {},
   "outputs": [
    {
     "data": {
      "text/plain": [
       "48696"
      ]
     },
     "execution_count": 7,
     "metadata": {},
     "output_type": "execute_result"
    }
   ],
   "source": [
    "len(input_dataset)"
   ]
  },
  {
   "cell_type": "markdown",
   "metadata": {},
   "source": [
    "All NYT entries are marked by an ID with ambiguous characters: `nyt://interactive/`, the following code uses regex to remove this prefix and retains only the alpha-numeric hash as id."
   ]
  },
  {
   "cell_type": "code",
   "execution_count": 8,
   "metadata": {},
   "outputs": [],
   "source": [
    "input_dataset[\"clean_id\"] = input_dataset[\"_id\"].apply(lambda x: x.split('/')[-1])"
   ]
  },
  {
   "cell_type": "code",
   "execution_count": 9,
   "metadata": {},
   "outputs": [
    {
     "data": {
      "text/plain": [
       "0        da8532bd-f9bd-5ca3-9e7e-afef6e9f76d9\n",
       "1        aeabc262-aeb0-5423-a7ac-8bb664cb983b\n",
       "2        42c0d0f2-ea62-5d2b-8eba-baa04180adea\n",
       "3        6393c6c3-0e1f-5494-925d-165e7aafdefa\n",
       "4        fe046102-78e5-530d-89e0-59ff09c0e2e4\n",
       "                         ...                 \n",
       "48691    15ef03c9-295b-50e0-a0f4-64f9a182675f\n",
       "48692    3a3d339e-87ab-5650-b797-b7bb3cb03e5b\n",
       "48693    1192db0c-51bd-525b-abb4-e8607c11b2c3\n",
       "48694    83b24708-09af-55b1-baac-7efca1711d63\n",
       "48695    0bca89dd-a1a7-5022-8192-9812f680fc21\n",
       "Name: clean_id, Length: 48696, dtype: object"
      ]
     },
     "execution_count": 9,
     "metadata": {},
     "output_type": "execute_result"
    }
   ],
   "source": [
    "input_dataset[\"clean_id\"]"
   ]
  },
  {
   "cell_type": "code",
   "execution_count": 10,
   "metadata": {},
   "outputs": [],
   "source": [
    "image_download_dataset = input_dataset[[\"clean_id\", \"image_url\"]]"
   ]
  },
  {
   "cell_type": "markdown",
   "metadata": {},
   "source": [
    "Remove entries that have no image"
   ]
  },
  {
   "cell_type": "code",
   "execution_count": 17,
   "metadata": {},
   "outputs": [],
   "source": [
    "image_download_dataset = image_download_dataset.dropna()"
   ]
  },
  {
   "cell_type": "markdown",
   "metadata": {},
   "source": [
    "Saves a simpliefied version of the dataset, with only the `id` and `url` for image download."
   ]
  },
  {
   "cell_type": "code",
   "execution_count": 18,
   "metadata": {},
   "outputs": [],
   "source": [
    "image_download_dataset.to_csv('../../input-data/nyt-image-urls.csv', index=False)"
   ]
  },
  {
   "cell_type": "code",
   "execution_count": null,
   "metadata": {},
   "outputs": [],
   "source": []
  }
 ],
 "metadata": {
  "kernelspec": {
   "display_name": ".venv",
   "language": "python",
   "name": "python3"
  },
  "language_info": {
   "codemirror_mode": {
    "name": "ipython",
    "version": 3
   },
   "file_extension": ".py",
   "mimetype": "text/x-python",
   "name": "python",
   "nbconvert_exporter": "python",
   "pygments_lexer": "ipython3",
   "version": "3.9.6"
  }
 },
 "nbformat": 4,
 "nbformat_minor": 2
}
